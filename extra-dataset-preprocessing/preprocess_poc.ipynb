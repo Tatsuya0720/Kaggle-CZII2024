{
 "cells": [
  {
   "cell_type": "code",
   "execution_count": 5,
   "metadata": {},
   "outputs": [],
   "source": [
    "import os\n",
    "import sys\n",
    "import zarr\n",
    "import json\n",
    "import ndjson\n",
    "from glob import glob\n",
    "\n",
    "from load_module import read_zarr, get_pos_info"
   ]
  },
  {
   "cell_type": "code",
   "execution_count": 6,
   "metadata": {},
   "outputs": [],
   "source": [
    "# 指定パス内のディレクトリ名を取得\n",
    "def get_exp_names(path):\n",
    "    dir_names = []\n",
    "    for dir_name in glob(path + \"/*\"):\n",
    "        if os.path.isdir(dir_name):\n",
    "            dir_names.append(dir_name)\n",
    "\n",
    "    exp_names = []\n",
    "    for dir_name in dir_names:\n",
    "        exp_names.append(dir_name.split(\"/\")[-1])\n",
    "\n",
    "    return exp_names"
   ]
  },
  {
   "cell_type": "code",
   "execution_count": 7,
   "metadata": {},
   "outputs": [],
   "source": [
    "particle_names = [\n",
    "    \"apo-ferritin\",\n",
    "    \"beta-amylase\",\n",
    "    \"beta-galactosidase\",\n",
    "    \"ribosome\",\n",
    "    \"thyroglobulin\",\n",
    "    \"virus-like-particle\",\n",
    "]\n",
    "\n",
    "particle2extrafilename = {\n",
    "    \"apo-ferritin\": \"ferritin_complex-1.0_orientedpoint.ndjson\",\n",
    "    \"beta-amylase\": \"beta_amylase-1.0_orientedpoint.ndjson\",\n",
    "    \"beta-galactosidase\": \"beta_galactosidase-1.0_orientedpoint.ndjson\",\n",
    "    \"ribosome\": \"cytosolic_ribosome-1.0_orientedpoint.ndjson\",\n",
    "    \"thyroglobulin\": \"thyroglobulin-1.0_orientedpoint.ndjson\",\n",
    "    \"virus-like-particle\": \"pp7_vlp-1.0_orientedpoint.ndjson\",\n",
    "}\n",
    "\n",
    "particle2dirNumber = {\n",
    "    \"apo-ferritin\": \"101\",\n",
    "    \"beta-amylase\": \"102\",\n",
    "    \"beta-galactosidase\": \"103\",\n",
    "    \"ribosome\": \"104\",\n",
    "    \"thyroglobulin\": \"105\",\n",
    "    \"virus-like-particle\": \"106\",\n",
    "}\n",
    "\n",
    "particle2savefilename = {\n",
    "    \"apo-ferritin\": \"apo-ferritin.json\",\n",
    "    \"beta-amylase\": \"beta-amylase.json\",\n",
    "    \"beta-galactosidase\": \"beta-galactosidase.json\",\n",
    "    \"ribosome\": \"ribosome.json\",\n",
    "    \"thyroglobulin\": \"thyroglobulin.json\",\n",
    "    \"virus-like-particle\": \"virus-like-particle.json\",\n",
    "}"
   ]
  },
  {
   "cell_type": "markdown",
   "metadata": {},
   "source": [
    "***粒子座標情報の保存***"
   ]
  },
  {
   "cell_type": "code",
   "execution_count": 9,
   "metadata": {},
   "outputs": [],
   "source": [
    "exp_names = get_exp_names(\"../inputs/10441/\")\n",
    "\n",
    "for exp_name in exp_names:\n",
    "    save_base_dir = f\"../inputs/10441/{exp_name}/Picks/\"\n",
    "\n",
    "    if not os.path.exists(save_base_dir):\n",
    "        os.makedirs(save_base_dir)\n",
    "\n",
    "    for particle_name in particle_names:\n",
    "        pos_info_path = f\"../inputs/10441/{exp_name}/Reconstructions/VoxelSpacing10.000/Annotations/{particle2dirNumber[particle_name]}/{particle2extrafilename[particle_name]}\"\n",
    "        pos_info = get_pos_info(pos_info_path)\n",
    "\n",
    "        # dict型のpos_infoをjson形式で保存\n",
    "        save_path = os.path.join(save_base_dir, particle2savefilename[particle_name])\n",
    "        with open(save_path, \"w\") as f:\n",
    "            json.dump(pos_info, f)"
   ]
  },
  {
   "cell_type": "markdown",
   "metadata": {},
   "source": [
    "***エクストラデータセットの移管***"
   ]
  },
  {
   "cell_type": "code",
   "execution_count": 10,
   "metadata": {},
   "outputs": [],
   "source": [
    "import shutil\n",
    "\n",
    "for exp_name in exp_names:\n",
    "    dir_number = 100\n",
    "    tomograms_path = f\"../inputs/10441/{exp_name}/Reconstructions/VoxelSpacing10.000/Tomograms/{dir_number}/{exp_name}.zarr\"\n",
    "    tomogram_save_dir = (\n",
    "        f\"../inputs/train/static/ExperimentRuns/{exp_name}/VoxelSpacing10.000/\"\n",
    "    )\n",
    "    tomograms_save_path = os.path.join(tomogram_save_dir, \"denoised.zarr\")\n",
    "\n",
    "    if not os.path.exists(tomogram_save_dir):\n",
    "        os.makedirs(tomogram_save_dir)\n",
    "        shutil.copytree(tomograms_path, tomograms_save_path)\n",
    "\n",
    "    # もし存在していたら削除してからコピー\n",
    "    else:\n",
    "        shutil.rmtree(tomograms_save_path)\n",
    "        shutil.copytree(tomograms_path, tomograms_save_path)"
   ]
  },
  {
   "cell_type": "code",
   "execution_count": 11,
   "metadata": {},
   "outputs": [],
   "source": [
    "for exp_name in exp_names:\n",
    "    particle_dir = f\"../inputs/10441/{exp_name}/Picks/\"\n",
    "    particle_save_dir = f\"../inputs/train/overlay/ExperimentRuns/{exp_name}/Picks/\"\n",
    "\n",
    "    if not os.path.exists(particle_save_dir):\n",
    "        os.makedirs(particle_save_dir)\n",
    "\n",
    "    # particle_dir内の全てのjsonファイルをparticle_save_dirにコピー\n",
    "    for particle_name in particle_names:\n",
    "        particle_path = os.path.join(particle_dir, particle2savefilename[particle_name])\n",
    "        particle_save_path = os.path.join(\n",
    "            particle_save_dir, particle2savefilename[particle_name]\n",
    "        )\n",
    "        shutil.copy(particle_path, particle_save_path)"
   ]
  },
  {
   "cell_type": "code",
   "execution_count": 12,
   "metadata": {},
   "outputs": [],
   "source": [
    "def get_exp_names(path):\n",
    "    dir_names = []\n",
    "    for dir_name in glob(path + \"/*\"):\n",
    "        if os.path.isdir(dir_name):\n",
    "            dir_names.append(dir_name)\n",
    "\n",
    "    exp_names = []\n",
    "    for dir_name in dir_names:\n",
    "        exp_names.append(dir_name.split(\"/\")[-1])\n",
    "\n",
    "    return exp_names\n",
    "\n",
    "\n",
    "exp_names = get_exp_names(\"../inputs/train/static/ExperimentRuns/\")\n",
    "exp_names.remove(\"TS_4\")"
   ]
  }
 ],
 "metadata": {
  "kernelspec": {
   "display_name": "kaggle",
   "language": "python",
   "name": "python3"
  },
  "language_info": {
   "codemirror_mode": {
    "name": "ipython",
    "version": 3
   },
   "file_extension": ".py",
   "mimetype": "text/x-python",
   "name": "python",
   "nbconvert_exporter": "python",
   "pygments_lexer": "ipython3",
   "version": "3.9.16"
  }
 },
 "nbformat": 4,
 "nbformat_minor": 2
}
