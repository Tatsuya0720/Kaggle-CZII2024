{
 "cells": [
  {
   "cell_type": "code",
   "execution_count": 1,
   "metadata": {},
   "outputs": [],
   "source": [
    "import os\n",
    "import zarr\n",
    "import timm\n",
    "import random\n",
    "import json\n",
    "import warnings\n",
    "import numpy as np\n",
    "import pandas as pd\n",
    "import torch.nn as nn\n",
    "from pathlib import Path\n",
    "import matplotlib.pyplot as plt\n",
    "from torch.utils.data import DataLoader, Dataset\n",
    "from collections import defaultdict\n",
    "import sys\n",
    "import torch\n",
    "from torch.cuda.amp import autocast, GradScaler\n",
    "\n",
    "# import torchvision.transforms.functional as F\n",
    "import random\n",
    "\n",
    "warnings.filterwarnings(\"ignore\")\n",
    "sys.path.append(\"./src/\")\n",
    "\n",
    "from src.config import CFG\n",
    "from src.dataloader import (\n",
    "    read_zarr,\n",
    "    read_info_json,\n",
    "    scale_coordinates,\n",
    "    create_dataset,\n",
    "    create_segmentation_map,\n",
    "    EziiDataset,\n",
    "    drop_padding,\n",
    ")\n",
    "from src.network import Unet3D\n",
    "from src.utils import save_images, PadToSize\n",
    "from src.metric import (\n",
    "    score,\n",
    "    create_cls_pos,\n",
    "    create_cls_pos_sikii,\n",
    "    create_df,\n",
    "    SegmentationLoss,\n",
    "    DiceLoss,\n",
    ")\n",
    "from src.inference import inference, inference2pos, create_gt_df\n",
    "from metric import visualize_epoch_results"
   ]
  },
  {
   "cell_type": "code",
   "execution_count": 2,
   "metadata": {},
   "outputs": [
    {
     "name": "stderr",
     "output_type": "stream",
     "text": [
      "100%|██████████| 363/363 [02:23<00:00,  2.53it/s]\n",
      "100%|██████████| 1/1 [00:01<00:00,  1.52s/it]\n",
      "  0%|          | 0/181 [00:08<?, ?it/s]\n"
     ]
    },
    {
     "data": {
      "text/plain": [
       "torch.Size([2, 16, 630, 630])"
      ]
     },
     "execution_count": 2,
     "metadata": {},
     "output_type": "execute_result"
    }
   ],
   "source": [
    "train_dataset = EziiDataset(\n",
    "    exp_names=CFG.train_exp_names,\n",
    "    base_dir=\"../../inputs/train/\",\n",
    "    particles_name=CFG.particles_name,\n",
    "    resolution=CFG.resolution,\n",
    "    zarr_type=CFG.train_zarr_types,\n",
    "    train=True,\n",
    "    augmentation=True,\n",
    "    slice=True,\n",
    "    pre_read=True,\n",
    ")\n",
    "\n",
    "# train_nshuffle_dataset = EziiDataset(\n",
    "#     exp_names=CFG.train_exp_names,\n",
    "#     base_dir=\"../../inputs/train/\",\n",
    "#     particles_name=CFG.particles_name,\n",
    "#     resolution=CFG.resolution,\n",
    "#     zarr_type=CFG.train_zarr_types,\n",
    "#     augmentation=False,\n",
    "#     train=True,\n",
    "# )\n",
    "\n",
    "valid_dataset = EziiDataset(\n",
    "    exp_names=CFG.valid_exp_names,\n",
    "    base_dir=\"../../inputs/train/\",\n",
    "    particles_name=CFG.particles_name,\n",
    "    resolution=CFG.resolution,\n",
    "    zarr_type=CFG.valid_zarr_types,\n",
    "    augmentation=False,\n",
    "    train=True,\n",
    "    slice=True,\n",
    "    pre_read=True,\n",
    ")\n",
    "\n",
    "from tqdm import tqdm\n",
    "\n",
    "train_loader = DataLoader(\n",
    "    train_dataset,\n",
    "    batch_size=CFG.batch_size,\n",
    "    shuffle=True,\n",
    "    drop_last=True,\n",
    "    pin_memory=True,\n",
    "    num_workers=CFG.num_workers,\n",
    ")\n",
    "# train_nshuffle_loader = DataLoader(\n",
    "#     train_nshuffle_dataset,\n",
    "#     batch_size=1,\n",
    "#     shuffle=True,\n",
    "#     drop_last=True,\n",
    "#     pin_memory=True,\n",
    "#     num_workers=CFG.num_workers,\n",
    "# )\n",
    "valid_loader = DataLoader(\n",
    "    valid_dataset,\n",
    "    batch_size=1,\n",
    "    shuffle=False,\n",
    "    pin_memory=True,\n",
    "    num_workers=CFG.num_workers,\n",
    ")\n",
    "\n",
    "for data in tqdm(train_loader):\n",
    "    normalized_tomogram = data[\"normalized_tomogram\"]\n",
    "    segmentation_map = data[\"segmentation_map\"]\n",
    "    break\n",
    "\n",
    "normalized_tomogram.shape"
   ]
  },
  {
   "cell_type": "code",
   "execution_count": 3,
   "metadata": {},
   "outputs": [],
   "source": [
    "# from tqdm import tqdm\n",
    "\n",
    "# train_loader = DataLoader(\n",
    "#     train_dataset,\n",
    "#     batch_size=CFG.batch_size,\n",
    "#     shuffle=True,\n",
    "#     drop_last=True,\n",
    "#     pin_memory=True,\n",
    "#     num_workers=CFG.num_workers,\n",
    "# )\n",
    "# # train_nshuffle_loader = DataLoader(\n",
    "# #     train_nshuffle_dataset,\n",
    "# #     batch_size=1,\n",
    "# #     shuffle=True,\n",
    "# #     drop_last=True,\n",
    "# #     pin_memory=True,\n",
    "# #     num_workers=CFG.num_workers,\n",
    "# # )\n",
    "# valid_loader = DataLoader(\n",
    "#     valid_dataset,\n",
    "#     batch_size=1,\n",
    "#     shuffle=False,\n",
    "#     pin_memory=True,\n",
    "#     num_workers=CFG.num_workers,\n",
    "# )\n",
    "\n",
    "# for data in tqdm(train_loader):\n",
    "#     normalized_tomogram = data[\"normalized_tomogram\"]\n",
    "#     segmentation_map = data[\"segmentation_map\"]\n",
    "#     break\n",
    "\n",
    "# normalized_tomogram.shape"
   ]
  },
  {
   "cell_type": "code",
   "execution_count": 4,
   "metadata": {},
   "outputs": [],
   "source": [
    "encoder = timm.create_model(\n",
    "    model_name=CFG.model_name,\n",
    "    pretrained=True,\n",
    "    in_chans=3,\n",
    "    num_classes=0,\n",
    "    global_pool=\"\",\n",
    "    features_only=True,\n",
    ")\n",
    "model = Unet3D(encoder=encoder).to(\"cuda\")\n",
    "# model.load_state_dict(torch.load(\"./pretrained_model.pth\"))\n",
    "# model.load_state_dict(torch.load(\"./best_model.pth\"))"
   ]
  },
  {
   "cell_type": "code",
   "execution_count": 5,
   "metadata": {},
   "outputs": [],
   "source": [
    "# # \"encoder\"と名のつくパラメータは学習しない\n",
    "# for layer, param in model.named_parameters():\n",
    "#     if \"encoder\" in layer:\n",
    "#         param.requires_grad = False"
   ]
  },
  {
   "cell_type": "code",
   "execution_count": 6,
   "metadata": {},
   "outputs": [],
   "source": [
    "import matplotlib.pyplot as plt\n",
    "import numpy as np\n",
    "from matplotlib.colors import ListedColormap\n",
    "from matplotlib.patches import Patch\n",
    "\n",
    "# サンプルデータ\n",
    "num_classes = len(CFG.particles_name)  # クラス数\n",
    "colors = plt.cm.tab10(\n",
    "    np.arange(len(CFG.particles_name))\n",
    ")  # \"tab10\" カラーマップから色を取得\n",
    "\n",
    "# ListedColormap を作成\n",
    "class_colormap = ListedColormap(colors)\n",
    "\n",
    "\n",
    "# カラーバー付きプロット\n",
    "def plot_with_colormap(data, title, original_tomogram):\n",
    "    masked_data = np.ma.masked_where(data <= 0, data)  # クラス0をマスク\n",
    "    plt.imshow(original_tomogram, cmap=\"gray\")\n",
    "    im = plt.imshow(masked_data, cmap=class_colormap)\n",
    "    plt.title(title)\n",
    "    plt.axis(\"off\")\n",
    "    return im"
   ]
  },
  {
   "cell_type": "code",
   "execution_count": 7,
   "metadata": {},
   "outputs": [
    {
     "name": "stdout",
     "output_type": "stream",
     "text": [
      "Original shape: torch.Size([6, 16, 320, 320])\n",
      "Augmented shape: torch.Size([6, 16, 256, 256])\n"
     ]
    }
   ],
   "source": [
    "import torch\n",
    "import random\n",
    "import torchvision.transforms.functional as TF\n",
    "\n",
    "\n",
    "# 回転\n",
    "# 3Dテンソルの各軸に対して指定した角度で回転する関数\n",
    "def rotate_3d(tomogram, segmentation_map, angle):\n",
    "    \"\"\"Rotates the 3D tensors tomogram and segmentation_map around the Z-axis.\"\"\"\n",
    "    rotated_tomogram = TF.rotate(tomogram, angle, expand=False)\n",
    "    rotated_segmentation_map = TF.rotate(segmentation_map, angle, expand=False)\n",
    "    return rotated_tomogram, rotated_segmentation_map\n",
    "\n",
    "\n",
    "# 平行移動\n",
    "# 指定された範囲でランダムに平行移動\n",
    "def translate_3d(tomogram, segmentation_map, max_shift):\n",
    "    \"\"\"Translates the 3D tensors by a random shift within max_shift.\"\"\"\n",
    "    shift_x = random.randint(-max_shift, max_shift)\n",
    "    shift_y = random.randint(-max_shift, max_shift)\n",
    "    translated_tomogram = TF.affine(\n",
    "        tomogram, angle=0, translate=(shift_x, shift_y), scale=1, shear=0\n",
    "    )\n",
    "    translated_segmentation_map = TF.affine(\n",
    "        segmentation_map, angle=0, translate=(shift_x, shift_y), scale=1, shear=0\n",
    "    )\n",
    "    return translated_tomogram, translated_segmentation_map\n",
    "\n",
    "\n",
    "# フリップ\n",
    "# 縦横（上下左右）ランダムフリップ\n",
    "def flip_3d(tomogram, segmentation_map):\n",
    "    \"\"\"Randomly flips the 3D tensors along height or width.\"\"\"\n",
    "    if random.random() > 0.5:  # Horizontal flip\n",
    "        tomogram = torch.flip(tomogram, dims=[-1])\n",
    "        segmentation_map = torch.flip(segmentation_map, dims=[-1])\n",
    "    if random.random() > 0.5:  # Vertical flip\n",
    "        tomogram = torch.flip(tomogram, dims=[-2])\n",
    "        segmentation_map = torch.flip(segmentation_map, dims=[-2])\n",
    "    return tomogram, segmentation_map\n",
    "\n",
    "\n",
    "# クロッピング\n",
    "# 入力テンソルを中心またはランダムクロップで切り取る\n",
    "def crop_3d(tomogram, segmentation_map, crop_size):\n",
    "    \"\"\"Crops the 3D tensors to the specified crop_size.\"\"\"\n",
    "    _, depth, height, width = tomogram.size()\n",
    "    crop_d, crop_h, crop_w = crop_size\n",
    "\n",
    "    if crop_h > height or crop_w > width:\n",
    "        raise ValueError(\"Crop size cannot be larger than the original size.\")\n",
    "\n",
    "    start_h = random.randint(0, height - crop_h)  # Random starting position for height\n",
    "    start_w = random.randint(0, width - crop_w)  # Random starting position for width\n",
    "\n",
    "    cropped_tomogram = tomogram[\n",
    "        :, :, start_h : start_h + crop_h, start_w : start_w + crop_w\n",
    "    ]\n",
    "    cropped_segmentation_map = segmentation_map[\n",
    "        :, :, start_h : start_h + crop_h, start_w : start_w + crop_w\n",
    "    ]\n",
    "\n",
    "    return cropped_tomogram, cropped_segmentation_map\n",
    "\n",
    "\n",
    "# Mixup\n",
    "# 2つのサンプルを線形補間して混合\n",
    "def mixup(tomogram, segmentation_map, alpha=0.4):\n",
    "    \"\"\"Applies mixup augmentation to the batch.\"\"\"\n",
    "    lam = random.betavariate(alpha, alpha)\n",
    "    batch_size = tomogram.size(0)\n",
    "    index = torch.randperm(batch_size)\n",
    "\n",
    "    mixed_tomogram = lam * tomogram + (1 - lam) * tomogram[index, :]\n",
    "    mixed_segmentation_map = (\n",
    "        lam * segmentation_map + (1 - lam) * segmentation_map[index, :]\n",
    "    )\n",
    "\n",
    "    return mixed_tomogram, mixed_segmentation_map\n",
    "\n",
    "\n",
    "# Cutmix\n",
    "# ランダム領域を切り取って別のサンプルに貼り付け\n",
    "def cutmix(tomogram, segmentation_map, alpha=1.0):\n",
    "    \"\"\"Applies cutmix augmentation to the batch.\"\"\"\n",
    "    lam = random.betavariate(alpha, alpha)\n",
    "    batch_size, depth, height, width = tomogram.size()\n",
    "    index = torch.randperm(batch_size)\n",
    "\n",
    "    cx = random.randint(0, width)\n",
    "    cy = random.randint(0, height)\n",
    "    cw = int(width * (1 - lam))\n",
    "    ch = int(height * (1 - lam))\n",
    "\n",
    "    x1 = max(cx - cw // 2, 0)\n",
    "    x2 = min(cx + cw // 2, width)\n",
    "    y1 = max(cy - ch // 2, 0)\n",
    "    y2 = min(cy + ch // 2, height)\n",
    "\n",
    "    tomogram[:, :, y1:y2, x1:x2] = tomogram[index, :, y1:y2, x1:x2]\n",
    "    segmentation_map[:, :, y1:y2, x1:x2] = segmentation_map[index, :, y1:y2, x1:x2]\n",
    "\n",
    "    return tomogram, segmentation_map\n",
    "\n",
    "\n",
    "# データ拡張の組み合わせ適用\n",
    "def augment_data(\n",
    "    tomogram,\n",
    "    segmentation_map,\n",
    "    crop_size=(16, 256, 256),\n",
    "    max_shift=10,\n",
    "    rotation_angle=30,\n",
    "    p=0.5,\n",
    "    mixup_alpha=0.4,\n",
    "    cutmix_alpha=1.0,\n",
    "):\n",
    "    \"\"\"Applies a combination of rotation, translation, flipping, cropping, mixup, and cutmix to the inputs with probabilities.\"\"\"\n",
    "    if random.random() < p:\n",
    "        tomogram, segmentation_map = rotate_3d(\n",
    "            tomogram,\n",
    "            segmentation_map,\n",
    "            angle=random.uniform(-rotation_angle, rotation_angle),\n",
    "        )\n",
    "    if random.random() < p:\n",
    "        tomogram, segmentation_map = translate_3d(\n",
    "            tomogram, segmentation_map, max_shift=max_shift\n",
    "        )\n",
    "    if random.random() < p:\n",
    "        tomogram, segmentation_map = flip_3d(tomogram, segmentation_map)\n",
    "    if random.random() < p:\n",
    "        tomogram, segmentation_map = crop_3d(\n",
    "            tomogram, segmentation_map, crop_size=crop_size\n",
    "        )\n",
    "    if random.random() < p:\n",
    "        tomogram, segmentation_map = mixup(\n",
    "            tomogram, segmentation_map, alpha=mixup_alpha\n",
    "        )\n",
    "    # if random.random() < p:\n",
    "    #     tomogram, segmentation_map = cutmix(\n",
    "    #         tomogram, segmentation_map, alpha=cutmix_alpha\n",
    "    #     )\n",
    "    return tomogram, segmentation_map\n",
    "\n",
    "\n",
    "# 使用例\n",
    "# バッチサイズ6, 深さ16, 高さ320, 幅320のランダムテンソル\n",
    "tomogram = torch.rand((6, 16, 320, 320))\n",
    "segmentation_map = torch.randint(0, 2, (6, 16, 320, 320))  # ラベルは0または1\n",
    "\n",
    "# データ拡張の適用\n",
    "aug_tomogram, aug_segmentation_map = augment_data(tomogram, segmentation_map, p=0.7)\n",
    "print(\"Original shape:\", tomogram.shape)\n",
    "print(\"Augmented shape:\", aug_tomogram.shape)"
   ]
  },
  {
   "cell_type": "code",
   "execution_count": 8,
   "metadata": {},
   "outputs": [],
   "source": [
    "from transformers import get_cosine_schedule_with_warmup\n",
    "\n",
    "optimizer = torch.optim.Adam(\n",
    "    model.parameters(), lr=CFG.lr, weight_decay=CFG.weight_decay\n",
    ")\n",
    "criterion = nn.CrossEntropyLoss(\n",
    "    #  weight=torch.tensor([2.0, 32, 32, 32, 32, 32, 32]).to(\"cuda\")\n",
    ")\n",
    "# criterion = DiceLoss()\n",
    "scheduler = get_cosine_schedule_with_warmup(\n",
    "    optimizer,\n",
    "    num_warmup_steps=10,\n",
    "    num_training_steps=CFG.epochs * len(train_loader),\n",
    "    # * batch_size,\n",
    ")\n",
    "scaler = GradScaler()\n",
    "seg_loss = SegmentationLoss(criterion)\n",
    "padf = PadToSize(CFG.resolution)"
   ]
  },
  {
   "cell_type": "code",
   "execution_count": 9,
   "metadata": {},
   "outputs": [],
   "source": [
    "# b, c, d, h, w = CFG.batch_size, 1, 96, 320, 320"
   ]
  },
  {
   "cell_type": "code",
   "execution_count": 10,
   "metadata": {},
   "outputs": [],
   "source": [
    "def preprocess_tensor(tensor):\n",
    "    batch_size, depth, height, width = tensor.shape\n",
    "    tensor = tensor.unsqueeze(2)  # (b, d, h, w) -> (b, d, 1, h, w)\n",
    "    return tensor"
   ]
  },
  {
   "cell_type": "code",
   "execution_count": 11,
   "metadata": {},
   "outputs": [
    {
     "data": {
      "text/plain": [
       "torch.Size([2, 16, 640, 640])"
      ]
     },
     "execution_count": 11,
     "metadata": {},
     "output_type": "execute_result"
    }
   ],
   "source": [
    "padf = PadToSize(CFG.resolution)\n",
    "padf(normalized_tomogram).shape"
   ]
  },
  {
   "cell_type": "code",
   "execution_count": 12,
   "metadata": {},
   "outputs": [
    {
     "name": "stderr",
     "output_type": "stream",
     "text": [
      "Epoch 1/80 [Training]: 100%|██████████| 181/181 [02:43<00:00,  1.11it/s, loss=1.5279]\n",
      "Epoch 1/80 [Validation]: 100%|██████████| 1/1 [00:01<00:00,  1.01s/it, loss=0.8161]\n",
      "100%|██████████| 15/15 [00:33<00:00,  2.26s/it]\n"
     ]
    },
    {
     "name": "stdout",
     "output_type": "stream",
     "text": [
      "constant 0.9 score 0.06340532570040766\n",
      "train-epoch-loss:1.5279 valid-epoch-loss:0.8161 valid-beta4-score:0.0634\n"
     ]
    },
    {
     "name": "stderr",
     "output_type": "stream",
     "text": [
      "Epoch 2/80 [Training]: 100%|██████████| 181/181 [02:41<00:00,  1.12it/s, loss=0.3970]\n",
      "Epoch 2/80 [Validation]: 100%|██████████| 1/1 [00:01<00:00,  1.46s/it, loss=0.1368]\n",
      "100%|██████████| 15/15 [00:30<00:00,  2.05s/it]\n"
     ]
    },
    {
     "name": "stdout",
     "output_type": "stream",
     "text": [
      "constant 0.1 score 0.03831854079635923\n",
      "train-epoch-loss:0.3970 valid-epoch-loss:0.1368 valid-beta4-score:0.0383\n"
     ]
    },
    {
     "name": "stderr",
     "output_type": "stream",
     "text": [
      "Epoch 3/80 [Training]: 100%|██████████| 181/181 [02:34<00:00,  1.17it/s, loss=0.1149]\n",
      "Epoch 3/80 [Validation]: 100%|██████████| 1/1 [00:01<00:00,  1.21s/it, loss=0.0631]\n",
      "100%|██████████| 15/15 [00:30<00:00,  2.04s/it]\n"
     ]
    },
    {
     "name": "stdout",
     "output_type": "stream",
     "text": [
      "constant 0.2142857142857143 score 0.0445128994994224\n",
      "train-epoch-loss:0.1149 valid-epoch-loss:0.0631 valid-beta4-score:0.0445\n"
     ]
    },
    {
     "name": "stderr",
     "output_type": "stream",
     "text": [
      "Epoch 4/80 [Training]: 100%|██████████| 181/181 [02:33<00:00,  1.18it/s, loss=0.0689]\n",
      "Epoch 4/80 [Validation]: 100%|██████████| 1/1 [00:01<00:00,  1.23s/it, loss=0.0528]\n",
      "100%|██████████| 15/15 [00:30<00:00,  2.04s/it]\n"
     ]
    },
    {
     "name": "stdout",
     "output_type": "stream",
     "text": [
      "constant 0.44285714285714284 score 0.07241558441558442\n",
      "train-epoch-loss:0.0689 valid-epoch-loss:0.0528 valid-beta4-score:0.0724\n"
     ]
    },
    {
     "name": "stderr",
     "output_type": "stream",
     "text": [
      "Epoch 5/80 [Training]: 100%|██████████| 181/181 [02:40<00:00,  1.13it/s, loss=0.0602]\n",
      "Epoch 5/80 [Validation]: 100%|██████████| 1/1 [00:01<00:00,  1.24s/it, loss=0.0278]\n",
      "100%|██████████| 15/15 [00:30<00:00,  2.06s/it]\n"
     ]
    },
    {
     "name": "stdout",
     "output_type": "stream",
     "text": [
      "constant 0.44285714285714284 score 0.05380882042625027\n",
      "train-epoch-loss:0.0602 valid-epoch-loss:0.0278 valid-beta4-score:0.0538\n"
     ]
    },
    {
     "name": "stderr",
     "output_type": "stream",
     "text": [
      "Epoch 6/80 [Training]: 100%|██████████| 181/181 [02:43<00:00,  1.11it/s, loss=0.0566]\n",
      "Epoch 6/80 [Validation]: 100%|██████████| 1/1 [00:01<00:00,  1.28s/it, loss=0.0171]\n",
      "100%|██████████| 15/15 [00:30<00:00,  2.03s/it]\n"
     ]
    },
    {
     "name": "stdout",
     "output_type": "stream",
     "text": [
      "constant 0.44285714285714284 score 0.05842593653339443\n",
      "train-epoch-loss:0.0566 valid-epoch-loss:0.0171 valid-beta4-score:0.0584\n"
     ]
    },
    {
     "name": "stderr",
     "output_type": "stream",
     "text": [
      "Epoch 7/80 [Training]: 100%|██████████| 181/181 [02:36<00:00,  1.16it/s, loss=0.0528]\n",
      "Epoch 7/80 [Validation]: 100%|██████████| 1/1 [00:01<00:00,  1.23s/it, loss=0.0354]\n",
      "100%|██████████| 15/15 [00:30<00:00,  2.02s/it]\n"
     ]
    },
    {
     "name": "stdout",
     "output_type": "stream",
     "text": [
      "constant 0.3285714285714286 score 0.06837479517354388\n",
      "train-epoch-loss:0.0528 valid-epoch-loss:0.0354 valid-beta4-score:0.0684\n"
     ]
    },
    {
     "name": "stderr",
     "output_type": "stream",
     "text": [
      "Epoch 8/80 [Training]: 100%|██████████| 181/181 [02:42<00:00,  1.12it/s, loss=0.0505]\n",
      "Epoch 8/80 [Validation]: 100%|██████████| 1/1 [00:01<00:00,  1.24s/it, loss=0.0177]\n",
      "100%|██████████| 15/15 [00:30<00:00,  2.04s/it]\n"
     ]
    },
    {
     "name": "stdout",
     "output_type": "stream",
     "text": [
      "constant 0.5571428571428572 score 0.0709812108559499\n",
      "train-epoch-loss:0.0505 valid-epoch-loss:0.0177 valid-beta4-score:0.0710\n"
     ]
    },
    {
     "name": "stderr",
     "output_type": "stream",
     "text": [
      "Epoch 9/80 [Training]: 100%|██████████| 181/181 [02:43<00:00,  1.11it/s, loss=0.0499]\n",
      "Epoch 9/80 [Validation]: 100%|██████████| 1/1 [00:01<00:00,  1.22s/it, loss=0.0308]\n",
      "100%|██████████| 15/15 [00:30<00:00,  2.03s/it]\n"
     ]
    },
    {
     "name": "stdout",
     "output_type": "stream",
     "text": [
      "constant 0.3285714285714286 score 0.10793650793650791\n",
      "train-epoch-loss:0.0499 valid-epoch-loss:0.0308 valid-beta4-score:0.1079\n"
     ]
    },
    {
     "name": "stderr",
     "output_type": "stream",
     "text": [
      "Epoch 10/80 [Training]: 100%|██████████| 181/181 [02:35<00:00,  1.17it/s, loss=0.0537]\n",
      "Epoch 10/80 [Validation]: 100%|██████████| 1/1 [00:01<00:00,  1.26s/it, loss=0.0331]\n",
      "100%|██████████| 15/15 [00:30<00:00,  2.04s/it]\n"
     ]
    },
    {
     "name": "stdout",
     "output_type": "stream",
     "text": [
      "constant 0.9 score 0.07603262299394896\n",
      "train-epoch-loss:0.0537 valid-epoch-loss:0.0331 valid-beta4-score:0.0760\n"
     ]
    },
    {
     "name": "stderr",
     "output_type": "stream",
     "text": [
      "Epoch 11/80 [Training]: 100%|██████████| 181/181 [02:35<00:00,  1.16it/s, loss=0.0484]\n",
      "Epoch 11/80 [Validation]: 100%|██████████| 1/1 [00:01<00:00,  1.22s/it, loss=0.0273]\n",
      "100%|██████████| 15/15 [00:30<00:00,  2.03s/it]\n"
     ]
    },
    {
     "name": "stdout",
     "output_type": "stream",
     "text": [
      "constant 0.2142857142857143 score 0.10261569416498995\n",
      "train-epoch-loss:0.0484 valid-epoch-loss:0.0273 valid-beta4-score:0.1026\n"
     ]
    },
    {
     "name": "stderr",
     "output_type": "stream",
     "text": [
      "Epoch 12/80 [Training]: 100%|██████████| 181/181 [02:36<00:00,  1.15it/s, loss=0.0471]\n",
      "Epoch 12/80 [Validation]: 100%|██████████| 1/1 [00:01<00:00,  1.29s/it, loss=0.0310]\n",
      "100%|██████████| 15/15 [00:30<00:00,  2.04s/it]\n"
     ]
    },
    {
     "name": "stdout",
     "output_type": "stream",
     "text": [
      "constant 0.2142857142857143 score 0.0851726472579553\n",
      "train-epoch-loss:0.0471 valid-epoch-loss:0.0310 valid-beta4-score:0.0852\n"
     ]
    },
    {
     "name": "stderr",
     "output_type": "stream",
     "text": [
      "Epoch 13/80 [Training]: 100%|██████████| 181/181 [02:41<00:00,  1.12it/s, loss=0.0465]\n",
      "Epoch 13/80 [Validation]: 100%|██████████| 1/1 [00:01<00:00,  1.27s/it, loss=0.0260]\n",
      "100%|██████████| 15/15 [00:30<00:00,  2.06s/it]\n"
     ]
    },
    {
     "name": "stdout",
     "output_type": "stream",
     "text": [
      "constant 0.15714285714285714 score 0.1319322583748607\n",
      "train-epoch-loss:0.0465 valid-epoch-loss:0.0260 valid-beta4-score:0.1319\n"
     ]
    },
    {
     "name": "stderr",
     "output_type": "stream",
     "text": [
      "Epoch 14/80 [Training]: 100%|██████████| 181/181 [02:36<00:00,  1.16it/s, loss=0.0460]\n",
      "Epoch 14/80 [Validation]: 100%|██████████| 1/1 [00:01<00:00,  1.28s/it, loss=0.0039]\n",
      "100%|██████████| 15/15 [00:30<00:00,  2.04s/it]\n"
     ]
    },
    {
     "name": "stdout",
     "output_type": "stream",
     "text": [
      "constant 0.6714285714285715 score 0.13039309683604985\n",
      "train-epoch-loss:0.0460 valid-epoch-loss:0.0039 valid-beta4-score:0.1304\n"
     ]
    },
    {
     "name": "stderr",
     "output_type": "stream",
     "text": [
      "Epoch 15/80 [Training]: 100%|██████████| 181/181 [02:34<00:00,  1.17it/s, loss=0.0485]\n",
      "Epoch 15/80 [Validation]: 100%|██████████| 1/1 [00:01<00:00,  1.28s/it, loss=0.0282]\n",
      "100%|██████████| 15/15 [00:31<00:00,  2.10s/it]\n"
     ]
    },
    {
     "name": "stdout",
     "output_type": "stream",
     "text": [
      "constant 0.3857142857142858 score 0.16372765107721904\n",
      "train-epoch-loss:0.0485 valid-epoch-loss:0.0282 valid-beta4-score:0.1637\n"
     ]
    },
    {
     "name": "stderr",
     "output_type": "stream",
     "text": [
      "Epoch 16/80 [Training]: 100%|██████████| 181/181 [02:39<00:00,  1.13it/s, loss=0.0443]\n",
      "Epoch 16/80 [Validation]: 100%|██████████| 1/1 [00:01<00:00,  1.30s/it, loss=0.0079]\n",
      "100%|██████████| 15/15 [00:31<00:00,  2.09s/it]\n"
     ]
    },
    {
     "name": "stdout",
     "output_type": "stream",
     "text": [
      "constant 0.44285714285714284 score 0.18224138572544796\n",
      "train-epoch-loss:0.0443 valid-epoch-loss:0.0079 valid-beta4-score:0.1822\n"
     ]
    },
    {
     "name": "stderr",
     "output_type": "stream",
     "text": [
      "Epoch 17/80 [Training]: 100%|██████████| 181/181 [02:37<00:00,  1.15it/s, loss=0.0446]\n",
      "Epoch 17/80 [Validation]: 100%|██████████| 1/1 [00:01<00:00,  1.29s/it, loss=0.0076]\n",
      "100%|██████████| 15/15 [00:30<00:00,  2.06s/it]\n"
     ]
    },
    {
     "name": "stdout",
     "output_type": "stream",
     "text": [
      "constant 0.3285714285714286 score 0.1614954258759193\n",
      "train-epoch-loss:0.0446 valid-epoch-loss:0.0076 valid-beta4-score:0.1615\n"
     ]
    },
    {
     "name": "stderr",
     "output_type": "stream",
     "text": [
      "Epoch 18/80 [Training]: 100%|██████████| 181/181 [02:35<00:00,  1.16it/s, loss=0.0462]\n",
      "Epoch 18/80 [Validation]: 100%|██████████| 1/1 [00:01<00:00,  1.31s/it, loss=0.0221]\n",
      "100%|██████████| 15/15 [00:30<00:00,  2.02s/it]\n"
     ]
    },
    {
     "name": "stdout",
     "output_type": "stream",
     "text": [
      "constant 0.1 score 0.31063302849445495\n",
      "train-epoch-loss:0.0462 valid-epoch-loss:0.0221 valid-beta4-score:0.3106\n"
     ]
    },
    {
     "name": "stderr",
     "output_type": "stream",
     "text": [
      "Epoch 19/80 [Training]: 100%|██████████| 181/181 [02:41<00:00,  1.12it/s, loss=0.0453]\n",
      "Epoch 19/80 [Validation]: 100%|██████████| 1/1 [00:01<00:00,  1.31s/it, loss=0.0142]\n",
      "100%|██████████| 15/15 [00:31<00:00,  2.11s/it]\n"
     ]
    },
    {
     "name": "stdout",
     "output_type": "stream",
     "text": [
      "constant 0.44285714285714284 score 0.1643021004022047\n",
      "train-epoch-loss:0.0453 valid-epoch-loss:0.0142 valid-beta4-score:0.1643\n"
     ]
    },
    {
     "name": "stderr",
     "output_type": "stream",
     "text": [
      "Epoch 20/80 [Training]: 100%|██████████| 181/181 [02:36<00:00,  1.16it/s, loss=0.0479]\n",
      "Epoch 20/80 [Validation]: 100%|██████████| 1/1 [00:01<00:00,  1.29s/it, loss=0.0089]\n",
      "100%|██████████| 15/15 [00:31<00:00,  2.09s/it]\n"
     ]
    },
    {
     "name": "stdout",
     "output_type": "stream",
     "text": [
      "constant 0.27142857142857146 score 0.18080060905228518\n",
      "train-epoch-loss:0.0479 valid-epoch-loss:0.0089 valid-beta4-score:0.1808\n"
     ]
    },
    {
     "name": "stderr",
     "output_type": "stream",
     "text": [
      "Epoch 21/80 [Training]: 100%|██████████| 181/181 [02:36<00:00,  1.16it/s, loss=0.0439]\n",
      "Epoch 21/80 [Validation]: 100%|██████████| 1/1 [00:01<00:00,  1.33s/it, loss=0.0238]\n",
      "100%|██████████| 15/15 [00:31<00:00,  2.10s/it]\n"
     ]
    },
    {
     "name": "stdout",
     "output_type": "stream",
     "text": [
      "constant 0.27142857142857146 score 0.15320595132419454\n",
      "train-epoch-loss:0.0439 valid-epoch-loss:0.0238 valid-beta4-score:0.1532\n"
     ]
    },
    {
     "name": "stderr",
     "output_type": "stream",
     "text": [
      "Epoch 22/80 [Training]: 100%|██████████| 181/181 [02:35<00:00,  1.16it/s, loss=0.0452]\n",
      "Epoch 22/80 [Validation]: 100%|██████████| 1/1 [00:01<00:00,  1.31s/it, loss=0.0064]\n",
      "100%|██████████| 15/15 [00:31<00:00,  2.08s/it]\n"
     ]
    },
    {
     "name": "stdout",
     "output_type": "stream",
     "text": [
      "constant 0.15714285714285714 score 0.2208276005796271\n",
      "train-epoch-loss:0.0452 valid-epoch-loss:0.0064 valid-beta4-score:0.2208\n"
     ]
    },
    {
     "name": "stderr",
     "output_type": "stream",
     "text": [
      "Epoch 23/80 [Training]: 100%|██████████| 181/181 [02:34<00:00,  1.17it/s, loss=0.0435]\n",
      "Epoch 23/80 [Validation]: 100%|██████████| 1/1 [00:01<00:00,  1.30s/it, loss=0.0038]\n",
      "100%|██████████| 15/15 [00:31<00:00,  2.08s/it]\n"
     ]
    },
    {
     "name": "stdout",
     "output_type": "stream",
     "text": [
      "constant 0.1 score 0.13031784024831403\n",
      "train-epoch-loss:0.0435 valid-epoch-loss:0.0038 valid-beta4-score:0.1303\n"
     ]
    },
    {
     "name": "stderr",
     "output_type": "stream",
     "text": [
      "Epoch 24/80 [Training]: 100%|██████████| 181/181 [02:42<00:00,  1.11it/s, loss=0.0412]\n",
      "Epoch 24/80 [Validation]: 100%|██████████| 1/1 [00:01<00:00,  1.33s/it, loss=0.0251]\n",
      "100%|██████████| 15/15 [00:31<00:00,  2.09s/it]\n"
     ]
    },
    {
     "name": "stdout",
     "output_type": "stream",
     "text": [
      "constant 0.15714285714285714 score 0.24551327777516932\n",
      "train-epoch-loss:0.0412 valid-epoch-loss:0.0251 valid-beta4-score:0.2455\n"
     ]
    },
    {
     "name": "stderr",
     "output_type": "stream",
     "text": [
      "Epoch 25/80 [Training]: 100%|██████████| 181/181 [02:36<00:00,  1.16it/s, loss=0.0438]\n",
      "Epoch 25/80 [Validation]: 100%|██████████| 1/1 [00:01<00:00,  1.31s/it, loss=0.0276]\n",
      "100%|██████████| 15/15 [00:31<00:00,  2.13s/it]\n"
     ]
    },
    {
     "name": "stdout",
     "output_type": "stream",
     "text": [
      "constant 0.27142857142857146 score 0.24969303211268962\n",
      "train-epoch-loss:0.0438 valid-epoch-loss:0.0276 valid-beta4-score:0.2497\n"
     ]
    },
    {
     "name": "stderr",
     "output_type": "stream",
     "text": [
      "Epoch 26/80 [Training]: 100%|██████████| 181/181 [02:34<00:00,  1.17it/s, loss=0.0459]\n",
      "Epoch 26/80 [Validation]: 100%|██████████| 1/1 [00:01<00:00,  1.30s/it, loss=0.0096]\n",
      "100%|██████████| 15/15 [00:31<00:00,  2.10s/it]\n"
     ]
    },
    {
     "name": "stdout",
     "output_type": "stream",
     "text": [
      "constant 0.27142857142857146 score 0.20739225992111363\n",
      "train-epoch-loss:0.0459 valid-epoch-loss:0.0096 valid-beta4-score:0.2074\n"
     ]
    },
    {
     "name": "stderr",
     "output_type": "stream",
     "text": [
      "Epoch 27/80 [Training]: 100%|██████████| 181/181 [02:33<00:00,  1.18it/s, loss=0.0420]\n",
      "Epoch 27/80 [Validation]: 100%|██████████| 1/1 [00:01<00:00,  1.31s/it, loss=0.0139]\n",
      "100%|██████████| 15/15 [00:31<00:00,  2.11s/it]\n"
     ]
    },
    {
     "name": "stdout",
     "output_type": "stream",
     "text": [
      "constant 0.27142857142857146 score 0.22863213954205147\n",
      "train-epoch-loss:0.0420 valid-epoch-loss:0.0139 valid-beta4-score:0.2286\n"
     ]
    },
    {
     "name": "stderr",
     "output_type": "stream",
     "text": [
      "Epoch 28/80 [Training]: 100%|██████████| 181/181 [02:27<00:00,  1.23it/s, loss=0.0468]\n",
      "Epoch 28/80 [Validation]: 100%|██████████| 1/1 [00:01<00:00,  1.29s/it, loss=0.0199]\n",
      "100%|██████████| 15/15 [00:31<00:00,  2.08s/it]\n"
     ]
    },
    {
     "name": "stdout",
     "output_type": "stream",
     "text": [
      "constant 0.3285714285714286 score 0.42435091099086003\n",
      "train-epoch-loss:0.0468 valid-epoch-loss:0.0199 valid-beta4-score:0.4244\n"
     ]
    },
    {
     "name": "stderr",
     "output_type": "stream",
     "text": [
      "Epoch 29/80 [Training]: 100%|██████████| 181/181 [02:35<00:00,  1.16it/s, loss=0.0443]\n",
      "Epoch 29/80 [Validation]: 100%|██████████| 1/1 [00:01<00:00,  1.33s/it, loss=0.0036]\n",
      "100%|██████████| 15/15 [00:31<00:00,  2.11s/it]\n"
     ]
    },
    {
     "name": "stdout",
     "output_type": "stream",
     "text": [
      "constant 0.3857142857142858 score 0.29773320021979216\n",
      "train-epoch-loss:0.0443 valid-epoch-loss:0.0036 valid-beta4-score:0.2977\n"
     ]
    },
    {
     "name": "stderr",
     "output_type": "stream",
     "text": [
      "Epoch 30/80 [Training]: 100%|██████████| 181/181 [02:40<00:00,  1.13it/s, loss=0.0421]\n",
      "Epoch 30/80 [Validation]: 100%|██████████| 1/1 [00:01<00:00,  1.30s/it, loss=0.0022]\n",
      "100%|██████████| 15/15 [00:31<00:00,  2.09s/it]\n"
     ]
    },
    {
     "name": "stdout",
     "output_type": "stream",
     "text": [
      "constant 0.3857142857142858 score 0.32548814189982483\n",
      "train-epoch-loss:0.0421 valid-epoch-loss:0.0022 valid-beta4-score:0.3255\n"
     ]
    },
    {
     "name": "stderr",
     "output_type": "stream",
     "text": [
      "Epoch 31/80 [Training]: 100%|██████████| 181/181 [02:37<00:00,  1.15it/s, loss=0.0425]\n",
      "Epoch 31/80 [Validation]: 100%|██████████| 1/1 [00:01<00:00,  1.30s/it, loss=0.0300]\n",
      "100%|██████████| 15/15 [00:31<00:00,  2.09s/it]\n"
     ]
    },
    {
     "name": "stdout",
     "output_type": "stream",
     "text": [
      "constant 0.1 score 0.1641116686028035\n",
      "train-epoch-loss:0.0425 valid-epoch-loss:0.0300 valid-beta4-score:0.1641\n"
     ]
    },
    {
     "name": "stderr",
     "output_type": "stream",
     "text": [
      "Epoch 32/80 [Training]: 100%|██████████| 181/181 [02:35<00:00,  1.17it/s, loss=0.0398]\n",
      "Epoch 32/80 [Validation]: 100%|██████████| 1/1 [00:01<00:00,  1.30s/it, loss=0.0086]\n",
      "100%|██████████| 15/15 [00:31<00:00,  2.12s/it]\n"
     ]
    },
    {
     "name": "stdout",
     "output_type": "stream",
     "text": [
      "constant 0.3285714285714286 score 0.22582699085845293\n",
      "train-epoch-loss:0.0398 valid-epoch-loss:0.0086 valid-beta4-score:0.2258\n"
     ]
    },
    {
     "name": "stderr",
     "output_type": "stream",
     "text": [
      "Epoch 33/80 [Training]: 100%|██████████| 181/181 [02:27<00:00,  1.22it/s, loss=0.0431]\n",
      "Epoch 33/80 [Validation]: 100%|██████████| 1/1 [00:01<00:00,  1.36s/it, loss=0.0023]\n",
      "100%|██████████| 15/15 [00:32<00:00,  2.17s/it]\n"
     ]
    },
    {
     "name": "stdout",
     "output_type": "stream",
     "text": [
      "constant 0.5 score 0.26462797221770296\n",
      "train-epoch-loss:0.0431 valid-epoch-loss:0.0023 valid-beta4-score:0.2646\n"
     ]
    },
    {
     "name": "stderr",
     "output_type": "stream",
     "text": [
      "Epoch 34/80 [Training]: 100%|██████████| 181/181 [02:40<00:00,  1.13it/s, loss=0.0417]\n",
      "Epoch 34/80 [Validation]: 100%|██████████| 1/1 [00:01<00:00,  1.42s/it, loss=0.0045]\n",
      "100%|██████████| 15/15 [00:31<00:00,  2.12s/it]\n"
     ]
    },
    {
     "name": "stdout",
     "output_type": "stream",
     "text": [
      "constant 0.5 score 0.3204722785305309\n",
      "train-epoch-loss:0.0417 valid-epoch-loss:0.0045 valid-beta4-score:0.3205\n"
     ]
    },
    {
     "name": "stderr",
     "output_type": "stream",
     "text": [
      "Epoch 35/80 [Training]: 100%|██████████| 181/181 [02:36<00:00,  1.16it/s, loss=0.0412]\n",
      "Epoch 35/80 [Validation]: 100%|██████████| 1/1 [00:01<00:00,  1.35s/it, loss=0.0043]\n",
      "100%|██████████| 15/15 [00:32<00:00,  2.15s/it]\n"
     ]
    },
    {
     "name": "stdout",
     "output_type": "stream",
     "text": [
      "constant 0.6142857142857143 score 0.305835978411578\n",
      "train-epoch-loss:0.0412 valid-epoch-loss:0.0043 valid-beta4-score:0.3058\n"
     ]
    },
    {
     "name": "stderr",
     "output_type": "stream",
     "text": [
      "Epoch 36/80 [Training]: 100%|██████████| 181/181 [02:41<00:00,  1.12it/s, loss=0.0407]\n",
      "Epoch 36/80 [Validation]: 100%|██████████| 1/1 [00:01<00:00,  1.32s/it, loss=0.0144]\n",
      "100%|██████████| 15/15 [00:32<00:00,  2.15s/it]\n"
     ]
    },
    {
     "name": "stdout",
     "output_type": "stream",
     "text": [
      "constant 0.44285714285714284 score 0.27509881976465317\n",
      "train-epoch-loss:0.0407 valid-epoch-loss:0.0144 valid-beta4-score:0.2751\n"
     ]
    },
    {
     "name": "stderr",
     "output_type": "stream",
     "text": [
      "Epoch 37/80 [Training]: 100%|██████████| 181/181 [02:35<00:00,  1.16it/s, loss=0.0441]\n",
      "Epoch 37/80 [Validation]: 100%|██████████| 1/1 [00:01<00:00,  1.34s/it, loss=0.0225]\n",
      "100%|██████████| 15/15 [00:31<00:00,  2.11s/it]\n"
     ]
    },
    {
     "name": "stdout",
     "output_type": "stream",
     "text": [
      "constant 0.44285714285714284 score 0.2943145553108216\n",
      "train-epoch-loss:0.0441 valid-epoch-loss:0.0225 valid-beta4-score:0.2943\n"
     ]
    },
    {
     "name": "stderr",
     "output_type": "stream",
     "text": [
      "Epoch 38/80 [Training]: 100%|██████████| 181/181 [02:38<00:00,  1.14it/s, loss=0.0407]\n",
      "Epoch 38/80 [Validation]: 100%|██████████| 1/1 [00:01<00:00,  1.31s/it, loss=0.0070]\n",
      "100%|██████████| 15/15 [00:31<00:00,  2.13s/it]\n"
     ]
    },
    {
     "name": "stdout",
     "output_type": "stream",
     "text": [
      "constant 0.2142857142857143 score 0.4357485281732859\n",
      "train-epoch-loss:0.0407 valid-epoch-loss:0.0070 valid-beta4-score:0.4357\n"
     ]
    },
    {
     "name": "stderr",
     "output_type": "stream",
     "text": [
      "Epoch 39/80 [Training]: 100%|██████████| 181/181 [02:38<00:00,  1.14it/s, loss=0.0427]\n",
      "Epoch 39/80 [Validation]: 100%|██████████| 1/1 [00:01<00:00,  1.36s/it, loss=0.0170]\n",
      "100%|██████████| 15/15 [00:31<00:00,  2.10s/it]\n"
     ]
    },
    {
     "name": "stdout",
     "output_type": "stream",
     "text": [
      "constant 0.2142857142857143 score 0.3679388222980258\n",
      "train-epoch-loss:0.0427 valid-epoch-loss:0.0170 valid-beta4-score:0.3679\n"
     ]
    },
    {
     "name": "stderr",
     "output_type": "stream",
     "text": [
      "Epoch 40/80 [Training]: 100%|██████████| 181/181 [02:36<00:00,  1.15it/s, loss=0.0411]\n",
      "Epoch 40/80 [Validation]: 100%|██████████| 1/1 [00:01<00:00,  1.32s/it, loss=0.0218]\n",
      "100%|██████████| 15/15 [00:31<00:00,  2.12s/it]\n"
     ]
    },
    {
     "name": "stdout",
     "output_type": "stream",
     "text": [
      "constant 0.5571428571428572 score 0.32772919641446974\n",
      "train-epoch-loss:0.0411 valid-epoch-loss:0.0218 valid-beta4-score:0.3277\n"
     ]
    },
    {
     "name": "stderr",
     "output_type": "stream",
     "text": [
      "Epoch 41/80 [Training]: 100%|██████████| 181/181 [02:34<00:00,  1.17it/s, loss=0.0396]\n",
      "Epoch 41/80 [Validation]: 100%|██████████| 1/1 [00:01<00:00,  1.32s/it, loss=0.0072]\n",
      "100%|██████████| 15/15 [00:31<00:00,  2.12s/it]\n"
     ]
    },
    {
     "name": "stdout",
     "output_type": "stream",
     "text": [
      "constant 0.44285714285714284 score 0.29410364851346255\n",
      "train-epoch-loss:0.0396 valid-epoch-loss:0.0072 valid-beta4-score:0.2941\n"
     ]
    },
    {
     "name": "stderr",
     "output_type": "stream",
     "text": [
      "Epoch 42/80 [Training]: 100%|██████████| 181/181 [02:32<00:00,  1.19it/s, loss=0.0405]\n",
      "Epoch 42/80 [Validation]: 100%|██████████| 1/1 [00:01<00:00,  1.35s/it, loss=0.0185]\n",
      "100%|██████████| 15/15 [00:32<00:00,  2.18s/it]\n"
     ]
    },
    {
     "name": "stdout",
     "output_type": "stream",
     "text": [
      "constant 0.5571428571428572 score 0.29251490820949994\n",
      "train-epoch-loss:0.0405 valid-epoch-loss:0.0185 valid-beta4-score:0.2925\n"
     ]
    },
    {
     "name": "stderr",
     "output_type": "stream",
     "text": [
      "Epoch 43/80 [Training]: 100%|██████████| 181/181 [02:44<00:00,  1.10it/s, loss=0.0381]\n",
      "Epoch 43/80 [Validation]: 100%|██████████| 1/1 [00:01<00:00,  1.37s/it, loss=0.0056]\n",
      "100%|██████████| 15/15 [00:31<00:00,  2.10s/it]\n"
     ]
    },
    {
     "name": "stdout",
     "output_type": "stream",
     "text": [
      "constant 0.2142857142857143 score 0.3647473796614258\n",
      "train-epoch-loss:0.0381 valid-epoch-loss:0.0056 valid-beta4-score:0.3647\n"
     ]
    },
    {
     "name": "stderr",
     "output_type": "stream",
     "text": [
      "Epoch 44/80 [Training]: 100%|██████████| 181/181 [02:43<00:00,  1.11it/s, loss=0.0405]\n",
      "Epoch 44/80 [Validation]: 100%|██████████| 1/1 [00:01<00:00,  1.33s/it, loss=0.0051]\n",
      "100%|██████████| 15/15 [00:32<00:00,  2.18s/it]\n"
     ]
    },
    {
     "name": "stdout",
     "output_type": "stream",
     "text": [
      "constant 0.27142857142857146 score 0.3259070521971966\n",
      "train-epoch-loss:0.0405 valid-epoch-loss:0.0051 valid-beta4-score:0.3259\n"
     ]
    },
    {
     "name": "stderr",
     "output_type": "stream",
     "text": [
      "Epoch 45/80 [Training]: 100%|██████████| 181/181 [02:36<00:00,  1.15it/s, loss=0.0415]\n",
      "Epoch 45/80 [Validation]: 100%|██████████| 1/1 [00:01<00:00,  1.37s/it, loss=0.0164]\n",
      "100%|██████████| 15/15 [00:32<00:00,  2.15s/it]\n"
     ]
    },
    {
     "name": "stdout",
     "output_type": "stream",
     "text": [
      "constant 0.27142857142857146 score 0.3487653224162931\n",
      "train-epoch-loss:0.0415 valid-epoch-loss:0.0164 valid-beta4-score:0.3488\n"
     ]
    },
    {
     "name": "stderr",
     "output_type": "stream",
     "text": [
      "Epoch 46/80 [Training]: 100%|██████████| 181/181 [02:24<00:00,  1.26it/s, loss=0.0392]\n",
      "Epoch 46/80 [Validation]: 100%|██████████| 1/1 [00:01<00:00,  1.34s/it, loss=0.0193]\n",
      "100%|██████████| 15/15 [00:32<00:00,  2.14s/it]\n"
     ]
    },
    {
     "name": "stdout",
     "output_type": "stream",
     "text": [
      "constant 0.27142857142857146 score 0.32715869723070956\n",
      "train-epoch-loss:0.0392 valid-epoch-loss:0.0193 valid-beta4-score:0.3272\n"
     ]
    },
    {
     "name": "stderr",
     "output_type": "stream",
     "text": [
      "Epoch 47/80 [Training]: 100%|██████████| 181/181 [02:30<00:00,  1.20it/s, loss=0.0408]\n",
      "Epoch 47/80 [Validation]: 100%|██████████| 1/1 [00:01<00:00,  1.36s/it, loss=0.0183]\n",
      "100%|██████████| 15/15 [00:31<00:00,  2.12s/it]\n"
     ]
    },
    {
     "name": "stdout",
     "output_type": "stream",
     "text": [
      "constant 0.27142857142857146 score 0.37228224886336775\n",
      "train-epoch-loss:0.0408 valid-epoch-loss:0.0183 valid-beta4-score:0.3723\n"
     ]
    },
    {
     "name": "stderr",
     "output_type": "stream",
     "text": [
      "Epoch 48/80 [Training]: 100%|██████████| 181/181 [02:35<00:00,  1.16it/s, loss=0.0371]\n",
      "Epoch 48/80 [Validation]: 100%|██████████| 1/1 [00:01<00:00,  1.29s/it, loss=0.0214]\n",
      "100%|██████████| 15/15 [00:32<00:00,  2.14s/it]\n"
     ]
    },
    {
     "name": "stdout",
     "output_type": "stream",
     "text": [
      "constant 0.3285714285714286 score 0.3700362683636808\n",
      "train-epoch-loss:0.0371 valid-epoch-loss:0.0214 valid-beta4-score:0.3700\n"
     ]
    },
    {
     "name": "stderr",
     "output_type": "stream",
     "text": [
      "Epoch 49/80 [Training]: 100%|██████████| 181/181 [02:36<00:00,  1.16it/s, loss=0.0379]\n",
      "Epoch 49/80 [Validation]: 100%|██████████| 1/1 [00:01<00:00,  1.34s/it, loss=0.0007]\n",
      "100%|██████████| 15/15 [00:32<00:00,  2.15s/it]\n"
     ]
    },
    {
     "name": "stdout",
     "output_type": "stream",
     "text": [
      "constant 0.3285714285714286 score 0.4354302105577637\n",
      "train-epoch-loss:0.0379 valid-epoch-loss:0.0007 valid-beta4-score:0.4354\n"
     ]
    },
    {
     "name": "stderr",
     "output_type": "stream",
     "text": [
      "Epoch 50/80 [Training]: 100%|██████████| 181/181 [02:34<00:00,  1.17it/s, loss=0.0391]\n",
      "Epoch 50/80 [Validation]: 100%|██████████| 1/1 [00:01<00:00,  1.37s/it, loss=0.0171]\n",
      "100%|██████████| 15/15 [00:32<00:00,  2.13s/it]\n"
     ]
    },
    {
     "name": "stdout",
     "output_type": "stream",
     "text": [
      "constant 0.3285714285714286 score 0.4023020486935698\n",
      "train-epoch-loss:0.0391 valid-epoch-loss:0.0171 valid-beta4-score:0.4023\n"
     ]
    },
    {
     "name": "stderr",
     "output_type": "stream",
     "text": [
      "Epoch 51/80 [Training]: 100%|██████████| 181/181 [02:42<00:00,  1.12it/s, loss=0.0379]\n",
      "Epoch 51/80 [Validation]: 100%|██████████| 1/1 [00:01<00:00,  1.38s/it, loss=0.0189]\n",
      "100%|██████████| 15/15 [00:32<00:00,  2.14s/it]\n"
     ]
    },
    {
     "name": "stdout",
     "output_type": "stream",
     "text": [
      "constant 0.3285714285714286 score 0.465362924863246\n",
      "train-epoch-loss:0.0379 valid-epoch-loss:0.0189 valid-beta4-score:0.4654\n"
     ]
    },
    {
     "name": "stderr",
     "output_type": "stream",
     "text": [
      "Epoch 52/80 [Training]: 100%|██████████| 181/181 [02:41<00:00,  1.12it/s, loss=0.0393]\n",
      "Epoch 52/80 [Validation]: 100%|██████████| 1/1 [00:01<00:00,  1.30s/it, loss=0.0100]\n",
      "100%|██████████| 15/15 [00:31<00:00,  2.12s/it]\n"
     ]
    },
    {
     "name": "stdout",
     "output_type": "stream",
     "text": [
      "constant 0.27142857142857146 score 0.4095460108382279\n",
      "train-epoch-loss:0.0393 valid-epoch-loss:0.0100 valid-beta4-score:0.4095\n"
     ]
    },
    {
     "name": "stderr",
     "output_type": "stream",
     "text": [
      "Epoch 53/80 [Training]: 100%|██████████| 181/181 [02:33<00:00,  1.18it/s, loss=0.0395]\n",
      "Epoch 53/80 [Validation]: 100%|██████████| 1/1 [00:01<00:00,  1.38s/it, loss=0.0050]\n",
      "100%|██████████| 15/15 [00:32<00:00,  2.16s/it]\n"
     ]
    },
    {
     "name": "stdout",
     "output_type": "stream",
     "text": [
      "constant 0.3857142857142858 score 0.4783379076229829\n",
      "train-epoch-loss:0.0395 valid-epoch-loss:0.0050 valid-beta4-score:0.4783\n"
     ]
    },
    {
     "name": "stderr",
     "output_type": "stream",
     "text": [
      "Epoch 54/80 [Training]: 100%|██████████| 181/181 [02:29<00:00,  1.21it/s, loss=0.0373]\n",
      "Epoch 54/80 [Validation]: 100%|██████████| 1/1 [00:01<00:00,  1.41s/it, loss=0.0201]\n",
      "100%|██████████| 15/15 [00:32<00:00,  2.14s/it]\n"
     ]
    },
    {
     "name": "stdout",
     "output_type": "stream",
     "text": [
      "constant 0.3285714285714286 score 0.4075222182110682\n",
      "train-epoch-loss:0.0373 valid-epoch-loss:0.0201 valid-beta4-score:0.4075\n"
     ]
    },
    {
     "name": "stderr",
     "output_type": "stream",
     "text": [
      "Epoch 55/80 [Training]: 100%|██████████| 181/181 [02:38<00:00,  1.14it/s, loss=0.0355]\n",
      "Epoch 55/80 [Validation]: 100%|██████████| 1/1 [00:01<00:00,  1.39s/it, loss=0.0125]\n",
      "100%|██████████| 15/15 [00:32<00:00,  2.16s/it]\n"
     ]
    },
    {
     "name": "stdout",
     "output_type": "stream",
     "text": [
      "constant 0.3285714285714286 score 0.4190516790120528\n",
      "train-epoch-loss:0.0355 valid-epoch-loss:0.0125 valid-beta4-score:0.4191\n"
     ]
    },
    {
     "name": "stderr",
     "output_type": "stream",
     "text": [
      "Epoch 56/80 [Training]: 100%|██████████| 181/181 [02:29<00:00,  1.21it/s, loss=0.0419]\n",
      "Epoch 56/80 [Validation]: 100%|██████████| 1/1 [00:01<00:00,  1.32s/it, loss=0.0076]\n",
      "100%|██████████| 15/15 [00:32<00:00,  2.14s/it]\n"
     ]
    },
    {
     "name": "stdout",
     "output_type": "stream",
     "text": [
      "constant 0.3285714285714286 score 0.40718326969985885\n",
      "train-epoch-loss:0.0419 valid-epoch-loss:0.0076 valid-beta4-score:0.4072\n"
     ]
    },
    {
     "name": "stderr",
     "output_type": "stream",
     "text": [
      "Epoch 57/80 [Training]: 100%|██████████| 181/181 [02:39<00:00,  1.14it/s, loss=0.0375]\n",
      "Epoch 57/80 [Validation]: 100%|██████████| 1/1 [00:01<00:00,  1.36s/it, loss=0.0009]\n",
      "100%|██████████| 15/15 [00:32<00:00,  2.15s/it]\n"
     ]
    },
    {
     "name": "stdout",
     "output_type": "stream",
     "text": [
      "constant 0.3857142857142858 score 0.3982783909506896\n",
      "train-epoch-loss:0.0375 valid-epoch-loss:0.0009 valid-beta4-score:0.3983\n"
     ]
    },
    {
     "name": "stderr",
     "output_type": "stream",
     "text": [
      "Epoch 58/80 [Training]: 100%|██████████| 181/181 [02:39<00:00,  1.14it/s, loss=0.0407]\n",
      "Epoch 58/80 [Validation]: 100%|██████████| 1/1 [00:01<00:00,  1.38s/it, loss=0.0014]\n",
      "100%|██████████| 15/15 [00:32<00:00,  2.15s/it]\n"
     ]
    },
    {
     "name": "stdout",
     "output_type": "stream",
     "text": [
      "constant 0.3285714285714286 score 0.3465568257856449\n",
      "train-epoch-loss:0.0407 valid-epoch-loss:0.0014 valid-beta4-score:0.3466\n"
     ]
    },
    {
     "name": "stderr",
     "output_type": "stream",
     "text": [
      "Epoch 59/80 [Training]: 100%|██████████| 181/181 [02:44<00:00,  1.10it/s, loss=0.0378]\n",
      "Epoch 59/80 [Validation]: 100%|██████████| 1/1 [00:01<00:00,  1.36s/it, loss=0.0013]\n",
      "100%|██████████| 15/15 [00:32<00:00,  2.14s/it]\n"
     ]
    },
    {
     "name": "stdout",
     "output_type": "stream",
     "text": [
      "constant 0.3857142857142858 score 0.4151171691803608\n",
      "train-epoch-loss:0.0378 valid-epoch-loss:0.0013 valid-beta4-score:0.4151\n"
     ]
    },
    {
     "name": "stderr",
     "output_type": "stream",
     "text": [
      "Epoch 60/80 [Training]: 100%|██████████| 181/181 [02:35<00:00,  1.17it/s, loss=0.0368]\n",
      "Epoch 60/80 [Validation]: 100%|██████████| 1/1 [00:01<00:00,  1.38s/it, loss=0.0019]\n",
      "100%|██████████| 15/15 [00:32<00:00,  2.16s/it]\n"
     ]
    },
    {
     "name": "stdout",
     "output_type": "stream",
     "text": [
      "constant 0.3857142857142858 score 0.4292439783964919\n",
      "train-epoch-loss:0.0368 valid-epoch-loss:0.0019 valid-beta4-score:0.4292\n"
     ]
    },
    {
     "name": "stderr",
     "output_type": "stream",
     "text": [
      "Epoch 61/80 [Training]: 100%|██████████| 181/181 [02:38<00:00,  1.14it/s, loss=0.0386]\n",
      "Epoch 61/80 [Validation]: 100%|██████████| 1/1 [00:01<00:00,  1.35s/it, loss=0.0160]\n",
      "100%|██████████| 15/15 [00:32<00:00,  2.18s/it]\n"
     ]
    },
    {
     "name": "stdout",
     "output_type": "stream",
     "text": [
      "constant 0.44285714285714284 score 0.47974463470989065\n",
      "train-epoch-loss:0.0386 valid-epoch-loss:0.0160 valid-beta4-score:0.4797\n"
     ]
    },
    {
     "name": "stderr",
     "output_type": "stream",
     "text": [
      "Epoch 62/80 [Training]: 100%|██████████| 181/181 [02:44<00:00,  1.10it/s, loss=0.0373]\n",
      "Epoch 62/80 [Validation]: 100%|██████████| 1/1 [00:01<00:00,  1.36s/it, loss=0.0182]\n",
      "100%|██████████| 15/15 [00:32<00:00,  2.15s/it]\n"
     ]
    },
    {
     "name": "stdout",
     "output_type": "stream",
     "text": [
      "constant 0.44285714285714284 score 0.541396896480501\n",
      "train-epoch-loss:0.0373 valid-epoch-loss:0.0182 valid-beta4-score:0.5414\n"
     ]
    },
    {
     "name": "stderr",
     "output_type": "stream",
     "text": [
      "Epoch 63/80 [Training]: 100%|██████████| 181/181 [02:32<00:00,  1.19it/s, loss=0.0395]\n",
      "Epoch 63/80 [Validation]: 100%|██████████| 1/1 [00:01<00:00,  1.38s/it, loss=0.0160]\n",
      "100%|██████████| 15/15 [00:32<00:00,  2.15s/it]\n"
     ]
    },
    {
     "name": "stdout",
     "output_type": "stream",
     "text": [
      "constant 0.44285714285714284 score 0.47344302360265184\n",
      "train-epoch-loss:0.0395 valid-epoch-loss:0.0160 valid-beta4-score:0.4734\n"
     ]
    },
    {
     "name": "stderr",
     "output_type": "stream",
     "text": [
      "Epoch 64/80 [Training]: 100%|██████████| 181/181 [02:37<00:00,  1.15it/s, loss=0.0389]\n",
      "Epoch 64/80 [Validation]: 100%|██████████| 1/1 [00:01<00:00,  1.35s/it, loss=0.0143]\n",
      "100%|██████████| 15/15 [00:32<00:00,  2.16s/it]\n"
     ]
    },
    {
     "name": "stdout",
     "output_type": "stream",
     "text": [
      "constant 0.44285714285714284 score 0.4086965068592442\n",
      "train-epoch-loss:0.0389 valid-epoch-loss:0.0143 valid-beta4-score:0.4087\n"
     ]
    },
    {
     "name": "stderr",
     "output_type": "stream",
     "text": [
      "Epoch 65/80 [Training]: 100%|██████████| 181/181 [02:32<00:00,  1.18it/s, loss=0.0366]\n",
      "Epoch 65/80 [Validation]: 100%|██████████| 1/1 [00:01<00:00,  1.39s/it, loss=0.0186]\n",
      "100%|██████████| 15/15 [00:32<00:00,  2.17s/it]\n"
     ]
    },
    {
     "name": "stdout",
     "output_type": "stream",
     "text": [
      "constant 0.5 score 0.48876942503708076\n",
      "train-epoch-loss:0.0366 valid-epoch-loss:0.0186 valid-beta4-score:0.4888\n"
     ]
    },
    {
     "name": "stderr",
     "output_type": "stream",
     "text": [
      "Epoch 66/80 [Training]: 100%|██████████| 181/181 [02:40<00:00,  1.13it/s, loss=0.0361]\n",
      "Epoch 66/80 [Validation]: 100%|██████████| 1/1 [00:01<00:00,  1.33s/it, loss=0.0190]\n",
      "100%|██████████| 15/15 [00:32<00:00,  2.16s/it]\n"
     ]
    },
    {
     "name": "stdout",
     "output_type": "stream",
     "text": [
      "constant 0.44285714285714284 score 0.4765662211824412\n",
      "train-epoch-loss:0.0361 valid-epoch-loss:0.0190 valid-beta4-score:0.4766\n"
     ]
    },
    {
     "name": "stderr",
     "output_type": "stream",
     "text": [
      "Epoch 67/80 [Training]: 100%|██████████| 181/181 [02:32<00:00,  1.19it/s, loss=0.0377]\n",
      "Epoch 67/80 [Validation]: 100%|██████████| 1/1 [00:01<00:00,  1.38s/it, loss=0.0190]\n",
      "100%|██████████| 15/15 [00:32<00:00,  2.18s/it]\n"
     ]
    },
    {
     "name": "stdout",
     "output_type": "stream",
     "text": [
      "constant 0.44285714285714284 score 0.37798882670252265\n",
      "train-epoch-loss:0.0377 valid-epoch-loss:0.0190 valid-beta4-score:0.3780\n"
     ]
    },
    {
     "name": "stderr",
     "output_type": "stream",
     "text": [
      "Epoch 68/80 [Training]: 100%|██████████| 181/181 [02:39<00:00,  1.14it/s, loss=0.0362]\n",
      "Epoch 68/80 [Validation]: 100%|██████████| 1/1 [00:01<00:00,  1.36s/it, loss=0.0190]\n",
      "100%|██████████| 15/15 [00:32<00:00,  2.15s/it]\n"
     ]
    },
    {
     "name": "stdout",
     "output_type": "stream",
     "text": [
      "constant 0.44285714285714284 score 0.40772026281623724\n",
      "train-epoch-loss:0.0362 valid-epoch-loss:0.0190 valid-beta4-score:0.4077\n"
     ]
    },
    {
     "name": "stderr",
     "output_type": "stream",
     "text": [
      "Epoch 69/80 [Training]: 100%|██████████| 181/181 [02:38<00:00,  1.14it/s, loss=0.0370]\n",
      "Epoch 69/80 [Validation]: 100%|██████████| 1/1 [00:01<00:00,  1.41s/it, loss=0.0183]\n",
      "100%|██████████| 15/15 [00:33<00:00,  2.24s/it]\n"
     ]
    },
    {
     "name": "stdout",
     "output_type": "stream",
     "text": [
      "constant 0.5 score 0.4947678043150735\n",
      "train-epoch-loss:0.0370 valid-epoch-loss:0.0183 valid-beta4-score:0.4948\n"
     ]
    },
    {
     "name": "stderr",
     "output_type": "stream",
     "text": [
      "Epoch 70/80 [Training]: 100%|██████████| 181/181 [02:37<00:00,  1.15it/s, loss=0.0376]\n",
      "Epoch 70/80 [Validation]: 100%|██████████| 1/1 [00:01<00:00,  1.37s/it, loss=0.0062]\n",
      "100%|██████████| 15/15 [00:32<00:00,  2.17s/it]\n"
     ]
    },
    {
     "name": "stdout",
     "output_type": "stream",
     "text": [
      "constant 0.5 score 0.4750666752023133\n",
      "train-epoch-loss:0.0376 valid-epoch-loss:0.0062 valid-beta4-score:0.4751\n"
     ]
    },
    {
     "name": "stderr",
     "output_type": "stream",
     "text": [
      "Epoch 71/80 [Training]: 100%|██████████| 181/181 [02:36<00:00,  1.16it/s, loss=0.0367]\n",
      "Epoch 71/80 [Validation]: 100%|██████████| 1/1 [00:01<00:00,  1.38s/it, loss=0.0173]\n",
      "100%|██████████| 15/15 [00:32<00:00,  2.18s/it]\n"
     ]
    },
    {
     "name": "stdout",
     "output_type": "stream",
     "text": [
      "constant 0.5 score 0.5455941736828848\n",
      "train-epoch-loss:0.0367 valid-epoch-loss:0.0173 valid-beta4-score:0.5456\n"
     ]
    },
    {
     "name": "stderr",
     "output_type": "stream",
     "text": [
      "Epoch 72/80 [Training]: 100%|██████████| 181/181 [02:39<00:00,  1.13it/s, loss=0.0356]\n",
      "Epoch 72/80 [Validation]: 100%|██████████| 1/1 [00:01<00:00,  1.36s/it, loss=0.0174]\n",
      "100%|██████████| 15/15 [00:32<00:00,  2.14s/it]\n"
     ]
    },
    {
     "name": "stdout",
     "output_type": "stream",
     "text": [
      "constant 0.44285714285714284 score 0.45605179492486825\n",
      "train-epoch-loss:0.0356 valid-epoch-loss:0.0174 valid-beta4-score:0.4561\n"
     ]
    },
    {
     "name": "stderr",
     "output_type": "stream",
     "text": [
      "Epoch 73/80 [Training]: 100%|██████████| 181/181 [02:35<00:00,  1.16it/s, loss=0.0353]\n",
      "Epoch 73/80 [Validation]: 100%|██████████| 1/1 [00:01<00:00,  1.40s/it, loss=0.0194]\n",
      "100%|██████████| 15/15 [00:32<00:00,  2.17s/it]\n"
     ]
    },
    {
     "name": "stdout",
     "output_type": "stream",
     "text": [
      "constant 0.44285714285714284 score 0.43632922561987936\n",
      "train-epoch-loss:0.0353 valid-epoch-loss:0.0194 valid-beta4-score:0.4363\n"
     ]
    },
    {
     "name": "stderr",
     "output_type": "stream",
     "text": [
      "Epoch 74/80 [Training]: 100%|██████████| 181/181 [02:37<00:00,  1.15it/s, loss=0.0355]\n",
      "Epoch 74/80 [Validation]: 100%|██████████| 1/1 [00:01<00:00,  1.45s/it, loss=0.0111]\n",
      "100%|██████████| 15/15 [00:32<00:00,  2.17s/it]\n"
     ]
    },
    {
     "name": "stdout",
     "output_type": "stream",
     "text": [
      "constant 0.5 score 0.43923763717852315\n",
      "train-epoch-loss:0.0355 valid-epoch-loss:0.0111 valid-beta4-score:0.4392\n"
     ]
    },
    {
     "name": "stderr",
     "output_type": "stream",
     "text": [
      "Epoch 75/80 [Training]: 100%|██████████| 181/181 [02:35<00:00,  1.16it/s, loss=0.0357]\n",
      "Epoch 75/80 [Validation]: 100%|██████████| 1/1 [00:01<00:00,  1.40s/it, loss=0.0033]\n",
      "100%|██████████| 15/15 [00:32<00:00,  2.17s/it]\n"
     ]
    },
    {
     "name": "stdout",
     "output_type": "stream",
     "text": [
      "constant 0.5 score 0.5001494091603528\n",
      "train-epoch-loss:0.0357 valid-epoch-loss:0.0033 valid-beta4-score:0.5001\n"
     ]
    },
    {
     "name": "stderr",
     "output_type": "stream",
     "text": [
      "Epoch 76/80 [Training]: 100%|██████████| 181/181 [02:33<00:00,  1.18it/s, loss=0.0339]\n",
      "Epoch 76/80 [Validation]: 100%|██████████| 1/1 [00:01<00:00,  1.36s/it, loss=0.0074]\n",
      "100%|██████████| 15/15 [00:32<00:00,  2.19s/it]\n"
     ]
    },
    {
     "name": "stdout",
     "output_type": "stream",
     "text": [
      "constant 0.44285714285714284 score 0.3869047626576125\n",
      "train-epoch-loss:0.0339 valid-epoch-loss:0.0074 valid-beta4-score:0.3869\n"
     ]
    },
    {
     "name": "stderr",
     "output_type": "stream",
     "text": [
      "Epoch 77/80 [Training]: 100%|██████████| 181/181 [02:29<00:00,  1.21it/s, loss=0.0393]\n",
      "Epoch 77/80 [Validation]: 100%|██████████| 1/1 [00:01<00:00,  1.39s/it, loss=0.0184]\n",
      "100%|██████████| 15/15 [00:32<00:00,  2.16s/it]\n"
     ]
    },
    {
     "name": "stdout",
     "output_type": "stream",
     "text": [
      "constant 0.5 score 0.49443516386669556\n",
      "train-epoch-loss:0.0393 valid-epoch-loss:0.0184 valid-beta4-score:0.4944\n"
     ]
    },
    {
     "name": "stderr",
     "output_type": "stream",
     "text": [
      "Epoch 78/80 [Training]: 100%|██████████| 181/181 [02:35<00:00,  1.17it/s, loss=0.0345]\n",
      "Epoch 78/80 [Validation]: 100%|██████████| 1/1 [00:01<00:00,  1.37s/it, loss=0.0181]\n",
      "100%|██████████| 15/15 [00:32<00:00,  2.17s/it]\n"
     ]
    },
    {
     "name": "stdout",
     "output_type": "stream",
     "text": [
      "constant 0.44285714285714284 score 0.43504600925516046\n",
      "train-epoch-loss:0.0345 valid-epoch-loss:0.0181 valid-beta4-score:0.4350\n"
     ]
    },
    {
     "name": "stderr",
     "output_type": "stream",
     "text": [
      "Epoch 79/80 [Training]: 100%|██████████| 181/181 [02:35<00:00,  1.17it/s, loss=0.0371]\n",
      "Epoch 79/80 [Validation]: 100%|██████████| 1/1 [00:01<00:00,  1.38s/it, loss=0.0168]\n",
      "100%|██████████| 15/15 [00:32<00:00,  2.15s/it]\n"
     ]
    },
    {
     "name": "stdout",
     "output_type": "stream",
     "text": [
      "constant 0.44285714285714284 score 0.443626987273627\n",
      "train-epoch-loss:0.0371 valid-epoch-loss:0.0168 valid-beta4-score:0.4436\n"
     ]
    },
    {
     "name": "stderr",
     "output_type": "stream",
     "text": [
      "Epoch 80/80 [Training]: 100%|██████████| 181/181 [02:36<00:00,  1.16it/s, loss=0.0356]\n",
      "Epoch 80/80 [Validation]: 100%|██████████| 1/1 [00:01<00:00,  1.37s/it, loss=0.0097]\n",
      "100%|██████████| 15/15 [00:32<00:00,  2.15s/it]"
     ]
    },
    {
     "name": "stdout",
     "output_type": "stream",
     "text": [
      "constant 0.44285714285714284 score 0.42611385005159214\n",
      "train-epoch-loss:0.0356 valid-epoch-loss:0.0097 valid-beta4-score:0.4261\n"
     ]
    },
    {
     "name": "stderr",
     "output_type": "stream",
     "text": [
      "\n"
     ]
    }
   ],
   "source": [
    "best_model = None\n",
    "best_constant = 0\n",
    "best_score = -100\n",
    "\n",
    "grand_train_loss = []\n",
    "grand_valid_loss = []\n",
    "grand_train_score = []\n",
    "grand_valid_score = []\n",
    "\n",
    "for epoch in range(CFG.epochs):\n",
    "    model.train()\n",
    "    train_loss = []\n",
    "    valid_loss = []\n",
    "    with tqdm(train_loader, desc=f\"Epoch {epoch + 1}/{CFG.epochs} [Training]\") as tq:\n",
    "        for data in tq:\n",
    "            normalized_tomogram = data[\"normalized_tomogram\"]\n",
    "            segmentation_map = data[\"segmentation_map\"]\n",
    "\n",
    "            normalized_tomogram = padf(normalized_tomogram)\n",
    "            segmentation_map = padf(segmentation_map)\n",
    "\n",
    "            # データ拡張\n",
    "            normalized_tomogram, segmentation_map = augment_data(\n",
    "                normalized_tomogram, segmentation_map, p=CFG.augmentation_prob\n",
    "            )\n",
    "            normalized_tomogram = normalized_tomogram.cuda()\n",
    "            segmentation_map = segmentation_map.long().cuda()\n",
    "\n",
    "            optimizer.zero_grad()\n",
    "\n",
    "            with autocast():\n",
    "                pred = model(preprocess_tensor(normalized_tomogram))\n",
    "                loss = seg_loss(pred, segmentation_map)\n",
    "            # loss.backward()\n",
    "            # optimizer.step()\n",
    "            scaler.scale(loss).backward()\n",
    "            scaler.step(optimizer)\n",
    "            scaler.update()\n",
    "            scheduler.step()\n",
    "            train_loss.append(loss.item())\n",
    "\n",
    "            # 確率予測\n",
    "            prob_pred = torch.softmax(pred, dim=1)\n",
    "            tq.set_postfix({\"loss\": f\"{np.mean(train_loss):.4f}\"})\n",
    "\n",
    "    with tqdm(valid_loader, desc=f\"Epoch {epoch + 1}/{CFG.epochs} [Validation]\") as tq:\n",
    "        for data in tq:\n",
    "            normalized_tomogram = data[\"normalized_tomogram\"].cuda()\n",
    "            segmentation_map = data[\"segmentation_map\"].long().cuda()\n",
    "\n",
    "            normalized_tomogram = padf(normalized_tomogram)\n",
    "            segmentation_map = padf(segmentation_map)\n",
    "\n",
    "            with autocast():\n",
    "                pred = model(preprocess_tensor(normalized_tomogram))\n",
    "                loss = seg_loss(pred, segmentation_map)\n",
    "            valid_loss.append(loss.item())\n",
    "\n",
    "            # 確率予測\n",
    "            prob_pred = torch.softmax(pred, dim=1)\n",
    "            tq.set_postfix({\"loss\": f\"{np.mean(valid_loss):.4f}\"})\n",
    "\n",
    "    # # ############### validation ################\n",
    "    train_nshuffle_original_tomogram = defaultdict(list)\n",
    "    train_nshuffle_pred_tomogram = defaultdict(list)\n",
    "    train_nshuffle_gt_tomogram = defaultdict(list)\n",
    "\n",
    "    valid_original_tomogram = defaultdict(list)\n",
    "    valid_pred_tomogram = defaultdict(list)\n",
    "    valid_gt_tomogram = defaultdict(list)\n",
    "\n",
    "    train_mean_scores = []\n",
    "    valid_mean_scores = []\n",
    "\n",
    "    # モデルの保存\n",
    "    torch.save(model.state_dict(), \"./pretrained_model.pth\")\n",
    "\n",
    "    # ############### validation ################\n",
    "    train_nshuffle_original_tomogram = defaultdict(list)\n",
    "    train_nshuffle_pred_tomogram = defaultdict(list)\n",
    "    train_nshuffle_gt_tomogram = defaultdict(list)\n",
    "\n",
    "    valid_original_tomogram = defaultdict(list)\n",
    "    valid_pred_tomogram = defaultdict(list)\n",
    "    valid_gt_tomogram = defaultdict(list)\n",
    "\n",
    "    train_mean_scores = []\n",
    "    valid_mean_scores = []\n",
    "\n",
    "    train_inferenced_array = {}\n",
    "    train_pred_array = []\n",
    "    train_gt_array = []\n",
    "    valid_inferenced_array = {}\n",
    "    valid_gt_array = []\n",
    "\n",
    "    # for exp_name in tqdm(CFG.train_exp_names):\n",
    "    for exp_name in [CFG.valid_exp_name]:  # 5つのデータで試す\n",
    "        # inferenced_array = inference(model, exp_name, train=False)\n",
    "        inferenced_array, n_tomogram, segmentation_map = inference(\n",
    "            model, exp_name, train=False\n",
    "        )\n",
    "        valid_inferenced_array[exp_name] = inferenced_array\n",
    "        base_dir = \"../../inputs/train/overlay/ExperimentRuns/\"\n",
    "        gt_df = create_gt_df(base_dir, [exp_name])\n",
    "        valid_gt_array.append(gt_df)\n",
    "\n",
    "    valid_gt_array = pd.concat(valid_gt_array)\n",
    "\n",
    "    b_constant = 0\n",
    "    b_score = -100\n",
    "    for constant in tqdm(np.linspace(0.1, 0.9, 15)):\n",
    "        valid_pred_array = []\n",
    "        sikii = {\n",
    "            \"apo-ferritin\": constant,\n",
    "            \"beta-amylase\": constant,\n",
    "            \"beta-galactosidase\": constant,\n",
    "            \"ribosome\": constant,\n",
    "            \"thyroglobulin\": constant,\n",
    "            \"virus-like-particle\": constant,\n",
    "        }\n",
    "        for exp_name in [CFG.valid_exp_name]:  # 5つのデータで試す\n",
    "            pred_df = inference2pos(\n",
    "                pred_segmask=valid_inferenced_array[exp_name],\n",
    "                exp_name=exp_name,\n",
    "                sikii_dict=sikii,\n",
    "            )\n",
    "            valid_pred_array.append(pred_df)\n",
    "\n",
    "        valid_pred_array = pd.concat(valid_pred_array)\n",
    "\n",
    "        if len(valid_pred_array) != 0:\n",
    "            score_ = score(\n",
    "                valid_pred_array,\n",
    "                valid_gt_array,\n",
    "                row_id_column_name=\"index\",\n",
    "                distance_multiplier=1.0,\n",
    "                beta=4,\n",
    "            )\n",
    "            if score_ > b_score:\n",
    "                b_score = score_\n",
    "                b_constant = constant\n",
    "\n",
    "        import gc\n",
    "        import torch.cuda as cuda\n",
    "\n",
    "        gc.collect()\n",
    "        cuda.empty_cache()\n",
    "\n",
    "    print(\"constant\", b_constant, \"score\", b_score)\n",
    "\n",
    "    if b_score > best_score:\n",
    "        best_constant = b_constant\n",
    "        best_score = b_score\n",
    "        # best_score = np.mean(valid_mean_scores)\n",
    "        best_model = model.state_dict()\n",
    "        torch.save(best_model, f\"./best_model.pth\")\n",
    "\n",
    "    print(\n",
    "        f\"train-epoch-loss:{np.mean(train_loss):.4f}\",\n",
    "        f\"valid-epoch-loss:{np.mean(valid_loss):.4f}\",\n",
    "        # f\"train-beta4-score:{np.mean(train_mean_scores):.4f}\",\n",
    "        f\"valid-beta4-score:{b_score:.4f}\",\n",
    "    )\n",
    "\n",
    "    grand_train_loss.append(np.mean(train_loss))\n",
    "    grand_valid_loss.append(np.mean(valid_loss))\n",
    "    # grand_train_score.append(np.mean(train_mean_scores))\n",
    "    grand_valid_score.append(b_score)"
   ]
  },
  {
   "cell_type": "code",
   "execution_count": 13,
   "metadata": {},
   "outputs": [
    {
     "data": {
      "image/png": "[encoded data removed]",
      "text/plain": [
       "<Figure size 640x480 with 1 Axes>"
      ]
     },
     "metadata": {},
     "output_type": "display_data"
    }
   ],
   "source": [
    "# train_lossとvalid_lossのプロット\n",
    "\n",
    "plt.plot(grand_train_loss, label=\"train_loss\")\n",
    "plt.plot(grand_valid_loss, label=\"valid_loss\")\n",
    "plt.legend()\n",
    "plt.show()"
   ]
  },
  {
   "cell_type": "code",
   "execution_count": 14,
   "metadata": {},
   "outputs": [
    {
     "data": {
      "image/png": "[encoded data removed]",
      "text/plain": [
       "<Figure size 640x480 with 1 Axes>"
      ]
     },
     "metadata": {},
     "output_type": "display_data"
    }
   ],
   "source": [
    "# train_scoreとvalid_scoreのプロット\n",
    "# plt.plot(grand_train_score, label=\"train_score\")\n",
    "plt.plot(grand_valid_score, label=\"valid_score\")\n",
    "plt.legend()\n",
    "plt.show()"
   ]
  },
  {
   "cell_type": "code",
   "execution_count": 15,
   "metadata": {},
   "outputs": [
    {
     "data": {
      "text/plain": [
       "0.9910476622764169"
      ]
     },
     "execution_count": 15,
     "metadata": {},
     "output_type": "execute_result"
    }
   ],
   "source": [
    "random.random()"
   ]
  },
  {
   "cell_type": "code",
   "execution_count": null,
   "metadata": {},
   "outputs": [],
   "source": []
  }
 ],
 "metadata": {
  "kernelspec": {
   "display_name": "kaggle",
   "language": "python",
   "name": "python3"
  },
  "language_info": {
   "codemirror_mode": {
    "name": "ipython",
    "version": 3
   },
   "file_extension": ".py",
   "mimetype": "text/x-python",
   "name": "python",
   "nbconvert_exporter": "python",
   "pygments_lexer": "ipython3",
   "version": "3.9.16"
  }
 },
 "nbformat": 4,
 "nbformat_minor": 2
}
