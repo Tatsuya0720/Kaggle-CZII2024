{
 "cells": [
  {
   "cell_type": "code",
   "execution_count": 1,
   "metadata": {},
   "outputs": [],
   "source": [
    "import os\n",
    "import zarr\n",
    "import timm\n",
    "import random\n",
    "import json\n",
    "import warnings\n",
    "import numpy as np\n",
    "import pandas as pd\n",
    "import torch.nn as nn\n",
    "from pathlib import Path\n",
    "import matplotlib.pyplot as plt\n",
    "from torch.utils.data import DataLoader, Dataset\n",
    "from collections import defaultdict\n",
    "import sys\n",
    "import torch\n",
    "from torch.cuda.amp import autocast, GradScaler\n",
    "\n",
    "# import torchvision.transforms.functional as F\n",
    "import random\n",
    "\n",
    "warnings.filterwarnings(\"ignore\")\n",
    "sys.path.append(\"./src/\")\n",
    "\n",
    "from src.config import CFG\n",
    "from src.dataloader import (\n",
    "    read_zarr,\n",
    "    read_info_json,\n",
    "    scale_coordinates,\n",
    "    create_dataset,\n",
    "    create_segmentation_map,\n",
    "    EziiDataset,\n",
    "    drop_padding,\n",
    ")\n",
    "from src.network import Unet3D\n",
    "from src.utils import save_images, PadToSize\n",
    "from src.metric import (\n",
    "    score,\n",
    "    create_cls_pos,\n",
    "    create_cls_pos_sikii,\n",
    "    create_df,\n",
    "    SegmentationLoss,\n",
    "    DiceLoss,\n",
    ")\n",
    "from src.inference import inference, inference2pos, create_gt_df\n",
    "from metric import visualize_epoch_results"
   ]
  },
  {
   "cell_type": "code",
   "execution_count": 2,
   "metadata": {},
   "outputs": [
    {
     "name": "stderr",
     "output_type": "stream",
     "text": [
      "100%|██████████| 264/264 [00:09<00:00, 28.72it/s]\n",
      "100%|██████████| 1/1 [00:01<00:00,  1.58s/it]\n",
      "  0%|          | 0/88 [00:04<?, ?it/s]\n"
     ]
    },
    {
     "data": {
      "text/plain": [
       "torch.Size([3, 16, 630, 630])"
      ]
     },
     "execution_count": 2,
     "metadata": {},
     "output_type": "execute_result"
    }
   ],
   "source": [
    "train_dataset = EziiDataset(\n",
    "    exp_names=CFG.train_exp_names,\n",
    "    base_dir=\"../../inputs/train/\",\n",
    "    particles_name=CFG.particles_name,\n",
    "    resolution=CFG.resolution,\n",
    "    zarr_type=CFG.train_zarr_types,\n",
    "    train=True,\n",
    "    augmentation=True,\n",
    "    slice=True,\n",
    "    pre_read=True,\n",
    ")\n",
    "\n",
    "# train_nshuffle_dataset = EziiDataset(\n",
    "#     exp_names=CFG.train_exp_names,\n",
    "#     base_dir=\"../../inputs/train/\",\n",
    "#     particles_name=CFG.particles_name,\n",
    "#     resolution=CFG.resolution,\n",
    "#     zarr_type=CFG.train_zarr_types,\n",
    "#     augmentation=False,\n",
    "#     train=True,\n",
    "# )\n",
    "\n",
    "valid_dataset = EziiDataset(\n",
    "    exp_names=CFG.valid_exp_names,\n",
    "    base_dir=\"../../inputs/train/\",\n",
    "    particles_name=CFG.particles_name,\n",
    "    resolution=CFG.resolution,\n",
    "    zarr_type=CFG.valid_zarr_types,\n",
    "    augmentation=False,\n",
    "    train=True,\n",
    "    slice=True,\n",
    "    pre_read=True,\n",
    ")\n",
    "\n",
    "from tqdm import tqdm\n",
    "\n",
    "train_loader = DataLoader(\n",
    "    train_dataset,\n",
    "    batch_size=CFG.batch_size,\n",
    "    shuffle=True,\n",
    "    drop_last=True,\n",
    "    pin_memory=True,\n",
    "    num_workers=CFG.num_workers,\n",
    ")\n",
    "# train_nshuffle_loader = DataLoader(\n",
    "#     train_nshuffle_dataset,\n",
    "#     batch_size=1,\n",
    "#     shuffle=True,\n",
    "#     drop_last=True,\n",
    "#     pin_memory=True,\n",
    "#     num_workers=CFG.num_workers,\n",
    "# )\n",
    "valid_loader = DataLoader(\n",
    "    valid_dataset,\n",
    "    batch_size=1,\n",
    "    shuffle=False,\n",
    "    pin_memory=True,\n",
    "    num_workers=CFG.num_workers,\n",
    ")\n",
    "\n",
    "for data in tqdm(train_loader):\n",
    "    normalized_tomogram = data[\"normalized_tomogram\"]\n",
    "    segmentation_map = data[\"segmentation_map\"]\n",
    "    break\n",
    "\n",
    "normalized_tomogram.shape"
   ]
  },
  {
   "cell_type": "code",
   "execution_count": 3,
   "metadata": {},
   "outputs": [],
   "source": [
    "encoder = timm.create_model(\n",
    "    model_name=CFG.model_name,\n",
    "    pretrained=True,\n",
    "    in_chans=3,\n",
    "    num_classes=0,\n",
    "    global_pool=\"\",\n",
    "    features_only=True,\n",
    ")\n",
    "model = Unet3D(encoder=encoder).to(\"cuda\")\n",
    "# model.load_state_dict(torch.load(\"./pretrained_model.pth\"))\n",
    "# model.load_state_dict(torch.load(\"./best_model.pth\"))"
   ]
  },
  {
   "cell_type": "code",
   "execution_count": 4,
   "metadata": {},
   "outputs": [
    {
     "data": {
      "text/plain": [
       "torch.Size([2, 7, 16, 64, 64])"
      ]
     },
     "execution_count": 4,
     "metadata": {},
     "output_type": "execute_result"
    }
   ],
   "source": [
    "# input-test\n",
    "\n",
    "x = torch.randn(2, 16, 1, 64, 64).cuda()\n",
    "model(x).shape"
   ]
  },
  {
   "cell_type": "code",
   "execution_count": 5,
   "metadata": {},
   "outputs": [],
   "source": [
    "# # \"encoder\"と名のつくパラメータは学習しない\n",
    "# for layer, param in model.named_parameters():\n",
    "#     if \"encoder\" in layer:\n",
    "#         param.requires_grad = False"
   ]
  },
  {
   "cell_type": "code",
   "execution_count": 6,
   "metadata": {},
   "outputs": [],
   "source": [
    "import matplotlib.pyplot as plt\n",
    "import numpy as np\n",
    "from matplotlib.colors import ListedColormap\n",
    "from matplotlib.patches import Patch\n",
    "\n",
    "# サンプルデータ\n",
    "num_classes = len(CFG.particles_name)  # クラス数\n",
    "colors = plt.cm.tab10(\n",
    "    np.arange(len(CFG.particles_name))\n",
    ")  # \"tab10\" カラーマップから色を取得\n",
    "\n",
    "# ListedColormap を作成\n",
    "class_colormap = ListedColormap(colors)\n",
    "\n",
    "\n",
    "# カラーバー付きプロット\n",
    "def plot_with_colormap(data, title, original_tomogram):\n",
    "    masked_data = np.ma.masked_where(data <= 0, data)  # クラス0をマスク\n",
    "    plt.imshow(original_tomogram, cmap=\"gray\")\n",
    "    im = plt.imshow(masked_data, cmap=class_colormap)\n",
    "    plt.title(title)\n",
    "    plt.axis(\"off\")\n",
    "    return im"
   ]
  },
  {
   "cell_type": "code",
   "execution_count": 7,
   "metadata": {},
   "outputs": [
    {
     "name": "stdout",
     "output_type": "stream",
     "text": [
      "Original shape: torch.Size([6, 16, 320, 320])\n",
      "Augmented shape: torch.Size([6, 16, 320, 320])\n"
     ]
    }
   ],
   "source": [
    "import torch\n",
    "import random\n",
    "import torchvision.transforms.functional as TF\n",
    "\n",
    "\n",
    "# 回転\n",
    "# 3Dテンソルの各軸に対して指定した角度で回転する関数\n",
    "def rotate_3d(tomogram, segmentation_map, angle):\n",
    "    \"\"\"Rotates the 3D tensors tomogram and segmentation_map around the Z-axis.\"\"\"\n",
    "    rotated_tomogram = TF.rotate(tomogram, angle, expand=False)\n",
    "    rotated_segmentation_map = TF.rotate(segmentation_map, angle, expand=False)\n",
    "    return rotated_tomogram, rotated_segmentation_map\n",
    "\n",
    "\n",
    "# 平行移動\n",
    "# 指定された範囲でランダムに平行移動\n",
    "def translate_3d(tomogram, segmentation_map, max_shift):\n",
    "    \"\"\"Translates the 3D tensors by a random shift within max_shift.\"\"\"\n",
    "    shift_x = random.randint(-max_shift, max_shift)\n",
    "    shift_y = random.randint(-max_shift, max_shift)\n",
    "    translated_tomogram = TF.affine(\n",
    "        tomogram, angle=0, translate=(shift_x, shift_y), scale=1, shear=0\n",
    "    )\n",
    "    translated_segmentation_map = TF.affine(\n",
    "        segmentation_map, angle=0, translate=(shift_x, shift_y), scale=1, shear=0\n",
    "    )\n",
    "    return translated_tomogram, translated_segmentation_map\n",
    "\n",
    "\n",
    "# フリップ\n",
    "# 縦横（上下左右）ランダムフリップ\n",
    "def flip_3d(tomogram, segmentation_map):\n",
    "    \"\"\"Randomly flips the 3D tensors along height or width.\"\"\"\n",
    "    if random.random() > 0.5:  # Horizontal flip\n",
    "        tomogram = torch.flip(tomogram, dims=[-1])\n",
    "        segmentation_map = torch.flip(segmentation_map, dims=[-1])\n",
    "    if random.random() > 0.5:  # Vertical flip\n",
    "        tomogram = torch.flip(tomogram, dims=[-2])\n",
    "        segmentation_map = torch.flip(segmentation_map, dims=[-2])\n",
    "    return tomogram, segmentation_map\n",
    "\n",
    "\n",
    "# クロッピング\n",
    "# 入力テンソルを中心またはランダムクロップで切り取る\n",
    "def crop_3d(tomogram, segmentation_map, crop_size):\n",
    "    \"\"\"Crops the 3D tensors to the specified crop_size.\"\"\"\n",
    "    _, depth, height, width = tomogram.size()\n",
    "    crop_d, crop_h, crop_w = crop_size\n",
    "\n",
    "    if crop_h > height or crop_w > width:\n",
    "        raise ValueError(\"Crop size cannot be larger than the original size.\")\n",
    "\n",
    "    start_h = random.randint(0, height - crop_h)  # Random starting position for height\n",
    "    start_w = random.randint(0, width - crop_w)  # Random starting position for width\n",
    "\n",
    "    cropped_tomogram = tomogram[\n",
    "        :, :, start_h : start_h + crop_h, start_w : start_w + crop_w\n",
    "    ]\n",
    "    cropped_segmentation_map = segmentation_map[\n",
    "        :, :, start_h : start_h + crop_h, start_w : start_w + crop_w\n",
    "    ]\n",
    "\n",
    "    return cropped_tomogram, cropped_segmentation_map\n",
    "\n",
    "\n",
    "# Mixup\n",
    "# 2つのサンプルを線形補間して混合\n",
    "def mixup(tomogram, segmentation_map, alpha=0.4):\n",
    "    \"\"\"Applies mixup augmentation to the batch.\"\"\"\n",
    "    lam = random.betavariate(alpha, alpha)\n",
    "    batch_size = tomogram.size(0)\n",
    "    index = torch.randperm(batch_size)\n",
    "\n",
    "    mixed_tomogram = lam * tomogram + (1 - lam) * tomogram[index, :]\n",
    "    mixed_segmentation_map = (\n",
    "        lam * segmentation_map + (1 - lam) * segmentation_map[index, :]\n",
    "    )\n",
    "\n",
    "    return mixed_tomogram, mixed_segmentation_map\n",
    "\n",
    "\n",
    "# Cutmix\n",
    "# ランダム領域を切り取って別のサンプルに貼り付け\n",
    "def cutmix(tomogram, segmentation_map, alpha=1.0):\n",
    "    \"\"\"Applies cutmix augmentation to the batch.\"\"\"\n",
    "    lam = random.betavariate(alpha, alpha)\n",
    "    batch_size, depth, height, width = tomogram.size()\n",
    "    index = torch.randperm(batch_size)\n",
    "\n",
    "    cx = random.randint(0, width)\n",
    "    cy = random.randint(0, height)\n",
    "    cw = int(width * (1 - lam))\n",
    "    ch = int(height * (1 - lam))\n",
    "\n",
    "    x1 = max(cx - cw // 2, 0)\n",
    "    x2 = min(cx + cw // 2, width)\n",
    "    y1 = max(cy - ch // 2, 0)\n",
    "    y2 = min(cy + ch // 2, height)\n",
    "\n",
    "    tomogram[:, :, y1:y2, x1:x2] = tomogram[index, :, y1:y2, x1:x2]\n",
    "    segmentation_map[:, :, y1:y2, x1:x2] = segmentation_map[index, :, y1:y2, x1:x2]\n",
    "\n",
    "    return tomogram, segmentation_map\n",
    "\n",
    "\n",
    "# データ拡張の組み合わせ適用\n",
    "def augment_data(\n",
    "    tomogram,\n",
    "    segmentation_map,\n",
    "    crop_size=(16, 256, 256),\n",
    "    max_shift=10,\n",
    "    rotation_angle=30,\n",
    "    p=0.5,\n",
    "    mixup_alpha=0.4,\n",
    "    cutmix_alpha=1.0,\n",
    "):\n",
    "    \"\"\"Applies a combination of rotation, translation, flipping, cropping, mixup, and cutmix to the inputs with probabilities.\"\"\"\n",
    "    if random.random() < p:\n",
    "        tomogram, segmentation_map = rotate_3d(\n",
    "            tomogram,\n",
    "            segmentation_map,\n",
    "            angle=random.uniform(-rotation_angle, rotation_angle),\n",
    "        )\n",
    "    if random.random() < p:\n",
    "        tomogram, segmentation_map = translate_3d(\n",
    "            tomogram, segmentation_map, max_shift=max_shift\n",
    "        )\n",
    "    if random.random() < p:\n",
    "        tomogram, segmentation_map = flip_3d(tomogram, segmentation_map)\n",
    "    if random.random() < p:\n",
    "        tomogram, segmentation_map = crop_3d(\n",
    "            tomogram, segmentation_map, crop_size=crop_size\n",
    "        )\n",
    "    if random.random() < p:\n",
    "        tomogram, segmentation_map = mixup(\n",
    "            tomogram, segmentation_map, alpha=mixup_alpha\n",
    "        )\n",
    "    # if random.random() < p:\n",
    "    #     tomogram, segmentation_map = cutmix(\n",
    "    #         tomogram, segmentation_map, alpha=cutmix_alpha\n",
    "    #     )\n",
    "    return tomogram, segmentation_map\n",
    "\n",
    "\n",
    "# 使用例\n",
    "# バッチサイズ6, 深さ16, 高さ320, 幅320のランダムテンソル\n",
    "tomogram = torch.rand((6, 16, 320, 320))\n",
    "segmentation_map = torch.randint(0, 2, (6, 16, 320, 320))  # ラベルは0または1\n",
    "\n",
    "# データ拡張の適用\n",
    "aug_tomogram, aug_segmentation_map = augment_data(tomogram, segmentation_map, p=0.7)\n",
    "print(\"Original shape:\", tomogram.shape)\n",
    "print(\"Augmented shape:\", aug_tomogram.shape)"
   ]
  },
  {
   "cell_type": "code",
   "execution_count": 8,
   "metadata": {},
   "outputs": [],
   "source": [
    "from transformers import get_cosine_schedule_with_warmup\n",
    "\n",
    "optimizer = torch.optim.Adam(\n",
    "    model.parameters(), lr=CFG.lr, weight_decay=CFG.weight_decay\n",
    ")\n",
    "criterion = nn.CrossEntropyLoss(\n",
    "    #  weight=torch.tensor([2.0, 32, 32, 32, 32, 32, 32]).to(\"cuda\")\n",
    ")\n",
    "# criterion = DiceLoss()\n",
    "scheduler = get_cosine_schedule_with_warmup(\n",
    "    optimizer,\n",
    "    num_warmup_steps=10,\n",
    "    num_training_steps=CFG.epochs * len(train_loader),\n",
    "    # * batch_size,\n",
    ")\n",
    "scaler = GradScaler()\n",
    "seg_loss = SegmentationLoss(criterion)\n",
    "padf = PadToSize(CFG.resolution)"
   ]
  },
  {
   "cell_type": "code",
   "execution_count": 9,
   "metadata": {},
   "outputs": [],
   "source": [
    "# b, c, d, h, w = CFG.batch_size, 1, 96, 320, 320"
   ]
  },
  {
   "cell_type": "code",
   "execution_count": 10,
   "metadata": {},
   "outputs": [],
   "source": [
    "def preprocess_tensor(tensor):\n",
    "    batch_size, depth, height, width = tensor.shape\n",
    "    tensor = tensor.unsqueeze(2)  # (b, d, h, w) -> (b, d, 1, h, w)\n",
    "    return tensor"
   ]
  },
  {
   "cell_type": "code",
   "execution_count": 11,
   "metadata": {},
   "outputs": [
    {
     "data": {
      "text/plain": [
       "torch.Size([3, 16, 640, 640])"
      ]
     },
     "execution_count": 11,
     "metadata": {},
     "output_type": "execute_result"
    }
   ],
   "source": [
    "padf = PadToSize(CFG.resolution)\n",
    "padf(normalized_tomogram).shape"
   ]
  },
  {
   "cell_type": "code",
   "execution_count": 12,
   "metadata": {},
   "outputs": [
    {
     "name": "stderr",
     "output_type": "stream",
     "text": [
      "Epoch 1/150 [Training]: 100%|██████████| 88/88 [01:35<00:00,  1.09s/it, loss=1.4938]\n",
      "Epoch 1/150 [Validation]: 100%|██████████| 1/1 [00:00<00:00,  1.18it/s, loss=0.9799]\n",
      "100%|██████████| 15/15 [00:33<00:00,  2.23s/it]\n"
     ]
    },
    {
     "name": "stdout",
     "output_type": "stream",
     "text": [
      "constant 0.5 score 0.07596943923886408\n",
      "train-epoch-loss:1.4938 valid-epoch-loss:0.9799 valid-beta4-score:0.0760\n"
     ]
    },
    {
     "name": "stderr",
     "output_type": "stream",
     "text": [
      "Epoch 2/150 [Training]: 100%|██████████| 88/88 [02:07<00:00,  1.45s/it, loss=0.6451]\n",
      "Epoch 2/150 [Validation]: 100%|██████████| 1/1 [00:00<00:00,  1.10it/s, loss=0.3719]\n",
      "100%|██████████| 15/15 [00:35<00:00,  2.39s/it]\n"
     ]
    },
    {
     "name": "stdout",
     "output_type": "stream",
     "text": [
      "constant 0.5571428571428572 score 0.08332132045552833\n",
      "train-epoch-loss:0.6451 valid-epoch-loss:0.3719 valid-beta4-score:0.0833\n"
     ]
    },
    {
     "name": "stderr",
     "output_type": "stream",
     "text": [
      "Epoch 3/150 [Training]: 100%|██████████| 88/88 [02:01<00:00,  1.38s/it, loss=0.2555]\n",
      "Epoch 3/150 [Validation]: 100%|██████████| 1/1 [00:00<00:00,  1.08it/s, loss=0.1675]\n",
      "100%|██████████| 15/15 [00:33<00:00,  2.24s/it]\n"
     ]
    },
    {
     "name": "stdout",
     "output_type": "stream",
     "text": [
      "constant 0.2142857142857143 score 0.06944976381973701\n",
      "train-epoch-loss:0.2555 valid-epoch-loss:0.1675 valid-beta4-score:0.0694\n"
     ]
    },
    {
     "name": "stderr",
     "output_type": "stream",
     "text": [
      "Epoch 4/150 [Training]: 100%|██████████| 88/88 [04:12<00:00,  2.87s/it, loss=0.1318]\n",
      "Epoch 4/150 [Validation]: 100%|██████████| 1/1 [00:00<00:00,  1.14it/s, loss=0.0872]\n",
      "100%|██████████| 15/15 [00:36<00:00,  2.41s/it]\n"
     ]
    },
    {
     "name": "stdout",
     "output_type": "stream",
     "text": [
      "constant 0.3285714285714286 score 0.10955961331901183\n",
      "train-epoch-loss:0.1318 valid-epoch-loss:0.0872 valid-beta4-score:0.1096\n"
     ]
    },
    {
     "name": "stderr",
     "output_type": "stream",
     "text": [
      "Epoch 5/150 [Training]: 100%|██████████| 88/88 [01:59<00:00,  1.35s/it, loss=0.0812]\n",
      "Epoch 5/150 [Validation]: 100%|██████████| 1/1 [00:00<00:00,  1.07it/s, loss=0.0632]\n",
      "100%|██████████| 15/15 [00:34<00:00,  2.32s/it]\n"
     ]
    },
    {
     "name": "stdout",
     "output_type": "stream",
     "text": [
      "constant 0.6714285714285715 score 0.13625648279113625\n",
      "train-epoch-loss:0.0812 valid-epoch-loss:0.0632 valid-beta4-score:0.1363\n"
     ]
    },
    {
     "name": "stderr",
     "output_type": "stream",
     "text": [
      "Epoch 6/150 [Training]: 100%|██████████| 88/88 [02:25<00:00,  1.66s/it, loss=0.0626]\n",
      "Epoch 6/150 [Validation]: 100%|██████████| 1/1 [00:01<00:00,  1.02s/it, loss=0.0545]\n",
      "100%|██████████| 15/15 [00:38<00:00,  2.54s/it]\n"
     ]
    },
    {
     "name": "stdout",
     "output_type": "stream",
     "text": [
      "constant 0.5 score 0.1425775789767962\n",
      "train-epoch-loss:0.0626 valid-epoch-loss:0.0545 valid-beta4-score:0.1426\n"
     ]
    },
    {
     "name": "stderr",
     "output_type": "stream",
     "text": [
      "Epoch 7/150 [Training]: 100%|██████████| 88/88 [02:16<00:00,  1.56s/it, loss=0.0520]\n",
      "Epoch 7/150 [Validation]: 100%|██████████| 1/1 [00:00<00:00,  1.26it/s, loss=0.0431]\n",
      "100%|██████████| 15/15 [00:32<00:00,  2.14s/it]\n"
     ]
    },
    {
     "name": "stdout",
     "output_type": "stream",
     "text": [
      "constant 0.44285714285714284 score 0.14336825964732938\n",
      "train-epoch-loss:0.0520 valid-epoch-loss:0.0431 valid-beta4-score:0.1434\n"
     ]
    },
    {
     "name": "stderr",
     "output_type": "stream",
     "text": [
      "Epoch 8/150 [Training]: 100%|██████████| 88/88 [01:37<00:00,  1.11s/it, loss=0.0411]\n",
      "Epoch 8/150 [Validation]: 100%|██████████| 1/1 [00:00<00:00,  1.29it/s, loss=0.0381]\n",
      "100%|██████████| 15/15 [00:32<00:00,  2.15s/it]\n"
     ]
    },
    {
     "name": "stdout",
     "output_type": "stream",
     "text": [
      "constant 0.1 score 0.15603125015682193\n",
      "train-epoch-loss:0.0411 valid-epoch-loss:0.0381 valid-beta4-score:0.1560\n"
     ]
    },
    {
     "name": "stderr",
     "output_type": "stream",
     "text": [
      "Epoch 9/150 [Training]: 100%|██████████| 88/88 [01:32<00:00,  1.05s/it, loss=0.0390]\n",
      "Epoch 9/150 [Validation]: 100%|██████████| 1/1 [00:00<00:00,  1.26it/s, loss=0.0175]\n",
      "100%|██████████| 15/15 [00:32<00:00,  2.18s/it]\n"
     ]
    },
    {
     "name": "stdout",
     "output_type": "stream",
     "text": [
      "constant 0.15714285714285714 score 0.19797250769244176\n",
      "train-epoch-loss:0.0390 valid-epoch-loss:0.0175 valid-beta4-score:0.1980\n"
     ]
    },
    {
     "name": "stderr",
     "output_type": "stream",
     "text": [
      "Epoch 10/150 [Training]: 100%|██████████| 88/88 [01:36<00:00,  1.10s/it, loss=0.0356]\n",
      "Epoch 10/150 [Validation]: 100%|██████████| 1/1 [00:00<00:00,  1.25it/s, loss=0.0355]\n",
      "100%|██████████| 15/15 [00:31<00:00,  2.13s/it]\n"
     ]
    },
    {
     "name": "stdout",
     "output_type": "stream",
     "text": [
      "constant 0.3285714285714286 score 0.25862009428311844\n",
      "train-epoch-loss:0.0356 valid-epoch-loss:0.0355 valid-beta4-score:0.2586\n"
     ]
    },
    {
     "name": "stderr",
     "output_type": "stream",
     "text": [
      "Epoch 11/150 [Training]: 100%|██████████| 88/88 [01:25<00:00,  1.03it/s, loss=0.0338]\n",
      "Epoch 11/150 [Validation]: 100%|██████████| 1/1 [00:00<00:00,  1.09it/s, loss=0.0095]\n",
      "100%|██████████| 15/15 [00:33<00:00,  2.24s/it]\n"
     ]
    },
    {
     "name": "stdout",
     "output_type": "stream",
     "text": [
      "constant 0.27142857142857146 score 0.2700466203068464\n",
      "train-epoch-loss:0.0338 valid-epoch-loss:0.0095 valid-beta4-score:0.2700\n"
     ]
    },
    {
     "name": "stderr",
     "output_type": "stream",
     "text": [
      "Epoch 12/150 [Training]: 100%|██████████| 88/88 [01:29<00:00,  1.02s/it, loss=0.0313]\n",
      "Epoch 12/150 [Validation]: 100%|██████████| 1/1 [00:00<00:00,  1.18it/s, loss=0.0122]\n",
      "100%|██████████| 15/15 [00:31<00:00,  2.10s/it]\n"
     ]
    },
    {
     "name": "stdout",
     "output_type": "stream",
     "text": [
      "constant 0.27142857142857146 score 0.261266735930057\n",
      "train-epoch-loss:0.0313 valid-epoch-loss:0.0122 valid-beta4-score:0.2613\n"
     ]
    },
    {
     "name": "stderr",
     "output_type": "stream",
     "text": [
      "Epoch 13/150 [Training]: 100%|██████████| 88/88 [01:40<00:00,  1.14s/it, loss=0.0258]\n",
      "Epoch 13/150 [Validation]: 100%|██████████| 1/1 [00:00<00:00,  1.20it/s, loss=0.0136]\n",
      "100%|██████████| 15/15 [00:32<00:00,  2.18s/it]\n"
     ]
    },
    {
     "name": "stdout",
     "output_type": "stream",
     "text": [
      "constant 0.27142857142857146 score 0.18257988345964885\n",
      "train-epoch-loss:0.0258 valid-epoch-loss:0.0136 valid-beta4-score:0.1826\n"
     ]
    },
    {
     "name": "stderr",
     "output_type": "stream",
     "text": [
      "Epoch 14/150 [Training]: 100%|██████████| 88/88 [01:30<00:00,  1.03s/it, loss=0.0300]\n",
      "Epoch 14/150 [Validation]: 100%|██████████| 1/1 [00:00<00:00,  1.17it/s, loss=0.0289]\n",
      "100%|██████████| 15/15 [00:31<00:00,  2.13s/it]\n"
     ]
    },
    {
     "name": "stdout",
     "output_type": "stream",
     "text": [
      "constant 0.27142857142857146 score 0.2632532879271636\n",
      "train-epoch-loss:0.0300 valid-epoch-loss:0.0289 valid-beta4-score:0.2633\n"
     ]
    },
    {
     "name": "stderr",
     "output_type": "stream",
     "text": [
      "Epoch 15/150 [Training]: 100%|██████████| 88/88 [01:37<00:00,  1.10s/it, loss=0.0274]\n",
      "Epoch 15/150 [Validation]: 100%|██████████| 1/1 [00:00<00:00,  1.29it/s, loss=0.0153]\n",
      "100%|██████████| 15/15 [00:34<00:00,  2.29s/it]\n"
     ]
    },
    {
     "name": "stdout",
     "output_type": "stream",
     "text": [
      "constant 0.44285714285714284 score 0.2799879168363125\n",
      "train-epoch-loss:0.0274 valid-epoch-loss:0.0153 valid-beta4-score:0.2800\n"
     ]
    },
    {
     "name": "stderr",
     "output_type": "stream",
     "text": [
      "Epoch 16/150 [Training]: 100%|██████████| 88/88 [01:31<00:00,  1.04s/it, loss=0.0268]\n",
      "Epoch 16/150 [Validation]: 100%|██████████| 1/1 [00:00<00:00,  1.18it/s, loss=0.0048]\n",
      "100%|██████████| 15/15 [00:32<00:00,  2.17s/it]\n"
     ]
    },
    {
     "name": "stdout",
     "output_type": "stream",
     "text": [
      "constant 0.44285714285714284 score 0.25371369535695837\n",
      "train-epoch-loss:0.0268 valid-epoch-loss:0.0048 valid-beta4-score:0.2537\n"
     ]
    },
    {
     "name": "stderr",
     "output_type": "stream",
     "text": [
      "Epoch 17/150 [Training]: 100%|██████████| 88/88 [01:33<00:00,  1.06s/it, loss=0.0275]\n",
      "Epoch 17/150 [Validation]: 100%|██████████| 1/1 [00:00<00:00,  1.26it/s, loss=0.0173]\n",
      "100%|██████████| 15/15 [00:33<00:00,  2.23s/it]\n"
     ]
    },
    {
     "name": "stdout",
     "output_type": "stream",
     "text": [
      "constant 0.1 score 0.21517049136398375\n",
      "train-epoch-loss:0.0275 valid-epoch-loss:0.0173 valid-beta4-score:0.2152\n"
     ]
    },
    {
     "name": "stderr",
     "output_type": "stream",
     "text": [
      "Epoch 18/150 [Training]: 100%|██████████| 88/88 [01:26<00:00,  1.02it/s, loss=0.0257]\n",
      "Epoch 18/150 [Validation]: 100%|██████████| 1/1 [00:00<00:00,  1.25it/s, loss=0.0036]\n",
      "100%|██████████| 15/15 [00:31<00:00,  2.12s/it]\n"
     ]
    },
    {
     "name": "stdout",
     "output_type": "stream",
     "text": [
      "constant 0.5 score 0.2798130249255979\n",
      "train-epoch-loss:0.0257 valid-epoch-loss:0.0036 valid-beta4-score:0.2798\n"
     ]
    },
    {
     "name": "stderr",
     "output_type": "stream",
     "text": [
      "Epoch 19/150 [Training]: 100%|██████████| 88/88 [01:24<00:00,  1.04it/s, loss=0.0273]\n",
      "Epoch 19/150 [Validation]: 100%|██████████| 1/1 [00:00<00:00,  1.28it/s, loss=0.0033]\n",
      "100%|██████████| 15/15 [00:33<00:00,  2.23s/it]\n"
     ]
    },
    {
     "name": "stdout",
     "output_type": "stream",
     "text": [
      "constant 0.44285714285714284 score 0.26548533793319745\n",
      "train-epoch-loss:0.0273 valid-epoch-loss:0.0033 valid-beta4-score:0.2655\n"
     ]
    },
    {
     "name": "stderr",
     "output_type": "stream",
     "text": [
      "Epoch 20/150 [Training]: 100%|██████████| 88/88 [01:27<00:00,  1.01it/s, loss=0.0248]\n",
      "Epoch 20/150 [Validation]: 100%|██████████| 1/1 [00:00<00:00,  1.29it/s, loss=0.0226]\n",
      "100%|██████████| 15/15 [00:33<00:00,  2.26s/it]\n"
     ]
    },
    {
     "name": "stdout",
     "output_type": "stream",
     "text": [
      "constant 0.15714285714285714 score 0.2716228384016254\n",
      "train-epoch-loss:0.0248 valid-epoch-loss:0.0226 valid-beta4-score:0.2716\n"
     ]
    },
    {
     "name": "stderr",
     "output_type": "stream",
     "text": [
      "Epoch 21/150 [Training]: 100%|██████████| 88/88 [01:33<00:00,  1.07s/it, loss=0.0265]\n",
      "Epoch 21/150 [Validation]: 100%|██████████| 1/1 [00:00<00:00,  1.31it/s, loss=0.0100]\n",
      "100%|██████████| 15/15 [00:34<00:00,  2.29s/it]\n"
     ]
    },
    {
     "name": "stdout",
     "output_type": "stream",
     "text": [
      "constant 0.3285714285714286 score 0.32000495244193317\n",
      "train-epoch-loss:0.0265 valid-epoch-loss:0.0100 valid-beta4-score:0.3200\n"
     ]
    },
    {
     "name": "stderr",
     "output_type": "stream",
     "text": [
      "Epoch 22/150 [Training]: 100%|██████████| 88/88 [01:37<00:00,  1.10s/it, loss=0.0263]\n",
      "Epoch 22/150 [Validation]: 100%|██████████| 1/1 [00:00<00:00,  1.22it/s, loss=0.0119]\n",
      "100%|██████████| 15/15 [00:34<00:00,  2.31s/it]\n"
     ]
    },
    {
     "name": "stdout",
     "output_type": "stream",
     "text": [
      "constant 0.2142857142857143 score 0.29092484333794244\n",
      "train-epoch-loss:0.0263 valid-epoch-loss:0.0119 valid-beta4-score:0.2909\n"
     ]
    },
    {
     "name": "stderr",
     "output_type": "stream",
     "text": [
      "Epoch 23/150 [Training]: 100%|██████████| 88/88 [01:30<00:00,  1.03s/it, loss=0.0225]\n",
      "Epoch 23/150 [Validation]: 100%|██████████| 1/1 [00:00<00:00,  1.25it/s, loss=0.0246]\n",
      "100%|██████████| 15/15 [00:36<00:00,  2.43s/it]\n"
     ]
    },
    {
     "name": "stdout",
     "output_type": "stream",
     "text": [
      "constant 0.2142857142857143 score 0.35933379733558146\n",
      "train-epoch-loss:0.0225 valid-epoch-loss:0.0246 valid-beta4-score:0.3593\n"
     ]
    },
    {
     "name": "stderr",
     "output_type": "stream",
     "text": [
      "Epoch 24/150 [Training]: 100%|██████████| 88/88 [01:31<00:00,  1.04s/it, loss=0.0232]\n",
      "Epoch 24/150 [Validation]: 100%|██████████| 1/1 [00:00<00:00,  1.22it/s, loss=0.0020]\n",
      "100%|██████████| 15/15 [00:34<00:00,  2.32s/it]\n"
     ]
    },
    {
     "name": "stdout",
     "output_type": "stream",
     "text": [
      "constant 0.2142857142857143 score 0.2717076366712717\n",
      "train-epoch-loss:0.0232 valid-epoch-loss:0.0020 valid-beta4-score:0.2717\n"
     ]
    },
    {
     "name": "stderr",
     "output_type": "stream",
     "text": [
      "Epoch 25/150 [Training]: 100%|██████████| 88/88 [01:33<00:00,  1.06s/it, loss=0.0263]\n",
      "Epoch 25/150 [Validation]: 100%|██████████| 1/1 [00:00<00:00,  1.13it/s, loss=0.0078]\n",
      "100%|██████████| 15/15 [00:33<00:00,  2.26s/it]\n"
     ]
    },
    {
     "name": "stdout",
     "output_type": "stream",
     "text": [
      "constant 0.5571428571428572 score 0.28496241140636347\n",
      "train-epoch-loss:0.0263 valid-epoch-loss:0.0078 valid-beta4-score:0.2850\n"
     ]
    },
    {
     "name": "stderr",
     "output_type": "stream",
     "text": [
      "Epoch 26/150 [Training]: 100%|██████████| 88/88 [01:31<00:00,  1.04s/it, loss=0.0220]\n",
      "Epoch 26/150 [Validation]: 100%|██████████| 1/1 [00:00<00:00,  1.25it/s, loss=0.0238]\n",
      "100%|██████████| 15/15 [00:33<00:00,  2.24s/it]\n"
     ]
    },
    {
     "name": "stdout",
     "output_type": "stream",
     "text": [
      "constant 0.6142857142857143 score 0.2773821695276019\n",
      "train-epoch-loss:0.0220 valid-epoch-loss:0.0238 valid-beta4-score:0.2774\n"
     ]
    },
    {
     "name": "stderr",
     "output_type": "stream",
     "text": [
      "Epoch 27/150 [Training]: 100%|██████████| 88/88 [01:29<00:00,  1.02s/it, loss=0.0224]\n",
      "Epoch 27/150 [Validation]: 100%|██████████| 1/1 [00:00<00:00,  1.24it/s, loss=0.0178]\n",
      "100%|██████████| 15/15 [00:35<00:00,  2.35s/it]\n"
     ]
    },
    {
     "name": "stdout",
     "output_type": "stream",
     "text": [
      "constant 0.5 score 0.4486483732069607\n",
      "train-epoch-loss:0.0224 valid-epoch-loss:0.0178 valid-beta4-score:0.4486\n"
     ]
    },
    {
     "name": "stderr",
     "output_type": "stream",
     "text": [
      "Epoch 28/150 [Training]: 100%|██████████| 88/88 [01:23<00:00,  1.05it/s, loss=0.0235]\n",
      "Epoch 28/150 [Validation]: 100%|██████████| 1/1 [00:00<00:00,  1.30it/s, loss=0.0053]\n",
      "100%|██████████| 15/15 [00:33<00:00,  2.26s/it]\n"
     ]
    },
    {
     "name": "stdout",
     "output_type": "stream",
     "text": [
      "constant 0.7285714285714286 score 0.2897357136340135\n",
      "train-epoch-loss:0.0235 valid-epoch-loss:0.0053 valid-beta4-score:0.2897\n"
     ]
    },
    {
     "name": "stderr",
     "output_type": "stream",
     "text": [
      "Epoch 29/150 [Training]: 100%|██████████| 88/88 [01:21<00:00,  1.08it/s, loss=0.0240]\n",
      "Epoch 29/150 [Validation]: 100%|██████████| 1/1 [00:00<00:00,  1.18it/s, loss=0.0200]\n",
      "100%|██████████| 15/15 [00:34<00:00,  2.30s/it]\n"
     ]
    },
    {
     "name": "stdout",
     "output_type": "stream",
     "text": [
      "constant 0.1 score 0.3862211947092829\n",
      "train-epoch-loss:0.0240 valid-epoch-loss:0.0200 valid-beta4-score:0.3862\n"
     ]
    },
    {
     "name": "stderr",
     "output_type": "stream",
     "text": [
      "Epoch 30/150 [Training]: 100%|██████████| 88/88 [01:35<00:00,  1.08s/it, loss=0.0215]\n",
      "Epoch 30/150 [Validation]: 100%|██████████| 1/1 [00:00<00:00,  1.33it/s, loss=0.0066]\n",
      "100%|██████████| 15/15 [00:34<00:00,  2.32s/it]\n"
     ]
    },
    {
     "name": "stdout",
     "output_type": "stream",
     "text": [
      "constant 0.44285714285714284 score 0.4532247940830212\n",
      "train-epoch-loss:0.0215 valid-epoch-loss:0.0066 valid-beta4-score:0.4532\n"
     ]
    },
    {
     "name": "stderr",
     "output_type": "stream",
     "text": [
      "Epoch 31/150 [Training]: 100%|██████████| 88/88 [01:42<00:00,  1.16s/it, loss=0.0196]\n",
      "Epoch 31/150 [Validation]: 100%|██████████| 1/1 [00:00<00:00,  1.27it/s, loss=0.0222]\n",
      "100%|██████████| 15/15 [00:35<00:00,  2.33s/it]\n"
     ]
    },
    {
     "name": "stdout",
     "output_type": "stream",
     "text": [
      "constant 0.2142857142857143 score 0.4564398987928598\n",
      "train-epoch-loss:0.0196 valid-epoch-loss:0.0222 valid-beta4-score:0.4564\n"
     ]
    },
    {
     "name": "stderr",
     "output_type": "stream",
     "text": [
      "Epoch 32/150 [Training]: 100%|██████████| 88/88 [01:34<00:00,  1.08s/it, loss=0.0177]\n",
      "Epoch 32/150 [Validation]: 100%|██████████| 1/1 [00:00<00:00,  1.30it/s, loss=0.0108]\n",
      "100%|██████████| 15/15 [00:34<00:00,  2.33s/it]\n"
     ]
    },
    {
     "name": "stdout",
     "output_type": "stream",
     "text": [
      "constant 0.2142857142857143 score 0.39480503911618536\n",
      "train-epoch-loss:0.0177 valid-epoch-loss:0.0108 valid-beta4-score:0.3948\n"
     ]
    },
    {
     "name": "stderr",
     "output_type": "stream",
     "text": [
      "Epoch 33/150 [Training]: 100%|██████████| 88/88 [01:25<00:00,  1.03it/s, loss=0.0207]\n",
      "Epoch 33/150 [Validation]: 100%|██████████| 1/1 [00:00<00:00,  1.25it/s, loss=0.0227]\n",
      "100%|██████████| 15/15 [00:35<00:00,  2.35s/it]\n"
     ]
    },
    {
     "name": "stdout",
     "output_type": "stream",
     "text": [
      "constant 0.27142857142857146 score 0.40276190373137205\n",
      "train-epoch-loss:0.0207 valid-epoch-loss:0.0227 valid-beta4-score:0.4028\n"
     ]
    },
    {
     "name": "stderr",
     "output_type": "stream",
     "text": [
      "Epoch 34/150 [Training]: 100%|██████████| 88/88 [01:44<00:00,  1.19s/it, loss=0.0197]\n",
      "Epoch 34/150 [Validation]: 100%|██████████| 1/1 [00:00<00:00,  1.18it/s, loss=0.0191]\n",
      "100%|██████████| 15/15 [00:34<00:00,  2.31s/it]\n"
     ]
    },
    {
     "name": "stdout",
     "output_type": "stream",
     "text": [
      "constant 0.3285714285714286 score 0.4978385515515909\n",
      "train-epoch-loss:0.0197 valid-epoch-loss:0.0191 valid-beta4-score:0.4978\n"
     ]
    },
    {
     "name": "stderr",
     "output_type": "stream",
     "text": [
      "Epoch 35/150 [Training]: 100%|██████████| 88/88 [01:31<00:00,  1.04s/it, loss=0.0182]\n",
      "Epoch 35/150 [Validation]: 100%|██████████| 1/1 [00:00<00:00,  1.31it/s, loss=0.0207]\n",
      "100%|██████████| 15/15 [00:35<00:00,  2.39s/it]\n"
     ]
    },
    {
     "name": "stdout",
     "output_type": "stream",
     "text": [
      "constant 0.3285714285714286 score 0.5369708585510385\n",
      "train-epoch-loss:0.0182 valid-epoch-loss:0.0207 valid-beta4-score:0.5370\n"
     ]
    },
    {
     "name": "stderr",
     "output_type": "stream",
     "text": [
      "Epoch 36/150 [Training]: 100%|██████████| 88/88 [01:24<00:00,  1.04it/s, loss=0.0205]\n",
      "Epoch 36/150 [Validation]: 100%|██████████| 1/1 [00:00<00:00,  1.26it/s, loss=0.0219]\n",
      "100%|██████████| 15/15 [00:34<00:00,  2.31s/it]\n"
     ]
    },
    {
     "name": "stdout",
     "output_type": "stream",
     "text": [
      "constant 0.3857142857142858 score 0.4332505406577424\n",
      "train-epoch-loss:0.0205 valid-epoch-loss:0.0219 valid-beta4-score:0.4333\n"
     ]
    },
    {
     "name": "stderr",
     "output_type": "stream",
     "text": [
      "Epoch 37/150 [Training]: 100%|██████████| 88/88 [01:41<00:00,  1.16s/it, loss=0.0224]\n",
      "Epoch 37/150 [Validation]: 100%|██████████| 1/1 [00:00<00:00,  1.28it/s, loss=0.0009]\n",
      "100%|██████████| 15/15 [00:34<00:00,  2.32s/it]\n"
     ]
    },
    {
     "name": "stdout",
     "output_type": "stream",
     "text": [
      "constant 0.3285714285714286 score 0.48922040312389975\n",
      "train-epoch-loss:0.0224 valid-epoch-loss:0.0009 valid-beta4-score:0.4892\n"
     ]
    },
    {
     "name": "stderr",
     "output_type": "stream",
     "text": [
      "Epoch 38/150 [Training]: 100%|██████████| 88/88 [01:33<00:00,  1.06s/it, loss=0.0203]\n",
      "Epoch 38/150 [Validation]: 100%|██████████| 1/1 [00:00<00:00,  1.27it/s, loss=0.0198]\n",
      "100%|██████████| 15/15 [00:35<00:00,  2.40s/it]\n"
     ]
    },
    {
     "name": "stdout",
     "output_type": "stream",
     "text": [
      "constant 0.3857142857142858 score 0.5026183417887006\n",
      "train-epoch-loss:0.0203 valid-epoch-loss:0.0198 valid-beta4-score:0.5026\n"
     ]
    },
    {
     "name": "stderr",
     "output_type": "stream",
     "text": [
      "Epoch 39/150 [Training]: 100%|██████████| 88/88 [01:31<00:00,  1.04s/it, loss=0.0207]\n",
      "Epoch 39/150 [Validation]: 100%|██████████| 1/1 [00:00<00:00,  1.33it/s, loss=0.0118]\n",
      "100%|██████████| 15/15 [00:36<00:00,  2.43s/it]\n"
     ]
    },
    {
     "name": "stdout",
     "output_type": "stream",
     "text": [
      "constant 0.44285714285714284 score 0.5802346670558528\n",
      "train-epoch-loss:0.0207 valid-epoch-loss:0.0118 valid-beta4-score:0.5802\n"
     ]
    },
    {
     "name": "stderr",
     "output_type": "stream",
     "text": [
      "Epoch 40/150 [Training]: 100%|██████████| 88/88 [01:31<00:00,  1.04s/it, loss=0.0224]\n",
      "Epoch 40/150 [Validation]: 100%|██████████| 1/1 [00:00<00:00,  1.28it/s, loss=0.0016]\n",
      "100%|██████████| 15/15 [00:35<00:00,  2.35s/it]\n"
     ]
    },
    {
     "name": "stdout",
     "output_type": "stream",
     "text": [
      "constant 0.5 score 0.551178724968275\n",
      "train-epoch-loss:0.0224 valid-epoch-loss:0.0016 valid-beta4-score:0.5512\n"
     ]
    },
    {
     "name": "stderr",
     "output_type": "stream",
     "text": [
      "Epoch 41/150 [Training]: 100%|██████████| 88/88 [01:25<00:00,  1.03it/s, loss=0.0205]\n",
      "Epoch 41/150 [Validation]: 100%|██████████| 1/1 [00:00<00:00,  1.26it/s, loss=0.0014]\n",
      "100%|██████████| 15/15 [00:35<00:00,  2.37s/it]\n"
     ]
    },
    {
     "name": "stdout",
     "output_type": "stream",
     "text": [
      "constant 0.44285714285714284 score 0.5471548402912061\n",
      "train-epoch-loss:0.0205 valid-epoch-loss:0.0014 valid-beta4-score:0.5472\n"
     ]
    },
    {
     "name": "stderr",
     "output_type": "stream",
     "text": [
      "Epoch 42/150 [Training]: 100%|██████████| 88/88 [01:37<00:00,  1.11s/it, loss=0.0182]\n",
      "Epoch 42/150 [Validation]: 100%|██████████| 1/1 [00:00<00:00,  1.27it/s, loss=0.0191]\n",
      "100%|██████████| 15/15 [00:34<00:00,  2.33s/it]\n"
     ]
    },
    {
     "name": "stdout",
     "output_type": "stream",
     "text": [
      "constant 0.5 score 0.6180569670949155\n",
      "train-epoch-loss:0.0182 valid-epoch-loss:0.0191 valid-beta4-score:0.6181\n"
     ]
    },
    {
     "name": "stderr",
     "output_type": "stream",
     "text": [
      "Epoch 43/150 [Training]: 100%|██████████| 88/88 [01:38<00:00,  1.12s/it, loss=0.0194]\n",
      "Epoch 43/150 [Validation]: 100%|██████████| 1/1 [00:00<00:00,  1.27it/s, loss=0.0179]\n",
      "100%|██████████| 15/15 [00:34<00:00,  2.30s/it]\n"
     ]
    },
    {
     "name": "stdout",
     "output_type": "stream",
     "text": [
      "constant 0.5571428571428572 score 0.5746164317193375\n",
      "train-epoch-loss:0.0194 valid-epoch-loss:0.0179 valid-beta4-score:0.5746\n"
     ]
    },
    {
     "name": "stderr",
     "output_type": "stream",
     "text": [
      "Epoch 44/150 [Training]: 100%|██████████| 88/88 [01:31<00:00,  1.04s/it, loss=0.0168]\n",
      "Epoch 44/150 [Validation]: 100%|██████████| 1/1 [00:00<00:00,  1.30it/s, loss=0.0149]\n",
      "100%|██████████| 15/15 [00:34<00:00,  2.31s/it]\n"
     ]
    },
    {
     "name": "stdout",
     "output_type": "stream",
     "text": [
      "constant 0.6714285714285715 score 0.5789791085758301\n",
      "train-epoch-loss:0.0168 valid-epoch-loss:0.0149 valid-beta4-score:0.5790\n"
     ]
    },
    {
     "name": "stderr",
     "output_type": "stream",
     "text": [
      "Epoch 45/150 [Training]: 100%|██████████| 88/88 [01:34<00:00,  1.08s/it, loss=0.0165]\n",
      "Epoch 45/150 [Validation]: 100%|██████████| 1/1 [00:00<00:00,  1.27it/s, loss=0.0037]\n",
      "100%|██████████| 15/15 [00:34<00:00,  2.30s/it]\n"
     ]
    },
    {
     "name": "stdout",
     "output_type": "stream",
     "text": [
      "constant 0.44285714285714284 score 0.6240368514964746\n",
      "train-epoch-loss:0.0165 valid-epoch-loss:0.0037 valid-beta4-score:0.6240\n"
     ]
    },
    {
     "name": "stderr",
     "output_type": "stream",
     "text": [
      "Epoch 46/150 [Training]: 100%|██████████| 88/88 [01:35<00:00,  1.09s/it, loss=0.0170]\n",
      "Epoch 46/150 [Validation]: 100%|██████████| 1/1 [00:00<00:00,  1.29it/s, loss=0.0097]\n",
      "100%|██████████| 15/15 [00:33<00:00,  2.26s/it]\n"
     ]
    },
    {
     "name": "stdout",
     "output_type": "stream",
     "text": [
      "constant 0.6714285714285715 score 0.5903455982018168\n",
      "train-epoch-loss:0.0170 valid-epoch-loss:0.0097 valid-beta4-score:0.5903\n"
     ]
    },
    {
     "name": "stderr",
     "output_type": "stream",
     "text": [
      "Epoch 47/150 [Training]: 100%|██████████| 88/88 [01:36<00:00,  1.10s/it, loss=0.0159]\n",
      "Epoch 47/150 [Validation]: 100%|██████████| 1/1 [00:00<00:00,  1.25it/s, loss=0.0134]\n",
      "100%|██████████| 15/15 [00:35<00:00,  2.36s/it]\n"
     ]
    },
    {
     "name": "stdout",
     "output_type": "stream",
     "text": [
      "constant 0.6714285714285715 score 0.5780081692273636\n",
      "train-epoch-loss:0.0159 valid-epoch-loss:0.0134 valid-beta4-score:0.5780\n"
     ]
    },
    {
     "name": "stderr",
     "output_type": "stream",
     "text": [
      "Epoch 48/150 [Training]: 100%|██████████| 88/88 [01:31<00:00,  1.03s/it, loss=0.0184]\n",
      "Epoch 48/150 [Validation]: 100%|██████████| 1/1 [00:00<00:00,  1.31it/s, loss=0.0156]\n",
      "100%|██████████| 15/15 [00:35<00:00,  2.38s/it]\n"
     ]
    },
    {
     "name": "stdout",
     "output_type": "stream",
     "text": [
      "constant 0.6714285714285715 score 0.526861875700595\n",
      "train-epoch-loss:0.0184 valid-epoch-loss:0.0156 valid-beta4-score:0.5269\n"
     ]
    },
    {
     "name": "stderr",
     "output_type": "stream",
     "text": [
      "Epoch 49/150 [Training]: 100%|██████████| 88/88 [01:35<00:00,  1.09s/it, loss=0.0158]\n",
      "Epoch 49/150 [Validation]: 100%|██████████| 1/1 [00:00<00:00,  1.34it/s, loss=0.0212]\n",
      "100%|██████████| 15/15 [00:35<00:00,  2.33s/it]\n"
     ]
    },
    {
     "name": "stdout",
     "output_type": "stream",
     "text": [
      "constant 0.6714285714285715 score 0.5863694551954108\n",
      "train-epoch-loss:0.0158 valid-epoch-loss:0.0212 valid-beta4-score:0.5864\n"
     ]
    },
    {
     "name": "stderr",
     "output_type": "stream",
     "text": [
      "Epoch 50/150 [Training]: 100%|██████████| 88/88 [01:32<00:00,  1.05s/it, loss=0.0177]\n",
      "Epoch 50/150 [Validation]: 100%|██████████| 1/1 [00:00<00:00,  1.26it/s, loss=0.0173]\n",
      "100%|██████████| 15/15 [00:35<00:00,  2.33s/it]\n"
     ]
    },
    {
     "name": "stdout",
     "output_type": "stream",
     "text": [
      "constant 0.5571428571428572 score 0.5599155542294468\n",
      "train-epoch-loss:0.0177 valid-epoch-loss:0.0173 valid-beta4-score:0.5599\n"
     ]
    },
    {
     "name": "stderr",
     "output_type": "stream",
     "text": [
      "Epoch 51/150 [Training]: 100%|██████████| 88/88 [01:28<00:00,  1.00s/it, loss=0.0182]\n",
      "Epoch 51/150 [Validation]: 100%|██████████| 1/1 [00:00<00:00,  1.32it/s, loss=0.0155]\n",
      "100%|██████████| 15/15 [00:34<00:00,  2.31s/it]\n"
     ]
    },
    {
     "name": "stdout",
     "output_type": "stream",
     "text": [
      "constant 0.5 score 0.6205036775739996\n",
      "train-epoch-loss:0.0182 valid-epoch-loss:0.0155 valid-beta4-score:0.6205\n"
     ]
    },
    {
     "name": "stderr",
     "output_type": "stream",
     "text": [
      "Epoch 52/150 [Training]: 100%|██████████| 88/88 [01:34<00:00,  1.07s/it, loss=0.0193]\n",
      "Epoch 52/150 [Validation]: 100%|██████████| 1/1 [00:00<00:00,  1.27it/s, loss=0.0161]\n",
      "100%|██████████| 15/15 [00:34<00:00,  2.29s/it]\n"
     ]
    },
    {
     "name": "stdout",
     "output_type": "stream",
     "text": [
      "constant 0.5571428571428572 score 0.6111149415058438\n",
      "train-epoch-loss:0.0193 valid-epoch-loss:0.0161 valid-beta4-score:0.6111\n"
     ]
    },
    {
     "name": "stderr",
     "output_type": "stream",
     "text": [
      "Epoch 53/150 [Training]: 100%|██████████| 88/88 [01:28<00:00,  1.01s/it, loss=0.0190]\n",
      "Epoch 53/150 [Validation]: 100%|██████████| 1/1 [00:00<00:00,  1.25it/s, loss=0.0095]\n",
      "100%|██████████| 15/15 [00:35<00:00,  2.36s/it]\n"
     ]
    },
    {
     "name": "stdout",
     "output_type": "stream",
     "text": [
      "constant 0.6142857142857143 score 0.5567703896057283\n",
      "train-epoch-loss:0.0190 valid-epoch-loss:0.0095 valid-beta4-score:0.5568\n"
     ]
    },
    {
     "name": "stderr",
     "output_type": "stream",
     "text": [
      "Epoch 54/150 [Training]: 100%|██████████| 88/88 [01:33<00:00,  1.06s/it, loss=0.0154]\n",
      "Epoch 54/150 [Validation]: 100%|██████████| 1/1 [00:00<00:00,  1.32it/s, loss=0.0012]\n",
      "100%|██████████| 15/15 [00:33<00:00,  2.27s/it]\n"
     ]
    },
    {
     "name": "stdout",
     "output_type": "stream",
     "text": [
      "constant 0.7285714285714286 score 0.5976815805622551\n",
      "train-epoch-loss:0.0154 valid-epoch-loss:0.0012 valid-beta4-score:0.5977\n"
     ]
    },
    {
     "name": "stderr",
     "output_type": "stream",
     "text": [
      "Epoch 55/150 [Training]: 100%|██████████| 88/88 [01:25<00:00,  1.02it/s, loss=0.0171]\n",
      "Epoch 55/150 [Validation]: 100%|██████████| 1/1 [00:00<00:00,  1.22it/s, loss=0.0164]\n",
      "100%|██████████| 15/15 [00:36<00:00,  2.42s/it]\n"
     ]
    },
    {
     "name": "stdout",
     "output_type": "stream",
     "text": [
      "constant 0.6714285714285715 score 0.6172695534128193\n",
      "train-epoch-loss:0.0171 valid-epoch-loss:0.0164 valid-beta4-score:0.6173\n"
     ]
    },
    {
     "name": "stderr",
     "output_type": "stream",
     "text": [
      "Epoch 56/150 [Training]: 100%|██████████| 88/88 [01:32<00:00,  1.05s/it, loss=0.0159]\n",
      "Epoch 56/150 [Validation]: 100%|██████████| 1/1 [00:00<00:00,  1.27it/s, loss=0.0101]\n",
      "100%|██████████| 15/15 [00:33<00:00,  2.24s/it]\n"
     ]
    },
    {
     "name": "stdout",
     "output_type": "stream",
     "text": [
      "constant 0.6714285714285715 score 0.5946837199862787\n",
      "train-epoch-loss:0.0159 valid-epoch-loss:0.0101 valid-beta4-score:0.5947\n"
     ]
    },
    {
     "name": "stderr",
     "output_type": "stream",
     "text": [
      "Epoch 57/150 [Training]: 100%|██████████| 88/88 [01:28<00:00,  1.00s/it, loss=0.0163]\n",
      "Epoch 57/150 [Validation]: 100%|██████████| 1/1 [00:00<00:00,  1.32it/s, loss=0.0005]\n",
      "100%|██████████| 15/15 [00:35<00:00,  2.37s/it]\n"
     ]
    },
    {
     "name": "stdout",
     "output_type": "stream",
     "text": [
      "constant 0.6142857142857143 score 0.554341216634415\n",
      "train-epoch-loss:0.0163 valid-epoch-loss:0.0005 valid-beta4-score:0.5543\n"
     ]
    },
    {
     "name": "stderr",
     "output_type": "stream",
     "text": [
      "Epoch 58/150 [Training]: 100%|██████████| 88/88 [01:32<00:00,  1.05s/it, loss=0.0175]\n",
      "Epoch 58/150 [Validation]: 100%|██████████| 1/1 [00:00<00:00,  1.32it/s, loss=0.0086]\n",
      "100%|██████████| 15/15 [00:34<00:00,  2.32s/it]\n"
     ]
    },
    {
     "name": "stdout",
     "output_type": "stream",
     "text": [
      "constant 0.5571428571428572 score 0.6077041297253176\n",
      "train-epoch-loss:0.0175 valid-epoch-loss:0.0086 valid-beta4-score:0.6077\n"
     ]
    },
    {
     "name": "stderr",
     "output_type": "stream",
     "text": [
      "Epoch 59/150 [Training]: 100%|██████████| 88/88 [01:31<00:00,  1.04s/it, loss=0.0170]\n",
      "Epoch 59/150 [Validation]: 100%|██████████| 1/1 [00:00<00:00,  1.26it/s, loss=0.0225]\n",
      "100%|██████████| 15/15 [00:34<00:00,  2.30s/it]\n"
     ]
    },
    {
     "name": "stdout",
     "output_type": "stream",
     "text": [
      "constant 0.27142857142857146 score 0.6011988741801769\n",
      "train-epoch-loss:0.0170 valid-epoch-loss:0.0225 valid-beta4-score:0.6012\n"
     ]
    },
    {
     "name": "stderr",
     "output_type": "stream",
     "text": [
      "Epoch 60/150 [Training]: 100%|██████████| 88/88 [01:36<00:00,  1.09s/it, loss=0.0151]\n",
      "Epoch 60/150 [Validation]: 100%|██████████| 1/1 [00:00<00:00,  1.27it/s, loss=0.0033]\n",
      "100%|██████████| 15/15 [00:35<00:00,  2.35s/it]\n"
     ]
    },
    {
     "name": "stdout",
     "output_type": "stream",
     "text": [
      "constant 0.6714285714285715 score 0.5927808311185406\n",
      "train-epoch-loss:0.0151 valid-epoch-loss:0.0033 valid-beta4-score:0.5928\n"
     ]
    },
    {
     "name": "stderr",
     "output_type": "stream",
     "text": [
      "Epoch 61/150 [Training]: 100%|██████████| 88/88 [01:30<00:00,  1.03s/it, loss=0.0168]\n",
      "Epoch 61/150 [Validation]: 100%|██████████| 1/1 [00:00<00:00,  1.29it/s, loss=0.0207]\n",
      "100%|██████████| 15/15 [00:34<00:00,  2.28s/it]\n"
     ]
    },
    {
     "name": "stdout",
     "output_type": "stream",
     "text": [
      "constant 0.6142857142857143 score 0.5877203227645689\n",
      "train-epoch-loss:0.0168 valid-epoch-loss:0.0207 valid-beta4-score:0.5877\n"
     ]
    },
    {
     "name": "stderr",
     "output_type": "stream",
     "text": [
      "Epoch 62/150 [Training]: 100%|██████████| 88/88 [01:37<00:00,  1.11s/it, loss=0.0165]\n",
      "Epoch 62/150 [Validation]: 100%|██████████| 1/1 [00:00<00:00,  1.33it/s, loss=0.0007]\n",
      "100%|██████████| 15/15 [00:34<00:00,  2.32s/it]\n"
     ]
    },
    {
     "name": "stdout",
     "output_type": "stream",
     "text": [
      "constant 0.5571428571428572 score 0.5780390229871629\n",
      "train-epoch-loss:0.0165 valid-epoch-loss:0.0007 valid-beta4-score:0.5780\n"
     ]
    },
    {
     "name": "stderr",
     "output_type": "stream",
     "text": [
      "Epoch 63/150 [Training]: 100%|██████████| 88/88 [01:36<00:00,  1.10s/it, loss=0.0146]\n",
      "Epoch 63/150 [Validation]: 100%|██████████| 1/1 [00:00<00:00,  1.27it/s, loss=0.0216]\n",
      "100%|██████████| 15/15 [00:35<00:00,  2.38s/it]\n"
     ]
    },
    {
     "name": "stdout",
     "output_type": "stream",
     "text": [
      "constant 0.5 score 0.5862803414054151\n",
      "train-epoch-loss:0.0146 valid-epoch-loss:0.0216 valid-beta4-score:0.5863\n"
     ]
    },
    {
     "name": "stderr",
     "output_type": "stream",
     "text": [
      "Epoch 64/150 [Training]: 100%|██████████| 88/88 [01:22<00:00,  1.06it/s, loss=0.0164]\n",
      "Epoch 64/150 [Validation]: 100%|██████████| 1/1 [00:00<00:00,  1.27it/s, loss=0.0222]\n",
      "100%|██████████| 15/15 [00:35<00:00,  2.38s/it]\n"
     ]
    },
    {
     "name": "stdout",
     "output_type": "stream",
     "text": [
      "constant 0.5 score 0.5496164255977704\n",
      "train-epoch-loss:0.0164 valid-epoch-loss:0.0222 valid-beta4-score:0.5496\n"
     ]
    },
    {
     "name": "stderr",
     "output_type": "stream",
     "text": [
      "Epoch 65/150 [Training]: 100%|██████████| 88/88 [01:38<00:00,  1.12s/it, loss=0.0171]\n",
      "Epoch 65/150 [Validation]: 100%|██████████| 1/1 [00:00<00:00,  1.26it/s, loss=0.0185]\n",
      "100%|██████████| 15/15 [00:34<00:00,  2.29s/it]\n"
     ]
    },
    {
     "name": "stdout",
     "output_type": "stream",
     "text": [
      "constant 0.5571428571428572 score 0.5559571430164938\n",
      "train-epoch-loss:0.0171 valid-epoch-loss:0.0185 valid-beta4-score:0.5560\n"
     ]
    },
    {
     "name": "stderr",
     "output_type": "stream",
     "text": [
      "Epoch 66/150 [Training]: 100%|██████████| 88/88 [01:29<00:00,  1.02s/it, loss=0.0143]\n",
      "Epoch 66/150 [Validation]: 100%|██████████| 1/1 [00:00<00:00,  1.31it/s, loss=0.0056]\n",
      "100%|██████████| 15/15 [00:34<00:00,  2.33s/it]\n"
     ]
    },
    {
     "name": "stdout",
     "output_type": "stream",
     "text": [
      "constant 0.44285714285714284 score 0.5818320436672753\n",
      "train-epoch-loss:0.0143 valid-epoch-loss:0.0056 valid-beta4-score:0.5818\n"
     ]
    },
    {
     "name": "stderr",
     "output_type": "stream",
     "text": [
      "Epoch 67/150 [Training]: 100%|██████████| 88/88 [01:34<00:00,  1.08s/it, loss=0.0151]\n",
      "Epoch 67/150 [Validation]: 100%|██████████| 1/1 [00:00<00:00,  1.32it/s, loss=0.0157]\n",
      "100%|██████████| 15/15 [00:36<00:00,  2.45s/it]\n"
     ]
    },
    {
     "name": "stdout",
     "output_type": "stream",
     "text": [
      "constant 0.6142857142857143 score 0.6112718032932094\n",
      "train-epoch-loss:0.0151 valid-epoch-loss:0.0157 valid-beta4-score:0.6113\n"
     ]
    },
    {
     "name": "stderr",
     "output_type": "stream",
     "text": [
      "Epoch 68/150 [Training]: 100%|██████████| 88/88 [01:37<00:00,  1.11s/it, loss=0.0155]\n",
      "Epoch 68/150 [Validation]: 100%|██████████| 1/1 [00:00<00:00,  1.26it/s, loss=0.0157]\n",
      "100%|██████████| 15/15 [00:35<00:00,  2.34s/it]\n"
     ]
    },
    {
     "name": "stdout",
     "output_type": "stream",
     "text": [
      "constant 0.2142857142857143 score 0.5642984570940847\n",
      "train-epoch-loss:0.0155 valid-epoch-loss:0.0157 valid-beta4-score:0.5643\n"
     ]
    },
    {
     "name": "stderr",
     "output_type": "stream",
     "text": [
      "Epoch 69/150 [Training]: 100%|██████████| 88/88 [01:29<00:00,  1.01s/it, loss=0.0154]\n",
      "Epoch 69/150 [Validation]: 100%|██████████| 1/1 [00:00<00:00,  1.30it/s, loss=0.0208]\n",
      "100%|██████████| 15/15 [00:35<00:00,  2.35s/it]\n"
     ]
    },
    {
     "name": "stdout",
     "output_type": "stream",
     "text": [
      "constant 0.5571428571428572 score 0.5949728620082383\n",
      "train-epoch-loss:0.0154 valid-epoch-loss:0.0208 valid-beta4-score:0.5950\n"
     ]
    },
    {
     "name": "stderr",
     "output_type": "stream",
     "text": [
      "Epoch 70/150 [Training]: 100%|██████████| 88/88 [01:39<00:00,  1.13s/it, loss=0.0175]\n",
      "Epoch 70/150 [Validation]: 100%|██████████| 1/1 [00:00<00:00,  1.30it/s, loss=0.0221]\n",
      "100%|██████████| 15/15 [00:33<00:00,  2.25s/it]\n"
     ]
    },
    {
     "name": "stdout",
     "output_type": "stream",
     "text": [
      "constant 0.6142857142857143 score 0.6030034738671185\n",
      "train-epoch-loss:0.0175 valid-epoch-loss:0.0221 valid-beta4-score:0.6030\n"
     ]
    },
    {
     "name": "stderr",
     "output_type": "stream",
     "text": [
      "Epoch 71/150 [Training]: 100%|██████████| 88/88 [01:37<00:00,  1.11s/it, loss=0.0145]\n",
      "Epoch 71/150 [Validation]: 100%|██████████| 1/1 [00:00<00:00,  1.32it/s, loss=0.0190]\n",
      "100%|██████████| 15/15 [00:35<00:00,  2.36s/it]\n"
     ]
    },
    {
     "name": "stdout",
     "output_type": "stream",
     "text": [
      "constant 0.15714285714285714 score 0.6273779032623438\n",
      "train-epoch-loss:0.0145 valid-epoch-loss:0.0190 valid-beta4-score:0.6274\n"
     ]
    },
    {
     "name": "stderr",
     "output_type": "stream",
     "text": [
      "Epoch 72/150 [Training]: 100%|██████████| 88/88 [01:35<00:00,  1.09s/it, loss=0.0149]\n",
      "Epoch 72/150 [Validation]: 100%|██████████| 1/1 [00:00<00:00,  1.27it/s, loss=0.0011]\n",
      "100%|██████████| 15/15 [00:33<00:00,  2.27s/it]\n"
     ]
    },
    {
     "name": "stdout",
     "output_type": "stream",
     "text": [
      "constant 0.27142857142857146 score 0.6490993486113397\n",
      "train-epoch-loss:0.0149 valid-epoch-loss:0.0011 valid-beta4-score:0.6491\n"
     ]
    },
    {
     "name": "stderr",
     "output_type": "stream",
     "text": [
      "Epoch 73/150 [Training]: 100%|██████████| 88/88 [01:33<00:00,  1.07s/it, loss=0.0146]\n",
      "Epoch 73/150 [Validation]: 100%|██████████| 1/1 [00:00<00:00,  1.29it/s, loss=0.0174]\n",
      "100%|██████████| 15/15 [00:33<00:00,  2.26s/it]\n"
     ]
    },
    {
     "name": "stdout",
     "output_type": "stream",
     "text": [
      "constant 0.5571428571428572 score 0.6377178394384029\n",
      "train-epoch-loss:0.0146 valid-epoch-loss:0.0174 valid-beta4-score:0.6377\n"
     ]
    },
    {
     "name": "stderr",
     "output_type": "stream",
     "text": [
      "Epoch 74/150 [Training]: 100%|██████████| 88/88 [01:36<00:00,  1.10s/it, loss=0.0166]\n",
      "Epoch 74/150 [Validation]: 100%|██████████| 1/1 [00:00<00:00,  1.31it/s, loss=0.0004]\n",
      "100%|██████████| 15/15 [00:34<00:00,  2.30s/it]\n"
     ]
    },
    {
     "name": "stdout",
     "output_type": "stream",
     "text": [
      "constant 0.27142857142857146 score 0.6958208630103506\n",
      "train-epoch-loss:0.0166 valid-epoch-loss:0.0004 valid-beta4-score:0.6958\n"
     ]
    },
    {
     "name": "stderr",
     "output_type": "stream",
     "text": [
      "Epoch 75/150 [Training]: 100%|██████████| 88/88 [01:30<00:00,  1.03s/it, loss=0.0146]\n",
      "Epoch 75/150 [Validation]: 100%|██████████| 1/1 [00:00<00:00,  1.27it/s, loss=0.0277]\n",
      "100%|██████████| 15/15 [00:34<00:00,  2.31s/it]\n"
     ]
    },
    {
     "name": "stdout",
     "output_type": "stream",
     "text": [
      "constant 0.44285714285714284 score 0.5431759781790019\n",
      "train-epoch-loss:0.0146 valid-epoch-loss:0.0277 valid-beta4-score:0.5432\n"
     ]
    },
    {
     "name": "stderr",
     "output_type": "stream",
     "text": [
      "Epoch 76/150 [Training]: 100%|██████████| 88/88 [01:35<00:00,  1.09s/it, loss=0.0138]\n",
      "Epoch 76/150 [Validation]: 100%|██████████| 1/1 [00:00<00:00,  1.23it/s, loss=0.0071]\n",
      "100%|██████████| 15/15 [00:34<00:00,  2.30s/it]\n"
     ]
    },
    {
     "name": "stdout",
     "output_type": "stream",
     "text": [
      "constant 0.2142857142857143 score 0.62942645541729\n",
      "train-epoch-loss:0.0138 valid-epoch-loss:0.0071 valid-beta4-score:0.6294\n"
     ]
    },
    {
     "name": "stderr",
     "output_type": "stream",
     "text": [
      "Epoch 77/150 [Training]: 100%|██████████| 88/88 [01:39<00:00,  1.14s/it, loss=0.0160]\n",
      "Epoch 77/150 [Validation]: 100%|██████████| 1/1 [00:00<00:00,  1.29it/s, loss=0.0187]\n",
      "100%|██████████| 15/15 [00:35<00:00,  2.37s/it]\n"
     ]
    },
    {
     "name": "stdout",
     "output_type": "stream",
     "text": [
      "constant 0.27142857142857146 score 0.6000746928095942\n",
      "train-epoch-loss:0.0160 valid-epoch-loss:0.0187 valid-beta4-score:0.6001\n"
     ]
    },
    {
     "name": "stderr",
     "output_type": "stream",
     "text": [
      "Epoch 78/150 [Training]: 100%|██████████| 88/88 [01:38<00:00,  1.12s/it, loss=0.0154]\n",
      "Epoch 78/150 [Validation]: 100%|██████████| 1/1 [00:00<00:00,  1.29it/s, loss=0.0198]\n",
      "100%|██████████| 15/15 [00:35<00:00,  2.36s/it]\n"
     ]
    },
    {
     "name": "stdout",
     "output_type": "stream",
     "text": [
      "constant 0.3285714285714286 score 0.6464299119606087\n",
      "train-epoch-loss:0.0154 valid-epoch-loss:0.0198 valid-beta4-score:0.6464\n"
     ]
    },
    {
     "name": "stderr",
     "output_type": "stream",
     "text": [
      "Epoch 79/150 [Training]: 100%|██████████| 88/88 [01:35<00:00,  1.09s/it, loss=0.0153]\n",
      "Epoch 79/150 [Validation]: 100%|██████████| 1/1 [00:00<00:00,  1.28it/s, loss=0.0174]\n",
      "100%|██████████| 15/15 [00:34<00:00,  2.30s/it]\n"
     ]
    },
    {
     "name": "stdout",
     "output_type": "stream",
     "text": [
      "constant 0.2142857142857143 score 0.5552246317248228\n",
      "train-epoch-loss:0.0153 valid-epoch-loss:0.0174 valid-beta4-score:0.5552\n"
     ]
    },
    {
     "name": "stderr",
     "output_type": "stream",
     "text": [
      "Epoch 80/150 [Training]: 100%|██████████| 88/88 [01:27<00:00,  1.01it/s, loss=0.0136]\n",
      "Epoch 80/150 [Validation]: 100%|██████████| 1/1 [00:00<00:00,  1.32it/s, loss=0.0192]\n",
      "100%|██████████| 15/15 [00:35<00:00,  2.35s/it]\n"
     ]
    },
    {
     "name": "stdout",
     "output_type": "stream",
     "text": [
      "constant 0.27142857142857146 score 0.6537702953843288\n",
      "train-epoch-loss:0.0136 valid-epoch-loss:0.0192 valid-beta4-score:0.6538\n"
     ]
    },
    {
     "name": "stderr",
     "output_type": "stream",
     "text": [
      "Epoch 81/150 [Training]: 100%|██████████| 88/88 [01:34<00:00,  1.07s/it, loss=0.0170]\n",
      "Epoch 81/150 [Validation]: 100%|██████████| 1/1 [00:00<00:00,  1.29it/s, loss=0.0096]\n",
      "100%|██████████| 15/15 [00:34<00:00,  2.30s/it]\n"
     ]
    },
    {
     "name": "stdout",
     "output_type": "stream",
     "text": [
      "constant 0.6142857142857143 score 0.5623966911034309\n",
      "train-epoch-loss:0.0170 valid-epoch-loss:0.0096 valid-beta4-score:0.5624\n"
     ]
    },
    {
     "name": "stderr",
     "output_type": "stream",
     "text": [
      "Epoch 82/150 [Training]: 100%|██████████| 88/88 [01:34<00:00,  1.07s/it, loss=0.0152]\n",
      "Epoch 82/150 [Validation]: 100%|██████████| 1/1 [00:00<00:00,  1.33it/s, loss=0.0287]\n",
      "100%|██████████| 15/15 [00:34<00:00,  2.31s/it]\n"
     ]
    },
    {
     "name": "stdout",
     "output_type": "stream",
     "text": [
      "constant 0.27142857142857146 score 0.5951612837549654\n",
      "train-epoch-loss:0.0152 valid-epoch-loss:0.0287 valid-beta4-score:0.5952\n"
     ]
    },
    {
     "name": "stderr",
     "output_type": "stream",
     "text": [
      "Epoch 83/150 [Training]: 100%|██████████| 88/88 [01:30<00:00,  1.02s/it, loss=0.0162]\n",
      "Epoch 83/150 [Validation]: 100%|██████████| 1/1 [00:00<00:00,  1.33it/s, loss=0.0203]\n",
      "100%|██████████| 15/15 [00:34<00:00,  2.27s/it]\n"
     ]
    },
    {
     "name": "stdout",
     "output_type": "stream",
     "text": [
      "constant 0.27142857142857146 score 0.6397353073020404\n",
      "train-epoch-loss:0.0162 valid-epoch-loss:0.0203 valid-beta4-score:0.6397\n"
     ]
    },
    {
     "name": "stderr",
     "output_type": "stream",
     "text": [
      "Epoch 84/150 [Training]: 100%|██████████| 88/88 [01:25<00:00,  1.03it/s, loss=0.0120]\n",
      "Epoch 84/150 [Validation]: 100%|██████████| 1/1 [00:00<00:00,  1.30it/s, loss=0.0196]\n",
      "100%|██████████| 15/15 [00:33<00:00,  2.23s/it]\n"
     ]
    },
    {
     "name": "stdout",
     "output_type": "stream",
     "text": [
      "constant 0.2142857142857143 score 0.6838349764720993\n",
      "train-epoch-loss:0.0120 valid-epoch-loss:0.0196 valid-beta4-score:0.6838\n"
     ]
    },
    {
     "name": "stderr",
     "output_type": "stream",
     "text": [
      "Epoch 85/150 [Training]: 100%|██████████| 88/88 [01:39<00:00,  1.13s/it, loss=0.0139]\n",
      "Epoch 85/150 [Validation]: 100%|██████████| 1/1 [00:00<00:00,  1.31it/s, loss=0.0175]\n",
      "100%|██████████| 15/15 [00:34<00:00,  2.33s/it]\n"
     ]
    },
    {
     "name": "stdout",
     "output_type": "stream",
     "text": [
      "constant 0.27142857142857146 score 0.5975996673131166\n",
      "train-epoch-loss:0.0139 valid-epoch-loss:0.0175 valid-beta4-score:0.5976\n"
     ]
    },
    {
     "name": "stderr",
     "output_type": "stream",
     "text": [
      "Epoch 86/150 [Training]: 100%|██████████| 88/88 [01:32<00:00,  1.05s/it, loss=0.0114]\n",
      "Epoch 86/150 [Validation]: 100%|██████████| 1/1 [00:00<00:00,  1.33it/s, loss=0.0004]\n",
      "100%|██████████| 15/15 [00:34<00:00,  2.29s/it]\n"
     ]
    },
    {
     "name": "stdout",
     "output_type": "stream",
     "text": [
      "constant 0.27142857142857146 score 0.6700206611996317\n",
      "train-epoch-loss:0.0114 valid-epoch-loss:0.0004 valid-beta4-score:0.6700\n"
     ]
    },
    {
     "name": "stderr",
     "output_type": "stream",
     "text": [
      "Epoch 87/150 [Training]: 100%|██████████| 88/88 [01:34<00:00,  1.07s/it, loss=0.0123]\n",
      "Epoch 87/150 [Validation]: 100%|██████████| 1/1 [00:00<00:00,  1.31it/s, loss=0.0211]\n",
      "100%|██████████| 15/15 [00:35<00:00,  2.36s/it]\n"
     ]
    },
    {
     "name": "stdout",
     "output_type": "stream",
     "text": [
      "constant 0.3285714285714286 score 0.7073793669130186\n",
      "train-epoch-loss:0.0123 valid-epoch-loss:0.0211 valid-beta4-score:0.7074\n"
     ]
    },
    {
     "name": "stderr",
     "output_type": "stream",
     "text": [
      "Epoch 88/150 [Training]: 100%|██████████| 88/88 [01:33<00:00,  1.07s/it, loss=0.0149]\n",
      "Epoch 88/150 [Validation]: 100%|██████████| 1/1 [00:00<00:00,  1.34it/s, loss=0.0182]\n",
      "100%|██████████| 15/15 [00:33<00:00,  2.21s/it]\n"
     ]
    },
    {
     "name": "stdout",
     "output_type": "stream",
     "text": [
      "constant 0.3857142857142858 score 0.5785255543570866\n",
      "train-epoch-loss:0.0149 valid-epoch-loss:0.0182 valid-beta4-score:0.5785\n"
     ]
    },
    {
     "name": "stderr",
     "output_type": "stream",
     "text": [
      "Epoch 89/150 [Training]: 100%|██████████| 88/88 [01:30<00:00,  1.03s/it, loss=0.0159]\n",
      "Epoch 89/150 [Validation]: 100%|██████████| 1/1 [00:00<00:00,  1.25it/s, loss=0.0027]\n",
      "100%|██████████| 15/15 [00:35<00:00,  2.38s/it]\n"
     ]
    },
    {
     "name": "stdout",
     "output_type": "stream",
     "text": [
      "constant 0.27142857142857146 score 0.577279033762108\n",
      "train-epoch-loss:0.0159 valid-epoch-loss:0.0027 valid-beta4-score:0.5773\n"
     ]
    },
    {
     "name": "stderr",
     "output_type": "stream",
     "text": [
      "Epoch 90/150 [Training]: 100%|██████████| 88/88 [01:33<00:00,  1.06s/it, loss=0.0121]\n",
      "Epoch 90/150 [Validation]: 100%|██████████| 1/1 [00:00<00:00,  1.30it/s, loss=0.0234]\n",
      "100%|██████████| 15/15 [00:33<00:00,  2.26s/it]\n"
     ]
    },
    {
     "name": "stdout",
     "output_type": "stream",
     "text": [
      "constant 0.27142857142857146 score 0.647168565235153\n",
      "train-epoch-loss:0.0121 valid-epoch-loss:0.0234 valid-beta4-score:0.6472\n"
     ]
    },
    {
     "name": "stderr",
     "output_type": "stream",
     "text": [
      "Epoch 91/150 [Training]: 100%|██████████| 88/88 [01:37<00:00,  1.11s/it, loss=0.0131]\n",
      "Epoch 91/150 [Validation]: 100%|██████████| 1/1 [00:00<00:00,  1.27it/s, loss=0.0069]\n",
      "100%|██████████| 15/15 [00:34<00:00,  2.27s/it]\n"
     ]
    },
    {
     "name": "stdout",
     "output_type": "stream",
     "text": [
      "constant 0.27142857142857146 score 0.6840579710144927\n",
      "train-epoch-loss:0.0131 valid-epoch-loss:0.0069 valid-beta4-score:0.6841\n"
     ]
    },
    {
     "name": "stderr",
     "output_type": "stream",
     "text": [
      "Epoch 92/150 [Training]: 100%|██████████| 88/88 [01:31<00:00,  1.03s/it, loss=0.0131]\n",
      "Epoch 92/150 [Validation]: 100%|██████████| 1/1 [00:00<00:00,  1.29it/s, loss=0.0037]\n",
      "100%|██████████| 15/15 [00:34<00:00,  2.28s/it]\n"
     ]
    },
    {
     "name": "stdout",
     "output_type": "stream",
     "text": [
      "constant 0.3857142857142858 score 0.669862466940513\n",
      "train-epoch-loss:0.0131 valid-epoch-loss:0.0037 valid-beta4-score:0.6699\n"
     ]
    },
    {
     "name": "stderr",
     "output_type": "stream",
     "text": [
      "Epoch 93/150 [Training]: 100%|██████████| 88/88 [01:37<00:00,  1.10s/it, loss=0.0136]\n",
      "Epoch 93/150 [Validation]: 100%|██████████| 1/1 [00:00<00:00,  1.28it/s, loss=0.0199]\n",
      "100%|██████████| 15/15 [00:36<00:00,  2.45s/it]\n"
     ]
    },
    {
     "name": "stdout",
     "output_type": "stream",
     "text": [
      "constant 0.3857142857142858 score 0.6692406682249846\n",
      "train-epoch-loss:0.0136 valid-epoch-loss:0.0199 valid-beta4-score:0.6692\n"
     ]
    },
    {
     "name": "stderr",
     "output_type": "stream",
     "text": [
      "Epoch 94/150 [Training]: 100%|██████████| 88/88 [01:39<00:00,  1.14s/it, loss=0.0134]\n",
      "Epoch 94/150 [Validation]: 100%|██████████| 1/1 [00:00<00:00,  1.28it/s, loss=0.0010]\n",
      "100%|██████████| 15/15 [00:33<00:00,  2.26s/it]\n"
     ]
    },
    {
     "name": "stdout",
     "output_type": "stream",
     "text": [
      "constant 0.3285714285714286 score 0.7491763091354892\n",
      "train-epoch-loss:0.0134 valid-epoch-loss:0.0010 valid-beta4-score:0.7492\n"
     ]
    },
    {
     "name": "stderr",
     "output_type": "stream",
     "text": [
      "Epoch 95/150 [Training]: 100%|██████████| 88/88 [01:35<00:00,  1.08s/it, loss=0.0136]\n",
      "Epoch 95/150 [Validation]: 100%|██████████| 1/1 [00:00<00:00,  1.26it/s, loss=0.0198]\n",
      "100%|██████████| 15/15 [00:35<00:00,  2.34s/it]\n"
     ]
    },
    {
     "name": "stdout",
     "output_type": "stream",
     "text": [
      "constant 0.3285714285714286 score 0.6933610215090483\n",
      "train-epoch-loss:0.0136 valid-epoch-loss:0.0198 valid-beta4-score:0.6934\n"
     ]
    },
    {
     "name": "stderr",
     "output_type": "stream",
     "text": [
      "Epoch 96/150 [Training]: 100%|██████████| 88/88 [01:44<00:00,  1.18s/it, loss=0.0131]\n",
      "Epoch 96/150 [Validation]: 100%|██████████| 1/1 [00:00<00:00,  1.29it/s, loss=0.0232]\n",
      "100%|██████████| 15/15 [00:35<00:00,  2.40s/it]\n"
     ]
    },
    {
     "name": "stdout",
     "output_type": "stream",
     "text": [
      "constant 0.3857142857142858 score 0.6779311622269185\n",
      "train-epoch-loss:0.0131 valid-epoch-loss:0.0232 valid-beta4-score:0.6779\n"
     ]
    },
    {
     "name": "stderr",
     "output_type": "stream",
     "text": [
      "Epoch 97/150 [Training]: 100%|██████████| 88/88 [01:25<00:00,  1.03it/s, loss=0.0134]\n",
      "Epoch 97/150 [Validation]: 100%|██████████| 1/1 [00:00<00:00,  1.28it/s, loss=0.0274]\n",
      "100%|██████████| 15/15 [00:34<00:00,  2.29s/it]\n"
     ]
    },
    {
     "name": "stdout",
     "output_type": "stream",
     "text": [
      "constant 0.27142857142857146 score 0.6242311011392315\n",
      "train-epoch-loss:0.0134 valid-epoch-loss:0.0274 valid-beta4-score:0.6242\n"
     ]
    },
    {
     "name": "stderr",
     "output_type": "stream",
     "text": [
      "Epoch 98/150 [Training]: 100%|██████████| 88/88 [01:37<00:00,  1.11s/it, loss=0.0125]\n",
      "Epoch 98/150 [Validation]: 100%|██████████| 1/1 [00:00<00:00,  1.28it/s, loss=0.0257]\n",
      "100%|██████████| 15/15 [00:36<00:00,  2.42s/it]\n"
     ]
    },
    {
     "name": "stdout",
     "output_type": "stream",
     "text": [
      "constant 0.3285714285714286 score 0.7016676337843961\n",
      "train-epoch-loss:0.0125 valid-epoch-loss:0.0257 valid-beta4-score:0.7017\n"
     ]
    },
    {
     "name": "stderr",
     "output_type": "stream",
     "text": [
      "Epoch 99/150 [Training]: 100%|██████████| 88/88 [01:29<00:00,  1.02s/it, loss=0.0130]\n",
      "Epoch 99/150 [Validation]: 100%|██████████| 1/1 [00:00<00:00,  1.32it/s, loss=0.0168]\n",
      "100%|██████████| 15/15 [00:33<00:00,  2.21s/it]\n"
     ]
    },
    {
     "name": "stdout",
     "output_type": "stream",
     "text": [
      "constant 0.3285714285714286 score 0.7096172762066894\n",
      "train-epoch-loss:0.0130 valid-epoch-loss:0.0168 valid-beta4-score:0.7096\n"
     ]
    },
    {
     "name": "stderr",
     "output_type": "stream",
     "text": [
      "Epoch 100/150 [Training]: 100%|██████████| 88/88 [01:35<00:00,  1.08s/it, loss=0.0144]\n",
      "Epoch 100/150 [Validation]: 100%|██████████| 1/1 [00:00<00:00,  1.30it/s, loss=0.0238]\n",
      "100%|██████████| 15/15 [00:35<00:00,  2.37s/it]\n"
     ]
    },
    {
     "name": "stdout",
     "output_type": "stream",
     "text": [
      "constant 0.3285714285714286 score 0.6854423119260064\n",
      "train-epoch-loss:0.0144 valid-epoch-loss:0.0238 valid-beta4-score:0.6854\n"
     ]
    },
    {
     "name": "stderr",
     "output_type": "stream",
     "text": [
      "Epoch 101/150 [Training]: 100%|██████████| 88/88 [01:37<00:00,  1.11s/it, loss=0.0144]\n",
      "Epoch 101/150 [Validation]: 100%|██████████| 1/1 [00:00<00:00,  1.28it/s, loss=0.0201]\n",
      "100%|██████████| 15/15 [00:33<00:00,  2.24s/it]\n"
     ]
    },
    {
     "name": "stdout",
     "output_type": "stream",
     "text": [
      "constant 0.44285714285714284 score 0.7206831182693954\n",
      "train-epoch-loss:0.0144 valid-epoch-loss:0.0201 valid-beta4-score:0.7207\n"
     ]
    },
    {
     "name": "stderr",
     "output_type": "stream",
     "text": [
      "Epoch 102/150 [Training]: 100%|██████████| 88/88 [01:36<00:00,  1.10s/it, loss=0.0115]\n",
      "Epoch 102/150 [Validation]: 100%|██████████| 1/1 [00:00<00:00,  1.34it/s, loss=0.0220]\n",
      "100%|██████████| 15/15 [00:35<00:00,  2.37s/it]\n"
     ]
    },
    {
     "name": "stdout",
     "output_type": "stream",
     "text": [
      "constant 0.3857142857142858 score 0.6930285691351937\n",
      "train-epoch-loss:0.0115 valid-epoch-loss:0.0220 valid-beta4-score:0.6930\n"
     ]
    },
    {
     "name": "stderr",
     "output_type": "stream",
     "text": [
      "Epoch 103/150 [Training]: 100%|██████████| 88/88 [01:28<00:00,  1.01s/it, loss=0.0132]\n",
      "Epoch 103/150 [Validation]: 100%|██████████| 1/1 [00:00<00:00,  1.29it/s, loss=0.0060]\n",
      "100%|██████████| 15/15 [00:35<00:00,  2.36s/it]\n"
     ]
    },
    {
     "name": "stdout",
     "output_type": "stream",
     "text": [
      "constant 0.27142857142857146 score 0.6772555849773746\n",
      "train-epoch-loss:0.0132 valid-epoch-loss:0.0060 valid-beta4-score:0.6773\n"
     ]
    },
    {
     "name": "stderr",
     "output_type": "stream",
     "text": [
      "Epoch 104/150 [Training]: 100%|██████████| 88/88 [01:32<00:00,  1.05s/it, loss=0.0125]\n",
      "Epoch 104/150 [Validation]: 100%|██████████| 1/1 [00:00<00:00,  1.30it/s, loss=0.0207]\n",
      "100%|██████████| 15/15 [00:35<00:00,  2.39s/it]\n"
     ]
    },
    {
     "name": "stdout",
     "output_type": "stream",
     "text": [
      "constant 0.5 score 0.7405746959732719\n",
      "train-epoch-loss:0.0125 valid-epoch-loss:0.0207 valid-beta4-score:0.7406\n"
     ]
    },
    {
     "name": "stderr",
     "output_type": "stream",
     "text": [
      "Epoch 105/150 [Training]: 100%|██████████| 88/88 [01:34<00:00,  1.07s/it, loss=0.0118]\n",
      "Epoch 105/150 [Validation]: 100%|██████████| 1/1 [00:00<00:00,  1.34it/s, loss=0.0158]\n",
      "100%|██████████| 15/15 [00:34<00:00,  2.32s/it]\n"
     ]
    },
    {
     "name": "stdout",
     "output_type": "stream",
     "text": [
      "constant 0.44285714285714284 score 0.728279525438168\n",
      "train-epoch-loss:0.0118 valid-epoch-loss:0.0158 valid-beta4-score:0.7283\n"
     ]
    },
    {
     "name": "stderr",
     "output_type": "stream",
     "text": [
      "Epoch 106/150 [Training]: 100%|██████████| 88/88 [01:25<00:00,  1.03it/s, loss=0.0110]\n",
      "Epoch 106/150 [Validation]: 100%|██████████| 1/1 [00:00<00:00,  1.30it/s, loss=0.0102]\n",
      "100%|██████████| 15/15 [00:35<00:00,  2.38s/it]\n"
     ]
    },
    {
     "name": "stdout",
     "output_type": "stream",
     "text": [
      "constant 0.5 score 0.749068441558661\n",
      "train-epoch-loss:0.0110 valid-epoch-loss:0.0102 valid-beta4-score:0.7491\n"
     ]
    },
    {
     "name": "stderr",
     "output_type": "stream",
     "text": [
      "Epoch 107/150 [Training]: 100%|██████████| 88/88 [01:39<00:00,  1.14s/it, loss=0.0136]\n",
      "Epoch 107/150 [Validation]: 100%|██████████| 1/1 [00:00<00:00,  1.32it/s, loss=0.0135]\n",
      "100%|██████████| 15/15 [00:34<00:00,  2.32s/it]\n"
     ]
    },
    {
     "name": "stdout",
     "output_type": "stream",
     "text": [
      "constant 0.44285714285714284 score 0.7609832895238633\n",
      "train-epoch-loss:0.0136 valid-epoch-loss:0.0135 valid-beta4-score:0.7610\n"
     ]
    },
    {
     "name": "stderr",
     "output_type": "stream",
     "text": [
      "Epoch 108/150 [Training]: 100%|██████████| 88/88 [01:33<00:00,  1.06s/it, loss=0.0112]\n",
      "Epoch 108/150 [Validation]: 100%|██████████| 1/1 [00:00<00:00,  1.34it/s, loss=0.0218]\n",
      "100%|██████████| 15/15 [00:35<00:00,  2.36s/it]\n"
     ]
    },
    {
     "name": "stdout",
     "output_type": "stream",
     "text": [
      "constant 0.3857142857142858 score 0.7577186284798685\n",
      "train-epoch-loss:0.0112 valid-epoch-loss:0.0218 valid-beta4-score:0.7577\n"
     ]
    },
    {
     "name": "stderr",
     "output_type": "stream",
     "text": [
      "Epoch 109/150 [Training]: 100%|██████████| 88/88 [01:36<00:00,  1.09s/it, loss=0.0114]\n",
      "Epoch 109/150 [Validation]: 100%|██████████| 1/1 [00:00<00:00,  1.32it/s, loss=0.0182]\n",
      "100%|██████████| 15/15 [00:34<00:00,  2.27s/it]\n"
     ]
    },
    {
     "name": "stdout",
     "output_type": "stream",
     "text": [
      "constant 0.44285714285714284 score 0.7309085803187702\n",
      "train-epoch-loss:0.0114 valid-epoch-loss:0.0182 valid-beta4-score:0.7309\n"
     ]
    },
    {
     "name": "stderr",
     "output_type": "stream",
     "text": [
      "Epoch 110/150 [Training]: 100%|██████████| 88/88 [01:34<00:00,  1.07s/it, loss=0.0103]\n",
      "Epoch 110/150 [Validation]: 100%|██████████| 1/1 [00:00<00:00,  1.33it/s, loss=0.0223]\n",
      "100%|██████████| 15/15 [00:35<00:00,  2.36s/it]\n"
     ]
    },
    {
     "name": "stdout",
     "output_type": "stream",
     "text": [
      "constant 0.5 score 0.7752431220489464\n",
      "train-epoch-loss:0.0103 valid-epoch-loss:0.0223 valid-beta4-score:0.7752\n"
     ]
    },
    {
     "name": "stderr",
     "output_type": "stream",
     "text": [
      "Epoch 111/150 [Training]: 100%|██████████| 88/88 [01:33<00:00,  1.07s/it, loss=0.0114]\n",
      "Epoch 111/150 [Validation]: 100%|██████████| 1/1 [00:00<00:00,  1.25it/s, loss=0.0191]\n",
      "100%|██████████| 15/15 [00:34<00:00,  2.32s/it]\n"
     ]
    },
    {
     "name": "stdout",
     "output_type": "stream",
     "text": [
      "constant 0.44285714285714284 score 0.7581413691980989\n",
      "train-epoch-loss:0.0114 valid-epoch-loss:0.0191 valid-beta4-score:0.7581\n"
     ]
    },
    {
     "name": "stderr",
     "output_type": "stream",
     "text": [
      "Epoch 112/150 [Training]: 100%|██████████| 88/88 [01:37<00:00,  1.10s/it, loss=0.0145]\n",
      "Epoch 112/150 [Validation]: 100%|██████████| 1/1 [00:00<00:00,  1.32it/s, loss=0.0192]\n",
      "100%|██████████| 15/15 [00:36<00:00,  2.41s/it]\n"
     ]
    },
    {
     "name": "stdout",
     "output_type": "stream",
     "text": [
      "constant 0.3857142857142858 score 0.5936136356866013\n",
      "train-epoch-loss:0.0145 valid-epoch-loss:0.0192 valid-beta4-score:0.5936\n"
     ]
    },
    {
     "name": "stderr",
     "output_type": "stream",
     "text": [
      "Epoch 113/150 [Training]: 100%|██████████| 88/88 [01:35<00:00,  1.08s/it, loss=0.0133]\n",
      "Epoch 113/150 [Validation]: 100%|██████████| 1/1 [00:00<00:00,  1.30it/s, loss=0.0221]\n",
      "100%|██████████| 15/15 [00:35<00:00,  2.36s/it]\n"
     ]
    },
    {
     "name": "stdout",
     "output_type": "stream",
     "text": [
      "constant 0.44285714285714284 score 0.7248376768568414\n",
      "train-epoch-loss:0.0133 valid-epoch-loss:0.0221 valid-beta4-score:0.7248\n"
     ]
    },
    {
     "name": "stderr",
     "output_type": "stream",
     "text": [
      "Epoch 114/150 [Training]: 100%|██████████| 88/88 [01:33<00:00,  1.07s/it, loss=0.0131]\n",
      "Epoch 114/150 [Validation]: 100%|██████████| 1/1 [00:00<00:00,  1.29it/s, loss=0.0214]\n",
      "100%|██████████| 15/15 [00:34<00:00,  2.29s/it]\n"
     ]
    },
    {
     "name": "stdout",
     "output_type": "stream",
     "text": [
      "constant 0.44285714285714284 score 0.7940692304884733\n",
      "train-epoch-loss:0.0131 valid-epoch-loss:0.0214 valid-beta4-score:0.7941\n"
     ]
    },
    {
     "name": "stderr",
     "output_type": "stream",
     "text": [
      "Epoch 115/150 [Training]: 100%|██████████| 88/88 [01:37<00:00,  1.11s/it, loss=0.0126]\n",
      "Epoch 115/150 [Validation]: 100%|██████████| 1/1 [00:00<00:00,  1.30it/s, loss=0.0150]\n",
      "100%|██████████| 15/15 [00:35<00:00,  2.36s/it]\n"
     ]
    },
    {
     "name": "stdout",
     "output_type": "stream",
     "text": [
      "constant 0.3857142857142858 score 0.7654679469893981\n",
      "train-epoch-loss:0.0126 valid-epoch-loss:0.0150 valid-beta4-score:0.7655\n"
     ]
    },
    {
     "name": "stderr",
     "output_type": "stream",
     "text": [
      "Epoch 116/150 [Training]: 100%|██████████| 88/88 [01:38<00:00,  1.12s/it, loss=0.0115]\n",
      "Epoch 116/150 [Validation]: 100%|██████████| 1/1 [00:00<00:00,  1.27it/s, loss=0.0158]\n",
      "100%|██████████| 15/15 [00:36<00:00,  2.42s/it]\n"
     ]
    },
    {
     "name": "stdout",
     "output_type": "stream",
     "text": [
      "constant 0.5 score 0.7656519811556093\n",
      "train-epoch-loss:0.0115 valid-epoch-loss:0.0158 valid-beta4-score:0.7657\n"
     ]
    },
    {
     "name": "stderr",
     "output_type": "stream",
     "text": [
      "Epoch 117/150 [Training]: 100%|██████████| 88/88 [01:33<00:00,  1.06s/it, loss=0.0126]\n",
      "Epoch 117/150 [Validation]: 100%|██████████| 1/1 [00:00<00:00,  1.28it/s, loss=0.0061]\n",
      "100%|██████████| 15/15 [00:36<00:00,  2.42s/it]\n"
     ]
    },
    {
     "name": "stdout",
     "output_type": "stream",
     "text": [
      "constant 0.3857142857142858 score 0.5983791793755991\n",
      "train-epoch-loss:0.0126 valid-epoch-loss:0.0061 valid-beta4-score:0.5984\n"
     ]
    },
    {
     "name": "stderr",
     "output_type": "stream",
     "text": [
      "Epoch 118/150 [Training]: 100%|██████████| 88/88 [01:29<00:00,  1.02s/it, loss=0.0110]\n",
      "Epoch 118/150 [Validation]: 100%|██████████| 1/1 [00:00<00:00,  1.27it/s, loss=0.0043]\n",
      "100%|██████████| 15/15 [00:36<00:00,  2.45s/it]\n"
     ]
    },
    {
     "name": "stdout",
     "output_type": "stream",
     "text": [
      "constant 0.44285714285714284 score 0.7586720026329029\n",
      "train-epoch-loss:0.0110 valid-epoch-loss:0.0043 valid-beta4-score:0.7587\n"
     ]
    },
    {
     "name": "stderr",
     "output_type": "stream",
     "text": [
      "Epoch 119/150 [Training]: 100%|██████████| 88/88 [01:32<00:00,  1.05s/it, loss=0.0099]\n",
      "Epoch 119/150 [Validation]: 100%|██████████| 1/1 [00:00<00:00,  1.26it/s, loss=0.0316]\n",
      "100%|██████████| 15/15 [00:34<00:00,  2.27s/it]\n"
     ]
    },
    {
     "name": "stdout",
     "output_type": "stream",
     "text": [
      "constant 0.5571428571428572 score 0.7602553445671992\n",
      "train-epoch-loss:0.0099 valid-epoch-loss:0.0316 valid-beta4-score:0.7603\n"
     ]
    },
    {
     "name": "stderr",
     "output_type": "stream",
     "text": [
      "Epoch 120/150 [Training]: 100%|██████████| 88/88 [01:27<00:00,  1.01it/s, loss=0.0106]\n",
      "Epoch 120/150 [Validation]: 100%|██████████| 1/1 [00:00<00:00,  1.36it/s, loss=0.0227]\n",
      "100%|██████████| 15/15 [00:36<00:00,  2.40s/it]\n"
     ]
    },
    {
     "name": "stdout",
     "output_type": "stream",
     "text": [
      "constant 0.44285714285714284 score 0.762545568475435\n",
      "train-epoch-loss:0.0106 valid-epoch-loss:0.0227 valid-beta4-score:0.7625\n"
     ]
    },
    {
     "name": "stderr",
     "output_type": "stream",
     "text": [
      "Epoch 121/150 [Training]: 100%|██████████| 88/88 [01:26<00:00,  1.02it/s, loss=0.0097]\n",
      "Epoch 121/150 [Validation]: 100%|██████████| 1/1 [00:00<00:00,  1.27it/s, loss=0.0027]\n",
      "100%|██████████| 15/15 [00:34<00:00,  2.31s/it]\n"
     ]
    },
    {
     "name": "stdout",
     "output_type": "stream",
     "text": [
      "constant 0.5 score 0.796385703792619\n",
      "train-epoch-loss:0.0097 valid-epoch-loss:0.0027 valid-beta4-score:0.7964\n"
     ]
    },
    {
     "name": "stderr",
     "output_type": "stream",
     "text": [
      "Epoch 122/150 [Training]: 100%|██████████| 88/88 [01:34<00:00,  1.07s/it, loss=0.0112]\n",
      "Epoch 122/150 [Validation]: 100%|██████████| 1/1 [00:00<00:00,  1.32it/s, loss=0.0141]\n",
      "100%|██████████| 15/15 [00:36<00:00,  2.42s/it]\n"
     ]
    },
    {
     "name": "stdout",
     "output_type": "stream",
     "text": [
      "constant 0.5571428571428572 score 0.7441842131551576\n",
      "train-epoch-loss:0.0112 valid-epoch-loss:0.0141 valid-beta4-score:0.7442\n"
     ]
    },
    {
     "name": "stderr",
     "output_type": "stream",
     "text": [
      "Epoch 123/150 [Training]: 100%|██████████| 88/88 [01:28<00:00,  1.01s/it, loss=0.0123]\n",
      "Epoch 123/150 [Validation]: 100%|██████████| 1/1 [00:00<00:00,  1.32it/s, loss=0.0227]\n",
      "100%|██████████| 15/15 [00:35<00:00,  2.36s/it]\n"
     ]
    },
    {
     "name": "stdout",
     "output_type": "stream",
     "text": [
      "constant 0.5 score 0.7506327205135361\n",
      "train-epoch-loss:0.0123 valid-epoch-loss:0.0227 valid-beta4-score:0.7506\n"
     ]
    },
    {
     "name": "stderr",
     "output_type": "stream",
     "text": [
      "Epoch 124/150 [Training]: 100%|██████████| 88/88 [01:34<00:00,  1.07s/it, loss=0.0131]\n",
      "Epoch 124/150 [Validation]: 100%|██████████| 1/1 [00:00<00:00,  1.32it/s, loss=0.0042]\n",
      "100%|██████████| 15/15 [00:34<00:00,  2.33s/it]\n"
     ]
    },
    {
     "name": "stdout",
     "output_type": "stream",
     "text": [
      "constant 0.5 score 0.7039782458535152\n",
      "train-epoch-loss:0.0131 valid-epoch-loss:0.0042 valid-beta4-score:0.7040\n"
     ]
    },
    {
     "name": "stderr",
     "output_type": "stream",
     "text": [
      "Epoch 125/150 [Training]: 100%|██████████| 88/88 [01:27<00:00,  1.01it/s, loss=0.0110]\n",
      "Epoch 125/150 [Validation]: 100%|██████████| 1/1 [00:00<00:00,  1.32it/s, loss=0.0186]\n",
      "100%|██████████| 15/15 [00:36<00:00,  2.42s/it]\n"
     ]
    },
    {
     "name": "stdout",
     "output_type": "stream",
     "text": [
      "constant 0.5571428571428572 score 0.7995877287672775\n",
      "train-epoch-loss:0.0110 valid-epoch-loss:0.0186 valid-beta4-score:0.7996\n"
     ]
    },
    {
     "name": "stderr",
     "output_type": "stream",
     "text": [
      "Epoch 126/150 [Training]: 100%|██████████| 88/88 [01:33<00:00,  1.06s/it, loss=0.0121]\n",
      "Epoch 126/150 [Validation]: 100%|██████████| 1/1 [00:00<00:00,  1.30it/s, loss=0.0308]\n",
      "100%|██████████| 15/15 [00:35<00:00,  2.39s/it]\n"
     ]
    },
    {
     "name": "stdout",
     "output_type": "stream",
     "text": [
      "constant 0.5571428571428572 score 0.7540664496889679\n",
      "train-epoch-loss:0.0121 valid-epoch-loss:0.0308 valid-beta4-score:0.7541\n"
     ]
    },
    {
     "name": "stderr",
     "output_type": "stream",
     "text": [
      "Epoch 127/150 [Training]: 100%|██████████| 88/88 [01:32<00:00,  1.05s/it, loss=0.0108]\n",
      "Epoch 127/150 [Validation]: 100%|██████████| 1/1 [00:00<00:00,  1.26it/s, loss=0.0297]\n",
      "100%|██████████| 15/15 [00:36<00:00,  2.40s/it]\n"
     ]
    },
    {
     "name": "stdout",
     "output_type": "stream",
     "text": [
      "constant 0.5 score 0.7771555968115292\n",
      "train-epoch-loss:0.0108 valid-epoch-loss:0.0297 valid-beta4-score:0.7772\n"
     ]
    },
    {
     "name": "stderr",
     "output_type": "stream",
     "text": [
      "Epoch 128/150 [Training]: 100%|██████████| 88/88 [01:39<00:00,  1.13s/it, loss=0.0124]\n",
      "Epoch 128/150 [Validation]: 100%|██████████| 1/1 [00:00<00:00,  1.25it/s, loss=0.0215]\n",
      "100%|██████████| 15/15 [00:36<00:00,  2.41s/it]\n"
     ]
    },
    {
     "name": "stdout",
     "output_type": "stream",
     "text": [
      "constant 0.5 score 0.7649576795478394\n",
      "train-epoch-loss:0.0124 valid-epoch-loss:0.0215 valid-beta4-score:0.7650\n"
     ]
    },
    {
     "name": "stderr",
     "output_type": "stream",
     "text": [
      "Epoch 129/150 [Training]: 100%|██████████| 88/88 [01:39<00:00,  1.13s/it, loss=0.0125]\n",
      "Epoch 129/150 [Validation]: 100%|██████████| 1/1 [00:00<00:00,  1.28it/s, loss=0.0273]\n",
      "100%|██████████| 15/15 [00:36<00:00,  2.44s/it]\n"
     ]
    },
    {
     "name": "stdout",
     "output_type": "stream",
     "text": [
      "constant 0.44285714285714284 score 0.777375790570801\n",
      "train-epoch-loss:0.0125 valid-epoch-loss:0.0273 valid-beta4-score:0.7774\n"
     ]
    },
    {
     "name": "stderr",
     "output_type": "stream",
     "text": [
      "Epoch 130/150 [Training]: 100%|██████████| 88/88 [01:34<00:00,  1.07s/it, loss=0.0133]\n",
      "Epoch 130/150 [Validation]: 100%|██████████| 1/1 [00:00<00:00,  1.30it/s, loss=0.0090]\n",
      "100%|██████████| 15/15 [00:36<00:00,  2.45s/it]\n"
     ]
    },
    {
     "name": "stdout",
     "output_type": "stream",
     "text": [
      "constant 0.44285714285714284 score 0.7666093165399317\n",
      "train-epoch-loss:0.0133 valid-epoch-loss:0.0090 valid-beta4-score:0.7666\n"
     ]
    },
    {
     "name": "stderr",
     "output_type": "stream",
     "text": [
      "Epoch 131/150 [Training]: 100%|██████████| 88/88 [01:26<00:00,  1.01it/s, loss=0.0106]\n",
      "Epoch 131/150 [Validation]: 100%|██████████| 1/1 [00:00<00:00,  1.31it/s, loss=0.0003]\n",
      "100%|██████████| 15/15 [00:36<00:00,  2.42s/it]\n"
     ]
    },
    {
     "name": "stdout",
     "output_type": "stream",
     "text": [
      "constant 0.44285714285714284 score 0.7394855948249744\n",
      "train-epoch-loss:0.0106 valid-epoch-loss:0.0003 valid-beta4-score:0.7395\n"
     ]
    },
    {
     "name": "stderr",
     "output_type": "stream",
     "text": [
      "Epoch 132/150 [Training]: 100%|██████████| 88/88 [01:25<00:00,  1.02it/s, loss=0.0108]\n",
      "Epoch 132/150 [Validation]: 100%|██████████| 1/1 [00:00<00:00,  1.27it/s, loss=0.0142]\n",
      "100%|██████████| 15/15 [00:35<00:00,  2.35s/it]\n"
     ]
    },
    {
     "name": "stdout",
     "output_type": "stream",
     "text": [
      "constant 0.5 score 0.7751176910510285\n",
      "train-epoch-loss:0.0108 valid-epoch-loss:0.0142 valid-beta4-score:0.7751\n"
     ]
    },
    {
     "name": "stderr",
     "output_type": "stream",
     "text": [
      "Epoch 133/150 [Training]: 100%|██████████| 88/88 [01:33<00:00,  1.06s/it, loss=0.0095]\n",
      "Epoch 133/150 [Validation]: 100%|██████████| 1/1 [00:00<00:00,  1.24it/s, loss=0.0197]\n",
      "100%|██████████| 15/15 [00:35<00:00,  2.39s/it]\n"
     ]
    },
    {
     "name": "stdout",
     "output_type": "stream",
     "text": [
      "constant 0.5 score 0.7565658988845619\n",
      "train-epoch-loss:0.0095 valid-epoch-loss:0.0197 valid-beta4-score:0.7566\n"
     ]
    },
    {
     "name": "stderr",
     "output_type": "stream",
     "text": [
      "Epoch 134/150 [Training]: 100%|██████████| 88/88 [01:36<00:00,  1.10s/it, loss=0.0127]\n",
      "Epoch 134/150 [Validation]: 100%|██████████| 1/1 [00:00<00:00,  1.25it/s, loss=0.0176]\n",
      "100%|██████████| 15/15 [00:36<00:00,  2.41s/it]\n"
     ]
    },
    {
     "name": "stdout",
     "output_type": "stream",
     "text": [
      "constant 0.44285714285714284 score 0.7716553230815439\n",
      "train-epoch-loss:0.0127 valid-epoch-loss:0.0176 valid-beta4-score:0.7717\n"
     ]
    },
    {
     "name": "stderr",
     "output_type": "stream",
     "text": [
      "Epoch 135/150 [Training]: 100%|██████████| 88/88 [01:39<00:00,  1.13s/it, loss=0.0121]\n",
      "Epoch 135/150 [Validation]: 100%|██████████| 1/1 [00:00<00:00,  1.30it/s, loss=0.0078]\n",
      "100%|██████████| 15/15 [00:36<00:00,  2.43s/it]\n"
     ]
    },
    {
     "name": "stdout",
     "output_type": "stream",
     "text": [
      "constant 0.5 score 0.7183370156604711\n",
      "train-epoch-loss:0.0121 valid-epoch-loss:0.0078 valid-beta4-score:0.7183\n"
     ]
    },
    {
     "name": "stderr",
     "output_type": "stream",
     "text": [
      "Epoch 136/150 [Training]: 100%|██████████| 88/88 [01:36<00:00,  1.10s/it, loss=0.0094]\n",
      "Epoch 136/150 [Validation]: 100%|██████████| 1/1 [00:00<00:00,  1.26it/s, loss=0.0002]\n",
      "100%|██████████| 15/15 [00:36<00:00,  2.42s/it]\n"
     ]
    },
    {
     "name": "stdout",
     "output_type": "stream",
     "text": [
      "constant 0.44285714285714284 score 0.7748167101600819\n",
      "train-epoch-loss:0.0094 valid-epoch-loss:0.0002 valid-beta4-score:0.7748\n"
     ]
    },
    {
     "name": "stderr",
     "output_type": "stream",
     "text": [
      "Epoch 137/150 [Training]: 100%|██████████| 88/88 [01:26<00:00,  1.02it/s, loss=0.0110]\n",
      "Epoch 137/150 [Validation]: 100%|██████████| 1/1 [00:00<00:00,  1.26it/s, loss=0.0175]\n",
      "100%|██████████| 15/15 [00:37<00:00,  2.48s/it]\n"
     ]
    },
    {
     "name": "stdout",
     "output_type": "stream",
     "text": [
      "constant 0.44285714285714284 score 0.7793783072924667\n",
      "train-epoch-loss:0.0110 valid-epoch-loss:0.0175 valid-beta4-score:0.7794\n"
     ]
    },
    {
     "name": "stderr",
     "output_type": "stream",
     "text": [
      "Epoch 138/150 [Training]: 100%|██████████| 88/88 [01:34<00:00,  1.07s/it, loss=0.0114]\n",
      "Epoch 138/150 [Validation]: 100%|██████████| 1/1 [00:00<00:00,  1.27it/s, loss=0.0069]\n",
      "100%|██████████| 15/15 [00:36<00:00,  2.42s/it]\n"
     ]
    },
    {
     "name": "stdout",
     "output_type": "stream",
     "text": [
      "constant 0.5 score 0.7651740934694393\n",
      "train-epoch-loss:0.0114 valid-epoch-loss:0.0069 valid-beta4-score:0.7652\n"
     ]
    },
    {
     "name": "stderr",
     "output_type": "stream",
     "text": [
      "Epoch 139/150 [Training]: 100%|██████████| 88/88 [01:27<00:00,  1.01it/s, loss=0.0098]\n",
      "Epoch 139/150 [Validation]: 100%|██████████| 1/1 [00:00<00:00,  1.25it/s, loss=0.0190]\n",
      "100%|██████████| 15/15 [00:36<00:00,  2.42s/it]\n"
     ]
    },
    {
     "name": "stdout",
     "output_type": "stream",
     "text": [
      "constant 0.44285714285714284 score 0.762269822675914\n",
      "train-epoch-loss:0.0098 valid-epoch-loss:0.0190 valid-beta4-score:0.7623\n"
     ]
    },
    {
     "name": "stderr",
     "output_type": "stream",
     "text": [
      "Epoch 140/150 [Training]: 100%|██████████| 88/88 [01:28<00:00,  1.01s/it, loss=0.0095]\n",
      "Epoch 140/150 [Validation]: 100%|██████████| 1/1 [00:00<00:00,  1.27it/s, loss=0.0286]\n",
      "100%|██████████| 15/15 [00:35<00:00,  2.39s/it]\n"
     ]
    },
    {
     "name": "stdout",
     "output_type": "stream",
     "text": [
      "constant 0.5 score 0.7712774244353874\n",
      "train-epoch-loss:0.0095 valid-epoch-loss:0.0286 valid-beta4-score:0.7713\n"
     ]
    },
    {
     "name": "stderr",
     "output_type": "stream",
     "text": [
      "Epoch 141/150 [Training]: 100%|██████████| 88/88 [01:38<00:00,  1.12s/it, loss=0.0092]\n",
      "Epoch 141/150 [Validation]: 100%|██████████| 1/1 [00:00<00:00,  1.30it/s, loss=0.0216]\n",
      "100%|██████████| 15/15 [00:35<00:00,  2.40s/it]\n"
     ]
    },
    {
     "name": "stdout",
     "output_type": "stream",
     "text": [
      "constant 0.5 score 0.784701146652005\n",
      "train-epoch-loss:0.0092 valid-epoch-loss:0.0216 valid-beta4-score:0.7847\n"
     ]
    },
    {
     "name": "stderr",
     "output_type": "stream",
     "text": [
      "Epoch 142/150 [Training]: 100%|██████████| 88/88 [01:27<00:00,  1.01it/s, loss=0.0098]\n",
      "Epoch 142/150 [Validation]: 100%|██████████| 1/1 [00:00<00:00,  1.31it/s, loss=0.0190]\n",
      "100%|██████████| 15/15 [00:36<00:00,  2.46s/it]\n"
     ]
    },
    {
     "name": "stdout",
     "output_type": "stream",
     "text": [
      "constant 0.5 score 0.7757149770604753\n",
      "train-epoch-loss:0.0098 valid-epoch-loss:0.0190 valid-beta4-score:0.7757\n"
     ]
    },
    {
     "name": "stderr",
     "output_type": "stream",
     "text": [
      "Epoch 143/150 [Training]: 100%|██████████| 88/88 [01:26<00:00,  1.02it/s, loss=0.0112]\n",
      "Epoch 143/150 [Validation]: 100%|██████████| 1/1 [00:00<00:00,  1.27it/s, loss=0.0040]\n",
      "100%|██████████| 15/15 [00:36<00:00,  2.41s/it]\n"
     ]
    },
    {
     "name": "stdout",
     "output_type": "stream",
     "text": [
      "constant 0.44285714285714284 score 0.7789353498463483\n",
      "train-epoch-loss:0.0112 valid-epoch-loss:0.0040 valid-beta4-score:0.7789\n"
     ]
    },
    {
     "name": "stderr",
     "output_type": "stream",
     "text": [
      "Epoch 144/150 [Training]: 100%|██████████| 88/88 [01:33<00:00,  1.07s/it, loss=0.0119]\n",
      "Epoch 144/150 [Validation]: 100%|██████████| 1/1 [00:00<00:00,  1.22it/s, loss=0.0227]\n",
      "100%|██████████| 15/15 [00:35<00:00,  2.36s/it]\n"
     ]
    },
    {
     "name": "stdout",
     "output_type": "stream",
     "text": [
      "constant 0.5 score 0.7923479294004867\n",
      "train-epoch-loss:0.0119 valid-epoch-loss:0.0227 valid-beta4-score:0.7923\n"
     ]
    },
    {
     "name": "stderr",
     "output_type": "stream",
     "text": [
      "Epoch 145/150 [Training]: 100%|██████████| 88/88 [01:40<00:00,  1.14s/it, loss=0.0090]\n",
      "Epoch 145/150 [Validation]: 100%|██████████| 1/1 [00:00<00:00,  1.30it/s, loss=0.0280]\n",
      "100%|██████████| 15/15 [00:36<00:00,  2.44s/it]\n"
     ]
    },
    {
     "name": "stdout",
     "output_type": "stream",
     "text": [
      "constant 0.44285714285714284 score 0.7631100762514367\n",
      "train-epoch-loss:0.0090 valid-epoch-loss:0.0280 valid-beta4-score:0.7631\n"
     ]
    },
    {
     "name": "stderr",
     "output_type": "stream",
     "text": [
      "Epoch 146/150 [Training]: 100%|██████████| 88/88 [01:38<00:00,  1.12s/it, loss=0.0135]\n",
      "Epoch 146/150 [Validation]: 100%|██████████| 1/1 [00:00<00:00,  1.30it/s, loss=0.0054]\n",
      "100%|██████████| 15/15 [00:36<00:00,  2.41s/it]\n"
     ]
    },
    {
     "name": "stdout",
     "output_type": "stream",
     "text": [
      "constant 0.5 score 0.7342484210104036\n",
      "train-epoch-loss:0.0135 valid-epoch-loss:0.0054 valid-beta4-score:0.7342\n"
     ]
    },
    {
     "name": "stderr",
     "output_type": "stream",
     "text": [
      "Epoch 147/150 [Training]: 100%|██████████| 88/88 [01:33<00:00,  1.06s/it, loss=0.0112]\n",
      "Epoch 147/150 [Validation]: 100%|██████████| 1/1 [00:00<00:00,  1.27it/s, loss=0.0164]\n",
      "100%|██████████| 15/15 [00:34<00:00,  2.30s/it]\n"
     ]
    },
    {
     "name": "stdout",
     "output_type": "stream",
     "text": [
      "constant 0.5 score 0.7783164519757164\n",
      "train-epoch-loss:0.0112 valid-epoch-loss:0.0164 valid-beta4-score:0.7783\n"
     ]
    },
    {
     "name": "stderr",
     "output_type": "stream",
     "text": [
      "Epoch 148/150 [Training]: 100%|██████████| 88/88 [01:33<00:00,  1.06s/it, loss=0.0095]\n",
      "Epoch 148/150 [Validation]: 100%|██████████| 1/1 [00:00<00:00,  1.25it/s, loss=0.0240]\n",
      "100%|██████████| 15/15 [00:35<00:00,  2.37s/it]\n"
     ]
    },
    {
     "name": "stdout",
     "output_type": "stream",
     "text": [
      "constant 0.5 score 0.7710106584456504\n",
      "train-epoch-loss:0.0095 valid-epoch-loss:0.0240 valid-beta4-score:0.7710\n"
     ]
    },
    {
     "name": "stderr",
     "output_type": "stream",
     "text": [
      "Epoch 149/150 [Training]: 100%|██████████| 88/88 [01:41<00:00,  1.15s/it, loss=0.0111]\n",
      "Epoch 149/150 [Validation]: 100%|██████████| 1/1 [00:00<00:00,  1.26it/s, loss=0.0173]\n",
      "100%|██████████| 15/15 [00:35<00:00,  2.37s/it]\n"
     ]
    },
    {
     "name": "stdout",
     "output_type": "stream",
     "text": [
      "constant 0.5 score 0.7867603112140975\n",
      "train-epoch-loss:0.0111 valid-epoch-loss:0.0173 valid-beta4-score:0.7868\n"
     ]
    },
    {
     "name": "stderr",
     "output_type": "stream",
     "text": [
      "Epoch 150/150 [Training]: 100%|██████████| 88/88 [01:41<00:00,  1.16s/it, loss=0.0124]\n",
      "Epoch 150/150 [Validation]: 100%|██████████| 1/1 [00:00<00:00,  1.30it/s, loss=0.0054]\n",
      "100%|██████████| 15/15 [00:36<00:00,  2.45s/it]"
     ]
    },
    {
     "name": "stdout",
     "output_type": "stream",
     "text": [
      "constant 0.5 score 0.7582713074844138\n",
      "train-epoch-loss:0.0124 valid-epoch-loss:0.0054 valid-beta4-score:0.7583\n"
     ]
    },
    {
     "name": "stderr",
     "output_type": "stream",
     "text": [
      "\n"
     ]
    }
   ],
   "source": [
    "best_model = None\n",
    "best_constant = 0\n",
    "best_score = -100\n",
    "\n",
    "grand_train_loss = []\n",
    "grand_valid_loss = []\n",
    "grand_train_score = []\n",
    "grand_valid_score = []\n",
    "\n",
    "for epoch in range(CFG.epochs):\n",
    "    model.train()\n",
    "    train_loss = []\n",
    "    valid_loss = []\n",
    "    with tqdm(train_loader, desc=f\"Epoch {epoch + 1}/{CFG.epochs} [Training]\") as tq:\n",
    "        for data in tq:\n",
    "            normalized_tomogram = data[\"normalized_tomogram\"]\n",
    "            segmentation_map = data[\"segmentation_map\"]\n",
    "\n",
    "            normalized_tomogram = padf(normalized_tomogram)\n",
    "            segmentation_map = padf(segmentation_map)\n",
    "\n",
    "            # データ拡張\n",
    "            normalized_tomogram, segmentation_map = augment_data(\n",
    "                normalized_tomogram, segmentation_map, p=CFG.augmentation_prob\n",
    "            )\n",
    "            normalized_tomogram = normalized_tomogram.cuda()\n",
    "            segmentation_map = segmentation_map.long().cuda()\n",
    "\n",
    "            optimizer.zero_grad()\n",
    "\n",
    "            with autocast():\n",
    "                pred = model(preprocess_tensor(normalized_tomogram))\n",
    "                loss = seg_loss(pred, segmentation_map)\n",
    "            # loss.backward()\n",
    "            # optimizer.step()\n",
    "            scaler.scale(loss).backward()\n",
    "            scaler.step(optimizer)\n",
    "            scaler.update()\n",
    "            scheduler.step()\n",
    "            train_loss.append(loss.item())\n",
    "\n",
    "            # 確率予測\n",
    "            prob_pred = torch.softmax(pred, dim=1)\n",
    "            tq.set_postfix({\"loss\": f\"{np.mean(train_loss):.4f}\"})\n",
    "\n",
    "    with tqdm(valid_loader, desc=f\"Epoch {epoch + 1}/{CFG.epochs} [Validation]\") as tq:\n",
    "        for data in tq:\n",
    "            normalized_tomogram = data[\"normalized_tomogram\"].cuda()\n",
    "            segmentation_map = data[\"segmentation_map\"].long().cuda()\n",
    "\n",
    "            normalized_tomogram = padf(normalized_tomogram)\n",
    "            segmentation_map = padf(segmentation_map)\n",
    "\n",
    "            with autocast():\n",
    "                pred = model(preprocess_tensor(normalized_tomogram))\n",
    "                loss = seg_loss(pred, segmentation_map)\n",
    "            valid_loss.append(loss.item())\n",
    "\n",
    "            # 確率予測\n",
    "            prob_pred = torch.softmax(pred, dim=1)\n",
    "            tq.set_postfix({\"loss\": f\"{np.mean(valid_loss):.4f}\"})\n",
    "\n",
    "    # # ############### validation ################\n",
    "    train_nshuffle_original_tomogram = defaultdict(list)\n",
    "    train_nshuffle_pred_tomogram = defaultdict(list)\n",
    "    train_nshuffle_gt_tomogram = defaultdict(list)\n",
    "\n",
    "    valid_original_tomogram = defaultdict(list)\n",
    "    valid_pred_tomogram = defaultdict(list)\n",
    "    valid_gt_tomogram = defaultdict(list)\n",
    "\n",
    "    train_mean_scores = []\n",
    "    valid_mean_scores = []\n",
    "\n",
    "    # モデルの保存\n",
    "    torch.save(model.state_dict(), \"./pretrained_model.pth\")\n",
    "\n",
    "    # ############### validation ################\n",
    "    train_nshuffle_original_tomogram = defaultdict(list)\n",
    "    train_nshuffle_pred_tomogram = defaultdict(list)\n",
    "    train_nshuffle_gt_tomogram = defaultdict(list)\n",
    "\n",
    "    valid_original_tomogram = defaultdict(list)\n",
    "    valid_pred_tomogram = defaultdict(list)\n",
    "    valid_gt_tomogram = defaultdict(list)\n",
    "\n",
    "    train_mean_scores = []\n",
    "    valid_mean_scores = []\n",
    "\n",
    "    train_inferenced_array = {}\n",
    "    train_pred_array = []\n",
    "    train_gt_array = []\n",
    "    valid_inferenced_array = {}\n",
    "    valid_gt_array = []\n",
    "\n",
    "    # for exp_name in tqdm(CFG.train_exp_names):\n",
    "    for exp_name in [CFG.valid_exp_name]:  # 5つのデータで試す\n",
    "        # inferenced_array = inference(model, exp_name, train=False)\n",
    "        inferenced_array, n_tomogram, segmentation_map = inference(\n",
    "            model, exp_name, train=False\n",
    "        )\n",
    "        valid_inferenced_array[exp_name] = inferenced_array\n",
    "        base_dir = \"../../inputs/train/overlay/ExperimentRuns/\"\n",
    "        gt_df = create_gt_df(base_dir, [exp_name])\n",
    "        valid_gt_array.append(gt_df)\n",
    "\n",
    "    valid_gt_array = pd.concat(valid_gt_array)\n",
    "\n",
    "    b_constant = 0\n",
    "    b_score = -100\n",
    "    for constant in tqdm(np.linspace(0.1, 0.9, 15)):\n",
    "        valid_pred_array = []\n",
    "        sikii = {\n",
    "            \"apo-ferritin\": constant,\n",
    "            \"beta-amylase\": constant,\n",
    "            \"beta-galactosidase\": constant,\n",
    "            \"ribosome\": constant,\n",
    "            \"thyroglobulin\": constant,\n",
    "            \"virus-like-particle\": constant,\n",
    "        }\n",
    "        for exp_name in [CFG.valid_exp_name]:  # 5つのデータで試す\n",
    "            pred_df = inference2pos(\n",
    "                pred_segmask=valid_inferenced_array[exp_name],\n",
    "                exp_name=exp_name,\n",
    "                sikii_dict=sikii,\n",
    "            )\n",
    "            valid_pred_array.append(pred_df)\n",
    "\n",
    "        valid_pred_array = pd.concat(valid_pred_array)\n",
    "\n",
    "        if len(valid_pred_array) != 0:\n",
    "            score_ = score(\n",
    "                valid_pred_array,\n",
    "                valid_gt_array,\n",
    "                row_id_column_name=\"index\",\n",
    "                distance_multiplier=1.0,\n",
    "                beta=4,\n",
    "            )\n",
    "            if score_ > b_score:\n",
    "                b_score = score_\n",
    "                b_constant = constant\n",
    "\n",
    "        import gc\n",
    "        import torch.cuda as cuda\n",
    "\n",
    "        gc.collect()\n",
    "        cuda.empty_cache()\n",
    "\n",
    "    print(\"constant\", b_constant, \"score\", b_score)\n",
    "\n",
    "    if b_score > best_score:\n",
    "        best_constant = b_constant\n",
    "        best_score = b_score\n",
    "        # best_score = np.mean(valid_mean_scores)\n",
    "        best_model = model.state_dict()\n",
    "        torch.save(best_model, f\"./best_model.pth\")\n",
    "\n",
    "    print(\n",
    "        f\"train-epoch-loss:{np.mean(train_loss):.4f}\",\n",
    "        f\"valid-epoch-loss:{np.mean(valid_loss):.4f}\",\n",
    "        # f\"train-beta4-score:{np.mean(train_mean_scores):.4f}\",\n",
    "        f\"valid-beta4-score:{b_score:.4f}\",\n",
    "    )\n",
    "\n",
    "    grand_train_loss.append(np.mean(train_loss))\n",
    "    grand_valid_loss.append(np.mean(valid_loss))\n",
    "    # grand_train_score.append(np.mean(train_mean_scores))\n",
    "    grand_valid_score.append(b_score)"
   ]
  },
  {
   "cell_type": "code",
   "execution_count": 13,
   "metadata": {},
   "outputs": [
    {
     "data": {
      "image/png": "[encoded data removed]",
      "text/plain": [
       "<Figure size 640x480 with 1 Axes>"
      ]
     },
     "metadata": {},
     "output_type": "display_data"
    }
   ],
   "source": [
    "# train_lossとvalid_lossのプロット\n",
    "\n",
    "plt.plot(grand_train_loss, label=\"train_loss\")\n",
    "plt.plot(grand_valid_loss, label=\"valid_loss\")\n",
    "plt.legend()\n",
    "plt.show()"
   ]
  },
  {
   "cell_type": "code",
   "execution_count": 14,
   "metadata": {},
   "outputs": [
    {
     "data": {
      "image/png": "[encoded data removed]",
      "text/plain": [
       "<Figure size 640x480 with 1 Axes>"
      ]
     },
     "metadata": {},
     "output_type": "display_data"
    }
   ],
   "source": [
    "# train_scoreとvalid_scoreのプロット\n",
    "plt.plot(grand_train_score, label=\"train_score\")\n",
    "plt.plot(grand_valid_score, label=\"valid_score\")\n",
    "plt.legend()\n",
    "plt.show()"
   ]
  },
  {
   "cell_type": "code",
   "execution_count": 15,
   "metadata": {},
   "outputs": [
    {
     "data": {
      "text/plain": [
       "0.5058658078203512"
      ]
     },
     "execution_count": 15,
     "metadata": {},
     "output_type": "execute_result"
    }
   ],
   "source": [
    "random.random()"
   ]
  },
  {
   "cell_type": "code",
   "execution_count": null,
   "metadata": {},
   "outputs": [],
   "source": []
  }
 ],
 "metadata": {
  "kernelspec": {
   "display_name": "kaggle",
   "language": "python",
   "name": "python3"
  },
  "language_info": {
   "codemirror_mode": {
    "name": "ipython",
    "version": 3
   },
   "file_extension": ".py",
   "mimetype": "text/x-python",
   "name": "python",
   "nbconvert_exporter": "python",
   "pygments_lexer": "ipython3",
   "version": "3.9.16"
  }
 },
 "nbformat": 4,
 "nbformat_minor": 2
}
