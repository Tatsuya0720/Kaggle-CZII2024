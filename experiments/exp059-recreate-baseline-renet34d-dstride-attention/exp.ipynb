{
 "cells": [
  {
   "cell_type": "code",
   "execution_count": 1,
   "metadata": {},
   "outputs": [
    {
     "name": "stderr",
     "output_type": "stream",
     "text": [
      "Failed to detect the name of this notebook, you can set it manually with the WANDB_NOTEBOOK_NAME environment variable to enable code saving.\n",
      "\u001b[34m\u001b[1mwandb\u001b[0m: Currently logged in as: \u001b[33mtatuya\u001b[0m (\u001b[33mlatent-walkers\u001b[0m). Use \u001b[1m`wandb login --relogin`\u001b[0m to force relogin\n"
     ]
    },
    {
     "data": {
      "text/html": [
       "wandb version 0.19.4 is available!  To upgrade, please run:\n",
       " $ pip install wandb --upgrade"
      ],
      "text/plain": [
       "<IPython.core.display.HTML object>"
      ]
     },
     "metadata": {},
     "output_type": "display_data"
    },
    {
     "data": {
      "text/html": [
       "Tracking run with wandb version 0.16.1"
      ],
      "text/plain": [
       "<IPython.core.display.HTML object>"
      ]
     },
     "metadata": {},
     "output_type": "display_data"
    },
    {
     "data": {
      "text/html": [
       "Run data is saved locally in <code>/home/tatsuya/code/projects/kaggle/CryoET/experiments/exp059-recreate-baseline-renet34d-dstride-attention/wandb/run-20250125_032416-l2psk4w3</code>"
      ],
      "text/plain": [
       "<IPython.core.display.HTML object>"
      ]
     },
     "metadata": {},
     "output_type": "display_data"
    },
    {
     "data": {
      "text/html": [
       "Syncing run <strong><a href='https://wandb.ai/latent-walkers/czii2024/runs/l2psk4w3' target=\"_blank\">exp059-recreate-baseline-renet34d-dstride-attention</a></strong> to <a href='https://wandb.ai/latent-walkers/czii2024' target=\"_blank\">Weights & Biases</a> (<a href='https://wandb.me/run' target=\"_blank\">docs</a>)<br/>"
      ],
      "text/plain": [
       "<IPython.core.display.HTML object>"
      ]
     },
     "metadata": {},
     "output_type": "display_data"
    },
    {
     "data": {
      "text/html": [
       " View project at <a href='https://wandb.ai/latent-walkers/czii2024' target=\"_blank\">https://wandb.ai/latent-walkers/czii2024</a>"
      ],
      "text/plain": [
       "<IPython.core.display.HTML object>"
      ]
     },
     "metadata": {},
     "output_type": "display_data"
    },
    {
     "data": {
      "text/html": [
       " View run at <a href='https://wandb.ai/latent-walkers/czii2024/runs/l2psk4w3' target=\"_blank\">https://wandb.ai/latent-walkers/czii2024/runs/l2psk4w3</a>"
      ],
      "text/plain": [
       "<IPython.core.display.HTML object>"
      ]
     },
     "metadata": {},
     "output_type": "display_data"
    },
    {
     "data": {
      "text/html": [
       "<button onClick=\"this.nextSibling.style.display='block';this.style.display='none';\">Display W&B run</button><iframe src='https://wandb.ai/latent-walkers/czii2024/runs/l2psk4w3?jupyter=true' style='border:none;width:100%;height:420px;display:none;'></iframe>"
      ],
      "text/plain": [
       "<wandb.sdk.wandb_run.Run at 0x7fa25e2a0fa0>"
      ]
     },
     "execution_count": 1,
     "metadata": {},
     "output_type": "execute_result"
    }
   ],
   "source": [
    "import os\n",
    "import zarr\n",
    "import timm\n",
    "import random\n",
    "import json\n",
    "import gc\n",
    "import warnings\n",
    "import numpy as np\n",
    "import pandas as pd\n",
    "import torch.nn as nn\n",
    "from pathlib import Path\n",
    "import matplotlib.pyplot as plt\n",
    "from torch.utils.data import DataLoader, Dataset\n",
    "from collections import defaultdict\n",
    "import sys\n",
    "import torch\n",
    "from torch.cuda.amp import autocast, GradScaler\n",
    "\n",
    "# import torchvision.transforms.functional as F\n",
    "import random\n",
    "\n",
    "warnings.filterwarnings(\"ignore\")\n",
    "sys.path.append(\"./src/\")\n",
    "\n",
    "from src.config import CFG\n",
    "from src.dataloader import (\n",
    "    read_zarr,\n",
    "    read_info_json,\n",
    "    scale_coordinates,\n",
    "    create_dataset,\n",
    "    create_segmentation_map,\n",
    "    EziiDataset,\n",
    "    drop_padding,\n",
    ")\n",
    "from src.network import Unet3D\n",
    "from src.utils import save_images, PadToSize\n",
    "from src.metric import (\n",
    "    score,\n",
    "    create_cls_pos,\n",
    "    create_cls_pos_sikii,\n",
    "    create_df,\n",
    "    SegmentationLoss,\n",
    "    DiceLoss,\n",
    ")\n",
    "from src.kaggle_notebook_metric import compute_lb, extract_particle_results\n",
    "from src.inference import inference, inference2pos, create_gt_df\n",
    "from metric import visualize_epoch_results\n",
    "\n",
    "import wandb\n",
    "from pathlib import Path\n",
    "\n",
    "notebook_name = os.path.join(Path().resolve()).split(\"/\")[-1]\n",
    "\n",
    "param = {\n",
    "    \"model\": CFG.model_name,\n",
    "    \"resolution\": CFG.resolution,\n",
    "    \"augmentation_prob\": CFG.augmentation_prob,\n",
    "    \"slice\": CFG.slice_,\n",
    "    \"epochs\": CFG.epochs,\n",
    "    \"lr\": CFG.lr,\n",
    "    \"batch_size\": CFG.batch_size,\n",
    "    \"weight_decay\": CFG.weight_decay,\n",
    "    \"num_workers\": CFG.num_workers,\n",
    "    \"augment_data_ratio\": CFG.augment_data_ratio,\n",
    "}\n",
    "wandb.init(project=\"czii2024\", name=notebook_name, config=param)"
   ]
  },
  {
   "cell_type": "code",
   "execution_count": 2,
   "metadata": {},
   "outputs": [
    {
     "name": "stderr",
     "output_type": "stream",
     "text": [
      "100%|██████████| 517/517 [01:24<00:00,  6.11it/s]\n",
      "100%|██████████| 2/2 [00:03<00:00,  1.64s/it]\n",
      "  0%|          | 0/258 [00:02<?, ?it/s]\n"
     ]
    },
    {
     "data": {
      "text/plain": [
       "torch.Size([2, 16, 630, 630])"
      ]
     },
     "execution_count": 2,
     "metadata": {},
     "output_type": "execute_result"
    }
   ],
   "source": [
    "train_dataset = EziiDataset(\n",
    "    exp_names=CFG.train_exp_names,\n",
    "    base_dir=\"../../inputs/train/\",\n",
    "    particles_name=CFG.particles_name,\n",
    "    resolution=CFG.resolution,\n",
    "    zarr_type=CFG.train_zarr_types,\n",
    "    train=True,\n",
    "    augmentation=True,\n",
    "    slice=True,\n",
    "    pre_read=True,\n",
    ")\n",
    "\n",
    "# train_nshuffle_dataset = EziiDataset(\n",
    "#     exp_names=CFG.train_exp_names,\n",
    "#     base_dir=\"../../inputs/train/\",\n",
    "#     particles_name=CFG.particles_name,\n",
    "#     resolution=CFG.resolution,\n",
    "#     zarr_type=CFG.train_zarr_types,\n",
    "#     augmentation=False,\n",
    "#     train=True,\n",
    "# )\n",
    "\n",
    "valid_dataset = EziiDataset(\n",
    "    exp_names=CFG.valid_exp_names,\n",
    "    base_dir=\"../../inputs/train/\",\n",
    "    particles_name=CFG.particles_name,\n",
    "    resolution=CFG.resolution,\n",
    "    zarr_type=CFG.valid_zarr_types,\n",
    "    augmentation=False,\n",
    "    train=True,\n",
    "    slice=True,\n",
    "    pre_read=True,\n",
    ")\n",
    "\n",
    "from tqdm import tqdm\n",
    "\n",
    "train_loader = DataLoader(\n",
    "    train_dataset,\n",
    "    batch_size=CFG.batch_size,\n",
    "    shuffle=True,\n",
    "    drop_last=True,\n",
    "    pin_memory=True,\n",
    "    num_workers=CFG.num_workers,\n",
    ")\n",
    "# train_nshuffle_loader = DataLoader(\n",
    "#     train_nshuffle_dataset,\n",
    "#     batch_size=1,\n",
    "#     shuffle=True,\n",
    "#     drop_last=True,\n",
    "#     pin_memory=True,\n",
    "#     num_workers=CFG.num_workers,\n",
    "# )\n",
    "valid_loader = DataLoader(\n",
    "    valid_dataset,\n",
    "    batch_size=1,\n",
    "    shuffle=False,\n",
    "    pin_memory=True,\n",
    "    num_workers=CFG.num_workers,\n",
    ")\n",
    "\n",
    "for data in tqdm(train_loader):\n",
    "    normalized_tomogram = data[\"normalized_tomogram\"]\n",
    "    segmentation_map = data[\"segmentation_map\"]\n",
    "    break\n",
    "\n",
    "normalized_tomogram.shape"
   ]
  },
  {
   "cell_type": "code",
   "execution_count": 3,
   "metadata": {},
   "outputs": [
    {
     "data": {
      "text/plain": [
       "(array(['ctfdeconvolved', 'denoised', 'isonetcorrected', 'none', 'wbp'],\n",
       "       dtype='<U15'),\n",
       " array([ 55,  55,  55, 297,  55]))"
      ]
     },
     "execution_count": 3,
     "metadata": {},
     "output_type": "execute_result"
    }
   ],
   "source": [
    "# 学習時のデータパターン\n",
    "\n",
    "z_list = []\n",
    "\n",
    "for i in range(len(train_dataset)):\n",
    "    z = train_dataset[i][\"zarr_type\"]\n",
    "    z_list.append(z)\n",
    "\n",
    "np.unique(np.array(z_list), return_counts=True)"
   ]
  },
  {
   "cell_type": "code",
   "execution_count": 4,
   "metadata": {},
   "outputs": [
    {
     "data": {
      "text/plain": [
       "<All keys matched successfully>"
      ]
     },
     "execution_count": 4,
     "metadata": {},
     "output_type": "execute_result"
    }
   ],
   "source": [
    "encoder = timm.create_model(\n",
    "    model_name=CFG.model_name,\n",
    "    pretrained=True,\n",
    "    in_chans=3,\n",
    "    num_classes=0,\n",
    "    global_pool=\"\",\n",
    "    features_only=True,\n",
    ")\n",
    "model = Unet3D(encoder=encoder, num_domains=5).to(\"cuda\")\n",
    "# model.load_state_dict(torch.load(\"./pretrained_model.pth\"))\n",
    "# model.load_state_dict(\n",
    "#     torch.load(\n",
    "#         \"../../../../../../../../mnt/d/kaggle-tmp-models/czii2024/exp059-recreate-baseline-renet34d-dstride-attention/model_4.pth\"\n",
    "#     )\n",
    "# )\n",
    "# model.load_state_dict(torch.load(\"./best_model.pth\"))"
   ]
  },
  {
   "cell_type": "code",
   "execution_count": 5,
   "metadata": {},
   "outputs": [
    {
     "data": {
      "text/plain": [
       "torch.Size([2, 7, 16, 64, 64])"
      ]
     },
     "execution_count": 5,
     "metadata": {},
     "output_type": "execute_result"
    }
   ],
   "source": [
    "# input-test\n",
    "\n",
    "x = torch.randn(2, 16, 1, 64, 64).cuda()\n",
    "model(x, torch.tensor([2, 0]).cuda()).shape"
   ]
  },
  {
   "cell_type": "code",
   "execution_count": 6,
   "metadata": {},
   "outputs": [],
   "source": [
    "# # \"encoder\"と名のつくパラメータは学習しない\n",
    "# for layer, param in model.named_parameters():\n",
    "#     if \"encoder\" in layer:\n",
    "#         param.requires_grad = False"
   ]
  },
  {
   "cell_type": "code",
   "execution_count": 7,
   "metadata": {},
   "outputs": [],
   "source": [
    "import matplotlib.pyplot as plt\n",
    "import numpy as np\n",
    "from matplotlib.colors import ListedColormap\n",
    "from matplotlib.patches import Patch\n",
    "\n",
    "# サンプルデータ\n",
    "num_classes = len(CFG.particles_name)  # クラス数\n",
    "colors = plt.cm.tab10(\n",
    "    np.arange(len(CFG.particles_name))\n",
    ")  # \"tab10\" カラーマップから色を取得\n",
    "\n",
    "# ListedColormap を作成\n",
    "class_colormap = ListedColormap(colors)\n",
    "\n",
    "\n",
    "# カラーバー付きプロット\n",
    "def plot_with_colormap(data, title, original_tomogram):\n",
    "    masked_data = np.ma.masked_where(data <= 0, data)  # クラス0をマスク\n",
    "    plt.imshow(original_tomogram, cmap=\"gray\")\n",
    "    im = plt.imshow(masked_data, cmap=class_colormap)\n",
    "    plt.title(title)\n",
    "    plt.axis(\"off\")\n",
    "    return im"
   ]
  },
  {
   "cell_type": "code",
   "execution_count": 8,
   "metadata": {},
   "outputs": [
    {
     "name": "stdout",
     "output_type": "stream",
     "text": [
      "Original shape: torch.Size([6, 16, 320, 320])\n",
      "Augmented shape: torch.Size([6, 16, 320, 320])\n"
     ]
    }
   ],
   "source": [
    "import torch\n",
    "import random\n",
    "import torchvision.transforms.functional as TF\n",
    "\n",
    "\n",
    "# 回転\n",
    "# 3Dテンソルの各軸に対して指定した角度で回転する関数\n",
    "def rotate_3d(tomogram, segmentation_map, angle):\n",
    "    \"\"\"Rotates the 3D tensors tomogram and segmentation_map around the Z-axis.\"\"\"\n",
    "    rotated_tomogram = TF.rotate(tomogram, angle, expand=False)\n",
    "    rotated_segmentation_map = TF.rotate(segmentation_map, angle, expand=False)\n",
    "    return rotated_tomogram, rotated_segmentation_map\n",
    "\n",
    "\n",
    "# 平行移動\n",
    "# 指定された範囲でランダムに平行移動\n",
    "def translate_3d(tomogram, segmentation_map, max_shift):\n",
    "    \"\"\"Translates the 3D tensors by a random shift within max_shift.\"\"\"\n",
    "    shift_x = random.randint(-max_shift, max_shift)\n",
    "    shift_y = random.randint(-max_shift, max_shift)\n",
    "    translated_tomogram = TF.affine(\n",
    "        tomogram, angle=0, translate=(shift_x, shift_y), scale=1, shear=0\n",
    "    )\n",
    "    translated_segmentation_map = TF.affine(\n",
    "        segmentation_map, angle=0, translate=(shift_x, shift_y), scale=1, shear=0\n",
    "    )\n",
    "    return translated_tomogram, translated_segmentation_map\n",
    "\n",
    "\n",
    "# フリップ\n",
    "# 縦横（上下左右）ランダムフリップ\n",
    "def flip_3d(tomogram, segmentation_map):\n",
    "    \"\"\"Randomly flips the 3D tensors along height or width.\"\"\"\n",
    "    if random.random() > 0.5:  # Horizontal flip\n",
    "        tomogram = torch.flip(tomogram, dims=[-1])\n",
    "        segmentation_map = torch.flip(segmentation_map, dims=[-1])\n",
    "    if random.random() > 0.5:  # Vertical flip\n",
    "        tomogram = torch.flip(tomogram, dims=[-2])\n",
    "        segmentation_map = torch.flip(segmentation_map, dims=[-2])\n",
    "    return tomogram, segmentation_map\n",
    "\n",
    "\n",
    "# クロッピング\n",
    "# 入力テンソルを中心またはランダムクロップで切り取る\n",
    "def crop_3d(tomogram, segmentation_map, crop_size):\n",
    "    \"\"\"Crops the 3D tensors to the specified crop_size.\"\"\"\n",
    "    _, depth, height, width = tomogram.size()\n",
    "    crop_d, crop_h, crop_w = crop_size\n",
    "\n",
    "    if crop_h > height or crop_w > width:\n",
    "        raise ValueError(\"Crop size cannot be larger than the original size.\")\n",
    "\n",
    "    start_h = random.randint(0, height - crop_h)  # Random starting position for height\n",
    "    start_w = random.randint(0, width - crop_w)  # Random starting position for width\n",
    "\n",
    "    cropped_tomogram = tomogram[\n",
    "        :, :, start_h : start_h + crop_h, start_w : start_w + crop_w\n",
    "    ]\n",
    "    cropped_segmentation_map = segmentation_map[\n",
    "        :, :, start_h : start_h + crop_h, start_w : start_w + crop_w\n",
    "    ]\n",
    "\n",
    "    return cropped_tomogram, cropped_segmentation_map\n",
    "\n",
    "\n",
    "# Mixup\n",
    "# 2つのサンプルを線形補間して混合\n",
    "def mixup(tomogram, segmentation_map, alpha=0.4):\n",
    "    \"\"\"Applies mixup augmentation to the batch.\"\"\"\n",
    "    lam = random.betavariate(alpha, alpha)\n",
    "    batch_size = tomogram.size(0)\n",
    "    index = torch.randperm(batch_size)\n",
    "\n",
    "    mixed_tomogram = lam * tomogram + (1 - lam) * tomogram[index, :]\n",
    "    mixed_segmentation_map = (\n",
    "        lam * segmentation_map + (1 - lam) * segmentation_map[index, :]\n",
    "    )\n",
    "\n",
    "    return mixed_tomogram, mixed_segmentation_map\n",
    "\n",
    "\n",
    "# Cutmix\n",
    "# ランダム領域を切り取って別のサンプルに貼り付け\n",
    "def cutmix(tomogram, segmentation_map, alpha=1.0):\n",
    "    \"\"\"Applies cutmix augmentation to the batch.\"\"\"\n",
    "    lam = random.betavariate(alpha, alpha)\n",
    "    batch_size, depth, height, width = tomogram.size()\n",
    "    index = torch.randperm(batch_size)\n",
    "\n",
    "    cx = random.randint(0, width)\n",
    "    cy = random.randint(0, height)\n",
    "    cw = int(width * (1 - lam))\n",
    "    ch = int(height * (1 - lam))\n",
    "\n",
    "    x1 = max(cx - cw // 2, 0)\n",
    "    x2 = min(cx + cw // 2, width)\n",
    "    y1 = max(cy - ch // 2, 0)\n",
    "    y2 = min(cy + ch // 2, height)\n",
    "\n",
    "    tomogram[:, :, y1:y2, x1:x2] = tomogram[index, :, y1:y2, x1:x2]\n",
    "    segmentation_map[:, :, y1:y2, x1:x2] = segmentation_map[index, :, y1:y2, x1:x2]\n",
    "\n",
    "    return tomogram, segmentation_map\n",
    "\n",
    "\n",
    "# データ拡張の組み合わせ適用\n",
    "def augment_data(\n",
    "    tomogram,\n",
    "    segmentation_map,\n",
    "    crop_size=(16, 256, 256),\n",
    "    max_shift=10,\n",
    "    rotation_angle=30,\n",
    "    p=0.5,\n",
    "    mixup_alpha=0.4,\n",
    "    cutmix_alpha=1.0,\n",
    "):\n",
    "    \"\"\"Applies a combination of rotation, translation, flipping, cropping, mixup, and cutmix to the inputs with probabilities.\"\"\"\n",
    "    if random.random() < p:\n",
    "        tomogram, segmentation_map = rotate_3d(\n",
    "            tomogram,\n",
    "            segmentation_map,\n",
    "            angle=random.uniform(-rotation_angle, rotation_angle),\n",
    "        )\n",
    "    if random.random() < p:\n",
    "        tomogram, segmentation_map = translate_3d(\n",
    "            tomogram, segmentation_map, max_shift=max_shift\n",
    "        )\n",
    "    if random.random() < p:\n",
    "        tomogram, segmentation_map = flip_3d(tomogram, segmentation_map)\n",
    "    if random.random() < p:\n",
    "        tomogram, segmentation_map = crop_3d(\n",
    "            tomogram, segmentation_map, crop_size=crop_size\n",
    "        )\n",
    "    if random.random() < p:\n",
    "        tomogram, segmentation_map = mixup(\n",
    "            tomogram, segmentation_map, alpha=mixup_alpha\n",
    "        )\n",
    "    # if random.random() < p:\n",
    "    #     tomogram, segmentation_map = cutmix(\n",
    "    #         tomogram, segmentation_map, alpha=cutmix_alpha\n",
    "    #     )\n",
    "    return tomogram, segmentation_map\n",
    "\n",
    "\n",
    "# 使用例\n",
    "# バッチサイズ6, 深さ16, 高さ320, 幅320のランダムテンソル\n",
    "tomogram = torch.rand((6, 16, 320, 320))\n",
    "segmentation_map = torch.randint(0, 2, (6, 16, 320, 320))  # ラベルは0または1\n",
    "\n",
    "# データ拡張の適用\n",
    "aug_tomogram, aug_segmentation_map = augment_data(tomogram, segmentation_map, p=0.7)\n",
    "print(\"Original shape:\", tomogram.shape)\n",
    "print(\"Augmented shape:\", aug_tomogram.shape)"
   ]
  },
  {
   "cell_type": "code",
   "execution_count": 9,
   "metadata": {},
   "outputs": [],
   "source": [
    "# model.encoderのパラメータを固定\n",
    "\n",
    "# for param in model.encoder.parameters():\n",
    "#     param.requires_grad = False"
   ]
  },
  {
   "cell_type": "code",
   "execution_count": 10,
   "metadata": {},
   "outputs": [],
   "source": [
    "from transformers import get_cosine_schedule_with_warmup\n",
    "\n",
    "optimizer = torch.optim.Adam(\n",
    "    model.parameters(), lr=CFG.lr, weight_decay=CFG.weight_decay\n",
    ")\n",
    "criterion = nn.CrossEntropyLoss(\n",
    "    #  weight=torch.tensor([2.0, 32, 32, 32, 32, 32, 32]).to(\"cuda\")\n",
    ")\n",
    "# criterion = DiceLoss()\n",
    "scheduler = get_cosine_schedule_with_warmup(\n",
    "    optimizer,\n",
    "    num_warmup_steps=10,\n",
    "    num_training_steps=CFG.epochs * len(train_loader),\n",
    "    # * batch_size,\n",
    ")\n",
    "scaler = GradScaler()\n",
    "seg_loss = SegmentationLoss(criterion)\n",
    "padf = PadToSize(CFG.resolution)"
   ]
  },
  {
   "cell_type": "code",
   "execution_count": 11,
   "metadata": {},
   "outputs": [],
   "source": [
    "# b, c, d, h, w = CFG.batch_size, 1, 96, 320, 320"
   ]
  },
  {
   "cell_type": "code",
   "execution_count": 12,
   "metadata": {},
   "outputs": [],
   "source": [
    "def preprocess_tensor(tensor):\n",
    "    batch_size, depth, height, width = tensor.shape\n",
    "    tensor = tensor.unsqueeze(2)  # (b, d, h, w) -> (b, d, 1, h, w)\n",
    "    return tensor"
   ]
  },
  {
   "cell_type": "code",
   "execution_count": 13,
   "metadata": {},
   "outputs": [
    {
     "data": {
      "text/plain": [
       "torch.Size([2, 16, 640, 640])"
      ]
     },
     "execution_count": 13,
     "metadata": {},
     "output_type": "execute_result"
    }
   ],
   "source": [
    "padf = PadToSize(CFG.resolution)\n",
    "padf(normalized_tomogram).shape"
   ]
  },
  {
   "cell_type": "code",
   "execution_count": null,
   "metadata": {},
   "outputs": [
    {
     "name": "stderr",
     "output_type": "stream",
     "text": [
      "Epoch 1/150 [Training]: 100%|██████████| 258/258 [04:09<00:00,  1.04it/s, loss=0.0327]\n",
      "Epoch 1/150 [Validation]: 100%|██████████| 2/2 [00:01<00:00,  1.27it/s, loss=0.0049]\n",
      "100%|██████████| 15/15 [00:32<00:00,  2.14s/it]\n"
     ]
    },
    {
     "name": "stdout",
     "output_type": "stream",
     "text": [
      "train-epoch-loss:0.0327 valid-beta4-score:0.3605\n"
     ]
    },
    {
     "name": "stderr",
     "output_type": "stream",
     "text": [
      "Epoch 2/150 [Training]: 100%|██████████| 258/258 [04:25<00:00,  1.03s/it, loss=0.0304]\n",
      "Epoch 2/150 [Validation]: 100%|██████████| 2/2 [00:01<00:00,  1.36it/s, loss=0.0027]\n",
      "100%|██████████| 15/15 [00:33<00:00,  2.24s/it]\n"
     ]
    },
    {
     "name": "stdout",
     "output_type": "stream",
     "text": [
      "train-epoch-loss:0.0304 valid-beta4-score:0.3593\n"
     ]
    },
    {
     "name": "stderr",
     "output_type": "stream",
     "text": [
      "Epoch 3/150 [Training]: 100%|██████████| 258/258 [04:21<00:00,  1.01s/it, loss=0.0283]\n",
      "Epoch 3/150 [Validation]: 100%|██████████| 2/2 [00:01<00:00,  1.33it/s, loss=0.0013]\n",
      "100%|██████████| 15/15 [00:34<00:00,  2.30s/it]\n"
     ]
    },
    {
     "name": "stdout",
     "output_type": "stream",
     "text": [
      "train-epoch-loss:0.0283 valid-beta4-score:0.3771\n"
     ]
    },
    {
     "name": "stderr",
     "output_type": "stream",
     "text": [
      "Epoch 4/150 [Training]: 100%|██████████| 258/258 [04:16<00:00,  1.01it/s, loss=0.0286]\n",
      "Epoch 4/150 [Validation]: 100%|██████████| 2/2 [00:01<00:00,  1.39it/s, loss=0.0300]\n",
      "100%|██████████| 15/15 [00:33<00:00,  2.26s/it]\n"
     ]
    },
    {
     "name": "stdout",
     "output_type": "stream",
     "text": [
      "train-epoch-loss:0.0286 valid-beta4-score:0.3753\n"
     ]
    },
    {
     "name": "stderr",
     "output_type": "stream",
     "text": [
      "Epoch 5/150 [Training]: 100%|██████████| 258/258 [04:03<00:00,  1.06it/s, loss=0.0274]\n",
      "Epoch 5/150 [Validation]: 100%|██████████| 2/2 [00:01<00:00,  1.34it/s, loss=0.0172]\n",
      "100%|██████████| 15/15 [00:35<00:00,  2.36s/it]\n"
     ]
    },
    {
     "name": "stdout",
     "output_type": "stream",
     "text": [
      "train-epoch-loss:0.0274 valid-beta4-score:0.3790\n"
     ]
    },
    {
     "name": "stderr",
     "output_type": "stream",
     "text": [
      "Epoch 6/150 [Training]: 100%|██████████| 258/258 [04:17<00:00,  1.00it/s, loss=0.0276]\n",
      "Epoch 6/150 [Validation]: 100%|██████████| 2/2 [00:01<00:00,  1.35it/s, loss=0.0191]\n",
      "100%|██████████| 15/15 [00:35<00:00,  2.35s/it]\n"
     ]
    },
    {
     "name": "stdout",
     "output_type": "stream",
     "text": [
      "train-epoch-loss:0.0276 valid-beta4-score:0.3773\n"
     ]
    },
    {
     "name": "stderr",
     "output_type": "stream",
     "text": [
      "Epoch 7/150 [Training]: 100%|██████████| 258/258 [04:16<00:00,  1.01it/s, loss=0.0266]\n",
      "Epoch 7/150 [Validation]: 100%|██████████| 2/2 [00:01<00:00,  1.40it/s, loss=0.0270]\n",
      "100%|██████████| 15/15 [00:34<00:00,  2.29s/it]\n"
     ]
    },
    {
     "name": "stdout",
     "output_type": "stream",
     "text": [
      "train-epoch-loss:0.0266 valid-beta4-score:0.3776\n"
     ]
    },
    {
     "name": "stderr",
     "output_type": "stream",
     "text": [
      "Epoch 8/150 [Training]: 100%|██████████| 258/258 [04:15<00:00,  1.01it/s, loss=0.0260]\n",
      "Epoch 8/150 [Validation]: 100%|██████████| 2/2 [00:01<00:00,  1.36it/s, loss=0.0152]\n",
      "100%|██████████| 15/15 [00:33<00:00,  2.26s/it]\n"
     ]
    },
    {
     "name": "stdout",
     "output_type": "stream",
     "text": [
      "train-epoch-loss:0.0260 valid-beta4-score:0.3759\n"
     ]
    },
    {
     "name": "stderr",
     "output_type": "stream",
     "text": [
      "Epoch 9/150 [Training]: 100%|██████████| 258/258 [04:25<00:00,  1.03s/it, loss=0.0254]\n",
      "Epoch 9/150 [Validation]: 100%|██████████| 2/2 [00:01<00:00,  1.29it/s, loss=0.0270]\n",
      "100%|██████████| 15/15 [00:31<00:00,  2.12s/it]\n"
     ]
    },
    {
     "name": "stdout",
     "output_type": "stream",
     "text": [
      "train-epoch-loss:0.0254 valid-beta4-score:0.3545\n"
     ]
    },
    {
     "name": "stderr",
     "output_type": "stream",
     "text": [
      "Epoch 10/150 [Training]: 100%|██████████| 258/258 [04:35<00:00,  1.07s/it, loss=0.0271]\n",
      "Epoch 10/150 [Validation]: 100%|██████████| 2/2 [00:01<00:00,  1.40it/s, loss=0.0070]\n",
      "100%|██████████| 15/15 [00:35<00:00,  2.34s/it]\n"
     ]
    },
    {
     "name": "stdout",
     "output_type": "stream",
     "text": [
      "train-epoch-loss:0.0271 valid-beta4-score:0.3689\n"
     ]
    },
    {
     "name": "stderr",
     "output_type": "stream",
     "text": [
      "Epoch 11/150 [Training]: 100%|██████████| 258/258 [04:30<00:00,  1.05s/it, loss=0.0243]\n",
      "Epoch 11/150 [Validation]: 100%|██████████| 2/2 [00:01<00:00,  1.36it/s, loss=0.0260]\n",
      "100%|██████████| 15/15 [00:34<00:00,  2.32s/it]\n"
     ]
    },
    {
     "name": "stdout",
     "output_type": "stream",
     "text": [
      "train-epoch-loss:0.0243 valid-beta4-score:0.3545\n"
     ]
    },
    {
     "name": "stderr",
     "output_type": "stream",
     "text": [
      "Epoch 12/150 [Training]: 100%|██████████| 258/258 [04:34<00:00,  1.06s/it, loss=0.0244]\n",
      "Epoch 12/150 [Validation]: 100%|██████████| 2/2 [00:01<00:00,  1.36it/s, loss=0.0213]\n",
      "100%|██████████| 15/15 [00:34<00:00,  2.30s/it]\n"
     ]
    },
    {
     "name": "stdout",
     "output_type": "stream",
     "text": [
      "train-epoch-loss:0.0244 valid-beta4-score:0.3545\n"
     ]
    },
    {
     "name": "stderr",
     "output_type": "stream",
     "text": [
      "Epoch 13/150 [Training]: 100%|██████████| 258/258 [04:17<00:00,  1.00it/s, loss=0.0247]\n",
      "Epoch 13/150 [Validation]: 100%|██████████| 2/2 [00:01<00:00,  1.35it/s, loss=0.0014]\n",
      "100%|██████████| 15/15 [00:35<00:00,  2.37s/it]\n"
     ]
    },
    {
     "name": "stdout",
     "output_type": "stream",
     "text": [
      "train-epoch-loss:0.0247 valid-beta4-score:0.3523\n"
     ]
    },
    {
     "name": "stderr",
     "output_type": "stream",
     "text": [
      "Epoch 14/150 [Training]: 100%|██████████| 258/258 [04:19<00:00,  1.00s/it, loss=0.0251]\n",
      "Epoch 14/150 [Validation]: 100%|██████████| 2/2 [00:01<00:00,  1.35it/s, loss=0.0387]\n",
      "100%|██████████| 15/15 [00:34<00:00,  2.30s/it]\n"
     ]
    },
    {
     "name": "stdout",
     "output_type": "stream",
     "text": [
      "train-epoch-loss:0.0251 valid-beta4-score:0.3571\n"
     ]
    },
    {
     "name": "stderr",
     "output_type": "stream",
     "text": [
      "Epoch 15/150 [Training]: 100%|██████████| 258/258 [04:44<00:00,  1.10s/it, loss=0.0244]\n",
      "Epoch 15/150 [Validation]: 100%|██████████| 2/2 [00:01<00:00,  1.36it/s, loss=0.0177]\n",
      "100%|██████████| 15/15 [00:35<00:00,  2.34s/it]\n"
     ]
    },
    {
     "name": "stdout",
     "output_type": "stream",
     "text": [
      "train-epoch-loss:0.0244 valid-beta4-score:0.3688\n"
     ]
    },
    {
     "name": "stderr",
     "output_type": "stream",
     "text": [
      "Epoch 16/150 [Training]: 100%|██████████| 258/258 [04:19<00:00,  1.01s/it, loss=0.0268]\n",
      "Epoch 16/150 [Validation]: 100%|██████████| 2/2 [00:01<00:00,  1.36it/s, loss=0.0097]\n",
      "100%|██████████| 15/15 [00:36<00:00,  2.41s/it]\n"
     ]
    },
    {
     "name": "stdout",
     "output_type": "stream",
     "text": [
      "train-epoch-loss:0.0268 valid-beta4-score:0.3913\n"
     ]
    },
    {
     "name": "stderr",
     "output_type": "stream",
     "text": [
      "Epoch 17/150 [Training]: 100%|██████████| 258/258 [04:23<00:00,  1.02s/it, loss=0.0288]\n",
      "Epoch 17/150 [Validation]: 100%|██████████| 2/2 [00:01<00:00,  1.37it/s, loss=0.0301]\n",
      "100%|██████████| 15/15 [00:34<00:00,  2.31s/it]\n"
     ]
    },
    {
     "name": "stdout",
     "output_type": "stream",
     "text": [
      "train-epoch-loss:0.0288 valid-beta4-score:0.3634\n"
     ]
    },
    {
     "name": "stderr",
     "output_type": "stream",
     "text": [
      "Epoch 18/150 [Training]: 100%|██████████| 258/258 [04:09<00:00,  1.03it/s, loss=0.0256]\n",
      "Epoch 18/150 [Validation]: 100%|██████████| 2/2 [00:01<00:00,  1.36it/s, loss=0.0045]\n",
      "100%|██████████| 15/15 [00:32<00:00,  2.17s/it]\n"
     ]
    },
    {
     "name": "stdout",
     "output_type": "stream",
     "text": [
      "train-epoch-loss:0.0256 valid-beta4-score:0.3466\n"
     ]
    },
    {
     "name": "stderr",
     "output_type": "stream",
     "text": [
      "Epoch 19/150 [Training]: 100%|██████████| 258/258 [04:34<00:00,  1.06s/it, loss=0.0271]\n",
      "Epoch 19/150 [Validation]: 100%|██████████| 2/2 [00:01<00:00,  1.37it/s, loss=0.0138]\n",
      "100%|██████████| 15/15 [00:34<00:00,  2.31s/it]\n"
     ]
    },
    {
     "name": "stdout",
     "output_type": "stream",
     "text": [
      "train-epoch-loss:0.0271 valid-beta4-score:0.3488\n"
     ]
    },
    {
     "name": "stderr",
     "output_type": "stream",
     "text": [
      "Epoch 20/150 [Training]: 100%|██████████| 258/258 [04:12<00:00,  1.02it/s, loss=0.0225]\n",
      "Epoch 20/150 [Validation]: 100%|██████████| 2/2 [00:01<00:00,  1.37it/s, loss=0.0021]\n",
      "100%|██████████| 15/15 [00:35<00:00,  2.35s/it]\n"
     ]
    },
    {
     "name": "stdout",
     "output_type": "stream",
     "text": [
      "train-epoch-loss:0.0225 valid-beta4-score:0.3858\n"
     ]
    },
    {
     "name": "stderr",
     "output_type": "stream",
     "text": [
      "Epoch 21/150 [Training]: 100%|██████████| 258/258 [04:23<00:00,  1.02s/it, loss=0.0261]\n",
      "Epoch 21/150 [Validation]: 100%|██████████| 2/2 [00:01<00:00,  1.39it/s, loss=0.0223]\n",
      "100%|██████████| 15/15 [00:34<00:00,  2.28s/it]\n"
     ]
    },
    {
     "name": "stdout",
     "output_type": "stream",
     "text": [
      "train-epoch-loss:0.0261 valid-beta4-score:0.3628\n"
     ]
    },
    {
     "name": "stderr",
     "output_type": "stream",
     "text": [
      "Epoch 22/150 [Training]: 100%|██████████| 258/258 [04:15<00:00,  1.01it/s, loss=0.0236]\n",
      "Epoch 22/150 [Validation]: 100%|██████████| 2/2 [00:01<00:00,  1.38it/s, loss=0.0044]\n",
      "100%|██████████| 15/15 [00:35<00:00,  2.40s/it]\n"
     ]
    },
    {
     "name": "stdout",
     "output_type": "stream",
     "text": [
      "train-epoch-loss:0.0236 valid-beta4-score:0.3590\n"
     ]
    },
    {
     "name": "stderr",
     "output_type": "stream",
     "text": [
      "Epoch 23/150 [Training]: 100%|██████████| 258/258 [04:10<00:00,  1.03it/s, loss=0.0275]\n",
      "Epoch 23/150 [Validation]: 100%|██████████| 2/2 [00:01<00:00,  1.37it/s, loss=0.0193]\n",
      "100%|██████████| 15/15 [00:35<00:00,  2.35s/it]\n"
     ]
    },
    {
     "name": "stdout",
     "output_type": "stream",
     "text": [
      "train-epoch-loss:0.0275 valid-beta4-score:0.3699\n"
     ]
    },
    {
     "name": "stderr",
     "output_type": "stream",
     "text": [
      "Epoch 24/150 [Training]: 100%|██████████| 258/258 [04:05<00:00,  1.05it/s, loss=0.0273]\n",
      "Epoch 24/150 [Validation]: 100%|██████████| 2/2 [00:01<00:00,  1.38it/s, loss=0.0303]\n",
      "100%|██████████| 15/15 [00:40<00:00,  2.70s/it]\n"
     ]
    },
    {
     "name": "stdout",
     "output_type": "stream",
     "text": [
      "train-epoch-loss:0.0273 valid-beta4-score:0.3695\n"
     ]
    },
    {
     "name": "stderr",
     "output_type": "stream",
     "text": [
      "Epoch 25/150 [Training]: 100%|██████████| 258/258 [04:06<00:00,  1.05it/s, loss=0.0244]\n",
      "Epoch 25/150 [Validation]: 100%|██████████| 2/2 [00:01<00:00,  1.41it/s, loss=0.0008]\n",
      "100%|██████████| 15/15 [00:34<00:00,  2.33s/it]\n"
     ]
    },
    {
     "name": "stdout",
     "output_type": "stream",
     "text": [
      "train-epoch-loss:0.0244 valid-beta4-score:0.3497\n"
     ]
    },
    {
     "name": "stderr",
     "output_type": "stream",
     "text": [
      "Epoch 26/150 [Training]: 100%|██████████| 258/258 [04:24<00:00,  1.03s/it, loss=0.0237]\n",
      "Epoch 26/150 [Validation]: 100%|██████████| 2/2 [00:01<00:00,  1.39it/s, loss=0.0046]\n",
      "100%|██████████| 15/15 [00:34<00:00,  2.33s/it]\n"
     ]
    },
    {
     "name": "stdout",
     "output_type": "stream",
     "text": [
      "train-epoch-loss:0.0237 valid-beta4-score:0.3891\n"
     ]
    },
    {
     "name": "stderr",
     "output_type": "stream",
     "text": [
      "Epoch 27/150 [Training]: 100%|██████████| 258/258 [04:21<00:00,  1.01s/it, loss=0.0234]\n",
      "Epoch 27/150 [Validation]: 100%|██████████| 2/2 [00:01<00:00,  1.36it/s, loss=0.0234]\n",
      "100%|██████████| 15/15 [00:35<00:00,  2.36s/it]\n"
     ]
    },
    {
     "name": "stdout",
     "output_type": "stream",
     "text": [
      "train-epoch-loss:0.0234 valid-beta4-score:0.3701\n"
     ]
    },
    {
     "name": "stderr",
     "output_type": "stream",
     "text": [
      "Epoch 28/150 [Training]: 100%|██████████| 258/258 [04:15<00:00,  1.01it/s, loss=0.0236]\n",
      "Epoch 28/150 [Validation]: 100%|██████████| 2/2 [00:01<00:00,  1.38it/s, loss=0.0132]\n",
      "100%|██████████| 15/15 [00:35<00:00,  2.36s/it]\n"
     ]
    },
    {
     "name": "stdout",
     "output_type": "stream",
     "text": [
      "train-epoch-loss:0.0236 valid-beta4-score:0.3971\n"
     ]
    },
    {
     "name": "stderr",
     "output_type": "stream",
     "text": [
      "Epoch 29/150 [Training]: 100%|██████████| 258/258 [05:03<00:00,  1.18s/it, loss=0.0251]\n",
      "Epoch 29/150 [Validation]: 100%|██████████| 2/2 [00:01<00:00,  1.31it/s, loss=0.0024]\n",
      "100%|██████████| 15/15 [00:34<00:00,  2.32s/it]\n"
     ]
    },
    {
     "name": "stdout",
     "output_type": "stream",
     "text": [
      "train-epoch-loss:0.0251 valid-beta4-score:0.3904\n"
     ]
    },
    {
     "name": "stderr",
     "output_type": "stream",
     "text": [
      "Epoch 30/150 [Training]: 100%|██████████| 258/258 [04:24<00:00,  1.02s/it, loss=0.0240]\n",
      "Epoch 30/150 [Validation]: 100%|██████████| 2/2 [00:01<00:00,  1.38it/s, loss=0.0014]\n",
      "100%|██████████| 15/15 [00:35<00:00,  2.38s/it]\n"
     ]
    },
    {
     "name": "stdout",
     "output_type": "stream",
     "text": [
      "train-epoch-loss:0.0240 valid-beta4-score:0.3588\n"
     ]
    },
    {
     "name": "stderr",
     "output_type": "stream",
     "text": [
      "Epoch 31/150 [Training]: 100%|██████████| 258/258 [04:27<00:00,  1.04s/it, loss=0.0229]\n",
      "Epoch 31/150 [Validation]: 100%|██████████| 2/2 [00:01<00:00,  1.39it/s, loss=0.0264]\n",
      "100%|██████████| 15/15 [00:36<00:00,  2.41s/it]\n"
     ]
    },
    {
     "name": "stdout",
     "output_type": "stream",
     "text": [
      "train-epoch-loss:0.0229 valid-beta4-score:0.3878\n"
     ]
    },
    {
     "name": "stderr",
     "output_type": "stream",
     "text": [
      "Epoch 32/150 [Training]: 100%|██████████| 258/258 [04:17<00:00,  1.00it/s, loss=0.0235]\n",
      "Epoch 32/150 [Validation]: 100%|██████████| 2/2 [00:01<00:00,  1.41it/s, loss=0.0141]\n",
      "100%|██████████| 15/15 [00:35<00:00,  2.39s/it]\n"
     ]
    },
    {
     "name": "stdout",
     "output_type": "stream",
     "text": [
      "train-epoch-loss:0.0235 valid-beta4-score:0.4006\n"
     ]
    },
    {
     "name": "stderr",
     "output_type": "stream",
     "text": [
      "Epoch 33/150 [Training]: 100%|██████████| 258/258 [04:15<00:00,  1.01it/s, loss=0.0239]\n",
      "Epoch 33/150 [Validation]: 100%|██████████| 2/2 [00:01<00:00,  1.37it/s, loss=0.0363]\n",
      "100%|██████████| 15/15 [00:35<00:00,  2.37s/it]\n"
     ]
    },
    {
     "name": "stdout",
     "output_type": "stream",
     "text": [
      "train-epoch-loss:0.0239 valid-beta4-score:0.3954\n"
     ]
    },
    {
     "name": "stderr",
     "output_type": "stream",
     "text": [
      "Epoch 34/150 [Training]: 100%|██████████| 258/258 [04:20<00:00,  1.01s/it, loss=0.0232]\n",
      "Epoch 34/150 [Validation]: 100%|██████████| 2/2 [00:01<00:00,  1.39it/s, loss=0.0009]\n",
      "100%|██████████| 15/15 [00:35<00:00,  2.39s/it]\n"
     ]
    },
    {
     "name": "stdout",
     "output_type": "stream",
     "text": [
      "train-epoch-loss:0.0232 valid-beta4-score:0.3620\n"
     ]
    },
    {
     "name": "stderr",
     "output_type": "stream",
     "text": [
      "Epoch 35/150 [Training]: 100%|██████████| 258/258 [04:17<00:00,  1.00it/s, loss=0.0240]\n",
      "Epoch 35/150 [Validation]: 100%|██████████| 2/2 [00:01<00:00,  1.40it/s, loss=0.0024]\n",
      "100%|██████████| 15/15 [00:35<00:00,  2.37s/it]\n"
     ]
    },
    {
     "name": "stdout",
     "output_type": "stream",
     "text": [
      "train-epoch-loss:0.0240 valid-beta4-score:0.3804\n"
     ]
    },
    {
     "name": "stderr",
     "output_type": "stream",
     "text": [
      "Epoch 36/150 [Training]: 100%|██████████| 258/258 [04:27<00:00,  1.04s/it, loss=0.0245]\n",
      "Epoch 36/150 [Validation]: 100%|██████████| 2/2 [00:01<00:00,  1.35it/s, loss=0.0171]\n",
      "100%|██████████| 15/15 [00:35<00:00,  2.39s/it]\n"
     ]
    },
    {
     "name": "stdout",
     "output_type": "stream",
     "text": [
      "train-epoch-loss:0.0245 valid-beta4-score:0.3790\n"
     ]
    },
    {
     "name": "stderr",
     "output_type": "stream",
     "text": [
      "Epoch 37/150 [Training]: 100%|██████████| 258/258 [04:22<00:00,  1.02s/it, loss=0.0227]\n",
      "Epoch 37/150 [Validation]: 100%|██████████| 2/2 [00:01<00:00,  1.39it/s, loss=0.0148]\n",
      "100%|██████████| 15/15 [00:35<00:00,  2.38s/it]\n"
     ]
    },
    {
     "name": "stdout",
     "output_type": "stream",
     "text": [
      "train-epoch-loss:0.0227 valid-beta4-score:0.3838\n"
     ]
    },
    {
     "name": "stderr",
     "output_type": "stream",
     "text": [
      "Epoch 38/150 [Training]: 100%|██████████| 258/258 [04:15<00:00,  1.01it/s, loss=0.0239]\n",
      "Epoch 38/150 [Validation]: 100%|██████████| 2/2 [00:01<00:00,  1.39it/s, loss=0.0411]\n",
      "100%|██████████| 15/15 [00:36<00:00,  2.41s/it]\n"
     ]
    },
    {
     "name": "stdout",
     "output_type": "stream",
     "text": [
      "train-epoch-loss:0.0239 valid-beta4-score:0.3835\n"
     ]
    },
    {
     "name": "stderr",
     "output_type": "stream",
     "text": [
      "Epoch 39/150 [Training]: 100%|██████████| 258/258 [04:28<00:00,  1.04s/it, loss=0.0254]\n",
      "Epoch 39/150 [Validation]: 100%|██████████| 2/2 [00:01<00:00,  1.37it/s, loss=0.0212]\n",
      "100%|██████████| 15/15 [00:36<00:00,  2.42s/it]\n"
     ]
    },
    {
     "name": "stdout",
     "output_type": "stream",
     "text": [
      "train-epoch-loss:0.0254 valid-beta4-score:0.3617\n"
     ]
    },
    {
     "name": "stderr",
     "output_type": "stream",
     "text": [
      "Epoch 40/150 [Training]: 100%|██████████| 258/258 [04:31<00:00,  1.05s/it, loss=0.0229]\n",
      "Epoch 40/150 [Validation]: 100%|██████████| 2/2 [00:01<00:00,  1.33it/s, loss=0.0180]\n",
      "100%|██████████| 15/15 [00:36<00:00,  2.43s/it]\n"
     ]
    },
    {
     "name": "stdout",
     "output_type": "stream",
     "text": [
      "train-epoch-loss:0.0229 valid-beta4-score:0.3998\n"
     ]
    },
    {
     "name": "stderr",
     "output_type": "stream",
     "text": [
      "Epoch 41/150 [Training]: 100%|██████████| 258/258 [04:23<00:00,  1.02s/it, loss=0.0229]\n",
      "Epoch 41/150 [Validation]: 100%|██████████| 2/2 [00:01<00:00,  1.37it/s, loss=0.0011]\n",
      "100%|██████████| 15/15 [00:36<00:00,  2.41s/it]\n"
     ]
    },
    {
     "name": "stdout",
     "output_type": "stream",
     "text": [
      "train-epoch-loss:0.0229 valid-beta4-score:0.3792\n"
     ]
    },
    {
     "name": "stderr",
     "output_type": "stream",
     "text": [
      "Epoch 42/150 [Training]: 100%|██████████| 258/258 [04:26<00:00,  1.03s/it, loss=0.0212]\n",
      "Epoch 42/150 [Validation]: 100%|██████████| 2/2 [00:01<00:00,  1.36it/s, loss=0.0098]\n",
      "100%|██████████| 15/15 [00:36<00:00,  2.41s/it]\n"
     ]
    },
    {
     "name": "stdout",
     "output_type": "stream",
     "text": [
      "train-epoch-loss:0.0212 valid-beta4-score:0.3988\n"
     ]
    },
    {
     "name": "stderr",
     "output_type": "stream",
     "text": [
      "Epoch 43/150 [Training]: 100%|██████████| 258/258 [04:24<00:00,  1.03s/it, loss=0.0206]\n",
      "Epoch 43/150 [Validation]: 100%|██████████| 2/2 [00:01<00:00,  1.39it/s, loss=0.0054]\n",
      "100%|██████████| 15/15 [00:36<00:00,  2.40s/it]\n"
     ]
    },
    {
     "name": "stdout",
     "output_type": "stream",
     "text": [
      "train-epoch-loss:0.0206 valid-beta4-score:0.4125\n"
     ]
    },
    {
     "name": "stderr",
     "output_type": "stream",
     "text": [
      "Epoch 44/150 [Training]: 100%|██████████| 258/258 [04:12<00:00,  1.02it/s, loss=0.0218]\n",
      "Epoch 44/150 [Validation]: 100%|██████████| 2/2 [00:01<00:00,  1.40it/s, loss=0.0025]\n",
      "100%|██████████| 15/15 [00:36<00:00,  2.40s/it]\n"
     ]
    },
    {
     "name": "stdout",
     "output_type": "stream",
     "text": [
      "train-epoch-loss:0.0218 valid-beta4-score:0.3829\n"
     ]
    },
    {
     "name": "stderr",
     "output_type": "stream",
     "text": [
      "Epoch 45/150 [Training]: 100%|██████████| 258/258 [04:04<00:00,  1.06it/s, loss=0.0197]\n",
      "Epoch 45/150 [Validation]: 100%|██████████| 2/2 [00:01<00:00,  1.40it/s, loss=0.0299]\n",
      "100%|██████████| 15/15 [00:35<00:00,  2.40s/it]\n"
     ]
    },
    {
     "name": "stdout",
     "output_type": "stream",
     "text": [
      "train-epoch-loss:0.0197 valid-beta4-score:0.3316\n"
     ]
    },
    {
     "name": "stderr",
     "output_type": "stream",
     "text": [
      "Epoch 46/150 [Training]: 100%|██████████| 258/258 [04:19<00:00,  1.01s/it, loss=0.0209]\n",
      "Epoch 46/150 [Validation]: 100%|██████████| 2/2 [00:01<00:00,  1.38it/s, loss=0.0268]\n",
      "100%|██████████| 15/15 [00:36<00:00,  2.40s/it]\n"
     ]
    },
    {
     "name": "stdout",
     "output_type": "stream",
     "text": [
      "train-epoch-loss:0.0209 valid-beta4-score:0.3727\n"
     ]
    },
    {
     "name": "stderr",
     "output_type": "stream",
     "text": [
      "Epoch 47/150 [Training]: 100%|██████████| 258/258 [04:08<00:00,  1.04it/s, loss=0.0224]\n",
      "Epoch 47/150 [Validation]: 100%|██████████| 2/2 [00:01<00:00,  1.40it/s, loss=0.0145]\n",
      "100%|██████████| 15/15 [00:35<00:00,  2.36s/it]\n"
     ]
    },
    {
     "name": "stdout",
     "output_type": "stream",
     "text": [
      "train-epoch-loss:0.0224 valid-beta4-score:0.3963\n"
     ]
    },
    {
     "name": "stderr",
     "output_type": "stream",
     "text": [
      "Epoch 48/150 [Training]: 100%|██████████| 258/258 [04:11<00:00,  1.03it/s, loss=0.0233]\n",
      "Epoch 48/150 [Validation]: 100%|██████████| 2/2 [00:01<00:00,  1.39it/s, loss=0.0298]\n",
      "100%|██████████| 15/15 [00:35<00:00,  2.37s/it]\n"
     ]
    },
    {
     "name": "stdout",
     "output_type": "stream",
     "text": [
      "train-epoch-loss:0.0233 valid-beta4-score:0.3691\n"
     ]
    },
    {
     "name": "stderr",
     "output_type": "stream",
     "text": [
      "Epoch 49/150 [Training]: 100%|██████████| 258/258 [04:28<00:00,  1.04s/it, loss=0.0237]\n",
      "Epoch 49/150 [Validation]: 100%|██████████| 2/2 [00:01<00:00,  1.35it/s, loss=0.0271]\n",
      "100%|██████████| 15/15 [00:35<00:00,  2.38s/it]\n"
     ]
    },
    {
     "name": "stdout",
     "output_type": "stream",
     "text": [
      "train-epoch-loss:0.0237 valid-beta4-score:0.4031\n"
     ]
    },
    {
     "name": "stderr",
     "output_type": "stream",
     "text": [
      "Epoch 50/150 [Training]: 100%|██████████| 258/258 [04:21<00:00,  1.01s/it, loss=0.0237]\n",
      "Epoch 50/150 [Validation]: 100%|██████████| 2/2 [00:01<00:00,  1.38it/s, loss=0.0251]\n",
      "100%|██████████| 15/15 [00:35<00:00,  2.40s/it]\n"
     ]
    },
    {
     "name": "stdout",
     "output_type": "stream",
     "text": [
      "train-epoch-loss:0.0237 valid-beta4-score:0.4094\n"
     ]
    },
    {
     "name": "stderr",
     "output_type": "stream",
     "text": [
      "Epoch 51/150 [Training]: 100%|██████████| 258/258 [04:13<00:00,  1.02it/s, loss=0.0239]\n",
      "Epoch 51/150 [Validation]: 100%|██████████| 2/2 [00:01<00:00,  1.37it/s, loss=0.0015]\n",
      "100%|██████████| 15/15 [00:36<00:00,  2.42s/it]\n"
     ]
    },
    {
     "name": "stdout",
     "output_type": "stream",
     "text": [
      "train-epoch-loss:0.0239 valid-beta4-score:0.3721\n"
     ]
    },
    {
     "name": "stderr",
     "output_type": "stream",
     "text": [
      "Epoch 52/150 [Training]: 100%|██████████| 258/258 [03:58<00:00,  1.08it/s, loss=0.0243]\n",
      "Epoch 52/150 [Validation]: 100%|██████████| 2/2 [00:01<00:00,  1.37it/s, loss=0.0199]\n",
      "100%|██████████| 15/15 [00:36<00:00,  2.41s/it]\n"
     ]
    },
    {
     "name": "stdout",
     "output_type": "stream",
     "text": [
      "train-epoch-loss:0.0243 valid-beta4-score:0.4014\n"
     ]
    },
    {
     "name": "stderr",
     "output_type": "stream",
     "text": [
      "Epoch 53/150 [Training]: 100%|██████████| 258/258 [04:23<00:00,  1.02s/it, loss=0.0208]\n",
      "Epoch 53/150 [Validation]: 100%|██████████| 2/2 [00:01<00:00,  1.37it/s, loss=0.0153]\n",
      "100%|██████████| 15/15 [00:35<00:00,  2.38s/it]\n"
     ]
    },
    {
     "name": "stdout",
     "output_type": "stream",
     "text": [
      "train-epoch-loss:0.0208 valid-beta4-score:0.3916\n"
     ]
    },
    {
     "name": "stderr",
     "output_type": "stream",
     "text": [
      "Epoch 54/150 [Training]:  69%|██████▉   | 178/258 [03:13<01:51,  1.39s/it, loss=0.0222]"
     ]
    }
   ],
   "source": [
    "best_model = None\n",
    "best_constant = 0\n",
    "best_score = -100\n",
    "best_particle_score = {}\n",
    "\n",
    "grand_train_loss = []\n",
    "grand_valid_loss = []\n",
    "grand_train_score = []\n",
    "grand_valid_score = []\n",
    "\n",
    "for epoch in range(CFG.epochs):\n",
    "    model.train()\n",
    "    train_loss = []\n",
    "    valid_loss = []\n",
    "    with tqdm(train_loader, desc=f\"Epoch {epoch + 1}/{CFG.epochs} [Training]\") as tq:\n",
    "        for data in tq:\n",
    "            normalized_tomogram = data[\"normalized_tomogram\"]\n",
    "            segmentation_map = data[\"segmentation_map\"]\n",
    "            zarr_embedding_idx = data[\"zarr_type_embedding_idx\"]\n",
    "\n",
    "            normalized_tomogram = padf(normalized_tomogram)\n",
    "            segmentation_map = padf(segmentation_map)\n",
    "\n",
    "            # データ拡張\n",
    "            normalized_tomogram, segmentation_map = augment_data(\n",
    "                normalized_tomogram, segmentation_map, p=CFG.augmentation_prob\n",
    "            )\n",
    "            normalized_tomogram = normalized_tomogram.cuda()\n",
    "            segmentation_map = segmentation_map.long().cuda()\n",
    "            zarr_embedding_idx = zarr_embedding_idx.cuda()\n",
    "\n",
    "            optimizer.zero_grad()\n",
    "\n",
    "            with autocast():\n",
    "                pred = model(preprocess_tensor(normalized_tomogram), zarr_embedding_idx)\n",
    "                loss = seg_loss(pred, segmentation_map)\n",
    "            # loss.backward()\n",
    "            # optimizer.step()\n",
    "            scaler.scale(loss).backward()\n",
    "            scaler.step(optimizer)\n",
    "            scaler.update()\n",
    "            scheduler.step()\n",
    "            train_loss.append(loss.item())\n",
    "\n",
    "            # 確率予測\n",
    "            prob_pred = torch.softmax(pred, dim=1)\n",
    "            tq.set_postfix({\"loss\": f\"{np.mean(train_loss):.4f}\"})\n",
    "\n",
    "    del normalized_tomogram, segmentation_map, zarr_embedding_idx, pred, loss\n",
    "    gc.collect()\n",
    "    torch.cuda.empty_cache()\n",
    "\n",
    "    with tqdm(valid_loader, desc=f\"Epoch {epoch + 1}/{CFG.epochs} [Validation]\") as tq:\n",
    "        with torch.no_grad():\n",
    "            for data in tq:\n",
    "                normalized_tomogram = data[\"normalized_tomogram\"].cuda()\n",
    "                segmentation_map = data[\"segmentation_map\"].long().cuda()\n",
    "                zarr_embedding_idx = data[\"zarr_type_embedding_idx\"].cuda()\n",
    "\n",
    "                normalized_tomogram = padf(normalized_tomogram)\n",
    "                segmentation_map = padf(segmentation_map)\n",
    "\n",
    "                with autocast():\n",
    "                    pred = model(\n",
    "                        preprocess_tensor(normalized_tomogram), zarr_embedding_idx\n",
    "                    )\n",
    "                    loss = seg_loss(pred, segmentation_map)\n",
    "                valid_loss.append(loss.item())\n",
    "\n",
    "                # 確率予測\n",
    "                prob_pred = torch.softmax(pred, dim=1)\n",
    "                tq.set_postfix({\"loss\": f\"{np.mean(valid_loss):.4f}\"})\n",
    "\n",
    "    del normalized_tomogram, segmentation_map, zarr_embedding_idx, pred, loss\n",
    "    gc.collect()\n",
    "    torch.cuda.empty_cache()\n",
    "\n",
    "    # # ############### validation ################\n",
    "    train_nshuffle_original_tomogram = defaultdict(list)\n",
    "    train_nshuffle_pred_tomogram = defaultdict(list)\n",
    "    train_nshuffle_gt_tomogram = defaultdict(list)\n",
    "\n",
    "    valid_original_tomogram = defaultdict(list)\n",
    "    valid_pred_tomogram = defaultdict(list)\n",
    "    valid_gt_tomogram = defaultdict(list)\n",
    "\n",
    "    train_mean_scores = []\n",
    "    valid_mean_scores = []\n",
    "\n",
    "    # モデルの保存\n",
    "    make_dir_ = (\n",
    "        f\"../../../../../../../../mnt/d/kaggle-tmp-models/czii2024/{notebook_name}/\"\n",
    "    )\n",
    "    os.makedirs(make_dir_, exist_ok=True)\n",
    "    torch.save(model.state_dict(), make_dir_ + f\"model_{epoch}.pth\")\n",
    "\n",
    "    # ############### validation ################\n",
    "    train_nshuffle_original_tomogram = defaultdict(list)\n",
    "    train_nshuffle_pred_tomogram = defaultdict(list)\n",
    "    train_nshuffle_gt_tomogram = defaultdict(list)\n",
    "\n",
    "    valid_original_tomogram = defaultdict(list)\n",
    "    valid_pred_tomogram = defaultdict(list)\n",
    "    valid_gt_tomogram = defaultdict(list)\n",
    "\n",
    "    train_mean_scores = []\n",
    "    valid_mean_scores = []\n",
    "\n",
    "    train_inferenced_array = {}\n",
    "    train_pred_array = []\n",
    "    train_gt_array = []\n",
    "    valid_inferenced_array = {}\n",
    "    valid_gt_array = []\n",
    "\n",
    "    # for exp_name in tqdm(CFG.train_exp_names):\n",
    "    for exp_name in [CFG.valid_exp_name]:  # 5つのデータで試す\n",
    "        # inferenced_array = inference(model, exp_name, train=False)\n",
    "        inferenced_array, n_tomogram, segmentation_map = inference(\n",
    "            model, exp_name, train=False\n",
    "        )\n",
    "        valid_inferenced_array[exp_name] = inferenced_array\n",
    "        base_dir = \"../../inputs/train/overlay/ExperimentRuns/\"\n",
    "        gt_df = create_gt_df(base_dir, [exp_name])\n",
    "        valid_gt_array.append(gt_df)\n",
    "\n",
    "    valid_gt_array = pd.concat(valid_gt_array)\n",
    "\n",
    "    b_constant = 0\n",
    "    b_score = -100\n",
    "    b_particle_score = {}\n",
    "    for constant in tqdm(np.linspace(0.05, 0.9, 15)):\n",
    "        valid_pred_array = []\n",
    "        sikii = {\n",
    "            \"apo-ferritin\": constant,\n",
    "            \"beta-amylase\": constant,\n",
    "            \"beta-galactosidase\": constant,\n",
    "            \"ribosome\": constant,\n",
    "            \"thyroglobulin\": constant,\n",
    "            \"virus-like-particle\": constant,\n",
    "        }\n",
    "        for exp_name in [CFG.valid_exp_name]:  # 5つのデータで試す\n",
    "            pred_df = inference2pos(\n",
    "                pred_segmask=valid_inferenced_array[exp_name],\n",
    "                exp_name=exp_name,\n",
    "                sikii_dict=sikii,\n",
    "            )\n",
    "            valid_pred_array.append(pred_df)\n",
    "\n",
    "        valid_pred_array = pd.concat(valid_pred_array)\n",
    "\n",
    "        if len(valid_pred_array) != 0:\n",
    "            # score_ = score(\n",
    "            #     valid_pred_array,\n",
    "            #     valid_gt_array,\n",
    "            #     row_id_column_name=\"index\",\n",
    "            #     distance_multiplier=0.5,\n",
    "            #     beta=4,\n",
    "            # )\n",
    "            result_df, score_ = compute_lb(\n",
    "                valid_pred_array,\n",
    "                \"../../inputs/train/overlay/ExperimentRuns/\",\n",
    "                CFG.valid_exp_names,\n",
    "            )\n",
    "            particle_score = extract_particle_results(result_df)\n",
    "\n",
    "            if score_ > b_score:\n",
    "                b_score = score_\n",
    "                b_constant = constant\n",
    "                b_particle_score = particle_score\n",
    "\n",
    "        import gc\n",
    "        import torch.cuda as cuda\n",
    "\n",
    "        # del valid_pred_array, valid_gt_array\n",
    "        gc.collect()\n",
    "        cuda.empty_cache()\n",
    "\n",
    "    # print(\"constant\", b_constant, \"score\", b_score)\n",
    "\n",
    "    # wandb-log\n",
    "    train_info = {\n",
    "        \"01_epoch\": epoch,\n",
    "        \"02_train_loss\": np.mean(train_loss),\n",
    "        \"03_valid_loss\": np.mean(valid_loss),\n",
    "        # \"train_score\": np.mean(train_mean_scores),\n",
    "        \"04_valid_best_score\": b_score,\n",
    "        \"05_valid_best_constant\": b_constant,\n",
    "    }\n",
    "    train_info = {**train_info, **b_particle_score}\n",
    "    wandb.log(train_info)\n",
    "\n",
    "    # score-update\n",
    "    if b_score > best_score:\n",
    "        best_constant = b_constant\n",
    "        best_score = b_score\n",
    "        # best_score = np.mean(valid_mean_scores)\n",
    "        best_model = model.state_dict()\n",
    "        torch.save(best_model, f\"./best_model.pth\")\n",
    "\n",
    "    print(\n",
    "        f\"train-epoch-loss:{np.mean(train_loss):.4f}\",\n",
    "        # f\"valid-epoch-loss:{np.mean(valid_loss):.4f}\",\n",
    "        # f\"train-beta4-score:{np.mean(train_mean_scores):.4f}\",\n",
    "        f\"valid-beta4-score:{b_score:.4f}\",\n",
    "    )\n",
    "\n",
    "    grand_train_loss.append(np.mean(train_loss))\n",
    "    # grand_valid_loss.append(np.mean(valid_loss))\n",
    "    # grand_train_score.append(np.mean(train_mean_scores))\n",
    "    grand_valid_score.append(b_score)"
   ]
  },
  {
   "cell_type": "code",
   "execution_count": null,
   "metadata": {},
   "outputs": [],
   "source": [
    "# train_lossとvalid_lossのプロット\n",
    "\n",
    "plt.plot(grand_train_loss, label=\"train_loss\")\n",
    "plt.plot(grand_valid_loss, label=\"valid_loss\")\n",
    "plt.legend()\n",
    "plt.show()"
   ]
  },
  {
   "cell_type": "code",
   "execution_count": null,
   "metadata": {},
   "outputs": [],
   "source": [
    "# train_scoreとvalid_scoreのプロット\n",
    "plt.plot(grand_train_score, label=\"train_score\")\n",
    "plt.plot(grand_valid_score, label=\"valid_score\")\n",
    "plt.legend()\n",
    "plt.show()"
   ]
  },
  {
   "cell_type": "code",
   "execution_count": null,
   "metadata": {},
   "outputs": [],
   "source": [
    "random.random()"
   ]
  },
  {
   "cell_type": "code",
   "execution_count": null,
   "metadata": {},
   "outputs": [],
   "source": []
  },
  {
   "cell_type": "code",
   "execution_count": null,
   "metadata": {},
   "outputs": [],
   "source": []
  }
 ],
 "metadata": {
  "kernelspec": {
   "display_name": "kaggle",
   "language": "python",
   "name": "python3"
  },
  "language_info": {
   "codemirror_mode": {
    "name": "ipython",
    "version": 3
   },
   "file_extension": ".py",
   "mimetype": "text/x-python",
   "name": "python",
   "nbconvert_exporter": "python",
   "pygments_lexer": "ipython3",
   "version": "3.9.16"
  }
 },
 "nbformat": 4,
 "nbformat_minor": 2
}
