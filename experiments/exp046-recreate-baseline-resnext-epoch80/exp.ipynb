{
 "cells": [
  {
   "cell_type": "code",
   "execution_count": 1,
   "metadata": {},
   "outputs": [],
   "source": [
    "import os\n",
    "import zarr\n",
    "import timm\n",
    "import random\n",
    "import json\n",
    "import warnings\n",
    "import numpy as np\n",
    "import pandas as pd\n",
    "import torch.nn as nn\n",
    "from pathlib import Path\n",
    "import matplotlib.pyplot as plt\n",
    "from torch.utils.data import DataLoader, Dataset\n",
    "from collections import defaultdict\n",
    "import sys\n",
    "import torch\n",
    "from torch.cuda.amp import autocast, GradScaler\n",
    "\n",
    "# import torchvision.transforms.functional as F\n",
    "import random\n",
    "\n",
    "warnings.filterwarnings(\"ignore\")\n",
    "sys.path.append(\"./src/\")\n",
    "\n",
    "from src.config import CFG\n",
    "from src.dataloader import (\n",
    "    read_zarr,\n",
    "    read_info_json,\n",
    "    scale_coordinates,\n",
    "    create_dataset,\n",
    "    create_segmentation_map,\n",
    "    EziiDataset,\n",
    "    drop_padding,\n",
    ")\n",
    "from src.network import Unet3D\n",
    "from src.utils import save_images, PadToSize\n",
    "from src.metric import (\n",
    "    score,\n",
    "    create_cls_pos,\n",
    "    create_cls_pos_sikii,\n",
    "    create_df,\n",
    "    SegmentationLoss,\n",
    "    DiceLoss,\n",
    ")\n",
    "from src.inference import inference, inference2pos, create_gt_df\n",
    "from metric import visualize_epoch_results"
   ]
  },
  {
   "cell_type": "code",
   "execution_count": 2,
   "metadata": {},
   "outputs": [
    {
     "name": "stderr",
     "output_type": "stream",
     "text": [
      "100%|██████████| 264/264 [00:09<00:00, 26.93it/s]\n",
      "100%|██████████| 1/1 [00:01<00:00,  1.43s/it]\n",
      "  0%|          | 0/132 [00:01<?, ?it/s]\n"
     ]
    },
    {
     "data": {
      "text/plain": [
       "torch.Size([2, 16, 630, 630])"
      ]
     },
     "execution_count": 2,
     "metadata": {},
     "output_type": "execute_result"
    }
   ],
   "source": [
    "train_dataset = EziiDataset(\n",
    "    exp_names=CFG.train_exp_names,\n",
    "    base_dir=\"../../inputs/train/\",\n",
    "    particles_name=CFG.particles_name,\n",
    "    resolution=CFG.resolution,\n",
    "    zarr_type=CFG.train_zarr_types,\n",
    "    train=True,\n",
    "    augmentation=True,\n",
    "    slice=True,\n",
    "    pre_read=True,\n",
    ")\n",
    "\n",
    "# train_nshuffle_dataset = EziiDataset(\n",
    "#     exp_names=CFG.train_exp_names,\n",
    "#     base_dir=\"../../inputs/train/\",\n",
    "#     particles_name=CFG.particles_name,\n",
    "#     resolution=CFG.resolution,\n",
    "#     zarr_type=CFG.train_zarr_types,\n",
    "#     augmentation=False,\n",
    "#     train=True,\n",
    "# )\n",
    "\n",
    "valid_dataset = EziiDataset(\n",
    "    exp_names=CFG.valid_exp_names,\n",
    "    base_dir=\"../../inputs/train/\",\n",
    "    particles_name=CFG.particles_name,\n",
    "    resolution=CFG.resolution,\n",
    "    zarr_type=CFG.valid_zarr_types,\n",
    "    augmentation=False,\n",
    "    train=True,\n",
    "    slice=True,\n",
    "    pre_read=True,\n",
    ")\n",
    "\n",
    "from tqdm import tqdm\n",
    "\n",
    "train_loader = DataLoader(\n",
    "    train_dataset,\n",
    "    batch_size=CFG.batch_size,\n",
    "    shuffle=True,\n",
    "    drop_last=True,\n",
    "    pin_memory=True,\n",
    "    num_workers=CFG.num_workers,\n",
    ")\n",
    "# train_nshuffle_loader = DataLoader(\n",
    "#     train_nshuffle_dataset,\n",
    "#     batch_size=1,\n",
    "#     shuffle=True,\n",
    "#     drop_last=True,\n",
    "#     pin_memory=True,\n",
    "#     num_workers=CFG.num_workers,\n",
    "# )\n",
    "valid_loader = DataLoader(\n",
    "    valid_dataset,\n",
    "    batch_size=1,\n",
    "    shuffle=False,\n",
    "    pin_memory=True,\n",
    "    num_workers=CFG.num_workers,\n",
    ")\n",
    "\n",
    "for data in tqdm(train_loader):\n",
    "    normalized_tomogram = data[\"normalized_tomogram\"]\n",
    "    segmentation_map = data[\"segmentation_map\"]\n",
    "    break\n",
    "\n",
    "normalized_tomogram.shape"
   ]
  },
  {
   "cell_type": "code",
   "execution_count": 3,
   "metadata": {},
   "outputs": [],
   "source": [
    "# from tqdm import tqdm\n",
    "\n",
    "# train_loader = DataLoader(\n",
    "#     train_dataset,\n",
    "#     batch_size=CFG.batch_size,\n",
    "#     shuffle=True,\n",
    "#     drop_last=True,\n",
    "#     pin_memory=True,\n",
    "#     num_workers=CFG.num_workers,\n",
    "# )\n",
    "# # train_nshuffle_loader = DataLoader(\n",
    "# #     train_nshuffle_dataset,\n",
    "# #     batch_size=1,\n",
    "# #     shuffle=True,\n",
    "# #     drop_last=True,\n",
    "# #     pin_memory=True,\n",
    "# #     num_workers=CFG.num_workers,\n",
    "# # )\n",
    "# valid_loader = DataLoader(\n",
    "#     valid_dataset,\n",
    "#     batch_size=1,\n",
    "#     shuffle=False,\n",
    "#     pin_memory=True,\n",
    "#     num_workers=CFG.num_workers,\n",
    "# )\n",
    "\n",
    "# for data in tqdm(train_loader):\n",
    "#     normalized_tomogram = data[\"normalized_tomogram\"]\n",
    "#     segmentation_map = data[\"segmentation_map\"]\n",
    "#     break\n",
    "\n",
    "# normalized_tomogram.shape"
   ]
  },
  {
   "cell_type": "code",
   "execution_count": 4,
   "metadata": {},
   "outputs": [
    {
     "data": {
      "text/plain": [
       "<All keys matched successfully>"
      ]
     },
     "execution_count": 4,
     "metadata": {},
     "output_type": "execute_result"
    }
   ],
   "source": [
    "encoder = timm.create_model(\n",
    "    model_name=CFG.model_name,\n",
    "    pretrained=True,\n",
    "    in_chans=3,\n",
    "    num_classes=0,\n",
    "    global_pool=\"\",\n",
    "    features_only=True,\n",
    ")\n",
    "model = Unet3D(encoder=encoder).to(\"cuda\")\n",
    "# model.load_state_dict(torch.load(\"./pretrained_model.pth\"))\n",
    "# model.load_state_dict(torch.load(\"./best_model.pth\"))"
   ]
  },
  {
   "cell_type": "code",
   "execution_count": 5,
   "metadata": {},
   "outputs": [],
   "source": [
    "# # \"encoder\"と名のつくパラメータは学習しない\n",
    "# for layer, param in model.named_parameters():\n",
    "#     if \"encoder\" in layer:\n",
    "#         param.requires_grad = False"
   ]
  },
  {
   "cell_type": "code",
   "execution_count": 6,
   "metadata": {},
   "outputs": [],
   "source": [
    "import matplotlib.pyplot as plt\n",
    "import numpy as np\n",
    "from matplotlib.colors import ListedColormap\n",
    "from matplotlib.patches import Patch\n",
    "\n",
    "# サンプルデータ\n",
    "num_classes = len(CFG.particles_name)  # クラス数\n",
    "colors = plt.cm.tab10(\n",
    "    np.arange(len(CFG.particles_name))\n",
    ")  # \"tab10\" カラーマップから色を取得\n",
    "\n",
    "# ListedColormap を作成\n",
    "class_colormap = ListedColormap(colors)\n",
    "\n",
    "\n",
    "# カラーバー付きプロット\n",
    "def plot_with_colormap(data, title, original_tomogram):\n",
    "    masked_data = np.ma.masked_where(data <= 0, data)  # クラス0をマスク\n",
    "    plt.imshow(original_tomogram, cmap=\"gray\")\n",
    "    im = plt.imshow(masked_data, cmap=class_colormap)\n",
    "    plt.title(title)\n",
    "    plt.axis(\"off\")\n",
    "    return im"
   ]
  },
  {
   "cell_type": "code",
   "execution_count": 7,
   "metadata": {},
   "outputs": [
    {
     "name": "stdout",
     "output_type": "stream",
     "text": [
      "Original shape: torch.Size([6, 16, 320, 320])\n",
      "Augmented shape: torch.Size([6, 16, 320, 320])\n"
     ]
    }
   ],
   "source": [
    "import torch\n",
    "import random\n",
    "import torchvision.transforms.functional as TF\n",
    "\n",
    "\n",
    "# 回転\n",
    "# 3Dテンソルの各軸に対して指定した角度で回転する関数\n",
    "def rotate_3d(tomogram, segmentation_map, angle):\n",
    "    \"\"\"Rotates the 3D tensors tomogram and segmentation_map around the Z-axis.\"\"\"\n",
    "    rotated_tomogram = TF.rotate(tomogram, angle, expand=False)\n",
    "    rotated_segmentation_map = TF.rotate(segmentation_map, angle, expand=False)\n",
    "    return rotated_tomogram, rotated_segmentation_map\n",
    "\n",
    "\n",
    "# 平行移動\n",
    "# 指定された範囲でランダムに平行移動\n",
    "def translate_3d(tomogram, segmentation_map, max_shift):\n",
    "    \"\"\"Translates the 3D tensors by a random shift within max_shift.\"\"\"\n",
    "    shift_x = random.randint(-max_shift, max_shift)\n",
    "    shift_y = random.randint(-max_shift, max_shift)\n",
    "    translated_tomogram = TF.affine(\n",
    "        tomogram, angle=0, translate=(shift_x, shift_y), scale=1, shear=0\n",
    "    )\n",
    "    translated_segmentation_map = TF.affine(\n",
    "        segmentation_map, angle=0, translate=(shift_x, shift_y), scale=1, shear=0\n",
    "    )\n",
    "    return translated_tomogram, translated_segmentation_map\n",
    "\n",
    "\n",
    "# フリップ\n",
    "# 縦横（上下左右）ランダムフリップ\n",
    "def flip_3d(tomogram, segmentation_map):\n",
    "    \"\"\"Randomly flips the 3D tensors along height or width.\"\"\"\n",
    "    if random.random() > 0.5:  # Horizontal flip\n",
    "        tomogram = torch.flip(tomogram, dims=[-1])\n",
    "        segmentation_map = torch.flip(segmentation_map, dims=[-1])\n",
    "    if random.random() > 0.5:  # Vertical flip\n",
    "        tomogram = torch.flip(tomogram, dims=[-2])\n",
    "        segmentation_map = torch.flip(segmentation_map, dims=[-2])\n",
    "    return tomogram, segmentation_map\n",
    "\n",
    "\n",
    "# クロッピング\n",
    "# 入力テンソルを中心またはランダムクロップで切り取る\n",
    "def crop_3d(tomogram, segmentation_map, crop_size):\n",
    "    \"\"\"Crops the 3D tensors to the specified crop_size.\"\"\"\n",
    "    _, depth, height, width = tomogram.size()\n",
    "    crop_d, crop_h, crop_w = crop_size\n",
    "\n",
    "    if crop_h > height or crop_w > width:\n",
    "        raise ValueError(\"Crop size cannot be larger than the original size.\")\n",
    "\n",
    "    start_h = random.randint(0, height - crop_h)  # Random starting position for height\n",
    "    start_w = random.randint(0, width - crop_w)  # Random starting position for width\n",
    "\n",
    "    cropped_tomogram = tomogram[\n",
    "        :, :, start_h : start_h + crop_h, start_w : start_w + crop_w\n",
    "    ]\n",
    "    cropped_segmentation_map = segmentation_map[\n",
    "        :, :, start_h : start_h + crop_h, start_w : start_w + crop_w\n",
    "    ]\n",
    "\n",
    "    return cropped_tomogram, cropped_segmentation_map\n",
    "\n",
    "\n",
    "# Mixup\n",
    "# 2つのサンプルを線形補間して混合\n",
    "def mixup(tomogram, segmentation_map, alpha=0.4):\n",
    "    \"\"\"Applies mixup augmentation to the batch.\"\"\"\n",
    "    lam = random.betavariate(alpha, alpha)\n",
    "    batch_size = tomogram.size(0)\n",
    "    index = torch.randperm(batch_size)\n",
    "\n",
    "    mixed_tomogram = lam * tomogram + (1 - lam) * tomogram[index, :]\n",
    "    mixed_segmentation_map = (\n",
    "        lam * segmentation_map + (1 - lam) * segmentation_map[index, :]\n",
    "    )\n",
    "\n",
    "    return mixed_tomogram, mixed_segmentation_map\n",
    "\n",
    "\n",
    "# Cutmix\n",
    "# ランダム領域を切り取って別のサンプルに貼り付け\n",
    "def cutmix(tomogram, segmentation_map, alpha=1.0):\n",
    "    \"\"\"Applies cutmix augmentation to the batch.\"\"\"\n",
    "    lam = random.betavariate(alpha, alpha)\n",
    "    batch_size, depth, height, width = tomogram.size()\n",
    "    index = torch.randperm(batch_size)\n",
    "\n",
    "    cx = random.randint(0, width)\n",
    "    cy = random.randint(0, height)\n",
    "    cw = int(width * (1 - lam))\n",
    "    ch = int(height * (1 - lam))\n",
    "\n",
    "    x1 = max(cx - cw // 2, 0)\n",
    "    x2 = min(cx + cw // 2, width)\n",
    "    y1 = max(cy - ch // 2, 0)\n",
    "    y2 = min(cy + ch // 2, height)\n",
    "\n",
    "    tomogram[:, :, y1:y2, x1:x2] = tomogram[index, :, y1:y2, x1:x2]\n",
    "    segmentation_map[:, :, y1:y2, x1:x2] = segmentation_map[index, :, y1:y2, x1:x2]\n",
    "\n",
    "    return tomogram, segmentation_map\n",
    "\n",
    "\n",
    "# データ拡張の組み合わせ適用\n",
    "def augment_data(\n",
    "    tomogram,\n",
    "    segmentation_map,\n",
    "    crop_size=(16, 256, 256),\n",
    "    max_shift=10,\n",
    "    rotation_angle=30,\n",
    "    p=0.5,\n",
    "    mixup_alpha=0.4,\n",
    "    cutmix_alpha=1.0,\n",
    "):\n",
    "    \"\"\"Applies a combination of rotation, translation, flipping, cropping, mixup, and cutmix to the inputs with probabilities.\"\"\"\n",
    "    if random.random() < p:\n",
    "        tomogram, segmentation_map = rotate_3d(\n",
    "            tomogram,\n",
    "            segmentation_map,\n",
    "            angle=random.uniform(-rotation_angle, rotation_angle),\n",
    "        )\n",
    "    if random.random() < p:\n",
    "        tomogram, segmentation_map = translate_3d(\n",
    "            tomogram, segmentation_map, max_shift=max_shift\n",
    "        )\n",
    "    if random.random() < p:\n",
    "        tomogram, segmentation_map = flip_3d(tomogram, segmentation_map)\n",
    "    if random.random() < p:\n",
    "        tomogram, segmentation_map = crop_3d(\n",
    "            tomogram, segmentation_map, crop_size=crop_size\n",
    "        )\n",
    "    if random.random() < p:\n",
    "        tomogram, segmentation_map = mixup(\n",
    "            tomogram, segmentation_map, alpha=mixup_alpha\n",
    "        )\n",
    "    # if random.random() < p:\n",
    "    #     tomogram, segmentation_map = cutmix(\n",
    "    #         tomogram, segmentation_map, alpha=cutmix_alpha\n",
    "    #     )\n",
    "    return tomogram, segmentation_map\n",
    "\n",
    "\n",
    "# 使用例\n",
    "# バッチサイズ6, 深さ16, 高さ320, 幅320のランダムテンソル\n",
    "tomogram = torch.rand((6, 16, 320, 320))\n",
    "segmentation_map = torch.randint(0, 2, (6, 16, 320, 320))  # ラベルは0または1\n",
    "\n",
    "# データ拡張の適用\n",
    "aug_tomogram, aug_segmentation_map = augment_data(tomogram, segmentation_map, p=0.7)\n",
    "print(\"Original shape:\", tomogram.shape)\n",
    "print(\"Augmented shape:\", aug_tomogram.shape)"
   ]
  },
  {
   "cell_type": "code",
   "execution_count": 8,
   "metadata": {},
   "outputs": [],
   "source": [
    "from transformers import get_cosine_schedule_with_warmup\n",
    "\n",
    "optimizer = torch.optim.Adam(\n",
    "    model.parameters(), lr=CFG.lr, weight_decay=CFG.weight_decay\n",
    ")\n",
    "criterion = nn.CrossEntropyLoss(\n",
    "    #  weight=torch.tensor([2.0, 32, 32, 32, 32, 32, 32]).to(\"cuda\")\n",
    ")\n",
    "# criterion = DiceLoss()\n",
    "scheduler = get_cosine_schedule_with_warmup(\n",
    "    optimizer,\n",
    "    num_warmup_steps=10,\n",
    "    num_training_steps=CFG.epochs * len(train_loader),\n",
    "    # * batch_size,\n",
    ")\n",
    "scaler = GradScaler()\n",
    "seg_loss = SegmentationLoss(criterion)\n",
    "padf = PadToSize(CFG.resolution)"
   ]
  },
  {
   "cell_type": "code",
   "execution_count": 9,
   "metadata": {},
   "outputs": [],
   "source": [
    "# b, c, d, h, w = CFG.batch_size, 1, 96, 320, 320"
   ]
  },
  {
   "cell_type": "code",
   "execution_count": 10,
   "metadata": {},
   "outputs": [],
   "source": [
    "def preprocess_tensor(tensor):\n",
    "    batch_size, depth, height, width = tensor.shape\n",
    "    tensor = tensor.unsqueeze(2)  # (b, d, h, w) -> (b, d, 1, h, w)\n",
    "    return tensor"
   ]
  },
  {
   "cell_type": "code",
   "execution_count": 11,
   "metadata": {},
   "outputs": [
    {
     "data": {
      "text/plain": [
       "torch.Size([2, 16, 640, 640])"
      ]
     },
     "execution_count": 11,
     "metadata": {},
     "output_type": "execute_result"
    }
   ],
   "source": [
    "padf = PadToSize(CFG.resolution)\n",
    "padf(normalized_tomogram).shape"
   ]
  },
  {
   "cell_type": "code",
   "execution_count": 12,
   "metadata": {},
   "outputs": [
    {
     "name": "stderr",
     "output_type": "stream",
     "text": [
      "Epoch 1/80 [Training]: 100%|██████████| 132/132 [01:39<00:00,  1.33it/s, loss=0.0211]\n",
      "Epoch 1/80 [Validation]: 100%|██████████| 1/1 [00:00<00:00,  1.71it/s, loss=0.0249]\n",
      "100%|██████████| 15/15 [00:32<00:00,  2.14s/it]\n"
     ]
    },
    {
     "name": "stdout",
     "output_type": "stream",
     "text": [
      "constant 0.9 score 0.1446808510638298\n",
      "train-epoch-loss:0.0211 valid-epoch-loss:0.0249 valid-beta4-score:0.1447\n"
     ]
    },
    {
     "name": "stderr",
     "output_type": "stream",
     "text": [
      "Epoch 2/80 [Training]: 100%|██████████| 132/132 [01:26<00:00,  1.52it/s, loss=0.0238]\n",
      "Epoch 2/80 [Validation]: 100%|██████████| 1/1 [00:00<00:00,  1.35it/s, loss=0.0207]\n",
      "100%|██████████| 15/15 [00:31<00:00,  2.12s/it]\n"
     ]
    },
    {
     "name": "stdout",
     "output_type": "stream",
     "text": [
      "constant 0.5571428571428572 score 0.25941650910657443\n",
      "train-epoch-loss:0.0238 valid-epoch-loss:0.0207 valid-beta4-score:0.2594\n"
     ]
    },
    {
     "name": "stderr",
     "output_type": "stream",
     "text": [
      "Epoch 3/80 [Training]: 100%|██████████| 132/132 [01:45<00:00,  1.25it/s, loss=0.0195]\n",
      "Epoch 3/80 [Validation]: 100%|██████████| 1/1 [00:00<00:00,  1.40it/s, loss=0.0208]\n",
      "100%|██████████| 15/15 [00:32<00:00,  2.19s/it]\n"
     ]
    },
    {
     "name": "stdout",
     "output_type": "stream",
     "text": [
      "constant 0.9 score 0.27677887855934685\n",
      "train-epoch-loss:0.0195 valid-epoch-loss:0.0208 valid-beta4-score:0.2768\n"
     ]
    },
    {
     "name": "stderr",
     "output_type": "stream",
     "text": [
      "Epoch 4/80 [Training]: 100%|██████████| 132/132 [01:27<00:00,  1.52it/s, loss=0.0203]\n",
      "Epoch 4/80 [Validation]: 100%|██████████| 1/1 [00:00<00:00,  1.29it/s, loss=0.0042]\n",
      "100%|██████████| 15/15 [00:31<00:00,  2.08s/it]\n"
     ]
    },
    {
     "name": "stdout",
     "output_type": "stream",
     "text": [
      "constant 0.3857142857142858 score 0.3235242157276637\n",
      "train-epoch-loss:0.0203 valid-epoch-loss:0.0042 valid-beta4-score:0.3235\n"
     ]
    },
    {
     "name": "stderr",
     "output_type": "stream",
     "text": [
      "Epoch 5/80 [Training]: 100%|██████████| 132/132 [01:25<00:00,  1.54it/s, loss=0.0217]\n",
      "Epoch 5/80 [Validation]: 100%|██████████| 1/1 [00:00<00:00,  1.33it/s, loss=0.0035]\n",
      "100%|██████████| 15/15 [00:32<00:00,  2.17s/it]\n"
     ]
    },
    {
     "name": "stdout",
     "output_type": "stream",
     "text": [
      "constant 0.3857142857142858 score 0.3334517507571517\n",
      "train-epoch-loss:0.0217 valid-epoch-loss:0.0035 valid-beta4-score:0.3335\n"
     ]
    },
    {
     "name": "stderr",
     "output_type": "stream",
     "text": [
      "Epoch 6/80 [Training]: 100%|██████████| 132/132 [01:29<00:00,  1.47it/s, loss=0.0196]\n",
      "Epoch 6/80 [Validation]: 100%|██████████| 1/1 [00:00<00:00,  1.32it/s, loss=0.0195]\n",
      "100%|██████████| 15/15 [00:32<00:00,  2.17s/it]\n"
     ]
    },
    {
     "name": "stdout",
     "output_type": "stream",
     "text": [
      "constant 0.6714285714285715 score 0.37897972017198284\n",
      "train-epoch-loss:0.0196 valid-epoch-loss:0.0195 valid-beta4-score:0.3790\n"
     ]
    },
    {
     "name": "stderr",
     "output_type": "stream",
     "text": [
      "Epoch 7/80 [Training]: 100%|██████████| 132/132 [01:32<00:00,  1.43it/s, loss=0.0236]\n",
      "Epoch 7/80 [Validation]: 100%|██████████| 1/1 [00:00<00:00,  1.35it/s, loss=0.0161]\n",
      "100%|██████████| 15/15 [00:32<00:00,  2.19s/it]\n"
     ]
    },
    {
     "name": "stdout",
     "output_type": "stream",
     "text": [
      "constant 0.27142857142857146 score 0.39541596801535356\n",
      "train-epoch-loss:0.0236 valid-epoch-loss:0.0161 valid-beta4-score:0.3954\n"
     ]
    },
    {
     "name": "stderr",
     "output_type": "stream",
     "text": [
      "Epoch 8/80 [Training]: 100%|██████████| 132/132 [01:38<00:00,  1.34it/s, loss=0.0185]\n",
      "Epoch 8/80 [Validation]: 100%|██████████| 1/1 [00:00<00:00,  1.31it/s, loss=0.0070]\n",
      "100%|██████████| 15/15 [00:32<00:00,  2.18s/it]\n"
     ]
    },
    {
     "name": "stdout",
     "output_type": "stream",
     "text": [
      "constant 0.6714285714285715 score 0.40267985982271703\n",
      "train-epoch-loss:0.0185 valid-epoch-loss:0.0070 valid-beta4-score:0.4027\n"
     ]
    },
    {
     "name": "stderr",
     "output_type": "stream",
     "text": [
      "Epoch 9/80 [Training]: 100%|██████████| 132/132 [01:27<00:00,  1.50it/s, loss=0.0214]\n",
      "Epoch 9/80 [Validation]: 100%|██████████| 1/1 [00:00<00:00,  1.33it/s, loss=0.0157]\n",
      "100%|██████████| 15/15 [00:32<00:00,  2.17s/it]\n"
     ]
    },
    {
     "name": "stdout",
     "output_type": "stream",
     "text": [
      "constant 0.27142857142857146 score 0.4237676720555889\n",
      "train-epoch-loss:0.0214 valid-epoch-loss:0.0157 valid-beta4-score:0.4238\n"
     ]
    },
    {
     "name": "stderr",
     "output_type": "stream",
     "text": [
      "Epoch 10/80 [Training]: 100%|██████████| 132/132 [01:38<00:00,  1.34it/s, loss=0.0231]\n",
      "Epoch 10/80 [Validation]: 100%|██████████| 1/1 [00:00<00:00,  1.26it/s, loss=0.0009]\n",
      "100%|██████████| 15/15 [00:33<00:00,  2.22s/it]\n"
     ]
    },
    {
     "name": "stdout",
     "output_type": "stream",
     "text": [
      "constant 0 score -100\n",
      "train-epoch-loss:0.0231 valid-epoch-loss:0.0009 valid-beta4-score:-100.0000\n"
     ]
    },
    {
     "name": "stderr",
     "output_type": "stream",
     "text": [
      "Epoch 11/80 [Training]: 100%|██████████| 132/132 [01:33<00:00,  1.42it/s, loss=0.0215]\n",
      "Epoch 11/80 [Validation]: 100%|██████████| 1/1 [00:00<00:00,  1.39it/s, loss=0.0077]\n",
      "100%|██████████| 15/15 [00:32<00:00,  2.14s/it]\n"
     ]
    },
    {
     "name": "stdout",
     "output_type": "stream",
     "text": [
      "constant 0.3857142857142858 score 0.5275906959930827\n",
      "train-epoch-loss:0.0215 valid-epoch-loss:0.0077 valid-beta4-score:0.5276\n"
     ]
    },
    {
     "name": "stderr",
     "output_type": "stream",
     "text": [
      "Epoch 12/80 [Training]: 100%|██████████| 132/132 [01:23<00:00,  1.58it/s, loss=0.0197]\n",
      "Epoch 12/80 [Validation]: 100%|██████████| 1/1 [00:00<00:00,  1.25it/s, loss=0.0004]\n",
      "100%|██████████| 15/15 [00:32<00:00,  2.16s/it]\n"
     ]
    },
    {
     "name": "stdout",
     "output_type": "stream",
     "text": [
      "constant 0.3285714285714286 score 0.5409193770342143\n",
      "train-epoch-loss:0.0197 valid-epoch-loss:0.0004 valid-beta4-score:0.5409\n"
     ]
    },
    {
     "name": "stderr",
     "output_type": "stream",
     "text": [
      "Epoch 13/80 [Training]: 100%|██████████| 132/132 [01:37<00:00,  1.36it/s, loss=0.0198]\n",
      "Epoch 13/80 [Validation]: 100%|██████████| 1/1 [00:00<00:00,  1.33it/s, loss=0.0095]\n",
      "100%|██████████| 15/15 [00:32<00:00,  2.15s/it]\n"
     ]
    },
    {
     "name": "stdout",
     "output_type": "stream",
     "text": [
      "constant 0 score -100\n",
      "train-epoch-loss:0.0198 valid-epoch-loss:0.0095 valid-beta4-score:-100.0000\n"
     ]
    },
    {
     "name": "stderr",
     "output_type": "stream",
     "text": [
      "Epoch 14/80 [Training]: 100%|██████████| 132/132 [01:33<00:00,  1.41it/s, loss=0.0204]\n",
      "Epoch 14/80 [Validation]: 100%|██████████| 1/1 [00:00<00:00,  1.31it/s, loss=0.0188]\n",
      "100%|██████████| 15/15 [00:32<00:00,  2.17s/it]\n"
     ]
    },
    {
     "name": "stdout",
     "output_type": "stream",
     "text": [
      "constant 0 score -100\n",
      "train-epoch-loss:0.0204 valid-epoch-loss:0.0188 valid-beta4-score:-100.0000\n"
     ]
    },
    {
     "name": "stderr",
     "output_type": "stream",
     "text": [
      "Epoch 15/80 [Training]: 100%|██████████| 132/132 [01:32<00:00,  1.42it/s, loss=0.0200]\n",
      "Epoch 15/80 [Validation]: 100%|██████████| 1/1 [00:00<00:00,  1.36it/s, loss=0.0190]\n",
      "100%|██████████| 15/15 [00:33<00:00,  2.23s/it]\n"
     ]
    },
    {
     "name": "stdout",
     "output_type": "stream",
     "text": [
      "constant 0 score -100\n",
      "train-epoch-loss:0.0200 valid-epoch-loss:0.0190 valid-beta4-score:-100.0000\n"
     ]
    },
    {
     "name": "stderr",
     "output_type": "stream",
     "text": [
      "Epoch 16/80 [Training]: 100%|██████████| 132/132 [01:27<00:00,  1.51it/s, loss=0.0221]\n",
      "Epoch 16/80 [Validation]: 100%|██████████| 1/1 [00:00<00:00,  1.31it/s, loss=0.0208]\n",
      "100%|██████████| 15/15 [00:32<00:00,  2.20s/it]\n"
     ]
    },
    {
     "name": "stdout",
     "output_type": "stream",
     "text": [
      "constant 0 score -100\n",
      "train-epoch-loss:0.0221 valid-epoch-loss:0.0208 valid-beta4-score:-100.0000\n"
     ]
    },
    {
     "name": "stderr",
     "output_type": "stream",
     "text": [
      "Epoch 17/80 [Training]: 100%|██████████| 132/132 [01:25<00:00,  1.55it/s, loss=0.0213]\n",
      "Epoch 17/80 [Validation]: 100%|██████████| 1/1 [00:00<00:00,  1.31it/s, loss=0.0003]\n",
      "100%|██████████| 15/15 [00:32<00:00,  2.18s/it]\n"
     ]
    },
    {
     "name": "stdout",
     "output_type": "stream",
     "text": [
      "constant 0 score -100\n",
      "train-epoch-loss:0.0213 valid-epoch-loss:0.0003 valid-beta4-score:-100.0000\n"
     ]
    },
    {
     "name": "stderr",
     "output_type": "stream",
     "text": [
      "Epoch 18/80 [Training]: 100%|██████████| 132/132 [01:27<00:00,  1.52it/s, loss=0.0164]\n",
      "Epoch 18/80 [Validation]: 100%|██████████| 1/1 [00:00<00:00,  1.23it/s, loss=0.0170]\n",
      "100%|██████████| 15/15 [00:33<00:00,  2.20s/it]\n"
     ]
    },
    {
     "name": "stdout",
     "output_type": "stream",
     "text": [
      "constant 0 score -100\n",
      "train-epoch-loss:0.0164 valid-epoch-loss:0.0170 valid-beta4-score:-100.0000\n"
     ]
    },
    {
     "name": "stderr",
     "output_type": "stream",
     "text": [
      "Epoch 19/80 [Training]: 100%|██████████| 132/132 [01:36<00:00,  1.36it/s, loss=0.0184]\n",
      "Epoch 19/80 [Validation]: 100%|██████████| 1/1 [00:00<00:00,  1.34it/s, loss=0.0032]\n",
      "100%|██████████| 15/15 [00:32<00:00,  2.18s/it]\n"
     ]
    },
    {
     "name": "stdout",
     "output_type": "stream",
     "text": [
      "constant 0.44285714285714284 score 0.592809019109966\n",
      "train-epoch-loss:0.0184 valid-epoch-loss:0.0032 valid-beta4-score:0.5928\n"
     ]
    },
    {
     "name": "stderr",
     "output_type": "stream",
     "text": [
      "Epoch 20/80 [Training]: 100%|██████████| 132/132 [01:31<00:00,  1.44it/s, loss=0.0228]\n",
      "Epoch 20/80 [Validation]: 100%|██████████| 1/1 [00:00<00:00,  1.29it/s, loss=0.0212]\n",
      "100%|██████████| 15/15 [00:32<00:00,  2.15s/it]\n"
     ]
    },
    {
     "name": "stdout",
     "output_type": "stream",
     "text": [
      "constant 0 score -100\n",
      "train-epoch-loss:0.0228 valid-epoch-loss:0.0212 valid-beta4-score:-100.0000\n"
     ]
    },
    {
     "name": "stderr",
     "output_type": "stream",
     "text": [
      "Epoch 21/80 [Training]: 100%|██████████| 132/132 [01:24<00:00,  1.56it/s, loss=0.0186]\n",
      "Epoch 21/80 [Validation]: 100%|██████████| 1/1 [00:00<00:00,  1.22it/s, loss=0.0137]\n",
      "100%|██████████| 15/15 [00:32<00:00,  2.19s/it]\n"
     ]
    },
    {
     "name": "stdout",
     "output_type": "stream",
     "text": [
      "constant 0.5571428571428572 score 0.6500575670864882\n",
      "train-epoch-loss:0.0186 valid-epoch-loss:0.0137 valid-beta4-score:0.6501\n"
     ]
    },
    {
     "name": "stderr",
     "output_type": "stream",
     "text": [
      "Epoch 22/80 [Training]: 100%|██████████| 132/132 [01:31<00:00,  1.44it/s, loss=0.0197]\n",
      "Epoch 22/80 [Validation]: 100%|██████████| 1/1 [00:00<00:00,  1.28it/s, loss=0.0153]\n",
      "100%|██████████| 15/15 [00:31<00:00,  2.09s/it]\n"
     ]
    },
    {
     "name": "stdout",
     "output_type": "stream",
     "text": [
      "constant 0 score -100\n",
      "train-epoch-loss:0.0197 valid-epoch-loss:0.0153 valid-beta4-score:-100.0000\n"
     ]
    },
    {
     "name": "stderr",
     "output_type": "stream",
     "text": [
      "Epoch 23/80 [Training]: 100%|██████████| 132/132 [01:31<00:00,  1.45it/s, loss=0.0190]\n",
      "Epoch 23/80 [Validation]: 100%|██████████| 1/1 [00:00<00:00,  1.27it/s, loss=0.0035]\n",
      "100%|██████████| 15/15 [00:32<00:00,  2.19s/it]\n"
     ]
    },
    {
     "name": "stdout",
     "output_type": "stream",
     "text": [
      "constant 0 score -100\n",
      "train-epoch-loss:0.0190 valid-epoch-loss:0.0035 valid-beta4-score:-100.0000\n"
     ]
    },
    {
     "name": "stderr",
     "output_type": "stream",
     "text": [
      "Epoch 24/80 [Training]: 100%|██████████| 132/132 [01:25<00:00,  1.54it/s, loss=0.0222]\n",
      "Epoch 24/80 [Validation]: 100%|██████████| 1/1 [00:00<00:00,  1.29it/s, loss=0.0216]\n",
      "100%|██████████| 15/15 [00:32<00:00,  2.19s/it]\n"
     ]
    },
    {
     "name": "stdout",
     "output_type": "stream",
     "text": [
      "constant 0 score -100\n",
      "train-epoch-loss:0.0222 valid-epoch-loss:0.0216 valid-beta4-score:-100.0000\n"
     ]
    },
    {
     "name": "stderr",
     "output_type": "stream",
     "text": [
      "Epoch 25/80 [Training]: 100%|██████████| 132/132 [01:25<00:00,  1.54it/s, loss=0.0186]\n",
      "Epoch 25/80 [Validation]: 100%|██████████| 1/1 [00:00<00:00,  1.36it/s, loss=0.0052]\n",
      "100%|██████████| 15/15 [00:32<00:00,  2.17s/it]\n"
     ]
    },
    {
     "name": "stdout",
     "output_type": "stream",
     "text": [
      "constant 0 score -100\n",
      "train-epoch-loss:0.0186 valid-epoch-loss:0.0052 valid-beta4-score:-100.0000\n"
     ]
    },
    {
     "name": "stderr",
     "output_type": "stream",
     "text": [
      "Epoch 26/80 [Training]: 100%|██████████| 132/132 [01:37<00:00,  1.35it/s, loss=0.0203]\n",
      "Epoch 26/80 [Validation]: 100%|██████████| 1/1 [00:00<00:00,  1.30it/s, loss=0.0086]\n",
      "100%|██████████| 15/15 [00:32<00:00,  2.19s/it]\n"
     ]
    },
    {
     "name": "stdout",
     "output_type": "stream",
     "text": [
      "constant 0 score -100\n",
      "train-epoch-loss:0.0203 valid-epoch-loss:0.0086 valid-beta4-score:-100.0000\n"
     ]
    },
    {
     "name": "stderr",
     "output_type": "stream",
     "text": [
      "Epoch 27/80 [Training]: 100%|██████████| 132/132 [01:32<00:00,  1.42it/s, loss=0.0172]\n",
      "Epoch 27/80 [Validation]: 100%|██████████| 1/1 [00:00<00:00,  1.28it/s, loss=0.0175]\n",
      "100%|██████████| 15/15 [00:32<00:00,  2.17s/it]\n"
     ]
    },
    {
     "name": "stdout",
     "output_type": "stream",
     "text": [
      "constant 0 score -100\n",
      "train-epoch-loss:0.0172 valid-epoch-loss:0.0175 valid-beta4-score:-100.0000\n"
     ]
    },
    {
     "name": "stderr",
     "output_type": "stream",
     "text": [
      "Epoch 28/80 [Training]: 100%|██████████| 132/132 [01:27<00:00,  1.51it/s, loss=0.0200]\n",
      "Epoch 28/80 [Validation]: 100%|██████████| 1/1 [00:00<00:00,  1.33it/s, loss=0.0153]\n",
      "100%|██████████| 15/15 [00:32<00:00,  2.18s/it]\n"
     ]
    },
    {
     "name": "stdout",
     "output_type": "stream",
     "text": [
      "constant 0 score -100\n",
      "train-epoch-loss:0.0200 valid-epoch-loss:0.0153 valid-beta4-score:-100.0000\n"
     ]
    },
    {
     "name": "stderr",
     "output_type": "stream",
     "text": [
      "Epoch 29/80 [Training]: 100%|██████████| 132/132 [01:38<00:00,  1.34it/s, loss=0.0165]\n",
      "Epoch 29/80 [Validation]: 100%|██████████| 1/1 [00:00<00:00,  1.36it/s, loss=0.0180]\n",
      "100%|██████████| 15/15 [00:32<00:00,  2.18s/it]\n"
     ]
    },
    {
     "name": "stdout",
     "output_type": "stream",
     "text": [
      "constant 0 score -100\n",
      "train-epoch-loss:0.0165 valid-epoch-loss:0.0180 valid-beta4-score:-100.0000\n"
     ]
    },
    {
     "name": "stderr",
     "output_type": "stream",
     "text": [
      "Epoch 30/80 [Training]: 100%|██████████| 132/132 [01:29<00:00,  1.48it/s, loss=0.0199]\n",
      "Epoch 30/80 [Validation]: 100%|██████████| 1/1 [00:00<00:00,  1.33it/s, loss=0.0197]\n",
      "100%|██████████| 15/15 [00:32<00:00,  2.19s/it]\n"
     ]
    },
    {
     "name": "stdout",
     "output_type": "stream",
     "text": [
      "constant 0 score -100\n",
      "train-epoch-loss:0.0199 valid-epoch-loss:0.0197 valid-beta4-score:-100.0000\n"
     ]
    },
    {
     "name": "stderr",
     "output_type": "stream",
     "text": [
      "Epoch 31/80 [Training]: 100%|██████████| 132/132 [01:33<00:00,  1.42it/s, loss=0.0178]\n",
      "Epoch 31/80 [Validation]: 100%|██████████| 1/1 [00:00<00:00,  1.35it/s, loss=0.0021]\n",
      "100%|██████████| 15/15 [00:33<00:00,  2.21s/it]\n"
     ]
    },
    {
     "name": "stdout",
     "output_type": "stream",
     "text": [
      "constant 0 score -100\n",
      "train-epoch-loss:0.0178 valid-epoch-loss:0.0021 valid-beta4-score:-100.0000\n"
     ]
    },
    {
     "name": "stderr",
     "output_type": "stream",
     "text": [
      "Epoch 32/80 [Training]: 100%|██████████| 132/132 [01:23<00:00,  1.57it/s, loss=0.0194]\n",
      "Epoch 32/80 [Validation]: 100%|██████████| 1/1 [00:00<00:00,  1.34it/s, loss=0.0068]\n",
      "100%|██████████| 15/15 [00:33<00:00,  2.20s/it]\n"
     ]
    },
    {
     "name": "stdout",
     "output_type": "stream",
     "text": [
      "constant 0 score -100\n",
      "train-epoch-loss:0.0194 valid-epoch-loss:0.0068 valid-beta4-score:-100.0000\n"
     ]
    },
    {
     "name": "stderr",
     "output_type": "stream",
     "text": [
      "Epoch 33/80 [Training]: 100%|██████████| 132/132 [01:29<00:00,  1.47it/s, loss=0.0197]\n",
      "Epoch 33/80 [Validation]: 100%|██████████| 1/1 [00:00<00:00,  1.31it/s, loss=0.0028]\n",
      "100%|██████████| 15/15 [00:33<00:00,  2.20s/it]\n"
     ]
    },
    {
     "name": "stdout",
     "output_type": "stream",
     "text": [
      "constant 0 score -100\n",
      "train-epoch-loss:0.0197 valid-epoch-loss:0.0028 valid-beta4-score:-100.0000\n"
     ]
    },
    {
     "name": "stderr",
     "output_type": "stream",
     "text": [
      "Epoch 34/80 [Training]: 100%|██████████| 132/132 [01:25<00:00,  1.54it/s, loss=0.0164]\n",
      "Epoch 34/80 [Validation]: 100%|██████████| 1/1 [00:00<00:00,  1.30it/s, loss=0.0138]\n",
      "100%|██████████| 15/15 [00:33<00:00,  2.22s/it]\n"
     ]
    },
    {
     "name": "stdout",
     "output_type": "stream",
     "text": [
      "constant 0 score -100\n",
      "train-epoch-loss:0.0164 valid-epoch-loss:0.0138 valid-beta4-score:-100.0000\n"
     ]
    },
    {
     "name": "stderr",
     "output_type": "stream",
     "text": [
      "Epoch 35/80 [Training]: 100%|██████████| 132/132 [01:37<00:00,  1.36it/s, loss=0.0189]\n",
      "Epoch 35/80 [Validation]: 100%|██████████| 1/1 [00:00<00:00,  1.33it/s, loss=0.0003]\n",
      "100%|██████████| 15/15 [00:33<00:00,  2.22s/it]\n"
     ]
    },
    {
     "name": "stdout",
     "output_type": "stream",
     "text": [
      "constant 0 score -100\n",
      "train-epoch-loss:0.0189 valid-epoch-loss:0.0003 valid-beta4-score:-100.0000\n"
     ]
    },
    {
     "name": "stderr",
     "output_type": "stream",
     "text": [
      "Epoch 36/80 [Training]: 100%|██████████| 132/132 [01:34<00:00,  1.39it/s, loss=0.0201]\n",
      "Epoch 36/80 [Validation]: 100%|██████████| 1/1 [00:00<00:00,  1.27it/s, loss=0.0143]\n",
      "100%|██████████| 15/15 [00:32<00:00,  2.16s/it]\n"
     ]
    },
    {
     "name": "stdout",
     "output_type": "stream",
     "text": [
      "constant 0 score -100\n",
      "train-epoch-loss:0.0201 valid-epoch-loss:0.0143 valid-beta4-score:-100.0000\n"
     ]
    },
    {
     "name": "stderr",
     "output_type": "stream",
     "text": [
      "Epoch 37/80 [Training]: 100%|██████████| 132/132 [01:28<00:00,  1.49it/s, loss=0.0177]\n",
      "Epoch 37/80 [Validation]: 100%|██████████| 1/1 [00:00<00:00,  1.35it/s, loss=0.0189]\n",
      "100%|██████████| 15/15 [00:33<00:00,  2.23s/it]\n"
     ]
    },
    {
     "name": "stdout",
     "output_type": "stream",
     "text": [
      "constant 0 score -100\n",
      "train-epoch-loss:0.0177 valid-epoch-loss:0.0189 valid-beta4-score:-100.0000\n"
     ]
    },
    {
     "name": "stderr",
     "output_type": "stream",
     "text": [
      "Epoch 38/80 [Training]: 100%|██████████| 132/132 [01:28<00:00,  1.49it/s, loss=0.0180]\n",
      "Epoch 38/80 [Validation]: 100%|██████████| 1/1 [00:00<00:00,  1.26it/s, loss=0.0017]\n",
      "100%|██████████| 15/15 [00:32<00:00,  2.19s/it]\n"
     ]
    },
    {
     "name": "stdout",
     "output_type": "stream",
     "text": [
      "constant 0 score -100\n",
      "train-epoch-loss:0.0180 valid-epoch-loss:0.0017 valid-beta4-score:-100.0000\n"
     ]
    },
    {
     "name": "stderr",
     "output_type": "stream",
     "text": [
      "Epoch 39/80 [Training]: 100%|██████████| 132/132 [01:32<00:00,  1.42it/s, loss=0.0150]\n",
      "Epoch 39/80 [Validation]: 100%|██████████| 1/1 [00:00<00:00,  1.31it/s, loss=0.0083]\n",
      "100%|██████████| 15/15 [00:32<00:00,  2.20s/it]\n"
     ]
    },
    {
     "name": "stdout",
     "output_type": "stream",
     "text": [
      "constant 0 score -100\n",
      "train-epoch-loss:0.0150 valid-epoch-loss:0.0083 valid-beta4-score:-100.0000\n"
     ]
    },
    {
     "name": "stderr",
     "output_type": "stream",
     "text": [
      "Epoch 40/80 [Training]: 100%|██████████| 132/132 [01:23<00:00,  1.58it/s, loss=0.0182]\n",
      "Epoch 40/80 [Validation]: 100%|██████████| 1/1 [00:00<00:00,  1.32it/s, loss=0.0004]\n",
      "100%|██████████| 15/15 [00:32<00:00,  2.17s/it]\n"
     ]
    },
    {
     "name": "stdout",
     "output_type": "stream",
     "text": [
      "constant 0 score -100\n",
      "train-epoch-loss:0.0182 valid-epoch-loss:0.0004 valid-beta4-score:-100.0000\n"
     ]
    },
    {
     "name": "stderr",
     "output_type": "stream",
     "text": [
      "Epoch 41/80 [Training]: 100%|██████████| 132/132 [01:31<00:00,  1.45it/s, loss=0.0171]\n",
      "Epoch 41/80 [Validation]: 100%|██████████| 1/1 [00:00<00:00,  1.39it/s, loss=0.0044]\n",
      "100%|██████████| 15/15 [00:32<00:00,  2.17s/it]\n"
     ]
    },
    {
     "name": "stdout",
     "output_type": "stream",
     "text": [
      "constant 0 score -100\n",
      "train-epoch-loss:0.0171 valid-epoch-loss:0.0044 valid-beta4-score:-100.0000\n"
     ]
    },
    {
     "name": "stderr",
     "output_type": "stream",
     "text": [
      "Epoch 42/80 [Training]: 100%|██████████| 132/132 [01:26<00:00,  1.53it/s, loss=0.0181]\n",
      "Epoch 42/80 [Validation]: 100%|██████████| 1/1 [00:00<00:00,  1.30it/s, loss=0.0055]\n",
      "100%|██████████| 15/15 [00:33<00:00,  2.22s/it]\n"
     ]
    },
    {
     "name": "stdout",
     "output_type": "stream",
     "text": [
      "constant 0 score -100\n",
      "train-epoch-loss:0.0181 valid-epoch-loss:0.0055 valid-beta4-score:-100.0000\n"
     ]
    },
    {
     "name": "stderr",
     "output_type": "stream",
     "text": [
      "Epoch 43/80 [Training]: 100%|██████████| 132/132 [01:32<00:00,  1.43it/s, loss=0.0161]\n",
      "Epoch 43/80 [Validation]: 100%|██████████| 1/1 [00:00<00:00,  1.28it/s, loss=0.0002]\n",
      "100%|██████████| 15/15 [00:33<00:00,  2.22s/it]\n"
     ]
    },
    {
     "name": "stdout",
     "output_type": "stream",
     "text": [
      "constant 0 score -100\n",
      "train-epoch-loss:0.0161 valid-epoch-loss:0.0002 valid-beta4-score:-100.0000\n"
     ]
    },
    {
     "name": "stderr",
     "output_type": "stream",
     "text": [
      "Epoch 44/80 [Training]: 100%|██████████| 132/132 [01:25<00:00,  1.54it/s, loss=0.0151]\n",
      "Epoch 44/80 [Validation]: 100%|██████████| 1/1 [00:00<00:00,  1.35it/s, loss=0.0020]\n",
      "100%|██████████| 15/15 [00:32<00:00,  2.18s/it]\n"
     ]
    },
    {
     "name": "stdout",
     "output_type": "stream",
     "text": [
      "constant 0 score -100\n",
      "train-epoch-loss:0.0151 valid-epoch-loss:0.0020 valid-beta4-score:-100.0000\n"
     ]
    },
    {
     "name": "stderr",
     "output_type": "stream",
     "text": [
      "Epoch 45/80 [Training]: 100%|██████████| 132/132 [01:26<00:00,  1.53it/s, loss=0.0145]\n",
      "Epoch 45/80 [Validation]: 100%|██████████| 1/1 [00:00<00:00,  1.36it/s, loss=0.0166]\n",
      "100%|██████████| 15/15 [00:32<00:00,  2.20s/it]\n"
     ]
    },
    {
     "name": "stdout",
     "output_type": "stream",
     "text": [
      "constant 0 score -100\n",
      "train-epoch-loss:0.0145 valid-epoch-loss:0.0166 valid-beta4-score:-100.0000\n"
     ]
    },
    {
     "name": "stderr",
     "output_type": "stream",
     "text": [
      "Epoch 46/80 [Training]: 100%|██████████| 132/132 [01:24<00:00,  1.57it/s, loss=0.0196]\n",
      "Epoch 46/80 [Validation]: 100%|██████████| 1/1 [00:00<00:00,  1.25it/s, loss=0.0183]\n",
      "100%|██████████| 15/15 [00:32<00:00,  2.20s/it]\n"
     ]
    },
    {
     "name": "stdout",
     "output_type": "stream",
     "text": [
      "constant 0 score -100\n",
      "train-epoch-loss:0.0196 valid-epoch-loss:0.0183 valid-beta4-score:-100.0000\n"
     ]
    },
    {
     "name": "stderr",
     "output_type": "stream",
     "text": [
      "Epoch 47/80 [Training]: 100%|██████████| 132/132 [01:26<00:00,  1.52it/s, loss=0.0154]\n",
      "Epoch 47/80 [Validation]: 100%|██████████| 1/1 [00:00<00:00,  1.27it/s, loss=0.0076]\n",
      "100%|██████████| 15/15 [00:32<00:00,  2.19s/it]\n"
     ]
    },
    {
     "name": "stdout",
     "output_type": "stream",
     "text": [
      "constant 0 score -100\n",
      "train-epoch-loss:0.0154 valid-epoch-loss:0.0076 valid-beta4-score:-100.0000\n"
     ]
    },
    {
     "name": "stderr",
     "output_type": "stream",
     "text": [
      "Epoch 48/80 [Training]: 100%|██████████| 132/132 [01:25<00:00,  1.54it/s, loss=0.0175]\n",
      "Epoch 48/80 [Validation]: 100%|██████████| 1/1 [00:00<00:00,  1.35it/s, loss=0.0006]\n",
      "100%|██████████| 15/15 [00:32<00:00,  2.17s/it]\n"
     ]
    },
    {
     "name": "stdout",
     "output_type": "stream",
     "text": [
      "constant 0.6142857142857143 score 0.661422094641995\n",
      "train-epoch-loss:0.0175 valid-epoch-loss:0.0006 valid-beta4-score:0.6614\n"
     ]
    },
    {
     "name": "stderr",
     "output_type": "stream",
     "text": [
      "Epoch 49/80 [Training]: 100%|██████████| 132/132 [01:24<00:00,  1.56it/s, loss=0.0155]\n",
      "Epoch 49/80 [Validation]: 100%|██████████| 1/1 [00:00<00:00,  1.34it/s, loss=0.0048]\n",
      "100%|██████████| 15/15 [00:33<00:00,  2.22s/it]\n"
     ]
    },
    {
     "name": "stdout",
     "output_type": "stream",
     "text": [
      "constant 0 score -100\n",
      "train-epoch-loss:0.0155 valid-epoch-loss:0.0048 valid-beta4-score:-100.0000\n"
     ]
    },
    {
     "name": "stderr",
     "output_type": "stream",
     "text": [
      "Epoch 50/80 [Training]: 100%|██████████| 132/132 [01:24<00:00,  1.56it/s, loss=0.0145]\n",
      "Epoch 50/80 [Validation]: 100%|██████████| 1/1 [00:00<00:00,  1.32it/s, loss=0.0041]\n",
      "100%|██████████| 15/15 [00:32<00:00,  2.20s/it]\n"
     ]
    },
    {
     "name": "stdout",
     "output_type": "stream",
     "text": [
      "constant 0 score -100\n",
      "train-epoch-loss:0.0145 valid-epoch-loss:0.0041 valid-beta4-score:-100.0000\n"
     ]
    },
    {
     "name": "stderr",
     "output_type": "stream",
     "text": [
      "Epoch 51/80 [Training]: 100%|██████████| 132/132 [01:25<00:00,  1.55it/s, loss=0.0190]\n",
      "Epoch 51/80 [Validation]: 100%|██████████| 1/1 [00:00<00:00,  1.27it/s, loss=0.0172]\n",
      "100%|██████████| 15/15 [00:33<00:00,  2.22s/it]\n"
     ]
    },
    {
     "name": "stdout",
     "output_type": "stream",
     "text": [
      "constant 0 score -100\n",
      "train-epoch-loss:0.0190 valid-epoch-loss:0.0172 valid-beta4-score:-100.0000\n"
     ]
    },
    {
     "name": "stderr",
     "output_type": "stream",
     "text": [
      "Epoch 52/80 [Training]: 100%|██████████| 132/132 [01:24<00:00,  1.57it/s, loss=0.0174]\n",
      "Epoch 52/80 [Validation]: 100%|██████████| 1/1 [00:00<00:00,  1.29it/s, loss=0.0178]\n",
      "100%|██████████| 15/15 [00:33<00:00,  2.24s/it]\n"
     ]
    },
    {
     "name": "stdout",
     "output_type": "stream",
     "text": [
      "constant 0 score -100\n",
      "train-epoch-loss:0.0174 valid-epoch-loss:0.0178 valid-beta4-score:-100.0000\n"
     ]
    },
    {
     "name": "stderr",
     "output_type": "stream",
     "text": [
      "Epoch 53/80 [Training]: 100%|██████████| 132/132 [01:35<00:00,  1.38it/s, loss=0.0168]\n",
      "Epoch 53/80 [Validation]: 100%|██████████| 1/1 [00:00<00:00,  1.32it/s, loss=0.0174]\n",
      "100%|██████████| 15/15 [00:33<00:00,  2.24s/it]\n"
     ]
    },
    {
     "name": "stdout",
     "output_type": "stream",
     "text": [
      "constant 0 score -100\n",
      "train-epoch-loss:0.0168 valid-epoch-loss:0.0174 valid-beta4-score:-100.0000\n"
     ]
    },
    {
     "name": "stderr",
     "output_type": "stream",
     "text": [
      "Epoch 54/80 [Training]: 100%|██████████| 132/132 [01:23<00:00,  1.58it/s, loss=0.0153]\n",
      "Epoch 54/80 [Validation]: 100%|██████████| 1/1 [00:00<00:00,  1.25it/s, loss=0.0049]\n",
      "100%|██████████| 15/15 [00:33<00:00,  2.26s/it]\n"
     ]
    },
    {
     "name": "stdout",
     "output_type": "stream",
     "text": [
      "constant 0 score -100\n",
      "train-epoch-loss:0.0153 valid-epoch-loss:0.0049 valid-beta4-score:-100.0000\n"
     ]
    },
    {
     "name": "stderr",
     "output_type": "stream",
     "text": [
      "Epoch 55/80 [Training]: 100%|██████████| 132/132 [01:29<00:00,  1.48it/s, loss=0.0151]\n",
      "Epoch 55/80 [Validation]: 100%|██████████| 1/1 [00:00<00:00,  1.26it/s, loss=0.0159]\n",
      "100%|██████████| 15/15 [00:33<00:00,  2.24s/it]\n"
     ]
    },
    {
     "name": "stdout",
     "output_type": "stream",
     "text": [
      "constant 0 score -100\n",
      "train-epoch-loss:0.0151 valid-epoch-loss:0.0159 valid-beta4-score:-100.0000\n"
     ]
    },
    {
     "name": "stderr",
     "output_type": "stream",
     "text": [
      "Epoch 56/80 [Training]: 100%|██████████| 132/132 [01:29<00:00,  1.48it/s, loss=0.0144]\n",
      "Epoch 56/80 [Validation]: 100%|██████████| 1/1 [00:00<00:00,  1.33it/s, loss=0.0174]\n",
      "100%|██████████| 15/15 [00:33<00:00,  2.26s/it]\n"
     ]
    },
    {
     "name": "stdout",
     "output_type": "stream",
     "text": [
      "constant 0 score -100\n",
      "train-epoch-loss:0.0144 valid-epoch-loss:0.0174 valid-beta4-score:-100.0000\n"
     ]
    },
    {
     "name": "stderr",
     "output_type": "stream",
     "text": [
      "Epoch 57/80 [Training]: 100%|██████████| 132/132 [01:32<00:00,  1.42it/s, loss=0.0157]\n",
      "Epoch 57/80 [Validation]: 100%|██████████| 1/1 [00:00<00:00,  1.33it/s, loss=0.0039]\n",
      "100%|██████████| 15/15 [00:33<00:00,  2.21s/it]\n"
     ]
    },
    {
     "name": "stdout",
     "output_type": "stream",
     "text": [
      "constant 0 score -100\n",
      "train-epoch-loss:0.0157 valid-epoch-loss:0.0039 valid-beta4-score:-100.0000\n"
     ]
    },
    {
     "name": "stderr",
     "output_type": "stream",
     "text": [
      "Epoch 58/80 [Training]: 100%|██████████| 132/132 [01:28<00:00,  1.49it/s, loss=0.0175]\n",
      "Epoch 58/80 [Validation]: 100%|██████████| 1/1 [00:00<00:00,  1.29it/s, loss=0.0002]\n",
      "100%|██████████| 15/15 [00:33<00:00,  2.22s/it]\n"
     ]
    },
    {
     "name": "stdout",
     "output_type": "stream",
     "text": [
      "constant 0 score -100\n",
      "train-epoch-loss:0.0175 valid-epoch-loss:0.0002 valid-beta4-score:-100.0000\n"
     ]
    },
    {
     "name": "stderr",
     "output_type": "stream",
     "text": [
      "Epoch 59/80 [Training]: 100%|██████████| 132/132 [01:21<00:00,  1.62it/s, loss=0.0182]\n",
      "Epoch 59/80 [Validation]: 100%|██████████| 1/1 [00:00<00:00,  1.27it/s, loss=0.0167]\n",
      "100%|██████████| 15/15 [00:33<00:00,  2.22s/it]\n"
     ]
    },
    {
     "name": "stdout",
     "output_type": "stream",
     "text": [
      "constant 0 score -100\n",
      "train-epoch-loss:0.0182 valid-epoch-loss:0.0167 valid-beta4-score:-100.0000\n"
     ]
    },
    {
     "name": "stderr",
     "output_type": "stream",
     "text": [
      "Epoch 60/80 [Training]: 100%|██████████| 132/132 [01:30<00:00,  1.46it/s, loss=0.0157]\n",
      "Epoch 60/80 [Validation]: 100%|██████████| 1/1 [00:00<00:00,  1.26it/s, loss=0.0120]\n",
      "100%|██████████| 15/15 [00:33<00:00,  2.22s/it]\n"
     ]
    },
    {
     "name": "stdout",
     "output_type": "stream",
     "text": [
      "constant 0 score -100\n",
      "train-epoch-loss:0.0157 valid-epoch-loss:0.0120 valid-beta4-score:-100.0000\n"
     ]
    },
    {
     "name": "stderr",
     "output_type": "stream",
     "text": [
      "Epoch 61/80 [Training]: 100%|██████████| 132/132 [01:38<00:00,  1.35it/s, loss=0.0154]\n",
      "Epoch 61/80 [Validation]: 100%|██████████| 1/1 [00:00<00:00,  1.23it/s, loss=0.0042]\n",
      "100%|██████████| 15/15 [00:33<00:00,  2.23s/it]\n"
     ]
    },
    {
     "name": "stdout",
     "output_type": "stream",
     "text": [
      "constant 0 score -100\n",
      "train-epoch-loss:0.0154 valid-epoch-loss:0.0042 valid-beta4-score:-100.0000\n"
     ]
    },
    {
     "name": "stderr",
     "output_type": "stream",
     "text": [
      "Epoch 62/80 [Training]: 100%|██████████| 132/132 [01:35<00:00,  1.39it/s, loss=0.0137]\n",
      "Epoch 62/80 [Validation]: 100%|██████████| 1/1 [00:00<00:00,  1.26it/s, loss=0.0176]\n",
      "100%|██████████| 15/15 [00:33<00:00,  2.21s/it]\n"
     ]
    },
    {
     "name": "stdout",
     "output_type": "stream",
     "text": [
      "constant 0 score -100\n",
      "train-epoch-loss:0.0137 valid-epoch-loss:0.0176 valid-beta4-score:-100.0000\n"
     ]
    },
    {
     "name": "stderr",
     "output_type": "stream",
     "text": [
      "Epoch 63/80 [Training]: 100%|██████████| 132/132 [01:25<00:00,  1.55it/s, loss=0.0150]\n",
      "Epoch 63/80 [Validation]: 100%|██████████| 1/1 [00:00<00:00,  1.37it/s, loss=0.0122]\n",
      "100%|██████████| 15/15 [00:33<00:00,  2.24s/it]\n"
     ]
    },
    {
     "name": "stdout",
     "output_type": "stream",
     "text": [
      "constant 0 score -100\n",
      "train-epoch-loss:0.0150 valid-epoch-loss:0.0122 valid-beta4-score:-100.0000\n"
     ]
    },
    {
     "name": "stderr",
     "output_type": "stream",
     "text": [
      "Epoch 64/80 [Training]: 100%|██████████| 132/132 [01:29<00:00,  1.48it/s, loss=0.0158]\n",
      "Epoch 64/80 [Validation]: 100%|██████████| 1/1 [00:00<00:00,  1.33it/s, loss=0.0002]\n",
      "100%|██████████| 15/15 [00:33<00:00,  2.20s/it]\n"
     ]
    },
    {
     "name": "stdout",
     "output_type": "stream",
     "text": [
      "constant 0 score -100\n",
      "train-epoch-loss:0.0158 valid-epoch-loss:0.0002 valid-beta4-score:-100.0000\n"
     ]
    },
    {
     "name": "stderr",
     "output_type": "stream",
     "text": [
      "Epoch 65/80 [Training]: 100%|██████████| 132/132 [01:30<00:00,  1.47it/s, loss=0.0131]\n",
      "Epoch 65/80 [Validation]: 100%|██████████| 1/1 [00:00<00:00,  1.18it/s, loss=0.0060]\n",
      "100%|██████████| 15/15 [00:33<00:00,  2.21s/it]\n"
     ]
    },
    {
     "name": "stdout",
     "output_type": "stream",
     "text": [
      "constant 0 score -100\n",
      "train-epoch-loss:0.0131 valid-epoch-loss:0.0060 valid-beta4-score:-100.0000\n"
     ]
    },
    {
     "name": "stderr",
     "output_type": "stream",
     "text": [
      "Epoch 66/80 [Training]: 100%|██████████| 132/132 [01:24<00:00,  1.56it/s, loss=0.0136]\n",
      "Epoch 66/80 [Validation]: 100%|██████████| 1/1 [00:00<00:00,  1.29it/s, loss=0.0197]\n",
      "100%|██████████| 15/15 [00:33<00:00,  2.21s/it]\n"
     ]
    },
    {
     "name": "stdout",
     "output_type": "stream",
     "text": [
      "constant 0 score -100\n",
      "train-epoch-loss:0.0136 valid-epoch-loss:0.0197 valid-beta4-score:-100.0000\n"
     ]
    },
    {
     "name": "stderr",
     "output_type": "stream",
     "text": [
      "Epoch 67/80 [Training]: 100%|██████████| 132/132 [01:27<00:00,  1.51it/s, loss=0.0147]\n",
      "Epoch 67/80 [Validation]: 100%|██████████| 1/1 [00:00<00:00,  1.22it/s, loss=0.0186]\n",
      "100%|██████████| 15/15 [00:33<00:00,  2.24s/it]\n"
     ]
    },
    {
     "name": "stdout",
     "output_type": "stream",
     "text": [
      "constant 0 score -100\n",
      "train-epoch-loss:0.0147 valid-epoch-loss:0.0186 valid-beta4-score:-100.0000\n"
     ]
    },
    {
     "name": "stderr",
     "output_type": "stream",
     "text": [
      "Epoch 68/80 [Training]: 100%|██████████| 132/132 [01:28<00:00,  1.49it/s, loss=0.0148]\n",
      "Epoch 68/80 [Validation]: 100%|██████████| 1/1 [00:00<00:00,  1.33it/s, loss=0.0203]\n",
      "100%|██████████| 15/15 [00:33<00:00,  2.26s/it]\n"
     ]
    },
    {
     "name": "stdout",
     "output_type": "stream",
     "text": [
      "constant 0 score -100\n",
      "train-epoch-loss:0.0148 valid-epoch-loss:0.0203 valid-beta4-score:-100.0000\n"
     ]
    },
    {
     "name": "stderr",
     "output_type": "stream",
     "text": [
      "Epoch 69/80 [Training]: 100%|██████████| 132/132 [01:27<00:00,  1.50it/s, loss=0.0151]\n",
      "Epoch 69/80 [Validation]: 100%|██████████| 1/1 [00:00<00:00,  1.35it/s, loss=0.0194]\n",
      "100%|██████████| 15/15 [00:33<00:00,  2.22s/it]\n"
     ]
    },
    {
     "name": "stdout",
     "output_type": "stream",
     "text": [
      "constant 0.3857142857142858 score 0.6964942123880435\n",
      "train-epoch-loss:0.0151 valid-epoch-loss:0.0194 valid-beta4-score:0.6965\n"
     ]
    },
    {
     "name": "stderr",
     "output_type": "stream",
     "text": [
      "Epoch 70/80 [Training]: 100%|██████████| 132/132 [01:33<00:00,  1.41it/s, loss=0.0137]\n",
      "Epoch 70/80 [Validation]: 100%|██████████| 1/1 [00:00<00:00,  1.33it/s, loss=0.0052]\n",
      "100%|██████████| 15/15 [00:32<00:00,  2.18s/it]\n"
     ]
    },
    {
     "name": "stdout",
     "output_type": "stream",
     "text": [
      "constant 0 score -100\n",
      "train-epoch-loss:0.0137 valid-epoch-loss:0.0052 valid-beta4-score:-100.0000\n"
     ]
    },
    {
     "name": "stderr",
     "output_type": "stream",
     "text": [
      "Epoch 71/80 [Training]: 100%|██████████| 132/132 [01:23<00:00,  1.57it/s, loss=0.0153]\n",
      "Epoch 71/80 [Validation]: 100%|██████████| 1/1 [00:00<00:00,  1.32it/s, loss=0.0031]\n",
      "100%|██████████| 15/15 [00:33<00:00,  2.23s/it]\n"
     ]
    },
    {
     "name": "stdout",
     "output_type": "stream",
     "text": [
      "constant 0 score -100\n",
      "train-epoch-loss:0.0153 valid-epoch-loss:0.0031 valid-beta4-score:-100.0000\n"
     ]
    },
    {
     "name": "stderr",
     "output_type": "stream",
     "text": [
      "Epoch 72/80 [Training]: 100%|██████████| 132/132 [01:19<00:00,  1.65it/s, loss=0.0153]\n",
      "Epoch 72/80 [Validation]: 100%|██████████| 1/1 [00:00<00:00,  1.32it/s, loss=0.0071]\n",
      "100%|██████████| 15/15 [00:33<00:00,  2.23s/it]\n"
     ]
    },
    {
     "name": "stdout",
     "output_type": "stream",
     "text": [
      "constant 0 score -100\n",
      "train-epoch-loss:0.0153 valid-epoch-loss:0.0071 valid-beta4-score:-100.0000\n"
     ]
    },
    {
     "name": "stderr",
     "output_type": "stream",
     "text": [
      "Epoch 73/80 [Training]: 100%|██████████| 132/132 [01:30<00:00,  1.46it/s, loss=0.0143]\n",
      "Epoch 73/80 [Validation]: 100%|██████████| 1/1 [00:00<00:00,  1.36it/s, loss=0.0177]\n",
      "100%|██████████| 15/15 [00:33<00:00,  2.22s/it]\n"
     ]
    },
    {
     "name": "stdout",
     "output_type": "stream",
     "text": [
      "constant 0 score -100\n",
      "train-epoch-loss:0.0143 valid-epoch-loss:0.0177 valid-beta4-score:-100.0000\n"
     ]
    },
    {
     "name": "stderr",
     "output_type": "stream",
     "text": [
      "Epoch 74/80 [Training]: 100%|██████████| 132/132 [01:17<00:00,  1.70it/s, loss=0.0151]\n",
      "Epoch 74/80 [Validation]: 100%|██████████| 1/1 [00:00<00:00,  1.29it/s, loss=0.0002]\n",
      "100%|██████████| 15/15 [00:33<00:00,  2.23s/it]\n"
     ]
    },
    {
     "name": "stdout",
     "output_type": "stream",
     "text": [
      "constant 0 score -100\n",
      "train-epoch-loss:0.0151 valid-epoch-loss:0.0002 valid-beta4-score:-100.0000\n"
     ]
    },
    {
     "name": "stderr",
     "output_type": "stream",
     "text": [
      "Epoch 75/80 [Training]: 100%|██████████| 132/132 [01:35<00:00,  1.38it/s, loss=0.0161]\n",
      "Epoch 75/80 [Validation]: 100%|██████████| 1/1 [00:00<00:00,  1.22it/s, loss=0.0001]\n",
      "100%|██████████| 15/15 [00:33<00:00,  2.23s/it]\n"
     ]
    },
    {
     "name": "stdout",
     "output_type": "stream",
     "text": [
      "constant 0 score -100\n",
      "train-epoch-loss:0.0161 valid-epoch-loss:0.0001 valid-beta4-score:-100.0000\n"
     ]
    },
    {
     "name": "stderr",
     "output_type": "stream",
     "text": [
      "Epoch 76/80 [Training]: 100%|██████████| 132/132 [01:25<00:00,  1.54it/s, loss=0.0132]\n",
      "Epoch 76/80 [Validation]: 100%|██████████| 1/1 [00:00<00:00,  1.31it/s, loss=0.0016]\n",
      "100%|██████████| 15/15 [00:34<00:00,  2.33s/it]\n"
     ]
    },
    {
     "name": "stdout",
     "output_type": "stream",
     "text": [
      "constant 0 score -100\n",
      "train-epoch-loss:0.0132 valid-epoch-loss:0.0016 valid-beta4-score:-100.0000\n"
     ]
    },
    {
     "name": "stderr",
     "output_type": "stream",
     "text": [
      "Epoch 77/80 [Training]: 100%|██████████| 132/132 [01:36<00:00,  1.36it/s, loss=0.0161]\n",
      "Epoch 77/80 [Validation]: 100%|██████████| 1/1 [00:00<00:00,  1.30it/s, loss=0.0016]\n",
      "100%|██████████| 15/15 [00:33<00:00,  2.24s/it]\n"
     ]
    },
    {
     "name": "stdout",
     "output_type": "stream",
     "text": [
      "constant 0 score -100\n",
      "train-epoch-loss:0.0161 valid-epoch-loss:0.0016 valid-beta4-score:-100.0000\n"
     ]
    },
    {
     "name": "stderr",
     "output_type": "stream",
     "text": [
      "Epoch 78/80 [Training]: 100%|██████████| 132/132 [01:27<00:00,  1.51it/s, loss=0.0152]\n",
      "Epoch 78/80 [Validation]: 100%|██████████| 1/1 [00:00<00:00,  1.31it/s, loss=0.0032]\n",
      "100%|██████████| 15/15 [00:33<00:00,  2.23s/it]\n"
     ]
    },
    {
     "name": "stdout",
     "output_type": "stream",
     "text": [
      "constant 0 score -100\n",
      "train-epoch-loss:0.0152 valid-epoch-loss:0.0032 valid-beta4-score:-100.0000\n"
     ]
    },
    {
     "name": "stderr",
     "output_type": "stream",
     "text": [
      "Epoch 79/80 [Training]: 100%|██████████| 132/132 [01:26<00:00,  1.52it/s, loss=0.0173]\n",
      "Epoch 79/80 [Validation]: 100%|██████████| 1/1 [00:00<00:00,  1.26it/s, loss=0.0001]\n",
      "100%|██████████| 15/15 [00:32<00:00,  2.20s/it]\n"
     ]
    },
    {
     "name": "stdout",
     "output_type": "stream",
     "text": [
      "constant 0 score -100\n",
      "train-epoch-loss:0.0173 valid-epoch-loss:0.0001 valid-beta4-score:-100.0000\n"
     ]
    },
    {
     "name": "stderr",
     "output_type": "stream",
     "text": [
      "Epoch 80/80 [Training]: 100%|██████████| 132/132 [01:32<00:00,  1.43it/s, loss=0.0149]\n",
      "Epoch 80/80 [Validation]: 100%|██████████| 1/1 [00:00<00:00,  1.40it/s, loss=0.0193]\n",
      "100%|██████████| 15/15 [00:33<00:00,  2.22s/it]"
     ]
    },
    {
     "name": "stdout",
     "output_type": "stream",
     "text": [
      "constant 0 score -100\n",
      "train-epoch-loss:0.0149 valid-epoch-loss:0.0193 valid-beta4-score:-100.0000\n"
     ]
    },
    {
     "name": "stderr",
     "output_type": "stream",
     "text": [
      "\n"
     ]
    }
   ],
   "source": [
    "best_model = None\n",
    "best_constant = 0\n",
    "best_score = -100\n",
    "\n",
    "grand_train_loss = []\n",
    "grand_valid_loss = []\n",
    "grand_train_score = []\n",
    "grand_valid_score = []\n",
    "\n",
    "for epoch in range(CFG.epochs):\n",
    "    model.train()\n",
    "    train_loss = []\n",
    "    valid_loss = []\n",
    "    with tqdm(train_loader, desc=f\"Epoch {epoch + 1}/{CFG.epochs} [Training]\") as tq:\n",
    "        for data in tq:\n",
    "            normalized_tomogram = data[\"normalized_tomogram\"]\n",
    "            segmentation_map = data[\"segmentation_map\"]\n",
    "\n",
    "            normalized_tomogram = padf(normalized_tomogram)\n",
    "            segmentation_map = padf(segmentation_map)\n",
    "\n",
    "            # データ拡張\n",
    "            normalized_tomogram, segmentation_map = augment_data(\n",
    "                normalized_tomogram, segmentation_map, p=CFG.augmentation_prob\n",
    "            )\n",
    "            normalized_tomogram = normalized_tomogram.cuda()\n",
    "            segmentation_map = segmentation_map.long().cuda()\n",
    "\n",
    "            optimizer.zero_grad()\n",
    "\n",
    "            with autocast():\n",
    "                pred = model(preprocess_tensor(normalized_tomogram))\n",
    "                loss = seg_loss(pred, segmentation_map)\n",
    "            # loss.backward()\n",
    "            # optimizer.step()\n",
    "            scaler.scale(loss).backward()\n",
    "            scaler.step(optimizer)\n",
    "            scaler.update()\n",
    "            scheduler.step()\n",
    "            train_loss.append(loss.item())\n",
    "\n",
    "            # 確率予測\n",
    "            prob_pred = torch.softmax(pred, dim=1)\n",
    "            tq.set_postfix({\"loss\": f\"{np.mean(train_loss):.4f}\"})\n",
    "\n",
    "    with tqdm(valid_loader, desc=f\"Epoch {epoch + 1}/{CFG.epochs} [Validation]\") as tq:\n",
    "        for data in tq:\n",
    "            normalized_tomogram = data[\"normalized_tomogram\"].cuda()\n",
    "            segmentation_map = data[\"segmentation_map\"].long().cuda()\n",
    "\n",
    "            normalized_tomogram = padf(normalized_tomogram)\n",
    "            segmentation_map = padf(segmentation_map)\n",
    "\n",
    "            with autocast():\n",
    "                pred = model(preprocess_tensor(normalized_tomogram))\n",
    "                loss = seg_loss(pred, segmentation_map)\n",
    "            valid_loss.append(loss.item())\n",
    "\n",
    "            # 確率予測\n",
    "            prob_pred = torch.softmax(pred, dim=1)\n",
    "            tq.set_postfix({\"loss\": f\"{np.mean(valid_loss):.4f}\"})\n",
    "\n",
    "    # # ############### validation ################\n",
    "    train_nshuffle_original_tomogram = defaultdict(list)\n",
    "    train_nshuffle_pred_tomogram = defaultdict(list)\n",
    "    train_nshuffle_gt_tomogram = defaultdict(list)\n",
    "\n",
    "    valid_original_tomogram = defaultdict(list)\n",
    "    valid_pred_tomogram = defaultdict(list)\n",
    "    valid_gt_tomogram = defaultdict(list)\n",
    "\n",
    "    train_mean_scores = []\n",
    "    valid_mean_scores = []\n",
    "\n",
    "    # モデルの保存\n",
    "    torch.save(model.state_dict(), \"./pretrained_model.pth\")\n",
    "\n",
    "    # ############### validation ################\n",
    "    train_nshuffle_original_tomogram = defaultdict(list)\n",
    "    train_nshuffle_pred_tomogram = defaultdict(list)\n",
    "    train_nshuffle_gt_tomogram = defaultdict(list)\n",
    "\n",
    "    valid_original_tomogram = defaultdict(list)\n",
    "    valid_pred_tomogram = defaultdict(list)\n",
    "    valid_gt_tomogram = defaultdict(list)\n",
    "\n",
    "    train_mean_scores = []\n",
    "    valid_mean_scores = []\n",
    "\n",
    "    train_inferenced_array = {}\n",
    "    train_pred_array = []\n",
    "    train_gt_array = []\n",
    "    valid_inferenced_array = {}\n",
    "    valid_gt_array = []\n",
    "\n",
    "    # for exp_name in tqdm(CFG.train_exp_names):\n",
    "    for exp_name in [CFG.valid_exp_name]:  # 5つのデータで試す\n",
    "        # inferenced_array = inference(model, exp_name, train=False)\n",
    "        inferenced_array, n_tomogram, segmentation_map = inference(\n",
    "            model, exp_name, train=False\n",
    "        )\n",
    "        valid_inferenced_array[exp_name] = inferenced_array\n",
    "        base_dir = \"../../inputs/train/overlay/ExperimentRuns/\"\n",
    "        gt_df = create_gt_df(base_dir, [exp_name])\n",
    "        valid_gt_array.append(gt_df)\n",
    "\n",
    "    valid_gt_array = pd.concat(valid_gt_array)\n",
    "\n",
    "    b_constant = 0\n",
    "    b_score = -100\n",
    "    for constant in tqdm(np.linspace(0.1, 0.9, 15)):\n",
    "        valid_pred_array = []\n",
    "        sikii = {\n",
    "            \"apo-ferritin\": constant,\n",
    "            \"beta-amylase\": constant,\n",
    "            \"beta-galactosidase\": constant,\n",
    "            \"ribosome\": constant,\n",
    "            \"thyroglobulin\": constant,\n",
    "            \"virus-like-particle\": constant,\n",
    "        }\n",
    "        for exp_name in [CFG.valid_exp_name]:  # 5つのデータで試す\n",
    "            pred_df = inference2pos(\n",
    "                pred_segmask=valid_inferenced_array[exp_name],\n",
    "                exp_name=exp_name,\n",
    "                sikii_dict=sikii,\n",
    "            )\n",
    "            valid_pred_array.append(pred_df)\n",
    "\n",
    "        valid_pred_array = pd.concat(valid_pred_array)\n",
    "\n",
    "        if len(valid_pred_array) != 0:\n",
    "            score_ = score(\n",
    "                valid_pred_array,\n",
    "                valid_gt_array,\n",
    "                row_id_column_name=\"index\",\n",
    "                distance_multiplier=1.0,\n",
    "                beta=4,\n",
    "            )\n",
    "            if score_ > best_score:\n",
    "                b_score = score_\n",
    "                b_constant = constant\n",
    "\n",
    "        import gc\n",
    "        import torch.cuda as cuda\n",
    "\n",
    "        gc.collect()\n",
    "        cuda.empty_cache()\n",
    "\n",
    "    print(\"constant\", b_constant, \"score\", b_score)\n",
    "\n",
    "    if b_score > best_score:\n",
    "        best_constant = b_constant\n",
    "        best_score = b_score\n",
    "        # best_score = np.mean(valid_mean_scores)\n",
    "        best_model = model.state_dict()\n",
    "        torch.save(best_model, f\"./best_model.pth\")\n",
    "\n",
    "    print(\n",
    "        f\"train-epoch-loss:{np.mean(train_loss):.4f}\",\n",
    "        f\"valid-epoch-loss:{np.mean(valid_loss):.4f}\",\n",
    "        # f\"train-beta4-score:{np.mean(train_mean_scores):.4f}\",\n",
    "        f\"valid-beta4-score:{b_score:.4f}\",\n",
    "    )\n",
    "\n",
    "    grand_train_loss.append(np.mean(train_loss))\n",
    "    grand_valid_loss.append(np.mean(valid_loss))\n",
    "    # grand_train_score.append(np.mean(train_mean_scores))\n",
    "    grand_valid_score.append(b_score)"
   ]
  },
  {
   "cell_type": "code",
   "execution_count": 13,
   "metadata": {},
   "outputs": [
    {
     "data": {
      "image/png": "[encoded data removed]",
      "text/plain": [
       "<Figure size 640x480 with 1 Axes>"
      ]
     },
     "metadata": {},
     "output_type": "display_data"
    }
   ],
   "source": [
    "# train_lossとvalid_lossのプロット\n",
    "\n",
    "plt.plot(grand_train_loss, label=\"train_loss\")\n",
    "plt.plot(grand_valid_loss, label=\"valid_loss\")\n",
    "plt.legend()\n",
    "plt.show()"
   ]
  },
  {
   "cell_type": "code",
   "execution_count": 14,
   "metadata": {},
   "outputs": [
    {
     "data": {
      "image/png": "[encoded data removed]",
      "text/plain": [
       "<Figure size 640x480 with 1 Axes>"
      ]
     },
     "metadata": {},
     "output_type": "display_data"
    }
   ],
   "source": [
    "# train_scoreとvalid_scoreのプロット\n",
    "# plt.plot(grand_train_score, label=\"train_score\")\n",
    "plt.plot(grand_valid_score, label=\"valid_score\")\n",
    "plt.legend()\n",
    "plt.show()"
   ]
  },
  {
   "cell_type": "code",
   "execution_count": 15,
   "metadata": {},
   "outputs": [
    {
     "data": {
      "text/plain": [
       "0.9536093117873552"
      ]
     },
     "execution_count": 15,
     "metadata": {},
     "output_type": "execute_result"
    }
   ],
   "source": [
    "random.random()"
   ]
  },
  {
   "cell_type": "code",
   "execution_count": null,
   "metadata": {},
   "outputs": [],
   "source": []
  }
 ],
 "metadata": {
  "kernelspec": {
   "display_name": "kaggle",
   "language": "python",
   "name": "python3"
  },
  "language_info": {
   "codemirror_mode": {
    "name": "ipython",
    "version": 3
   },
   "file_extension": ".py",
   "mimetype": "text/x-python",
   "name": "python",
   "nbconvert_exporter": "python",
   "pygments_lexer": "ipython3",
   "version": "3.9.16"
  }
 },
 "nbformat": 4,
 "nbformat_minor": 2
}
