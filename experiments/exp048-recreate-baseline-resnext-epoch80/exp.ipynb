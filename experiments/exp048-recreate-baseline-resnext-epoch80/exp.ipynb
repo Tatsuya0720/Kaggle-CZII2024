{
 "cells": [
  {
   "cell_type": "code",
   "execution_count": 1,
   "metadata": {},
   "outputs": [],
   "source": [
    "import os\n",
    "import zarr\n",
    "import timm\n",
    "import random\n",
    "import json\n",
    "import warnings\n",
    "import numpy as np\n",
    "import pandas as pd\n",
    "import torch.nn as nn\n",
    "from pathlib import Path\n",
    "import matplotlib.pyplot as plt\n",
    "from torch.utils.data import DataLoader, Dataset\n",
    "from collections import defaultdict\n",
    "import sys\n",
    "import torch\n",
    "from torch.cuda.amp import autocast, GradScaler\n",
    "\n",
    "# import torchvision.transforms.functional as F\n",
    "import random\n",
    "\n",
    "warnings.filterwarnings(\"ignore\")\n",
    "sys.path.append(\"./src/\")\n",
    "\n",
    "from src.config import CFG\n",
    "from src.dataloader import (\n",
    "    read_zarr,\n",
    "    read_info_json,\n",
    "    scale_coordinates,\n",
    "    create_dataset,\n",
    "    create_segmentation_map,\n",
    "    EziiDataset,\n",
    "    drop_padding,\n",
    ")\n",
    "from src.network import Unet3D\n",
    "from src.utils import save_images, PadToSize\n",
    "from src.metric import (\n",
    "    score,\n",
    "    create_cls_pos,\n",
    "    create_cls_pos_sikii,\n",
    "    create_df,\n",
    "    SegmentationLoss,\n",
    "    DiceLoss,\n",
    ")\n",
    "from src.inference import inference, inference2pos, create_gt_df\n",
    "from metric import visualize_epoch_results"
   ]
  },
  {
   "cell_type": "code",
   "execution_count": 2,
   "metadata": {},
   "outputs": [
    {
     "name": "stderr",
     "output_type": "stream",
     "text": [
      "100%|██████████| 1200/1200 [00:08<00:00, 134.65it/s]\n",
      "100%|██████████| 1/1 [00:01<00:00,  1.43s/it]\n",
      "  0%|          | 0/300 [00:01<?, ?it/s]\n"
     ]
    },
    {
     "data": {
      "text/plain": [
       "torch.Size([4, 16, 64, 64])"
      ]
     },
     "execution_count": 2,
     "metadata": {},
     "output_type": "execute_result"
    }
   ],
   "source": [
    "train_dataset = EziiDataset(\n",
    "    exp_names=CFG.train_exp_names,\n",
    "    base_dir=\"../../inputs/train/\",\n",
    "    particles_name=CFG.particles_name,\n",
    "    resolution=CFG.resolution,\n",
    "    zarr_type=CFG.train_zarr_types,\n",
    "    train=True,\n",
    "    augmentation=True,\n",
    "    slice=True,\n",
    "    pre_read=True,\n",
    ")\n",
    "\n",
    "# train_nshuffle_dataset = EziiDataset(\n",
    "#     exp_names=CFG.train_exp_names,\n",
    "#     base_dir=\"../../inputs/train/\",\n",
    "#     particles_name=CFG.particles_name,\n",
    "#     resolution=CFG.resolution,\n",
    "#     zarr_type=CFG.train_zarr_types,\n",
    "#     augmentation=False,\n",
    "#     train=True,\n",
    "# )\n",
    "\n",
    "valid_dataset = EziiDataset(\n",
    "    exp_names=CFG.valid_exp_names,\n",
    "    base_dir=\"../../inputs/train/\",\n",
    "    particles_name=CFG.particles_name,\n",
    "    resolution=CFG.resolution,\n",
    "    zarr_type=CFG.valid_zarr_types,\n",
    "    augmentation=False,\n",
    "    train=True,\n",
    "    slice=True,\n",
    "    pre_read=True,\n",
    ")\n",
    "\n",
    "from tqdm import tqdm\n",
    "\n",
    "train_loader = DataLoader(\n",
    "    train_dataset,\n",
    "    batch_size=CFG.batch_size,\n",
    "    shuffle=True,\n",
    "    drop_last=True,\n",
    "    pin_memory=True,\n",
    "    num_workers=CFG.num_workers,\n",
    ")\n",
    "# train_nshuffle_loader = DataLoader(\n",
    "#     train_nshuffle_dataset,\n",
    "#     batch_size=1,\n",
    "#     shuffle=True,\n",
    "#     drop_last=True,\n",
    "#     pin_memory=True,\n",
    "#     num_workers=CFG.num_workers,\n",
    "# )\n",
    "valid_loader = DataLoader(\n",
    "    valid_dataset,\n",
    "    batch_size=1,\n",
    "    shuffle=False,\n",
    "    pin_memory=True,\n",
    "    num_workers=CFG.num_workers,\n",
    ")\n",
    "\n",
    "for data in tqdm(train_loader):\n",
    "    normalized_tomogram = data[\"normalized_tomogram\"]\n",
    "    segmentation_map = data[\"segmentation_map\"]\n",
    "    break\n",
    "\n",
    "normalized_tomogram.shape"
   ]
  },
  {
   "cell_type": "code",
   "execution_count": 3,
   "metadata": {},
   "outputs": [
    {
     "data": {
      "text/plain": [
       "(16, 64, 64)"
      ]
     },
     "execution_count": 3,
     "metadata": {},
     "output_type": "execute_result"
    }
   ],
   "source": [
    "train_dataset[0][\"segmentation_map\"].shape"
   ]
  },
  {
   "cell_type": "code",
   "execution_count": 4,
   "metadata": {},
   "outputs": [],
   "source": [
    "encoder = timm.create_model(\n",
    "    model_name=CFG.model_name,\n",
    "    pretrained=True,\n",
    "    in_chans=3,\n",
    "    num_classes=0,\n",
    "    global_pool=\"\",\n",
    "    features_only=True,\n",
    ")\n",
    "model = Unet3D(encoder=encoder).to(\"cuda\")\n",
    "# model.load_state_dict(torch.load(\"./pretrained_model.pth\"))\n",
    "# model.load_state_dict(torch.load(\"./best_model.pth\"))"
   ]
  },
  {
   "cell_type": "code",
   "execution_count": 5,
   "metadata": {},
   "outputs": [
    {
     "data": {
      "text/plain": [
       "torch.Size([2, 7, 16, 64, 64])"
      ]
     },
     "execution_count": 5,
     "metadata": {},
     "output_type": "execute_result"
    }
   ],
   "source": [
    "# input-test\n",
    "\n",
    "x = torch.randn(2, 16, 1, 64, 64).cuda()\n",
    "model(x).shape"
   ]
  },
  {
   "cell_type": "code",
   "execution_count": 6,
   "metadata": {},
   "outputs": [],
   "source": [
    "# # \"encoder\"と名のつくパラメータは学習しない\n",
    "# for layer, param in model.named_parameters():\n",
    "#     if \"encoder\" in layer:\n",
    "#         param.requires_grad = False"
   ]
  },
  {
   "cell_type": "code",
   "execution_count": 7,
   "metadata": {},
   "outputs": [],
   "source": [
    "import matplotlib.pyplot as plt\n",
    "import numpy as np\n",
    "from matplotlib.colors import ListedColormap\n",
    "from matplotlib.patches import Patch\n",
    "\n",
    "# サンプルデータ\n",
    "num_classes = len(CFG.particles_name)  # クラス数\n",
    "colors = plt.cm.tab10(\n",
    "    np.arange(len(CFG.particles_name))\n",
    ")  # \"tab10\" カラーマップから色を取得\n",
    "\n",
    "# ListedColormap を作成\n",
    "class_colormap = ListedColormap(colors)\n",
    "\n",
    "\n",
    "# カラーバー付きプロット\n",
    "def plot_with_colormap(data, title, original_tomogram):\n",
    "    masked_data = np.ma.masked_where(data <= 0, data)  # クラス0をマスク\n",
    "    plt.imshow(original_tomogram, cmap=\"gray\")\n",
    "    im = plt.imshow(masked_data, cmap=class_colormap)\n",
    "    plt.title(title)\n",
    "    plt.axis(\"off\")\n",
    "    return im"
   ]
  },
  {
   "cell_type": "code",
   "execution_count": 8,
   "metadata": {},
   "outputs": [
    {
     "name": "stdout",
     "output_type": "stream",
     "text": [
      "Original shape: torch.Size([6, 16, 320, 320])\n",
      "Augmented shape: torch.Size([6, 16, 12, 12])\n"
     ]
    }
   ],
   "source": [
    "import torch\n",
    "import random\n",
    "import torchvision.transforms.functional as TF\n",
    "\n",
    "\n",
    "# 回転\n",
    "# 3Dテンソルの各軸に対して指定した角度で回転する関数\n",
    "def rotate_3d(tomogram, segmentation_map, angle):\n",
    "    \"\"\"Rotates the 3D tensors tomogram and segmentation_map around the Z-axis.\"\"\"\n",
    "    rotated_tomogram = TF.rotate(tomogram, angle, expand=False)\n",
    "    rotated_segmentation_map = TF.rotate(segmentation_map, angle, expand=False)\n",
    "    return rotated_tomogram, rotated_segmentation_map\n",
    "\n",
    "\n",
    "# 平行移動\n",
    "# 指定された範囲でランダムに平行移動\n",
    "def translate_3d(tomogram, segmentation_map, max_shift):\n",
    "    \"\"\"Translates the 3D tensors by a random shift within max_shift.\"\"\"\n",
    "    shift_x = random.randint(-max_shift, max_shift)\n",
    "    shift_y = random.randint(-max_shift, max_shift)\n",
    "    translated_tomogram = TF.affine(\n",
    "        tomogram, angle=0, translate=(shift_x, shift_y), scale=1, shear=0\n",
    "    )\n",
    "    translated_segmentation_map = TF.affine(\n",
    "        segmentation_map, angle=0, translate=(shift_x, shift_y), scale=1, shear=0\n",
    "    )\n",
    "    return translated_tomogram, translated_segmentation_map\n",
    "\n",
    "\n",
    "# フリップ\n",
    "# 縦横（上下左右）ランダムフリップ\n",
    "def flip_3d(tomogram, segmentation_map):\n",
    "    \"\"\"Randomly flips the 3D tensors along height or width.\"\"\"\n",
    "    if random.random() > 0.5:  # Horizontal flip\n",
    "        tomogram = torch.flip(tomogram, dims=[-1])\n",
    "        segmentation_map = torch.flip(segmentation_map, dims=[-1])\n",
    "    if random.random() > 0.5:  # Vertical flip\n",
    "        tomogram = torch.flip(tomogram, dims=[-2])\n",
    "        segmentation_map = torch.flip(segmentation_map, dims=[-2])\n",
    "    return tomogram, segmentation_map\n",
    "\n",
    "\n",
    "# クロッピング\n",
    "# 入力テンソルを中心またはランダムクロップで切り取る\n",
    "def crop_3d(tomogram, segmentation_map, crop_size):\n",
    "    \"\"\"Crops the 3D tensors to the specified crop_size.\"\"\"\n",
    "    _, depth, height, width = tomogram.size()\n",
    "    crop_d, crop_h, crop_w = crop_size\n",
    "\n",
    "    if crop_h > height or crop_w > width:\n",
    "        raise ValueError(\"Crop size cannot be larger than the original size.\")\n",
    "\n",
    "    start_h = random.randint(0, height - crop_h)  # Random starting position for height\n",
    "    start_w = random.randint(0, width - crop_w)  # Random starting position for width\n",
    "\n",
    "    cropped_tomogram = tomogram[\n",
    "        :, :, start_h : start_h + crop_h, start_w : start_w + crop_w\n",
    "    ]\n",
    "    cropped_segmentation_map = segmentation_map[\n",
    "        :, :, start_h : start_h + crop_h, start_w : start_w + crop_w\n",
    "    ]\n",
    "\n",
    "    return cropped_tomogram, cropped_segmentation_map\n",
    "\n",
    "\n",
    "# Mixup\n",
    "# 2つのサンプルを線形補間して混合\n",
    "def mixup(tomogram, segmentation_map, alpha=0.4):\n",
    "    \"\"\"Applies mixup augmentation to the batch.\"\"\"\n",
    "    lam = random.betavariate(alpha, alpha)\n",
    "    batch_size = tomogram.size(0)\n",
    "    index = torch.randperm(batch_size)\n",
    "\n",
    "    mixed_tomogram = lam * tomogram + (1 - lam) * tomogram[index, :]\n",
    "    mixed_segmentation_map = (\n",
    "        lam * segmentation_map + (1 - lam) * segmentation_map[index, :]\n",
    "    )\n",
    "\n",
    "    return mixed_tomogram, mixed_segmentation_map\n",
    "\n",
    "\n",
    "# Cutmix\n",
    "# ランダム領域を切り取って別のサンプルに貼り付け\n",
    "def cutmix(tomogram, segmentation_map, alpha=1.0):\n",
    "    \"\"\"Applies cutmix augmentation to the batch.\"\"\"\n",
    "    lam = random.betavariate(alpha, alpha)\n",
    "    batch_size, depth, height, width = tomogram.size()\n",
    "    index = torch.randperm(batch_size)\n",
    "\n",
    "    cx = random.randint(0, width)\n",
    "    cy = random.randint(0, height)\n",
    "    cw = int(width * (1 - lam))\n",
    "    ch = int(height * (1 - lam))\n",
    "\n",
    "    x1 = max(cx - cw // 2, 0)\n",
    "    x2 = min(cx + cw // 2, width)\n",
    "    y1 = max(cy - ch // 2, 0)\n",
    "    y2 = min(cy + ch // 2, height)\n",
    "\n",
    "    tomogram[:, :, y1:y2, x1:x2] = tomogram[index, :, y1:y2, x1:x2]\n",
    "    segmentation_map[:, :, y1:y2, x1:x2] = segmentation_map[index, :, y1:y2, x1:x2]\n",
    "\n",
    "    return tomogram, segmentation_map\n",
    "\n",
    "\n",
    "# データ拡張の組み合わせ適用\n",
    "def augment_data(\n",
    "    tomogram,\n",
    "    segmentation_map,\n",
    "    crop_size=(16, 12, 12),\n",
    "    max_shift=10,\n",
    "    rotation_angle=30,\n",
    "    p=0.5,\n",
    "    mixup_alpha=0.4,\n",
    "    cutmix_alpha=1.0,\n",
    "):\n",
    "    \"\"\"Applies a combination of rotation, translation, flipping, cropping, mixup, and cutmix to the inputs with probabilities.\"\"\"\n",
    "    if random.random() < p:\n",
    "        tomogram, segmentation_map = rotate_3d(\n",
    "            tomogram,\n",
    "            segmentation_map,\n",
    "            angle=random.uniform(-rotation_angle, rotation_angle),\n",
    "        )\n",
    "    if random.random() < p:\n",
    "        tomogram, segmentation_map = translate_3d(\n",
    "            tomogram, segmentation_map, max_shift=max_shift\n",
    "        )\n",
    "    if random.random() < p:\n",
    "        tomogram, segmentation_map = flip_3d(tomogram, segmentation_map)\n",
    "    if random.random() < p:\n",
    "        tomogram, segmentation_map = crop_3d(\n",
    "            tomogram, segmentation_map, crop_size=crop_size\n",
    "        )\n",
    "    if random.random() < p:\n",
    "        tomogram, segmentation_map = mixup(\n",
    "            tomogram, segmentation_map, alpha=mixup_alpha\n",
    "        )\n",
    "    # if random.random() < p:\n",
    "    #     tomogram, segmentation_map = cutmix(\n",
    "    #         tomogram, segmentation_map, alpha=cutmix_alpha\n",
    "    #     )\n",
    "    return tomogram, segmentation_map\n",
    "\n",
    "\n",
    "# 使用例\n",
    "# バッチサイズ6, 深さ16, 高さ320, 幅320のランダムテンソル\n",
    "tomogram = torch.rand((6, 16, 320, 320))\n",
    "segmentation_map = torch.randint(0, 2, (6, 16, 320, 320))  # ラベルは0または1\n",
    "\n",
    "# データ拡張の適用\n",
    "aug_tomogram, aug_segmentation_map = augment_data(tomogram, segmentation_map, p=0.7)\n",
    "print(\"Original shape:\", tomogram.shape)\n",
    "print(\"Augmented shape:\", aug_tomogram.shape)"
   ]
  },
  {
   "cell_type": "code",
   "execution_count": 9,
   "metadata": {},
   "outputs": [],
   "source": [
    "from transformers import get_cosine_schedule_with_warmup\n",
    "\n",
    "optimizer = torch.optim.Adam(\n",
    "    model.parameters(), lr=CFG.lr, weight_decay=CFG.weight_decay\n",
    ")\n",
    "criterion = nn.CrossEntropyLoss(\n",
    "    #  weight=torch.tensor([2.0, 32, 32, 32, 32, 32, 32]).to(\"cuda\")\n",
    ")\n",
    "# criterion = DiceLoss()\n",
    "scheduler = get_cosine_schedule_with_warmup(\n",
    "    optimizer,\n",
    "    num_warmup_steps=10,\n",
    "    num_training_steps=CFG.epochs * len(train_loader),\n",
    "    # * batch_size,\n",
    ")\n",
    "scaler = GradScaler()\n",
    "seg_loss = SegmentationLoss(criterion)\n",
    "padf = PadToSize(CFG.resolution)"
   ]
  },
  {
   "cell_type": "code",
   "execution_count": 10,
   "metadata": {},
   "outputs": [],
   "source": [
    "# b, c, d, h, w = CFG.batch_size, 1, 96, 320, 320"
   ]
  },
  {
   "cell_type": "code",
   "execution_count": 11,
   "metadata": {},
   "outputs": [],
   "source": [
    "def preprocess_tensor(tensor):\n",
    "    batch_size, depth, height, width = tensor.shape\n",
    "    tensor = tensor.unsqueeze(2)  # (b, d, h, w) -> (b, d, 1, h, w)\n",
    "    return tensor"
   ]
  },
  {
   "cell_type": "code",
   "execution_count": 12,
   "metadata": {},
   "outputs": [
    {
     "data": {
      "text/plain": [
       "torch.Size([4, 16, 64, 64])"
      ]
     },
     "execution_count": 12,
     "metadata": {},
     "output_type": "execute_result"
    }
   ],
   "source": [
    "padf = PadToSize(CFG.resolution)\n",
    "padf(normalized_tomogram).shape"
   ]
  },
  {
   "cell_type": "code",
   "execution_count": 13,
   "metadata": {},
   "outputs": [],
   "source": [
    "# best_model = None\n",
    "# best_score = -100\n",
    "\n",
    "# grand_train_loss = []\n",
    "# grand_valid_loss = []\n",
    "# grand_train_score = []\n",
    "# grand_valid_score = []\n",
    "\n",
    "# for epoch in range(CFG.epochs):\n",
    "#     model.train()\n",
    "#     train_loss = []\n",
    "#     valid_loss = []\n",
    "#     with tqdm(train_loader, desc=f\"Epoch {epoch + 1}/{CFG.epochs} [Training]\") as tq:\n",
    "#         for data in tq:\n",
    "#             normalized_tomogram = data[\"normalized_tomogram\"]\n",
    "#             segmentation_map = data[\"segmentation_map\"]\n",
    "\n",
    "#             # normalized_tomogram = padf(normalized_tomogram)\n",
    "#             # segmentation_map = padf(segmentation_map)\n",
    "\n",
    "#             # データ拡張\n",
    "#             # normalized_tomogram, segmentation_map = augment_data(\n",
    "#             #     normalized_tomogram, segmentation_map, p=CFG.augmentation_prob\n",
    "#             # )\n",
    "#             normalized_tomogram = normalized_tomogram.cuda()\n",
    "#             segmentation_map = segmentation_map.long().cuda()\n",
    "\n",
    "#             optimizer.zero_grad()\n",
    "\n",
    "#             with autocast():\n",
    "#                 pred = model(preprocess_tensor(normalized_tomogram))\n",
    "#                 loss = seg_loss(pred, segmentation_map)\n",
    "#             # loss.backward()\n",
    "#             # optimizer.step()\n",
    "#             scaler.scale(loss).backward()\n",
    "#             scaler.step(optimizer)\n",
    "#             scaler.update()\n",
    "#             scheduler.step()\n",
    "#             train_loss.append(loss.item())\n",
    "\n",
    "#             # 確率予測\n",
    "#             prob_pred = torch.softmax(pred, dim=1)\n",
    "#             tq.set_postfix({\"loss\": f\"{np.mean(train_loss):.4f}\"})\n",
    "\n",
    "#     with tqdm(valid_loader, desc=f\"Epoch {epoch + 1}/{CFG.epochs} [Validation]\") as tq:\n",
    "#         for data in tq:\n",
    "#             normalized_tomogram = data[\"normalized_tomogram\"].cuda()\n",
    "#             segmentation_map = data[\"segmentation_map\"].long().cuda()\n",
    "\n",
    "#             # normalized_tomogram = padf(normalized_tomogram)\n",
    "#             # segmentation_map = padf(segmentation_map)\n",
    "\n",
    "#             with autocast():\n",
    "#                 pred = model(preprocess_tensor(normalized_tomogram))\n",
    "#                 loss = seg_loss(pred, segmentation_map)\n",
    "#             valid_loss.append(loss.item())\n",
    "\n",
    "#             # 確率予測\n",
    "#             prob_pred = torch.softmax(pred, dim=1)\n",
    "#             tq.set_postfix({\"loss\": f\"{np.mean(valid_loss):.4f}\"})\n",
    "\n",
    "#     # # ############### validation ################\n",
    "#     train_nshuffle_original_tomogram = defaultdict(list)\n",
    "#     train_nshuffle_pred_tomogram = defaultdict(list)\n",
    "#     train_nshuffle_gt_tomogram = defaultdict(list)\n",
    "\n",
    "#     valid_original_tomogram = defaultdict(list)\n",
    "#     valid_pred_tomogram = defaultdict(list)\n",
    "#     valid_gt_tomogram = defaultdict(list)\n",
    "\n",
    "#     train_mean_scores = []\n",
    "#     valid_mean_scores = []\n",
    "\n",
    "#     # モデルの保存\n",
    "#     torch.save(model.state_dict(), \"./pretrained_model.pth\")\n",
    "\n",
    "#     # ############### validation ################\n",
    "#     train_nshuffle_original_tomogram = defaultdict(list)\n",
    "#     train_nshuffle_pred_tomogram = defaultdict(list)\n",
    "#     train_nshuffle_gt_tomogram = defaultdict(list)\n",
    "\n",
    "#     valid_original_tomogram = defaultdict(list)\n",
    "#     valid_pred_tomogram = defaultdict(list)\n",
    "#     valid_gt_tomogram = defaultdict(list)\n",
    "\n",
    "#     train_mean_scores = []\n",
    "#     valid_mean_scores = []\n",
    "\n",
    "#     # for exp_name in tqdm(CFG.train_exp_names):\n",
    "#     for exp_name in CFG.train_exp_names[:5]:  # 5つのデータで試す\n",
    "#         # inferenced_array = inference(model, exp_name, train=False)\n",
    "#         inferenced_array, n_tomogram, segmentation_map = inference(\n",
    "#             model, exp_name, train=True\n",
    "#         )\n",
    "\n",
    "#         constant = 0.5\n",
    "#         sikii = {\n",
    "#             \"apo-ferritin\": constant,\n",
    "#             \"beta-amylase\": constant,\n",
    "#             \"beta-galactosidase\": constant,\n",
    "#             \"ribosome\": constant,\n",
    "#             \"thyroglobulin\": constant,\n",
    "#             \"virus-like-particle\": constant,\n",
    "#         }\n",
    "\n",
    "#         pred_df = inference2pos(\n",
    "#             pred_segmask=inferenced_array, exp_name=exp_name, sikii_dict=sikii\n",
    "#         )\n",
    "#         base_dir = \"../../inputs/train/overlay/ExperimentRuns/\"\n",
    "#         gt_df = create_gt_df(base_dir, [exp_name])\n",
    "\n",
    "#         train_nshuffle_pred_tomogram[exp_name] = inferenced_array\n",
    "\n",
    "#         if len(pred_df) != 0:\n",
    "#             score_ = score(\n",
    "#                 pred_df,\n",
    "#                 gt_df,\n",
    "#                 row_id_column_name=\"index\",\n",
    "#                 distance_multiplier=1.0,\n",
    "#                 beta=4,\n",
    "#             )\n",
    "#             train_mean_scores.append(score_)\n",
    "\n",
    "#         del inferenced_array, n_tomogram, segmentation_map\n",
    "#         import gc\n",
    "#         import torch.cuda as cuda\n",
    "\n",
    "#         gc.collect()\n",
    "#         cuda.empty_cache()\n",
    "\n",
    "#     # print(\"train_mean_scores\", np.mean(train_mean_scores))\n",
    "\n",
    "#     for exp_name in CFG.valid_exp_names:\n",
    "#         inferenced_array, n_tomogram, segmentation_map = inference(\n",
    "#             model, exp_name, train=True\n",
    "#         )\n",
    "#         pred_df = inference2pos(\n",
    "#             pred_segmask=inferenced_array, exp_name=exp_name, sikii_dict=sikii\n",
    "#         )\n",
    "#         base_dir = \"../../inputs/train/overlay/ExperimentRuns/\"\n",
    "#         gt_df = create_gt_df(base_dir, [exp_name])\n",
    "\n",
    "#         valid_pred_tomogram[exp_name] = inferenced_array\n",
    "\n",
    "#         if len(pred_df) != 0:\n",
    "#             score_ = score(\n",
    "#                 pred_df,\n",
    "#                 gt_df,\n",
    "#                 row_id_column_name=\"index\",\n",
    "#                 distance_multiplier=1.0,\n",
    "#                 beta=4,\n",
    "#             )\n",
    "#             valid_mean_scores.append(score_)\n",
    "\n",
    "#         del inferenced_array, n_tomogram, segmentation_map\n",
    "#         import gc\n",
    "#         import torch.cuda as cuda\n",
    "\n",
    "#         gc.collect()\n",
    "#         cuda.empty_cache()\n",
    "#     # print(\"valid_mean_scores\", np.mean(valid_mean_scores))\n",
    "\n",
    "#     if np.mean(valid_mean_scores) > best_score:\n",
    "#         best_score = np.mean(valid_mean_scores)\n",
    "#         best_model = model.state_dict()\n",
    "#         torch.save(best_model, f\"./best_model.pth\")\n",
    "\n",
    "#     print(\n",
    "#         f\"train-epoch-loss:{np.mean(train_loss):.4f}\",\n",
    "#         f\"valid-epoch-loss:{np.mean(valid_loss):.4f}\",\n",
    "#         f\"train-beta4-score:{np.mean(train_mean_scores):.4f}\",\n",
    "#         f\"valid-beta4-score:{np.mean(valid_mean_scores):.4f}\",\n",
    "#     )\n",
    "\n",
    "#     grand_train_loss.append(np.mean(train_loss))\n",
    "#     grand_valid_loss.append(np.mean(valid_loss))\n",
    "#     grand_train_score.append(np.mean(train_mean_scores))\n",
    "#     grand_valid_score.append(np.mean(valid_mean_scores))"
   ]
  },
  {
   "cell_type": "code",
   "execution_count": 14,
   "metadata": {},
   "outputs": [
    {
     "name": "stderr",
     "output_type": "stream",
     "text": [
      "Epoch 1/80 [Training]: 100%|██████████| 300/300 [00:13<00:00, 21.50it/s, loss=0.6310]\n",
      "Epoch 1/80 [Validation]: 100%|██████████| 1/1 [00:00<00:00,  3.13it/s, loss=0.1027]\n"
     ]
    },
    {
     "name": "stdout",
     "output_type": "stream",
     "text": [
      "start inference\n"
     ]
    },
    {
     "name": "stderr",
     "output_type": "stream",
     "text": [
      "100%|██████████| 23/23 [01:51<00:00,  4.85s/it]\n",
      "100%|██████████| 15/15 [00:31<00:00,  2.07s/it]\n"
     ]
    },
    {
     "name": "stdout",
     "output_type": "stream",
     "text": [
      "constant 0.3857142857142858 score 0.02174840085287846\n",
      "train-epoch-loss:0.6310 valid-epoch-loss:0.1027 valid-beta4-score:0.0217\n"
     ]
    },
    {
     "name": "stderr",
     "output_type": "stream",
     "text": [
      "Epoch 2/80 [Training]: 100%|██████████| 300/300 [00:13<00:00, 21.49it/s, loss=0.0546]\n",
      "Epoch 2/80 [Validation]: 100%|██████████| 1/1 [00:00<00:00,  3.97it/s, loss=0.0191]\n"
     ]
    },
    {
     "name": "stdout",
     "output_type": "stream",
     "text": [
      "start inference\n"
     ]
    },
    {
     "name": "stderr",
     "output_type": "stream",
     "text": [
      "100%|██████████| 23/23 [01:42<00:00,  4.47s/it]\n",
      "100%|██████████| 15/15 [00:30<00:00,  2.02s/it]\n"
     ]
    },
    {
     "name": "stdout",
     "output_type": "stream",
     "text": [
      "constant 0.2142857142857143 score 0.05525759791971396\n",
      "train-epoch-loss:0.0546 valid-epoch-loss:0.0191 valid-beta4-score:0.0553\n"
     ]
    },
    {
     "name": "stderr",
     "output_type": "stream",
     "text": [
      "Epoch 3/80 [Training]: 100%|██████████| 300/300 [00:13<00:00, 21.54it/s, loss=0.0223]\n",
      "Epoch 3/80 [Validation]: 100%|██████████| 1/1 [00:00<00:00,  3.85it/s, loss=0.0081]\n"
     ]
    },
    {
     "name": "stdout",
     "output_type": "stream",
     "text": [
      "start inference\n"
     ]
    },
    {
     "name": "stderr",
     "output_type": "stream",
     "text": [
      "100%|██████████| 23/23 [01:46<00:00,  4.64s/it]\n",
      "100%|██████████| 15/15 [00:29<00:00,  2.00s/it]\n"
     ]
    },
    {
     "name": "stdout",
     "output_type": "stream",
     "text": [
      "constant 0.1 score 0.024975024975024972\n",
      "train-epoch-loss:0.0223 valid-epoch-loss:0.0081 valid-beta4-score:0.0250\n"
     ]
    },
    {
     "name": "stderr",
     "output_type": "stream",
     "text": [
      "Epoch 4/80 [Training]: 100%|██████████| 300/300 [00:14<00:00, 21.11it/s, loss=0.0132]\n",
      "Epoch 4/80 [Validation]: 100%|██████████| 1/1 [00:00<00:00,  3.83it/s, loss=0.0044]\n"
     ]
    },
    {
     "name": "stdout",
     "output_type": "stream",
     "text": [
      "start inference\n"
     ]
    },
    {
     "name": "stderr",
     "output_type": "stream",
     "text": [
      "100%|██████████| 23/23 [01:43<00:00,  4.50s/it]\n",
      "100%|██████████| 15/15 [00:30<00:00,  2.01s/it]\n"
     ]
    },
    {
     "name": "stdout",
     "output_type": "stream",
     "text": [
      "constant 0.15714285714285714 score 0.03589021815622801\n",
      "train-epoch-loss:0.0132 valid-epoch-loss:0.0044 valid-beta4-score:0.0359\n"
     ]
    },
    {
     "name": "stderr",
     "output_type": "stream",
     "text": [
      "Epoch 5/80 [Training]: 100%|██████████| 300/300 [00:14<00:00, 20.98it/s, loss=0.0106]\n",
      "Epoch 5/80 [Validation]: 100%|██████████| 1/1 [00:00<00:00,  3.99it/s, loss=0.0031]\n"
     ]
    },
    {
     "name": "stdout",
     "output_type": "stream",
     "text": [
      "start inference\n"
     ]
    },
    {
     "name": "stderr",
     "output_type": "stream",
     "text": [
      "100%|██████████| 23/23 [01:47<00:00,  4.67s/it]\n",
      "100%|██████████| 15/15 [00:30<00:00,  2.03s/it]\n"
     ]
    },
    {
     "name": "stdout",
     "output_type": "stream",
     "text": [
      "constant 0.1 score 0.04644564703409867\n",
      "train-epoch-loss:0.0106 valid-epoch-loss:0.0031 valid-beta4-score:0.0464\n"
     ]
    },
    {
     "name": "stderr",
     "output_type": "stream",
     "text": [
      "Epoch 6/80 [Training]: 100%|██████████| 300/300 [00:14<00:00, 20.67it/s, loss=0.0091]\n",
      "Epoch 6/80 [Validation]: 100%|██████████| 1/1 [00:00<00:00,  3.82it/s, loss=0.0020]\n"
     ]
    },
    {
     "name": "stdout",
     "output_type": "stream",
     "text": [
      "start inference\n"
     ]
    },
    {
     "name": "stderr",
     "output_type": "stream",
     "text": [
      "100%|██████████| 23/23 [01:47<00:00,  4.68s/it]\n",
      "100%|██████████| 15/15 [00:30<00:00,  2.05s/it]\n"
     ]
    },
    {
     "name": "stdout",
     "output_type": "stream",
     "text": [
      "constant 0.3857142857142858 score 0.04999727683677359\n",
      "train-epoch-loss:0.0091 valid-epoch-loss:0.0020 valid-beta4-score:0.0500\n"
     ]
    },
    {
     "name": "stderr",
     "output_type": "stream",
     "text": [
      "Epoch 7/80 [Training]: 100%|██████████| 300/300 [00:14<00:00, 21.21it/s, loss=0.0061]\n",
      "Epoch 7/80 [Validation]: 100%|██████████| 1/1 [00:00<00:00,  4.10it/s, loss=0.0014]\n"
     ]
    },
    {
     "name": "stdout",
     "output_type": "stream",
     "text": [
      "start inference\n"
     ]
    },
    {
     "name": "stderr",
     "output_type": "stream",
     "text": [
      "100%|██████████| 23/23 [01:42<00:00,  4.45s/it]\n",
      "100%|██████████| 15/15 [00:31<00:00,  2.08s/it]\n"
     ]
    },
    {
     "name": "stdout",
     "output_type": "stream",
     "text": [
      "constant 0.2142857142857143 score 0.05366377862851769\n",
      "train-epoch-loss:0.0061 valid-epoch-loss:0.0014 valid-beta4-score:0.0537\n"
     ]
    },
    {
     "name": "stderr",
     "output_type": "stream",
     "text": [
      "Epoch 8/80 [Training]: 100%|██████████| 300/300 [00:14<00:00, 20.46it/s, loss=0.0044]\n",
      "Epoch 8/80 [Validation]: 100%|██████████| 1/1 [00:00<00:00,  3.79it/s, loss=0.0010]\n"
     ]
    },
    {
     "name": "stdout",
     "output_type": "stream",
     "text": [
      "start inference\n"
     ]
    },
    {
     "name": "stderr",
     "output_type": "stream",
     "text": [
      "100%|██████████| 23/23 [01:53<00:00,  4.95s/it]\n",
      "100%|██████████| 15/15 [00:30<00:00,  2.06s/it]\n"
     ]
    },
    {
     "name": "stdout",
     "output_type": "stream",
     "text": [
      "constant 0.5571428571428572 score 0.04401035537773594\n",
      "train-epoch-loss:0.0044 valid-epoch-loss:0.0010 valid-beta4-score:0.0440\n"
     ]
    },
    {
     "name": "stderr",
     "output_type": "stream",
     "text": [
      "Epoch 9/80 [Training]: 100%|██████████| 300/300 [00:13<00:00, 21.70it/s, loss=0.0046]\n",
      "Epoch 9/80 [Validation]: 100%|██████████| 1/1 [00:00<00:00,  4.01it/s, loss=0.0010]\n"
     ]
    },
    {
     "name": "stdout",
     "output_type": "stream",
     "text": [
      "start inference\n"
     ]
    },
    {
     "name": "stderr",
     "output_type": "stream",
     "text": [
      "100%|██████████| 23/23 [01:51<00:00,  4.86s/it]\n",
      "100%|██████████| 15/15 [00:30<00:00,  2.05s/it]\n"
     ]
    },
    {
     "name": "stdout",
     "output_type": "stream",
     "text": [
      "constant 0.15714285714285714 score 0.04128260699271484\n",
      "train-epoch-loss:0.0046 valid-epoch-loss:0.0010 valid-beta4-score:0.0413\n"
     ]
    },
    {
     "name": "stderr",
     "output_type": "stream",
     "text": [
      "Epoch 10/80 [Training]: 100%|██████████| 300/300 [00:14<00:00, 20.65it/s, loss=0.0035]\n",
      "Epoch 10/80 [Validation]: 100%|██████████| 1/1 [00:00<00:00,  3.69it/s, loss=0.0005]\n"
     ]
    },
    {
     "name": "stdout",
     "output_type": "stream",
     "text": [
      "start inference\n"
     ]
    },
    {
     "name": "stderr",
     "output_type": "stream",
     "text": [
      "100%|██████████| 23/23 [01:56<00:00,  5.06s/it]\n",
      "100%|██████████| 15/15 [00:31<00:00,  2.08s/it]\n"
     ]
    },
    {
     "name": "stdout",
     "output_type": "stream",
     "text": [
      "constant 0.1 score 0.03968066032948818\n",
      "train-epoch-loss:0.0035 valid-epoch-loss:0.0005 valid-beta4-score:0.0397\n"
     ]
    },
    {
     "name": "stderr",
     "output_type": "stream",
     "text": [
      "Epoch 11/80 [Training]: 100%|██████████| 300/300 [00:13<00:00, 21.56it/s, loss=0.0034]\n",
      "Epoch 11/80 [Validation]: 100%|██████████| 1/1 [00:00<00:00,  3.96it/s, loss=0.0004]\n"
     ]
    },
    {
     "name": "stdout",
     "output_type": "stream",
     "text": [
      "start inference\n"
     ]
    },
    {
     "name": "stderr",
     "output_type": "stream",
     "text": [
      "100%|██████████| 23/23 [01:51<00:00,  4.83s/it]\n",
      "100%|██████████| 15/15 [00:30<00:00,  2.06s/it]\n"
     ]
    },
    {
     "name": "stdout",
     "output_type": "stream",
     "text": [
      "constant 0.3857142857142858 score 0.046365089814727735\n",
      "train-epoch-loss:0.0034 valid-epoch-loss:0.0004 valid-beta4-score:0.0464\n"
     ]
    },
    {
     "name": "stderr",
     "output_type": "stream",
     "text": [
      "Epoch 12/80 [Training]: 100%|██████████| 300/300 [00:14<00:00, 21.27it/s, loss=0.0028]\n",
      "Epoch 12/80 [Validation]: 100%|██████████| 1/1 [00:00<00:00,  3.92it/s, loss=0.0003]\n"
     ]
    },
    {
     "name": "stdout",
     "output_type": "stream",
     "text": [
      "start inference\n"
     ]
    },
    {
     "name": "stderr",
     "output_type": "stream",
     "text": [
      "100%|██████████| 23/23 [01:53<00:00,  4.94s/it]\n",
      "100%|██████████| 15/15 [00:31<00:00,  2.07s/it]\n"
     ]
    },
    {
     "name": "stdout",
     "output_type": "stream",
     "text": [
      "constant 0.7285714285714286 score 0.04595550010397171\n",
      "train-epoch-loss:0.0028 valid-epoch-loss:0.0003 valid-beta4-score:0.0460\n"
     ]
    },
    {
     "name": "stderr",
     "output_type": "stream",
     "text": [
      "Epoch 13/80 [Training]: 100%|██████████| 300/300 [00:14<00:00, 21.26it/s, loss=0.0023]\n",
      "Epoch 13/80 [Validation]: 100%|██████████| 1/1 [00:00<00:00,  4.06it/s, loss=0.0003]\n"
     ]
    },
    {
     "name": "stdout",
     "output_type": "stream",
     "text": [
      "start inference\n"
     ]
    },
    {
     "name": "stderr",
     "output_type": "stream",
     "text": [
      "100%|██████████| 23/23 [01:52<00:00,  4.88s/it]\n",
      "100%|██████████| 15/15 [00:31<00:00,  2.10s/it]\n"
     ]
    },
    {
     "name": "stdout",
     "output_type": "stream",
     "text": [
      "constant 0.5 score 0.04039493629398992\n",
      "train-epoch-loss:0.0023 valid-epoch-loss:0.0003 valid-beta4-score:0.0404\n"
     ]
    },
    {
     "name": "stderr",
     "output_type": "stream",
     "text": [
      "Epoch 14/80 [Training]: 100%|██████████| 300/300 [00:14<00:00, 20.19it/s, loss=0.0019]\n",
      "Epoch 14/80 [Validation]: 100%|██████████| 1/1 [00:00<00:00,  3.86it/s, loss=0.0002]\n"
     ]
    },
    {
     "name": "stdout",
     "output_type": "stream",
     "text": [
      "start inference\n"
     ]
    },
    {
     "name": "stderr",
     "output_type": "stream",
     "text": [
      "100%|██████████| 23/23 [01:54<00:00,  4.98s/it]\n",
      "100%|██████████| 15/15 [00:31<00:00,  2.08s/it]\n"
     ]
    },
    {
     "name": "stdout",
     "output_type": "stream",
     "text": [
      "constant 0.2142857142857143 score 0.043594204020367386\n",
      "train-epoch-loss:0.0019 valid-epoch-loss:0.0002 valid-beta4-score:0.0436\n"
     ]
    },
    {
     "name": "stderr",
     "output_type": "stream",
     "text": [
      "Epoch 15/80 [Training]: 100%|██████████| 300/300 [00:14<00:00, 21.29it/s, loss=0.0020]\n",
      "Epoch 15/80 [Validation]: 100%|██████████| 1/1 [00:00<00:00,  3.89it/s, loss=0.0002]\n"
     ]
    },
    {
     "name": "stdout",
     "output_type": "stream",
     "text": [
      "start inference\n"
     ]
    },
    {
     "name": "stderr",
     "output_type": "stream",
     "text": [
      "100%|██████████| 23/23 [01:52<00:00,  4.89s/it]\n",
      "100%|██████████| 15/15 [00:31<00:00,  2.12s/it]\n"
     ]
    },
    {
     "name": "stdout",
     "output_type": "stream",
     "text": [
      "constant 0.8428571428571429 score 0.039632171998445806\n",
      "train-epoch-loss:0.0020 valid-epoch-loss:0.0002 valid-beta4-score:0.0396\n"
     ]
    },
    {
     "name": "stderr",
     "output_type": "stream",
     "text": [
      "Epoch 16/80 [Training]: 100%|██████████| 300/300 [00:13<00:00, 21.74it/s, loss=0.0019]\n",
      "Epoch 16/80 [Validation]: 100%|██████████| 1/1 [00:00<00:00,  3.60it/s, loss=0.0002]\n"
     ]
    },
    {
     "name": "stdout",
     "output_type": "stream",
     "text": [
      "start inference\n"
     ]
    },
    {
     "name": "stderr",
     "output_type": "stream",
     "text": [
      "100%|██████████| 23/23 [01:55<00:00,  5.01s/it]\n",
      "100%|██████████| 15/15 [00:31<00:00,  2.12s/it]\n"
     ]
    },
    {
     "name": "stdout",
     "output_type": "stream",
     "text": [
      "constant 0.7857142857142857 score 0.04950024618725115\n",
      "train-epoch-loss:0.0019 valid-epoch-loss:0.0002 valid-beta4-score:0.0495\n"
     ]
    },
    {
     "name": "stderr",
     "output_type": "stream",
     "text": [
      "Epoch 17/80 [Training]: 100%|██████████| 300/300 [00:14<00:00, 21.33it/s, loss=0.0011]\n",
      "Epoch 17/80 [Validation]: 100%|██████████| 1/1 [00:00<00:00,  4.00it/s, loss=0.0001]\n"
     ]
    },
    {
     "name": "stdout",
     "output_type": "stream",
     "text": [
      "start inference\n"
     ]
    },
    {
     "name": "stderr",
     "output_type": "stream",
     "text": [
      "100%|██████████| 23/23 [01:56<00:00,  5.06s/it]\n",
      "100%|██████████| 15/15 [00:31<00:00,  2.11s/it]\n"
     ]
    },
    {
     "name": "stdout",
     "output_type": "stream",
     "text": [
      "constant 0.7285714285714286 score 0.0488893314965117\n",
      "train-epoch-loss:0.0011 valid-epoch-loss:0.0001 valid-beta4-score:0.0489\n"
     ]
    },
    {
     "name": "stderr",
     "output_type": "stream",
     "text": [
      "Epoch 18/80 [Training]: 100%|██████████| 300/300 [00:14<00:00, 21.18it/s, loss=0.0010]\n",
      "Epoch 18/80 [Validation]: 100%|██████████| 1/1 [00:00<00:00,  3.92it/s, loss=0.0001]\n"
     ]
    },
    {
     "name": "stdout",
     "output_type": "stream",
     "text": [
      "start inference\n"
     ]
    },
    {
     "name": "stderr",
     "output_type": "stream",
     "text": [
      "100%|██████████| 23/23 [01:52<00:00,  4.90s/it]\n",
      "100%|██████████| 15/15 [00:31<00:00,  2.11s/it]\n"
     ]
    },
    {
     "name": "stdout",
     "output_type": "stream",
     "text": [
      "constant 0.3285714285714286 score 0.05513417203226697\n",
      "train-epoch-loss:0.0010 valid-epoch-loss:0.0001 valid-beta4-score:0.0551\n"
     ]
    },
    {
     "name": "stderr",
     "output_type": "stream",
     "text": [
      "Epoch 19/80 [Training]: 100%|██████████| 300/300 [00:13<00:00, 21.70it/s, loss=0.0010]\n",
      "Epoch 19/80 [Validation]: 100%|██████████| 1/1 [00:00<00:00,  3.75it/s, loss=0.0001]\n"
     ]
    },
    {
     "name": "stdout",
     "output_type": "stream",
     "text": [
      "start inference\n"
     ]
    },
    {
     "name": "stderr",
     "output_type": "stream",
     "text": [
      "100%|██████████| 23/23 [02:00<00:00,  5.26s/it]\n",
      "100%|██████████| 15/15 [00:34<00:00,  2.30s/it]\n"
     ]
    },
    {
     "name": "stdout",
     "output_type": "stream",
     "text": [
      "constant 0.6714285714285715 score 0.05494348903978264\n",
      "train-epoch-loss:0.0010 valid-epoch-loss:0.0001 valid-beta4-score:0.0549\n"
     ]
    },
    {
     "name": "stderr",
     "output_type": "stream",
     "text": [
      "Epoch 20/80 [Training]: 100%|██████████| 300/300 [00:13<00:00, 21.62it/s, loss=0.0009]\n",
      "Epoch 20/80 [Validation]: 100%|██████████| 1/1 [00:00<00:00,  4.03it/s, loss=0.0001]\n"
     ]
    },
    {
     "name": "stdout",
     "output_type": "stream",
     "text": [
      "start inference\n"
     ]
    },
    {
     "name": "stderr",
     "output_type": "stream",
     "text": [
      "100%|██████████| 23/23 [01:54<00:00,  4.96s/it]\n",
      "100%|██████████| 15/15 [00:31<00:00,  2.12s/it]\n"
     ]
    },
    {
     "name": "stdout",
     "output_type": "stream",
     "text": [
      "constant 0.1 score 0.04426880873769038\n",
      "train-epoch-loss:0.0009 valid-epoch-loss:0.0001 valid-beta4-score:0.0443\n"
     ]
    },
    {
     "name": "stderr",
     "output_type": "stream",
     "text": [
      "Epoch 21/80 [Training]: 100%|██████████| 300/300 [00:14<00:00, 21.31it/s, loss=0.0008]\n",
      "Epoch 21/80 [Validation]: 100%|██████████| 1/1 [00:00<00:00,  3.88it/s, loss=0.0001]\n"
     ]
    },
    {
     "name": "stdout",
     "output_type": "stream",
     "text": [
      "start inference\n"
     ]
    },
    {
     "name": "stderr",
     "output_type": "stream",
     "text": [
      "100%|██████████| 23/23 [02:09<00:00,  5.62s/it]\n",
      "100%|██████████| 15/15 [00:31<00:00,  2.13s/it]\n"
     ]
    },
    {
     "name": "stdout",
     "output_type": "stream",
     "text": [
      "constant 0.3285714285714286 score 0.045498723396411984\n",
      "train-epoch-loss:0.0008 valid-epoch-loss:0.0001 valid-beta4-score:0.0455\n"
     ]
    },
    {
     "name": "stderr",
     "output_type": "stream",
     "text": [
      "Epoch 22/80 [Training]: 100%|██████████| 300/300 [00:13<00:00, 21.66it/s, loss=0.0039]\n",
      "Epoch 22/80 [Validation]: 100%|██████████| 1/1 [00:00<00:00,  4.02it/s, loss=0.0001]\n"
     ]
    },
    {
     "name": "stdout",
     "output_type": "stream",
     "text": [
      "start inference\n"
     ]
    },
    {
     "name": "stderr",
     "output_type": "stream",
     "text": [
      "100%|██████████| 23/23 [01:55<00:00,  5.04s/it]\n",
      "100%|██████████| 15/15 [00:31<00:00,  2.08s/it]\n"
     ]
    },
    {
     "name": "stdout",
     "output_type": "stream",
     "text": [
      "constant 0.9 score 0.05561613958560523\n",
      "train-epoch-loss:0.0039 valid-epoch-loss:0.0001 valid-beta4-score:0.0556\n"
     ]
    },
    {
     "name": "stderr",
     "output_type": "stream",
     "text": [
      "Epoch 23/80 [Training]: 100%|██████████| 300/300 [00:13<00:00, 21.45it/s, loss=0.0007]\n",
      "Epoch 23/80 [Validation]: 100%|██████████| 1/1 [00:00<00:00,  3.88it/s, loss=0.0001]\n"
     ]
    },
    {
     "name": "stdout",
     "output_type": "stream",
     "text": [
      "start inference\n"
     ]
    },
    {
     "name": "stderr",
     "output_type": "stream",
     "text": [
      "100%|██████████| 23/23 [02:03<00:00,  5.37s/it]\n",
      "100%|██████████| 15/15 [00:32<00:00,  2.15s/it]\n"
     ]
    },
    {
     "name": "stdout",
     "output_type": "stream",
     "text": [
      "constant 0.7285714285714286 score 0.048030166081886684\n",
      "train-epoch-loss:0.0007 valid-epoch-loss:0.0001 valid-beta4-score:0.0480\n"
     ]
    },
    {
     "name": "stderr",
     "output_type": "stream",
     "text": [
      "Epoch 24/80 [Training]: 100%|██████████| 300/300 [00:14<00:00, 21.04it/s, loss=0.0006]\n",
      "Epoch 24/80 [Validation]: 100%|██████████| 1/1 [00:00<00:00,  4.04it/s, loss=0.0000]\n"
     ]
    },
    {
     "name": "stdout",
     "output_type": "stream",
     "text": [
      "start inference\n"
     ]
    },
    {
     "name": "stderr",
     "output_type": "stream",
     "text": [
      "100%|██████████| 23/23 [01:59<00:00,  5.18s/it]\n",
      "100%|██████████| 15/15 [00:31<00:00,  2.11s/it]\n"
     ]
    },
    {
     "name": "stdout",
     "output_type": "stream",
     "text": [
      "constant 0.7857142857142857 score 0.044309296264118156\n",
      "train-epoch-loss:0.0006 valid-epoch-loss:0.0000 valid-beta4-score:0.0443\n"
     ]
    },
    {
     "name": "stderr",
     "output_type": "stream",
     "text": [
      "Epoch 25/80 [Training]: 100%|██████████| 300/300 [00:14<00:00, 21.24it/s, loss=0.0004]\n",
      "Epoch 25/80 [Validation]: 100%|██████████| 1/1 [00:00<00:00,  3.99it/s, loss=0.0001]\n"
     ]
    },
    {
     "name": "stdout",
     "output_type": "stream",
     "text": [
      "start inference\n"
     ]
    },
    {
     "name": "stderr",
     "output_type": "stream",
     "text": [
      "100%|██████████| 23/23 [02:06<00:00,  5.50s/it]\n",
      "100%|██████████| 15/15 [00:31<00:00,  2.11s/it]\n"
     ]
    },
    {
     "name": "stdout",
     "output_type": "stream",
     "text": [
      "constant 0.8428571428571429 score 0.05452990664485659\n",
      "train-epoch-loss:0.0004 valid-epoch-loss:0.0001 valid-beta4-score:0.0545\n"
     ]
    },
    {
     "name": "stderr",
     "output_type": "stream",
     "text": [
      "Epoch 26/80 [Training]: 100%|██████████| 300/300 [00:14<00:00, 21.37it/s, loss=0.0006]\n",
      "Epoch 26/80 [Validation]: 100%|██████████| 1/1 [00:00<00:00,  3.96it/s, loss=0.0000]\n"
     ]
    },
    {
     "name": "stdout",
     "output_type": "stream",
     "text": [
      "start inference\n"
     ]
    },
    {
     "name": "stderr",
     "output_type": "stream",
     "text": [
      "100%|██████████| 23/23 [01:59<00:00,  5.18s/it]\n",
      "100%|██████████| 15/15 [00:31<00:00,  2.11s/it]\n"
     ]
    },
    {
     "name": "stdout",
     "output_type": "stream",
     "text": [
      "constant 0.15714285714285714 score 0.045512558257784996\n",
      "train-epoch-loss:0.0006 valid-epoch-loss:0.0000 valid-beta4-score:0.0455\n"
     ]
    },
    {
     "name": "stderr",
     "output_type": "stream",
     "text": [
      "Epoch 27/80 [Training]: 100%|██████████| 300/300 [00:13<00:00, 21.66it/s, loss=0.0004]\n",
      "Epoch 27/80 [Validation]: 100%|██████████| 1/1 [00:00<00:00,  4.01it/s, loss=0.0000]\n"
     ]
    },
    {
     "name": "stdout",
     "output_type": "stream",
     "text": [
      "start inference\n"
     ]
    },
    {
     "name": "stderr",
     "output_type": "stream",
     "text": [
      "100%|██████████| 23/23 [02:00<00:00,  5.25s/it]\n",
      "100%|██████████| 15/15 [00:34<00:00,  2.31s/it]\n"
     ]
    },
    {
     "name": "stdout",
     "output_type": "stream",
     "text": [
      "constant 0.9 score 0.05237294110883855\n",
      "train-epoch-loss:0.0004 valid-epoch-loss:0.0000 valid-beta4-score:0.0524\n"
     ]
    },
    {
     "name": "stderr",
     "output_type": "stream",
     "text": [
      "Epoch 28/80 [Training]: 100%|██████████| 300/300 [00:14<00:00, 21.11it/s, loss=0.0004]\n",
      "Epoch 28/80 [Validation]: 100%|██████████| 1/1 [00:00<00:00,  4.00it/s, loss=0.0000]\n"
     ]
    },
    {
     "name": "stdout",
     "output_type": "stream",
     "text": [
      "start inference\n"
     ]
    },
    {
     "name": "stderr",
     "output_type": "stream",
     "text": [
      "100%|██████████| 23/23 [02:01<00:00,  5.26s/it]\n",
      "100%|██████████| 15/15 [00:31<00:00,  2.10s/it]\n"
     ]
    },
    {
     "name": "stdout",
     "output_type": "stream",
     "text": [
      "constant 0.2142857142857143 score 0.04426147309529465\n",
      "train-epoch-loss:0.0004 valid-epoch-loss:0.0000 valid-beta4-score:0.0443\n"
     ]
    },
    {
     "name": "stderr",
     "output_type": "stream",
     "text": [
      "Epoch 29/80 [Training]: 100%|██████████| 300/300 [00:14<00:00, 21.21it/s, loss=0.0005]\n",
      "Epoch 29/80 [Validation]: 100%|██████████| 1/1 [00:00<00:00,  3.98it/s, loss=0.0000]\n"
     ]
    },
    {
     "name": "stdout",
     "output_type": "stream",
     "text": [
      "start inference\n"
     ]
    },
    {
     "name": "stderr",
     "output_type": "stream",
     "text": [
      "100%|██████████| 23/23 [02:01<00:00,  5.30s/it]\n",
      "100%|██████████| 15/15 [00:31<00:00,  2.13s/it]\n"
     ]
    },
    {
     "name": "stdout",
     "output_type": "stream",
     "text": [
      "constant 0.7285714285714286 score 0.05775829996531828\n",
      "train-epoch-loss:0.0005 valid-epoch-loss:0.0000 valid-beta4-score:0.0578\n"
     ]
    },
    {
     "name": "stderr",
     "output_type": "stream",
     "text": [
      "Epoch 30/80 [Training]: 100%|██████████| 300/300 [00:14<00:00, 20.80it/s, loss=0.0005]\n",
      "Epoch 30/80 [Validation]: 100%|██████████| 1/1 [00:00<00:00,  4.02it/s, loss=0.0000]\n"
     ]
    },
    {
     "name": "stdout",
     "output_type": "stream",
     "text": [
      "start inference\n"
     ]
    },
    {
     "name": "stderr",
     "output_type": "stream",
     "text": [
      "100%|██████████| 23/23 [02:01<00:00,  5.26s/it]\n",
      "100%|██████████| 15/15 [00:31<00:00,  2.12s/it]\n"
     ]
    },
    {
     "name": "stdout",
     "output_type": "stream",
     "text": [
      "constant 0.5 score 0.055329280295822625\n",
      "train-epoch-loss:0.0005 valid-epoch-loss:0.0000 valid-beta4-score:0.0553\n"
     ]
    },
    {
     "name": "stderr",
     "output_type": "stream",
     "text": [
      "Epoch 31/80 [Training]: 100%|██████████| 300/300 [00:14<00:00, 21.41it/s, loss=0.0004]\n",
      "Epoch 31/80 [Validation]: 100%|██████████| 1/1 [00:00<00:00,  4.06it/s, loss=0.0000]\n"
     ]
    },
    {
     "name": "stdout",
     "output_type": "stream",
     "text": [
      "start inference\n"
     ]
    },
    {
     "name": "stderr",
     "output_type": "stream",
     "text": [
      "100%|██████████| 23/23 [01:56<00:00,  5.07s/it]\n",
      "100%|██████████| 15/15 [00:31<00:00,  2.12s/it]\n"
     ]
    },
    {
     "name": "stdout",
     "output_type": "stream",
     "text": [
      "constant 0.15714285714285714 score 0.047549781296075025\n",
      "train-epoch-loss:0.0004 valid-epoch-loss:0.0000 valid-beta4-score:0.0475\n"
     ]
    },
    {
     "name": "stderr",
     "output_type": "stream",
     "text": [
      "Epoch 32/80 [Training]: 100%|██████████| 300/300 [00:14<00:00, 20.63it/s, loss=0.0015]\n",
      "Epoch 32/80 [Validation]: 100%|██████████| 1/1 [00:00<00:00,  3.80it/s, loss=0.0000]\n"
     ]
    },
    {
     "name": "stdout",
     "output_type": "stream",
     "text": [
      "start inference\n"
     ]
    },
    {
     "name": "stderr",
     "output_type": "stream",
     "text": [
      "100%|██████████| 23/23 [02:04<00:00,  5.42s/it]\n",
      "100%|██████████| 15/15 [00:30<00:00,  2.06s/it]\n"
     ]
    },
    {
     "name": "stdout",
     "output_type": "stream",
     "text": [
      "constant 0.8428571428571429 score 0.038805402320715235\n",
      "train-epoch-loss:0.0015 valid-epoch-loss:0.0000 valid-beta4-score:0.0388\n"
     ]
    },
    {
     "name": "stderr",
     "output_type": "stream",
     "text": [
      "Epoch 33/80 [Training]: 100%|██████████| 300/300 [00:14<00:00, 21.17it/s, loss=0.0011]\n",
      "Epoch 33/80 [Validation]: 100%|██████████| 1/1 [00:00<00:00,  3.97it/s, loss=0.0000]\n"
     ]
    },
    {
     "name": "stdout",
     "output_type": "stream",
     "text": [
      "start inference\n"
     ]
    },
    {
     "name": "stderr",
     "output_type": "stream",
     "text": [
      "100%|██████████| 23/23 [02:01<00:00,  5.28s/it]\n",
      "100%|██████████| 15/15 [00:31<00:00,  2.13s/it]\n"
     ]
    },
    {
     "name": "stdout",
     "output_type": "stream",
     "text": [
      "constant 0.6142857142857143 score 0.0749518082714044\n",
      "train-epoch-loss:0.0011 valid-epoch-loss:0.0000 valid-beta4-score:0.0750\n"
     ]
    },
    {
     "name": "stderr",
     "output_type": "stream",
     "text": [
      "Epoch 34/80 [Training]: 100%|██████████| 300/300 [00:14<00:00, 20.83it/s, loss=0.0003]\n",
      "Epoch 34/80 [Validation]: 100%|██████████| 1/1 [00:00<00:00,  4.05it/s, loss=0.0000]\n"
     ]
    },
    {
     "name": "stdout",
     "output_type": "stream",
     "text": [
      "start inference\n"
     ]
    },
    {
     "name": "stderr",
     "output_type": "stream",
     "text": [
      "100%|██████████| 23/23 [02:05<00:00,  5.47s/it]\n",
      "100%|██████████| 15/15 [00:39<00:00,  2.66s/it]\n"
     ]
    },
    {
     "name": "stdout",
     "output_type": "stream",
     "text": [
      "constant 0.9 score 0.05227844562482526\n",
      "train-epoch-loss:0.0003 valid-epoch-loss:0.0000 valid-beta4-score:0.0523\n"
     ]
    },
    {
     "name": "stderr",
     "output_type": "stream",
     "text": [
      "Epoch 35/80 [Training]: 100%|██████████| 300/300 [00:14<00:00, 21.34it/s, loss=0.0004]\n",
      "Epoch 35/80 [Validation]: 100%|██████████| 1/1 [00:00<00:00,  4.00it/s, loss=0.0000]\n"
     ]
    },
    {
     "name": "stdout",
     "output_type": "stream",
     "text": [
      "start inference\n"
     ]
    },
    {
     "name": "stderr",
     "output_type": "stream",
     "text": [
      "100%|██████████| 23/23 [01:59<00:00,  5.21s/it]\n",
      "100%|██████████| 15/15 [00:31<00:00,  2.13s/it]\n"
     ]
    },
    {
     "name": "stdout",
     "output_type": "stream",
     "text": [
      "constant 0.3857142857142858 score 0.05220560079696114\n",
      "train-epoch-loss:0.0004 valid-epoch-loss:0.0000 valid-beta4-score:0.0522\n"
     ]
    },
    {
     "name": "stderr",
     "output_type": "stream",
     "text": [
      "Epoch 36/80 [Training]: 100%|██████████| 300/300 [00:14<00:00, 20.38it/s, loss=0.0004]\n",
      "Epoch 36/80 [Validation]: 100%|██████████| 1/1 [00:00<00:00,  4.03it/s, loss=0.0000]\n"
     ]
    },
    {
     "name": "stdout",
     "output_type": "stream",
     "text": [
      "start inference\n"
     ]
    },
    {
     "name": "stderr",
     "output_type": "stream",
     "text": [
      "100%|██████████| 23/23 [02:04<00:00,  5.42s/it]\n",
      "100%|██████████| 15/15 [00:31<00:00,  2.12s/it]\n"
     ]
    },
    {
     "name": "stdout",
     "output_type": "stream",
     "text": [
      "constant 0.7857142857142857 score 0.05915475004923598\n",
      "train-epoch-loss:0.0004 valid-epoch-loss:0.0000 valid-beta4-score:0.0592\n"
     ]
    },
    {
     "name": "stderr",
     "output_type": "stream",
     "text": [
      "Epoch 37/80 [Training]: 100%|██████████| 300/300 [00:14<00:00, 21.31it/s, loss=0.0003]\n",
      "Epoch 37/80 [Validation]: 100%|██████████| 1/1 [00:00<00:00,  3.97it/s, loss=0.0000]\n"
     ]
    },
    {
     "name": "stdout",
     "output_type": "stream",
     "text": [
      "start inference\n"
     ]
    },
    {
     "name": "stderr",
     "output_type": "stream",
     "text": [
      "100%|██████████| 23/23 [01:57<00:00,  5.09s/it]\n",
      "100%|██████████| 15/15 [00:31<00:00,  2.11s/it]\n"
     ]
    },
    {
     "name": "stdout",
     "output_type": "stream",
     "text": [
      "constant 0.7857142857142857 score 0.04191709046077978\n",
      "train-epoch-loss:0.0003 valid-epoch-loss:0.0000 valid-beta4-score:0.0419\n"
     ]
    },
    {
     "name": "stderr",
     "output_type": "stream",
     "text": [
      "Epoch 38/80 [Training]: 100%|██████████| 300/300 [00:14<00:00, 20.58it/s, loss=0.0003]\n",
      "Epoch 38/80 [Validation]: 100%|██████████| 1/1 [00:00<00:00,  3.79it/s, loss=0.0000]\n"
     ]
    },
    {
     "name": "stdout",
     "output_type": "stream",
     "text": [
      "start inference\n"
     ]
    },
    {
     "name": "stderr",
     "output_type": "stream",
     "text": [
      "100%|██████████| 23/23 [02:08<00:00,  5.57s/it]\n",
      "100%|██████████| 15/15 [00:32<00:00,  2.14s/it]\n"
     ]
    },
    {
     "name": "stdout",
     "output_type": "stream",
     "text": [
      "constant 0.7857142857142857 score 0.05064110866468074\n",
      "train-epoch-loss:0.0003 valid-epoch-loss:0.0000 valid-beta4-score:0.0506\n"
     ]
    },
    {
     "name": "stderr",
     "output_type": "stream",
     "text": [
      "Epoch 39/80 [Training]: 100%|██████████| 300/300 [00:13<00:00, 21.43it/s, loss=0.0004]\n",
      "Epoch 39/80 [Validation]: 100%|██████████| 1/1 [00:00<00:00,  4.04it/s, loss=0.0000]\n"
     ]
    },
    {
     "name": "stdout",
     "output_type": "stream",
     "text": [
      "start inference\n"
     ]
    },
    {
     "name": "stderr",
     "output_type": "stream",
     "text": [
      "100%|██████████| 23/23 [01:58<00:00,  5.16s/it]\n",
      "100%|██████████| 15/15 [00:31<00:00,  2.11s/it]\n"
     ]
    },
    {
     "name": "stdout",
     "output_type": "stream",
     "text": [
      "constant 0.7857142857142857 score 0.05397106847954306\n",
      "train-epoch-loss:0.0004 valid-epoch-loss:0.0000 valid-beta4-score:0.0540\n"
     ]
    },
    {
     "name": "stderr",
     "output_type": "stream",
     "text": [
      "Epoch 40/80 [Training]: 100%|██████████| 300/300 [00:14<00:00, 21.00it/s, loss=0.0003]\n",
      "Epoch 40/80 [Validation]: 100%|██████████| 1/1 [00:00<00:00,  3.94it/s, loss=0.0000]\n"
     ]
    },
    {
     "name": "stdout",
     "output_type": "stream",
     "text": [
      "start inference\n"
     ]
    },
    {
     "name": "stderr",
     "output_type": "stream",
     "text": [
      "100%|██████████| 23/23 [02:10<00:00,  5.65s/it]\n",
      "100%|██████████| 15/15 [00:39<00:00,  2.65s/it]\n"
     ]
    },
    {
     "name": "stdout",
     "output_type": "stream",
     "text": [
      "constant 0.7857142857142857 score 0.05276705276705277\n",
      "train-epoch-loss:0.0003 valid-epoch-loss:0.0000 valid-beta4-score:0.0528\n"
     ]
    },
    {
     "name": "stderr",
     "output_type": "stream",
     "text": [
      "Epoch 41/80 [Training]: 100%|██████████| 300/300 [00:14<00:00, 21.28it/s, loss=0.0002]\n",
      "Epoch 41/80 [Validation]: 100%|██████████| 1/1 [00:00<00:00,  4.07it/s, loss=0.0000]\n"
     ]
    },
    {
     "name": "stdout",
     "output_type": "stream",
     "text": [
      "start inference\n"
     ]
    },
    {
     "name": "stderr",
     "output_type": "stream",
     "text": [
      "100%|██████████| 23/23 [02:00<00:00,  5.22s/it]\n",
      "100%|██████████| 15/15 [00:31<00:00,  2.12s/it]\n"
     ]
    },
    {
     "name": "stdout",
     "output_type": "stream",
     "text": [
      "constant 0.15714285714285714 score 0.03921114897778683\n",
      "train-epoch-loss:0.0002 valid-epoch-loss:0.0000 valid-beta4-score:0.0392\n"
     ]
    },
    {
     "name": "stderr",
     "output_type": "stream",
     "text": [
      "Epoch 42/80 [Training]: 100%|██████████| 300/300 [00:14<00:00, 20.38it/s, loss=0.0003]\n",
      "Epoch 42/80 [Validation]: 100%|██████████| 1/1 [00:00<00:00,  3.76it/s, loss=0.0000]\n"
     ]
    },
    {
     "name": "stdout",
     "output_type": "stream",
     "text": [
      "start inference\n"
     ]
    },
    {
     "name": "stderr",
     "output_type": "stream",
     "text": [
      "100%|██████████| 23/23 [02:07<00:00,  5.54s/it]\n",
      "100%|██████████| 15/15 [00:31<00:00,  2.10s/it]\n"
     ]
    },
    {
     "name": "stdout",
     "output_type": "stream",
     "text": [
      "constant 0.9 score 0.04656191437220701\n",
      "train-epoch-loss:0.0003 valid-epoch-loss:0.0000 valid-beta4-score:0.0466\n"
     ]
    },
    {
     "name": "stderr",
     "output_type": "stream",
     "text": [
      "Epoch 43/80 [Training]: 100%|██████████| 300/300 [00:14<00:00, 21.32it/s, loss=0.0003]\n",
      "Epoch 43/80 [Validation]: 100%|██████████| 1/1 [00:00<00:00,  3.88it/s, loss=0.0000]\n"
     ]
    },
    {
     "name": "stdout",
     "output_type": "stream",
     "text": [
      "start inference\n"
     ]
    },
    {
     "name": "stderr",
     "output_type": "stream",
     "text": [
      "100%|██████████| 23/23 [02:00<00:00,  5.25s/it]\n",
      "100%|██████████| 15/15 [00:31<00:00,  2.12s/it]\n"
     ]
    },
    {
     "name": "stdout",
     "output_type": "stream",
     "text": [
      "constant 0.6714285714285715 score 0.04623753399818677\n",
      "train-epoch-loss:0.0003 valid-epoch-loss:0.0000 valid-beta4-score:0.0462\n"
     ]
    },
    {
     "name": "stderr",
     "output_type": "stream",
     "text": [
      "Epoch 44/80 [Training]: 100%|██████████| 300/300 [00:14<00:00, 21.27it/s, loss=0.0001]\n",
      "Epoch 44/80 [Validation]: 100%|██████████| 1/1 [00:00<00:00,  3.91it/s, loss=0.0000]\n"
     ]
    },
    {
     "name": "stdout",
     "output_type": "stream",
     "text": [
      "start inference\n"
     ]
    },
    {
     "name": "stderr",
     "output_type": "stream",
     "text": [
      "100%|██████████| 23/23 [02:12<00:00,  5.76s/it]\n",
      "100%|██████████| 15/15 [00:31<00:00,  2.12s/it]\n"
     ]
    },
    {
     "name": "stdout",
     "output_type": "stream",
     "text": [
      "constant 0.9 score 0.07213578500707214\n",
      "train-epoch-loss:0.0001 valid-epoch-loss:0.0000 valid-beta4-score:0.0721\n"
     ]
    },
    {
     "name": "stderr",
     "output_type": "stream",
     "text": [
      "Epoch 45/80 [Training]: 100%|██████████| 300/300 [00:14<00:00, 21.36it/s, loss=0.0001]\n",
      "Epoch 45/80 [Validation]: 100%|██████████| 1/1 [00:00<00:00,  3.96it/s, loss=0.0000]\n"
     ]
    },
    {
     "name": "stdout",
     "output_type": "stream",
     "text": [
      "start inference\n"
     ]
    },
    {
     "name": "stderr",
     "output_type": "stream",
     "text": [
      "100%|██████████| 23/23 [02:02<00:00,  5.33s/it]\n",
      "100%|██████████| 15/15 [00:31<00:00,  2.12s/it]\n"
     ]
    },
    {
     "name": "stdout",
     "output_type": "stream",
     "text": [
      "constant 0.44285714285714284 score 0.04829920536324447\n",
      "train-epoch-loss:0.0001 valid-epoch-loss:0.0000 valid-beta4-score:0.0483\n"
     ]
    },
    {
     "name": "stderr",
     "output_type": "stream",
     "text": [
      "Epoch 46/80 [Training]: 100%|██████████| 300/300 [00:13<00:00, 21.55it/s, loss=0.0003]\n",
      "Epoch 46/80 [Validation]: 100%|██████████| 1/1 [00:00<00:00,  3.98it/s, loss=0.0000]\n"
     ]
    },
    {
     "name": "stdout",
     "output_type": "stream",
     "text": [
      "start inference\n"
     ]
    },
    {
     "name": "stderr",
     "output_type": "stream",
     "text": [
      "100%|██████████| 23/23 [02:10<00:00,  5.66s/it]\n",
      "100%|██████████| 15/15 [00:31<00:00,  2.13s/it]\n"
     ]
    },
    {
     "name": "stdout",
     "output_type": "stream",
     "text": [
      "constant 0.9 score 0.05305797317748372\n",
      "train-epoch-loss:0.0003 valid-epoch-loss:0.0000 valid-beta4-score:0.0531\n"
     ]
    },
    {
     "name": "stderr",
     "output_type": "stream",
     "text": [
      "Epoch 47/80 [Training]: 100%|██████████| 300/300 [00:14<00:00, 20.91it/s, loss=0.0002]\n",
      "Epoch 47/80 [Validation]: 100%|██████████| 1/1 [00:00<00:00,  3.96it/s, loss=0.0000]\n"
     ]
    },
    {
     "name": "stdout",
     "output_type": "stream",
     "text": [
      "start inference\n"
     ]
    },
    {
     "name": "stderr",
     "output_type": "stream",
     "text": [
      "100%|██████████| 23/23 [02:00<00:00,  5.23s/it]\n",
      "100%|██████████| 15/15 [00:31<00:00,  2.12s/it]\n"
     ]
    },
    {
     "name": "stdout",
     "output_type": "stream",
     "text": [
      "constant 0.9 score 0.06792670090672753\n",
      "train-epoch-loss:0.0002 valid-epoch-loss:0.0000 valid-beta4-score:0.0679\n"
     ]
    },
    {
     "name": "stderr",
     "output_type": "stream",
     "text": [
      "Epoch 48/80 [Training]: 100%|██████████| 300/300 [00:14<00:00, 20.95it/s, loss=0.0001]\n",
      "Epoch 48/80 [Validation]: 100%|██████████| 1/1 [00:00<00:00,  3.96it/s, loss=0.0000]\n"
     ]
    },
    {
     "name": "stdout",
     "output_type": "stream",
     "text": [
      "start inference\n"
     ]
    },
    {
     "name": "stderr",
     "output_type": "stream",
     "text": [
      "100%|██████████| 23/23 [02:13<00:00,  5.82s/it]\n",
      "100%|██████████| 15/15 [00:31<00:00,  2.12s/it]\n"
     ]
    },
    {
     "name": "stdout",
     "output_type": "stream",
     "text": [
      "constant 0.9 score 0.06781942021578018\n",
      "train-epoch-loss:0.0001 valid-epoch-loss:0.0000 valid-beta4-score:0.0678\n"
     ]
    },
    {
     "name": "stderr",
     "output_type": "stream",
     "text": [
      "Epoch 49/80 [Training]: 100%|██████████| 300/300 [00:14<00:00, 21.14it/s, loss=0.0004]\n",
      "Epoch 49/80 [Validation]: 100%|██████████| 1/1 [00:00<00:00,  3.83it/s, loss=0.0000]\n"
     ]
    },
    {
     "name": "stdout",
     "output_type": "stream",
     "text": [
      "start inference\n"
     ]
    },
    {
     "name": "stderr",
     "output_type": "stream",
     "text": [
      "100%|██████████| 23/23 [02:03<00:00,  5.37s/it]\n",
      "100%|██████████| 15/15 [00:39<00:00,  2.64s/it]\n"
     ]
    },
    {
     "name": "stdout",
     "output_type": "stream",
     "text": [
      "constant 0.8428571428571429 score 0.04940755644980998\n",
      "train-epoch-loss:0.0004 valid-epoch-loss:0.0000 valid-beta4-score:0.0494\n"
     ]
    },
    {
     "name": "stderr",
     "output_type": "stream",
     "text": [
      "Epoch 50/80 [Training]: 100%|██████████| 300/300 [00:13<00:00, 21.47it/s, loss=0.0001]\n",
      "Epoch 50/80 [Validation]: 100%|██████████| 1/1 [00:00<00:00,  4.00it/s, loss=0.0000]\n"
     ]
    },
    {
     "name": "stdout",
     "output_type": "stream",
     "text": [
      "start inference\n"
     ]
    },
    {
     "name": "stderr",
     "output_type": "stream",
     "text": [
      "100%|██████████| 23/23 [02:11<00:00,  5.73s/it]\n",
      "100%|██████████| 15/15 [00:31<00:00,  2.12s/it]\n"
     ]
    },
    {
     "name": "stdout",
     "output_type": "stream",
     "text": [
      "constant 0.7285714285714286 score 0.052025951768882354\n",
      "train-epoch-loss:0.0001 valid-epoch-loss:0.0000 valid-beta4-score:0.0520\n"
     ]
    },
    {
     "name": "stderr",
     "output_type": "stream",
     "text": [
      "Epoch 51/80 [Training]: 100%|██████████| 300/300 [00:14<00:00, 21.23it/s, loss=0.0000]\n",
      "Epoch 51/80 [Validation]: 100%|██████████| 1/1 [00:00<00:00,  4.08it/s, loss=0.0000]\n"
     ]
    },
    {
     "name": "stdout",
     "output_type": "stream",
     "text": [
      "start inference\n"
     ]
    },
    {
     "name": "stderr",
     "output_type": "stream",
     "text": [
      "100%|██████████| 23/23 [02:04<00:00,  5.41s/it]\n",
      "100%|██████████| 15/15 [00:39<00:00,  2.67s/it]\n"
     ]
    },
    {
     "name": "stdout",
     "output_type": "stream",
     "text": [
      "constant 0.6142857142857143 score 0.05290633470535087\n",
      "train-epoch-loss:0.0000 valid-epoch-loss:0.0000 valid-beta4-score:0.0529\n"
     ]
    },
    {
     "name": "stderr",
     "output_type": "stream",
     "text": [
      "Epoch 52/80 [Training]: 100%|██████████| 300/300 [00:14<00:00, 21.38it/s, loss=0.0001]\n",
      "Epoch 52/80 [Validation]: 100%|██████████| 1/1 [00:00<00:00,  4.05it/s, loss=0.0000]\n"
     ]
    },
    {
     "name": "stdout",
     "output_type": "stream",
     "text": [
      "start inference\n"
     ]
    },
    {
     "name": "stderr",
     "output_type": "stream",
     "text": [
      "100%|██████████| 23/23 [02:16<00:00,  5.93s/it]\n",
      "100%|██████████| 15/15 [00:31<00:00,  2.13s/it]\n"
     ]
    },
    {
     "name": "stdout",
     "output_type": "stream",
     "text": [
      "constant 0.6142857142857143 score 0.039234908871039295\n",
      "train-epoch-loss:0.0001 valid-epoch-loss:0.0000 valid-beta4-score:0.0392\n"
     ]
    },
    {
     "name": "stderr",
     "output_type": "stream",
     "text": [
      "Epoch 53/80 [Training]: 100%|██████████| 300/300 [00:14<00:00, 21.32it/s, loss=0.0001]\n",
      "Epoch 53/80 [Validation]: 100%|██████████| 1/1 [00:00<00:00,  4.00it/s, loss=0.0000]\n"
     ]
    },
    {
     "name": "stdout",
     "output_type": "stream",
     "text": [
      "start inference\n"
     ]
    },
    {
     "name": "stderr",
     "output_type": "stream",
     "text": [
      "100%|██████████| 23/23 [02:05<00:00,  5.44s/it]\n",
      "100%|██████████| 15/15 [00:31<00:00,  2.11s/it]\n"
     ]
    },
    {
     "name": "stdout",
     "output_type": "stream",
     "text": [
      "constant 0.9 score 0.05331660655480634\n",
      "train-epoch-loss:0.0001 valid-epoch-loss:0.0000 valid-beta4-score:0.0533\n"
     ]
    },
    {
     "name": "stderr",
     "output_type": "stream",
     "text": [
      "Epoch 54/80 [Training]: 100%|██████████| 300/300 [00:13<00:00, 21.49it/s, loss=0.0003]\n",
      "Epoch 54/80 [Validation]: 100%|██████████| 1/1 [00:00<00:00,  3.98it/s, loss=0.0000]\n"
     ]
    },
    {
     "name": "stdout",
     "output_type": "stream",
     "text": [
      "start inference\n"
     ]
    },
    {
     "name": "stderr",
     "output_type": "stream",
     "text": [
      "100%|██████████| 23/23 [02:10<00:00,  5.66s/it]\n",
      "100%|██████████| 15/15 [00:31<00:00,  2.12s/it]\n"
     ]
    },
    {
     "name": "stdout",
     "output_type": "stream",
     "text": [
      "constant 0.5 score 0.05603674959379494\n",
      "train-epoch-loss:0.0003 valid-epoch-loss:0.0000 valid-beta4-score:0.0560\n"
     ]
    },
    {
     "name": "stderr",
     "output_type": "stream",
     "text": [
      "Epoch 55/80 [Training]: 100%|██████████| 300/300 [00:14<00:00, 21.19it/s, loss=0.0001]\n",
      "Epoch 55/80 [Validation]: 100%|██████████| 1/1 [00:00<00:00,  3.92it/s, loss=0.0000]\n"
     ]
    },
    {
     "name": "stdout",
     "output_type": "stream",
     "text": [
      "start inference\n"
     ]
    },
    {
     "name": "stderr",
     "output_type": "stream",
     "text": [
      "100%|██████████| 23/23 [02:04<00:00,  5.39s/it]\n",
      "100%|██████████| 15/15 [00:31<00:00,  2.13s/it]\n"
     ]
    },
    {
     "name": "stdout",
     "output_type": "stream",
     "text": [
      "constant 0.44285714285714284 score 0.049548589122223034\n",
      "train-epoch-loss:0.0001 valid-epoch-loss:0.0000 valid-beta4-score:0.0495\n"
     ]
    },
    {
     "name": "stderr",
     "output_type": "stream",
     "text": [
      "Epoch 56/80 [Training]: 100%|██████████| 300/300 [00:15<00:00, 19.92it/s, loss=0.0001]\n",
      "Epoch 56/80 [Validation]: 100%|██████████| 1/1 [00:00<00:00,  4.00it/s, loss=0.0000]\n"
     ]
    },
    {
     "name": "stdout",
     "output_type": "stream",
     "text": [
      "start inference\n"
     ]
    },
    {
     "name": "stderr",
     "output_type": "stream",
     "text": [
      "100%|██████████| 23/23 [02:12<00:00,  5.77s/it]\n",
      "100%|██████████| 15/15 [00:31<00:00,  2.12s/it]\n"
     ]
    },
    {
     "name": "stdout",
     "output_type": "stream",
     "text": [
      "constant 0.3857142857142858 score 0.043855738015851506\n",
      "train-epoch-loss:0.0001 valid-epoch-loss:0.0000 valid-beta4-score:0.0439\n"
     ]
    },
    {
     "name": "stderr",
     "output_type": "stream",
     "text": [
      "Epoch 57/80 [Training]: 100%|██████████| 300/300 [00:14<00:00, 21.05it/s, loss=0.0000]\n",
      "Epoch 57/80 [Validation]: 100%|██████████| 1/1 [00:00<00:00,  4.03it/s, loss=0.0000]\n"
     ]
    },
    {
     "name": "stdout",
     "output_type": "stream",
     "text": [
      "start inference\n"
     ]
    },
    {
     "name": "stderr",
     "output_type": "stream",
     "text": [
      "100%|██████████| 23/23 [02:03<00:00,  5.37s/it]\n",
      "100%|██████████| 15/15 [00:31<00:00,  2.12s/it]\n"
     ]
    },
    {
     "name": "stdout",
     "output_type": "stream",
     "text": [
      "constant 0.44285714285714284 score 0.03958194691072052\n",
      "train-epoch-loss:0.0000 valid-epoch-loss:0.0000 valid-beta4-score:0.0396\n"
     ]
    },
    {
     "name": "stderr",
     "output_type": "stream",
     "text": [
      "Epoch 58/80 [Training]: 100%|██████████| 300/300 [00:13<00:00, 21.44it/s, loss=0.0000]\n",
      "Epoch 58/80 [Validation]: 100%|██████████| 1/1 [00:00<00:00,  4.00it/s, loss=0.0000]\n"
     ]
    },
    {
     "name": "stdout",
     "output_type": "stream",
     "text": [
      "start inference\n"
     ]
    },
    {
     "name": "stderr",
     "output_type": "stream",
     "text": [
      "100%|██████████| 23/23 [02:12<00:00,  5.75s/it]\n",
      "100%|██████████| 15/15 [00:32<00:00,  2.14s/it]\n"
     ]
    },
    {
     "name": "stdout",
     "output_type": "stream",
     "text": [
      "constant 0.44285714285714284 score 0.04336338898848241\n",
      "train-epoch-loss:0.0000 valid-epoch-loss:0.0000 valid-beta4-score:0.0434\n"
     ]
    },
    {
     "name": "stderr",
     "output_type": "stream",
     "text": [
      "Epoch 59/80 [Training]: 100%|██████████| 300/300 [00:14<00:00, 21.27it/s, loss=0.0000]\n",
      "Epoch 59/80 [Validation]: 100%|██████████| 1/1 [00:00<00:00,  4.02it/s, loss=0.0000]\n"
     ]
    },
    {
     "name": "stdout",
     "output_type": "stream",
     "text": [
      "start inference\n"
     ]
    },
    {
     "name": "stderr",
     "output_type": "stream",
     "text": [
      "100%|██████████| 23/23 [02:05<00:00,  5.44s/it]\n",
      "100%|██████████| 15/15 [00:31<00:00,  2.13s/it]\n"
     ]
    },
    {
     "name": "stdout",
     "output_type": "stream",
     "text": [
      "constant 0.3857142857142858 score 0.043310373023989546\n",
      "train-epoch-loss:0.0000 valid-epoch-loss:0.0000 valid-beta4-score:0.0433\n"
     ]
    },
    {
     "name": "stderr",
     "output_type": "stream",
     "text": [
      "Epoch 60/80 [Training]: 100%|██████████| 300/300 [00:13<00:00, 21.51it/s, loss=0.0000]\n",
      "Epoch 60/80 [Validation]: 100%|██████████| 1/1 [00:00<00:00,  3.95it/s, loss=0.0000]\n"
     ]
    },
    {
     "name": "stdout",
     "output_type": "stream",
     "text": [
      "start inference\n"
     ]
    },
    {
     "name": "stderr",
     "output_type": "stream",
     "text": [
      "100%|██████████| 23/23 [02:11<00:00,  5.70s/it]\n",
      "100%|██████████| 15/15 [00:31<00:00,  2.13s/it]\n"
     ]
    },
    {
     "name": "stdout",
     "output_type": "stream",
     "text": [
      "constant 0.9 score 0.039874902267396393\n",
      "train-epoch-loss:0.0000 valid-epoch-loss:0.0000 valid-beta4-score:0.0399\n"
     ]
    },
    {
     "name": "stderr",
     "output_type": "stream",
     "text": [
      "Epoch 61/80 [Training]: 100%|██████████| 300/300 [00:14<00:00, 21.39it/s, loss=0.0000]\n",
      "Epoch 61/80 [Validation]: 100%|██████████| 1/1 [00:00<00:00,  4.03it/s, loss=0.0000]\n"
     ]
    },
    {
     "name": "stdout",
     "output_type": "stream",
     "text": [
      "start inference\n"
     ]
    },
    {
     "name": "stderr",
     "output_type": "stream",
     "text": [
      "100%|██████████| 23/23 [02:04<00:00,  5.41s/it]\n",
      "100%|██████████| 15/15 [00:31<00:00,  2.11s/it]\n"
     ]
    },
    {
     "name": "stdout",
     "output_type": "stream",
     "text": [
      "constant 0.5 score 0.0407681392355732\n",
      "train-epoch-loss:0.0000 valid-epoch-loss:0.0000 valid-beta4-score:0.0408\n"
     ]
    },
    {
     "name": "stderr",
     "output_type": "stream",
     "text": [
      "Epoch 62/80 [Training]: 100%|██████████| 300/300 [00:14<00:00, 21.05it/s, loss=0.0001]\n",
      "Epoch 62/80 [Validation]: 100%|██████████| 1/1 [00:00<00:00,  4.04it/s, loss=0.0000]\n"
     ]
    },
    {
     "name": "stdout",
     "output_type": "stream",
     "text": [
      "start inference\n"
     ]
    },
    {
     "name": "stderr",
     "output_type": "stream",
     "text": [
      "100%|██████████| 23/23 [02:11<00:00,  5.71s/it]\n",
      "100%|██████████| 15/15 [00:31<00:00,  2.12s/it]\n"
     ]
    },
    {
     "name": "stdout",
     "output_type": "stream",
     "text": [
      "constant 0.44285714285714284 score 0.042957077846521315\n",
      "train-epoch-loss:0.0001 valid-epoch-loss:0.0000 valid-beta4-score:0.0430\n"
     ]
    },
    {
     "name": "stderr",
     "output_type": "stream",
     "text": [
      "Epoch 63/80 [Training]: 100%|██████████| 300/300 [00:13<00:00, 21.44it/s, loss=0.0000]\n",
      "Epoch 63/80 [Validation]: 100%|██████████| 1/1 [00:00<00:00,  3.92it/s, loss=0.0000]\n"
     ]
    },
    {
     "name": "stdout",
     "output_type": "stream",
     "text": [
      "start inference\n"
     ]
    },
    {
     "name": "stderr",
     "output_type": "stream",
     "text": [
      "100%|██████████| 23/23 [02:03<00:00,  5.36s/it]\n",
      "100%|██████████| 15/15 [00:31<00:00,  2.11s/it]\n"
     ]
    },
    {
     "name": "stdout",
     "output_type": "stream",
     "text": [
      "constant 0.3285714285714286 score 0.04006526158693975\n",
      "train-epoch-loss:0.0000 valid-epoch-loss:0.0000 valid-beta4-score:0.0401\n"
     ]
    },
    {
     "name": "stderr",
     "output_type": "stream",
     "text": [
      "Epoch 64/80 [Training]: 100%|██████████| 300/300 [00:14<00:00, 21.43it/s, loss=0.0000]\n",
      "Epoch 64/80 [Validation]: 100%|██████████| 1/1 [00:00<00:00,  3.85it/s, loss=0.0000]\n"
     ]
    },
    {
     "name": "stdout",
     "output_type": "stream",
     "text": [
      "start inference\n"
     ]
    },
    {
     "name": "stderr",
     "output_type": "stream",
     "text": [
      "100%|██████████| 23/23 [02:11<00:00,  5.74s/it]\n",
      "100%|██████████| 15/15 [00:32<00:00,  2.15s/it]\n"
     ]
    },
    {
     "name": "stdout",
     "output_type": "stream",
     "text": [
      "constant 0.3857142857142858 score 0.04252020861317642\n",
      "train-epoch-loss:0.0000 valid-epoch-loss:0.0000 valid-beta4-score:0.0425\n"
     ]
    },
    {
     "name": "stderr",
     "output_type": "stream",
     "text": [
      "Epoch 65/80 [Training]: 100%|██████████| 300/300 [00:14<00:00, 21.05it/s, loss=0.0000]\n",
      "Epoch 65/80 [Validation]: 100%|██████████| 1/1 [00:00<00:00,  4.00it/s, loss=0.0000]\n"
     ]
    },
    {
     "name": "stdout",
     "output_type": "stream",
     "text": [
      "start inference\n"
     ]
    },
    {
     "name": "stderr",
     "output_type": "stream",
     "text": [
      "100%|██████████| 23/23 [02:05<00:00,  5.46s/it]\n",
      "100%|██████████| 15/15 [00:31<00:00,  2.11s/it]\n"
     ]
    },
    {
     "name": "stdout",
     "output_type": "stream",
     "text": [
      "constant 0.44285714285714284 score 0.04600419084986916\n",
      "train-epoch-loss:0.0000 valid-epoch-loss:0.0000 valid-beta4-score:0.0460\n"
     ]
    },
    {
     "name": "stderr",
     "output_type": "stream",
     "text": [
      "Epoch 66/80 [Training]: 100%|██████████| 300/300 [00:14<00:00, 20.79it/s, loss=0.0000]\n",
      "Epoch 66/80 [Validation]: 100%|██████████| 1/1 [00:00<00:00,  4.04it/s, loss=0.0000]\n"
     ]
    },
    {
     "name": "stdout",
     "output_type": "stream",
     "text": [
      "start inference\n"
     ]
    },
    {
     "name": "stderr",
     "output_type": "stream",
     "text": [
      "100%|██████████| 23/23 [02:10<00:00,  5.68s/it]\n",
      "100%|██████████| 15/15 [00:31<00:00,  2.13s/it]\n"
     ]
    },
    {
     "name": "stdout",
     "output_type": "stream",
     "text": [
      "constant 0.44285714285714284 score 0.04616846374564517\n",
      "train-epoch-loss:0.0000 valid-epoch-loss:0.0000 valid-beta4-score:0.0462\n"
     ]
    },
    {
     "name": "stderr",
     "output_type": "stream",
     "text": [
      "Epoch 67/80 [Training]: 100%|██████████| 300/300 [00:13<00:00, 21.44it/s, loss=0.0000]\n",
      "Epoch 67/80 [Validation]: 100%|██████████| 1/1 [00:00<00:00,  3.83it/s, loss=0.0000]\n"
     ]
    },
    {
     "name": "stdout",
     "output_type": "stream",
     "text": [
      "start inference\n"
     ]
    },
    {
     "name": "stderr",
     "output_type": "stream",
     "text": [
      "100%|██████████| 23/23 [02:06<00:00,  5.49s/it]\n",
      "100%|██████████| 15/15 [00:32<00:00,  2.14s/it]\n"
     ]
    },
    {
     "name": "stdout",
     "output_type": "stream",
     "text": [
      "constant 0.44285714285714284 score 0.041590097039310756\n",
      "train-epoch-loss:0.0000 valid-epoch-loss:0.0000 valid-beta4-score:0.0416\n"
     ]
    },
    {
     "name": "stderr",
     "output_type": "stream",
     "text": [
      "Epoch 68/80 [Training]: 100%|██████████| 300/300 [00:13<00:00, 21.73it/s, loss=0.0000]\n",
      "Epoch 68/80 [Validation]: 100%|██████████| 1/1 [00:00<00:00,  3.90it/s, loss=0.0000]\n"
     ]
    },
    {
     "name": "stdout",
     "output_type": "stream",
     "text": [
      "start inference\n"
     ]
    },
    {
     "name": "stderr",
     "output_type": "stream",
     "text": [
      "100%|██████████| 23/23 [02:11<00:00,  5.70s/it]\n",
      "100%|██████████| 15/15 [00:32<00:00,  2.14s/it]\n"
     ]
    },
    {
     "name": "stdout",
     "output_type": "stream",
     "text": [
      "constant 0.44285714285714284 score 0.0453477832336102\n",
      "train-epoch-loss:0.0000 valid-epoch-loss:0.0000 valid-beta4-score:0.0453\n"
     ]
    },
    {
     "name": "stderr",
     "output_type": "stream",
     "text": [
      "Epoch 69/80 [Training]: 100%|██████████| 300/300 [00:14<00:00, 21.34it/s, loss=0.0000]\n",
      "Epoch 69/80 [Validation]: 100%|██████████| 1/1 [00:00<00:00,  4.03it/s, loss=0.0000]\n"
     ]
    },
    {
     "name": "stdout",
     "output_type": "stream",
     "text": [
      "start inference\n"
     ]
    },
    {
     "name": "stderr",
     "output_type": "stream",
     "text": [
      "100%|██████████| 23/23 [02:06<00:00,  5.50s/it]\n",
      "100%|██████████| 15/15 [00:31<00:00,  2.11s/it]\n"
     ]
    },
    {
     "name": "stdout",
     "output_type": "stream",
     "text": [
      "constant 0.44285714285714284 score 0.045119710294021176\n",
      "train-epoch-loss:0.0000 valid-epoch-loss:0.0000 valid-beta4-score:0.0451\n"
     ]
    },
    {
     "name": "stderr",
     "output_type": "stream",
     "text": [
      "Epoch 70/80 [Training]: 100%|██████████| 300/300 [00:14<00:00, 21.37it/s, loss=0.0000]\n",
      "Epoch 70/80 [Validation]: 100%|██████████| 1/1 [00:00<00:00,  3.86it/s, loss=0.0009]\n"
     ]
    },
    {
     "name": "stdout",
     "output_type": "stream",
     "text": [
      "start inference\n"
     ]
    },
    {
     "name": "stderr",
     "output_type": "stream",
     "text": [
      "100%|██████████| 23/23 [02:07<00:00,  5.55s/it]\n",
      "100%|██████████| 15/15 [00:31<00:00,  2.12s/it]\n"
     ]
    },
    {
     "name": "stdout",
     "output_type": "stream",
     "text": [
      "constant 0.9 score 0.044373054914165246\n",
      "train-epoch-loss:0.0000 valid-epoch-loss:0.0009 valid-beta4-score:0.0444\n"
     ]
    },
    {
     "name": "stderr",
     "output_type": "stream",
     "text": [
      "Epoch 71/80 [Training]: 100%|██████████| 300/300 [00:14<00:00, 21.26it/s, loss=0.0000]\n",
      "Epoch 71/80 [Validation]: 100%|██████████| 1/1 [00:00<00:00,  3.91it/s, loss=0.0000]\n"
     ]
    },
    {
     "name": "stdout",
     "output_type": "stream",
     "text": [
      "start inference\n"
     ]
    },
    {
     "name": "stderr",
     "output_type": "stream",
     "text": [
      "100%|██████████| 23/23 [02:04<00:00,  5.41s/it]\n",
      "100%|██████████| 15/15 [00:31<00:00,  2.13s/it]\n"
     ]
    },
    {
     "name": "stdout",
     "output_type": "stream",
     "text": [
      "constant 0.3857142857142858 score 0.04323775512248212\n",
      "train-epoch-loss:0.0000 valid-epoch-loss:0.0000 valid-beta4-score:0.0432\n"
     ]
    },
    {
     "name": "stderr",
     "output_type": "stream",
     "text": [
      "Epoch 72/80 [Training]: 100%|██████████| 300/300 [00:14<00:00, 21.42it/s, loss=0.0000]\n",
      "Epoch 72/80 [Validation]: 100%|██████████| 1/1 [00:00<00:00,  3.87it/s, loss=0.0000]\n"
     ]
    },
    {
     "name": "stdout",
     "output_type": "stream",
     "text": [
      "start inference\n"
     ]
    },
    {
     "name": "stderr",
     "output_type": "stream",
     "text": [
      "100%|██████████| 23/23 [02:07<00:00,  5.55s/it]\n",
      "100%|██████████| 15/15 [00:31<00:00,  2.13s/it]\n"
     ]
    },
    {
     "name": "stdout",
     "output_type": "stream",
     "text": [
      "constant 0.9 score 0.045943490387934834\n",
      "train-epoch-loss:0.0000 valid-epoch-loss:0.0000 valid-beta4-score:0.0459\n"
     ]
    },
    {
     "name": "stderr",
     "output_type": "stream",
     "text": [
      "Epoch 73/80 [Training]: 100%|██████████| 300/300 [00:14<00:00, 21.14it/s, loss=0.0000]\n",
      "Epoch 73/80 [Validation]: 100%|██████████| 1/1 [00:00<00:00,  4.00it/s, loss=0.0000]\n"
     ]
    },
    {
     "name": "stdout",
     "output_type": "stream",
     "text": [
      "start inference\n"
     ]
    },
    {
     "name": "stderr",
     "output_type": "stream",
     "text": [
      "100%|██████████| 23/23 [02:05<00:00,  5.46s/it]\n",
      "100%|██████████| 15/15 [00:32<00:00,  2.14s/it]\n"
     ]
    },
    {
     "name": "stdout",
     "output_type": "stream",
     "text": [
      "constant 0.5 score 0.04428567750257175\n",
      "train-epoch-loss:0.0000 valid-epoch-loss:0.0000 valid-beta4-score:0.0443\n"
     ]
    },
    {
     "name": "stderr",
     "output_type": "stream",
     "text": [
      "Epoch 74/80 [Training]: 100%|██████████| 300/300 [00:14<00:00, 21.20it/s, loss=0.0000]\n",
      "Epoch 74/80 [Validation]: 100%|██████████| 1/1 [00:00<00:00,  3.96it/s, loss=0.0000]\n"
     ]
    },
    {
     "name": "stdout",
     "output_type": "stream",
     "text": [
      "start inference\n"
     ]
    },
    {
     "name": "stderr",
     "output_type": "stream",
     "text": [
      "100%|██████████| 23/23 [02:08<00:00,  5.58s/it]\n",
      "100%|██████████| 15/15 [00:32<00:00,  2.14s/it]\n"
     ]
    },
    {
     "name": "stdout",
     "output_type": "stream",
     "text": [
      "constant 0.8428571428571429 score 0.045049915475308025\n",
      "train-epoch-loss:0.0000 valid-epoch-loss:0.0000 valid-beta4-score:0.0450\n"
     ]
    },
    {
     "name": "stderr",
     "output_type": "stream",
     "text": [
      "Epoch 75/80 [Training]: 100%|██████████| 300/300 [00:14<00:00, 21.41it/s, loss=0.0000]\n",
      "Epoch 75/80 [Validation]: 100%|██████████| 1/1 [00:00<00:00,  3.96it/s, loss=0.0000]\n"
     ]
    },
    {
     "name": "stdout",
     "output_type": "stream",
     "text": [
      "start inference\n"
     ]
    },
    {
     "name": "stderr",
     "output_type": "stream",
     "text": [
      "100%|██████████| 23/23 [02:05<00:00,  5.46s/it]\n",
      "100%|██████████| 15/15 [00:32<00:00,  2.14s/it]\n"
     ]
    },
    {
     "name": "stdout",
     "output_type": "stream",
     "text": [
      "constant 0.7285714285714286 score 0.04461969013228044\n",
      "train-epoch-loss:0.0000 valid-epoch-loss:0.0000 valid-beta4-score:0.0446\n"
     ]
    },
    {
     "name": "stderr",
     "output_type": "stream",
     "text": [
      "Epoch 76/80 [Training]: 100%|██████████| 300/300 [00:14<00:00, 21.38it/s, loss=0.0000]\n",
      "Epoch 76/80 [Validation]: 100%|██████████| 1/1 [00:00<00:00,  3.84it/s, loss=0.0000]\n"
     ]
    },
    {
     "name": "stdout",
     "output_type": "stream",
     "text": [
      "start inference\n"
     ]
    },
    {
     "name": "stderr",
     "output_type": "stream",
     "text": [
      "100%|██████████| 23/23 [02:08<00:00,  5.58s/it]\n",
      "100%|██████████| 15/15 [00:32<00:00,  2.13s/it]\n"
     ]
    },
    {
     "name": "stdout",
     "output_type": "stream",
     "text": [
      "constant 0.44285714285714284 score 0.04511579724049388\n",
      "train-epoch-loss:0.0000 valid-epoch-loss:0.0000 valid-beta4-score:0.0451\n"
     ]
    },
    {
     "name": "stderr",
     "output_type": "stream",
     "text": [
      "Epoch 77/80 [Training]: 100%|██████████| 300/300 [00:14<00:00, 20.83it/s, loss=0.0000]\n",
      "Epoch 77/80 [Validation]: 100%|██████████| 1/1 [00:00<00:00,  3.94it/s, loss=0.0000]\n"
     ]
    },
    {
     "name": "stdout",
     "output_type": "stream",
     "text": [
      "start inference\n"
     ]
    },
    {
     "name": "stderr",
     "output_type": "stream",
     "text": [
      "100%|██████████| 23/23 [02:05<00:00,  5.45s/it]\n",
      "100%|██████████| 15/15 [00:31<00:00,  2.13s/it]\n"
     ]
    },
    {
     "name": "stdout",
     "output_type": "stream",
     "text": [
      "constant 0.8428571428571429 score 0.045723156950311\n",
      "train-epoch-loss:0.0000 valid-epoch-loss:0.0000 valid-beta4-score:0.0457\n"
     ]
    },
    {
     "name": "stderr",
     "output_type": "stream",
     "text": [
      "Epoch 78/80 [Training]: 100%|██████████| 300/300 [00:13<00:00, 21.57it/s, loss=0.0000]\n",
      "Epoch 78/80 [Validation]: 100%|██████████| 1/1 [00:00<00:00,  3.96it/s, loss=0.0000]\n"
     ]
    },
    {
     "name": "stdout",
     "output_type": "stream",
     "text": [
      "start inference\n"
     ]
    },
    {
     "name": "stderr",
     "output_type": "stream",
     "text": [
      "100%|██████████| 23/23 [02:09<00:00,  5.63s/it]\n",
      "100%|██████████| 15/15 [00:32<00:00,  2.14s/it]\n"
     ]
    },
    {
     "name": "stdout",
     "output_type": "stream",
     "text": [
      "constant 0.8428571428571429 score 0.046880037124570596\n",
      "train-epoch-loss:0.0000 valid-epoch-loss:0.0000 valid-beta4-score:0.0469\n"
     ]
    },
    {
     "name": "stderr",
     "output_type": "stream",
     "text": [
      "Epoch 79/80 [Training]: 100%|██████████| 300/300 [00:14<00:00, 20.89it/s, loss=0.0000]\n",
      "Epoch 79/80 [Validation]: 100%|██████████| 1/1 [00:00<00:00,  4.07it/s, loss=0.0000]\n"
     ]
    },
    {
     "name": "stdout",
     "output_type": "stream",
     "text": [
      "start inference\n"
     ]
    },
    {
     "name": "stderr",
     "output_type": "stream",
     "text": [
      "100%|██████████| 23/23 [02:05<00:00,  5.44s/it]\n",
      "100%|██████████| 15/15 [00:31<00:00,  2.11s/it]\n"
     ]
    },
    {
     "name": "stdout",
     "output_type": "stream",
     "text": [
      "constant 0.8428571428571429 score 0.04384781221782341\n",
      "train-epoch-loss:0.0000 valid-epoch-loss:0.0000 valid-beta4-score:0.0438\n"
     ]
    },
    {
     "name": "stderr",
     "output_type": "stream",
     "text": [
      "Epoch 80/80 [Training]: 100%|██████████| 300/300 [00:14<00:00, 21.23it/s, loss=0.0000]\n",
      "Epoch 80/80 [Validation]: 100%|██████████| 1/1 [00:00<00:00,  4.02it/s, loss=0.0000]\n"
     ]
    },
    {
     "name": "stdout",
     "output_type": "stream",
     "text": [
      "start inference\n"
     ]
    },
    {
     "name": "stderr",
     "output_type": "stream",
     "text": [
      "100%|██████████| 23/23 [02:06<00:00,  5.50s/it]\n",
      "100%|██████████| 15/15 [00:31<00:00,  2.12s/it]"
     ]
    },
    {
     "name": "stdout",
     "output_type": "stream",
     "text": [
      "constant 0.7857142857142857 score 0.045525802220302655\n",
      "train-epoch-loss:0.0000 valid-epoch-loss:0.0000 valid-beta4-score:0.0455\n"
     ]
    },
    {
     "name": "stderr",
     "output_type": "stream",
     "text": [
      "\n"
     ]
    }
   ],
   "source": [
    "best_model = None\n",
    "best_constant = 0\n",
    "best_score = -100\n",
    "\n",
    "grand_train_loss = []\n",
    "grand_valid_loss = []\n",
    "grand_train_score = []\n",
    "grand_valid_score = []\n",
    "\n",
    "for epoch in range(CFG.epochs):\n",
    "    model.train()\n",
    "    train_loss = []\n",
    "    valid_loss = []\n",
    "    with tqdm(train_loader, desc=f\"Epoch {epoch + 1}/{CFG.epochs} [Training]\") as tq:\n",
    "        for data in tq:\n",
    "            normalized_tomogram = data[\"normalized_tomogram\"]\n",
    "            segmentation_map = data[\"segmentation_map\"]\n",
    "\n",
    "            normalized_tomogram = padf(normalized_tomogram)\n",
    "            segmentation_map = padf(segmentation_map)\n",
    "\n",
    "            # データ拡張\n",
    "            # normalized_tomogram, segmentation_map = augment_data(\n",
    "            #     normalized_tomogram, segmentation_map, p=CFG.augmentation_prob\n",
    "            # )\n",
    "            normalized_tomogram = normalized_tomogram.cuda()\n",
    "            segmentation_map = segmentation_map.long().cuda()\n",
    "\n",
    "            optimizer.zero_grad()\n",
    "\n",
    "            with autocast():\n",
    "                pred = model(preprocess_tensor(normalized_tomogram))\n",
    "                loss = seg_loss(pred, segmentation_map)\n",
    "            # loss.backward()\n",
    "            # optimizer.step()\n",
    "            scaler.scale(loss).backward()\n",
    "            scaler.step(optimizer)\n",
    "            scaler.update()\n",
    "            scheduler.step()\n",
    "            train_loss.append(loss.item())\n",
    "\n",
    "            # 確率予測\n",
    "            prob_pred = torch.softmax(pred, dim=1)\n",
    "            tq.set_postfix({\"loss\": f\"{np.mean(train_loss):.4f}\"})\n",
    "\n",
    "    with tqdm(valid_loader, desc=f\"Epoch {epoch + 1}/{CFG.epochs} [Validation]\") as tq:\n",
    "        for data in tq:\n",
    "            normalized_tomogram = data[\"normalized_tomogram\"].cuda()\n",
    "            segmentation_map = data[\"segmentation_map\"].long().cuda()\n",
    "\n",
    "            normalized_tomogram = padf(normalized_tomogram)\n",
    "            segmentation_map = padf(segmentation_map)\n",
    "\n",
    "            with autocast():\n",
    "                pred = model(preprocess_tensor(normalized_tomogram))\n",
    "                loss = seg_loss(pred, segmentation_map)\n",
    "            valid_loss.append(loss.item())\n",
    "\n",
    "            # 確率予測\n",
    "            prob_pred = torch.softmax(pred, dim=1)\n",
    "            tq.set_postfix({\"loss\": f\"{np.mean(valid_loss):.4f}\"})\n",
    "\n",
    "    # # ############### validation ################\n",
    "    train_nshuffle_original_tomogram = defaultdict(list)\n",
    "    train_nshuffle_pred_tomogram = defaultdict(list)\n",
    "    train_nshuffle_gt_tomogram = defaultdict(list)\n",
    "\n",
    "    valid_original_tomogram = defaultdict(list)\n",
    "    valid_pred_tomogram = defaultdict(list)\n",
    "    valid_gt_tomogram = defaultdict(list)\n",
    "\n",
    "    train_mean_scores = []\n",
    "    valid_mean_scores = []\n",
    "\n",
    "    # モデルの保存\n",
    "    torch.save(model.state_dict(), \"./pretrained_model.pth\")\n",
    "\n",
    "    # ############### validation ################\n",
    "    train_nshuffle_original_tomogram = defaultdict(list)\n",
    "    train_nshuffle_pred_tomogram = defaultdict(list)\n",
    "    train_nshuffle_gt_tomogram = defaultdict(list)\n",
    "\n",
    "    valid_original_tomogram = defaultdict(list)\n",
    "    valid_pred_tomogram = defaultdict(list)\n",
    "    valid_gt_tomogram = defaultdict(list)\n",
    "\n",
    "    train_mean_scores = []\n",
    "    valid_mean_scores = []\n",
    "\n",
    "    train_inferenced_array = {}\n",
    "    train_pred_array = []\n",
    "    train_gt_array = []\n",
    "    valid_inferenced_array = {}\n",
    "    valid_gt_array = []\n",
    "\n",
    "    # for exp_name in tqdm(CFG.train_exp_names):\n",
    "    for exp_name in [CFG.valid_exp_name]:  # 5つのデータで試す\n",
    "        # inferenced_array = inference(model, exp_name, train=False)\n",
    "        inferenced_array, n_tomogram, segmentation_map = inference(\n",
    "            model, exp_name, train=False\n",
    "        )\n",
    "        valid_inferenced_array[exp_name] = inferenced_array\n",
    "        base_dir = \"../../inputs/train/overlay/ExperimentRuns/\"\n",
    "        gt_df = create_gt_df(base_dir, [exp_name])\n",
    "        valid_gt_array.append(gt_df)\n",
    "\n",
    "    valid_gt_array = pd.concat(valid_gt_array)\n",
    "\n",
    "    b_constant = 0\n",
    "    b_score = -100\n",
    "    for constant in tqdm(np.linspace(0.1, 0.9, 15)):\n",
    "        valid_pred_array = []\n",
    "        sikii = {\n",
    "            \"apo-ferritin\": constant,\n",
    "            \"beta-amylase\": constant,\n",
    "            \"beta-galactosidase\": constant,\n",
    "            \"ribosome\": constant,\n",
    "            \"thyroglobulin\": constant,\n",
    "            \"virus-like-particle\": constant,\n",
    "        }\n",
    "        for exp_name in [CFG.valid_exp_name]:  # 5つのデータで試す\n",
    "            pred_df = inference2pos(\n",
    "                pred_segmask=valid_inferenced_array[exp_name],\n",
    "                exp_name=exp_name,\n",
    "                sikii_dict=sikii,\n",
    "            )\n",
    "            valid_pred_array.append(pred_df)\n",
    "\n",
    "        valid_pred_array = pd.concat(valid_pred_array)\n",
    "\n",
    "        if len(valid_pred_array) != 0:\n",
    "            score_ = score(\n",
    "                valid_pred_array,\n",
    "                valid_gt_array,\n",
    "                row_id_column_name=\"index\",\n",
    "                distance_multiplier=1.0,\n",
    "                beta=4,\n",
    "            )\n",
    "            if score_ > b_score:\n",
    "                b_score = score_\n",
    "                b_constant = constant\n",
    "\n",
    "        import gc\n",
    "        import torch.cuda as cuda\n",
    "\n",
    "        gc.collect()\n",
    "        cuda.empty_cache()\n",
    "\n",
    "    print(\"constant\", b_constant, \"score\", b_score)\n",
    "\n",
    "    if b_score > best_score:\n",
    "        best_constant = b_constant\n",
    "        best_score = b_score\n",
    "        # best_score = np.mean(valid_mean_scores)\n",
    "        best_model = model.state_dict()\n",
    "        torch.save(best_model, f\"./best_model.pth\")\n",
    "\n",
    "    print(\n",
    "        f\"train-epoch-loss:{np.mean(train_loss):.4f}\",\n",
    "        f\"valid-epoch-loss:{np.mean(valid_loss):.4f}\",\n",
    "        # f\"train-beta4-score:{np.mean(train_mean_scores):.4f}\",\n",
    "        f\"valid-beta4-score:{b_score:.4f}\",\n",
    "    )\n",
    "\n",
    "    grand_train_loss.append(np.mean(train_loss))\n",
    "    grand_valid_loss.append(np.mean(valid_loss))\n",
    "    # grand_train_score.append(np.mean(train_mean_scores))\n",
    "    grand_valid_score.append(b_score)"
   ]
  },
  {
   "cell_type": "code",
   "execution_count": 15,
   "metadata": {},
   "outputs": [
    {
     "data": {
      "image/png": "[encoded data removed]",
      "text/plain": [
       "<Figure size 640x480 with 1 Axes>"
      ]
     },
     "metadata": {},
     "output_type": "display_data"
    }
   ],
   "source": [
    "# train_lossとvalid_lossのプロット\n",
    "\n",
    "plt.plot(grand_train_loss, label=\"train_loss\")\n",
    "plt.plot(grand_valid_loss, label=\"valid_loss\")\n",
    "plt.legend()\n",
    "plt.show()"
   ]
  },
  {
   "cell_type": "code",
   "execution_count": 16,
   "metadata": {},
   "outputs": [
    {
     "data": {
      "image/png": "[encoded data removed]",
      "text/plain": [
       "<Figure size 640x480 with 1 Axes>"
      ]
     },
     "metadata": {},
     "output_type": "display_data"
    }
   ],
   "source": [
    "# train_scoreとvalid_scoreのプロット\n",
    "plt.plot(grand_train_score, label=\"train_score\")\n",
    "plt.plot(grand_valid_score, label=\"valid_score\")\n",
    "plt.legend()\n",
    "plt.show()"
   ]
  },
  {
   "cell_type": "code",
   "execution_count": 17,
   "metadata": {},
   "outputs": [
    {
     "data": {
      "text/plain": [
       "torch.Size([1, 16, 64, 64])"
      ]
     },
     "execution_count": 17,
     "metadata": {},
     "output_type": "execute_result"
    }
   ],
   "source": [
    "normalized_tomogram.shape"
   ]
  },
  {
   "cell_type": "code",
   "execution_count": 18,
   "metadata": {},
   "outputs": [
    {
     "data": {
      "text/plain": [
       "(16, 0, 0)"
      ]
     },
     "execution_count": 18,
     "metadata": {},
     "output_type": "execute_result"
    }
   ],
   "source": [
    "x = np.random.randn(1, 16, 1, 320, 320)\n",
    "\n",
    "x[0, :, 0, :0, :0].shape"
   ]
  },
  {
   "cell_type": "code",
   "execution_count": 19,
   "metadata": {},
   "outputs": [],
   "source": [
    "normalized_tomogram = data[\"normalized_tomogram\"]\n",
    "segmentation_map = data[\"segmentation_map\"]"
   ]
  }
 ],
 "metadata": {
  "kernelspec": {
   "display_name": "kaggle",
   "language": "python",
   "name": "python3"
  },
  "language_info": {
   "codemirror_mode": {
    "name": "ipython",
    "version": 3
   },
   "file_extension": ".py",
   "mimetype": "text/x-python",
   "name": "python",
   "nbconvert_exporter": "python",
   "pygments_lexer": "ipython3",
   "version": "3.9.16"
  }
 },
 "nbformat": 4,
 "nbformat_minor": 2
}
