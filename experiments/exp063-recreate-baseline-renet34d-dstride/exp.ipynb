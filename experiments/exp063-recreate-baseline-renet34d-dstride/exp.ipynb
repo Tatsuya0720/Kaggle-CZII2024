{
 "cells": [
  {
   "cell_type": "code",
   "execution_count": 1,
   "metadata": {},
   "outputs": [
    {
     "name": "stderr",
     "output_type": "stream",
     "text": [
      "Failed to detect the name of this notebook, you can set it manually with the WANDB_NOTEBOOK_NAME environment variable to enable code saving.\n",
      "\u001b[34m\u001b[1mwandb\u001b[0m: Currently logged in as: \u001b[33mtatuya\u001b[0m (\u001b[33mlatent-walkers\u001b[0m). Use \u001b[1m`wandb login --relogin`\u001b[0m to force relogin\n"
     ]
    },
    {
     "data": {
      "text/html": [
       "wandb version 0.19.4 is available!  To upgrade, please run:\n",
       " $ pip install wandb --upgrade"
      ],
      "text/plain": [
       "<IPython.core.display.HTML object>"
      ]
     },
     "metadata": {},
     "output_type": "display_data"
    },
    {
     "data": {
      "text/html": [
       "Tracking run with wandb version 0.16.1"
      ],
      "text/plain": [
       "<IPython.core.display.HTML object>"
      ]
     },
     "metadata": {},
     "output_type": "display_data"
    },
    {
     "data": {
      "text/html": [
       "Run data is saved locally in <code>/home/tatsuya/code/projects/kaggle/CryoET/experiments/exp063-recreate-baseline-renet34d-dstride/wandb/run-20250125_190415-lz51s50m</code>"
      ],
      "text/plain": [
       "<IPython.core.display.HTML object>"
      ]
     },
     "metadata": {},
     "output_type": "display_data"
    },
    {
     "data": {
      "text/html": [
       "Syncing run <strong><a href='https://wandb.ai/latent-walkers/czii2024/runs/lz51s50m' target=\"_blank\">exp063-recreate-baseline-renet34d-dstride</a></strong> to <a href='https://wandb.ai/latent-walkers/czii2024' target=\"_blank\">Weights & Biases</a> (<a href='https://wandb.me/run' target=\"_blank\">docs</a>)<br/>"
      ],
      "text/plain": [
       "<IPython.core.display.HTML object>"
      ]
     },
     "metadata": {},
     "output_type": "display_data"
    },
    {
     "data": {
      "text/html": [
       " View project at <a href='https://wandb.ai/latent-walkers/czii2024' target=\"_blank\">https://wandb.ai/latent-walkers/czii2024</a>"
      ],
      "text/plain": [
       "<IPython.core.display.HTML object>"
      ]
     },
     "metadata": {},
     "output_type": "display_data"
    },
    {
     "data": {
      "text/html": [
       " View run at <a href='https://wandb.ai/latent-walkers/czii2024/runs/lz51s50m' target=\"_blank\">https://wandb.ai/latent-walkers/czii2024/runs/lz51s50m</a>"
      ],
      "text/plain": [
       "<IPython.core.display.HTML object>"
      ]
     },
     "metadata": {},
     "output_type": "display_data"
    },
    {
     "data": {
      "text/html": [
       "<button onClick=\"this.nextSibling.style.display='block';this.style.display='none';\">Display W&B run</button><iframe src='https://wandb.ai/latent-walkers/czii2024/runs/lz51s50m?jupyter=true' style='border:none;width:100%;height:420px;display:none;'></iframe>"
      ],
      "text/plain": [
       "<wandb.sdk.wandb_run.Run at 0x7fae6422bc10>"
      ]
     },
     "execution_count": 1,
     "metadata": {},
     "output_type": "execute_result"
    }
   ],
   "source": [
    "import os\n",
    "import zarr\n",
    "import timm\n",
    "import random\n",
    "import json\n",
    "import gc\n",
    "import warnings\n",
    "import numpy as np\n",
    "import pandas as pd\n",
    "import torch.nn as nn\n",
    "from pathlib import Path\n",
    "import matplotlib.pyplot as plt\n",
    "from torch.utils.data import DataLoader, Dataset\n",
    "from collections import defaultdict\n",
    "import sys\n",
    "import torch\n",
    "from torch.cuda.amp import autocast, GradScaler\n",
    "\n",
    "# import torchvision.transforms.functional as F\n",
    "import random\n",
    "\n",
    "warnings.filterwarnings(\"ignore\")\n",
    "sys.path.append(\"./src/\")\n",
    "\n",
    "from src.config import CFG\n",
    "from src.dataloader import (\n",
    "    read_zarr,\n",
    "    read_info_json,\n",
    "    scale_coordinates,\n",
    "    create_dataset,\n",
    "    create_segmentation_map,\n",
    "    EziiDataset,\n",
    "    drop_padding,\n",
    ")\n",
    "from src.network import Unet3D\n",
    "from src.utils import save_images, PadToSize\n",
    "from src.metric import (\n",
    "    score,\n",
    "    create_cls_pos,\n",
    "    create_cls_pos_sikii,\n",
    "    create_df,\n",
    "    SegmentationLoss,\n",
    "    DiceLoss,\n",
    ")\n",
    "from src.kaggle_notebook_metric import compute_lb, extract_particle_results\n",
    "from src.inference import inference, inference2pos, create_gt_df\n",
    "from metric import visualize_epoch_results\n",
    "\n",
    "import wandb\n",
    "from pathlib import Path\n",
    "\n",
    "notebook_name = os.path.join(Path().resolve()).split(\"/\")[-1]\n",
    "\n",
    "param = {\n",
    "    \"model\": CFG.model_name,\n",
    "    \"resolution\": CFG.resolution,\n",
    "    \"augmentation_prob\": CFG.augmentation_prob,\n",
    "    \"slice\": CFG.slice_,\n",
    "    \"epochs\": CFG.epochs,\n",
    "    \"lr\": CFG.lr,\n",
    "    \"batch_size\": CFG.batch_size,\n",
    "    \"weight_decay\": CFG.weight_decay,\n",
    "    \"num_workers\": CFG.num_workers,\n",
    "    \"augment_data_ratio\": CFG.augment_data_ratio,\n",
    "}\n",
    "wandb.init(project=\"czii2024\", name=notebook_name, config=param)"
   ]
  },
  {
   "cell_type": "code",
   "execution_count": 2,
   "metadata": {},
   "outputs": [
    {
     "name": "stderr",
     "output_type": "stream",
     "text": [
      "100%|██████████| 264/264 [00:40<00:00,  6.57it/s]\n",
      "100%|██████████| 1/1 [00:01<00:00,  1.47s/it]\n",
      "  0%|          | 0/132 [00:03<?, ?it/s]\n"
     ]
    },
    {
     "data": {
      "text/plain": [
       "torch.Size([2, 16, 630, 630])"
      ]
     },
     "execution_count": 2,
     "metadata": {},
     "output_type": "execute_result"
    }
   ],
   "source": [
    "train_dataset = EziiDataset(\n",
    "    exp_names=CFG.train_exp_names,\n",
    "    base_dir=\"../../inputs/train/\",\n",
    "    particles_name=CFG.particles_name,\n",
    "    resolution=CFG.resolution,\n",
    "    zarr_type=CFG.train_zarr_types,\n",
    "    train=True,\n",
    "    augmentation=True,\n",
    "    slice=True,\n",
    "    pre_read=True,\n",
    ")\n",
    "\n",
    "# train_nshuffle_dataset = EziiDataset(\n",
    "#     exp_names=CFG.train_exp_names,\n",
    "#     base_dir=\"../../inputs/train/\",\n",
    "#     particles_name=CFG.particles_name,\n",
    "#     resolution=CFG.resolution,\n",
    "#     zarr_type=CFG.train_zarr_types,\n",
    "#     augmentation=False,\n",
    "#     train=True,\n",
    "# )\n",
    "\n",
    "valid_dataset = EziiDataset(\n",
    "    exp_names=CFG.valid_exp_names,\n",
    "    base_dir=\"../../inputs/train/\",\n",
    "    particles_name=CFG.particles_name,\n",
    "    resolution=CFG.resolution,\n",
    "    zarr_type=CFG.valid_zarr_types,\n",
    "    augmentation=False,\n",
    "    train=True,\n",
    "    slice=True,\n",
    "    pre_read=True,\n",
    ")\n",
    "\n",
    "from tqdm import tqdm\n",
    "\n",
    "train_loader = DataLoader(\n",
    "    train_dataset,\n",
    "    batch_size=CFG.batch_size,\n",
    "    shuffle=True,\n",
    "    drop_last=True,\n",
    "    pin_memory=True,\n",
    "    num_workers=CFG.num_workers,\n",
    ")\n",
    "# train_nshuffle_loader = DataLoader(\n",
    "#     train_nshuffle_dataset,\n",
    "#     batch_size=1,\n",
    "#     shuffle=True,\n",
    "#     drop_last=True,\n",
    "#     pin_memory=True,\n",
    "#     num_workers=CFG.num_workers,\n",
    "# )\n",
    "valid_loader = DataLoader(\n",
    "    valid_dataset,\n",
    "    batch_size=1,\n",
    "    shuffle=False,\n",
    "    pin_memory=True,\n",
    "    num_workers=CFG.num_workers,\n",
    ")\n",
    "\n",
    "for data in tqdm(train_loader):\n",
    "    normalized_tomogram = data[\"normalized_tomogram\"]\n",
    "    segmentation_map = data[\"segmentation_map\"]\n",
    "    break\n",
    "\n",
    "normalized_tomogram.shape"
   ]
  },
  {
   "cell_type": "code",
   "execution_count": 3,
   "metadata": {},
   "outputs": [
    {
     "data": {
      "text/plain": [
       "(array(['ctfdeconvolved', 'denoised', 'isonetcorrected', 'wbp'],\n",
       "       dtype='<U15'),\n",
       " array([66, 66, 66, 66]))"
      ]
     },
     "execution_count": 3,
     "metadata": {},
     "output_type": "execute_result"
    }
   ],
   "source": [
    "# 学習時のデータパターン\n",
    "\n",
    "z_list = []\n",
    "\n",
    "for i in range(len(train_dataset)):\n",
    "    z = train_dataset[i][\"zarr_type\"]\n",
    "    z_list.append(z)\n",
    "\n",
    "np.unique(np.array(z_list), return_counts=True)"
   ]
  },
  {
   "cell_type": "code",
   "execution_count": 4,
   "metadata": {},
   "outputs": [
    {
     "data": {
      "text/plain": [
       "<All keys matched successfully>"
      ]
     },
     "execution_count": 4,
     "metadata": {},
     "output_type": "execute_result"
    }
   ],
   "source": [
    "encoder = timm.create_model(\n",
    "    model_name=CFG.model_name,\n",
    "    pretrained=True,\n",
    "    in_chans=3,\n",
    "    num_classes=0,\n",
    "    global_pool=\"\",\n",
    "    features_only=True,\n",
    ")\n",
    "model = Unet3D(encoder=encoder, num_domains=5).to(\"cuda\")\n",
    "# model.load_state_dict(torch.load(\"./pretrained_model.pth\"))\n",
    "# model.load_state_dict(\n",
    "#     torch.load(\n",
    "#         \"../../../../../../../../mnt/d/kaggle-tmp-models/czii2024/exp059-recreate-baseline-renet34d-dstride-attention/model_4.pth\"\n",
    "#     )\n",
    "# )\n",
    "model.load_state_dict(torch.load(\"./best_model.pth\"))"
   ]
  },
  {
   "cell_type": "code",
   "execution_count": 5,
   "metadata": {},
   "outputs": [
    {
     "data": {
      "text/plain": [
       "torch.Size([2, 7, 16, 64, 64])"
      ]
     },
     "execution_count": 5,
     "metadata": {},
     "output_type": "execute_result"
    }
   ],
   "source": [
    "# input-test\n",
    "\n",
    "x = torch.randn(2, 16, 1, 64, 64).cuda()\n",
    "model(x, torch.tensor([2, 0]).cuda()).shape"
   ]
  },
  {
   "cell_type": "code",
   "execution_count": 6,
   "metadata": {},
   "outputs": [],
   "source": [
    "# # \"encoder\"と名のつくパラメータは学習しない\n",
    "# for layer, param in model.named_parameters():\n",
    "#     if \"encoder\" in layer:\n",
    "#         param.requires_grad = False"
   ]
  },
  {
   "cell_type": "code",
   "execution_count": 7,
   "metadata": {},
   "outputs": [],
   "source": [
    "import matplotlib.pyplot as plt\n",
    "import numpy as np\n",
    "from matplotlib.colors import ListedColormap\n",
    "from matplotlib.patches import Patch\n",
    "\n",
    "# サンプルデータ\n",
    "num_classes = len(CFG.particles_name)  # クラス数\n",
    "colors = plt.cm.tab10(\n",
    "    np.arange(len(CFG.particles_name))\n",
    ")  # \"tab10\" カラーマップから色を取得\n",
    "\n",
    "# ListedColormap を作成\n",
    "class_colormap = ListedColormap(colors)\n",
    "\n",
    "\n",
    "# カラーバー付きプロット\n",
    "def plot_with_colormap(data, title, original_tomogram):\n",
    "    masked_data = np.ma.masked_where(data <= 0, data)  # クラス0をマスク\n",
    "    plt.imshow(original_tomogram, cmap=\"gray\")\n",
    "    im = plt.imshow(masked_data, cmap=class_colormap)\n",
    "    plt.title(title)\n",
    "    plt.axis(\"off\")\n",
    "    return im"
   ]
  },
  {
   "cell_type": "code",
   "execution_count": 8,
   "metadata": {},
   "outputs": [
    {
     "name": "stdout",
     "output_type": "stream",
     "text": [
      "Original shape: torch.Size([6, 16, 320, 320])\n",
      "Augmented shape: torch.Size([6, 16, 320, 320])\n"
     ]
    }
   ],
   "source": [
    "import torch\n",
    "import random\n",
    "import torchvision.transforms.functional as TF\n",
    "\n",
    "\n",
    "# 回転\n",
    "# 3Dテンソルの各軸に対して指定した角度で回転する関数\n",
    "def rotate_3d(tomogram, segmentation_map, angle):\n",
    "    \"\"\"Rotates the 3D tensors tomogram and segmentation_map around the Z-axis.\"\"\"\n",
    "    rotated_tomogram = TF.rotate(tomogram, angle, expand=False)\n",
    "    rotated_segmentation_map = TF.rotate(segmentation_map, angle, expand=False)\n",
    "    return rotated_tomogram, rotated_segmentation_map\n",
    "\n",
    "\n",
    "# 平行移動\n",
    "# 指定された範囲でランダムに平行移動\n",
    "def translate_3d(tomogram, segmentation_map, max_shift):\n",
    "    \"\"\"Translates the 3D tensors by a random shift within max_shift.\"\"\"\n",
    "    shift_x = random.randint(-max_shift, max_shift)\n",
    "    shift_y = random.randint(-max_shift, max_shift)\n",
    "    translated_tomogram = TF.affine(\n",
    "        tomogram, angle=0, translate=(shift_x, shift_y), scale=1, shear=0\n",
    "    )\n",
    "    translated_segmentation_map = TF.affine(\n",
    "        segmentation_map, angle=0, translate=(shift_x, shift_y), scale=1, shear=0\n",
    "    )\n",
    "    return translated_tomogram, translated_segmentation_map\n",
    "\n",
    "\n",
    "# フリップ\n",
    "# 縦横（上下左右）ランダムフリップ\n",
    "def flip_3d(tomogram, segmentation_map):\n",
    "    \"\"\"Randomly flips the 3D tensors along height or width.\"\"\"\n",
    "    if random.random() > 0.5:  # Horizontal flip\n",
    "        tomogram = torch.flip(tomogram, dims=[-1])\n",
    "        segmentation_map = torch.flip(segmentation_map, dims=[-1])\n",
    "    if random.random() > 0.5:  # Vertical flip\n",
    "        tomogram = torch.flip(tomogram, dims=[-2])\n",
    "        segmentation_map = torch.flip(segmentation_map, dims=[-2])\n",
    "    return tomogram, segmentation_map\n",
    "\n",
    "\n",
    "# クロッピング\n",
    "# 入力テンソルを中心またはランダムクロップで切り取る\n",
    "def crop_3d(tomogram, segmentation_map, crop_size):\n",
    "    \"\"\"Crops the 3D tensors to the specified crop_size.\"\"\"\n",
    "    _, depth, height, width = tomogram.size()\n",
    "    crop_d, crop_h, crop_w = crop_size\n",
    "\n",
    "    if crop_h > height or crop_w > width:\n",
    "        raise ValueError(\"Crop size cannot be larger than the original size.\")\n",
    "\n",
    "    start_h = random.randint(0, height - crop_h)  # Random starting position for height\n",
    "    start_w = random.randint(0, width - crop_w)  # Random starting position for width\n",
    "\n",
    "    cropped_tomogram = tomogram[\n",
    "        :, :, start_h : start_h + crop_h, start_w : start_w + crop_w\n",
    "    ]\n",
    "    cropped_segmentation_map = segmentation_map[\n",
    "        :, :, start_h : start_h + crop_h, start_w : start_w + crop_w\n",
    "    ]\n",
    "\n",
    "    return cropped_tomogram, cropped_segmentation_map\n",
    "\n",
    "\n",
    "# Mixup\n",
    "# 2つのサンプルを線形補間して混合\n",
    "def mixup(tomogram, segmentation_map, alpha=0.4):\n",
    "    \"\"\"Applies mixup augmentation to the batch.\"\"\"\n",
    "    lam = random.betavariate(alpha, alpha)\n",
    "    batch_size = tomogram.size(0)\n",
    "    index = torch.randperm(batch_size)\n",
    "\n",
    "    mixed_tomogram = lam * tomogram + (1 - lam) * tomogram[index, :]\n",
    "    mixed_segmentation_map = (\n",
    "        lam * segmentation_map + (1 - lam) * segmentation_map[index, :]\n",
    "    )\n",
    "\n",
    "    return mixed_tomogram, mixed_segmentation_map\n",
    "\n",
    "\n",
    "# Cutmix\n",
    "# ランダム領域を切り取って別のサンプルに貼り付け\n",
    "def cutmix(tomogram, segmentation_map, alpha=1.0):\n",
    "    \"\"\"Applies cutmix augmentation to the batch.\"\"\"\n",
    "    lam = random.betavariate(alpha, alpha)\n",
    "    batch_size, depth, height, width = tomogram.size()\n",
    "    index = torch.randperm(batch_size)\n",
    "\n",
    "    cx = random.randint(0, width)\n",
    "    cy = random.randint(0, height)\n",
    "    cw = int(width * (1 - lam))\n",
    "    ch = int(height * (1 - lam))\n",
    "\n",
    "    x1 = max(cx - cw // 2, 0)\n",
    "    x2 = min(cx + cw // 2, width)\n",
    "    y1 = max(cy - ch // 2, 0)\n",
    "    y2 = min(cy + ch // 2, height)\n",
    "\n",
    "    tomogram[:, :, y1:y2, x1:x2] = tomogram[index, :, y1:y2, x1:x2]\n",
    "    segmentation_map[:, :, y1:y2, x1:x2] = segmentation_map[index, :, y1:y2, x1:x2]\n",
    "\n",
    "    return tomogram, segmentation_map\n",
    "\n",
    "\n",
    "# データ拡張の組み合わせ適用\n",
    "def augment_data(\n",
    "    tomogram,\n",
    "    segmentation_map,\n",
    "    crop_size=(16, 256, 256),\n",
    "    max_shift=10,\n",
    "    rotation_angle=30,\n",
    "    p=0.5,\n",
    "    mixup_alpha=0.4,\n",
    "    cutmix_alpha=1.0,\n",
    "):\n",
    "    \"\"\"Applies a combination of rotation, translation, flipping, cropping, mixup, and cutmix to the inputs with probabilities.\"\"\"\n",
    "    if random.random() < p:\n",
    "        tomogram, segmentation_map = rotate_3d(\n",
    "            tomogram,\n",
    "            segmentation_map,\n",
    "            angle=random.uniform(-rotation_angle, rotation_angle),\n",
    "        )\n",
    "    if random.random() < p:\n",
    "        tomogram, segmentation_map = translate_3d(\n",
    "            tomogram, segmentation_map, max_shift=max_shift\n",
    "        )\n",
    "    if random.random() < p:\n",
    "        tomogram, segmentation_map = flip_3d(tomogram, segmentation_map)\n",
    "    if random.random() < p:\n",
    "        tomogram, segmentation_map = crop_3d(\n",
    "            tomogram, segmentation_map, crop_size=crop_size\n",
    "        )\n",
    "    if random.random() < p:\n",
    "        tomogram, segmentation_map = mixup(\n",
    "            tomogram, segmentation_map, alpha=mixup_alpha\n",
    "        )\n",
    "    # if random.random() < p:\n",
    "    #     tomogram, segmentation_map = cutmix(\n",
    "    #         tomogram, segmentation_map, alpha=cutmix_alpha\n",
    "    #     )\n",
    "    return tomogram, segmentation_map\n",
    "\n",
    "\n",
    "# 使用例\n",
    "# バッチサイズ6, 深さ16, 高さ320, 幅320のランダムテンソル\n",
    "tomogram = torch.rand((6, 16, 320, 320))\n",
    "segmentation_map = torch.randint(0, 2, (6, 16, 320, 320))  # ラベルは0または1\n",
    "\n",
    "# データ拡張の適用\n",
    "aug_tomogram, aug_segmentation_map = augment_data(tomogram, segmentation_map, p=0.7)\n",
    "print(\"Original shape:\", tomogram.shape)\n",
    "print(\"Augmented shape:\", aug_tomogram.shape)"
   ]
  },
  {
   "cell_type": "code",
   "execution_count": 9,
   "metadata": {},
   "outputs": [],
   "source": [
    "# model.encoderのパラメータを固定\n",
    "\n",
    "# for param in model.encoder.parameters():\n",
    "#     param.requires_grad = False"
   ]
  },
  {
   "cell_type": "code",
   "execution_count": 10,
   "metadata": {},
   "outputs": [],
   "source": [
    "from transformers import get_cosine_schedule_with_warmup\n",
    "\n",
    "optimizer = torch.optim.Adam(\n",
    "    model.parameters(), lr=CFG.lr, weight_decay=CFG.weight_decay\n",
    ")\n",
    "criterion = nn.CrossEntropyLoss(\n",
    "    #  weight=torch.tensor([2.0, 32, 32, 32, 32, 32, 32]).to(\"cuda\")\n",
    ")\n",
    "# criterion = DiceLoss()\n",
    "scheduler = get_cosine_schedule_with_warmup(\n",
    "    optimizer,\n",
    "    num_warmup_steps=10,\n",
    "    num_training_steps=CFG.epochs * len(train_loader),\n",
    "    # * batch_size,\n",
    ")\n",
    "scaler = GradScaler()\n",
    "seg_loss = SegmentationLoss(criterion)\n",
    "padf = PadToSize(CFG.resolution)"
   ]
  },
  {
   "cell_type": "code",
   "execution_count": 11,
   "metadata": {},
   "outputs": [],
   "source": [
    "# b, c, d, h, w = CFG.batch_size, 1, 96, 320, 320"
   ]
  },
  {
   "cell_type": "code",
   "execution_count": 12,
   "metadata": {},
   "outputs": [],
   "source": [
    "def preprocess_tensor(tensor):\n",
    "    batch_size, depth, height, width = tensor.shape\n",
    "    tensor = tensor.unsqueeze(2)  # (b, d, h, w) -> (b, d, 1, h, w)\n",
    "    return tensor"
   ]
  },
  {
   "cell_type": "code",
   "execution_count": 13,
   "metadata": {},
   "outputs": [
    {
     "data": {
      "text/plain": [
       "torch.Size([2, 16, 640, 640])"
      ]
     },
     "execution_count": 13,
     "metadata": {},
     "output_type": "execute_result"
    }
   ],
   "source": [
    "padf = PadToSize(CFG.resolution)\n",
    "padf(normalized_tomogram).shape"
   ]
  },
  {
   "cell_type": "code",
   "execution_count": null,
   "metadata": {},
   "outputs": [
    {
     "name": "stderr",
     "output_type": "stream",
     "text": [
      "Epoch 1/150 [Training]: 100%|██████████| 132/132 [01:57<00:00,  1.12it/s, loss=0.0223]\n",
      "Epoch 1/150 [Validation]: 100%|██████████| 1/1 [00:00<00:00,  1.12it/s, loss=0.0262]\n",
      "100%|██████████| 15/15 [00:33<00:00,  2.22s/it]\n"
     ]
    },
    {
     "name": "stdout",
     "output_type": "stream",
     "text": [
      "train-epoch-loss:0.0223 valid-beta4-score:0.4645\n"
     ]
    },
    {
     "name": "stderr",
     "output_type": "stream",
     "text": [
      "Epoch 2/150 [Training]: 100%|██████████| 132/132 [01:54<00:00,  1.15it/s, loss=0.0188]\n",
      "Epoch 2/150 [Validation]: 100%|██████████| 1/1 [00:00<00:00,  1.13it/s, loss=0.0033]\n",
      "100%|██████████| 15/15 [00:36<00:00,  2.45s/it]\n"
     ]
    },
    {
     "name": "stdout",
     "output_type": "stream",
     "text": [
      "train-epoch-loss:0.0188 valid-beta4-score:0.5208\n"
     ]
    },
    {
     "name": "stderr",
     "output_type": "stream",
     "text": [
      "Epoch 3/150 [Training]: 100%|██████████| 132/132 [02:04<00:00,  1.06it/s, loss=0.0178]\n",
      "Epoch 3/150 [Validation]: 100%|██████████| 1/1 [00:00<00:00,  1.12it/s, loss=0.0204]\n",
      "100%|██████████| 15/15 [00:35<00:00,  2.40s/it]\n"
     ]
    },
    {
     "name": "stdout",
     "output_type": "stream",
     "text": [
      "train-epoch-loss:0.0178 valid-beta4-score:0.5340\n"
     ]
    },
    {
     "name": "stderr",
     "output_type": "stream",
     "text": [
      "Epoch 4/150 [Training]: 100%|██████████| 132/132 [02:01<00:00,  1.09it/s, loss=0.0212]\n",
      "Epoch 4/150 [Validation]: 100%|██████████| 1/1 [00:00<00:00,  1.21it/s, loss=0.0185]\n",
      "100%|██████████| 15/15 [00:38<00:00,  2.59s/it]\n"
     ]
    },
    {
     "name": "stdout",
     "output_type": "stream",
     "text": [
      "train-epoch-loss:0.0212 valid-beta4-score:0.5192\n"
     ]
    },
    {
     "name": "stderr",
     "output_type": "stream",
     "text": [
      "Epoch 5/150 [Training]: 100%|██████████| 132/132 [02:05<00:00,  1.05it/s, loss=0.0175]\n",
      "Epoch 5/150 [Validation]: 100%|██████████| 1/1 [00:00<00:00,  1.09it/s, loss=0.0152]\n",
      "100%|██████████| 15/15 [00:38<00:00,  2.55s/it]\n"
     ]
    },
    {
     "name": "stdout",
     "output_type": "stream",
     "text": [
      "train-epoch-loss:0.0175 valid-beta4-score:0.4329\n"
     ]
    },
    {
     "name": "stderr",
     "output_type": "stream",
     "text": [
      "Epoch 6/150 [Training]: 100%|██████████| 132/132 [02:03<00:00,  1.07it/s, loss=0.0160]\n",
      "Epoch 6/150 [Validation]: 100%|██████████| 1/1 [00:00<00:00,  1.16it/s, loss=0.0015]\n",
      "100%|██████████| 15/15 [00:38<00:00,  2.56s/it]\n"
     ]
    },
    {
     "name": "stdout",
     "output_type": "stream",
     "text": [
      "train-epoch-loss:0.0160 valid-beta4-score:0.5366\n"
     ]
    },
    {
     "name": "stderr",
     "output_type": "stream",
     "text": [
      "Epoch 7/150 [Training]: 100%|██████████| 132/132 [02:06<00:00,  1.04it/s, loss=0.0168]\n",
      "Epoch 7/150 [Validation]: 100%|██████████| 1/1 [00:00<00:00,  1.14it/s, loss=0.0218]\n",
      "100%|██████████| 15/15 [00:37<00:00,  2.50s/it]\n"
     ]
    },
    {
     "name": "stdout",
     "output_type": "stream",
     "text": [
      "train-epoch-loss:0.0168 valid-beta4-score:0.4340\n"
     ]
    },
    {
     "name": "stderr",
     "output_type": "stream",
     "text": [
      "Epoch 8/150 [Training]: 100%|██████████| 132/132 [02:03<00:00,  1.07it/s, loss=0.0168]\n",
      "Epoch 8/150 [Validation]: 100%|██████████| 1/1 [00:00<00:00,  1.21it/s, loss=0.0170]\n",
      "100%|██████████| 15/15 [00:36<00:00,  2.42s/it]\n"
     ]
    },
    {
     "name": "stdout",
     "output_type": "stream",
     "text": [
      "train-epoch-loss:0.0168 valid-beta4-score:0.4761\n"
     ]
    },
    {
     "name": "stderr",
     "output_type": "stream",
     "text": [
      "Epoch 9/150 [Training]: 100%|██████████| 132/132 [01:58<00:00,  1.12it/s, loss=0.0180]\n",
      "Epoch 9/150 [Validation]: 100%|██████████| 1/1 [00:00<00:00,  1.25it/s, loss=0.0182]\n",
      "100%|██████████| 15/15 [00:34<00:00,  2.29s/it]\n"
     ]
    },
    {
     "name": "stdout",
     "output_type": "stream",
     "text": [
      "train-epoch-loss:0.0180 valid-beta4-score:0.5130\n"
     ]
    },
    {
     "name": "stderr",
     "output_type": "stream",
     "text": [
      "Epoch 10/150 [Training]: 100%|██████████| 132/132 [01:57<00:00,  1.12it/s, loss=0.0165]\n",
      "Epoch 10/150 [Validation]: 100%|██████████| 1/1 [00:00<00:00,  1.22it/s, loss=0.0043]\n",
      "100%|██████████| 15/15 [00:35<00:00,  2.37s/it]\n"
     ]
    },
    {
     "name": "stdout",
     "output_type": "stream",
     "text": [
      "train-epoch-loss:0.0165 valid-beta4-score:0.4808\n"
     ]
    },
    {
     "name": "stderr",
     "output_type": "stream",
     "text": [
      "Epoch 11/150 [Training]: 100%|██████████| 132/132 [01:52<00:00,  1.17it/s, loss=0.0156]\n",
      "Epoch 11/150 [Validation]: 100%|██████████| 1/1 [00:00<00:00,  1.11it/s, loss=0.0205]\n",
      "100%|██████████| 15/15 [00:34<00:00,  2.30s/it]\n"
     ]
    },
    {
     "name": "stdout",
     "output_type": "stream",
     "text": [
      "train-epoch-loss:0.0156 valid-beta4-score:0.4876\n"
     ]
    },
    {
     "name": "stderr",
     "output_type": "stream",
     "text": [
      "Epoch 12/150 [Training]: 100%|██████████| 132/132 [01:48<00:00,  1.22it/s, loss=0.0126]\n",
      "Epoch 12/150 [Validation]: 100%|██████████| 1/1 [00:00<00:00,  1.27it/s, loss=0.0193]\n",
      "100%|██████████| 15/15 [00:35<00:00,  2.40s/it]\n"
     ]
    },
    {
     "name": "stdout",
     "output_type": "stream",
     "text": [
      "train-epoch-loss:0.0126 valid-beta4-score:0.5027\n"
     ]
    },
    {
     "name": "stderr",
     "output_type": "stream",
     "text": [
      "Epoch 13/150 [Training]: 100%|██████████| 132/132 [01:57<00:00,  1.13it/s, loss=0.0169]\n",
      "Epoch 13/150 [Validation]: 100%|██████████| 1/1 [00:00<00:00,  1.22it/s, loss=0.0157]\n",
      "100%|██████████| 15/15 [00:35<00:00,  2.37s/it]\n"
     ]
    },
    {
     "name": "stdout",
     "output_type": "stream",
     "text": [
      "train-epoch-loss:0.0169 valid-beta4-score:0.5139\n"
     ]
    },
    {
     "name": "stderr",
     "output_type": "stream",
     "text": [
      "Epoch 14/150 [Training]: 100%|██████████| 132/132 [01:54<00:00,  1.15it/s, loss=0.0145]\n",
      "Epoch 14/150 [Validation]: 100%|██████████| 1/1 [00:00<00:00,  1.18it/s, loss=0.0197]\n",
      "100%|██████████| 15/15 [00:35<00:00,  2.40s/it]\n"
     ]
    },
    {
     "name": "stdout",
     "output_type": "stream",
     "text": [
      "train-epoch-loss:0.0145 valid-beta4-score:0.5447\n"
     ]
    },
    {
     "name": "stderr",
     "output_type": "stream",
     "text": [
      "Epoch 15/150 [Training]: 100%|██████████| 132/132 [01:48<00:00,  1.22it/s, loss=0.0153]\n",
      "Epoch 15/150 [Validation]: 100%|██████████| 1/1 [00:00<00:00,  1.09it/s, loss=0.0189]\n",
      "100%|██████████| 15/15 [00:35<00:00,  2.39s/it]\n"
     ]
    },
    {
     "name": "stdout",
     "output_type": "stream",
     "text": [
      "train-epoch-loss:0.0153 valid-beta4-score:0.4527\n"
     ]
    },
    {
     "name": "stderr",
     "output_type": "stream",
     "text": [
      "Epoch 16/150 [Training]: 100%|██████████| 132/132 [01:44<00:00,  1.26it/s, loss=0.0156]\n",
      "Epoch 16/150 [Validation]: 100%|██████████| 1/1 [00:00<00:00,  1.11it/s, loss=0.0178]\n",
      "100%|██████████| 15/15 [00:35<00:00,  2.35s/it]\n"
     ]
    },
    {
     "name": "stdout",
     "output_type": "stream",
     "text": [
      "train-epoch-loss:0.0156 valid-beta4-score:0.5279\n"
     ]
    },
    {
     "name": "stderr",
     "output_type": "stream",
     "text": [
      "Epoch 17/150 [Training]: 100%|██████████| 132/132 [01:55<00:00,  1.14it/s, loss=0.0138]\n",
      "Epoch 17/150 [Validation]: 100%|██████████| 1/1 [00:00<00:00,  1.11it/s, loss=0.0023]\n",
      "100%|██████████| 15/15 [00:35<00:00,  2.37s/it]\n"
     ]
    },
    {
     "name": "stdout",
     "output_type": "stream",
     "text": [
      "train-epoch-loss:0.0138 valid-beta4-score:0.5244\n"
     ]
    },
    {
     "name": "stderr",
     "output_type": "stream",
     "text": [
      "Epoch 18/150 [Training]: 100%|██████████| 132/132 [01:54<00:00,  1.16it/s, loss=0.0155]\n",
      "Epoch 18/150 [Validation]: 100%|██████████| 1/1 [00:00<00:00,  1.08it/s, loss=0.0092]\n",
      "100%|██████████| 15/15 [00:36<00:00,  2.41s/it]\n"
     ]
    },
    {
     "name": "stdout",
     "output_type": "stream",
     "text": [
      "train-epoch-loss:0.0155 valid-beta4-score:0.5404\n"
     ]
    },
    {
     "name": "stderr",
     "output_type": "stream",
     "text": [
      "Epoch 19/150 [Training]: 100%|██████████| 132/132 [01:57<00:00,  1.12it/s, loss=0.0141]\n",
      "Epoch 19/150 [Validation]: 100%|██████████| 1/1 [00:00<00:00,  1.26it/s, loss=0.0195]\n",
      "100%|██████████| 15/15 [00:35<00:00,  2.40s/it]\n"
     ]
    },
    {
     "name": "stdout",
     "output_type": "stream",
     "text": [
      "train-epoch-loss:0.0141 valid-beta4-score:0.5585\n"
     ]
    },
    {
     "name": "stderr",
     "output_type": "stream",
     "text": [
      "Epoch 20/150 [Training]: 100%|██████████| 132/132 [01:52<00:00,  1.17it/s, loss=0.0121]\n",
      "Epoch 20/150 [Validation]: 100%|██████████| 1/1 [00:00<00:00,  1.23it/s, loss=0.0029]\n",
      "100%|██████████| 15/15 [00:35<00:00,  2.39s/it]\n"
     ]
    },
    {
     "name": "stdout",
     "output_type": "stream",
     "text": [
      "train-epoch-loss:0.0121 valid-beta4-score:0.4992\n"
     ]
    },
    {
     "name": "stderr",
     "output_type": "stream",
     "text": [
      "Epoch 21/150 [Training]: 100%|██████████| 132/132 [01:42<00:00,  1.29it/s, loss=0.0147]\n",
      "Epoch 21/150 [Validation]: 100%|██████████| 1/1 [00:00<00:00,  1.31it/s, loss=0.0034]\n",
      "100%|██████████| 15/15 [00:36<00:00,  2.41s/it]\n"
     ]
    },
    {
     "name": "stdout",
     "output_type": "stream",
     "text": [
      "train-epoch-loss:0.0147 valid-beta4-score:0.6244\n"
     ]
    },
    {
     "name": "stderr",
     "output_type": "stream",
     "text": [
      "Epoch 22/150 [Training]: 100%|██████████| 132/132 [01:36<00:00,  1.37it/s, loss=0.0139]\n",
      "Epoch 22/150 [Validation]: 100%|██████████| 1/1 [00:00<00:00,  1.35it/s, loss=0.0147]\n",
      "100%|██████████| 15/15 [00:35<00:00,  2.34s/it]\n"
     ]
    },
    {
     "name": "stdout",
     "output_type": "stream",
     "text": [
      "train-epoch-loss:0.0139 valid-beta4-score:0.6893\n"
     ]
    },
    {
     "name": "stderr",
     "output_type": "stream",
     "text": [
      "Epoch 23/150 [Training]: 100%|██████████| 132/132 [01:38<00:00,  1.34it/s, loss=0.0117]\n",
      "Epoch 23/150 [Validation]: 100%|██████████| 1/1 [00:00<00:00,  1.13it/s, loss=0.0182]\n",
      "100%|██████████| 15/15 [00:35<00:00,  2.38s/it]\n"
     ]
    },
    {
     "name": "stdout",
     "output_type": "stream",
     "text": [
      "train-epoch-loss:0.0117 valid-beta4-score:0.6683\n"
     ]
    },
    {
     "name": "stderr",
     "output_type": "stream",
     "text": [
      "Epoch 24/150 [Training]: 100%|██████████| 132/132 [01:44<00:00,  1.26it/s, loss=0.0133]\n",
      "Epoch 24/150 [Validation]: 100%|██████████| 1/1 [00:00<00:00,  1.25it/s, loss=0.0007]\n",
      "100%|██████████| 15/15 [00:34<00:00,  2.32s/it]\n"
     ]
    },
    {
     "name": "stdout",
     "output_type": "stream",
     "text": [
      "train-epoch-loss:0.0133 valid-beta4-score:0.6192\n"
     ]
    },
    {
     "name": "stderr",
     "output_type": "stream",
     "text": [
      "Epoch 25/150 [Training]: 100%|██████████| 132/132 [01:39<00:00,  1.32it/s, loss=0.0100]\n",
      "Epoch 25/150 [Validation]: 100%|██████████| 1/1 [00:00<00:00,  1.25it/s, loss=0.0064]\n",
      "100%|██████████| 15/15 [00:35<00:00,  2.35s/it]\n"
     ]
    },
    {
     "name": "stdout",
     "output_type": "stream",
     "text": [
      "train-epoch-loss:0.0100 valid-beta4-score:0.6562\n"
     ]
    },
    {
     "name": "stderr",
     "output_type": "stream",
     "text": [
      "Epoch 26/150 [Training]: 100%|██████████| 132/132 [01:44<00:00,  1.26it/s, loss=0.0148]\n",
      "Epoch 26/150 [Validation]: 100%|██████████| 1/1 [00:00<00:00,  1.24it/s, loss=0.0004]\n",
      "100%|██████████| 15/15 [00:34<00:00,  2.27s/it]\n"
     ]
    },
    {
     "name": "stdout",
     "output_type": "stream",
     "text": [
      "train-epoch-loss:0.0148 valid-beta4-score:0.6230\n"
     ]
    },
    {
     "name": "stderr",
     "output_type": "stream",
     "text": [
      "Epoch 27/150 [Training]: 100%|██████████| 132/132 [01:35<00:00,  1.38it/s, loss=0.0122]\n",
      "Epoch 27/150 [Validation]: 100%|██████████| 1/1 [00:00<00:00,  1.30it/s, loss=0.0023]\n",
      "100%|██████████| 15/15 [00:33<00:00,  2.26s/it]\n"
     ]
    },
    {
     "name": "stdout",
     "output_type": "stream",
     "text": [
      "train-epoch-loss:0.0122 valid-beta4-score:0.4567\n"
     ]
    },
    {
     "name": "stderr",
     "output_type": "stream",
     "text": [
      "Epoch 28/150 [Training]: 100%|██████████| 132/132 [01:38<00:00,  1.34it/s, loss=0.0128]\n",
      "Epoch 28/150 [Validation]: 100%|██████████| 1/1 [00:00<00:00,  1.35it/s, loss=0.0080]\n",
      "100%|██████████| 15/15 [00:33<00:00,  2.26s/it]\n"
     ]
    },
    {
     "name": "stdout",
     "output_type": "stream",
     "text": [
      "train-epoch-loss:0.0128 valid-beta4-score:0.6674\n"
     ]
    },
    {
     "name": "stderr",
     "output_type": "stream",
     "text": [
      "Epoch 29/150 [Training]: 100%|██████████| 132/132 [01:43<00:00,  1.28it/s, loss=0.0112]\n",
      "Epoch 29/150 [Validation]: 100%|██████████| 1/1 [00:00<00:00,  1.28it/s, loss=0.0002]\n",
      "100%|██████████| 15/15 [00:33<00:00,  2.26s/it]\n"
     ]
    },
    {
     "name": "stdout",
     "output_type": "stream",
     "text": [
      "train-epoch-loss:0.0112 valid-beta4-score:0.6052\n"
     ]
    },
    {
     "name": "stderr",
     "output_type": "stream",
     "text": [
      "Epoch 30/150 [Training]: 100%|██████████| 132/132 [01:41<00:00,  1.30it/s, loss=0.0143]\n",
      "Epoch 30/150 [Validation]: 100%|██████████| 1/1 [00:00<00:00,  1.06it/s, loss=0.0259]\n",
      "100%|██████████| 15/15 [00:35<00:00,  2.38s/it]\n"
     ]
    },
    {
     "name": "stdout",
     "output_type": "stream",
     "text": [
      "train-epoch-loss:0.0143 valid-beta4-score:0.5458\n"
     ]
    },
    {
     "name": "stderr",
     "output_type": "stream",
     "text": [
      "Epoch 31/150 [Training]: 100%|██████████| 132/132 [02:19<00:00,  1.06s/it, loss=0.0127]\n",
      "Epoch 31/150 [Validation]: 100%|██████████| 1/1 [00:00<00:00,  1.12it/s, loss=0.0258]\n",
      "100%|██████████| 15/15 [00:36<00:00,  2.45s/it]\n"
     ]
    },
    {
     "name": "stdout",
     "output_type": "stream",
     "text": [
      "train-epoch-loss:0.0127 valid-beta4-score:0.4875\n"
     ]
    },
    {
     "name": "stderr",
     "output_type": "stream",
     "text": [
      "Epoch 32/150 [Training]: 100%|██████████| 132/132 [02:19<00:00,  1.06s/it, loss=0.0147]\n",
      "Epoch 32/150 [Validation]: 100%|██████████| 1/1 [00:00<00:00,  1.13it/s, loss=0.0023]\n",
      "100%|██████████| 15/15 [00:38<00:00,  2.57s/it]\n"
     ]
    },
    {
     "name": "stdout",
     "output_type": "stream",
     "text": [
      "train-epoch-loss:0.0147 valid-beta4-score:0.4417\n"
     ]
    },
    {
     "name": "stderr",
     "output_type": "stream",
     "text": [
      "Epoch 33/150 [Training]: 100%|██████████| 132/132 [02:23<00:00,  1.09s/it, loss=0.0106]\n",
      "Epoch 33/150 [Validation]: 100%|██████████| 1/1 [00:00<00:00,  1.08it/s, loss=0.0240]\n",
      "100%|██████████| 15/15 [00:37<00:00,  2.48s/it]\n"
     ]
    },
    {
     "name": "stdout",
     "output_type": "stream",
     "text": [
      "train-epoch-loss:0.0106 valid-beta4-score:0.6032\n"
     ]
    },
    {
     "name": "stderr",
     "output_type": "stream",
     "text": [
      "Epoch 34/150 [Training]: 100%|██████████| 132/132 [02:17<00:00,  1.04s/it, loss=0.0136]\n",
      "Epoch 34/150 [Validation]: 100%|██████████| 1/1 [00:01<00:00,  1.06s/it, loss=0.0124]\n",
      "100%|██████████| 15/15 [00:40<00:00,  2.71s/it]\n"
     ]
    },
    {
     "name": "stdout",
     "output_type": "stream",
     "text": [
      "train-epoch-loss:0.0136 valid-beta4-score:0.6117\n"
     ]
    },
    {
     "name": "stderr",
     "output_type": "stream",
     "text": [
      "Epoch 35/150 [Training]: 100%|██████████| 132/132 [02:24<00:00,  1.09s/it, loss=0.0125]\n",
      "Epoch 35/150 [Validation]: 100%|██████████| 1/1 [00:00<00:00,  1.01it/s, loss=0.0074]\n",
      "100%|██████████| 15/15 [00:40<00:00,  2.67s/it]\n"
     ]
    },
    {
     "name": "stdout",
     "output_type": "stream",
     "text": [
      "train-epoch-loss:0.0125 valid-beta4-score:0.6341\n"
     ]
    },
    {
     "name": "stderr",
     "output_type": "stream",
     "text": [
      "Epoch 36/150 [Training]: 100%|██████████| 132/132 [02:20<00:00,  1.06s/it, loss=0.0117]\n",
      "Epoch 36/150 [Validation]: 100%|██████████| 1/1 [00:01<00:00,  1.07s/it, loss=0.0224]\n",
      "100%|██████████| 15/15 [00:40<00:00,  2.67s/it]\n"
     ]
    },
    {
     "name": "stdout",
     "output_type": "stream",
     "text": [
      "train-epoch-loss:0.0117 valid-beta4-score:0.5452\n"
     ]
    },
    {
     "name": "stderr",
     "output_type": "stream",
     "text": [
      "Epoch 37/150 [Training]: 100%|██████████| 132/132 [02:23<00:00,  1.09s/it, loss=0.0146]\n",
      "Epoch 37/150 [Validation]: 100%|██████████| 1/1 [00:00<00:00,  1.11it/s, loss=0.0033]\n",
      "100%|██████████| 15/15 [00:36<00:00,  2.41s/it]\n"
     ]
    },
    {
     "name": "stdout",
     "output_type": "stream",
     "text": [
      "train-epoch-loss:0.0146 valid-beta4-score:0.5580\n"
     ]
    },
    {
     "name": "stderr",
     "output_type": "stream",
     "text": [
      "Epoch 38/150 [Training]: 100%|██████████| 132/132 [02:06<00:00,  1.04it/s, loss=0.0132]\n",
      "Epoch 38/150 [Validation]: 100%|██████████| 1/1 [00:01<00:00,  1.02s/it, loss=0.0066]\n",
      "100%|██████████| 15/15 [00:36<00:00,  2.45s/it]\n"
     ]
    },
    {
     "name": "stdout",
     "output_type": "stream",
     "text": [
      "train-epoch-loss:0.0132 valid-beta4-score:0.5691\n"
     ]
    },
    {
     "name": "stderr",
     "output_type": "stream",
     "text": [
      "Epoch 39/150 [Training]: 100%|██████████| 132/132 [02:15<00:00,  1.03s/it, loss=0.0125]\n",
      "Epoch 39/150 [Validation]: 100%|██████████| 1/1 [00:01<00:00,  1.02s/it, loss=0.0164]\n",
      "100%|██████████| 15/15 [00:37<00:00,  2.51s/it]\n"
     ]
    },
    {
     "name": "stdout",
     "output_type": "stream",
     "text": [
      "train-epoch-loss:0.0125 valid-beta4-score:0.5610\n"
     ]
    },
    {
     "name": "stderr",
     "output_type": "stream",
     "text": [
      "Epoch 40/150 [Training]: 100%|██████████| 132/132 [02:12<00:00,  1.01s/it, loss=0.0127]\n",
      "Epoch 40/150 [Validation]: 100%|██████████| 1/1 [00:01<00:00,  1.01s/it, loss=0.0158]\n",
      "100%|██████████| 15/15 [00:37<00:00,  2.52s/it]\n"
     ]
    },
    {
     "name": "stdout",
     "output_type": "stream",
     "text": [
      "train-epoch-loss:0.0127 valid-beta4-score:0.5788\n"
     ]
    },
    {
     "name": "stderr",
     "output_type": "stream",
     "text": [
      "Epoch 41/150 [Training]: 100%|██████████| 132/132 [02:16<00:00,  1.04s/it, loss=0.0112]\n",
      "Epoch 41/150 [Validation]: 100%|██████████| 1/1 [00:00<00:00,  1.10it/s, loss=0.0026]\n",
      "100%|██████████| 15/15 [00:38<00:00,  2.54s/it]\n"
     ]
    },
    {
     "name": "stdout",
     "output_type": "stream",
     "text": [
      "train-epoch-loss:0.0112 valid-beta4-score:0.5828\n"
     ]
    },
    {
     "name": "stderr",
     "output_type": "stream",
     "text": [
      "Epoch 42/150 [Training]: 100%|██████████| 132/132 [02:09<00:00,  1.02it/s, loss=0.0103]\n",
      "Epoch 42/150 [Validation]: 100%|██████████| 1/1 [00:01<00:00,  1.00s/it, loss=0.0147]\n",
      "100%|██████████| 15/15 [00:36<00:00,  2.46s/it]\n"
     ]
    },
    {
     "name": "stdout",
     "output_type": "stream",
     "text": [
      "train-epoch-loss:0.0103 valid-beta4-score:0.6033\n"
     ]
    },
    {
     "name": "stderr",
     "output_type": "stream",
     "text": [
      "Epoch 43/150 [Training]: 100%|██████████| 132/132 [02:15<00:00,  1.03s/it, loss=0.0116]\n",
      "Epoch 43/150 [Validation]: 100%|██████████| 1/1 [00:01<00:00,  1.03s/it, loss=0.0177]\n",
      "100%|██████████| 15/15 [00:36<00:00,  2.43s/it]\n"
     ]
    },
    {
     "name": "stdout",
     "output_type": "stream",
     "text": [
      "train-epoch-loss:0.0116 valid-beta4-score:0.6476\n"
     ]
    },
    {
     "name": "stderr",
     "output_type": "stream",
     "text": [
      "Epoch 44/150 [Training]: 100%|██████████| 132/132 [02:15<00:00,  1.03s/it, loss=0.0115]\n",
      "Epoch 44/150 [Validation]: 100%|██████████| 1/1 [00:00<00:00,  1.01it/s, loss=0.0199]\n",
      "100%|██████████| 15/15 [00:38<00:00,  2.59s/it]\n"
     ]
    },
    {
     "name": "stdout",
     "output_type": "stream",
     "text": [
      "train-epoch-loss:0.0115 valid-beta4-score:0.5557\n"
     ]
    },
    {
     "name": "stderr",
     "output_type": "stream",
     "text": [
      "Epoch 45/150 [Training]: 100%|██████████| 132/132 [02:08<00:00,  1.03it/s, loss=0.0119]\n",
      "Epoch 45/150 [Validation]: 100%|██████████| 1/1 [00:00<00:00,  1.01it/s, loss=0.0250]\n",
      "100%|██████████| 15/15 [00:37<00:00,  2.47s/it]\n"
     ]
    },
    {
     "name": "stdout",
     "output_type": "stream",
     "text": [
      "train-epoch-loss:0.0119 valid-beta4-score:0.5733\n"
     ]
    },
    {
     "name": "stderr",
     "output_type": "stream",
     "text": [
      "Epoch 46/150 [Training]: 100%|██████████| 132/132 [02:29<00:00,  1.13s/it, loss=0.0106]\n",
      "Epoch 46/150 [Validation]: 100%|██████████| 1/1 [00:01<00:00,  1.10s/it, loss=0.0236]\n",
      "100%|██████████| 15/15 [00:40<00:00,  2.71s/it]\n"
     ]
    },
    {
     "name": "stdout",
     "output_type": "stream",
     "text": [
      "train-epoch-loss:0.0106 valid-beta4-score:0.5811\n"
     ]
    },
    {
     "name": "stderr",
     "output_type": "stream",
     "text": [
      "Epoch 47/150 [Training]: 100%|██████████| 132/132 [02:32<00:00,  1.15s/it, loss=0.0146]\n",
      "Epoch 47/150 [Validation]: 100%|██████████| 1/1 [00:01<00:00,  1.04s/it, loss=0.0225]\n",
      "100%|██████████| 15/15 [00:41<00:00,  2.79s/it]\n"
     ]
    },
    {
     "name": "stdout",
     "output_type": "stream",
     "text": [
      "train-epoch-loss:0.0146 valid-beta4-score:0.6097\n"
     ]
    },
    {
     "name": "stderr",
     "output_type": "stream",
     "text": [
      "Epoch 48/150 [Training]: 100%|██████████| 132/132 [02:20<00:00,  1.07s/it, loss=0.0133]\n",
      "Epoch 48/150 [Validation]: 100%|██████████| 1/1 [00:01<00:00,  1.01s/it, loss=0.0168]\n",
      "100%|██████████| 15/15 [00:40<00:00,  2.72s/it]\n"
     ]
    },
    {
     "name": "stdout",
     "output_type": "stream",
     "text": [
      "train-epoch-loss:0.0133 valid-beta4-score:0.6121\n"
     ]
    },
    {
     "name": "stderr",
     "output_type": "stream",
     "text": [
      "Epoch 49/150 [Training]: 100%|██████████| 132/132 [02:23<00:00,  1.08s/it, loss=0.0140]\n",
      "Epoch 49/150 [Validation]: 100%|██████████| 1/1 [00:01<00:00,  1.10s/it, loss=0.0002]\n",
      "100%|██████████| 15/15 [00:40<00:00,  2.72s/it]\n"
     ]
    },
    {
     "name": "stdout",
     "output_type": "stream",
     "text": [
      "train-epoch-loss:0.0140 valid-beta4-score:0.6093\n"
     ]
    },
    {
     "name": "stderr",
     "output_type": "stream",
     "text": [
      "Epoch 50/150 [Training]: 100%|██████████| 132/132 [02:14<00:00,  1.02s/it, loss=0.0137]\n",
      "Epoch 50/150 [Validation]: 100%|██████████| 1/1 [00:01<00:00,  1.05s/it, loss=0.0218]\n",
      "100%|██████████| 15/15 [00:41<00:00,  2.75s/it]\n"
     ]
    },
    {
     "name": "stdout",
     "output_type": "stream",
     "text": [
      "train-epoch-loss:0.0137 valid-beta4-score:0.6036\n"
     ]
    },
    {
     "name": "stderr",
     "output_type": "stream",
     "text": [
      "Epoch 51/150 [Training]: 100%|██████████| 132/132 [02:12<00:00,  1.01s/it, loss=0.0124]\n",
      "Epoch 51/150 [Validation]: 100%|██████████| 1/1 [00:00<00:00,  1.09it/s, loss=0.0003]\n",
      "100%|██████████| 15/15 [00:38<00:00,  2.54s/it]\n"
     ]
    },
    {
     "name": "stdout",
     "output_type": "stream",
     "text": [
      "train-epoch-loss:0.0124 valid-beta4-score:0.5648\n"
     ]
    },
    {
     "name": "stderr",
     "output_type": "stream",
     "text": [
      "Epoch 52/150 [Training]: 100%|██████████| 132/132 [02:18<00:00,  1.05s/it, loss=0.0109]\n",
      "Epoch 52/150 [Validation]: 100%|██████████| 1/1 [00:00<00:00,  1.03it/s, loss=0.0191]\n",
      "100%|██████████| 15/15 [00:41<00:00,  2.75s/it]\n"
     ]
    },
    {
     "name": "stdout",
     "output_type": "stream",
     "text": [
      "train-epoch-loss:0.0109 valid-beta4-score:0.6205\n"
     ]
    },
    {
     "name": "stderr",
     "output_type": "stream",
     "text": [
      "Epoch 53/150 [Training]: 100%|██████████| 132/132 [02:26<00:00,  1.11s/it, loss=0.0100]\n",
      "Epoch 53/150 [Validation]: 100%|██████████| 1/1 [00:01<00:00,  1.04s/it, loss=0.0220]\n",
      "100%|██████████| 15/15 [00:41<00:00,  2.78s/it]\n"
     ]
    },
    {
     "name": "stdout",
     "output_type": "stream",
     "text": [
      "train-epoch-loss:0.0100 valid-beta4-score:0.6409\n"
     ]
    },
    {
     "name": "stderr",
     "output_type": "stream",
     "text": [
      "Epoch 54/150 [Training]: 100%|██████████| 132/132 [02:32<00:00,  1.16s/it, loss=0.0110]\n",
      "Epoch 54/150 [Validation]: 100%|██████████| 1/1 [00:01<00:00,  1.16s/it, loss=0.0156]\n",
      "100%|██████████| 15/15 [00:40<00:00,  2.70s/it]\n"
     ]
    },
    {
     "name": "stdout",
     "output_type": "stream",
     "text": [
      "train-epoch-loss:0.0110 valid-beta4-score:0.6187\n"
     ]
    },
    {
     "name": "stderr",
     "output_type": "stream",
     "text": [
      "Epoch 55/150 [Training]: 100%|██████████| 132/132 [02:19<00:00,  1.06s/it, loss=0.0109]\n",
      "Epoch 55/150 [Validation]: 100%|██████████| 1/1 [00:01<00:00,  1.01s/it, loss=0.0216]\n",
      "100%|██████████| 15/15 [00:42<00:00,  2.81s/it]\n"
     ]
    },
    {
     "name": "stdout",
     "output_type": "stream",
     "text": [
      "train-epoch-loss:0.0109 valid-beta4-score:0.6773\n"
     ]
    },
    {
     "name": "stderr",
     "output_type": "stream",
     "text": [
      "Epoch 56/150 [Training]: 100%|██████████| 132/132 [02:26<00:00,  1.11s/it, loss=0.0111]\n",
      "Epoch 56/150 [Validation]: 100%|██████████| 1/1 [00:01<00:00,  1.09s/it, loss=0.0048]\n",
      "100%|██████████| 15/15 [00:42<00:00,  2.82s/it]\n"
     ]
    },
    {
     "name": "stdout",
     "output_type": "stream",
     "text": [
      "train-epoch-loss:0.0111 valid-beta4-score:0.6836\n"
     ]
    },
    {
     "name": "stderr",
     "output_type": "stream",
     "text": [
      "Epoch 57/150 [Training]: 100%|██████████| 132/132 [02:27<00:00,  1.12s/it, loss=0.0144]\n",
      "Epoch 57/150 [Validation]: 100%|██████████| 1/1 [00:01<00:00,  1.05s/it, loss=0.0226]\n",
      "100%|██████████| 15/15 [00:42<00:00,  2.82s/it]\n"
     ]
    },
    {
     "name": "stdout",
     "output_type": "stream",
     "text": [
      "train-epoch-loss:0.0144 valid-beta4-score:0.5884\n"
     ]
    },
    {
     "name": "stderr",
     "output_type": "stream",
     "text": [
      "Epoch 58/150 [Training]: 100%|██████████| 132/132 [02:28<00:00,  1.12s/it, loss=0.0094]\n",
      "Epoch 58/150 [Validation]: 100%|██████████| 1/1 [00:01<00:00,  1.06s/it, loss=0.0172]\n",
      "100%|██████████| 15/15 [00:41<00:00,  2.73s/it]\n"
     ]
    },
    {
     "name": "stdout",
     "output_type": "stream",
     "text": [
      "train-epoch-loss:0.0094 valid-beta4-score:0.6191\n"
     ]
    },
    {
     "name": "stderr",
     "output_type": "stream",
     "text": [
      "Epoch 59/150 [Training]: 100%|██████████| 132/132 [02:27<00:00,  1.12s/it, loss=0.0084]\n",
      "Epoch 59/150 [Validation]: 100%|██████████| 1/1 [00:01<00:00,  1.07s/it, loss=0.0002]\n",
      "100%|██████████| 15/15 [00:41<00:00,  2.79s/it]\n"
     ]
    },
    {
     "name": "stdout",
     "output_type": "stream",
     "text": [
      "train-epoch-loss:0.0084 valid-beta4-score:0.4842\n"
     ]
    },
    {
     "name": "stderr",
     "output_type": "stream",
     "text": [
      "Epoch 60/150 [Training]: 100%|██████████| 132/132 [02:42<00:00,  1.23s/it, loss=0.0084]\n",
      "Epoch 60/150 [Validation]: 100%|██████████| 1/1 [00:01<00:00,  1.05s/it, loss=0.0002]\n",
      "100%|██████████| 15/15 [00:42<00:00,  2.86s/it]\n"
     ]
    },
    {
     "name": "stdout",
     "output_type": "stream",
     "text": [
      "train-epoch-loss:0.0084 valid-beta4-score:0.6389\n"
     ]
    },
    {
     "name": "stderr",
     "output_type": "stream",
     "text": [
      "Epoch 61/150 [Training]: 100%|██████████| 132/132 [02:35<00:00,  1.18s/it, loss=0.0089]\n",
      "Epoch 61/150 [Validation]: 100%|██████████| 1/1 [00:01<00:00,  1.09s/it, loss=0.0229]\n",
      "100%|██████████| 15/15 [00:41<00:00,  2.76s/it]\n"
     ]
    },
    {
     "name": "stdout",
     "output_type": "stream",
     "text": [
      "train-epoch-loss:0.0089 valid-beta4-score:0.6317\n"
     ]
    },
    {
     "name": "stderr",
     "output_type": "stream",
     "text": [
      "Epoch 62/150 [Training]: 100%|██████████| 132/132 [02:16<00:00,  1.03s/it, loss=0.0079]\n",
      "Epoch 62/150 [Validation]: 100%|██████████| 1/1 [00:01<00:00,  1.17s/it, loss=0.0098]\n",
      "100%|██████████| 15/15 [00:42<00:00,  2.82s/it]\n"
     ]
    },
    {
     "name": "stdout",
     "output_type": "stream",
     "text": [
      "train-epoch-loss:0.0079 valid-beta4-score:0.5982\n"
     ]
    },
    {
     "name": "stderr",
     "output_type": "stream",
     "text": [
      "Epoch 63/150 [Training]: 100%|██████████| 132/132 [02:24<00:00,  1.09s/it, loss=0.0104]\n",
      "Epoch 63/150 [Validation]: 100%|██████████| 1/1 [00:00<00:00,  1.11it/s, loss=0.0276]\n",
      "100%|██████████| 15/15 [00:40<00:00,  2.67s/it]\n"
     ]
    },
    {
     "name": "stdout",
     "output_type": "stream",
     "text": [
      "train-epoch-loss:0.0104 valid-beta4-score:0.5907\n"
     ]
    },
    {
     "name": "stderr",
     "output_type": "stream",
     "text": [
      "Epoch 64/150 [Training]: 100%|██████████| 132/132 [02:18<00:00,  1.05s/it, loss=0.0095]\n",
      "Epoch 64/150 [Validation]: 100%|██████████| 1/1 [00:01<00:00,  1.05s/it, loss=0.0001]\n",
      "100%|██████████| 15/15 [00:40<00:00,  2.73s/it]\n"
     ]
    },
    {
     "name": "stdout",
     "output_type": "stream",
     "text": [
      "train-epoch-loss:0.0095 valid-beta4-score:0.6241\n"
     ]
    },
    {
     "name": "stderr",
     "output_type": "stream",
     "text": [
      "Epoch 65/150 [Training]: 100%|██████████| 132/132 [02:19<00:00,  1.06s/it, loss=0.0073]\n",
      "Epoch 65/150 [Validation]: 100%|██████████| 1/1 [00:01<00:00,  1.12s/it, loss=0.0240]\n",
      "100%|██████████| 15/15 [00:42<00:00,  2.81s/it]\n"
     ]
    },
    {
     "name": "stdout",
     "output_type": "stream",
     "text": [
      "train-epoch-loss:0.0073 valid-beta4-score:0.6674\n"
     ]
    },
    {
     "name": "stderr",
     "output_type": "stream",
     "text": [
      "Epoch 66/150 [Training]: 100%|██████████| 132/132 [02:31<00:00,  1.15s/it, loss=0.0098]\n",
      "Epoch 66/150 [Validation]: 100%|██████████| 1/1 [00:01<00:00,  1.09s/it, loss=0.0184]\n",
      "100%|██████████| 15/15 [00:42<00:00,  2.83s/it]\n"
     ]
    },
    {
     "name": "stdout",
     "output_type": "stream",
     "text": [
      "train-epoch-loss:0.0098 valid-beta4-score:0.6022\n"
     ]
    },
    {
     "name": "stderr",
     "output_type": "stream",
     "text": [
      "Epoch 67/150 [Training]: 100%|██████████| 132/132 [02:22<00:00,  1.08s/it, loss=0.0103]\n",
      "Epoch 67/150 [Validation]: 100%|██████████| 1/1 [00:01<00:00,  1.15s/it, loss=0.0042]\n",
      "100%|██████████| 15/15 [00:42<00:00,  2.83s/it]\n"
     ]
    },
    {
     "name": "stdout",
     "output_type": "stream",
     "text": [
      "train-epoch-loss:0.0103 valid-beta4-score:0.6407\n"
     ]
    },
    {
     "name": "stderr",
     "output_type": "stream",
     "text": [
      "Epoch 68/150 [Training]: 100%|██████████| 132/132 [02:19<00:00,  1.06s/it, loss=0.0095]\n",
      "Epoch 68/150 [Validation]: 100%|██████████| 1/1 [00:01<00:00,  1.38s/it, loss=0.0020]\n",
      "100%|██████████| 15/15 [00:42<00:00,  2.80s/it]\n"
     ]
    },
    {
     "name": "stdout",
     "output_type": "stream",
     "text": [
      "train-epoch-loss:0.0095 valid-beta4-score:0.5938\n"
     ]
    },
    {
     "name": "stderr",
     "output_type": "stream",
     "text": [
      "Epoch 69/150 [Training]: 100%|██████████| 132/132 [02:17<00:00,  1.04s/it, loss=0.0092]\n",
      "Epoch 69/150 [Validation]: 100%|██████████| 1/1 [00:01<00:00,  1.19s/it, loss=0.0180]\n",
      "100%|██████████| 15/15 [00:41<00:00,  2.80s/it]\n"
     ]
    },
    {
     "name": "stdout",
     "output_type": "stream",
     "text": [
      "train-epoch-loss:0.0092 valid-beta4-score:0.5561\n"
     ]
    },
    {
     "name": "stderr",
     "output_type": "stream",
     "text": [
      "Epoch 70/150 [Training]: 100%|██████████| 132/132 [02:31<00:00,  1.15s/it, loss=0.0072]\n",
      "Epoch 70/150 [Validation]: 100%|██████████| 1/1 [00:01<00:00,  1.15s/it, loss=0.0003]\n",
      "100%|██████████| 15/15 [00:41<00:00,  2.77s/it]\n"
     ]
    },
    {
     "name": "stdout",
     "output_type": "stream",
     "text": [
      "train-epoch-loss:0.0072 valid-beta4-score:0.6121\n"
     ]
    },
    {
     "name": "stderr",
     "output_type": "stream",
     "text": [
      "Epoch 71/150 [Training]: 100%|██████████| 132/132 [02:18<00:00,  1.05s/it, loss=0.0084]\n",
      "Epoch 71/150 [Validation]: 100%|██████████| 1/1 [00:01<00:00,  1.06s/it, loss=0.0195]\n",
      "100%|██████████| 15/15 [00:42<00:00,  2.87s/it]\n"
     ]
    },
    {
     "name": "stdout",
     "output_type": "stream",
     "text": [
      "train-epoch-loss:0.0084 valid-beta4-score:0.6615\n"
     ]
    },
    {
     "name": "stderr",
     "output_type": "stream",
     "text": [
      "Epoch 72/150 [Training]: 100%|██████████| 132/132 [02:19<00:00,  1.06s/it, loss=0.0106]\n",
      "Epoch 72/150 [Validation]: 100%|██████████| 1/1 [00:01<00:00,  1.08s/it, loss=0.0248]\n",
      "100%|██████████| 15/15 [00:41<00:00,  2.77s/it]\n"
     ]
    },
    {
     "name": "stdout",
     "output_type": "stream",
     "text": [
      "train-epoch-loss:0.0106 valid-beta4-score:0.5444\n"
     ]
    },
    {
     "name": "stderr",
     "output_type": "stream",
     "text": [
      "Epoch 73/150 [Training]: 100%|██████████| 132/132 [02:29<00:00,  1.13s/it, loss=0.0090]\n",
      "Epoch 73/150 [Validation]: 100%|██████████| 1/1 [00:01<00:00,  1.10s/it, loss=0.0015]\n",
      "100%|██████████| 15/15 [00:40<00:00,  2.73s/it]\n"
     ]
    },
    {
     "name": "stdout",
     "output_type": "stream",
     "text": [
      "train-epoch-loss:0.0090 valid-beta4-score:0.5717\n"
     ]
    },
    {
     "name": "stderr",
     "output_type": "stream",
     "text": [
      "Epoch 74/150 [Training]: 100%|██████████| 132/132 [02:18<00:00,  1.05s/it, loss=0.0097]\n",
      "Epoch 74/150 [Validation]: 100%|██████████| 1/1 [00:00<00:00,  1.03it/s, loss=0.0214]\n",
      "100%|██████████| 15/15 [00:38<00:00,  2.58s/it]\n"
     ]
    },
    {
     "name": "stdout",
     "output_type": "stream",
     "text": [
      "train-epoch-loss:0.0097 valid-beta4-score:0.6402\n"
     ]
    },
    {
     "name": "stderr",
     "output_type": "stream",
     "text": [
      "Epoch 75/150 [Training]: 100%|██████████| 132/132 [02:12<00:00,  1.00s/it, loss=0.0087]\n",
      "Epoch 75/150 [Validation]: 100%|██████████| 1/1 [00:00<00:00,  1.14it/s, loss=0.0270]\n",
      "100%|██████████| 15/15 [00:36<00:00,  2.42s/it]\n"
     ]
    },
    {
     "name": "stdout",
     "output_type": "stream",
     "text": [
      "train-epoch-loss:0.0087 valid-beta4-score:0.6086\n"
     ]
    },
    {
     "name": "stderr",
     "output_type": "stream",
     "text": [
      "Epoch 76/150 [Training]: 100%|██████████| 132/132 [02:11<00:00,  1.00it/s, loss=0.0087]\n",
      "Epoch 76/150 [Validation]: 100%|██████████| 1/1 [00:00<00:00,  1.13it/s, loss=0.0009]\n",
      "100%|██████████| 15/15 [00:38<00:00,  2.58s/it]\n"
     ]
    },
    {
     "name": "stdout",
     "output_type": "stream",
     "text": [
      "train-epoch-loss:0.0087 valid-beta4-score:0.5835\n"
     ]
    },
    {
     "name": "stderr",
     "output_type": "stream",
     "text": [
      "Epoch 77/150 [Training]: 100%|██████████| 132/132 [02:16<00:00,  1.03s/it, loss=0.0071]\n",
      "Epoch 77/150 [Validation]: 100%|██████████| 1/1 [00:01<00:00,  1.09s/it, loss=0.0170]\n",
      "100%|██████████| 15/15 [00:40<00:00,  2.69s/it]\n"
     ]
    },
    {
     "name": "stdout",
     "output_type": "stream",
     "text": [
      "train-epoch-loss:0.0071 valid-beta4-score:0.6326\n"
     ]
    },
    {
     "name": "stderr",
     "output_type": "stream",
     "text": [
      "Epoch 78/150 [Training]: 100%|██████████| 132/132 [02:20<00:00,  1.07s/it, loss=0.0089]\n",
      "Epoch 78/150 [Validation]: 100%|██████████| 1/1 [00:01<00:00,  1.11s/it, loss=0.0172]\n",
      "100%|██████████| 15/15 [00:41<00:00,  2.76s/it]\n"
     ]
    },
    {
     "name": "stdout",
     "output_type": "stream",
     "text": [
      "train-epoch-loss:0.0089 valid-beta4-score:0.6621\n"
     ]
    },
    {
     "name": "stderr",
     "output_type": "stream",
     "text": [
      "Epoch 79/150 [Training]: 100%|██████████| 132/132 [02:23<00:00,  1.09s/it, loss=0.0097]\n",
      "Epoch 79/150 [Validation]: 100%|██████████| 1/1 [00:01<00:00,  1.13s/it, loss=0.0228]\n",
      "100%|██████████| 15/15 [00:40<00:00,  2.70s/it]\n"
     ]
    },
    {
     "name": "stdout",
     "output_type": "stream",
     "text": [
      "train-epoch-loss:0.0097 valid-beta4-score:0.5866\n"
     ]
    },
    {
     "name": "stderr",
     "output_type": "stream",
     "text": [
      "Epoch 80/150 [Training]: 100%|██████████| 132/132 [02:15<00:00,  1.03s/it, loss=0.0080]\n",
      "Epoch 80/150 [Validation]: 100%|██████████| 1/1 [00:01<00:00,  1.04s/it, loss=0.0099]\n",
      "100%|██████████| 15/15 [00:41<00:00,  2.76s/it]\n"
     ]
    },
    {
     "name": "stdout",
     "output_type": "stream",
     "text": [
      "train-epoch-loss:0.0080 valid-beta4-score:0.6029\n"
     ]
    },
    {
     "name": "stderr",
     "output_type": "stream",
     "text": [
      "Epoch 81/150 [Training]: 100%|██████████| 132/132 [02:16<00:00,  1.04s/it, loss=0.0089]\n",
      "Epoch 81/150 [Validation]: 100%|██████████| 1/1 [00:01<00:00,  1.21s/it, loss=0.0003]\n",
      "100%|██████████| 15/15 [00:40<00:00,  2.68s/it]\n"
     ]
    },
    {
     "name": "stdout",
     "output_type": "stream",
     "text": [
      "train-epoch-loss:0.0089 valid-beta4-score:0.6117\n"
     ]
    },
    {
     "name": "stderr",
     "output_type": "stream",
     "text": [
      "Epoch 82/150 [Training]: 100%|██████████| 132/132 [02:13<00:00,  1.01s/it, loss=0.0095]\n",
      "Epoch 82/150 [Validation]: 100%|██████████| 1/1 [00:01<00:00,  1.05s/it, loss=0.0129]\n",
      "100%|██████████| 15/15 [00:41<00:00,  2.75s/it]\n"
     ]
    },
    {
     "name": "stdout",
     "output_type": "stream",
     "text": [
      "train-epoch-loss:0.0095 valid-beta4-score:0.6220\n"
     ]
    },
    {
     "name": "stderr",
     "output_type": "stream",
     "text": [
      "Epoch 83/150 [Training]: 100%|██████████| 132/132 [02:14<00:00,  1.02s/it, loss=0.0090]\n",
      "Epoch 83/150 [Validation]: 100%|██████████| 1/1 [00:01<00:00,  1.11s/it, loss=0.0255]\n",
      "100%|██████████| 15/15 [00:42<00:00,  2.81s/it]\n"
     ]
    },
    {
     "name": "stdout",
     "output_type": "stream",
     "text": [
      "train-epoch-loss:0.0090 valid-beta4-score:0.6159\n"
     ]
    },
    {
     "name": "stderr",
     "output_type": "stream",
     "text": [
      "Epoch 84/150 [Training]: 100%|██████████| 132/132 [02:28<00:00,  1.12s/it, loss=0.0073]\n",
      "Epoch 84/150 [Validation]: 100%|██████████| 1/1 [00:01<00:00,  1.11s/it, loss=0.0037]\n",
      "100%|██████████| 15/15 [00:41<00:00,  2.76s/it]\n"
     ]
    },
    {
     "name": "stdout",
     "output_type": "stream",
     "text": [
      "train-epoch-loss:0.0073 valid-beta4-score:0.5611\n"
     ]
    },
    {
     "name": "stderr",
     "output_type": "stream",
     "text": [
      "Epoch 85/150 [Training]: 100%|██████████| 132/132 [02:16<00:00,  1.03s/it, loss=0.0109]\n",
      "Epoch 85/150 [Validation]: 100%|██████████| 1/1 [00:01<00:00,  1.10s/it, loss=0.0186]\n",
      "100%|██████████| 15/15 [00:41<00:00,  2.77s/it]\n"
     ]
    },
    {
     "name": "stdout",
     "output_type": "stream",
     "text": [
      "train-epoch-loss:0.0109 valid-beta4-score:0.6718\n"
     ]
    },
    {
     "name": "stderr",
     "output_type": "stream",
     "text": [
      "Epoch 86/150 [Training]: 100%|██████████| 132/132 [02:10<00:00,  1.01it/s, loss=0.0104]\n",
      "Epoch 86/150 [Validation]: 100%|██████████| 1/1 [00:01<00:00,  1.00s/it, loss=0.0101]\n",
      "100%|██████████| 15/15 [00:40<00:00,  2.67s/it]\n"
     ]
    },
    {
     "name": "stdout",
     "output_type": "stream",
     "text": [
      "train-epoch-loss:0.0104 valid-beta4-score:0.5264\n"
     ]
    },
    {
     "name": "stderr",
     "output_type": "stream",
     "text": [
      "Epoch 87/150 [Training]: 100%|██████████| 132/132 [02:22<00:00,  1.08s/it, loss=0.0099]\n",
      "Epoch 87/150 [Validation]: 100%|██████████| 1/1 [00:01<00:00,  1.09s/it, loss=0.0190]\n",
      "100%|██████████| 15/15 [00:41<00:00,  2.75s/it]\n"
     ]
    },
    {
     "name": "stdout",
     "output_type": "stream",
     "text": [
      "train-epoch-loss:0.0099 valid-beta4-score:0.6288\n"
     ]
    },
    {
     "name": "stderr",
     "output_type": "stream",
     "text": [
      "Epoch 88/150 [Training]: 100%|██████████| 132/132 [02:24<00:00,  1.09s/it, loss=0.0091]\n",
      "Epoch 88/150 [Validation]: 100%|██████████| 1/1 [00:01<00:00,  1.08s/it, loss=0.0003]\n",
      "100%|██████████| 15/15 [00:41<00:00,  2.78s/it]\n"
     ]
    },
    {
     "name": "stdout",
     "output_type": "stream",
     "text": [
      "train-epoch-loss:0.0091 valid-beta4-score:0.5588\n"
     ]
    },
    {
     "name": "stderr",
     "output_type": "stream",
     "text": [
      "Epoch 89/150 [Training]: 100%|██████████| 132/132 [02:29<00:00,  1.13s/it, loss=0.0076]\n",
      "Epoch 89/150 [Validation]: 100%|██████████| 1/1 [00:01<00:00,  1.02s/it, loss=0.0048]\n",
      "100%|██████████| 15/15 [00:41<00:00,  2.78s/it]\n"
     ]
    },
    {
     "name": "stdout",
     "output_type": "stream",
     "text": [
      "train-epoch-loss:0.0076 valid-beta4-score:0.6413\n"
     ]
    },
    {
     "name": "stderr",
     "output_type": "stream",
     "text": [
      "Epoch 90/150 [Training]: 100%|██████████| 132/132 [02:22<00:00,  1.08s/it, loss=0.0083]\n",
      "Epoch 90/150 [Validation]: 100%|██████████| 1/1 [00:01<00:00,  1.04s/it, loss=0.0115]\n",
      "100%|██████████| 15/15 [00:38<00:00,  2.58s/it]\n"
     ]
    },
    {
     "name": "stdout",
     "output_type": "stream",
     "text": [
      "train-epoch-loss:0.0083 valid-beta4-score:0.6699\n"
     ]
    },
    {
     "name": "stderr",
     "output_type": "stream",
     "text": [
      "Epoch 91/150 [Training]: 100%|██████████| 132/132 [01:46<00:00,  1.24it/s, loss=0.0078]\n",
      "Epoch 91/150 [Validation]: 100%|██████████| 1/1 [00:00<00:00,  1.16it/s, loss=0.0260]\n",
      "100%|██████████| 15/15 [00:35<00:00,  2.38s/it]\n"
     ]
    },
    {
     "name": "stdout",
     "output_type": "stream",
     "text": [
      "train-epoch-loss:0.0078 valid-beta4-score:0.6524\n"
     ]
    },
    {
     "name": "stderr",
     "output_type": "stream",
     "text": [
      "Epoch 92/150 [Training]: 100%|██████████| 132/132 [01:53<00:00,  1.16it/s, loss=0.0074]\n",
      "Epoch 92/150 [Validation]: 100%|██████████| 1/1 [00:00<00:00,  1.17it/s, loss=0.0009]\n",
      "100%|██████████| 15/15 [00:35<00:00,  2.40s/it]\n"
     ]
    },
    {
     "name": "stdout",
     "output_type": "stream",
     "text": [
      "train-epoch-loss:0.0074 valid-beta4-score:0.6880\n"
     ]
    },
    {
     "name": "stderr",
     "output_type": "stream",
     "text": [
      "Epoch 93/150 [Training]: 100%|██████████| 132/132 [01:39<00:00,  1.32it/s, loss=0.0092]\n",
      "Epoch 93/150 [Validation]: 100%|██████████| 1/1 [00:00<00:00,  1.13it/s, loss=0.0006]\n",
      "100%|██████████| 15/15 [00:36<00:00,  2.42s/it]\n"
     ]
    },
    {
     "name": "stdout",
     "output_type": "stream",
     "text": [
      "train-epoch-loss:0.0092 valid-beta4-score:0.5109\n"
     ]
    },
    {
     "name": "stderr",
     "output_type": "stream",
     "text": [
      "Epoch 94/150 [Training]:  11%|█▏        | 15/132 [00:12<01:35,  1.23it/s, loss=0.0057]"
     ]
    }
   ],
   "source": [
    "best_model = None\n",
    "best_constant = 0\n",
    "best_score = -100\n",
    "best_particle_score = {}\n",
    "\n",
    "grand_train_loss = []\n",
    "grand_valid_loss = []\n",
    "grand_train_score = []\n",
    "grand_valid_score = []\n",
    "\n",
    "for epoch in range(CFG.epochs):\n",
    "    model.train()\n",
    "    train_loss = []\n",
    "    valid_loss = []\n",
    "    with tqdm(train_loader, desc=f\"Epoch {epoch + 1}/{CFG.epochs} [Training]\") as tq:\n",
    "        for data in tq:\n",
    "            normalized_tomogram = data[\"normalized_tomogram\"]\n",
    "            segmentation_map = data[\"segmentation_map\"]\n",
    "            zarr_embedding_idx = data[\"zarr_type_embedding_idx\"]\n",
    "\n",
    "            normalized_tomogram = padf(normalized_tomogram)\n",
    "            segmentation_map = padf(segmentation_map)\n",
    "\n",
    "            # データ拡張\n",
    "            normalized_tomogram, segmentation_map = augment_data(\n",
    "                normalized_tomogram, segmentation_map, p=CFG.augmentation_prob\n",
    "            )\n",
    "            normalized_tomogram = normalized_tomogram.cuda()\n",
    "            segmentation_map = segmentation_map.long().cuda()\n",
    "            zarr_embedding_idx = zarr_embedding_idx.cuda()\n",
    "\n",
    "            optimizer.zero_grad()\n",
    "\n",
    "            with autocast():\n",
    "                pred = model(preprocess_tensor(normalized_tomogram), zarr_embedding_idx)\n",
    "                loss = seg_loss(pred, segmentation_map)\n",
    "            # loss.backward()\n",
    "            # optimizer.step()\n",
    "            scaler.scale(loss).backward()\n",
    "            scaler.step(optimizer)\n",
    "            scaler.update()\n",
    "            scheduler.step()\n",
    "            train_loss.append(loss.item())\n",
    "\n",
    "            # 確率予測\n",
    "            prob_pred = torch.softmax(pred, dim=1)\n",
    "            tq.set_postfix({\"loss\": f\"{np.mean(train_loss):.4f}\"})\n",
    "\n",
    "    del normalized_tomogram, segmentation_map, zarr_embedding_idx, pred, loss\n",
    "    gc.collect()\n",
    "    torch.cuda.empty_cache()\n",
    "\n",
    "    with tqdm(valid_loader, desc=f\"Epoch {epoch + 1}/{CFG.epochs} [Validation]\") as tq:\n",
    "        with torch.no_grad():\n",
    "            for data in tq:\n",
    "                normalized_tomogram = data[\"normalized_tomogram\"].cuda()\n",
    "                segmentation_map = data[\"segmentation_map\"].long().cuda()\n",
    "                zarr_embedding_idx = data[\"zarr_type_embedding_idx\"].cuda()\n",
    "\n",
    "                normalized_tomogram = padf(normalized_tomogram)\n",
    "                segmentation_map = padf(segmentation_map)\n",
    "\n",
    "                with autocast():\n",
    "                    pred = model(\n",
    "                        preprocess_tensor(normalized_tomogram), zarr_embedding_idx\n",
    "                    )\n",
    "                    loss = seg_loss(pred, segmentation_map)\n",
    "                valid_loss.append(loss.item())\n",
    "\n",
    "                # 確率予測\n",
    "                prob_pred = torch.softmax(pred, dim=1)\n",
    "                tq.set_postfix({\"loss\": f\"{np.mean(valid_loss):.4f}\"})\n",
    "\n",
    "    del normalized_tomogram, segmentation_map, zarr_embedding_idx, pred, loss\n",
    "    gc.collect()\n",
    "    torch.cuda.empty_cache()\n",
    "\n",
    "    # # ############### validation ################\n",
    "    train_nshuffle_original_tomogram = defaultdict(list)\n",
    "    train_nshuffle_pred_tomogram = defaultdict(list)\n",
    "    train_nshuffle_gt_tomogram = defaultdict(list)\n",
    "\n",
    "    valid_original_tomogram = defaultdict(list)\n",
    "    valid_pred_tomogram = defaultdict(list)\n",
    "    valid_gt_tomogram = defaultdict(list)\n",
    "\n",
    "    train_mean_scores = []\n",
    "    valid_mean_scores = []\n",
    "\n",
    "    # モデルの保存\n",
    "    make_dir_ = (\n",
    "        f\"../../../../../../../../mnt/d/kaggle-tmp-models/czii2024/{notebook_name}/\"\n",
    "    )\n",
    "    os.makedirs(make_dir_, exist_ok=True)\n",
    "    torch.save(model.state_dict(), make_dir_ + f\"model_{epoch}.pth\")\n",
    "\n",
    "    # ############### validation ################\n",
    "    train_nshuffle_original_tomogram = defaultdict(list)\n",
    "    train_nshuffle_pred_tomogram = defaultdict(list)\n",
    "    train_nshuffle_gt_tomogram = defaultdict(list)\n",
    "\n",
    "    valid_original_tomogram = defaultdict(list)\n",
    "    valid_pred_tomogram = defaultdict(list)\n",
    "    valid_gt_tomogram = defaultdict(list)\n",
    "\n",
    "    train_mean_scores = []\n",
    "    valid_mean_scores = []\n",
    "\n",
    "    train_inferenced_array = {}\n",
    "    train_pred_array = []\n",
    "    train_gt_array = []\n",
    "    valid_inferenced_array = {}\n",
    "    valid_gt_array = []\n",
    "\n",
    "    # for exp_name in tqdm(CFG.train_exp_names):\n",
    "    for exp_name in [CFG.valid_exp_name]:  # 5つのデータで試す\n",
    "        # inferenced_array = inference(model, exp_name, train=False)\n",
    "        inferenced_array, n_tomogram, segmentation_map = inference(\n",
    "            model, exp_name, train=False\n",
    "        )\n",
    "        valid_inferenced_array[exp_name] = inferenced_array\n",
    "        base_dir = \"../../inputs/train/overlay/ExperimentRuns/\"\n",
    "        gt_df = create_gt_df(base_dir, [exp_name])\n",
    "        valid_gt_array.append(gt_df)\n",
    "\n",
    "    valid_gt_array = pd.concat(valid_gt_array)\n",
    "\n",
    "    b_constant = 0\n",
    "    b_score = -100\n",
    "    b_particle_score = {}\n",
    "    for constant in tqdm(np.linspace(0.05, 0.9, 15)):\n",
    "        valid_pred_array = []\n",
    "        sikii = {\n",
    "            \"apo-ferritin\": constant,\n",
    "            \"beta-amylase\": constant,\n",
    "            \"beta-galactosidase\": constant,\n",
    "            \"ribosome\": constant,\n",
    "            \"thyroglobulin\": constant,\n",
    "            \"virus-like-particle\": constant,\n",
    "        }\n",
    "        for exp_name in [CFG.valid_exp_name]:  # 5つのデータで試す\n",
    "            pred_df = inference2pos(\n",
    "                pred_segmask=valid_inferenced_array[exp_name],\n",
    "                exp_name=exp_name,\n",
    "                sikii_dict=sikii,\n",
    "            )\n",
    "            valid_pred_array.append(pred_df)\n",
    "\n",
    "        valid_pred_array = pd.concat(valid_pred_array)\n",
    "\n",
    "        if len(valid_pred_array) != 0:\n",
    "            # score_ = score(\n",
    "            #     valid_pred_array,\n",
    "            #     valid_gt_array,\n",
    "            #     row_id_column_name=\"index\",\n",
    "            #     distance_multiplier=0.5,\n",
    "            #     beta=4,\n",
    "            # )\n",
    "            result_df, score_ = compute_lb(\n",
    "                valid_pred_array,\n",
    "                \"../../inputs/train/overlay/ExperimentRuns/\",\n",
    "                CFG.valid_exp_names,\n",
    "            )\n",
    "            particle_score = extract_particle_results(result_df)\n",
    "\n",
    "            if score_ > b_score:\n",
    "                b_score = score_\n",
    "                b_constant = constant\n",
    "                b_particle_score = particle_score\n",
    "\n",
    "        import gc\n",
    "        import torch.cuda as cuda\n",
    "\n",
    "        # del valid_pred_array, valid_gt_array\n",
    "        gc.collect()\n",
    "        cuda.empty_cache()\n",
    "\n",
    "    # print(\"constant\", b_constant, \"score\", b_score)\n",
    "\n",
    "    # wandb-log\n",
    "    train_info = {\n",
    "        \"01_epoch\": epoch,\n",
    "        \"02_train_loss\": np.mean(train_loss),\n",
    "        \"03_valid_loss\": np.mean(valid_loss),\n",
    "        # \"train_score\": np.mean(train_mean_scores),\n",
    "        \"04_valid_best_score\": b_score,\n",
    "        \"05_valid_best_constant\": b_constant,\n",
    "    }\n",
    "    train_info = {**train_info, **b_particle_score}\n",
    "    wandb.log(train_info)\n",
    "\n",
    "    # score-update\n",
    "    if b_score > best_score:\n",
    "        best_constant = b_constant\n",
    "        best_score = b_score\n",
    "        # best_score = np.mean(valid_mean_scores)\n",
    "        best_model = model.state_dict()\n",
    "        torch.save(best_model, f\"./best_model.pth\")\n",
    "\n",
    "    print(\n",
    "        f\"train-epoch-loss:{np.mean(train_loss):.4f}\",\n",
    "        # f\"valid-epoch-loss:{np.mean(valid_loss):.4f}\",\n",
    "        # f\"train-beta4-score:{np.mean(train_mean_scores):.4f}\",\n",
    "        f\"valid-beta4-score:{b_score:.4f}\",\n",
    "    )\n",
    "\n",
    "    grand_train_loss.append(np.mean(train_loss))\n",
    "    # grand_valid_loss.append(np.mean(valid_loss))\n",
    "    # grand_train_score.append(np.mean(train_mean_scores))\n",
    "    grand_valid_score.append(b_score)"
   ]
  },
  {
   "cell_type": "code",
   "execution_count": null,
   "metadata": {},
   "outputs": [],
   "source": [
    "# train_lossとvalid_lossのプロット\n",
    "\n",
    "plt.plot(grand_train_loss, label=\"train_loss\")\n",
    "plt.plot(grand_valid_loss, label=\"valid_loss\")\n",
    "plt.legend()\n",
    "plt.show()"
   ]
  },
  {
   "cell_type": "code",
   "execution_count": null,
   "metadata": {},
   "outputs": [],
   "source": [
    "# train_scoreとvalid_scoreのプロット\n",
    "plt.plot(grand_train_score, label=\"train_score\")\n",
    "plt.plot(grand_valid_score, label=\"valid_score\")\n",
    "plt.legend()\n",
    "plt.show()"
   ]
  },
  {
   "cell_type": "code",
   "execution_count": null,
   "metadata": {},
   "outputs": [],
   "source": [
    "random.random()"
   ]
  },
  {
   "cell_type": "code",
   "execution_count": null,
   "metadata": {},
   "outputs": [],
   "source": []
  },
  {
   "cell_type": "code",
   "execution_count": null,
   "metadata": {},
   "outputs": [],
   "source": []
  }
 ],
 "metadata": {
  "kernelspec": {
   "display_name": "kaggle",
   "language": "python",
   "name": "python3"
  },
  "language_info": {
   "codemirror_mode": {
    "name": "ipython",
    "version": 3
   },
   "file_extension": ".py",
   "mimetype": "text/x-python",
   "name": "python",
   "nbconvert_exporter": "python",
   "pygments_lexer": "ipython3",
   "version": "3.9.16"
  }
 },
 "nbformat": 4,
 "nbformat_minor": 2
}
