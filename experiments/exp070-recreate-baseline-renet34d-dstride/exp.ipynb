{
 "cells": [
  {
   "cell_type": "code",
   "execution_count": 1,
   "metadata": {},
   "outputs": [],
   "source": [
    "import os\n",
    "import zarr\n",
    "import timm\n",
    "import random\n",
    "import json\n",
    "import gc\n",
    "import warnings\n",
    "import numpy as np\n",
    "import pandas as pd\n",
    "import torch.nn as nn\n",
    "from pathlib import Path\n",
    "import matplotlib.pyplot as plt\n",
    "from torch.utils.data import DataLoader, Dataset\n",
    "from collections import defaultdict\n",
    "\n",
    "import sys\n",
    "import torch\n",
    "from torch.cuda.amp import autocast, GradScaler\n",
    "\n",
    "# import torchvision.transforms.functional as F\n",
    "import random\n",
    "\n",
    "warnings.filterwarnings(\"ignore\")\n",
    "sys.path.append(\"./src/\")\n",
    "\n",
    "from src.config import CFG\n",
    "from src.dataloader import (\n",
    "    read_zarr,\n",
    "    read_info_json,\n",
    "    scale_coordinates,\n",
    "    create_dataset,\n",
    "    create_segmentation_map,\n",
    "    EziiDataset,\n",
    "    drop_padding,\n",
    ")\n",
    "from src.network import Unet3D\n",
    "from src.utils import save_images, PadToSize\n",
    "from src.metric import (\n",
    "    score,\n",
    "    create_cls_pos,\n",
    "    create_cls_pos_sikii,\n",
    "    create_df,\n",
    "    SegmentationLoss,\n",
    "    DiceLoss,\n",
    ")\n",
    "from tqdm import tqdm\n",
    "from src.kaggle_notebook_metric import compute_lb, extract_particle_results\n",
    "from src.inference import inference, inference2pos, create_gt_df\n",
    "from metric import visualize_epoch_results\n",
    "\n",
    "import wandb\n",
    "from pathlib import Path\n",
    "\n",
    "notebook_name = os.path.join(Path().resolve()).split(\"/\")[-1]\n",
    "\n",
    "param = {\n",
    "    \"model\": CFG.model_name,\n",
    "    \"resolution\": CFG.resolution,\n",
    "    \"augmentation_prob\": CFG.augmentation_prob,\n",
    "    \"slice\": CFG.slice_,\n",
    "    \"epochs\": CFG.epochs,\n",
    "    \"lr\": CFG.lr,\n",
    "    \"batch_size\": CFG.batch_size,\n",
    "    \"weight_decay\": CFG.weight_decay,\n",
    "    \"num_workers\": CFG.num_workers,\n",
    "    \"augment_data_ratio\": CFG.augment_data_ratio,\n",
    "}"
   ]
  },
  {
   "cell_type": "code",
   "execution_count": 2,
   "metadata": {},
   "outputs": [],
   "source": [
    "from sklearn.metrics import *\n",
    "from scipy.optimize import minimize\n",
    "\n",
    "# sikii値とexp_namesを入れるとスコアを出力する関数\n",
    "\n",
    "\n",
    "def compute_score(sikii_list, inferenced_array, exp_name):\n",
    "    apo_ferritin = sikii_list[0]\n",
    "    beta_amylase = sikii_list[1]\n",
    "    beta_galactosidase = sikii_list[2]\n",
    "    ribosome = sikii_list[3]\n",
    "    thyroglobulin = sikii_list[4]\n",
    "    virus_like_particle = sikii_list[5]\n",
    "\n",
    "    sikii_dict = {\n",
    "        \"apo-ferritin\": apo_ferritin,\n",
    "        \"beta-amylase\": beta_amylase,\n",
    "        \"beta-galactosidase\": beta_galactosidase,\n",
    "        \"ribosome\": ribosome,\n",
    "        \"thyroglobulin\": thyroglobulin,\n",
    "        \"virus-like-particle\": virus_like_particle,\n",
    "    }\n",
    "\n",
    "    all_pred = []\n",
    "\n",
    "    pred_df = inference2pos(\n",
    "        pred_segmask=inferenced_array, exp_name=exp_name, sikii_dict=sikii_dict\n",
    "    )\n",
    "\n",
    "    all_pred.append(pred_df)\n",
    "\n",
    "    gc.collect()\n",
    "\n",
    "    pred_df = pd.concat(all_pred, axis=0).reset_index(drop=True)\n",
    "    pred_df = pred_df[pred_df[\"particle_type\"] != \"beta-amylase\"]\n",
    "    pred_df = pred_df.drop_duplicates(\n",
    "        subset=[\"experiment\", \"x\", \"y\", \"z\"], keep=\"first\"\n",
    "    ).reset_index(drop=True)\n",
    "    pred_df = pred_df.reset_index().rename(columns={\"index\": \"id\"})\n",
    "\n",
    "    gt_df = create_gt_df(\"../../inputs/train/overlay/ExperimentRuns/\", [exp_name])\n",
    "\n",
    "    result_df, lb_score = compute_lb(\n",
    "        pred_df, \"../../inputs/train/overlay/ExperimentRuns/\", [exp_name]\n",
    "    )\n",
    "\n",
    "    return lb_score\n",
    "\n",
    "\n",
    "def reduce_computation_sikii_search(\n",
    "    inferenced_array: np.ndarray, exp_name: str, threshold_candidates: list[float]\n",
    ") -> tuple[list[float], float]:\n",
    "    \"\"\"\n",
    "    # How\n",
    "    6つのしきい値が互いに独立してスコアに貢献しているという前提で、\n",
    "    1次元ずつ最適なしきい値を探す手法を実装する.\n",
    "\n",
    "    1. 初期の best_thresholds (全要素 0.5 など適当な値) を用意\n",
    "    2. i=0 から i=5 まで順番に:\n",
    "       - threshold_candidates をすべて試し、他は固定したまま i 番目だけ変化させてスコアを計算\n",
    "       - 最良スコアが得られる候補値を確定し、best_thresholds[i] とする\n",
    "    3. 全部決まったら最終的なスコアを計算して返す\n",
    "\n",
    "    これにより、全組み合わせ (product) を回すよりも計算量が大幅に減少する.\n",
    "    \"\"\"\n",
    "    # Why not: 6値独立であるという前提が満たされていない場合、近似解になる可能性あり\n",
    "    best_thresholds = [0.5] * 6  # 適当な初期値でOK\n",
    "\n",
    "    for i in tqdm(range(6)):\n",
    "        best_local_score = -float(\"inf\")\n",
    "        best_local_value = None\n",
    "\n",
    "        for candidate in threshold_candidates:\n",
    "            current_thresholds = best_thresholds[:]  # 現在のベストを複製\n",
    "            current_thresholds[i] = candidate\n",
    "            score = compute_score(current_thresholds, inferenced_array, exp_name)\n",
    "            if score > best_local_score:\n",
    "                best_local_score = score\n",
    "                best_local_value = candidate\n",
    "\n",
    "        # i番目のしきい値を最適値に更新\n",
    "        best_thresholds[i] = best_local_value\n",
    "\n",
    "    final_score = compute_score(best_thresholds, inferenced_array, exp_name)\n",
    "    return best_thresholds, final_score"
   ]
  },
  {
   "cell_type": "code",
   "execution_count": 3,
   "metadata": {},
   "outputs": [
    {
     "name": "stdout",
     "output_type": "stream",
     "text": [
      "Original shape: torch.Size([6, 16, 320, 320])\n",
      "Augmented shape: torch.Size([6, 16, 256, 256])\n"
     ]
    }
   ],
   "source": [
    "import torch\n",
    "import random\n",
    "import torchvision.transforms.functional as TF\n",
    "\n",
    "\n",
    "# 回転\n",
    "# 3Dテンソルの各軸に対して指定した角度で回転する関数\n",
    "def rotate_3d(tomogram, segmentation_map, angle):\n",
    "    \"\"\"Rotates the 3D tensors tomogram and segmentation_map around the Z-axis.\"\"\"\n",
    "    rotated_tomogram = TF.rotate(tomogram, angle, expand=False)\n",
    "    rotated_segmentation_map = TF.rotate(segmentation_map, angle, expand=False)\n",
    "    return rotated_tomogram, rotated_segmentation_map\n",
    "\n",
    "\n",
    "# 平行移動\n",
    "# 指定された範囲でランダムに平行移動\n",
    "def translate_3d(tomogram, segmentation_map, max_shift):\n",
    "    \"\"\"Translates the 3D tensors by a random shift within max_shift.\"\"\"\n",
    "    shift_x = random.randint(-max_shift, max_shift)\n",
    "    shift_y = random.randint(-max_shift, max_shift)\n",
    "    translated_tomogram = TF.affine(\n",
    "        tomogram, angle=0, translate=(shift_x, shift_y), scale=1, shear=0\n",
    "    )\n",
    "    translated_segmentation_map = TF.affine(\n",
    "        segmentation_map, angle=0, translate=(shift_x, shift_y), scale=1, shear=0\n",
    "    )\n",
    "    return translated_tomogram, translated_segmentation_map\n",
    "\n",
    "\n",
    "# フリップ\n",
    "# 縦横（上下左右）ランダムフリップ\n",
    "def flip_3d(tomogram, segmentation_map):\n",
    "    \"\"\"Randomly flips the 3D tensors along height or width.\"\"\"\n",
    "    if random.random() > 0.5:  # Horizontal flip\n",
    "        tomogram = torch.flip(tomogram, dims=[-1])\n",
    "        segmentation_map = torch.flip(segmentation_map, dims=[-1])\n",
    "    if random.random() > 0.5:  # Vertical flip\n",
    "        tomogram = torch.flip(tomogram, dims=[-2])\n",
    "        segmentation_map = torch.flip(segmentation_map, dims=[-2])\n",
    "    return tomogram, segmentation_map\n",
    "\n",
    "\n",
    "# クロッピング\n",
    "# 入力テンソルを中心またはランダムクロップで切り取る\n",
    "def crop_3d(tomogram, segmentation_map, crop_size):\n",
    "    \"\"\"Crops the 3D tensors to the specified crop_size.\"\"\"\n",
    "    _, depth, height, width = tomogram.size()\n",
    "    crop_d, crop_h, crop_w = crop_size\n",
    "\n",
    "    if crop_h > height or crop_w > width:\n",
    "        raise ValueError(\"Crop size cannot be larger than the original size.\")\n",
    "\n",
    "    start_h = random.randint(0, height - crop_h)  # Random starting position for height\n",
    "    start_w = random.randint(0, width - crop_w)  # Random starting position for width\n",
    "\n",
    "    cropped_tomogram = tomogram[\n",
    "        :, :, start_h : start_h + crop_h, start_w : start_w + crop_w\n",
    "    ]\n",
    "    cropped_segmentation_map = segmentation_map[\n",
    "        :, :, start_h : start_h + crop_h, start_w : start_w + crop_w\n",
    "    ]\n",
    "\n",
    "    return cropped_tomogram, cropped_segmentation_map\n",
    "\n",
    "\n",
    "# Mixup\n",
    "# 2つのサンプルを線形補間して混合\n",
    "def mixup(tomogram, segmentation_map, alpha=0.4):\n",
    "    \"\"\"Applies mixup augmentation to the batch.\"\"\"\n",
    "    lam = random.betavariate(alpha, alpha)\n",
    "    batch_size = tomogram.size(0)\n",
    "    index = torch.randperm(batch_size)\n",
    "\n",
    "    mixed_tomogram = lam * tomogram + (1 - lam) * tomogram[index, :]\n",
    "    mixed_segmentation_map = (\n",
    "        lam * segmentation_map + (1 - lam) * segmentation_map[index, :]\n",
    "    )\n",
    "\n",
    "    return mixed_tomogram, mixed_segmentation_map\n",
    "\n",
    "\n",
    "# Cutmix\n",
    "# ランダム領域を切り取って別のサンプルに貼り付け\n",
    "def cutmix(tomogram, segmentation_map, alpha=1.0):\n",
    "    \"\"\"Applies cutmix augmentation to the batch.\"\"\"\n",
    "    lam = random.betavariate(alpha, alpha)\n",
    "    batch_size, depth, height, width = tomogram.size()\n",
    "    index = torch.randperm(batch_size)\n",
    "\n",
    "    cx = random.randint(0, width)\n",
    "    cy = random.randint(0, height)\n",
    "    cw = int(width * (1 - lam))\n",
    "    ch = int(height * (1 - lam))\n",
    "\n",
    "    x1 = max(cx - cw // 2, 0)\n",
    "    x2 = min(cx + cw // 2, width)\n",
    "    y1 = max(cy - ch // 2, 0)\n",
    "    y2 = min(cy + ch // 2, height)\n",
    "\n",
    "    tomogram[:, :, y1:y2, x1:x2] = tomogram[index, :, y1:y2, x1:x2]\n",
    "    segmentation_map[:, :, y1:y2, x1:x2] = segmentation_map[index, :, y1:y2, x1:x2]\n",
    "\n",
    "    return tomogram, segmentation_map\n",
    "\n",
    "\n",
    "# データ拡張の組み合わせ適用\n",
    "def augment_data(\n",
    "    tomogram,\n",
    "    segmentation_map,\n",
    "    crop_size=(16, 256, 256),\n",
    "    max_shift=10,\n",
    "    rotation_angle=30,\n",
    "    p=0.5,\n",
    "    mixup_alpha=0.4,\n",
    "    cutmix_alpha=1.0,\n",
    "):\n",
    "    \"\"\"Applies a combination of rotation, translation, flipping, cropping, mixup, and cutmix to the inputs with probabilities.\"\"\"\n",
    "    if random.random() < p:\n",
    "        tomogram, segmentation_map = rotate_3d(\n",
    "            tomogram,\n",
    "            segmentation_map,\n",
    "            angle=random.uniform(-rotation_angle, rotation_angle),\n",
    "        )\n",
    "    if random.random() < p:\n",
    "        tomogram, segmentation_map = translate_3d(\n",
    "            tomogram, segmentation_map, max_shift=max_shift\n",
    "        )\n",
    "    if random.random() < p:\n",
    "        tomogram, segmentation_map = flip_3d(tomogram, segmentation_map)\n",
    "    if random.random() < p:\n",
    "        tomogram, segmentation_map = crop_3d(\n",
    "            tomogram, segmentation_map, crop_size=crop_size\n",
    "        )\n",
    "    # if random.random() < p:\n",
    "    #     tomogram, segmentation_map = mixup(\n",
    "    #         tomogram, segmentation_map, alpha=mixup_alpha\n",
    "    #     )\n",
    "    # if random.random() < p:\n",
    "    #     tomogram, segmentation_map = cutmix(\n",
    "    #         tomogram, segmentation_map, alpha=cutmix_alpha\n",
    "    #     )\n",
    "    return tomogram, segmentation_map\n",
    "\n",
    "\n",
    "# 使用例\n",
    "# バッチサイズ6, 深さ16, 高さ320, 幅320のランダムテンソル\n",
    "tomogram = torch.rand((6, 16, 320, 320))\n",
    "segmentation_map = torch.randint(0, 2, (6, 16, 320, 320))  # ラベルは0または1\n",
    "\n",
    "# データ拡張の適用\n",
    "aug_tomogram, aug_segmentation_map = augment_data(tomogram, segmentation_map, p=0.7)\n",
    "print(\"Original shape:\", tomogram.shape)\n",
    "print(\"Augmented shape:\", aug_tomogram.shape)"
   ]
  },
  {
   "cell_type": "code",
   "execution_count": 4,
   "metadata": {},
   "outputs": [],
   "source": [
    "from transformers import get_cosine_schedule_with_warmup"
   ]
  },
  {
   "cell_type": "code",
   "execution_count": 5,
   "metadata": {},
   "outputs": [],
   "source": [
    "# b, c, d, h, w = CFG.batch_size, 1, 96, 320, 320"
   ]
  },
  {
   "cell_type": "code",
   "execution_count": 6,
   "metadata": {},
   "outputs": [],
   "source": [
    "def preprocess_tensor(tensor):\n",
    "    batch_size, depth, height, width = tensor.shape\n",
    "    tensor = tensor.unsqueeze(2)  # (b, d, h, w) -> (b, d, 1, h, w)\n",
    "    return tensor\n",
    "\n",
    "\n",
    "padf = PadToSize(CFG.resolution)"
   ]
  },
  {
   "cell_type": "code",
   "execution_count": 7,
   "metadata": {},
   "outputs": [
    {
     "name": "stderr",
     "output_type": "stream",
     "text": [
      "Failed to detect the name of this notebook, you can set it manually with the WANDB_NOTEBOOK_NAME environment variable to enable code saving.\n",
      "\u001b[34m\u001b[1mwandb\u001b[0m: Currently logged in as: \u001b[33mtatuya\u001b[0m (\u001b[33mlatent-walkers\u001b[0m). Use \u001b[1m`wandb login --relogin`\u001b[0m to force relogin\n"
     ]
    },
    {
     "data": {
      "text/html": [
       "wandb version 0.19.4 is available!  To upgrade, please run:\n",
       " $ pip install wandb --upgrade"
      ],
      "text/plain": [
       "<IPython.core.display.HTML object>"
      ]
     },
     "metadata": {},
     "output_type": "display_data"
    },
    {
     "data": {
      "text/html": [
       "Tracking run with wandb version 0.16.1"
      ],
      "text/plain": [
       "<IPython.core.display.HTML object>"
      ]
     },
     "metadata": {},
     "output_type": "display_data"
    },
    {
     "data": {
      "text/html": [
       "Run data is saved locally in <code>/home/tatsuya/code/projects/kaggle/CryoET/experiments/exp070-recreate-baseline-renet34d-dstride/wandb/run-20250128_225514-xputh8zn</code>"
      ],
      "text/plain": [
       "<IPython.core.display.HTML object>"
      ]
     },
     "metadata": {},
     "output_type": "display_data"
    },
    {
     "data": {
      "text/html": [
       "Syncing run <strong><a href='https://wandb.ai/latent-walkers/czii2024/runs/xputh8zn' target=\"_blank\">exp070-recreate-baseline-renet34d-dstride_TS_73_6</a></strong> to <a href='https://wandb.ai/latent-walkers/czii2024' target=\"_blank\">Weights & Biases</a> (<a href='https://wandb.me/run' target=\"_blank\">docs</a>)<br/>"
      ],
      "text/plain": [
       "<IPython.core.display.HTML object>"
      ]
     },
     "metadata": {},
     "output_type": "display_data"
    },
    {
     "data": {
      "text/html": [
       " View project at <a href='https://wandb.ai/latent-walkers/czii2024' target=\"_blank\">https://wandb.ai/latent-walkers/czii2024</a>"
      ],
      "text/plain": [
       "<IPython.core.display.HTML object>"
      ]
     },
     "metadata": {},
     "output_type": "display_data"
    },
    {
     "data": {
      "text/html": [
       " View run at <a href='https://wandb.ai/latent-walkers/czii2024/runs/xputh8zn' target=\"_blank\">https://wandb.ai/latent-walkers/czii2024/runs/xputh8zn</a>"
      ],
      "text/plain": [
       "<IPython.core.display.HTML object>"
      ]
     },
     "metadata": {},
     "output_type": "display_data"
    },
    {
     "name": "stderr",
     "output_type": "stream",
     "text": [
      "100%|██████████| 752/752 [01:14<00:00, 10.16it/s]\n",
      "100%|██████████| 1/1 [00:01<00:00,  1.45s/it]\n",
      "Epoch 1/15 [Training]: 100%|██████████| 376/376 [03:47<00:00,  1.66it/s, loss=0.8478]\n",
      "Epoch 1/15 [Validation]: 100%|██████████| 1/1 [00:01<00:00,  1.07s/it, loss=0.8311]\n",
      "100%|██████████| 6/6 [03:31<00:00, 35.32s/it]\n"
     ]
    },
    {
     "name": "stdout",
     "output_type": "stream",
     "text": [
      "train-epoch-loss:0.8478 valid-beta4-score:0.2825\n"
     ]
    },
    {
     "name": "stderr",
     "output_type": "stream",
     "text": [
      "Epoch 2/15 [Training]: 100%|██████████| 376/376 [04:25<00:00,  1.41it/s, loss=0.7570]\n",
      "Epoch 2/15 [Validation]: 100%|██████████| 1/1 [00:01<00:00,  1.07s/it, loss=0.7329]\n",
      "100%|██████████| 6/6 [03:24<00:00, 34.11s/it]\n"
     ]
    },
    {
     "name": "stdout",
     "output_type": "stream",
     "text": [
      "train-epoch-loss:0.7570 valid-beta4-score:0.4969\n"
     ]
    },
    {
     "name": "stderr",
     "output_type": "stream",
     "text": [
      "Epoch 3/15 [Training]: 100%|██████████| 376/376 [03:42<00:00,  1.69it/s, loss=0.6677]\n",
      "Epoch 3/15 [Validation]: 100%|██████████| 1/1 [00:01<00:00,  1.02s/it, loss=0.8459]\n",
      "100%|██████████| 6/6 [03:33<00:00, 35.63s/it]\n"
     ]
    },
    {
     "name": "stdout",
     "output_type": "stream",
     "text": [
      "train-epoch-loss:0.6677 valid-beta4-score:0.7058\n"
     ]
    },
    {
     "name": "stderr",
     "output_type": "stream",
     "text": [
      "Epoch 4/15 [Training]: 100%|██████████| 376/376 [03:30<00:00,  1.78it/s, loss=0.6290]\n",
      "Epoch 4/15 [Validation]: 100%|██████████| 1/1 [00:00<00:00,  1.02it/s, loss=0.8582]\n",
      "100%|██████████| 6/6 [03:33<00:00, 35.52s/it]\n"
     ]
    },
    {
     "name": "stdout",
     "output_type": "stream",
     "text": [
      "train-epoch-loss:0.6290 valid-beta4-score:0.7204\n"
     ]
    },
    {
     "name": "stderr",
     "output_type": "stream",
     "text": [
      "Epoch 5/15 [Training]: 100%|██████████| 376/376 [03:21<00:00,  1.86it/s, loss=0.6116]\n",
      "Epoch 5/15 [Validation]: 100%|██████████| 1/1 [00:00<00:00,  1.02it/s, loss=0.8103]\n",
      "100%|██████████| 6/6 [03:34<00:00, 35.77s/it]\n"
     ]
    },
    {
     "name": "stdout",
     "output_type": "stream",
     "text": [
      "train-epoch-loss:0.6116 valid-beta4-score:0.6784\n"
     ]
    },
    {
     "name": "stderr",
     "output_type": "stream",
     "text": [
      "Epoch 6/15 [Training]: 100%|██████████| 376/376 [03:35<00:00,  1.74it/s, loss=0.6039]\n",
      "Epoch 6/15 [Validation]: 100%|██████████| 1/1 [00:00<00:00,  1.03it/s, loss=0.5598]\n",
      "100%|██████████| 6/6 [03:34<00:00, 35.72s/it]\n"
     ]
    },
    {
     "name": "stdout",
     "output_type": "stream",
     "text": [
      "train-epoch-loss:0.6039 valid-beta4-score:0.7133\n"
     ]
    },
    {
     "name": "stderr",
     "output_type": "stream",
     "text": [
      "Epoch 7/15 [Training]: 100%|██████████| 376/376 [03:44<00:00,  1.67it/s, loss=0.5809]\n",
      "Epoch 7/15 [Validation]: 100%|██████████| 1/1 [00:00<00:00,  1.01it/s, loss=0.6937]\n",
      "100%|██████████| 6/6 [03:35<00:00, 35.85s/it]\n"
     ]
    },
    {
     "name": "stdout",
     "output_type": "stream",
     "text": [
      "train-epoch-loss:0.5809 valid-beta4-score:0.7236\n"
     ]
    },
    {
     "name": "stderr",
     "output_type": "stream",
     "text": [
      "Epoch 8/15 [Training]: 100%|██████████| 376/376 [03:45<00:00,  1.67it/s, loss=0.5695]\n",
      "Epoch 8/15 [Validation]: 100%|██████████| 1/1 [00:00<00:00,  1.06it/s, loss=0.6459]\n",
      "100%|██████████| 6/6 [03:35<00:00, 35.95s/it]\n"
     ]
    },
    {
     "name": "stdout",
     "output_type": "stream",
     "text": [
      "train-epoch-loss:0.5695 valid-beta4-score:0.7676\n"
     ]
    },
    {
     "name": "stderr",
     "output_type": "stream",
     "text": [
      "Epoch 9/15 [Training]: 100%|██████████| 376/376 [03:40<00:00,  1.71it/s, loss=0.5742]\n",
      "Epoch 9/15 [Validation]: 100%|██████████| 1/1 [00:00<00:00,  1.01it/s, loss=0.5554]\n",
      "100%|██████████| 6/6 [03:33<00:00, 35.57s/it]\n"
     ]
    },
    {
     "name": "stdout",
     "output_type": "stream",
     "text": [
      "train-epoch-loss:0.5742 valid-beta4-score:0.7431\n"
     ]
    },
    {
     "name": "stderr",
     "output_type": "stream",
     "text": [
      "Epoch 10/15 [Training]: 100%|██████████| 376/376 [03:39<00:00,  1.71it/s, loss=0.5601]\n",
      "Epoch 10/15 [Validation]: 100%|██████████| 1/1 [00:00<00:00,  1.02it/s, loss=0.8576]\n",
      "100%|██████████| 6/6 [03:35<00:00, 35.88s/it]\n"
     ]
    },
    {
     "name": "stdout",
     "output_type": "stream",
     "text": [
      "train-epoch-loss:0.5601 valid-beta4-score:0.7392\n"
     ]
    },
    {
     "name": "stderr",
     "output_type": "stream",
     "text": [
      "Epoch 11/15 [Training]: 100%|██████████| 376/376 [03:28<00:00,  1.80it/s, loss=0.5726]\n",
      "Epoch 11/15 [Validation]: 100%|██████████| 1/1 [00:00<00:00,  1.03it/s, loss=0.4764]\n",
      "100%|██████████| 6/6 [03:35<00:00, 35.84s/it]\n"
     ]
    },
    {
     "name": "stdout",
     "output_type": "stream",
     "text": [
      "train-epoch-loss:0.5726 valid-beta4-score:0.7039\n"
     ]
    },
    {
     "name": "stderr",
     "output_type": "stream",
     "text": [
      "Epoch 12/15 [Training]: 100%|██████████| 376/376 [03:32<00:00,  1.77it/s, loss=0.5574]\n",
      "Epoch 12/15 [Validation]: 100%|██████████| 1/1 [00:00<00:00,  1.03it/s, loss=0.7801]\n",
      "100%|██████████| 6/6 [03:34<00:00, 35.82s/it]\n"
     ]
    },
    {
     "name": "stdout",
     "output_type": "stream",
     "text": [
      "train-epoch-loss:0.5574 valid-beta4-score:0.7544\n"
     ]
    },
    {
     "name": "stderr",
     "output_type": "stream",
     "text": [
      "Epoch 13/15 [Training]: 100%|██████████| 376/376 [03:48<00:00,  1.64it/s, loss=0.5400]\n",
      "Epoch 13/15 [Validation]: 100%|██████████| 1/1 [00:00<00:00,  1.06it/s, loss=0.6688]\n",
      "100%|██████████| 6/6 [03:35<00:00, 36.00s/it]\n"
     ]
    },
    {
     "name": "stdout",
     "output_type": "stream",
     "text": [
      "train-epoch-loss:0.5400 valid-beta4-score:0.7305\n"
     ]
    },
    {
     "name": "stderr",
     "output_type": "stream",
     "text": [
      "Epoch 14/15 [Training]: 100%|██████████| 376/376 [03:43<00:00,  1.68it/s, loss=0.5563]\n",
      "Epoch 14/15 [Validation]: 100%|██████████| 1/1 [00:00<00:00,  1.04it/s, loss=0.8576]\n",
      "100%|██████████| 6/6 [03:35<00:00, 35.94s/it]\n"
     ]
    },
    {
     "name": "stdout",
     "output_type": "stream",
     "text": [
      "train-epoch-loss:0.5563 valid-beta4-score:0.7359\n"
     ]
    },
    {
     "name": "stderr",
     "output_type": "stream",
     "text": [
      "Epoch 15/15 [Training]: 100%|██████████| 376/376 [03:51<00:00,  1.62it/s, loss=0.5444]\n",
      "Epoch 15/15 [Validation]: 100%|██████████| 1/1 [00:00<00:00,  1.02it/s, loss=0.7894]\n",
      "100%|██████████| 6/6 [03:32<00:00, 35.35s/it]\n"
     ]
    },
    {
     "name": "stdout",
     "output_type": "stream",
     "text": [
      "train-epoch-loss:0.5444 valid-beta4-score:0.7367\n"
     ]
    },
    {
     "data": {
      "text/html": [
       "Finishing last run (ID:xputh8zn) before initializing another..."
      ],
      "text/plain": [
       "<IPython.core.display.HTML object>"
      ]
     },
     "metadata": {},
     "output_type": "display_data"
    },
    {
     "name": "stderr",
     "output_type": "stream",
     "text": [
      "wandb: WARNING Source type is set to 'repo' but some required information is missing from the environment. A job will not be created from this run. See https://docs.wandb.ai/guides/launch/create-job\n"
     ]
    },
    {
     "data": {
      "application/vnd.jupyter.widget-view+json": {
       "model_id": "59e5be7ec4fd43faaaa506f87223eef9",
       "version_major": 2,
       "version_minor": 0
      },
      "text/plain": [
       "VBox(children=(Label(value='0.004 MB of 0.004 MB uploaded\\r'), FloatProgress(value=1.0, max=1.0)))"
      ]
     },
     "metadata": {},
     "output_type": "display_data"
    },
    {
     "data": {
      "text/html": [
       "<style>\n",
       "    table.wandb td:nth-child(1) { padding: 0 10px; text-align: left ; width: auto;} td:nth-child(2) {text-align: left ; width: 100%}\n",
       "    .wandb-row { display: flex; flex-direction: row; flex-wrap: wrap; justify-content: flex-start; width: 100% }\n",
       "    .wandb-col { display: flex; flex-direction: column; flex-basis: 100%; flex: 1; padding: 10px; }\n",
       "    </style>\n",
       "<div class=\"wandb-row\"><div class=\"wandb-col\"><h3>Run history:</h3><br/><table class=\"wandb\"><tr><td>01_epoch</td><td>▁▁▂▃▃▃▄▅▅▅▆▇▇▇█</td></tr><tr><td>02_train_loss</td><td>█▆▄▃▃▂▂▂▂▁▂▁▁▁▁</td></tr><tr><td>03_valid_loss</td><td>█▆██▇▃▅▄▂█▁▇▅█▇</td></tr><tr><td>04_valid_best_score</td><td>▁▄▇▇▇▇▇███▇█▇██</td></tr><tr><td>apo-ferritin</td><td>▂▅▁▅███▅█▅▅▆▅█▇</td></tr><tr><td>apoo_ferritin_f4</td><td>▁▇███████▇▇█▇██</td></tr><tr><td>apoo_ferritin_p</td><td>▁▇█▇█▇▇█▇█▇▇▇█▇</td></tr><tr><td>apoo_ferritin_r</td><td>▁▇▇██████▇▇█▇▇▇</td></tr><tr><td>beta-amylase</td><td>▁▁▁▁▁▁▁▁▁▁▁▁▁▁▁</td></tr><tr><td>beta-galactosidase</td><td>▁▁▇▇▅▄▅█▇▂██▅▇▆</td></tr><tr><td>beta_amylase_f4</td><td>▃▁▃▅▆▅▄▇▆█▆▄▇▆▅</td></tr><tr><td>beta_amylase_p</td><td>▁▁▂▃▄▃▂▅▃█▃▂▄▃▃</td></tr><tr><td>beta_amylase_r</td><td>█▁▆▇▇█▇▇█▇█████</td></tr><tr><td>beta_galactosidase_f4</td><td>▁▃▆▆▃▆▇█▇▇▆█▇▇▇</td></tr><tr><td>beta_galactosidase_p</td><td>▁▂▅▇▅▅▅█▇▆▅▆▆▅▆</td></tr><tr><td>beta_galactosidase_r</td><td>▅▃▆▅▁▆▇▇▇▆▆█▆▇▆</td></tr><tr><td>ribosome</td><td>▁▆▅▁█▇▆▆█▅▂▆▅▇▆</td></tr><tr><td>ribosome_f4</td><td>▂▅▅▆█▆▃▇▁▂▅▄▅▄▄</td></tr><tr><td>ribosome_p</td><td>▁█▆▇▅█▃▆▂▄▅▄▅▄▄</td></tr><tr><td>ribosome_r</td><td>▆▁▃▃█▃▃▆▁▁▃▃▃▃▃</td></tr><tr><td>thyroglobulin</td><td>▂▂▃▄▅▅█▅▁▅▇▅▄▇▅</td></tr><tr><td>thyroglobulin_f4</td><td>▁▆▆▇█▇▇▇▇█▇█▇██</td></tr><tr><td>thyroglobulin_p</td><td>▁▅█▅▅█▄▇▅▆▇▆▄▆▅</td></tr><tr><td>thyroglobulin_r</td><td>█▄▁▆█▂█▅▆▇▃▅█▆█</td></tr><tr><td>virus-like-particle</td><td>▁▃▂█▇▅▇▅▆▇▆█▇█▇</td></tr><tr><td>virus_like_particle_f4</td><td>▂▁█████████████</td></tr><tr><td>virus_like_particle_p</td><td>▁▁█▅▆▇▇█▇███▇▆▇</td></tr><tr><td>virus_like_particle_r</td><td>▇▁█████████████</td></tr></table><br/></div><div class=\"wandb-col\"><h3>Run summary:</h3><br/><table class=\"wandb\"><tr><td>01_epoch</td><td>14</td></tr><tr><td>02_train_loss</td><td>0.5444</td></tr><tr><td>03_valid_loss</td><td>0.78936</td></tr><tr><td>04_valid_best_score</td><td>0.73675</td></tr><tr><td>apo-ferritin</td><td>0.7</td></tr><tr><td>apoo_ferritin_f4</td><td>0.79306</td></tr><tr><td>apoo_ferritin_p</td><td>0.51316</td></tr><tr><td>apoo_ferritin_r</td><td>0.82105</td></tr><tr><td>beta-amylase</td><td>0.05</td></tr><tr><td>beta-galactosidase</td><td>0.55</td></tr><tr><td>beta_amylase_f4</td><td>0.41372</td></tr><tr><td>beta_amylase_p</td><td>0.04231</td></tr><tr><td>beta_amylase_r</td><td>0.91667</td></tr><tr><td>beta_galactosidase_f4</td><td>0.5549</td></tr><tr><td>beta_galactosidase_p</td><td>0.09735</td></tr><tr><td>beta_galactosidase_r</td><td>0.78571</td></tr><tr><td>ribosome</td><td>0.55</td></tr><tr><td>ribosome_f4</td><td>0.87336</td></tr><tr><td>ribosome_p</td><td>0.42574</td></tr><tr><td>ribosome_r</td><td>0.93478</td></tr><tr><td>thyroglobulin</td><td>0.4</td></tr><tr><td>thyroglobulin_f4</td><td>0.6997</td></tr><tr><td>thyroglobulin_p</td><td>0.12981</td></tr><tr><td>thyroglobulin_r</td><td>0.96429</td></tr><tr><td>virus-like-particle</td><td>0.7</td></tr><tr><td>virus_like_particle_f4</td><td>0.98163</td></tr><tr><td>virus_like_particle_p</td><td>0.75862</td></tr><tr><td>virus_like_particle_r</td><td>1.0</td></tr></table><br/></div></div>"
      ],
      "text/plain": [
       "<IPython.core.display.HTML object>"
      ]
     },
     "metadata": {},
     "output_type": "display_data"
    },
    {
     "data": {
      "text/html": [
       " View run <strong style=\"color:#cdcd00\">exp070-recreate-baseline-renet34d-dstride_TS_73_6</strong> at: <a href='https://wandb.ai/latent-walkers/czii2024/runs/xputh8zn' target=\"_blank\">https://wandb.ai/latent-walkers/czii2024/runs/xputh8zn</a><br/>Synced 5 W&B file(s), 0 media file(s), 0 artifact file(s) and 0 other file(s)"
      ],
      "text/plain": [
       "<IPython.core.display.HTML object>"
      ]
     },
     "metadata": {},
     "output_type": "display_data"
    },
    {
     "data": {
      "text/html": [
       "Find logs at: <code>./wandb/run-20250128_225514-xputh8zn/logs</code>"
      ],
      "text/plain": [
       "<IPython.core.display.HTML object>"
      ]
     },
     "metadata": {},
     "output_type": "display_data"
    },
    {
     "data": {
      "text/html": [
       "Successfully finished last run (ID:xputh8zn). Initializing new run:<br/>"
      ],
      "text/plain": [
       "<IPython.core.display.HTML object>"
      ]
     },
     "metadata": {},
     "output_type": "display_data"
    },
    {
     "data": {
      "application/vnd.jupyter.widget-view+json": {
       "model_id": "6aa5a239656d428593827dafda66a615",
       "version_major": 2,
       "version_minor": 0
      },
      "text/plain": [
       "VBox(children=(Label(value='Waiting for wandb.init()...\\r'), FloatProgress(value=0.011113985200063325, max=1.0…"
      ]
     },
     "metadata": {},
     "output_type": "display_data"
    },
    {
     "data": {
      "text/html": [
       "wandb version 0.19.4 is available!  To upgrade, please run:\n",
       " $ pip install wandb --upgrade"
      ],
      "text/plain": [
       "<IPython.core.display.HTML object>"
      ]
     },
     "metadata": {},
     "output_type": "display_data"
    },
    {
     "data": {
      "text/html": [
       "Tracking run with wandb version 0.16.1"
      ],
      "text/plain": [
       "<IPython.core.display.HTML object>"
      ]
     },
     "metadata": {},
     "output_type": "display_data"
    },
    {
     "data": {
      "text/html": [
       "Run data is saved locally in <code>/home/tatsuya/code/projects/kaggle/CryoET/experiments/exp070-recreate-baseline-renet34d-dstride/wandb/run-20250129_005150-vpkkt8g3</code>"
      ],
      "text/plain": [
       "<IPython.core.display.HTML object>"
      ]
     },
     "metadata": {},
     "output_type": "display_data"
    },
    {
     "data": {
      "text/html": [
       "Syncing run <strong><a href='https://wandb.ai/latent-walkers/czii2024/runs/vpkkt8g3' target=\"_blank\">exp070-recreate-baseline-renet34d-dstride_TS_99_9</a></strong> to <a href='https://wandb.ai/latent-walkers/czii2024' target=\"_blank\">Weights & Biases</a> (<a href='https://wandb.me/run' target=\"_blank\">docs</a>)<br/>"
      ],
      "text/plain": [
       "<IPython.core.display.HTML object>"
      ]
     },
     "metadata": {},
     "output_type": "display_data"
    },
    {
     "data": {
      "text/html": [
       " View project at <a href='https://wandb.ai/latent-walkers/czii2024' target=\"_blank\">https://wandb.ai/latent-walkers/czii2024</a>"
      ],
      "text/plain": [
       "<IPython.core.display.HTML object>"
      ]
     },
     "metadata": {},
     "output_type": "display_data"
    },
    {
     "data": {
      "text/html": [
       " View run at <a href='https://wandb.ai/latent-walkers/czii2024/runs/vpkkt8g3' target=\"_blank\">https://wandb.ai/latent-walkers/czii2024/runs/vpkkt8g3</a>"
      ],
      "text/plain": [
       "<IPython.core.display.HTML object>"
      ]
     },
     "metadata": {},
     "output_type": "display_data"
    },
    {
     "name": "stderr",
     "output_type": "stream",
     "text": [
      "100%|██████████| 752/752 [02:01<00:00,  6.17it/s] \n",
      "100%|██████████| 1/1 [00:04<00:00,  4.44s/it]\n",
      "Epoch 1/15 [Training]: 100%|██████████| 376/376 [03:42<00:00,  1.69it/s, loss=0.8681]\n",
      "Epoch 1/15 [Validation]: 100%|██████████| 1/1 [00:00<00:00,  1.09it/s, loss=0.8307]\n",
      "100%|██████████| 6/6 [03:23<00:00, 33.99s/it]\n"
     ]
    },
    {
     "name": "stdout",
     "output_type": "stream",
     "text": [
      "train-epoch-loss:0.8681 valid-beta4-score:0.2790\n"
     ]
    },
    {
     "name": "stderr",
     "output_type": "stream",
     "text": [
      "Epoch 2/15 [Training]: 100%|██████████| 376/376 [03:42<00:00,  1.69it/s, loss=0.7522]\n",
      "Epoch 2/15 [Validation]: 100%|██████████| 1/1 [00:00<00:00,  1.09it/s, loss=0.7282]\n",
      "100%|██████████| 6/6 [03:31<00:00, 35.18s/it]\n"
     ]
    },
    {
     "name": "stdout",
     "output_type": "stream",
     "text": [
      "train-epoch-loss:0.7522 valid-beta4-score:0.5764\n"
     ]
    },
    {
     "name": "stderr",
     "output_type": "stream",
     "text": [
      "Epoch 3/15 [Training]: 100%|██████████| 376/376 [03:36<00:00,  1.74it/s, loss=0.6975]\n",
      "Epoch 3/15 [Validation]: 100%|██████████| 1/1 [00:00<00:00,  1.06it/s, loss=0.6788]\n",
      "100%|██████████| 6/6 [03:28<00:00, 34.83s/it]\n"
     ]
    },
    {
     "name": "stdout",
     "output_type": "stream",
     "text": [
      "train-epoch-loss:0.6975 valid-beta4-score:0.5707\n"
     ]
    },
    {
     "name": "stderr",
     "output_type": "stream",
     "text": [
      "Epoch 4/15 [Training]: 100%|██████████| 376/376 [03:41<00:00,  1.70it/s, loss=0.6662]\n",
      "Epoch 4/15 [Validation]: 100%|██████████| 1/1 [00:00<00:00,  1.04it/s, loss=0.7564]\n",
      "100%|██████████| 6/6 [03:28<00:00, 34.83s/it]\n"
     ]
    },
    {
     "name": "stdout",
     "output_type": "stream",
     "text": [
      "train-epoch-loss:0.6662 valid-beta4-score:0.4859\n"
     ]
    },
    {
     "name": "stderr",
     "output_type": "stream",
     "text": [
      "Epoch 5/15 [Training]: 100%|██████████| 376/376 [03:33<00:00,  1.76it/s, loss=0.6474]\n",
      "Epoch 5/15 [Validation]: 100%|██████████| 1/1 [00:00<00:00,  1.04it/s, loss=0.8582]\n",
      "100%|██████████| 6/6 [03:31<00:00, 35.30s/it]\n"
     ]
    },
    {
     "name": "stdout",
     "output_type": "stream",
     "text": [
      "train-epoch-loss:0.6474 valid-beta4-score:0.8070\n"
     ]
    },
    {
     "name": "stderr",
     "output_type": "stream",
     "text": [
      "Epoch 6/15 [Training]: 100%|██████████| 376/376 [03:40<00:00,  1.70it/s, loss=0.5997]\n",
      "Epoch 6/15 [Validation]: 100%|██████████| 1/1 [00:01<00:00,  1.02s/it, loss=0.8584]\n",
      "100%|██████████| 6/6 [03:31<00:00, 35.23s/it]\n"
     ]
    },
    {
     "name": "stdout",
     "output_type": "stream",
     "text": [
      "train-epoch-loss:0.5997 valid-beta4-score:0.7980\n"
     ]
    },
    {
     "name": "stderr",
     "output_type": "stream",
     "text": [
      "Epoch 7/15 [Training]: 100%|██████████| 376/376 [03:40<00:00,  1.70it/s, loss=0.5757]\n",
      "Epoch 7/15 [Validation]: 100%|██████████| 1/1 [00:01<00:00,  1.03s/it, loss=0.5397]\n",
      "100%|██████████| 6/6 [03:29<00:00, 34.93s/it]\n"
     ]
    },
    {
     "name": "stdout",
     "output_type": "stream",
     "text": [
      "train-epoch-loss:0.5757 valid-beta4-score:0.8175\n"
     ]
    },
    {
     "name": "stderr",
     "output_type": "stream",
     "text": [
      "Epoch 8/15 [Training]: 100%|██████████| 376/376 [03:36<00:00,  1.74it/s, loss=0.5841]\n",
      "Epoch 8/15 [Validation]: 100%|██████████| 1/1 [00:01<00:00,  1.00s/it, loss=0.4367]\n",
      "100%|██████████| 6/6 [03:35<00:00, 35.91s/it]\n"
     ]
    },
    {
     "name": "stdout",
     "output_type": "stream",
     "text": [
      "train-epoch-loss:0.5841 valid-beta4-score:0.7754\n"
     ]
    },
    {
     "name": "stderr",
     "output_type": "stream",
     "text": [
      "Epoch 9/15 [Training]: 100%|██████████| 376/376 [03:49<00:00,  1.64it/s, loss=0.5521]\n",
      "Epoch 9/15 [Validation]: 100%|██████████| 1/1 [00:01<00:00,  1.01s/it, loss=0.4130]\n",
      "100%|██████████| 6/6 [03:30<00:00, 35.09s/it]\n"
     ]
    },
    {
     "name": "stdout",
     "output_type": "stream",
     "text": [
      "train-epoch-loss:0.5521 valid-beta4-score:0.7714\n"
     ]
    },
    {
     "name": "stderr",
     "output_type": "stream",
     "text": [
      "Epoch 10/15 [Training]:  70%|██████▉   | 262/376 [02:26<00:50,  2.27it/s, loss=0.5661]wandb: ERROR Error while calling W&B API: context deadline exceeded (<Response [500]>)\n",
      "Epoch 10/15 [Training]: 100%|██████████| 376/376 [03:29<00:00,  1.80it/s, loss=0.5614]\n",
      "Epoch 10/15 [Validation]: 100%|██████████| 1/1 [00:00<00:00,  1.00it/s, loss=0.6119]\n",
      "100%|██████████| 6/6 [03:34<00:00, 35.78s/it]\n"
     ]
    },
    {
     "name": "stdout",
     "output_type": "stream",
     "text": [
      "train-epoch-loss:0.5614 valid-beta4-score:0.7437\n"
     ]
    },
    {
     "name": "stderr",
     "output_type": "stream",
     "text": [
      "Epoch 11/15 [Training]: 100%|██████████| 376/376 [03:38<00:00,  1.72it/s, loss=0.5542]\n",
      "Epoch 11/15 [Validation]: 100%|██████████| 1/1 [00:00<00:00,  1.03it/s, loss=0.5856]\n",
      "100%|██████████| 6/6 [03:31<00:00, 35.32s/it]\n"
     ]
    },
    {
     "name": "stdout",
     "output_type": "stream",
     "text": [
      "train-epoch-loss:0.5542 valid-beta4-score:0.7933\n"
     ]
    },
    {
     "name": "stderr",
     "output_type": "stream",
     "text": [
      "Epoch 12/15 [Training]: 100%|██████████| 376/376 [03:45<00:00,  1.66it/s, loss=0.5520]\n",
      "Epoch 12/15 [Validation]: 100%|██████████| 1/1 [00:00<00:00,  1.02it/s, loss=0.8110]\n",
      "100%|██████████| 6/6 [03:32<00:00, 35.41s/it]\n"
     ]
    },
    {
     "name": "stdout",
     "output_type": "stream",
     "text": [
      "train-epoch-loss:0.5520 valid-beta4-score:0.7734\n"
     ]
    },
    {
     "name": "stderr",
     "output_type": "stream",
     "text": [
      "Epoch 13/15 [Training]: 100%|██████████| 376/376 [03:31<00:00,  1.78it/s, loss=0.5492]\n",
      "Epoch 13/15 [Validation]: 100%|██████████| 1/1 [00:00<00:00,  1.02it/s, loss=0.8579]\n",
      "100%|██████████| 6/6 [03:31<00:00, 35.21s/it]\n"
     ]
    },
    {
     "name": "stdout",
     "output_type": "stream",
     "text": [
      "train-epoch-loss:0.5492 valid-beta4-score:0.7909\n"
     ]
    },
    {
     "name": "stderr",
     "output_type": "stream",
     "text": [
      "Epoch 14/15 [Training]: 100%|██████████| 376/376 [03:36<00:00,  1.74it/s, loss=0.5479]\n",
      "Epoch 14/15 [Validation]: 100%|██████████| 1/1 [00:00<00:00,  1.02it/s, loss=0.6828]\n",
      "100%|██████████| 6/6 [03:30<00:00, 35.09s/it]\n"
     ]
    },
    {
     "name": "stdout",
     "output_type": "stream",
     "text": [
      "train-epoch-loss:0.5479 valid-beta4-score:0.7885\n"
     ]
    },
    {
     "name": "stderr",
     "output_type": "stream",
     "text": [
      "Epoch 15/15 [Training]: 100%|██████████| 376/376 [03:40<00:00,  1.70it/s, loss=0.5394]\n",
      "Epoch 15/15 [Validation]: 100%|██████████| 1/1 [00:00<00:00,  1.01it/s, loss=0.5245]\n",
      "100%|██████████| 6/6 [03:31<00:00, 35.28s/it]\n"
     ]
    },
    {
     "name": "stdout",
     "output_type": "stream",
     "text": [
      "train-epoch-loss:0.5394 valid-beta4-score:0.7940\n"
     ]
    },
    {
     "data": {
      "text/html": [
       "Finishing last run (ID:vpkkt8g3) before initializing another..."
      ],
      "text/plain": [
       "<IPython.core.display.HTML object>"
      ]
     },
     "metadata": {},
     "output_type": "display_data"
    },
    {
     "name": "stderr",
     "output_type": "stream",
     "text": [
      "wandb: WARNING Source type is set to 'repo' but some required information is missing from the environment. A job will not be created from this run. See https://docs.wandb.ai/guides/launch/create-job\n"
     ]
    },
    {
     "data": {
      "application/vnd.jupyter.widget-view+json": {
       "model_id": "e99d6fa51a6f471fab3807b27a2fe837",
       "version_major": 2,
       "version_minor": 0
      },
      "text/plain": [
       "VBox(children=(Label(value='0.004 MB of 0.004 MB uploaded\\r'), FloatProgress(value=1.0, max=1.0)))"
      ]
     },
     "metadata": {},
     "output_type": "display_data"
    },
    {
     "data": {
      "text/html": [
       "<style>\n",
       "    table.wandb td:nth-child(1) { padding: 0 10px; text-align: left ; width: auto;} td:nth-child(2) {text-align: left ; width: 100%}\n",
       "    .wandb-row { display: flex; flex-direction: row; flex-wrap: wrap; justify-content: flex-start; width: 100% }\n",
       "    .wandb-col { display: flex; flex-direction: column; flex-basis: 100%; flex: 1; padding: 10px; }\n",
       "    </style>\n",
       "<div class=\"wandb-row\"><div class=\"wandb-col\"><h3>Run history:</h3><br/><table class=\"wandb\"><tr><td>01_epoch</td><td>▁▁▂▃▃▃▄▅▅▅▆▇▇▇█</td></tr><tr><td>02_train_loss</td><td>█▆▄▄▃▂▂▂▁▁▁▁▁▁▁</td></tr><tr><td>03_valid_loss</td><td>█▆▅▆██▃▁▁▄▄▇█▅▃</td></tr><tr><td>04_valid_best_score</td><td>▁▅▅▄███▇▇▇█▇███</td></tr><tr><td>apo-ferritin</td><td>▁▆██▅▇▆█▇▇▅▃█▇▂</td></tr><tr><td>apoo_ferritin_f4</td><td>▁████▇█▇▇▆█▇███</td></tr><tr><td>apoo_ferritin_p</td><td>▁▆▇▇█▇█▆▆▆▇▇▇▇▇</td></tr><tr><td>apoo_ferritin_r</td><td>▁████▇█▇▆▆▇▇▇▇▇</td></tr><tr><td>beta-amylase</td><td>▁▁▁▁▁▁▁▁▁▁▁▁▁▁▁</td></tr><tr><td>beta-galactosidase</td><td>▁▂▇▂█▄▅▇▅▅▅▅▅█▅</td></tr><tr><td>beta_amylase_f4</td><td>▁▃▄▅▇▇▇▆▇▇▇█▇█▇</td></tr><tr><td>beta_amylase_p</td><td>▁▂▂▃▅▄▇▃█▄▆█▆▆▆</td></tr><tr><td>beta_amylase_r</td><td>▁▅█▆▆█▆█▆█▇▇▇▇▆</td></tr><tr><td>beta_galactosidase_f4</td><td>▁▄▅▁███▇▇▇▇▇█▇█</td></tr><tr><td>beta_galactosidase_p</td><td>▁▂▃▁▇▆▇▅█▅▆▆▆▇▇</td></tr><tr><td>beta_galactosidase_r</td><td>▁█▆▁▇█▇▆▆▇▇▆▇▅▇</td></tr><tr><td>ribosome</td><td>█▁▇▃▁█▃▇█▂▂▂▅█▃</td></tr><tr><td>ribosome_f4</td><td>▁▆▄▆▇█▆█▅▂▆▅▆█▅</td></tr><tr><td>ribosome_p</td><td>▂▄▆▁█▅▂▅▂▁▇▄▃▅▃</td></tr><tr><td>ribosome_r</td><td>▁▆▂█▅▇▇▇▆▃▃▃▆▇▅</td></tr><tr><td>thyroglobulin</td><td>▁█▇▇▅█▅▄▄▇█▇▄▇▅</td></tr><tr><td>thyroglobulin_f4</td><td>▁▇▆▆█▇██▇▇██▇██</td></tr><tr><td>thyroglobulin_p</td><td>▁▄▂▂▆▆▇▆▆▅█▆▅▆▆</td></tr><tr><td>thyroglobulin_r</td><td>▁██▇█▆▇█▇▇▇▇▇▇▇</td></tr><tr><td>virus-like-particle</td><td>▁▁▁▁▅▂▇█▆▇▆▆▇▇▆</td></tr><tr><td>virus_like_particle_f4</td><td>▂▁▁▁▇██████████</td></tr><tr><td>virus_like_particle_p</td><td>▁▁▁▁▄█▇▇███████</td></tr><tr><td>virus_like_particle_r</td><td>▄▁▁▁███████████</td></tr></table><br/></div><div class=\"wandb-col\"><h3>Run summary:</h3><br/><table class=\"wandb\"><tr><td>01_epoch</td><td>14</td></tr><tr><td>02_train_loss</td><td>0.53936</td></tr><tr><td>03_valid_loss</td><td>0.52454</td></tr><tr><td>04_valid_best_score</td><td>0.79405</td></tr><tr><td>apo-ferritin</td><td>0.15</td></tr><tr><td>apoo_ferritin_f4</td><td>0.89617</td></tr><tr><td>apoo_ferritin_p</td><td>0.66</td></tr><tr><td>apoo_ferritin_r</td><td>0.91667</td></tr><tr><td>beta-amylase</td><td>0.05</td></tr><tr><td>beta-galactosidase</td><td>0.45</td></tr><tr><td>beta_amylase_f4</td><td>0.50227</td></tr><tr><td>beta_amylase_p</td><td>0.125</td></tr><tr><td>beta_amylase_r</td><td>0.61905</td></tr><tr><td>beta_galactosidase_f4</td><td>0.63834</td></tr><tr><td>beta_galactosidase_p</td><td>0.15574</td></tr><tr><td>beta_galactosidase_r</td><td>0.79167</td></tr><tr><td>ribosome</td><td>0.55</td></tr><tr><td>ribosome_f4</td><td>0.85427</td></tr><tr><td>ribosome_p</td><td>0.38961</td></tr><tr><td>ribosome_r</td><td>0.92308</td></tr><tr><td>thyroglobulin</td><td>0.5</td></tr><tr><td>thyroglobulin_f4</td><td>0.76561</td></tr><tr><td>thyroglobulin_p</td><td>0.22798</td></tr><tr><td>thyroglobulin_r</td><td>0.89796</td></tr><tr><td>virus-like-particle</td><td>0.5</td></tr><tr><td>virus_like_particle_f4</td><td>1.0</td></tr><tr><td>virus_like_particle_p</td><td>1.0</td></tr><tr><td>virus_like_particle_r</td><td>1.0</td></tr></table><br/></div></div>"
      ],
      "text/plain": [
       "<IPython.core.display.HTML object>"
      ]
     },
     "metadata": {},
     "output_type": "display_data"
    },
    {
     "data": {
      "text/html": [
       " View run <strong style=\"color:#cdcd00\">exp070-recreate-baseline-renet34d-dstride_TS_99_9</strong> at: <a href='https://wandb.ai/latent-walkers/czii2024/runs/vpkkt8g3' target=\"_blank\">https://wandb.ai/latent-walkers/czii2024/runs/vpkkt8g3</a><br/>Synced 5 W&B file(s), 0 media file(s), 0 artifact file(s) and 0 other file(s)"
      ],
      "text/plain": [
       "<IPython.core.display.HTML object>"
      ]
     },
     "metadata": {},
     "output_type": "display_data"
    },
    {
     "data": {
      "text/html": [
       "Find logs at: <code>./wandb/run-20250129_005150-vpkkt8g3/logs</code>"
      ],
      "text/plain": [
       "<IPython.core.display.HTML object>"
      ]
     },
     "metadata": {},
     "output_type": "display_data"
    },
    {
     "data": {
      "text/html": [
       "Successfully finished last run (ID:vpkkt8g3). Initializing new run:<br/>"
      ],
      "text/plain": [
       "<IPython.core.display.HTML object>"
      ]
     },
     "metadata": {},
     "output_type": "display_data"
    },
    {
     "data": {
      "application/vnd.jupyter.widget-view+json": {
       "model_id": "41d92576f3ba40d2a1a8c947fd77a2fe",
       "version_major": 2,
       "version_minor": 0
      },
      "text/plain": [
       "VBox(children=(Label(value='Waiting for wandb.init()...\\r'), FloatProgress(value=0.011114764455447181, max=1.0…"
      ]
     },
     "metadata": {},
     "output_type": "display_data"
    },
    {
     "data": {
      "text/html": [
       "wandb version 0.19.4 is available!  To upgrade, please run:\n",
       " $ pip install wandb --upgrade"
      ],
      "text/plain": [
       "<IPython.core.display.HTML object>"
      ]
     },
     "metadata": {},
     "output_type": "display_data"
    },
    {
     "data": {
      "text/html": [
       "Tracking run with wandb version 0.16.1"
      ],
      "text/plain": [
       "<IPython.core.display.HTML object>"
      ]
     },
     "metadata": {},
     "output_type": "display_data"
    },
    {
     "data": {
      "text/html": [
       "Run data is saved locally in <code>/home/tatsuya/code/projects/kaggle/CryoET/experiments/exp070-recreate-baseline-renet34d-dstride/wandb/run-20250129_024725-2d79oli6</code>"
      ],
      "text/plain": [
       "<IPython.core.display.HTML object>"
      ]
     },
     "metadata": {},
     "output_type": "display_data"
    },
    {
     "data": {
      "text/html": [
       "Syncing run <strong><a href='https://wandb.ai/latent-walkers/czii2024/runs/2d79oli6' target=\"_blank\">exp070-recreate-baseline-renet34d-dstride_TS_6_4</a></strong> to <a href='https://wandb.ai/latent-walkers/czii2024' target=\"_blank\">Weights & Biases</a> (<a href='https://wandb.me/run' target=\"_blank\">docs</a>)<br/>"
      ],
      "text/plain": [
       "<IPython.core.display.HTML object>"
      ]
     },
     "metadata": {},
     "output_type": "display_data"
    },
    {
     "data": {
      "text/html": [
       " View project at <a href='https://wandb.ai/latent-walkers/czii2024' target=\"_blank\">https://wandb.ai/latent-walkers/czii2024</a>"
      ],
      "text/plain": [
       "<IPython.core.display.HTML object>"
      ]
     },
     "metadata": {},
     "output_type": "display_data"
    },
    {
     "data": {
      "text/html": [
       " View run at <a href='https://wandb.ai/latent-walkers/czii2024/runs/2d79oli6' target=\"_blank\">https://wandb.ai/latent-walkers/czii2024/runs/2d79oli6</a>"
      ],
      "text/plain": [
       "<IPython.core.display.HTML object>"
      ]
     },
     "metadata": {},
     "output_type": "display_data"
    },
    {
     "name": "stderr",
     "output_type": "stream",
     "text": [
      "100%|██████████| 752/752 [02:04<00:00,  6.06it/s] \n",
      "100%|██████████| 1/1 [00:09<00:00,  9.31s/it]\n",
      "Epoch 1/15 [Training]: 100%|██████████| 376/376 [03:47<00:00,  1.66it/s, loss=0.8573]\n",
      "Epoch 1/15 [Validation]: 100%|██████████| 1/1 [00:01<00:00,  1.24s/it, loss=0.7908]\n",
      "100%|██████████| 6/6 [03:10<00:00, 31.77s/it]\n"
     ]
    },
    {
     "name": "stdout",
     "output_type": "stream",
     "text": [
      "train-epoch-loss:0.8573 valid-beta4-score:0.1264\n"
     ]
    },
    {
     "name": "stderr",
     "output_type": "stream",
     "text": [
      "Epoch 2/15 [Training]: 100%|██████████| 376/376 [03:39<00:00,  1.71it/s, loss=0.7603]\n",
      "Epoch 2/15 [Validation]: 100%|██████████| 1/1 [00:01<00:00,  1.01s/it, loss=0.6604]\n",
      "100%|██████████| 6/6 [03:26<00:00, 34.46s/it]\n"
     ]
    },
    {
     "name": "stdout",
     "output_type": "stream",
     "text": [
      "train-epoch-loss:0.7603 valid-beta4-score:0.4576\n"
     ]
    },
    {
     "name": "stderr",
     "output_type": "stream",
     "text": [
      "Epoch 3/15 [Training]: 100%|██████████| 376/376 [03:30<00:00,  1.79it/s, loss=0.6712]\n",
      "Epoch 3/15 [Validation]: 100%|██████████| 1/1 [00:00<00:00,  1.07it/s, loss=0.5403]\n",
      "100%|██████████| 6/6 [03:31<00:00, 35.19s/it]\n"
     ]
    },
    {
     "name": "stdout",
     "output_type": "stream",
     "text": [
      "train-epoch-loss:0.6712 valid-beta4-score:0.5950\n"
     ]
    },
    {
     "name": "stderr",
     "output_type": "stream",
     "text": [
      "Epoch 4/15 [Training]: 100%|██████████| 376/376 [03:48<00:00,  1.65it/s, loss=0.6200]\n",
      "Epoch 4/15 [Validation]: 100%|██████████| 1/1 [00:01<00:00,  1.02s/it, loss=0.5311]\n",
      "100%|██████████| 6/6 [03:39<00:00, 36.51s/it]\n"
     ]
    },
    {
     "name": "stdout",
     "output_type": "stream",
     "text": [
      "train-epoch-loss:0.6200 valid-beta4-score:0.5745\n"
     ]
    },
    {
     "name": "stderr",
     "output_type": "stream",
     "text": [
      "Epoch 5/15 [Training]: 100%|██████████| 376/376 [03:36<00:00,  1.74it/s, loss=0.6051]\n",
      "Epoch 5/15 [Validation]: 100%|██████████| 1/1 [00:00<00:00,  1.01it/s, loss=0.4896]\n",
      "100%|██████████| 6/6 [03:32<00:00, 35.38s/it]\n"
     ]
    },
    {
     "name": "stdout",
     "output_type": "stream",
     "text": [
      "train-epoch-loss:0.6051 valid-beta4-score:0.6291\n"
     ]
    },
    {
     "name": "stderr",
     "output_type": "stream",
     "text": [
      "Epoch 6/15 [Training]: 100%|██████████| 376/376 [03:32<00:00,  1.77it/s, loss=0.5925]\n",
      "Epoch 6/15 [Validation]: 100%|██████████| 1/1 [00:01<00:00,  1.05s/it, loss=0.8581]\n",
      "100%|██████████| 6/6 [03:33<00:00, 35.61s/it]\n"
     ]
    },
    {
     "name": "stdout",
     "output_type": "stream",
     "text": [
      "train-epoch-loss:0.5925 valid-beta4-score:0.6086\n"
     ]
    },
    {
     "name": "stderr",
     "output_type": "stream",
     "text": [
      "Epoch 7/15 [Training]: 100%|██████████| 376/376 [03:31<00:00,  1.78it/s, loss=0.5958]\n",
      "Epoch 7/15 [Validation]: 100%|██████████| 1/1 [00:01<00:00,  1.01s/it, loss=0.6660]\n",
      "100%|██████████| 6/6 [03:35<00:00, 35.85s/it]\n"
     ]
    },
    {
     "name": "stdout",
     "output_type": "stream",
     "text": [
      "train-epoch-loss:0.5958 valid-beta4-score:0.5623\n"
     ]
    },
    {
     "name": "stderr",
     "output_type": "stream",
     "text": [
      "Epoch 8/15 [Training]: 100%|██████████| 376/376 [03:39<00:00,  1.71it/s, loss=0.5757]\n",
      "Epoch 8/15 [Validation]: 100%|██████████| 1/1 [00:00<00:00,  1.01it/s, loss=0.4236]\n",
      "100%|██████████| 6/6 [03:33<00:00, 35.61s/it]\n"
     ]
    },
    {
     "name": "stdout",
     "output_type": "stream",
     "text": [
      "train-epoch-loss:0.5757 valid-beta4-score:0.6171\n"
     ]
    },
    {
     "name": "stderr",
     "output_type": "stream",
     "text": [
      "Epoch 9/15 [Training]: 100%|██████████| 376/376 [03:52<00:00,  1.62it/s, loss=0.5543]\n",
      "Epoch 9/15 [Validation]: 100%|██████████| 1/1 [00:00<00:00,  1.02it/s, loss=0.8577]\n",
      "100%|██████████| 6/6 [03:32<00:00, 35.37s/it]\n"
     ]
    },
    {
     "name": "stdout",
     "output_type": "stream",
     "text": [
      "train-epoch-loss:0.5543 valid-beta4-score:0.6869\n"
     ]
    },
    {
     "name": "stderr",
     "output_type": "stream",
     "text": [
      "Epoch 10/15 [Training]: 100%|██████████| 376/376 [03:33<00:00,  1.76it/s, loss=0.5702]\n",
      "Epoch 10/15 [Validation]: 100%|██████████| 1/1 [00:01<00:00,  1.00s/it, loss=0.7538]\n",
      "100%|██████████| 6/6 [03:32<00:00, 35.45s/it]\n"
     ]
    },
    {
     "name": "stdout",
     "output_type": "stream",
     "text": [
      "train-epoch-loss:0.5702 valid-beta4-score:0.6646\n"
     ]
    },
    {
     "name": "stderr",
     "output_type": "stream",
     "text": [
      "Epoch 11/15 [Training]: 100%|██████████| 376/376 [03:45<00:00,  1.67it/s, loss=0.5511]\n",
      "Epoch 11/15 [Validation]: 100%|██████████| 1/1 [00:00<00:00,  1.02it/s, loss=0.8576]\n",
      "100%|██████████| 6/6 [03:31<00:00, 35.21s/it]\n"
     ]
    },
    {
     "name": "stdout",
     "output_type": "stream",
     "text": [
      "train-epoch-loss:0.5511 valid-beta4-score:0.7462\n"
     ]
    },
    {
     "name": "stderr",
     "output_type": "stream",
     "text": [
      "Epoch 12/15 [Training]: 100%|██████████| 376/376 [03:33<00:00,  1.76it/s, loss=0.5598]\n",
      "Epoch 12/15 [Validation]: 100%|██████████| 1/1 [00:00<00:00,  1.01it/s, loss=0.6329]\n",
      "100%|██████████| 6/6 [03:33<00:00, 35.51s/it]\n"
     ]
    },
    {
     "name": "stdout",
     "output_type": "stream",
     "text": [
      "train-epoch-loss:0.5598 valid-beta4-score:0.6604\n"
     ]
    },
    {
     "name": "stderr",
     "output_type": "stream",
     "text": [
      "Epoch 13/15 [Training]: 100%|██████████| 376/376 [03:48<00:00,  1.64it/s, loss=0.5407]\n",
      "Epoch 13/15 [Validation]: 100%|██████████| 1/1 [00:01<00:00,  1.06s/it, loss=0.4268]\n",
      "100%|██████████| 6/6 [03:32<00:00, 35.39s/it]\n"
     ]
    },
    {
     "name": "stdout",
     "output_type": "stream",
     "text": [
      "train-epoch-loss:0.5407 valid-beta4-score:0.7136\n"
     ]
    },
    {
     "name": "stderr",
     "output_type": "stream",
     "text": [
      "Epoch 14/15 [Training]: 100%|██████████| 376/376 [03:32<00:00,  1.77it/s, loss=0.5568]\n",
      "Epoch 14/15 [Validation]: 100%|██████████| 1/1 [00:00<00:00,  1.02it/s, loss=0.4068]\n",
      "100%|██████████| 6/6 [03:44<00:00, 37.34s/it]\n"
     ]
    },
    {
     "name": "stdout",
     "output_type": "stream",
     "text": [
      "train-epoch-loss:0.5568 valid-beta4-score:0.6344\n"
     ]
    },
    {
     "name": "stderr",
     "output_type": "stream",
     "text": [
      "Epoch 15/15 [Training]: 100%|██████████| 376/376 [03:34<00:00,  1.75it/s, loss=0.5504]\n",
      "Epoch 15/15 [Validation]: 100%|██████████| 1/1 [00:00<00:00,  1.01it/s, loss=0.4319]\n",
      "100%|██████████| 6/6 [03:32<00:00, 35.36s/it]\n"
     ]
    },
    {
     "name": "stdout",
     "output_type": "stream",
     "text": [
      "train-epoch-loss:0.5504 valid-beta4-score:0.6935\n"
     ]
    },
    {
     "data": {
      "text/html": [
       "Finishing last run (ID:2d79oli6) before initializing another..."
      ],
      "text/plain": [
       "<IPython.core.display.HTML object>"
      ]
     },
     "metadata": {},
     "output_type": "display_data"
    },
    {
     "name": "stderr",
     "output_type": "stream",
     "text": [
      "wandb: WARNING Source type is set to 'repo' but some required information is missing from the environment. A job will not be created from this run. See https://docs.wandb.ai/guides/launch/create-job\n"
     ]
    },
    {
     "data": {
      "application/vnd.jupyter.widget-view+json": {
       "model_id": "f1df342bfd364997bb9245c87075de20",
       "version_major": 2,
       "version_minor": 0
      },
      "text/plain": [
       "VBox(children=(Label(value='0.004 MB of 0.004 MB uploaded\\r'), FloatProgress(value=1.0, max=1.0)))"
      ]
     },
     "metadata": {},
     "output_type": "display_data"
    },
    {
     "data": {
      "text/html": [
       "<style>\n",
       "    table.wandb td:nth-child(1) { padding: 0 10px; text-align: left ; width: auto;} td:nth-child(2) {text-align: left ; width: 100%}\n",
       "    .wandb-row { display: flex; flex-direction: row; flex-wrap: wrap; justify-content: flex-start; width: 100% }\n",
       "    .wandb-col { display: flex; flex-direction: column; flex-basis: 100%; flex: 1; padding: 10px; }\n",
       "    </style>\n",
       "<div class=\"wandb-row\"><div class=\"wandb-col\"><h3>Run history:</h3><br/><table class=\"wandb\"><tr><td>01_epoch</td><td>▁▁▂▃▃▃▄▅▅▅▆▇▇▇█</td></tr><tr><td>02_train_loss</td><td>█▆▄▃▂▂▂▂▁▂▁▁▁▁▁</td></tr><tr><td>03_valid_loss</td><td>▇▅▃▃▂█▅▁█▆█▅▁▁▁</td></tr><tr><td>04_valid_best_score</td><td>▁▅▆▆▇▆▆▇▇▇█▇█▇▇</td></tr><tr><td>apo-ferritin</td><td>▁▄▅▅████▅▃▅▇█▇█</td></tr><tr><td>apoo_ferritin_f4</td><td>▁▇█▇▇█▇█▇██▇█▇▇</td></tr><tr><td>apoo_ferritin_p</td><td>▁█▇▅▆▆▅▆▄▆▅▆▆▅▆</td></tr><tr><td>apoo_ferritin_r</td><td>▁▆█▇▇█▇▇███▇▇▇▇</td></tr><tr><td>beta-amylase</td><td>▁▁▁▁▁▁▁▁▁▁▁▁▁▁▁</td></tr><tr><td>beta-galactosidase</td><td>▁▁▂█▇▅█▇██▅██▇█</td></tr><tr><td>beta_amylase_f4</td><td>▁▁▃▁▄▂▂▃▆▄█▄▅▂▅</td></tr><tr><td>beta_amylase_p</td><td>▁▁▃▁▃▂▁▃▅▄█▃▅▂▅</td></tr><tr><td>beta_amylase_r</td><td>▁▁▃██▅▄▅█▇█▇███</td></tr><tr><td>beta_galactosidase_f4</td><td>▁▂▅▆▆▄▄▅▇▆█▆▇▅▇</td></tr><tr><td>beta_galactosidase_p</td><td>▁▂▃▄▄▂▂▃▅▄█▄▆▃▅</td></tr><tr><td>beta_galactosidase_r</td><td>▁▃▆▇▇▇█▆██▇▇▇█▇</td></tr><tr><td>ribosome</td><td>███▁▇█▇▁██▇▂▁█▂</td></tr><tr><td>ribosome_f4</td><td>▄▃▆▆█▄▁▆▆▂▆▆▆▅▆</td></tr><tr><td>ribosome_p</td><td>▃▁▆▅▇▅▄▆█▅▇█▇▇█</td></tr><tr><td>ribosome_r</td><td>▆█▆▇█▅▁▆▅▂▅▅▅▄▅</td></tr><tr><td>thyroglobulin</td><td>▁▃▂█▁▇████▅▇███</td></tr><tr><td>thyroglobulin_f4</td><td>▁▇▆▅▆▇▆▇▇▇█▇█▇▇</td></tr><tr><td>thyroglobulin_p</td><td>▁█▅▃▅▄▃▄▅▅█▆▇▆▆</td></tr><tr><td>thyroglobulin_r</td><td>▁▇▆▇▆█▇▇▇▇▇▇▇▇▇</td></tr><tr><td>virus-like-particle</td><td>▁▂▂█▇████▄▇█▆▆▅</td></tr><tr><td>virus_like_particle_f4</td><td>▁▂▇▆▇██████████</td></tr><tr><td>virus_like_particle_p</td><td>▁▁█▂▅▅▄▄▅▅▇▅▅▆▅</td></tr><tr><td>virus_like_particle_r</td><td>▁▃▇█▇██████████</td></tr></table><br/></div><div class=\"wandb-col\"><h3>Run summary:</h3><br/><table class=\"wandb\"><tr><td>01_epoch</td><td>14</td></tr><tr><td>02_train_loss</td><td>0.55037</td></tr><tr><td>03_valid_loss</td><td>0.43194</td></tr><tr><td>04_valid_best_score</td><td>0.69348</td></tr><tr><td>apo-ferritin</td><td>0.75</td></tr><tr><td>apoo_ferritin_f4</td><td>0.75668</td></tr><tr><td>apoo_ferritin_p</td><td>0.54217</td></tr><tr><td>apoo_ferritin_r</td><td>0.77586</td></tr><tr><td>beta-amylase</td><td>0.05</td></tr><tr><td>beta-galactosidase</td><td>0.75</td></tr><tr><td>beta_amylase_f4</td><td>0.26655</td></tr><tr><td>beta_amylase_p</td><td>0.02093</td></tr><tr><td>beta_amylase_r</td><td>1.0</td></tr><tr><td>beta_galactosidase_f4</td><td>0.58419</td></tr><tr><td>beta_galactosidase_p</td><td>0.10101</td></tr><tr><td>beta_galactosidase_r</td><td>0.83333</td></tr><tr><td>ribosome</td><td>0.5</td></tr><tr><td>ribosome_f4</td><td>0.81881</td></tr><tr><td>ribosome_p</td><td>0.50806</td></tr><tr><td>ribosome_r</td><td>0.85135</td></tr><tr><td>thyroglobulin</td><td>0.75</td></tr><tr><td>thyroglobulin_f4</td><td>0.66667</td></tr><tr><td>thyroglobulin_p</td><td>0.18182</td></tr><tr><td>thyroglobulin_r</td><td>0.8</td></tr><tr><td>virus-like-particle</td><td>0.5</td></tr><tr><td>virus_like_particle_f4</td><td>0.77714</td></tr><tr><td>virus_like_particle_p</td><td>0.53333</td></tr><tr><td>virus_like_particle_r</td><td>0.8</td></tr></table><br/></div></div>"
      ],
      "text/plain": [
       "<IPython.core.display.HTML object>"
      ]
     },
     "metadata": {},
     "output_type": "display_data"
    },
    {
     "data": {
      "text/html": [
       " View run <strong style=\"color:#cdcd00\">exp070-recreate-baseline-renet34d-dstride_TS_6_4</strong> at: <a href='https://wandb.ai/latent-walkers/czii2024/runs/2d79oli6' target=\"_blank\">https://wandb.ai/latent-walkers/czii2024/runs/2d79oli6</a><br/>Synced 5 W&B file(s), 0 media file(s), 0 artifact file(s) and 0 other file(s)"
      ],
      "text/plain": [
       "<IPython.core.display.HTML object>"
      ]
     },
     "metadata": {},
     "output_type": "display_data"
    },
    {
     "data": {
      "text/html": [
       "Find logs at: <code>./wandb/run-20250129_024725-2d79oli6/logs</code>"
      ],
      "text/plain": [
       "<IPython.core.display.HTML object>"
      ]
     },
     "metadata": {},
     "output_type": "display_data"
    },
    {
     "data": {
      "text/html": [
       "Successfully finished last run (ID:2d79oli6). Initializing new run:<br/>"
      ],
      "text/plain": [
       "<IPython.core.display.HTML object>"
      ]
     },
     "metadata": {},
     "output_type": "display_data"
    },
    {
     "data": {
      "application/vnd.jupyter.widget-view+json": {
       "model_id": "c4042ac65ca04b849a55fdf89375a072",
       "version_major": 2,
       "version_minor": 0
      },
      "text/plain": [
       "VBox(children=(Label(value='Waiting for wandb.init()...\\r'), FloatProgress(value=0.011114622410968878, max=1.0…"
      ]
     },
     "metadata": {},
     "output_type": "display_data"
    },
    {
     "data": {
      "text/html": [
       "wandb version 0.19.4 is available!  To upgrade, please run:\n",
       " $ pip install wandb --upgrade"
      ],
      "text/plain": [
       "<IPython.core.display.HTML object>"
      ]
     },
     "metadata": {},
     "output_type": "display_data"
    },
    {
     "data": {
      "text/html": [
       "Tracking run with wandb version 0.16.1"
      ],
      "text/plain": [
       "<IPython.core.display.HTML object>"
      ]
     },
     "metadata": {},
     "output_type": "display_data"
    },
    {
     "data": {
      "text/html": [
       "Run data is saved locally in <code>/home/tatsuya/code/projects/kaggle/CryoET/experiments/exp070-recreate-baseline-renet34d-dstride/wandb/run-20250129_044324-hpe190kd</code>"
      ],
      "text/plain": [
       "<IPython.core.display.HTML object>"
      ]
     },
     "metadata": {},
     "output_type": "display_data"
    },
    {
     "data": {
      "text/html": [
       "Syncing run <strong><a href='https://wandb.ai/latent-walkers/czii2024/runs/hpe190kd' target=\"_blank\">exp070-recreate-baseline-renet34d-dstride_TS_69_2</a></strong> to <a href='https://wandb.ai/latent-walkers/czii2024' target=\"_blank\">Weights & Biases</a> (<a href='https://wandb.me/run' target=\"_blank\">docs</a>)<br/>"
      ],
      "text/plain": [
       "<IPython.core.display.HTML object>"
      ]
     },
     "metadata": {},
     "output_type": "display_data"
    },
    {
     "data": {
      "text/html": [
       " View project at <a href='https://wandb.ai/latent-walkers/czii2024' target=\"_blank\">https://wandb.ai/latent-walkers/czii2024</a>"
      ],
      "text/plain": [
       "<IPython.core.display.HTML object>"
      ]
     },
     "metadata": {},
     "output_type": "display_data"
    },
    {
     "data": {
      "text/html": [
       " View run at <a href='https://wandb.ai/latent-walkers/czii2024/runs/hpe190kd' target=\"_blank\">https://wandb.ai/latent-walkers/czii2024/runs/hpe190kd</a>"
      ],
      "text/plain": [
       "<IPython.core.display.HTML object>"
      ]
     },
     "metadata": {},
     "output_type": "display_data"
    },
    {
     "name": "stderr",
     "output_type": "stream",
     "text": [
      "100%|██████████| 752/752 [02:09<00:00,  5.79it/s] \n",
      "100%|██████████| 1/1 [00:02<00:00,  2.58s/it]\n",
      "Epoch 1/15 [Training]: 100%|██████████| 376/376 [03:38<00:00,  1.72it/s, loss=0.8562]\n",
      "Epoch 1/15 [Validation]: 100%|██████████| 1/1 [00:01<00:00,  1.03s/it, loss=0.8623]\n",
      "100%|██████████| 6/6 [03:27<00:00, 34.65s/it]\n"
     ]
    },
    {
     "name": "stdout",
     "output_type": "stream",
     "text": [
      "train-epoch-loss:0.8562 valid-beta4-score:0.1438\n"
     ]
    },
    {
     "name": "stderr",
     "output_type": "stream",
     "text": [
      "Epoch 2/15 [Training]: 100%|██████████| 376/376 [03:28<00:00,  1.80it/s, loss=0.7457]\n",
      "Epoch 2/15 [Validation]: 100%|██████████| 1/1 [00:00<00:00,  1.02it/s, loss=0.8525]\n",
      "100%|██████████| 6/6 [03:23<00:00, 33.85s/it]\n"
     ]
    },
    {
     "name": "stdout",
     "output_type": "stream",
     "text": [
      "train-epoch-loss:0.7457 valid-beta4-score:0.5384\n"
     ]
    },
    {
     "name": "stderr",
     "output_type": "stream",
     "text": [
      "Epoch 3/15 [Training]: 100%|██████████| 376/376 [03:37<00:00,  1.73it/s, loss=0.6962]\n",
      "Epoch 3/15 [Validation]: 100%|██████████| 1/1 [00:00<00:00,  1.03it/s, loss=0.6700]\n",
      "100%|██████████| 6/6 [03:25<00:00, 34.19s/it]\n"
     ]
    },
    {
     "name": "stdout",
     "output_type": "stream",
     "text": [
      "train-epoch-loss:0.6962 valid-beta4-score:0.6020\n"
     ]
    },
    {
     "name": "stderr",
     "output_type": "stream",
     "text": [
      "Epoch 4/15 [Training]: 100%|██████████| 376/376 [03:36<00:00,  1.74it/s, loss=0.6322]\n",
      "Epoch 4/15 [Validation]: 100%|██████████| 1/1 [00:00<00:00,  1.02it/s, loss=0.8586]\n",
      "100%|██████████| 6/6 [03:29<00:00, 34.89s/it]\n"
     ]
    },
    {
     "name": "stdout",
     "output_type": "stream",
     "text": [
      "train-epoch-loss:0.6322 valid-beta4-score:0.7466\n"
     ]
    },
    {
     "name": "stderr",
     "output_type": "stream",
     "text": [
      "Epoch 5/15 [Training]: 100%|██████████| 376/376 [03:27<00:00,  1.82it/s, loss=0.6149]\n",
      "Epoch 5/15 [Validation]: 100%|██████████| 1/1 [00:00<00:00,  1.00it/s, loss=0.6052]\n",
      "100%|██████████| 6/6 [03:32<00:00, 35.39s/it]\n"
     ]
    },
    {
     "name": "stdout",
     "output_type": "stream",
     "text": [
      "train-epoch-loss:0.6149 valid-beta4-score:0.7746\n"
     ]
    },
    {
     "name": "stderr",
     "output_type": "stream",
     "text": [
      "Epoch 6/15 [Training]: 100%|██████████| 376/376 [03:44<00:00,  1.68it/s, loss=0.5792]\n",
      "Epoch 6/15 [Validation]: 100%|██████████| 1/1 [00:00<00:00,  1.03it/s, loss=0.6125]\n",
      "100%|██████████| 6/6 [03:27<00:00, 34.64s/it]\n"
     ]
    },
    {
     "name": "stdout",
     "output_type": "stream",
     "text": [
      "train-epoch-loss:0.5792 valid-beta4-score:0.7989\n"
     ]
    },
    {
     "name": "stderr",
     "output_type": "stream",
     "text": [
      "Epoch 7/15 [Training]: 100%|██████████| 376/376 [03:30<00:00,  1.78it/s, loss=0.5751]\n",
      "Epoch 7/15 [Validation]: 100%|██████████| 1/1 [00:00<00:00,  1.02it/s, loss=0.7859]\n",
      "100%|██████████| 6/6 [03:30<00:00, 35.08s/it]\n"
     ]
    },
    {
     "name": "stdout",
     "output_type": "stream",
     "text": [
      "train-epoch-loss:0.5751 valid-beta4-score:0.8378\n"
     ]
    },
    {
     "name": "stderr",
     "output_type": "stream",
     "text": [
      "Epoch 8/15 [Training]: 100%|██████████| 376/376 [03:39<00:00,  1.71it/s, loss=0.5815]\n",
      "Epoch 8/15 [Validation]: 100%|██████████| 1/1 [00:00<00:00,  1.04it/s, loss=0.5795]\n",
      "100%|██████████| 6/6 [03:28<00:00, 34.82s/it]\n"
     ]
    },
    {
     "name": "stdout",
     "output_type": "stream",
     "text": [
      "train-epoch-loss:0.5815 valid-beta4-score:0.7925\n"
     ]
    },
    {
     "name": "stderr",
     "output_type": "stream",
     "text": [
      "Epoch 9/15 [Training]: 100%|██████████| 376/376 [03:40<00:00,  1.71it/s, loss=0.5671]\n",
      "Epoch 9/15 [Validation]: 100%|██████████| 1/1 [00:00<00:00,  1.03it/s, loss=0.8576]\n",
      "100%|██████████| 6/6 [03:27<00:00, 34.57s/it]\n"
     ]
    },
    {
     "name": "stdout",
     "output_type": "stream",
     "text": [
      "train-epoch-loss:0.5671 valid-beta4-score:0.8679\n"
     ]
    },
    {
     "name": "stderr",
     "output_type": "stream",
     "text": [
      "Epoch 10/15 [Training]: 100%|██████████| 376/376 [03:51<00:00,  1.62it/s, loss=0.5484]\n",
      "Epoch 10/15 [Validation]: 100%|██████████| 1/1 [00:00<00:00,  1.03it/s, loss=0.4279]\n",
      "100%|██████████| 6/6 [03:27<00:00, 34.65s/it]\n"
     ]
    },
    {
     "name": "stdout",
     "output_type": "stream",
     "text": [
      "train-epoch-loss:0.5484 valid-beta4-score:0.8515\n"
     ]
    },
    {
     "name": "stderr",
     "output_type": "stream",
     "text": [
      "Epoch 11/15 [Training]: 100%|██████████| 376/376 [03:38<00:00,  1.72it/s, loss=0.5528]\n",
      "Epoch 11/15 [Validation]: 100%|██████████| 1/1 [00:00<00:00,  1.01it/s, loss=0.4599]\n",
      "100%|██████████| 6/6 [03:27<00:00, 34.65s/it]\n"
     ]
    },
    {
     "name": "stdout",
     "output_type": "stream",
     "text": [
      "train-epoch-loss:0.5528 valid-beta4-score:0.8534\n"
     ]
    },
    {
     "name": "stderr",
     "output_type": "stream",
     "text": [
      "Epoch 12/15 [Training]: 100%|██████████| 376/376 [03:44<00:00,  1.67it/s, loss=0.5347]\n",
      "Epoch 12/15 [Validation]: 100%|██████████| 1/1 [00:00<00:00,  1.03it/s, loss=0.3893]\n",
      " 50%|█████     | 3/6 [01:43<01:43, 34.67s/it]wandb: ERROR Error while calling W&B API: context deadline exceeded (<Response [500]>)\n",
      "wandb: ERROR Error while calling W&B API: context deadline exceeded (<Response [500]>)\n",
      " 67%|██████▋   | 4/6 [02:18<01:09, 34.64s/it]wandb: Network error (ReadTimeout), entering retry loop.\n",
      "100%|██████████| 6/6 [03:27<00:00, 34.64s/it]\n"
     ]
    },
    {
     "name": "stdout",
     "output_type": "stream",
     "text": [
      "train-epoch-loss:0.5347 valid-beta4-score:0.8644\n"
     ]
    },
    {
     "name": "stderr",
     "output_type": "stream",
     "text": [
      "Epoch 13/15 [Training]: 100%|██████████| 376/376 [03:42<00:00,  1.69it/s, loss=0.5430]\n",
      "Epoch 13/15 [Validation]: 100%|██████████| 1/1 [00:00<00:00,  1.02it/s, loss=0.8574]\n",
      "100%|██████████| 6/6 [03:27<00:00, 34.50s/it]\n"
     ]
    },
    {
     "name": "stdout",
     "output_type": "stream",
     "text": [
      "train-epoch-loss:0.5430 valid-beta4-score:0.8526\n"
     ]
    },
    {
     "name": "stderr",
     "output_type": "stream",
     "text": [
      "Epoch 14/15 [Training]: 100%|██████████| 376/376 [03:26<00:00,  1.82it/s, loss=0.5532]\n",
      "Epoch 14/15 [Validation]: 100%|██████████| 1/1 [00:00<00:00,  1.01it/s, loss=0.8575]\n",
      "100%|██████████| 6/6 [03:28<00:00, 34.73s/it]\n"
     ]
    },
    {
     "name": "stdout",
     "output_type": "stream",
     "text": [
      "train-epoch-loss:0.5532 valid-beta4-score:0.8412\n"
     ]
    },
    {
     "name": "stderr",
     "output_type": "stream",
     "text": [
      "Epoch 15/15 [Training]: 100%|██████████| 376/376 [03:38<00:00,  1.72it/s, loss=0.5490]\n",
      "Epoch 15/15 [Validation]: 100%|██████████| 1/1 [00:00<00:00,  1.04it/s, loss=0.8408]\n",
      "100%|██████████| 6/6 [03:28<00:00, 34.80s/it]\n"
     ]
    },
    {
     "name": "stdout",
     "output_type": "stream",
     "text": [
      "train-epoch-loss:0.5490 valid-beta4-score:0.8468\n"
     ]
    },
    {
     "data": {
      "text/html": [
       "Finishing last run (ID:hpe190kd) before initializing another..."
      ],
      "text/plain": [
       "<IPython.core.display.HTML object>"
      ]
     },
     "metadata": {},
     "output_type": "display_data"
    },
    {
     "name": "stderr",
     "output_type": "stream",
     "text": [
      "wandb: WARNING Source type is set to 'repo' but some required information is missing from the environment. A job will not be created from this run. See https://docs.wandb.ai/guides/launch/create-job\n"
     ]
    },
    {
     "data": {
      "application/vnd.jupyter.widget-view+json": {
       "model_id": "166d4c69bc9d4f0894b1181ee09b4dcc",
       "version_major": 2,
       "version_minor": 0
      },
      "text/plain": [
       "VBox(children=(Label(value='0.004 MB of 0.004 MB uploaded\\r'), FloatProgress(value=1.0, max=1.0)))"
      ]
     },
     "metadata": {},
     "output_type": "display_data"
    },
    {
     "data": {
      "text/html": [
       "<style>\n",
       "    table.wandb td:nth-child(1) { padding: 0 10px; text-align: left ; width: auto;} td:nth-child(2) {text-align: left ; width: 100%}\n",
       "    .wandb-row { display: flex; flex-direction: row; flex-wrap: wrap; justify-content: flex-start; width: 100% }\n",
       "    .wandb-col { display: flex; flex-direction: column; flex-basis: 100%; flex: 1; padding: 10px; }\n",
       "    </style>\n",
       "<div class=\"wandb-row\"><div class=\"wandb-col\"><h3>Run history:</h3><br/><table class=\"wandb\"><tr><td>01_epoch</td><td>▁▁▂▃▃▃▄▅▅▅▆▇▇▇█</td></tr><tr><td>02_train_loss</td><td>█▆▅▃▃▂▂▂▂▁▁▁▁▁▁</td></tr><tr><td>03_valid_loss</td><td>██▅█▄▄▇▄█▂▂▁███</td></tr><tr><td>04_valid_best_score</td><td>▁▅▅▇▇▇█▇███████</td></tr><tr><td>apo-ferritin</td><td>█▃▇▇█▅▃▁▇█▄▃▇▇▇</td></tr><tr><td>apoo_ferritin_f4</td><td>▁▇███▇██████▇▇▇</td></tr><tr><td>apoo_ferritin_p</td><td>▁█▇▅▅▇▇▇█▇▆▆█▇▇</td></tr><tr><td>apoo_ferritin_r</td><td>▁▇███▇██▇███▇▇▇</td></tr><tr><td>beta-amylase</td><td>▁▁▁▁▁▁▁▁▁▁▁▁▁▁▁</td></tr><tr><td>beta-galactosidase</td><td>▁▁▄▅▇███▆▆▃▆▅▇▆</td></tr><tr><td>beta_amylase_f4</td><td>▁▁▄▅▄▇█▆█▇█▇▇▇▇</td></tr><tr><td>beta_amylase_p</td><td>▁▁▆▄▂▆▇▅█▆█▇▇▆▆</td></tr><tr><td>beta_amylase_r</td><td>▁▁▄▇█▇█▇██▇▇▇█▇</td></tr><tr><td>beta_galactosidase_f4</td><td>▁▄▃▆▆▆▇▆███████</td></tr><tr><td>beta_galactosidase_p</td><td>▁▂▅▆▄▆▆▄▆▆▆█▆▇▇</td></tr><tr><td>beta_galactosidase_r</td><td>▁█▃▆▇▆█▇███████</td></tr><tr><td>ribosome</td><td>▅█▇▂▇▆▄█▅█▄▄▄▁▁</td></tr><tr><td>ribosome_f4</td><td>▄▁█▄▇▇▅▇▆▇▆██▇▇</td></tr><tr><td>ribosome_p</td><td>▄▁▇▆█▆▃█▇█▅▇▇▆▅</td></tr><tr><td>ribosome_r</td><td>▄▅█▁▅▇▇▇▅▇▇████</td></tr><tr><td>thyroglobulin</td><td>▂▅▄▃▅▅▅█▇▃▆▅▆▅▁</td></tr><tr><td>thyroglobulin_f4</td><td>▁▇▇▇█████▇█▇█▇▇</td></tr><tr><td>thyroglobulin_p</td><td>▁▅▆▇▇▇▆▆▇▇▇█▇▇▅</td></tr><tr><td>thyroglobulin_r</td><td>▁▆▇▅▆████▆▆▄▆▅█</td></tr><tr><td>virus-like-particle</td><td>▁▁▂▅█▅█▅▄▆▅▅▅▇▇</td></tr><tr><td>virus_like_particle_f4</td><td>▁▁▃▆▇█▇████████</td></tr><tr><td>virus_like_particle_p</td><td>▁▁▂▂▃▇▄▇█████▇▇</td></tr><tr><td>virus_like_particle_r</td><td>▁▁▃████████████</td></tr></table><br/></div><div class=\"wandb-col\"><h3>Run summary:</h3><br/><table class=\"wandb\"><tr><td>01_epoch</td><td>14</td></tr><tr><td>02_train_loss</td><td>0.54903</td></tr><tr><td>03_valid_loss</td><td>0.84078</td></tr><tr><td>04_valid_best_score</td><td>0.84679</td></tr><tr><td>apo-ferritin</td><td>0.7</td></tr><tr><td>apoo_ferritin_f4</td><td>0.86252</td></tr><tr><td>apoo_ferritin_p</td><td>0.60784</td></tr><tr><td>apoo_ferritin_r</td><td>0.88571</td></tr><tr><td>beta-amylase</td><td>0.05</td></tr><tr><td>beta-galactosidase</td><td>0.55</td></tr><tr><td>beta_amylase_f4</td><td>0.45822</td></tr><tr><td>beta_amylase_p</td><td>0.05587</td></tr><tr><td>beta_amylase_r</td><td>0.83333</td></tr><tr><td>beta_galactosidase_f4</td><td>0.81928</td></tr><tr><td>beta_galactosidase_p</td><td>0.21053</td></tr><tr><td>beta_galactosidase_r</td><td>1.0</td></tr><tr><td>ribosome</td><td>0.2</td></tr><tr><td>ribosome_f4</td><td>0.92229</td></tr><tr><td>ribosome_p</td><td>0.41111</td></tr><tr><td>ribosome_r</td><td>1.0</td></tr><tr><td>thyroglobulin</td><td>0.05</td></tr><tr><td>thyroglobulin_f4</td><td>0.75853</td></tr><tr><td>thyroglobulin_p</td><td>0.15596</td></tr><tr><td>thyroglobulin_r</td><td>1.0</td></tr><tr><td>virus-like-particle</td><td>0.7</td></tr><tr><td>virus_like_particle_f4</td><td>0.9871</td></tr><tr><td>virus_like_particle_p</td><td>0.81818</td></tr><tr><td>virus_like_particle_r</td><td>1.0</td></tr></table><br/></div></div>"
      ],
      "text/plain": [
       "<IPython.core.display.HTML object>"
      ]
     },
     "metadata": {},
     "output_type": "display_data"
    },
    {
     "data": {
      "text/html": [
       " View run <strong style=\"color:#cdcd00\">exp070-recreate-baseline-renet34d-dstride_TS_69_2</strong> at: <a href='https://wandb.ai/latent-walkers/czii2024/runs/hpe190kd' target=\"_blank\">https://wandb.ai/latent-walkers/czii2024/runs/hpe190kd</a><br/>Synced 5 W&B file(s), 0 media file(s), 0 artifact file(s) and 0 other file(s)"
      ],
      "text/plain": [
       "<IPython.core.display.HTML object>"
      ]
     },
     "metadata": {},
     "output_type": "display_data"
    },
    {
     "data": {
      "text/html": [
       "Find logs at: <code>./wandb/run-20250129_044324-hpe190kd/logs</code>"
      ],
      "text/plain": [
       "<IPython.core.display.HTML object>"
      ]
     },
     "metadata": {},
     "output_type": "display_data"
    },
    {
     "data": {
      "text/html": [
       "Successfully finished last run (ID:hpe190kd). Initializing new run:<br/>"
      ],
      "text/plain": [
       "<IPython.core.display.HTML object>"
      ]
     },
     "metadata": {},
     "output_type": "display_data"
    },
    {
     "data": {
      "application/vnd.jupyter.widget-view+json": {
       "model_id": "de92611b05d54f48b6e352e7a5b9c25c",
       "version_major": 2,
       "version_minor": 0
      },
      "text/plain": [
       "VBox(children=(Label(value='Waiting for wandb.init()...\\r'), FloatProgress(value=0.011113963200154507, max=1.0…"
      ]
     },
     "metadata": {},
     "output_type": "display_data"
    },
    {
     "data": {
      "text/html": [
       "wandb version 0.19.4 is available!  To upgrade, please run:\n",
       " $ pip install wandb --upgrade"
      ],
      "text/plain": [
       "<IPython.core.display.HTML object>"
      ]
     },
     "metadata": {},
     "output_type": "display_data"
    },
    {
     "data": {
      "text/html": [
       "Tracking run with wandb version 0.16.1"
      ],
      "text/plain": [
       "<IPython.core.display.HTML object>"
      ]
     },
     "metadata": {},
     "output_type": "display_data"
    },
    {
     "data": {
      "text/html": [
       "Run data is saved locally in <code>/home/tatsuya/code/projects/kaggle/CryoET/experiments/exp070-recreate-baseline-renet34d-dstride/wandb/run-20250129_063800-kngoa720</code>"
      ],
      "text/plain": [
       "<IPython.core.display.HTML object>"
      ]
     },
     "metadata": {},
     "output_type": "display_data"
    },
    {
     "data": {
      "text/html": [
       "Syncing run <strong><a href='https://wandb.ai/latent-walkers/czii2024/runs/kngoa720' target=\"_blank\">exp070-recreate-baseline-renet34d-dstride_TS_86_3</a></strong> to <a href='https://wandb.ai/latent-walkers/czii2024' target=\"_blank\">Weights & Biases</a> (<a href='https://wandb.me/run' target=\"_blank\">docs</a>)<br/>"
      ],
      "text/plain": [
       "<IPython.core.display.HTML object>"
      ]
     },
     "metadata": {},
     "output_type": "display_data"
    },
    {
     "data": {
      "text/html": [
       " View project at <a href='https://wandb.ai/latent-walkers/czii2024' target=\"_blank\">https://wandb.ai/latent-walkers/czii2024</a>"
      ],
      "text/plain": [
       "<IPython.core.display.HTML object>"
      ]
     },
     "metadata": {},
     "output_type": "display_data"
    },
    {
     "data": {
      "text/html": [
       " View run at <a href='https://wandb.ai/latent-walkers/czii2024/runs/kngoa720' target=\"_blank\">https://wandb.ai/latent-walkers/czii2024/runs/kngoa720</a>"
      ],
      "text/plain": [
       "<IPython.core.display.HTML object>"
      ]
     },
     "metadata": {},
     "output_type": "display_data"
    },
    {
     "name": "stderr",
     "output_type": "stream",
     "text": [
      "100%|██████████| 752/752 [02:03<00:00,  6.09it/s] \n",
      "100%|██████████| 1/1 [00:15<00:00, 15.89s/it]\n",
      "Epoch 1/15 [Training]: 100%|██████████| 376/376 [03:30<00:00,  1.79it/s, loss=0.8423]\n",
      "Epoch 1/15 [Validation]: 100%|██████████| 1/1 [00:01<00:00,  1.02s/it, loss=0.8559]\n",
      "100%|██████████| 6/6 [03:30<00:00, 35.15s/it]\n"
     ]
    },
    {
     "name": "stdout",
     "output_type": "stream",
     "text": [
      "train-epoch-loss:0.8423 valid-beta4-score:0.3502\n"
     ]
    },
    {
     "name": "stderr",
     "output_type": "stream",
     "text": [
      "Epoch 2/15 [Training]: 100%|██████████| 376/376 [03:39<00:00,  1.71it/s, loss=0.7668]\n",
      "Epoch 2/15 [Validation]: 100%|██████████| 1/1 [00:00<00:00,  1.02it/s, loss=0.7005]\n",
      "100%|██████████| 6/6 [03:22<00:00, 33.70s/it]\n"
     ]
    },
    {
     "name": "stdout",
     "output_type": "stream",
     "text": [
      "train-epoch-loss:0.7668 valid-beta4-score:0.1787\n"
     ]
    },
    {
     "name": "stderr",
     "output_type": "stream",
     "text": [
      "Epoch 3/15 [Training]: 100%|██████████| 376/376 [03:33<00:00,  1.76it/s, loss=0.7280]\n",
      "Epoch 3/15 [Validation]: 100%|██████████| 1/1 [00:00<00:00,  1.01it/s, loss=0.8583]\n",
      "100%|██████████| 6/6 [03:27<00:00, 34.54s/it]\n"
     ]
    },
    {
     "name": "stdout",
     "output_type": "stream",
     "text": [
      "train-epoch-loss:0.7280 valid-beta4-score:0.5279\n"
     ]
    },
    {
     "name": "stderr",
     "output_type": "stream",
     "text": [
      "Epoch 4/15 [Training]: 100%|██████████| 376/376 [03:45<00:00,  1.67it/s, loss=0.6781]\n",
      "Epoch 4/15 [Validation]: 100%|██████████| 1/1 [00:01<00:00,  1.01s/it, loss=0.6853]\n",
      "100%|██████████| 6/6 [03:25<00:00, 34.25s/it]\n"
     ]
    },
    {
     "name": "stdout",
     "output_type": "stream",
     "text": [
      "train-epoch-loss:0.6781 valid-beta4-score:0.4756\n"
     ]
    },
    {
     "name": "stderr",
     "output_type": "stream",
     "text": [
      "Epoch 5/15 [Training]: 100%|██████████| 376/376 [03:35<00:00,  1.75it/s, loss=0.6646]\n",
      "Epoch 5/15 [Validation]: 100%|██████████| 1/1 [00:01<00:00,  1.01s/it, loss=0.6528]\n",
      "100%|██████████| 6/6 [03:27<00:00, 34.51s/it]\n"
     ]
    },
    {
     "name": "stdout",
     "output_type": "stream",
     "text": [
      "train-epoch-loss:0.6646 valid-beta4-score:0.5215\n"
     ]
    },
    {
     "name": "stderr",
     "output_type": "stream",
     "text": [
      "Epoch 6/15 [Training]: 100%|██████████| 376/376 [03:35<00:00,  1.75it/s, loss=0.6416]\n",
      "Epoch 6/15 [Validation]: 100%|██████████| 1/1 [00:01<00:00,  1.04s/it, loss=0.6270]\n",
      "100%|██████████| 6/6 [03:27<00:00, 34.62s/it]\n"
     ]
    },
    {
     "name": "stdout",
     "output_type": "stream",
     "text": [
      "train-epoch-loss:0.6416 valid-beta4-score:0.5479\n"
     ]
    },
    {
     "name": "stderr",
     "output_type": "stream",
     "text": [
      "Epoch 7/15 [Training]: 100%|██████████| 376/376 [11:30<00:00,  1.84s/it, loss=0.6355]  \n",
      "Epoch 7/15 [Validation]: 100%|██████████| 1/1 [00:01<00:00,  1.30s/it, loss=0.5562]\n",
      "100%|██████████| 6/6 [03:30<00:00, 35.04s/it]\n"
     ]
    },
    {
     "name": "stdout",
     "output_type": "stream",
     "text": [
      "train-epoch-loss:0.6355 valid-beta4-score:0.6220\n"
     ]
    },
    {
     "name": "stderr",
     "output_type": "stream",
     "text": [
      "Epoch 8/15 [Training]: 100%|██████████| 376/376 [03:29<00:00,  1.80it/s, loss=0.6293]\n",
      "Epoch 8/15 [Validation]: 100%|██████████| 1/1 [00:01<00:00,  1.03s/it, loss=0.8575]\n",
      "100%|██████████| 6/6 [03:30<00:00, 35.09s/it]\n"
     ]
    },
    {
     "name": "stdout",
     "output_type": "stream",
     "text": [
      "train-epoch-loss:0.6293 valid-beta4-score:0.5818\n"
     ]
    },
    {
     "name": "stderr",
     "output_type": "stream",
     "text": [
      "Epoch 9/15 [Training]: 100%|██████████| 376/376 [03:28<00:00,  1.80it/s, loss=0.6262]\n",
      "Epoch 9/15 [Validation]: 100%|██████████| 1/1 [00:01<00:00,  1.05s/it, loss=0.8574]\n",
      "100%|██████████| 6/6 [03:29<00:00, 34.91s/it]\n"
     ]
    },
    {
     "name": "stdout",
     "output_type": "stream",
     "text": [
      "train-epoch-loss:0.6262 valid-beta4-score:0.6225\n"
     ]
    },
    {
     "name": "stderr",
     "output_type": "stream",
     "text": [
      "Epoch 10/15 [Training]: 100%|██████████| 376/376 [03:35<00:00,  1.75it/s, loss=0.6234]\n",
      "Epoch 10/15 [Validation]: 100%|██████████| 1/1 [00:01<00:00,  1.17s/it, loss=0.5499]\n",
      "100%|██████████| 6/6 [03:29<00:00, 34.92s/it]\n"
     ]
    },
    {
     "name": "stdout",
     "output_type": "stream",
     "text": [
      "train-epoch-loss:0.6234 valid-beta4-score:0.6234\n"
     ]
    },
    {
     "name": "stderr",
     "output_type": "stream",
     "text": [
      "Epoch 11/15 [Training]: 100%|██████████| 376/376 [03:55<00:00,  1.59it/s, loss=0.6083]\n",
      "Epoch 11/15 [Validation]: 100%|██████████| 1/1 [00:01<00:00,  1.17s/it, loss=0.8382]\n",
      "100%|██████████| 6/6 [03:26<00:00, 34.34s/it]\n"
     ]
    },
    {
     "name": "stdout",
     "output_type": "stream",
     "text": [
      "train-epoch-loss:0.6083 valid-beta4-score:0.6149\n"
     ]
    },
    {
     "name": "stderr",
     "output_type": "stream",
     "text": [
      "Epoch 12/15 [Training]: 100%|██████████| 376/376 [03:28<00:00,  1.80it/s, loss=0.6064]\n",
      "Epoch 12/15 [Validation]: 100%|██████████| 1/1 [00:01<00:00,  1.05s/it, loss=0.8574]\n",
      "100%|██████████| 6/6 [03:29<00:00, 34.97s/it]\n"
     ]
    },
    {
     "name": "stdout",
     "output_type": "stream",
     "text": [
      "train-epoch-loss:0.6064 valid-beta4-score:0.6038\n"
     ]
    },
    {
     "name": "stderr",
     "output_type": "stream",
     "text": [
      "Epoch 13/15 [Training]: 100%|██████████| 376/376 [03:40<00:00,  1.70it/s, loss=0.6011]\n",
      "Epoch 13/15 [Validation]: 100%|██████████| 1/1 [00:01<00:00,  1.13s/it, loss=0.8152]\n",
      "100%|██████████| 6/6 [03:29<00:00, 34.97s/it]\n"
     ]
    },
    {
     "name": "stdout",
     "output_type": "stream",
     "text": [
      "train-epoch-loss:0.6011 valid-beta4-score:0.6124\n"
     ]
    },
    {
     "name": "stderr",
     "output_type": "stream",
     "text": [
      "Epoch 14/15 [Training]: 100%|██████████| 376/376 [03:42<00:00,  1.69it/s, loss=0.5952]\n",
      "Epoch 14/15 [Validation]: 100%|██████████| 1/1 [00:00<00:00,  1.04it/s, loss=0.8573]\n",
      "100%|██████████| 6/6 [03:32<00:00, 35.38s/it]\n"
     ]
    },
    {
     "name": "stdout",
     "output_type": "stream",
     "text": [
      "train-epoch-loss:0.5952 valid-beta4-score:0.6210\n"
     ]
    },
    {
     "name": "stderr",
     "output_type": "stream",
     "text": [
      "Epoch 15/15 [Training]: 100%|██████████| 376/376 [03:30<00:00,  1.79it/s, loss=0.5987]\n",
      "Epoch 15/15 [Validation]: 100%|██████████| 1/1 [00:01<00:00,  1.15s/it, loss=0.5831]\n",
      "100%|██████████| 6/6 [03:31<00:00, 35.26s/it]\n"
     ]
    },
    {
     "name": "stdout",
     "output_type": "stream",
     "text": [
      "train-epoch-loss:0.5987 valid-beta4-score:0.6222\n"
     ]
    },
    {
     "data": {
      "text/html": [
       "Finishing last run (ID:kngoa720) before initializing another..."
      ],
      "text/plain": [
       "<IPython.core.display.HTML object>"
      ]
     },
     "metadata": {},
     "output_type": "display_data"
    },
    {
     "name": "stderr",
     "output_type": "stream",
     "text": [
      "wandb: WARNING Source type is set to 'repo' but some required information is missing from the environment. A job will not be created from this run. See https://docs.wandb.ai/guides/launch/create-job\n"
     ]
    },
    {
     "data": {
      "application/vnd.jupyter.widget-view+json": {
       "model_id": "1774e286755f433e8b874b27af95cd3b",
       "version_major": 2,
       "version_minor": 0
      },
      "text/plain": [
       "VBox(children=(Label(value='0.004 MB of 0.004 MB uploaded\\r'), FloatProgress(value=1.0, max=1.0)))"
      ]
     },
     "metadata": {},
     "output_type": "display_data"
    },
    {
     "data": {
      "text/html": [
       "<style>\n",
       "    table.wandb td:nth-child(1) { padding: 0 10px; text-align: left ; width: auto;} td:nth-child(2) {text-align: left ; width: 100%}\n",
       "    .wandb-row { display: flex; flex-direction: row; flex-wrap: wrap; justify-content: flex-start; width: 100% }\n",
       "    .wandb-col { display: flex; flex-direction: column; flex-basis: 100%; flex: 1; padding: 10px; }\n",
       "    </style>\n",
       "<div class=\"wandb-row\"><div class=\"wandb-col\"><h3>Run history:</h3><br/><table class=\"wandb\"><tr><td>01_epoch</td><td>▁▁▂▃▃▃▄▅▅▅▆▇▇▇█</td></tr><tr><td>02_train_loss</td><td>█▆▅▃▃▂▂▂▂▂▁▁▁▁▁</td></tr><tr><td>03_valid_loss</td><td>█▄█▄▃▃▁██▁██▇█▂</td></tr><tr><td>04_valid_best_score</td><td>▄▁▆▆▆▇█▇███████</td></tr><tr><td>apo-ferritin</td><td>▂▁▇▅███▇▅▇██▇█▇</td></tr><tr><td>apoo_ferritin_f4</td><td>▁▅▇▇███▇▇▇█████</td></tr><tr><td>apoo_ferritin_p</td><td>▁█▇█▆▆▇▅▆▆▇▇▆▇▇</td></tr><tr><td>apoo_ferritin_r</td><td>▁▄▆▆███▇▇▇█████</td></tr><tr><td>beta-amylase</td><td>▁▁▁▁▁▁▁▁▁▁▁▁▁▁▁</td></tr><tr><td>beta-galactosidase</td><td>▁▁▃▁▄▄█▅█▅▇█▅▇▅</td></tr><tr><td>beta_amylase_f4</td><td>▂▁▄▅▅▇▆▆▅▆▇▅▇▆█</td></tr><tr><td>beta_amylase_p</td><td>▂▁▃▅▅█▆▅▅▆▇▄▆▅█</td></tr><tr><td>beta_amylase_r</td><td>▃▁█▅▆▇▇█▇██████</td></tr><tr><td>beta_galactosidase_f4</td><td>▄▁▅▃▄▆▇▇█▇█▇███</td></tr><tr><td>beta_galactosidase_p</td><td>▂▁▃▂▃▅█▅█▇█▆▇▇▇</td></tr><tr><td>beta_galactosidase_r</td><td>█▁▇▃▅▆▇████████</td></tr><tr><td>ribosome</td><td>▅▆▁▂▃█▆▇▅▇██▇▃▆</td></tr><tr><td>ribosome_f4</td><td>▂▂█▄▃▄▃▂▃▃▁▃▂▂▃</td></tr><tr><td>ribosome_p</td><td>▁▁█▄▇█▇▅▅▅▅▅▅▆▇</td></tr><tr><td>ribosome_r</td><td>▃▃█▅▃▄▃▂▃▄▁▃▂▂▃</td></tr><tr><td>thyroglobulin</td><td>▂▂▃█▇▁▆▆▂▅▄▅▇▅▅</td></tr><tr><td>thyroglobulin_f4</td><td>▄▁▇█▇▇█▇██▇█▇█▇</td></tr><tr><td>thyroglobulin_p</td><td>▂▁▅▆▅▆█▆▆▇▇▆█▇▇</td></tr><tr><td>thyroglobulin_r</td><td>█▁▇██▆████▇█▇█▇</td></tr><tr><td>virus-like-particle</td><td>▁▁▁▁▁▁▁▁▁▁▁▁▁▁▁</td></tr><tr><td>virus_like_particle_f4</td><td>█▁▁▁▁▁▁▁▁▁▁▁▁▁▁</td></tr><tr><td>virus_like_particle_p</td><td>█▁▁▁▁▁▁▁▁▁▁▁▁▁▁</td></tr><tr><td>virus_like_particle_r</td><td>█▁▁▁▁▁▁▁▁▁▁▁▁▁▁</td></tr></table><br/></div><div class=\"wandb-col\"><h3>Run summary:</h3><br/><table class=\"wandb\"><tr><td>01_epoch</td><td>14</td></tr><tr><td>02_train_loss</td><td>0.59866</td></tr><tr><td>03_valid_loss</td><td>0.58311</td></tr><tr><td>04_valid_best_score</td><td>0.62223</td></tr><tr><td>apo-ferritin</td><td>0.65</td></tr><tr><td>apoo_ferritin_f4</td><td>0.95471</td></tr><tr><td>apoo_ferritin_p</td><td>0.775</td></tr><tr><td>apoo_ferritin_r</td><td>0.96875</td></tr><tr><td>beta-amylase</td><td>0.05</td></tr><tr><td>beta-galactosidase</td><td>0.4</td></tr><tr><td>beta_amylase_f4</td><td>0.26269</td></tr><tr><td>beta_amylase_p</td><td>0.02265</td></tr><tr><td>beta_amylase_r</td><td>0.77778</td></tr><tr><td>beta_galactosidase_f4</td><td>0.63433</td></tr><tr><td>beta_galactosidase_p</td><td>0.11905</td></tr><tr><td>beta_galactosidase_r</td><td>0.86957</td></tr><tr><td>ribosome</td><td>0.65</td></tr><tr><td>ribosome_f4</td><td>0.69716</td></tr><tr><td>ribosome_p</td><td>0.5493</td></tr><tr><td>ribosome_r</td><td>0.70909</td></tr><tr><td>thyroglobulin</td><td>0.4</td></tr><tr><td>thyroglobulin_f4</td><td>0.71753</td></tr><tr><td>thyroglobulin_p</td><td>0.19118</td></tr><tr><td>thyroglobulin_r</td><td>0.86667</td></tr><tr><td>virus-like-particle</td><td>0.05</td></tr><tr><td>virus_like_particle_f4</td><td>0.0</td></tr><tr><td>virus_like_particle_p</td><td>0.0</td></tr><tr><td>virus_like_particle_r</td><td>0.0</td></tr></table><br/></div></div>"
      ],
      "text/plain": [
       "<IPython.core.display.HTML object>"
      ]
     },
     "metadata": {},
     "output_type": "display_data"
    },
    {
     "data": {
      "text/html": [
       " View run <strong style=\"color:#cdcd00\">exp070-recreate-baseline-renet34d-dstride_TS_86_3</strong> at: <a href='https://wandb.ai/latent-walkers/czii2024/runs/kngoa720' target=\"_blank\">https://wandb.ai/latent-walkers/czii2024/runs/kngoa720</a><br/>Synced 5 W&B file(s), 0 media file(s), 0 artifact file(s) and 0 other file(s)"
      ],
      "text/plain": [
       "<IPython.core.display.HTML object>"
      ]
     },
     "metadata": {},
     "output_type": "display_data"
    },
    {
     "data": {
      "text/html": [
       "Find logs at: <code>./wandb/run-20250129_063800-kngoa720/logs</code>"
      ],
      "text/plain": [
       "<IPython.core.display.HTML object>"
      ]
     },
     "metadata": {},
     "output_type": "display_data"
    },
    {
     "data": {
      "text/html": [
       "Successfully finished last run (ID:kngoa720). Initializing new run:<br/>"
      ],
      "text/plain": [
       "<IPython.core.display.HTML object>"
      ]
     },
     "metadata": {},
     "output_type": "display_data"
    },
    {
     "data": {
      "application/vnd.jupyter.widget-view+json": {
       "model_id": "8f1665b1d9b047c4b3039ac9d7c3d7cc",
       "version_major": 2,
       "version_minor": 0
      },
      "text/plain": [
       "VBox(children=(Label(value='Waiting for wandb.init()...\\r'), FloatProgress(value=0.011115459444247083, max=1.0…"
      ]
     },
     "metadata": {},
     "output_type": "display_data"
    },
    {
     "data": {
      "text/html": [
       "wandb version 0.19.4 is available!  To upgrade, please run:\n",
       " $ pip install wandb --upgrade"
      ],
      "text/plain": [
       "<IPython.core.display.HTML object>"
      ]
     },
     "metadata": {},
     "output_type": "display_data"
    },
    {
     "data": {
      "text/html": [
       "Tracking run with wandb version 0.16.1"
      ],
      "text/plain": [
       "<IPython.core.display.HTML object>"
      ]
     },
     "metadata": {},
     "output_type": "display_data"
    },
    {
     "data": {
      "text/html": [
       "Run data is saved locally in <code>/home/tatsuya/code/projects/kaggle/CryoET/experiments/exp070-recreate-baseline-renet34d-dstride/wandb/run-20250129_084034-h179s2r1</code>"
      ],
      "text/plain": [
       "<IPython.core.display.HTML object>"
      ]
     },
     "metadata": {},
     "output_type": "display_data"
    },
    {
     "data": {
      "text/html": [
       "Syncing run <strong><a href='https://wandb.ai/latent-walkers/czii2024/runs/h179s2r1' target=\"_blank\">exp070-recreate-baseline-renet34d-dstride_TS_6_6</a></strong> to <a href='https://wandb.ai/latent-walkers/czii2024' target=\"_blank\">Weights & Biases</a> (<a href='https://wandb.me/run' target=\"_blank\">docs</a>)<br/>"
      ],
      "text/plain": [
       "<IPython.core.display.HTML object>"
      ]
     },
     "metadata": {},
     "output_type": "display_data"
    },
    {
     "data": {
      "text/html": [
       " View project at <a href='https://wandb.ai/latent-walkers/czii2024' target=\"_blank\">https://wandb.ai/latent-walkers/czii2024</a>"
      ],
      "text/plain": [
       "<IPython.core.display.HTML object>"
      ]
     },
     "metadata": {},
     "output_type": "display_data"
    },
    {
     "data": {
      "text/html": [
       " View run at <a href='https://wandb.ai/latent-walkers/czii2024/runs/h179s2r1' target=\"_blank\">https://wandb.ai/latent-walkers/czii2024/runs/h179s2r1</a>"
      ],
      "text/plain": [
       "<IPython.core.display.HTML object>"
      ]
     },
     "metadata": {},
     "output_type": "display_data"
    },
    {
     "name": "stderr",
     "output_type": "stream",
     "text": [
      "100%|██████████| 752/752 [10:38<00:00,  1.18it/s]  \n",
      "100%|██████████| 1/1 [00:03<00:00,  3.07s/it]\n",
      "Epoch 1/15 [Training]: 100%|██████████| 376/376 [03:54<00:00,  1.60it/s, loss=0.8370]\n",
      "Epoch 1/15 [Validation]: 100%|██████████| 1/1 [00:01<00:00,  1.34s/it, loss=0.8538]\n",
      "100%|██████████| 6/6 [03:25<00:00, 34.19s/it]\n"
     ]
    },
    {
     "name": "stdout",
     "output_type": "stream",
     "text": [
      "train-epoch-loss:0.8370 valid-beta4-score:0.2077\n"
     ]
    },
    {
     "name": "stderr",
     "output_type": "stream",
     "text": [
      "Epoch 2/15 [Training]: 100%|██████████| 376/376 [03:45<00:00,  1.67it/s, loss=0.7503]\n",
      "Epoch 2/15 [Validation]: 100%|██████████| 1/1 [00:01<00:00,  1.32s/it, loss=0.7621]\n",
      "100%|██████████| 6/6 [03:19<00:00, 33.28s/it]\n"
     ]
    },
    {
     "name": "stdout",
     "output_type": "stream",
     "text": [
      "train-epoch-loss:0.7503 valid-beta4-score:0.2690\n"
     ]
    },
    {
     "name": "stderr",
     "output_type": "stream",
     "text": [
      "Epoch 3/15 [Training]: 100%|██████████| 376/376 [03:49<00:00,  1.64it/s, loss=0.7232]\n",
      "Epoch 3/15 [Validation]: 100%|██████████| 1/1 [00:01<00:00,  1.38s/it, loss=0.5751]\n",
      "100%|██████████| 6/6 [03:28<00:00, 34.76s/it]\n"
     ]
    },
    {
     "name": "stdout",
     "output_type": "stream",
     "text": [
      "train-epoch-loss:0.7232 valid-beta4-score:0.4778\n"
     ]
    },
    {
     "name": "stderr",
     "output_type": "stream",
     "text": [
      "Epoch 4/15 [Training]: 100%|██████████| 376/376 [03:47<00:00,  1.65it/s, loss=0.6586]\n",
      "Epoch 4/15 [Validation]: 100%|██████████| 1/1 [00:01<00:00,  1.41s/it, loss=0.8582]\n",
      "100%|██████████| 6/6 [03:34<00:00, 35.80s/it]\n"
     ]
    },
    {
     "name": "stdout",
     "output_type": "stream",
     "text": [
      "train-epoch-loss:0.6586 valid-beta4-score:0.5448\n"
     ]
    },
    {
     "name": "stderr",
     "output_type": "stream",
     "text": [
      "Epoch 5/15 [Training]: 100%|██████████| 376/376 [03:38<00:00,  1.72it/s, loss=0.6351]\n",
      "Epoch 5/15 [Validation]: 100%|██████████| 1/1 [00:01<00:00,  1.37s/it, loss=0.5114]\n",
      "100%|██████████| 6/6 [03:37<00:00, 36.20s/it]\n"
     ]
    },
    {
     "name": "stdout",
     "output_type": "stream",
     "text": [
      "train-epoch-loss:0.6351 valid-beta4-score:0.6047\n"
     ]
    },
    {
     "name": "stderr",
     "output_type": "stream",
     "text": [
      "Epoch 6/15 [Training]: 100%|██████████| 376/376 [03:34<00:00,  1.76it/s, loss=0.6140]\n",
      "Epoch 6/15 [Validation]: 100%|██████████| 1/1 [00:01<00:00,  1.39s/it, loss=0.6029]\n",
      "100%|██████████| 6/6 [03:34<00:00, 35.82s/it]\n"
     ]
    },
    {
     "name": "stdout",
     "output_type": "stream",
     "text": [
      "train-epoch-loss:0.6140 valid-beta4-score:0.6274\n"
     ]
    },
    {
     "name": "stderr",
     "output_type": "stream",
     "text": [
      "Epoch 7/15 [Training]: 100%|██████████| 376/376 [03:42<00:00,  1.69it/s, loss=0.5945]\n",
      "Epoch 7/15 [Validation]: 100%|██████████| 1/1 [00:01<00:00,  1.34s/it, loss=0.8485]\n",
      "100%|██████████| 6/6 [03:34<00:00, 35.78s/it]\n"
     ]
    },
    {
     "name": "stdout",
     "output_type": "stream",
     "text": [
      "train-epoch-loss:0.5945 valid-beta4-score:0.7085\n"
     ]
    },
    {
     "name": "stderr",
     "output_type": "stream",
     "text": [
      "Epoch 8/15 [Training]: 100%|██████████| 376/376 [03:55<00:00,  1.59it/s, loss=0.5707]\n",
      "Epoch 8/15 [Validation]: 100%|██████████| 1/1 [00:01<00:00,  1.42s/it, loss=0.5306]\n",
      "100%|██████████| 6/6 [03:34<00:00, 35.68s/it]\n"
     ]
    },
    {
     "name": "stdout",
     "output_type": "stream",
     "text": [
      "train-epoch-loss:0.5707 valid-beta4-score:0.6613\n"
     ]
    },
    {
     "name": "stderr",
     "output_type": "stream",
     "text": [
      "Epoch 9/15 [Training]: 100%|██████████| 376/376 [03:48<00:00,  1.65it/s, loss=0.5665]\n",
      "Epoch 9/15 [Validation]: 100%|██████████| 1/1 [00:01<00:00,  1.40s/it, loss=0.6988]\n",
      "100%|██████████| 6/6 [03:34<00:00, 35.77s/it]\n"
     ]
    },
    {
     "name": "stdout",
     "output_type": "stream",
     "text": [
      "train-epoch-loss:0.5665 valid-beta4-score:0.6892\n"
     ]
    },
    {
     "name": "stderr",
     "output_type": "stream",
     "text": [
      "Epoch 10/15 [Training]: 100%|██████████| 376/376 [03:53<00:00,  1.61it/s, loss=0.5607]\n",
      "Epoch 10/15 [Validation]: 100%|██████████| 1/1 [00:01<00:00,  1.34s/it, loss=0.5485]\n",
      "100%|██████████| 6/6 [03:34<00:00, 35.69s/it]\n"
     ]
    },
    {
     "name": "stdout",
     "output_type": "stream",
     "text": [
      "train-epoch-loss:0.5607 valid-beta4-score:0.7421\n"
     ]
    },
    {
     "name": "stderr",
     "output_type": "stream",
     "text": [
      "Epoch 11/15 [Training]: 100%|██████████| 376/376 [03:39<00:00,  1.71it/s, loss=0.5691]\n",
      "Epoch 11/15 [Validation]: 100%|██████████| 1/1 [00:01<00:00,  1.33s/it, loss=0.5541]\n",
      "100%|██████████| 6/6 [03:35<00:00, 35.84s/it]\n"
     ]
    },
    {
     "name": "stdout",
     "output_type": "stream",
     "text": [
      "train-epoch-loss:0.5691 valid-beta4-score:0.7003\n"
     ]
    },
    {
     "name": "stderr",
     "output_type": "stream",
     "text": [
      "Epoch 12/15 [Training]: 100%|██████████| 376/376 [03:45<00:00,  1.67it/s, loss=0.5617]\n",
      "Epoch 12/15 [Validation]: 100%|██████████| 1/1 [00:01<00:00,  1.33s/it, loss=0.5075]\n",
      "100%|██████████| 6/6 [03:33<00:00, 35.63s/it]\n"
     ]
    },
    {
     "name": "stdout",
     "output_type": "stream",
     "text": [
      "train-epoch-loss:0.5617 valid-beta4-score:0.7396\n"
     ]
    },
    {
     "name": "stderr",
     "output_type": "stream",
     "text": [
      "Epoch 13/15 [Training]: 100%|██████████| 376/376 [03:39<00:00,  1.71it/s, loss=0.5534]\n",
      "Epoch 13/15 [Validation]: 100%|██████████| 1/1 [00:01<00:00,  1.37s/it, loss=0.4803]\n",
      "100%|██████████| 6/6 [03:34<00:00, 35.71s/it]\n"
     ]
    },
    {
     "name": "stdout",
     "output_type": "stream",
     "text": [
      "train-epoch-loss:0.5534 valid-beta4-score:0.7403\n"
     ]
    },
    {
     "name": "stderr",
     "output_type": "stream",
     "text": [
      "Epoch 14/15 [Training]: 100%|██████████| 376/376 [03:47<00:00,  1.65it/s, loss=0.5518]\n",
      "Epoch 14/15 [Validation]: 100%|██████████| 1/1 [00:01<00:00,  1.38s/it, loss=0.6705]\n",
      "100%|██████████| 6/6 [03:34<00:00, 35.78s/it]\n"
     ]
    },
    {
     "name": "stdout",
     "output_type": "stream",
     "text": [
      "train-epoch-loss:0.5518 valid-beta4-score:0.7465\n"
     ]
    },
    {
     "name": "stderr",
     "output_type": "stream",
     "text": [
      "Epoch 15/15 [Training]: 100%|██████████| 376/376 [03:38<00:00,  1.72it/s, loss=0.5539]\n",
      "Epoch 15/15 [Validation]: 100%|██████████| 1/1 [00:01<00:00,  1.35s/it, loss=0.6347]\n",
      "100%|██████████| 6/6 [03:34<00:00, 35.70s/it]\n"
     ]
    },
    {
     "name": "stdout",
     "output_type": "stream",
     "text": [
      "train-epoch-loss:0.5539 valid-beta4-score:0.7327\n"
     ]
    }
   ],
   "source": [
    "for vaild_exp_name in [\"TS_73_6\", \"TS_99_9\", \"TS_6_4\", \"TS_69_2\", \"TS_86_3\", \"TS_6_6\"]:\n",
    "    wandb.init(\n",
    "        project=\"czii2024\", name=f\"{notebook_name}_{vaild_exp_name}\", config=param\n",
    "    )\n",
    "\n",
    "    vaild_exp_name = [vaild_exp_name]\n",
    "    train_exp_name = CFG.train_exp_names.copy()\n",
    "    train_exp_name.remove(vaild_exp_name[0])\n",
    "\n",
    "    # valid_exp_name[0]の名前でディレクトリを作成\n",
    "    os.makedirs(f\"./{vaild_exp_name[0]}\", exist_ok=True)\n",
    "\n",
    "    train_dataset = EziiDataset(\n",
    "        exp_names=train_exp_name,\n",
    "        base_dir=\"../../inputs/train/\",\n",
    "        particles_name=CFG.particles_name,\n",
    "        resolution=CFG.resolution,\n",
    "        zarr_type=CFG.train_zarr_types,\n",
    "        train=True,\n",
    "        augmentation=True,\n",
    "        slice=True,\n",
    "        pre_read=True,\n",
    "    )\n",
    "    valid_dataset = EziiDataset(\n",
    "        exp_names=vaild_exp_name,\n",
    "        base_dir=\"../../inputs/train/\",\n",
    "        particles_name=CFG.particles_name,\n",
    "        resolution=CFG.resolution,\n",
    "        zarr_type=CFG.valid_zarr_types,\n",
    "        augmentation=False,\n",
    "        train=True,\n",
    "        slice=True,\n",
    "        pre_read=True,\n",
    "    )\n",
    "\n",
    "    train_loader = DataLoader(\n",
    "        train_dataset,\n",
    "        batch_size=CFG.batch_size,\n",
    "        shuffle=True,\n",
    "        drop_last=True,\n",
    "        pin_memory=True,\n",
    "        num_workers=CFG.num_workers,\n",
    "    )\n",
    "\n",
    "    valid_loader = DataLoader(\n",
    "        valid_dataset,\n",
    "        batch_size=1,\n",
    "        shuffle=False,\n",
    "        pin_memory=True,\n",
    "        num_workers=CFG.num_workers,\n",
    "    )\n",
    "\n",
    "    encoder = timm.create_model(\n",
    "        model_name=CFG.model_name,\n",
    "        pretrained=True,\n",
    "        in_chans=3,\n",
    "        num_classes=0,\n",
    "        global_pool=\"\",\n",
    "        features_only=True,\n",
    "    )\n",
    "    model = Unet3D(encoder=encoder, num_domains=5).to(\"cuda\")\n",
    "\n",
    "    optimizer = torch.optim.Adam(\n",
    "        model.parameters(), lr=CFG.lr, weight_decay=CFG.weight_decay\n",
    "    )\n",
    "    criterion = DiceLoss()\n",
    "    scheduler = get_cosine_schedule_with_warmup(\n",
    "        optimizer,\n",
    "        num_warmup_steps=10,\n",
    "        num_training_steps=CFG.epochs * len(train_loader),\n",
    "        # * batch_size,\n",
    "    )\n",
    "    scaler = GradScaler()\n",
    "    seg_loss = SegmentationLoss(criterion)\n",
    "    padf = PadToSize(CFG.resolution)\n",
    "\n",
    "    best_model = None\n",
    "    best_constant = 0\n",
    "    best_score = -100\n",
    "    best_particle_score = {}\n",
    "\n",
    "    grand_train_loss = []\n",
    "    grand_valid_loss = []\n",
    "    grand_train_score = []\n",
    "    grand_valid_score = []\n",
    "\n",
    "    for epoch in range(CFG.epochs):\n",
    "        model.train()\n",
    "        train_loss = []\n",
    "        valid_loss = []\n",
    "        with tqdm(\n",
    "            train_loader, desc=f\"Epoch {epoch + 1}/{CFG.epochs} [Training]\"\n",
    "        ) as tq:\n",
    "            for data in tq:\n",
    "                normalized_tomogram = data[\"normalized_tomogram\"]\n",
    "                segmentation_map = data[\"segmentation_map\"]\n",
    "                zarr_embedding_idx = data[\"zarr_type_embedding_idx\"]\n",
    "\n",
    "                normalized_tomogram = padf(normalized_tomogram)\n",
    "                segmentation_map = padf(segmentation_map)\n",
    "\n",
    "                # データ拡張\n",
    "                normalized_tomogram, segmentation_map = augment_data(\n",
    "                    normalized_tomogram, segmentation_map, p=CFG.augmentation_prob\n",
    "                )\n",
    "                normalized_tomogram = normalized_tomogram.cuda()\n",
    "                segmentation_map = segmentation_map.long().cuda()\n",
    "                zarr_embedding_idx = zarr_embedding_idx.cuda()\n",
    "\n",
    "                optimizer.zero_grad()\n",
    "\n",
    "                with autocast():\n",
    "                    pred = model(\n",
    "                        preprocess_tensor(normalized_tomogram), zarr_embedding_idx\n",
    "                    )\n",
    "                    loss = seg_loss(pred, segmentation_map)\n",
    "                # loss.backward()\n",
    "                # optimizer.step()\n",
    "                scaler.scale(loss).backward()\n",
    "                scaler.step(optimizer)\n",
    "                scaler.update()\n",
    "                scheduler.step()\n",
    "                train_loss.append(loss.item())\n",
    "\n",
    "                # 確率予測\n",
    "                prob_pred = torch.softmax(pred, dim=1)\n",
    "                tq.set_postfix({\"loss\": f\"{np.mean(train_loss):.4f}\"})\n",
    "\n",
    "        del normalized_tomogram, segmentation_map, zarr_embedding_idx, pred, loss\n",
    "        gc.collect()\n",
    "        torch.cuda.empty_cache()\n",
    "\n",
    "        with tqdm(\n",
    "            valid_loader, desc=f\"Epoch {epoch + 1}/{CFG.epochs} [Validation]\"\n",
    "        ) as tq:\n",
    "            with torch.no_grad():\n",
    "                for data in tq:\n",
    "                    normalized_tomogram = data[\"normalized_tomogram\"].cuda()\n",
    "                    segmentation_map = data[\"segmentation_map\"].long().cuda()\n",
    "                    zarr_embedding_idx = data[\"zarr_type_embedding_idx\"].cuda()\n",
    "\n",
    "                    normalized_tomogram = padf(normalized_tomogram)\n",
    "                    segmentation_map = padf(segmentation_map)\n",
    "\n",
    "                    with autocast():\n",
    "                        pred = model(\n",
    "                            preprocess_tensor(normalized_tomogram), zarr_embedding_idx\n",
    "                        )\n",
    "                        loss = seg_loss(pred, segmentation_map)\n",
    "                    valid_loss.append(loss.item())\n",
    "\n",
    "                    # 確率予測\n",
    "                    prob_pred = torch.softmax(pred, dim=1)\n",
    "                    tq.set_postfix({\"loss\": f\"{np.mean(valid_loss):.4f}\"})\n",
    "\n",
    "        del normalized_tomogram, segmentation_map, zarr_embedding_idx, pred, loss\n",
    "        gc.collect()\n",
    "        torch.cuda.empty_cache()\n",
    "\n",
    "        # # ############### validation ################\n",
    "        train_nshuffle_original_tomogram = defaultdict(list)\n",
    "        train_nshuffle_pred_tomogram = defaultdict(list)\n",
    "        train_nshuffle_gt_tomogram = defaultdict(list)\n",
    "\n",
    "        valid_original_tomogram = defaultdict(list)\n",
    "        valid_pred_tomogram = defaultdict(list)\n",
    "        valid_gt_tomogram = defaultdict(list)\n",
    "\n",
    "        train_mean_scores = []\n",
    "        valid_mean_scores = []\n",
    "\n",
    "        # モデルの保存\n",
    "        make_dir_ = (\n",
    "            f\"../../../../../../../../mnt/d/kaggle-tmp-models/czii2024/{notebook_name}/\"\n",
    "        )\n",
    "        os.makedirs(make_dir_, exist_ok=True)\n",
    "        torch.save(model.state_dict(), make_dir_ + f\"model_{epoch}.pth\")\n",
    "\n",
    "        # ############### validation ################\n",
    "        train_nshuffle_original_tomogram = defaultdict(list)\n",
    "        train_nshuffle_pred_tomogram = defaultdict(list)\n",
    "        train_nshuffle_gt_tomogram = defaultdict(list)\n",
    "\n",
    "        valid_original_tomogram = defaultdict(list)\n",
    "        valid_pred_tomogram = defaultdict(list)\n",
    "        valid_gt_tomogram = defaultdict(list)\n",
    "\n",
    "        train_mean_scores = []\n",
    "        valid_mean_scores = []\n",
    "\n",
    "        train_inferenced_array = {}\n",
    "        train_pred_array = []\n",
    "        train_gt_array = []\n",
    "        valid_inferenced_array = {}\n",
    "        valid_gt_array = []\n",
    "\n",
    "        # for exp_name in tqdm(CFG.train_exp_names):\n",
    "        for exp_name in vaild_exp_name:  # 5つのデータで試す\n",
    "            # inferenced_array = inference(model, exp_name, train=False)\n",
    "            inferenced_array, n_tomogram, segmentation_map = inference(\n",
    "                model, exp_name, train=False\n",
    "            )\n",
    "            valid_inferenced_array[exp_name] = inferenced_array\n",
    "            base_dir = \"../../inputs/train/overlay/ExperimentRuns/\"\n",
    "            gt_df = create_gt_df(base_dir, [exp_name])\n",
    "            valid_gt_array.append(gt_df)\n",
    "\n",
    "        valid_gt_array = pd.concat(valid_gt_array)\n",
    "\n",
    "        b_constant = 0\n",
    "        b_score = -100\n",
    "        b_particle_score = {}\n",
    "\n",
    "        try:\n",
    "            best_thresholds, final_score = reduce_computation_sikii_search(\n",
    "                inferenced_array,\n",
    "                exp_name,\n",
    "                [\n",
    "                    0.05,\n",
    "                    0.1,\n",
    "                    0.15,\n",
    "                    0.2,\n",
    "                    0.25,\n",
    "                    0.3,\n",
    "                    0.35,\n",
    "                    0.4,\n",
    "                    0.45,\n",
    "                    0.5,\n",
    "                    0.55,\n",
    "                    0.6,\n",
    "                    0.65,\n",
    "                    0.7,\n",
    "                    0.75,\n",
    "                ],\n",
    "            )\n",
    "        except:\n",
    "            best_thresholds = [0.5] * 6\n",
    "            final_score = -50\n",
    "\n",
    "        b_score = final_score\n",
    "        b_particle_constant = {\n",
    "            \"apo-ferritin\": best_thresholds[0],\n",
    "            \"beta-amylase\": best_thresholds[1],\n",
    "            \"beta-galactosidase\": best_thresholds[2],\n",
    "            \"ribosome\": best_thresholds[3],\n",
    "            \"thyroglobulin\": best_thresholds[4],\n",
    "            \"virus-like-particle\": best_thresholds[5],\n",
    "        }\n",
    "\n",
    "        try:\n",
    "            valid_pred_array = []\n",
    "            for exp_name in [vaild_exp_name[0]]:\n",
    "                pred_df = inference2pos(\n",
    "                    pred_segmask=valid_inferenced_array[exp_name],\n",
    "                    exp_name=exp_name,\n",
    "                    sikii_dict=b_particle_constant,\n",
    "                )\n",
    "                valid_pred_array.append(pred_df)\n",
    "\n",
    "            valid_pred_array = pd.concat(valid_pred_array)\n",
    "\n",
    "            if len(valid_pred_array) != 0:\n",
    "                result_df, score_ = compute_lb(\n",
    "                    valid_pred_array,\n",
    "                    \"../../inputs/train/overlay/ExperimentRuns/\",\n",
    "                    vaild_exp_name,\n",
    "                )\n",
    "                particle_score = extract_particle_results(result_df)\n",
    "\n",
    "                b_score = score_\n",
    "                b_particle_score = particle_score\n",
    "        except:\n",
    "            b_score = -50\n",
    "            b_particle_score = {}\n",
    "\n",
    "        import gc\n",
    "        import torch.cuda as cuda\n",
    "\n",
    "        # del valid_pred_array, valid_gt_array\n",
    "        gc.collect()\n",
    "        cuda.empty_cache()\n",
    "\n",
    "        # print(\"constant\", b_constant, \"score\", b_score)\n",
    "\n",
    "        # wandb-log\n",
    "        train_info = {\n",
    "            \"01_epoch\": epoch,\n",
    "            \"02_train_loss\": np.mean(train_loss),\n",
    "            \"03_valid_loss\": np.mean(valid_loss),\n",
    "            # \"train_score\": np.mean(train_mean_scores),\n",
    "            \"04_valid_best_score\": b_score,\n",
    "        }\n",
    "        train_info = {**train_info, **b_particle_score}\n",
    "        train_info = {**train_info, **b_particle_constant}\n",
    "        wandb.log(train_info)\n",
    "\n",
    "        # score-update\n",
    "        if b_score > best_score:\n",
    "            best_score = b_score\n",
    "            # best_score = np.mean(valid_mean_scores)\n",
    "            best_model = model.state_dict()\n",
    "            torch.save(best_model, f\"./{vaild_exp_name[0]}/best_model.pth\")\n",
    "\n",
    "        print(\n",
    "            f\"train-epoch-loss:{np.mean(train_loss):.4f}\",\n",
    "            # f\"valid-epoch-loss:{np.mean(valid_loss):.4f}\",\n",
    "            # f\"train-beta4-score:{np.mean(train_mean_scores):.4f}\",\n",
    "            f\"valid-beta4-score:{b_score:.4f}\",\n",
    "        )\n",
    "\n",
    "        grand_train_loss.append(np.mean(train_loss))\n",
    "        # grand_valid_loss.append(np.mean(valid_loss))\n",
    "        # grand_train_score.append(np.mean(train_mean_scores))\n",
    "        grand_valid_score.append(b_score)\n",
    "\n",
    "    del model, optimizer, criterion, scheduler, scaler, seg_loss\n",
    "    gc.collect()\n",
    "    torch.cuda.empty_cache()"
   ]
  },
  {
   "cell_type": "code",
   "execution_count": 8,
   "metadata": {},
   "outputs": [
    {
     "data": {
      "image/png": "[encoded data removed]",
      "text/plain": [
       "<Figure size 640x480 with 1 Axes>"
      ]
     },
     "metadata": {},
     "output_type": "display_data"
    }
   ],
   "source": [
    "# train_lossとvalid_lossのプロット\n",
    "\n",
    "plt.plot(grand_train_loss, label=\"train_loss\")\n",
    "plt.plot(grand_valid_loss, label=\"valid_loss\")\n",
    "plt.legend()\n",
    "plt.show()"
   ]
  },
  {
   "cell_type": "code",
   "execution_count": 9,
   "metadata": {},
   "outputs": [
    {
     "data": {
      "image/png": "[encoded data removed]",
      "text/plain": [
       "<Figure size 640x480 with 1 Axes>"
      ]
     },
     "metadata": {},
     "output_type": "display_data"
    }
   ],
   "source": [
    "# train_scoreとvalid_scoreのプロット\n",
    "plt.plot(grand_train_score, label=\"train_score\")\n",
    "plt.plot(grand_valid_score, label=\"valid_score\")\n",
    "plt.legend()\n",
    "plt.show()"
   ]
  },
  {
   "cell_type": "code",
   "execution_count": 10,
   "metadata": {},
   "outputs": [
    {
     "data": {
      "text/plain": [
       "0.972475841367452"
      ]
     },
     "execution_count": 10,
     "metadata": {},
     "output_type": "execute_result"
    }
   ],
   "source": [
    "random.random()"
   ]
  },
  {
   "cell_type": "code",
   "execution_count": null,
   "metadata": {},
   "outputs": [],
   "source": []
  },
  {
   "cell_type": "code",
   "execution_count": null,
   "metadata": {},
   "outputs": [],
   "source": []
  }
 ],
 "metadata": {
  "kernelspec": {
   "display_name": "kaggle",
   "language": "python",
   "name": "python3"
  },
  "language_info": {
   "codemirror_mode": {
    "name": "ipython",
    "version": 3
   },
   "file_extension": ".py",
   "mimetype": "text/x-python",
   "name": "python",
   "nbconvert_exporter": "python",
   "pygments_lexer": "ipython3",
   "version": "3.9.16"
  }
 },
 "nbformat": 4,
 "nbformat_minor": 2
}
