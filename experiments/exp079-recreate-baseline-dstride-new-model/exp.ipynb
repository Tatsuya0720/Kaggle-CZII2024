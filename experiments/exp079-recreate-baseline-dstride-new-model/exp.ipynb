{
 "cells": [
  {
   "cell_type": "code",
   "execution_count": 1,
   "metadata": {},
   "outputs": [],
   "source": [
    "import os\n",
    "import zarr\n",
    "import timm\n",
    "import random\n",
    "import json\n",
    "import gc\n",
    "import warnings\n",
    "import numpy as np\n",
    "import pandas as pd\n",
    "import torch.nn as nn\n",
    "from pathlib import Path\n",
    "import matplotlib.pyplot as plt\n",
    "from torch.utils.data import DataLoader, Dataset\n",
    "from collections import defaultdict\n",
    "\n",
    "import sys\n",
    "import torch\n",
    "from torch.cuda.amp import autocast, GradScaler\n",
    "\n",
    "# import torchvision.transforms.functional as F\n",
    "import random\n",
    "\n",
    "warnings.filterwarnings(\"ignore\")\n",
    "sys.path.append(\"./src/\")\n",
    "\n",
    "from src.config import CFG\n",
    "from src.dataloader import (\n",
    "    read_zarr,\n",
    "    read_info_json,\n",
    "    scale_coordinates,\n",
    "    create_dataset,\n",
    "    create_segmentation_map,\n",
    "    EziiDataset,\n",
    "    drop_padding,\n",
    ")\n",
    "from src.network import Unet3D\n",
    "from src.utils import save_images, PadToSize\n",
    "from src.metric import (\n",
    "    score,\n",
    "    create_cls_pos,\n",
    "    create_cls_pos_sikii,\n",
    "    create_df,\n",
    "    SegmentationLoss,\n",
    "    DiceLoss,\n",
    ")\n",
    "from tqdm import tqdm\n",
    "from src.kaggle_notebook_metric import compute_lb, extract_particle_results\n",
    "from src.inference import inference, inference2pos, create_gt_df\n",
    "from metric import visualize_epoch_results\n",
    "\n",
    "import wandb\n",
    "from pathlib import Path\n",
    "\n",
    "notebook_name = os.path.join(Path().resolve()).split(\"/\")[-1]\n",
    "\n",
    "param = {\n",
    "    \"model\": CFG.model_name,\n",
    "    \"resolution\": CFG.resolution,\n",
    "    \"augmentation_prob\": CFG.augmentation_prob,\n",
    "    \"slice\": CFG.slice_,\n",
    "    \"epochs\": CFG.epochs,\n",
    "    \"lr\": CFG.lr,\n",
    "    \"batch_size\": CFG.batch_size,\n",
    "    \"weight_decay\": CFG.weight_decay,\n",
    "    \"num_workers\": CFG.num_workers,\n",
    "    \"augment_data_ratio\": CFG.augment_data_ratio,\n",
    "}"
   ]
  },
  {
   "cell_type": "code",
   "execution_count": 2,
   "metadata": {},
   "outputs": [],
   "source": [
    "from sklearn.metrics import *\n",
    "from scipy.optimize import minimize\n",
    "\n",
    "# sikii値とexp_namesを入れるとスコアを出力する関数\n",
    "\n",
    "\n",
    "def compute_score(sikii_list, inferenced_array, exp_name):\n",
    "    apo_ferritin = sikii_list[0]\n",
    "    beta_amylase = sikii_list[1]\n",
    "    beta_galactosidase = sikii_list[2]\n",
    "    ribosome = sikii_list[3]\n",
    "    thyroglobulin = sikii_list[4]\n",
    "    virus_like_particle = sikii_list[5]\n",
    "\n",
    "    sikii_dict = {\n",
    "        \"apo-ferritin\": apo_ferritin,\n",
    "        \"beta-amylase\": beta_amylase,\n",
    "        \"beta-galactosidase\": beta_galactosidase,\n",
    "        \"ribosome\": ribosome,\n",
    "        \"thyroglobulin\": thyroglobulin,\n",
    "        \"virus-like-particle\": virus_like_particle,\n",
    "    }\n",
    "\n",
    "    all_pred = []\n",
    "\n",
    "    pred_df = inference2pos(\n",
    "        pred_segmask=inferenced_array, exp_name=exp_name, sikii_dict=sikii_dict\n",
    "    )\n",
    "\n",
    "    all_pred.append(pred_df)\n",
    "\n",
    "    gc.collect()\n",
    "\n",
    "    pred_df = pd.concat(all_pred, axis=0).reset_index(drop=True)\n",
    "    pred_df = pred_df[pred_df[\"particle_type\"] != \"beta-amylase\"]\n",
    "    pred_df = pred_df.drop_duplicates(\n",
    "        subset=[\"experiment\", \"x\", \"y\", \"z\"], keep=\"first\"\n",
    "    ).reset_index(drop=True)\n",
    "    pred_df = pred_df.reset_index().rename(columns={\"index\": \"id\"})\n",
    "\n",
    "    gt_df = create_gt_df(\"../../inputs/train/overlay/ExperimentRuns/\", [exp_name])\n",
    "\n",
    "    result_df, lb_score = compute_lb(\n",
    "        pred_df, \"../../inputs/train/overlay/ExperimentRuns/\", [exp_name]\n",
    "    )\n",
    "\n",
    "    return lb_score\n",
    "\n",
    "\n",
    "def reduce_computation_sikii_search(\n",
    "    inferenced_array: np.ndarray, exp_name: str, threshold_candidates: list[float]\n",
    ") -> tuple[list[float], float]:\n",
    "    \"\"\"\n",
    "    # How\n",
    "    6つのしきい値が互いに独立してスコアに貢献しているという前提で、\n",
    "    1次元ずつ最適なしきい値を探す手法を実装する.\n",
    "\n",
    "    1. 初期の best_thresholds (全要素 0.5 など適当な値) を用意\n",
    "    2. i=0 から i=5 まで順番に:\n",
    "       - threshold_candidates をすべて試し、他は固定したまま i 番目だけ変化させてスコアを計算\n",
    "       - 最良スコアが得られる候補値を確定し、best_thresholds[i] とする\n",
    "    3. 全部決まったら最終的なスコアを計算して返す\n",
    "\n",
    "    これにより、全組み合わせ (product) を回すよりも計算量が大幅に減少する.\n",
    "    \"\"\"\n",
    "    # Why not: 6値独立であるという前提が満たされていない場合、近似解になる可能性あり\n",
    "    best_thresholds = [0.5] * 6  # 適当な初期値でOK\n",
    "\n",
    "    for i in tqdm(range(6)):\n",
    "        best_local_score = -float(\"inf\")\n",
    "        best_local_value = None\n",
    "\n",
    "        for candidate in threshold_candidates:\n",
    "            current_thresholds = best_thresholds[:]  # 現在のベストを複製\n",
    "            current_thresholds[i] = candidate\n",
    "            score = compute_score(current_thresholds, inferenced_array, exp_name)\n",
    "            if score > best_local_score:\n",
    "                best_local_score = score\n",
    "                best_local_value = candidate\n",
    "\n",
    "        # i番目のしきい値を最適値に更新\n",
    "        best_thresholds[i] = best_local_value\n",
    "\n",
    "    final_score = compute_score(best_thresholds, inferenced_array, exp_name)\n",
    "    return best_thresholds, final_score"
   ]
  },
  {
   "cell_type": "code",
   "execution_count": 3,
   "metadata": {},
   "outputs": [
    {
     "name": "stdout",
     "output_type": "stream",
     "text": [
      "Original shape: torch.Size([6, 16, 320, 320])\n",
      "Augmented shape: torch.Size([6, 16, 320, 320])\n"
     ]
    }
   ],
   "source": [
    "import torch\n",
    "import random\n",
    "import torchvision.transforms.functional as TF\n",
    "\n",
    "\n",
    "# 回転\n",
    "# 3Dテンソルの各軸に対して指定した角度で回転する関数\n",
    "def rotate_3d(tomogram, segmentation_map, angle):\n",
    "    \"\"\"Rotates the 3D tensors tomogram and segmentation_map around the Z-axis.\"\"\"\n",
    "    rotated_tomogram = TF.rotate(tomogram, angle, expand=False)\n",
    "    rotated_segmentation_map = TF.rotate(segmentation_map, angle, expand=False)\n",
    "    return rotated_tomogram, rotated_segmentation_map\n",
    "\n",
    "\n",
    "# 平行移動\n",
    "# 指定された範囲でランダムに平行移動\n",
    "def translate_3d(tomogram, segmentation_map, max_shift):\n",
    "    \"\"\"Translates the 3D tensors by a random shift within max_shift.\"\"\"\n",
    "    shift_x = random.randint(-max_shift, max_shift)\n",
    "    shift_y = random.randint(-max_shift, max_shift)\n",
    "    translated_tomogram = TF.affine(\n",
    "        tomogram, angle=0, translate=(shift_x, shift_y), scale=1, shear=0\n",
    "    )\n",
    "    translated_segmentation_map = TF.affine(\n",
    "        segmentation_map, angle=0, translate=(shift_x, shift_y), scale=1, shear=0\n",
    "    )\n",
    "    return translated_tomogram, translated_segmentation_map\n",
    "\n",
    "\n",
    "# フリップ\n",
    "# 縦横（上下左右）ランダムフリップ\n",
    "def flip_3d(tomogram, segmentation_map):\n",
    "    \"\"\"Randomly flips the 3D tensors along height or width.\"\"\"\n",
    "    if random.random() > 0.5:  # Horizontal flip\n",
    "        tomogram = torch.flip(tomogram, dims=[-1])\n",
    "        segmentation_map = torch.flip(segmentation_map, dims=[-1])\n",
    "    if random.random() > 0.5:  # Vertical flip\n",
    "        tomogram = torch.flip(tomogram, dims=[-2])\n",
    "        segmentation_map = torch.flip(segmentation_map, dims=[-2])\n",
    "    return tomogram, segmentation_map\n",
    "\n",
    "\n",
    "# クロッピング\n",
    "# 入力テンソルを中心またはランダムクロップで切り取る\n",
    "def crop_3d(tomogram, segmentation_map, crop_size):\n",
    "    \"\"\"Crops the 3D tensors to the specified crop_size.\"\"\"\n",
    "    _, depth, height, width = tomogram.size()\n",
    "    crop_d, crop_h, crop_w = crop_size\n",
    "\n",
    "    if crop_h > height or crop_w > width:\n",
    "        raise ValueError(\"Crop size cannot be larger than the original size.\")\n",
    "\n",
    "    start_h = random.randint(0, height - crop_h)  # Random starting position for height\n",
    "    start_w = random.randint(0, width - crop_w)  # Random starting position for width\n",
    "\n",
    "    cropped_tomogram = tomogram[\n",
    "        :, :, start_h : start_h + crop_h, start_w : start_w + crop_w\n",
    "    ]\n",
    "    cropped_segmentation_map = segmentation_map[\n",
    "        :, :, start_h : start_h + crop_h, start_w : start_w + crop_w\n",
    "    ]\n",
    "\n",
    "    return cropped_tomogram, cropped_segmentation_map\n",
    "\n",
    "\n",
    "# Mixup\n",
    "# 2つのサンプルを線形補間して混合\n",
    "def mixup(tomogram, segmentation_map, alpha=0.4):\n",
    "    \"\"\"Applies mixup augmentation to the batch.\"\"\"\n",
    "    lam = random.betavariate(alpha, alpha)\n",
    "    batch_size = tomogram.size(0)\n",
    "    index = torch.randperm(batch_size)\n",
    "\n",
    "    mixed_tomogram = lam * tomogram + (1 - lam) * tomogram[index, :]\n",
    "    mixed_segmentation_map = (\n",
    "        lam * segmentation_map + (1 - lam) * segmentation_map[index, :]\n",
    "    )\n",
    "\n",
    "    return mixed_tomogram, mixed_segmentation_map\n",
    "\n",
    "\n",
    "# Cutmix\n",
    "# ランダム領域を切り取って別のサンプルに貼り付け\n",
    "def cutmix(tomogram, segmentation_map, alpha=1.0):\n",
    "    \"\"\"Applies cutmix augmentation to the batch.\"\"\"\n",
    "    lam = random.betavariate(alpha, alpha)\n",
    "    batch_size, depth, height, width = tomogram.size()\n",
    "    index = torch.randperm(batch_size)\n",
    "\n",
    "    cx = random.randint(0, width)\n",
    "    cy = random.randint(0, height)\n",
    "    cw = int(width * (1 - lam))\n",
    "    ch = int(height * (1 - lam))\n",
    "\n",
    "    x1 = max(cx - cw // 2, 0)\n",
    "    x2 = min(cx + cw // 2, width)\n",
    "    y1 = max(cy - ch // 2, 0)\n",
    "    y2 = min(cy + ch // 2, height)\n",
    "\n",
    "    tomogram[:, :, y1:y2, x1:x2] = tomogram[index, :, y1:y2, x1:x2]\n",
    "    segmentation_map[:, :, y1:y2, x1:x2] = segmentation_map[index, :, y1:y2, x1:x2]\n",
    "\n",
    "    return tomogram, segmentation_map\n",
    "\n",
    "\n",
    "# データ拡張の組み合わせ適用\n",
    "def augment_data(\n",
    "    tomogram,\n",
    "    segmentation_map,\n",
    "    crop_size=(16, 256, 256),\n",
    "    max_shift=10,\n",
    "    rotation_angle=30,\n",
    "    p=0.5,\n",
    "    mixup_alpha=0.4,\n",
    "    cutmix_alpha=1.0,\n",
    "):\n",
    "    \"\"\"Applies a combination of rotation, translation, flipping, cropping, mixup, and cutmix to the inputs with probabilities.\"\"\"\n",
    "    if random.random() < p:\n",
    "        tomogram, segmentation_map = rotate_3d(\n",
    "            tomogram,\n",
    "            segmentation_map,\n",
    "            angle=random.uniform(-rotation_angle, rotation_angle),\n",
    "        )\n",
    "    if random.random() < p:\n",
    "        tomogram, segmentation_map = translate_3d(\n",
    "            tomogram, segmentation_map, max_shift=max_shift\n",
    "        )\n",
    "    if random.random() < p:\n",
    "        tomogram, segmentation_map = flip_3d(tomogram, segmentation_map)\n",
    "    if random.random() < p:\n",
    "        tomogram, segmentation_map = crop_3d(\n",
    "            tomogram, segmentation_map, crop_size=crop_size\n",
    "        )\n",
    "    # if random.random() < p:\n",
    "    #     tomogram, segmentation_map = mixup(\n",
    "    #         tomogram, segmentation_map, alpha=mixup_alpha\n",
    "    #     )\n",
    "    # if random.random() < p:\n",
    "    #     tomogram, segmentation_map = cutmix(\n",
    "    #         tomogram, segmentation_map, alpha=cutmix_alpha\n",
    "    #     )\n",
    "    return tomogram, segmentation_map\n",
    "\n",
    "\n",
    "# 使用例\n",
    "# バッチサイズ6, 深さ16, 高さ320, 幅320のランダムテンソル\n",
    "tomogram = torch.rand((6, 16, 320, 320))\n",
    "segmentation_map = torch.randint(0, 2, (6, 16, 320, 320))  # ラベルは0または1\n",
    "\n",
    "# データ拡張の適用\n",
    "aug_tomogram, aug_segmentation_map = augment_data(tomogram, segmentation_map, p=0.7)\n",
    "print(\"Original shape:\", tomogram.shape)\n",
    "print(\"Augmented shape:\", aug_tomogram.shape)"
   ]
  },
  {
   "cell_type": "code",
   "execution_count": 4,
   "metadata": {},
   "outputs": [],
   "source": [
    "from transformers import get_cosine_schedule_with_warmup"
   ]
  },
  {
   "cell_type": "code",
   "execution_count": 5,
   "metadata": {},
   "outputs": [],
   "source": [
    "# b, c, d, h, w = CFG.batch_size, 1, 96, 320, 320"
   ]
  },
  {
   "cell_type": "code",
   "execution_count": 6,
   "metadata": {},
   "outputs": [],
   "source": [
    "def preprocess_tensor(tensor):\n",
    "    batch_size, depth, height, width = tensor.shape\n",
    "    tensor = tensor.unsqueeze(2)  # (b, d, h, w) -> (b, d, 1, h, w)\n",
    "    return tensor\n",
    "\n",
    "\n",
    "padf = PadToSize(CFG.resolution)"
   ]
  },
  {
   "cell_type": "code",
   "execution_count": null,
   "metadata": {},
   "outputs": [
    {
     "name": "stderr",
     "output_type": "stream",
     "text": [
      "Failed to detect the name of this notebook, you can set it manually with the WANDB_NOTEBOOK_NAME environment variable to enable code saving.\n",
      "\u001b[34m\u001b[1mwandb\u001b[0m: Currently logged in as: \u001b[33mtatuya\u001b[0m (\u001b[33mlatent-walkers\u001b[0m). Use \u001b[1m`wandb login --relogin`\u001b[0m to force relogin\n"
     ]
    },
    {
     "data": {
      "application/vnd.jupyter.widget-view+json": {
       "model_id": "1215ccf73f614fa98e8e50f282afff72",
       "version_major": 2,
       "version_minor": 0
      },
      "text/plain": [
       "VBox(children=(Label(value='Waiting for wandb.init()...\\r'), FloatProgress(value=0.011114503633305302, max=1.0…"
      ]
     },
     "metadata": {},
     "output_type": "display_data"
    },
    {
     "data": {
      "text/html": [
       "wandb version 0.19.5 is available!  To upgrade, please run:\n",
       " $ pip install wandb --upgrade"
      ],
      "text/plain": [
       "<IPython.core.display.HTML object>"
      ]
     },
     "metadata": {},
     "output_type": "display_data"
    },
    {
     "data": {
      "text/html": [
       "Tracking run with wandb version 0.16.1"
      ],
      "text/plain": [
       "<IPython.core.display.HTML object>"
      ]
     },
     "metadata": {},
     "output_type": "display_data"
    },
    {
     "data": {
      "text/html": [
       "Run data is saved locally in <code>/home/tatsuya/code/projects/kaggle/CryoET/experiments/exp079-recreate-baseline-dstride-new-model/wandb/run-20250202_001755-ix5q181y</code>"
      ],
      "text/plain": [
       "<IPython.core.display.HTML object>"
      ]
     },
     "metadata": {},
     "output_type": "display_data"
    },
    {
     "data": {
      "text/html": [
       "Syncing run <strong><a href='https://wandb.ai/latent-walkers/czii2024/runs/ix5q181y' target=\"_blank\">exp079-recreate-baseline-dstride-new-model_TS_73_6</a></strong> to <a href='https://wandb.ai/latent-walkers/czii2024' target=\"_blank\">Weights & Biases</a> (<a href='https://wandb.me/run' target=\"_blank\">docs</a>)<br/>"
      ],
      "text/plain": [
       "<IPython.core.display.HTML object>"
      ]
     },
     "metadata": {},
     "output_type": "display_data"
    },
    {
     "data": {
      "text/html": [
       " View project at <a href='https://wandb.ai/latent-walkers/czii2024' target=\"_blank\">https://wandb.ai/latent-walkers/czii2024</a>"
      ],
      "text/plain": [
       "<IPython.core.display.HTML object>"
      ]
     },
     "metadata": {},
     "output_type": "display_data"
    },
    {
     "data": {
      "text/html": [
       " View run at <a href='https://wandb.ai/latent-walkers/czii2024/runs/ix5q181y' target=\"_blank\">https://wandb.ai/latent-walkers/czii2024/runs/ix5q181y</a>"
      ],
      "text/plain": [
       "<IPython.core.display.HTML object>"
      ]
     },
     "metadata": {},
     "output_type": "display_data"
    },
    {
     "name": "stderr",
     "output_type": "stream",
     "text": [
      "100%|██████████| 752/752 [01:30<00:00,  8.35it/s]\n",
      "100%|██████████| 1/1 [00:01<00:00,  1.58s/it]\n",
      "Epoch 1/15 [Training]: 100%|██████████| 752/752 [05:30<00:00,  2.28it/s, loss=0.8184]\n",
      "Epoch 1/15 [Validation]: 100%|██████████| 1/1 [00:01<00:00,  1.04s/it, loss=0.7802]\n",
      "100%|██████████| 6/6 [03:41<00:00, 36.88s/it]\n"
     ]
    },
    {
     "name": "stdout",
     "output_type": "stream",
     "text": [
      "train-epoch-loss:0.8184 valid-beta4-score:0.2429\n"
     ]
    },
    {
     "name": "stderr",
     "output_type": "stream",
     "text": [
      "Epoch 2/15 [Training]: 100%|██████████| 752/752 [05:28<00:00,  2.29it/s, loss=0.7158]\n",
      "Epoch 2/15 [Validation]: 100%|██████████| 1/1 [00:00<00:00,  1.10it/s, loss=0.8585]\n",
      "100%|██████████| 6/6 [03:54<00:00, 39.11s/it]\n"
     ]
    },
    {
     "name": "stdout",
     "output_type": "stream",
     "text": [
      "train-epoch-loss:0.7158 valid-beta4-score:0.2041\n"
     ]
    },
    {
     "name": "stderr",
     "output_type": "stream",
     "text": [
      "Epoch 3/15 [Training]: 100%|██████████| 752/752 [05:32<00:00,  2.26it/s, loss=0.6413]\n",
      "Epoch 3/15 [Validation]: 100%|██████████| 1/1 [00:00<00:00,  1.08it/s, loss=0.8578]\n",
      "100%|██████████| 6/6 [03:40<00:00, 36.82s/it]\n"
     ]
    },
    {
     "name": "stdout",
     "output_type": "stream",
     "text": [
      "train-epoch-loss:0.6413 valid-beta4-score:0.3302\n"
     ]
    },
    {
     "name": "stderr",
     "output_type": "stream",
     "text": [
      "Epoch 4/15 [Training]: 100%|██████████| 752/752 [05:13<00:00,  2.40it/s, loss=0.6083]\n",
      "Epoch 4/15 [Validation]: 100%|██████████| 1/1 [00:00<00:00,  1.06it/s, loss=0.5988]\n",
      "100%|██████████| 6/6 [03:55<00:00, 39.27s/it]\n"
     ]
    },
    {
     "name": "stdout",
     "output_type": "stream",
     "text": [
      "train-epoch-loss:0.6083 valid-beta4-score:0.2454\n"
     ]
    },
    {
     "name": "stderr",
     "output_type": "stream",
     "text": [
      "Epoch 5/15 [Training]: 100%|██████████| 752/752 [05:24<00:00,  2.32it/s, loss=0.5817]\n",
      "Epoch 5/15 [Validation]: 100%|██████████| 1/1 [00:00<00:00,  1.10it/s, loss=0.4301]\n",
      " 67%|██████▋   | 4/6 [02:25<01:12, 36.16s/it]wandb: ERROR Error while calling W&B API: context deadline exceeded (<Response [500]>)\n",
      "100%|██████████| 6/6 [03:37<00:00, 36.21s/it]\n"
     ]
    },
    {
     "name": "stdout",
     "output_type": "stream",
     "text": [
      "train-epoch-loss:0.5817 valid-beta4-score:0.3829\n"
     ]
    },
    {
     "name": "stderr",
     "output_type": "stream",
     "text": [
      "Epoch 6/15 [Training]: 100%|██████████| 752/752 [05:17<00:00,  2.37it/s, loss=0.5732]\n",
      "Epoch 6/15 [Validation]: 100%|██████████| 1/1 [00:00<00:00,  1.08it/s, loss=0.4388]\n",
      "100%|██████████| 6/6 [03:42<00:00, 37.15s/it]\n"
     ]
    },
    {
     "name": "stdout",
     "output_type": "stream",
     "text": [
      "train-epoch-loss:0.5732 valid-beta4-score:0.3565\n"
     ]
    },
    {
     "name": "stderr",
     "output_type": "stream",
     "text": [
      "Epoch 7/15 [Training]:  32%|███▏      | 241/752 [01:40<04:34,  1.86it/s, loss=0.5833]wandb: ERROR Error while calling W&B API: context deadline exceeded (<Response [500]>)\n",
      "Epoch 7/15 [Training]: 100%|██████████| 752/752 [05:17<00:00,  2.37it/s, loss=0.5634]\n",
      "Epoch 7/15 [Validation]: 100%|██████████| 1/1 [00:00<00:00,  1.05it/s, loss=0.6806]\n",
      "100%|██████████| 6/6 [03:39<00:00, 36.59s/it]\n"
     ]
    },
    {
     "name": "stdout",
     "output_type": "stream",
     "text": [
      "train-epoch-loss:0.5634 valid-beta4-score:0.4236\n"
     ]
    },
    {
     "name": "stderr",
     "output_type": "stream",
     "text": [
      "Epoch 8/15 [Training]: 100%|██████████| 752/752 [05:16<00:00,  2.37it/s, loss=0.5568]\n",
      "Epoch 8/15 [Validation]: 100%|██████████| 1/1 [00:00<00:00,  1.06it/s, loss=0.4717]\n",
      "100%|██████████| 6/6 [03:44<00:00, 37.36s/it]\n"
     ]
    },
    {
     "name": "stdout",
     "output_type": "stream",
     "text": [
      "train-epoch-loss:0.5568 valid-beta4-score:0.2704\n"
     ]
    },
    {
     "name": "stderr",
     "output_type": "stream",
     "text": [
      "Epoch 9/15 [Training]: 100%|██████████| 752/752 [05:35<00:00,  2.24it/s, loss=0.5381]\n",
      "Epoch 9/15 [Validation]: 100%|██████████| 1/1 [00:00<00:00,  1.06it/s, loss=0.4889]\n",
      "100%|██████████| 6/6 [03:40<00:00, 36.80s/it]\n"
     ]
    },
    {
     "name": "stdout",
     "output_type": "stream",
     "text": [
      "train-epoch-loss:0.5381 valid-beta4-score:0.4944\n"
     ]
    },
    {
     "name": "stderr",
     "output_type": "stream",
     "text": [
      "Epoch 10/15 [Training]: 100%|██████████| 752/752 [05:13<00:00,  2.40it/s, loss=0.5364]\n",
      "Epoch 10/15 [Validation]: 100%|██████████| 1/1 [00:00<00:00,  1.07it/s, loss=0.5179]\n",
      "100%|██████████| 6/6 [03:35<00:00, 35.97s/it]\n"
     ]
    },
    {
     "name": "stdout",
     "output_type": "stream",
     "text": [
      "train-epoch-loss:0.5364 valid-beta4-score:0.6126\n"
     ]
    },
    {
     "name": "stderr",
     "output_type": "stream",
     "text": [
      "Epoch 11/15 [Training]: 100%|██████████| 752/752 [05:28<00:00,  2.29it/s, loss=0.5303]\n",
      "Epoch 11/15 [Validation]: 100%|██████████| 1/1 [00:00<00:00,  1.10it/s, loss=0.4824]\n",
      "100%|██████████| 6/6 [03:37<00:00, 36.21s/it]\n"
     ]
    },
    {
     "name": "stdout",
     "output_type": "stream",
     "text": [
      "train-epoch-loss:0.5303 valid-beta4-score:0.4875\n"
     ]
    },
    {
     "name": "stderr",
     "output_type": "stream",
     "text": [
      "Epoch 12/15 [Training]: 100%|██████████| 752/752 [05:18<00:00,  2.36it/s, loss=0.5191]\n",
      "Epoch 12/15 [Validation]: 100%|██████████| 1/1 [00:00<00:00,  1.04it/s, loss=0.8574]\n",
      "100%|██████████| 6/6 [03:38<00:00, 36.44s/it]\n"
     ]
    },
    {
     "name": "stdout",
     "output_type": "stream",
     "text": [
      "train-epoch-loss:0.5191 valid-beta4-score:0.4664\n"
     ]
    },
    {
     "name": "stderr",
     "output_type": "stream",
     "text": [
      "Epoch 13/15 [Training]: 100%|██████████| 752/752 [05:14<00:00,  2.39it/s, loss=0.5377]\n",
      "Epoch 13/15 [Validation]: 100%|██████████| 1/1 [00:00<00:00,  1.12it/s, loss=0.3486]\n",
      "100%|██████████| 6/6 [03:38<00:00, 36.35s/it]\n"
     ]
    },
    {
     "name": "stdout",
     "output_type": "stream",
     "text": [
      "train-epoch-loss:0.5377 valid-beta4-score:0.4597\n"
     ]
    },
    {
     "name": "stderr",
     "output_type": "stream",
     "text": [
      "Epoch 14/15 [Training]: 100%|██████████| 752/752 [05:30<00:00,  2.28it/s, loss=0.5157]\n",
      "Epoch 14/15 [Validation]: 100%|██████████| 1/1 [00:00<00:00,  1.09it/s, loss=0.5831]\n",
      "100%|██████████| 6/6 [03:37<00:00, 36.22s/it]\n"
     ]
    },
    {
     "name": "stdout",
     "output_type": "stream",
     "text": [
      "train-epoch-loss:0.5157 valid-beta4-score:0.5551\n"
     ]
    },
    {
     "name": "stderr",
     "output_type": "stream",
     "text": [
      "Epoch 15/15 [Training]: 100%|██████████| 752/752 [05:24<00:00,  2.31it/s, loss=0.5264]\n",
      "Epoch 15/15 [Validation]: 100%|██████████| 1/1 [00:00<00:00,  1.09it/s, loss=0.6107]\n",
      "100%|██████████| 6/6 [03:38<00:00, 36.36s/it]\n"
     ]
    },
    {
     "name": "stdout",
     "output_type": "stream",
     "text": [
      "train-epoch-loss:0.5264 valid-beta4-score:0.4847\n"
     ]
    },
    {
     "data": {
      "text/html": [
       "Finishing last run (ID:ix5q181y) before initializing another..."
      ],
      "text/plain": [
       "<IPython.core.display.HTML object>"
      ]
     },
     "metadata": {},
     "output_type": "display_data"
    },
    {
     "name": "stderr",
     "output_type": "stream",
     "text": [
      "wandb: WARNING Source type is set to 'repo' but some required information is missing from the environment. A job will not be created from this run. See https://docs.wandb.ai/guides/launch/create-job\n"
     ]
    },
    {
     "data": {
      "application/vnd.jupyter.widget-view+json": {
       "model_id": "914da7fbabba428bab2fc5cb8cf58c8e",
       "version_major": 2,
       "version_minor": 0
      },
      "text/plain": [
       "VBox(children=(Label(value='0.004 MB of 0.004 MB uploaded\\r'), FloatProgress(value=1.0, max=1.0)))"
      ]
     },
     "metadata": {},
     "output_type": "display_data"
    },
    {
     "data": {
      "text/html": [
       "<style>\n",
       "    table.wandb td:nth-child(1) { padding: 0 10px; text-align: left ; width: auto;} td:nth-child(2) {text-align: left ; width: 100%}\n",
       "    .wandb-row { display: flex; flex-direction: row; flex-wrap: wrap; justify-content: flex-start; width: 100% }\n",
       "    .wandb-col { display: flex; flex-direction: column; flex-basis: 100%; flex: 1; padding: 10px; }\n",
       "    </style>\n",
       "<div class=\"wandb-row\"><div class=\"wandb-col\"><h3>Run history:</h3><br/><table class=\"wandb\"><tr><td>01_epoch</td><td>▁▁▂▃▃▃▄▅▅▅▆▇▇▇█</td></tr><tr><td>02_train_loss</td><td>█▆▄▃▃▂▂▂▂▁▁▁▂▁▁</td></tr><tr><td>03_valid_loss</td><td>▇██▄▂▂▆▃▃▃▃█▁▄▅</td></tr><tr><td>04_valid_best_score</td><td>▂▁▃▂▄▄▅▂▆█▆▅▅▇▆</td></tr><tr><td>apo-ferritin</td><td>▁█▅█▄████▆█████</td></tr><tr><td>apoo_ferritin_f4</td><td>▁▃▇▂▇▄▅▃██▆▅▆▇▅</td></tr><tr><td>apoo_ferritin_p</td><td>▁▁▆▁▆▂▂▁▅█▃▂▂▆▂</td></tr><tr><td>apoo_ferritin_r</td><td>▁▃▆▃▆▇█▇█▇██▇▇▇</td></tr><tr><td>beta-amylase</td><td>▁▁▁▁▁▁▁▁▁▁▁▁▁▁▁</td></tr><tr><td>beta-galactosidase</td><td>▁▂▅██▅▇▁▅█▅█▅██</td></tr><tr><td>beta_amylase_f4</td><td>▂▁▃▁▇▁▁▁▂█▃▅▄▅▆</td></tr><tr><td>beta_amylase_p</td><td>▂▁▂▁█▁▁▁▂▇▂▄▃▄▅</td></tr><tr><td>beta_amylase_r</td><td>▆▂▅▁▅▁▁▁▂█▃▆▇██</td></tr><tr><td>beta_galactosidase_f4</td><td>▃▁▅▃▆▄▄▁▄█▆▅▄▇▅</td></tr><tr><td>beta_galactosidase_p</td><td>▂▁▅▂▆▃▄▁▄█▅▄▃▆▄</td></tr><tr><td>beta_galactosidase_r</td><td>▆▂▆▆▅▇▆▁▆▇█▇▆▆▇</td></tr><tr><td>ribosome</td><td>▆▃▁▃▇▇▇▆▅▆██▇█▃</td></tr><tr><td>ribosome_f4</td><td>▃▂▁▆▆██▆███▇▇▇█</td></tr><tr><td>ribosome_p</td><td>▄▂▁▄▃▇▅▃▆█▆▇▅▅▆</td></tr><tr><td>ribosome_r</td><td>▂▂▁▆▆██▇█▇█▇▇██</td></tr><tr><td>thyroglobulin</td><td>▁█▅▅▂████▆█▇██▇</td></tr><tr><td>thyroglobulin_f4</td><td>▂▁▅▂▁▁▄▃▄█▅▅▅▇▆</td></tr><tr><td>thyroglobulin_p</td><td>▂▁▅▂▃▁▃▂▃█▄▄▅▇▅</td></tr><tr><td>thyroglobulin_r</td><td>▇▃▆▆▁▇▆▆▇███▇▇█</td></tr><tr><td>virus-like-particle</td><td>██▂█████▆███▆▁█</td></tr><tr><td>virus_like_particle_f4</td><td>▅▄▃▁▄▅▆▃██▆▇▇▇▇</td></tr><tr><td>virus_like_particle_p</td><td>▂▂▁▁▂▂▂▁██▃▃▄▅▄</td></tr><tr><td>virus_like_particle_r</td><td>██▁▃▃▆█▃▆█▆█▆██</td></tr></table><br/></div><div class=\"wandb-col\"><h3>Run summary:</h3><br/><table class=\"wandb\"><tr><td>01_epoch</td><td>14</td></tr><tr><td>02_train_loss</td><td>0.52637</td></tr><tr><td>03_valid_loss</td><td>0.61066</td></tr><tr><td>04_valid_best_score</td><td>0.48474</td></tr><tr><td>apo-ferritin</td><td>0.75</td></tr><tr><td>apoo_ferritin_f4</td><td>0.50987</td></tr><tr><td>apoo_ferritin_p</td><td>0.07092</td></tr><tr><td>apoo_ferritin_r</td><td>0.83158</td></tr><tr><td>beta-amylase</td><td>0.05</td></tr><tr><td>beta-galactosidase</td><td>0.75</td></tr><tr><td>beta_amylase_f4</td><td>0.15596</td></tr><tr><td>beta_amylase_p</td><td>0.01226</td></tr><tr><td>beta_amylase_r</td><td>0.58333</td></tr><tr><td>beta_galactosidase_f4</td><td>0.22368</td></tr><tr><td>beta_galactosidase_p</td><td>0.01744</td></tr><tr><td>beta_galactosidase_r</td><td>0.85714</td></tr><tr><td>ribosome</td><td>0.55</td></tr><tr><td>ribosome_f4</td><td>0.82639</td></tr><tr><td>ribosome_p</td><td>0.32812</td></tr><tr><td>ribosome_r</td><td>0.91304</td></tr><tr><td>thyroglobulin</td><td>0.7</td></tr><tr><td>thyroglobulin_f4</td><td>0.38264</td></tr><tr><td>thyroglobulin_p</td><td>0.03518</td></tr><tr><td>thyroglobulin_r</td><td>1.0</td></tr><tr><td>virus-like-particle</td><td>0.75</td></tr><tr><td>virus_like_particle_f4</td><td>0.84424</td></tr><tr><td>virus_like_particle_p</td><td>0.24176</td></tr><tr><td>virus_like_particle_r</td><td>1.0</td></tr></table><br/></div></div>"
      ],
      "text/plain": [
       "<IPython.core.display.HTML object>"
      ]
     },
     "metadata": {},
     "output_type": "display_data"
    },
    {
     "data": {
      "text/html": [
       " View run <strong style=\"color:#cdcd00\">exp079-recreate-baseline-dstride-new-model_TS_73_6</strong> at: <a href='https://wandb.ai/latent-walkers/czii2024/runs/ix5q181y' target=\"_blank\">https://wandb.ai/latent-walkers/czii2024/runs/ix5q181y</a><br/>Synced 5 W&B file(s), 0 media file(s), 0 artifact file(s) and 0 other file(s)"
      ],
      "text/plain": [
       "<IPython.core.display.HTML object>"
      ]
     },
     "metadata": {},
     "output_type": "display_data"
    },
    {
     "data": {
      "text/html": [
       "Find logs at: <code>./wandb/run-20250202_001755-ix5q181y/logs</code>"
      ],
      "text/plain": [
       "<IPython.core.display.HTML object>"
      ]
     },
     "metadata": {},
     "output_type": "display_data"
    },
    {
     "data": {
      "text/html": [
       "Successfully finished last run (ID:ix5q181y). Initializing new run:<br/>"
      ],
      "text/plain": [
       "<IPython.core.display.HTML object>"
      ]
     },
     "metadata": {},
     "output_type": "display_data"
    },
    {
     "data": {
      "application/vnd.jupyter.widget-view+json": {
       "model_id": "f04945be4fc84077be3d8143e671dfeb",
       "version_major": 2,
       "version_minor": 0
      },
      "text/plain": [
       "VBox(children=(Label(value='Waiting for wandb.init()...\\r'), FloatProgress(value=0.011114358744453056, max=1.0…"
      ]
     },
     "metadata": {},
     "output_type": "display_data"
    },
    {
     "data": {
      "text/html": [
       "wandb version 0.19.5 is available!  To upgrade, please run:\n",
       " $ pip install wandb --upgrade"
      ],
      "text/plain": [
       "<IPython.core.display.HTML object>"
      ]
     },
     "metadata": {},
     "output_type": "display_data"
    },
    {
     "data": {
      "text/html": [
       "Tracking run with wandb version 0.16.1"
      ],
      "text/plain": [
       "<IPython.core.display.HTML object>"
      ]
     },
     "metadata": {},
     "output_type": "display_data"
    },
    {
     "data": {
      "text/html": [
       "Run data is saved locally in <code>/home/tatsuya/code/projects/kaggle/CryoET/experiments/exp079-recreate-baseline-dstride-new-model/wandb/run-20250202_024314-at7syc54</code>"
      ],
      "text/plain": [
       "<IPython.core.display.HTML object>"
      ]
     },
     "metadata": {},
     "output_type": "display_data"
    },
    {
     "data": {
      "text/html": [
       "Syncing run <strong><a href='https://wandb.ai/latent-walkers/czii2024/runs/at7syc54' target=\"_blank\">exp079-recreate-baseline-dstride-new-model_TS_99_9</a></strong> to <a href='https://wandb.ai/latent-walkers/czii2024' target=\"_blank\">Weights & Biases</a> (<a href='https://wandb.me/run' target=\"_blank\">docs</a>)<br/>"
      ],
      "text/plain": [
       "<IPython.core.display.HTML object>"
      ]
     },
     "metadata": {},
     "output_type": "display_data"
    },
    {
     "data": {
      "text/html": [
       " View project at <a href='https://wandb.ai/latent-walkers/czii2024' target=\"_blank\">https://wandb.ai/latent-walkers/czii2024</a>"
      ],
      "text/plain": [
       "<IPython.core.display.HTML object>"
      ]
     },
     "metadata": {},
     "output_type": "display_data"
    },
    {
     "data": {
      "text/html": [
       " View run at <a href='https://wandb.ai/latent-walkers/czii2024/runs/at7syc54' target=\"_blank\">https://wandb.ai/latent-walkers/czii2024/runs/at7syc54</a>"
      ],
      "text/plain": [
       "<IPython.core.display.HTML object>"
      ]
     },
     "metadata": {},
     "output_type": "display_data"
    },
    {
     "name": "stderr",
     "output_type": "stream",
     "text": [
      "100%|██████████| 752/752 [01:46<00:00,  7.03it/s] \n",
      "100%|██████████| 1/1 [00:04<00:00,  4.30s/it]\n",
      "Epoch 1/15 [Training]: 100%|██████████| 752/752 [05:23<00:00,  2.32it/s, loss=0.8107]\n",
      "Epoch 1/15 [Validation]: 100%|██████████| 1/1 [00:00<00:00,  1.09it/s, loss=0.7810]\n",
      "100%|██████████| 6/6 [03:22<00:00, 33.76s/it]\n"
     ]
    },
    {
     "name": "stdout",
     "output_type": "stream",
     "text": [
      "train-epoch-loss:0.8107 valid-beta4-score:0.1384\n"
     ]
    },
    {
     "name": "stderr",
     "output_type": "stream",
     "text": [
      "Epoch 2/15 [Training]: 100%|██████████| 752/752 [05:25<00:00,  2.31it/s, loss=0.7262]\n",
      "Epoch 2/15 [Validation]: 100%|██████████| 1/1 [00:00<00:00,  1.08it/s, loss=0.7323]\n",
      "100%|██████████| 6/6 [03:46<00:00, 37.73s/it]\n"
     ]
    },
    {
     "name": "stdout",
     "output_type": "stream",
     "text": [
      "train-epoch-loss:0.7262 valid-beta4-score:0.3584\n"
     ]
    },
    {
     "name": "stderr",
     "output_type": "stream",
     "text": [
      "Epoch 3/15 [Training]: 100%|██████████| 752/752 [05:25<00:00,  2.31it/s, loss=0.6746]\n",
      "Epoch 3/15 [Validation]: 100%|██████████| 1/1 [00:00<00:00,  1.08it/s, loss=0.8582]\n",
      "100%|██████████| 6/6 [03:42<00:00, 37.14s/it]\n"
     ]
    },
    {
     "name": "stdout",
     "output_type": "stream",
     "text": [
      "train-epoch-loss:0.6746 valid-beta4-score:0.2865\n"
     ]
    },
    {
     "name": "stderr",
     "output_type": "stream",
     "text": [
      "Epoch 4/15 [Training]: 100%|██████████| 752/752 [05:20<00:00,  2.35it/s, loss=0.6457]\n",
      "Epoch 4/15 [Validation]: 100%|██████████| 1/1 [00:00<00:00,  1.08it/s, loss=0.5874]\n",
      "100%|██████████| 6/6 [04:11<00:00, 41.84s/it]\n"
     ]
    },
    {
     "name": "stdout",
     "output_type": "stream",
     "text": [
      "train-epoch-loss:0.6457 valid-beta4-score:0.3797\n"
     ]
    },
    {
     "name": "stderr",
     "output_type": "stream",
     "text": [
      "Epoch 5/15 [Training]: 100%|██████████| 752/752 [05:25<00:00,  2.31it/s, loss=0.6008]\n",
      "Epoch 5/15 [Validation]: 100%|██████████| 1/1 [00:00<00:00,  1.10it/s, loss=0.7333]\n",
      "100%|██████████| 6/6 [03:41<00:00, 36.97s/it]\n"
     ]
    },
    {
     "name": "stdout",
     "output_type": "stream",
     "text": [
      "train-epoch-loss:0.6008 valid-beta4-score:0.6197\n"
     ]
    },
    {
     "name": "stderr",
     "output_type": "stream",
     "text": [
      "Epoch 6/15 [Training]: 100%|██████████| 752/752 [05:33<00:00,  2.25it/s, loss=0.5684]\n",
      "Epoch 6/15 [Validation]: 100%|██████████| 1/1 [00:00<00:00,  1.11it/s, loss=0.8158]\n",
      "100%|██████████| 6/6 [03:42<00:00, 37.10s/it]\n"
     ]
    },
    {
     "name": "stdout",
     "output_type": "stream",
     "text": [
      "train-epoch-loss:0.5684 valid-beta4-score:0.5484\n"
     ]
    },
    {
     "name": "stderr",
     "output_type": "stream",
     "text": [
      "Epoch 7/15 [Training]: 100%|██████████| 752/752 [05:17<00:00,  2.37it/s, loss=0.5778]\n",
      "Epoch 7/15 [Validation]: 100%|██████████| 1/1 [00:00<00:00,  1.00it/s, loss=0.7386]\n",
      "100%|██████████| 6/6 [03:38<00:00, 36.33s/it]\n"
     ]
    },
    {
     "name": "stdout",
     "output_type": "stream",
     "text": [
      "train-epoch-loss:0.5778 valid-beta4-score:0.6496\n"
     ]
    },
    {
     "name": "stderr",
     "output_type": "stream",
     "text": [
      "Epoch 8/15 [Training]: 100%|██████████| 752/752 [05:29<00:00,  2.28it/s, loss=0.5601]\n",
      "Epoch 8/15 [Validation]: 100%|██████████| 1/1 [00:00<00:00,  1.07it/s, loss=0.4194]\n",
      "100%|██████████| 6/6 [03:38<00:00, 36.43s/it]\n"
     ]
    },
    {
     "name": "stdout",
     "output_type": "stream",
     "text": [
      "train-epoch-loss:0.5601 valid-beta4-score:0.6095\n"
     ]
    },
    {
     "name": "stderr",
     "output_type": "stream",
     "text": [
      "Epoch 9/15 [Training]: 100%|██████████| 752/752 [05:29<00:00,  2.28it/s, loss=0.5571]\n",
      "Epoch 9/15 [Validation]: 100%|██████████| 1/1 [00:00<00:00,  1.05it/s, loss=0.4316]\n",
      "100%|██████████| 6/6 [03:37<00:00, 36.22s/it]\n"
     ]
    },
    {
     "name": "stdout",
     "output_type": "stream",
     "text": [
      "train-epoch-loss:0.5571 valid-beta4-score:0.5630\n"
     ]
    },
    {
     "name": "stderr",
     "output_type": "stream",
     "text": [
      "Epoch 10/15 [Training]: 100%|██████████| 752/752 [05:13<00:00,  2.40it/s, loss=0.5551]\n",
      "Epoch 10/15 [Validation]: 100%|██████████| 1/1 [00:00<00:00,  1.02it/s, loss=0.4351]\n",
      "100%|██████████| 6/6 [03:41<00:00, 37.00s/it]\n"
     ]
    },
    {
     "name": "stdout",
     "output_type": "stream",
     "text": [
      "train-epoch-loss:0.5551 valid-beta4-score:0.5207\n"
     ]
    },
    {
     "name": "stderr",
     "output_type": "stream",
     "text": [
      "Epoch 11/15 [Training]: 100%|██████████| 752/752 [05:11<00:00,  2.41it/s, loss=0.5471]\n",
      "Epoch 11/15 [Validation]: 100%|██████████| 1/1 [00:00<00:00,  1.04it/s, loss=0.4089]\n",
      "100%|██████████| 6/6 [03:34<00:00, 35.69s/it]\n"
     ]
    },
    {
     "name": "stdout",
     "output_type": "stream",
     "text": [
      "train-epoch-loss:0.5471 valid-beta4-score:0.5958\n"
     ]
    },
    {
     "name": "stderr",
     "output_type": "stream",
     "text": [
      "Epoch 12/15 [Training]: 100%|██████████| 752/752 [05:14<00:00,  2.39it/s, loss=0.5425]\n",
      "Epoch 12/15 [Validation]: 100%|██████████| 1/1 [00:00<00:00,  1.04it/s, loss=0.5457]\n",
      "100%|██████████| 6/6 [03:36<00:00, 36.09s/it]\n"
     ]
    },
    {
     "name": "stdout",
     "output_type": "stream",
     "text": [
      "train-epoch-loss:0.5425 valid-beta4-score:0.5979\n"
     ]
    },
    {
     "name": "stderr",
     "output_type": "stream",
     "text": [
      "Epoch 13/15 [Training]: 100%|██████████| 752/752 [05:13<00:00,  2.40it/s, loss=0.5399]\n",
      "Epoch 13/15 [Validation]: 100%|██████████| 1/1 [00:00<00:00,  1.04it/s, loss=0.8412]\n",
      "100%|██████████| 6/6 [03:39<00:00, 36.65s/it]\n"
     ]
    },
    {
     "name": "stdout",
     "output_type": "stream",
     "text": [
      "train-epoch-loss:0.5399 valid-beta4-score:0.5297\n"
     ]
    },
    {
     "name": "stderr",
     "output_type": "stream",
     "text": [
      "Epoch 14/15 [Training]: 100%|██████████| 752/752 [05:18<00:00,  2.36it/s, loss=0.5382]\n",
      "Epoch 14/15 [Validation]: 100%|██████████| 1/1 [00:01<00:00,  1.00s/it, loss=0.4504]\n",
      "100%|██████████| 6/6 [03:41<00:00, 36.91s/it]\n"
     ]
    },
    {
     "name": "stdout",
     "output_type": "stream",
     "text": [
      "train-epoch-loss:0.5382 valid-beta4-score:0.5015\n"
     ]
    },
    {
     "name": "stderr",
     "output_type": "stream",
     "text": [
      "Epoch 15/15 [Training]: 100%|██████████| 752/752 [05:14<00:00,  2.39it/s, loss=0.5350]\n",
      "Epoch 15/15 [Validation]: 100%|██████████| 1/1 [00:00<00:00,  1.02it/s, loss=0.6843]\n",
      "100%|██████████| 6/6 [03:44<00:00, 37.37s/it]\n"
     ]
    },
    {
     "name": "stdout",
     "output_type": "stream",
     "text": [
      "train-epoch-loss:0.5350 valid-beta4-score:0.4720\n"
     ]
    },
    {
     "data": {
      "text/html": [
       "Finishing last run (ID:at7syc54) before initializing another..."
      ],
      "text/plain": [
       "<IPython.core.display.HTML object>"
      ]
     },
     "metadata": {},
     "output_type": "display_data"
    },
    {
     "name": "stderr",
     "output_type": "stream",
     "text": [
      "wandb: WARNING Source type is set to 'repo' but some required information is missing from the environment. A job will not be created from this run. See https://docs.wandb.ai/guides/launch/create-job\n"
     ]
    },
    {
     "data": {
      "application/vnd.jupyter.widget-view+json": {
       "model_id": "cbb212b9245e4474bc74a66cdf102c38",
       "version_major": 2,
       "version_minor": 0
      },
      "text/plain": [
       "VBox(children=(Label(value='0.004 MB of 0.004 MB uploaded\\r'), FloatProgress(value=1.0, max=1.0)))"
      ]
     },
     "metadata": {},
     "output_type": "display_data"
    },
    {
     "data": {
      "text/html": [
       "<style>\n",
       "    table.wandb td:nth-child(1) { padding: 0 10px; text-align: left ; width: auto;} td:nth-child(2) {text-align: left ; width: 100%}\n",
       "    .wandb-row { display: flex; flex-direction: row; flex-wrap: wrap; justify-content: flex-start; width: 100% }\n",
       "    .wandb-col { display: flex; flex-direction: column; flex-basis: 100%; flex: 1; padding: 10px; }\n",
       "    </style>\n",
       "<div class=\"wandb-row\"><div class=\"wandb-col\"><h3>Run history:</h3><br/><table class=\"wandb\"><tr><td>01_epoch</td><td>▁▁▂▃▃▃▄▅▅▅▆▇▇▇█</td></tr><tr><td>02_train_loss</td><td>█▆▅▄▃▂▂▂▂▂▁▁▁▁▁</td></tr><tr><td>03_valid_loss</td><td>▇▆█▄▆▇▆▁▁▁▁▃█▂▅</td></tr><tr><td>04_valid_best_score</td><td>▁▄▃▄█▇█▇▇▆▇▇▆▆▆</td></tr><tr><td>apo-ferritin</td><td>▁▅███▇█▇█▇▇▇▆█▇</td></tr><tr><td>apoo_ferritin_f4</td><td>▁▁▂▄▇▆▇▆██▇▇███</td></tr><tr><td>apoo_ferritin_p</td><td>▁▁▁▂▃▄▅▅▆▇▆▆█▇█</td></tr><tr><td>apoo_ferritin_r</td><td>▁▂▃▆█▇▇▆███████</td></tr><tr><td>beta-amylase</td><td>▁▁▁▁▁▁▁▁▁▁▁▁▁▁▁</td></tr><tr><td>beta-galactosidase</td><td>▁█▄▅█▅█▅▅▅██▅▅█</td></tr><tr><td>beta_amylase_f4</td><td>▁▃▂▁▃▃▃▅▃▆█▇▆▆▄</td></tr><tr><td>beta_amylase_p</td><td>▁▃▂▁▃▃▃▄▃▅█▆▅▅▄</td></tr><tr><td>beta_amylase_r</td><td>▁█▄▄▃▅▄█▅▇██▇▆▅</td></tr><tr><td>beta_galactosidase_f4</td><td>▁▇▄▃▆▆▆▆▄▇█▇▆▅▄</td></tr><tr><td>beta_galactosidase_p</td><td>▁▄▃▂▅▄▅▅▃▆█▇▅▄▃</td></tr><tr><td>beta_galactosidase_r</td><td>▁█▆▂▅▇▆▅▄▅▆▅▆▅▄</td></tr><tr><td>ribosome</td><td>██▁▆██▆▁███████</td></tr><tr><td>ribosome_f4</td><td>█▅▄▆▆▁▇█▃▅▇▇█▇▇</td></tr><tr><td>ribosome_p</td><td>█▅▂▄▄▁▄▆▁▂▅▄▅▄▄</td></tr><tr><td>ribosome_r</td><td>█▁▂▅▅▆██▇██████</td></tr><tr><td>thyroglobulin</td><td>▇▁███▅███████▅█</td></tr><tr><td>thyroglobulin_f4</td><td>▁▇▆████▇▇▄▅▅▃▂▂</td></tr><tr><td>thyroglobulin_p</td><td>█▆▃▅▆▆▇▄▆▂▃▃▁▁▁</td></tr><tr><td>thyroglobulin_r</td><td>▁▇▇█████▇█▇▇█▇▇</td></tr><tr><td>virus-like-particle</td><td>▁▁▂▄█▅█▇▇█▇▆▇█▇</td></tr><tr><td>virus_like_particle_f4</td><td>▁▁▁▂▇████▇▇████</td></tr><tr><td>virus_like_particle_p</td><td>▁▁▁▁▄▇█▆▅▄▃▇▆▆▆</td></tr><tr><td>virus_like_particle_r</td><td>▂▁▂▂███████████</td></tr></table><br/></div><div class=\"wandb-col\"><h3>Run summary:</h3><br/><table class=\"wandb\"><tr><td>01_epoch</td><td>14</td></tr><tr><td>02_train_loss</td><td>0.53497</td></tr><tr><td>03_valid_loss</td><td>0.68427</td></tr><tr><td>04_valid_best_score</td><td>0.47204</td></tr><tr><td>apo-ferritin</td><td>0.6</td></tr><tr><td>apoo_ferritin_f4</td><td>0.91311</td></tr><tr><td>apoo_ferritin_p</td><td>0.59649</td></tr><tr><td>apoo_ferritin_r</td><td>0.94444</td></tr><tr><td>beta-amylase</td><td>0.05</td></tr><tr><td>beta-galactosidase</td><td>0.75</td></tr><tr><td>beta_amylase_f4</td><td>0.12454</td></tr><tr><td>beta_amylase_p</td><td>0.01058</td></tr><tr><td>beta_amylase_r</td><td>0.38095</td></tr><tr><td>beta_galactosidase_f4</td><td>0.19245</td></tr><tr><td>beta_galactosidase_p</td><td>0.0219</td></tr><tr><td>beta_galactosidase_r</td><td>0.375</td></tr><tr><td>ribosome</td><td>0.75</td></tr><tr><td>ribosome_f4</td><td>0.78522</td></tr><tr><td>ribosome_p</td><td>0.23166</td></tr><tr><td>ribosome_r</td><td>0.92308</td></tr><tr><td>thyroglobulin</td><td>0.75</td></tr><tr><td>thyroglobulin_f4</td><td>0.12372</td></tr><tr><td>thyroglobulin_p</td><td>0.0086</td></tr><tr><td>thyroglobulin_r</td><td>0.7551</td></tr><tr><td>virus-like-particle</td><td>0.7</td></tr><tr><td>virus_like_particle_f4</td><td>0.97357</td></tr><tr><td>virus_like_particle_p</td><td>0.68421</td></tr><tr><td>virus_like_particle_r</td><td>1.0</td></tr></table><br/></div></div>"
      ],
      "text/plain": [
       "<IPython.core.display.HTML object>"
      ]
     },
     "metadata": {},
     "output_type": "display_data"
    },
    {
     "data": {
      "text/html": [
       " View run <strong style=\"color:#cdcd00\">exp079-recreate-baseline-dstride-new-model_TS_99_9</strong> at: <a href='https://wandb.ai/latent-walkers/czii2024/runs/at7syc54' target=\"_blank\">https://wandb.ai/latent-walkers/czii2024/runs/at7syc54</a><br/>Synced 5 W&B file(s), 0 media file(s), 0 artifact file(s) and 0 other file(s)"
      ],
      "text/plain": [
       "<IPython.core.display.HTML object>"
      ]
     },
     "metadata": {},
     "output_type": "display_data"
    },
    {
     "data": {
      "text/html": [
       "Find logs at: <code>./wandb/run-20250202_024314-at7syc54/logs</code>"
      ],
      "text/plain": [
       "<IPython.core.display.HTML object>"
      ]
     },
     "metadata": {},
     "output_type": "display_data"
    },
    {
     "data": {
      "text/html": [
       "Successfully finished last run (ID:at7syc54). Initializing new run:<br/>"
      ],
      "text/plain": [
       "<IPython.core.display.HTML object>"
      ]
     },
     "metadata": {},
     "output_type": "display_data"
    },
    {
     "data": {
      "application/vnd.jupyter.widget-view+json": {
       "model_id": "04b39eea1de04334ae974dac5b7560b4",
       "version_major": 2,
       "version_minor": 0
      },
      "text/plain": [
       "VBox(children=(Label(value='Waiting for wandb.init()...\\r'), FloatProgress(value=0.011113305288907012, max=1.0…"
      ]
     },
     "metadata": {},
     "output_type": "display_data"
    },
    {
     "data": {
      "text/html": [
       "wandb version 0.19.5 is available!  To upgrade, please run:\n",
       " $ pip install wandb --upgrade"
      ],
      "text/plain": [
       "<IPython.core.display.HTML object>"
      ]
     },
     "metadata": {},
     "output_type": "display_data"
    },
    {
     "data": {
      "text/html": [
       "Tracking run with wandb version 0.16.1"
      ],
      "text/plain": [
       "<IPython.core.display.HTML object>"
      ]
     },
     "metadata": {},
     "output_type": "display_data"
    },
    {
     "data": {
      "text/html": [
       "Run data is saved locally in <code>/home/tatsuya/code/projects/kaggle/CryoET/experiments/exp079-recreate-baseline-dstride-new-model/wandb/run-20250202_050807-8gu7bjor</code>"
      ],
      "text/plain": [
       "<IPython.core.display.HTML object>"
      ]
     },
     "metadata": {},
     "output_type": "display_data"
    },
    {
     "data": {
      "text/html": [
       "Syncing run <strong><a href='https://wandb.ai/latent-walkers/czii2024/runs/8gu7bjor' target=\"_blank\">exp079-recreate-baseline-dstride-new-model_TS_6_4</a></strong> to <a href='https://wandb.ai/latent-walkers/czii2024' target=\"_blank\">Weights & Biases</a> (<a href='https://wandb.me/run' target=\"_blank\">docs</a>)<br/>"
      ],
      "text/plain": [
       "<IPython.core.display.HTML object>"
      ]
     },
     "metadata": {},
     "output_type": "display_data"
    },
    {
     "data": {
      "text/html": [
       " View project at <a href='https://wandb.ai/latent-walkers/czii2024' target=\"_blank\">https://wandb.ai/latent-walkers/czii2024</a>"
      ],
      "text/plain": [
       "<IPython.core.display.HTML object>"
      ]
     },
     "metadata": {},
     "output_type": "display_data"
    },
    {
     "data": {
      "text/html": [
       " View run at <a href='https://wandb.ai/latent-walkers/czii2024/runs/8gu7bjor' target=\"_blank\">https://wandb.ai/latent-walkers/czii2024/runs/8gu7bjor</a>"
      ],
      "text/plain": [
       "<IPython.core.display.HTML object>"
      ]
     },
     "metadata": {},
     "output_type": "display_data"
    },
    {
     "name": "stderr",
     "output_type": "stream",
     "text": [
      "100%|██████████| 752/752 [01:47<00:00,  7.02it/s] \n",
      "100%|██████████| 1/1 [00:44<00:00, 44.72s/it]\n",
      "Epoch 1/15 [Training]: 100%|██████████| 752/752 [05:14<00:00,  2.39it/s, loss=0.8061]\n",
      "Epoch 1/15 [Validation]: 100%|██████████| 1/1 [00:01<00:00,  1.13s/it, loss=0.7004]\n",
      "100%|██████████| 6/6 [03:32<00:00, 35.38s/it]\n"
     ]
    },
    {
     "name": "stdout",
     "output_type": "stream",
     "text": [
      "train-epoch-loss:0.8061 valid-beta4-score:0.1866\n"
     ]
    },
    {
     "name": "stderr",
     "output_type": "stream",
     "text": [
      "Epoch 2/15 [Training]: 100%|██████████| 752/752 [05:06<00:00,  2.45it/s, loss=0.6987]\n",
      "Epoch 2/15 [Validation]: 100%|██████████| 1/1 [00:00<00:00,  1.01it/s, loss=0.7005]\n",
      "100%|██████████| 6/6 [03:41<00:00, 36.97s/it]\n"
     ]
    },
    {
     "name": "stdout",
     "output_type": "stream",
     "text": [
      "train-epoch-loss:0.6987 valid-beta4-score:0.4035\n"
     ]
    },
    {
     "name": "stderr",
     "output_type": "stream",
     "text": [
      "Epoch 3/15 [Training]: 100%|██████████| 752/752 [05:12<00:00,  2.41it/s, loss=0.6384]\n",
      "Epoch 3/15 [Validation]: 100%|██████████| 1/1 [00:01<00:00,  1.06s/it, loss=0.8557]\n",
      "100%|██████████| 6/6 [03:44<00:00, 37.35s/it]\n"
     ]
    },
    {
     "name": "stdout",
     "output_type": "stream",
     "text": [
      "train-epoch-loss:0.6384 valid-beta4-score:0.5248\n"
     ]
    },
    {
     "name": "stderr",
     "output_type": "stream",
     "text": [
      "Epoch 4/15 [Training]: 100%|██████████| 752/752 [05:21<00:00,  2.34it/s, loss=0.6036]\n",
      "Epoch 4/15 [Validation]: 100%|██████████| 1/1 [00:01<00:00,  1.04s/it, loss=0.8358]\n",
      "100%|██████████| 6/6 [03:58<00:00, 39.79s/it]\n"
     ]
    },
    {
     "name": "stdout",
     "output_type": "stream",
     "text": [
      "train-epoch-loss:0.6036 valid-beta4-score:0.3919\n"
     ]
    },
    {
     "name": "stderr",
     "output_type": "stream",
     "text": [
      "Epoch 5/15 [Training]: 100%|██████████| 752/752 [05:16<00:00,  2.38it/s, loss=0.5847]\n",
      "Epoch 5/15 [Validation]: 100%|██████████| 1/1 [00:00<00:00,  1.00it/s, loss=0.5656]\n",
      "100%|██████████| 6/6 [03:34<00:00, 35.77s/it]\n"
     ]
    },
    {
     "name": "stdout",
     "output_type": "stream",
     "text": [
      "train-epoch-loss:0.5847 valid-beta4-score:0.6395\n"
     ]
    },
    {
     "name": "stderr",
     "output_type": "stream",
     "text": [
      "Epoch 6/15 [Training]: 100%|██████████| 752/752 [05:18<00:00,  2.36it/s, loss=0.5778]\n",
      "Epoch 6/15 [Validation]: 100%|██████████| 1/1 [00:01<00:00,  1.03s/it, loss=0.8578]\n",
      "100%|██████████| 6/6 [03:48<00:00, 38.08s/it]\n"
     ]
    },
    {
     "name": "stdout",
     "output_type": "stream",
     "text": [
      "train-epoch-loss:0.5778 valid-beta4-score:0.4164\n"
     ]
    },
    {
     "name": "stderr",
     "output_type": "stream",
     "text": [
      "Epoch 7/15 [Training]: 100%|██████████| 752/752 [05:25<00:00,  2.31it/s, loss=0.5684]\n",
      "Epoch 7/15 [Validation]: 100%|██████████| 1/1 [00:01<00:00,  1.05s/it, loss=0.7111]\n",
      "100%|██████████| 6/6 [03:45<00:00, 37.59s/it]\n"
     ]
    },
    {
     "name": "stdout",
     "output_type": "stream",
     "text": [
      "train-epoch-loss:0.5684 valid-beta4-score:0.4176\n"
     ]
    },
    {
     "name": "stderr",
     "output_type": "stream",
     "text": [
      "Epoch 8/15 [Training]: 100%|██████████| 752/752 [05:29<00:00,  2.28it/s, loss=0.5406]\n",
      "Epoch 8/15 [Validation]: 100%|██████████| 1/1 [00:01<00:00,  1.07s/it, loss=0.5493]\n",
      "100%|██████████| 6/6 [03:49<00:00, 38.19s/it]\n"
     ]
    },
    {
     "name": "stdout",
     "output_type": "stream",
     "text": [
      "train-epoch-loss:0.5406 valid-beta4-score:0.4981\n"
     ]
    },
    {
     "name": "stderr",
     "output_type": "stream",
     "text": [
      "Epoch 9/15 [Training]: 100%|██████████| 752/752 [05:13<00:00,  2.40it/s, loss=0.5552]\n",
      "Epoch 9/15 [Validation]: 100%|██████████| 1/1 [00:01<00:00,  1.04s/it, loss=0.7593]\n",
      "100%|██████████| 6/6 [03:53<00:00, 38.85s/it]\n"
     ]
    },
    {
     "name": "stdout",
     "output_type": "stream",
     "text": [
      "train-epoch-loss:0.5552 valid-beta4-score:0.3101\n"
     ]
    },
    {
     "name": "stderr",
     "output_type": "stream",
     "text": [
      "Epoch 10/15 [Training]: 100%|██████████| 752/752 [05:12<00:00,  2.41it/s, loss=0.5539]\n",
      "Epoch 10/15 [Validation]: 100%|██████████| 1/1 [00:00<00:00,  1.00it/s, loss=0.6834]\n",
      "100%|██████████| 6/6 [03:49<00:00, 38.23s/it]\n"
     ]
    },
    {
     "name": "stdout",
     "output_type": "stream",
     "text": [
      "train-epoch-loss:0.5539 valid-beta4-score:0.3782\n"
     ]
    },
    {
     "name": "stderr",
     "output_type": "stream",
     "text": [
      "Epoch 11/15 [Training]: 100%|██████████| 752/752 [05:15<00:00,  2.39it/s, loss=0.5380]\n",
      "Epoch 11/15 [Validation]: 100%|██████████| 1/1 [00:01<00:00,  1.09s/it, loss=0.6169]\n",
      "100%|██████████| 6/6 [03:44<00:00, 37.42s/it]\n"
     ]
    },
    {
     "name": "stdout",
     "output_type": "stream",
     "text": [
      "train-epoch-loss:0.5380 valid-beta4-score:0.5349\n"
     ]
    },
    {
     "name": "stderr",
     "output_type": "stream",
     "text": [
      "Epoch 12/15 [Training]: 100%|██████████| 752/752 [05:22<00:00,  2.33it/s, loss=0.5322]\n",
      "Epoch 12/15 [Validation]: 100%|██████████| 1/1 [00:01<00:00,  1.04s/it, loss=0.4215]\n",
      "100%|██████████| 6/6 [03:43<00:00, 37.26s/it]\n"
     ]
    },
    {
     "name": "stdout",
     "output_type": "stream",
     "text": [
      "train-epoch-loss:0.5322 valid-beta4-score:0.4866\n"
     ]
    },
    {
     "name": "stderr",
     "output_type": "stream",
     "text": [
      "Epoch 13/15 [Training]: 100%|██████████| 752/752 [05:13<00:00,  2.40it/s, loss=0.5283]\n",
      "Epoch 13/15 [Validation]: 100%|██████████| 1/1 [00:01<00:00,  1.00s/it, loss=0.5937]\n",
      "100%|██████████| 6/6 [03:43<00:00, 37.24s/it]\n"
     ]
    },
    {
     "name": "stdout",
     "output_type": "stream",
     "text": [
      "train-epoch-loss:0.5283 valid-beta4-score:0.6042\n"
     ]
    },
    {
     "name": "stderr",
     "output_type": "stream",
     "text": [
      "Epoch 14/15 [Training]: 100%|██████████| 752/752 [05:32<00:00,  2.26it/s, loss=0.5086]\n",
      "Epoch 14/15 [Validation]: 100%|██████████| 1/1 [00:01<00:00,  1.05s/it, loss=0.8482]\n",
      "100%|██████████| 6/6 [03:46<00:00, 37.82s/it]\n"
     ]
    },
    {
     "name": "stdout",
     "output_type": "stream",
     "text": [
      "train-epoch-loss:0.5086 valid-beta4-score:0.4327\n"
     ]
    },
    {
     "name": "stderr",
     "output_type": "stream",
     "text": [
      "Epoch 15/15 [Training]: 100%|██████████| 752/752 [05:18<00:00,  2.36it/s, loss=0.5197]\n",
      "Epoch 15/15 [Validation]: 100%|██████████| 1/1 [00:01<00:00,  1.02s/it, loss=0.7486]\n",
      "100%|██████████| 6/6 [03:45<00:00, 37.58s/it]\n"
     ]
    },
    {
     "name": "stdout",
     "output_type": "stream",
     "text": [
      "train-epoch-loss:0.5197 valid-beta4-score:0.4368\n"
     ]
    },
    {
     "data": {
      "text/html": [
       "Finishing last run (ID:8gu7bjor) before initializing another..."
      ],
      "text/plain": [
       "<IPython.core.display.HTML object>"
      ]
     },
     "metadata": {},
     "output_type": "display_data"
    },
    {
     "name": "stderr",
     "output_type": "stream",
     "text": [
      "wandb: WARNING Source type is set to 'repo' but some required information is missing from the environment. A job will not be created from this run. See https://docs.wandb.ai/guides/launch/create-job\n"
     ]
    },
    {
     "data": {
      "application/vnd.jupyter.widget-view+json": {
       "model_id": "1d9084559cd9435f8efc142aab037b1c",
       "version_major": 2,
       "version_minor": 0
      },
      "text/plain": [
       "VBox(children=(Label(value='0.004 MB of 0.004 MB uploaded\\r'), FloatProgress(value=1.0, max=1.0)))"
      ]
     },
     "metadata": {},
     "output_type": "display_data"
    },
    {
     "data": {
      "text/html": [
       "<style>\n",
       "    table.wandb td:nth-child(1) { padding: 0 10px; text-align: left ; width: auto;} td:nth-child(2) {text-align: left ; width: 100%}\n",
       "    .wandb-row { display: flex; flex-direction: row; flex-wrap: wrap; justify-content: flex-start; width: 100% }\n",
       "    .wandb-col { display: flex; flex-direction: column; flex-basis: 100%; flex: 1; padding: 10px; }\n",
       "    </style>\n",
       "<div class=\"wandb-row\"><div class=\"wandb-col\"><h3>Run history:</h3><br/><table class=\"wandb\"><tr><td>01_epoch</td><td>▁▁▂▃▃▃▄▅▅▅▆▇▇▇█</td></tr><tr><td>02_train_loss</td><td>█▅▄▃▃▃▂▂▂▂▂▂▁▁▁</td></tr><tr><td>03_valid_loss</td><td>▅▅██▃█▆▃▆▅▄▁▄█▆</td></tr><tr><td>04_valid_best_score</td><td>▁▄▆▄█▅▅▆▃▄▆▆▇▅▅</td></tr><tr><td>apo-ferritin</td><td>▁█▂█▂▇█▇▃▂▇██▆▂</td></tr><tr><td>apoo_ferritin_f4</td><td>▁▆▇▆█▆▇▇▆▇▇██▇▇</td></tr><tr><td>apoo_ferritin_p</td><td>▁▃▆▂█▄▅▇▃▅▇██▇▆</td></tr><tr><td>apoo_ferritin_r</td><td>▁▆▇██▆▇▇▆▇▇██▆▇</td></tr><tr><td>beta-amylase</td><td>▁▁▁▁▁▁▁▁▁▁▁▁▁▁▁</td></tr><tr><td>beta-galactosidase</td><td>▁▃▇██▇██▅███▆█▅</td></tr><tr><td>beta_amylase_f4</td><td>▁▂▂▂▃▂▂▃▁▁▆▃█▁▄</td></tr><tr><td>beta_amylase_p</td><td>▁▂▁▂▃▂▂▂▁▁▆▃█▁▃</td></tr><tr><td>beta_amylase_r</td><td>▁▅▅▇█▄▅█▁▁▇▄▆▁▅</td></tr><tr><td>beta_galactosidase_f4</td><td>▁▃▇▄▇▄▄▆▂▃▆▅█▄▅</td></tr><tr><td>beta_galactosidase_p</td><td>▁▂▇▃▆▄▃▅▂▂▄▃█▃▃</td></tr><tr><td>beta_galactosidase_r</td><td>▁▇▇▇█▅▇▇▄▇█▇█▅█</td></tr><tr><td>ribosome</td><td>██▂▅▂▄▇▅█▅▂▂█▁▄</td></tr><tr><td>ribosome_f4</td><td>▁▁▁▇▇▅▇▅▄▇▇▇▇█▇</td></tr><tr><td>ribosome_p</td><td>▂▅▂▆▇▂▄▄▁▅█▇▇▇▆</td></tr><tr><td>ribosome_r</td><td>▂▁▂█▆▆█▆▆▇▇▇▆█▇</td></tr><tr><td>thyroglobulin</td><td>▁█▄█▇▇█▅▇█▆█▅▆█</td></tr><tr><td>thyroglobulin_f4</td><td>▁▅▅▄█▆▄█▂▄▆▄▇▄▃</td></tr><tr><td>thyroglobulin_p</td><td>▁▄█▃█▆▃▇▂▂▅▃▇▃▂</td></tr><tr><td>thyroglobulin_r</td><td>▂▆▁▆▇▅▇█▃▆▆▆▇▆▆</td></tr><tr><td>virus-like-particle</td><td>████████▅▁▃▁▁▅▂</td></tr><tr><td>virus_like_particle_f4</td><td>▃▆▅▁█▁▂▁▁▁▅▅▄▃▂</td></tr><tr><td>virus_like_particle_p</td><td>▁▃▃▁█▁▁▁▁▁▃▂▂▁▁</td></tr><tr><td>virus_like_particle_r</td><td>▁██▆██████▅████</td></tr></table><br/></div><div class=\"wandb-col\"><h3>Run summary:</h3><br/><table class=\"wandb\"><tr><td>01_epoch</td><td>14</td></tr><tr><td>02_train_loss</td><td>0.5197</td></tr><tr><td>03_valid_loss</td><td>0.74861</td></tr><tr><td>04_valid_best_score</td><td>0.43684</td></tr><tr><td>apo-ferritin</td><td>0.5</td></tr><tr><td>apoo_ferritin_f4</td><td>0.71178</td></tr><tr><td>apoo_ferritin_p</td><td>0.43434</td></tr><tr><td>apoo_ferritin_r</td><td>0.74138</td></tr><tr><td>beta-amylase</td><td>0.05</td></tr><tr><td>beta-galactosidase</td><td>0.5</td></tr><tr><td>beta_amylase_f4</td><td>0.11676</td></tr><tr><td>beta_amylase_p</td><td>0.00856</td></tr><tr><td>beta_amylase_r</td><td>0.55556</td></tr><tr><td>beta_galactosidase_f4</td><td>0.32075</td></tr><tr><td>beta_galactosidase_p</td><td>0.02813</td></tr><tr><td>beta_galactosidase_r</td><td>0.91667</td></tr><tr><td>ribosome</td><td>0.6</td></tr><tr><td>ribosome_f4</td><td>0.76991</td></tr><tr><td>ribosome_p</td><td>0.33514</td></tr><tr><td>ribosome_r</td><td>0.83784</td></tr><tr><td>thyroglobulin</td><td>0.75</td></tr><tr><td>thyroglobulin_f4</td><td>0.40737</td></tr><tr><td>thyroglobulin_p</td><td>0.04298</td></tr><tr><td>thyroglobulin_r</td><td>0.86667</td></tr><tr><td>virus-like-particle</td><td>0.1</td></tr><tr><td>virus_like_particle_f4</td><td>0.11993</td></tr><tr><td>virus_like_particle_p</td><td>0.00821</td></tr><tr><td>virus_like_particle_r</td><td>0.8</td></tr></table><br/></div></div>"
      ],
      "text/plain": [
       "<IPython.core.display.HTML object>"
      ]
     },
     "metadata": {},
     "output_type": "display_data"
    },
    {
     "data": {
      "text/html": [
       " View run <strong style=\"color:#cdcd00\">exp079-recreate-baseline-dstride-new-model_TS_6_4</strong> at: <a href='https://wandb.ai/latent-walkers/czii2024/runs/8gu7bjor' target=\"_blank\">https://wandb.ai/latent-walkers/czii2024/runs/8gu7bjor</a><br/>Synced 5 W&B file(s), 0 media file(s), 0 artifact file(s) and 0 other file(s)"
      ],
      "text/plain": [
       "<IPython.core.display.HTML object>"
      ]
     },
     "metadata": {},
     "output_type": "display_data"
    },
    {
     "data": {
      "text/html": [
       "Find logs at: <code>./wandb/run-20250202_050807-8gu7bjor/logs</code>"
      ],
      "text/plain": [
       "<IPython.core.display.HTML object>"
      ]
     },
     "metadata": {},
     "output_type": "display_data"
    },
    {
     "data": {
      "text/html": [
       "Successfully finished last run (ID:8gu7bjor). Initializing new run:<br/>"
      ],
      "text/plain": [
       "<IPython.core.display.HTML object>"
      ]
     },
     "metadata": {},
     "output_type": "display_data"
    },
    {
     "data": {
      "application/vnd.jupyter.widget-view+json": {
       "model_id": "7810ccce2b1d43ec8b8407574e211e8a",
       "version_major": 2,
       "version_minor": 0
      },
      "text/plain": [
       "VBox(children=(Label(value='Waiting for wandb.init()...\\r'), FloatProgress(value=0.011113454211105515, max=1.0…"
      ]
     },
     "metadata": {},
     "output_type": "display_data"
    },
    {
     "data": {
      "text/html": [
       "wandb version 0.19.5 is available!  To upgrade, please run:\n",
       " $ pip install wandb --upgrade"
      ],
      "text/plain": [
       "<IPython.core.display.HTML object>"
      ]
     },
     "metadata": {},
     "output_type": "display_data"
    },
    {
     "data": {
      "text/html": [
       "Tracking run with wandb version 0.16.1"
      ],
      "text/plain": [
       "<IPython.core.display.HTML object>"
      ]
     },
     "metadata": {},
     "output_type": "display_data"
    },
    {
     "data": {
      "text/html": [
       "Run data is saved locally in <code>/home/tatsuya/code/projects/kaggle/CryoET/experiments/exp079-recreate-baseline-dstride-new-model/wandb/run-20250202_073405-r8h9s6sw</code>"
      ],
      "text/plain": [
       "<IPython.core.display.HTML object>"
      ]
     },
     "metadata": {},
     "output_type": "display_data"
    },
    {
     "data": {
      "text/html": [
       "Syncing run <strong><a href='https://wandb.ai/latent-walkers/czii2024/runs/r8h9s6sw' target=\"_blank\">exp079-recreate-baseline-dstride-new-model_TS_69_2</a></strong> to <a href='https://wandb.ai/latent-walkers/czii2024' target=\"_blank\">Weights & Biases</a> (<a href='https://wandb.me/run' target=\"_blank\">docs</a>)<br/>"
      ],
      "text/plain": [
       "<IPython.core.display.HTML object>"
      ]
     },
     "metadata": {},
     "output_type": "display_data"
    },
    {
     "data": {
      "text/html": [
       " View project at <a href='https://wandb.ai/latent-walkers/czii2024' target=\"_blank\">https://wandb.ai/latent-walkers/czii2024</a>"
      ],
      "text/plain": [
       "<IPython.core.display.HTML object>"
      ]
     },
     "metadata": {},
     "output_type": "display_data"
    },
    {
     "data": {
      "text/html": [
       " View run at <a href='https://wandb.ai/latent-walkers/czii2024/runs/r8h9s6sw' target=\"_blank\">https://wandb.ai/latent-walkers/czii2024/runs/r8h9s6sw</a>"
      ],
      "text/plain": [
       "<IPython.core.display.HTML object>"
      ]
     },
     "metadata": {},
     "output_type": "display_data"
    },
    {
     "name": "stderr",
     "output_type": "stream",
     "text": [
      "100%|██████████| 752/752 [02:47<00:00,  4.50it/s] \n",
      "100%|██████████| 1/1 [01:38<00:00, 98.93s/it]\n",
      "Epoch 1/15 [Training]: 100%|██████████| 752/752 [05:31<00:00,  2.27it/s, loss=0.8030]\n",
      "Epoch 1/15 [Validation]: 100%|██████████| 1/1 [00:01<00:00,  1.16s/it, loss=0.8583]\n",
      "100%|██████████| 6/6 [03:26<00:00, 34.45s/it]\n"
     ]
    },
    {
     "name": "stdout",
     "output_type": "stream",
     "text": [
      "train-epoch-loss:0.8030 valid-beta4-score:0.1209\n"
     ]
    },
    {
     "name": "stderr",
     "output_type": "stream",
     "text": [
      "Epoch 2/15 [Training]: 100%|██████████| 752/752 [05:18<00:00,  2.36it/s, loss=0.6781]\n",
      "Epoch 2/15 [Validation]: 100%|██████████| 1/1 [00:01<00:00,  1.07s/it, loss=0.7389]\n",
      "100%|██████████| 6/6 [03:42<00:00, 37.14s/it]\n"
     ]
    },
    {
     "name": "stdout",
     "output_type": "stream",
     "text": [
      "train-epoch-loss:0.6781 valid-beta4-score:0.4789\n"
     ]
    },
    {
     "name": "stderr",
     "output_type": "stream",
     "text": [
      "Epoch 3/15 [Training]: 100%|██████████| 752/752 [05:19<00:00,  2.35it/s, loss=0.6159]\n",
      "Epoch 3/15 [Validation]: 100%|██████████| 1/1 [00:01<00:00,  1.13s/it, loss=0.8580]\n",
      "100%|██████████| 6/6 [03:35<00:00, 35.88s/it]\n"
     ]
    },
    {
     "name": "stdout",
     "output_type": "stream",
     "text": [
      "train-epoch-loss:0.6159 valid-beta4-score:0.6353\n"
     ]
    },
    {
     "name": "stderr",
     "output_type": "stream",
     "text": [
      "Epoch 4/15 [Training]: 100%|██████████| 752/752 [05:14<00:00,  2.39it/s, loss=0.5955]\n",
      "Epoch 4/15 [Validation]: 100%|██████████| 1/1 [00:01<00:00,  1.06s/it, loss=0.5336]\n",
      "100%|██████████| 6/6 [03:45<00:00, 37.50s/it]\n"
     ]
    },
    {
     "name": "stdout",
     "output_type": "stream",
     "text": [
      "train-epoch-loss:0.5955 valid-beta4-score:0.4816\n"
     ]
    },
    {
     "name": "stderr",
     "output_type": "stream",
     "text": [
      "Epoch 5/15 [Training]: 100%|██████████| 752/752 [05:21<00:00,  2.34it/s, loss=0.5933]\n",
      "Epoch 5/15 [Validation]: 100%|██████████| 1/1 [00:01<00:00,  1.17s/it, loss=0.6219]\n",
      "100%|██████████| 6/6 [03:44<00:00, 37.35s/it]\n"
     ]
    },
    {
     "name": "stdout",
     "output_type": "stream",
     "text": [
      "train-epoch-loss:0.5933 valid-beta4-score:0.4838\n"
     ]
    },
    {
     "name": "stderr",
     "output_type": "stream",
     "text": [
      "Epoch 6/15 [Training]: 100%|██████████| 752/752 [05:17<00:00,  2.37it/s, loss=0.5779]\n",
      "Epoch 6/15 [Validation]: 100%|██████████| 1/1 [00:01<00:00,  1.09s/it, loss=0.8576]\n",
      "100%|██████████| 6/6 [03:36<00:00, 36.07s/it]\n"
     ]
    },
    {
     "name": "stdout",
     "output_type": "stream",
     "text": [
      "train-epoch-loss:0.5779 valid-beta4-score:0.5900\n"
     ]
    },
    {
     "name": "stderr",
     "output_type": "stream",
     "text": [
      "Epoch 7/15 [Training]: 100%|██████████| 752/752 [05:19<00:00,  2.35it/s, loss=0.5693]\n",
      "Epoch 7/15 [Validation]: 100%|██████████| 1/1 [00:01<00:00,  1.05s/it, loss=0.8575]\n",
      "100%|██████████| 6/6 [04:11<00:00, 41.91s/it]\n"
     ]
    },
    {
     "name": "stdout",
     "output_type": "stream",
     "text": [
      "train-epoch-loss:0.5693 valid-beta4-score:0.1743\n"
     ]
    },
    {
     "name": "stderr",
     "output_type": "stream",
     "text": [
      "Epoch 8/15 [Training]: 100%|██████████| 752/752 [05:17<00:00,  2.37it/s, loss=0.5544]\n",
      "Epoch 8/15 [Validation]: 100%|██████████| 1/1 [00:01<00:00,  1.13s/it, loss=0.8579]\n",
      "100%|██████████| 6/6 [03:48<00:00, 38.08s/it]\n"
     ]
    },
    {
     "name": "stdout",
     "output_type": "stream",
     "text": [
      "train-epoch-loss:0.5544 valid-beta4-score:0.4004\n"
     ]
    },
    {
     "name": "stderr",
     "output_type": "stream",
     "text": [
      "Epoch 9/15 [Training]: 100%|██████████| 752/752 [05:25<00:00,  2.31it/s, loss=0.5396]\n",
      "Epoch 9/15 [Validation]: 100%|██████████| 1/1 [00:01<00:00,  1.11s/it, loss=0.8576]\n",
      "100%|██████████| 6/6 [03:33<00:00, 35.66s/it]\n"
     ]
    },
    {
     "name": "stdout",
     "output_type": "stream",
     "text": [
      "train-epoch-loss:0.5396 valid-beta4-score:0.4876\n"
     ]
    },
    {
     "name": "stderr",
     "output_type": "stream",
     "text": [
      "Epoch 10/15 [Training]: 100%|██████████| 752/752 [05:21<00:00,  2.34it/s, loss=0.5484]\n",
      "Epoch 10/15 [Validation]: 100%|██████████| 1/1 [00:01<00:00,  1.08s/it, loss=0.8578]\n",
      "100%|██████████| 6/6 [03:57<00:00, 39.62s/it]\n"
     ]
    },
    {
     "name": "stdout",
     "output_type": "stream",
     "text": [
      "train-epoch-loss:0.5484 valid-beta4-score:0.5013\n"
     ]
    },
    {
     "name": "stderr",
     "output_type": "stream",
     "text": [
      "Epoch 11/15 [Training]: 100%|██████████| 752/752 [05:19<00:00,  2.36it/s, loss=0.5474]\n",
      "Epoch 11/15 [Validation]: 100%|██████████| 1/1 [00:01<00:00,  1.13s/it, loss=0.8368]\n",
      "100%|██████████| 6/6 [04:05<00:00, 40.95s/it]\n"
     ]
    },
    {
     "name": "stdout",
     "output_type": "stream",
     "text": [
      "train-epoch-loss:0.5474 valid-beta4-score:0.4111\n"
     ]
    },
    {
     "name": "stderr",
     "output_type": "stream",
     "text": [
      "Epoch 12/15 [Training]: 100%|██████████| 752/752 [05:12<00:00,  2.41it/s, loss=0.5322]\n",
      "Epoch 12/15 [Validation]: 100%|██████████| 1/1 [00:01<00:00,  1.12s/it, loss=0.8577]\n",
      "100%|██████████| 6/6 [04:02<00:00, 40.49s/it]\n"
     ]
    },
    {
     "name": "stdout",
     "output_type": "stream",
     "text": [
      "train-epoch-loss:0.5322 valid-beta4-score:0.2774\n"
     ]
    },
    {
     "name": "stderr",
     "output_type": "stream",
     "text": [
      "Epoch 13/15 [Training]: 100%|██████████| 752/752 [05:09<00:00,  2.43it/s, loss=0.5303]\n",
      "Epoch 13/15 [Validation]: 100%|██████████| 1/1 [00:01<00:00,  1.13s/it, loss=0.8574]\n",
      "100%|██████████| 6/6 [04:05<00:00, 40.91s/it]\n"
     ]
    },
    {
     "name": "stdout",
     "output_type": "stream",
     "text": [
      "train-epoch-loss:0.5303 valid-beta4-score:0.4187\n"
     ]
    },
    {
     "name": "stderr",
     "output_type": "stream",
     "text": [
      "Epoch 14/15 [Training]: 100%|██████████| 752/752 [05:20<00:00,  2.35it/s, loss=0.5142]\n",
      "Epoch 14/15 [Validation]: 100%|██████████| 1/1 [00:01<00:00,  1.05s/it, loss=0.6227]\n",
      "100%|██████████| 6/6 [04:05<00:00, 40.84s/it]\n"
     ]
    },
    {
     "name": "stdout",
     "output_type": "stream",
     "text": [
      "train-epoch-loss:0.5142 valid-beta4-score:0.4084\n"
     ]
    },
    {
     "name": "stderr",
     "output_type": "stream",
     "text": [
      "Epoch 15/15 [Training]: 100%|██████████| 752/752 [05:07<00:00,  2.45it/s, loss=0.5377]\n",
      "Epoch 15/15 [Validation]: 100%|██████████| 1/1 [00:01<00:00,  1.07s/it, loss=0.5612]\n",
      "100%|██████████| 6/6 [04:00<00:00, 40.00s/it]\n"
     ]
    },
    {
     "name": "stdout",
     "output_type": "stream",
     "text": [
      "train-epoch-loss:0.5377 valid-beta4-score:0.3743\n"
     ]
    },
    {
     "data": {
      "text/html": [
       "Finishing last run (ID:r8h9s6sw) before initializing another..."
      ],
      "text/plain": [
       "<IPython.core.display.HTML object>"
      ]
     },
     "metadata": {},
     "output_type": "display_data"
    },
    {
     "name": "stderr",
     "output_type": "stream",
     "text": [
      "wandb: WARNING Source type is set to 'repo' but some required information is missing from the environment. A job will not be created from this run. See https://docs.wandb.ai/guides/launch/create-job\n"
     ]
    },
    {
     "data": {
      "application/vnd.jupyter.widget-view+json": {
       "model_id": "78f84e1d8728491db939dc38747bbc87",
       "version_major": 2,
       "version_minor": 0
      },
      "text/plain": [
       "VBox(children=(Label(value='0.004 MB of 0.004 MB uploaded\\r'), FloatProgress(value=1.0, max=1.0)))"
      ]
     },
     "metadata": {},
     "output_type": "display_data"
    },
    {
     "data": {
      "text/html": [
       "<style>\n",
       "    table.wandb td:nth-child(1) { padding: 0 10px; text-align: left ; width: auto;} td:nth-child(2) {text-align: left ; width: 100%}\n",
       "    .wandb-row { display: flex; flex-direction: row; flex-wrap: wrap; justify-content: flex-start; width: 100% }\n",
       "    .wandb-col { display: flex; flex-direction: column; flex-basis: 100%; flex: 1; padding: 10px; }\n",
       "    </style>\n",
       "<div class=\"wandb-row\"><div class=\"wandb-col\"><h3>Run history:</h3><br/><table class=\"wandb\"><tr><td>01_epoch</td><td>▁▁▂▃▃▃▄▅▅▅▆▇▇▇█</td></tr><tr><td>02_train_loss</td><td>█▅▃▃▃▃▂▂▂▂▂▁▁▁▂</td></tr><tr><td>03_valid_loss</td><td>█▅█▁▃████████▃▂</td></tr><tr><td>04_valid_best_score</td><td>▁▆█▆▆▇▂▅▆▆▅▃▅▅▄</td></tr><tr><td>apo-ferritin</td><td>▁▂▅█▁███▇▁███▇█</td></tr><tr><td>apoo_ferritin_f4</td><td>▁▆▆▆█▅▁▅▇▇▇▄▇█▇</td></tr><tr><td>apoo_ferritin_p</td><td>▂▃▆▄█▂▁▂▄▆▅▂▇▇▄</td></tr><tr><td>apoo_ferritin_r</td><td>▁▆▆▇▇▇▇▇▇███▇█▇</td></tr><tr><td>beta-amylase</td><td>▁▁▁▁▁▁▁▁▁▁▁▁▁▁▁</td></tr><tr><td>beta-galactosidase</td><td>▁███▇█▅██▂▄▇███</td></tr><tr><td>beta_amylase_f4</td><td>▁▃▄▃▇▂▁▁▁▃█▃▆▇▄</td></tr><tr><td>beta_amylase_p</td><td>▁▂▃▃▆▂▁▁▁▃█▂▅▆▄</td></tr><tr><td>beta_amylase_r</td><td>▁██▇▇▃▁▂▂▃▇▃█▇▆</td></tr><tr><td>beta_galactosidase_f4</td><td>▃▃█▆▄▇▁▂▃▂▁▁▁▁▁</td></tr><tr><td>beta_galactosidase_p</td><td>▂▃█▆▄▆▁▂▃▁▁▁▁▁▁</td></tr><tr><td>beta_galactosidase_r</td><td>▃▁█▆▄▇▅▆▅▅▆▄█▇▄</td></tr><tr><td>ribosome</td><td>█████▄▁████▁███</td></tr><tr><td>ribosome_f4</td><td>▄▅▇▃▅▆▁▇███▇██▇</td></tr><tr><td>ribosome_p</td><td>▂▄▇▁▃▄▁▄▇▆▆▇██▅</td></tr><tr><td>ribosome_r</td><td>▁▂▆▆▄▆▁▇███▇███</td></tr><tr><td>thyroglobulin</td><td>▁▇████▅█▅██████</td></tr><tr><td>thyroglobulin_f4</td><td>▁▇█▇▅█▃▄▆▅▂▁▂▂▃</td></tr><tr><td>thyroglobulin_p</td><td>▁▆▆▅▃█▂▂▆▃▁▁▁▁▂</td></tr><tr><td>thyroglobulin_r</td><td>▁▇█▇▆▇▆▇▅▇▇▃▇▆▅</td></tr><tr><td>virus-like-particle</td><td>▁▇███▇████▇████</td></tr><tr><td>virus_like_particle_f4</td><td>▁▇▇▆▇█▄▇▆█▇▅██▆</td></tr><tr><td>virus_like_particle_p</td><td>▁▃▃▂▃█▁▃▂▅▄▂▅▆▂</td></tr><tr><td>virus_like_particle_r</td><td>▁██████████▇███</td></tr></table><br/></div><div class=\"wandb-col\"><h3>Run summary:</h3><br/><table class=\"wandb\"><tr><td>01_epoch</td><td>14</td></tr><tr><td>02_train_loss</td><td>0.53772</td></tr><tr><td>03_valid_loss</td><td>0.56123</td></tr><tr><td>04_valid_best_score</td><td>0.37427</td></tr><tr><td>apo-ferritin</td><td>0.75</td></tr><tr><td>apoo_ferritin_f4</td><td>0.76512</td></tr><tr><td>apoo_ferritin_p</td><td>0.21192</td></tr><tr><td>apoo_ferritin_r</td><td>0.91429</td></tr><tr><td>beta-amylase</td><td>0.05</td></tr><tr><td>beta-galactosidase</td><td>0.75</td></tr><tr><td>beta_amylase_f4</td><td>0.08218</td></tr><tr><td>beta_amylase_p</td><td>0.00557</td></tr><tr><td>beta_amylase_r</td><td>0.58333</td></tr><tr><td>beta_galactosidase_f4</td><td>0.02563</td></tr><tr><td>beta_galactosidase_p</td><td>0.00157</td></tr><tr><td>beta_galactosidase_r</td><td>0.625</td></tr><tr><td>ribosome</td><td>0.75</td></tr><tr><td>ribosome_f4</td><td>0.73913</td></tr><tr><td>ribosome_p</td><td>0.16432</td></tr><tr><td>ribosome_r</td><td>0.94595</td></tr><tr><td>thyroglobulin</td><td>0.75</td></tr><tr><td>thyroglobulin_f4</td><td>0.17133</td></tr><tr><td>thyroglobulin_p</td><td>0.01449</td></tr><tr><td>thyroglobulin_r</td><td>0.52941</td></tr><tr><td>virus-like-particle</td><td>0.75</td></tr><tr><td>virus_like_particle_f4</td><td>0.7217</td></tr><tr><td>virus_like_particle_p</td><td>0.13235</td></tr><tr><td>virus_like_particle_r</td><td>1.0</td></tr></table><br/></div></div>"
      ],
      "text/plain": [
       "<IPython.core.display.HTML object>"
      ]
     },
     "metadata": {},
     "output_type": "display_data"
    },
    {
     "data": {
      "text/html": [
       " View run <strong style=\"color:#cdcd00\">exp079-recreate-baseline-dstride-new-model_TS_69_2</strong> at: <a href='https://wandb.ai/latent-walkers/czii2024/runs/r8h9s6sw' target=\"_blank\">https://wandb.ai/latent-walkers/czii2024/runs/r8h9s6sw</a><br/>Synced 5 W&B file(s), 0 media file(s), 0 artifact file(s) and 0 other file(s)"
      ],
      "text/plain": [
       "<IPython.core.display.HTML object>"
      ]
     },
     "metadata": {},
     "output_type": "display_data"
    },
    {
     "data": {
      "text/html": [
       "Find logs at: <code>./wandb/run-20250202_073405-r8h9s6sw/logs</code>"
      ],
      "text/plain": [
       "<IPython.core.display.HTML object>"
      ]
     },
     "metadata": {},
     "output_type": "display_data"
    },
    {
     "data": {
      "text/html": [
       "Successfully finished last run (ID:r8h9s6sw). Initializing new run:<br/>"
      ],
      "text/plain": [
       "<IPython.core.display.HTML object>"
      ]
     },
     "metadata": {},
     "output_type": "display_data"
    },
    {
     "data": {
      "application/vnd.jupyter.widget-view+json": {
       "model_id": "f2cbbe51b6fa41b1801c1e829a5033fb",
       "version_major": 2,
       "version_minor": 0
      },
      "text/plain": [
       "VBox(children=(Label(value='Waiting for wandb.init()...\\r'), FloatProgress(value=0.011113872099991163, max=1.0…"
      ]
     },
     "metadata": {},
     "output_type": "display_data"
    },
    {
     "data": {
      "text/html": [
       "wandb version 0.19.5 is available!  To upgrade, please run:\n",
       " $ pip install wandb --upgrade"
      ],
      "text/plain": [
       "<IPython.core.display.HTML object>"
      ]
     },
     "metadata": {},
     "output_type": "display_data"
    },
    {
     "data": {
      "text/html": [
       "Tracking run with wandb version 0.16.1"
      ],
      "text/plain": [
       "<IPython.core.display.HTML object>"
      ]
     },
     "metadata": {},
     "output_type": "display_data"
    },
    {
     "data": {
      "text/html": [
       "Run data is saved locally in <code>/home/tatsuya/code/projects/kaggle/CryoET/experiments/exp079-recreate-baseline-dstride-new-model/wandb/run-20250202_100310-ce5bd9i9</code>"
      ],
      "text/plain": [
       "<IPython.core.display.HTML object>"
      ]
     },
     "metadata": {},
     "output_type": "display_data"
    },
    {
     "data": {
      "text/html": [
       "Syncing run <strong><a href='https://wandb.ai/latent-walkers/czii2024/runs/ce5bd9i9' target=\"_blank\">exp079-recreate-baseline-dstride-new-model_TS_86_3</a></strong> to <a href='https://wandb.ai/latent-walkers/czii2024' target=\"_blank\">Weights & Biases</a> (<a href='https://wandb.me/run' target=\"_blank\">docs</a>)<br/>"
      ],
      "text/plain": [
       "<IPython.core.display.HTML object>"
      ]
     },
     "metadata": {},
     "output_type": "display_data"
    },
    {
     "data": {
      "text/html": [
       " View project at <a href='https://wandb.ai/latent-walkers/czii2024' target=\"_blank\">https://wandb.ai/latent-walkers/czii2024</a>"
      ],
      "text/plain": [
       "<IPython.core.display.HTML object>"
      ]
     },
     "metadata": {},
     "output_type": "display_data"
    },
    {
     "data": {
      "text/html": [
       " View run at <a href='https://wandb.ai/latent-walkers/czii2024/runs/ce5bd9i9' target=\"_blank\">https://wandb.ai/latent-walkers/czii2024/runs/ce5bd9i9</a>"
      ],
      "text/plain": [
       "<IPython.core.display.HTML object>"
      ]
     },
     "metadata": {},
     "output_type": "display_data"
    },
    {
     "name": "stderr",
     "output_type": "stream",
     "text": [
      "100%|██████████| 752/752 [02:59<00:00,  4.18it/s] \n",
      "100%|██████████| 1/1 [01:32<00:00, 92.08s/it]\n",
      "Epoch 1/15 [Training]: 100%|██████████| 752/752 [05:04<00:00,  2.47it/s, loss=0.8110]\n",
      "Epoch 1/15 [Validation]: 100%|██████████| 1/1 [00:01<00:00,  1.14s/it, loss=0.8459]\n",
      "100%|██████████| 6/6 [03:40<00:00, 36.77s/it]\n"
     ]
    },
    {
     "name": "stdout",
     "output_type": "stream",
     "text": [
      "train-epoch-loss:0.8110 valid-beta4-score:0.1975\n"
     ]
    },
    {
     "name": "stderr",
     "output_type": "stream",
     "text": [
      "Epoch 2/15 [Training]: 100%|██████████| 752/752 [04:50<00:00,  2.59it/s, loss=0.6771]\n",
      "Epoch 2/15 [Validation]: 100%|██████████| 1/1 [00:01<00:00,  1.11s/it, loss=0.8410]\n",
      "100%|██████████| 6/6 [03:33<00:00, 35.61s/it]\n"
     ]
    },
    {
     "name": "stdout",
     "output_type": "stream",
     "text": [
      "train-epoch-loss:0.6771 valid-beta4-score:0.5685\n"
     ]
    },
    {
     "name": "stderr",
     "output_type": "stream",
     "text": [
      "Epoch 3/15 [Training]: 100%|██████████| 752/752 [11:46<00:00,  1.06it/s, loss=0.6262]\n",
      "Epoch 3/15 [Validation]: 100%|██████████| 1/1 [00:01<00:00,  1.37s/it, loss=0.5580]\n",
      "100%|██████████| 6/6 [03:37<00:00, 36.17s/it]\n"
     ]
    },
    {
     "name": "stdout",
     "output_type": "stream",
     "text": [
      "train-epoch-loss:0.6262 valid-beta4-score:0.5667\n"
     ]
    },
    {
     "name": "stderr",
     "output_type": "stream",
     "text": [
      "Epoch 4/15 [Training]:  59%|█████▉    | 442/752 [05:49<03:45,  1.38it/s, loss=0.6120]"
     ]
    }
   ],
   "source": [
    "for vaild_exp_name in [\"TS_73_6\", \"TS_99_9\", \"TS_6_4\", \"TS_69_2\", \"TS_86_3\", \"TS_6_6\"]:\n",
    "    wandb.init(\n",
    "        project=\"czii2024\", name=f\"{notebook_name}_{vaild_exp_name}\", config=param\n",
    "    )\n",
    "\n",
    "    vaild_exp_name = [vaild_exp_name]\n",
    "    train_exp_name = CFG.train_exp_names.copy()\n",
    "    train_exp_name.remove(vaild_exp_name[0])\n",
    "\n",
    "    # valid_exp_name[0]の名前でディレクトリを作成\n",
    "    os.makedirs(f\"./{vaild_exp_name[0]}\", exist_ok=True)\n",
    "\n",
    "    train_dataset = EziiDataset(\n",
    "        exp_names=train_exp_name,\n",
    "        base_dir=\"../../inputs/train/\",\n",
    "        particles_name=CFG.particles_name,\n",
    "        resolution=CFG.resolution,\n",
    "        zarr_type=CFG.train_zarr_types,\n",
    "        train=True,\n",
    "        augmentation=True,\n",
    "        slice=True,\n",
    "        pre_read=True,\n",
    "    )\n",
    "    valid_dataset = EziiDataset(\n",
    "        exp_names=vaild_exp_name,\n",
    "        base_dir=\"../../inputs/train/\",\n",
    "        particles_name=CFG.particles_name,\n",
    "        resolution=CFG.resolution,\n",
    "        zarr_type=CFG.valid_zarr_types,\n",
    "        augmentation=False,\n",
    "        train=True,\n",
    "        slice=True,\n",
    "        pre_read=True,\n",
    "    )\n",
    "\n",
    "    train_loader = DataLoader(\n",
    "        train_dataset,\n",
    "        batch_size=CFG.batch_size,\n",
    "        shuffle=True,\n",
    "        drop_last=True,\n",
    "        pin_memory=True,\n",
    "        num_workers=CFG.num_workers,\n",
    "    )\n",
    "\n",
    "    valid_loader = DataLoader(\n",
    "        valid_dataset,\n",
    "        batch_size=1,\n",
    "        shuffle=False,\n",
    "        pin_memory=True,\n",
    "        num_workers=CFG.num_workers,\n",
    "    )\n",
    "\n",
    "    encoder = timm.create_model(\n",
    "        model_name=CFG.model_name,\n",
    "        pretrained=True,\n",
    "        in_chans=3,\n",
    "        num_classes=0,\n",
    "        global_pool=\"\",\n",
    "        features_only=True,\n",
    "    )\n",
    "    model = Unet3D(encoder=encoder, num_domains=5).to(\"cuda\")\n",
    "\n",
    "    optimizer = torch.optim.Adam(\n",
    "        model.parameters(), lr=CFG.lr, weight_decay=CFG.weight_decay\n",
    "    )\n",
    "    criterion = DiceLoss()\n",
    "    scheduler = get_cosine_schedule_with_warmup(\n",
    "        optimizer,\n",
    "        num_warmup_steps=10,\n",
    "        num_training_steps=CFG.epochs * len(train_loader),\n",
    "        # * batch_size,\n",
    "    )\n",
    "    scaler = GradScaler()\n",
    "    seg_loss = SegmentationLoss(criterion)\n",
    "    padf = PadToSize(CFG.resolution)\n",
    "\n",
    "    best_model = None\n",
    "    best_constant = 0\n",
    "    best_score = -100\n",
    "    best_particle_score = {}\n",
    "\n",
    "    grand_train_loss = []\n",
    "    grand_valid_loss = []\n",
    "    grand_train_score = []\n",
    "    grand_valid_score = []\n",
    "\n",
    "    for epoch in range(CFG.epochs):\n",
    "        model.train()\n",
    "        train_loss = []\n",
    "        valid_loss = []\n",
    "        with tqdm(\n",
    "            train_loader, desc=f\"Epoch {epoch + 1}/{CFG.epochs} [Training]\"\n",
    "        ) as tq:\n",
    "            for data in tq:\n",
    "                normalized_tomogram = data[\"normalized_tomogram\"]\n",
    "                segmentation_map = data[\"segmentation_map\"]\n",
    "                zarr_embedding_idx = data[\"zarr_type_embedding_idx\"]\n",
    "\n",
    "                normalized_tomogram = padf(normalized_tomogram)\n",
    "                segmentation_map = padf(segmentation_map)\n",
    "\n",
    "                # データ拡張\n",
    "                normalized_tomogram, segmentation_map = augment_data(\n",
    "                    normalized_tomogram, segmentation_map, p=CFG.augmentation_prob\n",
    "                )\n",
    "                normalized_tomogram = normalized_tomogram.cuda()\n",
    "                segmentation_map = segmentation_map.long().cuda()\n",
    "                zarr_embedding_idx = zarr_embedding_idx.cuda()\n",
    "\n",
    "                optimizer.zero_grad()\n",
    "\n",
    "                with autocast():\n",
    "                    pred = model(\n",
    "                        preprocess_tensor(normalized_tomogram), zarr_embedding_idx\n",
    "                    )\n",
    "                    loss = seg_loss(pred, segmentation_map)\n",
    "                # loss.backward()\n",
    "                # optimizer.step()\n",
    "                scaler.scale(loss).backward()\n",
    "                scaler.step(optimizer)\n",
    "                scaler.update()\n",
    "                scheduler.step()\n",
    "                train_loss.append(loss.item())\n",
    "\n",
    "                # 確率予測\n",
    "                prob_pred = torch.softmax(pred, dim=1)\n",
    "                tq.set_postfix({\"loss\": f\"{np.mean(train_loss):.4f}\"})\n",
    "\n",
    "        del normalized_tomogram, segmentation_map, zarr_embedding_idx, pred, loss\n",
    "        gc.collect()\n",
    "        torch.cuda.empty_cache()\n",
    "\n",
    "        with tqdm(\n",
    "            valid_loader, desc=f\"Epoch {epoch + 1}/{CFG.epochs} [Validation]\"\n",
    "        ) as tq:\n",
    "            with torch.no_grad():\n",
    "                for data in tq:\n",
    "                    normalized_tomogram = data[\"normalized_tomogram\"].cuda()\n",
    "                    segmentation_map = data[\"segmentation_map\"].long().cuda()\n",
    "                    zarr_embedding_idx = data[\"zarr_type_embedding_idx\"].cuda()\n",
    "\n",
    "                    normalized_tomogram = padf(normalized_tomogram)\n",
    "                    segmentation_map = padf(segmentation_map)\n",
    "\n",
    "                    with autocast():\n",
    "                        pred = model(\n",
    "                            preprocess_tensor(normalized_tomogram), zarr_embedding_idx\n",
    "                        )\n",
    "                        loss = seg_loss(pred, segmentation_map)\n",
    "                    valid_loss.append(loss.item())\n",
    "\n",
    "                    # 確率予測\n",
    "                    prob_pred = torch.softmax(pred, dim=1)\n",
    "                    tq.set_postfix({\"loss\": f\"{np.mean(valid_loss):.4f}\"})\n",
    "\n",
    "        del normalized_tomogram, segmentation_map, zarr_embedding_idx, pred, loss\n",
    "        gc.collect()\n",
    "        torch.cuda.empty_cache()\n",
    "\n",
    "        # # ############### validation ################\n",
    "        train_nshuffle_original_tomogram = defaultdict(list)\n",
    "        train_nshuffle_pred_tomogram = defaultdict(list)\n",
    "        train_nshuffle_gt_tomogram = defaultdict(list)\n",
    "\n",
    "        valid_original_tomogram = defaultdict(list)\n",
    "        valid_pred_tomogram = defaultdict(list)\n",
    "        valid_gt_tomogram = defaultdict(list)\n",
    "\n",
    "        train_mean_scores = []\n",
    "        valid_mean_scores = []\n",
    "\n",
    "        # モデルの保存\n",
    "        make_dir_ = (\n",
    "            f\"../../../../../../../../mnt/d/kaggle-tmp-models/czii2024/{notebook_name}/\"\n",
    "        )\n",
    "        os.makedirs(make_dir_, exist_ok=True)\n",
    "        torch.save(model.state_dict(), make_dir_ + f\"model_{epoch}.pth\")\n",
    "\n",
    "        # ############### validation ################\n",
    "        train_nshuffle_original_tomogram = defaultdict(list)\n",
    "        train_nshuffle_pred_tomogram = defaultdict(list)\n",
    "        train_nshuffle_gt_tomogram = defaultdict(list)\n",
    "\n",
    "        valid_original_tomogram = defaultdict(list)\n",
    "        valid_pred_tomogram = defaultdict(list)\n",
    "        valid_gt_tomogram = defaultdict(list)\n",
    "\n",
    "        train_mean_scores = []\n",
    "        valid_mean_scores = []\n",
    "\n",
    "        train_inferenced_array = {}\n",
    "        train_pred_array = []\n",
    "        train_gt_array = []\n",
    "        valid_inferenced_array = {}\n",
    "        valid_gt_array = []\n",
    "\n",
    "        # for exp_name in tqdm(CFG.train_exp_names):\n",
    "        for exp_name in vaild_exp_name:  # 5つのデータで試す\n",
    "            # inferenced_array = inference(model, exp_name, train=False)\n",
    "            inferenced_array, n_tomogram, segmentation_map = inference(\n",
    "                model, exp_name, train=False\n",
    "            )\n",
    "            valid_inferenced_array[exp_name] = inferenced_array\n",
    "            base_dir = \"../../inputs/train/overlay/ExperimentRuns/\"\n",
    "            gt_df = create_gt_df(base_dir, [exp_name])\n",
    "            valid_gt_array.append(gt_df)\n",
    "\n",
    "        valid_gt_array = pd.concat(valid_gt_array)\n",
    "\n",
    "        b_constant = 0\n",
    "        b_score = -100\n",
    "        b_particle_score = {}\n",
    "\n",
    "        try:\n",
    "            best_thresholds, final_score = reduce_computation_sikii_search(\n",
    "                inferenced_array,\n",
    "                exp_name,\n",
    "                [\n",
    "                    0.05,\n",
    "                    0.1,\n",
    "                    0.15,\n",
    "                    0.2,\n",
    "                    0.25,\n",
    "                    0.3,\n",
    "                    0.35,\n",
    "                    0.4,\n",
    "                    0.45,\n",
    "                    0.5,\n",
    "                    0.55,\n",
    "                    0.6,\n",
    "                    0.65,\n",
    "                    0.7,\n",
    "                    0.75,\n",
    "                ],\n",
    "            )\n",
    "        except:\n",
    "            best_thresholds = [0.5] * 6\n",
    "            final_score = -50\n",
    "\n",
    "        b_score = final_score\n",
    "        b_particle_constant = {\n",
    "            \"apo-ferritin\": best_thresholds[0],\n",
    "            \"beta-amylase\": best_thresholds[1],\n",
    "            \"beta-galactosidase\": best_thresholds[2],\n",
    "            \"ribosome\": best_thresholds[3],\n",
    "            \"thyroglobulin\": best_thresholds[4],\n",
    "            \"virus-like-particle\": best_thresholds[5],\n",
    "        }\n",
    "\n",
    "        try:\n",
    "            valid_pred_array = []\n",
    "            for exp_name in [vaild_exp_name[0]]:\n",
    "                pred_df = inference2pos(\n",
    "                    pred_segmask=valid_inferenced_array[exp_name],\n",
    "                    exp_name=exp_name,\n",
    "                    sikii_dict=b_particle_constant,\n",
    "                )\n",
    "                valid_pred_array.append(pred_df)\n",
    "\n",
    "            valid_pred_array = pd.concat(valid_pred_array)\n",
    "\n",
    "            if len(valid_pred_array) != 0:\n",
    "                result_df, score_ = compute_lb(\n",
    "                    valid_pred_array,\n",
    "                    \"../../inputs/train/overlay/ExperimentRuns/\",\n",
    "                    vaild_exp_name,\n",
    "                )\n",
    "                particle_score = extract_particle_results(result_df)\n",
    "\n",
    "                b_score = score_\n",
    "                b_particle_score = particle_score\n",
    "        except:\n",
    "            b_score = -50\n",
    "            b_particle_score = {}\n",
    "\n",
    "        import gc\n",
    "        import torch.cuda as cuda\n",
    "\n",
    "        # del valid_pred_array, valid_gt_array\n",
    "        gc.collect()\n",
    "        cuda.empty_cache()\n",
    "\n",
    "        # print(\"constant\", b_constant, \"score\", b_score)\n",
    "\n",
    "        # wandb-log\n",
    "        train_info = {\n",
    "            \"01_epoch\": epoch,\n",
    "            \"02_train_loss\": np.mean(train_loss),\n",
    "            \"03_valid_loss\": np.mean(valid_loss),\n",
    "            # \"train_score\": np.mean(train_mean_scores),\n",
    "            \"04_valid_best_score\": b_score,\n",
    "        }\n",
    "        train_info = {**train_info, **b_particle_score}\n",
    "        train_info = {**train_info, **b_particle_constant}\n",
    "        wandb.log(train_info)\n",
    "\n",
    "        # score-update\n",
    "        if b_score > best_score:\n",
    "            best_score = b_score\n",
    "            # best_score = np.mean(valid_mean_scores)\n",
    "            best_model = model.state_dict()\n",
    "            torch.save(best_model, f\"./{vaild_exp_name[0]}/best_model.pth\")\n",
    "\n",
    "        print(\n",
    "            f\"train-epoch-loss:{np.mean(train_loss):.4f}\",\n",
    "            # f\"valid-epoch-loss:{np.mean(valid_loss):.4f}\",\n",
    "            # f\"train-beta4-score:{np.mean(train_mean_scores):.4f}\",\n",
    "            f\"valid-beta4-score:{b_score:.4f}\",\n",
    "        )\n",
    "\n",
    "        grand_train_loss.append(np.mean(train_loss))\n",
    "        # grand_valid_loss.append(np.mean(valid_loss))\n",
    "        # grand_train_score.append(np.mean(train_mean_scores))\n",
    "        grand_valid_score.append(b_score)\n",
    "\n",
    "    del model, optimizer, criterion, scheduler, scaler, seg_loss\n",
    "    gc.collect()\n",
    "    torch.cuda.empty_cache()"
   ]
  },
  {
   "cell_type": "code",
   "execution_count": null,
   "metadata": {},
   "outputs": [],
   "source": [
    "# train_lossとvalid_lossのプロット\n",
    "\n",
    "plt.plot(grand_train_loss, label=\"train_loss\")\n",
    "plt.plot(grand_valid_loss, label=\"valid_loss\")\n",
    "plt.legend()\n",
    "plt.show()"
   ]
  },
  {
   "cell_type": "code",
   "execution_count": null,
   "metadata": {},
   "outputs": [],
   "source": [
    "# train_scoreとvalid_scoreのプロット\n",
    "plt.plot(grand_train_score, label=\"train_score\")\n",
    "plt.plot(grand_valid_score, label=\"valid_score\")\n",
    "plt.legend()\n",
    "plt.show()"
   ]
  },
  {
   "cell_type": "code",
   "execution_count": null,
   "metadata": {},
   "outputs": [],
   "source": [
    "random.random()"
   ]
  },
  {
   "cell_type": "code",
   "execution_count": null,
   "metadata": {},
   "outputs": [],
   "source": []
  },
  {
   "cell_type": "code",
   "execution_count": null,
   "metadata": {},
   "outputs": [],
   "source": []
  }
 ],
 "metadata": {
  "kernelspec": {
   "display_name": "kaggle",
   "language": "python",
   "name": "python3"
  },
  "language_info": {
   "codemirror_mode": {
    "name": "ipython",
    "version": 3
   },
   "file_extension": ".py",
   "mimetype": "text/x-python",
   "name": "python",
   "nbconvert_exporter": "python",
   "pygments_lexer": "ipython3",
   "version": "3.9.16"
  }
 },
 "nbformat": 4,
 "nbformat_minor": 2
}
