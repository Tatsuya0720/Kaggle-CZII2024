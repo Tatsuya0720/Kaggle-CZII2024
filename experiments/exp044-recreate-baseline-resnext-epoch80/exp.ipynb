{
 "cells": [
  {
   "cell_type": "code",
   "execution_count": 1,
   "metadata": {},
   "outputs": [],
   "source": [
    "import os\n",
    "import zarr\n",
    "import timm\n",
    "import random\n",
    "import json\n",
    "import warnings\n",
    "import numpy as np\n",
    "import pandas as pd\n",
    "import torch.nn as nn\n",
    "from pathlib import Path\n",
    "import matplotlib.pyplot as plt\n",
    "from torch.utils.data import DataLoader, Dataset\n",
    "from collections import defaultdict\n",
    "import sys\n",
    "import torch\n",
    "\n",
    "# import torchvision.transforms.functional as F\n",
    "import random\n",
    "\n",
    "warnings.filterwarnings(\"ignore\")\n",
    "sys.path.append(\"./src/\")\n",
    "\n",
    "from src.config import CFG\n",
    "from src.dataloader import (\n",
    "    read_zarr,\n",
    "    read_info_json,\n",
    "    scale_coordinates,\n",
    "    create_dataset,\n",
    "    create_segmentation_map,\n",
    "    EziiDataset,\n",
    "    drop_padding,\n",
    ")\n",
    "from src.network import Unet3D\n",
    "from src.utils import save_images, PadToSize\n",
    "from src.metric import (\n",
    "    score,\n",
    "    create_cls_pos,\n",
    "    create_cls_pos_sikii,\n",
    "    create_df,\n",
    "    SegmentationLoss,\n",
    "    DiceLoss,\n",
    ")\n",
    "from src.inference import inference, inference2pos, create_gt_df\n",
    "from metric import visualize_epoch_results"
   ]
  },
  {
   "cell_type": "code",
   "execution_count": 2,
   "metadata": {},
   "outputs": [
    {
     "name": "stderr",
     "output_type": "stream",
     "text": [
      "100%|██████████| 600/600 [00:01<00:00, 521.49it/s]\n",
      "100%|██████████| 2/2 [00:00<00:00,  4.60it/s]\n",
      "  0%|          | 0/100 [00:01<?, ?it/s]\n"
     ]
    },
    {
     "data": {
      "text/plain": [
       "torch.Size([6, 16, 315, 315])"
      ]
     },
     "execution_count": 2,
     "metadata": {},
     "output_type": "execute_result"
    }
   ],
   "source": [
    "train_dataset = EziiDataset(\n",
    "    exp_names=CFG.train_exp_names,\n",
    "    base_dir=\"../../inputs/train/\",\n",
    "    particles_name=CFG.particles_name,\n",
    "    resolution=CFG.resolution,\n",
    "    zarr_type=CFG.train_zarr_types,\n",
    "    train=True,\n",
    "    augmentation=True,\n",
    "    slice=True,\n",
    "    pre_read=True,\n",
    ")\n",
    "\n",
    "# train_nshuffle_dataset = EziiDataset(\n",
    "#     exp_names=CFG.train_exp_names,\n",
    "#     base_dir=\"../../inputs/train/\",\n",
    "#     particles_name=CFG.particles_name,\n",
    "#     resolution=CFG.resolution,\n",
    "#     zarr_type=CFG.train_zarr_types,\n",
    "#     augmentation=False,\n",
    "#     train=True,\n",
    "# )\n",
    "\n",
    "valid_dataset = EziiDataset(\n",
    "    exp_names=CFG.valid_exp_names,\n",
    "    base_dir=\"../../inputs/train/\",\n",
    "    particles_name=CFG.particles_name,\n",
    "    resolution=CFG.resolution,\n",
    "    zarr_type=CFG.valid_zarr_types,\n",
    "    augmentation=False,\n",
    "    train=True,\n",
    "    slice=True,\n",
    "    pre_read=True,\n",
    ")\n",
    "\n",
    "from tqdm import tqdm\n",
    "\n",
    "train_loader = DataLoader(\n",
    "    train_dataset,\n",
    "    batch_size=CFG.batch_size,\n",
    "    shuffle=True,\n",
    "    drop_last=True,\n",
    "    pin_memory=True,\n",
    "    num_workers=CFG.num_workers,\n",
    ")\n",
    "# train_nshuffle_loader = DataLoader(\n",
    "#     train_nshuffle_dataset,\n",
    "#     batch_size=1,\n",
    "#     shuffle=True,\n",
    "#     drop_last=True,\n",
    "#     pin_memory=True,\n",
    "#     num_workers=CFG.num_workers,\n",
    "# )\n",
    "valid_loader = DataLoader(\n",
    "    valid_dataset,\n",
    "    batch_size=1,\n",
    "    shuffle=False,\n",
    "    pin_memory=True,\n",
    "    num_workers=CFG.num_workers,\n",
    ")\n",
    "\n",
    "for data in tqdm(train_loader):\n",
    "    normalized_tomogram = data[\"normalized_tomogram\"]\n",
    "    segmentation_map = data[\"segmentation_map\"]\n",
    "    break\n",
    "\n",
    "normalized_tomogram.shape"
   ]
  },
  {
   "cell_type": "code",
   "execution_count": 3,
   "metadata": {},
   "outputs": [],
   "source": [
    "# from tqdm import tqdm\n",
    "\n",
    "# train_loader = DataLoader(\n",
    "#     train_dataset,\n",
    "#     batch_size=CFG.batch_size,\n",
    "#     shuffle=True,\n",
    "#     drop_last=True,\n",
    "#     pin_memory=True,\n",
    "#     num_workers=CFG.num_workers,\n",
    "# )\n",
    "# # train_nshuffle_loader = DataLoader(\n",
    "# #     train_nshuffle_dataset,\n",
    "# #     batch_size=1,\n",
    "# #     shuffle=True,\n",
    "# #     drop_last=True,\n",
    "# #     pin_memory=True,\n",
    "# #     num_workers=CFG.num_workers,\n",
    "# # )\n",
    "# valid_loader = DataLoader(\n",
    "#     valid_dataset,\n",
    "#     batch_size=1,\n",
    "#     shuffle=False,\n",
    "#     pin_memory=True,\n",
    "#     num_workers=CFG.num_workers,\n",
    "# )\n",
    "\n",
    "# for data in tqdm(train_loader):\n",
    "#     normalized_tomogram = data[\"normalized_tomogram\"]\n",
    "#     segmentation_map = data[\"segmentation_map\"]\n",
    "#     break\n",
    "\n",
    "# normalized_tomogram.shape"
   ]
  },
  {
   "cell_type": "code",
   "execution_count": 4,
   "metadata": {},
   "outputs": [],
   "source": [
    "encoder = timm.create_model(\n",
    "    model_name=CFG.model_name,\n",
    "    pretrained=True,\n",
    "    in_chans=3,\n",
    "    num_classes=0,\n",
    "    global_pool=\"\",\n",
    "    features_only=True,\n",
    ")\n",
    "model = Unet3D(encoder=encoder).to(\"cuda\")\n",
    "# model.load_state_dict(torch.load(\"./pretrained_model.pth\"))\n",
    "# model.load_state_dict(torch.load(\"./best_model.pth\"))"
   ]
  },
  {
   "cell_type": "code",
   "execution_count": 5,
   "metadata": {},
   "outputs": [],
   "source": [
    "# # \"encoder\"と名のつくパラメータは学習しない\n",
    "# for layer, param in model.named_parameters():\n",
    "#     if \"encoder\" in layer:\n",
    "#         param.requires_grad = False"
   ]
  },
  {
   "cell_type": "code",
   "execution_count": 6,
   "metadata": {},
   "outputs": [],
   "source": [
    "import matplotlib.pyplot as plt\n",
    "import numpy as np\n",
    "from matplotlib.colors import ListedColormap\n",
    "from matplotlib.patches import Patch\n",
    "\n",
    "# サンプルデータ\n",
    "num_classes = len(CFG.particles_name)  # クラス数\n",
    "colors = plt.cm.tab10(\n",
    "    np.arange(len(CFG.particles_name))\n",
    ")  # \"tab10\" カラーマップから色を取得\n",
    "\n",
    "# ListedColormap を作成\n",
    "class_colormap = ListedColormap(colors)\n",
    "\n",
    "\n",
    "# カラーバー付きプロット\n",
    "def plot_with_colormap(data, title, original_tomogram):\n",
    "    masked_data = np.ma.masked_where(data <= 0, data)  # クラス0をマスク\n",
    "    plt.imshow(original_tomogram, cmap=\"gray\")\n",
    "    im = plt.imshow(masked_data, cmap=class_colormap)\n",
    "    plt.title(title)\n",
    "    plt.axis(\"off\")\n",
    "    return im"
   ]
  },
  {
   "cell_type": "code",
   "execution_count": 7,
   "metadata": {},
   "outputs": [
    {
     "name": "stdout",
     "output_type": "stream",
     "text": [
      "Original shape: torch.Size([6, 16, 320, 320])\n",
      "Augmented shape: torch.Size([6, 16, 320, 320])\n"
     ]
    }
   ],
   "source": [
    "import torch\n",
    "import random\n",
    "import torchvision.transforms.functional as TF\n",
    "\n",
    "\n",
    "# 回転\n",
    "# 3Dテンソルの各軸に対して指定した角度で回転する関数\n",
    "def rotate_3d(tomogram, segmentation_map, angle):\n",
    "    \"\"\"Rotates the 3D tensors tomogram and segmentation_map around the Z-axis.\"\"\"\n",
    "    rotated_tomogram = TF.rotate(tomogram, angle, expand=False)\n",
    "    rotated_segmentation_map = TF.rotate(segmentation_map, angle, expand=False)\n",
    "    return rotated_tomogram, rotated_segmentation_map\n",
    "\n",
    "\n",
    "# 平行移動\n",
    "# 指定された範囲でランダムに平行移動\n",
    "def translate_3d(tomogram, segmentation_map, max_shift):\n",
    "    \"\"\"Translates the 3D tensors by a random shift within max_shift.\"\"\"\n",
    "    shift_x = random.randint(-max_shift, max_shift)\n",
    "    shift_y = random.randint(-max_shift, max_shift)\n",
    "    translated_tomogram = TF.affine(\n",
    "        tomogram, angle=0, translate=(shift_x, shift_y), scale=1, shear=0\n",
    "    )\n",
    "    translated_segmentation_map = TF.affine(\n",
    "        segmentation_map, angle=0, translate=(shift_x, shift_y), scale=1, shear=0\n",
    "    )\n",
    "    return translated_tomogram, translated_segmentation_map\n",
    "\n",
    "\n",
    "# フリップ\n",
    "# 縦横（上下左右）ランダムフリップ\n",
    "def flip_3d(tomogram, segmentation_map):\n",
    "    \"\"\"Randomly flips the 3D tensors along height or width.\"\"\"\n",
    "    if random.random() > 0.5:  # Horizontal flip\n",
    "        tomogram = torch.flip(tomogram, dims=[-1])\n",
    "        segmentation_map = torch.flip(segmentation_map, dims=[-1])\n",
    "    if random.random() > 0.5:  # Vertical flip\n",
    "        tomogram = torch.flip(tomogram, dims=[-2])\n",
    "        segmentation_map = torch.flip(segmentation_map, dims=[-2])\n",
    "    return tomogram, segmentation_map\n",
    "\n",
    "\n",
    "# クロッピング\n",
    "# 入力テンソルを中心またはランダムクロップで切り取る\n",
    "def crop_3d(tomogram, segmentation_map, crop_size):\n",
    "    \"\"\"Crops the 3D tensors to the specified crop_size.\"\"\"\n",
    "    _, depth, height, width = tomogram.size()\n",
    "    crop_d, crop_h, crop_w = crop_size\n",
    "\n",
    "    if crop_h > height or crop_w > width:\n",
    "        raise ValueError(\"Crop size cannot be larger than the original size.\")\n",
    "\n",
    "    start_h = random.randint(0, height - crop_h)  # Random starting position for height\n",
    "    start_w = random.randint(0, width - crop_w)  # Random starting position for width\n",
    "\n",
    "    cropped_tomogram = tomogram[\n",
    "        :, :, start_h : start_h + crop_h, start_w : start_w + crop_w\n",
    "    ]\n",
    "    cropped_segmentation_map = segmentation_map[\n",
    "        :, :, start_h : start_h + crop_h, start_w : start_w + crop_w\n",
    "    ]\n",
    "\n",
    "    return cropped_tomogram, cropped_segmentation_map\n",
    "\n",
    "\n",
    "# Mixup\n",
    "# 2つのサンプルを線形補間して混合\n",
    "def mixup(tomogram, segmentation_map, alpha=0.4):\n",
    "    \"\"\"Applies mixup augmentation to the batch.\"\"\"\n",
    "    lam = random.betavariate(alpha, alpha)\n",
    "    batch_size = tomogram.size(0)\n",
    "    index = torch.randperm(batch_size)\n",
    "\n",
    "    mixed_tomogram = lam * tomogram + (1 - lam) * tomogram[index, :]\n",
    "    mixed_segmentation_map = (\n",
    "        lam * segmentation_map + (1 - lam) * segmentation_map[index, :]\n",
    "    )\n",
    "\n",
    "    return mixed_tomogram, mixed_segmentation_map\n",
    "\n",
    "\n",
    "# Cutmix\n",
    "# ランダム領域を切り取って別のサンプルに貼り付け\n",
    "def cutmix(tomogram, segmentation_map, alpha=1.0):\n",
    "    \"\"\"Applies cutmix augmentation to the batch.\"\"\"\n",
    "    lam = random.betavariate(alpha, alpha)\n",
    "    batch_size, depth, height, width = tomogram.size()\n",
    "    index = torch.randperm(batch_size)\n",
    "\n",
    "    cx = random.randint(0, width)\n",
    "    cy = random.randint(0, height)\n",
    "    cw = int(width * (1 - lam))\n",
    "    ch = int(height * (1 - lam))\n",
    "\n",
    "    x1 = max(cx - cw // 2, 0)\n",
    "    x2 = min(cx + cw // 2, width)\n",
    "    y1 = max(cy - ch // 2, 0)\n",
    "    y2 = min(cy + ch // 2, height)\n",
    "\n",
    "    tomogram[:, :, y1:y2, x1:x2] = tomogram[index, :, y1:y2, x1:x2]\n",
    "    segmentation_map[:, :, y1:y2, x1:x2] = segmentation_map[index, :, y1:y2, x1:x2]\n",
    "\n",
    "    return tomogram, segmentation_map\n",
    "\n",
    "\n",
    "# データ拡張の組み合わせ適用\n",
    "def augment_data(\n",
    "    tomogram,\n",
    "    segmentation_map,\n",
    "    crop_size=(16, 256, 256),\n",
    "    max_shift=10,\n",
    "    rotation_angle=30,\n",
    "    p=0.5,\n",
    "    mixup_alpha=0.4,\n",
    "    cutmix_alpha=1.0,\n",
    "):\n",
    "    \"\"\"Applies a combination of rotation, translation, flipping, cropping, mixup, and cutmix to the inputs with probabilities.\"\"\"\n",
    "    if random.random() < p:\n",
    "        tomogram, segmentation_map = rotate_3d(\n",
    "            tomogram,\n",
    "            segmentation_map,\n",
    "            angle=random.uniform(-rotation_angle, rotation_angle),\n",
    "        )\n",
    "    if random.random() < p:\n",
    "        tomogram, segmentation_map = translate_3d(\n",
    "            tomogram, segmentation_map, max_shift=max_shift\n",
    "        )\n",
    "    if random.random() < p:\n",
    "        tomogram, segmentation_map = flip_3d(tomogram, segmentation_map)\n",
    "    if random.random() < p:\n",
    "        tomogram, segmentation_map = crop_3d(\n",
    "            tomogram, segmentation_map, crop_size=crop_size\n",
    "        )\n",
    "    if random.random() < p:\n",
    "        tomogram, segmentation_map = mixup(\n",
    "            tomogram, segmentation_map, alpha=mixup_alpha\n",
    "        )\n",
    "    # if random.random() < p:\n",
    "    #     tomogram, segmentation_map = cutmix(\n",
    "    #         tomogram, segmentation_map, alpha=cutmix_alpha\n",
    "    #     )\n",
    "    return tomogram, segmentation_map\n",
    "\n",
    "\n",
    "# 使用例\n",
    "# バッチサイズ6, 深さ16, 高さ320, 幅320のランダムテンソル\n",
    "tomogram = torch.rand((6, 16, 320, 320))\n",
    "segmentation_map = torch.randint(0, 2, (6, 16, 320, 320))  # ラベルは0または1\n",
    "\n",
    "# データ拡張の適用\n",
    "aug_tomogram, aug_segmentation_map = augment_data(tomogram, segmentation_map, p=0.7)\n",
    "print(\"Original shape:\", tomogram.shape)\n",
    "print(\"Augmented shape:\", aug_tomogram.shape)"
   ]
  },
  {
   "cell_type": "code",
   "execution_count": 8,
   "metadata": {},
   "outputs": [],
   "source": [
    "from transformers import get_cosine_schedule_with_warmup\n",
    "\n",
    "optimizer = torch.optim.Adam(\n",
    "    model.parameters(), lr=CFG.lr, weight_decay=CFG.weight_decay\n",
    ")\n",
    "# criterion = nn.CrossEntropyLoss(\n",
    "#     #  weight=torch.tensor([2.0, 32, 32, 32, 32, 32, 32]).to(\"cuda\")\n",
    "# )\n",
    "criterion = DiceLoss()\n",
    "scheduler = get_cosine_schedule_with_warmup(\n",
    "    optimizer,\n",
    "    num_warmup_steps=10,\n",
    "    num_training_steps=CFG.epochs * len(train_loader),\n",
    "    # * batch_size,\n",
    ")\n",
    "seg_loss = SegmentationLoss(criterion)\n",
    "padf = PadToSize(CFG.resolution)"
   ]
  },
  {
   "cell_type": "code",
   "execution_count": 9,
   "metadata": {},
   "outputs": [],
   "source": [
    "# b, c, d, h, w = CFG.batch_size, 1, 96, 320, 320"
   ]
  },
  {
   "cell_type": "code",
   "execution_count": 10,
   "metadata": {},
   "outputs": [],
   "source": [
    "def preprocess_tensor(tensor):\n",
    "    batch_size, depth, height, width = tensor.shape\n",
    "    tensor = tensor.unsqueeze(2)  # (b, d, h, w) -> (b, d, 1, h, w)\n",
    "    return tensor"
   ]
  },
  {
   "cell_type": "code",
   "execution_count": 11,
   "metadata": {},
   "outputs": [
    {
     "data": {
      "text/plain": [
       "torch.Size([6, 16, 320, 320])"
      ]
     },
     "execution_count": 11,
     "metadata": {},
     "output_type": "execute_result"
    }
   ],
   "source": [
    "padf = PadToSize(CFG.resolution)\n",
    "padf(normalized_tomogram).shape"
   ]
  },
  {
   "cell_type": "code",
   "execution_count": 12,
   "metadata": {},
   "outputs": [
    {
     "name": "stderr",
     "output_type": "stream",
     "text": [
      "Epoch 1/300 [Training]: 100%|██████████| 100/100 [01:08<00:00,  1.46it/s, loss=0.9369]\n",
      "Epoch 1/300 [Validation]: 100%|██████████| 2/2 [00:00<00:00,  5.99it/s, loss=0.9122]\n"
     ]
    },
    {
     "name": "stdout",
     "output_type": "stream",
     "text": [
      "train-epoch-loss:0.9369 valid-epoch-loss:0.9122 train-beta4-score:0.0027 valid-beta4-score:0.0060\n"
     ]
    },
    {
     "name": "stderr",
     "output_type": "stream",
     "text": [
      "Epoch 2/300 [Training]: 100%|██████████| 100/100 [01:08<00:00,  1.47it/s, loss=0.8906]\n",
      "Epoch 2/300 [Validation]: 100%|██████████| 2/2 [00:00<00:00,  4.04it/s, loss=0.8750]\n"
     ]
    },
    {
     "name": "stdout",
     "output_type": "stream",
     "text": [
      "train-epoch-loss:0.8906 valid-epoch-loss:0.8750 train-beta4-score:0.0076 valid-beta4-score:0.0121\n"
     ]
    },
    {
     "name": "stderr",
     "output_type": "stream",
     "text": [
      "Epoch 3/300 [Training]: 100%|██████████| 100/100 [01:09<00:00,  1.44it/s, loss=0.8631]\n",
      "Epoch 3/300 [Validation]: 100%|██████████| 2/2 [00:00<00:00,  3.82it/s, loss=0.8447]\n"
     ]
    },
    {
     "name": "stdout",
     "output_type": "stream",
     "text": [
      "train-epoch-loss:0.8631 valid-epoch-loss:0.8447 train-beta4-score:0.0367 valid-beta4-score:0.0295\n"
     ]
    },
    {
     "name": "stderr",
     "output_type": "stream",
     "text": [
      "Epoch 4/300 [Training]: 100%|██████████| 100/100 [01:06<00:00,  1.50it/s, loss=0.8446]\n",
      "Epoch 4/300 [Validation]: 100%|██████████| 2/2 [00:00<00:00,  3.81it/s, loss=0.8069]\n"
     ]
    },
    {
     "name": "stdout",
     "output_type": "stream",
     "text": [
      "train-epoch-loss:0.8446 valid-epoch-loss:0.8069 train-beta4-score:0.0670 valid-beta4-score:0.0617\n"
     ]
    },
    {
     "name": "stderr",
     "output_type": "stream",
     "text": [
      "Epoch 5/300 [Training]: 100%|██████████| 100/100 [01:06<00:00,  1.50it/s, loss=0.8270]\n",
      "Epoch 5/300 [Validation]: 100%|██████████| 2/2 [00:00<00:00,  3.69it/s, loss=0.8220]\n"
     ]
    },
    {
     "name": "stdout",
     "output_type": "stream",
     "text": [
      "train-epoch-loss:0.8270 valid-epoch-loss:0.8220 train-beta4-score:0.1095 valid-beta4-score:0.1001\n"
     ]
    },
    {
     "name": "stderr",
     "output_type": "stream",
     "text": [
      "Epoch 6/300 [Training]: 100%|██████████| 100/100 [01:05<00:00,  1.52it/s, loss=0.8123]\n",
      "Epoch 6/300 [Validation]: 100%|██████████| 2/2 [00:00<00:00,  3.69it/s, loss=0.8094]\n"
     ]
    },
    {
     "name": "stdout",
     "output_type": "stream",
     "text": [
      "train-epoch-loss:0.8123 valid-epoch-loss:0.8094 train-beta4-score:0.3349 valid-beta4-score:0.2905\n"
     ]
    },
    {
     "name": "stderr",
     "output_type": "stream",
     "text": [
      "Epoch 7/300 [Training]: 100%|██████████| 100/100 [01:04<00:00,  1.56it/s, loss=0.8005]\n",
      "Epoch 7/300 [Validation]: 100%|██████████| 2/2 [00:00<00:00,  3.61it/s, loss=0.7108]\n"
     ]
    },
    {
     "name": "stdout",
     "output_type": "stream",
     "text": [
      "train-epoch-loss:0.8005 valid-epoch-loss:0.7108 train-beta4-score:0.2339 valid-beta4-score:0.2460\n"
     ]
    },
    {
     "name": "stderr",
     "output_type": "stream",
     "text": [
      "Epoch 8/300 [Training]: 100%|██████████| 100/100 [01:05<00:00,  1.53it/s, loss=0.7928]\n",
      "Epoch 8/300 [Validation]: 100%|██████████| 2/2 [00:00<00:00,  3.55it/s, loss=0.7752]\n"
     ]
    },
    {
     "name": "stdout",
     "output_type": "stream",
     "text": [
      "train-epoch-loss:0.7928 valid-epoch-loss:0.7752 train-beta4-score:0.2652 valid-beta4-score:0.2511\n"
     ]
    },
    {
     "name": "stderr",
     "output_type": "stream",
     "text": [
      "Epoch 9/300 [Training]: 100%|██████████| 100/100 [01:06<00:00,  1.51it/s, loss=0.7972]\n",
      "Epoch 9/300 [Validation]: 100%|██████████| 2/2 [00:00<00:00,  3.64it/s, loss=0.7574]\n"
     ]
    },
    {
     "name": "stdout",
     "output_type": "stream",
     "text": [
      "train-epoch-loss:0.7972 valid-epoch-loss:0.7574 train-beta4-score:0.2816 valid-beta4-score:0.2712\n"
     ]
    },
    {
     "name": "stderr",
     "output_type": "stream",
     "text": [
      "Epoch 10/300 [Training]: 100%|██████████| 100/100 [01:05<00:00,  1.52it/s, loss=0.7860]\n",
      "Epoch 10/300 [Validation]: 100%|██████████| 2/2 [00:00<00:00,  3.61it/s, loss=0.8313]\n"
     ]
    },
    {
     "name": "stdout",
     "output_type": "stream",
     "text": [
      "train-epoch-loss:0.7860 valid-epoch-loss:0.8313 train-beta4-score:0.2622 valid-beta4-score:0.2560\n"
     ]
    },
    {
     "name": "stderr",
     "output_type": "stream",
     "text": [
      "Epoch 11/300 [Training]: 100%|██████████| 100/100 [01:06<00:00,  1.49it/s, loss=0.7959]\n",
      "Epoch 11/300 [Validation]: 100%|██████████| 2/2 [00:00<00:00,  3.53it/s, loss=0.7205]\n"
     ]
    },
    {
     "name": "stdout",
     "output_type": "stream",
     "text": [
      "train-epoch-loss:0.7959 valid-epoch-loss:0.7205 train-beta4-score:0.2669 valid-beta4-score:0.2773\n"
     ]
    },
    {
     "name": "stderr",
     "output_type": "stream",
     "text": [
      "Epoch 12/300 [Training]: 100%|██████████| 100/100 [01:05<00:00,  1.52it/s, loss=0.7946]\n",
      "Epoch 12/300 [Validation]: 100%|██████████| 2/2 [00:00<00:00,  3.50it/s, loss=0.7092]\n"
     ]
    },
    {
     "name": "stdout",
     "output_type": "stream",
     "text": [
      "train-epoch-loss:0.7946 valid-epoch-loss:0.7092 train-beta4-score:0.2869 valid-beta4-score:0.2995\n"
     ]
    },
    {
     "name": "stderr",
     "output_type": "stream",
     "text": [
      "Epoch 13/300 [Training]: 100%|██████████| 100/100 [01:07<00:00,  1.48it/s, loss=0.7887]\n",
      "Epoch 13/300 [Validation]: 100%|██████████| 2/2 [00:00<00:00,  3.39it/s, loss=0.6747]\n"
     ]
    },
    {
     "name": "stdout",
     "output_type": "stream",
     "text": [
      "train-epoch-loss:0.7887 valid-epoch-loss:0.6747 train-beta4-score:0.3423 valid-beta4-score:0.3173\n"
     ]
    },
    {
     "name": "stderr",
     "output_type": "stream",
     "text": [
      "Epoch 14/300 [Training]: 100%|██████████| 100/100 [01:06<00:00,  1.49it/s, loss=0.7879]\n",
      "Epoch 14/300 [Validation]: 100%|██████████| 2/2 [00:00<00:00,  3.43it/s, loss=0.7183]\n"
     ]
    },
    {
     "name": "stdout",
     "output_type": "stream",
     "text": [
      "train-epoch-loss:0.7879 valid-epoch-loss:0.7183 train-beta4-score:0.3467 valid-beta4-score:0.3148\n"
     ]
    },
    {
     "name": "stderr",
     "output_type": "stream",
     "text": [
      "Epoch 15/300 [Training]: 100%|██████████| 100/100 [01:08<00:00,  1.47it/s, loss=0.7738]\n",
      "Epoch 15/300 [Validation]: 100%|██████████| 2/2 [00:00<00:00,  3.39it/s, loss=0.6622]\n"
     ]
    },
    {
     "name": "stdout",
     "output_type": "stream",
     "text": [
      "train-epoch-loss:0.7738 valid-epoch-loss:0.6622 train-beta4-score:0.3638 valid-beta4-score:0.3521\n"
     ]
    },
    {
     "name": "stderr",
     "output_type": "stream",
     "text": [
      "Epoch 16/300 [Training]: 100%|██████████| 100/100 [01:06<00:00,  1.50it/s, loss=0.7703]\n",
      "Epoch 16/300 [Validation]: 100%|██████████| 2/2 [00:00<00:00,  3.50it/s, loss=0.7241]\n"
     ]
    },
    {
     "name": "stdout",
     "output_type": "stream",
     "text": [
      "train-epoch-loss:0.7703 valid-epoch-loss:0.7241 train-beta4-score:0.4588 valid-beta4-score:0.3557\n"
     ]
    },
    {
     "name": "stderr",
     "output_type": "stream",
     "text": [
      "Epoch 17/300 [Training]: 100%|██████████| 100/100 [01:07<00:00,  1.48it/s, loss=0.7583]\n",
      "Epoch 17/300 [Validation]: 100%|██████████| 2/2 [00:00<00:00,  3.50it/s, loss=0.7747]\n"
     ]
    },
    {
     "name": "stdout",
     "output_type": "stream",
     "text": [
      "train-epoch-loss:0.7583 valid-epoch-loss:0.7747 train-beta4-score:0.3283 valid-beta4-score:0.2552\n"
     ]
    },
    {
     "name": "stderr",
     "output_type": "stream",
     "text": [
      "Epoch 18/300 [Training]: 100%|██████████| 100/100 [01:07<00:00,  1.48it/s, loss=0.7628]\n",
      "Epoch 18/300 [Validation]: 100%|██████████| 2/2 [00:00<00:00,  3.46it/s, loss=0.6220]\n"
     ]
    },
    {
     "name": "stdout",
     "output_type": "stream",
     "text": [
      "train-epoch-loss:0.7628 valid-epoch-loss:0.6220 train-beta4-score:0.4492 valid-beta4-score:0.4096\n"
     ]
    },
    {
     "name": "stderr",
     "output_type": "stream",
     "text": [
      "Epoch 19/300 [Training]: 100%|██████████| 100/100 [01:07<00:00,  1.49it/s, loss=0.7552]\n",
      "Epoch 19/300 [Validation]: 100%|██████████| 2/2 [00:00<00:00,  3.37it/s, loss=0.6119]\n"
     ]
    },
    {
     "name": "stdout",
     "output_type": "stream",
     "text": [
      "train-epoch-loss:0.7552 valid-epoch-loss:0.6119 train-beta4-score:0.4307 valid-beta4-score:0.3713\n"
     ]
    },
    {
     "name": "stderr",
     "output_type": "stream",
     "text": [
      "Epoch 20/300 [Training]: 100%|██████████| 100/100 [01:07<00:00,  1.47it/s, loss=0.7506]\n",
      "Epoch 20/300 [Validation]: 100%|██████████| 2/2 [00:00<00:00,  3.44it/s, loss=0.6340]\n"
     ]
    },
    {
     "name": "stdout",
     "output_type": "stream",
     "text": [
      "train-epoch-loss:0.7506 valid-epoch-loss:0.6340 train-beta4-score:0.5607 valid-beta4-score:0.4493\n"
     ]
    },
    {
     "name": "stderr",
     "output_type": "stream",
     "text": [
      "Epoch 21/300 [Training]: 100%|██████████| 100/100 [01:05<00:00,  1.53it/s, loss=0.7520]\n",
      "Epoch 21/300 [Validation]: 100%|██████████| 2/2 [00:00<00:00,  3.39it/s, loss=0.6098]\n"
     ]
    },
    {
     "name": "stdout",
     "output_type": "stream",
     "text": [
      "train-epoch-loss:0.7520 valid-epoch-loss:0.6098 train-beta4-score:0.4622 valid-beta4-score:0.3733\n"
     ]
    },
    {
     "name": "stderr",
     "output_type": "stream",
     "text": [
      "Epoch 22/300 [Training]: 100%|██████████| 100/100 [01:08<00:00,  1.46it/s, loss=0.7506]\n",
      "Epoch 22/300 [Validation]: 100%|██████████| 2/2 [00:00<00:00,  3.44it/s, loss=0.7853]\n"
     ]
    },
    {
     "name": "stdout",
     "output_type": "stream",
     "text": [
      "train-epoch-loss:0.7506 valid-epoch-loss:0.7853 train-beta4-score:0.4364 valid-beta4-score:0.3759\n"
     ]
    },
    {
     "name": "stderr",
     "output_type": "stream",
     "text": [
      "Epoch 23/300 [Training]: 100%|██████████| 100/100 [01:05<00:00,  1.53it/s, loss=0.7429]\n",
      "Epoch 23/300 [Validation]: 100%|██████████| 2/2 [00:00<00:00,  3.42it/s, loss=0.6261]\n"
     ]
    },
    {
     "name": "stdout",
     "output_type": "stream",
     "text": [
      "train-epoch-loss:0.7429 valid-epoch-loss:0.6261 train-beta4-score:0.5130 valid-beta4-score:0.3947\n"
     ]
    },
    {
     "name": "stderr",
     "output_type": "stream",
     "text": [
      "Epoch 24/300 [Training]: 100%|██████████| 100/100 [01:05<00:00,  1.53it/s, loss=0.7502]\n",
      "Epoch 24/300 [Validation]: 100%|██████████| 2/2 [00:00<00:00,  3.39it/s, loss=0.7253]\n"
     ]
    },
    {
     "name": "stdout",
     "output_type": "stream",
     "text": [
      "train-epoch-loss:0.7502 valid-epoch-loss:0.7253 train-beta4-score:0.3672 valid-beta4-score:0.3555\n"
     ]
    },
    {
     "name": "stderr",
     "output_type": "stream",
     "text": [
      "Epoch 25/300 [Training]: 100%|██████████| 100/100 [01:07<00:00,  1.49it/s, loss=0.7380]\n",
      "Epoch 25/300 [Validation]: 100%|██████████| 2/2 [00:00<00:00,  3.44it/s, loss=0.6314]\n"
     ]
    },
    {
     "name": "stdout",
     "output_type": "stream",
     "text": [
      "train-epoch-loss:0.7380 valid-epoch-loss:0.6314 train-beta4-score:0.4354 valid-beta4-score:0.3652\n"
     ]
    },
    {
     "name": "stderr",
     "output_type": "stream",
     "text": [
      "Epoch 26/300 [Training]: 100%|██████████| 100/100 [01:04<00:00,  1.54it/s, loss=0.7467]\n",
      "Epoch 26/300 [Validation]: 100%|██████████| 2/2 [00:00<00:00,  3.41it/s, loss=0.6223]\n"
     ]
    },
    {
     "name": "stdout",
     "output_type": "stream",
     "text": [
      "train-epoch-loss:0.7467 valid-epoch-loss:0.6223 train-beta4-score:0.5522 valid-beta4-score:0.4386\n"
     ]
    },
    {
     "name": "stderr",
     "output_type": "stream",
     "text": [
      "Epoch 27/300 [Training]: 100%|██████████| 100/100 [01:07<00:00,  1.47it/s, loss=0.7438]\n",
      "Epoch 27/300 [Validation]: 100%|██████████| 2/2 [00:00<00:00,  3.39it/s, loss=0.5561]\n"
     ]
    },
    {
     "name": "stdout",
     "output_type": "stream",
     "text": [
      "train-epoch-loss:0.7438 valid-epoch-loss:0.5561 train-beta4-score:0.4277 valid-beta4-score:0.3841\n"
     ]
    },
    {
     "name": "stderr",
     "output_type": "stream",
     "text": [
      "Epoch 28/300 [Training]: 100%|██████████| 100/100 [01:05<00:00,  1.52it/s, loss=0.7381]\n",
      "Epoch 28/300 [Validation]: 100%|██████████| 2/2 [00:00<00:00,  3.40it/s, loss=0.7464]\n"
     ]
    },
    {
     "name": "stdout",
     "output_type": "stream",
     "text": [
      "train-epoch-loss:0.7381 valid-epoch-loss:0.7464 train-beta4-score:0.4095 valid-beta4-score:0.3373\n"
     ]
    },
    {
     "name": "stderr",
     "output_type": "stream",
     "text": [
      "Epoch 29/300 [Training]: 100%|██████████| 100/100 [01:08<00:00,  1.46it/s, loss=0.7358]\n",
      "Epoch 29/300 [Validation]: 100%|██████████| 2/2 [00:00<00:00,  3.44it/s, loss=0.6808]\n"
     ]
    },
    {
     "name": "stdout",
     "output_type": "stream",
     "text": [
      "train-epoch-loss:0.7358 valid-epoch-loss:0.6808 train-beta4-score:0.5119 valid-beta4-score:0.4410\n"
     ]
    },
    {
     "name": "stderr",
     "output_type": "stream",
     "text": [
      "Epoch 30/300 [Training]: 100%|██████████| 100/100 [01:07<00:00,  1.49it/s, loss=0.6989]\n",
      "Epoch 30/300 [Validation]: 100%|██████████| 2/2 [00:00<00:00,  3.44it/s, loss=0.6018]\n"
     ]
    },
    {
     "name": "stdout",
     "output_type": "stream",
     "text": [
      "train-epoch-loss:0.6989 valid-epoch-loss:0.6018 train-beta4-score:0.5781 valid-beta4-score:0.4681\n"
     ]
    },
    {
     "name": "stderr",
     "output_type": "stream",
     "text": [
      "Epoch 31/300 [Training]: 100%|██████████| 100/100 [01:07<00:00,  1.48it/s, loss=0.6958]\n",
      "Epoch 31/300 [Validation]: 100%|██████████| 2/2 [00:00<00:00,  3.44it/s, loss=0.6059]\n"
     ]
    },
    {
     "name": "stdout",
     "output_type": "stream",
     "text": [
      "train-epoch-loss:0.6958 valid-epoch-loss:0.6059 train-beta4-score:0.5669 valid-beta4-score:0.4429\n"
     ]
    },
    {
     "name": "stderr",
     "output_type": "stream",
     "text": [
      "Epoch 32/300 [Training]: 100%|██████████| 100/100 [01:08<00:00,  1.47it/s, loss=0.6832]\n",
      "Epoch 32/300 [Validation]: 100%|██████████| 2/2 [00:00<00:00,  3.37it/s, loss=0.7500]\n"
     ]
    },
    {
     "name": "stdout",
     "output_type": "stream",
     "text": [
      "train-epoch-loss:0.6832 valid-epoch-loss:0.7500 train-beta4-score:0.5179 valid-beta4-score:0.4257\n"
     ]
    },
    {
     "name": "stderr",
     "output_type": "stream",
     "text": [
      "Epoch 33/300 [Training]: 100%|██████████| 100/100 [01:06<00:00,  1.50it/s, loss=0.6897]\n",
      "Epoch 33/300 [Validation]: 100%|██████████| 2/2 [00:00<00:00,  3.40it/s, loss=0.6333]\n"
     ]
    },
    {
     "name": "stdout",
     "output_type": "stream",
     "text": [
      "train-epoch-loss:0.6897 valid-epoch-loss:0.6333 train-beta4-score:0.3924 valid-beta4-score:0.3487\n"
     ]
    },
    {
     "name": "stderr",
     "output_type": "stream",
     "text": [
      "Epoch 34/300 [Training]: 100%|██████████| 100/100 [01:07<00:00,  1.48it/s, loss=0.6684]\n",
      "Epoch 34/300 [Validation]: 100%|██████████| 2/2 [00:00<00:00,  3.42it/s, loss=0.5971]\n"
     ]
    },
    {
     "name": "stdout",
     "output_type": "stream",
     "text": [
      "train-epoch-loss:0.6684 valid-epoch-loss:0.5971 train-beta4-score:0.3984 valid-beta4-score:0.3731\n"
     ]
    },
    {
     "name": "stderr",
     "output_type": "stream",
     "text": [
      "Epoch 35/300 [Training]: 100%|██████████| 100/100 [01:08<00:00,  1.46it/s, loss=0.6620]\n",
      "Epoch 35/300 [Validation]: 100%|██████████| 2/2 [00:00<00:00,  3.49it/s, loss=0.6524]\n"
     ]
    },
    {
     "name": "stdout",
     "output_type": "stream",
     "text": [
      "train-epoch-loss:0.6620 valid-epoch-loss:0.6524 train-beta4-score:0.6044 valid-beta4-score:0.4868\n"
     ]
    },
    {
     "name": "stderr",
     "output_type": "stream",
     "text": [
      "Epoch 36/300 [Training]: 100%|██████████| 100/100 [01:06<00:00,  1.50it/s, loss=0.6438]\n",
      "Epoch 36/300 [Validation]: 100%|██████████| 2/2 [00:00<00:00,  3.36it/s, loss=0.6506]\n"
     ]
    },
    {
     "name": "stdout",
     "output_type": "stream",
     "text": [
      "train-epoch-loss:0.6438 valid-epoch-loss:0.6506 train-beta4-score:0.5908 valid-beta4-score:0.4436\n"
     ]
    },
    {
     "name": "stderr",
     "output_type": "stream",
     "text": [
      "Epoch 37/300 [Training]: 100%|██████████| 100/100 [01:07<00:00,  1.48it/s, loss=0.5901]\n",
      "Epoch 37/300 [Validation]: 100%|██████████| 2/2 [00:00<00:00,  3.39it/s, loss=0.5023]\n"
     ]
    },
    {
     "name": "stdout",
     "output_type": "stream",
     "text": [
      "train-epoch-loss:0.5901 valid-epoch-loss:0.5023 train-beta4-score:0.5127 valid-beta4-score:0.4067\n"
     ]
    },
    {
     "name": "stderr",
     "output_type": "stream",
     "text": [
      "Epoch 38/300 [Training]: 100%|██████████| 100/100 [01:04<00:00,  1.54it/s, loss=0.5672]\n",
      "Epoch 38/300 [Validation]: 100%|██████████| 2/2 [00:00<00:00,  3.41it/s, loss=0.5413]\n"
     ]
    },
    {
     "name": "stdout",
     "output_type": "stream",
     "text": [
      "train-epoch-loss:0.5672 valid-epoch-loss:0.5413 train-beta4-score:0.5497 valid-beta4-score:0.4484\n"
     ]
    },
    {
     "name": "stderr",
     "output_type": "stream",
     "text": [
      "Epoch 39/300 [Training]: 100%|██████████| 100/100 [01:07<00:00,  1.47it/s, loss=0.5628]\n",
      "Epoch 39/300 [Validation]: 100%|██████████| 2/2 [00:00<00:00,  3.41it/s, loss=0.6596]\n"
     ]
    },
    {
     "name": "stdout",
     "output_type": "stream",
     "text": [
      "train-epoch-loss:0.5628 valid-epoch-loss:0.6596 train-beta4-score:0.5510 valid-beta4-score:0.4372\n"
     ]
    },
    {
     "name": "stderr",
     "output_type": "stream",
     "text": [
      "Epoch 40/300 [Training]: 100%|██████████| 100/100 [01:06<00:00,  1.50it/s, loss=0.5605]\n",
      "Epoch 40/300 [Validation]: 100%|██████████| 2/2 [00:00<00:00,  3.45it/s, loss=0.6380]\n"
     ]
    },
    {
     "name": "stdout",
     "output_type": "stream",
     "text": [
      "train-epoch-loss:0.5605 valid-epoch-loss:0.6380 train-beta4-score:0.4798 valid-beta4-score:0.4177\n"
     ]
    },
    {
     "name": "stderr",
     "output_type": "stream",
     "text": [
      "Epoch 41/300 [Training]: 100%|██████████| 100/100 [01:05<00:00,  1.52it/s, loss=0.5385]\n",
      "Epoch 41/300 [Validation]: 100%|██████████| 2/2 [00:00<00:00,  3.46it/s, loss=0.5281]\n"
     ]
    },
    {
     "name": "stdout",
     "output_type": "stream",
     "text": [
      "train-epoch-loss:0.5385 valid-epoch-loss:0.5281 train-beta4-score:0.5513 valid-beta4-score:0.4264\n"
     ]
    },
    {
     "name": "stderr",
     "output_type": "stream",
     "text": [
      "Epoch 42/300 [Training]: 100%|██████████| 100/100 [01:05<00:00,  1.53it/s, loss=0.5355]\n",
      "Epoch 42/300 [Validation]: 100%|██████████| 2/2 [00:00<00:00,  3.48it/s, loss=0.5189]\n"
     ]
    },
    {
     "name": "stdout",
     "output_type": "stream",
     "text": [
      "train-epoch-loss:0.5355 valid-epoch-loss:0.5189 train-beta4-score:0.5119 valid-beta4-score:0.4157\n"
     ]
    },
    {
     "name": "stderr",
     "output_type": "stream",
     "text": [
      "Epoch 43/300 [Training]: 100%|██████████| 100/100 [01:07<00:00,  1.48it/s, loss=0.5423]\n",
      "Epoch 43/300 [Validation]: 100%|██████████| 2/2 [00:00<00:00,  3.51it/s, loss=0.6698]\n"
     ]
    },
    {
     "name": "stdout",
     "output_type": "stream",
     "text": [
      "train-epoch-loss:0.5423 valid-epoch-loss:0.6698 train-beta4-score:0.5810 valid-beta4-score:0.4632\n"
     ]
    },
    {
     "name": "stderr",
     "output_type": "stream",
     "text": [
      "Epoch 44/300 [Training]: 100%|██████████| 100/100 [01:06<00:00,  1.50it/s, loss=0.4535]\n",
      "Epoch 44/300 [Validation]: 100%|██████████| 2/2 [00:00<00:00,  3.34it/s, loss=0.3662]\n"
     ]
    },
    {
     "name": "stdout",
     "output_type": "stream",
     "text": [
      "train-epoch-loss:0.4535 valid-epoch-loss:0.3662 train-beta4-score:0.0000 valid-beta4-score:0.0000\n"
     ]
    },
    {
     "name": "stderr",
     "output_type": "stream",
     "text": [
      "Epoch 45/300 [Training]: 100%|██████████| 100/100 [01:10<00:00,  1.43it/s, loss=0.4176]\n",
      "Epoch 45/300 [Validation]: 100%|██████████| 2/2 [00:00<00:00,  3.52it/s, loss=0.3127]\n"
     ]
    },
    {
     "name": "stdout",
     "output_type": "stream",
     "text": [
      "train-epoch-loss:0.4176 valid-epoch-loss:0.3127 train-beta4-score:0.0000 valid-beta4-score:0.0000\n"
     ]
    },
    {
     "name": "stderr",
     "output_type": "stream",
     "text": [
      "Epoch 46/300 [Training]: 100%|██████████| 100/100 [01:08<00:00,  1.46it/s, loss=0.3965]\n",
      "Epoch 46/300 [Validation]: 100%|██████████| 2/2 [00:00<00:00,  3.45it/s, loss=0.7146]\n"
     ]
    },
    {
     "name": "stdout",
     "output_type": "stream",
     "text": [
      "train-epoch-loss:0.3965 valid-epoch-loss:0.7146 train-beta4-score:0.0000 valid-beta4-score:0.0000\n"
     ]
    },
    {
     "name": "stderr",
     "output_type": "stream",
     "text": [
      "Epoch 47/300 [Training]: 100%|██████████| 100/100 [01:08<00:00,  1.46it/s, loss=0.4016]\n",
      "Epoch 47/300 [Validation]: 100%|██████████| 2/2 [00:00<00:00,  3.37it/s, loss=0.5360]\n"
     ]
    },
    {
     "name": "stdout",
     "output_type": "stream",
     "text": [
      "train-epoch-loss:0.4016 valid-epoch-loss:0.5360 train-beta4-score:0.0000 valid-beta4-score:0.0000\n"
     ]
    },
    {
     "name": "stderr",
     "output_type": "stream",
     "text": [
      "Epoch 48/300 [Training]: 100%|██████████| 100/100 [01:07<00:00,  1.49it/s, loss=0.4035]\n",
      "Epoch 48/300 [Validation]: 100%|██████████| 2/2 [00:00<00:00,  3.43it/s, loss=0.4734]\n"
     ]
    },
    {
     "name": "stdout",
     "output_type": "stream",
     "text": [
      "train-epoch-loss:0.4035 valid-epoch-loss:0.4734 train-beta4-score:0.0000 valid-beta4-score:0.0000\n"
     ]
    },
    {
     "name": "stderr",
     "output_type": "stream",
     "text": [
      "Epoch 49/300 [Training]: 100%|██████████| 100/100 [01:07<00:00,  1.47it/s, loss=0.4104]\n",
      "Epoch 49/300 [Validation]: 100%|██████████| 2/2 [00:00<00:00,  3.38it/s, loss=0.3930]\n"
     ]
    },
    {
     "name": "stdout",
     "output_type": "stream",
     "text": [
      "train-epoch-loss:0.4104 valid-epoch-loss:0.3930 train-beta4-score:0.0000 valid-beta4-score:0.0000\n"
     ]
    },
    {
     "name": "stderr",
     "output_type": "stream",
     "text": [
      "Epoch 50/300 [Training]: 100%|██████████| 100/100 [01:06<00:00,  1.50it/s, loss=0.4115]\n",
      "Epoch 50/300 [Validation]: 100%|██████████| 2/2 [00:00<00:00,  3.45it/s, loss=0.5583]\n"
     ]
    },
    {
     "name": "stdout",
     "output_type": "stream",
     "text": [
      "train-epoch-loss:0.4115 valid-epoch-loss:0.5583 train-beta4-score:0.0000 valid-beta4-score:0.0000\n"
     ]
    },
    {
     "name": "stderr",
     "output_type": "stream",
     "text": [
      "Epoch 51/300 [Training]: 100%|██████████| 100/100 [01:09<00:00,  1.44it/s, loss=0.4179]\n",
      "Epoch 51/300 [Validation]: 100%|██████████| 2/2 [00:00<00:00,  3.42it/s, loss=0.3439]\n"
     ]
    },
    {
     "name": "stdout",
     "output_type": "stream",
     "text": [
      "train-epoch-loss:0.4179 valid-epoch-loss:0.3439 train-beta4-score:0.0000 valid-beta4-score:0.0000\n"
     ]
    },
    {
     "name": "stderr",
     "output_type": "stream",
     "text": [
      "Epoch 52/300 [Training]: 100%|██████████| 100/100 [01:09<00:00,  1.45it/s, loss=0.4138]\n",
      "Epoch 52/300 [Validation]: 100%|██████████| 2/2 [00:00<00:00,  3.45it/s, loss=0.6744]\n"
     ]
    },
    {
     "name": "stdout",
     "output_type": "stream",
     "text": [
      "train-epoch-loss:0.4138 valid-epoch-loss:0.6744 train-beta4-score:0.0000 valid-beta4-score:0.0000\n"
     ]
    },
    {
     "name": "stderr",
     "output_type": "stream",
     "text": [
      "Epoch 53/300 [Training]: 100%|██████████| 100/100 [01:08<00:00,  1.46it/s, loss=0.4174]\n",
      "Epoch 53/300 [Validation]: 100%|██████████| 2/2 [00:00<00:00,  3.34it/s, loss=0.4779]\n"
     ]
    },
    {
     "name": "stdout",
     "output_type": "stream",
     "text": [
      "train-epoch-loss:0.4174 valid-epoch-loss:0.4779 train-beta4-score:0.0000 valid-beta4-score:0.0000\n"
     ]
    },
    {
     "name": "stderr",
     "output_type": "stream",
     "text": [
      "Epoch 54/300 [Training]: 100%|██████████| 100/100 [01:05<00:00,  1.53it/s, loss=0.3856]\n",
      "Epoch 54/300 [Validation]: 100%|██████████| 2/2 [00:00<00:00,  3.46it/s, loss=0.7368]\n"
     ]
    },
    {
     "name": "stdout",
     "output_type": "stream",
     "text": [
      "train-epoch-loss:0.3856 valid-epoch-loss:0.7368 train-beta4-score:0.0000 valid-beta4-score:0.0000\n"
     ]
    },
    {
     "name": "stderr",
     "output_type": "stream",
     "text": [
      "Epoch 55/300 [Training]: 100%|██████████| 100/100 [01:06<00:00,  1.50it/s, loss=0.4020]\n",
      "Epoch 55/300 [Validation]: 100%|██████████| 2/2 [00:00<00:00,  3.41it/s, loss=0.5984]\n"
     ]
    },
    {
     "name": "stdout",
     "output_type": "stream",
     "text": [
      "train-epoch-loss:0.4020 valid-epoch-loss:0.5984 train-beta4-score:0.0000 valid-beta4-score:0.0000\n"
     ]
    },
    {
     "name": "stderr",
     "output_type": "stream",
     "text": [
      "Epoch 56/300 [Training]: 100%|██████████| 100/100 [01:04<00:00,  1.55it/s, loss=0.3876]\n",
      "Epoch 56/300 [Validation]: 100%|██████████| 2/2 [00:00<00:00,  3.40it/s, loss=0.4019]\n"
     ]
    },
    {
     "name": "stdout",
     "output_type": "stream",
     "text": [
      "train-epoch-loss:0.3876 valid-epoch-loss:0.4019 train-beta4-score:0.0000 valid-beta4-score:0.0000\n"
     ]
    },
    {
     "name": "stderr",
     "output_type": "stream",
     "text": [
      "Epoch 57/300 [Training]: 100%|██████████| 100/100 [01:09<00:00,  1.44it/s, loss=0.4069]\n",
      "Epoch 57/300 [Validation]: 100%|██████████| 2/2 [00:00<00:00,  3.38it/s, loss=0.3840]\n"
     ]
    },
    {
     "name": "stdout",
     "output_type": "stream",
     "text": [
      "train-epoch-loss:0.4069 valid-epoch-loss:0.3840 train-beta4-score:0.0000 valid-beta4-score:0.0000\n"
     ]
    },
    {
     "name": "stderr",
     "output_type": "stream",
     "text": [
      "Epoch 58/300 [Training]: 100%|██████████| 100/100 [01:08<00:00,  1.47it/s, loss=0.4196]\n",
      "Epoch 58/300 [Validation]: 100%|██████████| 2/2 [00:00<00:00,  3.38it/s, loss=0.4644]\n"
     ]
    },
    {
     "name": "stdout",
     "output_type": "stream",
     "text": [
      "train-epoch-loss:0.4196 valid-epoch-loss:0.4644 train-beta4-score:0.0000 valid-beta4-score:0.0000\n"
     ]
    },
    {
     "name": "stderr",
     "output_type": "stream",
     "text": [
      "Epoch 59/300 [Training]: 100%|██████████| 100/100 [01:04<00:00,  1.54it/s, loss=0.3781]\n",
      "Epoch 59/300 [Validation]: 100%|██████████| 2/2 [00:00<00:00,  3.41it/s, loss=0.4689]\n"
     ]
    },
    {
     "name": "stdout",
     "output_type": "stream",
     "text": [
      "train-epoch-loss:0.3781 valid-epoch-loss:0.4689 train-beta4-score:0.0000 valid-beta4-score:0.0000\n"
     ]
    },
    {
     "name": "stderr",
     "output_type": "stream",
     "text": [
      "Epoch 60/300 [Training]: 100%|██████████| 100/100 [01:05<00:00,  1.52it/s, loss=0.4212]\n",
      "Epoch 60/300 [Validation]: 100%|██████████| 2/2 [00:00<00:00,  3.50it/s, loss=0.5314]\n"
     ]
    },
    {
     "name": "stdout",
     "output_type": "stream",
     "text": [
      "train-epoch-loss:0.4212 valid-epoch-loss:0.5314 train-beta4-score:0.0000 valid-beta4-score:0.0000\n"
     ]
    },
    {
     "name": "stderr",
     "output_type": "stream",
     "text": [
      "Epoch 61/300 [Training]: 100%|██████████| 100/100 [01:05<00:00,  1.53it/s, loss=0.3949]\n",
      "Epoch 61/300 [Validation]: 100%|██████████| 2/2 [00:00<00:00,  3.43it/s, loss=0.3036]\n"
     ]
    },
    {
     "name": "stdout",
     "output_type": "stream",
     "text": [
      "train-epoch-loss:0.3949 valid-epoch-loss:0.3036 train-beta4-score:0.0000 valid-beta4-score:0.0000\n"
     ]
    },
    {
     "name": "stderr",
     "output_type": "stream",
     "text": [
      "Epoch 62/300 [Training]: 100%|██████████| 100/100 [01:06<00:00,  1.51it/s, loss=0.4269]\n",
      "Epoch 62/300 [Validation]: 100%|██████████| 2/2 [00:00<00:00,  3.49it/s, loss=0.3170]\n"
     ]
    },
    {
     "name": "stdout",
     "output_type": "stream",
     "text": [
      "train-epoch-loss:0.4269 valid-epoch-loss:0.3170 train-beta4-score:0.0000 valid-beta4-score:0.0000\n"
     ]
    },
    {
     "name": "stderr",
     "output_type": "stream",
     "text": [
      "Epoch 63/300 [Training]: 100%|██████████| 100/100 [01:08<00:00,  1.45it/s, loss=0.4051]\n",
      "Epoch 63/300 [Validation]: 100%|██████████| 2/2 [00:00<00:00,  3.41it/s, loss=0.7681]\n"
     ]
    },
    {
     "name": "stdout",
     "output_type": "stream",
     "text": [
      "train-epoch-loss:0.4051 valid-epoch-loss:0.7681 train-beta4-score:0.0000 valid-beta4-score:0.0000\n"
     ]
    },
    {
     "name": "stderr",
     "output_type": "stream",
     "text": [
      "Epoch 64/300 [Training]: 100%|██████████| 100/100 [01:08<00:00,  1.46it/s, loss=0.4257]\n",
      "Epoch 64/300 [Validation]: 100%|██████████| 2/2 [00:00<00:00,  3.36it/s, loss=0.0848]\n"
     ]
    },
    {
     "name": "stdout",
     "output_type": "stream",
     "text": [
      "train-epoch-loss:0.4257 valid-epoch-loss:0.0848 train-beta4-score:0.0000 valid-beta4-score:0.0000\n"
     ]
    },
    {
     "name": "stderr",
     "output_type": "stream",
     "text": [
      "Epoch 65/300 [Training]: 100%|██████████| 100/100 [01:03<00:00,  1.57it/s, loss=0.3938]\n",
      "Epoch 65/300 [Validation]: 100%|██████████| 2/2 [00:00<00:00,  3.46it/s, loss=0.3126]\n"
     ]
    },
    {
     "name": "stdout",
     "output_type": "stream",
     "text": [
      "train-epoch-loss:0.3938 valid-epoch-loss:0.3126 train-beta4-score:0.0000 valid-beta4-score:0.0000\n"
     ]
    },
    {
     "name": "stderr",
     "output_type": "stream",
     "text": [
      "Epoch 66/300 [Training]: 100%|██████████| 100/100 [01:06<00:00,  1.50it/s, loss=0.3898]\n",
      "Epoch 66/300 [Validation]: 100%|██████████| 2/2 [00:00<00:00,  3.33it/s, loss=0.4913]\n"
     ]
    },
    {
     "name": "stdout",
     "output_type": "stream",
     "text": [
      "train-epoch-loss:0.3898 valid-epoch-loss:0.4913 train-beta4-score:0.0000 valid-beta4-score:0.0000\n"
     ]
    },
    {
     "name": "stderr",
     "output_type": "stream",
     "text": [
      "Epoch 67/300 [Training]: 100%|██████████| 100/100 [01:07<00:00,  1.47it/s, loss=0.4029]\n",
      "Epoch 67/300 [Validation]: 100%|██████████| 2/2 [00:00<00:00,  3.42it/s, loss=0.3438]\n"
     ]
    },
    {
     "name": "stdout",
     "output_type": "stream",
     "text": [
      "train-epoch-loss:0.4029 valid-epoch-loss:0.3438 train-beta4-score:0.0000 valid-beta4-score:0.0000\n"
     ]
    },
    {
     "name": "stderr",
     "output_type": "stream",
     "text": [
      "Epoch 68/300 [Training]: 100%|██████████| 100/100 [01:06<00:00,  1.50it/s, loss=0.4069]\n",
      "Epoch 68/300 [Validation]: 100%|██████████| 2/2 [00:00<00:00,  3.35it/s, loss=0.6029]\n"
     ]
    },
    {
     "name": "stdout",
     "output_type": "stream",
     "text": [
      "train-epoch-loss:0.4069 valid-epoch-loss:0.6029 train-beta4-score:0.0000 valid-beta4-score:0.0000\n"
     ]
    },
    {
     "name": "stderr",
     "output_type": "stream",
     "text": [
      "Epoch 69/300 [Training]: 100%|██████████| 100/100 [01:07<00:00,  1.49it/s, loss=0.3997]\n",
      "Epoch 69/300 [Validation]: 100%|██████████| 2/2 [00:00<00:00,  3.44it/s, loss=0.5582]\n"
     ]
    },
    {
     "name": "stdout",
     "output_type": "stream",
     "text": [
      "train-epoch-loss:0.3997 valid-epoch-loss:0.5582 train-beta4-score:0.0000 valid-beta4-score:0.0000\n"
     ]
    },
    {
     "name": "stderr",
     "output_type": "stream",
     "text": [
      "Epoch 70/300 [Training]: 100%|██████████| 100/100 [01:07<00:00,  1.48it/s, loss=0.4013]\n",
      "Epoch 70/300 [Validation]: 100%|██████████| 2/2 [00:00<00:00,  3.41it/s, loss=0.5626]\n"
     ]
    },
    {
     "name": "stdout",
     "output_type": "stream",
     "text": [
      "train-epoch-loss:0.4013 valid-epoch-loss:0.5626 train-beta4-score:0.0000 valid-beta4-score:0.0000\n"
     ]
    },
    {
     "name": "stderr",
     "output_type": "stream",
     "text": [
      "Epoch 71/300 [Training]: 100%|██████████| 100/100 [01:08<00:00,  1.46it/s, loss=0.3889]\n",
      "Epoch 71/300 [Validation]: 100%|██████████| 2/2 [00:00<00:00,  3.34it/s, loss=0.2858]\n"
     ]
    },
    {
     "name": "stdout",
     "output_type": "stream",
     "text": [
      "train-epoch-loss:0.3889 valid-epoch-loss:0.2858 train-beta4-score:0.0000 valid-beta4-score:0.0000\n"
     ]
    },
    {
     "name": "stderr",
     "output_type": "stream",
     "text": [
      "Epoch 72/300 [Training]: 100%|██████████| 100/100 [01:07<00:00,  1.48it/s, loss=0.4097]\n",
      "Epoch 72/300 [Validation]: 100%|██████████| 2/2 [00:00<00:00,  3.41it/s, loss=0.4690]\n"
     ]
    },
    {
     "name": "stdout",
     "output_type": "stream",
     "text": [
      "train-epoch-loss:0.4097 valid-epoch-loss:0.4690 train-beta4-score:0.0000 valid-beta4-score:0.0000\n"
     ]
    },
    {
     "name": "stderr",
     "output_type": "stream",
     "text": [
      "Epoch 73/300 [Training]: 100%|██████████| 100/100 [01:07<00:00,  1.48it/s, loss=0.3850]\n",
      "Epoch 73/300 [Validation]: 100%|██████████| 2/2 [00:00<00:00,  3.45it/s, loss=0.3394]\n"
     ]
    },
    {
     "name": "stdout",
     "output_type": "stream",
     "text": [
      "train-epoch-loss:0.3850 valid-epoch-loss:0.3394 train-beta4-score:0.0000 valid-beta4-score:0.0000\n"
     ]
    },
    {
     "name": "stderr",
     "output_type": "stream",
     "text": [
      "Epoch 74/300 [Training]: 100%|██████████| 100/100 [01:07<00:00,  1.49it/s, loss=0.3990]\n",
      "Epoch 74/300 [Validation]: 100%|██████████| 2/2 [00:00<00:00,  3.29it/s, loss=0.5002]\n"
     ]
    },
    {
     "name": "stdout",
     "output_type": "stream",
     "text": [
      "train-epoch-loss:0.3990 valid-epoch-loss:0.5002 train-beta4-score:0.0000 valid-beta4-score:0.0000\n"
     ]
    },
    {
     "name": "stderr",
     "output_type": "stream",
     "text": [
      "Epoch 75/300 [Training]: 100%|██████████| 100/100 [01:05<00:00,  1.54it/s, loss=0.3983]\n",
      "Epoch 75/300 [Validation]: 100%|██████████| 2/2 [00:00<00:00,  3.42it/s, loss=0.6431]\n"
     ]
    },
    {
     "name": "stdout",
     "output_type": "stream",
     "text": [
      "train-epoch-loss:0.3983 valid-epoch-loss:0.6431 train-beta4-score:0.0000 valid-beta4-score:0.0000\n"
     ]
    },
    {
     "name": "stderr",
     "output_type": "stream",
     "text": [
      "Epoch 76/300 [Training]: 100%|██████████| 100/100 [01:05<00:00,  1.53it/s, loss=0.3730]\n",
      "Epoch 76/300 [Validation]: 100%|██████████| 2/2 [00:00<00:00,  3.28it/s, loss=0.2947]\n"
     ]
    },
    {
     "name": "stdout",
     "output_type": "stream",
     "text": [
      "train-epoch-loss:0.3730 valid-epoch-loss:0.2947 train-beta4-score:0.0000 valid-beta4-score:0.0000\n"
     ]
    },
    {
     "name": "stderr",
     "output_type": "stream",
     "text": [
      "Epoch 77/300 [Training]: 100%|██████████| 100/100 [01:08<00:00,  1.47it/s, loss=0.4007]\n",
      "Epoch 77/300 [Validation]: 100%|██████████| 2/2 [00:00<00:00,  3.39it/s, loss=0.3974]\n"
     ]
    },
    {
     "name": "stdout",
     "output_type": "stream",
     "text": [
      "train-epoch-loss:0.4007 valid-epoch-loss:0.3974 train-beta4-score:0.0000 valid-beta4-score:0.0000\n"
     ]
    },
    {
     "name": "stderr",
     "output_type": "stream",
     "text": [
      "Epoch 78/300 [Training]: 100%|██████████| 100/100 [01:06<00:00,  1.51it/s, loss=0.4021]\n",
      "Epoch 78/300 [Validation]: 100%|██████████| 2/2 [00:00<00:00,  3.39it/s, loss=0.6610]\n"
     ]
    },
    {
     "name": "stdout",
     "output_type": "stream",
     "text": [
      "train-epoch-loss:0.4021 valid-epoch-loss:0.6610 train-beta4-score:0.0000 valid-beta4-score:0.0000\n"
     ]
    },
    {
     "name": "stderr",
     "output_type": "stream",
     "text": [
      "Epoch 79/300 [Training]: 100%|██████████| 100/100 [01:04<00:00,  1.55it/s, loss=0.4144]\n",
      "Epoch 79/300 [Validation]: 100%|██████████| 2/2 [00:00<00:00,  3.45it/s, loss=0.4555]\n"
     ]
    },
    {
     "name": "stdout",
     "output_type": "stream",
     "text": [
      "train-epoch-loss:0.4144 valid-epoch-loss:0.4555 train-beta4-score:0.0000 valid-beta4-score:0.0000\n"
     ]
    },
    {
     "name": "stderr",
     "output_type": "stream",
     "text": [
      "Epoch 80/300 [Training]: 100%|██████████| 100/100 [01:05<00:00,  1.52it/s, loss=0.4067]\n",
      "Epoch 80/300 [Validation]: 100%|██████████| 2/2 [00:00<00:00,  3.48it/s, loss=0.7101]\n"
     ]
    },
    {
     "name": "stdout",
     "output_type": "stream",
     "text": [
      "train-epoch-loss:0.4067 valid-epoch-loss:0.7101 train-beta4-score:0.0000 valid-beta4-score:0.0000\n"
     ]
    },
    {
     "name": "stderr",
     "output_type": "stream",
     "text": [
      "Epoch 81/300 [Training]: 100%|██████████| 100/100 [01:10<00:00,  1.43it/s, loss=0.4161]\n",
      "Epoch 81/300 [Validation]: 100%|██████████| 2/2 [00:00<00:00,  3.39it/s, loss=0.6967]\n"
     ]
    },
    {
     "name": "stdout",
     "output_type": "stream",
     "text": [
      "train-epoch-loss:0.4161 valid-epoch-loss:0.6967 train-beta4-score:0.0000 valid-beta4-score:0.0000\n"
     ]
    },
    {
     "name": "stderr",
     "output_type": "stream",
     "text": [
      "Epoch 82/300 [Training]: 100%|██████████| 100/100 [01:07<00:00,  1.48it/s, loss=0.3943]\n",
      "Epoch 82/300 [Validation]: 100%|██████████| 2/2 [00:00<00:00,  3.36it/s, loss=0.2947]\n"
     ]
    },
    {
     "name": "stdout",
     "output_type": "stream",
     "text": [
      "train-epoch-loss:0.3943 valid-epoch-loss:0.2947 train-beta4-score:0.0000 valid-beta4-score:0.0000\n"
     ]
    },
    {
     "name": "stderr",
     "output_type": "stream",
     "text": [
      "Epoch 83/300 [Training]: 100%|██████████| 100/100 [01:06<00:00,  1.49it/s, loss=0.3929]\n",
      "Epoch 83/300 [Validation]: 100%|██████████| 2/2 [00:00<00:00,  3.43it/s, loss=0.3572]\n"
     ]
    },
    {
     "name": "stdout",
     "output_type": "stream",
     "text": [
      "train-epoch-loss:0.3929 valid-epoch-loss:0.3572 train-beta4-score:0.0000 valid-beta4-score:0.0000\n"
     ]
    },
    {
     "name": "stderr",
     "output_type": "stream",
     "text": [
      "Epoch 84/300 [Training]: 100%|██████████| 100/100 [01:08<00:00,  1.46it/s, loss=0.4005]\n",
      "Epoch 84/300 [Validation]: 100%|██████████| 2/2 [00:00<00:00,  3.46it/s, loss=0.5271]\n"
     ]
    },
    {
     "name": "stdout",
     "output_type": "stream",
     "text": [
      "train-epoch-loss:0.4005 valid-epoch-loss:0.5271 train-beta4-score:0.0000 valid-beta4-score:0.0000\n"
     ]
    },
    {
     "name": "stderr",
     "output_type": "stream",
     "text": [
      "Epoch 85/300 [Training]: 100%|██████████| 100/100 [01:06<00:00,  1.51it/s, loss=0.4028]\n",
      "Epoch 85/300 [Validation]: 100%|██████████| 2/2 [00:00<00:00,  3.43it/s, loss=0.5583]\n"
     ]
    },
    {
     "name": "stdout",
     "output_type": "stream",
     "text": [
      "train-epoch-loss:0.4028 valid-epoch-loss:0.5583 train-beta4-score:0.0000 valid-beta4-score:0.0000\n"
     ]
    },
    {
     "name": "stderr",
     "output_type": "stream",
     "text": [
      "Epoch 86/300 [Training]: 100%|██████████| 100/100 [01:09<00:00,  1.45it/s, loss=0.3985]\n",
      "Epoch 86/300 [Validation]: 100%|██████████| 2/2 [00:00<00:00,  3.42it/s, loss=0.4957]\n"
     ]
    },
    {
     "name": "stdout",
     "output_type": "stream",
     "text": [
      "train-epoch-loss:0.3985 valid-epoch-loss:0.4957 train-beta4-score:0.0000 valid-beta4-score:0.0000\n"
     ]
    },
    {
     "name": "stderr",
     "output_type": "stream",
     "text": [
      "Epoch 87/300 [Training]: 100%|██████████| 100/100 [01:05<00:00,  1.52it/s, loss=0.3847]\n",
      "Epoch 87/300 [Validation]: 100%|██████████| 2/2 [00:00<00:00,  3.37it/s, loss=0.7101]\n"
     ]
    },
    {
     "name": "stdout",
     "output_type": "stream",
     "text": [
      "train-epoch-loss:0.3847 valid-epoch-loss:0.7101 train-beta4-score:0.0000 valid-beta4-score:0.0000\n"
     ]
    },
    {
     "name": "stderr",
     "output_type": "stream",
     "text": [
      "Epoch 88/300 [Training]: 100%|██████████| 100/100 [01:05<00:00,  1.52it/s, loss=0.3997]\n",
      "Epoch 88/300 [Validation]: 100%|██████████| 2/2 [00:00<00:00,  3.39it/s, loss=0.2902]\n"
     ]
    },
    {
     "name": "stdout",
     "output_type": "stream",
     "text": [
      "train-epoch-loss:0.3997 valid-epoch-loss:0.2902 train-beta4-score:0.0000 valid-beta4-score:0.0000\n"
     ]
    },
    {
     "name": "stderr",
     "output_type": "stream",
     "text": [
      "Epoch 89/300 [Training]: 100%|██████████| 100/100 [01:06<00:00,  1.49it/s, loss=0.3998]\n",
      "Epoch 89/300 [Validation]: 100%|██████████| 2/2 [00:00<00:00,  3.40it/s, loss=0.1295]\n"
     ]
    },
    {
     "name": "stdout",
     "output_type": "stream",
     "text": [
      "train-epoch-loss:0.3998 valid-epoch-loss:0.1295 train-beta4-score:0.0000 valid-beta4-score:0.0000\n"
     ]
    },
    {
     "name": "stderr",
     "output_type": "stream",
     "text": [
      "Epoch 90/300 [Training]: 100%|██████████| 100/100 [01:07<00:00,  1.48it/s, loss=0.3875]\n",
      "Epoch 90/300 [Validation]: 100%|██████████| 2/2 [00:00<00:00,  3.32it/s, loss=0.7369]\n"
     ]
    },
    {
     "name": "stdout",
     "output_type": "stream",
     "text": [
      "train-epoch-loss:0.3875 valid-epoch-loss:0.7369 train-beta4-score:0.0000 valid-beta4-score:0.0000\n"
     ]
    },
    {
     "name": "stderr",
     "output_type": "stream",
     "text": [
      "Epoch 91/300 [Training]: 100%|██████████| 100/100 [01:06<00:00,  1.51it/s, loss=0.4118]\n",
      "Epoch 91/300 [Validation]: 100%|██████████| 2/2 [00:00<00:00,  3.37it/s, loss=0.5001]\n"
     ]
    },
    {
     "name": "stdout",
     "output_type": "stream",
     "text": [
      "train-epoch-loss:0.4118 valid-epoch-loss:0.5001 train-beta4-score:0.0000 valid-beta4-score:0.0000\n"
     ]
    },
    {
     "name": "stderr",
     "output_type": "stream",
     "text": [
      "Epoch 92/300 [Training]: 100%|██████████| 100/100 [01:08<00:00,  1.45it/s, loss=0.3833]\n",
      "Epoch 92/300 [Validation]: 100%|██████████| 2/2 [00:00<00:00,  3.37it/s, loss=0.7905]\n"
     ]
    },
    {
     "name": "stdout",
     "output_type": "stream",
     "text": [
      "train-epoch-loss:0.3833 valid-epoch-loss:0.7905 train-beta4-score:0.0000 valid-beta4-score:0.0000\n"
     ]
    },
    {
     "name": "stderr",
     "output_type": "stream",
     "text": [
      "Epoch 93/300 [Training]: 100%|██████████| 100/100 [01:05<00:00,  1.52it/s, loss=0.4050]\n",
      "Epoch 93/300 [Validation]: 100%|██████████| 2/2 [00:00<00:00,  3.42it/s, loss=0.3840]\n"
     ]
    },
    {
     "name": "stdout",
     "output_type": "stream",
     "text": [
      "train-epoch-loss:0.4050 valid-epoch-loss:0.3840 train-beta4-score:0.0000 valid-beta4-score:0.0000\n"
     ]
    },
    {
     "name": "stderr",
     "output_type": "stream",
     "text": [
      "Epoch 94/300 [Training]: 100%|██████████| 100/100 [01:05<00:00,  1.53it/s, loss=0.3994]\n",
      "Epoch 94/300 [Validation]: 100%|██████████| 2/2 [00:00<00:00,  3.38it/s, loss=0.5761]\n"
     ]
    },
    {
     "name": "stdout",
     "output_type": "stream",
     "text": [
      "train-epoch-loss:0.3994 valid-epoch-loss:0.5761 train-beta4-score:0.0000 valid-beta4-score:0.0000\n"
     ]
    },
    {
     "name": "stderr",
     "output_type": "stream",
     "text": [
      "Epoch 95/300 [Training]: 100%|██████████| 100/100 [01:07<00:00,  1.49it/s, loss=0.4016]\n",
      "Epoch 95/300 [Validation]: 100%|██████████| 2/2 [00:00<00:00,  3.40it/s, loss=0.7816]\n"
     ]
    },
    {
     "name": "stdout",
     "output_type": "stream",
     "text": [
      "train-epoch-loss:0.4016 valid-epoch-loss:0.7816 train-beta4-score:0.0000 valid-beta4-score:0.0000\n"
     ]
    },
    {
     "name": "stderr",
     "output_type": "stream",
     "text": [
      "Epoch 96/300 [Training]: 100%|██████████| 100/100 [01:06<00:00,  1.50it/s, loss=0.3864]\n",
      "Epoch 96/300 [Validation]: 100%|██████████| 2/2 [00:00<00:00,  3.48it/s, loss=0.6789]\n"
     ]
    },
    {
     "name": "stdout",
     "output_type": "stream",
     "text": [
      "train-epoch-loss:0.3864 valid-epoch-loss:0.6789 train-beta4-score:0.0000 valid-beta4-score:0.0000\n"
     ]
    },
    {
     "name": "stderr",
     "output_type": "stream",
     "text": [
      "Epoch 97/300 [Training]: 100%|██████████| 100/100 [01:07<00:00,  1.48it/s, loss=0.4094]\n",
      "Epoch 97/300 [Validation]: 100%|██████████| 2/2 [00:00<00:00,  3.44it/s, loss=0.5225]\n"
     ]
    },
    {
     "name": "stdout",
     "output_type": "stream",
     "text": [
      "train-epoch-loss:0.4094 valid-epoch-loss:0.5225 train-beta4-score:0.0000 valid-beta4-score:0.0000\n"
     ]
    },
    {
     "name": "stderr",
     "output_type": "stream",
     "text": [
      "Epoch 98/300 [Training]: 100%|██████████| 100/100 [01:04<00:00,  1.55it/s, loss=0.4106]\n",
      "Epoch 98/300 [Validation]: 100%|██████████| 2/2 [00:00<00:00,  3.41it/s, loss=0.5850]\n"
     ]
    },
    {
     "name": "stdout",
     "output_type": "stream",
     "text": [
      "train-epoch-loss:0.4106 valid-epoch-loss:0.5850 train-beta4-score:0.0000 valid-beta4-score:0.0000\n"
     ]
    },
    {
     "name": "stderr",
     "output_type": "stream",
     "text": [
      "Epoch 99/300 [Training]: 100%|██████████| 100/100 [01:05<00:00,  1.53it/s, loss=0.3987]\n",
      "Epoch 99/300 [Validation]: 100%|██████████| 2/2 [00:00<00:00,  3.40it/s, loss=0.7146]\n"
     ]
    },
    {
     "name": "stdout",
     "output_type": "stream",
     "text": [
      "train-epoch-loss:0.3987 valid-epoch-loss:0.7146 train-beta4-score:0.0000 valid-beta4-score:0.0000\n"
     ]
    },
    {
     "name": "stderr",
     "output_type": "stream",
     "text": [
      "Epoch 100/300 [Training]: 100%|██████████| 100/100 [01:05<00:00,  1.53it/s, loss=0.4085]\n",
      "Epoch 100/300 [Validation]: 100%|██████████| 2/2 [00:00<00:00,  3.43it/s, loss=0.3349]\n"
     ]
    },
    {
     "name": "stdout",
     "output_type": "stream",
     "text": [
      "train-epoch-loss:0.4085 valid-epoch-loss:0.3349 train-beta4-score:0.0000 valid-beta4-score:0.0000\n"
     ]
    },
    {
     "name": "stderr",
     "output_type": "stream",
     "text": [
      "Epoch 101/300 [Training]: 100%|██████████| 100/100 [01:10<00:00,  1.43it/s, loss=0.4062]\n",
      "Epoch 101/300 [Validation]: 100%|██████████| 2/2 [00:00<00:00,  3.41it/s, loss=0.5314]\n"
     ]
    },
    {
     "name": "stdout",
     "output_type": "stream",
     "text": [
      "train-epoch-loss:0.4062 valid-epoch-loss:0.5314 train-beta4-score:0.0000 valid-beta4-score:0.0000\n"
     ]
    },
    {
     "name": "stderr",
     "output_type": "stream",
     "text": [
      "Epoch 102/300 [Training]: 100%|██████████| 100/100 [01:10<00:00,  1.43it/s, loss=0.4089]\n",
      "Epoch 102/300 [Validation]: 100%|██████████| 2/2 [00:00<00:00,  3.31it/s, loss=0.2679]\n"
     ]
    },
    {
     "name": "stdout",
     "output_type": "stream",
     "text": [
      "train-epoch-loss:0.4089 valid-epoch-loss:0.2679 train-beta4-score:0.0000 valid-beta4-score:0.0000\n"
     ]
    },
    {
     "name": "stderr",
     "output_type": "stream",
     "text": [
      "Epoch 103/300 [Training]: 100%|██████████| 100/100 [01:05<00:00,  1.53it/s, loss=0.4141]\n",
      "Epoch 103/300 [Validation]: 100%|██████████| 2/2 [00:00<00:00,  3.38it/s, loss=0.5270]\n"
     ]
    },
    {
     "name": "stdout",
     "output_type": "stream",
     "text": [
      "train-epoch-loss:0.4141 valid-epoch-loss:0.5270 train-beta4-score:0.0000 valid-beta4-score:0.0000\n"
     ]
    },
    {
     "name": "stderr",
     "output_type": "stream",
     "text": [
      "Epoch 104/300 [Training]: 100%|██████████| 100/100 [01:09<00:00,  1.44it/s, loss=0.4088]\n",
      "Epoch 104/300 [Validation]: 100%|██████████| 2/2 [00:00<00:00,  3.48it/s, loss=0.7548]\n"
     ]
    },
    {
     "name": "stdout",
     "output_type": "stream",
     "text": [
      "train-epoch-loss:0.4088 valid-epoch-loss:0.7548 train-beta4-score:0.0000 valid-beta4-score:0.0000\n"
     ]
    },
    {
     "name": "stderr",
     "output_type": "stream",
     "text": [
      "Epoch 105/300 [Training]: 100%|██████████| 100/100 [01:07<00:00,  1.49it/s, loss=0.3874]\n",
      "Epoch 105/300 [Validation]: 100%|██████████| 2/2 [00:00<00:00,  3.41it/s, loss=0.4645]\n"
     ]
    },
    {
     "name": "stdout",
     "output_type": "stream",
     "text": [
      "train-epoch-loss:0.3874 valid-epoch-loss:0.4645 train-beta4-score:0.0000 valid-beta4-score:0.0000\n"
     ]
    },
    {
     "name": "stderr",
     "output_type": "stream",
     "text": [
      "Epoch 106/300 [Training]: 100%|██████████| 100/100 [01:06<00:00,  1.51it/s, loss=0.4034]\n",
      "Epoch 106/300 [Validation]: 100%|██████████| 2/2 [00:00<00:00,  3.42it/s, loss=0.7593]\n"
     ]
    },
    {
     "name": "stdout",
     "output_type": "stream",
     "text": [
      "train-epoch-loss:0.4034 valid-epoch-loss:0.7593 train-beta4-score:0.0000 valid-beta4-score:0.0000\n"
     ]
    },
    {
     "name": "stderr",
     "output_type": "stream",
     "text": [
      "Epoch 107/300 [Training]: 100%|██████████| 100/100 [01:07<00:00,  1.49it/s, loss=0.3933]\n",
      "Epoch 107/300 [Validation]: 100%|██████████| 2/2 [00:00<00:00,  3.39it/s, loss=0.5315]\n"
     ]
    },
    {
     "name": "stdout",
     "output_type": "stream",
     "text": [
      "train-epoch-loss:0.3933 valid-epoch-loss:0.5315 train-beta4-score:0.0000 valid-beta4-score:0.0000\n"
     ]
    },
    {
     "name": "stderr",
     "output_type": "stream",
     "text": [
      "Epoch 108/300 [Training]: 100%|██████████| 100/100 [01:06<00:00,  1.50it/s, loss=0.3890]\n",
      "Epoch 108/300 [Validation]: 100%|██████████| 2/2 [00:00<00:00,  3.44it/s, loss=0.5092]\n"
     ]
    },
    {
     "name": "stdout",
     "output_type": "stream",
     "text": [
      "train-epoch-loss:0.3890 valid-epoch-loss:0.5092 train-beta4-score:0.0000 valid-beta4-score:0.0000\n"
     ]
    },
    {
     "name": "stderr",
     "output_type": "stream",
     "text": [
      "Epoch 109/300 [Training]: 100%|██████████| 100/100 [01:05<00:00,  1.52it/s, loss=0.3982]\n",
      "Epoch 109/300 [Validation]: 100%|██████████| 2/2 [00:00<00:00,  3.44it/s, loss=0.6521]\n"
     ]
    },
    {
     "name": "stdout",
     "output_type": "stream",
     "text": [
      "train-epoch-loss:0.3982 valid-epoch-loss:0.6521 train-beta4-score:0.0000 valid-beta4-score:0.0000\n"
     ]
    },
    {
     "name": "stderr",
     "output_type": "stream",
     "text": [
      "Epoch 110/300 [Training]: 100%|██████████| 100/100 [01:05<00:00,  1.52it/s, loss=0.3896]\n",
      "Epoch 110/300 [Validation]: 100%|██████████| 2/2 [00:00<00:00,  3.37it/s, loss=0.3617]\n"
     ]
    },
    {
     "name": "stdout",
     "output_type": "stream",
     "text": [
      "train-epoch-loss:0.3896 valid-epoch-loss:0.3617 train-beta4-score:0.0000 valid-beta4-score:0.0000\n"
     ]
    },
    {
     "name": "stderr",
     "output_type": "stream",
     "text": [
      "Epoch 111/300 [Training]: 100%|██████████| 100/100 [01:09<00:00,  1.45it/s, loss=0.4219]\n",
      "Epoch 111/300 [Validation]: 100%|██████████| 2/2 [00:00<00:00,  3.40it/s, loss=0.1920]\n"
     ]
    },
    {
     "name": "stdout",
     "output_type": "stream",
     "text": [
      "train-epoch-loss:0.4219 valid-epoch-loss:0.1920 train-beta4-score:0.0000 valid-beta4-score:0.0000\n"
     ]
    },
    {
     "name": "stderr",
     "output_type": "stream",
     "text": [
      "Epoch 112/300 [Training]: 100%|██████████| 100/100 [01:07<00:00,  1.47it/s, loss=0.3961]\n",
      "Epoch 112/300 [Validation]: 100%|██████████| 2/2 [00:00<00:00,  3.31it/s, loss=0.4912]\n"
     ]
    },
    {
     "name": "stdout",
     "output_type": "stream",
     "text": [
      "train-epoch-loss:0.3961 valid-epoch-loss:0.4912 train-beta4-score:0.0000 valid-beta4-score:0.0000\n"
     ]
    },
    {
     "name": "stderr",
     "output_type": "stream",
     "text": [
      "Epoch 113/300 [Training]: 100%|██████████| 100/100 [01:07<00:00,  1.48it/s, loss=0.4065]\n",
      "Epoch 113/300 [Validation]: 100%|██████████| 2/2 [00:00<00:00,  3.41it/s, loss=0.7726]\n"
     ]
    },
    {
     "name": "stdout",
     "output_type": "stream",
     "text": [
      "train-epoch-loss:0.4065 valid-epoch-loss:0.7726 train-beta4-score:0.0000 valid-beta4-score:0.0000\n"
     ]
    },
    {
     "name": "stderr",
     "output_type": "stream",
     "text": [
      "Epoch 114/300 [Training]: 100%|██████████| 100/100 [01:07<00:00,  1.48it/s, loss=0.4032]\n",
      "Epoch 114/300 [Validation]: 100%|██████████| 2/2 [00:00<00:00,  3.38it/s, loss=0.7324]\n"
     ]
    },
    {
     "name": "stdout",
     "output_type": "stream",
     "text": [
      "train-epoch-loss:0.4032 valid-epoch-loss:0.7324 train-beta4-score:0.0000 valid-beta4-score:0.0000\n"
     ]
    },
    {
     "name": "stderr",
     "output_type": "stream",
     "text": [
      "Epoch 115/300 [Training]: 100%|██████████| 100/100 [01:05<00:00,  1.53it/s, loss=0.3860]\n",
      "Epoch 115/300 [Validation]: 100%|██████████| 2/2 [00:00<00:00,  3.47it/s, loss=0.6074]\n"
     ]
    },
    {
     "name": "stdout",
     "output_type": "stream",
     "text": [
      "train-epoch-loss:0.3860 valid-epoch-loss:0.6074 train-beta4-score:0.0000 valid-beta4-score:0.0000\n"
     ]
    },
    {
     "name": "stderr",
     "output_type": "stream",
     "text": [
      "Epoch 116/300 [Training]: 100%|██████████| 100/100 [01:05<00:00,  1.52it/s, loss=0.3988]\n",
      "Epoch 116/300 [Validation]: 100%|██████████| 2/2 [00:00<00:00,  3.38it/s, loss=0.6029]\n"
     ]
    },
    {
     "name": "stdout",
     "output_type": "stream",
     "text": [
      "train-epoch-loss:0.3988 valid-epoch-loss:0.6029 train-beta4-score:0.0000 valid-beta4-score:0.0000\n"
     ]
    },
    {
     "name": "stderr",
     "output_type": "stream",
     "text": [
      "Epoch 117/300 [Training]: 100%|██████████| 100/100 [01:06<00:00,  1.51it/s, loss=0.4057]\n",
      "Epoch 117/300 [Validation]: 100%|██████████| 2/2 [00:00<00:00,  3.45it/s, loss=0.4019]\n"
     ]
    },
    {
     "name": "stdout",
     "output_type": "stream",
     "text": [
      "train-epoch-loss:0.4057 valid-epoch-loss:0.4019 train-beta4-score:0.0000 valid-beta4-score:0.0000\n"
     ]
    },
    {
     "name": "stderr",
     "output_type": "stream",
     "text": [
      "Epoch 118/300 [Training]: 100%|██████████| 100/100 [01:05<00:00,  1.53it/s, loss=0.3819]\n",
      "Epoch 118/300 [Validation]: 100%|██████████| 2/2 [00:00<00:00,  3.45it/s, loss=0.6877]\n"
     ]
    },
    {
     "name": "stdout",
     "output_type": "stream",
     "text": [
      "train-epoch-loss:0.3819 valid-epoch-loss:0.6877 train-beta4-score:0.0000 valid-beta4-score:0.0000\n"
     ]
    },
    {
     "name": "stderr",
     "output_type": "stream",
     "text": [
      "Epoch 119/300 [Training]: 100%|██████████| 100/100 [01:07<00:00,  1.47it/s, loss=0.4145]\n",
      "Epoch 119/300 [Validation]: 100%|██████████| 2/2 [00:00<00:00,  3.34it/s, loss=0.4153]\n"
     ]
    },
    {
     "name": "stdout",
     "output_type": "stream",
     "text": [
      "train-epoch-loss:0.4145 valid-epoch-loss:0.4153 train-beta4-score:0.0000 valid-beta4-score:0.0000\n"
     ]
    },
    {
     "name": "stderr",
     "output_type": "stream",
     "text": [
      "Epoch 120/300 [Training]: 100%|██████████| 100/100 [01:05<00:00,  1.52it/s, loss=0.4071]\n",
      "Epoch 120/300 [Validation]: 100%|██████████| 2/2 [00:00<00:00,  3.37it/s, loss=0.3929]\n"
     ]
    },
    {
     "name": "stdout",
     "output_type": "stream",
     "text": [
      "train-epoch-loss:0.4071 valid-epoch-loss:0.3929 train-beta4-score:0.0000 valid-beta4-score:0.0000\n"
     ]
    },
    {
     "name": "stderr",
     "output_type": "stream",
     "text": [
      "Epoch 121/300 [Training]: 100%|██████████| 100/100 [01:04<00:00,  1.54it/s, loss=0.3941]\n",
      "Epoch 121/300 [Validation]: 100%|██████████| 2/2 [00:00<00:00,  3.37it/s, loss=0.3617]\n"
     ]
    },
    {
     "name": "stdout",
     "output_type": "stream",
     "text": [
      "train-epoch-loss:0.3941 valid-epoch-loss:0.3617 train-beta4-score:0.0000 valid-beta4-score:0.0000\n"
     ]
    },
    {
     "name": "stderr",
     "output_type": "stream",
     "text": [
      "Epoch 122/300 [Training]: 100%|██████████| 100/100 [01:05<00:00,  1.52it/s, loss=0.4010]\n",
      "Epoch 122/300 [Validation]: 100%|██████████| 2/2 [00:00<00:00,  3.42it/s, loss=0.5761]\n"
     ]
    },
    {
     "name": "stdout",
     "output_type": "stream",
     "text": [
      "train-epoch-loss:0.4010 valid-epoch-loss:0.5761 train-beta4-score:0.0000 valid-beta4-score:0.0000\n"
     ]
    },
    {
     "name": "stderr",
     "output_type": "stream",
     "text": [
      "Epoch 123/300 [Training]: 100%|██████████| 100/100 [01:05<00:00,  1.53it/s, loss=0.4078]\n",
      "Epoch 123/300 [Validation]: 100%|██████████| 2/2 [00:00<00:00,  3.36it/s, loss=0.7637]\n"
     ]
    },
    {
     "name": "stdout",
     "output_type": "stream",
     "text": [
      "train-epoch-loss:0.4078 valid-epoch-loss:0.7637 train-beta4-score:0.0000 valid-beta4-score:0.0000\n"
     ]
    },
    {
     "name": "stderr",
     "output_type": "stream",
     "text": [
      "Epoch 124/300 [Training]: 100%|██████████| 100/100 [01:04<00:00,  1.55it/s, loss=0.3933]\n",
      "Epoch 124/300 [Validation]: 100%|██████████| 2/2 [00:00<00:00,  3.39it/s, loss=0.6565]\n"
     ]
    },
    {
     "name": "stdout",
     "output_type": "stream",
     "text": [
      "train-epoch-loss:0.3933 valid-epoch-loss:0.6565 train-beta4-score:0.0000 valid-beta4-score:0.0000\n"
     ]
    },
    {
     "name": "stderr",
     "output_type": "stream",
     "text": [
      "Epoch 125/300 [Training]: 100%|██████████| 100/100 [01:08<00:00,  1.46it/s, loss=0.4062]\n",
      "Epoch 125/300 [Validation]: 100%|██████████| 2/2 [00:00<00:00,  3.39it/s, loss=0.5850]\n"
     ]
    },
    {
     "name": "stdout",
     "output_type": "stream",
     "text": [
      "train-epoch-loss:0.4062 valid-epoch-loss:0.5850 train-beta4-score:0.0000 valid-beta4-score:0.0000\n"
     ]
    },
    {
     "name": "stderr",
     "output_type": "stream",
     "text": [
      "Epoch 126/300 [Training]: 100%|██████████| 100/100 [01:08<00:00,  1.47it/s, loss=0.3881]\n",
      "Epoch 126/300 [Validation]: 100%|██████████| 2/2 [00:00<00:00,  3.41it/s, loss=0.2813]\n"
     ]
    },
    {
     "name": "stdout",
     "output_type": "stream",
     "text": [
      "train-epoch-loss:0.3881 valid-epoch-loss:0.2813 train-beta4-score:0.0000 valid-beta4-score:0.0000\n"
     ]
    },
    {
     "name": "stderr",
     "output_type": "stream",
     "text": [
      "Epoch 127/300 [Training]: 100%|██████████| 100/100 [01:06<00:00,  1.51it/s, loss=0.3914]\n",
      "Epoch 127/300 [Validation]: 100%|██████████| 2/2 [00:00<00:00,  3.40it/s, loss=0.6298]\n"
     ]
    },
    {
     "name": "stdout",
     "output_type": "stream",
     "text": [
      "train-epoch-loss:0.3914 valid-epoch-loss:0.6298 train-beta4-score:0.0000 valid-beta4-score:0.0000\n"
     ]
    },
    {
     "name": "stderr",
     "output_type": "stream",
     "text": [
      "Epoch 128/300 [Training]: 100%|██████████| 100/100 [01:06<00:00,  1.50it/s, loss=0.3956]\n",
      "Epoch 128/300 [Validation]: 100%|██████████| 2/2 [00:00<00:00,  3.38it/s, loss=0.6297]\n"
     ]
    },
    {
     "name": "stdout",
     "output_type": "stream",
     "text": [
      "train-epoch-loss:0.3956 valid-epoch-loss:0.6297 train-beta4-score:0.0000 valid-beta4-score:0.0000\n"
     ]
    },
    {
     "name": "stderr",
     "output_type": "stream",
     "text": [
      "Epoch 129/300 [Training]: 100%|██████████| 100/100 [01:06<00:00,  1.51it/s, loss=0.3929]\n",
      "Epoch 129/300 [Validation]: 100%|██████████| 2/2 [00:00<00:00,  3.49it/s, loss=0.3974]\n"
     ]
    },
    {
     "name": "stdout",
     "output_type": "stream",
     "text": [
      "train-epoch-loss:0.3929 valid-epoch-loss:0.3974 train-beta4-score:0.0000 valid-beta4-score:0.0000\n"
     ]
    },
    {
     "name": "stderr",
     "output_type": "stream",
     "text": [
      "Epoch 130/300 [Training]: 100%|██████████| 100/100 [01:06<00:00,  1.50it/s, loss=0.3976]\n",
      "Epoch 130/300 [Validation]: 100%|██████████| 2/2 [00:00<00:00,  3.35it/s, loss=0.5894]\n"
     ]
    },
    {
     "name": "stdout",
     "output_type": "stream",
     "text": [
      "train-epoch-loss:0.3976 valid-epoch-loss:0.5894 train-beta4-score:0.0000 valid-beta4-score:0.0000\n"
     ]
    },
    {
     "name": "stderr",
     "output_type": "stream",
     "text": [
      "Epoch 131/300 [Training]: 100%|██████████| 100/100 [01:09<00:00,  1.45it/s, loss=0.4049]\n",
      "Epoch 131/300 [Validation]: 100%|██████████| 2/2 [00:00<00:00,  3.30it/s, loss=0.6833]\n"
     ]
    },
    {
     "name": "stdout",
     "output_type": "stream",
     "text": [
      "train-epoch-loss:0.4049 valid-epoch-loss:0.6833 train-beta4-score:0.0000 valid-beta4-score:0.0000\n"
     ]
    },
    {
     "name": "stderr",
     "output_type": "stream",
     "text": [
      "Epoch 132/300 [Training]: 100%|██████████| 100/100 [01:08<00:00,  1.46it/s, loss=0.4159]\n",
      "Epoch 132/300 [Validation]: 100%|██████████| 2/2 [00:00<00:00,  3.41it/s, loss=0.3171]\n"
     ]
    },
    {
     "name": "stdout",
     "output_type": "stream",
     "text": [
      "train-epoch-loss:0.4159 valid-epoch-loss:0.3171 train-beta4-score:0.0000 valid-beta4-score:0.0000\n"
     ]
    },
    {
     "name": "stderr",
     "output_type": "stream",
     "text": [
      "Epoch 133/300 [Training]: 100%|██████████| 100/100 [01:05<00:00,  1.52it/s, loss=0.3975]\n",
      "Epoch 133/300 [Validation]: 100%|██████████| 2/2 [00:00<00:00,  3.36it/s, loss=0.4064]\n"
     ]
    },
    {
     "name": "stdout",
     "output_type": "stream",
     "text": [
      "train-epoch-loss:0.3975 valid-epoch-loss:0.4064 train-beta4-score:0.0000 valid-beta4-score:0.0000\n"
     ]
    },
    {
     "name": "stderr",
     "output_type": "stream",
     "text": [
      "Epoch 134/300 [Training]: 100%|██████████| 100/100 [01:06<00:00,  1.49it/s, loss=0.4102]\n",
      "Epoch 134/300 [Validation]: 100%|██████████| 2/2 [00:00<00:00,  3.33it/s, loss=0.2902]\n"
     ]
    },
    {
     "name": "stdout",
     "output_type": "stream",
     "text": [
      "train-epoch-loss:0.4102 valid-epoch-loss:0.2902 train-beta4-score:0.0000 valid-beta4-score:0.0000\n"
     ]
    },
    {
     "name": "stderr",
     "output_type": "stream",
     "text": [
      "Epoch 135/300 [Training]: 100%|██████████| 100/100 [01:05<00:00,  1.52it/s, loss=0.4040]\n",
      "Epoch 135/300 [Validation]: 100%|██████████| 2/2 [00:00<00:00,  3.41it/s, loss=0.7548]\n"
     ]
    },
    {
     "name": "stdout",
     "output_type": "stream",
     "text": [
      "train-epoch-loss:0.4040 valid-epoch-loss:0.7548 train-beta4-score:0.0000 valid-beta4-score:0.0000\n"
     ]
    },
    {
     "name": "stderr",
     "output_type": "stream",
     "text": [
      "Epoch 136/300 [Training]: 100%|██████████| 100/100 [01:05<00:00,  1.53it/s, loss=0.4214]\n",
      "Epoch 136/300 [Validation]: 100%|██████████| 2/2 [00:00<00:00,  3.41it/s, loss=0.7414]\n"
     ]
    },
    {
     "name": "stdout",
     "output_type": "stream",
     "text": [
      "train-epoch-loss:0.4214 valid-epoch-loss:0.7414 train-beta4-score:0.0000 valid-beta4-score:0.0000\n"
     ]
    },
    {
     "name": "stderr",
     "output_type": "stream",
     "text": [
      "Epoch 137/300 [Training]: 100%|██████████| 100/100 [01:05<00:00,  1.52it/s, loss=0.4037]\n",
      "Epoch 137/300 [Validation]: 100%|██████████| 2/2 [00:00<00:00,  3.39it/s, loss=0.6342]\n"
     ]
    },
    {
     "name": "stdout",
     "output_type": "stream",
     "text": [
      "train-epoch-loss:0.4037 valid-epoch-loss:0.6342 train-beta4-score:0.0000 valid-beta4-score:0.0000\n"
     ]
    },
    {
     "name": "stderr",
     "output_type": "stream",
     "text": [
      "Epoch 138/300 [Training]: 100%|██████████| 100/100 [01:06<00:00,  1.50it/s, loss=0.3930]\n",
      "Epoch 138/300 [Validation]: 100%|██████████| 2/2 [00:00<00:00,  3.36it/s, loss=0.3974]\n"
     ]
    },
    {
     "name": "stdout",
     "output_type": "stream",
     "text": [
      "train-epoch-loss:0.3930 valid-epoch-loss:0.3974 train-beta4-score:0.0000 valid-beta4-score:0.0000\n"
     ]
    },
    {
     "name": "stderr",
     "output_type": "stream",
     "text": [
      "Epoch 139/300 [Training]: 100%|██████████| 100/100 [01:05<00:00,  1.53it/s, loss=0.3967]\n",
      "Epoch 139/300 [Validation]: 100%|██████████| 2/2 [00:00<00:00,  3.29it/s, loss=0.2545]\n"
     ]
    },
    {
     "name": "stdout",
     "output_type": "stream",
     "text": [
      "train-epoch-loss:0.3967 valid-epoch-loss:0.2545 train-beta4-score:0.0000 valid-beta4-score:0.0000\n"
     ]
    },
    {
     "name": "stderr",
     "output_type": "stream",
     "text": [
      "Epoch 140/300 [Training]: 100%|██████████| 100/100 [01:07<00:00,  1.47it/s, loss=0.3856]\n",
      "Epoch 140/300 [Validation]: 100%|██████████| 2/2 [00:00<00:00,  3.39it/s, loss=0.2813]\n"
     ]
    },
    {
     "name": "stdout",
     "output_type": "stream",
     "text": [
      "train-epoch-loss:0.3856 valid-epoch-loss:0.2813 train-beta4-score:0.0000 valid-beta4-score:0.0000\n"
     ]
    },
    {
     "name": "stderr",
     "output_type": "stream",
     "text": [
      "Epoch 141/300 [Training]: 100%|██████████| 100/100 [01:06<00:00,  1.50it/s, loss=0.4079]\n",
      "Epoch 141/300 [Validation]: 100%|██████████| 2/2 [00:00<00:00,  3.37it/s, loss=0.6431]\n"
     ]
    },
    {
     "name": "stdout",
     "output_type": "stream",
     "text": [
      "train-epoch-loss:0.4079 valid-epoch-loss:0.6431 train-beta4-score:0.0000 valid-beta4-score:0.0000\n"
     ]
    },
    {
     "name": "stderr",
     "output_type": "stream",
     "text": [
      "Epoch 142/300 [Training]: 100%|██████████| 100/100 [01:07<00:00,  1.48it/s, loss=0.4046]\n",
      "Epoch 142/300 [Validation]: 100%|██████████| 2/2 [00:00<00:00,  3.24it/s, loss=0.5627]\n"
     ]
    },
    {
     "name": "stdout",
     "output_type": "stream",
     "text": [
      "train-epoch-loss:0.4046 valid-epoch-loss:0.5627 train-beta4-score:0.0000 valid-beta4-score:0.0000\n"
     ]
    },
    {
     "name": "stderr",
     "output_type": "stream",
     "text": [
      "Epoch 143/300 [Training]: 100%|██████████| 100/100 [01:05<00:00,  1.53it/s, loss=0.3737]\n",
      "Epoch 143/300 [Validation]: 100%|██████████| 2/2 [00:00<00:00,  3.24it/s, loss=0.7727]\n"
     ]
    },
    {
     "name": "stdout",
     "output_type": "stream",
     "text": [
      "train-epoch-loss:0.3737 valid-epoch-loss:0.7727 train-beta4-score:0.0000 valid-beta4-score:0.0000\n"
     ]
    },
    {
     "name": "stderr",
     "output_type": "stream",
     "text": [
      "Epoch 144/300 [Training]: 100%|██████████| 100/100 [01:07<00:00,  1.48it/s, loss=0.4083]\n",
      "Epoch 144/300 [Validation]: 100%|██████████| 2/2 [00:00<00:00,  3.39it/s, loss=0.7593]\n"
     ]
    },
    {
     "name": "stdout",
     "output_type": "stream",
     "text": [
      "train-epoch-loss:0.4083 valid-epoch-loss:0.7593 train-beta4-score:0.0000 valid-beta4-score:0.0000\n"
     ]
    },
    {
     "name": "stderr",
     "output_type": "stream",
     "text": [
      "Epoch 145/300 [Training]: 100%|██████████| 100/100 [01:06<00:00,  1.51it/s, loss=0.3906]\n",
      "Epoch 145/300 [Validation]: 100%|██████████| 2/2 [00:00<00:00,  3.45it/s, loss=0.5851]\n"
     ]
    },
    {
     "name": "stdout",
     "output_type": "stream",
     "text": [
      "train-epoch-loss:0.3906 valid-epoch-loss:0.5851 train-beta4-score:0.0000 valid-beta4-score:0.0000\n"
     ]
    },
    {
     "name": "stderr",
     "output_type": "stream",
     "text": [
      "Epoch 146/300 [Training]: 100%|██████████| 100/100 [01:05<00:00,  1.54it/s, loss=0.3818]\n",
      "Epoch 146/300 [Validation]: 100%|██████████| 2/2 [00:00<00:00,  3.40it/s, loss=0.4600]\n"
     ]
    },
    {
     "name": "stdout",
     "output_type": "stream",
     "text": [
      "train-epoch-loss:0.3818 valid-epoch-loss:0.4600 train-beta4-score:0.0000 valid-beta4-score:0.0000\n"
     ]
    },
    {
     "name": "stderr",
     "output_type": "stream",
     "text": [
      "Epoch 147/300 [Training]: 100%|██████████| 100/100 [01:07<00:00,  1.48it/s, loss=0.3934]\n",
      "Epoch 147/300 [Validation]: 100%|██████████| 2/2 [00:00<00:00,  3.40it/s, loss=0.4288]\n"
     ]
    },
    {
     "name": "stdout",
     "output_type": "stream",
     "text": [
      "train-epoch-loss:0.3934 valid-epoch-loss:0.4288 train-beta4-score:0.0000 valid-beta4-score:0.0000\n"
     ]
    },
    {
     "name": "stderr",
     "output_type": "stream",
     "text": [
      "Epoch 148/300 [Training]: 100%|██████████| 100/100 [01:08<00:00,  1.46it/s, loss=0.3845]\n",
      "Epoch 148/300 [Validation]: 100%|██████████| 2/2 [00:00<00:00,  3.40it/s, loss=0.1474]\n"
     ]
    },
    {
     "name": "stdout",
     "output_type": "stream",
     "text": [
      "train-epoch-loss:0.3845 valid-epoch-loss:0.1474 train-beta4-score:0.0000 valid-beta4-score:0.0000\n"
     ]
    },
    {
     "name": "stderr",
     "output_type": "stream",
     "text": [
      "Epoch 149/300 [Training]: 100%|██████████| 100/100 [01:08<00:00,  1.47it/s, loss=0.3967]\n",
      "Epoch 149/300 [Validation]: 100%|██████████| 2/2 [00:00<00:00,  3.40it/s, loss=0.2902]\n"
     ]
    },
    {
     "name": "stdout",
     "output_type": "stream",
     "text": [
      "train-epoch-loss:0.3967 valid-epoch-loss:0.2902 train-beta4-score:0.0000 valid-beta4-score:0.0000\n"
     ]
    },
    {
     "name": "stderr",
     "output_type": "stream",
     "text": [
      "Epoch 150/300 [Training]: 100%|██████████| 100/100 [01:07<00:00,  1.49it/s, loss=0.4059]\n",
      "Epoch 150/300 [Validation]: 100%|██████████| 2/2 [00:00<00:00,  3.44it/s, loss=0.6029]\n"
     ]
    },
    {
     "name": "stdout",
     "output_type": "stream",
     "text": [
      "train-epoch-loss:0.4059 valid-epoch-loss:0.6029 train-beta4-score:0.0000 valid-beta4-score:0.0000\n"
     ]
    },
    {
     "name": "stderr",
     "output_type": "stream",
     "text": [
      "Epoch 151/300 [Training]: 100%|██████████| 100/100 [01:05<00:00,  1.53it/s, loss=0.4091]\n",
      "Epoch 151/300 [Validation]: 100%|██████████| 2/2 [00:00<00:00,  3.32it/s, loss=0.6163]\n"
     ]
    },
    {
     "name": "stdout",
     "output_type": "stream",
     "text": [
      "train-epoch-loss:0.4091 valid-epoch-loss:0.6163 train-beta4-score:0.0000 valid-beta4-score:0.0000\n"
     ]
    },
    {
     "name": "stderr",
     "output_type": "stream",
     "text": [
      "Epoch 152/300 [Training]: 100%|██████████| 100/100 [01:09<00:00,  1.44it/s, loss=0.4191]\n",
      "Epoch 152/300 [Validation]: 100%|██████████| 2/2 [00:00<00:00,  3.31it/s, loss=0.5671]\n"
     ]
    },
    {
     "name": "stdout",
     "output_type": "stream",
     "text": [
      "train-epoch-loss:0.4191 valid-epoch-loss:0.5671 train-beta4-score:0.0000 valid-beta4-score:0.0000\n"
     ]
    },
    {
     "name": "stderr",
     "output_type": "stream",
     "text": [
      "Epoch 153/300 [Training]: 100%|██████████| 100/100 [01:05<00:00,  1.53it/s, loss=0.3860]\n",
      "Epoch 153/300 [Validation]: 100%|██████████| 2/2 [00:00<00:00,  3.39it/s, loss=0.5046]\n"
     ]
    },
    {
     "name": "stdout",
     "output_type": "stream",
     "text": [
      "train-epoch-loss:0.3860 valid-epoch-loss:0.5046 train-beta4-score:0.0000 valid-beta4-score:0.0000\n"
     ]
    },
    {
     "name": "stderr",
     "output_type": "stream",
     "text": [
      "Epoch 154/300 [Training]: 100%|██████████| 100/100 [01:05<00:00,  1.52it/s, loss=0.3961]\n",
      "Epoch 154/300 [Validation]: 100%|██████████| 2/2 [00:00<00:00,  3.37it/s, loss=0.4108]\n"
     ]
    },
    {
     "name": "stdout",
     "output_type": "stream",
     "text": [
      "train-epoch-loss:0.3961 valid-epoch-loss:0.4108 train-beta4-score:0.0000 valid-beta4-score:0.0000\n"
     ]
    },
    {
     "name": "stderr",
     "output_type": "stream",
     "text": [
      "Epoch 155/300 [Training]: 100%|██████████| 100/100 [01:07<00:00,  1.48it/s, loss=0.3999]\n",
      "Epoch 155/300 [Validation]: 100%|██████████| 2/2 [00:00<00:00,  3.39it/s, loss=0.2099]\n"
     ]
    },
    {
     "name": "stdout",
     "output_type": "stream",
     "text": [
      "train-epoch-loss:0.3999 valid-epoch-loss:0.2099 train-beta4-score:0.0000 valid-beta4-score:0.0000\n"
     ]
    },
    {
     "name": "stderr",
     "output_type": "stream",
     "text": [
      "Epoch 156/300 [Training]: 100%|██████████| 100/100 [01:07<00:00,  1.48it/s, loss=0.4098]\n",
      "Epoch 156/300 [Validation]: 100%|██████████| 2/2 [00:00<00:00,  3.46it/s, loss=0.6521]\n"
     ]
    },
    {
     "name": "stdout",
     "output_type": "stream",
     "text": [
      "train-epoch-loss:0.4098 valid-epoch-loss:0.6521 train-beta4-score:0.0000 valid-beta4-score:0.0000\n"
     ]
    },
    {
     "name": "stderr",
     "output_type": "stream",
     "text": [
      "Epoch 157/300 [Training]: 100%|██████████| 100/100 [01:08<00:00,  1.46it/s, loss=0.3976]\n",
      "Epoch 157/300 [Validation]: 100%|██████████| 2/2 [00:00<00:00,  3.43it/s, loss=0.1206]\n"
     ]
    },
    {
     "name": "stdout",
     "output_type": "stream",
     "text": [
      "train-epoch-loss:0.3976 valid-epoch-loss:0.1206 train-beta4-score:0.0000 valid-beta4-score:0.0000\n"
     ]
    },
    {
     "name": "stderr",
     "output_type": "stream",
     "text": [
      "Epoch 158/300 [Training]: 100%|██████████| 100/100 [01:05<00:00,  1.53it/s, loss=0.3744]\n",
      "Epoch 158/300 [Validation]: 100%|██████████| 2/2 [00:00<00:00,  3.39it/s, loss=0.7860]\n"
     ]
    },
    {
     "name": "stdout",
     "output_type": "stream",
     "text": [
      "train-epoch-loss:0.3744 valid-epoch-loss:0.7860 train-beta4-score:0.0000 valid-beta4-score:0.0000\n"
     ]
    },
    {
     "name": "stderr",
     "output_type": "stream",
     "text": [
      "Epoch 159/300 [Training]: 100%|██████████| 100/100 [01:04<00:00,  1.54it/s, loss=0.3920]\n",
      "Epoch 159/300 [Validation]: 100%|██████████| 2/2 [00:00<00:00,  3.44it/s, loss=0.7548]\n"
     ]
    },
    {
     "name": "stdout",
     "output_type": "stream",
     "text": [
      "train-epoch-loss:0.3920 valid-epoch-loss:0.7548 train-beta4-score:0.0000 valid-beta4-score:0.0000\n"
     ]
    },
    {
     "name": "stderr",
     "output_type": "stream",
     "text": [
      "Epoch 160/300 [Training]: 100%|██████████| 100/100 [01:06<00:00,  1.50it/s, loss=0.3790]\n",
      "Epoch 160/300 [Validation]: 100%|██████████| 2/2 [00:00<00:00,  3.38it/s, loss=0.7324]\n"
     ]
    },
    {
     "name": "stdout",
     "output_type": "stream",
     "text": [
      "train-epoch-loss:0.3790 valid-epoch-loss:0.7324 train-beta4-score:0.0000 valid-beta4-score:0.0000\n"
     ]
    },
    {
     "name": "stderr",
     "output_type": "stream",
     "text": [
      "Epoch 161/300 [Training]: 100%|██████████| 100/100 [01:06<00:00,  1.50it/s, loss=0.3925]\n",
      "Epoch 161/300 [Validation]: 100%|██████████| 2/2 [00:00<00:00,  3.46it/s, loss=0.5850]\n"
     ]
    },
    {
     "name": "stdout",
     "output_type": "stream",
     "text": [
      "train-epoch-loss:0.3925 valid-epoch-loss:0.5850 train-beta4-score:0.0000 valid-beta4-score:0.0000\n"
     ]
    },
    {
     "name": "stderr",
     "output_type": "stream",
     "text": [
      "Epoch 162/300 [Training]: 100%|██████████| 100/100 [01:06<00:00,  1.51it/s, loss=0.4011]\n",
      "Epoch 162/300 [Validation]: 100%|██████████| 2/2 [00:00<00:00,  3.29it/s, loss=0.7191]\n"
     ]
    },
    {
     "name": "stdout",
     "output_type": "stream",
     "text": [
      "train-epoch-loss:0.4011 valid-epoch-loss:0.7191 train-beta4-score:0.0000 valid-beta4-score:0.0000\n"
     ]
    },
    {
     "name": "stderr",
     "output_type": "stream",
     "text": [
      "Epoch 163/300 [Training]: 100%|██████████| 100/100 [01:04<00:00,  1.55it/s, loss=0.3890]\n",
      "Epoch 163/300 [Validation]: 100%|██████████| 2/2 [00:00<00:00,  3.42it/s, loss=0.2054]\n"
     ]
    },
    {
     "name": "stdout",
     "output_type": "stream",
     "text": [
      "train-epoch-loss:0.3890 valid-epoch-loss:0.2054 train-beta4-score:0.0000 valid-beta4-score:0.0000\n"
     ]
    },
    {
     "name": "stderr",
     "output_type": "stream",
     "text": [
      "Epoch 164/300 [Training]: 100%|██████████| 100/100 [01:07<00:00,  1.49it/s, loss=0.3967]\n",
      "Epoch 164/300 [Validation]: 100%|██████████| 2/2 [00:00<00:00,  3.39it/s, loss=0.4153]\n"
     ]
    },
    {
     "name": "stdout",
     "output_type": "stream",
     "text": [
      "train-epoch-loss:0.3967 valid-epoch-loss:0.4153 train-beta4-score:0.0000 valid-beta4-score:0.0000\n"
     ]
    },
    {
     "name": "stderr",
     "output_type": "stream",
     "text": [
      "Epoch 165/300 [Training]: 100%|██████████| 100/100 [01:07<00:00,  1.49it/s, loss=0.3986]\n",
      "Epoch 165/300 [Validation]: 100%|██████████| 2/2 [00:00<00:00,  3.44it/s, loss=0.2143]\n"
     ]
    },
    {
     "name": "stdout",
     "output_type": "stream",
     "text": [
      "train-epoch-loss:0.3986 valid-epoch-loss:0.2143 train-beta4-score:0.0000 valid-beta4-score:0.0000\n"
     ]
    },
    {
     "name": "stderr",
     "output_type": "stream",
     "text": [
      "Epoch 166/300 [Training]: 100%|██████████| 100/100 [01:07<00:00,  1.48it/s, loss=0.3947]\n",
      "Epoch 166/300 [Validation]: 100%|██████████| 2/2 [00:00<00:00,  3.51it/s, loss=0.6297]\n"
     ]
    },
    {
     "name": "stdout",
     "output_type": "stream",
     "text": [
      "train-epoch-loss:0.3947 valid-epoch-loss:0.6297 train-beta4-score:0.0000 valid-beta4-score:0.0000\n"
     ]
    },
    {
     "name": "stderr",
     "output_type": "stream",
     "text": [
      "Epoch 167/300 [Training]: 100%|██████████| 100/100 [01:07<00:00,  1.49it/s, loss=0.3846]\n",
      "Epoch 167/300 [Validation]: 100%|██████████| 2/2 [00:00<00:00,  3.40it/s, loss=0.4823]\n"
     ]
    },
    {
     "name": "stdout",
     "output_type": "stream",
     "text": [
      "train-epoch-loss:0.3846 valid-epoch-loss:0.4823 train-beta4-score:0.0000 valid-beta4-score:0.0000\n"
     ]
    },
    {
     "name": "stderr",
     "output_type": "stream",
     "text": [
      "Epoch 168/300 [Training]: 100%|██████████| 100/100 [01:06<00:00,  1.50it/s, loss=0.4004]\n",
      "Epoch 168/300 [Validation]: 100%|██████████| 2/2 [00:00<00:00,  3.45it/s, loss=0.7324]\n"
     ]
    },
    {
     "name": "stdout",
     "output_type": "stream",
     "text": [
      "train-epoch-loss:0.4004 valid-epoch-loss:0.7324 train-beta4-score:0.0000 valid-beta4-score:0.0000\n"
     ]
    },
    {
     "name": "stderr",
     "output_type": "stream",
     "text": [
      "Epoch 169/300 [Training]: 100%|██████████| 100/100 [01:06<00:00,  1.51it/s, loss=0.3917]\n",
      "Epoch 169/300 [Validation]: 100%|██████████| 2/2 [00:00<00:00,  3.44it/s, loss=0.4778]\n"
     ]
    },
    {
     "name": "stdout",
     "output_type": "stream",
     "text": [
      "train-epoch-loss:0.3917 valid-epoch-loss:0.4778 train-beta4-score:0.0000 valid-beta4-score:0.0000\n"
     ]
    },
    {
     "name": "stderr",
     "output_type": "stream",
     "text": [
      "Epoch 170/300 [Training]: 100%|██████████| 100/100 [01:06<00:00,  1.51it/s, loss=0.3798]\n",
      "Epoch 170/300 [Validation]: 100%|██████████| 2/2 [00:00<00:00,  3.36it/s, loss=0.4153]\n"
     ]
    },
    {
     "name": "stdout",
     "output_type": "stream",
     "text": [
      "train-epoch-loss:0.3798 valid-epoch-loss:0.4153 train-beta4-score:0.0000 valid-beta4-score:0.0000\n"
     ]
    },
    {
     "name": "stderr",
     "output_type": "stream",
     "text": [
      "Epoch 171/300 [Training]: 100%|██████████| 100/100 [01:06<00:00,  1.51it/s, loss=0.4013]\n",
      "Epoch 171/300 [Validation]: 100%|██████████| 2/2 [00:00<00:00,  3.42it/s, loss=0.3572]\n"
     ]
    },
    {
     "name": "stdout",
     "output_type": "stream",
     "text": [
      "train-epoch-loss:0.4013 valid-epoch-loss:0.3572 train-beta4-score:0.0000 valid-beta4-score:0.0000\n"
     ]
    },
    {
     "name": "stderr",
     "output_type": "stream",
     "text": [
      "Epoch 172/300 [Training]: 100%|██████████| 100/100 [01:06<00:00,  1.51it/s, loss=0.4108]\n",
      "Epoch 172/300 [Validation]: 100%|██████████| 2/2 [00:00<00:00,  3.39it/s, loss=0.3840]\n"
     ]
    },
    {
     "name": "stdout",
     "output_type": "stream",
     "text": [
      "train-epoch-loss:0.4108 valid-epoch-loss:0.3840 train-beta4-score:0.0000 valid-beta4-score:0.0000\n"
     ]
    },
    {
     "name": "stderr",
     "output_type": "stream",
     "text": [
      "Epoch 173/300 [Training]: 100%|██████████| 100/100 [01:09<00:00,  1.44it/s, loss=0.4078]\n",
      "Epoch 173/300 [Validation]: 100%|██████████| 2/2 [00:00<00:00,  3.42it/s, loss=0.3126]\n"
     ]
    },
    {
     "name": "stdout",
     "output_type": "stream",
     "text": [
      "train-epoch-loss:0.4078 valid-epoch-loss:0.3126 train-beta4-score:0.0000 valid-beta4-score:0.0000\n"
     ]
    },
    {
     "name": "stderr",
     "output_type": "stream",
     "text": [
      "Epoch 174/300 [Training]: 100%|██████████| 100/100 [01:06<00:00,  1.49it/s, loss=0.4063]\n",
      "Epoch 174/300 [Validation]: 100%|██████████| 2/2 [00:00<00:00,  3.44it/s, loss=0.5717]\n"
     ]
    },
    {
     "name": "stdout",
     "output_type": "stream",
     "text": [
      "train-epoch-loss:0.4063 valid-epoch-loss:0.5717 train-beta4-score:0.0000 valid-beta4-score:0.0000\n"
     ]
    },
    {
     "name": "stderr",
     "output_type": "stream",
     "text": [
      "Epoch 175/300 [Training]: 100%|██████████| 100/100 [01:08<00:00,  1.46it/s, loss=0.4084]\n",
      "Epoch 175/300 [Validation]: 100%|██████████| 2/2 [00:00<00:00,  3.36it/s, loss=0.7414]\n"
     ]
    },
    {
     "name": "stdout",
     "output_type": "stream",
     "text": [
      "train-epoch-loss:0.4084 valid-epoch-loss:0.7414 train-beta4-score:0.0000 valid-beta4-score:0.0000\n"
     ]
    },
    {
     "name": "stderr",
     "output_type": "stream",
     "text": [
      "Epoch 176/300 [Training]: 100%|██████████| 100/100 [01:06<00:00,  1.51it/s, loss=0.3951]\n",
      "Epoch 176/300 [Validation]: 100%|██████████| 2/2 [00:00<00:00,  3.40it/s, loss=0.4689]\n"
     ]
    },
    {
     "name": "stdout",
     "output_type": "stream",
     "text": [
      "train-epoch-loss:0.3951 valid-epoch-loss:0.4689 train-beta4-score:0.0000 valid-beta4-score:0.0000\n"
     ]
    },
    {
     "name": "stderr",
     "output_type": "stream",
     "text": [
      "Epoch 177/300 [Training]: 100%|██████████| 100/100 [01:06<00:00,  1.50it/s, loss=0.3975]\n",
      "Epoch 177/300 [Validation]: 100%|██████████| 2/2 [00:00<00:00,  3.42it/s, loss=0.3125]\n"
     ]
    },
    {
     "name": "stdout",
     "output_type": "stream",
     "text": [
      "train-epoch-loss:0.3975 valid-epoch-loss:0.3125 train-beta4-score:0.0000 valid-beta4-score:0.0000\n"
     ]
    },
    {
     "name": "stderr",
     "output_type": "stream",
     "text": [
      "Epoch 178/300 [Training]: 100%|██████████| 100/100 [01:08<00:00,  1.47it/s, loss=0.3915]\n",
      "Epoch 178/300 [Validation]: 100%|██████████| 2/2 [00:00<00:00,  3.42it/s, loss=0.7860]\n"
     ]
    },
    {
     "name": "stdout",
     "output_type": "stream",
     "text": [
      "train-epoch-loss:0.3915 valid-epoch-loss:0.7860 train-beta4-score:0.0000 valid-beta4-score:0.0000\n"
     ]
    },
    {
     "name": "stderr",
     "output_type": "stream",
     "text": [
      "Epoch 179/300 [Training]: 100%|██████████| 100/100 [01:03<00:00,  1.57it/s, loss=0.3871]\n",
      "Epoch 179/300 [Validation]: 100%|██████████| 2/2 [00:00<00:00,  3.31it/s, loss=0.3751]\n"
     ]
    },
    {
     "name": "stdout",
     "output_type": "stream",
     "text": [
      "train-epoch-loss:0.3871 valid-epoch-loss:0.3751 train-beta4-score:0.0000 valid-beta4-score:0.0000\n"
     ]
    },
    {
     "name": "stderr",
     "output_type": "stream",
     "text": [
      "Epoch 180/300 [Training]: 100%|██████████| 100/100 [01:06<00:00,  1.51it/s, loss=0.4068]\n",
      "Epoch 180/300 [Validation]: 100%|██████████| 2/2 [00:00<00:00,  3.37it/s, loss=0.6297]\n"
     ]
    },
    {
     "name": "stdout",
     "output_type": "stream",
     "text": [
      "train-epoch-loss:0.4068 valid-epoch-loss:0.6297 train-beta4-score:0.0000 valid-beta4-score:0.0000\n"
     ]
    },
    {
     "name": "stderr",
     "output_type": "stream",
     "text": [
      "Epoch 181/300 [Training]: 100%|██████████| 100/100 [01:06<00:00,  1.51it/s, loss=0.4086]\n",
      "Epoch 181/300 [Validation]: 100%|██████████| 2/2 [00:00<00:00,  3.46it/s, loss=0.7681]\n"
     ]
    },
    {
     "name": "stdout",
     "output_type": "stream",
     "text": [
      "train-epoch-loss:0.4086 valid-epoch-loss:0.7681 train-beta4-score:0.0000 valid-beta4-score:0.0000\n"
     ]
    },
    {
     "name": "stderr",
     "output_type": "stream",
     "text": [
      "Epoch 182/300 [Training]: 100%|██████████| 100/100 [01:05<00:00,  1.53it/s, loss=0.4122]\n",
      "Epoch 182/300 [Validation]: 100%|██████████| 2/2 [00:00<00:00,  3.37it/s, loss=0.6476]\n"
     ]
    },
    {
     "name": "stdout",
     "output_type": "stream",
     "text": [
      "train-epoch-loss:0.4122 valid-epoch-loss:0.6476 train-beta4-score:0.0000 valid-beta4-score:0.0000\n"
     ]
    },
    {
     "name": "stderr",
     "output_type": "stream",
     "text": [
      "Epoch 183/300 [Training]: 100%|██████████| 100/100 [01:07<00:00,  1.48it/s, loss=0.3942]\n",
      "Epoch 183/300 [Validation]: 100%|██████████| 2/2 [00:00<00:00,  3.39it/s, loss=0.5404]\n"
     ]
    },
    {
     "name": "stdout",
     "output_type": "stream",
     "text": [
      "train-epoch-loss:0.3942 valid-epoch-loss:0.5404 train-beta4-score:0.0000 valid-beta4-score:0.0000\n"
     ]
    },
    {
     "name": "stderr",
     "output_type": "stream",
     "text": [
      "Epoch 184/300 [Training]: 100%|██████████| 100/100 [01:06<00:00,  1.51it/s, loss=0.4073]\n",
      "Epoch 184/300 [Validation]: 100%|██████████| 2/2 [00:00<00:00,  3.41it/s, loss=0.5851]\n"
     ]
    },
    {
     "name": "stdout",
     "output_type": "stream",
     "text": [
      "train-epoch-loss:0.4073 valid-epoch-loss:0.5851 train-beta4-score:0.0000 valid-beta4-score:0.0000\n"
     ]
    },
    {
     "name": "stderr",
     "output_type": "stream",
     "text": [
      "Epoch 185/300 [Training]: 100%|██████████| 100/100 [01:08<00:00,  1.46it/s, loss=0.3899]\n",
      "Epoch 185/300 [Validation]: 100%|██████████| 2/2 [00:00<00:00,  3.42it/s, loss=0.5806]\n"
     ]
    },
    {
     "name": "stdout",
     "output_type": "stream",
     "text": [
      "train-epoch-loss:0.3899 valid-epoch-loss:0.5806 train-beta4-score:0.0000 valid-beta4-score:0.0000\n"
     ]
    },
    {
     "name": "stderr",
     "output_type": "stream",
     "text": [
      "Epoch 186/300 [Training]: 100%|██████████| 100/100 [01:05<00:00,  1.52it/s, loss=0.4133]\n",
      "Epoch 186/300 [Validation]: 100%|██████████| 2/2 [00:00<00:00,  3.39it/s, loss=0.7012]\n"
     ]
    },
    {
     "name": "stdout",
     "output_type": "stream",
     "text": [
      "train-epoch-loss:0.4133 valid-epoch-loss:0.7012 train-beta4-score:0.0000 valid-beta4-score:0.0000\n"
     ]
    },
    {
     "name": "stderr",
     "output_type": "stream",
     "text": [
      "Epoch 187/300 [Training]: 100%|██████████| 100/100 [01:05<00:00,  1.54it/s, loss=0.3902]\n",
      "Epoch 187/300 [Validation]: 100%|██████████| 2/2 [00:00<00:00,  3.53it/s, loss=0.5717]\n"
     ]
    },
    {
     "name": "stdout",
     "output_type": "stream",
     "text": [
      "train-epoch-loss:0.3902 valid-epoch-loss:0.5717 train-beta4-score:0.0000 valid-beta4-score:0.0000\n"
     ]
    },
    {
     "name": "stderr",
     "output_type": "stream",
     "text": [
      "Epoch 188/300 [Training]: 100%|██████████| 100/100 [01:06<00:00,  1.50it/s, loss=0.4024]\n",
      "Epoch 188/300 [Validation]: 100%|██████████| 2/2 [00:00<00:00,  3.41it/s, loss=0.7280]\n"
     ]
    },
    {
     "name": "stdout",
     "output_type": "stream",
     "text": [
      "train-epoch-loss:0.4024 valid-epoch-loss:0.7280 train-beta4-score:0.0000 valid-beta4-score:0.0000\n"
     ]
    },
    {
     "name": "stderr",
     "output_type": "stream",
     "text": [
      "Epoch 189/300 [Training]: 100%|██████████| 100/100 [01:07<00:00,  1.49it/s, loss=0.3908]\n",
      "Epoch 189/300 [Validation]: 100%|██████████| 2/2 [00:00<00:00,  3.40it/s, loss=0.6967]\n"
     ]
    },
    {
     "name": "stdout",
     "output_type": "stream",
     "text": [
      "train-epoch-loss:0.3908 valid-epoch-loss:0.6967 train-beta4-score:0.0000 valid-beta4-score:0.0000\n"
     ]
    },
    {
     "name": "stderr",
     "output_type": "stream",
     "text": [
      "Epoch 190/300 [Training]: 100%|██████████| 100/100 [01:07<00:00,  1.49it/s, loss=0.4180]\n",
      "Epoch 190/300 [Validation]: 100%|██████████| 2/2 [00:00<00:00,  3.43it/s, loss=0.2768]\n"
     ]
    },
    {
     "name": "stdout",
     "output_type": "stream",
     "text": [
      "train-epoch-loss:0.4180 valid-epoch-loss:0.2768 train-beta4-score:0.0000 valid-beta4-score:0.0000\n"
     ]
    },
    {
     "name": "stderr",
     "output_type": "stream",
     "text": [
      "Epoch 191/300 [Training]: 100%|██████████| 100/100 [01:04<00:00,  1.54it/s, loss=0.3865]\n",
      "Epoch 191/300 [Validation]: 100%|██████████| 2/2 [00:00<00:00,  3.48it/s, loss=0.4422]\n"
     ]
    },
    {
     "name": "stdout",
     "output_type": "stream",
     "text": [
      "train-epoch-loss:0.3865 valid-epoch-loss:0.4422 train-beta4-score:0.0000 valid-beta4-score:0.0000\n"
     ]
    },
    {
     "name": "stderr",
     "output_type": "stream",
     "text": [
      "Epoch 192/300 [Training]: 100%|██████████| 100/100 [01:05<00:00,  1.52it/s, loss=0.4054]\n",
      "Epoch 192/300 [Validation]: 100%|██████████| 2/2 [00:00<00:00,  3.45it/s, loss=0.1652]\n"
     ]
    },
    {
     "name": "stdout",
     "output_type": "stream",
     "text": [
      "train-epoch-loss:0.4054 valid-epoch-loss:0.1652 train-beta4-score:0.0000 valid-beta4-score:0.0000\n"
     ]
    },
    {
     "name": "stderr",
     "output_type": "stream",
     "text": [
      "Epoch 193/300 [Training]: 100%|██████████| 100/100 [01:07<00:00,  1.47it/s, loss=0.4104]\n",
      "Epoch 193/300 [Validation]: 100%|██████████| 2/2 [00:00<00:00,  3.43it/s, loss=0.5315]\n"
     ]
    },
    {
     "name": "stdout",
     "output_type": "stream",
     "text": [
      "train-epoch-loss:0.4104 valid-epoch-loss:0.5315 train-beta4-score:0.0000 valid-beta4-score:0.0000\n"
     ]
    },
    {
     "name": "stderr",
     "output_type": "stream",
     "text": [
      "Epoch 194/300 [Training]: 100%|██████████| 100/100 [01:05<00:00,  1.53it/s, loss=0.4204]\n",
      "Epoch 194/300 [Validation]: 100%|██████████| 2/2 [00:00<00:00,  3.43it/s, loss=0.5627]\n"
     ]
    },
    {
     "name": "stdout",
     "output_type": "stream",
     "text": [
      "train-epoch-loss:0.4204 valid-epoch-loss:0.5627 train-beta4-score:0.0000 valid-beta4-score:0.0000\n"
     ]
    },
    {
     "name": "stderr",
     "output_type": "stream",
     "text": [
      "Epoch 195/300 [Training]: 100%|██████████| 100/100 [01:08<00:00,  1.46it/s, loss=0.3989]\n",
      "Epoch 195/300 [Validation]: 100%|██████████| 2/2 [00:00<00:00,  3.39it/s, loss=0.7861]\n"
     ]
    },
    {
     "name": "stdout",
     "output_type": "stream",
     "text": [
      "train-epoch-loss:0.3989 valid-epoch-loss:0.7861 train-beta4-score:0.0000 valid-beta4-score:0.0000\n"
     ]
    },
    {
     "name": "stderr",
     "output_type": "stream",
     "text": [
      "Epoch 196/300 [Training]: 100%|██████████| 100/100 [01:04<00:00,  1.56it/s, loss=0.3784]\n",
      "Epoch 196/300 [Validation]: 100%|██████████| 2/2 [00:00<00:00,  3.32it/s, loss=0.4867]\n"
     ]
    },
    {
     "name": "stdout",
     "output_type": "stream",
     "text": [
      "train-epoch-loss:0.3784 valid-epoch-loss:0.4867 train-beta4-score:0.0000 valid-beta4-score:0.0000\n"
     ]
    },
    {
     "name": "stderr",
     "output_type": "stream",
     "text": [
      "Epoch 197/300 [Training]: 100%|██████████| 100/100 [01:07<00:00,  1.48it/s, loss=0.4044]\n",
      "Epoch 197/300 [Validation]: 100%|██████████| 2/2 [00:00<00:00,  3.43it/s, loss=0.5092]\n"
     ]
    },
    {
     "name": "stdout",
     "output_type": "stream",
     "text": [
      "train-epoch-loss:0.4044 valid-epoch-loss:0.5092 train-beta4-score:0.0000 valid-beta4-score:0.0000\n"
     ]
    },
    {
     "name": "stderr",
     "output_type": "stream",
     "text": [
      "Epoch 198/300 [Training]: 100%|██████████| 100/100 [01:05<00:00,  1.52it/s, loss=0.3880]\n",
      "Epoch 198/300 [Validation]: 100%|██████████| 2/2 [00:00<00:00,  3.47it/s, loss=0.2545]\n"
     ]
    },
    {
     "name": "stdout",
     "output_type": "stream",
     "text": [
      "train-epoch-loss:0.3880 valid-epoch-loss:0.2545 train-beta4-score:0.0000 valid-beta4-score:0.0000\n"
     ]
    },
    {
     "name": "stderr",
     "output_type": "stream",
     "text": [
      "Epoch 199/300 [Training]: 100%|██████████| 100/100 [01:07<00:00,  1.48it/s, loss=0.4029]\n",
      "Epoch 199/300 [Validation]: 100%|██████████| 2/2 [00:00<00:00,  3.42it/s, loss=0.5806]\n"
     ]
    },
    {
     "name": "stdout",
     "output_type": "stream",
     "text": [
      "train-epoch-loss:0.4029 valid-epoch-loss:0.5806 train-beta4-score:0.0000 valid-beta4-score:0.0000\n"
     ]
    },
    {
     "name": "stderr",
     "output_type": "stream",
     "text": [
      "Epoch 200/300 [Training]: 100%|██████████| 100/100 [01:06<00:00,  1.50it/s, loss=0.3952]\n",
      "Epoch 200/300 [Validation]: 100%|██████████| 2/2 [00:00<00:00,  3.43it/s, loss=0.7235]\n"
     ]
    },
    {
     "name": "stdout",
     "output_type": "stream",
     "text": [
      "train-epoch-loss:0.3952 valid-epoch-loss:0.7235 train-beta4-score:0.0000 valid-beta4-score:0.0000\n"
     ]
    },
    {
     "name": "stderr",
     "output_type": "stream",
     "text": [
      "Epoch 201/300 [Training]: 100%|██████████| 100/100 [01:05<00:00,  1.52it/s, loss=0.4036]\n",
      "Epoch 201/300 [Validation]: 100%|██████████| 2/2 [00:00<00:00,  3.40it/s, loss=0.7816]\n"
     ]
    },
    {
     "name": "stdout",
     "output_type": "stream",
     "text": [
      "train-epoch-loss:0.4036 valid-epoch-loss:0.7816 train-beta4-score:0.0000 valid-beta4-score:0.0000\n"
     ]
    },
    {
     "name": "stderr",
     "output_type": "stream",
     "text": [
      "Epoch 202/300 [Training]: 100%|██████████| 100/100 [01:07<00:00,  1.48it/s, loss=0.3954]\n",
      "Epoch 202/300 [Validation]: 100%|██████████| 2/2 [00:00<00:00,  3.36it/s, loss=0.2858]\n"
     ]
    },
    {
     "name": "stdout",
     "output_type": "stream",
     "text": [
      "train-epoch-loss:0.3954 valid-epoch-loss:0.2858 train-beta4-score:0.0000 valid-beta4-score:0.0000\n"
     ]
    },
    {
     "name": "stderr",
     "output_type": "stream",
     "text": [
      "Epoch 203/300 [Training]: 100%|██████████| 100/100 [01:06<00:00,  1.51it/s, loss=0.3896]\n",
      "Epoch 203/300 [Validation]: 100%|██████████| 2/2 [00:00<00:00,  3.38it/s, loss=0.2902]\n"
     ]
    },
    {
     "name": "stdout",
     "output_type": "stream",
     "text": [
      "train-epoch-loss:0.3896 valid-epoch-loss:0.2902 train-beta4-score:0.0000 valid-beta4-score:0.0000\n"
     ]
    },
    {
     "name": "stderr",
     "output_type": "stream",
     "text": [
      "Epoch 204/300 [Training]: 100%|██████████| 100/100 [01:08<00:00,  1.47it/s, loss=0.3975]\n",
      "Epoch 204/300 [Validation]: 100%|██████████| 2/2 [00:00<00:00,  3.41it/s, loss=0.5225]\n"
     ]
    },
    {
     "name": "stdout",
     "output_type": "stream",
     "text": [
      "train-epoch-loss:0.3975 valid-epoch-loss:0.5225 train-beta4-score:0.0000 valid-beta4-score:0.0000\n"
     ]
    },
    {
     "name": "stderr",
     "output_type": "stream",
     "text": [
      "Epoch 205/300 [Training]: 100%|██████████| 100/100 [01:08<00:00,  1.46it/s, loss=0.4103]\n",
      "Epoch 205/300 [Validation]: 100%|██████████| 2/2 [00:00<00:00,  3.36it/s, loss=0.7191]\n"
     ]
    },
    {
     "name": "stdout",
     "output_type": "stream",
     "text": [
      "train-epoch-loss:0.4103 valid-epoch-loss:0.7191 train-beta4-score:0.0000 valid-beta4-score:0.0000\n"
     ]
    },
    {
     "name": "stderr",
     "output_type": "stream",
     "text": [
      "Epoch 206/300 [Training]: 100%|██████████| 100/100 [01:06<00:00,  1.51it/s, loss=0.4033]\n",
      "Epoch 206/300 [Validation]: 100%|██████████| 2/2 [00:00<00:00,  3.38it/s, loss=0.2947]\n"
     ]
    },
    {
     "name": "stdout",
     "output_type": "stream",
     "text": [
      "train-epoch-loss:0.4033 valid-epoch-loss:0.2947 train-beta4-score:0.0000 valid-beta4-score:0.0000\n"
     ]
    },
    {
     "name": "stderr",
     "output_type": "stream",
     "text": [
      "Epoch 207/300 [Training]: 100%|██████████| 100/100 [01:07<00:00,  1.48it/s, loss=0.3933]\n",
      "Epoch 207/300 [Validation]: 100%|██████████| 2/2 [00:00<00:00,  3.35it/s, loss=0.3929]\n"
     ]
    },
    {
     "name": "stdout",
     "output_type": "stream",
     "text": [
      "train-epoch-loss:0.3933 valid-epoch-loss:0.3929 train-beta4-score:0.0000 valid-beta4-score:0.0000\n"
     ]
    },
    {
     "name": "stderr",
     "output_type": "stream",
     "text": [
      "Epoch 208/300 [Training]: 100%|██████████| 100/100 [01:07<00:00,  1.48it/s, loss=0.4068]\n",
      "Epoch 208/300 [Validation]: 100%|██████████| 2/2 [00:00<00:00,  3.37it/s, loss=0.7414]\n"
     ]
    },
    {
     "name": "stdout",
     "output_type": "stream",
     "text": [
      "train-epoch-loss:0.4068 valid-epoch-loss:0.7414 train-beta4-score:0.0000 valid-beta4-score:0.0000\n"
     ]
    },
    {
     "name": "stderr",
     "output_type": "stream",
     "text": [
      "Epoch 209/300 [Training]: 100%|██████████| 100/100 [01:09<00:00,  1.45it/s, loss=0.3957]\n",
      "Epoch 209/300 [Validation]: 100%|██████████| 2/2 [00:00<00:00,  3.44it/s, loss=0.1741]\n"
     ]
    },
    {
     "name": "stdout",
     "output_type": "stream",
     "text": [
      "train-epoch-loss:0.3957 valid-epoch-loss:0.1741 train-beta4-score:0.0000 valid-beta4-score:0.0000\n"
     ]
    },
    {
     "name": "stderr",
     "output_type": "stream",
     "text": [
      "Epoch 210/300 [Training]: 100%|██████████| 100/100 [01:05<00:00,  1.54it/s, loss=0.4011]\n",
      "Epoch 210/300 [Validation]: 100%|██████████| 2/2 [00:00<00:00,  3.47it/s, loss=0.7414]\n"
     ]
    },
    {
     "name": "stdout",
     "output_type": "stream",
     "text": [
      "train-epoch-loss:0.4011 valid-epoch-loss:0.7414 train-beta4-score:0.0000 valid-beta4-score:0.0000\n"
     ]
    },
    {
     "name": "stderr",
     "output_type": "stream",
     "text": [
      "Epoch 211/300 [Training]: 100%|██████████| 100/100 [01:09<00:00,  1.44it/s, loss=0.4172]\n",
      "Epoch 211/300 [Validation]: 100%|██████████| 2/2 [00:00<00:00,  3.50it/s, loss=0.4287]\n"
     ]
    },
    {
     "name": "stdout",
     "output_type": "stream",
     "text": [
      "train-epoch-loss:0.4172 valid-epoch-loss:0.4287 train-beta4-score:0.0000 valid-beta4-score:0.0000\n"
     ]
    },
    {
     "name": "stderr",
     "output_type": "stream",
     "text": [
      "Epoch 212/300 [Training]: 100%|██████████| 100/100 [01:04<00:00,  1.54it/s, loss=0.3934]\n",
      "Epoch 212/300 [Validation]: 100%|██████████| 2/2 [00:00<00:00,  3.44it/s, loss=0.4331]\n"
     ]
    },
    {
     "name": "stdout",
     "output_type": "stream",
     "text": [
      "train-epoch-loss:0.3934 valid-epoch-loss:0.4331 train-beta4-score:0.0000 valid-beta4-score:0.0000\n"
     ]
    },
    {
     "name": "stderr",
     "output_type": "stream",
     "text": [
      "Epoch 213/300 [Training]: 100%|██████████| 100/100 [01:06<00:00,  1.49it/s, loss=0.3852]\n",
      "Epoch 213/300 [Validation]: 100%|██████████| 2/2 [00:00<00:00,  3.40it/s, loss=0.7771]\n"
     ]
    },
    {
     "name": "stdout",
     "output_type": "stream",
     "text": [
      "train-epoch-loss:0.3852 valid-epoch-loss:0.7771 train-beta4-score:0.0000 valid-beta4-score:0.0000\n"
     ]
    },
    {
     "name": "stderr",
     "output_type": "stream",
     "text": [
      "Epoch 214/300 [Training]: 100%|██████████| 100/100 [01:08<00:00,  1.47it/s, loss=0.3960]\n",
      "Epoch 214/300 [Validation]: 100%|██████████| 2/2 [00:00<00:00,  3.28it/s, loss=0.2992]\n"
     ]
    },
    {
     "name": "stdout",
     "output_type": "stream",
     "text": [
      "train-epoch-loss:0.3960 valid-epoch-loss:0.2992 train-beta4-score:0.0000 valid-beta4-score:0.0000\n"
     ]
    },
    {
     "name": "stderr",
     "output_type": "stream",
     "text": [
      "Epoch 215/300 [Training]: 100%|██████████| 100/100 [01:08<00:00,  1.46it/s, loss=0.3922]\n",
      "Epoch 215/300 [Validation]: 100%|██████████| 2/2 [00:00<00:00,  3.39it/s, loss=0.4198]\n"
     ]
    },
    {
     "name": "stdout",
     "output_type": "stream",
     "text": [
      "train-epoch-loss:0.3922 valid-epoch-loss:0.4198 train-beta4-score:0.0000 valid-beta4-score:0.0000\n"
     ]
    },
    {
     "name": "stderr",
     "output_type": "stream",
     "text": [
      "Epoch 216/300 [Training]: 100%|██████████| 100/100 [01:06<00:00,  1.51it/s, loss=0.4017]\n",
      "Epoch 216/300 [Validation]: 100%|██████████| 2/2 [00:00<00:00,  3.35it/s, loss=0.5671]\n"
     ]
    },
    {
     "name": "stdout",
     "output_type": "stream",
     "text": [
      "train-epoch-loss:0.4017 valid-epoch-loss:0.5671 train-beta4-score:0.0000 valid-beta4-score:0.0000\n"
     ]
    },
    {
     "name": "stderr",
     "output_type": "stream",
     "text": [
      "Epoch 217/300 [Training]: 100%|██████████| 100/100 [01:08<00:00,  1.46it/s, loss=0.4133]\n",
      "Epoch 217/300 [Validation]: 100%|██████████| 2/2 [00:00<00:00,  3.31it/s, loss=0.6699]\n"
     ]
    },
    {
     "name": "stdout",
     "output_type": "stream",
     "text": [
      "train-epoch-loss:0.4133 valid-epoch-loss:0.6699 train-beta4-score:0.0000 valid-beta4-score:0.0000\n"
     ]
    },
    {
     "name": "stderr",
     "output_type": "stream",
     "text": [
      "Epoch 218/300 [Training]: 100%|██████████| 100/100 [01:07<00:00,  1.49it/s, loss=0.4164]\n",
      "Epoch 218/300 [Validation]: 100%|██████████| 2/2 [00:00<00:00,  3.40it/s, loss=0.2858]\n"
     ]
    },
    {
     "name": "stdout",
     "output_type": "stream",
     "text": [
      "train-epoch-loss:0.4164 valid-epoch-loss:0.2858 train-beta4-score:0.0000 valid-beta4-score:0.0000\n"
     ]
    },
    {
     "name": "stderr",
     "output_type": "stream",
     "text": [
      "Epoch 219/300 [Training]: 100%|██████████| 100/100 [01:06<00:00,  1.50it/s, loss=0.4024]\n",
      "Epoch 219/300 [Validation]: 100%|██████████| 2/2 [00:00<00:00,  3.41it/s, loss=0.5315]\n"
     ]
    },
    {
     "name": "stdout",
     "output_type": "stream",
     "text": [
      "train-epoch-loss:0.4024 valid-epoch-loss:0.5315 train-beta4-score:0.0000 valid-beta4-score:0.0000\n"
     ]
    },
    {
     "name": "stderr",
     "output_type": "stream",
     "text": [
      "Epoch 220/300 [Training]: 100%|██████████| 100/100 [01:06<00:00,  1.50it/s, loss=0.3884]\n",
      "Epoch 220/300 [Validation]: 100%|██████████| 2/2 [00:00<00:00,  3.41it/s, loss=0.7727]\n"
     ]
    },
    {
     "name": "stdout",
     "output_type": "stream",
     "text": [
      "train-epoch-loss:0.3884 valid-epoch-loss:0.7727 train-beta4-score:0.0000 valid-beta4-score:0.0000\n"
     ]
    },
    {
     "name": "stderr",
     "output_type": "stream",
     "text": [
      "Epoch 221/300 [Training]: 100%|██████████| 100/100 [01:07<00:00,  1.49it/s, loss=0.3871]\n",
      "Epoch 221/300 [Validation]: 100%|██████████| 2/2 [00:00<00:00,  3.39it/s, loss=0.6208]\n"
     ]
    },
    {
     "name": "stdout",
     "output_type": "stream",
     "text": [
      "train-epoch-loss:0.3871 valid-epoch-loss:0.6208 train-beta4-score:0.0000 valid-beta4-score:0.0000\n"
     ]
    },
    {
     "name": "stderr",
     "output_type": "stream",
     "text": [
      "Epoch 222/300 [Training]: 100%|██████████| 100/100 [01:07<00:00,  1.48it/s, loss=0.4036]\n",
      "Epoch 222/300 [Validation]: 100%|██████████| 2/2 [00:00<00:00,  3.35it/s, loss=0.3751]\n"
     ]
    },
    {
     "name": "stdout",
     "output_type": "stream",
     "text": [
      "train-epoch-loss:0.4036 valid-epoch-loss:0.3751 train-beta4-score:0.0000 valid-beta4-score:0.0000\n"
     ]
    },
    {
     "name": "stderr",
     "output_type": "stream",
     "text": [
      "Epoch 223/300 [Training]: 100%|██████████| 100/100 [01:06<00:00,  1.50it/s, loss=0.4009]\n",
      "Epoch 223/300 [Validation]: 100%|██████████| 2/2 [00:00<00:00,  3.43it/s, loss=0.3662]\n"
     ]
    },
    {
     "name": "stdout",
     "output_type": "stream",
     "text": [
      "train-epoch-loss:0.4009 valid-epoch-loss:0.3662 train-beta4-score:0.0000 valid-beta4-score:0.0000\n"
     ]
    },
    {
     "name": "stderr",
     "output_type": "stream",
     "text": [
      "Epoch 224/300 [Training]: 100%|██████████| 100/100 [01:05<00:00,  1.52it/s, loss=0.3858]\n",
      "Epoch 224/300 [Validation]: 100%|██████████| 2/2 [00:00<00:00,  3.40it/s, loss=0.6119]\n"
     ]
    },
    {
     "name": "stdout",
     "output_type": "stream",
     "text": [
      "train-epoch-loss:0.3858 valid-epoch-loss:0.6119 train-beta4-score:0.0000 valid-beta4-score:0.0000\n"
     ]
    },
    {
     "name": "stderr",
     "output_type": "stream",
     "text": [
      "Epoch 225/300 [Training]: 100%|██████████| 100/100 [01:07<00:00,  1.48it/s, loss=0.3967]\n",
      "Epoch 225/300 [Validation]: 100%|██████████| 2/2 [00:00<00:00,  3.44it/s, loss=0.2679]\n"
     ]
    },
    {
     "name": "stdout",
     "output_type": "stream",
     "text": [
      "train-epoch-loss:0.3967 valid-epoch-loss:0.2679 train-beta4-score:0.0000 valid-beta4-score:0.0000\n"
     ]
    },
    {
     "name": "stderr",
     "output_type": "stream",
     "text": [
      "Epoch 226/300 [Training]: 100%|██████████| 100/100 [01:06<00:00,  1.51it/s, loss=0.3987]\n",
      "Epoch 226/300 [Validation]: 100%|██████████| 2/2 [00:00<00:00,  3.35it/s, loss=0.3885]\n"
     ]
    },
    {
     "name": "stdout",
     "output_type": "stream",
     "text": [
      "train-epoch-loss:0.3987 valid-epoch-loss:0.3885 train-beta4-score:0.0000 valid-beta4-score:0.0000\n"
     ]
    },
    {
     "name": "stderr",
     "output_type": "stream",
     "text": [
      "Epoch 227/300 [Training]: 100%|██████████| 100/100 [01:05<00:00,  1.52it/s, loss=0.3766]\n",
      "Epoch 227/300 [Validation]: 100%|██████████| 2/2 [00:00<00:00,  3.26it/s, loss=0.6520]\n"
     ]
    },
    {
     "name": "stdout",
     "output_type": "stream",
     "text": [
      "train-epoch-loss:0.3766 valid-epoch-loss:0.6520 train-beta4-score:0.0000 valid-beta4-score:0.0000\n"
     ]
    },
    {
     "name": "stderr",
     "output_type": "stream",
     "text": [
      "Epoch 228/300 [Training]: 100%|██████████| 100/100 [01:07<00:00,  1.47it/s, loss=0.4059]\n",
      "Epoch 228/300 [Validation]: 100%|██████████| 2/2 [00:00<00:00,  3.38it/s, loss=0.5850]\n"
     ]
    },
    {
     "name": "stdout",
     "output_type": "stream",
     "text": [
      "train-epoch-loss:0.4059 valid-epoch-loss:0.5850 train-beta4-score:0.0000 valid-beta4-score:0.0000\n"
     ]
    },
    {
     "name": "stderr",
     "output_type": "stream",
     "text": [
      "Epoch 229/300 [Training]: 100%|██████████| 100/100 [01:07<00:00,  1.48it/s, loss=0.4065]\n",
      "Epoch 229/300 [Validation]: 100%|██████████| 2/2 [00:00<00:00,  3.40it/s, loss=0.7101]\n"
     ]
    },
    {
     "name": "stdout",
     "output_type": "stream",
     "text": [
      "train-epoch-loss:0.4065 valid-epoch-loss:0.7101 train-beta4-score:0.0000 valid-beta4-score:0.0000\n"
     ]
    },
    {
     "name": "stderr",
     "output_type": "stream",
     "text": [
      "Epoch 230/300 [Training]: 100%|██████████| 100/100 [01:08<00:00,  1.45it/s, loss=0.4085]\n",
      "Epoch 230/300 [Validation]: 100%|██████████| 2/2 [00:00<00:00,  3.37it/s, loss=0.4332]\n"
     ]
    },
    {
     "name": "stdout",
     "output_type": "stream",
     "text": [
      "train-epoch-loss:0.4085 valid-epoch-loss:0.4332 train-beta4-score:0.0000 valid-beta4-score:0.0000\n"
     ]
    },
    {
     "name": "stderr",
     "output_type": "stream",
     "text": [
      "Epoch 231/300 [Training]: 100%|██████████| 100/100 [01:06<00:00,  1.51it/s, loss=0.4127]\n",
      "Epoch 231/300 [Validation]: 100%|██████████| 2/2 [00:00<00:00,  3.36it/s, loss=0.3260]\n"
     ]
    },
    {
     "name": "stdout",
     "output_type": "stream",
     "text": [
      "train-epoch-loss:0.4127 valid-epoch-loss:0.3260 train-beta4-score:0.0000 valid-beta4-score:0.0000\n"
     ]
    },
    {
     "name": "stderr",
     "output_type": "stream",
     "text": [
      "Epoch 232/300 [Training]: 100%|██████████| 100/100 [01:04<00:00,  1.54it/s, loss=0.3922]\n",
      "Epoch 232/300 [Validation]: 100%|██████████| 2/2 [00:00<00:00,  3.34it/s, loss=0.4466]\n"
     ]
    },
    {
     "name": "stdout",
     "output_type": "stream",
     "text": [
      "train-epoch-loss:0.3922 valid-epoch-loss:0.4466 train-beta4-score:0.0000 valid-beta4-score:0.0000\n"
     ]
    },
    {
     "name": "stderr",
     "output_type": "stream",
     "text": [
      "Epoch 233/300 [Training]: 100%|██████████| 100/100 [01:07<00:00,  1.48it/s, loss=0.3858]\n",
      "Epoch 233/300 [Validation]: 100%|██████████| 2/2 [00:00<00:00,  3.41it/s, loss=0.7681]\n"
     ]
    },
    {
     "name": "stdout",
     "output_type": "stream",
     "text": [
      "train-epoch-loss:0.3858 valid-epoch-loss:0.7681 train-beta4-score:0.0000 valid-beta4-score:0.0000\n"
     ]
    },
    {
     "name": "stderr",
     "output_type": "stream",
     "text": [
      "Epoch 234/300 [Training]: 100%|██████████| 100/100 [01:06<00:00,  1.50it/s, loss=0.4058]\n",
      "Epoch 234/300 [Validation]: 100%|██████████| 2/2 [00:00<00:00,  3.40it/s, loss=0.4511]\n"
     ]
    },
    {
     "name": "stdout",
     "output_type": "stream",
     "text": [
      "train-epoch-loss:0.4058 valid-epoch-loss:0.4511 train-beta4-score:0.0000 valid-beta4-score:0.0000\n"
     ]
    },
    {
     "name": "stderr",
     "output_type": "stream",
     "text": [
      "Epoch 235/300 [Training]: 100%|██████████| 100/100 [01:05<00:00,  1.52it/s, loss=0.4013]\n",
      "Epoch 235/300 [Validation]: 100%|██████████| 2/2 [00:00<00:00,  3.39it/s, loss=0.5403]\n"
     ]
    },
    {
     "name": "stdout",
     "output_type": "stream",
     "text": [
      "train-epoch-loss:0.4013 valid-epoch-loss:0.5403 train-beta4-score:0.0000 valid-beta4-score:0.0000\n"
     ]
    },
    {
     "name": "stderr",
     "output_type": "stream",
     "text": [
      "Epoch 236/300 [Training]: 100%|██████████| 100/100 [01:04<00:00,  1.55it/s, loss=0.3926]\n",
      "Epoch 236/300 [Validation]: 100%|██████████| 2/2 [00:00<00:00,  3.37it/s, loss=0.3036]\n"
     ]
    },
    {
     "name": "stdout",
     "output_type": "stream",
     "text": [
      "train-epoch-loss:0.3926 valid-epoch-loss:0.3036 train-beta4-score:0.0000 valid-beta4-score:0.0000\n"
     ]
    },
    {
     "name": "stderr",
     "output_type": "stream",
     "text": [
      "Epoch 237/300 [Training]: 100%|██████████| 100/100 [01:04<00:00,  1.54it/s, loss=0.4052]\n",
      "Epoch 237/300 [Validation]: 100%|██████████| 2/2 [00:00<00:00,  3.40it/s, loss=0.6610]\n"
     ]
    },
    {
     "name": "stdout",
     "output_type": "stream",
     "text": [
      "train-epoch-loss:0.4052 valid-epoch-loss:0.6610 train-beta4-score:0.0000 valid-beta4-score:0.0000\n"
     ]
    },
    {
     "name": "stderr",
     "output_type": "stream",
     "text": [
      "Epoch 238/300 [Training]: 100%|██████████| 100/100 [01:06<00:00,  1.50it/s, loss=0.4117]\n",
      "Epoch 238/300 [Validation]: 100%|██████████| 2/2 [00:00<00:00,  3.45it/s, loss=0.5716]\n"
     ]
    },
    {
     "name": "stdout",
     "output_type": "stream",
     "text": [
      "train-epoch-loss:0.4117 valid-epoch-loss:0.5716 train-beta4-score:0.0000 valid-beta4-score:0.0000\n"
     ]
    },
    {
     "name": "stderr",
     "output_type": "stream",
     "text": [
      "Epoch 239/300 [Training]: 100%|██████████| 100/100 [01:07<00:00,  1.48it/s, loss=0.4178]\n",
      "Epoch 239/300 [Validation]: 100%|██████████| 2/2 [00:00<00:00,  3.36it/s, loss=0.6699]\n"
     ]
    },
    {
     "name": "stdout",
     "output_type": "stream",
     "text": [
      "train-epoch-loss:0.4178 valid-epoch-loss:0.6699 train-beta4-score:0.0000 valid-beta4-score:0.0000\n"
     ]
    },
    {
     "name": "stderr",
     "output_type": "stream",
     "text": [
      "Epoch 240/300 [Training]: 100%|██████████| 100/100 [01:05<00:00,  1.52it/s, loss=0.4059]\n",
      "Epoch 240/300 [Validation]: 100%|██████████| 2/2 [00:00<00:00,  3.43it/s, loss=0.3349]\n"
     ]
    },
    {
     "name": "stdout",
     "output_type": "stream",
     "text": [
      "train-epoch-loss:0.4059 valid-epoch-loss:0.3349 train-beta4-score:0.0000 valid-beta4-score:0.0000\n"
     ]
    },
    {
     "name": "stderr",
     "output_type": "stream",
     "text": [
      "Epoch 241/300 [Training]: 100%|██████████| 100/100 [01:07<00:00,  1.47it/s, loss=0.4088]\n",
      "Epoch 241/300 [Validation]: 100%|██████████| 2/2 [00:00<00:00,  3.40it/s, loss=0.5180]\n"
     ]
    },
    {
     "name": "stdout",
     "output_type": "stream",
     "text": [
      "train-epoch-loss:0.4088 valid-epoch-loss:0.5180 train-beta4-score:0.0000 valid-beta4-score:0.0000\n"
     ]
    },
    {
     "name": "stderr",
     "output_type": "stream",
     "text": [
      "Epoch 242/300 [Training]: 100%|██████████| 100/100 [01:05<00:00,  1.52it/s, loss=0.3895]\n",
      "Epoch 242/300 [Validation]: 100%|██████████| 2/2 [00:00<00:00,  3.34it/s, loss=0.4377]\n"
     ]
    },
    {
     "name": "stdout",
     "output_type": "stream",
     "text": [
      "train-epoch-loss:0.3895 valid-epoch-loss:0.4377 train-beta4-score:0.0000 valid-beta4-score:0.0000\n"
     ]
    },
    {
     "name": "stderr",
     "output_type": "stream",
     "text": [
      "Epoch 243/300 [Training]: 100%|██████████| 100/100 [01:07<00:00,  1.48it/s, loss=0.4071]\n",
      "Epoch 243/300 [Validation]: 100%|██████████| 2/2 [00:00<00:00,  3.37it/s, loss=0.3527]\n"
     ]
    },
    {
     "name": "stdout",
     "output_type": "stream",
     "text": [
      "train-epoch-loss:0.4071 valid-epoch-loss:0.3527 train-beta4-score:0.0000 valid-beta4-score:0.0000\n"
     ]
    },
    {
     "name": "stderr",
     "output_type": "stream",
     "text": [
      "Epoch 244/300 [Training]: 100%|██████████| 100/100 [01:09<00:00,  1.43it/s, loss=0.3974]\n",
      "Epoch 244/300 [Validation]: 100%|██████████| 2/2 [00:00<00:00,  3.39it/s, loss=0.7815]\n"
     ]
    },
    {
     "name": "stdout",
     "output_type": "stream",
     "text": [
      "train-epoch-loss:0.3974 valid-epoch-loss:0.7815 train-beta4-score:0.0000 valid-beta4-score:0.0000\n"
     ]
    },
    {
     "name": "stderr",
     "output_type": "stream",
     "text": [
      "Epoch 245/300 [Training]: 100%|██████████| 100/100 [01:09<00:00,  1.45it/s, loss=0.4108]\n",
      "Epoch 245/300 [Validation]: 100%|██████████| 2/2 [00:00<00:00,  3.38it/s, loss=0.4287]\n"
     ]
    },
    {
     "name": "stdout",
     "output_type": "stream",
     "text": [
      "train-epoch-loss:0.4108 valid-epoch-loss:0.4287 train-beta4-score:0.0000 valid-beta4-score:0.0000\n"
     ]
    },
    {
     "name": "stderr",
     "output_type": "stream",
     "text": [
      "Epoch 246/300 [Training]: 100%|██████████| 100/100 [01:07<00:00,  1.47it/s, loss=0.3841]\n",
      "Epoch 246/300 [Validation]: 100%|██████████| 2/2 [00:00<00:00,  3.40it/s, loss=0.7191]\n"
     ]
    },
    {
     "name": "stdout",
     "output_type": "stream",
     "text": [
      "train-epoch-loss:0.3841 valid-epoch-loss:0.7191 train-beta4-score:0.0000 valid-beta4-score:0.0000\n"
     ]
    },
    {
     "name": "stderr",
     "output_type": "stream",
     "text": [
      "Epoch 247/300 [Training]: 100%|██████████| 100/100 [01:08<00:00,  1.45it/s, loss=0.4029]\n",
      "Epoch 247/300 [Validation]: 100%|██████████| 2/2 [00:00<00:00,  3.36it/s, loss=0.7324]\n"
     ]
    },
    {
     "name": "stdout",
     "output_type": "stream",
     "text": [
      "train-epoch-loss:0.4029 valid-epoch-loss:0.7324 train-beta4-score:0.0000 valid-beta4-score:0.0000\n"
     ]
    },
    {
     "name": "stderr",
     "output_type": "stream",
     "text": [
      "Epoch 248/300 [Training]: 100%|██████████| 100/100 [01:04<00:00,  1.56it/s, loss=0.4156]\n",
      "Epoch 248/300 [Validation]: 100%|██████████| 2/2 [00:00<00:00,  3.41it/s, loss=0.3885]\n"
     ]
    },
    {
     "name": "stdout",
     "output_type": "stream",
     "text": [
      "train-epoch-loss:0.4156 valid-epoch-loss:0.3885 train-beta4-score:0.0000 valid-beta4-score:0.0000\n"
     ]
    },
    {
     "name": "stderr",
     "output_type": "stream",
     "text": [
      "Epoch 249/300 [Training]: 100%|██████████| 100/100 [01:09<00:00,  1.44it/s, loss=0.3988]\n",
      "Epoch 249/300 [Validation]: 100%|██████████| 2/2 [00:00<00:00,  3.49it/s, loss=0.6609]\n"
     ]
    },
    {
     "name": "stdout",
     "output_type": "stream",
     "text": [
      "train-epoch-loss:0.3988 valid-epoch-loss:0.6609 train-beta4-score:0.0000 valid-beta4-score:0.0000\n"
     ]
    },
    {
     "name": "stderr",
     "output_type": "stream",
     "text": [
      "Epoch 250/300 [Training]: 100%|██████████| 100/100 [01:05<00:00,  1.53it/s, loss=0.3777]\n",
      "Epoch 250/300 [Validation]: 100%|██████████| 2/2 [00:00<00:00,  3.38it/s, loss=0.5225]\n"
     ]
    },
    {
     "name": "stdout",
     "output_type": "stream",
     "text": [
      "train-epoch-loss:0.3777 valid-epoch-loss:0.5225 train-beta4-score:0.0000 valid-beta4-score:0.0000\n"
     ]
    },
    {
     "name": "stderr",
     "output_type": "stream",
     "text": [
      "Epoch 251/300 [Training]: 100%|██████████| 100/100 [01:05<00:00,  1.53it/s, loss=0.3950]\n",
      "Epoch 251/300 [Validation]: 100%|██████████| 2/2 [00:00<00:00,  3.42it/s, loss=0.4867]\n"
     ]
    },
    {
     "name": "stdout",
     "output_type": "stream",
     "text": [
      "train-epoch-loss:0.3950 valid-epoch-loss:0.4867 train-beta4-score:0.0000 valid-beta4-score:0.0000\n"
     ]
    },
    {
     "name": "stderr",
     "output_type": "stream",
     "text": [
      "Epoch 252/300 [Training]: 100%|██████████| 100/100 [01:08<00:00,  1.46it/s, loss=0.3903]\n",
      "Epoch 252/300 [Validation]: 100%|██████████| 2/2 [00:00<00:00,  3.41it/s, loss=0.1920]\n"
     ]
    },
    {
     "name": "stdout",
     "output_type": "stream",
     "text": [
      "train-epoch-loss:0.3903 valid-epoch-loss:0.1920 train-beta4-score:0.0000 valid-beta4-score:0.0000\n"
     ]
    },
    {
     "name": "stderr",
     "output_type": "stream",
     "text": [
      "Epoch 253/300 [Training]: 100%|██████████| 100/100 [01:06<00:00,  1.50it/s, loss=0.4091]\n",
      "Epoch 253/300 [Validation]: 100%|██████████| 2/2 [00:00<00:00,  3.23it/s, loss=0.6476]\n"
     ]
    },
    {
     "name": "stdout",
     "output_type": "stream",
     "text": [
      "train-epoch-loss:0.4091 valid-epoch-loss:0.6476 train-beta4-score:0.0000 valid-beta4-score:0.0000\n"
     ]
    },
    {
     "name": "stderr",
     "output_type": "stream",
     "text": [
      "Epoch 254/300 [Training]: 100%|██████████| 100/100 [01:06<00:00,  1.50it/s, loss=0.4058]\n",
      "Epoch 254/300 [Validation]: 100%|██████████| 2/2 [00:00<00:00,  3.46it/s, loss=0.4958]\n"
     ]
    },
    {
     "name": "stdout",
     "output_type": "stream",
     "text": [
      "train-epoch-loss:0.4058 valid-epoch-loss:0.4958 train-beta4-score:0.0000 valid-beta4-score:0.0000\n"
     ]
    },
    {
     "name": "stderr",
     "output_type": "stream",
     "text": [
      "Epoch 255/300 [Training]: 100%|██████████| 100/100 [01:07<00:00,  1.49it/s, loss=0.3848]\n",
      "Epoch 255/300 [Validation]: 100%|██████████| 2/2 [00:00<00:00,  3.37it/s, loss=0.2501]\n"
     ]
    },
    {
     "name": "stdout",
     "output_type": "stream",
     "text": [
      "train-epoch-loss:0.3848 valid-epoch-loss:0.2501 train-beta4-score:0.0000 valid-beta4-score:0.0000\n"
     ]
    },
    {
     "name": "stderr",
     "output_type": "stream",
     "text": [
      "Epoch 256/300 [Training]: 100%|██████████| 100/100 [01:06<00:00,  1.51it/s, loss=0.3931]\n",
      "Epoch 256/300 [Validation]: 100%|██████████| 2/2 [00:00<00:00,  3.40it/s, loss=0.3796]\n"
     ]
    },
    {
     "name": "stdout",
     "output_type": "stream",
     "text": [
      "train-epoch-loss:0.3931 valid-epoch-loss:0.3796 train-beta4-score:0.0000 valid-beta4-score:0.0000\n"
     ]
    },
    {
     "name": "stderr",
     "output_type": "stream",
     "text": [
      "Epoch 257/300 [Training]: 100%|██████████| 100/100 [01:06<00:00,  1.51it/s, loss=0.3949]\n",
      "Epoch 257/300 [Validation]: 100%|██████████| 2/2 [00:00<00:00,  3.45it/s, loss=0.2902]\n"
     ]
    },
    {
     "name": "stdout",
     "output_type": "stream",
     "text": [
      "train-epoch-loss:0.3949 valid-epoch-loss:0.2902 train-beta4-score:0.0000 valid-beta4-score:0.0000\n"
     ]
    },
    {
     "name": "stderr",
     "output_type": "stream",
     "text": [
      "Epoch 258/300 [Training]: 100%|██████████| 100/100 [01:05<00:00,  1.53it/s, loss=0.3869]\n",
      "Epoch 258/300 [Validation]: 100%|██████████| 2/2 [00:00<00:00,  3.35it/s, loss=0.7681]\n"
     ]
    },
    {
     "name": "stdout",
     "output_type": "stream",
     "text": [
      "train-epoch-loss:0.3869 valid-epoch-loss:0.7681 train-beta4-score:0.0000 valid-beta4-score:0.0000\n"
     ]
    },
    {
     "name": "stderr",
     "output_type": "stream",
     "text": [
      "Epoch 259/300 [Training]: 100%|██████████| 100/100 [01:06<00:00,  1.50it/s, loss=0.3954]\n",
      "Epoch 259/300 [Validation]: 100%|██████████| 2/2 [00:00<00:00,  3.45it/s, loss=0.4555]\n"
     ]
    },
    {
     "name": "stdout",
     "output_type": "stream",
     "text": [
      "train-epoch-loss:0.3954 valid-epoch-loss:0.4555 train-beta4-score:0.0000 valid-beta4-score:0.0000\n"
     ]
    },
    {
     "name": "stderr",
     "output_type": "stream",
     "text": [
      "Epoch 260/300 [Training]: 100%|██████████| 100/100 [01:06<00:00,  1.49it/s, loss=0.3892]\n",
      "Epoch 260/300 [Validation]: 100%|██████████| 2/2 [00:00<00:00,  3.44it/s, loss=0.5136]\n"
     ]
    },
    {
     "name": "stdout",
     "output_type": "stream",
     "text": [
      "train-epoch-loss:0.3892 valid-epoch-loss:0.5136 train-beta4-score:0.0000 valid-beta4-score:0.0000\n"
     ]
    },
    {
     "name": "stderr",
     "output_type": "stream",
     "text": [
      "Epoch 261/300 [Training]: 100%|██████████| 100/100 [01:05<00:00,  1.53it/s, loss=0.4147]\n",
      "Epoch 261/300 [Validation]: 100%|██████████| 2/2 [00:00<00:00,  3.36it/s, loss=0.3170]\n"
     ]
    },
    {
     "name": "stdout",
     "output_type": "stream",
     "text": [
      "train-epoch-loss:0.4147 valid-epoch-loss:0.3170 train-beta4-score:0.0000 valid-beta4-score:0.0000\n"
     ]
    },
    {
     "name": "stderr",
     "output_type": "stream",
     "text": [
      "Epoch 262/300 [Training]: 100%|██████████| 100/100 [01:09<00:00,  1.44it/s, loss=0.4132]\n",
      "Epoch 262/300 [Validation]: 100%|██████████| 2/2 [00:00<00:00,  3.40it/s, loss=0.7504]\n"
     ]
    },
    {
     "name": "stdout",
     "output_type": "stream",
     "text": [
      "train-epoch-loss:0.4132 valid-epoch-loss:0.7504 train-beta4-score:0.0000 valid-beta4-score:0.0000\n"
     ]
    },
    {
     "name": "stderr",
     "output_type": "stream",
     "text": [
      "Epoch 263/300 [Training]: 100%|██████████| 100/100 [01:06<00:00,  1.49it/s, loss=0.4006]\n",
      "Epoch 263/300 [Validation]: 100%|██████████| 2/2 [00:00<00:00,  3.50it/s, loss=0.5627]\n"
     ]
    },
    {
     "name": "stdout",
     "output_type": "stream",
     "text": [
      "train-epoch-loss:0.4006 valid-epoch-loss:0.5627 train-beta4-score:0.0000 valid-beta4-score:0.0000\n"
     ]
    },
    {
     "name": "stderr",
     "output_type": "stream",
     "text": [
      "Epoch 264/300 [Training]: 100%|██████████| 100/100 [01:08<00:00,  1.47it/s, loss=0.3826]\n",
      "Epoch 264/300 [Validation]: 100%|██████████| 2/2 [00:00<00:00,  3.40it/s, loss=0.5225]\n"
     ]
    },
    {
     "name": "stdout",
     "output_type": "stream",
     "text": [
      "train-epoch-loss:0.3826 valid-epoch-loss:0.5225 train-beta4-score:0.0000 valid-beta4-score:0.0000\n"
     ]
    },
    {
     "name": "stderr",
     "output_type": "stream",
     "text": [
      "Epoch 265/300 [Training]: 100%|██████████| 100/100 [01:06<00:00,  1.50it/s, loss=0.3725]\n",
      "Epoch 265/300 [Validation]: 100%|██████████| 2/2 [00:00<00:00,  3.44it/s, loss=0.6521]\n"
     ]
    },
    {
     "name": "stdout",
     "output_type": "stream",
     "text": [
      "train-epoch-loss:0.3725 valid-epoch-loss:0.6521 train-beta4-score:0.0000 valid-beta4-score:0.0000\n"
     ]
    },
    {
     "name": "stderr",
     "output_type": "stream",
     "text": [
      "Epoch 266/300 [Training]: 100%|██████████| 100/100 [01:07<00:00,  1.48it/s, loss=0.4326]\n",
      "Epoch 266/300 [Validation]: 100%|██████████| 2/2 [00:00<00:00,  3.38it/s, loss=0.1786]\n"
     ]
    },
    {
     "name": "stdout",
     "output_type": "stream",
     "text": [
      "train-epoch-loss:0.4326 valid-epoch-loss:0.1786 train-beta4-score:0.0000 valid-beta4-score:0.0000\n"
     ]
    },
    {
     "name": "stderr",
     "output_type": "stream",
     "text": [
      "Epoch 267/300 [Training]: 100%|██████████| 100/100 [01:07<00:00,  1.47it/s, loss=0.4032]\n",
      "Epoch 267/300 [Validation]: 100%|██████████| 2/2 [00:00<00:00,  3.41it/s, loss=0.7279]\n"
     ]
    },
    {
     "name": "stdout",
     "output_type": "stream",
     "text": [
      "train-epoch-loss:0.4032 valid-epoch-loss:0.7279 train-beta4-score:0.0000 valid-beta4-score:0.0000\n"
     ]
    },
    {
     "name": "stderr",
     "output_type": "stream",
     "text": [
      "Epoch 268/300 [Training]: 100%|██████████| 100/100 [01:05<00:00,  1.52it/s, loss=0.3857]\n",
      "Epoch 268/300 [Validation]: 100%|██████████| 2/2 [00:00<00:00,  2.61it/s, loss=0.2947]\n"
     ]
    },
    {
     "name": "stdout",
     "output_type": "stream",
     "text": [
      "train-epoch-loss:0.3857 valid-epoch-loss:0.2947 train-beta4-score:0.0000 valid-beta4-score:0.0000\n"
     ]
    },
    {
     "name": "stderr",
     "output_type": "stream",
     "text": [
      "Epoch 269/300 [Training]: 100%|██████████| 100/100 [01:05<00:00,  1.54it/s, loss=0.4115]\n",
      "Epoch 269/300 [Validation]: 100%|██████████| 2/2 [00:00<00:00,  3.33it/s, loss=0.4957]\n"
     ]
    },
    {
     "name": "stdout",
     "output_type": "stream",
     "text": [
      "train-epoch-loss:0.4115 valid-epoch-loss:0.4957 train-beta4-score:0.0000 valid-beta4-score:0.0000\n"
     ]
    },
    {
     "name": "stderr",
     "output_type": "stream",
     "text": [
      "Epoch 270/300 [Training]: 100%|██████████| 100/100 [01:06<00:00,  1.50it/s, loss=0.4049]\n",
      "Epoch 270/300 [Validation]: 100%|██████████| 2/2 [00:00<00:00,  3.44it/s, loss=0.7637]\n"
     ]
    },
    {
     "name": "stdout",
     "output_type": "stream",
     "text": [
      "train-epoch-loss:0.4049 valid-epoch-loss:0.7637 train-beta4-score:0.0000 valid-beta4-score:0.0000\n"
     ]
    },
    {
     "name": "stderr",
     "output_type": "stream",
     "text": [
      "Epoch 271/300 [Training]: 100%|██████████| 100/100 [01:08<00:00,  1.47it/s, loss=0.3939]\n",
      "Epoch 271/300 [Validation]: 100%|██████████| 2/2 [00:00<00:00,  3.39it/s, loss=0.5047]\n"
     ]
    },
    {
     "name": "stdout",
     "output_type": "stream",
     "text": [
      "train-epoch-loss:0.3939 valid-epoch-loss:0.5047 train-beta4-score:0.0000 valid-beta4-score:0.0000\n"
     ]
    },
    {
     "name": "stderr",
     "output_type": "stream",
     "text": [
      "Epoch 272/300 [Training]: 100%|██████████| 100/100 [01:05<00:00,  1.54it/s, loss=0.3825]\n",
      "Epoch 272/300 [Validation]: 100%|██████████| 2/2 [00:00<00:00,  3.40it/s, loss=0.7414]\n"
     ]
    },
    {
     "name": "stdout",
     "output_type": "stream",
     "text": [
      "train-epoch-loss:0.3825 valid-epoch-loss:0.7414 train-beta4-score:0.0000 valid-beta4-score:0.0000\n"
     ]
    },
    {
     "name": "stderr",
     "output_type": "stream",
     "text": [
      "Epoch 273/300 [Training]: 100%|██████████| 100/100 [01:05<00:00,  1.52it/s, loss=0.4002]\n",
      "Epoch 273/300 [Validation]: 100%|██████████| 2/2 [00:00<00:00,  3.39it/s, loss=0.5136]\n"
     ]
    },
    {
     "name": "stdout",
     "output_type": "stream",
     "text": [
      "train-epoch-loss:0.4002 valid-epoch-loss:0.5136 train-beta4-score:0.0000 valid-beta4-score:0.0000\n"
     ]
    },
    {
     "name": "stderr",
     "output_type": "stream",
     "text": [
      "Epoch 274/300 [Training]: 100%|██████████| 100/100 [01:06<00:00,  1.49it/s, loss=0.4011]\n",
      "Epoch 274/300 [Validation]: 100%|██████████| 2/2 [00:00<00:00,  3.35it/s, loss=0.6387]\n"
     ]
    },
    {
     "name": "stdout",
     "output_type": "stream",
     "text": [
      "train-epoch-loss:0.4011 valid-epoch-loss:0.6387 train-beta4-score:0.0000 valid-beta4-score:0.0000\n"
     ]
    },
    {
     "name": "stderr",
     "output_type": "stream",
     "text": [
      "Epoch 275/300 [Training]: 100%|██████████| 100/100 [01:05<00:00,  1.54it/s, loss=0.3965]\n",
      "Epoch 275/300 [Validation]: 100%|██████████| 2/2 [00:00<00:00,  3.48it/s, loss=0.7637]\n"
     ]
    },
    {
     "name": "stdout",
     "output_type": "stream",
     "text": [
      "train-epoch-loss:0.3965 valid-epoch-loss:0.7637 train-beta4-score:0.0000 valid-beta4-score:0.0000\n"
     ]
    },
    {
     "name": "stderr",
     "output_type": "stream",
     "text": [
      "Epoch 276/300 [Training]: 100%|██████████| 100/100 [01:03<00:00,  1.58it/s, loss=0.3864]\n",
      "Epoch 276/300 [Validation]: 100%|██████████| 2/2 [00:00<00:00,  3.40it/s, loss=0.3215]\n"
     ]
    },
    {
     "name": "stdout",
     "output_type": "stream",
     "text": [
      "train-epoch-loss:0.3864 valid-epoch-loss:0.3215 train-beta4-score:0.0000 valid-beta4-score:0.0000\n"
     ]
    },
    {
     "name": "stderr",
     "output_type": "stream",
     "text": [
      "Epoch 277/300 [Training]: 100%|██████████| 100/100 [01:02<00:00,  1.60it/s, loss=0.3940]\n",
      "Epoch 277/300 [Validation]: 100%|██████████| 2/2 [00:00<00:00,  3.34it/s, loss=0.5136]\n"
     ]
    },
    {
     "name": "stdout",
     "output_type": "stream",
     "text": [
      "train-epoch-loss:0.3940 valid-epoch-loss:0.5136 train-beta4-score:0.0000 valid-beta4-score:0.0000\n"
     ]
    },
    {
     "name": "stderr",
     "output_type": "stream",
     "text": [
      "Epoch 278/300 [Training]: 100%|██████████| 100/100 [01:05<00:00,  1.52it/s, loss=0.4000]\n",
      "Epoch 278/300 [Validation]: 100%|██████████| 2/2 [00:00<00:00,  3.37it/s, loss=0.5002]\n"
     ]
    },
    {
     "name": "stdout",
     "output_type": "stream",
     "text": [
      "train-epoch-loss:0.4000 valid-epoch-loss:0.5002 train-beta4-score:0.0000 valid-beta4-score:0.0000\n"
     ]
    },
    {
     "name": "stderr",
     "output_type": "stream",
     "text": [
      "Epoch 279/300 [Training]: 100%|██████████| 100/100 [01:06<00:00,  1.50it/s, loss=0.4050]\n",
      "Epoch 279/300 [Validation]: 100%|██████████| 2/2 [00:00<00:00,  3.40it/s, loss=0.5895]\n"
     ]
    },
    {
     "name": "stdout",
     "output_type": "stream",
     "text": [
      "train-epoch-loss:0.4050 valid-epoch-loss:0.5895 train-beta4-score:0.0000 valid-beta4-score:0.0000\n"
     ]
    },
    {
     "name": "stderr",
     "output_type": "stream",
     "text": [
      "Epoch 280/300 [Training]: 100%|██████████| 100/100 [01:05<00:00,  1.53it/s, loss=0.3915]\n",
      "Epoch 280/300 [Validation]: 100%|██████████| 2/2 [00:00<00:00,  3.51it/s, loss=0.1875]\n"
     ]
    },
    {
     "name": "stdout",
     "output_type": "stream",
     "text": [
      "train-epoch-loss:0.3915 valid-epoch-loss:0.1875 train-beta4-score:0.0000 valid-beta4-score:0.0000\n"
     ]
    },
    {
     "name": "stderr",
     "output_type": "stream",
     "text": [
      "Epoch 281/300 [Training]: 100%|██████████| 100/100 [01:05<00:00,  1.54it/s, loss=0.3976]\n",
      "Epoch 281/300 [Validation]: 100%|██████████| 2/2 [00:00<00:00,  3.40it/s, loss=0.5940]\n"
     ]
    },
    {
     "name": "stdout",
     "output_type": "stream",
     "text": [
      "train-epoch-loss:0.3976 valid-epoch-loss:0.5940 train-beta4-score:0.0000 valid-beta4-score:0.0000\n"
     ]
    },
    {
     "name": "stderr",
     "output_type": "stream",
     "text": [
      "Epoch 282/300 [Training]: 100%|██████████| 100/100 [01:06<00:00,  1.50it/s, loss=0.4084]\n",
      "Epoch 282/300 [Validation]: 100%|██████████| 2/2 [00:00<00:00,  3.35it/s, loss=0.3840]\n"
     ]
    },
    {
     "name": "stdout",
     "output_type": "stream",
     "text": [
      "train-epoch-loss:0.4084 valid-epoch-loss:0.3840 train-beta4-score:0.0000 valid-beta4-score:0.0000\n"
     ]
    },
    {
     "name": "stderr",
     "output_type": "stream",
     "text": [
      "Epoch 283/300 [Training]: 100%|██████████| 100/100 [01:08<00:00,  1.47it/s, loss=0.3957]\n",
      "Epoch 283/300 [Validation]: 100%|██████████| 2/2 [00:00<00:00,  3.43it/s, loss=0.2500]\n"
     ]
    },
    {
     "name": "stdout",
     "output_type": "stream",
     "text": [
      "train-epoch-loss:0.3957 valid-epoch-loss:0.2500 train-beta4-score:0.0000 valid-beta4-score:0.0000\n"
     ]
    },
    {
     "name": "stderr",
     "output_type": "stream",
     "text": [
      "Epoch 284/300 [Training]: 100%|██████████| 100/100 [01:06<00:00,  1.51it/s, loss=0.3866]\n",
      "Epoch 284/300 [Validation]: 100%|██████████| 2/2 [00:00<00:00,  3.49it/s, loss=0.3706]\n"
     ]
    },
    {
     "name": "stdout",
     "output_type": "stream",
     "text": [
      "train-epoch-loss:0.3866 valid-epoch-loss:0.3706 train-beta4-score:0.0000 valid-beta4-score:0.0000\n"
     ]
    },
    {
     "name": "stderr",
     "output_type": "stream",
     "text": [
      "Epoch 285/300 [Training]: 100%|██████████| 100/100 [01:06<00:00,  1.50it/s, loss=0.4048]\n",
      "Epoch 285/300 [Validation]: 100%|██████████| 2/2 [00:00<00:00,  3.42it/s, loss=0.1652]\n"
     ]
    },
    {
     "name": "stdout",
     "output_type": "stream",
     "text": [
      "train-epoch-loss:0.4048 valid-epoch-loss:0.1652 train-beta4-score:0.0000 valid-beta4-score:0.0000\n"
     ]
    },
    {
     "name": "stderr",
     "output_type": "stream",
     "text": [
      "Epoch 286/300 [Training]: 100%|██████████| 100/100 [01:07<00:00,  1.49it/s, loss=0.4067]\n",
      "Epoch 286/300 [Validation]: 100%|██████████| 2/2 [00:00<00:00,  3.41it/s, loss=0.3885]\n"
     ]
    },
    {
     "name": "stdout",
     "output_type": "stream",
     "text": [
      "train-epoch-loss:0.4067 valid-epoch-loss:0.3885 train-beta4-score:0.0000 valid-beta4-score:0.0000\n"
     ]
    },
    {
     "name": "stderr",
     "output_type": "stream",
     "text": [
      "Epoch 287/300 [Training]: 100%|██████████| 100/100 [01:08<00:00,  1.47it/s, loss=0.3999]\n",
      "Epoch 287/300 [Validation]: 100%|██████████| 2/2 [00:00<00:00,  3.33it/s, loss=0.5181]\n"
     ]
    },
    {
     "name": "stdout",
     "output_type": "stream",
     "text": [
      "train-epoch-loss:0.3999 valid-epoch-loss:0.5181 train-beta4-score:0.0000 valid-beta4-score:0.0000\n"
     ]
    },
    {
     "name": "stderr",
     "output_type": "stream",
     "text": [
      "Epoch 288/300 [Training]: 100%|██████████| 100/100 [01:07<00:00,  1.49it/s, loss=0.4100]\n",
      "Epoch 288/300 [Validation]: 100%|██████████| 2/2 [00:00<00:00,  3.40it/s, loss=0.6788]\n"
     ]
    },
    {
     "name": "stdout",
     "output_type": "stream",
     "text": [
      "train-epoch-loss:0.4100 valid-epoch-loss:0.6788 train-beta4-score:0.0000 valid-beta4-score:0.0000\n"
     ]
    },
    {
     "name": "stderr",
     "output_type": "stream",
     "text": [
      "Epoch 289/300 [Training]: 100%|██████████| 100/100 [01:05<00:00,  1.53it/s, loss=0.4060]\n",
      "Epoch 289/300 [Validation]: 100%|██████████| 2/2 [00:00<00:00,  3.51it/s, loss=0.2411]\n"
     ]
    },
    {
     "name": "stdout",
     "output_type": "stream",
     "text": [
      "train-epoch-loss:0.4060 valid-epoch-loss:0.2411 train-beta4-score:0.0000 valid-beta4-score:0.0000\n"
     ]
    },
    {
     "name": "stderr",
     "output_type": "stream",
     "text": [
      "Epoch 290/300 [Training]: 100%|██████████| 100/100 [01:06<00:00,  1.49it/s, loss=0.3990]\n",
      "Epoch 290/300 [Validation]: 100%|██████████| 2/2 [00:00<00:00,  3.45it/s, loss=0.2724]\n"
     ]
    },
    {
     "name": "stdout",
     "output_type": "stream",
     "text": [
      "train-epoch-loss:0.3990 valid-epoch-loss:0.2724 train-beta4-score:0.0000 valid-beta4-score:0.0000\n"
     ]
    },
    {
     "name": "stderr",
     "output_type": "stream",
     "text": [
      "Epoch 291/300 [Training]: 100%|██████████| 100/100 [01:05<00:00,  1.53it/s, loss=0.4043]\n",
      "Epoch 291/300 [Validation]: 100%|██████████| 2/2 [00:00<00:00,  3.29it/s, loss=0.4778]\n"
     ]
    },
    {
     "name": "stdout",
     "output_type": "stream",
     "text": [
      "train-epoch-loss:0.4043 valid-epoch-loss:0.4778 train-beta4-score:0.0000 valid-beta4-score:0.0000\n"
     ]
    },
    {
     "name": "stderr",
     "output_type": "stream",
     "text": [
      "Epoch 292/300 [Training]: 100%|██████████| 100/100 [01:07<00:00,  1.49it/s, loss=0.4016]\n",
      "Epoch 292/300 [Validation]: 100%|██████████| 2/2 [00:00<00:00,  3.32it/s, loss=0.4688]\n"
     ]
    },
    {
     "name": "stdout",
     "output_type": "stream",
     "text": [
      "train-epoch-loss:0.4016 valid-epoch-loss:0.4688 train-beta4-score:0.0000 valid-beta4-score:0.0000\n"
     ]
    },
    {
     "name": "stderr",
     "output_type": "stream",
     "text": [
      "Epoch 293/300 [Training]: 100%|██████████| 100/100 [01:07<00:00,  1.47it/s, loss=0.3864]\n",
      "Epoch 293/300 [Validation]: 100%|██████████| 2/2 [00:00<00:00,  3.36it/s, loss=0.3796]\n"
     ]
    },
    {
     "name": "stdout",
     "output_type": "stream",
     "text": [
      "train-epoch-loss:0.3864 valid-epoch-loss:0.3796 train-beta4-score:0.0000 valid-beta4-score:0.0000\n"
     ]
    },
    {
     "name": "stderr",
     "output_type": "stream",
     "text": [
      "Epoch 294/300 [Training]: 100%|██████████| 100/100 [01:06<00:00,  1.50it/s, loss=0.4023]\n",
      "Epoch 294/300 [Validation]: 100%|██████████| 2/2 [00:00<00:00,  3.39it/s, loss=0.3707]\n"
     ]
    },
    {
     "name": "stdout",
     "output_type": "stream",
     "text": [
      "train-epoch-loss:0.4023 valid-epoch-loss:0.3707 train-beta4-score:0.0000 valid-beta4-score:0.0000\n"
     ]
    },
    {
     "name": "stderr",
     "output_type": "stream",
     "text": [
      "Epoch 295/300 [Training]: 100%|██████████| 100/100 [01:04<00:00,  1.54it/s, loss=0.4004]\n",
      "Epoch 295/300 [Validation]: 100%|██████████| 2/2 [00:00<00:00,  3.38it/s, loss=0.2858]\n"
     ]
    },
    {
     "name": "stdout",
     "output_type": "stream",
     "text": [
      "train-epoch-loss:0.4004 valid-epoch-loss:0.2858 train-beta4-score:0.0000 valid-beta4-score:0.0000\n"
     ]
    },
    {
     "name": "stderr",
     "output_type": "stream",
     "text": [
      "Epoch 296/300 [Training]: 100%|██████████| 100/100 [01:08<00:00,  1.46it/s, loss=0.4107]\n",
      "Epoch 296/300 [Validation]: 100%|██████████| 2/2 [00:00<00:00,  3.30it/s, loss=0.0670]\n"
     ]
    },
    {
     "name": "stdout",
     "output_type": "stream",
     "text": [
      "train-epoch-loss:0.4107 valid-epoch-loss:0.0670 train-beta4-score:0.0000 valid-beta4-score:0.0000\n"
     ]
    },
    {
     "name": "stderr",
     "output_type": "stream",
     "text": [
      "Epoch 297/300 [Training]: 100%|██████████| 100/100 [01:06<00:00,  1.50it/s, loss=0.3959]\n",
      "Epoch 297/300 [Validation]: 100%|██████████| 2/2 [00:00<00:00,  3.42it/s, loss=0.4778]\n"
     ]
    },
    {
     "name": "stdout",
     "output_type": "stream",
     "text": [
      "train-epoch-loss:0.3959 valid-epoch-loss:0.4778 train-beta4-score:0.0000 valid-beta4-score:0.0000\n"
     ]
    },
    {
     "name": "stderr",
     "output_type": "stream",
     "text": [
      "Epoch 298/300 [Training]: 100%|██████████| 100/100 [01:07<00:00,  1.49it/s, loss=0.4067]\n",
      "Epoch 298/300 [Validation]: 100%|██████████| 2/2 [00:00<00:00,  3.46it/s, loss=0.5939]\n"
     ]
    },
    {
     "name": "stdout",
     "output_type": "stream",
     "text": [
      "train-epoch-loss:0.4067 valid-epoch-loss:0.5939 train-beta4-score:0.0000 valid-beta4-score:0.0000\n"
     ]
    },
    {
     "name": "stderr",
     "output_type": "stream",
     "text": [
      "Epoch 299/300 [Training]: 100%|██████████| 100/100 [01:03<00:00,  1.57it/s, loss=0.4024]\n",
      "Epoch 299/300 [Validation]: 100%|██████████| 2/2 [00:00<00:00,  3.35it/s, loss=0.5984]\n"
     ]
    },
    {
     "name": "stdout",
     "output_type": "stream",
     "text": [
      "train-epoch-loss:0.4024 valid-epoch-loss:0.5984 train-beta4-score:0.0000 valid-beta4-score:0.0000\n"
     ]
    },
    {
     "name": "stderr",
     "output_type": "stream",
     "text": [
      "Epoch 300/300 [Training]: 100%|██████████| 100/100 [01:07<00:00,  1.48it/s, loss=0.3989]\n",
      "Epoch 300/300 [Validation]: 100%|██████████| 2/2 [00:00<00:00,  3.42it/s, loss=0.4376]\n"
     ]
    },
    {
     "name": "stdout",
     "output_type": "stream",
     "text": [
      "train-epoch-loss:0.3989 valid-epoch-loss:0.4376 train-beta4-score:0.0000 valid-beta4-score:0.0000\n"
     ]
    }
   ],
   "source": [
    "best_model = None\n",
    "best_score = -100\n",
    "\n",
    "grand_train_loss = []\n",
    "grand_valid_loss = []\n",
    "grand_train_score = []\n",
    "grand_valid_score = []\n",
    "\n",
    "for epoch in range(CFG.epochs):\n",
    "    model.train()\n",
    "    train_loss = []\n",
    "    valid_loss = []\n",
    "    with tqdm(train_loader, desc=f\"Epoch {epoch + 1}/{CFG.epochs} [Training]\") as tq:\n",
    "        for data in tq:\n",
    "            normalized_tomogram = data[\"normalized_tomogram\"]\n",
    "            segmentation_map = data[\"segmentation_map\"]\n",
    "\n",
    "            normalized_tomogram = padf(normalized_tomogram)\n",
    "            segmentation_map = padf(segmentation_map)\n",
    "\n",
    "            # データ拡張\n",
    "            normalized_tomogram, segmentation_map = augment_data(\n",
    "                normalized_tomogram, segmentation_map, p=CFG.augmentation_prob\n",
    "            )\n",
    "            normalized_tomogram = normalized_tomogram.cuda()\n",
    "            segmentation_map = segmentation_map.long().cuda()\n",
    "\n",
    "            optimizer.zero_grad()\n",
    "            pred = model(preprocess_tensor(normalized_tomogram))\n",
    "            loss = seg_loss(pred, segmentation_map)\n",
    "            loss.backward()\n",
    "            optimizer.step()\n",
    "            scheduler.step()\n",
    "            train_loss.append(loss.item())\n",
    "\n",
    "            # 確率予測\n",
    "            prob_pred = torch.softmax(pred, dim=1)\n",
    "            tq.set_postfix({\"loss\": f\"{np.mean(train_loss):.4f}\"})\n",
    "\n",
    "    with tqdm(valid_loader, desc=f\"Epoch {epoch + 1}/{CFG.epochs} [Validation]\") as tq:\n",
    "        for data in tq:\n",
    "            normalized_tomogram = data[\"normalized_tomogram\"].cuda()\n",
    "            segmentation_map = data[\"segmentation_map\"].long().cuda()\n",
    "\n",
    "            normalized_tomogram = padf(normalized_tomogram)\n",
    "            segmentation_map = padf(segmentation_map)\n",
    "\n",
    "            pred = model(preprocess_tensor(normalized_tomogram))\n",
    "            loss = seg_loss(pred, segmentation_map)\n",
    "            valid_loss.append(loss.item())\n",
    "\n",
    "            # 確率予測\n",
    "            prob_pred = torch.softmax(pred, dim=1)\n",
    "            tq.set_postfix({\"loss\": f\"{np.mean(valid_loss):.4f}\"})\n",
    "\n",
    "    # # ############### validation ################\n",
    "    train_nshuffle_original_tomogram = defaultdict(list)\n",
    "    train_nshuffle_pred_tomogram = defaultdict(list)\n",
    "    train_nshuffle_gt_tomogram = defaultdict(list)\n",
    "\n",
    "    valid_original_tomogram = defaultdict(list)\n",
    "    valid_pred_tomogram = defaultdict(list)\n",
    "    valid_gt_tomogram = defaultdict(list)\n",
    "\n",
    "    train_mean_scores = []\n",
    "    valid_mean_scores = []\n",
    "\n",
    "    # モデルの保存\n",
    "    torch.save(model.state_dict(), \"./pretrained_model.pth\")\n",
    "\n",
    "    # ############### validation ################\n",
    "    train_nshuffle_original_tomogram = defaultdict(list)\n",
    "    train_nshuffle_pred_tomogram = defaultdict(list)\n",
    "    train_nshuffle_gt_tomogram = defaultdict(list)\n",
    "\n",
    "    valid_original_tomogram = defaultdict(list)\n",
    "    valid_pred_tomogram = defaultdict(list)\n",
    "    valid_gt_tomogram = defaultdict(list)\n",
    "\n",
    "    train_mean_scores = []\n",
    "    valid_mean_scores = []\n",
    "\n",
    "    # for exp_name in tqdm(CFG.train_exp_names):\n",
    "    for exp_name in CFG.train_exp_names[:5]:  # 5つのデータで試す\n",
    "        # inferenced_array = inference(model, exp_name, train=False)\n",
    "        inferenced_array, n_tomogram, segmentation_map = inference(\n",
    "            model, exp_name, train=True\n",
    "        )\n",
    "        pred_df = inference2pos(\n",
    "            pred_segmask=inferenced_array.argmax(0), exp_name=exp_name\n",
    "        )\n",
    "        base_dir = \"../../inputs/train/overlay/ExperimentRuns/\"\n",
    "        gt_df = create_gt_df(base_dir, [exp_name])\n",
    "\n",
    "        train_nshuffle_pred_tomogram[exp_name] = inferenced_array\n",
    "\n",
    "        score_ = score(\n",
    "            pred_df, gt_df, row_id_column_name=\"index\", distance_multiplier=1.0, beta=4\n",
    "        )\n",
    "        train_mean_scores.append(score_)\n",
    "\n",
    "    # print(\"train_mean_scores\", np.mean(train_mean_scores))\n",
    "\n",
    "    for exp_name in CFG.valid_exp_names:\n",
    "        inferenced_array, n_tomogram, segmentation_map = inference(\n",
    "            model, exp_name, train=True\n",
    "        )\n",
    "        pred_df = inference2pos(\n",
    "            pred_segmask=inferenced_array.argmax(0), exp_name=exp_name\n",
    "        )\n",
    "        base_dir = \"../../inputs/train/overlay/ExperimentRuns/\"\n",
    "        gt_df = create_gt_df(base_dir, [exp_name])\n",
    "\n",
    "        valid_pred_tomogram[exp_name] = inferenced_array\n",
    "\n",
    "        score_ = score(\n",
    "            pred_df, gt_df, row_id_column_name=\"index\", distance_multiplier=1.0, beta=4\n",
    "        )\n",
    "        valid_mean_scores.append(score_)\n",
    "\n",
    "    # print(\"valid_mean_scores\", np.mean(valid_mean_scores))\n",
    "\n",
    "    if np.mean(valid_mean_scores) > best_score:\n",
    "        best_score = np.mean(valid_mean_scores)\n",
    "        best_model = model.state_dict()\n",
    "        torch.save(best_model, f\"./best_model.pth\")\n",
    "\n",
    "    print(\n",
    "        f\"train-epoch-loss:{np.mean(train_loss):.4f}\",\n",
    "        f\"valid-epoch-loss:{np.mean(valid_loss):.4f}\",\n",
    "        f\"train-beta4-score:{np.mean(train_mean_scores):.4f}\",\n",
    "        f\"valid-beta4-score:{np.mean(valid_mean_scores):.4f}\",\n",
    "    )\n",
    "\n",
    "    grand_train_loss.append(np.mean(train_loss))\n",
    "    grand_valid_loss.append(np.mean(valid_loss))\n",
    "    grand_train_score.append(np.mean(train_mean_scores))\n",
    "    grand_valid_score.append(np.mean(valid_mean_scores))"
   ]
  },
  {
   "cell_type": "code",
   "execution_count": 13,
   "metadata": {},
   "outputs": [
    {
     "data": {
      "image/png": "[encoded data removed]",
      "text/plain": [
       "<Figure size 640x480 with 1 Axes>"
      ]
     },
     "metadata": {},
     "output_type": "display_data"
    }
   ],
   "source": [
    "# train_lossとvalid_lossのプロット\n",
    "\n",
    "plt.plot(grand_train_loss, label=\"train_loss\")\n",
    "plt.plot(grand_valid_loss, label=\"valid_loss\")\n",
    "plt.legend()\n",
    "plt.show()"
   ]
  },
  {
   "cell_type": "code",
   "execution_count": 14,
   "metadata": {},
   "outputs": [
    {
     "data": {
      "image/png": "[encoded data removed]",
      "text/plain": [
       "<Figure size 640x480 with 1 Axes>"
      ]
     },
     "metadata": {},
     "output_type": "display_data"
    }
   ],
   "source": [
    "# train_scoreとvalid_scoreのプロット\n",
    "plt.plot(grand_train_score, label=\"train_score\")\n",
    "plt.plot(grand_valid_score, label=\"valid_score\")\n",
    "plt.legend()\n",
    "plt.show()"
   ]
  },
  {
   "cell_type": "code",
   "execution_count": 15,
   "metadata": {},
   "outputs": [
    {
     "data": {
      "text/plain": [
       "0.5347047188991721"
      ]
     },
     "execution_count": 15,
     "metadata": {},
     "output_type": "execute_result"
    }
   ],
   "source": [
    "random.random()"
   ]
  },
  {
   "cell_type": "code",
   "execution_count": null,
   "metadata": {},
   "outputs": [],
   "source": []
  }
 ],
 "metadata": {
  "kernelspec": {
   "display_name": "kaggle",
   "language": "python",
   "name": "python3"
  },
  "language_info": {
   "codemirror_mode": {
    "name": "ipython",
    "version": 3
   },
   "file_extension": ".py",
   "mimetype": "text/x-python",
   "name": "python",
   "nbconvert_exporter": "python",
   "pygments_lexer": "ipython3",
   "version": "3.9.16"
  }
 },
 "nbformat": 4,
 "nbformat_minor": 2
}
