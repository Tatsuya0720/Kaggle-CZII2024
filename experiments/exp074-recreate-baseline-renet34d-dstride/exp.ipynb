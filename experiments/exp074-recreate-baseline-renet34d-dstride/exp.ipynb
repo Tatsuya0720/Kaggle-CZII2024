{
 "cells": [
  {
   "cell_type": "code",
   "execution_count": 1,
   "metadata": {},
   "outputs": [],
   "source": [
    "import os\n",
    "import zarr\n",
    "import timm\n",
    "import random\n",
    "import json\n",
    "import gc\n",
    "import warnings\n",
    "import numpy as np\n",
    "import pandas as pd\n",
    "import torch.nn as nn\n",
    "from pathlib import Path\n",
    "import matplotlib.pyplot as plt\n",
    "from torch.utils.data import DataLoader, Dataset\n",
    "from collections import defaultdict\n",
    "\n",
    "import sys\n",
    "import torch\n",
    "from torch.cuda.amp import autocast, GradScaler\n",
    "\n",
    "# import torchvision.transforms.functional as F\n",
    "import random\n",
    "\n",
    "warnings.filterwarnings(\"ignore\")\n",
    "sys.path.append(\"./src/\")\n",
    "\n",
    "from src.config import CFG\n",
    "from src.dataloader import (\n",
    "    read_zarr,\n",
    "    read_info_json,\n",
    "    scale_coordinates,\n",
    "    create_dataset,\n",
    "    create_segmentation_map,\n",
    "    EziiDataset,\n",
    "    drop_padding,\n",
    ")\n",
    "from src.network import Unet3D\n",
    "from src.utils import save_images, PadToSize\n",
    "from src.metric import (\n",
    "    score,\n",
    "    create_cls_pos,\n",
    "    create_cls_pos_sikii,\n",
    "    create_df,\n",
    "    SegmentationLoss,\n",
    "    DiceLoss,\n",
    ")\n",
    "from tqdm import tqdm\n",
    "from src.kaggle_notebook_metric import compute_lb, extract_particle_results\n",
    "from src.inference import inference, inference2pos, create_gt_df\n",
    "from metric import visualize_epoch_results\n",
    "\n",
    "import wandb\n",
    "from pathlib import Path\n",
    "\n",
    "notebook_name = os.path.join(Path().resolve()).split(\"/\")[-1]\n",
    "\n",
    "param = {\n",
    "    \"model\": CFG.model_name,\n",
    "    \"resolution\": CFG.resolution,\n",
    "    \"augmentation_prob\": CFG.augmentation_prob,\n",
    "    \"slice\": CFG.slice_,\n",
    "    \"epochs\": CFG.epochs,\n",
    "    \"lr\": CFG.lr,\n",
    "    \"batch_size\": CFG.batch_size,\n",
    "    \"weight_decay\": CFG.weight_decay,\n",
    "    \"num_workers\": CFG.num_workers,\n",
    "    \"augment_data_ratio\": CFG.augment_data_ratio,\n",
    "}"
   ]
  },
  {
   "cell_type": "code",
   "execution_count": 2,
   "metadata": {},
   "outputs": [],
   "source": [
    "from sklearn.metrics import *\n",
    "from scipy.optimize import minimize\n",
    "\n",
    "# sikii値とexp_namesを入れるとスコアを出力する関数\n",
    "\n",
    "\n",
    "def compute_score(sikii_list, inferenced_array, exp_name):\n",
    "    apo_ferritin = sikii_list[0]\n",
    "    beta_amylase = sikii_list[1]\n",
    "    beta_galactosidase = sikii_list[2]\n",
    "    ribosome = sikii_list[3]\n",
    "    thyroglobulin = sikii_list[4]\n",
    "    virus_like_particle = sikii_list[5]\n",
    "\n",
    "    sikii_dict = {\n",
    "        \"apo-ferritin\": apo_ferritin,\n",
    "        \"beta-amylase\": beta_amylase,\n",
    "        \"beta-galactosidase\": beta_galactosidase,\n",
    "        \"ribosome\": ribosome,\n",
    "        \"thyroglobulin\": thyroglobulin,\n",
    "        \"virus-like-particle\": virus_like_particle,\n",
    "    }\n",
    "\n",
    "    all_pred = []\n",
    "\n",
    "    pred_df = inference2pos(\n",
    "        pred_segmask=inferenced_array, exp_name=exp_name, sikii_dict=sikii_dict\n",
    "    )\n",
    "\n",
    "    all_pred.append(pred_df)\n",
    "\n",
    "    gc.collect()\n",
    "\n",
    "    pred_df = pd.concat(all_pred, axis=0).reset_index(drop=True)\n",
    "    pred_df = pred_df[pred_df[\"particle_type\"] != \"beta-amylase\"]\n",
    "    pred_df = pred_df.drop_duplicates(\n",
    "        subset=[\"experiment\", \"x\", \"y\", \"z\"], keep=\"first\"\n",
    "    ).reset_index(drop=True)\n",
    "    pred_df = pred_df.reset_index().rename(columns={\"index\": \"id\"})\n",
    "\n",
    "    gt_df = create_gt_df(\"../../inputs/train/overlay/ExperimentRuns/\", [exp_name])\n",
    "\n",
    "    result_df, lb_score = compute_lb(\n",
    "        pred_df, \"../../inputs/train/overlay/ExperimentRuns/\", [exp_name]\n",
    "    )\n",
    "\n",
    "    return lb_score\n",
    "\n",
    "\n",
    "def reduce_computation_sikii_search(\n",
    "    inferenced_array: np.ndarray, exp_name: str, threshold_candidates: list[float]\n",
    ") -> tuple[list[float], float]:\n",
    "    \"\"\"\n",
    "    # How\n",
    "    6つのしきい値が互いに独立してスコアに貢献しているという前提で、\n",
    "    1次元ずつ最適なしきい値を探す手法を実装する.\n",
    "\n",
    "    1. 初期の best_thresholds (全要素 0.5 など適当な値) を用意\n",
    "    2. i=0 から i=5 まで順番に:\n",
    "       - threshold_candidates をすべて試し、他は固定したまま i 番目だけ変化させてスコアを計算\n",
    "       - 最良スコアが得られる候補値を確定し、best_thresholds[i] とする\n",
    "    3. 全部決まったら最終的なスコアを計算して返す\n",
    "\n",
    "    これにより、全組み合わせ (product) を回すよりも計算量が大幅に減少する.\n",
    "    \"\"\"\n",
    "    # Why not: 6値独立であるという前提が満たされていない場合、近似解になる可能性あり\n",
    "    best_thresholds = [0.5] * 6  # 適当な初期値でOK\n",
    "\n",
    "    for i in tqdm(range(6)):\n",
    "        best_local_score = -float(\"inf\")\n",
    "        best_local_value = None\n",
    "\n",
    "        for candidate in threshold_candidates:\n",
    "            current_thresholds = best_thresholds[:]  # 現在のベストを複製\n",
    "            current_thresholds[i] = candidate\n",
    "            score = compute_score(current_thresholds, inferenced_array, exp_name)\n",
    "            if score > best_local_score:\n",
    "                best_local_score = score\n",
    "                best_local_value = candidate\n",
    "\n",
    "        # i番目のしきい値を最適値に更新\n",
    "        best_thresholds[i] = best_local_value\n",
    "\n",
    "    final_score = compute_score(best_thresholds, inferenced_array, exp_name)\n",
    "    return best_thresholds, final_score"
   ]
  },
  {
   "cell_type": "code",
   "execution_count": null,
   "metadata": {},
   "outputs": [],
   "source": [
    "import torch\n",
    "import random\n",
    "import torchvision.transforms.functional as TF\n",
    "\n",
    "\n",
    "# 回転\n",
    "# 3Dテンソルの各軸に対して指定した角度で回転する関数\n",
    "def rotate_3d(tomogram, segmentation_map, angle):\n",
    "    \"\"\"Rotates the 3D tensors tomogram and segmentation_map around the Z-axis.\"\"\"\n",
    "    rotated_tomogram = TF.rotate(tomogram, angle, expand=False)\n",
    "    rotated_segmentation_map = TF.rotate(segmentation_map, angle, expand=False)\n",
    "    return rotated_tomogram, rotated_segmentation_map\n",
    "\n",
    "\n",
    "# 平行移動\n",
    "# 指定された範囲でランダムに平行移動\n",
    "def translate_3d(tomogram, segmentation_map, max_shift):\n",
    "    \"\"\"Translates the 3D tensors by a random shift within max_shift.\"\"\"\n",
    "    shift_x = random.randint(-max_shift, max_shift)\n",
    "    shift_y = random.randint(-max_shift, max_shift)\n",
    "    translated_tomogram = TF.affine(\n",
    "        tomogram, angle=0, translate=(shift_x, shift_y), scale=1, shear=0\n",
    "    )\n",
    "    translated_segmentation_map = TF.affine(\n",
    "        segmentation_map, angle=0, translate=(shift_x, shift_y), scale=1, shear=0\n",
    "    )\n",
    "    return translated_tomogram, translated_segmentation_map\n",
    "\n",
    "\n",
    "# フリップ\n",
    "# 縦横（上下左右）ランダムフリップ\n",
    "def flip_3d(tomogram, segmentation_map):\n",
    "    \"\"\"Randomly flips the 3D tensors along height or width.\"\"\"\n",
    "    if random.random() > 0.5:  # Horizontal flip\n",
    "        tomogram = torch.flip(tomogram, dims=[-1])\n",
    "        segmentation_map = torch.flip(segmentation_map, dims=[-1])\n",
    "    if random.random() > 0.5:  # Vertical flip\n",
    "        tomogram = torch.flip(tomogram, dims=[-2])\n",
    "        segmentation_map = torch.flip(segmentation_map, dims=[-2])\n",
    "    return tomogram, segmentation_map\n",
    "\n",
    "\n",
    "# クロッピング\n",
    "# 入力テンソルを中心またはランダムクロップで切り取る\n",
    "def crop_3d(tomogram, segmentation_map, crop_size):\n",
    "    \"\"\"Crops the 3D tensors to the specified crop_size.\"\"\"\n",
    "    _, depth, height, width = tomogram.size()\n",
    "    crop_d, crop_h, crop_w = crop_size\n",
    "\n",
    "    if crop_h > height or crop_w > width:\n",
    "        raise ValueError(\"Crop size cannot be larger than the original size.\")\n",
    "\n",
    "    start_h = random.randint(0, height - crop_h)  # Random starting position for height\n",
    "    start_w = random.randint(0, width - crop_w)  # Random starting position for width\n",
    "\n",
    "    cropped_tomogram = tomogram[\n",
    "        :, :, start_h : start_h + crop_h, start_w : start_w + crop_w\n",
    "    ]\n",
    "    cropped_segmentation_map = segmentation_map[\n",
    "        :, :, start_h : start_h + crop_h, start_w : start_w + crop_w\n",
    "    ]\n",
    "\n",
    "    return cropped_tomogram, cropped_segmentation_map\n",
    "\n",
    "\n",
    "# Mixup\n",
    "# 2つのサンプルを線形補間して混合\n",
    "def mixup(tomogram, segmentation_map, alpha=0.4):\n",
    "    \"\"\"Applies mixup augmentation to the batch.\"\"\"\n",
    "    lam = random.betavariate(alpha, alpha)\n",
    "    batch_size = tomogram.size(0)\n",
    "    index = torch.randperm(batch_size)\n",
    "\n",
    "    mixed_tomogram = lam * tomogram + (1 - lam) * tomogram[index, :]\n",
    "    mixed_segmentation_map = (\n",
    "        lam * segmentation_map + (1 - lam) * segmentation_map[index, :]\n",
    "    )\n",
    "\n",
    "    return mixed_tomogram, mixed_segmentation_map\n",
    "\n",
    "\n",
    "# Cutmix\n",
    "# ランダム領域を切り取って別のサンプルに貼り付け\n",
    "def cutmix(tomogram, segmentation_map, alpha=1.0):\n",
    "    \"\"\"Applies cutmix augmentation to the batch.\"\"\"\n",
    "    lam = random.betavariate(alpha, alpha)\n",
    "    batch_size, depth, height, width = tomogram.size()\n",
    "    index = torch.randperm(batch_size)\n",
    "\n",
    "    cx = random.randint(0, width)\n",
    "    cy = random.randint(0, height)\n",
    "    cw = int(width * (1 - lam))\n",
    "    ch = int(height * (1 - lam))\n",
    "\n",
    "    x1 = max(cx - cw // 2, 0)\n",
    "    x2 = min(cx + cw // 2, width)\n",
    "    y1 = max(cy - ch // 2, 0)\n",
    "    y2 = min(cy + ch // 2, height)\n",
    "\n",
    "    tomogram[:, :, y1:y2, x1:x2] = tomogram[index, :, y1:y2, x1:x2]\n",
    "    segmentation_map[:, :, y1:y2, x1:x2] = segmentation_map[index, :, y1:y2, x1:x2]\n",
    "\n",
    "    return tomogram, segmentation_map\n",
    "\n",
    "\n",
    "# データ拡張の組み合わせ適用\n",
    "def augment_data(\n",
    "    tomogram,\n",
    "    segmentation_map,\n",
    "    crop_size=(16, 256, 256),\n",
    "    max_shift=10,\n",
    "    rotation_angle=30,\n",
    "    p=0.5,\n",
    "    mixup_alpha=0.4,\n",
    "    cutmix_alpha=1.0,\n",
    "):\n",
    "    \"\"\"Applies a combination of rotation, translation, flipping, cropping, mixup, and cutmix to the inputs with probabilities.\"\"\"\n",
    "    if random.random() < p:\n",
    "        tomogram, segmentation_map = rotate_3d(\n",
    "            tomogram,\n",
    "            segmentation_map,\n",
    "            angle=random.uniform(-rotation_angle, rotation_angle),\n",
    "        )\n",
    "    if random.random() < p:\n",
    "        tomogram, segmentation_map = translate_3d(\n",
    "            tomogram, segmentation_map, max_shift=max_shift\n",
    "        )\n",
    "    if random.random() < p:\n",
    "        tomogram, segmentation_map = flip_3d(tomogram, segmentation_map)\n",
    "    if random.random() < p:\n",
    "        tomogram, segmentation_map = crop_3d(\n",
    "            tomogram, segmentation_map, crop_size=crop_size\n",
    "        )\n",
    "    if random.random() < p:\n",
    "        tomogram, segmentation_map = mixup(\n",
    "            tomogram, segmentation_map, alpha=mixup_alpha\n",
    "        )\n",
    "    # if random.random() < p:\n",
    "    #     tomogram, segmentation_map = cutmix(\n",
    "    #         tomogram, segmentation_map, alpha=cutmix_alpha\n",
    "    #     )\n",
    "    return tomogram, segmentation_map\n",
    "\n",
    "\n",
    "# 使用例\n",
    "# バッチサイズ6, 深さ16, 高さ320, 幅320のランダムテンソル\n",
    "tomogram = torch.rand((6, 16, 320, 320))\n",
    "segmentation_map = torch.randint(0, 2, (6, 16, 320, 320))  # ラベルは0または1\n",
    "\n",
    "# データ拡張の適用\n",
    "aug_tomogram, aug_segmentation_map = augment_data(tomogram, segmentation_map, p=0.7)\n",
    "print(\"Original shape:\", tomogram.shape)\n",
    "print(\"Augmented shape:\", aug_tomogram.shape)"
   ]
  },
  {
   "cell_type": "code",
   "execution_count": 4,
   "metadata": {},
   "outputs": [],
   "source": [
    "from transformers import get_cosine_schedule_with_warmup"
   ]
  },
  {
   "cell_type": "code",
   "execution_count": 5,
   "metadata": {},
   "outputs": [],
   "source": [
    "# b, c, d, h, w = CFG.batch_size, 1, 96, 320, 320"
   ]
  },
  {
   "cell_type": "code",
   "execution_count": 6,
   "metadata": {},
   "outputs": [],
   "source": [
    "def preprocess_tensor(tensor):\n",
    "    batch_size, depth, height, width = tensor.shape\n",
    "    tensor = tensor.unsqueeze(2)  # (b, d, h, w) -> (b, d, 1, h, w)\n",
    "    return tensor\n",
    "\n",
    "\n",
    "padf = PadToSize(CFG.resolution)"
   ]
  },
  {
   "cell_type": "code",
   "execution_count": 7,
   "metadata": {},
   "outputs": [
    {
     "name": "stderr",
     "output_type": "stream",
     "text": [
      "100%|██████████| 752/752 [01:35<00:00,  7.88it/s]\n",
      "100%|██████████| 1/1 [00:01<00:00,  1.89s/it]\n",
      "Epoch 1/15 [Training]: 100%|██████████| 376/376 [03:56<00:00,  1.59it/s, loss=0.9618]\n",
      "Epoch 1/15 [Validation]: 100%|██████████| 1/1 [00:01<00:00,  1.04s/it, loss=0.9612]\n",
      "100%|██████████| 6/6 [05:08<00:00, 51.48s/it]\n"
     ]
    },
    {
     "name": "stdout",
     "output_type": "stream",
     "text": [
      "train-epoch-loss:0.9618 valid-beta4-score:0.0725\n"
     ]
    },
    {
     "name": "stderr",
     "output_type": "stream",
     "text": [
      "Epoch 2/15 [Training]: 100%|██████████| 376/376 [2:17:21<00:00, 21.92s/it, loss=0.9561]  \n",
      "Epoch 2/15 [Validation]: 100%|██████████| 1/1 [00:01<00:00,  1.02s/it, loss=0.9581]\n",
      "100%|██████████| 6/6 [04:14<00:00, 42.49s/it]\n"
     ]
    },
    {
     "name": "stdout",
     "output_type": "stream",
     "text": [
      "train-epoch-loss:0.9561 valid-beta4-score:0.0828\n"
     ]
    },
    {
     "name": "stderr",
     "output_type": "stream",
     "text": [
      "Epoch 3/15 [Training]: 100%|██████████| 376/376 [03:43<00:00,  1.68it/s, loss=0.9530]\n",
      "Epoch 3/15 [Validation]: 100%|██████████| 1/1 [00:00<00:00,  1.03it/s, loss=0.9566]\n",
      "100%|██████████| 6/6 [04:19<00:00, 43.30s/it]\n"
     ]
    },
    {
     "name": "stdout",
     "output_type": "stream",
     "text": [
      "train-epoch-loss:0.9530 valid-beta4-score:0.0691\n"
     ]
    },
    {
     "name": "stderr",
     "output_type": "stream",
     "text": [
      "Epoch 4/15 [Training]: 100%|██████████| 376/376 [03:52<00:00,  1.62it/s, loss=0.9507]\n",
      "Epoch 4/15 [Validation]: 100%|██████████| 1/1 [00:01<00:00,  1.00s/it, loss=0.9549]\n",
      "100%|██████████| 6/6 [03:53<00:00, 38.87s/it]\n"
     ]
    },
    {
     "name": "stdout",
     "output_type": "stream",
     "text": [
      "train-epoch-loss:0.9507 valid-beta4-score:0.0986\n"
     ]
    },
    {
     "name": "stderr",
     "output_type": "stream",
     "text": [
      "Epoch 5/15 [Training]: 100%|██████████| 376/376 [03:46<00:00,  1.66it/s, loss=0.9495]\n",
      "Epoch 5/15 [Validation]: 100%|██████████| 1/1 [00:00<00:00,  1.02it/s, loss=0.9536]\n",
      "100%|██████████| 6/6 [04:19<00:00, 43.24s/it]\n"
     ]
    },
    {
     "name": "stdout",
     "output_type": "stream",
     "text": [
      "train-epoch-loss:0.9495 valid-beta4-score:0.1086\n"
     ]
    },
    {
     "name": "stderr",
     "output_type": "stream",
     "text": [
      "Epoch 6/15 [Training]: 100%|██████████| 376/376 [04:00<00:00,  1.56it/s, loss=0.9489]\n",
      "Epoch 6/15 [Validation]: 100%|██████████| 1/1 [00:00<00:00,  1.10it/s, loss=0.9504]\n",
      "100%|██████████| 6/6 [04:30<00:00, 45.13s/it]\n"
     ]
    },
    {
     "name": "stdout",
     "output_type": "stream",
     "text": [
      "train-epoch-loss:0.9489 valid-beta4-score:0.1020\n"
     ]
    },
    {
     "name": "stderr",
     "output_type": "stream",
     "text": [
      "Epoch 7/15 [Training]: 100%|██████████| 376/376 [03:41<00:00,  1.69it/s, loss=0.9479]\n",
      "Epoch 7/15 [Validation]: 100%|██████████| 1/1 [00:00<00:00,  1.11it/s, loss=0.9554]\n",
      "100%|██████████| 6/6 [04:00<00:00, 40.03s/it]\n"
     ]
    },
    {
     "name": "stdout",
     "output_type": "stream",
     "text": [
      "train-epoch-loss:0.9479 valid-beta4-score:0.1208\n"
     ]
    },
    {
     "name": "stderr",
     "output_type": "stream",
     "text": [
      "Epoch 8/15 [Training]: 100%|██████████| 376/376 [04:10<00:00,  1.50it/s, loss=0.9478]\n",
      "Epoch 8/15 [Validation]: 100%|██████████| 1/1 [00:00<00:00,  1.12it/s, loss=0.9531]\n",
      "100%|██████████| 6/6 [03:38<00:00, 36.40s/it]\n"
     ]
    },
    {
     "name": "stdout",
     "output_type": "stream",
     "text": [
      "train-epoch-loss:0.9478 valid-beta4-score:0.1137\n"
     ]
    },
    {
     "name": "stderr",
     "output_type": "stream",
     "text": [
      "Epoch 9/15 [Training]: 100%|██████████| 376/376 [03:48<00:00,  1.65it/s, loss=0.9475]\n",
      "Epoch 9/15 [Validation]: 100%|██████████| 1/1 [00:00<00:00,  1.09it/s, loss=0.9551]\n",
      "100%|██████████| 6/6 [04:01<00:00, 40.19s/it]\n"
     ]
    },
    {
     "name": "stdout",
     "output_type": "stream",
     "text": [
      "train-epoch-loss:0.9475 valid-beta4-score:0.0975\n"
     ]
    },
    {
     "name": "stderr",
     "output_type": "stream",
     "text": [
      "Epoch 10/15 [Training]: 100%|██████████| 376/376 [03:52<00:00,  1.62it/s, loss=0.9473]\n",
      "Epoch 10/15 [Validation]: 100%|██████████| 1/1 [00:00<00:00,  1.04it/s, loss=0.9527]\n",
      "100%|██████████| 6/6 [04:03<00:00, 40.53s/it]\n"
     ]
    },
    {
     "name": "stdout",
     "output_type": "stream",
     "text": [
      "train-epoch-loss:0.9473 valid-beta4-score:0.0907\n"
     ]
    },
    {
     "name": "stderr",
     "output_type": "stream",
     "text": [
      "Epoch 11/15 [Training]: 100%|██████████| 376/376 [03:52<00:00,  1.61it/s, loss=0.9466]\n",
      "Epoch 11/15 [Validation]: 100%|██████████| 1/1 [00:00<00:00,  1.02it/s, loss=0.9451]\n",
      "100%|██████████| 6/6 [04:05<00:00, 40.92s/it]\n"
     ]
    },
    {
     "name": "stdout",
     "output_type": "stream",
     "text": [
      "train-epoch-loss:0.9466 valid-beta4-score:0.1089\n"
     ]
    },
    {
     "name": "stderr",
     "output_type": "stream",
     "text": [
      "Epoch 12/15 [Training]: 100%|██████████| 376/376 [03:44<00:00,  1.67it/s, loss=0.9472]\n",
      "Epoch 12/15 [Validation]: 100%|██████████| 1/1 [00:00<00:00,  1.07it/s, loss=0.9534]\n",
      "100%|██████████| 6/6 [03:59<00:00, 39.90s/it]\n"
     ]
    },
    {
     "name": "stdout",
     "output_type": "stream",
     "text": [
      "train-epoch-loss:0.9472 valid-beta4-score:0.1081\n"
     ]
    },
    {
     "name": "stderr",
     "output_type": "stream",
     "text": [
      "Epoch 13/15 [Training]: 100%|██████████| 376/376 [03:36<00:00,  1.74it/s, loss=0.9471]\n",
      "Epoch 13/15 [Validation]: 100%|██████████| 1/1 [00:00<00:00,  1.03it/s, loss=0.9533]\n",
      "100%|██████████| 6/6 [03:50<00:00, 38.41s/it]\n"
     ]
    },
    {
     "name": "stdout",
     "output_type": "stream",
     "text": [
      "train-epoch-loss:0.9471 valid-beta4-score:0.1175\n"
     ]
    },
    {
     "name": "stderr",
     "output_type": "stream",
     "text": [
      "Epoch 14/15 [Training]: 100%|██████████| 376/376 [03:53<00:00,  1.61it/s, loss=0.9466]\n",
      "Epoch 14/15 [Validation]: 100%|██████████| 1/1 [00:00<00:00,  1.03it/s, loss=0.9504]\n",
      "100%|██████████| 6/6 [03:39<00:00, 36.52s/it]\n"
     ]
    },
    {
     "name": "stdout",
     "output_type": "stream",
     "text": [
      "train-epoch-loss:0.9466 valid-beta4-score:0.0997\n"
     ]
    },
    {
     "name": "stderr",
     "output_type": "stream",
     "text": [
      "Epoch 15/15 [Training]: 100%|██████████| 376/376 [03:52<00:00,  1.62it/s, loss=0.9470]\n",
      "Epoch 15/15 [Validation]: 100%|██████████| 1/1 [00:00<00:00,  1.01it/s, loss=0.9548]\n",
      "100%|██████████| 6/6 [03:53<00:00, 38.86s/it]\n"
     ]
    },
    {
     "name": "stdout",
     "output_type": "stream",
     "text": [
      "train-epoch-loss:0.9470 valid-beta4-score:0.0988\n"
     ]
    },
    {
     "data": {
      "text/html": [
       "Finishing last run (ID:s07wwldm) before initializing another..."
      ],
      "text/plain": [
       "<IPython.core.display.HTML object>"
      ]
     },
     "metadata": {},
     "output_type": "display_data"
    },
    {
     "name": "stderr",
     "output_type": "stream",
     "text": [
      "wandb: WARNING Source type is set to 'repo' but some required information is missing from the environment. A job will not be created from this run. See https://docs.wandb.ai/guides/launch/create-job\n"
     ]
    },
    {
     "data": {
      "application/vnd.jupyter.widget-view+json": {
       "model_id": "03922c596f984a82a6da4b8c7e31c953",
       "version_major": 2,
       "version_minor": 0
      },
      "text/plain": [
       "VBox(children=(Label(value='0.004 MB of 0.004 MB uploaded\\r'), FloatProgress(value=1.0, max=1.0)))"
      ]
     },
     "metadata": {},
     "output_type": "display_data"
    },
    {
     "data": {
      "text/html": [
       "<style>\n",
       "    table.wandb td:nth-child(1) { padding: 0 10px; text-align: left ; width: auto;} td:nth-child(2) {text-align: left ; width: 100%}\n",
       "    .wandb-row { display: flex; flex-direction: row; flex-wrap: wrap; justify-content: flex-start; width: 100% }\n",
       "    .wandb-col { display: flex; flex-direction: column; flex-basis: 100%; flex: 1; padding: 10px; }\n",
       "    </style>\n",
       "<div class=\"wandb-row\"><div class=\"wandb-col\"><h3>Run history:</h3><br/><table class=\"wandb\"><tr><td>01_epoch</td><td>▁▁▂▃▃▃▄▅▅▅▆▇▇▇█</td></tr><tr><td>02_train_loss</td><td>█▅▄▃▂▂▂▂▁▁▁▁▁▁▁</td></tr><tr><td>03_valid_loss</td><td>█▇▆▅▅▃▅▄▅▄▁▅▅▃▅</td></tr><tr><td>04_valid_best_score</td><td>▁▃▁▅▆▅█▇▅▄▆▆█▅▅</td></tr><tr><td>apo-ferritin</td><td>█▃▂▂▁▁▁▁▁▁▁▁▁▁▁</td></tr><tr><td>apoo_ferritin_f4</td><td>█▇▃▁▄▂▅▄▅▇▄▆▆▆▆</td></tr><tr><td>apoo_ferritin_p</td><td>█▅▂▁▂▁▃▃▃▅▃▄▄▄▄</td></tr><tr><td>apoo_ferritin_r</td><td>▂▂▃▁██▅▃▆▆▅▆▃▃▅</td></tr><tr><td>beta-amylase</td><td>▁▁▁▁▁▁▁▁▁▁▁▁▁▁▁</td></tr><tr><td>beta-galactosidase</td><td>█▅▄▂▂▂▂▂▂▂▂▂▁▂▂</td></tr><tr><td>beta_amylase_f4</td><td>▁▁▁▁▁▁▁▁▁▁▁▁▁▁▁</td></tr><tr><td>beta_amylase_p</td><td>▁▁▁▁▁▁▁▁▁▁▁▁▁▁▁</td></tr><tr><td>beta_amylase_r</td><td>▁▁▁▁▁▁▁▁▁▁▁▁▁▁▁</td></tr><tr><td>beta_galactosidase_f4</td><td>▃█▅▄▄▃▅▁██▅▄▂▃▁</td></tr><tr><td>beta_galactosidase_p</td><td>▃█▅▄▄▃▄▁██▄▄▂▃▁</td></tr><tr><td>beta_galactosidase_r</td><td>▇▅▃▅▇█▅▁▅▄▅▂▁▁▁</td></tr><tr><td>ribosome</td><td>██████▁████████</td></tr><tr><td>ribosome_f4</td><td>▁▂▁▅▆▅▇▇▄▂▅▇█▆▄</td></tr><tr><td>ribosome_p</td><td>▁▁▁▂▃▃▅▇▄▃▄▆█▇▄</td></tr><tr><td>ribosome_r</td><td>▆███▆▆▆▅▃▁▄▅▆▄▃</td></tr><tr><td>thyroglobulin</td><td>▁▁▄▄▄▄▄▄▄▄▄▄▄█▄</td></tr><tr><td>thyroglobulin_f4</td><td>▃▄▅▇▇▆▆▅▇▅▇▂▃▁█</td></tr><tr><td>thyroglobulin_p</td><td>▂▂▃▅▅▄▅▅▇▅▆▃▅▁█</td></tr><tr><td>thyroglobulin_r</td><td>█▂▇▄▃▂▂▁▂▂▂▁▁▁▂</td></tr><tr><td>virus-like-particle</td><td>█▆▅▄▃▃▃▃▃▁▃▃▃▃▃</td></tr><tr><td>virus_like_particle_f4</td><td>▇▅▂▂▃▃▅▂▃█▅▃▂▂▁</td></tr><tr><td>virus_like_particle_p</td><td>▅▃▁▁▂▂▄▁▃█▃▃▂▃▁</td></tr><tr><td>virus_like_particle_r</td><td>▃▄▄▃▆▇▃█▂▂▄▁█▁▇</td></tr></table><br/></div><div class=\"wandb-col\"><h3>Run summary:</h3><br/><table class=\"wandb\"><tr><td>01_epoch</td><td>14</td></tr><tr><td>02_train_loss</td><td>0.94699</td></tr><tr><td>03_valid_loss</td><td>0.95476</td></tr><tr><td>04_valid_best_score</td><td>0.09879</td></tr><tr><td>apo-ferritin</td><td>0.15</td></tr><tr><td>apoo_ferritin_f4</td><td>0.03777</td></tr><tr><td>apoo_ferritin_p</td><td>0.00244</td></tr><tr><td>apoo_ferritin_r</td><td>0.4</td></tr><tr><td>beta-amylase</td><td>0.05</td></tr><tr><td>beta-galactosidase</td><td>0.15</td></tr><tr><td>beta_amylase_f4</td><td>0.0</td></tr><tr><td>beta_amylase_p</td><td>0.0</td></tr><tr><td>beta_amylase_r</td><td>0.0</td></tr><tr><td>beta_galactosidase_f4</td><td>0.00743</td></tr><tr><td>beta_galactosidase_p</td><td>0.00048</td></tr><tr><td>beta_galactosidase_r</td><td>0.07143</td></tr><tr><td>ribosome</td><td>0.75</td></tr><tr><td>ribosome_f4</td><td>0.45638</td></tr><tr><td>ribosome_p</td><td>0.09121</td></tr><tr><td>ribosome_r</td><td>0.6087</td></tr><tr><td>thyroglobulin</td><td>0.1</td></tr><tr><td>thyroglobulin_f4</td><td>0.08205</td></tr><tr><td>thyroglobulin_p</td><td>0.0085</td></tr><tr><td>thyroglobulin_r</td><td>0.17857</td></tr><tr><td>virus-like-particle</td><td>0.2</td></tr><tr><td>virus_like_particle_f4</td><td>0.0184</td></tr><tr><td>virus_like_particle_p</td><td>0.0011</td></tr><tr><td>virus_like_particle_r</td><td>0.86364</td></tr></table><br/></div></div>"
      ],
      "text/plain": [
       "<IPython.core.display.HTML object>"
      ]
     },
     "metadata": {},
     "output_type": "display_data"
    },
    {
     "data": {
      "text/html": [
       " View run <strong style=\"color:#cdcd00\">exp074-recreate-baseline-renet34d-dstride_TS_73_6</strong> at: <a href='https://wandb.ai/latent-walkers/czii2024/runs/s07wwldm' target=\"_blank\">https://wandb.ai/latent-walkers/czii2024/runs/s07wwldm</a><br/>Synced 5 W&B file(s), 0 media file(s), 0 artifact file(s) and 0 other file(s)"
      ],
      "text/plain": [
       "<IPython.core.display.HTML object>"
      ]
     },
     "metadata": {},
     "output_type": "display_data"
    },
    {
     "data": {
      "text/html": [
       "Find logs at: <code>./wandb/run-20250131_000943-s07wwldm/logs</code>"
      ],
      "text/plain": [
       "<IPython.core.display.HTML object>"
      ]
     },
     "metadata": {},
     "output_type": "display_data"
    },
    {
     "data": {
      "text/html": [
       "Successfully finished last run (ID:s07wwldm). Initializing new run:<br/>"
      ],
      "text/plain": [
       "<IPython.core.display.HTML object>"
      ]
     },
     "metadata": {},
     "output_type": "display_data"
    },
    {
     "data": {
      "application/vnd.jupyter.widget-view+json": {
       "model_id": "fa7c653541c24696815a757f130c4f95",
       "version_major": 2,
       "version_minor": 0
      },
      "text/plain": [
       "VBox(children=(Label(value='Waiting for wandb.init()...\\r'), FloatProgress(value=0.011114958022436542, max=1.0…"
      ]
     },
     "metadata": {},
     "output_type": "display_data"
    },
    {
     "data": {
      "text/html": [
       "wandb version 0.19.5 is available!  To upgrade, please run:\n",
       " $ pip install wandb --upgrade"
      ],
      "text/plain": [
       "<IPython.core.display.HTML object>"
      ]
     },
     "metadata": {},
     "output_type": "display_data"
    },
    {
     "data": {
      "text/html": [
       "Tracking run with wandb version 0.16.1"
      ],
      "text/plain": [
       "<IPython.core.display.HTML object>"
      ]
     },
     "metadata": {},
     "output_type": "display_data"
    },
    {
     "data": {
      "text/html": [
       "Run data is saved locally in <code>/home/tatsuya/code/projects/kaggle/CryoET/experiments/exp074-recreate-baseline-renet34d-dstride/wandb/run-20250131_043040-dripdidz</code>"
      ],
      "text/plain": [
       "<IPython.core.display.HTML object>"
      ]
     },
     "metadata": {},
     "output_type": "display_data"
    },
    {
     "data": {
      "text/html": [
       "Syncing run <strong><a href='https://wandb.ai/latent-walkers/czii2024/runs/dripdidz' target=\"_blank\">exp074-recreate-baseline-renet34d-dstride_TS_99_9</a></strong> to <a href='https://wandb.ai/latent-walkers/czii2024' target=\"_blank\">Weights & Biases</a> (<a href='https://wandb.me/run' target=\"_blank\">docs</a>)<br/>"
      ],
      "text/plain": [
       "<IPython.core.display.HTML object>"
      ]
     },
     "metadata": {},
     "output_type": "display_data"
    },
    {
     "data": {
      "text/html": [
       " View project at <a href='https://wandb.ai/latent-walkers/czii2024' target=\"_blank\">https://wandb.ai/latent-walkers/czii2024</a>"
      ],
      "text/plain": [
       "<IPython.core.display.HTML object>"
      ]
     },
     "metadata": {},
     "output_type": "display_data"
    },
    {
     "data": {
      "text/html": [
       " View run at <a href='https://wandb.ai/latent-walkers/czii2024/runs/dripdidz' target=\"_blank\">https://wandb.ai/latent-walkers/czii2024/runs/dripdidz</a>"
      ],
      "text/plain": [
       "<IPython.core.display.HTML object>"
      ]
     },
     "metadata": {},
     "output_type": "display_data"
    },
    {
     "name": "stderr",
     "output_type": "stream",
     "text": [
      "100%|██████████| 752/752 [11:12<00:00,  1.12it/s]   \n",
      "100%|██████████| 1/1 [00:02<00:00,  2.54s/it]\n",
      "Epoch 1/15 [Training]: 100%|██████████| 376/376 [03:58<00:00,  1.58it/s, loss=0.9649]\n",
      "Epoch 1/15 [Validation]: 100%|██████████| 1/1 [00:01<00:00,  1.35s/it, loss=0.9669]\n",
      "100%|██████████| 6/6 [04:41<00:00, 46.96s/it]\n"
     ]
    },
    {
     "name": "stdout",
     "output_type": "stream",
     "text": [
      "train-epoch-loss:0.9649 valid-beta4-score:0.0876\n"
     ]
    },
    {
     "name": "stderr",
     "output_type": "stream",
     "text": [
      "Epoch 2/15 [Training]: 100%|██████████| 376/376 [03:37<00:00,  1.73it/s, loss=0.9610]\n",
      "Epoch 2/15 [Validation]: 100%|██████████| 1/1 [00:01<00:00,  1.34s/it, loss=0.9570]\n",
      "100%|██████████| 6/6 [04:27<00:00, 44.55s/it]\n"
     ]
    },
    {
     "name": "stdout",
     "output_type": "stream",
     "text": [
      "train-epoch-loss:0.9610 valid-beta4-score:0.1062\n"
     ]
    },
    {
     "name": "stderr",
     "output_type": "stream",
     "text": [
      "Epoch 3/15 [Training]: 100%|██████████| 376/376 [03:38<00:00,  1.72it/s, loss=0.9569]\n",
      "Epoch 3/15 [Validation]: 100%|██████████| 1/1 [00:01<00:00,  1.31s/it, loss=0.9516]\n",
      "100%|██████████| 6/6 [04:25<00:00, 44.23s/it]\n"
     ]
    },
    {
     "name": "stdout",
     "output_type": "stream",
     "text": [
      "train-epoch-loss:0.9569 valid-beta4-score:0.1120\n"
     ]
    },
    {
     "name": "stderr",
     "output_type": "stream",
     "text": [
      "Epoch 4/15 [Training]: 100%|██████████| 376/376 [03:55<00:00,  1.59it/s, loss=0.9542]\n",
      "Epoch 4/15 [Validation]: 100%|██████████| 1/1 [00:01<00:00,  1.31s/it, loss=0.9574]\n",
      "100%|██████████| 6/6 [03:43<00:00, 37.19s/it]\n"
     ]
    },
    {
     "name": "stdout",
     "output_type": "stream",
     "text": [
      "train-epoch-loss:0.9542 valid-beta4-score:0.1080\n"
     ]
    },
    {
     "name": "stderr",
     "output_type": "stream",
     "text": [
      "Epoch 5/15 [Training]: 100%|██████████| 376/376 [03:52<00:00,  1.62it/s, loss=0.9523]\n",
      "Epoch 5/15 [Validation]: 100%|██████████| 1/1 [00:01<00:00,  1.33s/it, loss=0.9590]\n",
      "100%|██████████| 6/6 [03:51<00:00, 38.52s/it]\n"
     ]
    },
    {
     "name": "stdout",
     "output_type": "stream",
     "text": [
      "train-epoch-loss:0.9523 valid-beta4-score:0.1077\n"
     ]
    },
    {
     "name": "stderr",
     "output_type": "stream",
     "text": [
      "Epoch 6/15 [Training]: 100%|██████████| 376/376 [03:39<00:00,  1.71it/s, loss=0.9515]\n",
      "Epoch 6/15 [Validation]: 100%|██████████| 1/1 [00:01<00:00,  1.29s/it, loss=0.9537]\n",
      "100%|██████████| 6/6 [03:42<00:00, 37.08s/it]\n"
     ]
    },
    {
     "name": "stdout",
     "output_type": "stream",
     "text": [
      "train-epoch-loss:0.9515 valid-beta4-score:0.1100\n"
     ]
    },
    {
     "name": "stderr",
     "output_type": "stream",
     "text": [
      "Epoch 7/15 [Training]: 100%|██████████| 376/376 [03:42<00:00,  1.69it/s, loss=0.9507]\n",
      "Epoch 7/15 [Validation]: 100%|██████████| 1/1 [00:01<00:00,  1.34s/it, loss=0.9470]\n",
      "100%|██████████| 6/6 [03:57<00:00, 39.50s/it]\n"
     ]
    },
    {
     "name": "stdout",
     "output_type": "stream",
     "text": [
      "train-epoch-loss:0.9507 valid-beta4-score:0.1174\n"
     ]
    },
    {
     "name": "stderr",
     "output_type": "stream",
     "text": [
      "Epoch 8/15 [Training]: 100%|██████████| 376/376 [03:51<00:00,  1.62it/s, loss=0.9499]\n",
      "Epoch 8/15 [Validation]: 100%|██████████| 1/1 [00:01<00:00,  1.29s/it, loss=0.9576]\n",
      "100%|██████████| 6/6 [03:41<00:00, 36.85s/it]\n"
     ]
    },
    {
     "name": "stdout",
     "output_type": "stream",
     "text": [
      "train-epoch-loss:0.9499 valid-beta4-score:0.1223\n"
     ]
    },
    {
     "name": "stderr",
     "output_type": "stream",
     "text": [
      "Epoch 9/15 [Training]: 100%|██████████| 376/376 [03:48<00:00,  1.65it/s, loss=0.9495]\n",
      "Epoch 9/15 [Validation]: 100%|██████████| 1/1 [00:01<00:00,  1.33s/it, loss=0.9481]\n",
      "100%|██████████| 6/6 [04:41<00:00, 46.99s/it]\n"
     ]
    },
    {
     "name": "stdout",
     "output_type": "stream",
     "text": [
      "train-epoch-loss:0.9495 valid-beta4-score:0.1249\n"
     ]
    },
    {
     "name": "stderr",
     "output_type": "stream",
     "text": [
      "Epoch 10/15 [Training]: 100%|██████████| 376/376 [03:57<00:00,  1.59it/s, loss=0.9494]\n",
      "Epoch 10/15 [Validation]: 100%|██████████| 1/1 [00:01<00:00,  1.38s/it, loss=0.9536]\n",
      "100%|██████████| 6/6 [03:47<00:00, 37.95s/it]\n"
     ]
    },
    {
     "name": "stdout",
     "output_type": "stream",
     "text": [
      "train-epoch-loss:0.9494 valid-beta4-score:0.1205\n"
     ]
    },
    {
     "name": "stderr",
     "output_type": "stream",
     "text": [
      "Epoch 11/15 [Training]: 100%|██████████| 376/376 [03:45<00:00,  1.67it/s, loss=0.9492]\n",
      "Epoch 11/15 [Validation]: 100%|██████████| 1/1 [00:01<00:00,  1.28s/it, loss=0.9528]\n",
      "100%|██████████| 6/6 [03:55<00:00, 39.29s/it]\n"
     ]
    },
    {
     "name": "stdout",
     "output_type": "stream",
     "text": [
      "train-epoch-loss:0.9492 valid-beta4-score:0.1203\n"
     ]
    },
    {
     "name": "stderr",
     "output_type": "stream",
     "text": [
      "Epoch 12/15 [Training]: 100%|██████████| 376/376 [03:45<00:00,  1.67it/s, loss=0.9486]\n",
      "Epoch 12/15 [Validation]: 100%|██████████| 1/1 [00:01<00:00,  1.27s/it, loss=0.9482]\n",
      "100%|██████████| 6/6 [03:50<00:00, 38.44s/it]\n"
     ]
    },
    {
     "name": "stdout",
     "output_type": "stream",
     "text": [
      "train-epoch-loss:0.9486 valid-beta4-score:0.1173\n"
     ]
    },
    {
     "name": "stderr",
     "output_type": "stream",
     "text": [
      "Epoch 13/15 [Training]: 100%|██████████| 376/376 [03:42<00:00,  1.69it/s, loss=0.9486]\n",
      "Epoch 13/15 [Validation]: 100%|██████████| 1/1 [00:01<00:00,  1.28s/it, loss=0.9531]\n",
      "100%|██████████| 6/6 [03:42<00:00, 37.07s/it]\n"
     ]
    },
    {
     "name": "stdout",
     "output_type": "stream",
     "text": [
      "train-epoch-loss:0.9486 valid-beta4-score:0.1218\n"
     ]
    },
    {
     "name": "stderr",
     "output_type": "stream",
     "text": [
      "Epoch 14/15 [Training]: 100%|██████████| 376/376 [03:35<00:00,  1.74it/s, loss=0.9485]\n",
      "Epoch 14/15 [Validation]: 100%|██████████| 1/1 [00:01<00:00,  1.34s/it, loss=0.9561]\n",
      "100%|██████████| 6/6 [04:14<00:00, 42.37s/it]\n"
     ]
    },
    {
     "name": "stdout",
     "output_type": "stream",
     "text": [
      "train-epoch-loss:0.9485 valid-beta4-score:0.1167\n"
     ]
    },
    {
     "name": "stderr",
     "output_type": "stream",
     "text": [
      "Epoch 15/15 [Training]: 100%|██████████| 376/376 [03:41<00:00,  1.70it/s, loss=0.9489]\n",
      "Epoch 15/15 [Validation]: 100%|██████████| 1/1 [00:01<00:00,  1.31s/it, loss=0.9566]\n",
      "100%|██████████| 6/6 [03:42<00:00, 37.11s/it]\n"
     ]
    },
    {
     "name": "stdout",
     "output_type": "stream",
     "text": [
      "train-epoch-loss:0.9489 valid-beta4-score:0.1229\n"
     ]
    },
    {
     "data": {
      "text/html": [
       "Finishing last run (ID:dripdidz) before initializing another..."
      ],
      "text/plain": [
       "<IPython.core.display.HTML object>"
      ]
     },
     "metadata": {},
     "output_type": "display_data"
    },
    {
     "name": "stderr",
     "output_type": "stream",
     "text": [
      "wandb: WARNING Source type is set to 'repo' but some required information is missing from the environment. A job will not be created from this run. See https://docs.wandb.ai/guides/launch/create-job\n"
     ]
    },
    {
     "data": {
      "application/vnd.jupyter.widget-view+json": {
       "model_id": "eb6c2c8454ff46559b9d60b79c00ddd3",
       "version_major": 2,
       "version_minor": 0
      },
      "text/plain": [
       "VBox(children=(Label(value='0.004 MB of 0.004 MB uploaded\\r'), FloatProgress(value=1.0, max=1.0)))"
      ]
     },
     "metadata": {},
     "output_type": "display_data"
    },
    {
     "data": {
      "text/html": [
       "<style>\n",
       "    table.wandb td:nth-child(1) { padding: 0 10px; text-align: left ; width: auto;} td:nth-child(2) {text-align: left ; width: 100%}\n",
       "    .wandb-row { display: flex; flex-direction: row; flex-wrap: wrap; justify-content: flex-start; width: 100% }\n",
       "    .wandb-col { display: flex; flex-direction: column; flex-basis: 100%; flex: 1; padding: 10px; }\n",
       "    </style>\n",
       "<div class=\"wandb-row\"><div class=\"wandb-col\"><h3>Run history:</h3><br/><table class=\"wandb\"><tr><td>01_epoch</td><td>▁▁▂▃▃▃▄▅▅▅▆▇▇▇█</td></tr><tr><td>02_train_loss</td><td>█▆▅▃▃▂▂▂▁▁▁▁▁▁▁</td></tr><tr><td>03_valid_loss</td><td>█▅▃▅▅▃▁▅▁▃▃▁▃▄▄</td></tr><tr><td>04_valid_best_score</td><td>▁▄▆▅▅▅▇██▇▇▇▇▆█</td></tr><tr><td>apo-ferritin</td><td>█▄▃▃▃▁▃▁▃▁▁▁▁▃▁</td></tr><tr><td>apoo_ferritin_f4</td><td>▅▆▅██▁▂▁▁▁▁▁▁▂▁</td></tr><tr><td>apoo_ferritin_p</td><td>▄▆▄██▁▂▁▁▁▁▁▁▂▁</td></tr><tr><td>apoo_ferritin_r</td><td>▃██▃▂▁▁▁▂▁▁▁▁▁▁</td></tr><tr><td>beta-amylase</td><td>▁▁▁▁▁▁▁▁▁▁▁▁▁▁▁</td></tr><tr><td>beta-galactosidase</td><td>█▂▂▂▁▁▁▁▁▁▁▁▁▁▁</td></tr><tr><td>beta_amylase_f4</td><td>▁▁▁▁▁▁▁▁▁▁▁▁▁▁▁</td></tr><tr><td>beta_amylase_p</td><td>▁▁▁▁▁▁▁▁▁▁▁▁▁▁▁</td></tr><tr><td>beta_amylase_r</td><td>▁▁▁▁▁▁▁▁▁▁▁▁▁▁▁</td></tr><tr><td>beta_galactosidase_f4</td><td>▃▂▄▁▂▄▆▆█▂▁▂▄▃▃</td></tr><tr><td>beta_galactosidase_p</td><td>▂▂▄▁▁▄▆▆█▂▁▁▄▃▃</td></tr><tr><td>beta_galactosidase_r</td><td>▃█▅▁██▅▇▆▇▇▆▇▇▇</td></tr><tr><td>ribosome</td><td>█▇▄▃▃▂▁▃▃▄▆▆▆▄▄</td></tr><tr><td>ribosome_f4</td><td>▁▃▅▆▆▆▇▇▇████▇█</td></tr><tr><td>ribosome_p</td><td>▁▃▃▅▅▅▆▇▇█▇█▇▇█</td></tr><tr><td>ribosome_r</td><td>▅▁▇▆▇▇▇▇▇██▇▇▇█</td></tr><tr><td>thyroglobulin</td><td>█▃▂▁▁▁▁▁▁▁▁▁▁▁▁</td></tr><tr><td>thyroglobulin_f4</td><td>█▇▆▄▃▁▁▂▂▂▄▂▂▁▂</td></tr><tr><td>thyroglobulin_p</td><td>█▇▆▄▃▁▁▂▂▂▅▃▃▂▃</td></tr><tr><td>thyroglobulin_r</td><td>██▅▅▄▁▁▁▁▁▂▁▁▁▁</td></tr><tr><td>virus-like-particle</td><td>█▃▂▁▁▁▁▁▁▁▁▁▁▁▁</td></tr><tr><td>virus_like_particle_f4</td><td>▄█▄▁▁▁▁▂▁▂▂▂▂▃▂</td></tr><tr><td>virus_like_particle_p</td><td>▅█▃▁▁▁▁▂▁▂▁▂▂▂▂</td></tr><tr><td>virus_like_particle_r</td><td>▁▅▃████▇█▆▃▄▃▅▃</td></tr></table><br/></div><div class=\"wandb-col\"><h3>Run summary:</h3><br/><table class=\"wandb\"><tr><td>01_epoch</td><td>14</td></tr><tr><td>02_train_loss</td><td>0.94886</td></tr><tr><td>03_valid_loss</td><td>0.9566</td></tr><tr><td>04_valid_best_score</td><td>0.12288</td></tr><tr><td>apo-ferritin</td><td>0.05</td></tr><tr><td>apoo_ferritin_f4</td><td>0.0</td></tr><tr><td>apoo_ferritin_p</td><td>0.0</td></tr><tr><td>apoo_ferritin_r</td><td>0.0</td></tr><tr><td>beta-amylase</td><td>0.05</td></tr><tr><td>beta-galactosidase</td><td>0.15</td></tr><tr><td>beta_amylase_f4</td><td>0.0</td></tr><tr><td>beta_amylase_p</td><td>0.0</td></tr><tr><td>beta_amylase_r</td><td>0.0</td></tr><tr><td>beta_galactosidase_f4</td><td>0.02576</td></tr><tr><td>beta_galactosidase_p</td><td>0.00156</td></tr><tr><td>beta_galactosidase_r</td><td>0.83333</td></tr><tr><td>ribosome</td><td>0.35</td></tr><tr><td>ribosome_f4</td><td>0.76119</td></tr><tr><td>ribosome_p</td><td>0.24464</td></tr><tr><td>ribosome_r</td><td>0.87692</td></tr><tr><td>thyroglobulin</td><td>0.2</td></tr><tr><td>thyroglobulin_f4</td><td>0.0181</td></tr><tr><td>thyroglobulin_p</td><td>0.00147</td></tr><tr><td>thyroglobulin_r</td><td>0.06122</td></tr><tr><td>virus-like-particle</td><td>0.15</td></tr><tr><td>virus_like_particle_f4</td><td>0.01124</td></tr><tr><td>virus_like_particle_p</td><td>0.00068</td></tr><tr><td>virus_like_particle_r</td><td>0.38462</td></tr></table><br/></div></div>"
      ],
      "text/plain": [
       "<IPython.core.display.HTML object>"
      ]
     },
     "metadata": {},
     "output_type": "display_data"
    },
    {
     "data": {
      "text/html": [
       " View run <strong style=\"color:#cdcd00\">exp074-recreate-baseline-renet34d-dstride_TS_99_9</strong> at: <a href='https://wandb.ai/latent-walkers/czii2024/runs/dripdidz' target=\"_blank\">https://wandb.ai/latent-walkers/czii2024/runs/dripdidz</a><br/>Synced 5 W&B file(s), 0 media file(s), 0 artifact file(s) and 0 other file(s)"
      ],
      "text/plain": [
       "<IPython.core.display.HTML object>"
      ]
     },
     "metadata": {},
     "output_type": "display_data"
    },
    {
     "data": {
      "text/html": [
       "Find logs at: <code>./wandb/run-20250131_043040-dripdidz/logs</code>"
      ],
      "text/plain": [
       "<IPython.core.display.HTML object>"
      ]
     },
     "metadata": {},
     "output_type": "display_data"
    },
    {
     "data": {
      "text/html": [
       "Successfully finished last run (ID:dripdidz). Initializing new run:<br/>"
      ],
      "text/plain": [
       "<IPython.core.display.HTML object>"
      ]
     },
     "metadata": {},
     "output_type": "display_data"
    },
    {
     "data": {
      "application/vnd.jupyter.widget-view+json": {
       "model_id": "9cfaa139761b49f2bff770137466f3d6",
       "version_major": 2,
       "version_minor": 0
      },
      "text/plain": [
       "VBox(children=(Label(value='Waiting for wandb.init()...\\r'), FloatProgress(value=0.011114493899771736, max=1.0…"
      ]
     },
     "metadata": {},
     "output_type": "display_data"
    },
    {
     "data": {
      "text/html": [
       "wandb version 0.19.5 is available!  To upgrade, please run:\n",
       " $ pip install wandb --upgrade"
      ],
      "text/plain": [
       "<IPython.core.display.HTML object>"
      ]
     },
     "metadata": {},
     "output_type": "display_data"
    },
    {
     "data": {
      "text/html": [
       "Tracking run with wandb version 0.16.1"
      ],
      "text/plain": [
       "<IPython.core.display.HTML object>"
      ]
     },
     "metadata": {},
     "output_type": "display_data"
    },
    {
     "data": {
      "text/html": [
       "Run data is saved locally in <code>/home/tatsuya/code/projects/kaggle/CryoET/experiments/exp074-recreate-baseline-renet34d-dstride/wandb/run-20250131_064531-cns96vx3</code>"
      ],
      "text/plain": [
       "<IPython.core.display.HTML object>"
      ]
     },
     "metadata": {},
     "output_type": "display_data"
    },
    {
     "data": {
      "text/html": [
       "Syncing run <strong><a href='https://wandb.ai/latent-walkers/czii2024/runs/cns96vx3' target=\"_blank\">exp074-recreate-baseline-renet34d-dstride_TS_6_4</a></strong> to <a href='https://wandb.ai/latent-walkers/czii2024' target=\"_blank\">Weights & Biases</a> (<a href='https://wandb.me/run' target=\"_blank\">docs</a>)<br/>"
      ],
      "text/plain": [
       "<IPython.core.display.HTML object>"
      ]
     },
     "metadata": {},
     "output_type": "display_data"
    },
    {
     "data": {
      "text/html": [
       " View project at <a href='https://wandb.ai/latent-walkers/czii2024' target=\"_blank\">https://wandb.ai/latent-walkers/czii2024</a>"
      ],
      "text/plain": [
       "<IPython.core.display.HTML object>"
      ]
     },
     "metadata": {},
     "output_type": "display_data"
    },
    {
     "data": {
      "text/html": [
       " View run at <a href='https://wandb.ai/latent-walkers/czii2024/runs/cns96vx3' target=\"_blank\">https://wandb.ai/latent-walkers/czii2024/runs/cns96vx3</a>"
      ],
      "text/plain": [
       "<IPython.core.display.HTML object>"
      ]
     },
     "metadata": {},
     "output_type": "display_data"
    },
    {
     "name": "stderr",
     "output_type": "stream",
     "text": [
      "100%|██████████| 752/752 [03:33<00:00,  3.53it/s] \n",
      "100%|██████████| 1/1 [01:52<00:00, 112.99s/it]\n",
      "Epoch 1/15 [Training]: 100%|██████████| 376/376 [03:47<00:00,  1.65it/s, loss=0.9627]\n",
      "Epoch 1/15 [Validation]: 100%|██████████| 1/1 [00:01<00:00,  1.17s/it, loss=0.9633]\n",
      "100%|██████████| 6/6 [07:00<00:00, 70.09s/it]\n"
     ]
    },
    {
     "name": "stdout",
     "output_type": "stream",
     "text": [
      "train-epoch-loss:0.9627 valid-beta4-score:0.0818\n"
     ]
    },
    {
     "name": "stderr",
     "output_type": "stream",
     "text": [
      "Epoch 2/15 [Training]: 100%|██████████| 376/376 [03:45<00:00,  1.67it/s, loss=0.9580]\n",
      "Epoch 2/15 [Validation]: 100%|██████████| 1/1 [00:01<00:00,  1.12s/it, loss=0.9610]\n",
      "100%|██████████| 6/6 [04:48<00:00, 48.12s/it]\n"
     ]
    },
    {
     "name": "stdout",
     "output_type": "stream",
     "text": [
      "train-epoch-loss:0.9580 valid-beta4-score:0.1147\n"
     ]
    },
    {
     "name": "stderr",
     "output_type": "stream",
     "text": [
      "Epoch 3/15 [Training]: 100%|██████████| 376/376 [04:01<00:00,  1.56it/s, loss=0.9548]\n",
      "Epoch 3/15 [Validation]: 100%|██████████| 1/1 [00:01<00:00,  1.13s/it, loss=0.9539]\n",
      "100%|██████████| 6/6 [04:34<00:00, 45.75s/it]\n"
     ]
    },
    {
     "name": "stdout",
     "output_type": "stream",
     "text": [
      "train-epoch-loss:0.9548 valid-beta4-score:0.1347\n"
     ]
    },
    {
     "name": "stderr",
     "output_type": "stream",
     "text": [
      "Epoch 4/15 [Training]: 100%|██████████| 376/376 [03:59<00:00,  1.57it/s, loss=0.9530]\n",
      "Epoch 4/15 [Validation]: 100%|██████████| 1/1 [00:01<00:00,  1.14s/it, loss=0.9509]\n",
      "100%|██████████| 6/6 [04:03<00:00, 40.51s/it]\n"
     ]
    },
    {
     "name": "stdout",
     "output_type": "stream",
     "text": [
      "train-epoch-loss:0.9530 valid-beta4-score:0.1418\n"
     ]
    },
    {
     "name": "stderr",
     "output_type": "stream",
     "text": [
      "Epoch 5/15 [Training]: 100%|██████████| 376/376 [03:45<00:00,  1.67it/s, loss=0.9516]\n",
      "Epoch 5/15 [Validation]: 100%|██████████| 1/1 [00:01<00:00,  1.11s/it, loss=0.9589]\n",
      "100%|██████████| 6/6 [04:05<00:00, 40.98s/it]\n"
     ]
    },
    {
     "name": "stdout",
     "output_type": "stream",
     "text": [
      "train-epoch-loss:0.9516 valid-beta4-score:0.1434\n"
     ]
    },
    {
     "name": "stderr",
     "output_type": "stream",
     "text": [
      "Epoch 6/15 [Training]: 100%|██████████| 376/376 [03:48<00:00,  1.65it/s, loss=0.9506]\n",
      "Epoch 6/15 [Validation]: 100%|██████████| 1/1 [00:01<00:00,  1.12s/it, loss=0.9521]\n",
      "100%|██████████| 6/6 [04:00<00:00, 40.09s/it]\n"
     ]
    },
    {
     "name": "stdout",
     "output_type": "stream",
     "text": [
      "train-epoch-loss:0.9506 valid-beta4-score:0.1688\n"
     ]
    },
    {
     "name": "stderr",
     "output_type": "stream",
     "text": [
      "Epoch 7/15 [Training]: 100%|██████████| 376/376 [03:41<00:00,  1.69it/s, loss=0.9498]\n",
      "Epoch 7/15 [Validation]: 100%|██████████| 1/1 [00:01<00:00,  1.24s/it, loss=0.9573]\n",
      "100%|██████████| 6/6 [03:59<00:00, 39.94s/it]\n"
     ]
    },
    {
     "name": "stdout",
     "output_type": "stream",
     "text": [
      "train-epoch-loss:0.9498 valid-beta4-score:0.1778\n"
     ]
    },
    {
     "name": "stderr",
     "output_type": "stream",
     "text": [
      "Epoch 8/15 [Training]: 100%|██████████| 376/376 [03:41<00:00,  1.70it/s, loss=0.9493]\n",
      "Epoch 8/15 [Validation]: 100%|██████████| 1/1 [00:01<00:00,  1.14s/it, loss=0.9549]\n",
      "100%|██████████| 6/6 [03:54<00:00, 39.10s/it]\n"
     ]
    },
    {
     "name": "stdout",
     "output_type": "stream",
     "text": [
      "train-epoch-loss:0.9493 valid-beta4-score:0.1822\n"
     ]
    },
    {
     "name": "stderr",
     "output_type": "stream",
     "text": [
      "Epoch 9/15 [Training]: 100%|██████████| 376/376 [03:51<00:00,  1.63it/s, loss=0.9492]\n",
      "Epoch 9/15 [Validation]: 100%|██████████| 1/1 [00:01<00:00,  1.14s/it, loss=0.9577]\n",
      "100%|██████████| 6/6 [03:55<00:00, 39.27s/it]\n"
     ]
    },
    {
     "name": "stdout",
     "output_type": "stream",
     "text": [
      "train-epoch-loss:0.9492 valid-beta4-score:0.1993\n"
     ]
    },
    {
     "name": "stderr",
     "output_type": "stream",
     "text": [
      "Epoch 10/15 [Training]: 100%|██████████| 376/376 [03:55<00:00,  1.60it/s, loss=0.9486]\n",
      "Epoch 10/15 [Validation]: 100%|██████████| 1/1 [00:01<00:00,  1.13s/it, loss=0.9458]\n",
      "100%|██████████| 6/6 [04:00<00:00, 40.03s/it]\n"
     ]
    },
    {
     "name": "stdout",
     "output_type": "stream",
     "text": [
      "train-epoch-loss:0.9486 valid-beta4-score:0.2065\n"
     ]
    },
    {
     "name": "stderr",
     "output_type": "stream",
     "text": [
      "Epoch 11/15 [Training]: 100%|██████████| 376/376 [03:52<00:00,  1.62it/s, loss=0.9485]\n",
      "Epoch 11/15 [Validation]: 100%|██████████| 1/1 [00:01<00:00,  1.12s/it, loss=0.9508]\n",
      "100%|██████████| 6/6 [03:54<00:00, 39.12s/it]\n"
     ]
    },
    {
     "name": "stdout",
     "output_type": "stream",
     "text": [
      "train-epoch-loss:0.9485 valid-beta4-score:0.2186\n"
     ]
    },
    {
     "name": "stderr",
     "output_type": "stream",
     "text": [
      "Epoch 12/15 [Training]: 100%|██████████| 376/376 [03:41<00:00,  1.70it/s, loss=0.9484]\n",
      "Epoch 12/15 [Validation]: 100%|██████████| 1/1 [00:01<00:00,  1.12s/it, loss=0.9460]\n",
      "100%|██████████| 6/6 [03:55<00:00, 39.19s/it]\n"
     ]
    },
    {
     "name": "stdout",
     "output_type": "stream",
     "text": [
      "train-epoch-loss:0.9484 valid-beta4-score:0.2031\n"
     ]
    },
    {
     "name": "stderr",
     "output_type": "stream",
     "text": [
      "Epoch 13/15 [Training]: 100%|██████████| 376/376 [03:42<00:00,  1.69it/s, loss=0.9484]\n",
      "Epoch 13/15 [Validation]: 100%|██████████| 1/1 [00:01<00:00,  1.10s/it, loss=0.9565]\n",
      "100%|██████████| 6/6 [03:52<00:00, 38.71s/it]\n"
     ]
    },
    {
     "name": "stdout",
     "output_type": "stream",
     "text": [
      "train-epoch-loss:0.9484 valid-beta4-score:0.2109\n"
     ]
    },
    {
     "name": "stderr",
     "output_type": "stream",
     "text": [
      "Epoch 14/15 [Training]: 100%|██████████| 376/376 [03:40<00:00,  1.71it/s, loss=0.9483]\n",
      "Epoch 14/15 [Validation]: 100%|██████████| 1/1 [00:01<00:00,  1.11s/it, loss=0.9570]\n",
      "100%|██████████| 6/6 [03:50<00:00, 38.41s/it]\n"
     ]
    },
    {
     "name": "stdout",
     "output_type": "stream",
     "text": [
      "train-epoch-loss:0.9483 valid-beta4-score:0.1907\n"
     ]
    },
    {
     "name": "stderr",
     "output_type": "stream",
     "text": [
      "Epoch 15/15 [Training]: 100%|██████████| 376/376 [03:53<00:00,  1.61it/s, loss=0.9482]\n",
      "Epoch 15/15 [Validation]: 100%|██████████| 1/1 [00:01<00:00,  1.14s/it, loss=0.9571]\n",
      "100%|██████████| 6/6 [03:52<00:00, 38.82s/it]\n"
     ]
    },
    {
     "name": "stdout",
     "output_type": "stream",
     "text": [
      "train-epoch-loss:0.9482 valid-beta4-score:0.2006\n"
     ]
    },
    {
     "data": {
      "text/html": [
       "Finishing last run (ID:cns96vx3) before initializing another..."
      ],
      "text/plain": [
       "<IPython.core.display.HTML object>"
      ]
     },
     "metadata": {},
     "output_type": "display_data"
    },
    {
     "name": "stderr",
     "output_type": "stream",
     "text": [
      "wandb: WARNING Source type is set to 'repo' but some required information is missing from the environment. A job will not be created from this run. See https://docs.wandb.ai/guides/launch/create-job\n"
     ]
    },
    {
     "data": {
      "application/vnd.jupyter.widget-view+json": {
       "model_id": "01c88e19105c4d5fb44786433d50607d",
       "version_major": 2,
       "version_minor": 0
      },
      "text/plain": [
       "VBox(children=(Label(value='0.004 MB of 0.004 MB uploaded\\r'), FloatProgress(value=1.0, max=1.0)))"
      ]
     },
     "metadata": {},
     "output_type": "display_data"
    },
    {
     "data": {
      "text/html": [
       "<style>\n",
       "    table.wandb td:nth-child(1) { padding: 0 10px; text-align: left ; width: auto;} td:nth-child(2) {text-align: left ; width: 100%}\n",
       "    .wandb-row { display: flex; flex-direction: row; flex-wrap: wrap; justify-content: flex-start; width: 100% }\n",
       "    .wandb-col { display: flex; flex-direction: column; flex-basis: 100%; flex: 1; padding: 10px; }\n",
       "    </style>\n",
       "<div class=\"wandb-row\"><div class=\"wandb-col\"><h3>Run history:</h3><br/><table class=\"wandb\"><tr><td>01_epoch</td><td>▁▁▂▃▃▃▄▅▅▅▆▇▇▇█</td></tr><tr><td>02_train_loss</td><td>█▆▄▃▃▂▂▂▁▁▁▁▁▁▁</td></tr><tr><td>03_valid_loss</td><td>█▇▄▃▆▄▆▅▆▁▃▁▅▅▆</td></tr><tr><td>04_valid_best_score</td><td>▁▃▄▄▄▅▆▆▇▇█▇█▇▇</td></tr><tr><td>apo-ferritin</td><td>▁▁▃▆▆▆▆▆▆▆▄▆▆█▆</td></tr><tr><td>apoo_ferritin_f4</td><td>▂▃▄▁▃▇█▂▅▇▄▆▆▆▇</td></tr><tr><td>apoo_ferritin_p</td><td>▁▃▃▁▃▆▇▂▅▆▃▅█▆▆</td></tr><tr><td>apoo_ferritin_r</td><td>█▅▄▂▂▆▆▁▃██▇▂▂▅</td></tr><tr><td>beta-amylase</td><td>█▁▁▁▁▁▁▁▁▁▁▁▁▁▁</td></tr><tr><td>beta-galactosidase</td><td>█▅▃▃▂▂▂▂▂▁▂▁▁▁▁</td></tr><tr><td>beta_amylase_f4</td><td>█▁▁▁▁▁▁▁▁▁▁▁▁▁▁</td></tr><tr><td>beta_amylase_p</td><td>█▁▁▁▁▁▁▁▁▁▁▁▁▁▁</td></tr><tr><td>beta_amylase_r</td><td>█▁▁▁▁▁▁▁▁▁▁▁▁▁▁</td></tr><tr><td>beta_galactosidase_f4</td><td>▁▁▁▂▂▄▄▃▇▆▅█▄▇▇</td></tr><tr><td>beta_galactosidase_p</td><td>▁▁▁▂▂▄▄▃▇▆▅█▄▇▇</td></tr><tr><td>beta_galactosidase_r</td><td>▂▅▅▁▇▅▅▁▅▄▂▅█▄▅</td></tr><tr><td>ribosome</td><td>▅▆▂▅▁▆▅▅█▅▂▅▆█▆</td></tr><tr><td>ribosome_f4</td><td>▁▄▇█▇██████████</td></tr><tr><td>ribosome_p</td><td>▁▂▅▅▇▅▆▅▅▆█▆▆▅▅</td></tr><tr><td>ribosome_r</td><td>▁▄▃▇▂▇▇▆█▆▄▇▅██</td></tr><tr><td>thyroglobulin</td><td>█▆▃▂▂▂▁▁▁▁▁▁▁▂▁</td></tr><tr><td>thyroglobulin_f4</td><td>▁▂▃▃▃▇█▆▆▃▄▄▅▆█</td></tr><tr><td>thyroglobulin_p</td><td>▁▂▂▃▄█▇▆▆▃▆▄▆▇▇</td></tr><tr><td>thyroglobulin_r</td><td>▂▆▆▅▁▃█▇▆▅▁▅▂▃▇</td></tr><tr><td>virus-like-particle</td><td>█▇▄▄▁▅▂▂█▇▃▇▅█▇</td></tr><tr><td>virus_like_particle_f4</td><td>▁▁▁▁▂▃▃▅▆▇█▆▇▅▅</td></tr><tr><td>virus_like_particle_p</td><td>▁▁▁▁▁▂▂▃█▆▇▅▆▃▄</td></tr><tr><td>virus_like_particle_r</td><td>▇▂▅▁▆▃██▅▇█▇█▆▆</td></tr></table><br/></div><div class=\"wandb-col\"><h3>Run summary:</h3><br/><table class=\"wandb\"><tr><td>01_epoch</td><td>14</td></tr><tr><td>02_train_loss</td><td>0.94822</td></tr><tr><td>03_valid_loss</td><td>0.95715</td></tr><tr><td>04_valid_best_score</td><td>0.20057</td></tr><tr><td>apo-ferritin</td><td>0.25</td></tr><tr><td>apoo_ferritin_f4</td><td>0.03087</td></tr><tr><td>apoo_ferritin_p</td><td>0.00214</td></tr><tr><td>apoo_ferritin_r</td><td>0.18966</td></tr><tr><td>beta-amylase</td><td>0.05</td></tr><tr><td>beta-galactosidase</td><td>0.1</td></tr><tr><td>beta_amylase_f4</td><td>0.0</td></tr><tr><td>beta_amylase_p</td><td>0.0</td></tr><tr><td>beta_amylase_r</td><td>0.0</td></tr><tr><td>beta_galactosidase_f4</td><td>0.0212</td></tr><tr><td>beta_galactosidase_p</td><td>0.00129</td></tr><tr><td>beta_galactosidase_r</td><td>0.66667</td></tr><tr><td>ribosome</td><td>0.65</td></tr><tr><td>ribosome_f4</td><td>0.80674</td></tr><tr><td>ribosome_p</td><td>0.25556</td></tr><tr><td>ribosome_r</td><td>0.93243</td></tr><tr><td>thyroglobulin</td><td>0.25</td></tr><tr><td>thyroglobulin_f4</td><td>0.09725</td></tr><tr><td>thyroglobulin_p</td><td>0.00663</td></tr><tr><td>thyroglobulin_r</td><td>0.66667</td></tr><tr><td>virus-like-particle</td><td>0.7</td></tr><tr><td>virus_like_particle_f4</td><td>0.32946</td></tr><tr><td>virus_like_particle_p</td><td>0.05102</td></tr><tr><td>virus_like_particle_r</td><td>0.5</td></tr></table><br/></div></div>"
      ],
      "text/plain": [
       "<IPython.core.display.HTML object>"
      ]
     },
     "metadata": {},
     "output_type": "display_data"
    },
    {
     "data": {
      "text/html": [
       " View run <strong style=\"color:#cdcd00\">exp074-recreate-baseline-renet34d-dstride_TS_6_4</strong> at: <a href='https://wandb.ai/latent-walkers/czii2024/runs/cns96vx3' target=\"_blank\">https://wandb.ai/latent-walkers/czii2024/runs/cns96vx3</a><br/>Synced 5 W&B file(s), 0 media file(s), 0 artifact file(s) and 0 other file(s)"
      ],
      "text/plain": [
       "<IPython.core.display.HTML object>"
      ]
     },
     "metadata": {},
     "output_type": "display_data"
    },
    {
     "data": {
      "text/html": [
       "Find logs at: <code>./wandb/run-20250131_064531-cns96vx3/logs</code>"
      ],
      "text/plain": [
       "<IPython.core.display.HTML object>"
      ]
     },
     "metadata": {},
     "output_type": "display_data"
    },
    {
     "data": {
      "text/html": [
       "Successfully finished last run (ID:cns96vx3). Initializing new run:<br/>"
      ],
      "text/plain": [
       "<IPython.core.display.HTML object>"
      ]
     },
     "metadata": {},
     "output_type": "display_data"
    },
    {
     "data": {
      "application/vnd.jupyter.widget-view+json": {
       "model_id": "5b9ab3da7d9546388bc92442ae286c3e",
       "version_major": 2,
       "version_minor": 0
      },
      "text/plain": [
       "VBox(children=(Label(value='Waiting for wandb.init()...\\r'), FloatProgress(value=0.011114121255620073, max=1.0…"
      ]
     },
     "metadata": {},
     "output_type": "display_data"
    },
    {
     "data": {
      "text/html": [
       "wandb version 0.19.5 is available!  To upgrade, please run:\n",
       " $ pip install wandb --upgrade"
      ],
      "text/plain": [
       "<IPython.core.display.HTML object>"
      ]
     },
     "metadata": {},
     "output_type": "display_data"
    },
    {
     "data": {
      "text/html": [
       "Tracking run with wandb version 0.16.1"
      ],
      "text/plain": [
       "<IPython.core.display.HTML object>"
      ]
     },
     "metadata": {},
     "output_type": "display_data"
    },
    {
     "data": {
      "text/html": [
       "Run data is saved locally in <code>/home/tatsuya/code/projects/kaggle/CryoET/experiments/exp074-recreate-baseline-renet34d-dstride/wandb/run-20250131_085809-61z32fmq</code>"
      ],
      "text/plain": [
       "<IPython.core.display.HTML object>"
      ]
     },
     "metadata": {},
     "output_type": "display_data"
    },
    {
     "data": {
      "text/html": [
       "Syncing run <strong><a href='https://wandb.ai/latent-walkers/czii2024/runs/61z32fmq' target=\"_blank\">exp074-recreate-baseline-renet34d-dstride_TS_69_2</a></strong> to <a href='https://wandb.ai/latent-walkers/czii2024' target=\"_blank\">Weights & Biases</a> (<a href='https://wandb.me/run' target=\"_blank\">docs</a>)<br/>"
      ],
      "text/plain": [
       "<IPython.core.display.HTML object>"
      ]
     },
     "metadata": {},
     "output_type": "display_data"
    },
    {
     "data": {
      "text/html": [
       " View project at <a href='https://wandb.ai/latent-walkers/czii2024' target=\"_blank\">https://wandb.ai/latent-walkers/czii2024</a>"
      ],
      "text/plain": [
       "<IPython.core.display.HTML object>"
      ]
     },
     "metadata": {},
     "output_type": "display_data"
    },
    {
     "data": {
      "text/html": [
       " View run at <a href='https://wandb.ai/latent-walkers/czii2024/runs/61z32fmq' target=\"_blank\">https://wandb.ai/latent-walkers/czii2024/runs/61z32fmq</a>"
      ],
      "text/plain": [
       "<IPython.core.display.HTML object>"
      ]
     },
     "metadata": {},
     "output_type": "display_data"
    },
    {
     "name": "stderr",
     "output_type": "stream",
     "text": [
      "100%|██████████| 752/752 [03:28<00:00,  3.61it/s] \n",
      "100%|██████████| 1/1 [00:24<00:00, 24.72s/it]\n",
      "Epoch 1/15 [Training]: 100%|██████████| 376/376 [03:56<00:00,  1.59it/s, loss=0.9527]\n",
      "Epoch 1/15 [Validation]: 100%|██████████| 1/1 [00:01<00:00,  1.32s/it, loss=0.9546]\n",
      "100%|██████████| 6/6 [04:36<00:00, 46.09s/it]\n"
     ]
    },
    {
     "name": "stdout",
     "output_type": "stream",
     "text": [
      "train-epoch-loss:0.9527 valid-beta4-score:0.1309\n"
     ]
    },
    {
     "name": "stderr",
     "output_type": "stream",
     "text": [
      "Epoch 2/15 [Training]: 100%|██████████| 376/376 [03:40<00:00,  1.70it/s, loss=0.9492]\n",
      "Epoch 2/15 [Validation]: 100%|██████████| 1/1 [00:01<00:00,  1.27s/it, loss=0.9462]\n",
      "100%|██████████| 6/6 [04:37<00:00, 46.22s/it]\n"
     ]
    },
    {
     "name": "stdout",
     "output_type": "stream",
     "text": [
      "train-epoch-loss:0.9492 valid-beta4-score:0.1351\n"
     ]
    },
    {
     "name": "stderr",
     "output_type": "stream",
     "text": [
      "Epoch 3/15 [Training]: 100%|██████████| 376/376 [03:38<00:00,  1.72it/s, loss=0.9436]\n",
      "Epoch 3/15 [Validation]: 100%|██████████| 1/1 [00:01<00:00,  1.25s/it, loss=0.9425]\n",
      "100%|██████████| 6/6 [07:26<00:00, 74.34s/it]\n"
     ]
    },
    {
     "name": "stdout",
     "output_type": "stream",
     "text": [
      "train-epoch-loss:0.9436 valid-beta4-score:0.1194\n"
     ]
    },
    {
     "name": "stderr",
     "output_type": "stream",
     "text": [
      "Epoch 4/15 [Training]: 100%|██████████| 376/376 [03:39<00:00,  1.72it/s, loss=0.9385]\n",
      "Epoch 4/15 [Validation]: 100%|██████████| 1/1 [00:01<00:00,  1.26s/it, loss=0.9440]\n",
      "100%|██████████| 6/6 [04:55<00:00, 49.18s/it]\n"
     ]
    },
    {
     "name": "stdout",
     "output_type": "stream",
     "text": [
      "train-epoch-loss:0.9385 valid-beta4-score:0.1310\n"
     ]
    },
    {
     "name": "stderr",
     "output_type": "stream",
     "text": [
      "Epoch 5/15 [Training]: 100%|██████████| 376/376 [03:45<00:00,  1.67it/s, loss=0.9345]\n",
      "Epoch 5/15 [Validation]: 100%|██████████| 1/1 [00:01<00:00,  1.27s/it, loss=0.9299]\n",
      "100%|██████████| 6/6 [04:20<00:00, 43.40s/it]\n"
     ]
    },
    {
     "name": "stdout",
     "output_type": "stream",
     "text": [
      "train-epoch-loss:0.9345 valid-beta4-score:0.1483\n"
     ]
    },
    {
     "name": "stderr",
     "output_type": "stream",
     "text": [
      "Epoch 6/15 [Training]: 100%|██████████| 376/376 [03:37<00:00,  1.73it/s, loss=0.9319]\n",
      "Epoch 6/15 [Validation]: 100%|██████████| 1/1 [00:01<00:00,  1.48s/it, loss=0.9397]\n",
      "100%|██████████| 6/6 [04:02<00:00, 40.48s/it]\n"
     ]
    },
    {
     "name": "stdout",
     "output_type": "stream",
     "text": [
      "train-epoch-loss:0.9319 valid-beta4-score:0.1437\n"
     ]
    },
    {
     "name": "stderr",
     "output_type": "stream",
     "text": [
      "Epoch 7/15 [Training]: 100%|██████████| 376/376 [03:45<00:00,  1.67it/s, loss=0.9313]\n",
      "Epoch 7/15 [Validation]: 100%|██████████| 1/1 [00:01<00:00,  1.28s/it, loss=0.9385]\n",
      "100%|██████████| 6/6 [05:19<00:00, 53.27s/it]\n"
     ]
    },
    {
     "name": "stdout",
     "output_type": "stream",
     "text": [
      "train-epoch-loss:0.9313 valid-beta4-score:0.1679\n"
     ]
    },
    {
     "name": "stderr",
     "output_type": "stream",
     "text": [
      "Epoch 8/15 [Training]: 100%|██████████| 376/376 [03:42<00:00,  1.69it/s, loss=0.9297]\n",
      "Epoch 8/15 [Validation]: 100%|██████████| 1/1 [00:01<00:00,  1.28s/it, loss=0.9252]\n",
      "100%|██████████| 6/6 [04:37<00:00, 46.19s/it]\n"
     ]
    },
    {
     "name": "stdout",
     "output_type": "stream",
     "text": [
      "train-epoch-loss:0.9297 valid-beta4-score:0.1327\n"
     ]
    },
    {
     "name": "stderr",
     "output_type": "stream",
     "text": [
      "Epoch 9/15 [Training]: 100%|██████████| 376/376 [03:33<00:00,  1.76it/s, loss=0.9289]\n",
      "Epoch 9/15 [Validation]: 100%|██████████| 1/1 [00:01<00:00,  1.27s/it, loss=0.9369]\n",
      "100%|██████████| 6/6 [08:27<00:00, 84.65s/it]\n"
     ]
    },
    {
     "name": "stdout",
     "output_type": "stream",
     "text": [
      "train-epoch-loss:0.9289 valid-beta4-score:0.1517\n"
     ]
    },
    {
     "name": "stderr",
     "output_type": "stream",
     "text": [
      "Epoch 10/15 [Training]: 100%|██████████| 376/376 [03:41<00:00,  1.70it/s, loss=0.9290]\n",
      "Epoch 10/15 [Validation]: 100%|██████████| 1/1 [00:01<00:00,  1.26s/it, loss=0.9369]\n",
      "100%|██████████| 6/6 [05:08<00:00, 51.47s/it]\n"
     ]
    },
    {
     "name": "stdout",
     "output_type": "stream",
     "text": [
      "train-epoch-loss:0.9290 valid-beta4-score:0.1479\n"
     ]
    },
    {
     "name": "stderr",
     "output_type": "stream",
     "text": [
      "Epoch 11/15 [Training]: 100%|██████████| 376/376 [03:43<00:00,  1.68it/s, loss=0.9285]\n",
      "Epoch 11/15 [Validation]: 100%|██████████| 1/1 [00:01<00:00,  1.28s/it, loss=0.9279]\n",
      "100%|██████████| 6/6 [07:18<00:00, 73.08s/it]\n"
     ]
    },
    {
     "name": "stdout",
     "output_type": "stream",
     "text": [
      "train-epoch-loss:0.9285 valid-beta4-score:0.1513\n"
     ]
    },
    {
     "name": "stderr",
     "output_type": "stream",
     "text": [
      "Epoch 12/15 [Training]: 100%|██████████| 376/376 [03:43<00:00,  1.68it/s, loss=0.9284]\n",
      "Epoch 12/15 [Validation]: 100%|██████████| 1/1 [00:01<00:00,  1.28s/it, loss=0.9247]\n",
      "100%|██████████| 6/6 [04:48<00:00, 48.02s/it]\n"
     ]
    },
    {
     "name": "stdout",
     "output_type": "stream",
     "text": [
      "train-epoch-loss:0.9284 valid-beta4-score:0.1396\n"
     ]
    },
    {
     "name": "stderr",
     "output_type": "stream",
     "text": [
      "Epoch 13/15 [Training]: 100%|██████████| 376/376 [03:44<00:00,  1.68it/s, loss=0.9284]\n",
      "Epoch 13/15 [Validation]: 100%|██████████| 1/1 [00:01<00:00,  1.26s/it, loss=0.9347]\n",
      "100%|██████████| 6/6 [08:15<00:00, 82.61s/it]\n"
     ]
    },
    {
     "name": "stdout",
     "output_type": "stream",
     "text": [
      "train-epoch-loss:0.9284 valid-beta4-score:0.1604\n"
     ]
    },
    {
     "name": "stderr",
     "output_type": "stream",
     "text": [
      "Epoch 14/15 [Training]: 100%|██████████| 376/376 [03:50<00:00,  1.63it/s, loss=0.9284]\n",
      "Epoch 14/15 [Validation]: 100%|██████████| 1/1 [00:01<00:00,  1.27s/it, loss=0.9363]\n",
      "100%|██████████| 6/6 [06:36<00:00, 66.04s/it]\n"
     ]
    },
    {
     "name": "stdout",
     "output_type": "stream",
     "text": [
      "train-epoch-loss:0.9284 valid-beta4-score:0.1575\n"
     ]
    },
    {
     "name": "stderr",
     "output_type": "stream",
     "text": [
      "Epoch 15/15 [Training]: 100%|██████████| 376/376 [03:56<00:00,  1.59it/s, loss=0.9281]\n",
      "Epoch 15/15 [Validation]: 100%|██████████| 1/1 [00:01<00:00,  1.28s/it, loss=0.9287]\n",
      "100%|██████████| 6/6 [08:06<00:00, 81.15s/it]\n"
     ]
    },
    {
     "name": "stdout",
     "output_type": "stream",
     "text": [
      "train-epoch-loss:0.9281 valid-beta4-score:0.1260\n"
     ]
    },
    {
     "data": {
      "text/html": [
       "Finishing last run (ID:61z32fmq) before initializing another..."
      ],
      "text/plain": [
       "<IPython.core.display.HTML object>"
      ]
     },
     "metadata": {},
     "output_type": "display_data"
    },
    {
     "name": "stderr",
     "output_type": "stream",
     "text": [
      "wandb: WARNING Source type is set to 'repo' but some required information is missing from the environment. A job will not be created from this run. See https://docs.wandb.ai/guides/launch/create-job\n"
     ]
    },
    {
     "data": {
      "application/vnd.jupyter.widget-view+json": {
       "model_id": "5517e556b1834be2a7122eb9d01d0dc0",
       "version_major": 2,
       "version_minor": 0
      },
      "text/plain": [
       "VBox(children=(Label(value='0.004 MB of 0.004 MB uploaded\\r'), FloatProgress(value=1.0, max=1.0)))"
      ]
     },
     "metadata": {},
     "output_type": "display_data"
    },
    {
     "data": {
      "text/html": [
       "<style>\n",
       "    table.wandb td:nth-child(1) { padding: 0 10px; text-align: left ; width: auto;} td:nth-child(2) {text-align: left ; width: 100%}\n",
       "    .wandb-row { display: flex; flex-direction: row; flex-wrap: wrap; justify-content: flex-start; width: 100% }\n",
       "    .wandb-col { display: flex; flex-direction: column; flex-basis: 100%; flex: 1; padding: 10px; }\n",
       "    </style>\n",
       "<div class=\"wandb-row\"><div class=\"wandb-col\"><h3>Run history:</h3><br/><table class=\"wandb\"><tr><td>01_epoch</td><td>▁▁▂▃▃▃▄▅▅▅▆▇▇▇█</td></tr><tr><td>02_train_loss</td><td>█▇▅▄▃▂▂▁▁▁▁▁▁▁▁</td></tr><tr><td>03_valid_loss</td><td>█▆▅▆▂▅▄▁▄▄▂▁▃▄▂</td></tr><tr><td>04_valid_best_score</td><td>▃▃▁▃▅▅█▃▆▅▆▄▇▆▂</td></tr><tr><td>apo-ferritin</td><td>█▁▂▂▂▂▂▂▂▂▂▂▂▂▂</td></tr><tr><td>apoo_ferritin_f4</td><td>█▅▁▂▁▂▁▁▁▁▁▂▁▁▁</td></tr><tr><td>apoo_ferritin_p</td><td>█▁▁▁▁▁▁▁▁▁▁▁▁▁▁</td></tr><tr><td>apoo_ferritin_r</td><td>▁▂▆▇▃▂▄▃▆▅▇▆▃▆█</td></tr><tr><td>beta-amylase</td><td>▁▁▁▁▁▁▁▁▁▁▁▁▁▁▁</td></tr><tr><td>beta-galactosidase</td><td>▁▄███▁▁▁▁▁▁▁▁▁▁</td></tr><tr><td>beta_amylase_f4</td><td>▁▁▁▁▁▁▁▁▁▁▁▁▁▁▁</td></tr><tr><td>beta_amylase_p</td><td>▁▁▁▁▁▁▁▁▁▁▁▁▁▁▁</td></tr><tr><td>beta_amylase_r</td><td>▁▁▁▁▁▁▁▁▁▁▁▁▁▁▁</td></tr><tr><td>beta_galactosidase_f4</td><td>▇▅▄▅█▁▁▁▁▁▁▁▁▁▁</td></tr><tr><td>beta_galactosidase_p</td><td>▅▄▃▅█▁▁▁▁▁▁▁▁▁▁</td></tr><tr><td>beta_galactosidase_r</td><td>▆█▅▃▃▁▁▁▁▁▁▁▁▁▁</td></tr><tr><td>ribosome</td><td>▅█▆▆▅▃▄▂▂▂▁▁▂▄▁</td></tr><tr><td>ribosome_f4</td><td>▁▃▂▄▅▆▇▆▇█▇███▇</td></tr><tr><td>ribosome_p</td><td>▁▁▁▃▄▄▅▄▆▇▇█▇█▇</td></tr><tr><td>ribosome_r</td><td>▁▅▆▅▆▇▇▆▇█▇▇▇▇▆</td></tr><tr><td>thyroglobulin</td><td>█▅▂▂▁▁▁▁▁▁▁▁▁▁▁</td></tr><tr><td>thyroglobulin_f4</td><td>█▇▄▃▃▆▆▄▇▄▇▃█▅▁</td></tr><tr><td>thyroglobulin_p</td><td>█▆▄▃▂▅▅▃▆▃▆▃▇▄▁</td></tr><tr><td>thyroglobulin_r</td><td>▃▆▂▃█▆█▇▆▅▅▂▆▇▁</td></tr><tr><td>virus-like-particle</td><td>▁▁▄▄▄█▄██████▄█</td></tr><tr><td>virus_like_particle_f4</td><td>▃▃▄▃▅▁█▁▁▁▁▁▁▅▁</td></tr><tr><td>virus_like_particle_p</td><td>▃▂▂▂▃▁█▁▁▁▁▁▁▅▁</td></tr><tr><td>virus_like_particle_r</td><td>▁▃▅▂▂▇▂▇█▇▇█▅▁█</td></tr></table><br/></div><div class=\"wandb-col\"><h3>Run summary:</h3><br/><table class=\"wandb\"><tr><td>01_epoch</td><td>14</td></tr><tr><td>02_train_loss</td><td>0.92812</td></tr><tr><td>03_valid_loss</td><td>0.92871</td></tr><tr><td>04_valid_best_score</td><td>0.126</td></tr><tr><td>apo-ferritin</td><td>0.15</td></tr><tr><td>apoo_ferritin_f4</td><td>0.001</td></tr><tr><td>apoo_ferritin_p</td><td>6e-05</td></tr><tr><td>apoo_ferritin_r</td><td>0.65714</td></tr><tr><td>beta-amylase</td><td>0.05</td></tr><tr><td>beta-galactosidase</td><td>0.05</td></tr><tr><td>beta_amylase_f4</td><td>0.0</td></tr><tr><td>beta_amylase_p</td><td>0.0</td></tr><tr><td>beta_amylase_r</td><td>0.0</td></tr><tr><td>beta_galactosidase_f4</td><td>0.0</td></tr><tr><td>beta_galactosidase_p</td><td>0.0</td></tr><tr><td>beta_galactosidase_r</td><td>0.0</td></tr><tr><td>ribosome</td><td>0.25</td></tr><tr><td>ribosome_f4</td><td>0.77714</td></tr><tr><td>ribosome_p</td><td>0.2963</td></tr><tr><td>ribosome_r</td><td>0.86486</td></tr><tr><td>thyroglobulin</td><td>0.15</td></tr><tr><td>thyroglobulin_f4</td><td>0.05147</td></tr><tr><td>thyroglobulin_p</td><td>0.00396</td></tr><tr><td>thyroglobulin_r</td><td>0.20588</td></tr><tr><td>virus-like-particle</td><td>0.15</td></tr><tr><td>virus_like_particle_f4</td><td>0.00095</td></tr><tr><td>virus_like_particle_p</td><td>6e-05</td></tr><tr><td>virus_like_particle_r</td><td>1.0</td></tr></table><br/></div></div>"
      ],
      "text/plain": [
       "<IPython.core.display.HTML object>"
      ]
     },
     "metadata": {},
     "output_type": "display_data"
    },
    {
     "data": {
      "text/html": [
       " View run <strong style=\"color:#cdcd00\">exp074-recreate-baseline-renet34d-dstride_TS_69_2</strong> at: <a href='https://wandb.ai/latent-walkers/czii2024/runs/61z32fmq' target=\"_blank\">https://wandb.ai/latent-walkers/czii2024/runs/61z32fmq</a><br/>Synced 5 W&B file(s), 0 media file(s), 0 artifact file(s) and 0 other file(s)"
      ],
      "text/plain": [
       "<IPython.core.display.HTML object>"
      ]
     },
     "metadata": {},
     "output_type": "display_data"
    },
    {
     "data": {
      "text/html": [
       "Find logs at: <code>./wandb/run-20250131_085809-61z32fmq/logs</code>"
      ],
      "text/plain": [
       "<IPython.core.display.HTML object>"
      ]
     },
     "metadata": {},
     "output_type": "display_data"
    },
    {
     "data": {
      "text/html": [
       "Successfully finished last run (ID:61z32fmq). Initializing new run:<br/>"
      ],
      "text/plain": [
       "<IPython.core.display.HTML object>"
      ]
     },
     "metadata": {},
     "output_type": "display_data"
    },
    {
     "data": {
      "application/vnd.jupyter.widget-view+json": {
       "model_id": "4563ebdca2424eb7a9b3d7ed446b969d",
       "version_major": 2,
       "version_minor": 0
      },
      "text/plain": [
       "VBox(children=(Label(value='Waiting for wandb.init()...\\r'), FloatProgress(value=0.011115369033197769, max=1.0…"
      ]
     },
     "metadata": {},
     "output_type": "display_data"
    },
    {
     "data": {
      "text/html": [
       "wandb version 0.19.5 is available!  To upgrade, please run:\n",
       " $ pip install wandb --upgrade"
      ],
      "text/plain": [
       "<IPython.core.display.HTML object>"
      ]
     },
     "metadata": {},
     "output_type": "display_data"
    },
    {
     "data": {
      "text/html": [
       "Tracking run with wandb version 0.16.1"
      ],
      "text/plain": [
       "<IPython.core.display.HTML object>"
      ]
     },
     "metadata": {},
     "output_type": "display_data"
    },
    {
     "data": {
      "text/html": [
       "Run data is saved locally in <code>/home/tatsuya/code/projects/kaggle/CryoET/experiments/exp074-recreate-baseline-renet34d-dstride/wandb/run-20250131_113349-cl3nywhe</code>"
      ],
      "text/plain": [
       "<IPython.core.display.HTML object>"
      ]
     },
     "metadata": {},
     "output_type": "display_data"
    },
    {
     "data": {
      "text/html": [
       "Syncing run <strong><a href='https://wandb.ai/latent-walkers/czii2024/runs/cl3nywhe' target=\"_blank\">exp074-recreate-baseline-renet34d-dstride_TS_86_3</a></strong> to <a href='https://wandb.ai/latent-walkers/czii2024' target=\"_blank\">Weights & Biases</a> (<a href='https://wandb.me/run' target=\"_blank\">docs</a>)<br/>"
      ],
      "text/plain": [
       "<IPython.core.display.HTML object>"
      ]
     },
     "metadata": {},
     "output_type": "display_data"
    },
    {
     "data": {
      "text/html": [
       " View project at <a href='https://wandb.ai/latent-walkers/czii2024' target=\"_blank\">https://wandb.ai/latent-walkers/czii2024</a>"
      ],
      "text/plain": [
       "<IPython.core.display.HTML object>"
      ]
     },
     "metadata": {},
     "output_type": "display_data"
    },
    {
     "data": {
      "text/html": [
       " View run at <a href='https://wandb.ai/latent-walkers/czii2024/runs/cl3nywhe' target=\"_blank\">https://wandb.ai/latent-walkers/czii2024/runs/cl3nywhe</a>"
      ],
      "text/plain": [
       "<IPython.core.display.HTML object>"
      ]
     },
     "metadata": {},
     "output_type": "display_data"
    },
    {
     "name": "stderr",
     "output_type": "stream",
     "text": [
      "100%|██████████| 752/752 [04:28<00:00,  2.80it/s] \n",
      "100%|██████████| 1/1 [00:35<00:00, 35.56s/it]\n",
      "Epoch 1/15 [Training]: 100%|██████████| 376/376 [03:45<00:00,  1.67it/s, loss=0.9636]\n",
      "Epoch 1/15 [Validation]: 100%|██████████| 1/1 [00:01<00:00,  1.51s/it, loss=0.9641]\n",
      "100%|██████████| 6/6 [06:06<00:00, 61.09s/it]\n"
     ]
    },
    {
     "name": "stdout",
     "output_type": "stream",
     "text": [
      "train-epoch-loss:0.9636 valid-beta4-score:0.0739\n"
     ]
    },
    {
     "name": "stderr",
     "output_type": "stream",
     "text": [
      "Epoch 2/15 [Training]: 100%|██████████| 376/376 [03:48<00:00,  1.65it/s, loss=0.9588]\n",
      "Epoch 2/15 [Validation]: 100%|██████████| 1/1 [00:01<00:00,  1.46s/it, loss=0.9616]\n",
      "100%|██████████| 6/6 [04:31<00:00, 45.25s/it]\n"
     ]
    },
    {
     "name": "stdout",
     "output_type": "stream",
     "text": [
      "train-epoch-loss:0.9588 valid-beta4-score:0.0486\n"
     ]
    },
    {
     "name": "stderr",
     "output_type": "stream",
     "text": [
      "Epoch 3/15 [Training]: 100%|██████████| 376/376 [03:46<00:00,  1.66it/s, loss=0.9552]\n",
      "Epoch 3/15 [Validation]: 100%|██████████| 1/1 [00:01<00:00,  1.47s/it, loss=0.9529]\n",
      "100%|██████████| 6/6 [04:24<00:00, 44.00s/it]\n"
     ]
    },
    {
     "name": "stdout",
     "output_type": "stream",
     "text": [
      "train-epoch-loss:0.9552 valid-beta4-score:0.0880\n"
     ]
    },
    {
     "name": "stderr",
     "output_type": "stream",
     "text": [
      "Epoch 4/15 [Training]: 100%|██████████| 376/376 [03:23<00:00,  1.85it/s, loss=0.9530]\n",
      "Epoch 4/15 [Validation]: 100%|██████████| 1/1 [00:01<00:00,  1.42s/it, loss=0.9564]\n",
      "100%|██████████| 6/6 [04:11<00:00, 41.84s/it]\n"
     ]
    },
    {
     "name": "stdout",
     "output_type": "stream",
     "text": [
      "train-epoch-loss:0.9530 valid-beta4-score:0.1213\n"
     ]
    },
    {
     "name": "stderr",
     "output_type": "stream",
     "text": [
      "Epoch 5/15 [Training]: 100%|██████████| 376/376 [03:45<00:00,  1.67it/s, loss=0.9517]\n",
      "Epoch 5/15 [Validation]: 100%|██████████| 1/1 [00:01<00:00,  1.44s/it, loss=0.9514]\n",
      "100%|██████████| 6/6 [04:00<00:00, 40.03s/it]\n"
     ]
    },
    {
     "name": "stdout",
     "output_type": "stream",
     "text": [
      "train-epoch-loss:0.9517 valid-beta4-score:0.1295\n"
     ]
    },
    {
     "name": "stderr",
     "output_type": "stream",
     "text": [
      "Epoch 6/15 [Training]: 100%|██████████| 376/376 [03:46<00:00,  1.66it/s, loss=0.9508]\n",
      "Epoch 6/15 [Validation]: 100%|██████████| 1/1 [00:01<00:00,  1.44s/it, loss=0.9471]\n",
      "100%|██████████| 6/6 [03:57<00:00, 39.53s/it]\n"
     ]
    },
    {
     "name": "stdout",
     "output_type": "stream",
     "text": [
      "train-epoch-loss:0.9508 valid-beta4-score:0.1331\n"
     ]
    },
    {
     "name": "stderr",
     "output_type": "stream",
     "text": [
      "Epoch 7/15 [Training]: 100%|██████████| 376/376 [03:40<00:00,  1.70it/s, loss=0.9497]\n",
      "Epoch 7/15 [Validation]: 100%|██████████| 1/1 [00:01<00:00,  1.45s/it, loss=0.9550]\n",
      "100%|██████████| 6/6 [03:54<00:00, 39.17s/it]\n"
     ]
    },
    {
     "name": "stdout",
     "output_type": "stream",
     "text": [
      "train-epoch-loss:0.9497 valid-beta4-score:0.1437\n"
     ]
    },
    {
     "name": "stderr",
     "output_type": "stream",
     "text": [
      "Epoch 8/15 [Training]: 100%|██████████| 376/376 [03:34<00:00,  1.75it/s, loss=0.9491]\n",
      "Epoch 8/15 [Validation]: 100%|██████████| 1/1 [00:01<00:00,  1.57s/it, loss=0.9553]\n",
      "100%|██████████| 6/6 [04:05<00:00, 40.85s/it]\n"
     ]
    },
    {
     "name": "stdout",
     "output_type": "stream",
     "text": [
      "train-epoch-loss:0.9491 valid-beta4-score:0.1469\n"
     ]
    },
    {
     "name": "stderr",
     "output_type": "stream",
     "text": [
      "Epoch 9/15 [Training]: 100%|██████████| 376/376 [03:43<00:00,  1.68it/s, loss=0.9482]\n",
      "Epoch 9/15 [Validation]: 100%|██████████| 1/1 [00:01<00:00,  1.45s/it, loss=0.9551]\n",
      "100%|██████████| 6/6 [04:04<00:00, 40.72s/it]\n"
     ]
    },
    {
     "name": "stdout",
     "output_type": "stream",
     "text": [
      "train-epoch-loss:0.9482 valid-beta4-score:0.1581\n"
     ]
    },
    {
     "name": "stderr",
     "output_type": "stream",
     "text": [
      "Epoch 10/15 [Training]: 100%|██████████| 376/376 [03:47<00:00,  1.65it/s, loss=0.9480]\n",
      "Epoch 10/15 [Validation]: 100%|██████████| 1/1 [00:01<00:00,  1.44s/it, loss=0.9551]\n",
      "100%|██████████| 6/6 [04:00<00:00, 40.10s/it]\n"
     ]
    },
    {
     "name": "stdout",
     "output_type": "stream",
     "text": [
      "train-epoch-loss:0.9480 valid-beta4-score:0.1524\n"
     ]
    },
    {
     "name": "stderr",
     "output_type": "stream",
     "text": [
      "Epoch 11/15 [Training]: 100%|██████████| 376/376 [03:40<00:00,  1.71it/s, loss=0.9481]\n",
      "Epoch 11/15 [Validation]: 100%|██████████| 1/1 [00:01<00:00,  1.46s/it, loss=0.9463]\n",
      "100%|██████████| 6/6 [03:52<00:00, 38.73s/it]\n"
     ]
    },
    {
     "name": "stdout",
     "output_type": "stream",
     "text": [
      "train-epoch-loss:0.9481 valid-beta4-score:0.1526\n"
     ]
    },
    {
     "name": "stderr",
     "output_type": "stream",
     "text": [
      "Epoch 12/15 [Training]: 100%|██████████| 376/376 [03:39<00:00,  1.71it/s, loss=0.9478]\n",
      "Epoch 12/15 [Validation]: 100%|██████████| 1/1 [00:01<00:00,  1.42s/it, loss=0.9549]\n",
      "100%|██████████| 6/6 [03:59<00:00, 39.91s/it]\n"
     ]
    },
    {
     "name": "stdout",
     "output_type": "stream",
     "text": [
      "train-epoch-loss:0.9478 valid-beta4-score:0.1572\n"
     ]
    },
    {
     "name": "stderr",
     "output_type": "stream",
     "text": [
      "Epoch 13/15 [Training]: 100%|██████████| 376/376 [03:48<00:00,  1.64it/s, loss=0.9474]\n",
      "Epoch 13/15 [Validation]: 100%|██████████| 1/1 [00:01<00:00,  1.43s/it, loss=0.9521]\n",
      "100%|██████████| 6/6 [03:52<00:00, 38.82s/it]\n"
     ]
    },
    {
     "name": "stdout",
     "output_type": "stream",
     "text": [
      "train-epoch-loss:0.9474 valid-beta4-score:0.1643\n"
     ]
    },
    {
     "name": "stderr",
     "output_type": "stream",
     "text": [
      "Epoch 14/15 [Training]: 100%|██████████| 376/376 [03:52<00:00,  1.62it/s, loss=0.9474]\n",
      "Epoch 14/15 [Validation]: 100%|██████████| 1/1 [00:01<00:00,  1.41s/it, loss=0.9525]\n",
      "100%|██████████| 6/6 [04:05<00:00, 40.99s/it]\n"
     ]
    },
    {
     "name": "stdout",
     "output_type": "stream",
     "text": [
      "train-epoch-loss:0.9474 valid-beta4-score:0.1541\n"
     ]
    },
    {
     "name": "stderr",
     "output_type": "stream",
     "text": [
      "Epoch 15/15 [Training]: 100%|██████████| 376/376 [03:39<00:00,  1.72it/s, loss=0.9478]\n",
      "Epoch 15/15 [Validation]: 100%|██████████| 1/1 [00:01<00:00,  1.43s/it, loss=0.9461]\n",
      "100%|██████████| 6/6 [03:57<00:00, 39.50s/it]\n"
     ]
    },
    {
     "name": "stdout",
     "output_type": "stream",
     "text": [
      "train-epoch-loss:0.9478 valid-beta4-score:0.1535\n"
     ]
    },
    {
     "data": {
      "text/html": [
       "Finishing last run (ID:cl3nywhe) before initializing another..."
      ],
      "text/plain": [
       "<IPython.core.display.HTML object>"
      ]
     },
     "metadata": {},
     "output_type": "display_data"
    },
    {
     "name": "stderr",
     "output_type": "stream",
     "text": [
      "wandb: WARNING Source type is set to 'repo' but some required information is missing from the environment. A job will not be created from this run. See https://docs.wandb.ai/guides/launch/create-job\n"
     ]
    },
    {
     "data": {
      "application/vnd.jupyter.widget-view+json": {
       "model_id": "da3ac2bfaae64934ac6a69faacc65bb9",
       "version_major": 2,
       "version_minor": 0
      },
      "text/plain": [
       "VBox(children=(Label(value='0.004 MB of 0.004 MB uploaded\\r'), FloatProgress(value=1.0, max=1.0)))"
      ]
     },
     "metadata": {},
     "output_type": "display_data"
    },
    {
     "data": {
      "text/html": [
       "<style>\n",
       "    table.wandb td:nth-child(1) { padding: 0 10px; text-align: left ; width: auto;} td:nth-child(2) {text-align: left ; width: 100%}\n",
       "    .wandb-row { display: flex; flex-direction: row; flex-wrap: wrap; justify-content: flex-start; width: 100% }\n",
       "    .wandb-col { display: flex; flex-direction: column; flex-basis: 100%; flex: 1; padding: 10px; }\n",
       "    </style>\n",
       "<div class=\"wandb-row\"><div class=\"wandb-col\"><h3>Run history:</h3><br/><table class=\"wandb\"><tr><td>01_epoch</td><td>▁▁▂▃▃▃▄▅▅▅▆▇▇▇█</td></tr><tr><td>02_train_loss</td><td>█▆▄▃▃▂▂▂▁▁▁▁▁▁▁</td></tr><tr><td>03_valid_loss</td><td>█▇▄▅▃▁▄▅▄▄▁▄▃▃▁</td></tr><tr><td>04_valid_best_score</td><td>▃▁▃▅▆▆▇▇█▇▇██▇▇</td></tr><tr><td>apo-ferritin</td><td>█▅▁▂▅▅▂▂▂▂▂▂▂▂▂</td></tr><tr><td>apoo_ferritin_f4</td><td>▄▂▁▂▁▅▇▅▅▃▅█▄▇▆</td></tr><tr><td>apoo_ferritin_p</td><td>▂▁▂▂▁█▃▂▂▂▂▃▂▃▃</td></tr><tr><td>apoo_ferritin_r</td><td>▆▂▁▁▁▁█▇▆▃▄▆▄▅▇</td></tr><tr><td>beta-amylase</td><td>▁▁▁▁▁▁▁▁▁▁▁▁▁▁▁</td></tr><tr><td>beta-galactosidase</td><td>█▇▄▂▂▁▂▂▂▂▁▁▂▁▂</td></tr><tr><td>beta_amylase_f4</td><td>█▁▁▁▁▁▁▁▁▁▁▁▁▁▁</td></tr><tr><td>beta_amylase_p</td><td>█▁▁▁▁▁▁▁▁▁▁▁▁▁▁</td></tr><tr><td>beta_amylase_r</td><td>█▁▁▁▁▁▁▁▁▁▁▁▁▁▁</td></tr><tr><td>beta_galactosidase_f4</td><td>▂▅▄▆▇▂▄█▇▂▆▄▁▄▅</td></tr><tr><td>beta_galactosidase_p</td><td>▂▅▄▆▇▂▄█▇▂▆▄▁▃▅</td></tr><tr><td>beta_galactosidase_r</td><td>█▇▆▇▇▆▃▅▄▁▅█▁▆▃</td></tr><tr><td>ribosome</td><td>▁▂▃▅█▅▆▇█▇▇▇███</td></tr><tr><td>ribosome_f4</td><td>▁▁▃▆▇▇█▇██████▇</td></tr><tr><td>ribosome_p</td><td>▁▁▂▄▆█▆▆▇▇█▆▇█▇</td></tr><tr><td>ribosome_r</td><td>▃▁▇▇▇▇▇▇█▇▇█▇▇▇</td></tr><tr><td>thyroglobulin</td><td>▁▁▁▁▆▆███▆▆██▆▆</td></tr><tr><td>thyroglobulin_f4</td><td>▄▃▄▂▁▂▃▃▄▅▂▅█▃▅</td></tr><tr><td>thyroglobulin_p</td><td>▃▂▃▃▁▁▄▃▃▃▁█▇▂▃</td></tr><tr><td>thyroglobulin_r</td><td>▄▂▂▁▇█▁▁▂██▁▃██</td></tr><tr><td>virus-like-particle</td><td>▁██▆▆▄▄▅▄▄▄▄▄▄▄</td></tr><tr><td>virus_like_particle_f4</td><td>█▁▃▃▃▅▄▄▄▆█▅▆█▄</td></tr><tr><td>virus_like_particle_p</td><td>█▁▃▃▃▄▃▃▃▆█▅▅▇▄</td></tr><tr><td>virus_like_particle_r</td><td>▅▁▃▅▅█▇▄██▇▇▇▇▆</td></tr></table><br/></div><div class=\"wandb-col\"><h3>Run summary:</h3><br/><table class=\"wandb\"><tr><td>01_epoch</td><td>14</td></tr><tr><td>02_train_loss</td><td>0.9478</td></tr><tr><td>03_valid_loss</td><td>0.94615</td></tr><tr><td>04_valid_best_score</td><td>0.15346</td></tr><tr><td>apo-ferritin</td><td>0.15</td></tr><tr><td>apoo_ferritin_f4</td><td>0.03141</td></tr><tr><td>apoo_ferritin_p</td><td>0.00199</td></tr><tr><td>apoo_ferritin_r</td><td>0.40625</td></tr><tr><td>beta-amylase</td><td>0.05</td></tr><tr><td>beta-galactosidase</td><td>0.25</td></tr><tr><td>beta_amylase_f4</td><td>0.0</td></tr><tr><td>beta_amylase_p</td><td>0.0</td></tr><tr><td>beta_amylase_r</td><td>0.0</td></tr><tr><td>beta_galactosidase_f4</td><td>0.02489</td></tr><tr><td>beta_galactosidase_p</td><td>0.00159</td></tr><tr><td>beta_galactosidase_r</td><td>0.30435</td></tr><tr><td>ribosome</td><td>0.75</td></tr><tr><td>ribosome_f4</td><td>0.73646</td></tr><tr><td>ribosome_p</td><td>0.21053</td></tr><tr><td>ribosome_r</td><td>0.87273</td></tr><tr><td>thyroglobulin</td><td>0.15</td></tr><tr><td>thyroglobulin_f4</td><td>0.0779</td></tr><tr><td>thyroglobulin_p</td><td>0.00496</td></tr><tr><td>thyroglobulin_r</td><td>0.95556</td></tr><tr><td>virus-like-particle</td><td>0.2</td></tr><tr><td>virus_like_particle_f4</td><td>0.10076</td></tr><tr><td>virus_like_particle_p</td><td>0.00682</td></tr><tr><td>virus_like_particle_r</td><td>0.72414</td></tr></table><br/></div></div>"
      ],
      "text/plain": [
       "<IPython.core.display.HTML object>"
      ]
     },
     "metadata": {},
     "output_type": "display_data"
    },
    {
     "data": {
      "text/html": [
       " View run <strong style=\"color:#cdcd00\">exp074-recreate-baseline-renet34d-dstride_TS_86_3</strong> at: <a href='https://wandb.ai/latent-walkers/czii2024/runs/cl3nywhe' target=\"_blank\">https://wandb.ai/latent-walkers/czii2024/runs/cl3nywhe</a><br/>Synced 5 W&B file(s), 0 media file(s), 0 artifact file(s) and 0 other file(s)"
      ],
      "text/plain": [
       "<IPython.core.display.HTML object>"
      ]
     },
     "metadata": {},
     "output_type": "display_data"
    },
    {
     "data": {
      "text/html": [
       "Find logs at: <code>./wandb/run-20250131_113349-cl3nywhe/logs</code>"
      ],
      "text/plain": [
       "<IPython.core.display.HTML object>"
      ]
     },
     "metadata": {},
     "output_type": "display_data"
    },
    {
     "data": {
      "text/html": [
       "Successfully finished last run (ID:cl3nywhe). Initializing new run:<br/>"
      ],
      "text/plain": [
       "<IPython.core.display.HTML object>"
      ]
     },
     "metadata": {},
     "output_type": "display_data"
    },
    {
     "data": {
      "application/vnd.jupyter.widget-view+json": {
       "model_id": "530284364e794b90a66558155b1cd583",
       "version_major": 2,
       "version_minor": 0
      },
      "text/plain": [
       "VBox(children=(Label(value='Waiting for wandb.init()...\\r'), FloatProgress(value=0.01111525131143733, max=1.0)…"
      ]
     },
     "metadata": {},
     "output_type": "display_data"
    },
    {
     "data": {
      "text/html": [
       "wandb version 0.19.5 is available!  To upgrade, please run:\n",
       " $ pip install wandb --upgrade"
      ],
      "text/plain": [
       "<IPython.core.display.HTML object>"
      ]
     },
     "metadata": {},
     "output_type": "display_data"
    },
    {
     "data": {
      "text/html": [
       "Tracking run with wandb version 0.16.1"
      ],
      "text/plain": [
       "<IPython.core.display.HTML object>"
      ]
     },
     "metadata": {},
     "output_type": "display_data"
    },
    {
     "data": {
      "text/html": [
       "Run data is saved locally in <code>/home/tatsuya/code/projects/kaggle/CryoET/experiments/exp074-recreate-baseline-renet34d-dstride/wandb/run-20250131_134402-1v5hcqda</code>"
      ],
      "text/plain": [
       "<IPython.core.display.HTML object>"
      ]
     },
     "metadata": {},
     "output_type": "display_data"
    },
    {
     "data": {
      "text/html": [
       "Syncing run <strong><a href='https://wandb.ai/latent-walkers/czii2024/runs/1v5hcqda' target=\"_blank\">exp074-recreate-baseline-renet34d-dstride_TS_6_6</a></strong> to <a href='https://wandb.ai/latent-walkers/czii2024' target=\"_blank\">Weights & Biases</a> (<a href='https://wandb.me/run' target=\"_blank\">docs</a>)<br/>"
      ],
      "text/plain": [
       "<IPython.core.display.HTML object>"
      ]
     },
     "metadata": {},
     "output_type": "display_data"
    },
    {
     "data": {
      "text/html": [
       " View project at <a href='https://wandb.ai/latent-walkers/czii2024' target=\"_blank\">https://wandb.ai/latent-walkers/czii2024</a>"
      ],
      "text/plain": [
       "<IPython.core.display.HTML object>"
      ]
     },
     "metadata": {},
     "output_type": "display_data"
    },
    {
     "data": {
      "text/html": [
       " View run at <a href='https://wandb.ai/latent-walkers/czii2024/runs/1v5hcqda' target=\"_blank\">https://wandb.ai/latent-walkers/czii2024/runs/1v5hcqda</a>"
      ],
      "text/plain": [
       "<IPython.core.display.HTML object>"
      ]
     },
     "metadata": {},
     "output_type": "display_data"
    },
    {
     "name": "stderr",
     "output_type": "stream",
     "text": [
      "100%|██████████| 752/752 [03:48<00:00,  3.29it/s] \n",
      "100%|██████████| 1/1 [00:12<00:00, 12.11s/it]\n",
      "Epoch 1/15 [Training]: 100%|██████████| 376/376 [03:55<00:00,  1.60it/s, loss=0.9536]\n",
      "Epoch 1/15 [Validation]: 100%|██████████| 1/1 [00:01<00:00,  1.36s/it, loss=0.9534]\n",
      "100%|██████████| 6/6 [05:26<00:00, 54.46s/it]\n"
     ]
    },
    {
     "name": "stdout",
     "output_type": "stream",
     "text": [
      "train-epoch-loss:0.9536 valid-beta4-score:0.0386\n"
     ]
    },
    {
     "name": "stderr",
     "output_type": "stream",
     "text": [
      "Epoch 2/15 [Training]: 100%|██████████| 376/376 [03:44<00:00,  1.67it/s, loss=0.9491]\n",
      "Epoch 2/15 [Validation]: 100%|██████████| 1/1 [00:01<00:00,  1.33s/it, loss=0.9529]\n",
      "100%|██████████| 6/6 [04:25<00:00, 44.31s/it]\n"
     ]
    },
    {
     "name": "stdout",
     "output_type": "stream",
     "text": [
      "train-epoch-loss:0.9491 valid-beta4-score:0.0512\n"
     ]
    },
    {
     "name": "stderr",
     "output_type": "stream",
     "text": [
      "Epoch 3/15 [Training]: 100%|██████████| 376/376 [03:51<00:00,  1.63it/s, loss=0.9456]\n",
      "Epoch 3/15 [Validation]: 100%|██████████| 1/1 [00:01<00:00,  1.33s/it, loss=0.9526]\n",
      "100%|██████████| 6/6 [03:58<00:00, 39.69s/it]\n"
     ]
    },
    {
     "name": "stdout",
     "output_type": "stream",
     "text": [
      "train-epoch-loss:0.9456 valid-beta4-score:0.0673\n"
     ]
    },
    {
     "name": "stderr",
     "output_type": "stream",
     "text": [
      "Epoch 4/15 [Training]: 100%|██████████| 376/376 [03:48<00:00,  1.64it/s, loss=0.9423]\n",
      "Epoch 4/15 [Validation]: 100%|██████████| 1/1 [00:01<00:00,  1.36s/it, loss=0.9462]\n",
      "100%|██████████| 6/6 [03:35<00:00, 35.92s/it]\n"
     ]
    },
    {
     "name": "stdout",
     "output_type": "stream",
     "text": [
      "train-epoch-loss:0.9423 valid-beta4-score:0.1040\n"
     ]
    },
    {
     "name": "stderr",
     "output_type": "stream",
     "text": [
      "Epoch 5/15 [Training]: 100%|██████████| 376/376 [03:39<00:00,  1.71it/s, loss=0.9396]\n",
      "Epoch 5/15 [Validation]: 100%|██████████| 1/1 [00:01<00:00,  1.37s/it, loss=0.9378]\n",
      "100%|██████████| 6/6 [03:46<00:00, 37.67s/it]\n"
     ]
    },
    {
     "name": "stdout",
     "output_type": "stream",
     "text": [
      "train-epoch-loss:0.9396 valid-beta4-score:0.0822\n"
     ]
    },
    {
     "name": "stderr",
     "output_type": "stream",
     "text": [
      "Epoch 6/15 [Training]: 100%|██████████| 376/376 [03:43<00:00,  1.68it/s, loss=0.9377]\n",
      "Epoch 6/15 [Validation]: 100%|██████████| 1/1 [00:01<00:00,  1.44s/it, loss=0.9454]\n",
      "100%|██████████| 6/6 [03:40<00:00, 36.76s/it]\n"
     ]
    },
    {
     "name": "stdout",
     "output_type": "stream",
     "text": [
      "train-epoch-loss:0.9377 valid-beta4-score:0.0603\n"
     ]
    },
    {
     "name": "stderr",
     "output_type": "stream",
     "text": [
      "Epoch 7/15 [Training]: 100%|██████████| 376/376 [03:43<00:00,  1.68it/s, loss=0.9362]\n",
      "Epoch 7/15 [Validation]: 100%|██████████| 1/1 [00:01<00:00,  1.38s/it, loss=0.9406]\n",
      "100%|██████████| 6/6 [03:58<00:00, 39.71s/it]\n"
     ]
    },
    {
     "name": "stdout",
     "output_type": "stream",
     "text": [
      "train-epoch-loss:0.9362 valid-beta4-score:0.0779\n"
     ]
    },
    {
     "name": "stderr",
     "output_type": "stream",
     "text": [
      "Epoch 8/15 [Training]: 100%|██████████| 376/376 [03:57<00:00,  1.58it/s, loss=0.9356]\n",
      "Epoch 8/15 [Validation]: 100%|██████████| 1/1 [00:01<00:00,  1.39s/it, loss=0.9408]\n",
      "100%|██████████| 6/6 [03:42<00:00, 37.10s/it]\n"
     ]
    },
    {
     "name": "stdout",
     "output_type": "stream",
     "text": [
      "train-epoch-loss:0.9356 valid-beta4-score:0.1368\n"
     ]
    },
    {
     "name": "stderr",
     "output_type": "stream",
     "text": [
      "Epoch 9/15 [Training]: 100%|██████████| 376/376 [03:36<00:00,  1.74it/s, loss=0.9354]\n",
      "Epoch 9/15 [Validation]: 100%|██████████| 1/1 [00:01<00:00,  1.39s/it, loss=0.9441]\n",
      "100%|██████████| 6/6 [03:43<00:00, 37.25s/it]\n"
     ]
    },
    {
     "name": "stdout",
     "output_type": "stream",
     "text": [
      "train-epoch-loss:0.9354 valid-beta4-score:0.0856\n"
     ]
    },
    {
     "name": "stderr",
     "output_type": "stream",
     "text": [
      "Epoch 10/15 [Training]: 100%|██████████| 376/376 [03:34<00:00,  1.76it/s, loss=0.9351]\n",
      "Epoch 10/15 [Validation]: 100%|██████████| 1/1 [00:01<00:00,  1.41s/it, loss=0.9448]\n",
      "100%|██████████| 6/6 [03:35<00:00, 35.90s/it]\n"
     ]
    },
    {
     "name": "stdout",
     "output_type": "stream",
     "text": [
      "train-epoch-loss:0.9351 valid-beta4-score:0.1109\n"
     ]
    },
    {
     "name": "stderr",
     "output_type": "stream",
     "text": [
      "Epoch 11/15 [Training]: 100%|██████████| 376/376 [03:43<00:00,  1.68it/s, loss=0.9351]\n",
      "Epoch 11/15 [Validation]: 100%|██████████| 1/1 [00:01<00:00,  1.40s/it, loss=0.9435]\n",
      "100%|██████████| 6/6 [03:40<00:00, 36.77s/it]\n"
     ]
    },
    {
     "name": "stdout",
     "output_type": "stream",
     "text": [
      "train-epoch-loss:0.9351 valid-beta4-score:0.1369\n"
     ]
    },
    {
     "name": "stderr",
     "output_type": "stream",
     "text": [
      "Epoch 12/15 [Training]: 100%|██████████| 376/376 [03:50<00:00,  1.63it/s, loss=0.9344]\n",
      "Epoch 12/15 [Validation]: 100%|██████████| 1/1 [00:01<00:00,  1.37s/it, loss=0.9427]\n",
      "100%|██████████| 6/6 [03:40<00:00, 36.68s/it]\n"
     ]
    },
    {
     "name": "stdout",
     "output_type": "stream",
     "text": [
      "train-epoch-loss:0.9344 valid-beta4-score:0.1266\n"
     ]
    },
    {
     "name": "stderr",
     "output_type": "stream",
     "text": [
      "Epoch 13/15 [Training]: 100%|██████████| 376/376 [03:48<00:00,  1.65it/s, loss=0.9346]\n",
      "Epoch 13/15 [Validation]: 100%|██████████| 1/1 [00:01<00:00,  1.38s/it, loss=0.9387]\n",
      "100%|██████████| 6/6 [03:41<00:00, 36.97s/it]\n"
     ]
    },
    {
     "name": "stdout",
     "output_type": "stream",
     "text": [
      "train-epoch-loss:0.9346 valid-beta4-score:0.1281\n"
     ]
    },
    {
     "name": "stderr",
     "output_type": "stream",
     "text": [
      "Epoch 14/15 [Training]: 100%|██████████| 376/376 [03:52<00:00,  1.62it/s, loss=0.9349]\n",
      "Epoch 14/15 [Validation]: 100%|██████████| 1/1 [00:01<00:00,  1.38s/it, loss=0.9380]\n",
      "100%|██████████| 6/6 [03:41<00:00, 36.98s/it]\n"
     ]
    },
    {
     "name": "stdout",
     "output_type": "stream",
     "text": [
      "train-epoch-loss:0.9349 valid-beta4-score:0.1516\n"
     ]
    },
    {
     "name": "stderr",
     "output_type": "stream",
     "text": [
      "Epoch 15/15 [Training]: 100%|██████████| 376/376 [03:50<00:00,  1.63it/s, loss=0.9346]\n",
      "Epoch 15/15 [Validation]: 100%|██████████| 1/1 [00:01<00:00,  1.36s/it, loss=0.9376]\n",
      "100%|██████████| 6/6 [03:37<00:00, 36.22s/it]\n"
     ]
    },
    {
     "name": "stdout",
     "output_type": "stream",
     "text": [
      "train-epoch-loss:0.9346 valid-beta4-score:0.1637\n"
     ]
    }
   ],
   "source": [
    "for vaild_exp_name in [\"TS_73_6\", \"TS_99_9\", \"TS_6_4\", \"TS_69_2\", \"TS_86_3\", \"TS_6_6\"]:\n",
    "    wandb.init(\n",
    "        project=\"czii2024\", name=f\"{notebook_name}_{vaild_exp_name}\", config=param\n",
    "    )\n",
    "\n",
    "    vaild_exp_name = [vaild_exp_name]\n",
    "    train_exp_name = CFG.train_exp_names.copy()\n",
    "    train_exp_name.remove(vaild_exp_name[0])\n",
    "\n",
    "    # valid_exp_name[0]の名前でディレクトリを作成\n",
    "    os.makedirs(f\"./{vaild_exp_name[0]}\", exist_ok=True)\n",
    "\n",
    "    train_dataset = EziiDataset(\n",
    "        exp_names=train_exp_name,\n",
    "        base_dir=\"../../inputs/train/\",\n",
    "        particles_name=CFG.particles_name,\n",
    "        resolution=CFG.resolution,\n",
    "        zarr_type=CFG.train_zarr_types,\n",
    "        train=True,\n",
    "        augmentation=True,\n",
    "        slice=True,\n",
    "        pre_read=True,\n",
    "    )\n",
    "    valid_dataset = EziiDataset(\n",
    "        exp_names=vaild_exp_name,\n",
    "        base_dir=\"../../inputs/train/\",\n",
    "        particles_name=CFG.particles_name,\n",
    "        resolution=CFG.resolution,\n",
    "        zarr_type=CFG.valid_zarr_types,\n",
    "        augmentation=False,\n",
    "        train=True,\n",
    "        slice=True,\n",
    "        pre_read=True,\n",
    "    )\n",
    "\n",
    "    train_loader = DataLoader(\n",
    "        train_dataset,\n",
    "        batch_size=CFG.batch_size,\n",
    "        shuffle=True,\n",
    "        drop_last=True,\n",
    "        pin_memory=True,\n",
    "        num_workers=CFG.num_workers,\n",
    "    )\n",
    "\n",
    "    valid_loader = DataLoader(\n",
    "        valid_dataset,\n",
    "        batch_size=1,\n",
    "        shuffle=False,\n",
    "        pin_memory=True,\n",
    "        num_workers=CFG.num_workers,\n",
    "    )\n",
    "\n",
    "    encoder = timm.create_model(\n",
    "        model_name=CFG.model_name,\n",
    "        pretrained=True,\n",
    "        in_chans=3,\n",
    "        num_classes=0,\n",
    "        global_pool=\"\",\n",
    "        features_only=True,\n",
    "    )\n",
    "    model = Unet3D(encoder=encoder, num_domains=5).to(\"cuda\")\n",
    "\n",
    "    optimizer = torch.optim.Adam(\n",
    "        model.parameters(), lr=CFG.lr, weight_decay=CFG.weight_decay\n",
    "    )\n",
    "    criterion = DiceLoss()\n",
    "    scheduler = get_cosine_schedule_with_warmup(\n",
    "        optimizer,\n",
    "        num_warmup_steps=10,\n",
    "        num_training_steps=CFG.epochs * len(train_loader),\n",
    "        # * batch_size,\n",
    "    )\n",
    "    scaler = GradScaler()\n",
    "    seg_loss = SegmentationLoss(criterion)\n",
    "    padf = PadToSize(CFG.resolution)\n",
    "\n",
    "    best_model = None\n",
    "    best_constant = 0\n",
    "    best_score = -100\n",
    "    best_particle_score = {}\n",
    "\n",
    "    grand_train_loss = []\n",
    "    grand_valid_loss = []\n",
    "    grand_train_score = []\n",
    "    grand_valid_score = []\n",
    "\n",
    "    for epoch in range(CFG.epochs):\n",
    "        model.train()\n",
    "        train_loss = []\n",
    "        valid_loss = []\n",
    "        with tqdm(\n",
    "            train_loader, desc=f\"Epoch {epoch + 1}/{CFG.epochs} [Training]\"\n",
    "        ) as tq:\n",
    "            for data in tq:\n",
    "                normalized_tomogram = data[\"normalized_tomogram\"]\n",
    "                segmentation_map = data[\"segmentation_map\"]\n",
    "                zarr_embedding_idx = data[\"zarr_type_embedding_idx\"]\n",
    "\n",
    "                normalized_tomogram = padf(normalized_tomogram)\n",
    "                segmentation_map = padf(segmentation_map)\n",
    "\n",
    "                # データ拡張\n",
    "                normalized_tomogram, segmentation_map = augment_data(\n",
    "                    normalized_tomogram, segmentation_map, p=CFG.augmentation_prob\n",
    "                )\n",
    "                normalized_tomogram = normalized_tomogram.cuda()\n",
    "                segmentation_map = segmentation_map.long().cuda()\n",
    "                zarr_embedding_idx = zarr_embedding_idx.cuda()\n",
    "\n",
    "                optimizer.zero_grad()\n",
    "\n",
    "                with autocast():\n",
    "                    pred = model(\n",
    "                        preprocess_tensor(normalized_tomogram), zarr_embedding_idx\n",
    "                    )\n",
    "                    loss = seg_loss(pred, segmentation_map)\n",
    "                # loss.backward()\n",
    "                # optimizer.step()\n",
    "                scaler.scale(loss).backward()\n",
    "                scaler.step(optimizer)\n",
    "                scaler.update()\n",
    "                scheduler.step()\n",
    "                train_loss.append(loss.item())\n",
    "\n",
    "                # 確率予測\n",
    "                prob_pred = torch.softmax(pred, dim=1)\n",
    "                tq.set_postfix({\"loss\": f\"{np.mean(train_loss):.4f}\"})\n",
    "\n",
    "        del normalized_tomogram, segmentation_map, zarr_embedding_idx, pred, loss\n",
    "        gc.collect()\n",
    "        torch.cuda.empty_cache()\n",
    "\n",
    "        with tqdm(\n",
    "            valid_loader, desc=f\"Epoch {epoch + 1}/{CFG.epochs} [Validation]\"\n",
    "        ) as tq:\n",
    "            with torch.no_grad():\n",
    "                for data in tq:\n",
    "                    normalized_tomogram = data[\"normalized_tomogram\"].cuda()\n",
    "                    segmentation_map = data[\"segmentation_map\"].long().cuda()\n",
    "                    zarr_embedding_idx = data[\"zarr_type_embedding_idx\"].cuda()\n",
    "\n",
    "                    normalized_tomogram = padf(normalized_tomogram)\n",
    "                    segmentation_map = padf(segmentation_map)\n",
    "\n",
    "                    with autocast():\n",
    "                        pred = model(\n",
    "                            preprocess_tensor(normalized_tomogram), zarr_embedding_idx\n",
    "                        )\n",
    "                        loss = seg_loss(pred, segmentation_map)\n",
    "                    valid_loss.append(loss.item())\n",
    "\n",
    "                    # 確率予測\n",
    "                    prob_pred = torch.softmax(pred, dim=1)\n",
    "                    tq.set_postfix({\"loss\": f\"{np.mean(valid_loss):.4f}\"})\n",
    "\n",
    "        del normalized_tomogram, segmentation_map, zarr_embedding_idx, pred, loss\n",
    "        gc.collect()\n",
    "        torch.cuda.empty_cache()\n",
    "\n",
    "        # # ############### validation ################\n",
    "        train_nshuffle_original_tomogram = defaultdict(list)\n",
    "        train_nshuffle_pred_tomogram = defaultdict(list)\n",
    "        train_nshuffle_gt_tomogram = defaultdict(list)\n",
    "\n",
    "        valid_original_tomogram = defaultdict(list)\n",
    "        valid_pred_tomogram = defaultdict(list)\n",
    "        valid_gt_tomogram = defaultdict(list)\n",
    "\n",
    "        train_mean_scores = []\n",
    "        valid_mean_scores = []\n",
    "\n",
    "        # モデルの保存\n",
    "        make_dir_ = (\n",
    "            f\"../../../../../../../../mnt/d/kaggle-tmp-models/czii2024/{notebook_name}/\"\n",
    "        )\n",
    "        os.makedirs(make_dir_, exist_ok=True)\n",
    "        torch.save(model.state_dict(), make_dir_ + f\"model_{epoch}.pth\")\n",
    "\n",
    "        # ############### validation ################\n",
    "        train_nshuffle_original_tomogram = defaultdict(list)\n",
    "        train_nshuffle_pred_tomogram = defaultdict(list)\n",
    "        train_nshuffle_gt_tomogram = defaultdict(list)\n",
    "\n",
    "        valid_original_tomogram = defaultdict(list)\n",
    "        valid_pred_tomogram = defaultdict(list)\n",
    "        valid_gt_tomogram = defaultdict(list)\n",
    "\n",
    "        train_mean_scores = []\n",
    "        valid_mean_scores = []\n",
    "\n",
    "        train_inferenced_array = {}\n",
    "        train_pred_array = []\n",
    "        train_gt_array = []\n",
    "        valid_inferenced_array = {}\n",
    "        valid_gt_array = []\n",
    "\n",
    "        # for exp_name in tqdm(CFG.train_exp_names):\n",
    "        for exp_name in vaild_exp_name:  # 5つのデータで試す\n",
    "            # inferenced_array = inference(model, exp_name, train=False)\n",
    "            inferenced_array, n_tomogram, segmentation_map = inference(\n",
    "                model, exp_name, train=False\n",
    "            )\n",
    "            valid_inferenced_array[exp_name] = inferenced_array\n",
    "            base_dir = \"../../inputs/train/overlay/ExperimentRuns/\"\n",
    "            gt_df = create_gt_df(base_dir, [exp_name])\n",
    "            valid_gt_array.append(gt_df)\n",
    "\n",
    "        valid_gt_array = pd.concat(valid_gt_array)\n",
    "\n",
    "        b_constant = 0\n",
    "        b_score = -100\n",
    "        b_particle_score = {}\n",
    "\n",
    "        try:\n",
    "            best_thresholds, final_score = reduce_computation_sikii_search(\n",
    "                inferenced_array,\n",
    "                exp_name,\n",
    "                [\n",
    "                    0.05,\n",
    "                    0.1,\n",
    "                    0.15,\n",
    "                    0.2,\n",
    "                    0.25,\n",
    "                    0.3,\n",
    "                    0.35,\n",
    "                    0.4,\n",
    "                    0.45,\n",
    "                    0.5,\n",
    "                    0.55,\n",
    "                    0.6,\n",
    "                    0.65,\n",
    "                    0.7,\n",
    "                    0.75,\n",
    "                ],\n",
    "            )\n",
    "        except:\n",
    "            best_thresholds = [0.5] * 6\n",
    "            final_score = -50\n",
    "\n",
    "        b_score = final_score\n",
    "        b_particle_constant = {\n",
    "            \"apo-ferritin\": best_thresholds[0],\n",
    "            \"beta-amylase\": best_thresholds[1],\n",
    "            \"beta-galactosidase\": best_thresholds[2],\n",
    "            \"ribosome\": best_thresholds[3],\n",
    "            \"thyroglobulin\": best_thresholds[4],\n",
    "            \"virus-like-particle\": best_thresholds[5],\n",
    "        }\n",
    "\n",
    "        try:\n",
    "            valid_pred_array = []\n",
    "            for exp_name in [vaild_exp_name[0]]:\n",
    "                pred_df = inference2pos(\n",
    "                    pred_segmask=valid_inferenced_array[exp_name],\n",
    "                    exp_name=exp_name,\n",
    "                    sikii_dict=b_particle_constant,\n",
    "                )\n",
    "                valid_pred_array.append(pred_df)\n",
    "\n",
    "            valid_pred_array = pd.concat(valid_pred_array)\n",
    "\n",
    "            if len(valid_pred_array) != 0:\n",
    "                result_df, score_ = compute_lb(\n",
    "                    valid_pred_array,\n",
    "                    \"../../inputs/train/overlay/ExperimentRuns/\",\n",
    "                    vaild_exp_name,\n",
    "                )\n",
    "                particle_score = extract_particle_results(result_df)\n",
    "\n",
    "                b_score = score_\n",
    "                b_particle_score = particle_score\n",
    "        except:\n",
    "            b_score = -50\n",
    "            b_particle_score = {}\n",
    "\n",
    "        import gc\n",
    "        import torch.cuda as cuda\n",
    "\n",
    "        # del valid_pred_array, valid_gt_array\n",
    "        gc.collect()\n",
    "        cuda.empty_cache()\n",
    "\n",
    "        # print(\"constant\", b_constant, \"score\", b_score)\n",
    "\n",
    "        # wandb-log\n",
    "        train_info = {\n",
    "            \"01_epoch\": epoch,\n",
    "            \"02_train_loss\": np.mean(train_loss),\n",
    "            \"03_valid_loss\": np.mean(valid_loss),\n",
    "            # \"train_score\": np.mean(train_mean_scores),\n",
    "            \"04_valid_best_score\": b_score,\n",
    "        }\n",
    "        train_info = {**train_info, **b_particle_score}\n",
    "        train_info = {**train_info, **b_particle_constant}\n",
    "        wandb.log(train_info)\n",
    "\n",
    "        # score-update\n",
    "        if b_score > best_score:\n",
    "            best_score = b_score\n",
    "            # best_score = np.mean(valid_mean_scores)\n",
    "            best_model = model.state_dict()\n",
    "            torch.save(best_model, f\"./{vaild_exp_name[0]}/best_model.pth\")\n",
    "\n",
    "        print(\n",
    "            f\"train-epoch-loss:{np.mean(train_loss):.4f}\",\n",
    "            # f\"valid-epoch-loss:{np.mean(valid_loss):.4f}\",\n",
    "            # f\"train-beta4-score:{np.mean(train_mean_scores):.4f}\",\n",
    "            f\"valid-beta4-score:{b_score:.4f}\",\n",
    "        )\n",
    "\n",
    "        grand_train_loss.append(np.mean(train_loss))\n",
    "        # grand_valid_loss.append(np.mean(valid_loss))\n",
    "        # grand_train_score.append(np.mean(train_mean_scores))\n",
    "        grand_valid_score.append(b_score)\n",
    "\n",
    "    del model, optimizer, criterion, scheduler, scaler, seg_loss\n",
    "    gc.collect()\n",
    "    torch.cuda.empty_cache()"
   ]
  },
  {
   "cell_type": "code",
   "execution_count": 8,
   "metadata": {},
   "outputs": [
    {
     "data": {
      "image/png": "[encoded data removed]",
      "text/plain": [
       "<Figure size 640x480 with 1 Axes>"
      ]
     },
     "metadata": {},
     "output_type": "display_data"
    }
   ],
   "source": [
    "# train_lossとvalid_lossのプロット\n",
    "\n",
    "plt.plot(grand_train_loss, label=\"train_loss\")\n",
    "plt.plot(grand_valid_loss, label=\"valid_loss\")\n",
    "plt.legend()\n",
    "plt.show()"
   ]
  },
  {
   "cell_type": "code",
   "execution_count": 9,
   "metadata": {},
   "outputs": [
    {
     "data": {
      "image/png": "[encoded data removed]",
      "text/plain": [
       "<Figure size 640x480 with 1 Axes>"
      ]
     },
     "metadata": {},
     "output_type": "display_data"
    }
   ],
   "source": [
    "# train_scoreとvalid_scoreのプロット\n",
    "plt.plot(grand_train_score, label=\"train_score\")\n",
    "plt.plot(grand_valid_score, label=\"valid_score\")\n",
    "plt.legend()\n",
    "plt.show()"
   ]
  },
  {
   "cell_type": "code",
   "execution_count": 10,
   "metadata": {},
   "outputs": [
    {
     "data": {
      "text/plain": [
       "0.9176294086859996"
      ]
     },
     "execution_count": 10,
     "metadata": {},
     "output_type": "execute_result"
    }
   ],
   "source": [
    "random.random()"
   ]
  },
  {
   "cell_type": "code",
   "execution_count": null,
   "metadata": {},
   "outputs": [],
   "source": []
  },
  {
   "cell_type": "code",
   "execution_count": null,
   "metadata": {},
   "outputs": [],
   "source": []
  }
 ],
 "metadata": {
  "kernelspec": {
   "display_name": "kaggle",
   "language": "python",
   "name": "python3"
  },
  "language_info": {
   "codemirror_mode": {
    "name": "ipython",
    "version": 3
   },
   "file_extension": ".py",
   "mimetype": "text/x-python",
   "name": "python",
   "nbconvert_exporter": "python",
   "pygments_lexer": "ipython3",
   "version": "3.9.16"
  }
 },
 "nbformat": 4,
 "nbformat_minor": 2
}
