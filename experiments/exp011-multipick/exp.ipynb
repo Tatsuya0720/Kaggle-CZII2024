{
 "cells": [
  {
   "cell_type": "code",
   "execution_count": 1,
   "metadata": {},
   "outputs": [],
   "source": [
    "import os\n",
    "import zarr\n",
    "import random\n",
    "import json\n",
    "import warnings\n",
    "import numpy as np\n",
    "import pandas as pd\n",
    "import torch.nn as nn\n",
    "from pathlib import Path\n",
    "import matplotlib.pyplot as plt\n",
    "from torch.utils.data import DataLoader, Dataset\n",
    "from collections import defaultdict\n",
    "import sys\n",
    "\n",
    "warnings.filterwarnings(\"ignore\")\n",
    "sys.path.append(\"./src/\")\n",
    "\n",
    "from src.config import CFG\n",
    "from src.dataloader import (\n",
    "    read_zarr,\n",
    "    read_info_json,\n",
    "    scale_coordinates,\n",
    "    create_dataset,\n",
    "    create_segmentation_map,\n",
    "    EziiDataset,\n",
    "    drop_padding,\n",
    ")\n",
    "from src.network import UNet_2D, aug\n",
    "from src.utils import save_images\n",
    "from src.metric import score, create_cls_pos, create_cls_pos_sikii, create_df\n",
    "from metric import visualize_epoch_results"
   ]
  },
  {
   "cell_type": "code",
   "execution_count": 2,
   "metadata": {},
   "outputs": [
    {
     "name": "stdout",
     "output_type": "stream",
     "text": [
      "[('TS_5_4', 'denoised'), ('TS_73_6', 'denoised'), ('TS_99_9', 'denoised'), ('TS_6_4', 'denoised'), ('TS_69_2', 'denoised')]\n",
      "[('TS_86_3', 'denoised'), ('TS_6_6', 'denoised')]\n"
     ]
    },
    {
     "name": "stderr",
     "output_type": "stream",
     "text": [
      "  0%|          | 0/5 [00:00<?, ?it/s]\n"
     ]
    },
    {
     "data": {
      "text/plain": [
       "92"
      ]
     },
     "execution_count": 2,
     "metadata": {},
     "output_type": "execute_result"
    }
   ],
   "source": [
    "train_dataset = EziiDataset(\n",
    "    exp_names=CFG.train_exp_names,\n",
    "    base_dir=\"../../inputs/train/static\",\n",
    "    particles_name=CFG.particles_name,\n",
    "    resolution=CFG.resolution,\n",
    "    zarr_type=CFG.train_zarr_types,\n",
    ")\n",
    "\n",
    "valid_dataset = EziiDataset(\n",
    "    exp_names=CFG.valid_exp_names,\n",
    "    base_dir=\"../../inputs/train/static\",\n",
    "    particles_name=CFG.particles_name,\n",
    "    resolution=CFG.resolution,\n",
    "    zarr_type=CFG.valid_zarr_types,\n",
    ")\n",
    "\n",
    "from tqdm import tqdm\n",
    "\n",
    "train_loader = DataLoader(train_dataset, batch_size=1, shuffle=True)\n",
    "valid_loader = DataLoader(valid_dataset, batch_size=1, shuffle=False)\n",
    "\n",
    "for data in tqdm(train_dataset):\n",
    "    normalized_tomogram = data[\"normalized_tomogram\"]\n",
    "    segmentation_map = data[\"segmentation_map\"]\n",
    "    break\n",
    "\n",
    "# normalized_tomogram =\n",
    "normalized_tomogram.shape[0]"
   ]
  },
  {
   "cell_type": "code",
   "execution_count": 3,
   "metadata": {},
   "outputs": [],
   "source": [
    "import torch\n",
    "import torchvision.transforms.functional as F\n",
    "import random"
   ]
  },
  {
   "cell_type": "code",
   "execution_count": 4,
   "metadata": {},
   "outputs": [
    {
     "name": "stderr",
     "output_type": "stream",
     "text": [
      "Train-Epoch: 0, Loss: 1.9789251186630943:  96%|█████████▌| 110/115 [00:28<00:01,  3.92it/s]\n",
      "Valid-Epoch: 0, Loss: 1.624511543823325: 100%|██████████| 184/184 [00:07<00:00, 24.58it/s] \n"
     ]
    },
    {
     "name": "stdout",
     "output_type": "stream",
     "text": [
      "####################### valid-experiments: TS_86_3 #######################\n",
      "####################### valid-experiments: TS_6_6 #######################\n",
      "EPOCH: 0, VALID_SCORE: 0.011108105303148725\n"
     ]
    },
    {
     "name": "stderr",
     "output_type": "stream",
     "text": [
      "Train-Epoch: 1, Loss: 1.3729090343822132:  96%|█████████▌| 110/115 [00:25<00:01,  4.29it/s]\n",
      "Valid-Epoch: 1, Loss: 1.1104240031993908: 100%|██████████| 184/184 [00:06<00:00, 26.94it/s]\n"
     ]
    },
    {
     "name": "stdout",
     "output_type": "stream",
     "text": [
      "####################### valid-experiments: TS_86_3 #######################\n",
      "####################### valid-experiments: TS_6_6 #######################\n",
      "EPOCH: 1, VALID_SCORE: 0.10870871953154476\n"
     ]
    },
    {
     "name": "stderr",
     "output_type": "stream",
     "text": [
      "Train-Epoch: 2, Loss: 1.0071899365295063:  96%|█████████▌| 110/115 [00:25<00:01,  4.38it/s]\n",
      "Valid-Epoch: 2, Loss: 0.7684392051204391: 100%|██████████| 184/184 [00:06<00:00, 26.55it/s]\n"
     ]
    },
    {
     "name": "stdout",
     "output_type": "stream",
     "text": [
      "####################### valid-experiments: TS_86_3 #######################\n",
      "####################### valid-experiments: TS_6_6 #######################\n",
      "EPOCH: 2, VALID_SCORE: 0.15227065283737778\n"
     ]
    },
    {
     "name": "stderr",
     "output_type": "stream",
     "text": [
      "Train-Epoch: 3, Loss: 0.773489053140987:  96%|█████████▌| 110/115 [00:26<00:01,  4.11it/s] \n",
      "Valid-Epoch: 3, Loss: 0.543124711383944: 100%|██████████| 184/184 [00:07<00:00, 23.50it/s] \n"
     ]
    },
    {
     "name": "stdout",
     "output_type": "stream",
     "text": [
      "####################### valid-experiments: TS_86_3 #######################\n",
      "####################### valid-experiments: TS_6_6 #######################\n",
      "EPOCH: 3, VALID_SCORE: 0.15558490049724227\n"
     ]
    },
    {
     "name": "stderr",
     "output_type": "stream",
     "text": [
      "Train-Epoch: 4, Loss: 0.6251493177630685:  96%|█████████▌| 110/115 [00:28<00:01,  3.88it/s]\n",
      "Valid-Epoch: 4, Loss: 0.5036917561260255: 100%|██████████| 184/184 [00:07<00:00, 23.18it/s] \n"
     ]
    },
    {
     "name": "stdout",
     "output_type": "stream",
     "text": [
      "####################### valid-experiments: TS_86_3 #######################\n",
      "####################### valid-experiments: TS_6_6 #######################\n",
      "EPOCH: 4, VALID_SCORE: 0.10009249122910294\n"
     ]
    },
    {
     "name": "stderr",
     "output_type": "stream",
     "text": [
      "Train-Epoch: 5, Loss: 0.6179983393712477:  96%|█████████▌| 110/115 [00:27<00:01,  3.95it/s]\n",
      "Valid-Epoch: 5, Loss: 0.4126248668231394: 100%|██████████| 184/184 [00:07<00:00, 23.57it/s] \n"
     ]
    },
    {
     "name": "stdout",
     "output_type": "stream",
     "text": [
      "####################### valid-experiments: TS_86_3 #######################\n",
      "####################### valid-experiments: TS_6_6 #######################\n",
      "EPOCH: 5, VALID_SCORE: 0.1837123534264884\n"
     ]
    },
    {
     "name": "stderr",
     "output_type": "stream",
     "text": [
      "Train-Epoch: 6, Loss: 0.6062161589210684:  96%|█████████▌| 110/115 [00:27<00:01,  4.06it/s]\n",
      "Valid-Epoch: 6, Loss: 0.39931830334598606: 100%|██████████| 184/184 [00:07<00:00, 23.66it/s]\n"
     ]
    },
    {
     "name": "stdout",
     "output_type": "stream",
     "text": [
      "####################### valid-experiments: TS_86_3 #######################\n",
      "####################### valid-experiments: TS_6_6 #######################\n",
      "EPOCH: 6, VALID_SCORE: 0.1682721402733659\n"
     ]
    },
    {
     "name": "stderr",
     "output_type": "stream",
     "text": [
      "Train-Epoch: 7, Loss: 0.6313414156436921:  96%|█████████▌| 110/115 [00:29<00:01,  3.78it/s]\n",
      "Valid-Epoch: 7, Loss: 0.3978457522942968: 100%|██████████| 184/184 [00:07<00:00, 23.86it/s] \n"
     ]
    },
    {
     "name": "stdout",
     "output_type": "stream",
     "text": [
      "####################### valid-experiments: TS_86_3 #######################\n",
      "####################### valid-experiments: TS_6_6 #######################\n",
      "EPOCH: 7, VALID_SCORE: 0.2127316730224087\n"
     ]
    },
    {
     "name": "stderr",
     "output_type": "stream",
     "text": [
      "Train-Epoch: 8, Loss: 0.5291647428816015:  96%|█████████▌| 110/115 [00:29<00:01,  3.79it/s]\n",
      "Valid-Epoch: 8, Loss: 0.41853875217392394: 100%|██████████| 184/184 [00:07<00:00, 23.64it/s]\n"
     ]
    },
    {
     "name": "stdout",
     "output_type": "stream",
     "text": [
      "####################### valid-experiments: TS_86_3 #######################\n",
      "####################### valid-experiments: TS_6_6 #######################\n",
      "EPOCH: 8, VALID_SCORE: 0.1871086304005537\n"
     ]
    },
    {
     "name": "stderr",
     "output_type": "stream",
     "text": [
      "Train-Epoch: 9, Loss: 0.5834215635603125:  96%|█████████▌| 110/115 [00:27<00:01,  4.04it/s]\n",
      "Valid-Epoch: 9, Loss: 0.4927600914936351: 100%|██████████| 184/184 [00:07<00:00, 23.02it/s] \n"
     ]
    },
    {
     "name": "stdout",
     "output_type": "stream",
     "text": [
      "####################### valid-experiments: TS_86_3 #######################\n",
      "####################### valid-experiments: TS_6_6 #######################\n",
      "EPOCH: 9, VALID_SCORE: 0.17870531740692314\n"
     ]
    },
    {
     "name": "stderr",
     "output_type": "stream",
     "text": [
      "Train-Epoch: 10, Loss: 0.5253924894061955:  96%|█████████▌| 110/115 [00:27<00:01,  4.04it/s]\n",
      "Valid-Epoch: 10, Loss: 0.44182012339487026: 100%|██████████| 184/184 [00:07<00:00, 23.50it/s]\n"
     ]
    },
    {
     "name": "stdout",
     "output_type": "stream",
     "text": [
      "####################### valid-experiments: TS_86_3 #######################\n",
      "####################### valid-experiments: TS_6_6 #######################\n",
      "EPOCH: 10, VALID_SCORE: 0.18354413545742815\n"
     ]
    },
    {
     "name": "stderr",
     "output_type": "stream",
     "text": [
      "Train-Epoch: 11, Loss: 0.5305011004209519:  96%|█████████▌| 110/115 [00:28<00:01,  3.88it/s]\n",
      "Valid-Epoch: 11, Loss: 0.448345009399497: 100%|██████████| 184/184 [00:08<00:00, 22.42it/s]  \n"
     ]
    },
    {
     "name": "stdout",
     "output_type": "stream",
     "text": [
      "####################### valid-experiments: TS_86_3 #######################\n",
      "####################### valid-experiments: TS_6_6 #######################\n",
      "EPOCH: 11, VALID_SCORE: 0.1759547145193494\n"
     ]
    },
    {
     "name": "stderr",
     "output_type": "stream",
     "text": [
      "Train-Epoch: 12, Loss: 0.48902063586495137:  96%|█████████▌| 110/115 [00:27<00:01,  3.98it/s]\n",
      "Valid-Epoch: 12, Loss: 0.4313198617335571: 100%|██████████| 184/184 [00:08<00:00, 22.88it/s] \n"
     ]
    },
    {
     "name": "stdout",
     "output_type": "stream",
     "text": [
      "####################### valid-experiments: TS_86_3 #######################\n",
      "####################### valid-experiments: TS_6_6 #######################\n",
      "EPOCH: 12, VALID_SCORE: 0.17204950945484943\n"
     ]
    },
    {
     "name": "stderr",
     "output_type": "stream",
     "text": [
      "Train-Epoch: 13, Loss: 0.4251354050907222:  96%|█████████▌| 110/115 [00:27<00:01,  4.05it/s] \n",
      "Valid-Epoch: 13, Loss: 0.4485751293275667: 100%|██████████| 184/184 [00:07<00:00, 24.51it/s] \n"
     ]
    },
    {
     "name": "stdout",
     "output_type": "stream",
     "text": [
      "####################### valid-experiments: TS_86_3 #######################\n",
      "####################### valid-experiments: TS_6_6 #######################\n",
      "EPOCH: 13, VALID_SCORE: 0.18394271626091188\n"
     ]
    },
    {
     "name": "stderr",
     "output_type": "stream",
     "text": [
      "Train-Epoch: 14, Loss: 0.4784515934911641:  96%|█████████▌| 110/115 [00:28<00:01,  3.84it/s] \n",
      "Valid-Epoch: 14, Loss: 0.46842736823727255: 100%|██████████| 184/184 [00:08<00:00, 21.96it/s]\n"
     ]
    },
    {
     "name": "stdout",
     "output_type": "stream",
     "text": [
      "####################### valid-experiments: TS_86_3 #######################\n",
      "####################### valid-experiments: TS_6_6 #######################\n",
      "EPOCH: 14, VALID_SCORE: 0.17294629570266185\n"
     ]
    },
    {
     "name": "stderr",
     "output_type": "stream",
     "text": [
      "Train-Epoch: 15, Loss: 0.4417898881164464:  96%|█████████▌| 110/115 [00:28<00:01,  3.88it/s] \n",
      "Valid-Epoch: 15, Loss: 0.5068752102796799: 100%|██████████| 184/184 [00:07<00:00, 23.33it/s] \n"
     ]
    },
    {
     "name": "stdout",
     "output_type": "stream",
     "text": [
      "####################### valid-experiments: TS_86_3 #######################\n",
      "####################### valid-experiments: TS_6_6 #######################\n",
      "EPOCH: 15, VALID_SCORE: 0.16836462266406588\n"
     ]
    },
    {
     "name": "stderr",
     "output_type": "stream",
     "text": [
      "Train-Epoch: 16, Loss: 0.4291516188870777:  96%|█████████▌| 110/115 [00:28<00:01,  3.84it/s] \n",
      "Valid-Epoch: 16, Loss: 0.48293427199773165: 100%|██████████| 184/184 [00:07<00:00, 23.27it/s]\n"
     ]
    },
    {
     "name": "stdout",
     "output_type": "stream",
     "text": [
      "####################### valid-experiments: TS_86_3 #######################\n",
      "####################### valid-experiments: TS_6_6 #######################\n",
      "EPOCH: 16, VALID_SCORE: 0.17335079724639935\n"
     ]
    },
    {
     "name": "stderr",
     "output_type": "stream",
     "text": [
      "Train-Epoch: 17, Loss: 0.44321293993429706:  96%|█████████▌| 110/115 [00:27<00:01,  3.98it/s]\n",
      "Valid-Epoch: 17, Loss: 0.488683570884978: 100%|██████████| 184/184 [00:07<00:00, 23.49it/s]  \n"
     ]
    },
    {
     "name": "stdout",
     "output_type": "stream",
     "text": [
      "####################### valid-experiments: TS_86_3 #######################\n",
      "####################### valid-experiments: TS_6_6 #######################\n",
      "EPOCH: 17, VALID_SCORE: 0.172598650580681\n"
     ]
    },
    {
     "name": "stderr",
     "output_type": "stream",
     "text": [
      "Train-Epoch: 18, Loss: 0.43974813751199027:  96%|█████████▌| 110/115 [00:27<00:01,  3.94it/s]\n",
      "Valid-Epoch: 18, Loss: 0.5041790061589816: 100%|██████████| 184/184 [00:08<00:00, 22.63it/s] \n"
     ]
    },
    {
     "name": "stdout",
     "output_type": "stream",
     "text": [
      "####################### valid-experiments: TS_86_3 #######################\n",
      "####################### valid-experiments: TS_6_6 #######################\n",
      "EPOCH: 18, VALID_SCORE: 0.17747326769243704\n"
     ]
    },
    {
     "name": "stderr",
     "output_type": "stream",
     "text": [
      "Train-Epoch: 19, Loss: 0.5046625569462776:  96%|█████████▌| 110/115 [00:27<00:01,  3.98it/s] \n",
      "Valid-Epoch: 19, Loss: 0.5470667485876576: 100%|██████████| 184/184 [00:07<00:00, 23.05it/s] \n"
     ]
    },
    {
     "name": "stdout",
     "output_type": "stream",
     "text": [
      "####################### valid-experiments: TS_86_3 #######################\n",
      "####################### valid-experiments: TS_6_6 #######################\n",
      "EPOCH: 19, VALID_SCORE: 0.1763302793690596\n"
     ]
    },
    {
     "name": "stderr",
     "output_type": "stream",
     "text": [
      "Train-Epoch: 20, Loss: 0.45429029329256576:  96%|█████████▌| 110/115 [00:27<00:01,  4.00it/s]\n",
      "Valid-Epoch: 20, Loss: 0.5262440278437799: 100%|██████████| 184/184 [00:08<00:00, 22.70it/s] \n"
     ]
    },
    {
     "name": "stdout",
     "output_type": "stream",
     "text": [
      "####################### valid-experiments: TS_86_3 #######################\n",
      "####################### valid-experiments: TS_6_6 #######################\n",
      "EPOCH: 20, VALID_SCORE: 0.16893902193898502\n"
     ]
    },
    {
     "name": "stderr",
     "output_type": "stream",
     "text": [
      "Train-Epoch: 21, Loss: 0.42760323868556455:  96%|█████████▌| 110/115 [00:27<00:01,  3.93it/s]\n",
      "Valid-Epoch: 21, Loss: 0.5705191221736048: 100%|██████████| 184/184 [00:07<00:00, 23.37it/s] \n"
     ]
    },
    {
     "name": "stdout",
     "output_type": "stream",
     "text": [
      "####################### valid-experiments: TS_86_3 #######################\n",
      "####################### valid-experiments: TS_6_6 #######################\n",
      "EPOCH: 21, VALID_SCORE: 0.12201768723631828\n"
     ]
    },
    {
     "name": "stderr",
     "output_type": "stream",
     "text": [
      "Train-Epoch: 22, Loss: 0.4199292860247872:  96%|█████████▌| 110/115 [00:27<00:01,  4.00it/s] \n",
      "Valid-Epoch: 22, Loss: 0.5430587229582117: 100%|██████████| 184/184 [00:08<00:00, 22.03it/s] \n"
     ]
    },
    {
     "name": "stdout",
     "output_type": "stream",
     "text": [
      "####################### valid-experiments: TS_86_3 #######################\n",
      "####################### valid-experiments: TS_6_6 #######################\n",
      "EPOCH: 22, VALID_SCORE: 0.18662760836692344\n"
     ]
    },
    {
     "name": "stderr",
     "output_type": "stream",
     "text": [
      "Train-Epoch: 23, Loss: 0.40326725366440686:  96%|█████████▌| 110/115 [00:27<00:01,  4.03it/s]\n",
      "Valid-Epoch: 23, Loss: 0.6045481924615477: 100%|██████████| 184/184 [00:08<00:00, 22.76it/s] \n"
     ]
    },
    {
     "name": "stdout",
     "output_type": "stream",
     "text": [
      "####################### valid-experiments: TS_86_3 #######################\n",
      "####################### valid-experiments: TS_6_6 #######################\n",
      "EPOCH: 23, VALID_SCORE: 0.03529901080558398\n"
     ]
    },
    {
     "name": "stderr",
     "output_type": "stream",
     "text": [
      "Train-Epoch: 24, Loss: 0.44264160624959253:  96%|█████████▌| 110/115 [00:27<00:01,  4.00it/s]\n",
      "Valid-Epoch: 24, Loss: 0.5327722479275468: 100%|██████████| 184/184 [00:07<00:00, 23.58it/s] \n"
     ]
    },
    {
     "name": "stdout",
     "output_type": "stream",
     "text": [
      "####################### valid-experiments: TS_86_3 #######################\n",
      "####################### valid-experiments: TS_6_6 #######################\n",
      "EPOCH: 24, VALID_SCORE: 0.0788547522020199\n"
     ]
    },
    {
     "name": "stderr",
     "output_type": "stream",
     "text": [
      "Train-Epoch: 25, Loss: 0.39312984523448075:  96%|█████████▌| 110/115 [00:27<00:01,  3.97it/s]\n",
      "Valid-Epoch: 25, Loss: 0.5603411695110085: 100%|██████████| 184/184 [00:08<00:00, 22.60it/s] \n"
     ]
    },
    {
     "name": "stdout",
     "output_type": "stream",
     "text": [
      "####################### valid-experiments: TS_86_3 #######################\n",
      "####################### valid-experiments: TS_6_6 #######################\n",
      "EPOCH: 25, VALID_SCORE: 0.1909978331263347\n"
     ]
    },
    {
     "name": "stderr",
     "output_type": "stream",
     "text": [
      "Train-Epoch: 26, Loss: 0.3826817062090744:  96%|█████████▌| 110/115 [00:27<00:01,  3.95it/s] \n",
      "Valid-Epoch: 26, Loss: 0.5890005814954233: 100%|██████████| 184/184 [00:07<00:00, 23.39it/s] \n"
     ]
    },
    {
     "name": "stdout",
     "output_type": "stream",
     "text": [
      "####################### valid-experiments: TS_86_3 #######################\n",
      "####################### valid-experiments: TS_6_6 #######################\n",
      "EPOCH: 26, VALID_SCORE: 0.049359415328539005\n"
     ]
    },
    {
     "name": "stderr",
     "output_type": "stream",
     "text": [
      "Train-Epoch: 27, Loss: 0.37244053950363937:  96%|█████████▌| 110/115 [00:28<00:01,  3.90it/s]\n",
      "Valid-Epoch: 27, Loss: 0.5588925406842938: 100%|██████████| 184/184 [00:07<00:00, 23.26it/s] \n"
     ]
    },
    {
     "name": "stdout",
     "output_type": "stream",
     "text": [
      "####################### valid-experiments: TS_86_3 #######################\n",
      "####################### valid-experiments: TS_6_6 #######################\n",
      "EPOCH: 27, VALID_SCORE: 0.15773747785907782\n"
     ]
    },
    {
     "name": "stderr",
     "output_type": "stream",
     "text": [
      "Train-Epoch: 28, Loss: 0.43635680282657796:  96%|█████████▌| 110/115 [00:27<00:01,  4.05it/s]\n",
      "Valid-Epoch: 28, Loss: 0.47666843874258513: 100%|██████████| 184/184 [00:07<00:00, 23.66it/s]\n"
     ]
    },
    {
     "name": "stdout",
     "output_type": "stream",
     "text": [
      "####################### valid-experiments: TS_86_3 #######################\n",
      "####################### valid-experiments: TS_6_6 #######################\n",
      "EPOCH: 28, VALID_SCORE: 0.09319108340237361\n"
     ]
    },
    {
     "name": "stderr",
     "output_type": "stream",
     "text": [
      "Train-Epoch: 29, Loss: 0.3866515165702863:  96%|█████████▌| 110/115 [00:26<00:01,  4.08it/s] \n",
      "Valid-Epoch: 29, Loss: 0.5213235866521364: 100%|██████████| 184/184 [00:07<00:00, 23.96it/s] \n"
     ]
    },
    {
     "name": "stdout",
     "output_type": "stream",
     "text": [
      "####################### valid-experiments: TS_86_3 #######################\n",
      "####################### valid-experiments: TS_6_6 #######################\n",
      "EPOCH: 29, VALID_SCORE: 0.06579379023983989\n"
     ]
    },
    {
     "name": "stderr",
     "output_type": "stream",
     "text": [
      "Train-Epoch: 30, Loss: 0.3233622712167827:  96%|█████████▌| 110/115 [00:27<00:01,  4.01it/s] \n",
      "Valid-Epoch: 30, Loss: 0.5930076469970949: 100%|██████████| 184/184 [00:07<00:00, 23.47it/s] \n"
     ]
    },
    {
     "name": "stdout",
     "output_type": "stream",
     "text": [
      "####################### valid-experiments: TS_86_3 #######################\n",
      "####################### valid-experiments: TS_6_6 #######################\n",
      "EPOCH: 30, VALID_SCORE: 0.06392171585089672\n"
     ]
    },
    {
     "name": "stderr",
     "output_type": "stream",
     "text": [
      "Train-Epoch: 31, Loss: 0.3853711565787142:  96%|█████████▌| 110/115 [00:26<00:01,  4.09it/s] \n",
      "Valid-Epoch: 31, Loss: 0.6982773800340035: 100%|██████████| 184/184 [00:07<00:00, 23.42it/s]\n"
     ]
    },
    {
     "name": "stdout",
     "output_type": "stream",
     "text": [
      "####################### valid-experiments: TS_86_3 #######################\n",
      "####################### valid-experiments: TS_6_6 #######################\n",
      "EPOCH: 31, VALID_SCORE: 0.06685624112030637\n"
     ]
    },
    {
     "name": "stderr",
     "output_type": "stream",
     "text": [
      "Train-Epoch: 32, Loss: 0.3951984343880957:  96%|█████████▌| 110/115 [00:26<00:01,  4.14it/s] \n",
      "Valid-Epoch: 32, Loss: 0.6674362791135259: 100%|██████████| 184/184 [00:07<00:00, 24.33it/s]\n"
     ]
    },
    {
     "name": "stdout",
     "output_type": "stream",
     "text": [
      "####################### valid-experiments: TS_86_3 #######################\n",
      "####################### valid-experiments: TS_6_6 #######################\n",
      "EPOCH: 32, VALID_SCORE: 0.04854224394443138\n"
     ]
    },
    {
     "name": "stderr",
     "output_type": "stream",
     "text": [
      "Train-Epoch: 33, Loss: 0.3986846402964809:  96%|█████████▌| 110/115 [00:27<00:01,  4.01it/s] \n",
      "Valid-Epoch: 33, Loss: 0.5843246156228301: 100%|██████████| 184/184 [00:07<00:00, 23.73it/s] \n"
     ]
    },
    {
     "name": "stdout",
     "output_type": "stream",
     "text": [
      "####################### valid-experiments: TS_86_3 #######################\n",
      "####################### valid-experiments: TS_6_6 #######################\n",
      "EPOCH: 33, VALID_SCORE: 0.040377971151958514\n"
     ]
    },
    {
     "name": "stderr",
     "output_type": "stream",
     "text": [
      "Train-Epoch: 34, Loss: 0.30886897749521514:  96%|█████████▌| 110/115 [00:27<00:01,  4.00it/s]\n",
      "Valid-Epoch: 34, Loss: 0.5877711794531458: 100%|██████████| 184/184 [00:07<00:00, 24.36it/s] \n"
     ]
    },
    {
     "name": "stdout",
     "output_type": "stream",
     "text": [
      "####################### valid-experiments: TS_86_3 #######################\n",
      "####################### valid-experiments: TS_6_6 #######################\n",
      "EPOCH: 34, VALID_SCORE: 0.06227705767354018\n"
     ]
    },
    {
     "name": "stderr",
     "output_type": "stream",
     "text": [
      "Train-Epoch: 35, Loss: 0.356370254538276:  96%|█████████▌| 110/115 [00:26<00:01,  4.08it/s]  \n",
      "Valid-Epoch: 35, Loss: 0.6914696697064716: 100%|██████████| 184/184 [00:07<00:00, 23.50it/s]\n"
     ]
    },
    {
     "name": "stdout",
     "output_type": "stream",
     "text": [
      "####################### valid-experiments: TS_86_3 #######################\n",
      "####################### valid-experiments: TS_6_6 #######################\n",
      "EPOCH: 35, VALID_SCORE: 0.059717890789517544\n"
     ]
    },
    {
     "name": "stderr",
     "output_type": "stream",
     "text": [
      "Train-Epoch: 36, Loss: 0.3676246639679779:  96%|█████████▌| 110/115 [00:29<00:01,  3.76it/s] \n",
      "Valid-Epoch: 36, Loss: 0.7022899676458505: 100%|██████████| 184/184 [00:08<00:00, 22.45it/s]\n"
     ]
    },
    {
     "name": "stdout",
     "output_type": "stream",
     "text": [
      "####################### valid-experiments: TS_86_3 #######################\n",
      "####################### valid-experiments: TS_6_6 #######################\n",
      "EPOCH: 36, VALID_SCORE: 0.04750632946713329\n"
     ]
    },
    {
     "name": "stderr",
     "output_type": "stream",
     "text": [
      "Train-Epoch: 37, Loss: 0.36950261437080123:  96%|█████████▌| 110/115 [00:27<00:01,  3.95it/s]\n",
      "Valid-Epoch: 37, Loss: 0.6701779870782048: 100%|██████████| 184/184 [00:07<00:00, 24.11it/s]\n"
     ]
    },
    {
     "name": "stdout",
     "output_type": "stream",
     "text": [
      "####################### valid-experiments: TS_86_3 #######################\n",
      "####################### valid-experiments: TS_6_6 #######################\n",
      "EPOCH: 37, VALID_SCORE: 0.039640742762519554\n"
     ]
    },
    {
     "name": "stderr",
     "output_type": "stream",
     "text": [
      "Train-Epoch: 38, Loss: 0.3753835514865138:  96%|█████████▌| 110/115 [00:27<00:01,  3.94it/s] \n",
      "Valid-Epoch: 38, Loss: 0.6739404827366462: 100%|██████████| 184/184 [00:08<00:00, 22.79it/s]\n"
     ]
    },
    {
     "name": "stdout",
     "output_type": "stream",
     "text": [
      "####################### valid-experiments: TS_86_3 #######################\n",
      "####################### valid-experiments: TS_6_6 #######################\n",
      "EPOCH: 38, VALID_SCORE: 0.04435685891982549\n"
     ]
    },
    {
     "name": "stderr",
     "output_type": "stream",
     "text": [
      "Train-Epoch: 39, Loss: 0.3841378425332633:  96%|█████████▌| 110/115 [00:28<00:01,  3.93it/s] \n",
      "Valid-Epoch: 39, Loss: 0.6517644903986998: 100%|██████████| 184/184 [00:08<00:00, 22.93it/s]\n"
     ]
    },
    {
     "name": "stdout",
     "output_type": "stream",
     "text": [
      "####################### valid-experiments: TS_86_3 #######################\n",
      "####################### valid-experiments: TS_6_6 #######################\n",
      "EPOCH: 39, VALID_SCORE: 0.0505927662793459\n"
     ]
    },
    {
     "name": "stderr",
     "output_type": "stream",
     "text": [
      "Train-Epoch: 40, Loss: 0.34452874558893115:  96%|█████████▌| 110/115 [00:27<00:01,  4.00it/s]\n",
      "Valid-Epoch: 40, Loss: 0.7447731233677706: 100%|██████████| 184/184 [00:07<00:00, 23.87it/s]\n"
     ]
    },
    {
     "name": "stdout",
     "output_type": "stream",
     "text": [
      "####################### valid-experiments: TS_86_3 #######################\n",
      "####################### valid-experiments: TS_6_6 #######################\n",
      "EPOCH: 40, VALID_SCORE: 0.04331974198033796\n"
     ]
    },
    {
     "name": "stderr",
     "output_type": "stream",
     "text": [
      "Train-Epoch: 41, Loss: 0.3377614271234382:  96%|█████████▌| 110/115 [00:28<00:01,  3.91it/s] \n",
      "Valid-Epoch: 41, Loss: 0.6612435091469113: 100%|██████████| 184/184 [00:08<00:00, 22.06it/s]\n"
     ]
    },
    {
     "name": "stdout",
     "output_type": "stream",
     "text": [
      "####################### valid-experiments: TS_86_3 #######################\n",
      "####################### valid-experiments: TS_6_6 #######################\n",
      "EPOCH: 41, VALID_SCORE: 0.04306413073897359\n"
     ]
    },
    {
     "name": "stderr",
     "output_type": "stream",
     "text": [
      "Train-Epoch: 42, Loss: 0.35716237486763436:  96%|█████████▌| 110/115 [00:29<00:01,  3.78it/s]\n",
      "Valid-Epoch: 42, Loss: 0.7698679631019173: 100%|██████████| 184/184 [00:08<00:00, 22.80it/s]\n"
     ]
    },
    {
     "name": "stdout",
     "output_type": "stream",
     "text": [
      "####################### valid-experiments: TS_86_3 #######################\n",
      "####################### valid-experiments: TS_6_6 #######################\n",
      "EPOCH: 42, VALID_SCORE: 0.05462170869481155\n"
     ]
    },
    {
     "name": "stderr",
     "output_type": "stream",
     "text": [
      "Train-Epoch: 43, Loss: 0.3474556842310862:  96%|█████████▌| 110/115 [00:28<00:01,  3.92it/s] \n",
      "Valid-Epoch: 43, Loss: 0.6720396302610069: 100%|██████████| 184/184 [00:07<00:00, 24.15it/s]\n"
     ]
    },
    {
     "name": "stdout",
     "output_type": "stream",
     "text": [
      "####################### valid-experiments: TS_86_3 #######################\n",
      "####################### valid-experiments: TS_6_6 #######################\n",
      "EPOCH: 43, VALID_SCORE: 0.03681262823665615\n"
     ]
    },
    {
     "name": "stderr",
     "output_type": "stream",
     "text": [
      "Train-Epoch: 44, Loss: 0.3590268503535878:  96%|█████████▌| 110/115 [00:26<00:01,  4.15it/s] \n",
      "Valid-Epoch: 44, Loss: 0.7354208984938653: 100%|██████████| 184/184 [00:07<00:00, 24.02it/s]\n"
     ]
    },
    {
     "name": "stdout",
     "output_type": "stream",
     "text": [
      "####################### valid-experiments: TS_86_3 #######################\n",
      "####################### valid-experiments: TS_6_6 #######################\n",
      "EPOCH: 44, VALID_SCORE: 0.04494077210255793\n"
     ]
    },
    {
     "name": "stderr",
     "output_type": "stream",
     "text": [
      "Train-Epoch: 45, Loss: 0.3634497509083965:  96%|█████████▌| 110/115 [00:28<00:01,  3.83it/s] \n",
      "Valid-Epoch: 45, Loss: 0.7938211909444679: 100%|██████████| 184/184 [00:07<00:00, 23.76it/s]\n"
     ]
    },
    {
     "name": "stdout",
     "output_type": "stream",
     "text": [
      "####################### valid-experiments: TS_86_3 #######################\n",
      "####################### valid-experiments: TS_6_6 #######################\n",
      "EPOCH: 45, VALID_SCORE: 0.04704561701252838\n"
     ]
    },
    {
     "name": "stderr",
     "output_type": "stream",
     "text": [
      "Train-Epoch: 46, Loss: 0.27823604277589103:  96%|█████████▌| 110/115 [00:27<00:01,  4.07it/s]\n",
      "Valid-Epoch: 46, Loss: 0.786294731301377: 100%|██████████| 184/184 [00:07<00:00, 23.13it/s] \n"
     ]
    },
    {
     "name": "stdout",
     "output_type": "stream",
     "text": [
      "####################### valid-experiments: TS_86_3 #######################\n",
      "####################### valid-experiments: TS_6_6 #######################\n",
      "EPOCH: 46, VALID_SCORE: 0.056103911748250496\n"
     ]
    },
    {
     "name": "stderr",
     "output_type": "stream",
     "text": [
      "Train-Epoch: 47, Loss: 0.27124411646615376:  96%|█████████▌| 110/115 [00:27<00:01,  4.05it/s]\n",
      "Valid-Epoch: 47, Loss: 0.8125962417916921: 100%|██████████| 184/184 [00:07<00:00, 24.53it/s]\n"
     ]
    },
    {
     "name": "stdout",
     "output_type": "stream",
     "text": [
      "####################### valid-experiments: TS_86_3 #######################\n",
      "####################### valid-experiments: TS_6_6 #######################\n",
      "EPOCH: 47, VALID_SCORE: 0.040322719714907446\n"
     ]
    },
    {
     "name": "stderr",
     "output_type": "stream",
     "text": [
      "Train-Epoch: 48, Loss: 0.3405431781302799:  96%|█████████▌| 110/115 [00:24<00:01,  4.56it/s] \n",
      "Valid-Epoch: 48, Loss: 0.9062581674762719: 100%|██████████| 184/184 [00:06<00:00, 26.92it/s] \n"
     ]
    },
    {
     "name": "stdout",
     "output_type": "stream",
     "text": [
      "####################### valid-experiments: TS_86_3 #######################\n",
      "####################### valid-experiments: TS_6_6 #######################\n",
      "EPOCH: 48, VALID_SCORE: 0.04933046710930421\n"
     ]
    },
    {
     "name": "stderr",
     "output_type": "stream",
     "text": [
      "Train-Epoch: 49, Loss: 0.3068586023355072:  96%|█████████▌| 110/115 [00:24<00:01,  4.54it/s] \n",
      "Valid-Epoch: 49, Loss: 0.8473820663259729: 100%|██████████| 184/184 [00:07<00:00, 25.70it/s]\n"
     ]
    },
    {
     "name": "stdout",
     "output_type": "stream",
     "text": [
      "####################### valid-experiments: TS_86_3 #######################\n",
      "####################### valid-experiments: TS_6_6 #######################\n",
      "EPOCH: 49, VALID_SCORE: 0.050060951279676115\n"
     ]
    },
    {
     "name": "stderr",
     "output_type": "stream",
     "text": [
      "Train-Epoch: 50, Loss: 0.3037346697666428:  96%|█████████▌| 110/115 [00:23<00:01,  4.69it/s] \n",
      "Valid-Epoch: 50, Loss: 0.7616666423020196: 100%|██████████| 184/184 [00:07<00:00, 24.33it/s]\n"
     ]
    },
    {
     "name": "stdout",
     "output_type": "stream",
     "text": [
      "####################### valid-experiments: TS_86_3 #######################\n",
      "####################### valid-experiments: TS_6_6 #######################\n",
      "EPOCH: 50, VALID_SCORE: 0.031771437720718956\n"
     ]
    },
    {
     "name": "stderr",
     "output_type": "stream",
     "text": [
      "Train-Epoch: 51, Loss: 0.25911063494330105:  96%|█████████▌| 110/115 [00:26<00:01,  4.20it/s]\n",
      "Valid-Epoch: 51, Loss: 0.7371173401504917: 100%|██████████| 184/184 [00:06<00:00, 26.40it/s]\n"
     ]
    },
    {
     "name": "stdout",
     "output_type": "stream",
     "text": [
      "####################### valid-experiments: TS_86_3 #######################\n",
      "####################### valid-experiments: TS_6_6 #######################\n",
      "EPOCH: 51, VALID_SCORE: 0.040628625182989805\n"
     ]
    },
    {
     "name": "stderr",
     "output_type": "stream",
     "text": [
      "Train-Epoch: 52, Loss: 0.3181914019313726:  96%|█████████▌| 110/115 [00:26<00:01,  4.18it/s] \n",
      "Valid-Epoch: 52, Loss: 0.7221840880102599: 100%|██████████| 184/184 [00:07<00:00, 25.84it/s]\n"
     ]
    },
    {
     "name": "stdout",
     "output_type": "stream",
     "text": [
      "####################### valid-experiments: TS_86_3 #######################\n",
      "####################### valid-experiments: TS_6_6 #######################\n",
      "EPOCH: 52, VALID_SCORE: 0.04515698074717531\n"
     ]
    },
    {
     "name": "stderr",
     "output_type": "stream",
     "text": [
      "Train-Epoch: 53, Loss: 0.27345082597299053:  96%|█████████▌| 110/115 [00:26<00:01,  4.19it/s]\n",
      "Valid-Epoch: 53, Loss: 0.7967331387512588: 100%|██████████| 184/184 [00:07<00:00, 23.56it/s]\n"
     ]
    },
    {
     "name": "stdout",
     "output_type": "stream",
     "text": [
      "####################### valid-experiments: TS_86_3 #######################\n",
      "####################### valid-experiments: TS_6_6 #######################\n",
      "EPOCH: 53, VALID_SCORE: 0.054037767219097955\n"
     ]
    },
    {
     "name": "stderr",
     "output_type": "stream",
     "text": [
      "Train-Epoch: 54, Loss: 0.3633165245706385:  96%|█████████▌| 110/115 [00:28<00:01,  3.92it/s] \n",
      "Valid-Epoch: 54, Loss: 0.9758463082025233: 100%|██████████| 184/184 [00:07<00:00, 24.05it/s] \n"
     ]
    },
    {
     "name": "stdout",
     "output_type": "stream",
     "text": [
      "####################### valid-experiments: TS_86_3 #######################\n",
      "####################### valid-experiments: TS_6_6 #######################\n",
      "EPOCH: 54, VALID_SCORE: 0.04888936734681548\n"
     ]
    },
    {
     "name": "stderr",
     "output_type": "stream",
     "text": [
      "Train-Epoch: 55, Loss: 0.3239503532309424:  96%|█████████▌| 110/115 [00:28<00:01,  3.89it/s] \n",
      "Valid-Epoch: 55, Loss: 0.7604990970753336: 100%|██████████| 184/184 [00:07<00:00, 24.27it/s]\n"
     ]
    },
    {
     "name": "stdout",
     "output_type": "stream",
     "text": [
      "####################### valid-experiments: TS_86_3 #######################\n",
      "####################### valid-experiments: TS_6_6 #######################\n",
      "EPOCH: 55, VALID_SCORE: 0.039659141744009155\n"
     ]
    },
    {
     "name": "stderr",
     "output_type": "stream",
     "text": [
      "Train-Epoch: 56, Loss: 0.2897545664147897:  96%|█████████▌| 110/115 [00:28<00:01,  3.81it/s] \n",
      "Valid-Epoch: 56, Loss: 0.8894268558892098: 100%|██████████| 184/184 [00:08<00:00, 22.32it/s]\n"
     ]
    },
    {
     "name": "stdout",
     "output_type": "stream",
     "text": [
      "####################### valid-experiments: TS_86_3 #######################\n",
      "####################### valid-experiments: TS_6_6 #######################\n",
      "EPOCH: 56, VALID_SCORE: 0.049495034143435465\n"
     ]
    },
    {
     "name": "stderr",
     "output_type": "stream",
     "text": [
      "Train-Epoch: 57, Loss: 0.29713005189868535:  96%|█████████▌| 110/115 [00:28<00:01,  3.80it/s]\n",
      "Valid-Epoch: 57, Loss: 0.9139997110368036: 100%|██████████| 184/184 [00:07<00:00, 23.01it/s]\n"
     ]
    },
    {
     "name": "stdout",
     "output_type": "stream",
     "text": [
      "####################### valid-experiments: TS_86_3 #######################\n",
      "####################### valid-experiments: TS_6_6 #######################\n",
      "EPOCH: 57, VALID_SCORE: 0.05719730294675253\n"
     ]
    },
    {
     "name": "stderr",
     "output_type": "stream",
     "text": [
      "Train-Epoch: 58, Loss: 0.30579544800249014:  96%|█████████▌| 110/115 [00:28<00:01,  3.91it/s]\n",
      "Valid-Epoch: 58, Loss: 0.7123763477024825: 100%|██████████| 184/184 [00:07<00:00, 24.06it/s]\n"
     ]
    },
    {
     "name": "stdout",
     "output_type": "stream",
     "text": [
      "####################### valid-experiments: TS_86_3 #######################\n",
      "####################### valid-experiments: TS_6_6 #######################\n",
      "EPOCH: 58, VALID_SCORE: 0.040060365521833605\n"
     ]
    },
    {
     "name": "stderr",
     "output_type": "stream",
     "text": [
      "Train-Epoch: 59, Loss: 0.30022500611164354:  96%|█████████▌| 110/115 [00:28<00:01,  3.90it/s]\n",
      "Valid-Epoch: 59, Loss: 0.8046080752316377: 100%|██████████| 184/184 [00:07<00:00, 23.36it/s]\n"
     ]
    },
    {
     "name": "stdout",
     "output_type": "stream",
     "text": [
      "####################### valid-experiments: TS_86_3 #######################\n",
      "####################### valid-experiments: TS_6_6 #######################\n",
      "EPOCH: 59, VALID_SCORE: 0.04428869847610514\n"
     ]
    },
    {
     "name": "stderr",
     "output_type": "stream",
     "text": [
      "Train-Epoch: 60, Loss: 0.26326151408932424:  96%|█████████▌| 110/115 [00:28<00:01,  3.85it/s]\n",
      "Valid-Epoch: 60, Loss: 0.8247573807653363: 100%|██████████| 184/184 [00:08<00:00, 22.74it/s]\n"
     ]
    },
    {
     "name": "stdout",
     "output_type": "stream",
     "text": [
      "####################### valid-experiments: TS_86_3 #######################\n",
      "####################### valid-experiments: TS_6_6 #######################\n",
      "EPOCH: 60, VALID_SCORE: 0.04844565412776553\n"
     ]
    },
    {
     "name": "stderr",
     "output_type": "stream",
     "text": [
      "Train-Epoch: 61, Loss: 0.2755852070721713:  96%|█████████▌| 110/115 [00:28<00:01,  3.84it/s] \n",
      "Valid-Epoch: 61, Loss: 0.8319155098996935: 100%|██████████| 184/184 [00:07<00:00, 23.52it/s]\n"
     ]
    },
    {
     "name": "stdout",
     "output_type": "stream",
     "text": [
      "####################### valid-experiments: TS_86_3 #######################\n",
      "####################### valid-experiments: TS_6_6 #######################\n",
      "EPOCH: 61, VALID_SCORE: 0.05228551720167285\n"
     ]
    },
    {
     "name": "stderr",
     "output_type": "stream",
     "text": [
      "Train-Epoch: 62, Loss: 0.25060843567956576:  96%|█████████▌| 110/115 [00:27<00:01,  3.95it/s]\n",
      "Valid-Epoch: 62, Loss: 0.871393330544537: 100%|██████████| 184/184 [00:07<00:00, 23.26it/s] \n"
     ]
    },
    {
     "name": "stdout",
     "output_type": "stream",
     "text": [
      "####################### valid-experiments: TS_86_3 #######################\n",
      "####################### valid-experiments: TS_6_6 #######################\n",
      "EPOCH: 62, VALID_SCORE: 0.05717268575732114\n"
     ]
    },
    {
     "name": "stderr",
     "output_type": "stream",
     "text": [
      "Train-Epoch: 63, Loss: 0.2712643958289515:  96%|█████████▌| 110/115 [00:29<00:01,  3.79it/s] \n",
      "Valid-Epoch: 63, Loss: 0.8503764356744637: 100%|██████████| 184/184 [00:08<00:00, 22.91it/s] \n"
     ]
    },
    {
     "name": "stdout",
     "output_type": "stream",
     "text": [
      "####################### valid-experiments: TS_86_3 #######################\n",
      "####################### valid-experiments: TS_6_6 #######################\n",
      "EPOCH: 63, VALID_SCORE: 0.05702998759184084\n"
     ]
    },
    {
     "name": "stderr",
     "output_type": "stream",
     "text": [
      "Train-Epoch: 64, Loss: 0.23076975680887699:  96%|█████████▌| 110/115 [00:27<00:01,  3.95it/s]\n",
      "Valid-Epoch: 64, Loss: 0.7535766654283457: 100%|██████████| 184/184 [00:07<00:00, 24.43it/s] \n"
     ]
    },
    {
     "name": "stdout",
     "output_type": "stream",
     "text": [
      "####################### valid-experiments: TS_86_3 #######################\n",
      "####################### valid-experiments: TS_6_6 #######################\n",
      "EPOCH: 64, VALID_SCORE: 0.03852688178022459\n"
     ]
    },
    {
     "name": "stderr",
     "output_type": "stream",
     "text": [
      "Train-Epoch: 65, Loss: 0.2630736812610518:  96%|█████████▌| 110/115 [00:27<00:01,  4.00it/s] \n",
      "Valid-Epoch: 65, Loss: 0.8888739855686688: 100%|██████████| 184/184 [00:08<00:00, 22.83it/s]\n"
     ]
    },
    {
     "name": "stdout",
     "output_type": "stream",
     "text": [
      "####################### valid-experiments: TS_86_3 #######################\n",
      "####################### valid-experiments: TS_6_6 #######################\n",
      "EPOCH: 65, VALID_SCORE: 0.04354586301635649\n"
     ]
    },
    {
     "name": "stderr",
     "output_type": "stream",
     "text": [
      "Train-Epoch: 66, Loss: 0.2759451010010459:  96%|█████████▌| 110/115 [00:28<00:01,  3.92it/s] \n",
      "Valid-Epoch: 66, Loss: 0.8765477557266739: 100%|██████████| 184/184 [00:07<00:00, 23.11it/s]\n"
     ]
    },
    {
     "name": "stdout",
     "output_type": "stream",
     "text": [
      "####################### valid-experiments: TS_86_3 #######################\n",
      "####################### valid-experiments: TS_6_6 #######################\n",
      "EPOCH: 66, VALID_SCORE: 0.045069804667760144\n"
     ]
    },
    {
     "name": "stderr",
     "output_type": "stream",
     "text": [
      "Train-Epoch: 67, Loss: 0.2252468512139537:  96%|█████████▌| 110/115 [00:28<00:01,  3.88it/s] \n",
      "Valid-Epoch: 67, Loss: 0.8920724464696832: 100%|██████████| 184/184 [00:07<00:00, 23.71it/s]\n"
     ]
    },
    {
     "name": "stdout",
     "output_type": "stream",
     "text": [
      "####################### valid-experiments: TS_86_3 #######################\n",
      "####################### valid-experiments: TS_6_6 #######################\n",
      "EPOCH: 67, VALID_SCORE: 0.05917306187559264\n"
     ]
    },
    {
     "name": "stderr",
     "output_type": "stream",
     "text": [
      "Train-Epoch: 68, Loss: 0.23362716290761124:  96%|█████████▌| 110/115 [00:27<00:01,  3.98it/s]\n",
      "Valid-Epoch: 68, Loss: 0.821625300095943: 100%|██████████| 184/184 [00:07<00:00, 23.00it/s] \n"
     ]
    },
    {
     "name": "stdout",
     "output_type": "stream",
     "text": [
      "####################### valid-experiments: TS_86_3 #######################\n",
      "####################### valid-experiments: TS_6_6 #######################\n",
      "EPOCH: 68, VALID_SCORE: 0.0543245004754571\n"
     ]
    },
    {
     "name": "stderr",
     "output_type": "stream",
     "text": [
      "Train-Epoch: 69, Loss: 0.2429866831072352:  96%|█████████▌| 110/115 [00:28<00:01,  3.87it/s] \n",
      "Valid-Epoch: 69, Loss: 0.9457109438473076: 100%|██████████| 184/184 [00:07<00:00, 24.02it/s]\n"
     ]
    },
    {
     "name": "stdout",
     "output_type": "stream",
     "text": [
      "####################### valid-experiments: TS_86_3 #######################\n",
      "####################### valid-experiments: TS_6_6 #######################\n",
      "EPOCH: 69, VALID_SCORE: 0.06089703749304222\n"
     ]
    },
    {
     "name": "stderr",
     "output_type": "stream",
     "text": [
      "Train-Epoch: 70, Loss: 0.2507582221518863:  96%|█████████▌| 110/115 [00:27<00:01,  4.02it/s] \n",
      "Valid-Epoch: 70, Loss: 0.9267914674254945: 100%|██████████| 184/184 [00:07<00:00, 23.23it/s]\n"
     ]
    },
    {
     "name": "stdout",
     "output_type": "stream",
     "text": [
      "####################### valid-experiments: TS_86_3 #######################\n",
      "####################### valid-experiments: TS_6_6 #######################\n",
      "EPOCH: 70, VALID_SCORE: 0.061136242393861756\n"
     ]
    },
    {
     "name": "stderr",
     "output_type": "stream",
     "text": [
      "Train-Epoch: 71, Loss: 0.24325686120851472:  96%|█████████▌| 110/115 [00:28<00:01,  3.87it/s]\n",
      "Valid-Epoch: 71, Loss: 0.8109577362698949: 100%|██████████| 184/184 [00:07<00:00, 23.20it/s]\n"
     ]
    },
    {
     "name": "stdout",
     "output_type": "stream",
     "text": [
      "####################### valid-experiments: TS_86_3 #######################\n",
      "####################### valid-experiments: TS_6_6 #######################\n",
      "EPOCH: 71, VALID_SCORE: 0.03254471172859747\n"
     ]
    },
    {
     "name": "stderr",
     "output_type": "stream",
     "text": [
      "Train-Epoch: 72, Loss: 0.2509236729619178:  96%|█████████▌| 110/115 [00:27<00:01,  3.95it/s] \n",
      "Valid-Epoch: 72, Loss: 0.9007724240148925: 100%|██████████| 184/184 [00:07<00:00, 24.41it/s] \n"
     ]
    },
    {
     "name": "stdout",
     "output_type": "stream",
     "text": [
      "####################### valid-experiments: TS_86_3 #######################\n",
      "####################### valid-experiments: TS_6_6 #######################\n",
      "EPOCH: 72, VALID_SCORE: 0.05156722242136638\n"
     ]
    },
    {
     "name": "stderr",
     "output_type": "stream",
     "text": [
      "Train-Epoch: 73, Loss: 0.22151295837353577:  96%|█████████▌| 110/115 [00:28<00:01,  3.84it/s]\n",
      "Valid-Epoch: 73, Loss: 0.8335004562648701: 100%|██████████| 184/184 [00:08<00:00, 22.53it/s]\n"
     ]
    },
    {
     "name": "stdout",
     "output_type": "stream",
     "text": [
      "####################### valid-experiments: TS_86_3 #######################\n",
      "####################### valid-experiments: TS_6_6 #######################\n",
      "EPOCH: 73, VALID_SCORE: 0.03933694372688416\n"
     ]
    },
    {
     "name": "stderr",
     "output_type": "stream",
     "text": [
      "Train-Epoch: 74, Loss: 0.21455657346682114:  96%|█████████▌| 110/115 [00:27<00:01,  3.93it/s]\n",
      "Valid-Epoch: 74, Loss: 0.7263699094840811: 100%|██████████| 184/184 [00:07<00:00, 24.28it/s]\n"
     ]
    },
    {
     "name": "stdout",
     "output_type": "stream",
     "text": [
      "####################### valid-experiments: TS_86_3 #######################\n",
      "####################### valid-experiments: TS_6_6 #######################\n",
      "EPOCH: 74, VALID_SCORE: 0.03741768850059122\n"
     ]
    },
    {
     "name": "stderr",
     "output_type": "stream",
     "text": [
      "Train-Epoch: 75, Loss: 0.23245081539181145:  96%|█████████▌| 110/115 [00:27<00:01,  3.96it/s]\n",
      "Valid-Epoch: 75, Loss: 1.0161046146518935: 100%|██████████| 184/184 [00:08<00:00, 22.79it/s] \n"
     ]
    },
    {
     "name": "stdout",
     "output_type": "stream",
     "text": [
      "####################### valid-experiments: TS_86_3 #######################\n",
      "####################### valid-experiments: TS_6_6 #######################\n",
      "EPOCH: 75, VALID_SCORE: 0.057092315590899716\n"
     ]
    },
    {
     "name": "stderr",
     "output_type": "stream",
     "text": [
      "Train-Epoch: 76, Loss: 0.2419595126739957:  96%|█████████▌| 110/115 [00:28<00:01,  3.85it/s] \n",
      "Valid-Epoch: 76, Loss: 1.0161485761624214: 100%|██████████| 184/184 [00:07<00:00, 23.02it/s]\n"
     ]
    },
    {
     "name": "stdout",
     "output_type": "stream",
     "text": [
      "####################### valid-experiments: TS_86_3 #######################\n",
      "####################### valid-experiments: TS_6_6 #######################\n",
      "EPOCH: 76, VALID_SCORE: 0.05668268108250368\n"
     ]
    },
    {
     "name": "stderr",
     "output_type": "stream",
     "text": [
      "Train-Epoch: 77, Loss: 0.22100587854669854:  96%|█████████▌| 110/115 [00:28<00:01,  3.92it/s]\n",
      "Valid-Epoch: 77, Loss: 1.040970641612227: 100%|██████████| 184/184 [00:07<00:00, 23.74it/s]  \n"
     ]
    },
    {
     "name": "stdout",
     "output_type": "stream",
     "text": [
      "####################### valid-experiments: TS_86_3 #######################\n",
      "####################### valid-experiments: TS_6_6 #######################\n",
      "EPOCH: 77, VALID_SCORE: 0.05263574169494692\n"
     ]
    },
    {
     "name": "stderr",
     "output_type": "stream",
     "text": [
      "Train-Epoch: 78, Loss: 0.21344444270838392:  96%|█████████▌| 110/115 [00:29<00:01,  3.77it/s]\n",
      "Valid-Epoch: 78, Loss: 1.0361498450017634: 100%|██████████| 184/184 [00:07<00:00, 23.53it/s] \n"
     ]
    },
    {
     "name": "stdout",
     "output_type": "stream",
     "text": [
      "####################### valid-experiments: TS_86_3 #######################\n",
      "####################### valid-experiments: TS_6_6 #######################\n",
      "EPOCH: 78, VALID_SCORE: 0.052346483012147754\n"
     ]
    },
    {
     "name": "stderr",
     "output_type": "stream",
     "text": [
      "Train-Epoch: 79, Loss: 0.2002025015313517:  96%|█████████▌| 110/115 [00:27<00:01,  3.93it/s] \n",
      "Valid-Epoch: 79, Loss: 1.0220236186122866: 100%|██████████| 184/184 [00:07<00:00, 24.04it/s] \n"
     ]
    },
    {
     "name": "stdout",
     "output_type": "stream",
     "text": [
      "####################### valid-experiments: TS_86_3 #######################\n",
      "####################### valid-experiments: TS_6_6 #######################\n",
      "EPOCH: 79, VALID_SCORE: 0.050436031570529574\n"
     ]
    },
    {
     "name": "stderr",
     "output_type": "stream",
     "text": [
      "Train-Epoch: 80, Loss: 0.23806416006250816:  96%|█████████▌| 110/115 [00:27<00:01,  4.07it/s]\n",
      "Valid-Epoch: 80, Loss: 0.9537269743539029: 100%|██████████| 184/184 [00:07<00:00, 23.64it/s]\n"
     ]
    },
    {
     "name": "stdout",
     "output_type": "stream",
     "text": [
      "####################### valid-experiments: TS_86_3 #######################\n",
      "####################### valid-experiments: TS_6_6 #######################\n",
      "EPOCH: 80, VALID_SCORE: 0.04573563389905963\n"
     ]
    },
    {
     "name": "stderr",
     "output_type": "stream",
     "text": [
      "Train-Epoch: 81, Loss: 0.19153446416285905:  96%|█████████▌| 110/115 [00:29<00:01,  3.79it/s]\n",
      "Valid-Epoch: 81, Loss: 0.9843917946842418: 100%|██████████| 184/184 [00:07<00:00, 23.46it/s] \n"
     ]
    },
    {
     "name": "stdout",
     "output_type": "stream",
     "text": [
      "####################### valid-experiments: TS_86_3 #######################\n",
      "####################### valid-experiments: TS_6_6 #######################\n",
      "EPOCH: 81, VALID_SCORE: 0.05203021070439434\n"
     ]
    },
    {
     "name": "stderr",
     "output_type": "stream",
     "text": [
      "Train-Epoch: 82, Loss: 0.2401423746550625:  96%|█████████▌| 110/115 [00:28<00:01,  3.90it/s] \n",
      "Valid-Epoch: 82, Loss: 1.0179008466277637: 100%|██████████| 184/184 [00:08<00:00, 22.34it/s] \n"
     ]
    },
    {
     "name": "stdout",
     "output_type": "stream",
     "text": [
      "####################### valid-experiments: TS_86_3 #######################\n",
      "####################### valid-experiments: TS_6_6 #######################\n",
      "EPOCH: 82, VALID_SCORE: 0.042214273130744426\n"
     ]
    },
    {
     "name": "stderr",
     "output_type": "stream",
     "text": [
      "Train-Epoch: 83, Loss: 0.2002348116683689:  96%|█████████▌| 110/115 [00:27<00:01,  3.93it/s] \n",
      "Valid-Epoch: 83, Loss: 0.983399329658942: 100%|██████████| 184/184 [00:07<00:00, 24.47it/s]  \n"
     ]
    },
    {
     "name": "stdout",
     "output_type": "stream",
     "text": [
      "####################### valid-experiments: TS_86_3 #######################\n",
      "####################### valid-experiments: TS_6_6 #######################\n",
      "EPOCH: 83, VALID_SCORE: 0.0493643563925637\n"
     ]
    },
    {
     "name": "stderr",
     "output_type": "stream",
     "text": [
      "Train-Epoch: 84, Loss: 0.21428348533809186:  96%|█████████▌| 110/115 [00:27<00:01,  3.98it/s]\n",
      "Valid-Epoch: 84, Loss: 0.9749753019347301: 100%|██████████| 184/184 [00:07<00:00, 23.81it/s]\n"
     ]
    },
    {
     "name": "stdout",
     "output_type": "stream",
     "text": [
      "####################### valid-experiments: TS_86_3 #######################\n",
      "####################### valid-experiments: TS_6_6 #######################\n",
      "EPOCH: 84, VALID_SCORE: 0.05694266097928463\n"
     ]
    },
    {
     "name": "stderr",
     "output_type": "stream",
     "text": [
      "Train-Epoch: 85, Loss: 0.1744176560166207:  96%|█████████▌| 110/115 [00:28<00:01,  3.85it/s] \n",
      "Valid-Epoch: 85, Loss: 0.890629950285707: 100%|██████████| 184/184 [00:08<00:00, 22.72it/s]  \n"
     ]
    },
    {
     "name": "stdout",
     "output_type": "stream",
     "text": [
      "####################### valid-experiments: TS_86_3 #######################\n",
      "####################### valid-experiments: TS_6_6 #######################\n",
      "EPOCH: 85, VALID_SCORE: 0.06176890887618902\n"
     ]
    },
    {
     "name": "stderr",
     "output_type": "stream",
     "text": [
      "Train-Epoch: 86, Loss: 0.23305026231841608:  96%|█████████▌| 110/115 [00:28<00:01,  3.85it/s]\n",
      "Valid-Epoch: 86, Loss: 0.9887350200442597: 100%|██████████| 184/184 [00:07<00:00, 24.70it/s]\n"
     ]
    },
    {
     "name": "stdout",
     "output_type": "stream",
     "text": [
      "####################### valid-experiments: TS_86_3 #######################\n",
      "####################### valid-experiments: TS_6_6 #######################\n",
      "EPOCH: 86, VALID_SCORE: 0.05341528259621205\n"
     ]
    },
    {
     "name": "stderr",
     "output_type": "stream",
     "text": [
      "Train-Epoch: 87, Loss: 0.22848565344783392:  96%|█████████▌| 110/115 [00:29<00:01,  3.74it/s]\n",
      "Valid-Epoch: 87, Loss: 0.9161233968005272: 100%|██████████| 184/184 [00:07<00:00, 23.36it/s] \n"
     ]
    },
    {
     "name": "stdout",
     "output_type": "stream",
     "text": [
      "####################### valid-experiments: TS_86_3 #######################\n",
      "####################### valid-experiments: TS_6_6 #######################\n",
      "EPOCH: 87, VALID_SCORE: 0.05817609186317871\n"
     ]
    },
    {
     "name": "stderr",
     "output_type": "stream",
     "text": [
      "Train-Epoch: 88, Loss: 0.2006723137741739:  96%|█████████▌| 110/115 [00:28<00:01,  3.92it/s] \n",
      "Valid-Epoch: 88, Loss: 1.0528916516822115: 100%|██████████| 184/184 [00:07<00:00, 23.96it/s]\n"
     ]
    },
    {
     "name": "stdout",
     "output_type": "stream",
     "text": [
      "####################### valid-experiments: TS_86_3 #######################\n",
      "####################### valid-experiments: TS_6_6 #######################\n",
      "EPOCH: 88, VALID_SCORE: 0.054827181321821586\n"
     ]
    },
    {
     "name": "stderr",
     "output_type": "stream",
     "text": [
      "Train-Epoch: 89, Loss: 0.15858960067006675:  96%|█████████▌| 110/115 [00:27<00:01,  3.99it/s]\n",
      "Valid-Epoch: 89, Loss: 0.8970847834919012: 100%|██████████| 184/184 [00:07<00:00, 23.72it/s]\n"
     ]
    },
    {
     "name": "stdout",
     "output_type": "stream",
     "text": [
      "####################### valid-experiments: TS_86_3 #######################\n",
      "####################### valid-experiments: TS_6_6 #######################\n",
      "EPOCH: 89, VALID_SCORE: 0.04895633296633982\n"
     ]
    },
    {
     "name": "stderr",
     "output_type": "stream",
     "text": [
      "Train-Epoch: 90, Loss: 0.17038946133106947:  96%|█████████▌| 110/115 [00:27<00:01,  3.96it/s]\n",
      "Valid-Epoch: 90, Loss: 1.0374762230051642: 100%|██████████| 184/184 [00:07<00:00, 23.68it/s]\n"
     ]
    },
    {
     "name": "stdout",
     "output_type": "stream",
     "text": [
      "####################### valid-experiments: TS_86_3 #######################\n",
      "####################### valid-experiments: TS_6_6 #######################\n",
      "EPOCH: 90, VALID_SCORE: 0.05071876357118321\n"
     ]
    },
    {
     "name": "stderr",
     "output_type": "stream",
     "text": [
      "Train-Epoch: 91, Loss: 0.20843609127808702:  96%|█████████▌| 110/115 [00:28<00:01,  3.81it/s]\n",
      "Valid-Epoch: 91, Loss: 0.9662773171287921: 100%|██████████| 184/184 [00:07<00:00, 23.14it/s]\n"
     ]
    },
    {
     "name": "stdout",
     "output_type": "stream",
     "text": [
      "####################### valid-experiments: TS_86_3 #######################\n",
      "####################### valid-experiments: TS_6_6 #######################\n",
      "EPOCH: 91, VALID_SCORE: 0.054125461407024456\n"
     ]
    },
    {
     "name": "stderr",
     "output_type": "stream",
     "text": [
      "Train-Epoch: 92, Loss: 0.204499283737757:  96%|█████████▌| 110/115 [00:28<00:01,  3.90it/s]  \n",
      "Valid-Epoch: 92, Loss: 0.9550701635813786: 100%|██████████| 184/184 [00:07<00:00, 24.00it/s] \n"
     ]
    },
    {
     "name": "stdout",
     "output_type": "stream",
     "text": [
      "####################### valid-experiments: TS_86_3 #######################\n",
      "####################### valid-experiments: TS_6_6 #######################\n",
      "EPOCH: 92, VALID_SCORE: 0.06734094623520694\n"
     ]
    },
    {
     "name": "stderr",
     "output_type": "stream",
     "text": [
      "Train-Epoch: 93, Loss: 0.19045046600089832:  96%|█████████▌| 110/115 [00:28<00:01,  3.89it/s]\n",
      "Valid-Epoch: 93, Loss: 1.0472226401097546: 100%|██████████| 184/184 [00:07<00:00, 24.18it/s]\n"
     ]
    },
    {
     "name": "stdout",
     "output_type": "stream",
     "text": [
      "####################### valid-experiments: TS_86_3 #######################\n",
      "####################### valid-experiments: TS_6_6 #######################\n",
      "EPOCH: 93, VALID_SCORE: 0.0488176709796847\n"
     ]
    },
    {
     "name": "stderr",
     "output_type": "stream",
     "text": [
      "Train-Epoch: 94, Loss: 0.20384960047562015:  96%|█████████▌| 110/115 [00:28<00:01,  3.90it/s]\n",
      "Valid-Epoch: 94, Loss: 0.9111125238730734: 100%|██████████| 184/184 [00:07<00:00, 23.95it/s] \n"
     ]
    },
    {
     "name": "stdout",
     "output_type": "stream",
     "text": [
      "####################### valid-experiments: TS_86_3 #######################\n",
      "####################### valid-experiments: TS_6_6 #######################\n",
      "EPOCH: 94, VALID_SCORE: 0.054182278826911526\n"
     ]
    },
    {
     "name": "stderr",
     "output_type": "stream",
     "text": [
      "Train-Epoch: 95, Loss: 0.19671315401792527:  96%|█████████▌| 110/115 [00:27<00:01,  3.96it/s]\n",
      "Valid-Epoch: 95, Loss: 0.8444554750610184: 100%|██████████| 184/184 [00:07<00:00, 23.27it/s] \n"
     ]
    },
    {
     "name": "stdout",
     "output_type": "stream",
     "text": [
      "####################### valid-experiments: TS_86_3 #######################\n",
      "####################### valid-experiments: TS_6_6 #######################\n",
      "EPOCH: 95, VALID_SCORE: 0.03802033088232132\n"
     ]
    },
    {
     "name": "stderr",
     "output_type": "stream",
     "text": [
      "Train-Epoch: 96, Loss: 0.19563889046284286:  96%|█████████▌| 110/115 [00:28<00:01,  3.91it/s]\n",
      "Valid-Epoch: 96, Loss: 0.9998049669792755: 100%|██████████| 184/184 [00:07<00:00, 24.04it/s] \n"
     ]
    },
    {
     "name": "stdout",
     "output_type": "stream",
     "text": [
      "####################### valid-experiments: TS_86_3 #######################\n",
      "####################### valid-experiments: TS_6_6 #######################\n",
      "EPOCH: 96, VALID_SCORE: 0.04431079079092312\n"
     ]
    },
    {
     "name": "stderr",
     "output_type": "stream",
     "text": [
      "Train-Epoch: 97, Loss: 0.1863824111832814:  96%|█████████▌| 110/115 [00:27<00:01,  4.07it/s] \n",
      "Valid-Epoch: 97, Loss: 1.1246743475867729: 100%|██████████| 184/184 [00:07<00:00, 23.32it/s]\n"
     ]
    },
    {
     "name": "stdout",
     "output_type": "stream",
     "text": [
      "####################### valid-experiments: TS_86_3 #######################\n",
      "####################### valid-experiments: TS_6_6 #######################\n",
      "EPOCH: 97, VALID_SCORE: 0.0533457549720768\n"
     ]
    },
    {
     "name": "stderr",
     "output_type": "stream",
     "text": [
      "Train-Epoch: 98, Loss: 0.18232783199372618:  96%|█████████▌| 110/115 [00:28<00:01,  3.89it/s]\n",
      "Valid-Epoch: 98, Loss: 0.9819913103913321: 100%|██████████| 184/184 [00:07<00:00, 23.42it/s]\n"
     ]
    },
    {
     "name": "stdout",
     "output_type": "stream",
     "text": [
      "####################### valid-experiments: TS_86_3 #######################\n",
      "####################### valid-experiments: TS_6_6 #######################\n",
      "EPOCH: 98, VALID_SCORE: 0.05437020805673409\n"
     ]
    },
    {
     "name": "stderr",
     "output_type": "stream",
     "text": [
      "Train-Epoch: 99, Loss: 0.18472094500268046:  96%|█████████▌| 110/115 [00:28<00:01,  3.86it/s]\n",
      "Valid-Epoch: 99, Loss: 0.8749844833636535: 100%|██████████| 184/184 [00:07<00:00, 23.06it/s]\n"
     ]
    },
    {
     "name": "stdout",
     "output_type": "stream",
     "text": [
      "####################### valid-experiments: TS_86_3 #######################\n",
      "####################### valid-experiments: TS_6_6 #######################\n",
      "EPOCH: 99, VALID_SCORE: 0.03522634180233617\n"
     ]
    }
   ],
   "source": [
    "model = UNet_2D().to(\"cuda\")\n",
    "model.eval()\n",
    "\n",
    "\n",
    "optimizer = torch.optim.AdamW(model.parameters(), lr=1e-4)\n",
    "criterion = nn.CrossEntropyLoss(\n",
    "    weight=torch.tensor([0.5, 32, 32, 32, 32, 32, 32]).to(\"cuda\")\n",
    ")\n",
    "# criterion = DiceLoss()\n",
    "\n",
    "best_model = None\n",
    "best_score = 0\n",
    "batch_size = 4\n",
    "\n",
    "for epoch in range(100):\n",
    "    train_loss = []\n",
    "    valid_loss = []\n",
    "    train_pred_tomogram = defaultdict(list)\n",
    "    train_gt_tomogram = defaultdict(list)\n",
    "    valid_pred_tomogram = defaultdict(list)\n",
    "    valid_gt_tomogram = defaultdict(list)\n",
    "    model.train()\n",
    "    tq = tqdm(range(len(train_loader) * normalized_tomogram.shape[0] // batch_size))\n",
    "    for data in train_loader:\n",
    "        exp_name = data[\"exp_name\"][0]\n",
    "        tomogram = data[\"normalized_tomogram\"]\n",
    "        segmentation_map = data[\"segmentation_map\"].long()\n",
    "\n",
    "        for i in range(batch_size, tomogram.shape[1], batch_size):\n",
    "            optimizer.zero_grad()\n",
    "            from_, to_ = 0, tomogram.shape[1]\n",
    "            random_index = random.sample(range(from_, to_), batch_size)\n",
    "            input_ = tomogram[:, random_index]\n",
    "            input_ = input_.permute(1, 0, 2, 3)  # (batch_size, 1, 160, 160)\n",
    "            gt = segmentation_map[:, random_index].squeeze()  # (batch_size, 160, 160)\n",
    "\n",
    "            input_, gt = aug(input_, gt)\n",
    "\n",
    "            input_ = input_.to(\"cuda\")\n",
    "            gt = gt.to(\"cuda\")\n",
    "            output = model(input_)\n",
    "            loss = criterion(output, gt)\n",
    "            loss.backward()\n",
    "            optimizer.step()\n",
    "\n",
    "            train_loss.append(loss.item())\n",
    "            tq.set_description(f\"Train-Epoch: {epoch}, Loss: {np.mean(train_loss)}\")\n",
    "            tq.update(1)\n",
    "\n",
    "            for i in range(batch_size):\n",
    "                train_pred_tomogram[exp_name].append(output.cpu().detach().numpy())\n",
    "                train_gt_tomogram[exp_name].append(gt.cpu().detach().numpy())\n",
    "    tq.close()\n",
    "\n",
    "    ############################################# valid #############################################\n",
    "\n",
    "    model.eval()\n",
    "    tq = tqdm(range(len(valid_loader) * normalized_tomogram.shape[0]))\n",
    "    for data in valid_loader:\n",
    "        exp_name = data[\"exp_name\"][0]\n",
    "        tomogram = data[\"normalized_tomogram\"].to(\"cuda\")\n",
    "        segmentation_map = data[\"segmentation_map\"].to(\"cuda\").long()\n",
    "\n",
    "        for i in range(tomogram.shape[1]):\n",
    "            input_ = tomogram[:, i].unsqueeze(0)\n",
    "            gt = segmentation_map[:, i]\n",
    "\n",
    "            output = model(input_)\n",
    "            loss = criterion(output, gt)\n",
    "\n",
    "            valid_loss.append(loss.item())\n",
    "            tq.set_description(f\"Valid-Epoch: {epoch}, Loss: {np.mean(valid_loss)}\")\n",
    "            tq.update(1)\n",
    "\n",
    "            valid_pred_tomogram[exp_name].append(output.cpu().detach().numpy())\n",
    "            valid_gt_tomogram[exp_name].append(gt.cpu().detach().numpy())\n",
    "    tq.close()\n",
    "\n",
    "    valid_score_ = visualize_epoch_results(\n",
    "        valid_pred_tomogram,\n",
    "        valid_gt_tomogram,\n",
    "        sikii_dict=CFG.initial_sikii,\n",
    "    )\n",
    "\n",
    "    print(f\"EPOCH: {epoch}, VALID_SCORE: {valid_score_}\")\n",
    "\n",
    "    if valid_score_ > best_score:\n",
    "        best_score = valid_score_\n",
    "        best_model = model\n",
    "        torch.save(model.state_dict(), f\"best_model.pth\")\n",
    "\n",
    "    # 可視化\n",
    "    index = 50\n",
    "\n",
    "    # plt.figure(figsize=(10, 5))\n",
    "\n",
    "    # ax = plt.subplot(1, 4, 1)\n",
    "    # ax.imshow(train_pred_tomogram[exp_name][index].argmax(0))\n",
    "    # ax.set_title(\"Train-Prediction\")\n",
    "    # ax.axis(\"off\")\n",
    "\n",
    "    # ax = plt.subplot(1, 4, 2)\n",
    "    # ax.imshow(train_gt_tomogram[exp_name][index])\n",
    "    # ax.set_title(\"Train-Ground Truth\")\n",
    "    # ax.axis(\"off\")\n",
    "\n",
    "    # ax = plt.subplot(1, 4, 3)\n",
    "    # ax.imshow(valid_pred_tomogram[exp_name][index].argmax(1).squeeze(0))\n",
    "    # ax.set_title(\"Valid-Prediction\")\n",
    "    # ax.axis(\"off\")\n",
    "\n",
    "    # ax = plt.subplot(1, 4, 4)\n",
    "    # ax.imshow(valid_gt_tomogram[exp_name][index].squeeze(0))\n",
    "    # ax.set_title(\"Valid-Ground Truth\")\n",
    "    # ax.axis(\"off\")\n",
    "\n",
    "    # plt.tight_layout()\n",
    "\n",
    "    # plt.show()\n",
    "\n",
    "    # save_images(\n",
    "    #     train_gt_tomogram=train_gt_tomogram,\n",
    "    #     train_pred_tomogram=train_pred_tomogram,\n",
    "    #     valid_gt_tomogram=valid_gt_tomogram,\n",
    "    #     valid_pred_tomogram=valid_pred_tomogram,\n",
    "    #     save_dir=\"images\",\n",
    "    #     epoch=epoch,\n",
    "    # )"
   ]
  },
  {
   "cell_type": "code",
   "execution_count": null,
   "metadata": {},
   "outputs": [],
   "source": []
  }
 ],
 "metadata": {
  "kernelspec": {
   "display_name": "kaggle",
   "language": "python",
   "name": "python3"
  },
  "language_info": {
   "codemirror_mode": {
    "name": "ipython",
    "version": 3
   },
   "file_extension": ".py",
   "mimetype": "text/x-python",
   "name": "python",
   "nbconvert_exporter": "python",
   "pygments_lexer": "ipython3",
   "version": "3.9.16"
  }
 },
 "nbformat": 4,
 "nbformat_minor": 2
}
