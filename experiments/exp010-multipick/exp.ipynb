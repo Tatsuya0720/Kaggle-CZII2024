{
 "cells": [
  {
   "cell_type": "code",
   "execution_count": 1,
   "metadata": {},
   "outputs": [],
   "source": [
    "import os\n",
    "import zarr\n",
    "import random\n",
    "import json\n",
    "import warnings\n",
    "import numpy as np\n",
    "import pandas as pd\n",
    "import torch.nn as nn\n",
    "from pathlib import Path\n",
    "import matplotlib.pyplot as plt\n",
    "from torch.utils.data import DataLoader, Dataset\n",
    "from collections import defaultdict\n",
    "import sys\n",
    "\n",
    "warnings.filterwarnings(\"ignore\")\n",
    "sys.path.append(\"./src/\")\n",
    "\n",
    "from src.config import CFG\n",
    "from src.dataloader import (\n",
    "    read_zarr,\n",
    "    read_info_json,\n",
    "    scale_coordinates,\n",
    "    create_dataset,\n",
    "    create_segmentation_map,\n",
    "    EziiDataset,\n",
    "    drop_padding,\n",
    ")\n",
    "from src.network import UNet_2D, aug\n",
    "from src.utils import save_images\n",
    "from src.metric import score, create_cls_pos, create_cls_pos_sikii, create_df\n",
    "from metric import visualize_epoch_results"
   ]
  },
  {
   "cell_type": "code",
   "execution_count": 2,
   "metadata": {},
   "outputs": [
    {
     "name": "stdout",
     "output_type": "stream",
     "text": [
      "[('TS_5_4', 'denoised'), ('TS_5_4', 'ctfdeconvolved'), ('TS_5_4', 'wbp'), ('TS_5_4', 'isonetcorrected'), ('TS_73_6', 'denoised'), ('TS_73_6', 'ctfdeconvolved'), ('TS_73_6', 'wbp'), ('TS_73_6', 'isonetcorrected'), ('TS_99_9', 'denoised'), ('TS_99_9', 'ctfdeconvolved'), ('TS_99_9', 'wbp'), ('TS_99_9', 'isonetcorrected'), ('TS_6_4', 'denoised'), ('TS_6_4', 'ctfdeconvolved'), ('TS_6_4', 'wbp'), ('TS_6_4', 'isonetcorrected'), ('TS_69_2', 'denoised'), ('TS_69_2', 'ctfdeconvolved'), ('TS_69_2', 'wbp'), ('TS_69_2', 'isonetcorrected')]\n",
      "[('TS_86_3', 'denoised'), ('TS_6_6', 'denoised')]\n"
     ]
    },
    {
     "name": "stderr",
     "output_type": "stream",
     "text": [
      "  0%|          | 0/20 [00:00<?, ?it/s]"
     ]
    },
    {
     "name": "stderr",
     "output_type": "stream",
     "text": [
      "  0%|          | 0/20 [00:00<?, ?it/s]\n"
     ]
    },
    {
     "data": {
      "text/plain": [
       "92"
      ]
     },
     "execution_count": 2,
     "metadata": {},
     "output_type": "execute_result"
    }
   ],
   "source": [
    "train_dataset = EziiDataset(\n",
    "    exp_names=CFG.train_exp_names,\n",
    "    base_dir=\"../../inputs/train/static\",\n",
    "    particles_name=CFG.particles_name,\n",
    "    resolution=CFG.resolution,\n",
    "    zarr_type=CFG.train_zarr_types,\n",
    ")\n",
    "\n",
    "valid_dataset = EziiDataset(\n",
    "    exp_names=CFG.valid_exp_names,\n",
    "    base_dir=\"../../inputs/train/static\",\n",
    "    particles_name=CFG.particles_name,\n",
    "    resolution=CFG.resolution,\n",
    "    zarr_type=CFG.valid_zarr_types,\n",
    ")\n",
    "\n",
    "from tqdm import tqdm\n",
    "\n",
    "train_loader = DataLoader(train_dataset, batch_size=1, shuffle=True)\n",
    "valid_loader = DataLoader(valid_dataset, batch_size=1, shuffle=False)\n",
    "\n",
    "for data in tqdm(train_dataset):\n",
    "    normalized_tomogram = data[\"normalized_tomogram\"]\n",
    "    segmentation_map = data[\"segmentation_map\"]\n",
    "    break\n",
    "\n",
    "# normalized_tomogram =\n",
    "normalized_tomogram.shape[0]"
   ]
  },
  {
   "cell_type": "code",
   "execution_count": 3,
   "metadata": {},
   "outputs": [],
   "source": [
    "import torch\n",
    "import torchvision.transforms.functional as F\n",
    "import random"
   ]
  },
  {
   "cell_type": "code",
   "execution_count": null,
   "metadata": {},
   "outputs": [
    {
     "name": "stderr",
     "output_type": "stream",
     "text": [
      "Train-Epoch: 0, Loss: 1.1286558195271275:  96%|█████████▌| 440/460 [02:02<00:05,  3.59it/s]\n",
      "Valid-Epoch: 0, Loss: 0.8437045598807542: 100%|██████████| 184/184 [00:08<00:00, 21.44it/s]\n"
     ]
    },
    {
     "name": "stdout",
     "output_type": "stream",
     "text": [
      "####################### valid-experiments: TS_86_3 #######################\n",
      "####################### valid-experiments: TS_6_6 #######################\n",
      "EPOCH: 0, VALID_SCORE: 0.16331919092049935\n"
     ]
    },
    {
     "name": "stderr",
     "output_type": "stream",
     "text": [
      "Train-Epoch: 1, Loss: 0.641396359523589:  96%|█████████▌| 440/460 [01:50<00:05,  3.98it/s] \n",
      "Valid-Epoch: 1, Loss: 0.5539978383432912: 100%|██████████| 184/184 [00:08<00:00, 22.35it/s]\n"
     ]
    },
    {
     "name": "stdout",
     "output_type": "stream",
     "text": [
      "####################### valid-experiments: TS_86_3 #######################\n",
      "####################### valid-experiments: TS_6_6 #######################\n",
      "EPOCH: 1, VALID_SCORE: 0.1621112643299146\n"
     ]
    },
    {
     "name": "stderr",
     "output_type": "stream",
     "text": [
      "Train-Epoch: 2, Loss: 0.5470620284703644:  96%|█████████▌| 440/460 [01:51<00:05,  3.96it/s]\n",
      "Valid-Epoch: 2, Loss: 0.4182375419844428: 100%|██████████| 184/184 [00:08<00:00, 21.05it/s] \n"
     ]
    },
    {
     "name": "stdout",
     "output_type": "stream",
     "text": [
      "####################### valid-experiments: TS_86_3 #######################\n",
      "####################### valid-experiments: TS_6_6 #######################\n",
      "EPOCH: 2, VALID_SCORE: 0.1664375376599305\n"
     ]
    },
    {
     "name": "stderr",
     "output_type": "stream",
     "text": [
      "Train-Epoch: 3, Loss: 0.5265457897362384:  96%|█████████▌| 440/460 [01:51<00:05,  3.95it/s] \n",
      "Valid-Epoch: 3, Loss: 0.604196591080045: 100%|██████████| 184/184 [00:08<00:00, 22.13it/s] \n"
     ]
    },
    {
     "name": "stdout",
     "output_type": "stream",
     "text": [
      "####################### valid-experiments: TS_86_3 #######################\n",
      "####################### valid-experiments: TS_6_6 #######################\n",
      "EPOCH: 3, VALID_SCORE: 0.16518094305247394\n"
     ]
    },
    {
     "name": "stderr",
     "output_type": "stream",
     "text": [
      "Train-Epoch: 4, Loss: 0.45657147964970635:  96%|█████████▌| 440/460 [01:54<00:05,  3.83it/s]\n",
      "Valid-Epoch: 4, Loss: 0.41514947876820096: 100%|██████████| 184/184 [00:08<00:00, 22.96it/s]\n"
     ]
    },
    {
     "name": "stdout",
     "output_type": "stream",
     "text": [
      "####################### valid-experiments: TS_86_3 #######################\n",
      "####################### valid-experiments: TS_6_6 #######################\n",
      "EPOCH: 4, VALID_SCORE: 0.17849448915719646\n"
     ]
    },
    {
     "name": "stderr",
     "output_type": "stream",
     "text": [
      "Train-Epoch: 5, Loss: 0.44601014510474424:  96%|█████████▌| 440/460 [01:51<00:05,  3.95it/s]\n",
      "Valid-Epoch: 5, Loss: 0.6221511074463311: 100%|██████████| 184/184 [00:08<00:00, 22.61it/s]\n"
     ]
    },
    {
     "name": "stdout",
     "output_type": "stream",
     "text": [
      "####################### valid-experiments: TS_86_3 #######################\n",
      "####################### valid-experiments: TS_6_6 #######################\n",
      "EPOCH: 5, VALID_SCORE: 0.1709761434394012\n"
     ]
    },
    {
     "name": "stderr",
     "output_type": "stream",
     "text": [
      "Train-Epoch: 6, Loss: 0.46159604887732053:  96%|█████████▌| 440/460 [01:48<00:04,  4.05it/s]\n",
      "Valid-Epoch: 6, Loss: 0.5635336078703403: 100%|██████████| 184/184 [00:07<00:00, 23.01it/s]\n"
     ]
    },
    {
     "name": "stdout",
     "output_type": "stream",
     "text": [
      "####################### valid-experiments: TS_86_3 #######################\n",
      "####################### valid-experiments: TS_6_6 #######################\n",
      "EPOCH: 6, VALID_SCORE: 0.1658937818753654\n"
     ]
    },
    {
     "name": "stderr",
     "output_type": "stream",
     "text": [
      "Train-Epoch: 7, Loss: 0.4013065948743712:  96%|█████████▌| 440/460 [01:50<00:05,  3.97it/s] \n",
      "Valid-Epoch: 7, Loss: 0.6943034791974756: 100%|██████████| 184/184 [00:08<00:00, 22.96it/s]\n"
     ]
    },
    {
     "name": "stdout",
     "output_type": "stream",
     "text": [
      "####################### valid-experiments: TS_86_3 #######################\n",
      "####################### valid-experiments: TS_6_6 #######################\n",
      "EPOCH: 7, VALID_SCORE: 0.17770172897105793\n"
     ]
    },
    {
     "name": "stderr",
     "output_type": "stream",
     "text": [
      "Train-Epoch: 8, Loss: 0.3825694895095446:  96%|█████████▌| 440/460 [01:50<00:05,  4.00it/s] \n",
      "Valid-Epoch: 8, Loss: 0.5914158243281038: 100%|██████████| 184/184 [00:08<00:00, 22.57it/s] \n"
     ]
    },
    {
     "name": "stdout",
     "output_type": "stream",
     "text": [
      "####################### valid-experiments: TS_86_3 #######################\n",
      "####################### valid-experiments: TS_6_6 #######################\n",
      "EPOCH: 8, VALID_SCORE: 0.16979571784650638\n"
     ]
    },
    {
     "name": "stderr",
     "output_type": "stream",
     "text": [
      "Train-Epoch: 9, Loss: 0.37806123508648437:  96%|█████████▌| 440/460 [01:53<00:05,  3.88it/s]\n",
      "Valid-Epoch: 9, Loss: 0.677232059204708: 100%|██████████| 184/184 [00:08<00:00, 22.38it/s] \n"
     ]
    },
    {
     "name": "stdout",
     "output_type": "stream",
     "text": [
      "####################### valid-experiments: TS_86_3 #######################\n",
      "####################### valid-experiments: TS_6_6 #######################\n",
      "EPOCH: 9, VALID_SCORE: 0.06738158163935096\n"
     ]
    },
    {
     "name": "stderr",
     "output_type": "stream",
     "text": [
      "Train-Epoch: 10, Loss: 0.3311801333149726:  96%|█████████▌| 440/460 [01:49<00:04,  4.01it/s] \n",
      "Valid-Epoch: 10, Loss: 0.7223331125544222: 100%|██████████| 184/184 [00:07<00:00, 23.49it/s]\n"
     ]
    },
    {
     "name": "stdout",
     "output_type": "stream",
     "text": [
      "####################### valid-experiments: TS_86_3 #######################\n",
      "####################### valid-experiments: TS_6_6 #######################\n",
      "EPOCH: 10, VALID_SCORE: 0.09327547986804231\n"
     ]
    },
    {
     "name": "stderr",
     "output_type": "stream",
     "text": [
      "Train-Epoch: 11, Loss: 0.3750706537880681:  96%|█████████▌| 440/460 [01:51<00:05,  3.96it/s] \n",
      "Valid-Epoch: 11, Loss: 0.6328563534745785: 100%|██████████| 184/184 [00:07<00:00, 23.22it/s]\n"
     ]
    },
    {
     "name": "stdout",
     "output_type": "stream",
     "text": [
      "####################### valid-experiments: TS_86_3 #######################\n",
      "####################### valid-experiments: TS_6_6 #######################\n",
      "EPOCH: 11, VALID_SCORE: 0.04041313073330822\n"
     ]
    },
    {
     "name": "stderr",
     "output_type": "stream",
     "text": [
      "Train-Epoch: 12, Loss: 0.3526741882955486:  96%|█████████▌| 440/460 [01:49<00:04,  4.02it/s] \n",
      "Valid-Epoch: 12, Loss: 0.6614465270363523: 100%|██████████| 184/184 [00:07<00:00, 23.18it/s]\n"
     ]
    },
    {
     "name": "stdout",
     "output_type": "stream",
     "text": [
      "####################### valid-experiments: TS_86_3 #######################\n",
      "####################### valid-experiments: TS_6_6 #######################\n",
      "EPOCH: 12, VALID_SCORE: 0.03666948575811785\n"
     ]
    },
    {
     "name": "stderr",
     "output_type": "stream",
     "text": [
      "Train-Epoch: 13, Loss: 0.3413356122560799:  96%|█████████▌| 440/460 [01:50<00:05,  3.99it/s] \n",
      "Valid-Epoch: 13, Loss: 0.7111055482401634: 100%|██████████| 184/184 [00:08<00:00, 22.59it/s]\n"
     ]
    },
    {
     "name": "stdout",
     "output_type": "stream",
     "text": [
      "####################### valid-experiments: TS_86_3 #######################\n",
      "####################### valid-experiments: TS_6_6 #######################\n",
      "EPOCH: 13, VALID_SCORE: 0.03025550539505384\n"
     ]
    },
    {
     "name": "stderr",
     "output_type": "stream",
     "text": [
      "Train-Epoch: 14, Loss: 0.30562740363025775:  94%|█████████▍| 433/460 [01:40<00:05,  4.92it/s]"
     ]
    }
   ],
   "source": [
    "model = UNet_2D().to(\"cuda\")\n",
    "model.eval()\n",
    "\n",
    "\n",
    "optimizer = torch.optim.AdamW(model.parameters(), lr=1e-4)\n",
    "criterion = nn.CrossEntropyLoss(\n",
    "    weight=torch.tensor([0.5, 32, 32, 32, 32, 32, 32]).to(\"cuda\")\n",
    ")\n",
    "# criterion = DiceLoss()\n",
    "\n",
    "best_model = None\n",
    "best_score = 0\n",
    "batch_size = 4\n",
    "\n",
    "for epoch in range(100):\n",
    "    train_loss = []\n",
    "    valid_loss = []\n",
    "    train_pred_tomogram = defaultdict(list)\n",
    "    train_gt_tomogram = defaultdict(list)\n",
    "    valid_pred_tomogram = defaultdict(list)\n",
    "    valid_gt_tomogram = defaultdict(list)\n",
    "    model.train()\n",
    "    tq = tqdm(range(len(train_loader) * normalized_tomogram.shape[0] // batch_size))\n",
    "    for data in train_loader:\n",
    "        exp_name = data[\"exp_name\"][0]\n",
    "        tomogram = data[\"normalized_tomogram\"]\n",
    "        segmentation_map = data[\"segmentation_map\"].long()\n",
    "\n",
    "        for i in range(batch_size, tomogram.shape[1], batch_size):\n",
    "            optimizer.zero_grad()\n",
    "            from_, to_ = 0, tomogram.shape[1]\n",
    "            random_index = random.sample(range(from_, to_), batch_size)\n",
    "            input_ = tomogram[:, random_index]\n",
    "            input_ = input_.permute(1, 0, 2, 3)  # (batch_size, 1, 160, 160)\n",
    "            gt = segmentation_map[:, random_index].squeeze()  # (batch_size, 160, 160)\n",
    "\n",
    "            input_, gt = aug(input_, gt)\n",
    "\n",
    "            input_ = input_.to(\"cuda\")\n",
    "            gt = gt.to(\"cuda\")\n",
    "            output = model(input_)\n",
    "            loss = criterion(output, gt)\n",
    "            loss.backward()\n",
    "            optimizer.step()\n",
    "\n",
    "            train_loss.append(loss.item())\n",
    "            tq.set_description(f\"Train-Epoch: {epoch}, Loss: {np.mean(train_loss)}\")\n",
    "            tq.update(1)\n",
    "\n",
    "            for i in range(batch_size):\n",
    "                train_pred_tomogram[exp_name].append(output.cpu().detach().numpy())\n",
    "                train_gt_tomogram[exp_name].append(gt.cpu().detach().numpy())\n",
    "    tq.close()\n",
    "\n",
    "    ############################################# valid #############################################\n",
    "\n",
    "    model.eval()\n",
    "    tq = tqdm(range(len(valid_loader) * normalized_tomogram.shape[0]))\n",
    "    for data in valid_loader:\n",
    "        exp_name = data[\"exp_name\"][0]\n",
    "        tomogram = data[\"normalized_tomogram\"].to(\"cuda\")\n",
    "        segmentation_map = data[\"segmentation_map\"].to(\"cuda\").long()\n",
    "\n",
    "        for i in range(tomogram.shape[1]):\n",
    "            input_ = tomogram[:, i].unsqueeze(0)\n",
    "            gt = segmentation_map[:, i]\n",
    "\n",
    "            output = model(input_)\n",
    "            loss = criterion(output, gt)\n",
    "\n",
    "            valid_loss.append(loss.item())\n",
    "            tq.set_description(f\"Valid-Epoch: {epoch}, Loss: {np.mean(valid_loss)}\")\n",
    "            tq.update(1)\n",
    "\n",
    "            valid_pred_tomogram[exp_name].append(output.cpu().detach().numpy())\n",
    "            valid_gt_tomogram[exp_name].append(gt.cpu().detach().numpy())\n",
    "    tq.close()\n",
    "\n",
    "    valid_score_ = visualize_epoch_results(\n",
    "        valid_pred_tomogram,\n",
    "        valid_gt_tomogram,\n",
    "        sikii_dict=CFG.initial_sikii,\n",
    "    )\n",
    "\n",
    "    print(f\"EPOCH: {epoch}, VALID_SCORE: {valid_score_}\")\n",
    "\n",
    "    if valid_score_ > best_score:\n",
    "        best_score = valid_score_\n",
    "        best_model = model\n",
    "        torch.save(model.state_dict(), f\"best_model.pth\")\n",
    "\n",
    "    # 可視化\n",
    "    index = 50\n",
    "\n",
    "    # plt.figure(figsize=(10, 5))\n",
    "\n",
    "    # ax = plt.subplot(1, 4, 1)\n",
    "    # ax.imshow(train_pred_tomogram[exp_name][index].argmax(0))\n",
    "    # ax.set_title(\"Train-Prediction\")\n",
    "    # ax.axis(\"off\")\n",
    "\n",
    "    # ax = plt.subplot(1, 4, 2)\n",
    "    # ax.imshow(train_gt_tomogram[exp_name][index])\n",
    "    # ax.set_title(\"Train-Ground Truth\")\n",
    "    # ax.axis(\"off\")\n",
    "\n",
    "    # ax = plt.subplot(1, 4, 3)\n",
    "    # ax.imshow(valid_pred_tomogram[exp_name][index].argmax(1).squeeze(0))\n",
    "    # ax.set_title(\"Valid-Prediction\")\n",
    "    # ax.axis(\"off\")\n",
    "\n",
    "    # ax = plt.subplot(1, 4, 4)\n",
    "    # ax.imshow(valid_gt_tomogram[exp_name][index].squeeze(0))\n",
    "    # ax.set_title(\"Valid-Ground Truth\")\n",
    "    # ax.axis(\"off\")\n",
    "\n",
    "    # plt.tight_layout()\n",
    "\n",
    "    # plt.show()\n",
    "\n",
    "    # save_images(\n",
    "    #     train_gt_tomogram=train_gt_tomogram,\n",
    "    #     train_pred_tomogram=train_pred_tomogram,\n",
    "    #     valid_gt_tomogram=valid_gt_tomogram,\n",
    "    #     valid_pred_tomogram=valid_pred_tomogram,\n",
    "    #     save_dir=\"images\",\n",
    "    #     epoch=epoch,\n",
    "    # )"
   ]
  },
  {
   "cell_type": "code",
   "execution_count": null,
   "metadata": {},
   "outputs": [],
   "source": []
  }
 ],
 "metadata": {
  "kernelspec": {
   "display_name": "kaggle",
   "language": "python",
   "name": "python3"
  },
  "language_info": {
   "codemirror_mode": {
    "name": "ipython",
    "version": 3
   },
   "file_extension": ".py",
   "mimetype": "text/x-python",
   "name": "python",
   "nbconvert_exporter": "python",
   "pygments_lexer": "ipython3",
   "version": "3.9.16"
  }
 },
 "nbformat": 4,
 "nbformat_minor": 2
}
