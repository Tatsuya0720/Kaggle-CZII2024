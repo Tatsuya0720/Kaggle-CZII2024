{
 "cells": [
  {
   "cell_type": "code",
   "execution_count": 1,
   "metadata": {},
   "outputs": [],
   "source": [
    "import os\n",
    "import zarr\n",
    "import timm\n",
    "import random\n",
    "import json\n",
    "import gc\n",
    "import warnings\n",
    "import numpy as np\n",
    "import pandas as pd\n",
    "import torch.nn as nn\n",
    "from pathlib import Path\n",
    "import matplotlib.pyplot as plt\n",
    "from torch.utils.data import DataLoader, Dataset\n",
    "from collections import defaultdict\n",
    "\n",
    "import sys\n",
    "import torch\n",
    "from torch.cuda.amp import autocast, GradScaler\n",
    "\n",
    "# import torchvision.transforms.functional as F\n",
    "import random\n",
    "\n",
    "warnings.filterwarnings(\"ignore\")\n",
    "sys.path.append(\"./src/\")\n",
    "\n",
    "from src.config import CFG\n",
    "from src.dataloader import (\n",
    "    read_zarr,\n",
    "    read_info_json,\n",
    "    scale_coordinates,\n",
    "    create_dataset,\n",
    "    create_segmentation_map,\n",
    "    EziiDataset,\n",
    "    drop_padding,\n",
    ")\n",
    "from src.network import Unet3D\n",
    "from src.utils import save_images, PadToSize\n",
    "from src.metric import (\n",
    "    score,\n",
    "    create_cls_pos,\n",
    "    create_cls_pos_sikii,\n",
    "    create_df,\n",
    "    SegmentationLoss,\n",
    "    DiceLoss,\n",
    ")\n",
    "from tqdm import tqdm\n",
    "from src.kaggle_notebook_metric import compute_lb, extract_particle_results\n",
    "from src.inference import inference, inference2pos, create_gt_df\n",
    "from metric import visualize_epoch_results\n",
    "\n",
    "import wandb\n",
    "from pathlib import Path\n",
    "\n",
    "notebook_name = os.path.join(Path().resolve()).split(\"/\")[-1]\n",
    "\n",
    "param = {\n",
    "    \"model\": CFG.model_name,\n",
    "    \"resolution\": CFG.resolution,\n",
    "    \"augmentation_prob\": CFG.augmentation_prob,\n",
    "    \"slice\": CFG.slice_,\n",
    "    \"epochs\": CFG.epochs,\n",
    "    \"lr\": CFG.lr,\n",
    "    \"batch_size\": CFG.batch_size,\n",
    "    \"weight_decay\": CFG.weight_decay,\n",
    "    \"num_workers\": CFG.num_workers,\n",
    "    \"augment_data_ratio\": CFG.augment_data_ratio,\n",
    "}"
   ]
  },
  {
   "cell_type": "code",
   "execution_count": 2,
   "metadata": {},
   "outputs": [],
   "source": [
    "from sklearn.metrics import *\n",
    "from scipy.optimize import minimize\n",
    "\n",
    "# sikii値とexp_namesを入れるとスコアを出力する関数\n",
    "\n",
    "\n",
    "def compute_score(sikii_list, inferenced_array, exp_name):\n",
    "    apo_ferritin = sikii_list[0]\n",
    "    beta_amylase = sikii_list[1]\n",
    "    beta_galactosidase = sikii_list[2]\n",
    "    ribosome = sikii_list[3]\n",
    "    thyroglobulin = sikii_list[4]\n",
    "    virus_like_particle = sikii_list[5]\n",
    "\n",
    "    sikii_dict = {\n",
    "        \"apo-ferritin\": apo_ferritin,\n",
    "        \"beta-amylase\": beta_amylase,\n",
    "        \"beta-galactosidase\": beta_galactosidase,\n",
    "        \"ribosome\": ribosome,\n",
    "        \"thyroglobulin\": thyroglobulin,\n",
    "        \"virus-like-particle\": virus_like_particle,\n",
    "    }\n",
    "\n",
    "    all_pred = []\n",
    "\n",
    "    pred_df = inference2pos(\n",
    "        pred_segmask=inferenced_array, exp_name=exp_name, sikii_dict=sikii_dict\n",
    "    )\n",
    "\n",
    "    all_pred.append(pred_df)\n",
    "\n",
    "    gc.collect()\n",
    "\n",
    "    pred_df = pd.concat(all_pred, axis=0).reset_index(drop=True)\n",
    "    pred_df = pred_df[pred_df[\"particle_type\"] != \"beta-amylase\"]\n",
    "    pred_df = pred_df.drop_duplicates(\n",
    "        subset=[\"experiment\", \"x\", \"y\", \"z\"], keep=\"first\"\n",
    "    ).reset_index(drop=True)\n",
    "    pred_df = pred_df.reset_index().rename(columns={\"index\": \"id\"})\n",
    "\n",
    "    gt_df = create_gt_df(\"../../inputs/train/overlay/ExperimentRuns/\", [exp_name])\n",
    "\n",
    "    result_df, lb_score = compute_lb(\n",
    "        pred_df, \"../../inputs/train/overlay/ExperimentRuns/\", [exp_name]\n",
    "    )\n",
    "\n",
    "    return lb_score\n",
    "\n",
    "\n",
    "def reduce_computation_sikii_search(\n",
    "    inferenced_array: np.ndarray, exp_name: str, threshold_candidates: list[float]\n",
    ") -> tuple[list[float], float]:\n",
    "    \"\"\"\n",
    "    # How\n",
    "    6つのしきい値が互いに独立してスコアに貢献しているという前提で、\n",
    "    1次元ずつ最適なしきい値を探す手法を実装する.\n",
    "\n",
    "    1. 初期の best_thresholds (全要素 0.5 など適当な値) を用意\n",
    "    2. i=0 から i=5 まで順番に:\n",
    "       - threshold_candidates をすべて試し、他は固定したまま i 番目だけ変化させてスコアを計算\n",
    "       - 最良スコアが得られる候補値を確定し、best_thresholds[i] とする\n",
    "    3. 全部決まったら最終的なスコアを計算して返す\n",
    "\n",
    "    これにより、全組み合わせ (product) を回すよりも計算量が大幅に減少する.\n",
    "    \"\"\"\n",
    "    # Why not: 6値独立であるという前提が満たされていない場合、近似解になる可能性あり\n",
    "    best_thresholds = [0.5] * 6  # 適当な初期値でOK\n",
    "\n",
    "    for i in tqdm(range(6)):\n",
    "        best_local_score = -float(\"inf\")\n",
    "        best_local_value = None\n",
    "\n",
    "        for candidate in threshold_candidates:\n",
    "            current_thresholds = best_thresholds[:]  # 現在のベストを複製\n",
    "            current_thresholds[i] = candidate\n",
    "            score = compute_score(current_thresholds, inferenced_array, exp_name)\n",
    "            if score > best_local_score:\n",
    "                best_local_score = score\n",
    "                best_local_value = candidate\n",
    "\n",
    "        # i番目のしきい値を最適値に更新\n",
    "        best_thresholds[i] = best_local_value\n",
    "\n",
    "    final_score = compute_score(best_thresholds, inferenced_array, exp_name)\n",
    "    return best_thresholds, final_score"
   ]
  },
  {
   "cell_type": "code",
   "execution_count": 3,
   "metadata": {},
   "outputs": [
    {
     "name": "stdout",
     "output_type": "stream",
     "text": [
      "Original shape: torch.Size([6, 16, 320, 320])\n",
      "Augmented shape: torch.Size([6, 16, 320, 320])\n"
     ]
    }
   ],
   "source": [
    "import torch\n",
    "import random\n",
    "import torchvision.transforms.functional as TF\n",
    "\n",
    "\n",
    "# 回転\n",
    "# 3Dテンソルの各軸に対して指定した角度で回転する関数\n",
    "def rotate_3d(tomogram, segmentation_map, angle):\n",
    "    \"\"\"Rotates the 3D tensors tomogram and segmentation_map around the Z-axis.\"\"\"\n",
    "    rotated_tomogram = TF.rotate(tomogram, angle, expand=False)\n",
    "    rotated_segmentation_map = TF.rotate(segmentation_map, angle, expand=False)\n",
    "    return rotated_tomogram, rotated_segmentation_map\n",
    "\n",
    "\n",
    "# 平行移動\n",
    "# 指定された範囲でランダムに平行移動\n",
    "def translate_3d(tomogram, segmentation_map, max_shift):\n",
    "    \"\"\"Translates the 3D tensors by a random shift within max_shift.\"\"\"\n",
    "    shift_x = random.randint(-max_shift, max_shift)\n",
    "    shift_y = random.randint(-max_shift, max_shift)\n",
    "    translated_tomogram = TF.affine(\n",
    "        tomogram, angle=0, translate=(shift_x, shift_y), scale=1, shear=0\n",
    "    )\n",
    "    translated_segmentation_map = TF.affine(\n",
    "        segmentation_map, angle=0, translate=(shift_x, shift_y), scale=1, shear=0\n",
    "    )\n",
    "    return translated_tomogram, translated_segmentation_map\n",
    "\n",
    "\n",
    "# フリップ\n",
    "# 縦横（上下左右）ランダムフリップ\n",
    "def flip_3d(tomogram, segmentation_map):\n",
    "    \"\"\"Randomly flips the 3D tensors along height or width.\"\"\"\n",
    "    if random.random() > 0.5:  # Horizontal flip\n",
    "        tomogram = torch.flip(tomogram, dims=[-1])\n",
    "        segmentation_map = torch.flip(segmentation_map, dims=[-1])\n",
    "    if random.random() > 0.5:  # Vertical flip\n",
    "        tomogram = torch.flip(tomogram, dims=[-2])\n",
    "        segmentation_map = torch.flip(segmentation_map, dims=[-2])\n",
    "    return tomogram, segmentation_map\n",
    "\n",
    "\n",
    "# クロッピング\n",
    "# 入力テンソルを中心またはランダムクロップで切り取る\n",
    "def crop_3d(tomogram, segmentation_map, crop_size):\n",
    "    \"\"\"Crops the 3D tensors to the specified crop_size.\"\"\"\n",
    "    _, depth, height, width = tomogram.size()\n",
    "    crop_d, crop_h, crop_w = crop_size\n",
    "\n",
    "    if crop_h > height or crop_w > width:\n",
    "        raise ValueError(\"Crop size cannot be larger than the original size.\")\n",
    "\n",
    "    start_h = random.randint(0, height - crop_h)  # Random starting position for height\n",
    "    start_w = random.randint(0, width - crop_w)  # Random starting position for width\n",
    "\n",
    "    cropped_tomogram = tomogram[\n",
    "        :, :, start_h : start_h + crop_h, start_w : start_w + crop_w\n",
    "    ]\n",
    "    cropped_segmentation_map = segmentation_map[\n",
    "        :, :, start_h : start_h + crop_h, start_w : start_w + crop_w\n",
    "    ]\n",
    "\n",
    "    return cropped_tomogram, cropped_segmentation_map\n",
    "\n",
    "\n",
    "# Mixup\n",
    "# 2つのサンプルを線形補間して混合\n",
    "def mixup(tomogram, segmentation_map, alpha=0.4):\n",
    "    \"\"\"Applies mixup augmentation to the batch.\"\"\"\n",
    "    lam = random.betavariate(alpha, alpha)\n",
    "    batch_size = tomogram.size(0)\n",
    "    index = torch.randperm(batch_size)\n",
    "\n",
    "    mixed_tomogram = lam * tomogram + (1 - lam) * tomogram[index, :]\n",
    "    mixed_segmentation_map = (\n",
    "        lam * segmentation_map + (1 - lam) * segmentation_map[index, :]\n",
    "    )\n",
    "\n",
    "    return mixed_tomogram, mixed_segmentation_map\n",
    "\n",
    "\n",
    "# Cutmix\n",
    "# ランダム領域を切り取って別のサンプルに貼り付け\n",
    "def cutmix(tomogram, segmentation_map, alpha=1.0):\n",
    "    \"\"\"Applies cutmix augmentation to the batch.\"\"\"\n",
    "    lam = random.betavariate(alpha, alpha)\n",
    "    batch_size, depth, height, width = tomogram.size()\n",
    "    index = torch.randperm(batch_size)\n",
    "\n",
    "    cx = random.randint(0, width)\n",
    "    cy = random.randint(0, height)\n",
    "    cw = int(width * (1 - lam))\n",
    "    ch = int(height * (1 - lam))\n",
    "\n",
    "    x1 = max(cx - cw // 2, 0)\n",
    "    x2 = min(cx + cw // 2, width)\n",
    "    y1 = max(cy - ch // 2, 0)\n",
    "    y2 = min(cy + ch // 2, height)\n",
    "\n",
    "    tomogram[:, :, y1:y2, x1:x2] = tomogram[index, :, y1:y2, x1:x2]\n",
    "    segmentation_map[:, :, y1:y2, x1:x2] = segmentation_map[index, :, y1:y2, x1:x2]\n",
    "\n",
    "    return tomogram, segmentation_map\n",
    "\n",
    "\n",
    "# データ拡張の組み合わせ適用\n",
    "def augment_data(\n",
    "    tomogram,\n",
    "    segmentation_map,\n",
    "    crop_size=(16, 256, 256),\n",
    "    max_shift=10,\n",
    "    rotation_angle=30,\n",
    "    p=0.5,\n",
    "    mixup_alpha=0.4,\n",
    "    cutmix_alpha=1.0,\n",
    "):\n",
    "    \"\"\"Applies a combination of rotation, translation, flipping, cropping, mixup, and cutmix to the inputs with probabilities.\"\"\"\n",
    "    if random.random() < p:\n",
    "        tomogram, segmentation_map = rotate_3d(\n",
    "            tomogram,\n",
    "            segmentation_map,\n",
    "            angle=random.uniform(-rotation_angle, rotation_angle),\n",
    "        )\n",
    "    if random.random() < p:\n",
    "        tomogram, segmentation_map = translate_3d(\n",
    "            tomogram, segmentation_map, max_shift=max_shift\n",
    "        )\n",
    "    if random.random() < p:\n",
    "        tomogram, segmentation_map = flip_3d(tomogram, segmentation_map)\n",
    "    if random.random() < p:\n",
    "        tomogram, segmentation_map = crop_3d(\n",
    "            tomogram, segmentation_map, crop_size=crop_size\n",
    "        )\n",
    "    # if random.random() < p:\n",
    "    #     tomogram, segmentation_map = mixup(\n",
    "    #         tomogram, segmentation_map, alpha=mixup_alpha\n",
    "    #     )\n",
    "    # if random.random() < p:\n",
    "    #     tomogram, segmentation_map = cutmix(\n",
    "    #         tomogram, segmentation_map, alpha=cutmix_alpha\n",
    "    #     )\n",
    "    return tomogram, segmentation_map\n",
    "\n",
    "\n",
    "# 使用例\n",
    "# バッチサイズ6, 深さ16, 高さ320, 幅320のランダムテンソル\n",
    "tomogram = torch.rand((6, 16, 320, 320))\n",
    "segmentation_map = torch.randint(0, 2, (6, 16, 320, 320))  # ラベルは0または1\n",
    "\n",
    "# データ拡張の適用\n",
    "aug_tomogram, aug_segmentation_map = augment_data(tomogram, segmentation_map, p=0.7)\n",
    "print(\"Original shape:\", tomogram.shape)\n",
    "print(\"Augmented shape:\", aug_tomogram.shape)"
   ]
  },
  {
   "cell_type": "code",
   "execution_count": 4,
   "metadata": {},
   "outputs": [],
   "source": [
    "from transformers import get_cosine_schedule_with_warmup"
   ]
  },
  {
   "cell_type": "code",
   "execution_count": 5,
   "metadata": {},
   "outputs": [],
   "source": [
    "# b, c, d, h, w = CFG.batch_size, 1, 96, 320, 320"
   ]
  },
  {
   "cell_type": "code",
   "execution_count": 6,
   "metadata": {},
   "outputs": [],
   "source": [
    "def preprocess_tensor(tensor):\n",
    "    batch_size, depth, height, width = tensor.shape\n",
    "    tensor = tensor.unsqueeze(2)  # (b, d, h, w) -> (b, d, 1, h, w)\n",
    "    return tensor\n",
    "\n",
    "\n",
    "padf = PadToSize(CFG.resolution)"
   ]
  },
  {
   "cell_type": "code",
   "execution_count": 7,
   "metadata": {},
   "outputs": [
    {
     "name": "stderr",
     "output_type": "stream",
     "text": [
      "Failed to detect the name of this notebook, you can set it manually with the WANDB_NOTEBOOK_NAME environment variable to enable code saving.\n",
      "\u001b[34m\u001b[1mwandb\u001b[0m: Currently logged in as: \u001b[33mtatuya\u001b[0m (\u001b[33mlatent-walkers\u001b[0m). Use \u001b[1m`wandb login --relogin`\u001b[0m to force relogin\n"
     ]
    },
    {
     "data": {
      "text/html": [
       "wandb version 0.19.4 is available!  To upgrade, please run:\n",
       " $ pip install wandb --upgrade"
      ],
      "text/plain": [
       "<IPython.core.display.HTML object>"
      ]
     },
     "metadata": {},
     "output_type": "display_data"
    },
    {
     "data": {
      "text/html": [
       "Tracking run with wandb version 0.16.1"
      ],
      "text/plain": [
       "<IPython.core.display.HTML object>"
      ]
     },
     "metadata": {},
     "output_type": "display_data"
    },
    {
     "data": {
      "text/html": [
       "Run data is saved locally in <code>/home/tatsuya/code/projects/kaggle/CryoET/experiments/exp068-recreate-baseline-renet34d-dstride/wandb/run-20250128_074949-mnvomk0t</code>"
      ],
      "text/plain": [
       "<IPython.core.display.HTML object>"
      ]
     },
     "metadata": {},
     "output_type": "display_data"
    },
    {
     "data": {
      "text/html": [
       "Syncing run <strong><a href='https://wandb.ai/latent-walkers/czii2024/runs/mnvomk0t' target=\"_blank\">exp068-recreate-baseline-renet34d-dstride_TS_73_6</a></strong> to <a href='https://wandb.ai/latent-walkers/czii2024' target=\"_blank\">Weights & Biases</a> (<a href='https://wandb.me/run' target=\"_blank\">docs</a>)<br/>"
      ],
      "text/plain": [
       "<IPython.core.display.HTML object>"
      ]
     },
     "metadata": {},
     "output_type": "display_data"
    },
    {
     "data": {
      "text/html": [
       " View project at <a href='https://wandb.ai/latent-walkers/czii2024' target=\"_blank\">https://wandb.ai/latent-walkers/czii2024</a>"
      ],
      "text/plain": [
       "<IPython.core.display.HTML object>"
      ]
     },
     "metadata": {},
     "output_type": "display_data"
    },
    {
     "data": {
      "text/html": [
       " View run at <a href='https://wandb.ai/latent-walkers/czii2024/runs/mnvomk0t' target=\"_blank\">https://wandb.ai/latent-walkers/czii2024/runs/mnvomk0t</a>"
      ],
      "text/plain": [
       "<IPython.core.display.HTML object>"
      ]
     },
     "metadata": {},
     "output_type": "display_data"
    },
    {
     "name": "stderr",
     "output_type": "stream",
     "text": [
      "100%|██████████| 220/220 [00:32<00:00,  6.86it/s]\n",
      "100%|██████████| 1/1 [00:01<00:00,  1.50s/it]\n",
      "Epoch 1/25 [Training]: 100%|██████████| 110/110 [00:40<00:00,  2.69it/s, loss=0.9092]\n",
      "Epoch 1/25 [Validation]: 100%|██████████| 1/1 [00:00<00:00,  1.36it/s, loss=0.8797]\n",
      "  0%|          | 0/6 [00:12<?, ?it/s]\n"
     ]
    },
    {
     "name": "stdout",
     "output_type": "stream",
     "text": [
      "train-epoch-loss:0.9092 valid-beta4-score:-50.0000\n"
     ]
    },
    {
     "name": "stderr",
     "output_type": "stream",
     "text": [
      "Epoch 2/25 [Training]: 100%|██████████| 110/110 [00:41<00:00,  2.68it/s, loss=0.8630]\n",
      "Epoch 2/25 [Validation]: 100%|██████████| 1/1 [00:00<00:00,  1.34it/s, loss=0.8333]\n",
      "100%|██████████| 6/6 [03:29<00:00, 34.93s/it]\n"
     ]
    },
    {
     "name": "stdout",
     "output_type": "stream",
     "text": [
      "train-epoch-loss:0.8630 valid-beta4-score:0.2333\n"
     ]
    },
    {
     "name": "stderr",
     "output_type": "stream",
     "text": [
      "Epoch 3/25 [Training]: 100%|██████████| 110/110 [00:40<00:00,  2.73it/s, loss=0.8296]\n",
      "Epoch 3/25 [Validation]: 100%|██████████| 1/1 [00:00<00:00,  1.40it/s, loss=0.8147]\n",
      "100%|██████████| 6/6 [03:23<00:00, 33.96s/it]\n"
     ]
    },
    {
     "name": "stdout",
     "output_type": "stream",
     "text": [
      "train-epoch-loss:0.8296 valid-beta4-score:0.3801\n"
     ]
    },
    {
     "name": "stderr",
     "output_type": "stream",
     "text": [
      "Epoch 4/25 [Training]: 100%|██████████| 110/110 [00:36<00:00,  3.01it/s, loss=0.8136]\n",
      "Epoch 4/25 [Validation]: 100%|██████████| 1/1 [00:00<00:00,  1.34it/s, loss=0.7653]\n",
      "100%|██████████| 6/6 [03:28<00:00, 34.82s/it]\n"
     ]
    },
    {
     "name": "stdout",
     "output_type": "stream",
     "text": [
      "train-epoch-loss:0.8136 valid-beta4-score:0.4442\n"
     ]
    },
    {
     "name": "stderr",
     "output_type": "stream",
     "text": [
      "Epoch 5/25 [Training]: 100%|██████████| 110/110 [00:37<00:00,  2.93it/s, loss=0.7950]\n",
      "Epoch 5/25 [Validation]: 100%|██████████| 1/1 [00:00<00:00,  1.30it/s, loss=0.7734]\n",
      "100%|██████████| 6/6 [03:30<00:00, 35.11s/it]\n"
     ]
    },
    {
     "name": "stdout",
     "output_type": "stream",
     "text": [
      "train-epoch-loss:0.7950 valid-beta4-score:0.4278\n"
     ]
    },
    {
     "name": "stderr",
     "output_type": "stream",
     "text": [
      "Epoch 6/25 [Training]: 100%|██████████| 110/110 [00:37<00:00,  2.96it/s, loss=0.7754]\n",
      "Epoch 6/25 [Validation]: 100%|██████████| 1/1 [00:00<00:00,  1.46it/s, loss=0.5962]\n",
      "100%|██████████| 6/6 [03:26<00:00, 34.44s/it]\n"
     ]
    },
    {
     "name": "stdout",
     "output_type": "stream",
     "text": [
      "train-epoch-loss:0.7754 valid-beta4-score:0.5259\n"
     ]
    },
    {
     "name": "stderr",
     "output_type": "stream",
     "text": [
      "Epoch 7/25 [Training]: 100%|██████████| 110/110 [00:38<00:00,  2.84it/s, loss=0.7498]\n",
      "Epoch 7/25 [Validation]: 100%|██████████| 1/1 [00:00<00:00,  1.40it/s, loss=0.7648]\n",
      "100%|██████████| 6/6 [03:25<00:00, 34.21s/it]\n"
     ]
    },
    {
     "name": "stdout",
     "output_type": "stream",
     "text": [
      "train-epoch-loss:0.7498 valid-beta4-score:0.5808\n"
     ]
    },
    {
     "name": "stderr",
     "output_type": "stream",
     "text": [
      "Epoch 8/25 [Training]: 100%|██████████| 110/110 [00:35<00:00,  3.08it/s, loss=0.7504]\n",
      "Epoch 8/25 [Validation]: 100%|██████████| 1/1 [00:00<00:00,  1.40it/s, loss=0.5485]\n",
      "100%|██████████| 6/6 [03:27<00:00, 34.56s/it]\n"
     ]
    },
    {
     "name": "stdout",
     "output_type": "stream",
     "text": [
      "train-epoch-loss:0.7504 valid-beta4-score:0.5282\n"
     ]
    },
    {
     "name": "stderr",
     "output_type": "stream",
     "text": [
      "Epoch 9/25 [Training]: 100%|██████████| 110/110 [00:35<00:00,  3.09it/s, loss=0.7306]\n",
      "Epoch 9/25 [Validation]: 100%|██████████| 1/1 [00:00<00:00,  1.43it/s, loss=0.5859]\n",
      "100%|██████████| 6/6 [03:32<00:00, 35.36s/it]\n"
     ]
    },
    {
     "name": "stdout",
     "output_type": "stream",
     "text": [
      "train-epoch-loss:0.7306 valid-beta4-score:0.5717\n"
     ]
    },
    {
     "name": "stderr",
     "output_type": "stream",
     "text": [
      "Epoch 10/25 [Training]: 100%|██████████| 110/110 [00:40<00:00,  2.72it/s, loss=0.7233]\n",
      "Epoch 10/25 [Validation]: 100%|██████████| 1/1 [00:00<00:00,  1.34it/s, loss=0.5783]\n",
      "100%|██████████| 6/6 [03:29<00:00, 34.85s/it]\n"
     ]
    },
    {
     "name": "stdout",
     "output_type": "stream",
     "text": [
      "train-epoch-loss:0.7233 valid-beta4-score:0.5840\n"
     ]
    },
    {
     "name": "stderr",
     "output_type": "stream",
     "text": [
      "Epoch 11/25 [Training]: 100%|██████████| 110/110 [00:38<00:00,  2.82it/s, loss=0.7153]\n",
      "Epoch 11/25 [Validation]: 100%|██████████| 1/1 [00:00<00:00,  1.41it/s, loss=0.5417]\n",
      "100%|██████████| 6/6 [03:28<00:00, 34.70s/it]\n"
     ]
    },
    {
     "name": "stdout",
     "output_type": "stream",
     "text": [
      "train-epoch-loss:0.7153 valid-beta4-score:0.6575\n"
     ]
    },
    {
     "name": "stderr",
     "output_type": "stream",
     "text": [
      "Epoch 12/25 [Training]: 100%|██████████| 110/110 [00:36<00:00,  3.04it/s, loss=0.7249]\n",
      "Epoch 12/25 [Validation]: 100%|██████████| 1/1 [00:00<00:00,  1.37it/s, loss=0.5188]\n",
      "100%|██████████| 6/6 [03:27<00:00, 34.57s/it]\n"
     ]
    },
    {
     "name": "stdout",
     "output_type": "stream",
     "text": [
      "train-epoch-loss:0.7249 valid-beta4-score:0.6666\n"
     ]
    },
    {
     "name": "stderr",
     "output_type": "stream",
     "text": [
      "Epoch 13/25 [Training]: 100%|██████████| 110/110 [00:37<00:00,  2.91it/s, loss=0.7191]\n",
      "Epoch 13/25 [Validation]: 100%|██████████| 1/1 [00:00<00:00,  1.42it/s, loss=0.8576]\n",
      "100%|██████████| 6/6 [03:29<00:00, 34.86s/it]\n"
     ]
    },
    {
     "name": "stdout",
     "output_type": "stream",
     "text": [
      "train-epoch-loss:0.7191 valid-beta4-score:0.6154\n"
     ]
    },
    {
     "name": "stderr",
     "output_type": "stream",
     "text": [
      "Epoch 14/25 [Training]: 100%|██████████| 110/110 [00:37<00:00,  2.91it/s, loss=0.7181]\n",
      "Epoch 14/25 [Validation]: 100%|██████████| 1/1 [00:00<00:00,  1.44it/s, loss=0.6774]\n",
      "100%|██████████| 6/6 [03:30<00:00, 35.17s/it]\n"
     ]
    },
    {
     "name": "stdout",
     "output_type": "stream",
     "text": [
      "train-epoch-loss:0.7181 valid-beta4-score:0.6340\n"
     ]
    },
    {
     "name": "stderr",
     "output_type": "stream",
     "text": [
      "Epoch 15/25 [Training]: 100%|██████████| 110/110 [00:37<00:00,  2.90it/s, loss=0.7129]\n",
      "Epoch 15/25 [Validation]: 100%|██████████| 1/1 [00:00<00:00,  1.41it/s, loss=0.8576]\n",
      "100%|██████████| 6/6 [03:39<00:00, 36.51s/it]\n"
     ]
    },
    {
     "name": "stdout",
     "output_type": "stream",
     "text": [
      "train-epoch-loss:0.7129 valid-beta4-score:0.6854\n"
     ]
    },
    {
     "name": "stderr",
     "output_type": "stream",
     "text": [
      "Epoch 16/25 [Training]: 100%|██████████| 110/110 [00:34<00:00,  3.22it/s, loss=0.7130]\n",
      "Epoch 16/25 [Validation]: 100%|██████████| 1/1 [00:00<00:00,  1.40it/s, loss=0.4898]\n",
      "100%|██████████| 6/6 [03:30<00:00, 35.16s/it]\n"
     ]
    },
    {
     "name": "stdout",
     "output_type": "stream",
     "text": [
      "train-epoch-loss:0.7130 valid-beta4-score:0.6648\n"
     ]
    },
    {
     "name": "stderr",
     "output_type": "stream",
     "text": [
      "Epoch 17/25 [Training]: 100%|██████████| 110/110 [00:38<00:00,  2.82it/s, loss=0.6859]\n",
      "Epoch 17/25 [Validation]: 100%|██████████| 1/1 [00:00<00:00,  1.39it/s, loss=0.5056]\n",
      "100%|██████████| 6/6 [03:30<00:00, 35.14s/it]\n"
     ]
    },
    {
     "name": "stdout",
     "output_type": "stream",
     "text": [
      "train-epoch-loss:0.6859 valid-beta4-score:0.7211\n"
     ]
    },
    {
     "name": "stderr",
     "output_type": "stream",
     "text": [
      "Epoch 18/25 [Training]: 100%|██████████| 110/110 [00:36<00:00,  3.05it/s, loss=0.7108]\n",
      "Epoch 18/25 [Validation]: 100%|██████████| 1/1 [00:00<00:00,  1.43it/s, loss=0.5306]\n",
      "100%|██████████| 6/6 [03:31<00:00, 35.17s/it]\n"
     ]
    },
    {
     "name": "stdout",
     "output_type": "stream",
     "text": [
      "train-epoch-loss:0.7108 valid-beta4-score:0.6739\n"
     ]
    },
    {
     "name": "stderr",
     "output_type": "stream",
     "text": [
      "Epoch 19/25 [Training]: 100%|██████████| 110/110 [00:34<00:00,  3.15it/s, loss=0.6874]\n",
      "Epoch 19/25 [Validation]: 100%|██████████| 1/1 [00:00<00:00,  1.41it/s, loss=0.7382]\n",
      "100%|██████████| 6/6 [03:29<00:00, 34.89s/it]\n"
     ]
    },
    {
     "name": "stdout",
     "output_type": "stream",
     "text": [
      "train-epoch-loss:0.6874 valid-beta4-score:0.7630\n"
     ]
    },
    {
     "name": "stderr",
     "output_type": "stream",
     "text": [
      "Epoch 20/25 [Training]: 100%|██████████| 110/110 [00:37<00:00,  2.93it/s, loss=0.6967]\n",
      "Epoch 20/25 [Validation]: 100%|██████████| 1/1 [00:00<00:00,  1.44it/s, loss=0.5195]\n",
      "100%|██████████| 6/6 [03:29<00:00, 34.98s/it]\n"
     ]
    },
    {
     "name": "stdout",
     "output_type": "stream",
     "text": [
      "train-epoch-loss:0.6967 valid-beta4-score:0.7427\n"
     ]
    },
    {
     "name": "stderr",
     "output_type": "stream",
     "text": [
      "Epoch 21/25 [Training]: 100%|██████████| 110/110 [00:37<00:00,  2.95it/s, loss=0.6984]\n",
      "Epoch 21/25 [Validation]: 100%|██████████| 1/1 [00:00<00:00,  1.41it/s, loss=0.6591]\n",
      "100%|██████████| 6/6 [03:30<00:00, 35.02s/it]\n"
     ]
    },
    {
     "name": "stdout",
     "output_type": "stream",
     "text": [
      "train-epoch-loss:0.6984 valid-beta4-score:0.7773\n"
     ]
    },
    {
     "name": "stderr",
     "output_type": "stream",
     "text": [
      "Epoch 22/25 [Training]: 100%|██████████| 110/110 [00:37<00:00,  2.92it/s, loss=0.6757]\n",
      "Epoch 22/25 [Validation]: 100%|██████████| 1/1 [00:00<00:00,  1.44it/s, loss=0.5525]\n",
      "100%|██████████| 6/6 [03:30<00:00, 35.01s/it]\n"
     ]
    },
    {
     "name": "stdout",
     "output_type": "stream",
     "text": [
      "train-epoch-loss:0.6757 valid-beta4-score:0.7867\n"
     ]
    },
    {
     "name": "stderr",
     "output_type": "stream",
     "text": [
      "Epoch 23/25 [Training]: 100%|██████████| 110/110 [00:37<00:00,  2.97it/s, loss=0.7053]\n",
      "Epoch 23/25 [Validation]: 100%|██████████| 1/1 [00:00<00:00,  1.41it/s, loss=0.6156]\n",
      "100%|██████████| 6/6 [03:29<00:00, 34.94s/it]\n"
     ]
    },
    {
     "name": "stdout",
     "output_type": "stream",
     "text": [
      "train-epoch-loss:0.7053 valid-beta4-score:0.7802\n"
     ]
    },
    {
     "name": "stderr",
     "output_type": "stream",
     "text": [
      "Epoch 24/25 [Training]: 100%|██████████| 110/110 [00:36<00:00,  3.03it/s, loss=0.6990]\n",
      "Epoch 24/25 [Validation]: 100%|██████████| 1/1 [00:00<00:00,  1.41it/s, loss=0.6815]\n",
      "100%|██████████| 6/6 [03:30<00:00, 35.06s/it]\n"
     ]
    },
    {
     "name": "stdout",
     "output_type": "stream",
     "text": [
      "train-epoch-loss:0.6990 valid-beta4-score:0.7800\n"
     ]
    },
    {
     "name": "stderr",
     "output_type": "stream",
     "text": [
      "Epoch 25/25 [Training]: 100%|██████████| 110/110 [00:38<00:00,  2.88it/s, loss=0.6871]\n",
      "Epoch 25/25 [Validation]: 100%|██████████| 1/1 [00:00<00:00,  1.44it/s, loss=0.8573]\n",
      "100%|██████████| 6/6 [03:30<00:00, 35.08s/it]\n"
     ]
    },
    {
     "name": "stdout",
     "output_type": "stream",
     "text": [
      "train-epoch-loss:0.6871 valid-beta4-score:0.7958\n"
     ]
    },
    {
     "data": {
      "text/html": [
       "Finishing last run (ID:mnvomk0t) before initializing another..."
      ],
      "text/plain": [
       "<IPython.core.display.HTML object>"
      ]
     },
     "metadata": {},
     "output_type": "display_data"
    },
    {
     "name": "stderr",
     "output_type": "stream",
     "text": [
      "wandb: WARNING Source type is set to 'repo' but some required information is missing from the environment. A job will not be created from this run. See https://docs.wandb.ai/guides/launch/create-job\n"
     ]
    },
    {
     "data": {
      "application/vnd.jupyter.widget-view+json": {
       "model_id": "aabfde13937f4df58c761eea964caf27",
       "version_major": 2,
       "version_minor": 0
      },
      "text/plain": [
       "VBox(children=(Label(value='0.004 MB of 0.004 MB uploaded\\r'), FloatProgress(value=1.0, max=1.0)))"
      ]
     },
     "metadata": {},
     "output_type": "display_data"
    },
    {
     "data": {
      "text/html": [
       "<style>\n",
       "    table.wandb td:nth-child(1) { padding: 0 10px; text-align: left ; width: auto;} td:nth-child(2) {text-align: left ; width: 100%}\n",
       "    .wandb-row { display: flex; flex-direction: row; flex-wrap: wrap; justify-content: flex-start; width: 100% }\n",
       "    .wandb-col { display: flex; flex-direction: column; flex-basis: 100%; flex: 1; padding: 10px; }\n",
       "    </style>\n",
       "<div class=\"wandb-row\"><div class=\"wandb-col\"><h3>Run history:</h3><br/><table class=\"wandb\"><tr><td>01_epoch</td><td>▁▁▂▂▂▂▃▃▃▄▄▄▅▅▅▅▆▆▆▇▇▇▇██</td></tr><tr><td>02_train_loss</td><td>█▇▆▅▅▄▃▃▃▂▂▂▂▂▂▂▁▂▁▂▂▁▂▂▁</td></tr><tr><td>03_valid_loss</td><td>█▇▇▆▆▃▆▂▃▃▂▂█▄█▁▁▂▅▂▄▂▃▄█</td></tr><tr><td>04_valid_best_score</td><td>▁████████████████████████</td></tr><tr><td>apo-ferritin</td><td>▅▃▂▁▁▄██▇▇▅██████▆█▇█▇██▇</td></tr><tr><td>apoo_ferritin_f4</td><td>▂▁▂▂▆█▇▇▆▇█▇▆▇▆▆▇▇▇▆▇▇▇▇</td></tr><tr><td>apoo_ferritin_p</td><td>▁▁▁▁▇█▆█▆▇█▇▆█▆▆▇▇▇▇▇█▇▇</td></tr><tr><td>apoo_ferritin_r</td><td>▂▁▂▃▅▇▇▇▆██▇▆▇▆▆▆▇▇▆▇▇▆▇</td></tr><tr><td>beta-amylase</td><td>█▁▁▁▁▁▁▁▁▁▁▁▁▁▁▁▁▁▁▁▁▁▁▁▁</td></tr><tr><td>beta-galactosidase</td><td>▅▁▁▁▁▁▁▁▁▁▂▁▂▁█▅▇▅▇▅▄▅▅▇▄</td></tr><tr><td>beta_amylase_f4</td><td>█▁▁▁▁▁▁▁▁▁▁▁▁▁▁▁▁▁▁▁▁▁▁▁</td></tr><tr><td>beta_amylase_p</td><td>█▁▁▁▁▁▁▁▁▁▁▁▁▁▁▁▁▁▁▁▁▁▁▁</td></tr><tr><td>beta_amylase_r</td><td>█▁▁▁▁▁▁▁▁▁▁▁▁▁▁▁▁▁▁▁▁▁▁▁</td></tr><tr><td>beta_galactosidase_f4</td><td>▁▁▂▁▁▁▁▂▂▃▄▃▃▅▄▆▅▇▆▇████</td></tr><tr><td>beta_galactosidase_p</td><td>▁▁▂▁▁▁▁▁▂▂▂▂▂▄▃▄▃▇▇▆█▇██</td></tr><tr><td>beta_galactosidase_r</td><td>▆▁▃▁▁▁▁▆▄▆▆▆▇▅▆█▆▇▆███▇█</td></tr><tr><td>ribosome</td><td>▄██▁▃█▄██▁▄▆█▇▇▆▆██▄▅▄▅█▅</td></tr><tr><td>ribosome_f4</td><td>▁▆▇▅▇▇▇█▇█▇▇█▇██████████</td></tr><tr><td>ribosome_p</td><td>▁▄▅▁▇▇█▆█▇█▆▇▆█▇▇███▇█▆█</td></tr><tr><td>ribosome_r</td><td>▁▆▇█▆▇▇█▇█▇▇█▇███▇▇██▇██</td></tr><tr><td>thyroglobulin</td><td>▅▂██▇▄▅██▁█▄▄▇▂▇▅▅▅▂▄▄▄▅▂</td></tr><tr><td>thyroglobulin_f4</td><td>▁▅▆▅▆▇▄▄▆▇▆▆▆▇▇▇▇▇▇█▇▇██</td></tr><tr><td>thyroglobulin_p</td><td>▁▂▃▂▃▅▁▂▄▄▅▅▅▅▅▇▄█▅▇██▇▇</td></tr><tr><td>thyroglobulin_r</td><td>▁▇▇▇▇▇▇▇▆█▆▅▆▇▇▆▇▅▇▇▆▆▇▇</td></tr><tr><td>virus-like-particle</td><td>▅▁▁▂▃▆▇▅▇▇▅▅▅▅▆▇█▆▇▇▆███▆</td></tr><tr><td>virus_like_particle_f4</td><td>▁▄▄▆████████████████████</td></tr><tr><td>virus_like_particle_p</td><td>▁▁▂▄▇▅▇█▇██████▇▇██▇██▇▇</td></tr><tr><td>virus_like_particle_r</td><td>▁▆▃▆████████████████████</td></tr></table><br/></div><div class=\"wandb-col\"><h3>Run summary:</h3><br/><table class=\"wandb\"><tr><td>01_epoch</td><td>24</td></tr><tr><td>02_train_loss</td><td>0.68705</td></tr><tr><td>03_valid_loss</td><td>0.85734</td></tr><tr><td>04_valid_best_score</td><td>0.79578</td></tr><tr><td>apo-ferritin</td><td>0.7</td></tr><tr><td>apoo_ferritin_f4</td><td>0.716</td></tr><tr><td>apoo_ferritin_p</td><td>0.49296</td></tr><tr><td>apoo_ferritin_r</td><td>0.73684</td></tr><tr><td>beta-amylase</td><td>0.05</td></tr><tr><td>beta-galactosidase</td><td>0.35</td></tr><tr><td>beta_amylase_f4</td><td>0.0</td></tr><tr><td>beta_amylase_p</td><td>0.0</td></tr><tr><td>beta_amylase_r</td><td>0.0</td></tr><tr><td>beta_galactosidase_f4</td><td>0.71987</td></tr><tr><td>beta_galactosidase_p</td><td>0.15663</td></tr><tr><td>beta_galactosidase_r</td><td>0.92857</td></tr><tr><td>ribosome</td><td>0.55</td></tr><tr><td>ribosome_f4</td><td>0.92689</td></tr><tr><td>ribosome_p</td><td>0.61972</td></tr><tr><td>ribosome_r</td><td>0.95652</td></tr><tr><td>thyroglobulin</td><td>0.3</td></tr><tr><td>thyroglobulin_f4</td><td>0.74788</td></tr><tr><td>thyroglobulin_p</td><td>0.18182</td></tr><tr><td>thyroglobulin_r</td><td>0.92857</td></tr><tr><td>virus-like-particle</td><td>0.6</td></tr><tr><td>virus_like_particle_f4</td><td>0.99204</td></tr><tr><td>virus_like_particle_p</td><td>0.88</td></tr><tr><td>virus_like_particle_r</td><td>1.0</td></tr></table><br/></div></div>"
      ],
      "text/plain": [
       "<IPython.core.display.HTML object>"
      ]
     },
     "metadata": {},
     "output_type": "display_data"
    },
    {
     "data": {
      "text/html": [
       " View run <strong style=\"color:#cdcd00\">exp068-recreate-baseline-renet34d-dstride_TS_73_6</strong> at: <a href='https://wandb.ai/latent-walkers/czii2024/runs/mnvomk0t' target=\"_blank\">https://wandb.ai/latent-walkers/czii2024/runs/mnvomk0t</a><br/>Synced 5 W&B file(s), 0 media file(s), 0 artifact file(s) and 0 other file(s)"
      ],
      "text/plain": [
       "<IPython.core.display.HTML object>"
      ]
     },
     "metadata": {},
     "output_type": "display_data"
    },
    {
     "data": {
      "text/html": [
       "Find logs at: <code>./wandb/run-20250128_074949-mnvomk0t/logs</code>"
      ],
      "text/plain": [
       "<IPython.core.display.HTML object>"
      ]
     },
     "metadata": {},
     "output_type": "display_data"
    },
    {
     "data": {
      "text/html": [
       "Successfully finished last run (ID:mnvomk0t). Initializing new run:<br/>"
      ],
      "text/plain": [
       "<IPython.core.display.HTML object>"
      ]
     },
     "metadata": {},
     "output_type": "display_data"
    },
    {
     "data": {
      "application/vnd.jupyter.widget-view+json": {
       "model_id": "73c3c377bc104048b8f6103770d86ebe",
       "version_major": 2,
       "version_minor": 0
      },
      "text/plain": [
       "VBox(children=(Label(value='Waiting for wandb.init()...\\r'), FloatProgress(value=0.01111395763340018, max=1.0)…"
      ]
     },
     "metadata": {},
     "output_type": "display_data"
    },
    {
     "data": {
      "text/html": [
       "wandb version 0.19.4 is available!  To upgrade, please run:\n",
       " $ pip install wandb --upgrade"
      ],
      "text/plain": [
       "<IPython.core.display.HTML object>"
      ]
     },
     "metadata": {},
     "output_type": "display_data"
    },
    {
     "data": {
      "text/html": [
       "Tracking run with wandb version 0.16.1"
      ],
      "text/plain": [
       "<IPython.core.display.HTML object>"
      ]
     },
     "metadata": {},
     "output_type": "display_data"
    },
    {
     "data": {
      "text/html": [
       "Run data is saved locally in <code>/home/tatsuya/code/projects/kaggle/CryoET/experiments/exp068-recreate-baseline-renet34d-dstride/wandb/run-20250128_093827-xigaiefq</code>"
      ],
      "text/plain": [
       "<IPython.core.display.HTML object>"
      ]
     },
     "metadata": {},
     "output_type": "display_data"
    },
    {
     "data": {
      "text/html": [
       "Syncing run <strong><a href='https://wandb.ai/latent-walkers/czii2024/runs/xigaiefq' target=\"_blank\">exp068-recreate-baseline-renet34d-dstride_TS_99_9</a></strong> to <a href='https://wandb.ai/latent-walkers/czii2024' target=\"_blank\">Weights & Biases</a> (<a href='https://wandb.me/run' target=\"_blank\">docs</a>)<br/>"
      ],
      "text/plain": [
       "<IPython.core.display.HTML object>"
      ]
     },
     "metadata": {},
     "output_type": "display_data"
    },
    {
     "data": {
      "text/html": [
       " View project at <a href='https://wandb.ai/latent-walkers/czii2024' target=\"_blank\">https://wandb.ai/latent-walkers/czii2024</a>"
      ],
      "text/plain": [
       "<IPython.core.display.HTML object>"
      ]
     },
     "metadata": {},
     "output_type": "display_data"
    },
    {
     "data": {
      "text/html": [
       " View run at <a href='https://wandb.ai/latent-walkers/czii2024/runs/xigaiefq' target=\"_blank\">https://wandb.ai/latent-walkers/czii2024/runs/xigaiefq</a>"
      ],
      "text/plain": [
       "<IPython.core.display.HTML object>"
      ]
     },
     "metadata": {},
     "output_type": "display_data"
    },
    {
     "name": "stderr",
     "output_type": "stream",
     "text": [
      "100%|██████████| 220/220 [00:32<00:00,  6.83it/s]\n",
      "100%|██████████| 1/1 [00:01<00:00,  1.63s/it]\n",
      "Epoch 1/25 [Training]: 100%|██████████| 110/110 [00:38<00:00,  2.82it/s, loss=0.9107]\n",
      "Epoch 1/25 [Validation]: 100%|██████████| 1/1 [00:00<00:00,  1.40it/s, loss=0.8701]\n",
      "100%|██████████| 6/6 [03:45<00:00, 37.64s/it]\n"
     ]
    },
    {
     "name": "stdout",
     "output_type": "stream",
     "text": [
      "train-epoch-loss:0.9107 valid-beta4-score:0.3500\n"
     ]
    },
    {
     "name": "stderr",
     "output_type": "stream",
     "text": [
      "Epoch 2/25 [Training]: 100%|██████████| 110/110 [00:36<00:00,  3.01it/s, loss=0.8591]\n",
      "Epoch 2/25 [Validation]: 100%|██████████| 1/1 [00:00<00:00,  1.37it/s, loss=0.8053]\n",
      "100%|██████████| 6/6 [03:41<00:00, 36.95s/it]\n"
     ]
    },
    {
     "name": "stdout",
     "output_type": "stream",
     "text": [
      "train-epoch-loss:0.8591 valid-beta4-score:0.2732\n"
     ]
    },
    {
     "name": "stderr",
     "output_type": "stream",
     "text": [
      "Epoch 3/25 [Training]: 100%|██████████| 110/110 [00:34<00:00,  3.21it/s, loss=0.8328]\n",
      "Epoch 3/25 [Validation]: 100%|██████████| 1/1 [00:00<00:00,  1.28it/s, loss=0.7914]\n",
      "100%|██████████| 6/6 [03:26<00:00, 34.45s/it]\n"
     ]
    },
    {
     "name": "stdout",
     "output_type": "stream",
     "text": [
      "train-epoch-loss:0.8328 valid-beta4-score:0.2635\n"
     ]
    },
    {
     "name": "stderr",
     "output_type": "stream",
     "text": [
      "Epoch 4/25 [Training]: 100%|██████████| 110/110 [00:38<00:00,  2.86it/s, loss=0.8251]\n",
      "Epoch 4/25 [Validation]: 100%|██████████| 1/1 [00:00<00:00,  1.42it/s, loss=0.8003]\n",
      "100%|██████████| 6/6 [03:22<00:00, 33.76s/it]\n"
     ]
    },
    {
     "name": "stdout",
     "output_type": "stream",
     "text": [
      "train-epoch-loss:0.8251 valid-beta4-score:0.3992\n"
     ]
    },
    {
     "name": "stderr",
     "output_type": "stream",
     "text": [
      "Epoch 5/25 [Training]: 100%|██████████| 110/110 [00:40<00:00,  2.73it/s, loss=0.8113]\n",
      "Epoch 5/25 [Validation]: 100%|██████████| 1/1 [00:00<00:00,  1.39it/s, loss=0.7492]\n",
      "100%|██████████| 6/6 [03:24<00:00, 34.02s/it]\n"
     ]
    },
    {
     "name": "stdout",
     "output_type": "stream",
     "text": [
      "train-epoch-loss:0.8113 valid-beta4-score:0.4639\n"
     ]
    },
    {
     "name": "stderr",
     "output_type": "stream",
     "text": [
      "Epoch 6/25 [Training]: 100%|██████████| 110/110 [00:39<00:00,  2.78it/s, loss=0.8043]\n",
      "Epoch 6/25 [Validation]: 100%|██████████| 1/1 [00:00<00:00,  1.35it/s, loss=0.8080]\n",
      "100%|██████████| 6/6 [03:22<00:00, 33.72s/it]\n"
     ]
    },
    {
     "name": "stdout",
     "output_type": "stream",
     "text": [
      "train-epoch-loss:0.8043 valid-beta4-score:0.5434\n"
     ]
    },
    {
     "name": "stderr",
     "output_type": "stream",
     "text": [
      "Epoch 7/25 [Training]: 100%|██████████| 110/110 [00:37<00:00,  2.90it/s, loss=0.7963]\n",
      "Epoch 7/25 [Validation]: 100%|██████████| 1/1 [00:00<00:00,  1.42it/s, loss=0.7639]\n",
      "100%|██████████| 6/6 [03:30<00:00, 35.02s/it]\n"
     ]
    },
    {
     "name": "stdout",
     "output_type": "stream",
     "text": [
      "train-epoch-loss:0.7963 valid-beta4-score:0.4387\n"
     ]
    },
    {
     "name": "stderr",
     "output_type": "stream",
     "text": [
      "Epoch 8/25 [Training]: 100%|██████████| 110/110 [00:38<00:00,  2.89it/s, loss=0.7877]\n",
      "Epoch 8/25 [Validation]: 100%|██████████| 1/1 [00:00<00:00,  1.33it/s, loss=0.7398]\n",
      "100%|██████████| 6/6 [03:25<00:00, 34.29s/it]\n"
     ]
    },
    {
     "name": "stdout",
     "output_type": "stream",
     "text": [
      "train-epoch-loss:0.7877 valid-beta4-score:0.5210\n"
     ]
    },
    {
     "name": "stderr",
     "output_type": "stream",
     "text": [
      "Epoch 9/25 [Training]: 100%|██████████| 110/110 [00:36<00:00,  3.00it/s, loss=0.7824]\n",
      "Epoch 9/25 [Validation]: 100%|██████████| 1/1 [00:00<00:00,  1.39it/s, loss=0.6968]\n",
      "100%|██████████| 6/6 [03:25<00:00, 34.32s/it]\n"
     ]
    },
    {
     "name": "stdout",
     "output_type": "stream",
     "text": [
      "train-epoch-loss:0.7824 valid-beta4-score:0.5307\n"
     ]
    },
    {
     "name": "stderr",
     "output_type": "stream",
     "text": [
      "Epoch 10/25 [Training]: 100%|██████████| 110/110 [00:38<00:00,  2.88it/s, loss=0.7751]\n",
      "Epoch 10/25 [Validation]: 100%|██████████| 1/1 [00:00<00:00,  1.40it/s, loss=0.7001]\n",
      "100%|██████████| 6/6 [03:26<00:00, 34.40s/it]\n"
     ]
    },
    {
     "name": "stdout",
     "output_type": "stream",
     "text": [
      "train-epoch-loss:0.7751 valid-beta4-score:0.5167\n"
     ]
    },
    {
     "name": "stderr",
     "output_type": "stream",
     "text": [
      "Epoch 11/25 [Training]: 100%|██████████| 110/110 [00:37<00:00,  2.97it/s, loss=0.7861]\n",
      "Epoch 11/25 [Validation]: 100%|██████████| 1/1 [00:00<00:00,  1.39it/s, loss=0.7340]\n",
      "100%|██████████| 6/6 [03:24<00:00, 34.15s/it]\n"
     ]
    },
    {
     "name": "stdout",
     "output_type": "stream",
     "text": [
      "train-epoch-loss:0.7861 valid-beta4-score:0.4955\n"
     ]
    },
    {
     "name": "stderr",
     "output_type": "stream",
     "text": [
      "Epoch 12/25 [Training]: 100%|██████████| 110/110 [00:38<00:00,  2.86it/s, loss=0.7730]\n",
      "Epoch 12/25 [Validation]: 100%|██████████| 1/1 [00:00<00:00,  1.38it/s, loss=0.6710]\n",
      "100%|██████████| 6/6 [03:27<00:00, 34.51s/it]\n"
     ]
    },
    {
     "name": "stdout",
     "output_type": "stream",
     "text": [
      "train-epoch-loss:0.7730 valid-beta4-score:0.5226\n"
     ]
    },
    {
     "name": "stderr",
     "output_type": "stream",
     "text": [
      "Epoch 13/25 [Training]: 100%|██████████| 110/110 [00:34<00:00,  3.14it/s, loss=0.7740]\n",
      "Epoch 13/25 [Validation]: 100%|██████████| 1/1 [00:00<00:00,  1.41it/s, loss=0.7549]\n",
      "100%|██████████| 6/6 [03:26<00:00, 34.39s/it]\n"
     ]
    },
    {
     "name": "stdout",
     "output_type": "stream",
     "text": [
      "train-epoch-loss:0.7740 valid-beta4-score:0.5298\n"
     ]
    },
    {
     "name": "stderr",
     "output_type": "stream",
     "text": [
      "Epoch 14/25 [Training]: 100%|██████████| 110/110 [00:37<00:00,  2.94it/s, loss=0.7735]\n",
      "Epoch 14/25 [Validation]: 100%|██████████| 1/1 [00:00<00:00,  1.35it/s, loss=0.6819]\n",
      "100%|██████████| 6/6 [03:26<00:00, 34.41s/it]\n"
     ]
    },
    {
     "name": "stdout",
     "output_type": "stream",
     "text": [
      "train-epoch-loss:0.7735 valid-beta4-score:0.5284\n"
     ]
    },
    {
     "name": "stderr",
     "output_type": "stream",
     "text": [
      "Epoch 15/25 [Training]: 100%|██████████| 110/110 [00:35<00:00,  3.07it/s, loss=0.7656]\n",
      "Epoch 15/25 [Validation]: 100%|██████████| 1/1 [00:00<00:00,  1.33it/s, loss=0.8574]\n",
      "100%|██████████| 6/6 [03:26<00:00, 34.39s/it]\n"
     ]
    },
    {
     "name": "stdout",
     "output_type": "stream",
     "text": [
      "train-epoch-loss:0.7656 valid-beta4-score:0.5555\n"
     ]
    },
    {
     "name": "stderr",
     "output_type": "stream",
     "text": [
      "Epoch 16/25 [Training]: 100%|██████████| 110/110 [00:37<00:00,  2.93it/s, loss=0.7555]\n",
      "Epoch 16/25 [Validation]: 100%|██████████| 1/1 [00:00<00:00,  1.40it/s, loss=0.6832]\n",
      "100%|██████████| 6/6 [03:26<00:00, 34.38s/it]\n"
     ]
    },
    {
     "name": "stdout",
     "output_type": "stream",
     "text": [
      "train-epoch-loss:0.7555 valid-beta4-score:0.5286\n"
     ]
    },
    {
     "name": "stderr",
     "output_type": "stream",
     "text": [
      "Epoch 17/25 [Training]: 100%|██████████| 110/110 [00:38<00:00,  2.86it/s, loss=0.7586]\n",
      "Epoch 17/25 [Validation]: 100%|██████████| 1/1 [00:00<00:00,  1.36it/s, loss=0.6985]\n",
      "100%|██████████| 6/6 [03:26<00:00, 34.45s/it]\n"
     ]
    },
    {
     "name": "stdout",
     "output_type": "stream",
     "text": [
      "train-epoch-loss:0.7586 valid-beta4-score:0.5743\n"
     ]
    },
    {
     "name": "stderr",
     "output_type": "stream",
     "text": [
      "Epoch 18/25 [Training]: 100%|██████████| 110/110 [00:36<00:00,  3.03it/s, loss=0.7595]\n",
      "Epoch 18/25 [Validation]: 100%|██████████| 1/1 [00:00<00:00,  1.45it/s, loss=0.6955]\n",
      "100%|██████████| 6/6 [03:24<00:00, 34.15s/it]\n"
     ]
    },
    {
     "name": "stdout",
     "output_type": "stream",
     "text": [
      "train-epoch-loss:0.7595 valid-beta4-score:0.5811\n"
     ]
    },
    {
     "name": "stderr",
     "output_type": "stream",
     "text": [
      "Epoch 19/25 [Training]: 100%|██████████| 110/110 [00:37<00:00,  2.93it/s, loss=0.7495]\n",
      "Epoch 19/25 [Validation]: 100%|██████████| 1/1 [00:00<00:00,  1.36it/s, loss=0.8055]\n",
      "100%|██████████| 6/6 [03:22<00:00, 33.78s/it]\n"
     ]
    },
    {
     "name": "stdout",
     "output_type": "stream",
     "text": [
      "train-epoch-loss:0.7495 valid-beta4-score:0.5581\n"
     ]
    },
    {
     "name": "stderr",
     "output_type": "stream",
     "text": [
      "Epoch 20/25 [Training]: 100%|██████████| 110/110 [00:37<00:00,  2.95it/s, loss=0.7340]\n",
      "Epoch 20/25 [Validation]: 100%|██████████| 1/1 [00:00<00:00,  1.41it/s, loss=0.6708]\n",
      "100%|██████████| 6/6 [03:22<00:00, 33.82s/it]\n"
     ]
    },
    {
     "name": "stdout",
     "output_type": "stream",
     "text": [
      "train-epoch-loss:0.7340 valid-beta4-score:0.5811\n"
     ]
    },
    {
     "name": "stderr",
     "output_type": "stream",
     "text": [
      "Epoch 21/25 [Training]: 100%|██████████| 110/110 [00:37<00:00,  2.94it/s, loss=0.7266]\n",
      "Epoch 21/25 [Validation]: 100%|██████████| 1/1 [00:00<00:00,  1.36it/s, loss=0.7553]\n",
      "100%|██████████| 6/6 [03:23<00:00, 33.86s/it]\n"
     ]
    },
    {
     "name": "stdout",
     "output_type": "stream",
     "text": [
      "train-epoch-loss:0.7266 valid-beta4-score:0.5762\n"
     ]
    },
    {
     "name": "stderr",
     "output_type": "stream",
     "text": [
      "Epoch 22/25 [Training]: 100%|██████████| 110/110 [00:38<00:00,  2.85it/s, loss=0.7341]\n",
      "Epoch 22/25 [Validation]: 100%|██████████| 1/1 [00:00<00:00,  1.34it/s, loss=0.6386]\n",
      "100%|██████████| 6/6 [03:23<00:00, 33.84s/it]\n"
     ]
    },
    {
     "name": "stdout",
     "output_type": "stream",
     "text": [
      "train-epoch-loss:0.7341 valid-beta4-score:0.5840\n"
     ]
    },
    {
     "name": "stderr",
     "output_type": "stream",
     "text": [
      "Epoch 23/25 [Training]: 100%|██████████| 110/110 [00:37<00:00,  2.94it/s, loss=0.7342]\n",
      "Epoch 23/25 [Validation]: 100%|██████████| 1/1 [00:00<00:00,  1.39it/s, loss=0.5797]\n",
      "100%|██████████| 6/6 [03:23<00:00, 33.93s/it]\n"
     ]
    },
    {
     "name": "stdout",
     "output_type": "stream",
     "text": [
      "train-epoch-loss:0.7342 valid-beta4-score:0.5814\n"
     ]
    },
    {
     "name": "stderr",
     "output_type": "stream",
     "text": [
      "Epoch 24/25 [Training]: 100%|██████████| 110/110 [00:37<00:00,  2.94it/s, loss=0.7382]\n",
      "Epoch 24/25 [Validation]: 100%|██████████| 1/1 [00:00<00:00,  1.42it/s, loss=0.8572]\n",
      "100%|██████████| 6/6 [03:23<00:00, 33.97s/it]\n"
     ]
    },
    {
     "name": "stdout",
     "output_type": "stream",
     "text": [
      "train-epoch-loss:0.7382 valid-beta4-score:0.5825\n"
     ]
    },
    {
     "name": "stderr",
     "output_type": "stream",
     "text": [
      "Epoch 25/25 [Training]: 100%|██████████| 110/110 [00:35<00:00,  3.07it/s, loss=0.7428]\n",
      "Epoch 25/25 [Validation]: 100%|██████████| 1/1 [00:00<00:00,  1.37it/s, loss=0.6374]\n",
      "100%|██████████| 6/6 [03:23<00:00, 33.89s/it]\n"
     ]
    },
    {
     "name": "stdout",
     "output_type": "stream",
     "text": [
      "train-epoch-loss:0.7428 valid-beta4-score:0.5843\n"
     ]
    },
    {
     "data": {
      "text/html": [
       "Finishing last run (ID:xigaiefq) before initializing another..."
      ],
      "text/plain": [
       "<IPython.core.display.HTML object>"
      ]
     },
     "metadata": {},
     "output_type": "display_data"
    },
    {
     "name": "stderr",
     "output_type": "stream",
     "text": [
      "wandb: WARNING Source type is set to 'repo' but some required information is missing from the environment. A job will not be created from this run. See https://docs.wandb.ai/guides/launch/create-job\n"
     ]
    },
    {
     "data": {
      "application/vnd.jupyter.widget-view+json": {
       "model_id": "4594742686eb4cb58efc70e8c90b5cda",
       "version_major": 2,
       "version_minor": 0
      },
      "text/plain": [
       "VBox(children=(Label(value='0.004 MB of 0.004 MB uploaded\\r'), FloatProgress(value=1.0, max=1.0)))"
      ]
     },
     "metadata": {},
     "output_type": "display_data"
    },
    {
     "data": {
      "text/html": [
       "<style>\n",
       "    table.wandb td:nth-child(1) { padding: 0 10px; text-align: left ; width: auto;} td:nth-child(2) {text-align: left ; width: 100%}\n",
       "    .wandb-row { display: flex; flex-direction: row; flex-wrap: wrap; justify-content: flex-start; width: 100% }\n",
       "    .wandb-col { display: flex; flex-direction: column; flex-basis: 100%; flex: 1; padding: 10px; }\n",
       "    </style>\n",
       "<div class=\"wandb-row\"><div class=\"wandb-col\"><h3>Run history:</h3><br/><table class=\"wandb\"><tr><td>01_epoch</td><td>▁▁▂▂▂▂▃▃▃▄▄▄▅▅▅▅▆▆▆▇▇▇▇██</td></tr><tr><td>02_train_loss</td><td>█▆▅▅▄▄▄▃▃▃▃▃▃▃▂▂▂▂▂▁▁▁▁▁▂</td></tr><tr><td>03_valid_loss</td><td>█▆▆▆▅▇▅▅▄▄▅▃▅▃█▃▄▄▆▃▅▂▁█▂</td></tr><tr><td>04_valid_best_score</td><td>▃▁▁▄▅▇▅▇▇▇▆▇▇▇▇▇██▇██████</td></tr><tr><td>apo-ferritin</td><td>▁▁▁▂▃▃▃▂▄▄▄▅▅▄▅▅▅▆▇▇█▇██▇</td></tr><tr><td>apoo_ferritin_f4</td><td>▁▁▁▂▅▆▄▅▅▅█▆▆▅█▅▆▆▆▇▇▇▇▇▇</td></tr><tr><td>apoo_ferritin_p</td><td>▁▁▁▁▂▃▃▅▅▅█▆▆▄▇▅▇▆▅█▇▇▇▇█</td></tr><tr><td>apoo_ferritin_r</td><td>▂▁▁▄▅▆▃▅▅▅█▆▆▅█▅▆▆▆▆▆▆▆▆▆</td></tr><tr><td>beta-amylase</td><td>▁▁▁▁▁▁▁▁▁▁▁▁▁▁▁▁▁▁▁▁▁▁▁▁▁</td></tr><tr><td>beta-galactosidase</td><td>▁▁▁▁█▁█▁▁▁▁█▁▁▁▁▁▁▁▁▁▁▁▁▁</td></tr><tr><td>beta_amylase_f4</td><td>▇▂▁▆█▁▁▁▁▁▁▁▁▁▁▁▁▁▁▁▁▁▁▁▁</td></tr><tr><td>beta_amylase_p</td><td>▆▂▁▅█▁▁▁▁▁▁▁▁▁▁▁▁▁▁▁▁▁▁▁▁</td></tr><tr><td>beta_amylase_r</td><td>█▂▁▆▇▁▁▁▁▁▁▁▁▁▁▁▁▁▁▁▁▁▁▁▁</td></tr><tr><td>beta_galactosidase_f4</td><td>▅▄▂▆█▇▂▁▂▂▁▁▁▂▁▁▁▁▁▁▁▁▁▁▁</td></tr><tr><td>beta_galactosidase_p</td><td>▄▃▂▅█▆▃▁▂▂▁▁▁▃▁▁▁▁▁▁▁▁▁▁▁</td></tr><tr><td>beta_galactosidase_r</td><td>▇▅▃██▇▁▁▁▁▁▁▁▁▁▁▁▁▁▁▁▁▁▁▁</td></tr><tr><td>ribosome</td><td>▄▇█▁█▆▇▃▆▇▄█▆▄▇▅▇▅▆▆▄▆▄▆▅</td></tr><tr><td>ribosome_f4</td><td>▆▆▇▅▁▆▇▇▇▆▇▇▇▇▇▇▇▇▇█▇████</td></tr><tr><td>ribosome_p</td><td>▄▁▄▆▂▃▄▄▅▂▅▄▇▅▆▆▇▆▇█▅█▆█▇</td></tr><tr><td>ribosome_r</td><td>▆▇█▅▁▇▇▇█▇▇▇▇▇█▇▇█▇██████</td></tr><tr><td>thyroglobulin</td><td>▁▁▁▂▂▃▅▄█▄▂▇▅▃▄▄▃▇█▇▃▅▂▄▂</td></tr><tr><td>thyroglobulin_f4</td><td>▃▁▁▄▄▅▄██▇▂▇▆█▇███▇██████</td></tr><tr><td>thyroglobulin_p</td><td>▁▁▁▁▁▂▁▅▅▆█▄▆▅▄▅▅▅▆▇▅▆▆▅▆</td></tr><tr><td>thyroglobulin_r</td><td>▅▂▃█▇█▇▇▇▆▁▇▅▇▇▇▇▇▆▆▇▆▆▇▇</td></tr><tr><td>virus-like-particle</td><td>▁▁▁▁▂▂▂▂▂▂▂▃▃▃▃▃▄▃▅▃▆█▅▅█</td></tr><tr><td>virus_like_particle_f4</td><td>▂▁▁▃▄▅▆▇▆▇▇▇▇▆▇▆█████████</td></tr><tr><td>virus_like_particle_p</td><td>▁▁▁▁▁▁▂▂▂▂▃▂▂▂▂▂▇▇▇▇▇█▇▇▇</td></tr><tr><td>virus_like_particle_r</td><td>▄▅▁▇█████████████████████</td></tr></table><br/></div><div class=\"wandb-col\"><h3>Run summary:</h3><br/><table class=\"wandb\"><tr><td>01_epoch</td><td>24</td></tr><tr><td>02_train_loss</td><td>0.74277</td></tr><tr><td>03_valid_loss</td><td>0.63736</td></tr><tr><td>04_valid_best_score</td><td>0.58425</td></tr><tr><td>apo-ferritin</td><td>0.4</td></tr><tr><td>apoo_ferritin_f4</td><td>0.70382</td></tr><tr><td>apoo_ferritin_p</td><td>0.5</td></tr><tr><td>apoo_ferritin_r</td><td>0.72222</td></tr><tr><td>beta-amylase</td><td>0.05</td></tr><tr><td>beta-galactosidase</td><td>0.05</td></tr><tr><td>beta_amylase_f4</td><td>0.0</td></tr><tr><td>beta_amylase_p</td><td>0.0</td></tr><tr><td>beta_amylase_r</td><td>0.0</td></tr><tr><td>beta_galactosidase_f4</td><td>0.0</td></tr><tr><td>beta_galactosidase_p</td><td>0.0</td></tr><tr><td>beta_galactosidase_r</td><td>0.0</td></tr><tr><td>ribosome</td><td>0.5</td></tr><tr><td>ribosome_f4</td><td>0.91689</td></tr><tr><td>ribosome_p</td><td>0.67033</td></tr><tr><td>ribosome_r</td><td>0.93846</td></tr><tr><td>thyroglobulin</td><td>0.15</td></tr><tr><td>thyroglobulin_f4</td><td>0.73679</td></tr><tr><td>thyroglobulin_p</td><td>0.25309</td></tr><tr><td>thyroglobulin_r</td><td>0.83673</td></tr><tr><td>virus-like-particle</td><td>0.55</td></tr><tr><td>virus_like_particle_f4</td><td>0.9955</td></tr><tr><td>virus_like_particle_p</td><td>0.92857</td></tr><tr><td>virus_like_particle_r</td><td>1.0</td></tr></table><br/></div></div>"
      ],
      "text/plain": [
       "<IPython.core.display.HTML object>"
      ]
     },
     "metadata": {},
     "output_type": "display_data"
    },
    {
     "data": {
      "text/html": [
       " View run <strong style=\"color:#cdcd00\">exp068-recreate-baseline-renet34d-dstride_TS_99_9</strong> at: <a href='https://wandb.ai/latent-walkers/czii2024/runs/xigaiefq' target=\"_blank\">https://wandb.ai/latent-walkers/czii2024/runs/xigaiefq</a><br/>Synced 5 W&B file(s), 0 media file(s), 0 artifact file(s) and 0 other file(s)"
      ],
      "text/plain": [
       "<IPython.core.display.HTML object>"
      ]
     },
     "metadata": {},
     "output_type": "display_data"
    },
    {
     "data": {
      "text/html": [
       "Find logs at: <code>./wandb/run-20250128_093827-xigaiefq/logs</code>"
      ],
      "text/plain": [
       "<IPython.core.display.HTML object>"
      ]
     },
     "metadata": {},
     "output_type": "display_data"
    },
    {
     "data": {
      "text/html": [
       "Successfully finished last run (ID:xigaiefq). Initializing new run:<br/>"
      ],
      "text/plain": [
       "<IPython.core.display.HTML object>"
      ]
     },
     "metadata": {},
     "output_type": "display_data"
    },
    {
     "data": {
      "application/vnd.jupyter.widget-view+json": {
       "model_id": "8a406799000740de9d62aace3aa7a23c",
       "version_major": 2,
       "version_minor": 0
      },
      "text/plain": [
       "VBox(children=(Label(value='Waiting for wandb.init()...\\r'), FloatProgress(value=0.011113435544474567, max=1.0…"
      ]
     },
     "metadata": {},
     "output_type": "display_data"
    },
    {
     "data": {
      "text/html": [
       "wandb version 0.19.4 is available!  To upgrade, please run:\n",
       " $ pip install wandb --upgrade"
      ],
      "text/plain": [
       "<IPython.core.display.HTML object>"
      ]
     },
     "metadata": {},
     "output_type": "display_data"
    },
    {
     "data": {
      "text/html": [
       "Tracking run with wandb version 0.16.1"
      ],
      "text/plain": [
       "<IPython.core.display.HTML object>"
      ]
     },
     "metadata": {},
     "output_type": "display_data"
    },
    {
     "data": {
      "text/html": [
       "Run data is saved locally in <code>/home/tatsuya/code/projects/kaggle/CryoET/experiments/exp068-recreate-baseline-renet34d-dstride/wandb/run-20250128_112913-zngibjih</code>"
      ],
      "text/plain": [
       "<IPython.core.display.HTML object>"
      ]
     },
     "metadata": {},
     "output_type": "display_data"
    },
    {
     "data": {
      "text/html": [
       "Syncing run <strong><a href='https://wandb.ai/latent-walkers/czii2024/runs/zngibjih' target=\"_blank\">exp068-recreate-baseline-renet34d-dstride_TS_6_4</a></strong> to <a href='https://wandb.ai/latent-walkers/czii2024' target=\"_blank\">Weights & Biases</a> (<a href='https://wandb.me/run' target=\"_blank\">docs</a>)<br/>"
      ],
      "text/plain": [
       "<IPython.core.display.HTML object>"
      ]
     },
     "metadata": {},
     "output_type": "display_data"
    },
    {
     "data": {
      "text/html": [
       " View project at <a href='https://wandb.ai/latent-walkers/czii2024' target=\"_blank\">https://wandb.ai/latent-walkers/czii2024</a>"
      ],
      "text/plain": [
       "<IPython.core.display.HTML object>"
      ]
     },
     "metadata": {},
     "output_type": "display_data"
    },
    {
     "data": {
      "text/html": [
       " View run at <a href='https://wandb.ai/latent-walkers/czii2024/runs/zngibjih' target=\"_blank\">https://wandb.ai/latent-walkers/czii2024/runs/zngibjih</a>"
      ],
      "text/plain": [
       "<IPython.core.display.HTML object>"
      ]
     },
     "metadata": {},
     "output_type": "display_data"
    },
    {
     "name": "stderr",
     "output_type": "stream",
     "text": [
      "100%|██████████| 220/220 [00:30<00:00,  7.28it/s]\n",
      "100%|██████████| 1/1 [00:01<00:00,  1.67s/it]\n",
      "Epoch 1/25 [Training]: 100%|██████████| 110/110 [00:38<00:00,  2.88it/s, loss=0.9163]\n",
      "Epoch 1/25 [Validation]: 100%|██████████| 1/1 [00:00<00:00,  1.32it/s, loss=0.8852]\n",
      "100%|██████████| 6/6 [03:44<00:00, 37.41s/it]\n"
     ]
    },
    {
     "name": "stdout",
     "output_type": "stream",
     "text": [
      "train-epoch-loss:0.9163 valid-beta4-score:0.1676\n"
     ]
    },
    {
     "name": "stderr",
     "output_type": "stream",
     "text": [
      "Epoch 2/25 [Training]: 100%|██████████| 110/110 [00:36<00:00,  3.03it/s, loss=0.8700]\n",
      "Epoch 2/25 [Validation]: 100%|██████████| 1/1 [00:00<00:00,  1.37it/s, loss=0.8355]\n",
      "100%|██████████| 6/6 [04:02<00:00, 40.48s/it]\n"
     ]
    },
    {
     "name": "stdout",
     "output_type": "stream",
     "text": [
      "train-epoch-loss:0.8700 valid-beta4-score:0.0857\n"
     ]
    },
    {
     "name": "stderr",
     "output_type": "stream",
     "text": [
      "Epoch 3/25 [Training]: 100%|██████████| 110/110 [00:35<00:00,  3.13it/s, loss=0.8356]\n",
      "Epoch 3/25 [Validation]: 100%|██████████| 1/1 [00:00<00:00,  1.34it/s, loss=0.8558]\n",
      "100%|██████████| 6/6 [03:36<00:00, 36.10s/it]\n"
     ]
    },
    {
     "name": "stdout",
     "output_type": "stream",
     "text": [
      "train-epoch-loss:0.8356 valid-beta4-score:0.3556\n"
     ]
    },
    {
     "name": "stderr",
     "output_type": "stream",
     "text": [
      "Epoch 4/25 [Training]: 100%|██████████| 110/110 [00:36<00:00,  3.00it/s, loss=0.7970]\n",
      "Epoch 4/25 [Validation]: 100%|██████████| 1/1 [00:00<00:00,  1.33it/s, loss=0.7906]\n",
      "100%|██████████| 6/6 [03:31<00:00, 35.23s/it]\n"
     ]
    },
    {
     "name": "stdout",
     "output_type": "stream",
     "text": [
      "train-epoch-loss:0.7970 valid-beta4-score:0.3007\n"
     ]
    },
    {
     "name": "stderr",
     "output_type": "stream",
     "text": [
      "Epoch 5/25 [Training]: 100%|██████████| 110/110 [00:37<00:00,  2.90it/s, loss=0.7691]\n",
      "Epoch 5/25 [Validation]: 100%|██████████| 1/1 [00:00<00:00,  1.34it/s, loss=0.6429]\n",
      "100%|██████████| 6/6 [03:26<00:00, 34.38s/it]\n"
     ]
    },
    {
     "name": "stdout",
     "output_type": "stream",
     "text": [
      "train-epoch-loss:0.7691 valid-beta4-score:0.4724\n"
     ]
    },
    {
     "name": "stderr",
     "output_type": "stream",
     "text": [
      "Epoch 6/25 [Training]: 100%|██████████| 110/110 [00:35<00:00,  3.11it/s, loss=0.7811]\n",
      "Epoch 6/25 [Validation]: 100%|██████████| 1/1 [00:00<00:00,  1.36it/s, loss=0.8058]\n",
      "100%|██████████| 6/6 [03:27<00:00, 34.64s/it]\n"
     ]
    },
    {
     "name": "stdout",
     "output_type": "stream",
     "text": [
      "train-epoch-loss:0.7811 valid-beta4-score:0.4631\n"
     ]
    },
    {
     "name": "stderr",
     "output_type": "stream",
     "text": [
      "Epoch 7/25 [Training]: 100%|██████████| 110/110 [00:40<00:00,  2.73it/s, loss=0.7724]\n",
      "Epoch 7/25 [Validation]: 100%|██████████| 1/1 [00:00<00:00,  1.39it/s, loss=0.8354]\n",
      "100%|██████████| 6/6 [03:28<00:00, 34.81s/it]\n"
     ]
    },
    {
     "name": "stdout",
     "output_type": "stream",
     "text": [
      "train-epoch-loss:0.7724 valid-beta4-score:0.4686\n"
     ]
    },
    {
     "name": "stderr",
     "output_type": "stream",
     "text": [
      "Epoch 8/25 [Training]: 100%|██████████| 110/110 [00:36<00:00,  3.00it/s, loss=0.7626]\n",
      "Epoch 8/25 [Validation]: 100%|██████████| 1/1 [00:00<00:00,  1.39it/s, loss=0.6697]\n",
      "100%|██████████| 6/6 [03:30<00:00, 35.02s/it]\n"
     ]
    },
    {
     "name": "stdout",
     "output_type": "stream",
     "text": [
      "train-epoch-loss:0.7626 valid-beta4-score:0.4822\n"
     ]
    },
    {
     "name": "stderr",
     "output_type": "stream",
     "text": [
      "Epoch 9/25 [Training]: 100%|██████████| 110/110 [00:36<00:00,  3.04it/s, loss=0.7615]\n",
      "Epoch 9/25 [Validation]: 100%|██████████| 1/1 [00:00<00:00,  1.41it/s, loss=0.6234]\n",
      "100%|██████████| 6/6 [03:30<00:00, 35.09s/it]\n"
     ]
    },
    {
     "name": "stdout",
     "output_type": "stream",
     "text": [
      "train-epoch-loss:0.7615 valid-beta4-score:0.4980\n"
     ]
    },
    {
     "name": "stderr",
     "output_type": "stream",
     "text": [
      "Epoch 10/25 [Training]: 100%|██████████| 110/110 [00:38<00:00,  2.85it/s, loss=0.7573]\n",
      "Epoch 10/25 [Validation]: 100%|██████████| 1/1 [00:00<00:00,  1.43it/s, loss=0.6446]\n",
      "100%|██████████| 6/6 [03:32<00:00, 35.42s/it]\n"
     ]
    },
    {
     "name": "stdout",
     "output_type": "stream",
     "text": [
      "train-epoch-loss:0.7573 valid-beta4-score:0.4645\n"
     ]
    },
    {
     "name": "stderr",
     "output_type": "stream",
     "text": [
      "Epoch 11/25 [Training]: 100%|██████████| 110/110 [00:37<00:00,  2.96it/s, loss=0.7611]\n",
      "Epoch 11/25 [Validation]: 100%|██████████| 1/1 [00:00<00:00,  1.36it/s, loss=0.8522]\n",
      "100%|██████████| 6/6 [03:29<00:00, 34.96s/it]\n"
     ]
    },
    {
     "name": "stdout",
     "output_type": "stream",
     "text": [
      "train-epoch-loss:0.7611 valid-beta4-score:0.5133\n"
     ]
    },
    {
     "name": "stderr",
     "output_type": "stream",
     "text": [
      "Epoch 12/25 [Training]: 100%|██████████| 110/110 [00:34<00:00,  3.17it/s, loss=0.7487]\n",
      "Epoch 12/25 [Validation]: 100%|██████████| 1/1 [00:00<00:00,  1.39it/s, loss=0.6085]\n",
      "100%|██████████| 6/6 [03:31<00:00, 35.25s/it]\n"
     ]
    },
    {
     "name": "stdout",
     "output_type": "stream",
     "text": [
      "train-epoch-loss:0.7487 valid-beta4-score:0.5116\n"
     ]
    },
    {
     "name": "stderr",
     "output_type": "stream",
     "text": [
      "Epoch 13/25 [Training]: 100%|██████████| 110/110 [00:35<00:00,  3.14it/s, loss=0.7638]\n",
      "Epoch 13/25 [Validation]: 100%|██████████| 1/1 [00:00<00:00,  1.35it/s, loss=0.6907]\n",
      "100%|██████████| 6/6 [03:33<00:00, 35.66s/it]\n"
     ]
    },
    {
     "name": "stdout",
     "output_type": "stream",
     "text": [
      "train-epoch-loss:0.7638 valid-beta4-score:0.5472\n"
     ]
    },
    {
     "name": "stderr",
     "output_type": "stream",
     "text": [
      "Epoch 14/25 [Training]: 100%|██████████| 110/110 [00:38<00:00,  2.85it/s, loss=0.7227]\n",
      "Epoch 14/25 [Validation]: 100%|██████████| 1/1 [00:00<00:00,  1.40it/s, loss=0.5011]\n",
      "100%|██████████| 6/6 [03:29<00:00, 34.85s/it]\n"
     ]
    },
    {
     "name": "stdout",
     "output_type": "stream",
     "text": [
      "train-epoch-loss:0.7227 valid-beta4-score:0.5222\n"
     ]
    },
    {
     "name": "stderr",
     "output_type": "stream",
     "text": [
      "Epoch 15/25 [Training]: 100%|██████████| 110/110 [00:34<00:00,  3.23it/s, loss=0.7191]\n",
      "Epoch 15/25 [Validation]: 100%|██████████| 1/1 [00:00<00:00,  1.37it/s, loss=0.7231]\n",
      "100%|██████████| 6/6 [03:30<00:00, 35.15s/it]\n"
     ]
    },
    {
     "name": "stdout",
     "output_type": "stream",
     "text": [
      "train-epoch-loss:0.7191 valid-beta4-score:0.5822\n"
     ]
    },
    {
     "name": "stderr",
     "output_type": "stream",
     "text": [
      "Epoch 16/25 [Training]: 100%|██████████| 110/110 [00:39<00:00,  2.81it/s, loss=0.6930]\n",
      "Epoch 16/25 [Validation]: 100%|██████████| 1/1 [00:00<00:00,  1.31it/s, loss=0.7763]\n",
      "100%|██████████| 6/6 [03:30<00:00, 35.12s/it]\n"
     ]
    },
    {
     "name": "stdout",
     "output_type": "stream",
     "text": [
      "train-epoch-loss:0.6930 valid-beta4-score:0.6118\n"
     ]
    },
    {
     "name": "stderr",
     "output_type": "stream",
     "text": [
      "Epoch 17/25 [Training]: 100%|██████████| 110/110 [00:36<00:00,  3.04it/s, loss=0.7054]\n",
      "Epoch 17/25 [Validation]: 100%|██████████| 1/1 [00:00<00:00,  1.37it/s, loss=0.8574]\n",
      "100%|██████████| 6/6 [03:32<00:00, 35.36s/it]\n"
     ]
    },
    {
     "name": "stdout",
     "output_type": "stream",
     "text": [
      "train-epoch-loss:0.7054 valid-beta4-score:0.6200\n"
     ]
    },
    {
     "name": "stderr",
     "output_type": "stream",
     "text": [
      "Epoch 18/25 [Training]: 100%|██████████| 110/110 [00:36<00:00,  3.00it/s, loss=0.7177]\n",
      "Epoch 18/25 [Validation]: 100%|██████████| 1/1 [00:00<00:00,  1.39it/s, loss=0.4974]\n",
      "100%|██████████| 6/6 [03:32<00:00, 35.50s/it]\n"
     ]
    },
    {
     "name": "stdout",
     "output_type": "stream",
     "text": [
      "train-epoch-loss:0.7177 valid-beta4-score:0.6171\n"
     ]
    },
    {
     "name": "stderr",
     "output_type": "stream",
     "text": [
      "Epoch 19/25 [Training]: 100%|██████████| 110/110 [00:38<00:00,  2.83it/s, loss=0.6979]\n",
      "Epoch 19/25 [Validation]: 100%|██████████| 1/1 [00:00<00:00,  1.39it/s, loss=0.6496]\n",
      "100%|██████████| 6/6 [03:32<00:00, 35.43s/it]\n"
     ]
    },
    {
     "name": "stdout",
     "output_type": "stream",
     "text": [
      "train-epoch-loss:0.6979 valid-beta4-score:0.6376\n"
     ]
    },
    {
     "name": "stderr",
     "output_type": "stream",
     "text": [
      "Epoch 20/25 [Training]: 100%|██████████| 110/110 [00:37<00:00,  2.97it/s, loss=0.7005]\n",
      "Epoch 20/25 [Validation]: 100%|██████████| 1/1 [00:00<00:00,  1.35it/s, loss=0.8572]\n",
      "100%|██████████| 6/6 [03:33<00:00, 35.55s/it]\n"
     ]
    },
    {
     "name": "stdout",
     "output_type": "stream",
     "text": [
      "train-epoch-loss:0.7005 valid-beta4-score:0.6399\n"
     ]
    },
    {
     "name": "stderr",
     "output_type": "stream",
     "text": [
      "Epoch 21/25 [Training]: 100%|██████████| 110/110 [00:37<00:00,  2.94it/s, loss=0.7012]\n",
      "Epoch 21/25 [Validation]: 100%|██████████| 1/1 [00:00<00:00,  1.43it/s, loss=0.7838]\n",
      "100%|██████████| 6/6 [03:32<00:00, 35.50s/it]\n"
     ]
    },
    {
     "name": "stdout",
     "output_type": "stream",
     "text": [
      "train-epoch-loss:0.7012 valid-beta4-score:0.6202\n"
     ]
    },
    {
     "name": "stderr",
     "output_type": "stream",
     "text": [
      "Epoch 22/25 [Training]: 100%|██████████| 110/110 [00:37<00:00,  2.92it/s, loss=0.7009]\n",
      "Epoch 22/25 [Validation]: 100%|██████████| 1/1 [00:00<00:00,  1.35it/s, loss=0.7674]\n",
      "100%|██████████| 6/6 [03:32<00:00, 35.41s/it]\n"
     ]
    },
    {
     "name": "stdout",
     "output_type": "stream",
     "text": [
      "train-epoch-loss:0.7009 valid-beta4-score:0.6428\n"
     ]
    },
    {
     "name": "stderr",
     "output_type": "stream",
     "text": [
      "Epoch 23/25 [Training]: 100%|██████████| 110/110 [00:38<00:00,  2.84it/s, loss=0.7035]\n",
      "Epoch 23/25 [Validation]: 100%|██████████| 1/1 [00:00<00:00,  1.37it/s, loss=0.5659]\n",
      "100%|██████████| 6/6 [03:33<00:00, 35.51s/it]\n"
     ]
    },
    {
     "name": "stdout",
     "output_type": "stream",
     "text": [
      "train-epoch-loss:0.7035 valid-beta4-score:0.6207\n"
     ]
    },
    {
     "name": "stderr",
     "output_type": "stream",
     "text": [
      "Epoch 24/25 [Training]: 100%|██████████| 110/110 [00:41<00:00,  2.68it/s, loss=0.6778]\n",
      "Epoch 24/25 [Validation]: 100%|██████████| 1/1 [00:00<00:00,  1.42it/s, loss=0.8116]\n",
      "100%|██████████| 6/6 [03:32<00:00, 35.37s/it]\n"
     ]
    },
    {
     "name": "stdout",
     "output_type": "stream",
     "text": [
      "train-epoch-loss:0.6778 valid-beta4-score:0.6363\n"
     ]
    },
    {
     "name": "stderr",
     "output_type": "stream",
     "text": [
      "Epoch 25/25 [Training]: 100%|██████████| 110/110 [00:35<00:00,  3.08it/s, loss=0.6989]\n",
      "Epoch 25/25 [Validation]: 100%|██████████| 1/1 [00:00<00:00,  1.39it/s, loss=0.4856]\n",
      "100%|██████████| 6/6 [03:32<00:00, 35.36s/it]\n"
     ]
    },
    {
     "name": "stdout",
     "output_type": "stream",
     "text": [
      "train-epoch-loss:0.6989 valid-beta4-score:0.6147\n"
     ]
    },
    {
     "data": {
      "text/html": [
       "Finishing last run (ID:zngibjih) before initializing another..."
      ],
      "text/plain": [
       "<IPython.core.display.HTML object>"
      ]
     },
     "metadata": {},
     "output_type": "display_data"
    },
    {
     "name": "stderr",
     "output_type": "stream",
     "text": [
      "wandb: WARNING Source type is set to 'repo' but some required information is missing from the environment. A job will not be created from this run. See https://docs.wandb.ai/guides/launch/create-job\n"
     ]
    },
    {
     "data": {
      "application/vnd.jupyter.widget-view+json": {
       "model_id": "90f7d9e3caa645928415fca9d05d7f06",
       "version_major": 2,
       "version_minor": 0
      },
      "text/plain": [
       "VBox(children=(Label(value='0.004 MB of 0.004 MB uploaded\\r'), FloatProgress(value=1.0, max=1.0)))"
      ]
     },
     "metadata": {},
     "output_type": "display_data"
    },
    {
     "data": {
      "text/html": [
       "<style>\n",
       "    table.wandb td:nth-child(1) { padding: 0 10px; text-align: left ; width: auto;} td:nth-child(2) {text-align: left ; width: 100%}\n",
       "    .wandb-row { display: flex; flex-direction: row; flex-wrap: wrap; justify-content: flex-start; width: 100% }\n",
       "    .wandb-col { display: flex; flex-direction: column; flex-basis: 100%; flex: 1; padding: 10px; }\n",
       "    </style>\n",
       "<div class=\"wandb-row\"><div class=\"wandb-col\"><h3>Run history:</h3><br/><table class=\"wandb\"><tr><td>01_epoch</td><td>▁▁▂▂▂▂▃▃▃▄▄▄▅▅▅▅▆▆▆▇▇▇▇██</td></tr><tr><td>02_train_loss</td><td>█▇▆▄▄▄▄▃▃▃▃▃▄▂▂▁▂▂▂▂▂▂▂▁▂</td></tr><tr><td>03_valid_loss</td><td>█▇▇▆▄▇▇▄▃▄▇▃▅▁▅▆█▁▄█▆▆▂▇▁</td></tr><tr><td>04_valid_best_score</td><td>▂▁▄▄▆▆▆▆▆▆▆▆▇▆▇██████████</td></tr><tr><td>apo-ferritin</td><td>▂▂▁▁▁▁▁▁▁▁▁▂██▇█▇█▇██▆███</td></tr><tr><td>apoo_ferritin_f4</td><td>▁▁▂▁▁▂▂▁▃▃▄▅▇▇██████▇█▇█▇</td></tr><tr><td>apoo_ferritin_p</td><td>▁▁▁▁▁▁▁▁▁▁▂▂▆▆█▇▆▇▇█▇▇▇▇▇</td></tr><tr><td>apoo_ferritin_r</td><td>▃▃▃▁▁▃▂▁▃▃▄▆▇▇██████▇█▇█▇</td></tr><tr><td>beta-amylase</td><td>▁▁▁▁▁▁▁▁▁▁▁▁▁▁▁▁▁▁▁▁▁▁▁▁▁</td></tr><tr><td>beta-galactosidase</td><td>▁▃▁▁▁▂▃▁▃▃▄▄▁▁▃▅▃▄▄▄▃█▇▇▇</td></tr><tr><td>beta_amylase_f4</td><td>▁▂█▁▁▁▁▁▁▁▁▁▁▁▁▁▁▁▁▁▁▁▁▁▁</td></tr><tr><td>beta_amylase_p</td><td>▁▂█▁▁▁▁▁▁▁▁▁▁▁▁▁▁▁▁▁▁▁▁▁▁</td></tr><tr><td>beta_amylase_r</td><td>▁▅█▁▁▁▁▁▁▁▁▁▁▁▁▁▁▁▁▁▁▁▁▁▁</td></tr><tr><td>beta_galactosidase_f4</td><td>▂▁▂▁▅▅▅▅▅▅▅▅▄▃▇▇▇▆▇█▇█▇█▇</td></tr><tr><td>beta_galactosidase_p</td><td>▂▁▁▁▄▃▄▄▄▄▅▄▃▄█▆▆▄▆▇▆▇▆▇▆</td></tr><tr><td>beta_galactosidase_r</td><td>▂▃▇▁▆▆▇▆▇▇▅█▇▂▅▇▇█▇▇▇█▇▇▇</td></tr><tr><td>ribosome</td><td>▃█▅▅▇██▅▆█▁▇▆▂▅▇██▆█▆▆█▆█</td></tr><tr><td>ribosome_f4</td><td>▂▁▃▆▆▅▆█▇▄█▆▇▇▇▇█▇█▇█████</td></tr><tr><td>ribosome_p</td><td>▁▁▄▆▆▅▅██▅▇▆▇█▇▇▇██▇█████</td></tr><tr><td>ribosome_r</td><td>▆▂▁▅▆▅▆▇▆▃▇▅▆▇▇▆█▆▇▇▇█▇▇▇</td></tr><tr><td>thyroglobulin</td><td>▂▂▅▁▅▇▅▅▅█▆▇▇▄▂▅█▆▇▇▄▅▅▅▇</td></tr><tr><td>thyroglobulin_f4</td><td>▃▁▆▅█▇██▇▇▇▇▇▇▇▇▇█████▇▇█</td></tr><tr><td>thyroglobulin_p</td><td>▂▁▄▃▄▄▄▅▃▄▅▄▄▇▅▅█▅▆▇▅▆▅▇▇</td></tr><tr><td>thyroglobulin_r</td><td>▄▁▆▄▇▇█▇▇▇▇▇█▆▆▇▆█▇▇▇▇▇▇▇</td></tr><tr><td>virus-like-particle</td><td>▁▂█▅▅█▇▆▇▅▅█▅▅▅▇▇█▅▇▆▅▅▅▆</td></tr><tr><td>virus_like_particle_f4</td><td>▁▁▇▆█▇▇▇█▇██▇█▇██████████</td></tr><tr><td>virus_like_particle_p</td><td>▁▁▃▃▄▃▅▆▆▃▄▄▃██▇▇▇▇▇▇▇▇▇▇</td></tr><tr><td>virus_like_particle_r</td><td>▁▂▇▇██▇▇██████▇██████████</td></tr></table><br/></div><div class=\"wandb-col\"><h3>Run summary:</h3><br/><table class=\"wandb\"><tr><td>01_epoch</td><td>24</td></tr><tr><td>02_train_loss</td><td>0.6989</td></tr><tr><td>03_valid_loss</td><td>0.48561</td></tr><tr><td>04_valid_best_score</td><td>0.61472</td></tr><tr><td>apo-ferritin</td><td>0.75</td></tr><tr><td>apoo_ferritin_f4</td><td>0.62649</td></tr><tr><td>apoo_ferritin_p</td><td>0.48684</td></tr><tr><td>apoo_ferritin_r</td><td>0.63793</td></tr><tr><td>beta-amylase</td><td>0.05</td></tr><tr><td>beta-galactosidase</td><td>0.35</td></tr><tr><td>beta_amylase_f4</td><td>0.0</td></tr><tr><td>beta_amylase_p</td><td>0.0</td></tr><tr><td>beta_amylase_r</td><td>0.0</td></tr><tr><td>beta_galactosidase_f4</td><td>0.36779</td></tr><tr><td>beta_galactosidase_p</td><td>0.04018</td></tr><tr><td>beta_galactosidase_r</td><td>0.75</td></tr><tr><td>ribosome</td><td>0.75</td></tr><tr><td>ribosome_f4</td><td>0.86574</td></tr><tr><td>ribosome_p</td><td>0.58929</td></tr><tr><td>ribosome_r</td><td>0.89189</td></tr><tr><td>thyroglobulin</td><td>0.7</td></tr><tr><td>thyroglobulin_f4</td><td>0.63523</td></tr><tr><td>thyroglobulin_p</td><td>0.2561</td></tr><tr><td>thyroglobulin_r</td><td>0.7</td></tr><tr><td>virus-like-particle</td><td>0.55</td></tr><tr><td>virus_like_particle_f4</td><td>0.80473</td></tr><tr><td>virus_like_particle_p</td><td>0.88889</td></tr><tr><td>virus_like_particle_r</td><td>0.8</td></tr></table><br/></div></div>"
      ],
      "text/plain": [
       "<IPython.core.display.HTML object>"
      ]
     },
     "metadata": {},
     "output_type": "display_data"
    },
    {
     "data": {
      "text/html": [
       " View run <strong style=\"color:#cdcd00\">exp068-recreate-baseline-renet34d-dstride_TS_6_4</strong> at: <a href='https://wandb.ai/latent-walkers/czii2024/runs/zngibjih' target=\"_blank\">https://wandb.ai/latent-walkers/czii2024/runs/zngibjih</a><br/>Synced 5 W&B file(s), 0 media file(s), 0 artifact file(s) and 0 other file(s)"
      ],
      "text/plain": [
       "<IPython.core.display.HTML object>"
      ]
     },
     "metadata": {},
     "output_type": "display_data"
    },
    {
     "data": {
      "text/html": [
       "Find logs at: <code>./wandb/run-20250128_112913-zngibjih/logs</code>"
      ],
      "text/plain": [
       "<IPython.core.display.HTML object>"
      ]
     },
     "metadata": {},
     "output_type": "display_data"
    },
    {
     "data": {
      "text/html": [
       "Successfully finished last run (ID:zngibjih). Initializing new run:<br/>"
      ],
      "text/plain": [
       "<IPython.core.display.HTML object>"
      ]
     },
     "metadata": {},
     "output_type": "display_data"
    },
    {
     "data": {
      "application/vnd.jupyter.widget-view+json": {
       "model_id": "5aebbc5d9899458eb4f8617310dd875a",
       "version_major": 2,
       "version_minor": 0
      },
      "text/plain": [
       "VBox(children=(Label(value='Waiting for wandb.init()...\\r'), FloatProgress(value=0.01111384297772828, max=1.0)…"
      ]
     },
     "metadata": {},
     "output_type": "display_data"
    },
    {
     "data": {
      "text/html": [
       "wandb version 0.19.4 is available!  To upgrade, please run:\n",
       " $ pip install wandb --upgrade"
      ],
      "text/plain": [
       "<IPython.core.display.HTML object>"
      ]
     },
     "metadata": {},
     "output_type": "display_data"
    },
    {
     "data": {
      "text/html": [
       "Tracking run with wandb version 0.16.1"
      ],
      "text/plain": [
       "<IPython.core.display.HTML object>"
      ]
     },
     "metadata": {},
     "output_type": "display_data"
    },
    {
     "data": {
      "text/html": [
       "Run data is saved locally in <code>/home/tatsuya/code/projects/kaggle/CryoET/experiments/exp068-recreate-baseline-renet34d-dstride/wandb/run-20250128_132236-32wgd0ej</code>"
      ],
      "text/plain": [
       "<IPython.core.display.HTML object>"
      ]
     },
     "metadata": {},
     "output_type": "display_data"
    },
    {
     "data": {
      "text/html": [
       "Syncing run <strong><a href='https://wandb.ai/latent-walkers/czii2024/runs/32wgd0ej' target=\"_blank\">exp068-recreate-baseline-renet34d-dstride_TS_69_2</a></strong> to <a href='https://wandb.ai/latent-walkers/czii2024' target=\"_blank\">Weights & Biases</a> (<a href='https://wandb.me/run' target=\"_blank\">docs</a>)<br/>"
      ],
      "text/plain": [
       "<IPython.core.display.HTML object>"
      ]
     },
     "metadata": {},
     "output_type": "display_data"
    },
    {
     "data": {
      "text/html": [
       " View project at <a href='https://wandb.ai/latent-walkers/czii2024' target=\"_blank\">https://wandb.ai/latent-walkers/czii2024</a>"
      ],
      "text/plain": [
       "<IPython.core.display.HTML object>"
      ]
     },
     "metadata": {},
     "output_type": "display_data"
    },
    {
     "data": {
      "text/html": [
       " View run at <a href='https://wandb.ai/latent-walkers/czii2024/runs/32wgd0ej' target=\"_blank\">https://wandb.ai/latent-walkers/czii2024/runs/32wgd0ej</a>"
      ],
      "text/plain": [
       "<IPython.core.display.HTML object>"
      ]
     },
     "metadata": {},
     "output_type": "display_data"
    },
    {
     "name": "stderr",
     "output_type": "stream",
     "text": [
      "100%|██████████| 220/220 [00:29<00:00,  7.34it/s]\n",
      "100%|██████████| 1/1 [00:01<00:00,  1.50s/it]\n",
      "Epoch 1/25 [Training]: 100%|██████████| 110/110 [00:40<00:00,  2.69it/s, loss=0.9129]\n",
      "Epoch 1/25 [Validation]: 100%|██████████| 1/1 [00:00<00:00,  1.31it/s, loss=0.8885]\n",
      "  0%|          | 0/6 [00:06<?, ?it/s]\n"
     ]
    },
    {
     "name": "stdout",
     "output_type": "stream",
     "text": [
      "train-epoch-loss:0.9129 valid-beta4-score:-50.0000\n"
     ]
    },
    {
     "name": "stderr",
     "output_type": "stream",
     "text": [
      "Epoch 2/25 [Training]: 100%|██████████| 110/110 [00:38<00:00,  2.86it/s, loss=0.8734]\n",
      "Epoch 2/25 [Validation]: 100%|██████████| 1/1 [00:00<00:00,  1.37it/s, loss=0.8527]\n",
      "  0%|          | 0/6 [00:06<?, ?it/s]\n"
     ]
    },
    {
     "name": "stdout",
     "output_type": "stream",
     "text": [
      "train-epoch-loss:0.8734 valid-beta4-score:-50.0000\n"
     ]
    },
    {
     "name": "stderr",
     "output_type": "stream",
     "text": [
      "Epoch 3/25 [Training]: 100%|██████████| 110/110 [00:39<00:00,  2.76it/s, loss=0.8478]\n",
      "Epoch 3/25 [Validation]: 100%|██████████| 1/1 [00:00<00:00,  1.38it/s, loss=0.8591]\n",
      "  0%|          | 0/6 [00:06<?, ?it/s]\n"
     ]
    },
    {
     "name": "stdout",
     "output_type": "stream",
     "text": [
      "train-epoch-loss:0.8478 valid-beta4-score:-50.0000\n"
     ]
    },
    {
     "name": "stderr",
     "output_type": "stream",
     "text": [
      "Epoch 4/25 [Training]: 100%|██████████| 110/110 [00:38<00:00,  2.85it/s, loss=0.8399]\n",
      "Epoch 4/25 [Validation]: 100%|██████████| 1/1 [00:00<00:00,  1.36it/s, loss=0.8211]\n",
      "  0%|          | 0/6 [00:06<?, ?it/s]\n"
     ]
    },
    {
     "name": "stdout",
     "output_type": "stream",
     "text": [
      "train-epoch-loss:0.8399 valid-beta4-score:-50.0000\n"
     ]
    },
    {
     "name": "stderr",
     "output_type": "stream",
     "text": [
      "Epoch 5/25 [Training]: 100%|██████████| 110/110 [00:37<00:00,  2.94it/s, loss=0.8349]\n",
      "Epoch 5/25 [Validation]: 100%|██████████| 1/1 [00:00<00:00,  1.40it/s, loss=0.8379]\n",
      "  0%|          | 0/6 [00:06<?, ?it/s]\n"
     ]
    },
    {
     "name": "stdout",
     "output_type": "stream",
     "text": [
      "train-epoch-loss:0.8349 valid-beta4-score:-50.0000\n"
     ]
    },
    {
     "name": "stderr",
     "output_type": "stream",
     "text": [
      "Epoch 6/25 [Training]: 100%|██████████| 110/110 [00:36<00:00,  3.01it/s, loss=0.8332]\n",
      "Epoch 6/25 [Validation]: 100%|██████████| 1/1 [00:00<00:00,  1.39it/s, loss=0.8577]\n",
      "  0%|          | 0/6 [00:06<?, ?it/s]\n"
     ]
    },
    {
     "name": "stdout",
     "output_type": "stream",
     "text": [
      "train-epoch-loss:0.8332 valid-beta4-score:-50.0000\n"
     ]
    },
    {
     "name": "stderr",
     "output_type": "stream",
     "text": [
      "Epoch 7/25 [Training]: 100%|██████████| 110/110 [00:36<00:00,  2.99it/s, loss=0.8309]\n",
      "Epoch 7/25 [Validation]: 100%|██████████| 1/1 [00:00<00:00,  1.36it/s, loss=0.8014]\n",
      "  0%|          | 0/6 [00:06<?, ?it/s]\n"
     ]
    },
    {
     "name": "stdout",
     "output_type": "stream",
     "text": [
      "train-epoch-loss:0.8309 valid-beta4-score:-50.0000\n"
     ]
    },
    {
     "name": "stderr",
     "output_type": "stream",
     "text": [
      "Epoch 8/25 [Training]: 100%|██████████| 110/110 [00:37<00:00,  2.95it/s, loss=0.8254]\n",
      "Epoch 8/25 [Validation]: 100%|██████████| 1/1 [00:00<00:00,  1.37it/s, loss=0.8572]\n",
      "100%|██████████| 6/6 [03:21<00:00, 33.57s/it]\n"
     ]
    },
    {
     "name": "stdout",
     "output_type": "stream",
     "text": [
      "train-epoch-loss:0.8254 valid-beta4-score:0.5371\n"
     ]
    },
    {
     "name": "stderr",
     "output_type": "stream",
     "text": [
      "Epoch 9/25 [Training]: 100%|██████████| 110/110 [00:35<00:00,  3.07it/s, loss=0.8129]\n",
      "Epoch 9/25 [Validation]: 100%|██████████| 1/1 [00:00<00:00,  1.43it/s, loss=0.8575]\n",
      "100%|██████████| 6/6 [03:20<00:00, 33.44s/it]\n"
     ]
    },
    {
     "name": "stdout",
     "output_type": "stream",
     "text": [
      "train-epoch-loss:0.8129 valid-beta4-score:0.5590\n"
     ]
    },
    {
     "name": "stderr",
     "output_type": "stream",
     "text": [
      "Epoch 10/25 [Training]: 100%|██████████| 110/110 [00:38<00:00,  2.84it/s, loss=0.7920]\n",
      "Epoch 10/25 [Validation]: 100%|██████████| 1/1 [00:00<00:00,  1.38it/s, loss=0.7048]\n",
      "100%|██████████| 6/6 [03:17<00:00, 32.83s/it]\n"
     ]
    },
    {
     "name": "stdout",
     "output_type": "stream",
     "text": [
      "train-epoch-loss:0.7920 valid-beta4-score:0.3644\n"
     ]
    },
    {
     "name": "stderr",
     "output_type": "stream",
     "text": [
      "Epoch 11/25 [Training]: 100%|██████████| 110/110 [00:37<00:00,  2.94it/s, loss=0.7718]\n",
      "Epoch 11/25 [Validation]: 100%|██████████| 1/1 [00:00<00:00,  1.40it/s, loss=0.8573]\n",
      "100%|██████████| 6/6 [03:20<00:00, 33.47s/it]\n"
     ]
    },
    {
     "name": "stdout",
     "output_type": "stream",
     "text": [
      "train-epoch-loss:0.7718 valid-beta4-score:0.3984\n"
     ]
    },
    {
     "name": "stderr",
     "output_type": "stream",
     "text": [
      "Epoch 12/25 [Training]: 100%|██████████| 110/110 [00:35<00:00,  3.08it/s, loss=0.7717]\n",
      "Epoch 12/25 [Validation]: 100%|██████████| 1/1 [00:00<00:00,  1.39it/s, loss=0.6484]\n",
      "100%|██████████| 6/6 [03:18<00:00, 33.12s/it]\n"
     ]
    },
    {
     "name": "stdout",
     "output_type": "stream",
     "text": [
      "train-epoch-loss:0.7717 valid-beta4-score:0.3842\n"
     ]
    },
    {
     "name": "stderr",
     "output_type": "stream",
     "text": [
      "Epoch 13/25 [Training]: 100%|██████████| 110/110 [00:37<00:00,  2.96it/s, loss=0.7487]\n",
      "Epoch 13/25 [Validation]: 100%|██████████| 1/1 [00:00<00:00,  1.39it/s, loss=0.8572]\n",
      "100%|██████████| 6/6 [03:18<00:00, 33.13s/it]\n"
     ]
    },
    {
     "name": "stdout",
     "output_type": "stream",
     "text": [
      "train-epoch-loss:0.7487 valid-beta4-score:0.3882\n"
     ]
    },
    {
     "name": "stderr",
     "output_type": "stream",
     "text": [
      "Epoch 14/25 [Training]: 100%|██████████| 110/110 [00:38<00:00,  2.87it/s, loss=0.7454]\n",
      "Epoch 14/25 [Validation]: 100%|██████████| 1/1 [00:00<00:00,  1.41it/s, loss=0.8572]\n",
      "100%|██████████| 6/6 [03:17<00:00, 32.91s/it]\n"
     ]
    },
    {
     "name": "stdout",
     "output_type": "stream",
     "text": [
      "train-epoch-loss:0.7454 valid-beta4-score:0.3870\n"
     ]
    },
    {
     "name": "stderr",
     "output_type": "stream",
     "text": [
      "Epoch 15/25 [Training]: 100%|██████████| 110/110 [00:40<00:00,  2.68it/s, loss=0.7120]\n",
      "Epoch 15/25 [Validation]: 100%|██████████| 1/1 [00:00<00:00,  1.38it/s, loss=0.8572]\n",
      "100%|██████████| 6/6 [03:16<00:00, 32.77s/it]\n"
     ]
    },
    {
     "name": "stdout",
     "output_type": "stream",
     "text": [
      "train-epoch-loss:0.7120 valid-beta4-score:0.4099\n"
     ]
    },
    {
     "name": "stderr",
     "output_type": "stream",
     "text": [
      "Epoch 16/25 [Training]: 100%|██████████| 110/110 [00:36<00:00,  3.04it/s, loss=0.7285]\n",
      "Epoch 16/25 [Validation]: 100%|██████████| 1/1 [00:00<00:00,  1.36it/s, loss=0.8572]\n",
      "100%|██████████| 6/6 [03:16<00:00, 32.77s/it]\n"
     ]
    },
    {
     "name": "stdout",
     "output_type": "stream",
     "text": [
      "train-epoch-loss:0.7285 valid-beta4-score:0.4027\n"
     ]
    },
    {
     "name": "stderr",
     "output_type": "stream",
     "text": [
      "Epoch 17/25 [Training]: 100%|██████████| 110/110 [00:36<00:00,  2.99it/s, loss=0.7323]\n",
      "Epoch 17/25 [Validation]: 100%|██████████| 1/1 [00:00<00:00,  1.36it/s, loss=0.8572]\n",
      "100%|██████████| 6/6 [03:21<00:00, 33.60s/it]\n"
     ]
    },
    {
     "name": "stdout",
     "output_type": "stream",
     "text": [
      "train-epoch-loss:0.7323 valid-beta4-score:0.4032\n"
     ]
    },
    {
     "name": "stderr",
     "output_type": "stream",
     "text": [
      "Epoch 18/25 [Training]: 100%|██████████| 110/110 [00:38<00:00,  2.89it/s, loss=0.7171]\n",
      "Epoch 18/25 [Validation]: 100%|██████████| 1/1 [00:00<00:00,  1.39it/s, loss=0.5572]\n",
      "100%|██████████| 6/6 [03:15<00:00, 32.64s/it]\n"
     ]
    },
    {
     "name": "stdout",
     "output_type": "stream",
     "text": [
      "train-epoch-loss:0.7171 valid-beta4-score:0.4047\n"
     ]
    },
    {
     "name": "stderr",
     "output_type": "stream",
     "text": [
      "Epoch 19/25 [Training]: 100%|██████████| 110/110 [00:36<00:00,  2.98it/s, loss=0.7238]\n",
      "Epoch 19/25 [Validation]: 100%|██████████| 1/1 [00:00<00:00,  1.38it/s, loss=0.8572]\n",
      "100%|██████████| 6/6 [03:16<00:00, 32.81s/it]\n"
     ]
    },
    {
     "name": "stdout",
     "output_type": "stream",
     "text": [
      "train-epoch-loss:0.7238 valid-beta4-score:0.3927\n"
     ]
    },
    {
     "name": "stderr",
     "output_type": "stream",
     "text": [
      "Epoch 20/25 [Training]: 100%|██████████| 110/110 [00:36<00:00,  2.98it/s, loss=0.7077]\n",
      "Epoch 20/25 [Validation]: 100%|██████████| 1/1 [00:00<00:00,  1.35it/s, loss=0.8572]\n",
      "100%|██████████| 6/6 [03:15<00:00, 32.66s/it]\n"
     ]
    },
    {
     "name": "stdout",
     "output_type": "stream",
     "text": [
      "train-epoch-loss:0.7077 valid-beta4-score:0.4087\n"
     ]
    },
    {
     "name": "stderr",
     "output_type": "stream",
     "text": [
      "Epoch 21/25 [Training]: 100%|██████████| 110/110 [00:34<00:00,  3.16it/s, loss=0.7412]\n",
      "Epoch 21/25 [Validation]: 100%|██████████| 1/1 [00:00<00:00,  1.32it/s, loss=0.8572]\n",
      "100%|██████████| 6/6 [03:17<00:00, 32.90s/it]\n"
     ]
    },
    {
     "name": "stdout",
     "output_type": "stream",
     "text": [
      "train-epoch-loss:0.7412 valid-beta4-score:0.3904\n"
     ]
    },
    {
     "name": "stderr",
     "output_type": "stream",
     "text": [
      "Epoch 22/25 [Training]: 100%|██████████| 110/110 [00:39<00:00,  2.80it/s, loss=0.7129]\n",
      "Epoch 22/25 [Validation]: 100%|██████████| 1/1 [00:00<00:00,  1.33it/s, loss=0.6180]\n",
      "100%|██████████| 6/6 [03:16<00:00, 32.70s/it]\n"
     ]
    },
    {
     "name": "stdout",
     "output_type": "stream",
     "text": [
      "train-epoch-loss:0.7129 valid-beta4-score:0.3980\n"
     ]
    },
    {
     "name": "stderr",
     "output_type": "stream",
     "text": [
      "Epoch 23/25 [Training]: 100%|██████████| 110/110 [00:37<00:00,  2.95it/s, loss=0.7059]\n",
      "Epoch 23/25 [Validation]: 100%|██████████| 1/1 [00:00<00:00,  1.37it/s, loss=0.5518]\n",
      "100%|██████████| 6/6 [03:21<00:00, 33.61s/it]\n"
     ]
    },
    {
     "name": "stdout",
     "output_type": "stream",
     "text": [
      "train-epoch-loss:0.7059 valid-beta4-score:0.3981\n"
     ]
    },
    {
     "name": "stderr",
     "output_type": "stream",
     "text": [
      "Epoch 24/25 [Training]: 100%|██████████| 110/110 [00:36<00:00,  2.99it/s, loss=0.7049]\n",
      "Epoch 24/25 [Validation]: 100%|██████████| 1/1 [00:00<00:00,  1.43it/s, loss=0.8572]\n",
      "100%|██████████| 6/6 [03:17<00:00, 32.92s/it]\n"
     ]
    },
    {
     "name": "stdout",
     "output_type": "stream",
     "text": [
      "train-epoch-loss:0.7049 valid-beta4-score:0.4045\n"
     ]
    },
    {
     "name": "stderr",
     "output_type": "stream",
     "text": [
      "Epoch 25/25 [Training]: 100%|██████████| 110/110 [00:37<00:00,  2.92it/s, loss=0.7186]\n",
      "Epoch 25/25 [Validation]: 100%|██████████| 1/1 [00:00<00:00,  1.38it/s, loss=0.8542]\n",
      "100%|██████████| 6/6 [03:15<00:00, 32.67s/it]\n"
     ]
    },
    {
     "name": "stdout",
     "output_type": "stream",
     "text": [
      "train-epoch-loss:0.7186 valid-beta4-score:0.3991\n"
     ]
    },
    {
     "data": {
      "text/html": [
       "Finishing last run (ID:32wgd0ej) before initializing another..."
      ],
      "text/plain": [
       "<IPython.core.display.HTML object>"
      ]
     },
     "metadata": {},
     "output_type": "display_data"
    },
    {
     "name": "stderr",
     "output_type": "stream",
     "text": [
      "wandb: WARNING Source type is set to 'repo' but some required information is missing from the environment. A job will not be created from this run. See https://docs.wandb.ai/guides/launch/create-job\n"
     ]
    },
    {
     "data": {
      "application/vnd.jupyter.widget-view+json": {
       "model_id": "15aeaded866646ce9613788a138609cb",
       "version_major": 2,
       "version_minor": 0
      },
      "text/plain": [
       "VBox(children=(Label(value='0.004 MB of 0.004 MB uploaded\\r'), FloatProgress(value=1.0, max=1.0)))"
      ]
     },
     "metadata": {},
     "output_type": "display_data"
    },
    {
     "data": {
      "text/html": [
       "<style>\n",
       "    table.wandb td:nth-child(1) { padding: 0 10px; text-align: left ; width: auto;} td:nth-child(2) {text-align: left ; width: 100%}\n",
       "    .wandb-row { display: flex; flex-direction: row; flex-wrap: wrap; justify-content: flex-start; width: 100% }\n",
       "    .wandb-col { display: flex; flex-direction: column; flex-basis: 100%; flex: 1; padding: 10px; }\n",
       "    </style>\n",
       "<div class=\"wandb-row\"><div class=\"wandb-col\"><h3>Run history:</h3><br/><table class=\"wandb\"><tr><td>01_epoch</td><td>▁▁▂▂▂▂▃▃▃▄▄▄▅▅▅▅▆▆▆▇▇▇▇██</td></tr><tr><td>02_train_loss</td><td>█▇▆▆▅▅▅▅▅▄▃▃▂▂▁▂▂▁▂▁▂▁▁▁▁</td></tr><tr><td>03_valid_loss</td><td>█▇▇▇▇▇▆▇▇▄▇▃▇▇▇▇▇▁▇▇▇▂▁▇▇</td></tr><tr><td>04_valid_best_score</td><td>▁▁▁▁▁▁▁██████████████████</td></tr><tr><td>apo-ferritin</td><td>▅▅▅▅▅▅▅▁▁▁▃▇█▆▇▆▅▅▆▇▆▆▅▅▅</td></tr><tr><td>apoo_ferritin_f4</td><td>▁▁▆▇▅▆▅█▇▇▇▆▇▆▆▆▆▆</td></tr><tr><td>apoo_ferritin_p</td><td>▁▁▅▇▄▇▆▇██▇▇█▇▇▆▇▇</td></tr><tr><td>apoo_ferritin_r</td><td>▁▃▆▇▅▅▅█▆▆▆▅▆▅▅▆▆▆</td></tr><tr><td>beta-amylase</td><td>███████▁▁▁▁▁▁▁▁▁▁▁▁▁▁▁▁▁▁</td></tr><tr><td>beta-galactosidase</td><td>███████▁▁▁▁▁▁▁▁▁▁▁▁▁▁▁▁▁▁</td></tr><tr><td>beta_amylase_f4</td><td>▂█▁▁▁▁▁▁▁▁▁▁▁▁▁▁▁▁</td></tr><tr><td>beta_amylase_p</td><td>▂█▁▁▁▁▁▁▁▁▁▁▁▁▁▁▁▁</td></tr><tr><td>beta_amylase_r</td><td>▂█▁▁▁▁▁▁▁▁▁▁▁▁▁▁▁▁</td></tr><tr><td>beta_galactosidase_f4</td><td>▇█▁▁▁▁▁▁▁▁▁▁▁▁▁▁▁▁</td></tr><tr><td>beta_galactosidase_p</td><td>██▁▁▁▁▁▁▁▁▁▁▁▁▁▁▁▁</td></tr><tr><td>beta_galactosidase_r</td><td>▆█▁▁▁▁▁▁▁▁▁▁▁▁▁▁▁▁</td></tr><tr><td>ribosome</td><td>▅▅▅▅▅▅▅▆█▁▇▅▅▅▅▇▇▅▇▄▇▄█▃▆</td></tr><tr><td>ribosome_f4</td><td>▅▄▁▃▅▅▅▄▄▅▇▆█▅▆▅█▅</td></tr><tr><td>ribosome_p</td><td>▂▅▇▁▆▄▄█▅▄▆▅▅▆▅▆▅▆</td></tr><tr><td>ribosome_r</td><td>█▄▁█▄▆▆▃▄▆▆▆█▄▆▄█▄</td></tr><tr><td>thyroglobulin</td><td>███████▂▁▁▁▁▁▁▁▁▁▁▁▁▁▁▁▁▁</td></tr><tr><td>thyroglobulin_f4</td><td>██▁▁▁▁▁▁▁▁▁▁▁▁▁▁▁▁</td></tr><tr><td>thyroglobulin_p</td><td>█▆▁▁▁▁▁▁▁▁▁▁▁▁▁▁▁▁</td></tr><tr><td>thyroglobulin_r</td><td>▆█▁▁▁▁▁▁▁▁▁▁▁▁▁▁▁▁</td></tr><tr><td>virus-like-particle</td><td>▅▅▅▅▅▅▅▁▁▂▂▂▃▇▅▇▆▅▆▇▆▅▆▅█</td></tr><tr><td>virus_like_particle_f4</td><td>▂▁▆███████████████</td></tr><tr><td>virus_like_particle_p</td><td>▁▁▂▅▆▆▆▇█▇▇▇█▇████</td></tr><tr><td>virus_like_particle_r</td><td>▁▁▁▁▁▁▁▁▁▁▁▁▁▁▁▁▁▁</td></tr></table><br/></div><div class=\"wandb-col\"><h3>Run summary:</h3><br/><table class=\"wandb\"><tr><td>01_epoch</td><td>24</td></tr><tr><td>02_train_loss</td><td>0.71855</td></tr><tr><td>03_valid_loss</td><td>0.85421</td></tr><tr><td>04_valid_best_score</td><td>0.39909</td></tr><tr><td>apo-ferritin</td><td>0.5</td></tr><tr><td>apoo_ferritin_f4</td><td>0.86393</td></tr><tr><td>apoo_ferritin_p</td><td>0.62</td></tr><tr><td>apoo_ferritin_r</td><td>0.88571</td></tr><tr><td>beta-amylase</td><td>0.05</td></tr><tr><td>beta-galactosidase</td><td>0.05</td></tr><tr><td>beta_amylase_f4</td><td>0.0</td></tr><tr><td>beta_amylase_p</td><td>0.0</td></tr><tr><td>beta_amylase_r</td><td>0.0</td></tr><tr><td>beta_galactosidase_f4</td><td>0.0</td></tr><tr><td>beta_galactosidase_p</td><td>0.0</td></tr><tr><td>beta_galactosidase_r</td><td>0.0</td></tr><tr><td>ribosome</td><td>0.6</td></tr><tr><td>ribosome_f4</td><td>0.92969</td></tr><tr><td>ribosome_p</td><td>0.72917</td></tr><tr><td>ribosome_r</td><td>0.94595</td></tr><tr><td>thyroglobulin</td><td>0.05</td></tr><tr><td>thyroglobulin_f4</td><td>0.0</td></tr><tr><td>thyroglobulin_p</td><td>0.0</td></tr><tr><td>thyroglobulin_r</td><td>0.0</td></tr><tr><td>virus-like-particle</td><td>0.75</td></tr><tr><td>virus_like_particle_f4</td><td>1.0</td></tr><tr><td>virus_like_particle_p</td><td>1.0</td></tr><tr><td>virus_like_particle_r</td><td>1.0</td></tr></table><br/></div></div>"
      ],
      "text/plain": [
       "<IPython.core.display.HTML object>"
      ]
     },
     "metadata": {},
     "output_type": "display_data"
    },
    {
     "data": {
      "text/html": [
       " View run <strong style=\"color:#cdcd00\">exp068-recreate-baseline-renet34d-dstride_TS_69_2</strong> at: <a href='https://wandb.ai/latent-walkers/czii2024/runs/32wgd0ej' target=\"_blank\">https://wandb.ai/latent-walkers/czii2024/runs/32wgd0ej</a><br/>Synced 5 W&B file(s), 0 media file(s), 0 artifact file(s) and 0 other file(s)"
      ],
      "text/plain": [
       "<IPython.core.display.HTML object>"
      ]
     },
     "metadata": {},
     "output_type": "display_data"
    },
    {
     "data": {
      "text/html": [
       "Find logs at: <code>./wandb/run-20250128_132236-32wgd0ej/logs</code>"
      ],
      "text/plain": [
       "<IPython.core.display.HTML object>"
      ]
     },
     "metadata": {},
     "output_type": "display_data"
    },
    {
     "data": {
      "text/html": [
       "Successfully finished last run (ID:32wgd0ej). Initializing new run:<br/>"
      ],
      "text/plain": [
       "<IPython.core.display.HTML object>"
      ]
     },
     "metadata": {},
     "output_type": "display_data"
    },
    {
     "data": {
      "application/vnd.jupyter.widget-view+json": {
       "model_id": "6de5b89eeb0f41479f5067875af2e56f",
       "version_major": 2,
       "version_minor": 0
      },
      "text/plain": [
       "VBox(children=(Label(value='Waiting for wandb.init()...\\r'), FloatProgress(value=0.011112985322122565, max=1.0…"
      ]
     },
     "metadata": {},
     "output_type": "display_data"
    },
    {
     "data": {
      "text/html": [
       "wandb version 0.19.4 is available!  To upgrade, please run:\n",
       " $ pip install wandb --upgrade"
      ],
      "text/plain": [
       "<IPython.core.display.HTML object>"
      ]
     },
     "metadata": {},
     "output_type": "display_data"
    },
    {
     "data": {
      "text/html": [
       "Tracking run with wandb version 0.16.1"
      ],
      "text/plain": [
       "<IPython.core.display.HTML object>"
      ]
     },
     "metadata": {},
     "output_type": "display_data"
    },
    {
     "data": {
      "text/html": [
       "Run data is saved locally in <code>/home/tatsuya/code/projects/kaggle/CryoET/experiments/exp068-recreate-baseline-renet34d-dstride/wandb/run-20250128_144701-ulq2hv2i</code>"
      ],
      "text/plain": [
       "<IPython.core.display.HTML object>"
      ]
     },
     "metadata": {},
     "output_type": "display_data"
    },
    {
     "data": {
      "text/html": [
       "Syncing run <strong><a href='https://wandb.ai/latent-walkers/czii2024/runs/ulq2hv2i' target=\"_blank\">exp068-recreate-baseline-renet34d-dstride_TS_86_3</a></strong> to <a href='https://wandb.ai/latent-walkers/czii2024' target=\"_blank\">Weights & Biases</a> (<a href='https://wandb.me/run' target=\"_blank\">docs</a>)<br/>"
      ],
      "text/plain": [
       "<IPython.core.display.HTML object>"
      ]
     },
     "metadata": {},
     "output_type": "display_data"
    },
    {
     "data": {
      "text/html": [
       " View project at <a href='https://wandb.ai/latent-walkers/czii2024' target=\"_blank\">https://wandb.ai/latent-walkers/czii2024</a>"
      ],
      "text/plain": [
       "<IPython.core.display.HTML object>"
      ]
     },
     "metadata": {},
     "output_type": "display_data"
    },
    {
     "data": {
      "text/html": [
       " View run at <a href='https://wandb.ai/latent-walkers/czii2024/runs/ulq2hv2i' target=\"_blank\">https://wandb.ai/latent-walkers/czii2024/runs/ulq2hv2i</a>"
      ],
      "text/plain": [
       "<IPython.core.display.HTML object>"
      ]
     },
     "metadata": {},
     "output_type": "display_data"
    },
    {
     "name": "stderr",
     "output_type": "stream",
     "text": [
      "100%|██████████| 220/220 [00:30<00:00,  7.32it/s]\n",
      "100%|██████████| 1/1 [00:01<00:00,  1.65s/it]\n",
      "Epoch 1/25 [Training]: 100%|██████████| 110/110 [00:41<00:00,  2.67it/s, loss=0.9155]\n",
      "Epoch 1/25 [Validation]: 100%|██████████| 1/1 [00:00<00:00,  1.34it/s, loss=0.8736]\n",
      "100%|██████████| 6/6 [03:47<00:00, 37.97s/it]\n"
     ]
    },
    {
     "name": "stdout",
     "output_type": "stream",
     "text": [
      "train-epoch-loss:0.9155 valid-beta4-score:0.2606\n"
     ]
    },
    {
     "name": "stderr",
     "output_type": "stream",
     "text": [
      "Epoch 2/25 [Training]: 100%|██████████| 110/110 [00:39<00:00,  2.76it/s, loss=0.8686]\n",
      "Epoch 2/25 [Validation]: 100%|██████████| 1/1 [00:00<00:00,  1.37it/s, loss=0.8683]\n",
      "100%|██████████| 6/6 [03:59<00:00, 40.00s/it]\n"
     ]
    },
    {
     "name": "stdout",
     "output_type": "stream",
     "text": [
      "train-epoch-loss:0.8686 valid-beta4-score:0.0539\n"
     ]
    },
    {
     "name": "stderr",
     "output_type": "stream",
     "text": [
      "Epoch 3/25 [Training]: 100%|██████████| 110/110 [00:37<00:00,  2.90it/s, loss=0.8380]\n",
      "Epoch 3/25 [Validation]: 100%|██████████| 1/1 [00:00<00:00,  1.37it/s, loss=0.7573]\n",
      "100%|██████████| 6/6 [03:26<00:00, 34.40s/it]\n"
     ]
    },
    {
     "name": "stdout",
     "output_type": "stream",
     "text": [
      "train-epoch-loss:0.8380 valid-beta4-score:0.3814\n"
     ]
    },
    {
     "name": "stderr",
     "output_type": "stream",
     "text": [
      "Epoch 4/25 [Training]: 100%|██████████| 110/110 [00:36<00:00,  2.99it/s, loss=0.8226]\n",
      "Epoch 4/25 [Validation]: 100%|██████████| 1/1 [00:00<00:00,  1.37it/s, loss=0.7703]\n",
      "100%|██████████| 6/6 [03:26<00:00, 34.42s/it]\n"
     ]
    },
    {
     "name": "stdout",
     "output_type": "stream",
     "text": [
      "train-epoch-loss:0.8226 valid-beta4-score:0.4080\n"
     ]
    },
    {
     "name": "stderr",
     "output_type": "stream",
     "text": [
      "Epoch 5/25 [Training]: 100%|██████████| 110/110 [00:36<00:00,  3.02it/s, loss=0.7900]\n",
      "Epoch 5/25 [Validation]: 100%|██████████| 1/1 [00:00<00:00,  1.38it/s, loss=0.7416]\n",
      "100%|██████████| 6/6 [03:31<00:00, 35.19s/it]\n"
     ]
    },
    {
     "name": "stdout",
     "output_type": "stream",
     "text": [
      "train-epoch-loss:0.7900 valid-beta4-score:0.4188\n"
     ]
    },
    {
     "name": "stderr",
     "output_type": "stream",
     "text": [
      "Epoch 6/25 [Training]: 100%|██████████| 110/110 [00:40<00:00,  2.74it/s, loss=0.7721]\n",
      "Epoch 6/25 [Validation]: 100%|██████████| 1/1 [00:00<00:00,  1.38it/s, loss=0.8578]\n",
      "100%|██████████| 6/6 [03:25<00:00, 34.27s/it]\n"
     ]
    },
    {
     "name": "stdout",
     "output_type": "stream",
     "text": [
      "train-epoch-loss:0.7721 valid-beta4-score:0.4929\n"
     ]
    },
    {
     "name": "stderr",
     "output_type": "stream",
     "text": [
      "Epoch 7/25 [Training]: 100%|██████████| 110/110 [00:38<00:00,  2.82it/s, loss=0.7609]\n",
      "Epoch 7/25 [Validation]: 100%|██████████| 1/1 [00:00<00:00,  1.38it/s, loss=0.8496]\n",
      "100%|██████████| 6/6 [03:27<00:00, 34.60s/it]\n"
     ]
    },
    {
     "name": "stdout",
     "output_type": "stream",
     "text": [
      "train-epoch-loss:0.7609 valid-beta4-score:0.4934\n"
     ]
    },
    {
     "name": "stderr",
     "output_type": "stream",
     "text": [
      "Epoch 8/25 [Training]: 100%|██████████| 110/110 [00:37<00:00,  2.96it/s, loss=0.7597]\n",
      "Epoch 8/25 [Validation]: 100%|██████████| 1/1 [00:00<00:00,  1.39it/s, loss=0.7880]\n",
      "100%|██████████| 6/6 [03:30<00:00, 35.02s/it]\n"
     ]
    },
    {
     "name": "stdout",
     "output_type": "stream",
     "text": [
      "train-epoch-loss:0.7597 valid-beta4-score:0.5219\n"
     ]
    },
    {
     "name": "stderr",
     "output_type": "stream",
     "text": [
      "Epoch 9/25 [Training]: 100%|██████████| 110/110 [00:35<00:00,  3.10it/s, loss=0.7660]\n",
      "Epoch 9/25 [Validation]: 100%|██████████| 1/1 [00:00<00:00,  1.35it/s, loss=0.8575]\n",
      "100%|██████████| 6/6 [03:30<00:00, 35.03s/it]\n"
     ]
    },
    {
     "name": "stdout",
     "output_type": "stream",
     "text": [
      "train-epoch-loss:0.7660 valid-beta4-score:0.5733\n"
     ]
    },
    {
     "name": "stderr",
     "output_type": "stream",
     "text": [
      "Epoch 10/25 [Training]: 100%|██████████| 110/110 [00:35<00:00,  3.07it/s, loss=0.7596]\n",
      "Epoch 10/25 [Validation]: 100%|██████████| 1/1 [00:00<00:00,  1.38it/s, loss=0.6242]\n",
      "100%|██████████| 6/6 [03:34<00:00, 35.75s/it]\n"
     ]
    },
    {
     "name": "stdout",
     "output_type": "stream",
     "text": [
      "train-epoch-loss:0.7596 valid-beta4-score:0.5589\n"
     ]
    },
    {
     "name": "stderr",
     "output_type": "stream",
     "text": [
      "Epoch 11/25 [Training]: 100%|██████████| 110/110 [00:36<00:00,  3.00it/s, loss=0.7515]\n",
      "Epoch 11/25 [Validation]: 100%|██████████| 1/1 [00:00<00:00,  1.35it/s, loss=0.5973]\n",
      "100%|██████████| 6/6 [03:34<00:00, 35.81s/it]\n"
     ]
    },
    {
     "name": "stdout",
     "output_type": "stream",
     "text": [
      "train-epoch-loss:0.7515 valid-beta4-score:0.5922\n"
     ]
    },
    {
     "name": "stderr",
     "output_type": "stream",
     "text": [
      "Epoch 12/25 [Training]: 100%|██████████| 110/110 [00:38<00:00,  2.88it/s, loss=0.7325]\n",
      "Epoch 12/25 [Validation]: 100%|██████████| 1/1 [00:00<00:00,  1.38it/s, loss=0.8574]\n",
      "100%|██████████| 6/6 [03:32<00:00, 35.47s/it]\n"
     ]
    },
    {
     "name": "stdout",
     "output_type": "stream",
     "text": [
      "train-epoch-loss:0.7325 valid-beta4-score:0.6639\n"
     ]
    },
    {
     "name": "stderr",
     "output_type": "stream",
     "text": [
      "Epoch 13/25 [Training]: 100%|██████████| 110/110 [00:36<00:00,  3.00it/s, loss=0.7253]\n",
      "Epoch 13/25 [Validation]: 100%|██████████| 1/1 [00:00<00:00,  1.42it/s, loss=0.8233]\n",
      "100%|██████████| 6/6 [03:33<00:00, 35.57s/it]\n"
     ]
    },
    {
     "name": "stdout",
     "output_type": "stream",
     "text": [
      "train-epoch-loss:0.7253 valid-beta4-score:0.6326\n"
     ]
    },
    {
     "name": "stderr",
     "output_type": "stream",
     "text": [
      "Epoch 14/25 [Training]: 100%|██████████| 110/110 [00:38<00:00,  2.89it/s, loss=0.7137]\n",
      "Epoch 14/25 [Validation]: 100%|██████████| 1/1 [00:00<00:00,  1.38it/s, loss=0.8574]\n",
      "100%|██████████| 6/6 [03:33<00:00, 35.58s/it]\n"
     ]
    },
    {
     "name": "stdout",
     "output_type": "stream",
     "text": [
      "train-epoch-loss:0.7137 valid-beta4-score:0.6787\n"
     ]
    },
    {
     "name": "stderr",
     "output_type": "stream",
     "text": [
      "Epoch 15/25 [Training]: 100%|██████████| 110/110 [00:36<00:00,  3.02it/s, loss=0.7079]\n",
      "Epoch 15/25 [Validation]: 100%|██████████| 1/1 [00:00<00:00,  1.37it/s, loss=0.5684]\n",
      "100%|██████████| 6/6 [03:33<00:00, 35.56s/it]\n"
     ]
    },
    {
     "name": "stdout",
     "output_type": "stream",
     "text": [
      "train-epoch-loss:0.7079 valid-beta4-score:0.6948\n"
     ]
    },
    {
     "name": "stderr",
     "output_type": "stream",
     "text": [
      "Epoch 16/25 [Training]: 100%|██████████| 110/110 [00:35<00:00,  3.06it/s, loss=0.7011]\n",
      "Epoch 16/25 [Validation]: 100%|██████████| 1/1 [00:00<00:00,  1.44it/s, loss=0.8130]\n",
      "100%|██████████| 6/6 [03:33<00:00, 35.50s/it]\n"
     ]
    },
    {
     "name": "stdout",
     "output_type": "stream",
     "text": [
      "train-epoch-loss:0.7011 valid-beta4-score:0.7109\n"
     ]
    },
    {
     "name": "stderr",
     "output_type": "stream",
     "text": [
      "Epoch 17/25 [Training]: 100%|██████████| 110/110 [00:35<00:00,  3.09it/s, loss=0.6967]\n",
      "Epoch 17/25 [Validation]: 100%|██████████| 1/1 [00:00<00:00,  1.35it/s, loss=0.4781]\n",
      "100%|██████████| 6/6 [03:33<00:00, 35.54s/it]\n"
     ]
    },
    {
     "name": "stdout",
     "output_type": "stream",
     "text": [
      "train-epoch-loss:0.6967 valid-beta4-score:0.7295\n"
     ]
    },
    {
     "name": "stderr",
     "output_type": "stream",
     "text": [
      "Epoch 18/25 [Training]: 100%|██████████| 110/110 [00:39<00:00,  2.76it/s, loss=0.6865]\n",
      "Epoch 18/25 [Validation]: 100%|██████████| 1/1 [00:00<00:00,  1.37it/s, loss=0.6560]\n",
      "100%|██████████| 6/6 [03:33<00:00, 35.58s/it]\n"
     ]
    },
    {
     "name": "stdout",
     "output_type": "stream",
     "text": [
      "train-epoch-loss:0.6865 valid-beta4-score:0.7411\n"
     ]
    },
    {
     "name": "stderr",
     "output_type": "stream",
     "text": [
      "Epoch 19/25 [Training]: 100%|██████████| 110/110 [00:39<00:00,  2.78it/s, loss=0.6704]\n",
      "Epoch 19/25 [Validation]: 100%|██████████| 1/1 [00:00<00:00,  1.37it/s, loss=0.4675]\n",
      "100%|██████████| 6/6 [03:35<00:00, 35.89s/it]\n"
     ]
    },
    {
     "name": "stdout",
     "output_type": "stream",
     "text": [
      "train-epoch-loss:0.6704 valid-beta4-score:0.7122\n"
     ]
    },
    {
     "name": "stderr",
     "output_type": "stream",
     "text": [
      "Epoch 20/25 [Training]: 100%|██████████| 110/110 [00:35<00:00,  3.07it/s, loss=0.6964]\n",
      "Epoch 20/25 [Validation]: 100%|██████████| 1/1 [00:00<00:00,  1.38it/s, loss=0.5050]\n",
      "100%|██████████| 6/6 [03:34<00:00, 35.80s/it]\n"
     ]
    },
    {
     "name": "stdout",
     "output_type": "stream",
     "text": [
      "train-epoch-loss:0.6964 valid-beta4-score:0.7276\n"
     ]
    },
    {
     "name": "stderr",
     "output_type": "stream",
     "text": [
      "Epoch 21/25 [Training]: 100%|██████████| 110/110 [00:39<00:00,  2.81it/s, loss=0.6813]\n",
      "Epoch 21/25 [Validation]: 100%|██████████| 1/1 [00:00<00:00,  1.42it/s, loss=0.8290]\n",
      "100%|██████████| 6/6 [03:33<00:00, 35.61s/it]\n"
     ]
    },
    {
     "name": "stdout",
     "output_type": "stream",
     "text": [
      "train-epoch-loss:0.6813 valid-beta4-score:0.7406\n"
     ]
    },
    {
     "name": "stderr",
     "output_type": "stream",
     "text": [
      "Epoch 22/25 [Training]: 100%|██████████| 110/110 [00:36<00:00,  3.01it/s, loss=0.6811]\n",
      "Epoch 22/25 [Validation]: 100%|██████████| 1/1 [00:00<00:00,  1.36it/s, loss=0.5104]\n",
      "100%|██████████| 6/6 [03:33<00:00, 35.65s/it]\n"
     ]
    },
    {
     "name": "stdout",
     "output_type": "stream",
     "text": [
      "train-epoch-loss:0.6811 valid-beta4-score:0.7400\n"
     ]
    },
    {
     "name": "stderr",
     "output_type": "stream",
     "text": [
      "Epoch 23/25 [Training]: 100%|██████████| 110/110 [00:37<00:00,  2.95it/s, loss=0.6945]\n",
      "Epoch 23/25 [Validation]: 100%|██████████| 1/1 [00:00<00:00,  1.36it/s, loss=0.8573]\n",
      "100%|██████████| 6/6 [03:33<00:00, 35.63s/it]\n"
     ]
    },
    {
     "name": "stdout",
     "output_type": "stream",
     "text": [
      "train-epoch-loss:0.6945 valid-beta4-score:0.7388\n"
     ]
    },
    {
     "name": "stderr",
     "output_type": "stream",
     "text": [
      "Epoch 24/25 [Training]: 100%|██████████| 110/110 [00:36<00:00,  3.05it/s, loss=0.6782]\n",
      "Epoch 24/25 [Validation]: 100%|██████████| 1/1 [00:00<00:00,  1.38it/s, loss=0.5010]\n",
      "100%|██████████| 6/6 [03:33<00:00, 35.60s/it]\n"
     ]
    },
    {
     "name": "stdout",
     "output_type": "stream",
     "text": [
      "train-epoch-loss:0.6782 valid-beta4-score:0.7508\n"
     ]
    },
    {
     "name": "stderr",
     "output_type": "stream",
     "text": [
      "Epoch 25/25 [Training]: 100%|██████████| 110/110 [00:38<00:00,  2.85it/s, loss=0.6744]\n",
      "Epoch 25/25 [Validation]: 100%|██████████| 1/1 [00:00<00:00,  1.35it/s, loss=0.5045]\n",
      "100%|██████████| 6/6 [03:33<00:00, 35.64s/it]\n"
     ]
    },
    {
     "name": "stdout",
     "output_type": "stream",
     "text": [
      "train-epoch-loss:0.6744 valid-beta4-score:0.7469\n"
     ]
    },
    {
     "data": {
      "text/html": [
       "Finishing last run (ID:ulq2hv2i) before initializing another..."
      ],
      "text/plain": [
       "<IPython.core.display.HTML object>"
      ]
     },
     "metadata": {},
     "output_type": "display_data"
    },
    {
     "name": "stderr",
     "output_type": "stream",
     "text": [
      "wandb: WARNING Source type is set to 'repo' but some required information is missing from the environment. A job will not be created from this run. See https://docs.wandb.ai/guides/launch/create-job\n"
     ]
    },
    {
     "data": {
      "application/vnd.jupyter.widget-view+json": {
       "model_id": "433c4409aef0443ab4536f01f9a65ea1",
       "version_major": 2,
       "version_minor": 0
      },
      "text/plain": [
       "VBox(children=(Label(value='0.004 MB of 0.004 MB uploaded\\r'), FloatProgress(value=1.0, max=1.0)))"
      ]
     },
     "metadata": {},
     "output_type": "display_data"
    },
    {
     "data": {
      "text/html": [
       "<style>\n",
       "    table.wandb td:nth-child(1) { padding: 0 10px; text-align: left ; width: auto;} td:nth-child(2) {text-align: left ; width: 100%}\n",
       "    .wandb-row { display: flex; flex-direction: row; flex-wrap: wrap; justify-content: flex-start; width: 100% }\n",
       "    .wandb-col { display: flex; flex-direction: column; flex-basis: 100%; flex: 1; padding: 10px; }\n",
       "    </style>\n",
       "<div class=\"wandb-row\"><div class=\"wandb-col\"><h3>Run history:</h3><br/><table class=\"wandb\"><tr><td>01_epoch</td><td>▁▁▂▂▂▂▃▃▃▄▄▄▅▅▅▅▆▆▆▇▇▇▇██</td></tr><tr><td>02_train_loss</td><td>█▇▆▅▄▄▄▄▄▄▃▃▃▂▂▂▂▁▁▂▁▁▂▁▁</td></tr><tr><td>03_valid_loss</td><td>██▆▆▆██▇█▄▃█▇█▃▇▁▄▁▂▇▂█▂▂</td></tr><tr><td>04_valid_best_score</td><td>▃▁▄▅▅▅▅▆▆▆▆▇▇▇▇██████████</td></tr><tr><td>apo-ferritin</td><td>▃▂▁▁▁▁▁▁▁▁▁▇▅█▇▇▇▅▇█▇▇█▅▇</td></tr><tr><td>apoo_ferritin_f4</td><td>▂▁▁▁▁▁▁▁▁▁▂▇▇▇████▇██████</td></tr><tr><td>apoo_ferritin_p</td><td>▁▁▁▁▁▁▁▁▁▁▁█▇▇▇▇▇█▇▇█▇█▇█</td></tr><tr><td>apoo_ferritin_r</td><td>▃▁▁▁▁▁▁▁▁▂▄▇▇▇████▇██████</td></tr><tr><td>beta-amylase</td><td>▁▁▁▁▁▁▁▁▁▁▁▁▁▁▁▁▁▁▁▁▁▁▁▁▁</td></tr><tr><td>beta-galactosidase</td><td>▂▁▁▁▁▁▁▁▃██▅▂▄▄▄▇▄▇▇▅▅▅▅▅</td></tr><tr><td>beta_amylase_f4</td><td>▃▁▁▁▁▁▁▁▁▃▄▅▇█▅▅▆▇▅▆▆▆▆▇▇</td></tr><tr><td>beta_amylase_p</td><td>▂▁▁▁▁▁▁▁▁▂▃▄██▄▄▆▆▄▅▅▅▅▆▆</td></tr><tr><td>beta_amylase_r</td><td>▇▁▁▁▁▁▁▁▁▇█▇▆█▇█▇▇█▇▇▇███</td></tr><tr><td>beta_galactosidase_f4</td><td>▁▁▂▁▂▄▄▄▆▅▅▆▅▆▆▆█▇▇▇██▇██</td></tr><tr><td>beta_galactosidase_p</td><td>▁▁▁▁▁▂▂▂▃▃▄▄▅▆▄▄█▆▅█▇▇▇█▇</td></tr><tr><td>beta_galactosidase_r</td><td>▃▁▄▁▇▅▆▇█▇▅▆▅▆▆█▇█▇▆▇▇▇█▇</td></tr><tr><td>ribosome</td><td>█▁▇▇▇▇▆▅▇▅▄█▅▅▆▅▃▅▅▅▅▅▅▅▅</td></tr><tr><td>ribosome_f4</td><td>▆▁█▇▅███▇██▇█▇█▇█▇▇▇█▇▇▇▇</td></tr><tr><td>ribosome_p</td><td>▄▁▆▅▃▆▇█▇██▆█▇█▇█▇▇▇█▇▇▇▇</td></tr><tr><td>ribosome_r</td><td>▆▁██▆███▇▇▇▇▇▇█▇▇▇▇▇▇▇▇▇▇</td></tr><tr><td>thyroglobulin</td><td>█▇▆▄▇▅▅█▅█▃▇▇▅█▅█▂▅▅▄▅▅▁▂</td></tr><tr><td>thyroglobulin_f4</td><td>▃▁▇▇▆▇▆▇▇▇██▆███▇████████</td></tr><tr><td>thyroglobulin_p</td><td>▁▁▄▄▃▃▃▃▆▆▅█▃▆▆▆█▅▅▅▆▆▆▅▅</td></tr><tr><td>thyroglobulin_r</td><td>█▁██████▇▇█▇▇▇▇█▆███▇▇▇██</td></tr><tr><td>virus-like-particle</td><td>▂▂▁▂▅▅▅▅█▅██▇█▅▅▅▅▅▇▅▅▅▅▅</td></tr><tr><td>virus_like_particle_f4</td><td>▄▁▃▆█████████████████████</td></tr><tr><td>virus_like_particle_p</td><td>▁▁▁▂▆▇▇█▆█████▇██████████</td></tr><tr><td>virus_like_particle_r</td><td>▇▁▅██████████████████████</td></tr></table><br/></div><div class=\"wandb-col\"><h3>Run summary:</h3><br/><table class=\"wandb\"><tr><td>01_epoch</td><td>24</td></tr><tr><td>02_train_loss</td><td>0.67442</td></tr><tr><td>03_valid_loss</td><td>0.50454</td></tr><tr><td>04_valid_best_score</td><td>0.74688</td></tr><tr><td>apo-ferritin</td><td>0.7</td></tr><tr><td>apoo_ferritin_f4</td><td>0.8</td></tr><tr><td>apoo_ferritin_p</td><td>0.64198</td></tr><tr><td>apoo_ferritin_r</td><td>0.8125</td></tr><tr><td>beta-amylase</td><td>0.05</td></tr><tr><td>beta-galactosidase</td><td>0.45</td></tr><tr><td>beta_amylase_f4</td><td>0.22566</td></tr><tr><td>beta_amylase_p</td><td>0.01948</td></tr><tr><td>beta_amylase_r</td><td>0.66667</td></tr><tr><td>beta_galactosidase_f4</td><td>0.59465</td></tr><tr><td>beta_galactosidase_p</td><td>0.14407</td></tr><tr><td>beta_galactosidase_r</td><td>0.73913</td></tr><tr><td>ribosome</td><td>0.4</td></tr><tr><td>ribosome_f4</td><td>0.69716</td></tr><tr><td>ribosome_p</td><td>0.5493</td></tr><tr><td>ribosome_r</td><td>0.70909</td></tr><tr><td>thyroglobulin</td><td>0.15</td></tr><tr><td>thyroglobulin_f4</td><td>0.77187</td></tr><tr><td>thyroglobulin_p</td><td>0.22404</td></tr><tr><td>thyroglobulin_r</td><td>0.91111</td></tr><tr><td>virus-like-particle</td><td>0.5</td></tr><tr><td>virus_like_particle_f4</td><td>0.99798</td></tr><tr><td>virus_like_particle_p</td><td>0.96667</td></tr><tr><td>virus_like_particle_r</td><td>1.0</td></tr></table><br/></div></div>"
      ],
      "text/plain": [
       "<IPython.core.display.HTML object>"
      ]
     },
     "metadata": {},
     "output_type": "display_data"
    },
    {
     "data": {
      "text/html": [
       " View run <strong style=\"color:#cdcd00\">exp068-recreate-baseline-renet34d-dstride_TS_86_3</strong> at: <a href='https://wandb.ai/latent-walkers/czii2024/runs/ulq2hv2i' target=\"_blank\">https://wandb.ai/latent-walkers/czii2024/runs/ulq2hv2i</a><br/>Synced 5 W&B file(s), 0 media file(s), 0 artifact file(s) and 0 other file(s)"
      ],
      "text/plain": [
       "<IPython.core.display.HTML object>"
      ]
     },
     "metadata": {},
     "output_type": "display_data"
    },
    {
     "data": {
      "text/html": [
       "Find logs at: <code>./wandb/run-20250128_144701-ulq2hv2i/logs</code>"
      ],
      "text/plain": [
       "<IPython.core.display.HTML object>"
      ]
     },
     "metadata": {},
     "output_type": "display_data"
    },
    {
     "data": {
      "text/html": [
       "Successfully finished last run (ID:ulq2hv2i). Initializing new run:<br/>"
      ],
      "text/plain": [
       "<IPython.core.display.HTML object>"
      ]
     },
     "metadata": {},
     "output_type": "display_data"
    },
    {
     "data": {
      "application/vnd.jupyter.widget-view+json": {
       "model_id": "e2f7e9ade8c44d589733d3add2919894",
       "version_major": 2,
       "version_minor": 0
      },
      "text/plain": [
       "VBox(children=(Label(value='Waiting for wandb.init()...\\r'), FloatProgress(value=0.011113401410855456, max=1.0…"
      ]
     },
     "metadata": {},
     "output_type": "display_data"
    },
    {
     "data": {
      "text/html": [
       "wandb version 0.19.4 is available!  To upgrade, please run:\n",
       " $ pip install wandb --upgrade"
      ],
      "text/plain": [
       "<IPython.core.display.HTML object>"
      ]
     },
     "metadata": {},
     "output_type": "display_data"
    },
    {
     "data": {
      "text/html": [
       "Tracking run with wandb version 0.16.1"
      ],
      "text/plain": [
       "<IPython.core.display.HTML object>"
      ]
     },
     "metadata": {},
     "output_type": "display_data"
    },
    {
     "data": {
      "text/html": [
       "Run data is saved locally in <code>/home/tatsuya/code/projects/kaggle/CryoET/experiments/exp068-recreate-baseline-renet34d-dstride/wandb/run-20250128_164052-1ipns5tk</code>"
      ],
      "text/plain": [
       "<IPython.core.display.HTML object>"
      ]
     },
     "metadata": {},
     "output_type": "display_data"
    },
    {
     "data": {
      "text/html": [
       "Syncing run <strong><a href='https://wandb.ai/latent-walkers/czii2024/runs/1ipns5tk' target=\"_blank\">exp068-recreate-baseline-renet34d-dstride_TS_6_6</a></strong> to <a href='https://wandb.ai/latent-walkers/czii2024' target=\"_blank\">Weights & Biases</a> (<a href='https://wandb.me/run' target=\"_blank\">docs</a>)<br/>"
      ],
      "text/plain": [
       "<IPython.core.display.HTML object>"
      ]
     },
     "metadata": {},
     "output_type": "display_data"
    },
    {
     "data": {
      "text/html": [
       " View project at <a href='https://wandb.ai/latent-walkers/czii2024' target=\"_blank\">https://wandb.ai/latent-walkers/czii2024</a>"
      ],
      "text/plain": [
       "<IPython.core.display.HTML object>"
      ]
     },
     "metadata": {},
     "output_type": "display_data"
    },
    {
     "data": {
      "text/html": [
       " View run at <a href='https://wandb.ai/latent-walkers/czii2024/runs/1ipns5tk' target=\"_blank\">https://wandb.ai/latent-walkers/czii2024/runs/1ipns5tk</a>"
      ],
      "text/plain": [
       "<IPython.core.display.HTML object>"
      ]
     },
     "metadata": {},
     "output_type": "display_data"
    },
    {
     "name": "stderr",
     "output_type": "stream",
     "text": [
      "100%|██████████| 220/220 [00:30<00:00,  7.29it/s]\n",
      "100%|██████████| 1/1 [00:01<00:00,  1.58s/it]\n",
      "Epoch 1/25 [Training]: 100%|██████████| 110/110 [00:37<00:00,  2.96it/s, loss=0.9080]\n",
      "Epoch 1/25 [Validation]: 100%|██████████| 1/1 [00:00<00:00,  1.33it/s, loss=0.8766]\n",
      "100%|██████████| 6/6 [03:47<00:00, 37.88s/it]\n"
     ]
    },
    {
     "name": "stdout",
     "output_type": "stream",
     "text": [
      "train-epoch-loss:0.9080 valid-beta4-score:0.1961\n"
     ]
    },
    {
     "name": "stderr",
     "output_type": "stream",
     "text": [
      "Epoch 2/25 [Training]: 100%|██████████| 110/110 [00:35<00:00,  3.10it/s, loss=0.8629]\n",
      "Epoch 2/25 [Validation]: 100%|██████████| 1/1 [00:00<00:00,  1.37it/s, loss=0.8127]\n",
      "100%|██████████| 6/6 [03:45<00:00, 37.62s/it]\n"
     ]
    },
    {
     "name": "stdout",
     "output_type": "stream",
     "text": [
      "train-epoch-loss:0.8629 valid-beta4-score:0.1795\n"
     ]
    },
    {
     "name": "stderr",
     "output_type": "stream",
     "text": [
      "Epoch 3/25 [Training]: 100%|██████████| 110/110 [00:33<00:00,  3.24it/s, loss=0.8389]\n",
      "Epoch 3/25 [Validation]: 100%|██████████| 1/1 [00:00<00:00,  1.35it/s, loss=0.8319]\n",
      "100%|██████████| 6/6 [03:38<00:00, 36.49s/it]\n"
     ]
    },
    {
     "name": "stdout",
     "output_type": "stream",
     "text": [
      "train-epoch-loss:0.8389 valid-beta4-score:0.2295\n"
     ]
    },
    {
     "name": "stderr",
     "output_type": "stream",
     "text": [
      "Epoch 4/25 [Training]: 100%|██████████| 110/110 [00:36<00:00,  3.04it/s, loss=0.8198]\n",
      "Epoch 4/25 [Validation]: 100%|██████████| 1/1 [00:00<00:00,  1.38it/s, loss=0.8313]\n",
      "100%|██████████| 6/6 [03:33<00:00, 35.54s/it]\n"
     ]
    },
    {
     "name": "stdout",
     "output_type": "stream",
     "text": [
      "train-epoch-loss:0.8198 valid-beta4-score:0.2769\n"
     ]
    },
    {
     "name": "stderr",
     "output_type": "stream",
     "text": [
      "Epoch 5/25 [Training]: 100%|██████████| 110/110 [00:40<00:00,  2.71it/s, loss=0.8009]\n",
      "Epoch 5/25 [Validation]: 100%|██████████| 1/1 [00:00<00:00,  1.39it/s, loss=0.8109]\n",
      "100%|██████████| 6/6 [03:26<00:00, 34.50s/it]\n"
     ]
    },
    {
     "name": "stdout",
     "output_type": "stream",
     "text": [
      "train-epoch-loss:0.8009 valid-beta4-score:0.4564\n"
     ]
    },
    {
     "name": "stderr",
     "output_type": "stream",
     "text": [
      "Epoch 6/25 [Training]: 100%|██████████| 110/110 [00:37<00:00,  2.93it/s, loss=0.7918]\n",
      "Epoch 6/25 [Validation]: 100%|██████████| 1/1 [00:00<00:00,  1.35it/s, loss=0.6650]\n",
      "100%|██████████| 6/6 [03:37<00:00, 36.21s/it]\n"
     ]
    },
    {
     "name": "stdout",
     "output_type": "stream",
     "text": [
      "train-epoch-loss:0.7918 valid-beta4-score:0.4759\n"
     ]
    },
    {
     "name": "stderr",
     "output_type": "stream",
     "text": [
      "Epoch 7/25 [Training]: 100%|██████████| 110/110 [00:38<00:00,  2.83it/s, loss=0.7704]\n",
      "Epoch 7/25 [Validation]: 100%|██████████| 1/1 [00:00<00:00,  1.38it/s, loss=0.8140]\n",
      "100%|██████████| 6/6 [03:33<00:00, 35.62s/it]\n"
     ]
    },
    {
     "name": "stdout",
     "output_type": "stream",
     "text": [
      "train-epoch-loss:0.7704 valid-beta4-score:0.4825\n"
     ]
    },
    {
     "name": "stderr",
     "output_type": "stream",
     "text": [
      "Epoch 8/25 [Training]: 100%|██████████| 110/110 [00:34<00:00,  3.21it/s, loss=0.7853]\n",
      "Epoch 8/25 [Validation]: 100%|██████████| 1/1 [00:00<00:00,  1.32it/s, loss=0.6389]\n",
      "100%|██████████| 6/6 [03:34<00:00, 35.83s/it]\n"
     ]
    },
    {
     "name": "stdout",
     "output_type": "stream",
     "text": [
      "train-epoch-loss:0.7853 valid-beta4-score:0.4937\n"
     ]
    },
    {
     "name": "stderr",
     "output_type": "stream",
     "text": [
      "Epoch 9/25 [Training]: 100%|██████████| 110/110 [00:34<00:00,  3.20it/s, loss=0.7590]\n",
      "Epoch 9/25 [Validation]: 100%|██████████| 1/1 [00:00<00:00,  1.36it/s, loss=0.6369]\n",
      "100%|██████████| 6/6 [03:39<00:00, 36.52s/it]\n"
     ]
    },
    {
     "name": "stdout",
     "output_type": "stream",
     "text": [
      "train-epoch-loss:0.7590 valid-beta4-score:0.4903\n"
     ]
    },
    {
     "name": "stderr",
     "output_type": "stream",
     "text": [
      "Epoch 10/25 [Training]: 100%|██████████| 110/110 [00:39<00:00,  2.78it/s, loss=0.7208]\n",
      "Epoch 10/25 [Validation]: 100%|██████████| 1/1 [00:00<00:00,  1.42it/s, loss=0.5336]\n",
      "100%|██████████| 6/6 [03:37<00:00, 36.17s/it]\n"
     ]
    },
    {
     "name": "stdout",
     "output_type": "stream",
     "text": [
      "train-epoch-loss:0.7208 valid-beta4-score:0.6004\n"
     ]
    },
    {
     "name": "stderr",
     "output_type": "stream",
     "text": [
      "Epoch 11/25 [Training]: 100%|██████████| 110/110 [00:36<00:00,  3.00it/s, loss=0.7212]\n",
      "Epoch 11/25 [Validation]: 100%|██████████| 1/1 [00:00<00:00,  1.36it/s, loss=0.5502]\n",
      "100%|██████████| 6/6 [03:39<00:00, 36.61s/it]\n"
     ]
    },
    {
     "name": "stdout",
     "output_type": "stream",
     "text": [
      "train-epoch-loss:0.7212 valid-beta4-score:0.5721\n"
     ]
    },
    {
     "name": "stderr",
     "output_type": "stream",
     "text": [
      "Epoch 12/25 [Training]: 100%|██████████| 110/110 [00:36<00:00,  3.02it/s, loss=0.7249]\n",
      "Epoch 12/25 [Validation]: 100%|██████████| 1/1 [00:00<00:00,  1.37it/s, loss=0.5283]\n",
      "100%|██████████| 6/6 [03:33<00:00, 35.66s/it]\n"
     ]
    },
    {
     "name": "stdout",
     "output_type": "stream",
     "text": [
      "train-epoch-loss:0.7249 valid-beta4-score:0.6133\n"
     ]
    },
    {
     "name": "stderr",
     "output_type": "stream",
     "text": [
      "Epoch 13/25 [Training]: 100%|██████████| 110/110 [00:34<00:00,  3.21it/s, loss=0.7206]\n",
      "Epoch 13/25 [Validation]: 100%|██████████| 1/1 [00:00<00:00,  1.36it/s, loss=0.8524]\n",
      "100%|██████████| 6/6 [03:31<00:00, 35.29s/it]\n"
     ]
    },
    {
     "name": "stdout",
     "output_type": "stream",
     "text": [
      "train-epoch-loss:0.7206 valid-beta4-score:0.6478\n"
     ]
    },
    {
     "name": "stderr",
     "output_type": "stream",
     "text": [
      "Epoch 14/25 [Training]: 100%|██████████| 110/110 [00:37<00:00,  2.91it/s, loss=0.7062]\n",
      "Epoch 14/25 [Validation]: 100%|██████████| 1/1 [00:00<00:00,  1.38it/s, loss=0.6626]\n",
      "100%|██████████| 6/6 [03:32<00:00, 35.40s/it]\n"
     ]
    },
    {
     "name": "stdout",
     "output_type": "stream",
     "text": [
      "train-epoch-loss:0.7062 valid-beta4-score:0.6814\n"
     ]
    },
    {
     "name": "stderr",
     "output_type": "stream",
     "text": [
      "Epoch 15/25 [Training]: 100%|██████████| 110/110 [00:37<00:00,  2.94it/s, loss=0.7068]\n",
      "Epoch 15/25 [Validation]: 100%|██████████| 1/1 [00:00<00:00,  1.37it/s, loss=0.6489]\n",
      "100%|██████████| 6/6 [03:31<00:00, 35.28s/it]\n"
     ]
    },
    {
     "name": "stdout",
     "output_type": "stream",
     "text": [
      "train-epoch-loss:0.7068 valid-beta4-score:0.7027\n"
     ]
    },
    {
     "name": "stderr",
     "output_type": "stream",
     "text": [
      "Epoch 16/25 [Training]: 100%|██████████| 110/110 [00:37<00:00,  2.90it/s, loss=0.7006]\n",
      "Epoch 16/25 [Validation]: 100%|██████████| 1/1 [00:00<00:00,  1.38it/s, loss=0.8572]\n",
      "100%|██████████| 6/6 [03:33<00:00, 35.54s/it]\n"
     ]
    },
    {
     "name": "stdout",
     "output_type": "stream",
     "text": [
      "train-epoch-loss:0.7006 valid-beta4-score:0.7273\n"
     ]
    },
    {
     "name": "stderr",
     "output_type": "stream",
     "text": [
      "Epoch 17/25 [Training]: 100%|██████████| 110/110 [00:38<00:00,  2.89it/s, loss=0.6962]\n",
      "Epoch 17/25 [Validation]: 100%|██████████| 1/1 [00:00<00:00,  1.37it/s, loss=0.5372]\n",
      "100%|██████████| 6/6 [03:33<00:00, 35.54s/it]\n"
     ]
    },
    {
     "name": "stdout",
     "output_type": "stream",
     "text": [
      "train-epoch-loss:0.6962 valid-beta4-score:0.7201\n"
     ]
    },
    {
     "name": "stderr",
     "output_type": "stream",
     "text": [
      "Epoch 18/25 [Training]: 100%|██████████| 110/110 [00:38<00:00,  2.85it/s, loss=0.6897]\n",
      "Epoch 18/25 [Validation]: 100%|██████████| 1/1 [00:00<00:00,  1.35it/s, loss=0.8034]\n",
      "100%|██████████| 6/6 [03:36<00:00, 36.06s/it]\n"
     ]
    },
    {
     "name": "stdout",
     "output_type": "stream",
     "text": [
      "train-epoch-loss:0.6897 valid-beta4-score:0.7199\n"
     ]
    },
    {
     "name": "stderr",
     "output_type": "stream",
     "text": [
      "Epoch 19/25 [Training]: 100%|██████████| 110/110 [00:37<00:00,  2.91it/s, loss=0.6959]\n",
      "Epoch 19/25 [Validation]: 100%|██████████| 1/1 [00:00<00:00,  1.38it/s, loss=0.6053]\n",
      "100%|██████████| 6/6 [03:34<00:00, 35.81s/it]\n"
     ]
    },
    {
     "name": "stdout",
     "output_type": "stream",
     "text": [
      "train-epoch-loss:0.6959 valid-beta4-score:0.7519\n"
     ]
    },
    {
     "name": "stderr",
     "output_type": "stream",
     "text": [
      "Epoch 20/25 [Training]: 100%|██████████| 110/110 [00:37<00:00,  2.96it/s, loss=0.6838]\n",
      "Epoch 20/25 [Validation]: 100%|██████████| 1/1 [00:00<00:00,  1.39it/s, loss=0.8413]\n",
      "100%|██████████| 6/6 [03:34<00:00, 35.77s/it]\n"
     ]
    },
    {
     "name": "stdout",
     "output_type": "stream",
     "text": [
      "train-epoch-loss:0.6838 valid-beta4-score:0.7422\n"
     ]
    },
    {
     "name": "stderr",
     "output_type": "stream",
     "text": [
      "Epoch 21/25 [Training]: 100%|██████████| 110/110 [00:35<00:00,  3.09it/s, loss=0.6969]\n",
      "Epoch 21/25 [Validation]: 100%|██████████| 1/1 [00:00<00:00,  1.38it/s, loss=0.5081]\n",
      "100%|██████████| 6/6 [03:34<00:00, 35.73s/it]\n"
     ]
    },
    {
     "name": "stdout",
     "output_type": "stream",
     "text": [
      "train-epoch-loss:0.6969 valid-beta4-score:0.7421\n"
     ]
    },
    {
     "name": "stderr",
     "output_type": "stream",
     "text": [
      "Epoch 22/25 [Training]: 100%|██████████| 110/110 [00:38<00:00,  2.83it/s, loss=0.6841]\n",
      "Epoch 22/25 [Validation]: 100%|██████████| 1/1 [00:00<00:00,  1.38it/s, loss=0.6404]\n",
      "100%|██████████| 6/6 [03:34<00:00, 35.72s/it]\n"
     ]
    },
    {
     "name": "stdout",
     "output_type": "stream",
     "text": [
      "train-epoch-loss:0.6841 valid-beta4-score:0.7540\n"
     ]
    },
    {
     "name": "stderr",
     "output_type": "stream",
     "text": [
      "Epoch 23/25 [Training]: 100%|██████████| 110/110 [00:38<00:00,  2.83it/s, loss=0.6826]\n",
      "Epoch 23/25 [Validation]: 100%|██████████| 1/1 [00:00<00:00,  1.43it/s, loss=0.5236]\n",
      "100%|██████████| 6/6 [03:35<00:00, 35.88s/it]\n"
     ]
    },
    {
     "name": "stdout",
     "output_type": "stream",
     "text": [
      "train-epoch-loss:0.6826 valid-beta4-score:0.7309\n"
     ]
    },
    {
     "name": "stderr",
     "output_type": "stream",
     "text": [
      "Epoch 24/25 [Training]: 100%|██████████| 110/110 [00:36<00:00,  3.00it/s, loss=0.7006]\n",
      "Epoch 24/25 [Validation]: 100%|██████████| 1/1 [00:00<00:00,  1.40it/s, loss=0.6476]\n",
      "100%|██████████| 6/6 [03:34<00:00, 35.83s/it]\n"
     ]
    },
    {
     "name": "stdout",
     "output_type": "stream",
     "text": [
      "train-epoch-loss:0.7006 valid-beta4-score:0.7474\n"
     ]
    },
    {
     "name": "stderr",
     "output_type": "stream",
     "text": [
      "Epoch 25/25 [Training]: 100%|██████████| 110/110 [00:36<00:00,  3.05it/s, loss=0.6944]\n",
      "Epoch 25/25 [Validation]: 100%|██████████| 1/1 [00:00<00:00,  1.42it/s, loss=0.6089]\n",
      "100%|██████████| 6/6 [03:34<00:00, 35.72s/it]\n"
     ]
    },
    {
     "name": "stdout",
     "output_type": "stream",
     "text": [
      "train-epoch-loss:0.6944 valid-beta4-score:0.7459\n"
     ]
    }
   ],
   "source": [
    "for vaild_exp_name in CFG.train_exp_names:\n",
    "    wandb.init(\n",
    "        project=\"czii2024\", name=f\"{notebook_name}_{vaild_exp_name}\", config=param\n",
    "    )\n",
    "\n",
    "    vaild_exp_name = [vaild_exp_name]\n",
    "    train_exp_name = CFG.train_exp_names.copy()\n",
    "    train_exp_name.remove(vaild_exp_name[0])\n",
    "\n",
    "    # valid_exp_name[0]の名前でディレクトリを作成\n",
    "    os.makedirs(f\"./{vaild_exp_name[0]}\", exist_ok=True)\n",
    "\n",
    "    train_dataset = EziiDataset(\n",
    "        exp_names=train_exp_name,\n",
    "        base_dir=\"../../inputs/train/\",\n",
    "        particles_name=CFG.particles_name,\n",
    "        resolution=CFG.resolution,\n",
    "        zarr_type=CFG.train_zarr_types,\n",
    "        train=True,\n",
    "        augmentation=True,\n",
    "        slice=True,\n",
    "        pre_read=True,\n",
    "    )\n",
    "    valid_dataset = EziiDataset(\n",
    "        exp_names=vaild_exp_name,\n",
    "        base_dir=\"../../inputs/train/\",\n",
    "        particles_name=CFG.particles_name,\n",
    "        resolution=CFG.resolution,\n",
    "        zarr_type=CFG.valid_zarr_types,\n",
    "        augmentation=False,\n",
    "        train=True,\n",
    "        slice=True,\n",
    "        pre_read=True,\n",
    "    )\n",
    "\n",
    "    train_loader = DataLoader(\n",
    "        train_dataset,\n",
    "        batch_size=CFG.batch_size,\n",
    "        shuffle=True,\n",
    "        drop_last=True,\n",
    "        pin_memory=True,\n",
    "        num_workers=CFG.num_workers,\n",
    "    )\n",
    "\n",
    "    valid_loader = DataLoader(\n",
    "        valid_dataset,\n",
    "        batch_size=1,\n",
    "        shuffle=False,\n",
    "        pin_memory=True,\n",
    "        num_workers=CFG.num_workers,\n",
    "    )\n",
    "\n",
    "    encoder = timm.create_model(\n",
    "        model_name=CFG.model_name,\n",
    "        pretrained=True,\n",
    "        in_chans=3,\n",
    "        num_classes=0,\n",
    "        global_pool=\"\",\n",
    "        features_only=True,\n",
    "    )\n",
    "    model = Unet3D(encoder=encoder, num_domains=5).to(\"cuda\")\n",
    "\n",
    "    optimizer = torch.optim.Adam(\n",
    "        model.parameters(), lr=CFG.lr, weight_decay=CFG.weight_decay\n",
    "    )\n",
    "    criterion = DiceLoss()\n",
    "    scheduler = get_cosine_schedule_with_warmup(\n",
    "        optimizer,\n",
    "        num_warmup_steps=10,\n",
    "        num_training_steps=CFG.epochs * len(train_loader),\n",
    "        # * batch_size,\n",
    "    )\n",
    "    scaler = GradScaler()\n",
    "    seg_loss = SegmentationLoss(criterion)\n",
    "    padf = PadToSize(CFG.resolution)\n",
    "\n",
    "    best_model = None\n",
    "    best_constant = 0\n",
    "    best_score = -100\n",
    "    best_particle_score = {}\n",
    "\n",
    "    grand_train_loss = []\n",
    "    grand_valid_loss = []\n",
    "    grand_train_score = []\n",
    "    grand_valid_score = []\n",
    "\n",
    "    for epoch in range(CFG.epochs):\n",
    "        model.train()\n",
    "        train_loss = []\n",
    "        valid_loss = []\n",
    "        with tqdm(\n",
    "            train_loader, desc=f\"Epoch {epoch + 1}/{CFG.epochs} [Training]\"\n",
    "        ) as tq:\n",
    "            for data in tq:\n",
    "                normalized_tomogram = data[\"normalized_tomogram\"]\n",
    "                segmentation_map = data[\"segmentation_map\"]\n",
    "                zarr_embedding_idx = data[\"zarr_type_embedding_idx\"]\n",
    "\n",
    "                normalized_tomogram = padf(normalized_tomogram)\n",
    "                segmentation_map = padf(segmentation_map)\n",
    "\n",
    "                # データ拡張\n",
    "                normalized_tomogram, segmentation_map = augment_data(\n",
    "                    normalized_tomogram, segmentation_map, p=CFG.augmentation_prob\n",
    "                )\n",
    "                normalized_tomogram = normalized_tomogram.cuda()\n",
    "                segmentation_map = segmentation_map.long().cuda()\n",
    "                zarr_embedding_idx = zarr_embedding_idx.cuda()\n",
    "\n",
    "                optimizer.zero_grad()\n",
    "\n",
    "                with autocast():\n",
    "                    pred = model(\n",
    "                        preprocess_tensor(normalized_tomogram), zarr_embedding_idx\n",
    "                    )\n",
    "                    loss = seg_loss(pred, segmentation_map)\n",
    "                # loss.backward()\n",
    "                # optimizer.step()\n",
    "                scaler.scale(loss).backward()\n",
    "                scaler.step(optimizer)\n",
    "                scaler.update()\n",
    "                scheduler.step()\n",
    "                train_loss.append(loss.item())\n",
    "\n",
    "                # 確率予測\n",
    "                prob_pred = torch.softmax(pred, dim=1)\n",
    "                tq.set_postfix({\"loss\": f\"{np.mean(train_loss):.4f}\"})\n",
    "\n",
    "        del normalized_tomogram, segmentation_map, zarr_embedding_idx, pred, loss\n",
    "        gc.collect()\n",
    "        torch.cuda.empty_cache()\n",
    "\n",
    "        with tqdm(\n",
    "            valid_loader, desc=f\"Epoch {epoch + 1}/{CFG.epochs} [Validation]\"\n",
    "        ) as tq:\n",
    "            with torch.no_grad():\n",
    "                for data in tq:\n",
    "                    normalized_tomogram = data[\"normalized_tomogram\"].cuda()\n",
    "                    segmentation_map = data[\"segmentation_map\"].long().cuda()\n",
    "                    zarr_embedding_idx = data[\"zarr_type_embedding_idx\"].cuda()\n",
    "\n",
    "                    normalized_tomogram = padf(normalized_tomogram)\n",
    "                    segmentation_map = padf(segmentation_map)\n",
    "\n",
    "                    with autocast():\n",
    "                        pred = model(\n",
    "                            preprocess_tensor(normalized_tomogram), zarr_embedding_idx\n",
    "                        )\n",
    "                        loss = seg_loss(pred, segmentation_map)\n",
    "                    valid_loss.append(loss.item())\n",
    "\n",
    "                    # 確率予測\n",
    "                    prob_pred = torch.softmax(pred, dim=1)\n",
    "                    tq.set_postfix({\"loss\": f\"{np.mean(valid_loss):.4f}\"})\n",
    "\n",
    "        del normalized_tomogram, segmentation_map, zarr_embedding_idx, pred, loss\n",
    "        gc.collect()\n",
    "        torch.cuda.empty_cache()\n",
    "\n",
    "        # # ############### validation ################\n",
    "        train_nshuffle_original_tomogram = defaultdict(list)\n",
    "        train_nshuffle_pred_tomogram = defaultdict(list)\n",
    "        train_nshuffle_gt_tomogram = defaultdict(list)\n",
    "\n",
    "        valid_original_tomogram = defaultdict(list)\n",
    "        valid_pred_tomogram = defaultdict(list)\n",
    "        valid_gt_tomogram = defaultdict(list)\n",
    "\n",
    "        train_mean_scores = []\n",
    "        valid_mean_scores = []\n",
    "\n",
    "        # モデルの保存\n",
    "        make_dir_ = (\n",
    "            f\"../../../../../../../../mnt/d/kaggle-tmp-models/czii2024/{notebook_name}/\"\n",
    "        )\n",
    "        os.makedirs(make_dir_, exist_ok=True)\n",
    "        torch.save(model.state_dict(), make_dir_ + f\"model_{epoch}.pth\")\n",
    "\n",
    "        # ############### validation ################\n",
    "        train_nshuffle_original_tomogram = defaultdict(list)\n",
    "        train_nshuffle_pred_tomogram = defaultdict(list)\n",
    "        train_nshuffle_gt_tomogram = defaultdict(list)\n",
    "\n",
    "        valid_original_tomogram = defaultdict(list)\n",
    "        valid_pred_tomogram = defaultdict(list)\n",
    "        valid_gt_tomogram = defaultdict(list)\n",
    "\n",
    "        train_mean_scores = []\n",
    "        valid_mean_scores = []\n",
    "\n",
    "        train_inferenced_array = {}\n",
    "        train_pred_array = []\n",
    "        train_gt_array = []\n",
    "        valid_inferenced_array = {}\n",
    "        valid_gt_array = []\n",
    "\n",
    "        # for exp_name in tqdm(CFG.train_exp_names):\n",
    "        for exp_name in vaild_exp_name:  # 5つのデータで試す\n",
    "            # inferenced_array = inference(model, exp_name, train=False)\n",
    "            inferenced_array, n_tomogram, segmentation_map = inference(\n",
    "                model, exp_name, train=False\n",
    "            )\n",
    "            valid_inferenced_array[exp_name] = inferenced_array\n",
    "            base_dir = \"../../inputs/train/overlay/ExperimentRuns/\"\n",
    "            gt_df = create_gt_df(base_dir, [exp_name])\n",
    "            valid_gt_array.append(gt_df)\n",
    "\n",
    "        valid_gt_array = pd.concat(valid_gt_array)\n",
    "\n",
    "        b_constant = 0\n",
    "        b_score = -100\n",
    "        b_particle_score = {}\n",
    "\n",
    "        try:\n",
    "            best_thresholds, final_score = reduce_computation_sikii_search(\n",
    "                inferenced_array,\n",
    "                exp_name,\n",
    "                [\n",
    "                    0.05,\n",
    "                    0.1,\n",
    "                    0.15,\n",
    "                    0.2,\n",
    "                    0.25,\n",
    "                    0.3,\n",
    "                    0.35,\n",
    "                    0.4,\n",
    "                    0.45,\n",
    "                    0.5,\n",
    "                    0.55,\n",
    "                    0.6,\n",
    "                    0.65,\n",
    "                    0.7,\n",
    "                    0.75,\n",
    "                ],\n",
    "            )\n",
    "        except:\n",
    "            best_thresholds = [0.5] * 6\n",
    "            final_score = -50\n",
    "\n",
    "        b_score = final_score\n",
    "        b_particle_constant = {\n",
    "            \"apo-ferritin\": best_thresholds[0],\n",
    "            \"beta-amylase\": best_thresholds[1],\n",
    "            \"beta-galactosidase\": best_thresholds[2],\n",
    "            \"ribosome\": best_thresholds[3],\n",
    "            \"thyroglobulin\": best_thresholds[4],\n",
    "            \"virus-like-particle\": best_thresholds[5],\n",
    "        }\n",
    "\n",
    "        try:\n",
    "            valid_pred_array = []\n",
    "            for exp_name in [vaild_exp_name[0]]:\n",
    "                pred_df = inference2pos(\n",
    "                    pred_segmask=valid_inferenced_array[exp_name],\n",
    "                    exp_name=exp_name,\n",
    "                    sikii_dict=b_particle_constant,\n",
    "                )\n",
    "                valid_pred_array.append(pred_df)\n",
    "\n",
    "            valid_pred_array = pd.concat(valid_pred_array)\n",
    "\n",
    "            if len(valid_pred_array) != 0:\n",
    "                result_df, score_ = compute_lb(\n",
    "                    valid_pred_array,\n",
    "                    \"../../inputs/train/overlay/ExperimentRuns/\",\n",
    "                    vaild_exp_name,\n",
    "                )\n",
    "                particle_score = extract_particle_results(result_df)\n",
    "\n",
    "                b_score = score_\n",
    "                b_particle_score = particle_score\n",
    "        except:\n",
    "            b_score = -50\n",
    "            b_particle_score = {}\n",
    "\n",
    "        import gc\n",
    "        import torch.cuda as cuda\n",
    "\n",
    "        # del valid_pred_array, valid_gt_array\n",
    "        gc.collect()\n",
    "        cuda.empty_cache()\n",
    "\n",
    "        # print(\"constant\", b_constant, \"score\", b_score)\n",
    "\n",
    "        # wandb-log\n",
    "        train_info = {\n",
    "            \"01_epoch\": epoch,\n",
    "            \"02_train_loss\": np.mean(train_loss),\n",
    "            \"03_valid_loss\": np.mean(valid_loss),\n",
    "            # \"train_score\": np.mean(train_mean_scores),\n",
    "            \"04_valid_best_score\": b_score,\n",
    "        }\n",
    "        train_info = {**train_info, **b_particle_score}\n",
    "        train_info = {**train_info, **b_particle_constant}\n",
    "        wandb.log(train_info)\n",
    "\n",
    "        # score-update\n",
    "        if b_score > best_score:\n",
    "            best_score = b_score\n",
    "            # best_score = np.mean(valid_mean_scores)\n",
    "            best_model = model.state_dict()\n",
    "            torch.save(best_model, f\"./{vaild_exp_name[0]}/best_model.pth\")\n",
    "\n",
    "        print(\n",
    "            f\"train-epoch-loss:{np.mean(train_loss):.4f}\",\n",
    "            # f\"valid-epoch-loss:{np.mean(valid_loss):.4f}\",\n",
    "            # f\"train-beta4-score:{np.mean(train_mean_scores):.4f}\",\n",
    "            f\"valid-beta4-score:{b_score:.4f}\",\n",
    "        )\n",
    "\n",
    "        grand_train_loss.append(np.mean(train_loss))\n",
    "        # grand_valid_loss.append(np.mean(valid_loss))\n",
    "        # grand_train_score.append(np.mean(train_mean_scores))\n",
    "        grand_valid_score.append(b_score)\n",
    "\n",
    "    del model, optimizer, criterion, scheduler, scaler, seg_loss\n",
    "    gc.collect()\n",
    "    torch.cuda.empty_cache()"
   ]
  },
  {
   "cell_type": "code",
   "execution_count": 8,
   "metadata": {},
   "outputs": [
    {
     "data": {
      "image/png": "[encoded data removed]",
      "text/plain": [
       "<Figure size 640x480 with 1 Axes>"
      ]
     },
     "metadata": {},
     "output_type": "display_data"
    }
   ],
   "source": [
    "# train_lossとvalid_lossのプロット\n",
    "\n",
    "plt.plot(grand_train_loss, label=\"train_loss\")\n",
    "plt.plot(grand_valid_loss, label=\"valid_loss\")\n",
    "plt.legend()\n",
    "plt.show()"
   ]
  },
  {
   "cell_type": "code",
   "execution_count": 9,
   "metadata": {},
   "outputs": [
    {
     "data": {
      "image/png": "[encoded data removed]",
      "text/plain": [
       "<Figure size 640x480 with 1 Axes>"
      ]
     },
     "metadata": {},
     "output_type": "display_data"
    }
   ],
   "source": [
    "# train_scoreとvalid_scoreのプロット\n",
    "plt.plot(grand_train_score, label=\"train_score\")\n",
    "plt.plot(grand_valid_score, label=\"valid_score\")\n",
    "plt.legend()\n",
    "plt.show()"
   ]
  },
  {
   "cell_type": "code",
   "execution_count": 10,
   "metadata": {},
   "outputs": [
    {
     "data": {
      "text/plain": [
       "0.55491014462897"
      ]
     },
     "execution_count": 10,
     "metadata": {},
     "output_type": "execute_result"
    }
   ],
   "source": [
    "random.random()"
   ]
  },
  {
   "cell_type": "code",
   "execution_count": null,
   "metadata": {},
   "outputs": [],
   "source": []
  },
  {
   "cell_type": "code",
   "execution_count": null,
   "metadata": {},
   "outputs": [],
   "source": []
  }
 ],
 "metadata": {
  "kernelspec": {
   "display_name": "kaggle",
   "language": "python",
   "name": "python3"
  },
  "language_info": {
   "codemirror_mode": {
    "name": "ipython",
    "version": 3
   },
   "file_extension": ".py",
   "mimetype": "text/x-python",
   "name": "python",
   "nbconvert_exporter": "python",
   "pygments_lexer": "ipython3",
   "version": "3.9.16"
  }
 },
 "nbformat": 4,
 "nbformat_minor": 2
}
