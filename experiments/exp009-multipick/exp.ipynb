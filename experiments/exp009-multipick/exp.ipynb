{
 "cells": [
  {
   "cell_type": "code",
   "execution_count": 1,
   "metadata": {},
   "outputs": [],
   "source": [
    "import os\n",
    "import zarr\n",
    "import random\n",
    "import json\n",
    "import warnings\n",
    "import numpy as np\n",
    "import pandas as pd\n",
    "import torch.nn as nn\n",
    "from pathlib import Path\n",
    "import matplotlib.pyplot as plt\n",
    "from torch.utils.data import DataLoader, Dataset\n",
    "from collections import defaultdict\n",
    "import sys\n",
    "\n",
    "warnings.filterwarnings(\"ignore\")\n",
    "sys.path.append(\"./src/\")\n",
    "\n",
    "from src.config import CFG\n",
    "from src.dataloader import (\n",
    "    read_zarr,\n",
    "    read_info_json,\n",
    "    scale_coordinates,\n",
    "    create_dataset,\n",
    "    create_segmentation_map,\n",
    "    EziiDataset,\n",
    "    drop_padding,\n",
    ")\n",
    "from src.network import UNet_2D, aug\n",
    "from src.utils import save_images\n",
    "from src.metric import score, create_cls_pos, create_cls_pos_sikii, create_df\n",
    "from metric import visualize_epoch_results"
   ]
  },
  {
   "cell_type": "code",
   "execution_count": 2,
   "metadata": {},
   "outputs": [
    {
     "name": "stdout",
     "output_type": "stream",
     "text": [
      "[('TS_5_4', 'denoised'), ('TS_73_6', 'denoised'), ('TS_99_9', 'denoised'), ('TS_6_4', 'denoised'), ('TS_69_2', 'denoised')]\n",
      "[('TS_86_3', 'denoised'), ('TS_6_6', 'denoised')]\n"
     ]
    },
    {
     "name": "stderr",
     "output_type": "stream",
     "text": [
      "  0%|          | 0/5 [00:00<?, ?it/s]\n"
     ]
    },
    {
     "data": {
      "text/plain": [
       "92"
      ]
     },
     "execution_count": 2,
     "metadata": {},
     "output_type": "execute_result"
    }
   ],
   "source": [
    "train_dataset = EziiDataset(\n",
    "    exp_names=CFG.train_exp_names,\n",
    "    base_dir=\"../../inputs/train/static\",\n",
    "    particles_name=CFG.particles_name,\n",
    "    resolution=CFG.resolution,\n",
    "    zarr_type=CFG.train_zarr_types,\n",
    ")\n",
    "\n",
    "valid_dataset = EziiDataset(\n",
    "    exp_names=CFG.valid_exp_names,\n",
    "    base_dir=\"../../inputs/train/static\",\n",
    "    particles_name=CFG.particles_name,\n",
    "    resolution=CFG.resolution,\n",
    "    zarr_type=CFG.valid_zarr_types,\n",
    ")\n",
    "\n",
    "from tqdm import tqdm\n",
    "\n",
    "train_loader = DataLoader(train_dataset, batch_size=1, shuffle=True)\n",
    "valid_loader = DataLoader(valid_dataset, batch_size=1, shuffle=False)\n",
    "\n",
    "for data in tqdm(train_dataset):\n",
    "    normalized_tomogram = data[\"normalized_tomogram\"]\n",
    "    segmentation_map = data[\"segmentation_map\"]\n",
    "    break\n",
    "\n",
    "# normalized_tomogram =\n",
    "normalized_tomogram.shape[0]"
   ]
  },
  {
   "cell_type": "code",
   "execution_count": 3,
   "metadata": {},
   "outputs": [],
   "source": [
    "import torch\n",
    "import torchvision.transforms.functional as F\n",
    "import random"
   ]
  },
  {
   "cell_type": "code",
   "execution_count": 4,
   "metadata": {},
   "outputs": [
    {
     "name": "stderr",
     "output_type": "stream",
     "text": [
      "Train-Epoch: 0, Loss: 1.7666758255525068:  96%|█████████▌| 110/115 [00:25<00:01,  4.34it/s]\n",
      "Valid-Epoch: 0, Loss: 1.6282801219950551: 100%|██████████| 184/184 [00:08<00:00, 21.78it/s]\n"
     ]
    },
    {
     "name": "stdout",
     "output_type": "stream",
     "text": [
      "####################### valid-experiments: TS_86_3 #######################\n",
      "####################### valid-experiments: TS_6_6 #######################\n",
      "EPOCH: 0, VALID_SCORE: 0.02629357048866156\n",
      "Epoch: 0, Loss: 1.7884820699691772\n"
     ]
    },
    {
     "name": "stderr",
     "output_type": "stream",
     "text": [
      "Train-Epoch: 1, Loss: 1.2718233634125102:  96%|█████████▌| 110/115 [00:22<00:01,  4.87it/s]\n",
      "Valid-Epoch: 1, Loss: 1.1780866510842158: 100%|██████████| 184/184 [00:08<00:00, 22.31it/s]\n"
     ]
    },
    {
     "name": "stdout",
     "output_type": "stream",
     "text": [
      "####################### valid-experiments: TS_86_3 #######################\n",
      "####################### valid-experiments: TS_6_6 #######################\n",
      "EPOCH: 1, VALID_SCORE: 0.0962654476376999\n",
      "Epoch: 1, Loss: 1.3165621757507324\n"
     ]
    },
    {
     "name": "stderr",
     "output_type": "stream",
     "text": [
      "Train-Epoch: 2, Loss: 0.9994699673219161:  96%|█████████▌| 110/115 [00:23<00:01,  4.71it/s]\n",
      "Valid-Epoch: 2, Loss: 0.7983733885314154: 100%|██████████| 184/184 [00:08<00:00, 22.22it/s]\n"
     ]
    },
    {
     "name": "stdout",
     "output_type": "stream",
     "text": [
      "####################### valid-experiments: TS_86_3 #######################\n",
      "####################### valid-experiments: TS_6_6 #######################\n",
      "EPOCH: 2, VALID_SCORE: 0.11099024079079031\n",
      "Epoch: 2, Loss: 0.7736082673072815\n"
     ]
    },
    {
     "name": "stderr",
     "output_type": "stream",
     "text": [
      "Train-Epoch: 3, Loss: 0.7582788123325868:  96%|█████████▌| 110/115 [00:22<00:01,  4.80it/s]\n",
      "Valid-Epoch: 3, Loss: 0.5744492618933968: 100%|██████████| 184/184 [00:08<00:00, 21.26it/s]\n"
     ]
    },
    {
     "name": "stdout",
     "output_type": "stream",
     "text": [
      "####################### valid-experiments: TS_86_3 #######################\n",
      "####################### valid-experiments: TS_6_6 #######################\n",
      "EPOCH: 3, VALID_SCORE: 0.16691386098814456\n",
      "Epoch: 3, Loss: 0.3344556391239166\n"
     ]
    },
    {
     "name": "stderr",
     "output_type": "stream",
     "text": [
      "Train-Epoch: 4, Loss: 0.6502747137438167:  96%|█████████▌| 110/115 [00:23<00:01,  4.75it/s]\n",
      "Valid-Epoch: 4, Loss: 0.44278266151314194: 100%|██████████| 184/184 [00:08<00:00, 21.79it/s]\n"
     ]
    },
    {
     "name": "stdout",
     "output_type": "stream",
     "text": [
      "####################### valid-experiments: TS_86_3 #######################\n",
      "####################### valid-experiments: TS_6_6 #######################\n",
      "EPOCH: 4, VALID_SCORE: 0.15862048441946733\n",
      "Epoch: 4, Loss: 0.15995043516159058\n"
     ]
    },
    {
     "name": "stderr",
     "output_type": "stream",
     "text": [
      "Train-Epoch: 5, Loss: 0.6030059708790345:  96%|█████████▌| 110/115 [00:23<00:01,  4.75it/s]\n",
      "Valid-Epoch: 5, Loss: 0.40643271062847064: 100%|██████████| 184/184 [00:08<00:00, 22.01it/s]\n"
     ]
    },
    {
     "name": "stdout",
     "output_type": "stream",
     "text": [
      "####################### valid-experiments: TS_86_3 #######################\n",
      "####################### valid-experiments: TS_6_6 #######################\n",
      "EPOCH: 5, VALID_SCORE: 0.16010093290641308\n",
      "Epoch: 5, Loss: 0.1011887714266777\n"
     ]
    },
    {
     "name": "stderr",
     "output_type": "stream",
     "text": [
      "Train-Epoch: 6, Loss: 0.5990579583428123:  96%|█████████▌| 110/115 [00:23<00:01,  4.72it/s]\n",
      "Valid-Epoch: 6, Loss: 0.4496482993354616: 100%|██████████| 184/184 [00:07<00:00, 24.02it/s] \n"
     ]
    },
    {
     "name": "stdout",
     "output_type": "stream",
     "text": [
      "####################### valid-experiments: TS_86_3 #######################\n",
      "####################### valid-experiments: TS_6_6 #######################\n",
      "EPOCH: 6, VALID_SCORE: 0.17252217824519056\n",
      "Epoch: 6, Loss: 0.05816904082894325\n"
     ]
    },
    {
     "name": "stderr",
     "output_type": "stream",
     "text": [
      "Train-Epoch: 7, Loss: 0.5907617218115113:  96%|█████████▌| 110/115 [00:22<00:01,  4.94it/s]\n",
      "Valid-Epoch: 7, Loss: 0.3994844838693414: 100%|██████████| 184/184 [00:08<00:00, 21.63it/s] \n"
     ]
    },
    {
     "name": "stdout",
     "output_type": "stream",
     "text": [
      "####################### valid-experiments: TS_86_3 #######################\n",
      "####################### valid-experiments: TS_6_6 #######################\n",
      "EPOCH: 7, VALID_SCORE: 0.16206916731311402\n",
      "Epoch: 7, Loss: 0.073908731341362\n"
     ]
    },
    {
     "name": "stderr",
     "output_type": "stream",
     "text": [
      "Train-Epoch: 8, Loss: 0.5355385891415856:  96%|█████████▌| 110/115 [00:22<00:01,  4.85it/s]\n",
      "Valid-Epoch: 8, Loss: 0.3593982868908864: 100%|██████████| 184/184 [00:07<00:00, 23.69it/s] \n"
     ]
    },
    {
     "name": "stdout",
     "output_type": "stream",
     "text": [
      "####################### valid-experiments: TS_86_3 #######################\n",
      "####################### valid-experiments: TS_6_6 #######################\n",
      "EPOCH: 8, VALID_SCORE: 0.17792309189765876\n",
      "Epoch: 8, Loss: 0.04324844479560852\n"
     ]
    },
    {
     "name": "stderr",
     "output_type": "stream",
     "text": [
      "Train-Epoch: 9, Loss: 0.5461992339654402:  96%|█████████▌| 110/115 [00:22<00:01,  4.95it/s]\n",
      "Valid-Epoch: 9, Loss: 0.433892209528257: 100%|██████████| 184/184 [00:08<00:00, 22.93it/s]  \n"
     ]
    },
    {
     "name": "stdout",
     "output_type": "stream",
     "text": [
      "####################### valid-experiments: TS_86_3 #######################\n",
      "####################### valid-experiments: TS_6_6 #######################\n",
      "EPOCH: 9, VALID_SCORE: 0.1936330107926726\n",
      "Epoch: 9, Loss: 0.04627319425344467\n"
     ]
    },
    {
     "name": "stderr",
     "output_type": "stream",
     "text": [
      "Train-Epoch: 10, Loss: 0.4928965167565779:  96%|█████████▌| 110/115 [00:22<00:01,  4.87it/s] \n",
      "Valid-Epoch: 10, Loss: 0.43430020307879086: 100%|██████████| 184/184 [00:08<00:00, 22.45it/s]\n"
     ]
    },
    {
     "name": "stdout",
     "output_type": "stream",
     "text": [
      "####################### valid-experiments: TS_86_3 #######################\n",
      "####################### valid-experiments: TS_6_6 #######################\n",
      "EPOCH: 10, VALID_SCORE: 0.18090849935794723\n",
      "Epoch: 10, Loss: 0.060969457030296326\n"
     ]
    },
    {
     "name": "stderr",
     "output_type": "stream",
     "text": [
      "Train-Epoch: 11, Loss: 0.51318668208339:  96%|█████████▌| 110/115 [00:22<00:01,  4.85it/s]   \n",
      "Valid-Epoch: 11, Loss: 0.4494326350117183: 100%|██████████| 184/184 [00:08<00:00, 22.28it/s] \n"
     ]
    },
    {
     "name": "stdout",
     "output_type": "stream",
     "text": [
      "####################### valid-experiments: TS_86_3 #######################\n",
      "####################### valid-experiments: TS_6_6 #######################\n",
      "EPOCH: 11, VALID_SCORE: 0.16527371153750128\n",
      "Epoch: 11, Loss: 0.028557877987623215\n"
     ]
    },
    {
     "name": "stderr",
     "output_type": "stream",
     "text": [
      "Train-Epoch: 12, Loss: 0.539719744162126:  96%|█████████▌| 110/115 [00:22<00:01,  4.87it/s] \n",
      "Valid-Epoch: 12, Loss: 0.4355752645971496: 100%|██████████| 184/184 [00:08<00:00, 22.42it/s] \n"
     ]
    },
    {
     "name": "stdout",
     "output_type": "stream",
     "text": [
      "####################### valid-experiments: TS_86_3 #######################\n",
      "####################### valid-experiments: TS_6_6 #######################\n",
      "EPOCH: 12, VALID_SCORE: 0.1668372056116551\n",
      "Epoch: 12, Loss: 0.030163651332259178\n"
     ]
    },
    {
     "name": "stderr",
     "output_type": "stream",
     "text": [
      "Train-Epoch: 13, Loss: 0.4750604901801456:  96%|█████████▌| 110/115 [00:22<00:01,  4.91it/s] \n",
      "Valid-Epoch: 13, Loss: 0.40043895691633224: 100%|██████████| 184/184 [00:08<00:00, 22.29it/s]\n"
     ]
    },
    {
     "name": "stdout",
     "output_type": "stream",
     "text": [
      "####################### valid-experiments: TS_86_3 #######################\n",
      "####################### valid-experiments: TS_6_6 #######################\n",
      "EPOCH: 13, VALID_SCORE: 0.16289874165931306\n",
      "Epoch: 13, Loss: 0.043753527104854584\n"
     ]
    },
    {
     "name": "stderr",
     "output_type": "stream",
     "text": [
      "Train-Epoch: 14, Loss: 0.456288358298215:  96%|█████████▌| 110/115 [00:22<00:01,  4.85it/s]  \n",
      "Valid-Epoch: 14, Loss: 0.4421302225521725: 100%|██████████| 184/184 [00:08<00:00, 21.60it/s] \n"
     ]
    },
    {
     "name": "stdout",
     "output_type": "stream",
     "text": [
      "####################### valid-experiments: TS_86_3 #######################\n",
      "####################### valid-experiments: TS_6_6 #######################\n",
      "EPOCH: 14, VALID_SCORE: 0.16808471705291345\n",
      "Epoch: 14, Loss: 0.03557109832763672\n"
     ]
    },
    {
     "name": "stderr",
     "output_type": "stream",
     "text": [
      "Train-Epoch: 15, Loss: 0.40418729795651004:  38%|███▊      | 44/115 [00:09<00:14,  4.94it/s]"
     ]
    },
    {
     "ename": "KeyboardInterrupt",
     "evalue": "",
     "output_type": "error",
     "traceback": [
      "\u001b[0;31m---------------------------------------------------------------------------\u001b[0m",
      "\u001b[0;31mKeyboardInterrupt\u001b[0m                         Traceback (most recent call last)",
      "Cell \u001b[0;32mIn[4], line 24\u001b[0m\n\u001b[1;32m     22\u001b[0m model\u001b[38;5;241m.\u001b[39mtrain()\n\u001b[1;32m     23\u001b[0m tq \u001b[38;5;241m=\u001b[39m tqdm(\u001b[38;5;28mrange\u001b[39m(\u001b[38;5;28mlen\u001b[39m(train_loader) \u001b[38;5;241m*\u001b[39m normalized_tomogram\u001b[38;5;241m.\u001b[39mshape[\u001b[38;5;241m0\u001b[39m] \u001b[38;5;241m/\u001b[39m\u001b[38;5;241m/\u001b[39m batch_size))\n\u001b[0;32m---> 24\u001b[0m \u001b[38;5;28;01mfor\u001b[39;00m data \u001b[38;5;129;01min\u001b[39;00m train_loader:\n\u001b[1;32m     25\u001b[0m     exp_name \u001b[38;5;241m=\u001b[39m data[\u001b[38;5;124m\"\u001b[39m\u001b[38;5;124mexp_name\u001b[39m\u001b[38;5;124m\"\u001b[39m][\u001b[38;5;241m0\u001b[39m]\n\u001b[1;32m     26\u001b[0m     tomogram \u001b[38;5;241m=\u001b[39m data[\u001b[38;5;124m\"\u001b[39m\u001b[38;5;124mnormalized_tomogram\u001b[39m\u001b[38;5;124m\"\u001b[39m]\n",
      "File \u001b[0;32m~/.pyenv/versions/3.9.16/envs/kaggle/lib/python3.9/site-packages/torch/utils/data/dataloader.py:634\u001b[0m, in \u001b[0;36m_BaseDataLoaderIter.__next__\u001b[0;34m(self)\u001b[0m\n\u001b[1;32m    631\u001b[0m \u001b[38;5;28;01mif\u001b[39;00m \u001b[38;5;28mself\u001b[39m\u001b[38;5;241m.\u001b[39m_sampler_iter \u001b[38;5;129;01mis\u001b[39;00m \u001b[38;5;28;01mNone\u001b[39;00m:\n\u001b[1;32m    632\u001b[0m     \u001b[38;5;66;03m# TODO(https://github.com/pytorch/pytorch/issues/76750)\u001b[39;00m\n\u001b[1;32m    633\u001b[0m     \u001b[38;5;28mself\u001b[39m\u001b[38;5;241m.\u001b[39m_reset()  \u001b[38;5;66;03m# type: ignore[call-arg]\u001b[39;00m\n\u001b[0;32m--> 634\u001b[0m data \u001b[38;5;241m=\u001b[39m \u001b[38;5;28;43mself\u001b[39;49m\u001b[38;5;241;43m.\u001b[39;49m\u001b[43m_next_data\u001b[49m\u001b[43m(\u001b[49m\u001b[43m)\u001b[49m\n\u001b[1;32m    635\u001b[0m \u001b[38;5;28mself\u001b[39m\u001b[38;5;241m.\u001b[39m_num_yielded \u001b[38;5;241m+\u001b[39m\u001b[38;5;241m=\u001b[39m \u001b[38;5;241m1\u001b[39m\n\u001b[1;32m    636\u001b[0m \u001b[38;5;28;01mif\u001b[39;00m \u001b[38;5;28mself\u001b[39m\u001b[38;5;241m.\u001b[39m_dataset_kind \u001b[38;5;241m==\u001b[39m _DatasetKind\u001b[38;5;241m.\u001b[39mIterable \u001b[38;5;129;01mand\u001b[39;00m \\\n\u001b[1;32m    637\u001b[0m         \u001b[38;5;28mself\u001b[39m\u001b[38;5;241m.\u001b[39m_IterableDataset_len_called \u001b[38;5;129;01mis\u001b[39;00m \u001b[38;5;129;01mnot\u001b[39;00m \u001b[38;5;28;01mNone\u001b[39;00m \u001b[38;5;129;01mand\u001b[39;00m \\\n\u001b[1;32m    638\u001b[0m         \u001b[38;5;28mself\u001b[39m\u001b[38;5;241m.\u001b[39m_num_yielded \u001b[38;5;241m>\u001b[39m \u001b[38;5;28mself\u001b[39m\u001b[38;5;241m.\u001b[39m_IterableDataset_len_called:\n",
      "File \u001b[0;32m~/.pyenv/versions/3.9.16/envs/kaggle/lib/python3.9/site-packages/torch/utils/data/dataloader.py:678\u001b[0m, in \u001b[0;36m_SingleProcessDataLoaderIter._next_data\u001b[0;34m(self)\u001b[0m\n\u001b[1;32m    676\u001b[0m \u001b[38;5;28;01mdef\u001b[39;00m \u001b[38;5;21m_next_data\u001b[39m(\u001b[38;5;28mself\u001b[39m):\n\u001b[1;32m    677\u001b[0m     index \u001b[38;5;241m=\u001b[39m \u001b[38;5;28mself\u001b[39m\u001b[38;5;241m.\u001b[39m_next_index()  \u001b[38;5;66;03m# may raise StopIteration\u001b[39;00m\n\u001b[0;32m--> 678\u001b[0m     data \u001b[38;5;241m=\u001b[39m \u001b[38;5;28;43mself\u001b[39;49m\u001b[38;5;241;43m.\u001b[39;49m\u001b[43m_dataset_fetcher\u001b[49m\u001b[38;5;241;43m.\u001b[39;49m\u001b[43mfetch\u001b[49m\u001b[43m(\u001b[49m\u001b[43mindex\u001b[49m\u001b[43m)\u001b[49m  \u001b[38;5;66;03m# may raise StopIteration\u001b[39;00m\n\u001b[1;32m    679\u001b[0m     \u001b[38;5;28;01mif\u001b[39;00m \u001b[38;5;28mself\u001b[39m\u001b[38;5;241m.\u001b[39m_pin_memory:\n\u001b[1;32m    680\u001b[0m         data \u001b[38;5;241m=\u001b[39m _utils\u001b[38;5;241m.\u001b[39mpin_memory\u001b[38;5;241m.\u001b[39mpin_memory(data, \u001b[38;5;28mself\u001b[39m\u001b[38;5;241m.\u001b[39m_pin_memory_device)\n",
      "File \u001b[0;32m~/.pyenv/versions/3.9.16/envs/kaggle/lib/python3.9/site-packages/torch/utils/data/_utils/fetch.py:51\u001b[0m, in \u001b[0;36m_MapDatasetFetcher.fetch\u001b[0;34m(self, possibly_batched_index)\u001b[0m\n\u001b[1;32m     49\u001b[0m         data \u001b[38;5;241m=\u001b[39m \u001b[38;5;28mself\u001b[39m\u001b[38;5;241m.\u001b[39mdataset\u001b[38;5;241m.\u001b[39m__getitems__(possibly_batched_index)\n\u001b[1;32m     50\u001b[0m     \u001b[38;5;28;01melse\u001b[39;00m:\n\u001b[0;32m---> 51\u001b[0m         data \u001b[38;5;241m=\u001b[39m [\u001b[38;5;28mself\u001b[39m\u001b[38;5;241m.\u001b[39mdataset[idx] \u001b[38;5;28;01mfor\u001b[39;00m idx \u001b[38;5;129;01min\u001b[39;00m possibly_batched_index]\n\u001b[1;32m     52\u001b[0m \u001b[38;5;28;01melse\u001b[39;00m:\n\u001b[1;32m     53\u001b[0m     data \u001b[38;5;241m=\u001b[39m \u001b[38;5;28mself\u001b[39m\u001b[38;5;241m.\u001b[39mdataset[possibly_batched_index]\n",
      "File \u001b[0;32m~/.pyenv/versions/3.9.16/envs/kaggle/lib/python3.9/site-packages/torch/utils/data/_utils/fetch.py:51\u001b[0m, in \u001b[0;36m<listcomp>\u001b[0;34m(.0)\u001b[0m\n\u001b[1;32m     49\u001b[0m         data \u001b[38;5;241m=\u001b[39m \u001b[38;5;28mself\u001b[39m\u001b[38;5;241m.\u001b[39mdataset\u001b[38;5;241m.\u001b[39m__getitems__(possibly_batched_index)\n\u001b[1;32m     50\u001b[0m     \u001b[38;5;28;01melse\u001b[39;00m:\n\u001b[0;32m---> 51\u001b[0m         data \u001b[38;5;241m=\u001b[39m [\u001b[38;5;28;43mself\u001b[39;49m\u001b[38;5;241;43m.\u001b[39;49m\u001b[43mdataset\u001b[49m\u001b[43m[\u001b[49m\u001b[43midx\u001b[49m\u001b[43m]\u001b[49m \u001b[38;5;28;01mfor\u001b[39;00m idx \u001b[38;5;129;01min\u001b[39;00m possibly_batched_index]\n\u001b[1;32m     52\u001b[0m \u001b[38;5;28;01melse\u001b[39;00m:\n\u001b[1;32m     53\u001b[0m     data \u001b[38;5;241m=\u001b[39m \u001b[38;5;28mself\u001b[39m\u001b[38;5;241m.\u001b[39mdataset[possibly_batched_index]\n",
      "File \u001b[0;32m~/code/projects/kaggle/CryoET/experiments/exp009-multipick/src/dataloader.py:164\u001b[0m, in \u001b[0;36mEziiDataset.__getitem__\u001b[0;34m(self, i)\u001b[0m\n\u001b[1;32m    153\u001b[0m virus_like_particle \u001b[38;5;241m=\u001b[39m particle_info[\u001b[38;5;124m\"\u001b[39m\u001b[38;5;124mscaled_corrds\u001b[39m\u001b[38;5;124m\"\u001b[39m][\u001b[38;5;124m\"\u001b[39m\u001b[38;5;124mvirus-like-particle\u001b[39m\u001b[38;5;124m\"\u001b[39m]\n\u001b[1;32m    155\u001b[0m prticle_corrds \u001b[38;5;241m=\u001b[39m {\n\u001b[1;32m    156\u001b[0m     \u001b[38;5;124m\"\u001b[39m\u001b[38;5;124mapo-ferritin\u001b[39m\u001b[38;5;124m\"\u001b[39m: apo_ferritin,\n\u001b[1;32m    157\u001b[0m     \u001b[38;5;124m\"\u001b[39m\u001b[38;5;124mbeta-amylase\u001b[39m\u001b[38;5;124m\"\u001b[39m: beta_amylase,\n\u001b[0;32m   (...)\u001b[0m\n\u001b[1;32m    161\u001b[0m     \u001b[38;5;124m\"\u001b[39m\u001b[38;5;124mvirus-like-particle\u001b[39m\u001b[38;5;124m\"\u001b[39m: virus_like_particle,\n\u001b[1;32m    162\u001b[0m }\n\u001b[0;32m--> 164\u001b[0m segmentation_map \u001b[38;5;241m=\u001b[39m \u001b[43mcreate_segmentation_map\u001b[49m\u001b[43m(\u001b[49m\n\u001b[1;32m    165\u001b[0m \u001b[43m    \u001b[49m\u001b[43mtomogram\u001b[49m\u001b[43m,\u001b[49m\u001b[43m \u001b[49m\u001b[43mresolution\u001b[49m\u001b[38;5;241;43m=\u001b[39;49m\u001b[38;5;28;43mself\u001b[39;49m\u001b[38;5;241;43m.\u001b[39;49m\u001b[43mresolution\u001b[49m\u001b[43m,\u001b[49m\u001b[43m \u001b[49m\u001b[43mparticle_coords\u001b[49m\u001b[38;5;241;43m=\u001b[39;49m\u001b[43mprticle_corrds\u001b[49m\n\u001b[1;32m    166\u001b[0m \u001b[43m\u001b[49m\u001b[43m)\u001b[49m\n\u001b[1;32m    168\u001b[0m tomogram \u001b[38;5;241m=\u001b[39m padding(tomogram, \u001b[38;5;28mself\u001b[39m\u001b[38;5;241m.\u001b[39mresolution)\n\u001b[1;32m    169\u001b[0m normalized_tomogram \u001b[38;5;241m=\u001b[39m padding(normalized_tomogram, \u001b[38;5;28mself\u001b[39m\u001b[38;5;241m.\u001b[39mresolution)\n",
      "File \u001b[0;32m~/code/projects/kaggle/CryoET/experiments/exp009-multipick/src/dataloader.py:264\u001b[0m, in \u001b[0;36mcreate_segmentation_map\u001b[0;34m(tomogram, resolution, particle_coords)\u001b[0m\n\u001b[1;32m    262\u001b[0m             \u001b[38;5;28;01mfor\u001b[39;00m y_ \u001b[38;5;129;01min\u001b[39;00m \u001b[38;5;28mrange\u001b[39m(y_min, y_max):\n\u001b[1;32m    263\u001b[0m                 \u001b[38;5;28;01mfor\u001b[39;00m x_ \u001b[38;5;129;01min\u001b[39;00m \u001b[38;5;28mrange\u001b[39m(x_min, x_max):\n\u001b[0;32m--> 264\u001b[0m                     \u001b[38;5;28;01mif\u001b[39;00m \u001b[43m(\u001b[49m\u001b[43mz\u001b[49m\u001b[43m \u001b[49m\u001b[38;5;241;43m-\u001b[39;49m\u001b[43m \u001b[49m\u001b[43mz_\u001b[49m\u001b[43m)\u001b[49m\u001b[43m \u001b[49m\u001b[38;5;241;43m*\u001b[39;49m\u001b[38;5;241;43m*\u001b[39;49m\u001b[43m \u001b[49m\u001b[38;5;241;43m2\u001b[39;49m \u001b[38;5;241m+\u001b[39m (y \u001b[38;5;241m-\u001b[39m y_) \u001b[38;5;241m*\u001b[39m\u001b[38;5;241m*\u001b[39m \u001b[38;5;241m2\u001b[39m \u001b[38;5;241m+\u001b[39m (x \u001b[38;5;241m-\u001b[39m x_) \u001b[38;5;241m*\u001b[39m\u001b[38;5;241m*\u001b[39m \u001b[38;5;241m2\u001b[39m \u001b[38;5;241m<\u001b[39m r\u001b[38;5;241m*\u001b[39m\u001b[38;5;241m*\u001b[39m\u001b[38;5;241m2\u001b[39m:\n\u001b[1;32m    265\u001b[0m                         segmentation_map[z_, y_, x_] \u001b[38;5;241m=\u001b[39m \u001b[38;5;28mcls\u001b[39m\n\u001b[1;32m    267\u001b[0m \u001b[38;5;28;01mreturn\u001b[39;00m segmentation_map\n",
      "\u001b[0;31mKeyboardInterrupt\u001b[0m: "
     ]
    }
   ],
   "source": [
    "model = UNet_2D().to(\"cuda\")\n",
    "model.eval()\n",
    "\n",
    "\n",
    "optimizer = torch.optim.AdamW(model.parameters(), lr=1e-4)\n",
    "criterion = nn.CrossEntropyLoss(\n",
    "    weight=torch.tensor([0.5, 32, 32, 32, 32, 32, 32]).to(\"cuda\")\n",
    ")\n",
    "# criterion = DiceLoss()\n",
    "\n",
    "best_model = None\n",
    "best_score = 0\n",
    "batch_size = 4\n",
    "\n",
    "for epoch in range(100):\n",
    "    train_loss = []\n",
    "    valid_loss = []\n",
    "    train_pred_tomogram = defaultdict(list)\n",
    "    train_gt_tomogram = defaultdict(list)\n",
    "    valid_pred_tomogram = defaultdict(list)\n",
    "    valid_gt_tomogram = defaultdict(list)\n",
    "    model.train()\n",
    "    tq = tqdm(range(len(train_loader) * normalized_tomogram.shape[0] // batch_size))\n",
    "    for data in train_loader:\n",
    "        exp_name = data[\"exp_name\"][0]\n",
    "        tomogram = data[\"normalized_tomogram\"]\n",
    "        segmentation_map = data[\"segmentation_map\"].long()\n",
    "\n",
    "        for i in range(batch_size, tomogram.shape[1], batch_size):\n",
    "            optimizer.zero_grad()\n",
    "            from_, to_ = 0, tomogram.shape[1]\n",
    "            random_index = random.sample(range(from_, to_), batch_size)\n",
    "            input_ = tomogram[:, random_index]\n",
    "            input_ = input_.permute(1, 0, 2, 3)  # (batch_size, 1, 160, 160)\n",
    "            gt = segmentation_map[:, random_index].squeeze()  # (batch_size, 160, 160)\n",
    "\n",
    "            input_, gt = aug(input_, gt)\n",
    "\n",
    "            input_ = input_.to(\"cuda\")\n",
    "            gt = gt.to(\"cuda\")\n",
    "            output = model(input_)\n",
    "            loss = criterion(output, gt)\n",
    "            loss.backward()\n",
    "            optimizer.step()\n",
    "\n",
    "            train_loss.append(loss.item())\n",
    "            tq.set_description(f\"Train-Epoch: {epoch}, Loss: {np.mean(train_loss)}\")\n",
    "            tq.update(1)\n",
    "\n",
    "            for i in range(batch_size):\n",
    "                train_pred_tomogram[exp_name].append(output.cpu().detach().numpy())\n",
    "                train_gt_tomogram[exp_name].append(gt.cpu().detach().numpy())\n",
    "    tq.close()\n",
    "\n",
    "    ############################################# valid #############################################\n",
    "\n",
    "    model.eval()\n",
    "    tq = tqdm(range(len(valid_loader) * normalized_tomogram.shape[0]))\n",
    "    for data in valid_loader:\n",
    "        exp_name = data[\"exp_name\"][0]\n",
    "        tomogram = data[\"normalized_tomogram\"].to(\"cuda\")\n",
    "        segmentation_map = data[\"segmentation_map\"].to(\"cuda\").long()\n",
    "\n",
    "        for i in range(tomogram.shape[1]):\n",
    "            input_ = tomogram[:, i].unsqueeze(0)\n",
    "            gt = segmentation_map[:, i]\n",
    "\n",
    "            output = model(input_)\n",
    "            loss = criterion(output, gt)\n",
    "\n",
    "            valid_loss.append(loss.item())\n",
    "            tq.set_description(f\"Valid-Epoch: {epoch}, Loss: {np.mean(valid_loss)}\")\n",
    "            tq.update(1)\n",
    "\n",
    "            valid_pred_tomogram[exp_name].append(output.cpu().detach().numpy())\n",
    "            valid_gt_tomogram[exp_name].append(gt.cpu().detach().numpy())\n",
    "    tq.close()\n",
    "\n",
    "    valid_score_ = visualize_epoch_results(\n",
    "        valid_pred_tomogram,\n",
    "        valid_gt_tomogram,\n",
    "        sikii_dict=CFG.initial_sikii,\n",
    "    )\n",
    "\n",
    "    print(f\"EPOCH: {epoch}, VALID_SCORE: {valid_score_}\")\n",
    "\n",
    "    if valid_score_ > best_score:\n",
    "        best_score = valid_score_\n",
    "        best_model = model\n",
    "        torch.save(model.state_dict(), f\"best_model.pth\")\n",
    "\n",
    "    # 可視化\n",
    "    index = 50\n",
    "\n",
    "    # plt.figure(figsize=(10, 5))\n",
    "\n",
    "    # ax = plt.subplot(1, 4, 1)\n",
    "    # ax.imshow(train_pred_tomogram[exp_name][index].argmax(0))\n",
    "    # ax.set_title(\"Train-Prediction\")\n",
    "    # ax.axis(\"off\")\n",
    "\n",
    "    # ax = plt.subplot(1, 4, 2)\n",
    "    # ax.imshow(train_gt_tomogram[exp_name][index])\n",
    "    # ax.set_title(\"Train-Ground Truth\")\n",
    "    # ax.axis(\"off\")\n",
    "\n",
    "    # ax = plt.subplot(1, 4, 3)\n",
    "    # ax.imshow(valid_pred_tomogram[exp_name][index].argmax(1).squeeze(0))\n",
    "    # ax.set_title(\"Valid-Prediction\")\n",
    "    # ax.axis(\"off\")\n",
    "\n",
    "    # ax = plt.subplot(1, 4, 4)\n",
    "    # ax.imshow(valid_gt_tomogram[exp_name][index].squeeze(0))\n",
    "    # ax.set_title(\"Valid-Ground Truth\")\n",
    "    # ax.axis(\"off\")\n",
    "\n",
    "    # plt.tight_layout()\n",
    "\n",
    "    # plt.show()\n",
    "\n",
    "    # save_images(\n",
    "    #     train_gt_tomogram=train_gt_tomogram,\n",
    "    #     train_pred_tomogram=train_pred_tomogram,\n",
    "    #     valid_gt_tomogram=valid_gt_tomogram,\n",
    "    #     valid_pred_tomogram=valid_pred_tomogram,\n",
    "    #     save_dir=\"images\",\n",
    "    #     epoch=epoch,\n",
    "    # )"
   ]
  },
  {
   "cell_type": "code",
   "execution_count": null,
   "metadata": {},
   "outputs": [],
   "source": []
  }
 ],
 "metadata": {
  "kernelspec": {
   "display_name": "kaggle",
   "language": "python",
   "name": "python3"
  },
  "language_info": {
   "codemirror_mode": {
    "name": "ipython",
    "version": 3
   },
   "file_extension": ".py",
   "mimetype": "text/x-python",
   "name": "python",
   "nbconvert_exporter": "python",
   "pygments_lexer": "ipython3",
   "version": "3.9.16"
  }
 },
 "nbformat": 4,
 "nbformat_minor": 2
}
