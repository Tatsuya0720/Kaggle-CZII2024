{
 "cells": [
  {
   "cell_type": "code",
   "execution_count": 1,
   "metadata": {},
   "outputs": [],
   "source": [
    "import os\n",
    "import zarr\n",
    "import timm\n",
    "import random\n",
    "import json\n",
    "import warnings\n",
    "import numpy as np\n",
    "import pandas as pd\n",
    "import torch.nn as nn\n",
    "from pathlib import Path\n",
    "import matplotlib.pyplot as plt\n",
    "from torch.utils.data import DataLoader, Dataset\n",
    "from collections import defaultdict\n",
    "import sys\n",
    "import torch\n",
    "\n",
    "# import torchvision.transforms.functional as F\n",
    "import random\n",
    "\n",
    "warnings.filterwarnings(\"ignore\")\n",
    "sys.path.append(\"./src/\")\n",
    "\n",
    "from src.config import CFG\n",
    "from src.dataloader import (\n",
    "    read_zarr,\n",
    "    read_info_json,\n",
    "    scale_coordinates,\n",
    "    create_dataset,\n",
    "    create_segmentation_map,\n",
    "    EziiDataset,\n",
    "    drop_padding,\n",
    ")\n",
    "from src.network import Unet3D\n",
    "from src.utils import save_images, PadToSize\n",
    "from src.metric import (\n",
    "    score,\n",
    "    create_cls_pos,\n",
    "    create_cls_pos_sikii,\n",
    "    create_df,\n",
    "    SegmentationLoss,\n",
    "    DiceLoss,\n",
    ")\n",
    "from src.inference import inference, inference2pos, create_gt_df\n",
    "from metric import visualize_epoch_results"
   ]
  },
  {
   "cell_type": "code",
   "execution_count": 2,
   "metadata": {},
   "outputs": [
    {
     "name": "stderr",
     "output_type": "stream",
     "text": [
      "100%|██████████| 600/600 [00:01<00:00, 331.37it/s]\n",
      "100%|██████████| 2/2 [00:00<00:00,  2.84it/s]\n",
      "  0%|          | 0/100 [00:02<?, ?it/s]\n"
     ]
    },
    {
     "data": {
      "text/plain": [
       "torch.Size([6, 16, 315, 315])"
      ]
     },
     "execution_count": 2,
     "metadata": {},
     "output_type": "execute_result"
    }
   ],
   "source": [
    "train_dataset = EziiDataset(\n",
    "    exp_names=CFG.train_exp_names,\n",
    "    base_dir=\"../../inputs/train/\",\n",
    "    particles_name=CFG.particles_name,\n",
    "    resolution=CFG.resolution,\n",
    "    zarr_type=CFG.train_zarr_types,\n",
    "    train=True,\n",
    "    augmentation=True,\n",
    "    slice=True,\n",
    "    pre_read=True,\n",
    ")\n",
    "\n",
    "# train_nshuffle_dataset = EziiDataset(\n",
    "#     exp_names=CFG.train_exp_names,\n",
    "#     base_dir=\"../../inputs/train/\",\n",
    "#     particles_name=CFG.particles_name,\n",
    "#     resolution=CFG.resolution,\n",
    "#     zarr_type=CFG.train_zarr_types,\n",
    "#     augmentation=False,\n",
    "#     train=True,\n",
    "# )\n",
    "\n",
    "valid_dataset = EziiDataset(\n",
    "    exp_names=CFG.valid_exp_names,\n",
    "    base_dir=\"../../inputs/train/\",\n",
    "    particles_name=CFG.particles_name,\n",
    "    resolution=CFG.resolution,\n",
    "    zarr_type=CFG.valid_zarr_types,\n",
    "    augmentation=False,\n",
    "    train=True,\n",
    "    slice=True,\n",
    "    pre_read=True,\n",
    ")\n",
    "\n",
    "from tqdm import tqdm\n",
    "\n",
    "train_loader = DataLoader(\n",
    "    train_dataset,\n",
    "    batch_size=CFG.batch_size,\n",
    "    shuffle=True,\n",
    "    drop_last=True,\n",
    "    pin_memory=True,\n",
    "    num_workers=CFG.num_workers,\n",
    ")\n",
    "# train_nshuffle_loader = DataLoader(\n",
    "#     train_nshuffle_dataset,\n",
    "#     batch_size=1,\n",
    "#     shuffle=True,\n",
    "#     drop_last=True,\n",
    "#     pin_memory=True,\n",
    "#     num_workers=CFG.num_workers,\n",
    "# )\n",
    "valid_loader = DataLoader(\n",
    "    valid_dataset,\n",
    "    batch_size=1,\n",
    "    shuffle=False,\n",
    "    pin_memory=True,\n",
    "    num_workers=CFG.num_workers,\n",
    ")\n",
    "\n",
    "for data in tqdm(train_loader):\n",
    "    normalized_tomogram = data[\"normalized_tomogram\"]\n",
    "    segmentation_map = data[\"segmentation_map\"]\n",
    "    break\n",
    "\n",
    "normalized_tomogram.shape"
   ]
  },
  {
   "cell_type": "code",
   "execution_count": 3,
   "metadata": {},
   "outputs": [],
   "source": [
    "# from tqdm import tqdm\n",
    "\n",
    "# train_loader = DataLoader(\n",
    "#     train_dataset,\n",
    "#     batch_size=CFG.batch_size,\n",
    "#     shuffle=True,\n",
    "#     drop_last=True,\n",
    "#     pin_memory=True,\n",
    "#     num_workers=CFG.num_workers,\n",
    "# )\n",
    "# # train_nshuffle_loader = DataLoader(\n",
    "# #     train_nshuffle_dataset,\n",
    "# #     batch_size=1,\n",
    "# #     shuffle=True,\n",
    "# #     drop_last=True,\n",
    "# #     pin_memory=True,\n",
    "# #     num_workers=CFG.num_workers,\n",
    "# # )\n",
    "# valid_loader = DataLoader(\n",
    "#     valid_dataset,\n",
    "#     batch_size=1,\n",
    "#     shuffle=False,\n",
    "#     pin_memory=True,\n",
    "#     num_workers=CFG.num_workers,\n",
    "# )\n",
    "\n",
    "# for data in tqdm(train_loader):\n",
    "#     normalized_tomogram = data[\"normalized_tomogram\"]\n",
    "#     segmentation_map = data[\"segmentation_map\"]\n",
    "#     break\n",
    "\n",
    "# normalized_tomogram.shape"
   ]
  },
  {
   "cell_type": "code",
   "execution_count": 4,
   "metadata": {},
   "outputs": [],
   "source": [
    "encoder = timm.create_model(\n",
    "    model_name=CFG.model_name,\n",
    "    pretrained=True,\n",
    "    in_chans=3,\n",
    "    num_classes=0,\n",
    "    global_pool=\"\",\n",
    "    features_only=True,\n",
    ")\n",
    "model = Unet3D(encoder=encoder).to(\"cuda\")\n",
    "# model.load_state_dict(torch.load(\"./pretrained_model.pth\"))\n",
    "# model.load_state_dict(torch.load(\"./best_model.pth\"))"
   ]
  },
  {
   "cell_type": "code",
   "execution_count": 5,
   "metadata": {},
   "outputs": [],
   "source": [
    "# # \"encoder\"と名のつくパラメータは学習しない\n",
    "# for layer, param in model.named_parameters():\n",
    "#     if \"encoder\" in layer:\n",
    "#         param.requires_grad = False"
   ]
  },
  {
   "cell_type": "code",
   "execution_count": 6,
   "metadata": {},
   "outputs": [],
   "source": [
    "import matplotlib.pyplot as plt\n",
    "import numpy as np\n",
    "from matplotlib.colors import ListedColormap\n",
    "from matplotlib.patches import Patch\n",
    "\n",
    "# サンプルデータ\n",
    "num_classes = len(CFG.particles_name)  # クラス数\n",
    "colors = plt.cm.tab10(\n",
    "    np.arange(len(CFG.particles_name))\n",
    ")  # \"tab10\" カラーマップから色を取得\n",
    "\n",
    "# ListedColormap を作成\n",
    "class_colormap = ListedColormap(colors)\n",
    "\n",
    "\n",
    "# カラーバー付きプロット\n",
    "def plot_with_colormap(data, title, original_tomogram):\n",
    "    masked_data = np.ma.masked_where(data <= 0, data)  # クラス0をマスク\n",
    "    plt.imshow(original_tomogram, cmap=\"gray\")\n",
    "    im = plt.imshow(masked_data, cmap=class_colormap)\n",
    "    plt.title(title)\n",
    "    plt.axis(\"off\")\n",
    "    return im"
   ]
  },
  {
   "cell_type": "code",
   "execution_count": 7,
   "metadata": {},
   "outputs": [
    {
     "name": "stdout",
     "output_type": "stream",
     "text": [
      "Original shape: torch.Size([6, 16, 320, 320])\n",
      "Augmented shape: torch.Size([6, 16, 256, 256])\n"
     ]
    }
   ],
   "source": [
    "import torch\n",
    "import random\n",
    "import torchvision.transforms.functional as TF\n",
    "\n",
    "\n",
    "# 回転\n",
    "# 3Dテンソルの各軸に対して指定した角度で回転する関数\n",
    "def rotate_3d(tomogram, segmentation_map, angle):\n",
    "    \"\"\"Rotates the 3D tensors tomogram and segmentation_map around the Z-axis.\"\"\"\n",
    "    rotated_tomogram = TF.rotate(tomogram, angle, expand=False)\n",
    "    rotated_segmentation_map = TF.rotate(segmentation_map, angle, expand=False)\n",
    "    return rotated_tomogram, rotated_segmentation_map\n",
    "\n",
    "\n",
    "# 平行移動\n",
    "# 指定された範囲でランダムに平行移動\n",
    "def translate_3d(tomogram, segmentation_map, max_shift):\n",
    "    \"\"\"Translates the 3D tensors by a random shift within max_shift.\"\"\"\n",
    "    shift_x = random.randint(-max_shift, max_shift)\n",
    "    shift_y = random.randint(-max_shift, max_shift)\n",
    "    translated_tomogram = TF.affine(\n",
    "        tomogram, angle=0, translate=(shift_x, shift_y), scale=1, shear=0\n",
    "    )\n",
    "    translated_segmentation_map = TF.affine(\n",
    "        segmentation_map, angle=0, translate=(shift_x, shift_y), scale=1, shear=0\n",
    "    )\n",
    "    return translated_tomogram, translated_segmentation_map\n",
    "\n",
    "\n",
    "# フリップ\n",
    "# 縦横（上下左右）ランダムフリップ\n",
    "def flip_3d(tomogram, segmentation_map):\n",
    "    \"\"\"Randomly flips the 3D tensors along height or width.\"\"\"\n",
    "    if random.random() > 0.5:  # Horizontal flip\n",
    "        tomogram = torch.flip(tomogram, dims=[-1])\n",
    "        segmentation_map = torch.flip(segmentation_map, dims=[-1])\n",
    "    if random.random() > 0.5:  # Vertical flip\n",
    "        tomogram = torch.flip(tomogram, dims=[-2])\n",
    "        segmentation_map = torch.flip(segmentation_map, dims=[-2])\n",
    "    return tomogram, segmentation_map\n",
    "\n",
    "\n",
    "# クロッピング\n",
    "# 入力テンソルを中心またはランダムクロップで切り取る\n",
    "def crop_3d(tomogram, segmentation_map, crop_size):\n",
    "    \"\"\"Crops the 3D tensors to the specified crop_size.\"\"\"\n",
    "    _, depth, height, width = tomogram.size()\n",
    "    crop_d, crop_h, crop_w = crop_size\n",
    "\n",
    "    if crop_h > height or crop_w > width:\n",
    "        raise ValueError(\"Crop size cannot be larger than the original size.\")\n",
    "\n",
    "    start_h = random.randint(0, height - crop_h)  # Random starting position for height\n",
    "    start_w = random.randint(0, width - crop_w)  # Random starting position for width\n",
    "\n",
    "    cropped_tomogram = tomogram[\n",
    "        :, :, start_h : start_h + crop_h, start_w : start_w + crop_w\n",
    "    ]\n",
    "    cropped_segmentation_map = segmentation_map[\n",
    "        :, :, start_h : start_h + crop_h, start_w : start_w + crop_w\n",
    "    ]\n",
    "\n",
    "    return cropped_tomogram, cropped_segmentation_map\n",
    "\n",
    "\n",
    "# Mixup\n",
    "# 2つのサンプルを線形補間して混合\n",
    "def mixup(tomogram, segmentation_map, alpha=0.4):\n",
    "    \"\"\"Applies mixup augmentation to the batch.\"\"\"\n",
    "    lam = random.betavariate(alpha, alpha)\n",
    "    batch_size = tomogram.size(0)\n",
    "    index = torch.randperm(batch_size)\n",
    "\n",
    "    mixed_tomogram = lam * tomogram + (1 - lam) * tomogram[index, :]\n",
    "    mixed_segmentation_map = (\n",
    "        lam * segmentation_map + (1 - lam) * segmentation_map[index, :]\n",
    "    )\n",
    "\n",
    "    return mixed_tomogram, mixed_segmentation_map\n",
    "\n",
    "\n",
    "# Cutmix\n",
    "# ランダム領域を切り取って別のサンプルに貼り付け\n",
    "def cutmix(tomogram, segmentation_map, alpha=1.0):\n",
    "    \"\"\"Applies cutmix augmentation to the batch.\"\"\"\n",
    "    lam = random.betavariate(alpha, alpha)\n",
    "    batch_size, depth, height, width = tomogram.size()\n",
    "    index = torch.randperm(batch_size)\n",
    "\n",
    "    cx = random.randint(0, width)\n",
    "    cy = random.randint(0, height)\n",
    "    cw = int(width * (1 - lam))\n",
    "    ch = int(height * (1 - lam))\n",
    "\n",
    "    x1 = max(cx - cw // 2, 0)\n",
    "    x2 = min(cx + cw // 2, width)\n",
    "    y1 = max(cy - ch // 2, 0)\n",
    "    y2 = min(cy + ch // 2, height)\n",
    "\n",
    "    tomogram[:, :, y1:y2, x1:x2] = tomogram[index, :, y1:y2, x1:x2]\n",
    "    segmentation_map[:, :, y1:y2, x1:x2] = segmentation_map[index, :, y1:y2, x1:x2]\n",
    "\n",
    "    return tomogram, segmentation_map\n",
    "\n",
    "\n",
    "# データ拡張の組み合わせ適用\n",
    "def augment_data(\n",
    "    tomogram,\n",
    "    segmentation_map,\n",
    "    crop_size=(16, 256, 256),\n",
    "    max_shift=10,\n",
    "    rotation_angle=30,\n",
    "    p=0.5,\n",
    "    mixup_alpha=0.4,\n",
    "    cutmix_alpha=1.0,\n",
    "):\n",
    "    \"\"\"Applies a combination of rotation, translation, flipping, cropping, mixup, and cutmix to the inputs with probabilities.\"\"\"\n",
    "    if random.random() < p:\n",
    "        tomogram, segmentation_map = rotate_3d(\n",
    "            tomogram,\n",
    "            segmentation_map,\n",
    "            angle=random.uniform(-rotation_angle, rotation_angle),\n",
    "        )\n",
    "    if random.random() < p:\n",
    "        tomogram, segmentation_map = translate_3d(\n",
    "            tomogram, segmentation_map, max_shift=max_shift\n",
    "        )\n",
    "    if random.random() < p:\n",
    "        tomogram, segmentation_map = flip_3d(tomogram, segmentation_map)\n",
    "    if random.random() < p:\n",
    "        tomogram, segmentation_map = crop_3d(\n",
    "            tomogram, segmentation_map, crop_size=crop_size\n",
    "        )\n",
    "    if random.random() < p:\n",
    "        tomogram, segmentation_map = mixup(\n",
    "            tomogram, segmentation_map, alpha=mixup_alpha\n",
    "        )\n",
    "    # if random.random() < p:\n",
    "    #     tomogram, segmentation_map = cutmix(\n",
    "    #         tomogram, segmentation_map, alpha=cutmix_alpha\n",
    "    #     )\n",
    "    return tomogram, segmentation_map\n",
    "\n",
    "\n",
    "# 使用例\n",
    "# バッチサイズ6, 深さ16, 高さ320, 幅320のランダムテンソル\n",
    "tomogram = torch.rand((6, 16, 320, 320))\n",
    "segmentation_map = torch.randint(0, 2, (6, 16, 320, 320))  # ラベルは0または1\n",
    "\n",
    "# データ拡張の適用\n",
    "aug_tomogram, aug_segmentation_map = augment_data(tomogram, segmentation_map, p=0.7)\n",
    "print(\"Original shape:\", tomogram.shape)\n",
    "print(\"Augmented shape:\", aug_tomogram.shape)"
   ]
  },
  {
   "cell_type": "code",
   "execution_count": 8,
   "metadata": {},
   "outputs": [],
   "source": [
    "from transformers import get_cosine_schedule_with_warmup\n",
    "\n",
    "optimizer = torch.optim.Adam(\n",
    "    model.parameters(), lr=CFG.lr, weight_decay=CFG.weight_decay\n",
    ")\n",
    "# criterion = nn.CrossEntropyLoss(\n",
    "#     #  weight=torch.tensor([2.0, 32, 32, 32, 32, 32, 32]).to(\"cuda\")\n",
    "# )\n",
    "criterion = DiceLoss()\n",
    "scheduler = get_cosine_schedule_with_warmup(\n",
    "    optimizer,\n",
    "    num_warmup_steps=10,\n",
    "    num_training_steps=CFG.epochs * len(train_loader),\n",
    "    # * batch_size,\n",
    ")\n",
    "seg_loss = SegmentationLoss(criterion)\n",
    "padf = PadToSize(CFG.resolution)"
   ]
  },
  {
   "cell_type": "code",
   "execution_count": 9,
   "metadata": {},
   "outputs": [],
   "source": [
    "# b, c, d, h, w = CFG.batch_size, 1, 96, 320, 320"
   ]
  },
  {
   "cell_type": "code",
   "execution_count": 10,
   "metadata": {},
   "outputs": [],
   "source": [
    "def preprocess_tensor(tensor):\n",
    "    batch_size, depth, height, width = tensor.shape\n",
    "    tensor = tensor.unsqueeze(2)  # (b, d, h, w) -> (b, d, 1, h, w)\n",
    "    return tensor"
   ]
  },
  {
   "cell_type": "code",
   "execution_count": 11,
   "metadata": {},
   "outputs": [
    {
     "data": {
      "text/plain": [
       "torch.Size([6, 16, 320, 320])"
      ]
     },
     "execution_count": 11,
     "metadata": {},
     "output_type": "execute_result"
    }
   ],
   "source": [
    "padf = PadToSize(CFG.resolution)\n",
    "padf(normalized_tomogram).shape"
   ]
  },
  {
   "cell_type": "code",
   "execution_count": 12,
   "metadata": {},
   "outputs": [
    {
     "name": "stderr",
     "output_type": "stream",
     "text": [
      "Epoch 1/1000 [Training]: 100%|██████████| 100/100 [01:09<00:00,  1.43it/s, loss=0.9088]\n",
      "Epoch 1/1000 [Validation]: 100%|██████████| 2/2 [00:00<00:00,  5.46it/s, loss=0.8760]\n"
     ]
    },
    {
     "name": "stdout",
     "output_type": "stream",
     "text": [
      "train-epoch-loss:0.9088 valid-epoch-loss:0.8760 train-beta4-score:0.0394 valid-beta4-score:0.0104\n"
     ]
    },
    {
     "name": "stderr",
     "output_type": "stream",
     "text": [
      "Epoch 2/1000 [Training]: 100%|██████████| 100/100 [01:11<00:00,  1.41it/s, loss=0.8520]\n",
      "Epoch 2/1000 [Validation]: 100%|██████████| 2/2 [00:00<00:00,  3.68it/s, loss=0.7678]\n"
     ]
    },
    {
     "name": "stdout",
     "output_type": "stream",
     "text": [
      "train-epoch-loss:0.8520 valid-epoch-loss:0.7678 train-beta4-score:0.0305 valid-beta4-score:0.0179\n"
     ]
    },
    {
     "name": "stderr",
     "output_type": "stream",
     "text": [
      "Epoch 3/1000 [Training]: 100%|██████████| 100/100 [01:07<00:00,  1.48it/s, loss=0.7970]\n",
      "Epoch 3/1000 [Validation]: 100%|██████████| 2/2 [00:00<00:00,  3.68it/s, loss=0.7205]\n"
     ]
    },
    {
     "name": "stdout",
     "output_type": "stream",
     "text": [
      "train-epoch-loss:0.7970 valid-epoch-loss:0.7205 train-beta4-score:0.0738 valid-beta4-score:0.0532\n"
     ]
    },
    {
     "name": "stderr",
     "output_type": "stream",
     "text": [
      "Epoch 4/1000 [Training]: 100%|██████████| 100/100 [01:09<00:00,  1.43it/s, loss=0.7775]\n",
      "Epoch 4/1000 [Validation]: 100%|██████████| 2/2 [00:00<00:00,  3.40it/s, loss=0.6688]\n"
     ]
    },
    {
     "name": "stdout",
     "output_type": "stream",
     "text": [
      "train-epoch-loss:0.7775 valid-epoch-loss:0.6688 train-beta4-score:0.1865 valid-beta4-score:0.1727\n"
     ]
    },
    {
     "name": "stderr",
     "output_type": "stream",
     "text": [
      "Epoch 5/1000 [Training]: 100%|██████████| 100/100 [01:10<00:00,  1.41it/s, loss=0.7625]\n",
      "Epoch 5/1000 [Validation]: 100%|██████████| 2/2 [00:00<00:00,  3.48it/s, loss=0.6795]\n"
     ]
    },
    {
     "name": "stdout",
     "output_type": "stream",
     "text": [
      "train-epoch-loss:0.7625 valid-epoch-loss:0.6795 train-beta4-score:0.1482 valid-beta4-score:0.1522\n"
     ]
    },
    {
     "name": "stderr",
     "output_type": "stream",
     "text": [
      "Epoch 6/1000 [Training]: 100%|██████████| 100/100 [01:10<00:00,  1.41it/s, loss=0.7434]\n",
      "Epoch 6/1000 [Validation]: 100%|██████████| 2/2 [00:00<00:00,  3.42it/s, loss=0.6149]\n"
     ]
    },
    {
     "name": "stdout",
     "output_type": "stream",
     "text": [
      "train-epoch-loss:0.7434 valid-epoch-loss:0.6149 train-beta4-score:0.2655 valid-beta4-score:0.2461\n"
     ]
    },
    {
     "name": "stderr",
     "output_type": "stream",
     "text": [
      "Epoch 7/1000 [Training]: 100%|██████████| 100/100 [01:09<00:00,  1.44it/s, loss=0.7310]\n",
      "Epoch 7/1000 [Validation]: 100%|██████████| 2/2 [00:00<00:00,  3.44it/s, loss=0.6114]\n"
     ]
    },
    {
     "name": "stdout",
     "output_type": "stream",
     "text": [
      "train-epoch-loss:0.7310 valid-epoch-loss:0.6114 train-beta4-score:0.3060 valid-beta4-score:0.2397\n"
     ]
    },
    {
     "name": "stderr",
     "output_type": "stream",
     "text": [
      "Epoch 8/1000 [Training]: 100%|██████████| 100/100 [01:09<00:00,  1.45it/s, loss=0.7201]\n",
      "Epoch 8/1000 [Validation]: 100%|██████████| 2/2 [00:00<00:00,  3.44it/s, loss=0.6891]\n"
     ]
    },
    {
     "name": "stdout",
     "output_type": "stream",
     "text": [
      "train-epoch-loss:0.7201 valid-epoch-loss:0.6891 train-beta4-score:0.2314 valid-beta4-score:0.2018\n"
     ]
    },
    {
     "name": "stderr",
     "output_type": "stream",
     "text": [
      "Epoch 9/1000 [Training]: 100%|██████████| 100/100 [01:10<00:00,  1.42it/s, loss=0.7272]\n",
      "Epoch 9/1000 [Validation]: 100%|██████████| 2/2 [00:00<00:00,  3.48it/s, loss=0.6700]\n"
     ]
    },
    {
     "name": "stdout",
     "output_type": "stream",
     "text": [
      "train-epoch-loss:0.7272 valid-epoch-loss:0.6700 train-beta4-score:0.3933 valid-beta4-score:0.2853\n"
     ]
    },
    {
     "name": "stderr",
     "output_type": "stream",
     "text": [
      "Epoch 10/1000 [Training]: 100%|██████████| 100/100 [01:07<00:00,  1.47it/s, loss=0.7183]\n",
      "Epoch 10/1000 [Validation]: 100%|██████████| 2/2 [00:00<00:00,  3.50it/s, loss=0.6989]\n"
     ]
    },
    {
     "name": "stdout",
     "output_type": "stream",
     "text": [
      "train-epoch-loss:0.7183 valid-epoch-loss:0.6989 train-beta4-score:0.4675 valid-beta4-score:0.3274\n"
     ]
    },
    {
     "name": "stderr",
     "output_type": "stream",
     "text": [
      "Epoch 11/1000 [Training]: 100%|██████████| 100/100 [01:05<00:00,  1.53it/s, loss=0.7199]\n",
      "Epoch 11/1000 [Validation]: 100%|██████████| 2/2 [00:00<00:00,  3.36it/s, loss=0.5996]\n"
     ]
    },
    {
     "name": "stdout",
     "output_type": "stream",
     "text": [
      "train-epoch-loss:0.7199 valid-epoch-loss:0.5996 train-beta4-score:0.4124 valid-beta4-score:0.3371\n"
     ]
    },
    {
     "name": "stderr",
     "output_type": "stream",
     "text": [
      "Epoch 12/1000 [Training]: 100%|██████████| 100/100 [01:07<00:00,  1.48it/s, loss=0.6875]\n",
      "Epoch 12/1000 [Validation]: 100%|██████████| 2/2 [00:00<00:00,  3.42it/s, loss=0.5471]\n"
     ]
    },
    {
     "name": "stdout",
     "output_type": "stream",
     "text": [
      "train-epoch-loss:0.6875 valid-epoch-loss:0.5471 train-beta4-score:0.4963 valid-beta4-score:0.3519\n"
     ]
    },
    {
     "name": "stderr",
     "output_type": "stream",
     "text": [
      "Epoch 13/1000 [Training]: 100%|██████████| 100/100 [01:08<00:00,  1.46it/s, loss=0.6781]\n",
      "Epoch 13/1000 [Validation]: 100%|██████████| 2/2 [00:00<00:00,  3.39it/s, loss=0.6894]\n"
     ]
    },
    {
     "name": "stdout",
     "output_type": "stream",
     "text": [
      "train-epoch-loss:0.6781 valid-epoch-loss:0.6894 train-beta4-score:0.5115 valid-beta4-score:0.3412\n"
     ]
    },
    {
     "name": "stderr",
     "output_type": "stream",
     "text": [
      "Epoch 14/1000 [Training]: 100%|██████████| 100/100 [01:08<00:00,  1.47it/s, loss=0.6918]\n",
      "Epoch 14/1000 [Validation]: 100%|██████████| 2/2 [00:00<00:00,  3.41it/s, loss=0.5979]\n"
     ]
    },
    {
     "name": "stdout",
     "output_type": "stream",
     "text": [
      "train-epoch-loss:0.6918 valid-epoch-loss:0.5979 train-beta4-score:0.4838 valid-beta4-score:0.3271\n"
     ]
    },
    {
     "name": "stderr",
     "output_type": "stream",
     "text": [
      "Epoch 15/1000 [Training]: 100%|██████████| 100/100 [01:11<00:00,  1.40it/s, loss=0.6642]\n",
      "Epoch 15/1000 [Validation]: 100%|██████████| 2/2 [00:00<00:00,  3.33it/s, loss=0.6559]\n"
     ]
    },
    {
     "name": "stdout",
     "output_type": "stream",
     "text": [
      "train-epoch-loss:0.6642 valid-epoch-loss:0.6559 train-beta4-score:0.6408 valid-beta4-score:0.4419\n"
     ]
    },
    {
     "name": "stderr",
     "output_type": "stream",
     "text": [
      "Epoch 16/1000 [Training]: 100%|██████████| 100/100 [01:08<00:00,  1.47it/s, loss=0.6476]\n",
      "Epoch 16/1000 [Validation]: 100%|██████████| 2/2 [00:00<00:00,  3.40it/s, loss=0.5447]\n"
     ]
    },
    {
     "name": "stdout",
     "output_type": "stream",
     "text": [
      "train-epoch-loss:0.6476 valid-epoch-loss:0.5447 train-beta4-score:0.5208 valid-beta4-score:0.3403\n"
     ]
    },
    {
     "name": "stderr",
     "output_type": "stream",
     "text": [
      "Epoch 17/1000 [Training]: 100%|██████████| 100/100 [01:11<00:00,  1.40it/s, loss=0.6308]\n",
      "Epoch 17/1000 [Validation]: 100%|██████████| 2/2 [00:00<00:00,  3.38it/s, loss=0.6486]\n"
     ]
    },
    {
     "name": "stdout",
     "output_type": "stream",
     "text": [
      "train-epoch-loss:0.6308 valid-epoch-loss:0.6486 train-beta4-score:0.5479 valid-beta4-score:0.3774\n"
     ]
    },
    {
     "name": "stderr",
     "output_type": "stream",
     "text": [
      "Epoch 18/1000 [Training]: 100%|██████████| 100/100 [01:09<00:00,  1.44it/s, loss=0.5781]\n",
      "Epoch 18/1000 [Validation]: 100%|██████████| 2/2 [00:00<00:00,  3.34it/s, loss=0.5546]\n"
     ]
    },
    {
     "name": "stdout",
     "output_type": "stream",
     "text": [
      "train-epoch-loss:0.5781 valid-epoch-loss:0.5546 train-beta4-score:0.3896 valid-beta4-score:0.2626\n"
     ]
    },
    {
     "name": "stderr",
     "output_type": "stream",
     "text": [
      "Epoch 19/1000 [Training]: 100%|██████████| 100/100 [01:08<00:00,  1.47it/s, loss=0.6335]\n",
      "Epoch 19/1000 [Validation]: 100%|██████████| 2/2 [00:00<00:00,  3.37it/s, loss=0.6291]\n"
     ]
    },
    {
     "name": "stdout",
     "output_type": "stream",
     "text": [
      "train-epoch-loss:0.6335 valid-epoch-loss:0.6291 train-beta4-score:0.4994 valid-beta4-score:0.3427\n"
     ]
    },
    {
     "name": "stderr",
     "output_type": "stream",
     "text": [
      "Epoch 20/1000 [Training]: 100%|██████████| 100/100 [01:10<00:00,  1.43it/s, loss=0.6142]\n",
      "Epoch 20/1000 [Validation]: 100%|██████████| 2/2 [00:00<00:00,  3.43it/s, loss=0.6395]\n"
     ]
    },
    {
     "name": "stdout",
     "output_type": "stream",
     "text": [
      "train-epoch-loss:0.6142 valid-epoch-loss:0.6395 train-beta4-score:0.4672 valid-beta4-score:0.3271\n"
     ]
    },
    {
     "name": "stderr",
     "output_type": "stream",
     "text": [
      "Epoch 21/1000 [Training]: 100%|██████████| 100/100 [01:09<00:00,  1.45it/s, loss=0.6272]\n",
      "Epoch 21/1000 [Validation]: 100%|██████████| 2/2 [00:00<00:00,  3.35it/s, loss=0.7171]\n"
     ]
    },
    {
     "name": "stdout",
     "output_type": "stream",
     "text": [
      "train-epoch-loss:0.6272 valid-epoch-loss:0.7171 train-beta4-score:0.5517 valid-beta4-score:0.3320\n"
     ]
    },
    {
     "name": "stderr",
     "output_type": "stream",
     "text": [
      "Epoch 22/1000 [Training]: 100%|██████████| 100/100 [01:10<00:00,  1.41it/s, loss=0.6090]\n",
      "Epoch 22/1000 [Validation]: 100%|██████████| 2/2 [00:00<00:00,  3.38it/s, loss=0.5072]\n"
     ]
    },
    {
     "name": "stdout",
     "output_type": "stream",
     "text": [
      "train-epoch-loss:0.6090 valid-epoch-loss:0.5072 train-beta4-score:0.6428 valid-beta4-score:0.3886\n"
     ]
    },
    {
     "name": "stderr",
     "output_type": "stream",
     "text": [
      "Epoch 23/1000 [Training]: 100%|██████████| 100/100 [01:08<00:00,  1.45it/s, loss=0.5599]\n",
      "Epoch 23/1000 [Validation]: 100%|██████████| 2/2 [00:00<00:00,  3.24it/s, loss=0.4769]\n"
     ]
    },
    {
     "name": "stdout",
     "output_type": "stream",
     "text": [
      "train-epoch-loss:0.5599 valid-epoch-loss:0.4769 train-beta4-score:0.6664 valid-beta4-score:0.3818\n"
     ]
    },
    {
     "name": "stderr",
     "output_type": "stream",
     "text": [
      "Epoch 24/1000 [Training]: 100%|██████████| 100/100 [01:09<00:00,  1.43it/s, loss=0.6064]\n",
      "Epoch 24/1000 [Validation]: 100%|██████████| 2/2 [00:00<00:00,  3.39it/s, loss=0.5035]\n"
     ]
    },
    {
     "name": "stdout",
     "output_type": "stream",
     "text": [
      "train-epoch-loss:0.6064 valid-epoch-loss:0.5035 train-beta4-score:0.6648 valid-beta4-score:0.3760\n"
     ]
    },
    {
     "name": "stderr",
     "output_type": "stream",
     "text": [
      "Epoch 25/1000 [Training]: 100%|██████████| 100/100 [01:08<00:00,  1.46it/s, loss=0.6203]\n",
      "Epoch 25/1000 [Validation]: 100%|██████████| 2/2 [00:00<00:00,  3.38it/s, loss=0.6582]\n"
     ]
    },
    {
     "name": "stdout",
     "output_type": "stream",
     "text": [
      "train-epoch-loss:0.6203 valid-epoch-loss:0.6582 train-beta4-score:0.5897 valid-beta4-score:0.3581\n"
     ]
    },
    {
     "name": "stderr",
     "output_type": "stream",
     "text": [
      "Epoch 26/1000 [Training]: 100%|██████████| 100/100 [01:07<00:00,  1.48it/s, loss=0.6322]\n",
      "Epoch 26/1000 [Validation]: 100%|██████████| 2/2 [00:00<00:00,  3.39it/s, loss=0.5012]\n"
     ]
    },
    {
     "name": "stdout",
     "output_type": "stream",
     "text": [
      "train-epoch-loss:0.6322 valid-epoch-loss:0.5012 train-beta4-score:0.4873 valid-beta4-score:0.3535\n"
     ]
    },
    {
     "name": "stderr",
     "output_type": "stream",
     "text": [
      "Epoch 27/1000 [Training]: 100%|██████████| 100/100 [01:09<00:00,  1.45it/s, loss=0.6210]\n",
      "Epoch 27/1000 [Validation]: 100%|██████████| 2/2 [00:00<00:00,  3.35it/s, loss=0.6405]\n"
     ]
    },
    {
     "name": "stdout",
     "output_type": "stream",
     "text": [
      "train-epoch-loss:0.6210 valid-epoch-loss:0.6405 train-beta4-score:0.5790 valid-beta4-score:0.3356\n"
     ]
    },
    {
     "name": "stderr",
     "output_type": "stream",
     "text": [
      "Epoch 28/1000 [Training]: 100%|██████████| 100/100 [01:08<00:00,  1.47it/s, loss=0.5555]\n",
      "Epoch 28/1000 [Validation]: 100%|██████████| 2/2 [00:00<00:00,  3.35it/s, loss=0.4952]\n"
     ]
    },
    {
     "name": "stdout",
     "output_type": "stream",
     "text": [
      "train-epoch-loss:0.5555 valid-epoch-loss:0.4952 train-beta4-score:0.6929 valid-beta4-score:0.4232\n"
     ]
    },
    {
     "name": "stderr",
     "output_type": "stream",
     "text": [
      "Epoch 29/1000 [Training]: 100%|██████████| 100/100 [01:09<00:00,  1.44it/s, loss=0.6051]\n",
      "Epoch 29/1000 [Validation]: 100%|██████████| 2/2 [00:00<00:00,  3.41it/s, loss=0.4582]\n"
     ]
    },
    {
     "name": "stdout",
     "output_type": "stream",
     "text": [
      "train-epoch-loss:0.6051 valid-epoch-loss:0.4582 train-beta4-score:0.6837 valid-beta4-score:0.4053\n"
     ]
    },
    {
     "name": "stderr",
     "output_type": "stream",
     "text": [
      "Epoch 30/1000 [Training]: 100%|██████████| 100/100 [01:08<00:00,  1.46it/s, loss=0.5666]\n",
      "Epoch 30/1000 [Validation]: 100%|██████████| 2/2 [00:00<00:00,  3.35it/s, loss=0.5373]\n"
     ]
    },
    {
     "name": "stdout",
     "output_type": "stream",
     "text": [
      "train-epoch-loss:0.5666 valid-epoch-loss:0.5373 train-beta4-score:0.8055 valid-beta4-score:0.4969\n"
     ]
    },
    {
     "name": "stderr",
     "output_type": "stream",
     "text": [
      "Epoch 31/1000 [Training]: 100%|██████████| 100/100 [01:10<00:00,  1.42it/s, loss=0.6006]\n",
      "Epoch 31/1000 [Validation]: 100%|██████████| 2/2 [00:00<00:00,  3.33it/s, loss=0.6253]\n"
     ]
    },
    {
     "name": "stdout",
     "output_type": "stream",
     "text": [
      "train-epoch-loss:0.6006 valid-epoch-loss:0.6253 train-beta4-score:0.7076 valid-beta4-score:0.4187\n"
     ]
    },
    {
     "name": "stderr",
     "output_type": "stream",
     "text": [
      "Epoch 32/1000 [Training]: 100%|██████████| 100/100 [01:09<00:00,  1.45it/s, loss=0.5721]\n",
      "Epoch 32/1000 [Validation]: 100%|██████████| 2/2 [00:00<00:00,  3.41it/s, loss=0.8315]\n"
     ]
    },
    {
     "name": "stdout",
     "output_type": "stream",
     "text": [
      "train-epoch-loss:0.5721 valid-epoch-loss:0.8315 train-beta4-score:0.7421 valid-beta4-score:0.4092\n"
     ]
    },
    {
     "name": "stderr",
     "output_type": "stream",
     "text": [
      "Epoch 33/1000 [Training]: 100%|██████████| 100/100 [01:08<00:00,  1.46it/s, loss=0.5995]\n",
      "Epoch 33/1000 [Validation]: 100%|██████████| 2/2 [00:00<00:00,  3.37it/s, loss=0.6670]\n"
     ]
    },
    {
     "name": "stdout",
     "output_type": "stream",
     "text": [
      "train-epoch-loss:0.5995 valid-epoch-loss:0.6670 train-beta4-score:0.7452 valid-beta4-score:0.4538\n"
     ]
    },
    {
     "name": "stderr",
     "output_type": "stream",
     "text": [
      "Epoch 34/1000 [Training]: 100%|██████████| 100/100 [01:10<00:00,  1.42it/s, loss=0.5533]\n",
      "Epoch 34/1000 [Validation]: 100%|██████████| 2/2 [00:00<00:00,  3.33it/s, loss=0.5529]\n"
     ]
    },
    {
     "name": "stdout",
     "output_type": "stream",
     "text": [
      "train-epoch-loss:0.5533 valid-epoch-loss:0.5529 train-beta4-score:0.7312 valid-beta4-score:0.4379\n"
     ]
    },
    {
     "name": "stderr",
     "output_type": "stream",
     "text": [
      "Epoch 35/1000 [Training]: 100%|██████████| 100/100 [01:06<00:00,  1.51it/s, loss=0.5598]\n",
      "Epoch 35/1000 [Validation]: 100%|██████████| 2/2 [00:00<00:00,  3.09it/s, loss=0.6405]\n"
     ]
    },
    {
     "name": "stdout",
     "output_type": "stream",
     "text": [
      "train-epoch-loss:0.5598 valid-epoch-loss:0.6405 train-beta4-score:0.7455 valid-beta4-score:0.4306\n"
     ]
    },
    {
     "name": "stderr",
     "output_type": "stream",
     "text": [
      "Epoch 36/1000 [Training]: 100%|██████████| 100/100 [01:08<00:00,  1.45it/s, loss=0.5744]\n",
      "Epoch 36/1000 [Validation]: 100%|██████████| 2/2 [00:00<00:00,  3.37it/s, loss=0.5175]\n"
     ]
    },
    {
     "name": "stdout",
     "output_type": "stream",
     "text": [
      "train-epoch-loss:0.5744 valid-epoch-loss:0.5175 train-beta4-score:0.7352 valid-beta4-score:0.4297\n"
     ]
    },
    {
     "name": "stderr",
     "output_type": "stream",
     "text": [
      "Epoch 37/1000 [Training]: 100%|██████████| 100/100 [01:08<00:00,  1.45it/s, loss=0.5892]\n",
      "Epoch 37/1000 [Validation]: 100%|██████████| 2/2 [00:00<00:00,  3.41it/s, loss=0.6740]\n"
     ]
    },
    {
     "name": "stdout",
     "output_type": "stream",
     "text": [
      "train-epoch-loss:0.5892 valid-epoch-loss:0.6740 train-beta4-score:0.7886 valid-beta4-score:0.4696\n"
     ]
    },
    {
     "name": "stderr",
     "output_type": "stream",
     "text": [
      "Epoch 38/1000 [Training]: 100%|██████████| 100/100 [01:11<00:00,  1.39it/s, loss=0.6027]\n",
      "Epoch 38/1000 [Validation]: 100%|██████████| 2/2 [00:00<00:00,  3.36it/s, loss=0.6370]\n"
     ]
    },
    {
     "name": "stdout",
     "output_type": "stream",
     "text": [
      "train-epoch-loss:0.6027 valid-epoch-loss:0.6370 train-beta4-score:0.7643 valid-beta4-score:0.4340\n"
     ]
    },
    {
     "name": "stderr",
     "output_type": "stream",
     "text": [
      "Epoch 39/1000 [Training]: 100%|██████████| 100/100 [01:07<00:00,  1.48it/s, loss=0.5535]\n",
      "Epoch 39/1000 [Validation]: 100%|██████████| 2/2 [00:00<00:00,  3.33it/s, loss=0.6738]\n"
     ]
    },
    {
     "name": "stdout",
     "output_type": "stream",
     "text": [
      "train-epoch-loss:0.5535 valid-epoch-loss:0.6738 train-beta4-score:0.5241 valid-beta4-score:0.3111\n"
     ]
    },
    {
     "name": "stderr",
     "output_type": "stream",
     "text": [
      "Epoch 40/1000 [Training]: 100%|██████████| 100/100 [01:10<00:00,  1.42it/s, loss=0.5833]\n",
      "Epoch 40/1000 [Validation]: 100%|██████████| 2/2 [00:00<00:00,  3.37it/s, loss=0.6115]\n"
     ]
    },
    {
     "name": "stdout",
     "output_type": "stream",
     "text": [
      "train-epoch-loss:0.5833 valid-epoch-loss:0.6115 train-beta4-score:0.7359 valid-beta4-score:0.4319\n"
     ]
    },
    {
     "name": "stderr",
     "output_type": "stream",
     "text": [
      "Epoch 41/1000 [Training]: 100%|██████████| 100/100 [01:11<00:00,  1.41it/s, loss=0.5466]\n",
      "Epoch 41/1000 [Validation]: 100%|██████████| 2/2 [00:00<00:00,  3.35it/s, loss=0.5251]\n"
     ]
    },
    {
     "name": "stdout",
     "output_type": "stream",
     "text": [
      "train-epoch-loss:0.5466 valid-epoch-loss:0.5251 train-beta4-score:0.7071 valid-beta4-score:0.4412\n"
     ]
    },
    {
     "name": "stderr",
     "output_type": "stream",
     "text": [
      "Epoch 42/1000 [Training]: 100%|██████████| 100/100 [01:07<00:00,  1.48it/s, loss=0.5351]\n",
      "Epoch 42/1000 [Validation]: 100%|██████████| 2/2 [00:00<00:00,  3.33it/s, loss=0.4694]\n"
     ]
    },
    {
     "name": "stdout",
     "output_type": "stream",
     "text": [
      "train-epoch-loss:0.5351 valid-epoch-loss:0.4694 train-beta4-score:0.5946 valid-beta4-score:0.3844\n"
     ]
    },
    {
     "name": "stderr",
     "output_type": "stream",
     "text": [
      "Epoch 43/1000 [Training]: 100%|██████████| 100/100 [01:11<00:00,  1.40it/s, loss=0.5328]\n",
      "Epoch 43/1000 [Validation]: 100%|██████████| 2/2 [00:00<00:00,  3.32it/s, loss=0.5782]\n"
     ]
    },
    {
     "name": "stdout",
     "output_type": "stream",
     "text": [
      "train-epoch-loss:0.5328 valid-epoch-loss:0.5782 train-beta4-score:0.8756 valid-beta4-score:0.5430\n"
     ]
    },
    {
     "name": "stderr",
     "output_type": "stream",
     "text": [
      "Epoch 44/1000 [Training]: 100%|██████████| 100/100 [01:07<00:00,  1.48it/s, loss=0.5028]\n",
      "Epoch 44/1000 [Validation]: 100%|██████████| 2/2 [00:00<00:00,  3.31it/s, loss=0.4973]\n"
     ]
    },
    {
     "name": "stdout",
     "output_type": "stream",
     "text": [
      "train-epoch-loss:0.5028 valid-epoch-loss:0.4973 train-beta4-score:0.4589 valid-beta4-score:0.3407\n"
     ]
    },
    {
     "name": "stderr",
     "output_type": "stream",
     "text": [
      "Epoch 45/1000 [Training]: 100%|██████████| 100/100 [01:10<00:00,  1.41it/s, loss=0.4941]\n",
      "Epoch 45/1000 [Validation]: 100%|██████████| 2/2 [00:00<00:00,  3.42it/s, loss=0.5320]\n"
     ]
    },
    {
     "name": "stdout",
     "output_type": "stream",
     "text": [
      "train-epoch-loss:0.4941 valid-epoch-loss:0.5320 train-beta4-score:0.7196 valid-beta4-score:0.4536\n"
     ]
    },
    {
     "name": "stderr",
     "output_type": "stream",
     "text": [
      "Epoch 46/1000 [Training]: 100%|██████████| 100/100 [01:09<00:00,  1.44it/s, loss=0.4522]\n",
      "Epoch 46/1000 [Validation]: 100%|██████████| 2/2 [00:00<00:00,  3.38it/s, loss=0.5649]\n"
     ]
    },
    {
     "name": "stdout",
     "output_type": "stream",
     "text": [
      "train-epoch-loss:0.4522 valid-epoch-loss:0.5649 train-beta4-score:0.7154 valid-beta4-score:0.4451\n"
     ]
    },
    {
     "name": "stderr",
     "output_type": "stream",
     "text": [
      "Epoch 47/1000 [Training]: 100%|██████████| 100/100 [01:09<00:00,  1.44it/s, loss=0.4629]\n",
      "Epoch 47/1000 [Validation]: 100%|██████████| 2/2 [00:00<00:00,  3.37it/s, loss=0.5522]\n"
     ]
    },
    {
     "name": "stdout",
     "output_type": "stream",
     "text": [
      "train-epoch-loss:0.4629 valid-epoch-loss:0.5522 train-beta4-score:0.5931 valid-beta4-score:0.4178\n"
     ]
    },
    {
     "name": "stderr",
     "output_type": "stream",
     "text": [
      "Epoch 48/1000 [Training]: 100%|██████████| 100/100 [01:09<00:00,  1.43it/s, loss=0.4245]\n",
      "Epoch 48/1000 [Validation]: 100%|██████████| 2/2 [00:00<00:00,  3.35it/s, loss=0.4381]\n"
     ]
    },
    {
     "name": "stdout",
     "output_type": "stream",
     "text": [
      "train-epoch-loss:0.4245 valid-epoch-loss:0.4381 train-beta4-score:0.8821 valid-beta4-score:0.5538\n"
     ]
    },
    {
     "name": "stderr",
     "output_type": "stream",
     "text": [
      "Epoch 49/1000 [Training]: 100%|██████████| 100/100 [01:11<00:00,  1.41it/s, loss=0.3967]\n",
      "Epoch 49/1000 [Validation]: 100%|██████████| 2/2 [00:00<00:00,  3.26it/s, loss=0.3000]\n"
     ]
    },
    {
     "name": "stdout",
     "output_type": "stream",
     "text": [
      "train-epoch-loss:0.3967 valid-epoch-loss:0.3000 train-beta4-score:0.8198 valid-beta4-score:0.4994\n"
     ]
    },
    {
     "name": "stderr",
     "output_type": "stream",
     "text": [
      "Epoch 50/1000 [Training]: 100%|██████████| 100/100 [01:10<00:00,  1.41it/s, loss=0.3839]\n",
      "Epoch 50/1000 [Validation]: 100%|██████████| 2/2 [00:00<00:00,  3.40it/s, loss=0.4434]\n"
     ]
    },
    {
     "name": "stdout",
     "output_type": "stream",
     "text": [
      "train-epoch-loss:0.3839 valid-epoch-loss:0.4434 train-beta4-score:0.7302 valid-beta4-score:0.4256\n"
     ]
    },
    {
     "name": "stderr",
     "output_type": "stream",
     "text": [
      "Epoch 51/1000 [Training]: 100%|██████████| 100/100 [01:10<00:00,  1.43it/s, loss=0.3985]\n",
      "Epoch 51/1000 [Validation]: 100%|██████████| 2/2 [00:00<00:00,  3.34it/s, loss=0.4811]\n"
     ]
    },
    {
     "name": "stdout",
     "output_type": "stream",
     "text": [
      "train-epoch-loss:0.3985 valid-epoch-loss:0.4811 train-beta4-score:0.5716 valid-beta4-score:0.4080\n"
     ]
    },
    {
     "name": "stderr",
     "output_type": "stream",
     "text": [
      "Epoch 52/1000 [Training]: 100%|██████████| 100/100 [01:07<00:00,  1.47it/s, loss=0.3286]\n",
      "Epoch 52/1000 [Validation]: 100%|██████████| 2/2 [00:00<00:00,  3.31it/s, loss=0.3207]\n"
     ]
    },
    {
     "name": "stdout",
     "output_type": "stream",
     "text": [
      "train-epoch-loss:0.3286 valid-epoch-loss:0.3207 train-beta4-score:0.7093 valid-beta4-score:0.4897\n"
     ]
    },
    {
     "name": "stderr",
     "output_type": "stream",
     "text": [
      "Epoch 53/1000 [Training]: 100%|██████████| 100/100 [01:07<00:00,  1.48it/s, loss=0.3292]\n",
      "Epoch 53/1000 [Validation]: 100%|██████████| 2/2 [00:00<00:00,  3.27it/s, loss=0.4121]\n"
     ]
    },
    {
     "name": "stdout",
     "output_type": "stream",
     "text": [
      "train-epoch-loss:0.3292 valid-epoch-loss:0.4121 train-beta4-score:0.6624 valid-beta4-score:0.4459\n"
     ]
    },
    {
     "name": "stderr",
     "output_type": "stream",
     "text": [
      "Epoch 54/1000 [Training]: 100%|██████████| 100/100 [01:08<00:00,  1.45it/s, loss=0.4020]\n",
      "Epoch 54/1000 [Validation]: 100%|██████████| 2/2 [00:00<00:00,  3.27it/s, loss=0.3661]\n"
     ]
    },
    {
     "name": "stdout",
     "output_type": "stream",
     "text": [
      "train-epoch-loss:0.4020 valid-epoch-loss:0.3661 train-beta4-score:0.4932 valid-beta4-score:0.3600\n"
     ]
    },
    {
     "name": "stderr",
     "output_type": "stream",
     "text": [
      "Epoch 55/1000 [Training]: 100%|██████████| 100/100 [01:09<00:00,  1.44it/s, loss=0.3776]\n",
      "Epoch 55/1000 [Validation]: 100%|██████████| 2/2 [00:00<00:00,  3.33it/s, loss=0.3789]\n"
     ]
    },
    {
     "name": "stdout",
     "output_type": "stream",
     "text": [
      "train-epoch-loss:0.3776 valid-epoch-loss:0.3789 train-beta4-score:0.7913 valid-beta4-score:0.4974\n"
     ]
    },
    {
     "name": "stderr",
     "output_type": "stream",
     "text": [
      "Epoch 56/1000 [Training]: 100%|██████████| 100/100 [01:07<00:00,  1.49it/s, loss=0.3638]\n",
      "Epoch 56/1000 [Validation]: 100%|██████████| 2/2 [00:00<00:00,  3.35it/s, loss=0.3665]\n"
     ]
    },
    {
     "name": "stdout",
     "output_type": "stream",
     "text": [
      "train-epoch-loss:0.3638 valid-epoch-loss:0.3665 train-beta4-score:0.7962 valid-beta4-score:0.5286\n"
     ]
    },
    {
     "name": "stderr",
     "output_type": "stream",
     "text": [
      "Epoch 57/1000 [Training]: 100%|██████████| 100/100 [01:09<00:00,  1.45it/s, loss=0.4004]\n",
      "Epoch 57/1000 [Validation]: 100%|██████████| 2/2 [00:00<00:00,  3.36it/s, loss=0.4758]\n"
     ]
    },
    {
     "name": "stdout",
     "output_type": "stream",
     "text": [
      "train-epoch-loss:0.4004 valid-epoch-loss:0.4758 train-beta4-score:0.6349 valid-beta4-score:0.4070\n"
     ]
    },
    {
     "name": "stderr",
     "output_type": "stream",
     "text": [
      "Epoch 58/1000 [Training]: 100%|██████████| 100/100 [01:11<00:00,  1.40it/s, loss=0.3801]\n",
      "Epoch 58/1000 [Validation]: 100%|██████████| 2/2 [00:00<00:00,  3.15it/s, loss=0.4840]\n"
     ]
    },
    {
     "name": "stdout",
     "output_type": "stream",
     "text": [
      "train-epoch-loss:0.3801 valid-epoch-loss:0.4840 train-beta4-score:0.8387 valid-beta4-score:0.5281\n"
     ]
    },
    {
     "name": "stderr",
     "output_type": "stream",
     "text": [
      "Epoch 59/1000 [Training]: 100%|██████████| 100/100 [01:10<00:00,  1.41it/s, loss=0.3775]\n",
      "Epoch 59/1000 [Validation]: 100%|██████████| 2/2 [00:00<00:00,  3.29it/s, loss=0.4724]\n"
     ]
    },
    {
     "name": "stdout",
     "output_type": "stream",
     "text": [
      "train-epoch-loss:0.3775 valid-epoch-loss:0.4724 train-beta4-score:0.7363 valid-beta4-score:0.4870\n"
     ]
    },
    {
     "name": "stderr",
     "output_type": "stream",
     "text": [
      "Epoch 60/1000 [Training]: 100%|██████████| 100/100 [01:08<00:00,  1.46it/s, loss=0.3360]\n",
      "Epoch 60/1000 [Validation]: 100%|██████████| 2/2 [00:00<00:00,  3.32it/s, loss=0.4325]\n"
     ]
    },
    {
     "name": "stdout",
     "output_type": "stream",
     "text": [
      "train-epoch-loss:0.3360 valid-epoch-loss:0.4325 train-beta4-score:0.8346 valid-beta4-score:0.5223\n"
     ]
    },
    {
     "name": "stderr",
     "output_type": "stream",
     "text": [
      "Epoch 61/1000 [Training]: 100%|██████████| 100/100 [01:11<00:00,  1.40it/s, loss=0.3675]\n",
      "Epoch 61/1000 [Validation]: 100%|██████████| 2/2 [00:00<00:00,  3.29it/s, loss=0.4898]\n"
     ]
    },
    {
     "name": "stdout",
     "output_type": "stream",
     "text": [
      "train-epoch-loss:0.3675 valid-epoch-loss:0.4898 train-beta4-score:0.8105 valid-beta4-score:0.4597\n"
     ]
    },
    {
     "name": "stderr",
     "output_type": "stream",
     "text": [
      "Epoch 62/1000 [Training]: 100%|██████████| 100/100 [01:11<00:00,  1.41it/s, loss=0.3643]\n",
      "Epoch 62/1000 [Validation]: 100%|██████████| 2/2 [00:00<00:00,  3.38it/s, loss=0.3749]\n"
     ]
    },
    {
     "name": "stdout",
     "output_type": "stream",
     "text": [
      "train-epoch-loss:0.3643 valid-epoch-loss:0.3749 train-beta4-score:0.8413 valid-beta4-score:0.5199\n"
     ]
    },
    {
     "name": "stderr",
     "output_type": "stream",
     "text": [
      "Epoch 63/1000 [Training]: 100%|██████████| 100/100 [01:08<00:00,  1.46it/s, loss=0.3306]\n",
      "Epoch 63/1000 [Validation]: 100%|██████████| 2/2 [00:00<00:00,  3.31it/s, loss=0.4600]\n"
     ]
    },
    {
     "name": "stdout",
     "output_type": "stream",
     "text": [
      "train-epoch-loss:0.3306 valid-epoch-loss:0.4600 train-beta4-score:0.6823 valid-beta4-score:0.4789\n"
     ]
    },
    {
     "name": "stderr",
     "output_type": "stream",
     "text": [
      "Epoch 64/1000 [Training]: 100%|██████████| 100/100 [01:11<00:00,  1.40it/s, loss=0.3870]\n",
      "Epoch 64/1000 [Validation]: 100%|██████████| 2/2 [00:00<00:00,  3.30it/s, loss=0.5653]\n"
     ]
    },
    {
     "name": "stdout",
     "output_type": "stream",
     "text": [
      "train-epoch-loss:0.3870 valid-epoch-loss:0.5653 train-beta4-score:0.6300 valid-beta4-score:0.3568\n"
     ]
    },
    {
     "name": "stderr",
     "output_type": "stream",
     "text": [
      "Epoch 65/1000 [Training]: 100%|██████████| 100/100 [01:09<00:00,  1.45it/s, loss=0.3541]\n",
      "Epoch 65/1000 [Validation]: 100%|██████████| 2/2 [00:00<00:00,  3.31it/s, loss=0.3765]\n"
     ]
    },
    {
     "name": "stdout",
     "output_type": "stream",
     "text": [
      "train-epoch-loss:0.3541 valid-epoch-loss:0.3765 train-beta4-score:0.6664 valid-beta4-score:0.3636\n"
     ]
    },
    {
     "name": "stderr",
     "output_type": "stream",
     "text": [
      "Epoch 66/1000 [Training]: 100%|██████████| 100/100 [01:11<00:00,  1.40it/s, loss=0.3632]\n",
      "Epoch 66/1000 [Validation]: 100%|██████████| 2/2 [00:00<00:00,  3.31it/s, loss=0.5552]\n"
     ]
    },
    {
     "name": "stdout",
     "output_type": "stream",
     "text": [
      "train-epoch-loss:0.3632 valid-epoch-loss:0.5552 train-beta4-score:0.7501 valid-beta4-score:0.3921\n"
     ]
    },
    {
     "name": "stderr",
     "output_type": "stream",
     "text": [
      "Epoch 67/1000 [Training]: 100%|██████████| 100/100 [01:08<00:00,  1.46it/s, loss=0.3791]\n",
      "Epoch 67/1000 [Validation]: 100%|██████████| 2/2 [00:00<00:00,  3.41it/s, loss=0.5340]\n"
     ]
    },
    {
     "name": "stdout",
     "output_type": "stream",
     "text": [
      "train-epoch-loss:0.3791 valid-epoch-loss:0.5340 train-beta4-score:0.6412 valid-beta4-score:0.3720\n"
     ]
    },
    {
     "name": "stderr",
     "output_type": "stream",
     "text": [
      "Epoch 68/1000 [Training]: 100%|██████████| 100/100 [01:10<00:00,  1.42it/s, loss=0.3719]\n",
      "Epoch 68/1000 [Validation]: 100%|██████████| 2/2 [00:00<00:00,  3.25it/s, loss=0.6106]\n"
     ]
    },
    {
     "name": "stdout",
     "output_type": "stream",
     "text": [
      "train-epoch-loss:0.3719 valid-epoch-loss:0.6106 train-beta4-score:0.5566 valid-beta4-score:0.3207\n"
     ]
    },
    {
     "name": "stderr",
     "output_type": "stream",
     "text": [
      "Epoch 69/1000 [Training]: 100%|██████████| 100/100 [01:08<00:00,  1.47it/s, loss=0.3582]\n",
      "Epoch 69/1000 [Validation]: 100%|██████████| 2/2 [00:00<00:00,  3.26it/s, loss=0.4903]\n"
     ]
    },
    {
     "name": "stdout",
     "output_type": "stream",
     "text": [
      "train-epoch-loss:0.3582 valid-epoch-loss:0.4903 train-beta4-score:0.7020 valid-beta4-score:0.3480\n"
     ]
    },
    {
     "name": "stderr",
     "output_type": "stream",
     "text": [
      "Epoch 70/1000 [Training]: 100%|██████████| 100/100 [01:08<00:00,  1.46it/s, loss=0.3473]\n",
      "Epoch 70/1000 [Validation]: 100%|██████████| 2/2 [00:00<00:00,  3.33it/s, loss=0.3577]\n"
     ]
    },
    {
     "name": "stdout",
     "output_type": "stream",
     "text": [
      "train-epoch-loss:0.3473 valid-epoch-loss:0.3577 train-beta4-score:0.5820 valid-beta4-score:0.3184\n"
     ]
    },
    {
     "name": "stderr",
     "output_type": "stream",
     "text": [
      "Epoch 71/1000 [Training]: 100%|██████████| 100/100 [01:09<00:00,  1.45it/s, loss=0.3634]\n",
      "Epoch 71/1000 [Validation]: 100%|██████████| 2/2 [00:00<00:00,  3.32it/s, loss=0.6059]\n"
     ]
    },
    {
     "name": "stdout",
     "output_type": "stream",
     "text": [
      "train-epoch-loss:0.3634 valid-epoch-loss:0.6059 train-beta4-score:0.6901 valid-beta4-score:0.3711\n"
     ]
    },
    {
     "name": "stderr",
     "output_type": "stream",
     "text": [
      "Epoch 72/1000 [Training]: 100%|██████████| 100/100 [01:10<00:00,  1.42it/s, loss=0.3754]\n",
      "Epoch 72/1000 [Validation]: 100%|██████████| 2/2 [00:00<00:00,  3.38it/s, loss=0.5981]\n"
     ]
    },
    {
     "name": "stdout",
     "output_type": "stream",
     "text": [
      "train-epoch-loss:0.3754 valid-epoch-loss:0.5981 train-beta4-score:0.6941 valid-beta4-score:0.3767\n"
     ]
    },
    {
     "name": "stderr",
     "output_type": "stream",
     "text": [
      "Epoch 73/1000 [Training]: 100%|██████████| 100/100 [01:09<00:00,  1.43it/s, loss=0.3858]\n",
      "Epoch 73/1000 [Validation]: 100%|██████████| 2/2 [00:00<00:00,  3.34it/s, loss=0.3955]\n"
     ]
    },
    {
     "name": "stdout",
     "output_type": "stream",
     "text": [
      "train-epoch-loss:0.3858 valid-epoch-loss:0.3955 train-beta4-score:0.6224 valid-beta4-score:0.3680\n"
     ]
    },
    {
     "name": "stderr",
     "output_type": "stream",
     "text": [
      "Epoch 74/1000 [Training]: 100%|██████████| 100/100 [01:07<00:00,  1.49it/s, loss=0.3529]\n",
      "Epoch 74/1000 [Validation]: 100%|██████████| 2/2 [00:00<00:00,  3.34it/s, loss=0.3911]\n"
     ]
    },
    {
     "name": "stdout",
     "output_type": "stream",
     "text": [
      "train-epoch-loss:0.3529 valid-epoch-loss:0.3911 train-beta4-score:0.7125 valid-beta4-score:0.3884\n"
     ]
    },
    {
     "name": "stderr",
     "output_type": "stream",
     "text": [
      "Epoch 75/1000 [Training]: 100%|██████████| 100/100 [01:09<00:00,  1.44it/s, loss=0.3680]\n",
      "Epoch 75/1000 [Validation]: 100%|██████████| 2/2 [00:00<00:00,  3.34it/s, loss=0.5315]\n"
     ]
    },
    {
     "name": "stdout",
     "output_type": "stream",
     "text": [
      "train-epoch-loss:0.3680 valid-epoch-loss:0.5315 train-beta4-score:0.5721 valid-beta4-score:0.3049\n"
     ]
    },
    {
     "name": "stderr",
     "output_type": "stream",
     "text": [
      "Epoch 76/1000 [Training]: 100%|██████████| 100/100 [01:09<00:00,  1.43it/s, loss=0.3517]\n",
      "Epoch 76/1000 [Validation]: 100%|██████████| 2/2 [00:00<00:00,  3.32it/s, loss=0.2826]\n"
     ]
    },
    {
     "name": "stdout",
     "output_type": "stream",
     "text": [
      "train-epoch-loss:0.3517 valid-epoch-loss:0.2826 train-beta4-score:0.7139 valid-beta4-score:0.4351\n"
     ]
    },
    {
     "name": "stderr",
     "output_type": "stream",
     "text": [
      "Epoch 77/1000 [Training]: 100%|██████████| 100/100 [01:07<00:00,  1.49it/s, loss=0.3460]\n",
      "Epoch 77/1000 [Validation]: 100%|██████████| 2/2 [00:00<00:00,  3.35it/s, loss=0.6686]\n"
     ]
    },
    {
     "name": "stdout",
     "output_type": "stream",
     "text": [
      "train-epoch-loss:0.3460 valid-epoch-loss:0.6686 train-beta4-score:0.7336 valid-beta4-score:0.3812\n"
     ]
    },
    {
     "name": "stderr",
     "output_type": "stream",
     "text": [
      "Epoch 78/1000 [Training]: 100%|██████████| 100/100 [01:10<00:00,  1.42it/s, loss=0.3690]\n",
      "Epoch 78/1000 [Validation]: 100%|██████████| 2/2 [00:00<00:00,  3.30it/s, loss=0.4874]\n"
     ]
    },
    {
     "name": "stdout",
     "output_type": "stream",
     "text": [
      "train-epoch-loss:0.3690 valid-epoch-loss:0.4874 train-beta4-score:0.5751 valid-beta4-score:0.3172\n"
     ]
    },
    {
     "name": "stderr",
     "output_type": "stream",
     "text": [
      "Epoch 79/1000 [Training]: 100%|██████████| 100/100 [01:11<00:00,  1.40it/s, loss=0.3675]\n",
      "Epoch 79/1000 [Validation]: 100%|██████████| 2/2 [00:00<00:00,  3.28it/s, loss=0.5600]\n"
     ]
    },
    {
     "name": "stdout",
     "output_type": "stream",
     "text": [
      "train-epoch-loss:0.3675 valid-epoch-loss:0.5600 train-beta4-score:0.6154 valid-beta4-score:0.3487\n"
     ]
    },
    {
     "name": "stderr",
     "output_type": "stream",
     "text": [
      "Epoch 80/1000 [Training]: 100%|██████████| 100/100 [01:11<00:00,  1.41it/s, loss=0.3332]\n",
      "Epoch 80/1000 [Validation]: 100%|██████████| 2/2 [00:00<00:00,  3.31it/s, loss=0.4541]\n"
     ]
    },
    {
     "name": "stdout",
     "output_type": "stream",
     "text": [
      "train-epoch-loss:0.3332 valid-epoch-loss:0.4541 train-beta4-score:0.6886 valid-beta4-score:0.3751\n"
     ]
    },
    {
     "name": "stderr",
     "output_type": "stream",
     "text": [
      "Epoch 81/1000 [Training]: 100%|██████████| 100/100 [01:10<00:00,  1.41it/s, loss=0.3687]\n",
      "Epoch 81/1000 [Validation]: 100%|██████████| 2/2 [00:00<00:00,  3.38it/s, loss=0.3319]\n"
     ]
    },
    {
     "name": "stdout",
     "output_type": "stream",
     "text": [
      "train-epoch-loss:0.3687 valid-epoch-loss:0.3319 train-beta4-score:0.6302 valid-beta4-score:0.3393\n"
     ]
    },
    {
     "name": "stderr",
     "output_type": "stream",
     "text": [
      "Epoch 82/1000 [Training]: 100%|██████████| 100/100 [01:11<00:00,  1.40it/s, loss=0.3563]\n",
      "Epoch 82/1000 [Validation]: 100%|██████████| 2/2 [00:00<00:00,  3.35it/s, loss=0.5149]\n"
     ]
    },
    {
     "name": "stdout",
     "output_type": "stream",
     "text": [
      "train-epoch-loss:0.3563 valid-epoch-loss:0.5149 train-beta4-score:0.7213 valid-beta4-score:0.2771\n"
     ]
    },
    {
     "name": "stderr",
     "output_type": "stream",
     "text": [
      "Epoch 83/1000 [Training]: 100%|██████████| 100/100 [01:09<00:00,  1.44it/s, loss=0.3759]\n",
      "Epoch 83/1000 [Validation]: 100%|██████████| 2/2 [00:00<00:00,  3.38it/s, loss=0.6422]\n"
     ]
    },
    {
     "name": "stdout",
     "output_type": "stream",
     "text": [
      "train-epoch-loss:0.3759 valid-epoch-loss:0.6422 train-beta4-score:0.7057 valid-beta4-score:0.4067\n"
     ]
    },
    {
     "name": "stderr",
     "output_type": "stream",
     "text": [
      "Epoch 84/1000 [Training]: 100%|██████████| 100/100 [01:07<00:00,  1.48it/s, loss=0.3686]\n",
      "Epoch 84/1000 [Validation]: 100%|██████████| 2/2 [00:00<00:00,  3.34it/s, loss=0.4938]\n"
     ]
    },
    {
     "name": "stdout",
     "output_type": "stream",
     "text": [
      "train-epoch-loss:0.3686 valid-epoch-loss:0.4938 train-beta4-score:0.5317 valid-beta4-score:0.3166\n"
     ]
    },
    {
     "name": "stderr",
     "output_type": "stream",
     "text": [
      "Epoch 85/1000 [Training]: 100%|██████████| 100/100 [01:09<00:00,  1.44it/s, loss=0.3705]\n",
      "Epoch 85/1000 [Validation]: 100%|██████████| 2/2 [00:00<00:00,  3.31it/s, loss=0.5527]\n"
     ]
    },
    {
     "name": "stdout",
     "output_type": "stream",
     "text": [
      "train-epoch-loss:0.3705 valid-epoch-loss:0.5527 train-beta4-score:0.5580 valid-beta4-score:0.3410\n"
     ]
    },
    {
     "name": "stderr",
     "output_type": "stream",
     "text": [
      "Epoch 86/1000 [Training]: 100%|██████████| 100/100 [01:08<00:00,  1.47it/s, loss=0.3352]\n",
      "Epoch 86/1000 [Validation]: 100%|██████████| 2/2 [00:00<00:00,  3.31it/s, loss=0.4697]\n"
     ]
    },
    {
     "name": "stdout",
     "output_type": "stream",
     "text": [
      "train-epoch-loss:0.3352 valid-epoch-loss:0.4697 train-beta4-score:0.6962 valid-beta4-score:0.3927\n"
     ]
    },
    {
     "name": "stderr",
     "output_type": "stream",
     "text": [
      "Epoch 87/1000 [Training]: 100%|██████████| 100/100 [01:08<00:00,  1.47it/s, loss=0.3389]\n",
      "Epoch 87/1000 [Validation]: 100%|██████████| 2/2 [00:00<00:00,  3.33it/s, loss=0.4673]\n"
     ]
    },
    {
     "name": "stdout",
     "output_type": "stream",
     "text": [
      "train-epoch-loss:0.3389 valid-epoch-loss:0.4673 train-beta4-score:0.7418 valid-beta4-score:0.3576\n"
     ]
    },
    {
     "name": "stderr",
     "output_type": "stream",
     "text": [
      "Epoch 88/1000 [Training]: 100%|██████████| 100/100 [01:08<00:00,  1.46it/s, loss=0.3654]\n",
      "Epoch 88/1000 [Validation]: 100%|██████████| 2/2 [00:00<00:00,  3.22it/s, loss=0.5529]\n"
     ]
    },
    {
     "name": "stdout",
     "output_type": "stream",
     "text": [
      "train-epoch-loss:0.3654 valid-epoch-loss:0.5529 train-beta4-score:0.6866 valid-beta4-score:0.3309\n"
     ]
    },
    {
     "name": "stderr",
     "output_type": "stream",
     "text": [
      "Epoch 89/1000 [Training]: 100%|██████████| 100/100 [01:10<00:00,  1.42it/s, loss=0.3589]\n",
      "Epoch 89/1000 [Validation]: 100%|██████████| 2/2 [00:00<00:00,  3.37it/s, loss=0.4658]\n"
     ]
    },
    {
     "name": "stdout",
     "output_type": "stream",
     "text": [
      "train-epoch-loss:0.3589 valid-epoch-loss:0.4658 train-beta4-score:0.6335 valid-beta4-score:0.3414\n"
     ]
    },
    {
     "name": "stderr",
     "output_type": "stream",
     "text": [
      "Epoch 90/1000 [Training]: 100%|██████████| 100/100 [01:09<00:00,  1.44it/s, loss=0.3475]\n",
      "Epoch 90/1000 [Validation]: 100%|██████████| 2/2 [00:00<00:00,  3.35it/s, loss=0.4416]\n"
     ]
    },
    {
     "name": "stdout",
     "output_type": "stream",
     "text": [
      "train-epoch-loss:0.3475 valid-epoch-loss:0.4416 train-beta4-score:0.6620 valid-beta4-score:0.3893\n"
     ]
    },
    {
     "name": "stderr",
     "output_type": "stream",
     "text": [
      "Epoch 91/1000 [Training]: 100%|██████████| 100/100 [01:09<00:00,  1.44it/s, loss=0.3295]\n",
      "Epoch 91/1000 [Validation]: 100%|██████████| 2/2 [00:00<00:00,  3.39it/s, loss=0.5997]\n"
     ]
    },
    {
     "name": "stdout",
     "output_type": "stream",
     "text": [
      "train-epoch-loss:0.3295 valid-epoch-loss:0.5997 train-beta4-score:0.7079 valid-beta4-score:0.3577\n"
     ]
    },
    {
     "name": "stderr",
     "output_type": "stream",
     "text": [
      "Epoch 92/1000 [Training]: 100%|██████████| 100/100 [01:07<00:00,  1.49it/s, loss=0.3373]\n",
      "Epoch 92/1000 [Validation]: 100%|██████████| 2/2 [00:00<00:00,  3.32it/s, loss=0.6085]\n"
     ]
    },
    {
     "name": "stdout",
     "output_type": "stream",
     "text": [
      "train-epoch-loss:0.3373 valid-epoch-loss:0.6085 train-beta4-score:0.6227 valid-beta4-score:0.3422\n"
     ]
    },
    {
     "name": "stderr",
     "output_type": "stream",
     "text": [
      "Epoch 93/1000 [Training]: 100%|██████████| 100/100 [01:11<00:00,  1.41it/s, loss=0.3825]\n",
      "Epoch 93/1000 [Validation]: 100%|██████████| 2/2 [00:00<00:00,  3.32it/s, loss=0.4296]\n"
     ]
    },
    {
     "name": "stdout",
     "output_type": "stream",
     "text": [
      "train-epoch-loss:0.3825 valid-epoch-loss:0.4296 train-beta4-score:0.6393 valid-beta4-score:0.3717\n"
     ]
    },
    {
     "name": "stderr",
     "output_type": "stream",
     "text": [
      "Epoch 94/1000 [Training]: 100%|██████████| 100/100 [01:11<00:00,  1.40it/s, loss=0.3498]\n",
      "Epoch 94/1000 [Validation]: 100%|██████████| 2/2 [00:00<00:00,  3.33it/s, loss=0.2705]\n"
     ]
    },
    {
     "name": "stdout",
     "output_type": "stream",
     "text": [
      "train-epoch-loss:0.3498 valid-epoch-loss:0.2705 train-beta4-score:0.5386 valid-beta4-score:0.3028\n"
     ]
    },
    {
     "name": "stderr",
     "output_type": "stream",
     "text": [
      "Epoch 95/1000 [Training]: 100%|██████████| 100/100 [01:08<00:00,  1.46it/s, loss=0.3611]\n",
      "Epoch 95/1000 [Validation]: 100%|██████████| 2/2 [00:00<00:00,  3.38it/s, loss=0.2212]\n"
     ]
    },
    {
     "name": "stdout",
     "output_type": "stream",
     "text": [
      "train-epoch-loss:0.3611 valid-epoch-loss:0.2212 train-beta4-score:0.6412 valid-beta4-score:0.3832\n"
     ]
    },
    {
     "name": "stderr",
     "output_type": "stream",
     "text": [
      "Epoch 96/1000 [Training]: 100%|██████████| 100/100 [01:06<00:00,  1.51it/s, loss=0.3278]\n",
      "Epoch 96/1000 [Validation]: 100%|██████████| 2/2 [00:00<00:00,  3.29it/s, loss=0.6917]\n"
     ]
    },
    {
     "name": "stdout",
     "output_type": "stream",
     "text": [
      "train-epoch-loss:0.3278 valid-epoch-loss:0.6917 train-beta4-score:0.6628 valid-beta4-score:0.3714\n"
     ]
    },
    {
     "name": "stderr",
     "output_type": "stream",
     "text": [
      "Epoch 97/1000 [Training]: 100%|██████████| 100/100 [01:06<00:00,  1.51it/s, loss=0.3306]\n",
      "Epoch 97/1000 [Validation]: 100%|██████████| 2/2 [00:00<00:00,  3.31it/s, loss=0.5416]\n"
     ]
    },
    {
     "name": "stdout",
     "output_type": "stream",
     "text": [
      "train-epoch-loss:0.3306 valid-epoch-loss:0.5416 train-beta4-score:0.6589 valid-beta4-score:0.3273\n"
     ]
    },
    {
     "name": "stderr",
     "output_type": "stream",
     "text": [
      "Epoch 98/1000 [Training]: 100%|██████████| 100/100 [01:09<00:00,  1.44it/s, loss=0.3939]\n",
      "Epoch 98/1000 [Validation]: 100%|██████████| 2/2 [00:00<00:00,  3.32it/s, loss=0.4060]\n"
     ]
    },
    {
     "name": "stdout",
     "output_type": "stream",
     "text": [
      "train-epoch-loss:0.3939 valid-epoch-loss:0.4060 train-beta4-score:0.5984 valid-beta4-score:0.3253\n"
     ]
    },
    {
     "name": "stderr",
     "output_type": "stream",
     "text": [
      "Epoch 99/1000 [Training]: 100%|██████████| 100/100 [01:08<00:00,  1.47it/s, loss=0.3514]\n",
      "Epoch 99/1000 [Validation]: 100%|██████████| 2/2 [00:00<00:00,  3.32it/s, loss=0.6238]\n"
     ]
    },
    {
     "name": "stdout",
     "output_type": "stream",
     "text": [
      "train-epoch-loss:0.3514 valid-epoch-loss:0.6238 train-beta4-score:0.6680 valid-beta4-score:0.3808\n"
     ]
    },
    {
     "name": "stderr",
     "output_type": "stream",
     "text": [
      "Epoch 100/1000 [Training]: 100%|██████████| 100/100 [01:09<00:00,  1.43it/s, loss=0.3551]\n",
      "Epoch 100/1000 [Validation]: 100%|██████████| 2/2 [00:00<00:00,  3.37it/s, loss=0.3991]\n"
     ]
    },
    {
     "name": "stdout",
     "output_type": "stream",
     "text": [
      "train-epoch-loss:0.3551 valid-epoch-loss:0.3991 train-beta4-score:0.6661 valid-beta4-score:0.3483\n"
     ]
    },
    {
     "name": "stderr",
     "output_type": "stream",
     "text": [
      "Epoch 101/1000 [Training]: 100%|██████████| 100/100 [01:06<00:00,  1.51it/s, loss=0.3425]\n",
      "Epoch 101/1000 [Validation]: 100%|██████████| 2/2 [00:00<00:00,  3.39it/s, loss=0.4761]\n"
     ]
    },
    {
     "name": "stdout",
     "output_type": "stream",
     "text": [
      "train-epoch-loss:0.3425 valid-epoch-loss:0.4761 train-beta4-score:0.6471 valid-beta4-score:0.3263\n"
     ]
    },
    {
     "name": "stderr",
     "output_type": "stream",
     "text": [
      "Epoch 102/1000 [Training]: 100%|██████████| 100/100 [01:12<00:00,  1.38it/s, loss=0.3349]\n",
      "Epoch 102/1000 [Validation]: 100%|██████████| 2/2 [00:00<00:00,  3.10it/s, loss=0.5272]\n"
     ]
    },
    {
     "name": "stdout",
     "output_type": "stream",
     "text": [
      "train-epoch-loss:0.3349 valid-epoch-loss:0.5272 train-beta4-score:0.7188 valid-beta4-score:0.4363\n"
     ]
    },
    {
     "name": "stderr",
     "output_type": "stream",
     "text": [
      "Epoch 103/1000 [Training]: 100%|██████████| 100/100 [01:08<00:00,  1.46it/s, loss=0.3400]\n",
      "Epoch 103/1000 [Validation]: 100%|██████████| 2/2 [00:00<00:00,  3.36it/s, loss=0.5082]\n"
     ]
    },
    {
     "name": "stdout",
     "output_type": "stream",
     "text": [
      "train-epoch-loss:0.3400 valid-epoch-loss:0.5082 train-beta4-score:0.6433 valid-beta4-score:0.3887\n"
     ]
    },
    {
     "name": "stderr",
     "output_type": "stream",
     "text": [
      "Epoch 104/1000 [Training]: 100%|██████████| 100/100 [01:08<00:00,  1.46it/s, loss=0.3370]\n",
      "Epoch 104/1000 [Validation]: 100%|██████████| 2/2 [00:00<00:00,  3.36it/s, loss=0.5015]\n"
     ]
    },
    {
     "name": "stdout",
     "output_type": "stream",
     "text": [
      "train-epoch-loss:0.3370 valid-epoch-loss:0.5015 train-beta4-score:0.6930 valid-beta4-score:0.3821\n"
     ]
    },
    {
     "name": "stderr",
     "output_type": "stream",
     "text": [
      "Epoch 105/1000 [Training]: 100%|██████████| 100/100 [01:10<00:00,  1.41it/s, loss=0.3844]\n",
      "Epoch 105/1000 [Validation]: 100%|██████████| 2/2 [00:00<00:00,  3.35it/s, loss=0.5943]\n"
     ]
    },
    {
     "name": "stdout",
     "output_type": "stream",
     "text": [
      "train-epoch-loss:0.3844 valid-epoch-loss:0.5943 train-beta4-score:0.7100 valid-beta4-score:0.4329\n"
     ]
    },
    {
     "name": "stderr",
     "output_type": "stream",
     "text": [
      "Epoch 106/1000 [Training]: 100%|██████████| 100/100 [01:10<00:00,  1.43it/s, loss=0.3370]\n",
      "Epoch 106/1000 [Validation]: 100%|██████████| 2/2 [00:00<00:00,  3.24it/s, loss=0.4819]\n"
     ]
    },
    {
     "name": "stdout",
     "output_type": "stream",
     "text": [
      "train-epoch-loss:0.3370 valid-epoch-loss:0.4819 train-beta4-score:0.5705 valid-beta4-score:0.3236\n"
     ]
    },
    {
     "name": "stderr",
     "output_type": "stream",
     "text": [
      "Epoch 107/1000 [Training]: 100%|██████████| 100/100 [01:09<00:00,  1.44it/s, loss=0.3578]\n",
      "Epoch 107/1000 [Validation]: 100%|██████████| 2/2 [00:00<00:00,  3.31it/s, loss=0.6667]\n"
     ]
    },
    {
     "name": "stdout",
     "output_type": "stream",
     "text": [
      "train-epoch-loss:0.3578 valid-epoch-loss:0.6667 train-beta4-score:0.6730 valid-beta4-score:0.4256\n"
     ]
    },
    {
     "name": "stderr",
     "output_type": "stream",
     "text": [
      "Epoch 108/1000 [Training]: 100%|██████████| 100/100 [01:09<00:00,  1.44it/s, loss=0.3603]\n",
      "Epoch 108/1000 [Validation]: 100%|██████████| 2/2 [00:00<00:00,  3.27it/s, loss=0.4492]\n"
     ]
    },
    {
     "name": "stdout",
     "output_type": "stream",
     "text": [
      "train-epoch-loss:0.3603 valid-epoch-loss:0.4492 train-beta4-score:0.7282 valid-beta4-score:0.4199\n"
     ]
    },
    {
     "name": "stderr",
     "output_type": "stream",
     "text": [
      "Epoch 109/1000 [Training]: 100%|██████████| 100/100 [01:09<00:00,  1.45it/s, loss=0.3449]\n",
      "Epoch 109/1000 [Validation]: 100%|██████████| 2/2 [00:00<00:00,  3.41it/s, loss=0.4730]\n"
     ]
    },
    {
     "name": "stdout",
     "output_type": "stream",
     "text": [
      "train-epoch-loss:0.3449 valid-epoch-loss:0.4730 train-beta4-score:0.7196 valid-beta4-score:0.4113\n"
     ]
    },
    {
     "name": "stderr",
     "output_type": "stream",
     "text": [
      "Epoch 110/1000 [Training]: 100%|██████████| 100/100 [01:08<00:00,  1.46it/s, loss=0.3726]\n",
      "Epoch 110/1000 [Validation]: 100%|██████████| 2/2 [00:00<00:00,  3.34it/s, loss=0.5598]\n"
     ]
    },
    {
     "name": "stdout",
     "output_type": "stream",
     "text": [
      "train-epoch-loss:0.3726 valid-epoch-loss:0.5598 train-beta4-score:0.5722 valid-beta4-score:0.3297\n"
     ]
    },
    {
     "name": "stderr",
     "output_type": "stream",
     "text": [
      "Epoch 111/1000 [Training]: 100%|██████████| 100/100 [01:07<00:00,  1.48it/s, loss=0.3451]\n",
      "Epoch 111/1000 [Validation]: 100%|██████████| 2/2 [00:00<00:00,  3.33it/s, loss=0.5018]\n"
     ]
    },
    {
     "name": "stdout",
     "output_type": "stream",
     "text": [
      "train-epoch-loss:0.3451 valid-epoch-loss:0.5018 train-beta4-score:0.7340 valid-beta4-score:0.4450\n"
     ]
    },
    {
     "name": "stderr",
     "output_type": "stream",
     "text": [
      "Epoch 112/1000 [Training]: 100%|██████████| 100/100 [01:10<00:00,  1.43it/s, loss=0.3687]\n",
      "Epoch 112/1000 [Validation]: 100%|██████████| 2/2 [00:00<00:00,  3.30it/s, loss=0.6996]\n"
     ]
    },
    {
     "name": "stdout",
     "output_type": "stream",
     "text": [
      "train-epoch-loss:0.3687 valid-epoch-loss:0.6996 train-beta4-score:0.6740 valid-beta4-score:0.3837\n"
     ]
    },
    {
     "name": "stderr",
     "output_type": "stream",
     "text": [
      "Epoch 113/1000 [Training]: 100%|██████████| 100/100 [01:08<00:00,  1.46it/s, loss=0.3310]\n",
      "Epoch 113/1000 [Validation]: 100%|██████████| 2/2 [00:00<00:00,  3.29it/s, loss=0.5908]\n"
     ]
    },
    {
     "name": "stdout",
     "output_type": "stream",
     "text": [
      "train-epoch-loss:0.3310 valid-epoch-loss:0.5908 train-beta4-score:0.5823 valid-beta4-score:0.3285\n"
     ]
    },
    {
     "name": "stderr",
     "output_type": "stream",
     "text": [
      "Epoch 114/1000 [Training]: 100%|██████████| 100/100 [01:09<00:00,  1.44it/s, loss=0.3211]\n",
      "Epoch 114/1000 [Validation]: 100%|██████████| 2/2 [00:00<00:00,  3.31it/s, loss=0.5873]\n"
     ]
    },
    {
     "name": "stdout",
     "output_type": "stream",
     "text": [
      "train-epoch-loss:0.3211 valid-epoch-loss:0.5873 train-beta4-score:0.6488 valid-beta4-score:0.3571\n"
     ]
    },
    {
     "name": "stderr",
     "output_type": "stream",
     "text": [
      "Epoch 115/1000 [Training]: 100%|██████████| 100/100 [01:08<00:00,  1.45it/s, loss=0.3295]\n",
      "Epoch 115/1000 [Validation]: 100%|██████████| 2/2 [00:00<00:00,  3.34it/s, loss=0.5055]\n"
     ]
    },
    {
     "name": "stdout",
     "output_type": "stream",
     "text": [
      "train-epoch-loss:0.3295 valid-epoch-loss:0.5055 train-beta4-score:0.7198 valid-beta4-score:0.3809\n"
     ]
    },
    {
     "name": "stderr",
     "output_type": "stream",
     "text": [
      "Epoch 116/1000 [Training]: 100%|██████████| 100/100 [01:09<00:00,  1.44it/s, loss=0.3445]\n",
      "Epoch 116/1000 [Validation]: 100%|██████████| 2/2 [00:00<00:00,  3.30it/s, loss=0.5974]\n"
     ]
    },
    {
     "name": "stdout",
     "output_type": "stream",
     "text": [
      "train-epoch-loss:0.3445 valid-epoch-loss:0.5974 train-beta4-score:0.6743 valid-beta4-score:0.3546\n"
     ]
    },
    {
     "name": "stderr",
     "output_type": "stream",
     "text": [
      "Epoch 117/1000 [Training]: 100%|██████████| 100/100 [01:08<00:00,  1.45it/s, loss=0.3135]\n",
      "Epoch 117/1000 [Validation]: 100%|██████████| 2/2 [00:00<00:00,  3.37it/s, loss=0.5509]\n"
     ]
    },
    {
     "name": "stdout",
     "output_type": "stream",
     "text": [
      "train-epoch-loss:0.3135 valid-epoch-loss:0.5509 train-beta4-score:0.7030 valid-beta4-score:0.4389\n"
     ]
    },
    {
     "name": "stderr",
     "output_type": "stream",
     "text": [
      "Epoch 118/1000 [Training]: 100%|██████████| 100/100 [01:10<00:00,  1.43it/s, loss=0.3434]\n",
      "Epoch 118/1000 [Validation]: 100%|██████████| 2/2 [00:00<00:00,  3.30it/s, loss=0.4238]\n"
     ]
    },
    {
     "name": "stdout",
     "output_type": "stream",
     "text": [
      "train-epoch-loss:0.3434 valid-epoch-loss:0.4238 train-beta4-score:0.7220 valid-beta4-score:0.3898\n"
     ]
    },
    {
     "name": "stderr",
     "output_type": "stream",
     "text": [
      "Epoch 119/1000 [Training]: 100%|██████████| 100/100 [01:10<00:00,  1.43it/s, loss=0.3283]\n",
      "Epoch 119/1000 [Validation]: 100%|██████████| 2/2 [00:00<00:00,  3.35it/s, loss=0.3156]\n"
     ]
    },
    {
     "name": "stdout",
     "output_type": "stream",
     "text": [
      "train-epoch-loss:0.3283 valid-epoch-loss:0.3156 train-beta4-score:0.6378 valid-beta4-score:0.3752\n"
     ]
    },
    {
     "name": "stderr",
     "output_type": "stream",
     "text": [
      "Epoch 120/1000 [Training]: 100%|██████████| 100/100 [01:09<00:00,  1.45it/s, loss=0.3818]\n",
      "Epoch 120/1000 [Validation]: 100%|██████████| 2/2 [00:00<00:00,  3.26it/s, loss=0.2617]\n"
     ]
    },
    {
     "name": "stdout",
     "output_type": "stream",
     "text": [
      "train-epoch-loss:0.3818 valid-epoch-loss:0.2617 train-beta4-score:0.4617 valid-beta4-score:0.3090\n"
     ]
    },
    {
     "name": "stderr",
     "output_type": "stream",
     "text": [
      "Epoch 121/1000 [Training]: 100%|██████████| 100/100 [01:08<00:00,  1.47it/s, loss=0.3761]\n",
      "Epoch 121/1000 [Validation]: 100%|██████████| 2/2 [00:00<00:00,  3.13it/s, loss=0.4144]\n"
     ]
    },
    {
     "name": "stdout",
     "output_type": "stream",
     "text": [
      "train-epoch-loss:0.3761 valid-epoch-loss:0.4144 train-beta4-score:0.6844 valid-beta4-score:0.3800\n"
     ]
    },
    {
     "name": "stderr",
     "output_type": "stream",
     "text": [
      "Epoch 122/1000 [Training]: 100%|██████████| 100/100 [01:08<00:00,  1.46it/s, loss=0.3525]\n",
      "Epoch 122/1000 [Validation]: 100%|██████████| 2/2 [00:00<00:00,  3.27it/s, loss=0.4416]\n"
     ]
    },
    {
     "name": "stdout",
     "output_type": "stream",
     "text": [
      "train-epoch-loss:0.3525 valid-epoch-loss:0.4416 train-beta4-score:0.6338 valid-beta4-score:0.3413\n"
     ]
    },
    {
     "name": "stderr",
     "output_type": "stream",
     "text": [
      "Epoch 123/1000 [Training]: 100%|██████████| 100/100 [01:08<00:00,  1.45it/s, loss=0.3404]\n",
      "Epoch 123/1000 [Validation]: 100%|██████████| 2/2 [00:00<00:00,  3.33it/s, loss=0.4248]\n"
     ]
    },
    {
     "name": "stdout",
     "output_type": "stream",
     "text": [
      "train-epoch-loss:0.3404 valid-epoch-loss:0.4248 train-beta4-score:0.7011 valid-beta4-score:0.3479\n"
     ]
    },
    {
     "name": "stderr",
     "output_type": "stream",
     "text": [
      "Epoch 124/1000 [Training]: 100%|██████████| 100/100 [01:08<00:00,  1.45it/s, loss=0.3692]\n",
      "Epoch 124/1000 [Validation]: 100%|██████████| 2/2 [00:00<00:00,  3.37it/s, loss=0.2313]\n"
     ]
    },
    {
     "name": "stdout",
     "output_type": "stream",
     "text": [
      "train-epoch-loss:0.3692 valid-epoch-loss:0.2313 train-beta4-score:0.5989 valid-beta4-score:0.3341\n"
     ]
    },
    {
     "name": "stderr",
     "output_type": "stream",
     "text": [
      "Epoch 125/1000 [Training]: 100%|██████████| 100/100 [01:11<00:00,  1.40it/s, loss=0.3388]\n",
      "Epoch 125/1000 [Validation]: 100%|██████████| 2/2 [00:00<00:00,  3.44it/s, loss=0.2362]\n"
     ]
    },
    {
     "name": "stdout",
     "output_type": "stream",
     "text": [
      "train-epoch-loss:0.3388 valid-epoch-loss:0.2362 train-beta4-score:0.6729 valid-beta4-score:0.3709\n"
     ]
    },
    {
     "name": "stderr",
     "output_type": "stream",
     "text": [
      "Epoch 126/1000 [Training]: 100%|██████████| 100/100 [01:07<00:00,  1.48it/s, loss=0.3386]\n",
      "Epoch 126/1000 [Validation]: 100%|██████████| 2/2 [00:00<00:00,  3.40it/s, loss=0.2258]\n"
     ]
    },
    {
     "name": "stdout",
     "output_type": "stream",
     "text": [
      "train-epoch-loss:0.3386 valid-epoch-loss:0.2258 train-beta4-score:0.6944 valid-beta4-score:0.3253\n"
     ]
    },
    {
     "name": "stderr",
     "output_type": "stream",
     "text": [
      "Epoch 127/1000 [Training]: 100%|██████████| 100/100 [01:09<00:00,  1.44it/s, loss=0.3407]\n",
      "Epoch 127/1000 [Validation]: 100%|██████████| 2/2 [00:00<00:00,  3.35it/s, loss=0.4566]\n"
     ]
    },
    {
     "name": "stdout",
     "output_type": "stream",
     "text": [
      "train-epoch-loss:0.3407 valid-epoch-loss:0.4566 train-beta4-score:0.6910 valid-beta4-score:0.3461\n"
     ]
    },
    {
     "name": "stderr",
     "output_type": "stream",
     "text": [
      "Epoch 128/1000 [Training]: 100%|██████████| 100/100 [01:07<00:00,  1.49it/s, loss=0.3650]\n",
      "Epoch 128/1000 [Validation]: 100%|██████████| 2/2 [00:00<00:00,  3.30it/s, loss=0.5874]\n"
     ]
    },
    {
     "name": "stdout",
     "output_type": "stream",
     "text": [
      "train-epoch-loss:0.3650 valid-epoch-loss:0.5874 train-beta4-score:0.6357 valid-beta4-score:0.3367\n"
     ]
    },
    {
     "name": "stderr",
     "output_type": "stream",
     "text": [
      "Epoch 129/1000 [Training]: 100%|██████████| 100/100 [01:07<00:00,  1.48it/s, loss=0.3118]\n",
      "Epoch 129/1000 [Validation]: 100%|██████████| 2/2 [00:00<00:00,  3.33it/s, loss=0.4349]\n"
     ]
    },
    {
     "name": "stdout",
     "output_type": "stream",
     "text": [
      "train-epoch-loss:0.3118 valid-epoch-loss:0.4349 train-beta4-score:0.6978 valid-beta4-score:0.3870\n"
     ]
    },
    {
     "name": "stderr",
     "output_type": "stream",
     "text": [
      "Epoch 130/1000 [Training]: 100%|██████████| 100/100 [01:11<00:00,  1.40it/s, loss=0.3738]\n",
      "Epoch 130/1000 [Validation]: 100%|██████████| 2/2 [00:00<00:00,  3.36it/s, loss=0.4634]\n"
     ]
    },
    {
     "name": "stdout",
     "output_type": "stream",
     "text": [
      "train-epoch-loss:0.3738 valid-epoch-loss:0.4634 train-beta4-score:0.4719 valid-beta4-score:0.2296\n"
     ]
    },
    {
     "name": "stderr",
     "output_type": "stream",
     "text": [
      "Epoch 131/1000 [Training]: 100%|██████████| 100/100 [01:08<00:00,  1.45it/s, loss=0.3950]\n",
      "Epoch 131/1000 [Validation]: 100%|██████████| 2/2 [00:00<00:00,  3.41it/s, loss=0.5185]\n"
     ]
    },
    {
     "name": "stdout",
     "output_type": "stream",
     "text": [
      "train-epoch-loss:0.3950 valid-epoch-loss:0.5185 train-beta4-score:0.6468 valid-beta4-score:0.2861\n"
     ]
    },
    {
     "name": "stderr",
     "output_type": "stream",
     "text": [
      "Epoch 132/1000 [Training]: 100%|██████████| 100/100 [01:08<00:00,  1.46it/s, loss=0.3835]\n",
      "Epoch 132/1000 [Validation]: 100%|██████████| 2/2 [00:00<00:00,  3.37it/s, loss=0.5299]\n"
     ]
    },
    {
     "name": "stdout",
     "output_type": "stream",
     "text": [
      "train-epoch-loss:0.3835 valid-epoch-loss:0.5299 train-beta4-score:0.5611 valid-beta4-score:0.2704\n"
     ]
    },
    {
     "name": "stderr",
     "output_type": "stream",
     "text": [
      "Epoch 133/1000 [Training]: 100%|██████████| 100/100 [01:09<00:00,  1.44it/s, loss=0.3847]\n",
      "Epoch 133/1000 [Validation]: 100%|██████████| 2/2 [00:00<00:00,  3.37it/s, loss=0.6763]\n"
     ]
    },
    {
     "name": "stdout",
     "output_type": "stream",
     "text": [
      "train-epoch-loss:0.3847 valid-epoch-loss:0.6763 train-beta4-score:0.6276 valid-beta4-score:0.3203\n"
     ]
    },
    {
     "name": "stderr",
     "output_type": "stream",
     "text": [
      "Epoch 134/1000 [Training]: 100%|██████████| 100/100 [01:09<00:00,  1.44it/s, loss=0.4449]\n",
      "Epoch 134/1000 [Validation]: 100%|██████████| 2/2 [00:00<00:00,  3.22it/s, loss=0.4251]\n"
     ]
    },
    {
     "name": "stdout",
     "output_type": "stream",
     "text": [
      "train-epoch-loss:0.4449 valid-epoch-loss:0.4251 train-beta4-score:0.5055 valid-beta4-score:0.2640\n"
     ]
    },
    {
     "name": "stderr",
     "output_type": "stream",
     "text": [
      "Epoch 135/1000 [Training]: 100%|██████████| 100/100 [01:10<00:00,  1.43it/s, loss=0.3831]\n",
      "Epoch 135/1000 [Validation]: 100%|██████████| 2/2 [00:00<00:00,  3.37it/s, loss=0.3527]\n"
     ]
    },
    {
     "name": "stdout",
     "output_type": "stream",
     "text": [
      "train-epoch-loss:0.3831 valid-epoch-loss:0.3527 train-beta4-score:0.5926 valid-beta4-score:0.2680\n"
     ]
    },
    {
     "name": "stderr",
     "output_type": "stream",
     "text": [
      "Epoch 136/1000 [Training]: 100%|██████████| 100/100 [01:11<00:00,  1.41it/s, loss=0.3828]\n",
      "Epoch 136/1000 [Validation]: 100%|██████████| 2/2 [00:00<00:00,  3.37it/s, loss=0.5779]\n"
     ]
    },
    {
     "name": "stdout",
     "output_type": "stream",
     "text": [
      "train-epoch-loss:0.3828 valid-epoch-loss:0.5779 train-beta4-score:0.5450 valid-beta4-score:0.2944\n"
     ]
    },
    {
     "name": "stderr",
     "output_type": "stream",
     "text": [
      "Epoch 137/1000 [Training]: 100%|██████████| 100/100 [01:10<00:00,  1.41it/s, loss=0.3897]\n",
      "Epoch 137/1000 [Validation]: 100%|██████████| 2/2 [00:00<00:00,  3.31it/s, loss=0.5943]\n"
     ]
    },
    {
     "name": "stdout",
     "output_type": "stream",
     "text": [
      "train-epoch-loss:0.3897 valid-epoch-loss:0.5943 train-beta4-score:0.5969 valid-beta4-score:0.3333\n"
     ]
    },
    {
     "name": "stderr",
     "output_type": "stream",
     "text": [
      "Epoch 138/1000 [Training]: 100%|██████████| 100/100 [01:11<00:00,  1.40it/s, loss=0.4240]\n",
      "Epoch 138/1000 [Validation]: 100%|██████████| 2/2 [00:00<00:00,  3.32it/s, loss=0.5438]\n"
     ]
    },
    {
     "name": "stdout",
     "output_type": "stream",
     "text": [
      "train-epoch-loss:0.4240 valid-epoch-loss:0.5438 train-beta4-score:0.6464 valid-beta4-score:0.3494\n"
     ]
    },
    {
     "name": "stderr",
     "output_type": "stream",
     "text": [
      "Epoch 139/1000 [Training]: 100%|██████████| 100/100 [01:08<00:00,  1.46it/s, loss=0.3758]\n",
      "Epoch 139/1000 [Validation]: 100%|██████████| 2/2 [00:00<00:00,  3.32it/s, loss=0.4944]\n"
     ]
    },
    {
     "name": "stdout",
     "output_type": "stream",
     "text": [
      "train-epoch-loss:0.3758 valid-epoch-loss:0.4944 train-beta4-score:0.6206 valid-beta4-score:0.3569\n"
     ]
    },
    {
     "name": "stderr",
     "output_type": "stream",
     "text": [
      "Epoch 140/1000 [Training]: 100%|██████████| 100/100 [01:10<00:00,  1.42it/s, loss=0.3457]\n",
      "Epoch 140/1000 [Validation]: 100%|██████████| 2/2 [00:00<00:00,  3.35it/s, loss=0.3953]\n"
     ]
    },
    {
     "name": "stdout",
     "output_type": "stream",
     "text": [
      "train-epoch-loss:0.3457 valid-epoch-loss:0.3953 train-beta4-score:0.5512 valid-beta4-score:0.3423\n"
     ]
    },
    {
     "name": "stderr",
     "output_type": "stream",
     "text": [
      "Epoch 141/1000 [Training]: 100%|██████████| 100/100 [01:10<00:00,  1.42it/s, loss=0.3409]\n",
      "Epoch 141/1000 [Validation]: 100%|██████████| 2/2 [00:00<00:00,  3.25it/s, loss=0.4926]\n"
     ]
    },
    {
     "name": "stdout",
     "output_type": "stream",
     "text": [
      "train-epoch-loss:0.3409 valid-epoch-loss:0.4926 train-beta4-score:0.7416 valid-beta4-score:0.3741\n"
     ]
    },
    {
     "name": "stderr",
     "output_type": "stream",
     "text": [
      "Epoch 142/1000 [Training]: 100%|██████████| 100/100 [01:09<00:00,  1.43it/s, loss=0.3277]\n",
      "Epoch 142/1000 [Validation]: 100%|██████████| 2/2 [00:00<00:00,  3.34it/s, loss=0.6471]\n"
     ]
    },
    {
     "name": "stdout",
     "output_type": "stream",
     "text": [
      "train-epoch-loss:0.3277 valid-epoch-loss:0.6471 train-beta4-score:0.7196 valid-beta4-score:0.3658\n"
     ]
    },
    {
     "name": "stderr",
     "output_type": "stream",
     "text": [
      "Epoch 143/1000 [Training]: 100%|██████████| 100/100 [01:10<00:00,  1.43it/s, loss=0.3488]\n",
      "Epoch 143/1000 [Validation]: 100%|██████████| 2/2 [00:00<00:00,  3.34it/s, loss=0.4512]\n"
     ]
    },
    {
     "name": "stdout",
     "output_type": "stream",
     "text": [
      "train-epoch-loss:0.3488 valid-epoch-loss:0.4512 train-beta4-score:0.6864 valid-beta4-score:0.3790\n"
     ]
    },
    {
     "name": "stderr",
     "output_type": "stream",
     "text": [
      "Epoch 144/1000 [Training]: 100%|██████████| 100/100 [01:08<00:00,  1.45it/s, loss=0.3700]\n",
      "Epoch 144/1000 [Validation]: 100%|██████████| 2/2 [00:00<00:00,  3.31it/s, loss=0.5200]\n"
     ]
    },
    {
     "name": "stdout",
     "output_type": "stream",
     "text": [
      "train-epoch-loss:0.3700 valid-epoch-loss:0.5200 train-beta4-score:0.6219 valid-beta4-score:0.3649\n"
     ]
    },
    {
     "name": "stderr",
     "output_type": "stream",
     "text": [
      "Epoch 145/1000 [Training]: 100%|██████████| 100/100 [01:09<00:00,  1.43it/s, loss=0.3708]\n",
      "Epoch 145/1000 [Validation]: 100%|██████████| 2/2 [00:00<00:00,  3.36it/s, loss=0.5993]\n"
     ]
    },
    {
     "name": "stdout",
     "output_type": "stream",
     "text": [
      "train-epoch-loss:0.3708 valid-epoch-loss:0.5993 train-beta4-score:0.6791 valid-beta4-score:0.3542\n"
     ]
    },
    {
     "name": "stderr",
     "output_type": "stream",
     "text": [
      "Epoch 146/1000 [Training]: 100%|██████████| 100/100 [01:10<00:00,  1.41it/s, loss=0.3496]\n",
      "Epoch 146/1000 [Validation]: 100%|██████████| 2/2 [00:00<00:00,  3.33it/s, loss=0.5911]\n"
     ]
    },
    {
     "name": "stdout",
     "output_type": "stream",
     "text": [
      "train-epoch-loss:0.3496 valid-epoch-loss:0.5911 train-beta4-score:0.6631 valid-beta4-score:0.3704\n"
     ]
    },
    {
     "name": "stderr",
     "output_type": "stream",
     "text": [
      "Epoch 147/1000 [Training]: 100%|██████████| 100/100 [01:09<00:00,  1.44it/s, loss=0.3307]\n",
      "Epoch 147/1000 [Validation]: 100%|██████████| 2/2 [00:00<00:00,  3.32it/s, loss=0.3156]\n"
     ]
    },
    {
     "name": "stdout",
     "output_type": "stream",
     "text": [
      "train-epoch-loss:0.3307 valid-epoch-loss:0.3156 train-beta4-score:0.7279 valid-beta4-score:0.3960\n"
     ]
    },
    {
     "name": "stderr",
     "output_type": "stream",
     "text": [
      "Epoch 148/1000 [Training]: 100%|██████████| 100/100 [01:09<00:00,  1.44it/s, loss=0.3037]\n",
      "Epoch 148/1000 [Validation]: 100%|██████████| 2/2 [00:00<00:00,  3.35it/s, loss=0.5923]\n"
     ]
    },
    {
     "name": "stdout",
     "output_type": "stream",
     "text": [
      "train-epoch-loss:0.3037 valid-epoch-loss:0.5923 train-beta4-score:0.6493 valid-beta4-score:0.3624\n"
     ]
    },
    {
     "name": "stderr",
     "output_type": "stream",
     "text": [
      "Epoch 149/1000 [Training]: 100%|██████████| 100/100 [01:08<00:00,  1.46it/s, loss=0.3476]\n",
      "Epoch 149/1000 [Validation]: 100%|██████████| 2/2 [00:00<00:00,  3.31it/s, loss=0.4158]\n"
     ]
    },
    {
     "name": "stdout",
     "output_type": "stream",
     "text": [
      "train-epoch-loss:0.3476 valid-epoch-loss:0.4158 train-beta4-score:0.5802 valid-beta4-score:0.3298\n"
     ]
    },
    {
     "name": "stderr",
     "output_type": "stream",
     "text": [
      "Epoch 150/1000 [Training]: 100%|██████████| 100/100 [01:11<00:00,  1.39it/s, loss=0.3191]\n",
      "Epoch 150/1000 [Validation]: 100%|██████████| 2/2 [00:00<00:00,  3.28it/s, loss=0.4352]\n"
     ]
    },
    {
     "name": "stdout",
     "output_type": "stream",
     "text": [
      "train-epoch-loss:0.3191 valid-epoch-loss:0.4352 train-beta4-score:0.6395 valid-beta4-score:0.3653\n"
     ]
    },
    {
     "name": "stderr",
     "output_type": "stream",
     "text": [
      "Epoch 151/1000 [Training]: 100%|██████████| 100/100 [01:09<00:00,  1.45it/s, loss=0.3189]\n",
      "Epoch 151/1000 [Validation]: 100%|██████████| 2/2 [00:00<00:00,  3.27it/s, loss=0.5590]\n"
     ]
    },
    {
     "name": "stdout",
     "output_type": "stream",
     "text": [
      "train-epoch-loss:0.3189 valid-epoch-loss:0.5590 train-beta4-score:0.7455 valid-beta4-score:0.4188\n"
     ]
    },
    {
     "name": "stderr",
     "output_type": "stream",
     "text": [
      "Epoch 152/1000 [Training]: 100%|██████████| 100/100 [01:06<00:00,  1.51it/s, loss=0.3673]\n",
      "Epoch 152/1000 [Validation]: 100%|██████████| 2/2 [00:00<00:00,  3.29it/s, loss=0.3709]\n"
     ]
    },
    {
     "name": "stdout",
     "output_type": "stream",
     "text": [
      "train-epoch-loss:0.3673 valid-epoch-loss:0.3709 train-beta4-score:0.6974 valid-beta4-score:0.3767\n"
     ]
    },
    {
     "name": "stderr",
     "output_type": "stream",
     "text": [
      "Epoch 153/1000 [Training]: 100%|██████████| 100/100 [01:11<00:00,  1.39it/s, loss=0.3826]\n",
      "Epoch 153/1000 [Validation]: 100%|██████████| 2/2 [00:00<00:00,  3.23it/s, loss=0.5245]\n"
     ]
    },
    {
     "name": "stdout",
     "output_type": "stream",
     "text": [
      "train-epoch-loss:0.3826 valid-epoch-loss:0.5245 train-beta4-score:0.7025 valid-beta4-score:0.4072\n"
     ]
    },
    {
     "name": "stderr",
     "output_type": "stream",
     "text": [
      "Epoch 154/1000 [Training]: 100%|██████████| 100/100 [01:10<00:00,  1.43it/s, loss=0.3505]\n",
      "Epoch 154/1000 [Validation]: 100%|██████████| 2/2 [00:00<00:00,  3.33it/s, loss=0.3771]\n"
     ]
    },
    {
     "name": "stdout",
     "output_type": "stream",
     "text": [
      "train-epoch-loss:0.3505 valid-epoch-loss:0.3771 train-beta4-score:0.6773 valid-beta4-score:0.3770\n"
     ]
    },
    {
     "name": "stderr",
     "output_type": "stream",
     "text": [
      "Epoch 155/1000 [Training]: 100%|██████████| 100/100 [01:09<00:00,  1.43it/s, loss=0.3607]\n",
      "Epoch 155/1000 [Validation]: 100%|██████████| 2/2 [00:00<00:00,  3.36it/s, loss=0.5577]\n"
     ]
    },
    {
     "name": "stdout",
     "output_type": "stream",
     "text": [
      "train-epoch-loss:0.3607 valid-epoch-loss:0.5577 train-beta4-score:0.6713 valid-beta4-score:0.2991\n"
     ]
    },
    {
     "name": "stderr",
     "output_type": "stream",
     "text": [
      "Epoch 156/1000 [Training]: 100%|██████████| 100/100 [01:08<00:00,  1.45it/s, loss=0.3450]\n",
      "Epoch 156/1000 [Validation]: 100%|██████████| 2/2 [00:00<00:00,  3.31it/s, loss=0.4375]\n"
     ]
    },
    {
     "name": "stdout",
     "output_type": "stream",
     "text": [
      "train-epoch-loss:0.3450 valid-epoch-loss:0.4375 train-beta4-score:0.7036 valid-beta4-score:0.4128\n"
     ]
    },
    {
     "name": "stderr",
     "output_type": "stream",
     "text": [
      "Epoch 157/1000 [Training]: 100%|██████████| 100/100 [01:08<00:00,  1.46it/s, loss=0.3472]\n",
      "Epoch 157/1000 [Validation]: 100%|██████████| 2/2 [00:00<00:00,  3.32it/s, loss=0.3049]\n"
     ]
    },
    {
     "name": "stdout",
     "output_type": "stream",
     "text": [
      "train-epoch-loss:0.3472 valid-epoch-loss:0.3049 train-beta4-score:0.7119 valid-beta4-score:0.3549\n"
     ]
    },
    {
     "name": "stderr",
     "output_type": "stream",
     "text": [
      "Epoch 158/1000 [Training]: 100%|██████████| 100/100 [01:08<00:00,  1.45it/s, loss=0.3516]\n",
      "Epoch 158/1000 [Validation]: 100%|██████████| 2/2 [00:00<00:00,  3.37it/s, loss=0.5608]\n"
     ]
    },
    {
     "name": "stdout",
     "output_type": "stream",
     "text": [
      "train-epoch-loss:0.3516 valid-epoch-loss:0.5608 train-beta4-score:0.7067 valid-beta4-score:0.4060\n"
     ]
    },
    {
     "name": "stderr",
     "output_type": "stream",
     "text": [
      "Epoch 159/1000 [Training]: 100%|██████████| 100/100 [01:08<00:00,  1.45it/s, loss=0.3314]\n",
      "Epoch 159/1000 [Validation]: 100%|██████████| 2/2 [00:00<00:00,  3.32it/s, loss=0.5610]\n"
     ]
    },
    {
     "name": "stdout",
     "output_type": "stream",
     "text": [
      "train-epoch-loss:0.3314 valid-epoch-loss:0.5610 train-beta4-score:0.7051 valid-beta4-score:0.3686\n"
     ]
    },
    {
     "name": "stderr",
     "output_type": "stream",
     "text": [
      "Epoch 160/1000 [Training]: 100%|██████████| 100/100 [01:09<00:00,  1.44it/s, loss=0.3218]\n",
      "Epoch 160/1000 [Validation]: 100%|██████████| 2/2 [00:00<00:00,  3.25it/s, loss=0.3282]\n"
     ]
    },
    {
     "name": "stdout",
     "output_type": "stream",
     "text": [
      "train-epoch-loss:0.3218 valid-epoch-loss:0.3282 train-beta4-score:0.6920 valid-beta4-score:0.3572\n"
     ]
    },
    {
     "name": "stderr",
     "output_type": "stream",
     "text": [
      "Epoch 161/1000 [Training]: 100%|██████████| 100/100 [01:07<00:00,  1.49it/s, loss=0.3381]\n",
      "Epoch 161/1000 [Validation]: 100%|██████████| 2/2 [00:00<00:00,  3.33it/s, loss=0.4720]\n"
     ]
    },
    {
     "name": "stdout",
     "output_type": "stream",
     "text": [
      "train-epoch-loss:0.3381 valid-epoch-loss:0.4720 train-beta4-score:0.6630 valid-beta4-score:0.3331\n"
     ]
    },
    {
     "name": "stderr",
     "output_type": "stream",
     "text": [
      "Epoch 162/1000 [Training]: 100%|██████████| 100/100 [01:09<00:00,  1.44it/s, loss=0.3344]\n",
      "Epoch 162/1000 [Validation]: 100%|██████████| 2/2 [00:00<00:00,  3.35it/s, loss=0.3835]\n"
     ]
    },
    {
     "name": "stdout",
     "output_type": "stream",
     "text": [
      "train-epoch-loss:0.3344 valid-epoch-loss:0.3835 train-beta4-score:0.6621 valid-beta4-score:0.3349\n"
     ]
    },
    {
     "name": "stderr",
     "output_type": "stream",
     "text": [
      "Epoch 163/1000 [Training]: 100%|██████████| 100/100 [01:08<00:00,  1.46it/s, loss=0.3501]\n",
      "Epoch 163/1000 [Validation]: 100%|██████████| 2/2 [00:00<00:00,  3.34it/s, loss=0.4510]\n"
     ]
    },
    {
     "name": "stdout",
     "output_type": "stream",
     "text": [
      "train-epoch-loss:0.3501 valid-epoch-loss:0.4510 train-beta4-score:0.6753 valid-beta4-score:0.3589\n"
     ]
    },
    {
     "name": "stderr",
     "output_type": "stream",
     "text": [
      "Epoch 164/1000 [Training]: 100%|██████████| 100/100 [01:11<00:00,  1.40it/s, loss=0.3561]\n",
      "Epoch 164/1000 [Validation]: 100%|██████████| 2/2 [00:00<00:00,  3.29it/s, loss=0.5412]\n"
     ]
    },
    {
     "name": "stdout",
     "output_type": "stream",
     "text": [
      "train-epoch-loss:0.3561 valid-epoch-loss:0.5412 train-beta4-score:0.6218 valid-beta4-score:0.3617\n"
     ]
    },
    {
     "name": "stderr",
     "output_type": "stream",
     "text": [
      "Epoch 165/1000 [Training]: 100%|██████████| 100/100 [01:10<00:00,  1.43it/s, loss=0.3509]\n",
      "Epoch 165/1000 [Validation]: 100%|██████████| 2/2 [00:00<00:00,  3.22it/s, loss=0.5877]\n"
     ]
    },
    {
     "name": "stdout",
     "output_type": "stream",
     "text": [
      "train-epoch-loss:0.3509 valid-epoch-loss:0.5877 train-beta4-score:0.7232 valid-beta4-score:0.4173\n"
     ]
    },
    {
     "name": "stderr",
     "output_type": "stream",
     "text": [
      "Epoch 166/1000 [Training]: 100%|██████████| 100/100 [01:08<00:00,  1.45it/s, loss=0.3125]\n",
      "Epoch 166/1000 [Validation]: 100%|██████████| 2/2 [00:00<00:00,  3.32it/s, loss=0.4469]\n"
     ]
    },
    {
     "name": "stdout",
     "output_type": "stream",
     "text": [
      "train-epoch-loss:0.3125 valid-epoch-loss:0.4469 train-beta4-score:0.6451 valid-beta4-score:0.3357\n"
     ]
    },
    {
     "name": "stderr",
     "output_type": "stream",
     "text": [
      "Epoch 167/1000 [Training]: 100%|██████████| 100/100 [01:09<00:00,  1.45it/s, loss=0.3281]\n",
      "Epoch 167/1000 [Validation]: 100%|██████████| 2/2 [00:00<00:00,  3.31it/s, loss=0.3146]\n"
     ]
    },
    {
     "name": "stdout",
     "output_type": "stream",
     "text": [
      "train-epoch-loss:0.3281 valid-epoch-loss:0.3146 train-beta4-score:0.6790 valid-beta4-score:0.3713\n"
     ]
    },
    {
     "name": "stderr",
     "output_type": "stream",
     "text": [
      "Epoch 168/1000 [Training]: 100%|██████████| 100/100 [01:11<00:00,  1.40it/s, loss=0.3552]\n",
      "Epoch 168/1000 [Validation]: 100%|██████████| 2/2 [00:00<00:00,  3.21it/s, loss=0.5520]\n"
     ]
    },
    {
     "name": "stdout",
     "output_type": "stream",
     "text": [
      "train-epoch-loss:0.3552 valid-epoch-loss:0.5520 train-beta4-score:0.7464 valid-beta4-score:0.4288\n"
     ]
    },
    {
     "name": "stderr",
     "output_type": "stream",
     "text": [
      "Epoch 169/1000 [Training]: 100%|██████████| 100/100 [01:09<00:00,  1.45it/s, loss=0.3478]\n",
      "Epoch 169/1000 [Validation]: 100%|██████████| 2/2 [00:00<00:00,  3.24it/s, loss=0.4804]\n"
     ]
    },
    {
     "name": "stdout",
     "output_type": "stream",
     "text": [
      "train-epoch-loss:0.3478 valid-epoch-loss:0.4804 train-beta4-score:0.6798 valid-beta4-score:0.4104\n"
     ]
    },
    {
     "name": "stderr",
     "output_type": "stream",
     "text": [
      "Epoch 170/1000 [Training]: 100%|██████████| 100/100 [01:10<00:00,  1.42it/s, loss=0.3374]\n",
      "Epoch 170/1000 [Validation]: 100%|██████████| 2/2 [00:00<00:00,  3.09it/s, loss=0.5321]\n"
     ]
    },
    {
     "name": "stdout",
     "output_type": "stream",
     "text": [
      "train-epoch-loss:0.3374 valid-epoch-loss:0.5321 train-beta4-score:0.7414 valid-beta4-score:0.4211\n"
     ]
    },
    {
     "name": "stderr",
     "output_type": "stream",
     "text": [
      "Epoch 171/1000 [Training]: 100%|██████████| 100/100 [01:08<00:00,  1.45it/s, loss=0.3503]\n",
      "Epoch 171/1000 [Validation]: 100%|██████████| 2/2 [00:00<00:00,  3.32it/s, loss=0.5160]\n"
     ]
    },
    {
     "name": "stdout",
     "output_type": "stream",
     "text": [
      "train-epoch-loss:0.3503 valid-epoch-loss:0.5160 train-beta4-score:0.7526 valid-beta4-score:0.4051\n"
     ]
    },
    {
     "name": "stderr",
     "output_type": "stream",
     "text": [
      "Epoch 172/1000 [Training]: 100%|██████████| 100/100 [01:08<00:00,  1.47it/s, loss=0.4093]\n",
      "Epoch 172/1000 [Validation]: 100%|██████████| 2/2 [00:00<00:00,  3.28it/s, loss=0.6783]\n"
     ]
    },
    {
     "name": "stdout",
     "output_type": "stream",
     "text": [
      "train-epoch-loss:0.4093 valid-epoch-loss:0.6783 train-beta4-score:0.5352 valid-beta4-score:0.2777\n"
     ]
    },
    {
     "name": "stderr",
     "output_type": "stream",
     "text": [
      "Epoch 173/1000 [Training]: 100%|██████████| 100/100 [01:08<00:00,  1.45it/s, loss=0.3501]\n",
      "Epoch 173/1000 [Validation]: 100%|██████████| 2/2 [00:00<00:00,  3.25it/s, loss=0.4724]\n"
     ]
    },
    {
     "name": "stdout",
     "output_type": "stream",
     "text": [
      "train-epoch-loss:0.3501 valid-epoch-loss:0.4724 train-beta4-score:0.7537 valid-beta4-score:0.4748\n"
     ]
    },
    {
     "name": "stderr",
     "output_type": "stream",
     "text": [
      "Epoch 174/1000 [Training]: 100%|██████████| 100/100 [01:10<00:00,  1.43it/s, loss=0.3369]\n",
      "Epoch 174/1000 [Validation]: 100%|██████████| 2/2 [00:00<00:00,  3.32it/s, loss=0.3323]\n"
     ]
    },
    {
     "name": "stdout",
     "output_type": "stream",
     "text": [
      "train-epoch-loss:0.3369 valid-epoch-loss:0.3323 train-beta4-score:0.7369 valid-beta4-score:0.4383\n"
     ]
    },
    {
     "name": "stderr",
     "output_type": "stream",
     "text": [
      "Epoch 175/1000 [Training]: 100%|██████████| 100/100 [01:06<00:00,  1.50it/s, loss=0.3063]\n",
      "Epoch 175/1000 [Validation]: 100%|██████████| 2/2 [00:00<00:00,  3.25it/s, loss=0.5925]\n"
     ]
    },
    {
     "name": "stdout",
     "output_type": "stream",
     "text": [
      "train-epoch-loss:0.3063 valid-epoch-loss:0.5925 train-beta4-score:0.6303 valid-beta4-score:0.3670\n"
     ]
    },
    {
     "name": "stderr",
     "output_type": "stream",
     "text": [
      "Epoch 176/1000 [Training]: 100%|██████████| 100/100 [01:09<00:00,  1.43it/s, loss=0.3586]\n",
      "Epoch 176/1000 [Validation]: 100%|██████████| 2/2 [00:00<00:00,  3.23it/s, loss=0.4213]\n"
     ]
    },
    {
     "name": "stdout",
     "output_type": "stream",
     "text": [
      "train-epoch-loss:0.3586 valid-epoch-loss:0.4213 train-beta4-score:0.7069 valid-beta4-score:0.4096\n"
     ]
    },
    {
     "name": "stderr",
     "output_type": "stream",
     "text": [
      "Epoch 177/1000 [Training]: 100%|██████████| 100/100 [01:09<00:00,  1.43it/s, loss=0.3488]\n",
      "Epoch 177/1000 [Validation]: 100%|██████████| 2/2 [00:00<00:00,  3.29it/s, loss=0.5340]\n"
     ]
    },
    {
     "name": "stdout",
     "output_type": "stream",
     "text": [
      "train-epoch-loss:0.3488 valid-epoch-loss:0.5340 train-beta4-score:0.6858 valid-beta4-score:0.3859\n"
     ]
    },
    {
     "name": "stderr",
     "output_type": "stream",
     "text": [
      "Epoch 178/1000 [Training]: 100%|██████████| 100/100 [01:09<00:00,  1.43it/s, loss=0.3388]\n",
      "Epoch 178/1000 [Validation]: 100%|██████████| 2/2 [00:00<00:00,  3.24it/s, loss=0.6104]\n"
     ]
    },
    {
     "name": "stdout",
     "output_type": "stream",
     "text": [
      "train-epoch-loss:0.3388 valid-epoch-loss:0.6104 train-beta4-score:0.7004 valid-beta4-score:0.4136\n"
     ]
    },
    {
     "name": "stderr",
     "output_type": "stream",
     "text": [
      "Epoch 179/1000 [Training]: 100%|██████████| 100/100 [01:09<00:00,  1.44it/s, loss=0.3337]\n",
      "Epoch 179/1000 [Validation]: 100%|██████████| 2/2 [00:00<00:00,  3.08it/s, loss=0.3480]\n"
     ]
    },
    {
     "name": "stdout",
     "output_type": "stream",
     "text": [
      "train-epoch-loss:0.3337 valid-epoch-loss:0.3480 train-beta4-score:0.6355 valid-beta4-score:0.4007\n"
     ]
    },
    {
     "name": "stderr",
     "output_type": "stream",
     "text": [
      "Epoch 180/1000 [Training]: 100%|██████████| 100/100 [01:08<00:00,  1.46it/s, loss=0.3397]\n",
      "Epoch 180/1000 [Validation]: 100%|██████████| 2/2 [00:00<00:00,  3.32it/s, loss=0.5493]\n"
     ]
    },
    {
     "name": "stdout",
     "output_type": "stream",
     "text": [
      "train-epoch-loss:0.3397 valid-epoch-loss:0.5493 train-beta4-score:0.6973 valid-beta4-score:0.4140\n"
     ]
    },
    {
     "name": "stderr",
     "output_type": "stream",
     "text": [
      "Epoch 181/1000 [Training]: 100%|██████████| 100/100 [01:11<00:00,  1.40it/s, loss=0.3300]\n",
      "Epoch 181/1000 [Validation]: 100%|██████████| 2/2 [00:00<00:00,  3.32it/s, loss=0.4118]\n"
     ]
    },
    {
     "name": "stdout",
     "output_type": "stream",
     "text": [
      "train-epoch-loss:0.3300 valid-epoch-loss:0.4118 train-beta4-score:0.7345 valid-beta4-score:0.4402\n"
     ]
    },
    {
     "name": "stderr",
     "output_type": "stream",
     "text": [
      "Epoch 182/1000 [Training]: 100%|██████████| 100/100 [01:08<00:00,  1.47it/s, loss=0.3560]\n",
      "Epoch 182/1000 [Validation]: 100%|██████████| 2/2 [00:00<00:00,  3.28it/s, loss=0.4342]\n"
     ]
    },
    {
     "name": "stdout",
     "output_type": "stream",
     "text": [
      "train-epoch-loss:0.3560 valid-epoch-loss:0.4342 train-beta4-score:0.6550 valid-beta4-score:0.3786\n"
     ]
    },
    {
     "name": "stderr",
     "output_type": "stream",
     "text": [
      "Epoch 183/1000 [Training]: 100%|██████████| 100/100 [01:07<00:00,  1.48it/s, loss=0.3283]\n",
      "Epoch 183/1000 [Validation]: 100%|██████████| 2/2 [00:00<00:00,  3.30it/s, loss=0.4383]\n"
     ]
    },
    {
     "name": "stdout",
     "output_type": "stream",
     "text": [
      "train-epoch-loss:0.3283 valid-epoch-loss:0.4383 train-beta4-score:0.6975 valid-beta4-score:0.4190\n"
     ]
    },
    {
     "name": "stderr",
     "output_type": "stream",
     "text": [
      "Epoch 184/1000 [Training]: 100%|██████████| 100/100 [01:08<00:00,  1.46it/s, loss=0.3334]\n",
      "Epoch 184/1000 [Validation]: 100%|██████████| 2/2 [00:00<00:00,  3.21it/s, loss=0.5198]\n"
     ]
    },
    {
     "name": "stdout",
     "output_type": "stream",
     "text": [
      "train-epoch-loss:0.3334 valid-epoch-loss:0.5198 train-beta4-score:0.6973 valid-beta4-score:0.4080\n"
     ]
    },
    {
     "name": "stderr",
     "output_type": "stream",
     "text": [
      "Epoch 185/1000 [Training]: 100%|██████████| 100/100 [01:08<00:00,  1.46it/s, loss=0.3368]\n",
      "Epoch 185/1000 [Validation]: 100%|██████████| 2/2 [00:00<00:00,  3.07it/s, loss=0.4859]\n"
     ]
    },
    {
     "name": "stdout",
     "output_type": "stream",
     "text": [
      "train-epoch-loss:0.3368 valid-epoch-loss:0.4859 train-beta4-score:0.7167 valid-beta4-score:0.4116\n"
     ]
    },
    {
     "name": "stderr",
     "output_type": "stream",
     "text": [
      "Epoch 186/1000 [Training]: 100%|██████████| 100/100 [01:08<00:00,  1.46it/s, loss=0.3611]\n",
      "Epoch 186/1000 [Validation]: 100%|██████████| 2/2 [00:00<00:00,  3.28it/s, loss=0.5133]\n"
     ]
    },
    {
     "name": "stdout",
     "output_type": "stream",
     "text": [
      "train-epoch-loss:0.3611 valid-epoch-loss:0.5133 train-beta4-score:0.5609 valid-beta4-score:0.3169\n"
     ]
    },
    {
     "name": "stderr",
     "output_type": "stream",
     "text": [
      "Epoch 187/1000 [Training]: 100%|██████████| 100/100 [01:09<00:00,  1.44it/s, loss=0.3338]\n",
      "Epoch 187/1000 [Validation]: 100%|██████████| 2/2 [00:00<00:00,  3.23it/s, loss=0.5638]\n"
     ]
    },
    {
     "name": "stdout",
     "output_type": "stream",
     "text": [
      "train-epoch-loss:0.3338 valid-epoch-loss:0.5638 train-beta4-score:0.7335 valid-beta4-score:0.4284\n"
     ]
    },
    {
     "name": "stderr",
     "output_type": "stream",
     "text": [
      "Epoch 188/1000 [Training]: 100%|██████████| 100/100 [01:09<00:00,  1.45it/s, loss=0.3442]\n",
      "Epoch 188/1000 [Validation]: 100%|██████████| 2/2 [00:00<00:00,  3.21it/s, loss=0.5789]\n"
     ]
    },
    {
     "name": "stdout",
     "output_type": "stream",
     "text": [
      "train-epoch-loss:0.3442 valid-epoch-loss:0.5789 train-beta4-score:0.6439 valid-beta4-score:0.3345\n"
     ]
    },
    {
     "name": "stderr",
     "output_type": "stream",
     "text": [
      "Epoch 189/1000 [Training]: 100%|██████████| 100/100 [01:11<00:00,  1.39it/s, loss=0.3411]\n",
      "Epoch 189/1000 [Validation]: 100%|██████████| 2/2 [00:00<00:00,  3.20it/s, loss=0.6173]\n"
     ]
    },
    {
     "name": "stdout",
     "output_type": "stream",
     "text": [
      "train-epoch-loss:0.3411 valid-epoch-loss:0.6173 train-beta4-score:0.6669 valid-beta4-score:0.3653\n"
     ]
    },
    {
     "name": "stderr",
     "output_type": "stream",
     "text": [
      "Epoch 190/1000 [Training]: 100%|██████████| 100/100 [01:11<00:00,  1.40it/s, loss=0.3430]\n",
      "Epoch 190/1000 [Validation]: 100%|██████████| 2/2 [00:00<00:00,  3.21it/s, loss=0.5646]\n"
     ]
    },
    {
     "name": "stdout",
     "output_type": "stream",
     "text": [
      "train-epoch-loss:0.3430 valid-epoch-loss:0.5646 train-beta4-score:0.6207 valid-beta4-score:0.3323\n"
     ]
    },
    {
     "name": "stderr",
     "output_type": "stream",
     "text": [
      "Epoch 191/1000 [Training]: 100%|██████████| 100/100 [01:08<00:00,  1.46it/s, loss=0.3093]\n",
      "Epoch 191/1000 [Validation]: 100%|██████████| 2/2 [00:00<00:00,  3.33it/s, loss=0.6263]\n"
     ]
    },
    {
     "name": "stdout",
     "output_type": "stream",
     "text": [
      "train-epoch-loss:0.3093 valid-epoch-loss:0.6263 train-beta4-score:0.7561 valid-beta4-score:0.4052\n"
     ]
    },
    {
     "name": "stderr",
     "output_type": "stream",
     "text": [
      "Epoch 192/1000 [Training]: 100%|██████████| 100/100 [01:09<00:00,  1.43it/s, loss=0.3106]\n",
      "Epoch 192/1000 [Validation]: 100%|██████████| 2/2 [00:00<00:00,  3.25it/s, loss=0.4068]\n"
     ]
    },
    {
     "name": "stdout",
     "output_type": "stream",
     "text": [
      "train-epoch-loss:0.3106 valid-epoch-loss:0.4068 train-beta4-score:0.7205 valid-beta4-score:0.4492\n"
     ]
    },
    {
     "name": "stderr",
     "output_type": "stream",
     "text": [
      "Epoch 193/1000 [Training]: 100%|██████████| 100/100 [01:09<00:00,  1.44it/s, loss=0.3490]\n",
      "Epoch 193/1000 [Validation]: 100%|██████████| 2/2 [00:00<00:00,  3.28it/s, loss=0.3730]\n"
     ]
    },
    {
     "name": "stdout",
     "output_type": "stream",
     "text": [
      "train-epoch-loss:0.3490 valid-epoch-loss:0.3730 train-beta4-score:0.7331 valid-beta4-score:0.4229\n"
     ]
    },
    {
     "name": "stderr",
     "output_type": "stream",
     "text": [
      "Epoch 194/1000 [Training]: 100%|██████████| 100/100 [01:11<00:00,  1.40it/s, loss=0.3385]\n",
      "Epoch 194/1000 [Validation]: 100%|██████████| 2/2 [00:00<00:00,  3.16it/s, loss=0.5165]\n"
     ]
    },
    {
     "name": "stdout",
     "output_type": "stream",
     "text": [
      "train-epoch-loss:0.3385 valid-epoch-loss:0.5165 train-beta4-score:0.7302 valid-beta4-score:0.4263\n"
     ]
    },
    {
     "name": "stderr",
     "output_type": "stream",
     "text": [
      "Epoch 195/1000 [Training]: 100%|██████████| 100/100 [01:08<00:00,  1.47it/s, loss=0.3129]\n",
      "Epoch 195/1000 [Validation]: 100%|██████████| 2/2 [00:00<00:00,  3.29it/s, loss=0.4794]\n"
     ]
    },
    {
     "name": "stdout",
     "output_type": "stream",
     "text": [
      "train-epoch-loss:0.3129 valid-epoch-loss:0.4794 train-beta4-score:0.7159 valid-beta4-score:0.3742\n"
     ]
    },
    {
     "name": "stderr",
     "output_type": "stream",
     "text": [
      "Epoch 196/1000 [Training]: 100%|██████████| 100/100 [01:08<00:00,  1.46it/s, loss=0.3017]\n",
      "Epoch 196/1000 [Validation]: 100%|██████████| 2/2 [00:00<00:00,  3.30it/s, loss=0.6165]\n"
     ]
    },
    {
     "name": "stdout",
     "output_type": "stream",
     "text": [
      "train-epoch-loss:0.3017 valid-epoch-loss:0.6165 train-beta4-score:0.6868 valid-beta4-score:0.3706\n"
     ]
    },
    {
     "name": "stderr",
     "output_type": "stream",
     "text": [
      "Epoch 197/1000 [Training]: 100%|██████████| 100/100 [01:08<00:00,  1.45it/s, loss=0.3151]\n",
      "Epoch 197/1000 [Validation]: 100%|██████████| 2/2 [00:00<00:00,  3.30it/s, loss=0.4550]\n"
     ]
    },
    {
     "name": "stdout",
     "output_type": "stream",
     "text": [
      "train-epoch-loss:0.3151 valid-epoch-loss:0.4550 train-beta4-score:0.7210 valid-beta4-score:0.3726\n"
     ]
    },
    {
     "name": "stderr",
     "output_type": "stream",
     "text": [
      "Epoch 198/1000 [Training]: 100%|██████████| 100/100 [01:09<00:00,  1.43it/s, loss=0.3458]\n",
      "Epoch 198/1000 [Validation]: 100%|██████████| 2/2 [00:00<00:00,  3.30it/s, loss=0.5863]\n"
     ]
    },
    {
     "name": "stdout",
     "output_type": "stream",
     "text": [
      "train-epoch-loss:0.3458 valid-epoch-loss:0.5863 train-beta4-score:0.6948 valid-beta4-score:0.3651\n"
     ]
    },
    {
     "name": "stderr",
     "output_type": "stream",
     "text": [
      "Epoch 199/1000 [Training]: 100%|██████████| 100/100 [01:10<00:00,  1.43it/s, loss=0.3140]\n",
      "Epoch 199/1000 [Validation]: 100%|██████████| 2/2 [00:00<00:00,  3.26it/s, loss=0.4884]\n"
     ]
    },
    {
     "name": "stdout",
     "output_type": "stream",
     "text": [
      "train-epoch-loss:0.3140 valid-epoch-loss:0.4884 train-beta4-score:0.7284 valid-beta4-score:0.4284\n"
     ]
    },
    {
     "name": "stderr",
     "output_type": "stream",
     "text": [
      "Epoch 200/1000 [Training]: 100%|██████████| 100/100 [01:09<00:00,  1.44it/s, loss=0.3474]\n",
      "Epoch 200/1000 [Validation]: 100%|██████████| 2/2 [00:00<00:00,  3.23it/s, loss=0.2980]\n"
     ]
    },
    {
     "name": "stdout",
     "output_type": "stream",
     "text": [
      "train-epoch-loss:0.3474 valid-epoch-loss:0.2980 train-beta4-score:0.5717 valid-beta4-score:0.3432\n"
     ]
    },
    {
     "name": "stderr",
     "output_type": "stream",
     "text": [
      "Epoch 201/1000 [Training]: 100%|██████████| 100/100 [01:09<00:00,  1.44it/s, loss=0.3340]\n",
      "Epoch 201/1000 [Validation]: 100%|██████████| 2/2 [00:00<00:00,  3.25it/s, loss=0.6094]\n"
     ]
    },
    {
     "name": "stdout",
     "output_type": "stream",
     "text": [
      "train-epoch-loss:0.3340 valid-epoch-loss:0.6094 train-beta4-score:0.7249 valid-beta4-score:0.3980\n"
     ]
    },
    {
     "name": "stderr",
     "output_type": "stream",
     "text": [
      "Epoch 202/1000 [Training]: 100%|██████████| 100/100 [01:06<00:00,  1.51it/s, loss=0.3384]\n",
      "Epoch 202/1000 [Validation]: 100%|██████████| 2/2 [00:00<00:00,  3.28it/s, loss=0.6063]\n"
     ]
    },
    {
     "name": "stdout",
     "output_type": "stream",
     "text": [
      "train-epoch-loss:0.3384 valid-epoch-loss:0.6063 train-beta4-score:0.7003 valid-beta4-score:0.3429\n"
     ]
    },
    {
     "name": "stderr",
     "output_type": "stream",
     "text": [
      "Epoch 203/1000 [Training]: 100%|██████████| 100/100 [01:08<00:00,  1.46it/s, loss=0.3351]\n",
      "Epoch 203/1000 [Validation]: 100%|██████████| 2/2 [00:00<00:00,  3.24it/s, loss=0.3723]\n"
     ]
    },
    {
     "name": "stdout",
     "output_type": "stream",
     "text": [
      "train-epoch-loss:0.3351 valid-epoch-loss:0.3723 train-beta4-score:0.6560 valid-beta4-score:0.3483\n"
     ]
    },
    {
     "name": "stderr",
     "output_type": "stream",
     "text": [
      "Epoch 204/1000 [Training]: 100%|██████████| 100/100 [01:09<00:00,  1.44it/s, loss=0.3321]\n",
      "Epoch 204/1000 [Validation]: 100%|██████████| 2/2 [00:00<00:00,  3.26it/s, loss=0.1596]\n"
     ]
    },
    {
     "name": "stdout",
     "output_type": "stream",
     "text": [
      "train-epoch-loss:0.3321 valid-epoch-loss:0.1596 train-beta4-score:0.6170 valid-beta4-score:0.3132\n"
     ]
    },
    {
     "name": "stderr",
     "output_type": "stream",
     "text": [
      "Epoch 205/1000 [Training]: 100%|██████████| 100/100 [01:09<00:00,  1.43it/s, loss=0.3840]\n",
      "Epoch 205/1000 [Validation]: 100%|██████████| 2/2 [00:00<00:00,  3.21it/s, loss=0.6643]\n"
     ]
    },
    {
     "name": "stdout",
     "output_type": "stream",
     "text": [
      "train-epoch-loss:0.3840 valid-epoch-loss:0.6643 train-beta4-score:0.7321 valid-beta4-score:0.4296\n"
     ]
    },
    {
     "name": "stderr",
     "output_type": "stream",
     "text": [
      "Epoch 206/1000 [Training]: 100%|██████████| 100/100 [01:09<00:00,  1.44it/s, loss=0.3157]\n",
      "Epoch 206/1000 [Validation]: 100%|██████████| 2/2 [00:00<00:00,  3.26it/s, loss=0.5392]\n"
     ]
    },
    {
     "name": "stdout",
     "output_type": "stream",
     "text": [
      "train-epoch-loss:0.3157 valid-epoch-loss:0.5392 train-beta4-score:0.7083 valid-beta4-score:0.4056\n"
     ]
    },
    {
     "name": "stderr",
     "output_type": "stream",
     "text": [
      "Epoch 207/1000 [Training]: 100%|██████████| 100/100 [01:09<00:00,  1.43it/s, loss=0.3414]\n",
      "Epoch 207/1000 [Validation]: 100%|██████████| 2/2 [00:00<00:00,  3.26it/s, loss=0.5726]\n"
     ]
    },
    {
     "name": "stdout",
     "output_type": "stream",
     "text": [
      "train-epoch-loss:0.3414 valid-epoch-loss:0.5726 train-beta4-score:0.7344 valid-beta4-score:0.3727\n"
     ]
    },
    {
     "name": "stderr",
     "output_type": "stream",
     "text": [
      "Epoch 208/1000 [Training]: 100%|██████████| 100/100 [01:10<00:00,  1.42it/s, loss=0.3441]\n",
      "Epoch 208/1000 [Validation]: 100%|██████████| 2/2 [00:00<00:00,  3.29it/s, loss=0.6231]\n"
     ]
    },
    {
     "name": "stdout",
     "output_type": "stream",
     "text": [
      "train-epoch-loss:0.3441 valid-epoch-loss:0.6231 train-beta4-score:0.6856 valid-beta4-score:0.3425\n"
     ]
    },
    {
     "name": "stderr",
     "output_type": "stream",
     "text": [
      "Epoch 209/1000 [Training]: 100%|██████████| 100/100 [01:09<00:00,  1.44it/s, loss=0.3511]\n",
      "Epoch 209/1000 [Validation]: 100%|██████████| 2/2 [00:00<00:00,  3.24it/s, loss=0.4595]\n"
     ]
    },
    {
     "name": "stdout",
     "output_type": "stream",
     "text": [
      "train-epoch-loss:0.3511 valid-epoch-loss:0.4595 train-beta4-score:0.6440 valid-beta4-score:0.3069\n"
     ]
    },
    {
     "name": "stderr",
     "output_type": "stream",
     "text": [
      "Epoch 210/1000 [Training]: 100%|██████████| 100/100 [01:07<00:00,  1.48it/s, loss=0.2812]\n",
      "Epoch 210/1000 [Validation]: 100%|██████████| 2/2 [00:00<00:00,  3.23it/s, loss=0.4475]\n"
     ]
    },
    {
     "name": "stdout",
     "output_type": "stream",
     "text": [
      "train-epoch-loss:0.2812 valid-epoch-loss:0.4475 train-beta4-score:0.7307 valid-beta4-score:0.3753\n"
     ]
    },
    {
     "name": "stderr",
     "output_type": "stream",
     "text": [
      "Epoch 211/1000 [Training]: 100%|██████████| 100/100 [01:09<00:00,  1.44it/s, loss=0.2922]\n",
      "Epoch 211/1000 [Validation]: 100%|██████████| 2/2 [00:00<00:00,  3.27it/s, loss=0.4934]\n"
     ]
    },
    {
     "name": "stdout",
     "output_type": "stream",
     "text": [
      "train-epoch-loss:0.2922 valid-epoch-loss:0.4934 train-beta4-score:0.7256 valid-beta4-score:0.4174\n"
     ]
    },
    {
     "name": "stderr",
     "output_type": "stream",
     "text": [
      "Epoch 212/1000 [Training]: 100%|██████████| 100/100 [01:10<00:00,  1.41it/s, loss=0.3465]\n",
      "Epoch 212/1000 [Validation]: 100%|██████████| 2/2 [00:00<00:00,  3.28it/s, loss=0.5500]\n"
     ]
    },
    {
     "name": "stdout",
     "output_type": "stream",
     "text": [
      "train-epoch-loss:0.3465 valid-epoch-loss:0.5500 train-beta4-score:0.7406 valid-beta4-score:0.3810\n"
     ]
    },
    {
     "name": "stderr",
     "output_type": "stream",
     "text": [
      "Epoch 213/1000 [Training]: 100%|██████████| 100/100 [01:10<00:00,  1.42it/s, loss=0.3152]\n",
      "Epoch 213/1000 [Validation]: 100%|██████████| 2/2 [00:00<00:00,  3.26it/s, loss=0.5236]\n"
     ]
    },
    {
     "name": "stdout",
     "output_type": "stream",
     "text": [
      "train-epoch-loss:0.3152 valid-epoch-loss:0.5236 train-beta4-score:0.7209 valid-beta4-score:0.3880\n"
     ]
    },
    {
     "name": "stderr",
     "output_type": "stream",
     "text": [
      "Epoch 214/1000 [Training]: 100%|██████████| 100/100 [01:11<00:00,  1.40it/s, loss=0.3502]\n",
      "Epoch 214/1000 [Validation]: 100%|██████████| 2/2 [00:00<00:00,  3.32it/s, loss=0.5469]\n"
     ]
    },
    {
     "name": "stdout",
     "output_type": "stream",
     "text": [
      "train-epoch-loss:0.3502 valid-epoch-loss:0.5469 train-beta4-score:0.7085 valid-beta4-score:0.3610\n"
     ]
    },
    {
     "name": "stderr",
     "output_type": "stream",
     "text": [
      "Epoch 215/1000 [Training]: 100%|██████████| 100/100 [01:08<00:00,  1.45it/s, loss=0.3140]\n",
      "Epoch 215/1000 [Validation]: 100%|██████████| 2/2 [00:00<00:00,  3.23it/s, loss=0.3482]\n"
     ]
    },
    {
     "name": "stdout",
     "output_type": "stream",
     "text": [
      "train-epoch-loss:0.3140 valid-epoch-loss:0.3482 train-beta4-score:0.7136 valid-beta4-score:0.3579\n"
     ]
    },
    {
     "name": "stderr",
     "output_type": "stream",
     "text": [
      "Epoch 216/1000 [Training]: 100%|██████████| 100/100 [01:09<00:00,  1.45it/s, loss=0.3360]\n",
      "Epoch 216/1000 [Validation]: 100%|██████████| 2/2 [00:00<00:00,  3.30it/s, loss=0.6098]\n"
     ]
    },
    {
     "name": "stdout",
     "output_type": "stream",
     "text": [
      "train-epoch-loss:0.3360 valid-epoch-loss:0.6098 train-beta4-score:0.7169 valid-beta4-score:0.3876\n"
     ]
    },
    {
     "name": "stderr",
     "output_type": "stream",
     "text": [
      "Epoch 217/1000 [Training]: 100%|██████████| 100/100 [01:09<00:00,  1.43it/s, loss=0.3471]\n",
      "Epoch 217/1000 [Validation]: 100%|██████████| 2/2 [00:00<00:00,  3.26it/s, loss=0.6485]\n"
     ]
    },
    {
     "name": "stdout",
     "output_type": "stream",
     "text": [
      "train-epoch-loss:0.3471 valid-epoch-loss:0.6485 train-beta4-score:0.7146 valid-beta4-score:0.3883\n"
     ]
    },
    {
     "name": "stderr",
     "output_type": "stream",
     "text": [
      "Epoch 218/1000 [Training]: 100%|██████████| 100/100 [01:11<00:00,  1.40it/s, loss=0.3555]\n",
      "Epoch 218/1000 [Validation]: 100%|██████████| 2/2 [00:00<00:00,  3.36it/s, loss=0.4258]\n"
     ]
    },
    {
     "name": "stdout",
     "output_type": "stream",
     "text": [
      "train-epoch-loss:0.3555 valid-epoch-loss:0.4258 train-beta4-score:0.7212 valid-beta4-score:0.4051\n"
     ]
    },
    {
     "name": "stderr",
     "output_type": "stream",
     "text": [
      "Epoch 219/1000 [Training]: 100%|██████████| 100/100 [01:09<00:00,  1.43it/s, loss=0.3132]\n",
      "Epoch 219/1000 [Validation]: 100%|██████████| 2/2 [00:00<00:00,  3.26it/s, loss=0.6576]\n"
     ]
    },
    {
     "name": "stdout",
     "output_type": "stream",
     "text": [
      "train-epoch-loss:0.3132 valid-epoch-loss:0.6576 train-beta4-score:0.7201 valid-beta4-score:0.4126\n"
     ]
    },
    {
     "name": "stderr",
     "output_type": "stream",
     "text": [
      "Epoch 220/1000 [Training]: 100%|██████████| 100/100 [01:10<00:00,  1.42it/s, loss=0.3184]\n",
      "Epoch 220/1000 [Validation]: 100%|██████████| 2/2 [00:00<00:00,  3.24it/s, loss=0.3935]\n"
     ]
    },
    {
     "name": "stdout",
     "output_type": "stream",
     "text": [
      "train-epoch-loss:0.3184 valid-epoch-loss:0.3935 train-beta4-score:0.7088 valid-beta4-score:0.3694\n"
     ]
    },
    {
     "name": "stderr",
     "output_type": "stream",
     "text": [
      "Epoch 221/1000 [Training]: 100%|██████████| 100/100 [01:10<00:00,  1.43it/s, loss=0.3324]\n",
      "Epoch 221/1000 [Validation]: 100%|██████████| 2/2 [00:00<00:00,  3.29it/s, loss=0.4518]\n"
     ]
    },
    {
     "name": "stdout",
     "output_type": "stream",
     "text": [
      "train-epoch-loss:0.3324 valid-epoch-loss:0.4518 train-beta4-score:0.6956 valid-beta4-score:0.3804\n"
     ]
    },
    {
     "name": "stderr",
     "output_type": "stream",
     "text": [
      "Epoch 222/1000 [Training]: 100%|██████████| 100/100 [01:09<00:00,  1.45it/s, loss=0.3216]\n",
      "Epoch 222/1000 [Validation]: 100%|██████████| 2/2 [00:00<00:00,  3.34it/s, loss=0.5444]\n"
     ]
    },
    {
     "name": "stdout",
     "output_type": "stream",
     "text": [
      "train-epoch-loss:0.3216 valid-epoch-loss:0.5444 train-beta4-score:0.7670 valid-beta4-score:0.3924\n"
     ]
    },
    {
     "name": "stderr",
     "output_type": "stream",
     "text": [
      "Epoch 223/1000 [Training]: 100%|██████████| 100/100 [01:10<00:00,  1.41it/s, loss=0.3254]\n",
      "Epoch 223/1000 [Validation]: 100%|██████████| 2/2 [00:00<00:00,  3.35it/s, loss=0.3873]\n"
     ]
    },
    {
     "name": "stdout",
     "output_type": "stream",
     "text": [
      "train-epoch-loss:0.3254 valid-epoch-loss:0.3873 train-beta4-score:0.7361 valid-beta4-score:0.3760\n"
     ]
    },
    {
     "name": "stderr",
     "output_type": "stream",
     "text": [
      "Epoch 224/1000 [Training]: 100%|██████████| 100/100 [01:09<00:00,  1.43it/s, loss=0.3165]\n",
      "Epoch 224/1000 [Validation]: 100%|██████████| 2/2 [00:00<00:00,  3.34it/s, loss=0.3757]\n"
     ]
    },
    {
     "name": "stdout",
     "output_type": "stream",
     "text": [
      "train-epoch-loss:0.3165 valid-epoch-loss:0.3757 train-beta4-score:0.7222 valid-beta4-score:0.3861\n"
     ]
    },
    {
     "name": "stderr",
     "output_type": "stream",
     "text": [
      "Epoch 225/1000 [Training]: 100%|██████████| 100/100 [01:08<00:00,  1.46it/s, loss=0.3069]\n",
      "Epoch 225/1000 [Validation]: 100%|██████████| 2/2 [00:00<00:00,  3.31it/s, loss=0.6378]\n"
     ]
    },
    {
     "name": "stdout",
     "output_type": "stream",
     "text": [
      "train-epoch-loss:0.3069 valid-epoch-loss:0.6378 train-beta4-score:0.7285 valid-beta4-score:0.3776\n"
     ]
    },
    {
     "name": "stderr",
     "output_type": "stream",
     "text": [
      "Epoch 226/1000 [Training]: 100%|██████████| 100/100 [01:10<00:00,  1.43it/s, loss=0.3218]\n",
      "Epoch 226/1000 [Validation]: 100%|██████████| 2/2 [00:00<00:00,  3.23it/s, loss=0.5635]\n"
     ]
    },
    {
     "name": "stdout",
     "output_type": "stream",
     "text": [
      "train-epoch-loss:0.3218 valid-epoch-loss:0.5635 train-beta4-score:0.6966 valid-beta4-score:0.3969\n"
     ]
    },
    {
     "name": "stderr",
     "output_type": "stream",
     "text": [
      "Epoch 227/1000 [Training]: 100%|██████████| 100/100 [01:07<00:00,  1.48it/s, loss=0.2982]\n",
      "Epoch 227/1000 [Validation]: 100%|██████████| 2/2 [00:00<00:00,  3.22it/s, loss=0.5659]\n"
     ]
    },
    {
     "name": "stdout",
     "output_type": "stream",
     "text": [
      "train-epoch-loss:0.2982 valid-epoch-loss:0.5659 train-beta4-score:0.7580 valid-beta4-score:0.4262\n"
     ]
    },
    {
     "name": "stderr",
     "output_type": "stream",
     "text": [
      "Epoch 228/1000 [Training]: 100%|██████████| 100/100 [01:09<00:00,  1.44it/s, loss=0.3119]\n",
      "Epoch 228/1000 [Validation]: 100%|██████████| 2/2 [00:00<00:00,  3.30it/s, loss=0.4949]\n"
     ]
    },
    {
     "name": "stdout",
     "output_type": "stream",
     "text": [
      "train-epoch-loss:0.3119 valid-epoch-loss:0.4949 train-beta4-score:0.7669 valid-beta4-score:0.4115\n"
     ]
    },
    {
     "name": "stderr",
     "output_type": "stream",
     "text": [
      "Epoch 229/1000 [Training]: 100%|██████████| 100/100 [01:08<00:00,  1.47it/s, loss=0.3125]\n",
      "Epoch 229/1000 [Validation]: 100%|██████████| 2/2 [00:00<00:00,  3.23it/s, loss=0.5161]\n"
     ]
    },
    {
     "name": "stdout",
     "output_type": "stream",
     "text": [
      "train-epoch-loss:0.3125 valid-epoch-loss:0.5161 train-beta4-score:0.7530 valid-beta4-score:0.3989\n"
     ]
    },
    {
     "name": "stderr",
     "output_type": "stream",
     "text": [
      "Epoch 230/1000 [Training]: 100%|██████████| 100/100 [01:10<00:00,  1.42it/s, loss=0.2895]\n",
      "Epoch 230/1000 [Validation]: 100%|██████████| 2/2 [00:00<00:00,  3.26it/s, loss=0.6335]\n"
     ]
    },
    {
     "name": "stdout",
     "output_type": "stream",
     "text": [
      "train-epoch-loss:0.2895 valid-epoch-loss:0.6335 train-beta4-score:0.7228 valid-beta4-score:0.3914\n"
     ]
    },
    {
     "name": "stderr",
     "output_type": "stream",
     "text": [
      "Epoch 231/1000 [Training]: 100%|██████████| 100/100 [01:08<00:00,  1.45it/s, loss=0.3388]\n",
      "Epoch 231/1000 [Validation]: 100%|██████████| 2/2 [00:00<00:00,  3.27it/s, loss=0.5265]\n"
     ]
    },
    {
     "name": "stdout",
     "output_type": "stream",
     "text": [
      "train-epoch-loss:0.3388 valid-epoch-loss:0.5265 train-beta4-score:0.7451 valid-beta4-score:0.3128\n"
     ]
    },
    {
     "name": "stderr",
     "output_type": "stream",
     "text": [
      "Epoch 232/1000 [Training]: 100%|██████████| 100/100 [01:11<00:00,  1.41it/s, loss=0.3455]\n",
      "Epoch 232/1000 [Validation]: 100%|██████████| 2/2 [00:00<00:00,  3.30it/s, loss=0.3596]\n"
     ]
    },
    {
     "name": "stdout",
     "output_type": "stream",
     "text": [
      "train-epoch-loss:0.3455 valid-epoch-loss:0.3596 train-beta4-score:0.7078 valid-beta4-score:0.4048\n"
     ]
    },
    {
     "name": "stderr",
     "output_type": "stream",
     "text": [
      "Epoch 233/1000 [Training]: 100%|██████████| 100/100 [01:08<00:00,  1.47it/s, loss=0.3077]\n",
      "Epoch 233/1000 [Validation]: 100%|██████████| 2/2 [00:00<00:00,  3.39it/s, loss=0.4714]\n"
     ]
    },
    {
     "name": "stdout",
     "output_type": "stream",
     "text": [
      "train-epoch-loss:0.3077 valid-epoch-loss:0.4714 train-beta4-score:0.7596 valid-beta4-score:0.4018\n"
     ]
    },
    {
     "name": "stderr",
     "output_type": "stream",
     "text": [
      "Epoch 234/1000 [Training]: 100%|██████████| 100/100 [01:07<00:00,  1.48it/s, loss=0.3392]\n",
      "Epoch 234/1000 [Validation]: 100%|██████████| 2/2 [00:00<00:00,  3.23it/s, loss=0.3402]\n"
     ]
    },
    {
     "name": "stdout",
     "output_type": "stream",
     "text": [
      "train-epoch-loss:0.3392 valid-epoch-loss:0.3402 train-beta4-score:0.7349 valid-beta4-score:0.3997\n"
     ]
    },
    {
     "name": "stderr",
     "output_type": "stream",
     "text": [
      "Epoch 235/1000 [Training]: 100%|██████████| 100/100 [01:10<00:00,  1.42it/s, loss=0.3466]\n",
      "Epoch 235/1000 [Validation]: 100%|██████████| 2/2 [00:00<00:00,  3.26it/s, loss=0.5022]\n"
     ]
    },
    {
     "name": "stdout",
     "output_type": "stream",
     "text": [
      "train-epoch-loss:0.3466 valid-epoch-loss:0.5022 train-beta4-score:0.7180 valid-beta4-score:0.4389\n"
     ]
    },
    {
     "name": "stderr",
     "output_type": "stream",
     "text": [
      "Epoch 236/1000 [Training]: 100%|██████████| 100/100 [01:08<00:00,  1.46it/s, loss=0.3231]\n",
      "Epoch 236/1000 [Validation]: 100%|██████████| 2/2 [00:00<00:00,  3.28it/s, loss=0.3985]\n"
     ]
    },
    {
     "name": "stdout",
     "output_type": "stream",
     "text": [
      "train-epoch-loss:0.3231 valid-epoch-loss:0.3985 train-beta4-score:0.7355 valid-beta4-score:0.3955\n"
     ]
    },
    {
     "name": "stderr",
     "output_type": "stream",
     "text": [
      "Epoch 237/1000 [Training]: 100%|██████████| 100/100 [01:10<00:00,  1.42it/s, loss=0.3289]\n",
      "Epoch 237/1000 [Validation]: 100%|██████████| 2/2 [00:00<00:00,  3.28it/s, loss=0.3100]\n"
     ]
    },
    {
     "name": "stdout",
     "output_type": "stream",
     "text": [
      "train-epoch-loss:0.3289 valid-epoch-loss:0.3100 train-beta4-score:0.7263 valid-beta4-score:0.3804\n"
     ]
    },
    {
     "name": "stderr",
     "output_type": "stream",
     "text": [
      "Epoch 238/1000 [Training]: 100%|██████████| 100/100 [01:08<00:00,  1.46it/s, loss=0.3125]\n",
      "Epoch 238/1000 [Validation]: 100%|██████████| 2/2 [00:00<00:00,  3.27it/s, loss=0.3328]\n"
     ]
    },
    {
     "name": "stdout",
     "output_type": "stream",
     "text": [
      "train-epoch-loss:0.3125 valid-epoch-loss:0.3328 train-beta4-score:0.7390 valid-beta4-score:0.4164\n"
     ]
    },
    {
     "name": "stderr",
     "output_type": "stream",
     "text": [
      "Epoch 239/1000 [Training]: 100%|██████████| 100/100 [01:09<00:00,  1.44it/s, loss=0.3691]\n",
      "Epoch 239/1000 [Validation]: 100%|██████████| 2/2 [00:00<00:00,  3.26it/s, loss=0.5002]\n"
     ]
    },
    {
     "name": "stdout",
     "output_type": "stream",
     "text": [
      "train-epoch-loss:0.3691 valid-epoch-loss:0.5002 train-beta4-score:0.6403 valid-beta4-score:0.3316\n"
     ]
    },
    {
     "name": "stderr",
     "output_type": "stream",
     "text": [
      "Epoch 240/1000 [Training]: 100%|██████████| 100/100 [01:09<00:00,  1.44it/s, loss=0.3399]\n",
      "Epoch 240/1000 [Validation]: 100%|██████████| 2/2 [00:00<00:00,  3.27it/s, loss=0.3413]\n"
     ]
    },
    {
     "name": "stdout",
     "output_type": "stream",
     "text": [
      "train-epoch-loss:0.3399 valid-epoch-loss:0.3413 train-beta4-score:0.6996 valid-beta4-score:0.3875\n"
     ]
    },
    {
     "name": "stderr",
     "output_type": "stream",
     "text": [
      "Epoch 241/1000 [Training]: 100%|██████████| 100/100 [01:10<00:00,  1.43it/s, loss=0.3109]\n",
      "Epoch 241/1000 [Validation]: 100%|██████████| 2/2 [00:00<00:00,  3.32it/s, loss=0.5127]\n"
     ]
    },
    {
     "name": "stdout",
     "output_type": "stream",
     "text": [
      "train-epoch-loss:0.3109 valid-epoch-loss:0.5127 train-beta4-score:0.6870 valid-beta4-score:0.3424\n"
     ]
    },
    {
     "name": "stderr",
     "output_type": "stream",
     "text": [
      "Epoch 242/1000 [Training]: 100%|██████████| 100/100 [01:10<00:00,  1.43it/s, loss=0.3049]\n",
      "Epoch 242/1000 [Validation]: 100%|██████████| 2/2 [00:00<00:00,  3.32it/s, loss=0.5946]\n"
     ]
    },
    {
     "name": "stdout",
     "output_type": "stream",
     "text": [
      "train-epoch-loss:0.3049 valid-epoch-loss:0.5946 train-beta4-score:0.5128 valid-beta4-score:0.3831\n"
     ]
    },
    {
     "name": "stderr",
     "output_type": "stream",
     "text": [
      "Epoch 243/1000 [Training]: 100%|██████████| 100/100 [01:10<00:00,  1.43it/s, loss=0.3159]\n",
      "Epoch 243/1000 [Validation]: 100%|██████████| 2/2 [00:00<00:00,  3.29it/s, loss=0.3698]\n"
     ]
    },
    {
     "name": "stdout",
     "output_type": "stream",
     "text": [
      "train-epoch-loss:0.3159 valid-epoch-loss:0.3698 train-beta4-score:0.7388 valid-beta4-score:0.4308\n"
     ]
    },
    {
     "name": "stderr",
     "output_type": "stream",
     "text": [
      "Epoch 244/1000 [Training]: 100%|██████████| 100/100 [01:08<00:00,  1.47it/s, loss=0.3040]\n",
      "Epoch 244/1000 [Validation]: 100%|██████████| 2/2 [00:00<00:00,  3.21it/s, loss=0.5219]\n"
     ]
    },
    {
     "name": "stdout",
     "output_type": "stream",
     "text": [
      "train-epoch-loss:0.3040 valid-epoch-loss:0.5219 train-beta4-score:0.7641 valid-beta4-score:0.4821\n"
     ]
    },
    {
     "name": "stderr",
     "output_type": "stream",
     "text": [
      "Epoch 245/1000 [Training]: 100%|██████████| 100/100 [01:08<00:00,  1.46it/s, loss=0.3133]\n",
      "Epoch 245/1000 [Validation]: 100%|██████████| 2/2 [00:00<00:00,  3.28it/s, loss=0.6150]\n"
     ]
    },
    {
     "name": "stdout",
     "output_type": "stream",
     "text": [
      "train-epoch-loss:0.3133 valid-epoch-loss:0.6150 train-beta4-score:0.7474 valid-beta4-score:0.4406\n"
     ]
    },
    {
     "name": "stderr",
     "output_type": "stream",
     "text": [
      "Epoch 246/1000 [Training]: 100%|██████████| 100/100 [01:09<00:00,  1.44it/s, loss=0.3008]\n",
      "Epoch 246/1000 [Validation]: 100%|██████████| 2/2 [00:00<00:00,  3.31it/s, loss=0.5627]\n"
     ]
    },
    {
     "name": "stdout",
     "output_type": "stream",
     "text": [
      "train-epoch-loss:0.3008 valid-epoch-loss:0.5627 train-beta4-score:0.7431 valid-beta4-score:0.4225\n"
     ]
    },
    {
     "name": "stderr",
     "output_type": "stream",
     "text": [
      "Epoch 247/1000 [Training]: 100%|██████████| 100/100 [01:09<00:00,  1.43it/s, loss=0.2996]\n",
      "Epoch 247/1000 [Validation]: 100%|██████████| 2/2 [00:00<00:00,  3.30it/s, loss=0.6424]\n"
     ]
    },
    {
     "name": "stdout",
     "output_type": "stream",
     "text": [
      "train-epoch-loss:0.2996 valid-epoch-loss:0.6424 train-beta4-score:0.7158 valid-beta4-score:0.4064\n"
     ]
    },
    {
     "name": "stderr",
     "output_type": "stream",
     "text": [
      "Epoch 248/1000 [Training]: 100%|██████████| 100/100 [01:11<00:00,  1.40it/s, loss=0.3465]\n",
      "Epoch 248/1000 [Validation]: 100%|██████████| 2/2 [00:00<00:00,  3.17it/s, loss=0.3578]\n"
     ]
    },
    {
     "name": "stdout",
     "output_type": "stream",
     "text": [
      "train-epoch-loss:0.3465 valid-epoch-loss:0.3578 train-beta4-score:0.7833 valid-beta4-score:0.4857\n"
     ]
    },
    {
     "name": "stderr",
     "output_type": "stream",
     "text": [
      "Epoch 249/1000 [Training]: 100%|██████████| 100/100 [01:10<00:00,  1.42it/s, loss=0.3315]\n",
      "Epoch 249/1000 [Validation]: 100%|██████████| 2/2 [00:00<00:00,  3.23it/s, loss=0.5671]\n"
     ]
    },
    {
     "name": "stdout",
     "output_type": "stream",
     "text": [
      "train-epoch-loss:0.3315 valid-epoch-loss:0.5671 train-beta4-score:0.7319 valid-beta4-score:0.4339\n"
     ]
    },
    {
     "name": "stderr",
     "output_type": "stream",
     "text": [
      "Epoch 250/1000 [Training]: 100%|██████████| 100/100 [01:05<00:00,  1.52it/s, loss=0.3301]\n",
      "Epoch 250/1000 [Validation]: 100%|██████████| 2/2 [00:00<00:00,  3.24it/s, loss=0.3223]\n"
     ]
    },
    {
     "name": "stdout",
     "output_type": "stream",
     "text": [
      "train-epoch-loss:0.3301 valid-epoch-loss:0.3223 train-beta4-score:0.7389 valid-beta4-score:0.4092\n"
     ]
    },
    {
     "name": "stderr",
     "output_type": "stream",
     "text": [
      "Epoch 251/1000 [Training]: 100%|██████████| 100/100 [01:08<00:00,  1.45it/s, loss=0.3032]\n",
      "Epoch 251/1000 [Validation]: 100%|██████████| 2/2 [00:00<00:00,  3.29it/s, loss=0.3986]\n"
     ]
    },
    {
     "name": "stdout",
     "output_type": "stream",
     "text": [
      "train-epoch-loss:0.3032 valid-epoch-loss:0.3986 train-beta4-score:0.7667 valid-beta4-score:0.4136\n"
     ]
    },
    {
     "name": "stderr",
     "output_type": "stream",
     "text": [
      "Epoch 252/1000 [Training]: 100%|██████████| 100/100 [01:08<00:00,  1.46it/s, loss=0.3101]\n",
      "Epoch 252/1000 [Validation]: 100%|██████████| 2/2 [00:00<00:00,  3.31it/s, loss=0.4325]\n"
     ]
    },
    {
     "name": "stdout",
     "output_type": "stream",
     "text": [
      "train-epoch-loss:0.3101 valid-epoch-loss:0.4325 train-beta4-score:0.7676 valid-beta4-score:0.5287\n"
     ]
    },
    {
     "name": "stderr",
     "output_type": "stream",
     "text": [
      "Epoch 253/1000 [Training]: 100%|██████████| 100/100 [01:08<00:00,  1.45it/s, loss=0.3046]\n",
      "Epoch 253/1000 [Validation]: 100%|██████████| 2/2 [00:00<00:00,  3.24it/s, loss=0.1936]\n"
     ]
    },
    {
     "name": "stdout",
     "output_type": "stream",
     "text": [
      "train-epoch-loss:0.3046 valid-epoch-loss:0.1936 train-beta4-score:0.7171 valid-beta4-score:0.3813\n"
     ]
    },
    {
     "name": "stderr",
     "output_type": "stream",
     "text": [
      "Epoch 254/1000 [Training]: 100%|██████████| 100/100 [01:08<00:00,  1.45it/s, loss=0.3092]\n",
      "Epoch 254/1000 [Validation]: 100%|██████████| 2/2 [00:00<00:00,  3.22it/s, loss=0.2620]\n"
     ]
    },
    {
     "name": "stdout",
     "output_type": "stream",
     "text": [
      "train-epoch-loss:0.3092 valid-epoch-loss:0.2620 train-beta4-score:0.7702 valid-beta4-score:0.4528\n"
     ]
    },
    {
     "name": "stderr",
     "output_type": "stream",
     "text": [
      "Epoch 255/1000 [Training]: 100%|██████████| 100/100 [01:10<00:00,  1.42it/s, loss=0.3053]\n",
      "Epoch 255/1000 [Validation]: 100%|██████████| 2/2 [00:00<00:00,  3.26it/s, loss=0.2820]\n"
     ]
    },
    {
     "name": "stdout",
     "output_type": "stream",
     "text": [
      "train-epoch-loss:0.3053 valid-epoch-loss:0.2820 train-beta4-score:0.7061 valid-beta4-score:0.3710\n"
     ]
    },
    {
     "name": "stderr",
     "output_type": "stream",
     "text": [
      "Epoch 256/1000 [Training]: 100%|██████████| 100/100 [01:08<00:00,  1.45it/s, loss=0.3140]\n",
      "Epoch 256/1000 [Validation]: 100%|██████████| 2/2 [00:00<00:00,  3.27it/s, loss=0.3112]\n"
     ]
    },
    {
     "name": "stdout",
     "output_type": "stream",
     "text": [
      "train-epoch-loss:0.3140 valid-epoch-loss:0.3112 train-beta4-score:0.6883 valid-beta4-score:0.3254\n"
     ]
    },
    {
     "name": "stderr",
     "output_type": "stream",
     "text": [
      "Epoch 257/1000 [Training]: 100%|██████████| 100/100 [01:09<00:00,  1.44it/s, loss=0.3166]\n",
      "Epoch 257/1000 [Validation]: 100%|██████████| 2/2 [00:00<00:00,  3.29it/s, loss=0.4151]\n"
     ]
    },
    {
     "name": "stdout",
     "output_type": "stream",
     "text": [
      "train-epoch-loss:0.3166 valid-epoch-loss:0.4151 train-beta4-score:0.6844 valid-beta4-score:0.3584\n"
     ]
    },
    {
     "name": "stderr",
     "output_type": "stream",
     "text": [
      "Epoch 258/1000 [Training]: 100%|██████████| 100/100 [01:09<00:00,  1.44it/s, loss=0.3245]\n",
      "Epoch 258/1000 [Validation]: 100%|██████████| 2/2 [00:00<00:00,  3.27it/s, loss=0.5906]\n"
     ]
    },
    {
     "name": "stdout",
     "output_type": "stream",
     "text": [
      "train-epoch-loss:0.3245 valid-epoch-loss:0.5906 train-beta4-score:0.7247 valid-beta4-score:0.3844\n"
     ]
    },
    {
     "name": "stderr",
     "output_type": "stream",
     "text": [
      "Epoch 259/1000 [Training]: 100%|██████████| 100/100 [01:09<00:00,  1.44it/s, loss=0.3417]\n",
      "Epoch 259/1000 [Validation]: 100%|██████████| 2/2 [00:00<00:00,  3.23it/s, loss=0.5341]\n"
     ]
    },
    {
     "name": "stdout",
     "output_type": "stream",
     "text": [
      "train-epoch-loss:0.3417 valid-epoch-loss:0.5341 train-beta4-score:0.7199 valid-beta4-score:0.3592\n"
     ]
    },
    {
     "name": "stderr",
     "output_type": "stream",
     "text": [
      "Epoch 260/1000 [Training]: 100%|██████████| 100/100 [01:09<00:00,  1.44it/s, loss=0.3228]\n",
      "Epoch 260/1000 [Validation]: 100%|██████████| 2/2 [00:00<00:00,  3.32it/s, loss=0.2556]\n"
     ]
    },
    {
     "name": "stdout",
     "output_type": "stream",
     "text": [
      "train-epoch-loss:0.3228 valid-epoch-loss:0.2556 train-beta4-score:0.6883 valid-beta4-score:0.3470\n"
     ]
    },
    {
     "name": "stderr",
     "output_type": "stream",
     "text": [
      "Epoch 261/1000 [Training]: 100%|██████████| 100/100 [01:08<00:00,  1.46it/s, loss=0.3099]\n",
      "Epoch 261/1000 [Validation]: 100%|██████████| 2/2 [00:00<00:00,  3.27it/s, loss=0.4120]\n"
     ]
    },
    {
     "name": "stdout",
     "output_type": "stream",
     "text": [
      "train-epoch-loss:0.3099 valid-epoch-loss:0.4120 train-beta4-score:0.7355 valid-beta4-score:0.4202\n"
     ]
    },
    {
     "name": "stderr",
     "output_type": "stream",
     "text": [
      "Epoch 262/1000 [Training]: 100%|██████████| 100/100 [01:07<00:00,  1.48it/s, loss=0.3165]\n",
      "Epoch 262/1000 [Validation]: 100%|██████████| 2/2 [00:00<00:00,  3.29it/s, loss=0.5136]\n"
     ]
    },
    {
     "name": "stdout",
     "output_type": "stream",
     "text": [
      "train-epoch-loss:0.3165 valid-epoch-loss:0.5136 train-beta4-score:0.7148 valid-beta4-score:0.3549\n"
     ]
    },
    {
     "name": "stderr",
     "output_type": "stream",
     "text": [
      "Epoch 263/1000 [Training]: 100%|██████████| 100/100 [01:11<00:00,  1.41it/s, loss=0.3174]\n",
      "Epoch 263/1000 [Validation]: 100%|██████████| 2/2 [00:00<00:00,  3.25it/s, loss=0.2400]\n"
     ]
    },
    {
     "name": "stdout",
     "output_type": "stream",
     "text": [
      "train-epoch-loss:0.3174 valid-epoch-loss:0.2400 train-beta4-score:0.7311 valid-beta4-score:0.4275\n"
     ]
    },
    {
     "name": "stderr",
     "output_type": "stream",
     "text": [
      "Epoch 264/1000 [Training]: 100%|██████████| 100/100 [01:09<00:00,  1.45it/s, loss=0.3031]\n",
      "Epoch 264/1000 [Validation]: 100%|██████████| 2/2 [00:00<00:00,  3.29it/s, loss=0.6177]\n"
     ]
    },
    {
     "name": "stdout",
     "output_type": "stream",
     "text": [
      "train-epoch-loss:0.3031 valid-epoch-loss:0.6177 train-beta4-score:0.7226 valid-beta4-score:0.4326\n"
     ]
    },
    {
     "name": "stderr",
     "output_type": "stream",
     "text": [
      "Epoch 265/1000 [Training]: 100%|██████████| 100/100 [01:07<00:00,  1.47it/s, loss=0.3020]\n",
      "Epoch 265/1000 [Validation]: 100%|██████████| 2/2 [00:00<00:00,  3.29it/s, loss=0.5658]\n"
     ]
    },
    {
     "name": "stdout",
     "output_type": "stream",
     "text": [
      "train-epoch-loss:0.3020 valid-epoch-loss:0.5658 train-beta4-score:0.7396 valid-beta4-score:0.3851\n"
     ]
    },
    {
     "name": "stderr",
     "output_type": "stream",
     "text": [
      "Epoch 266/1000 [Training]: 100%|██████████| 100/100 [01:08<00:00,  1.47it/s, loss=0.3142]\n",
      "Epoch 266/1000 [Validation]: 100%|██████████| 2/2 [00:00<00:00,  3.10it/s, loss=0.5304]\n"
     ]
    },
    {
     "name": "stdout",
     "output_type": "stream",
     "text": [
      "train-epoch-loss:0.3142 valid-epoch-loss:0.5304 train-beta4-score:0.7216 valid-beta4-score:0.3891\n"
     ]
    },
    {
     "name": "stderr",
     "output_type": "stream",
     "text": [
      "Epoch 267/1000 [Training]: 100%|██████████| 100/100 [01:10<00:00,  1.43it/s, loss=0.3576]\n",
      "Epoch 267/1000 [Validation]: 100%|██████████| 2/2 [00:00<00:00,  3.24it/s, loss=0.2987]\n"
     ]
    },
    {
     "name": "stdout",
     "output_type": "stream",
     "text": [
      "train-epoch-loss:0.3576 valid-epoch-loss:0.2987 train-beta4-score:0.7351 valid-beta4-score:0.3969\n"
     ]
    },
    {
     "name": "stderr",
     "output_type": "stream",
     "text": [
      "Epoch 268/1000 [Training]: 100%|██████████| 100/100 [01:10<00:00,  1.41it/s, loss=0.2843]\n",
      "Epoch 268/1000 [Validation]: 100%|██████████| 2/2 [00:00<00:00,  3.29it/s, loss=0.4654]\n"
     ]
    },
    {
     "name": "stdout",
     "output_type": "stream",
     "text": [
      "train-epoch-loss:0.2843 valid-epoch-loss:0.4654 train-beta4-score:0.7441 valid-beta4-score:0.4183\n"
     ]
    },
    {
     "name": "stderr",
     "output_type": "stream",
     "text": [
      "Epoch 269/1000 [Training]: 100%|██████████| 100/100 [01:07<00:00,  1.49it/s, loss=0.3009]\n",
      "Epoch 269/1000 [Validation]: 100%|██████████| 2/2 [00:00<00:00,  3.29it/s, loss=0.2533]\n"
     ]
    },
    {
     "name": "stdout",
     "output_type": "stream",
     "text": [
      "train-epoch-loss:0.3009 valid-epoch-loss:0.2533 train-beta4-score:0.6866 valid-beta4-score:0.3745\n"
     ]
    },
    {
     "name": "stderr",
     "output_type": "stream",
     "text": [
      "Epoch 270/1000 [Training]: 100%|██████████| 100/100 [01:09<00:00,  1.44it/s, loss=0.3112]\n",
      "Epoch 270/1000 [Validation]: 100%|██████████| 2/2 [00:00<00:00,  3.21it/s, loss=0.4949]\n"
     ]
    },
    {
     "name": "stdout",
     "output_type": "stream",
     "text": [
      "train-epoch-loss:0.3112 valid-epoch-loss:0.4949 train-beta4-score:0.7288 valid-beta4-score:0.3970\n"
     ]
    },
    {
     "name": "stderr",
     "output_type": "stream",
     "text": [
      "Epoch 271/1000 [Training]: 100%|██████████| 100/100 [01:07<00:00,  1.48it/s, loss=0.3264]\n",
      "Epoch 271/1000 [Validation]: 100%|██████████| 2/2 [00:00<00:00,  3.32it/s, loss=0.4509]\n"
     ]
    },
    {
     "name": "stdout",
     "output_type": "stream",
     "text": [
      "train-epoch-loss:0.3264 valid-epoch-loss:0.4509 train-beta4-score:0.6931 valid-beta4-score:0.4001\n"
     ]
    },
    {
     "name": "stderr",
     "output_type": "stream",
     "text": [
      "Epoch 272/1000 [Training]: 100%|██████████| 100/100 [01:09<00:00,  1.45it/s, loss=0.3200]\n",
      "Epoch 272/1000 [Validation]: 100%|██████████| 2/2 [00:00<00:00,  3.29it/s, loss=0.4751]\n"
     ]
    },
    {
     "name": "stdout",
     "output_type": "stream",
     "text": [
      "train-epoch-loss:0.3200 valid-epoch-loss:0.4751 train-beta4-score:0.6513 valid-beta4-score:0.3768\n"
     ]
    },
    {
     "name": "stderr",
     "output_type": "stream",
     "text": [
      "Epoch 273/1000 [Training]: 100%|██████████| 100/100 [01:08<00:00,  1.46it/s, loss=0.2927]\n",
      "Epoch 273/1000 [Validation]: 100%|██████████| 2/2 [00:00<00:00,  3.28it/s, loss=0.6118]\n"
     ]
    },
    {
     "name": "stdout",
     "output_type": "stream",
     "text": [
      "train-epoch-loss:0.2927 valid-epoch-loss:0.6118 train-beta4-score:0.7676 valid-beta4-score:0.4608\n"
     ]
    },
    {
     "name": "stderr",
     "output_type": "stream",
     "text": [
      "Epoch 274/1000 [Training]: 100%|██████████| 100/100 [01:09<00:00,  1.43it/s, loss=0.3279]\n",
      "Epoch 274/1000 [Validation]: 100%|██████████| 2/2 [00:00<00:00,  3.24it/s, loss=0.6334]\n"
     ]
    },
    {
     "name": "stdout",
     "output_type": "stream",
     "text": [
      "train-epoch-loss:0.3279 valid-epoch-loss:0.6334 train-beta4-score:0.7375 valid-beta4-score:0.3853\n"
     ]
    },
    {
     "name": "stderr",
     "output_type": "stream",
     "text": [
      "Epoch 275/1000 [Training]: 100%|██████████| 100/100 [01:10<00:00,  1.42it/s, loss=0.3019]\n",
      "Epoch 275/1000 [Validation]: 100%|██████████| 2/2 [00:00<00:00,  3.35it/s, loss=0.2948]\n"
     ]
    },
    {
     "name": "stdout",
     "output_type": "stream",
     "text": [
      "train-epoch-loss:0.3019 valid-epoch-loss:0.2948 train-beta4-score:0.7270 valid-beta4-score:0.4203\n"
     ]
    },
    {
     "name": "stderr",
     "output_type": "stream",
     "text": [
      "Epoch 276/1000 [Training]: 100%|██████████| 100/100 [01:08<00:00,  1.46it/s, loss=0.3301]\n",
      "Epoch 276/1000 [Validation]: 100%|██████████| 2/2 [00:00<00:00,  3.33it/s, loss=0.1014]\n"
     ]
    },
    {
     "name": "stdout",
     "output_type": "stream",
     "text": [
      "train-epoch-loss:0.3301 valid-epoch-loss:0.1014 train-beta4-score:0.6974 valid-beta4-score:0.3687\n"
     ]
    },
    {
     "name": "stderr",
     "output_type": "stream",
     "text": [
      "Epoch 277/1000 [Training]: 100%|██████████| 100/100 [01:11<00:00,  1.39it/s, loss=0.3213]\n",
      "Epoch 277/1000 [Validation]: 100%|██████████| 2/2 [00:00<00:00,  3.31it/s, loss=0.3345]\n"
     ]
    },
    {
     "name": "stdout",
     "output_type": "stream",
     "text": [
      "train-epoch-loss:0.3213 valid-epoch-loss:0.3345 train-beta4-score:0.7504 valid-beta4-score:0.3930\n"
     ]
    },
    {
     "name": "stderr",
     "output_type": "stream",
     "text": [
      "Epoch 278/1000 [Training]: 100%|██████████| 100/100 [01:07<00:00,  1.47it/s, loss=0.3137]\n",
      "Epoch 278/1000 [Validation]: 100%|██████████| 2/2 [00:00<00:00,  3.11it/s, loss=0.5024]\n"
     ]
    },
    {
     "name": "stdout",
     "output_type": "stream",
     "text": [
      "train-epoch-loss:0.3137 valid-epoch-loss:0.5024 train-beta4-score:0.6849 valid-beta4-score:0.3866\n"
     ]
    },
    {
     "name": "stderr",
     "output_type": "stream",
     "text": [
      "Epoch 279/1000 [Training]: 100%|██████████| 100/100 [01:10<00:00,  1.42it/s, loss=0.3189]\n",
      "Epoch 279/1000 [Validation]: 100%|██████████| 2/2 [00:00<00:00,  3.19it/s, loss=0.5611]\n"
     ]
    },
    {
     "name": "stdout",
     "output_type": "stream",
     "text": [
      "train-epoch-loss:0.3189 valid-epoch-loss:0.5611 train-beta4-score:0.7331 valid-beta4-score:0.3872\n"
     ]
    },
    {
     "name": "stderr",
     "output_type": "stream",
     "text": [
      "Epoch 280/1000 [Training]: 100%|██████████| 100/100 [01:07<00:00,  1.48it/s, loss=0.2955]\n",
      "Epoch 280/1000 [Validation]: 100%|██████████| 2/2 [00:00<00:00,  3.24it/s, loss=0.3174]\n"
     ]
    },
    {
     "name": "stdout",
     "output_type": "stream",
     "text": [
      "train-epoch-loss:0.2955 valid-epoch-loss:0.3174 train-beta4-score:0.7306 valid-beta4-score:0.3792\n"
     ]
    },
    {
     "name": "stderr",
     "output_type": "stream",
     "text": [
      "Epoch 281/1000 [Training]: 100%|██████████| 100/100 [01:09<00:00,  1.43it/s, loss=0.3115]\n",
      "Epoch 281/1000 [Validation]: 100%|██████████| 2/2 [00:00<00:00,  3.22it/s, loss=0.6153]\n"
     ]
    },
    {
     "name": "stdout",
     "output_type": "stream",
     "text": [
      "train-epoch-loss:0.3115 valid-epoch-loss:0.6153 train-beta4-score:0.7485 valid-beta4-score:0.4237\n"
     ]
    },
    {
     "name": "stderr",
     "output_type": "stream",
     "text": [
      "Epoch 282/1000 [Training]: 100%|██████████| 100/100 [01:09<00:00,  1.43it/s, loss=0.3139]\n",
      "Epoch 282/1000 [Validation]: 100%|██████████| 2/2 [00:00<00:00,  3.29it/s, loss=0.3888]\n"
     ]
    },
    {
     "name": "stdout",
     "output_type": "stream",
     "text": [
      "train-epoch-loss:0.3139 valid-epoch-loss:0.3888 train-beta4-score:0.7368 valid-beta4-score:0.4016\n"
     ]
    },
    {
     "name": "stderr",
     "output_type": "stream",
     "text": [
      "Epoch 283/1000 [Training]: 100%|██████████| 100/100 [01:09<00:00,  1.43it/s, loss=0.3242]\n",
      "Epoch 283/1000 [Validation]: 100%|██████████| 2/2 [00:00<00:00,  3.28it/s, loss=0.2105]\n"
     ]
    },
    {
     "name": "stdout",
     "output_type": "stream",
     "text": [
      "train-epoch-loss:0.3242 valid-epoch-loss:0.2105 train-beta4-score:0.7619 valid-beta4-score:0.3896\n"
     ]
    },
    {
     "name": "stderr",
     "output_type": "stream",
     "text": [
      "Epoch 284/1000 [Training]: 100%|██████████| 100/100 [01:09<00:00,  1.44it/s, loss=0.3399]\n",
      "Epoch 284/1000 [Validation]: 100%|██████████| 2/2 [00:00<00:00,  3.33it/s, loss=0.1715]\n"
     ]
    },
    {
     "name": "stdout",
     "output_type": "stream",
     "text": [
      "train-epoch-loss:0.3399 valid-epoch-loss:0.1715 train-beta4-score:0.7514 valid-beta4-score:0.3703\n"
     ]
    },
    {
     "name": "stderr",
     "output_type": "stream",
     "text": [
      "Epoch 285/1000 [Training]: 100%|██████████| 100/100 [01:09<00:00,  1.45it/s, loss=0.3252]\n",
      "Epoch 285/1000 [Validation]: 100%|██████████| 2/2 [00:00<00:00,  3.29it/s, loss=0.3307]\n"
     ]
    },
    {
     "name": "stdout",
     "output_type": "stream",
     "text": [
      "train-epoch-loss:0.3252 valid-epoch-loss:0.3307 train-beta4-score:0.6989 valid-beta4-score:0.3845\n"
     ]
    },
    {
     "name": "stderr",
     "output_type": "stream",
     "text": [
      "Epoch 286/1000 [Training]: 100%|██████████| 100/100 [01:09<00:00,  1.45it/s, loss=0.2923]\n",
      "Epoch 286/1000 [Validation]: 100%|██████████| 2/2 [00:00<00:00,  3.24it/s, loss=0.3443]\n"
     ]
    },
    {
     "name": "stdout",
     "output_type": "stream",
     "text": [
      "train-epoch-loss:0.2923 valid-epoch-loss:0.3443 train-beta4-score:0.6766 valid-beta4-score:0.3678\n"
     ]
    },
    {
     "name": "stderr",
     "output_type": "stream",
     "text": [
      "Epoch 287/1000 [Training]: 100%|██████████| 100/100 [01:09<00:00,  1.43it/s, loss=0.3203]\n",
      "Epoch 287/1000 [Validation]: 100%|██████████| 2/2 [00:00<00:00,  3.22it/s, loss=0.3626]\n"
     ]
    },
    {
     "name": "stdout",
     "output_type": "stream",
     "text": [
      "train-epoch-loss:0.3203 valid-epoch-loss:0.3626 train-beta4-score:0.6908 valid-beta4-score:0.3816\n"
     ]
    },
    {
     "name": "stderr",
     "output_type": "stream",
     "text": [
      "Epoch 288/1000 [Training]: 100%|██████████| 100/100 [01:11<00:00,  1.39it/s, loss=0.3301]\n",
      "Epoch 288/1000 [Validation]: 100%|██████████| 2/2 [00:00<00:00,  3.32it/s, loss=0.5355]\n"
     ]
    },
    {
     "name": "stdout",
     "output_type": "stream",
     "text": [
      "train-epoch-loss:0.3301 valid-epoch-loss:0.5355 train-beta4-score:0.7075 valid-beta4-score:0.4288\n"
     ]
    },
    {
     "name": "stderr",
     "output_type": "stream",
     "text": [
      "Epoch 289/1000 [Training]: 100%|██████████| 100/100 [01:10<00:00,  1.43it/s, loss=0.3256]\n",
      "Epoch 289/1000 [Validation]: 100%|██████████| 2/2 [00:00<00:00,  3.26it/s, loss=0.5611]\n"
     ]
    },
    {
     "name": "stdout",
     "output_type": "stream",
     "text": [
      "train-epoch-loss:0.3256 valid-epoch-loss:0.5611 train-beta4-score:0.7526 valid-beta4-score:0.4059\n"
     ]
    },
    {
     "name": "stderr",
     "output_type": "stream",
     "text": [
      "Epoch 290/1000 [Training]: 100%|██████████| 100/100 [01:08<00:00,  1.46it/s, loss=0.3233]\n",
      "Epoch 290/1000 [Validation]: 100%|██████████| 2/2 [00:00<00:00,  3.25it/s, loss=0.4307]\n"
     ]
    },
    {
     "name": "stdout",
     "output_type": "stream",
     "text": [
      "train-epoch-loss:0.3233 valid-epoch-loss:0.4307 train-beta4-score:0.7476 valid-beta4-score:0.4486\n"
     ]
    },
    {
     "name": "stderr",
     "output_type": "stream",
     "text": [
      "Epoch 291/1000 [Training]: 100%|██████████| 100/100 [01:06<00:00,  1.49it/s, loss=0.2952]\n",
      "Epoch 291/1000 [Validation]: 100%|██████████| 2/2 [00:00<00:00,  3.24it/s, loss=0.2427]\n"
     ]
    },
    {
     "name": "stdout",
     "output_type": "stream",
     "text": [
      "train-epoch-loss:0.2952 valid-epoch-loss:0.2427 train-beta4-score:0.6918 valid-beta4-score:0.3674\n"
     ]
    },
    {
     "name": "stderr",
     "output_type": "stream",
     "text": [
      "Epoch 292/1000 [Training]: 100%|██████████| 100/100 [01:09<00:00,  1.45it/s, loss=0.3178]\n",
      "Epoch 292/1000 [Validation]: 100%|██████████| 2/2 [00:00<00:00,  3.33it/s, loss=0.5377]\n"
     ]
    },
    {
     "name": "stdout",
     "output_type": "stream",
     "text": [
      "train-epoch-loss:0.3178 valid-epoch-loss:0.5377 train-beta4-score:0.7494 valid-beta4-score:0.4186\n"
     ]
    },
    {
     "name": "stderr",
     "output_type": "stream",
     "text": [
      "Epoch 293/1000 [Training]: 100%|██████████| 100/100 [01:10<00:00,  1.42it/s, loss=0.3203]\n",
      "Epoch 293/1000 [Validation]: 100%|██████████| 2/2 [00:00<00:00,  3.34it/s, loss=0.2181]\n"
     ]
    },
    {
     "name": "stdout",
     "output_type": "stream",
     "text": [
      "train-epoch-loss:0.3203 valid-epoch-loss:0.2181 train-beta4-score:0.7225 valid-beta4-score:0.3801\n"
     ]
    },
    {
     "name": "stderr",
     "output_type": "stream",
     "text": [
      "Epoch 294/1000 [Training]: 100%|██████████| 100/100 [01:12<00:00,  1.38it/s, loss=0.3163]\n",
      "Epoch 294/1000 [Validation]: 100%|██████████| 2/2 [00:00<00:00,  3.32it/s, loss=0.4215]\n"
     ]
    },
    {
     "name": "stdout",
     "output_type": "stream",
     "text": [
      "train-epoch-loss:0.3163 valid-epoch-loss:0.4215 train-beta4-score:0.7565 valid-beta4-score:0.4283\n"
     ]
    },
    {
     "name": "stderr",
     "output_type": "stream",
     "text": [
      "Epoch 295/1000 [Training]: 100%|██████████| 100/100 [01:10<00:00,  1.42it/s, loss=0.2996]\n",
      "Epoch 295/1000 [Validation]: 100%|██████████| 2/2 [00:00<00:00,  3.25it/s, loss=0.4832]\n"
     ]
    },
    {
     "name": "stdout",
     "output_type": "stream",
     "text": [
      "train-epoch-loss:0.2996 valid-epoch-loss:0.4832 train-beta4-score:0.7000 valid-beta4-score:0.3035\n"
     ]
    },
    {
     "name": "stderr",
     "output_type": "stream",
     "text": [
      "Epoch 296/1000 [Training]: 100%|██████████| 100/100 [01:10<00:00,  1.43it/s, loss=0.3341]\n",
      "Epoch 296/1000 [Validation]: 100%|██████████| 2/2 [00:00<00:00,  3.28it/s, loss=0.2656]\n"
     ]
    },
    {
     "name": "stdout",
     "output_type": "stream",
     "text": [
      "train-epoch-loss:0.3341 valid-epoch-loss:0.2656 train-beta4-score:0.7585 valid-beta4-score:0.4707\n"
     ]
    },
    {
     "name": "stderr",
     "output_type": "stream",
     "text": [
      "Epoch 297/1000 [Training]: 100%|██████████| 100/100 [01:07<00:00,  1.48it/s, loss=0.3226]\n",
      "Epoch 297/1000 [Validation]: 100%|██████████| 2/2 [00:00<00:00,  3.29it/s, loss=0.4515]\n"
     ]
    },
    {
     "name": "stdout",
     "output_type": "stream",
     "text": [
      "train-epoch-loss:0.3226 valid-epoch-loss:0.4515 train-beta4-score:0.7210 valid-beta4-score:0.3887\n"
     ]
    },
    {
     "name": "stderr",
     "output_type": "stream",
     "text": [
      "Epoch 298/1000 [Training]: 100%|██████████| 100/100 [01:10<00:00,  1.42it/s, loss=0.3152]\n",
      "Epoch 298/1000 [Validation]: 100%|██████████| 2/2 [00:00<00:00,  3.24it/s, loss=0.2910]\n"
     ]
    },
    {
     "name": "stdout",
     "output_type": "stream",
     "text": [
      "train-epoch-loss:0.3152 valid-epoch-loss:0.2910 train-beta4-score:0.7614 valid-beta4-score:0.4338\n"
     ]
    },
    {
     "name": "stderr",
     "output_type": "stream",
     "text": [
      "Epoch 299/1000 [Training]: 100%|██████████| 100/100 [01:08<00:00,  1.46it/s, loss=0.3119]\n",
      "Epoch 299/1000 [Validation]: 100%|██████████| 2/2 [00:00<00:00,  3.26it/s, loss=0.3503]\n"
     ]
    },
    {
     "name": "stdout",
     "output_type": "stream",
     "text": [
      "train-epoch-loss:0.3119 valid-epoch-loss:0.3503 train-beta4-score:0.6949 valid-beta4-score:0.3914\n"
     ]
    },
    {
     "name": "stderr",
     "output_type": "stream",
     "text": [
      "Epoch 300/1000 [Training]: 100%|██████████| 100/100 [01:06<00:00,  1.50it/s, loss=0.3351]\n",
      "Epoch 300/1000 [Validation]: 100%|██████████| 2/2 [00:00<00:00,  3.23it/s, loss=0.2682]\n"
     ]
    },
    {
     "name": "stdout",
     "output_type": "stream",
     "text": [
      "train-epoch-loss:0.3351 valid-epoch-loss:0.2682 train-beta4-score:0.7592 valid-beta4-score:0.4604\n"
     ]
    },
    {
     "name": "stderr",
     "output_type": "stream",
     "text": [
      "Epoch 301/1000 [Training]: 100%|██████████| 100/100 [01:09<00:00,  1.43it/s, loss=0.3139]\n",
      "Epoch 301/1000 [Validation]: 100%|██████████| 2/2 [00:00<00:00,  3.19it/s, loss=0.2912]\n"
     ]
    },
    {
     "name": "stdout",
     "output_type": "stream",
     "text": [
      "train-epoch-loss:0.3139 valid-epoch-loss:0.2912 train-beta4-score:0.7526 valid-beta4-score:0.3930\n"
     ]
    },
    {
     "name": "stderr",
     "output_type": "stream",
     "text": [
      "Epoch 302/1000 [Training]: 100%|██████████| 100/100 [01:09<00:00,  1.44it/s, loss=0.2888]\n",
      "Epoch 302/1000 [Validation]: 100%|██████████| 2/2 [00:00<00:00,  3.27it/s, loss=0.4341]\n"
     ]
    },
    {
     "name": "stdout",
     "output_type": "stream",
     "text": [
      "train-epoch-loss:0.2888 valid-epoch-loss:0.4341 train-beta4-score:0.7585 valid-beta4-score:0.4233\n"
     ]
    },
    {
     "name": "stderr",
     "output_type": "stream",
     "text": [
      "Epoch 303/1000 [Training]: 100%|██████████| 100/100 [01:10<00:00,  1.41it/s, loss=0.3232]\n",
      "Epoch 303/1000 [Validation]: 100%|██████████| 2/2 [00:00<00:00,  3.28it/s, loss=0.5144]\n"
     ]
    },
    {
     "name": "stdout",
     "output_type": "stream",
     "text": [
      "train-epoch-loss:0.3232 valid-epoch-loss:0.5144 train-beta4-score:0.7069 valid-beta4-score:0.3811\n"
     ]
    },
    {
     "name": "stderr",
     "output_type": "stream",
     "text": [
      "Epoch 304/1000 [Training]: 100%|██████████| 100/100 [01:08<00:00,  1.45it/s, loss=0.3216]\n",
      "Epoch 304/1000 [Validation]: 100%|██████████| 2/2 [00:00<00:00,  3.23it/s, loss=0.4020]\n"
     ]
    },
    {
     "name": "stdout",
     "output_type": "stream",
     "text": [
      "train-epoch-loss:0.3216 valid-epoch-loss:0.4020 train-beta4-score:0.7841 valid-beta4-score:0.4116\n"
     ]
    },
    {
     "name": "stderr",
     "output_type": "stream",
     "text": [
      "Epoch 305/1000 [Training]: 100%|██████████| 100/100 [01:09<00:00,  1.44it/s, loss=0.3302]\n",
      "Epoch 305/1000 [Validation]: 100%|██████████| 2/2 [00:00<00:00,  3.25it/s, loss=0.6046]\n"
     ]
    },
    {
     "name": "stdout",
     "output_type": "stream",
     "text": [
      "train-epoch-loss:0.3302 valid-epoch-loss:0.6046 train-beta4-score:0.7559 valid-beta4-score:0.4337\n"
     ]
    },
    {
     "name": "stderr",
     "output_type": "stream",
     "text": [
      "Epoch 306/1000 [Training]: 100%|██████████| 100/100 [01:09<00:00,  1.45it/s, loss=0.2959]\n",
      "Epoch 306/1000 [Validation]: 100%|██████████| 2/2 [00:00<00:00,  3.26it/s, loss=0.4243]\n"
     ]
    },
    {
     "name": "stdout",
     "output_type": "stream",
     "text": [
      "train-epoch-loss:0.2959 valid-epoch-loss:0.4243 train-beta4-score:0.7534 valid-beta4-score:0.3842\n"
     ]
    },
    {
     "name": "stderr",
     "output_type": "stream",
     "text": [
      "Epoch 307/1000 [Training]: 100%|██████████| 100/100 [01:10<00:00,  1.42it/s, loss=0.3107]\n",
      "Epoch 307/1000 [Validation]: 100%|██████████| 2/2 [00:00<00:00,  3.27it/s, loss=0.2329]\n"
     ]
    },
    {
     "name": "stdout",
     "output_type": "stream",
     "text": [
      "train-epoch-loss:0.3107 valid-epoch-loss:0.2329 train-beta4-score:0.7559 valid-beta4-score:0.3889\n"
     ]
    },
    {
     "name": "stderr",
     "output_type": "stream",
     "text": [
      "Epoch 308/1000 [Training]: 100%|██████████| 100/100 [01:08<00:00,  1.45it/s, loss=0.3146]\n",
      "Epoch 308/1000 [Validation]: 100%|██████████| 2/2 [00:00<00:00,  3.28it/s, loss=0.5877]\n"
     ]
    },
    {
     "name": "stdout",
     "output_type": "stream",
     "text": [
      "train-epoch-loss:0.3146 valid-epoch-loss:0.5877 train-beta4-score:0.7600 valid-beta4-score:0.4099\n"
     ]
    },
    {
     "name": "stderr",
     "output_type": "stream",
     "text": [
      "Epoch 309/1000 [Training]: 100%|██████████| 100/100 [01:09<00:00,  1.44it/s, loss=0.3194]\n",
      "Epoch 309/1000 [Validation]: 100%|██████████| 2/2 [00:00<00:00,  3.26it/s, loss=0.6339]\n"
     ]
    },
    {
     "name": "stdout",
     "output_type": "stream",
     "text": [
      "train-epoch-loss:0.3194 valid-epoch-loss:0.6339 train-beta4-score:0.7586 valid-beta4-score:0.3948\n"
     ]
    },
    {
     "name": "stderr",
     "output_type": "stream",
     "text": [
      "Epoch 310/1000 [Training]: 100%|██████████| 100/100 [01:07<00:00,  1.49it/s, loss=0.2804]\n",
      "Epoch 310/1000 [Validation]: 100%|██████████| 2/2 [00:00<00:00,  3.30it/s, loss=0.2755]\n"
     ]
    },
    {
     "name": "stdout",
     "output_type": "stream",
     "text": [
      "train-epoch-loss:0.2804 valid-epoch-loss:0.2755 train-beta4-score:0.7755 valid-beta4-score:0.3743\n"
     ]
    },
    {
     "name": "stderr",
     "output_type": "stream",
     "text": [
      "Epoch 311/1000 [Training]: 100%|██████████| 100/100 [01:08<00:00,  1.47it/s, loss=0.2952]\n",
      "Epoch 311/1000 [Validation]: 100%|██████████| 2/2 [00:00<00:00,  3.26it/s, loss=0.4921]\n"
     ]
    },
    {
     "name": "stdout",
     "output_type": "stream",
     "text": [
      "train-epoch-loss:0.2952 valid-epoch-loss:0.4921 train-beta4-score:0.7389 valid-beta4-score:0.3942\n"
     ]
    },
    {
     "name": "stderr",
     "output_type": "stream",
     "text": [
      "Epoch 312/1000 [Training]: 100%|██████████| 100/100 [01:07<00:00,  1.48it/s, loss=0.3021]\n",
      "Epoch 312/1000 [Validation]: 100%|██████████| 2/2 [00:00<00:00,  3.23it/s, loss=0.5191]\n"
     ]
    },
    {
     "name": "stdout",
     "output_type": "stream",
     "text": [
      "train-epoch-loss:0.3021 valid-epoch-loss:0.5191 train-beta4-score:0.7550 valid-beta4-score:0.4051\n"
     ]
    },
    {
     "name": "stderr",
     "output_type": "stream",
     "text": [
      "Epoch 313/1000 [Training]: 100%|██████████| 100/100 [01:08<00:00,  1.46it/s, loss=0.3250]\n",
      "Epoch 313/1000 [Validation]: 100%|██████████| 2/2 [00:00<00:00,  3.27it/s, loss=0.5109]\n"
     ]
    },
    {
     "name": "stdout",
     "output_type": "stream",
     "text": [
      "train-epoch-loss:0.3250 valid-epoch-loss:0.5109 train-beta4-score:0.7117 valid-beta4-score:0.4053\n"
     ]
    },
    {
     "name": "stderr",
     "output_type": "stream",
     "text": [
      "Epoch 314/1000 [Training]: 100%|██████████| 100/100 [01:07<00:00,  1.48it/s, loss=0.3167]\n",
      "Epoch 314/1000 [Validation]: 100%|██████████| 2/2 [00:00<00:00,  3.31it/s, loss=0.6162]\n"
     ]
    },
    {
     "name": "stdout",
     "output_type": "stream",
     "text": [
      "train-epoch-loss:0.3167 valid-epoch-loss:0.6162 train-beta4-score:0.7417 valid-beta4-score:0.4243\n"
     ]
    },
    {
     "name": "stderr",
     "output_type": "stream",
     "text": [
      "Epoch 315/1000 [Training]: 100%|██████████| 100/100 [01:07<00:00,  1.49it/s, loss=0.3154]\n",
      "Epoch 315/1000 [Validation]: 100%|██████████| 2/2 [00:00<00:00,  3.15it/s, loss=0.5629]\n"
     ]
    },
    {
     "name": "stdout",
     "output_type": "stream",
     "text": [
      "train-epoch-loss:0.3154 valid-epoch-loss:0.5629 train-beta4-score:0.7570 valid-beta4-score:0.4457\n"
     ]
    },
    {
     "name": "stderr",
     "output_type": "stream",
     "text": [
      "Epoch 316/1000 [Training]: 100%|██████████| 100/100 [01:08<00:00,  1.46it/s, loss=0.3172]\n",
      "Epoch 316/1000 [Validation]: 100%|██████████| 2/2 [00:00<00:00,  3.18it/s, loss=0.6353]\n"
     ]
    },
    {
     "name": "stdout",
     "output_type": "stream",
     "text": [
      "train-epoch-loss:0.3172 valid-epoch-loss:0.6353 train-beta4-score:0.7593 valid-beta4-score:0.3795\n"
     ]
    },
    {
     "name": "stderr",
     "output_type": "stream",
     "text": [
      "Epoch 317/1000 [Training]: 100%|██████████| 100/100 [01:10<00:00,  1.41it/s, loss=0.3364]\n",
      "Epoch 317/1000 [Validation]: 100%|██████████| 2/2 [00:00<00:00,  3.33it/s, loss=0.2645]\n"
     ]
    },
    {
     "name": "stdout",
     "output_type": "stream",
     "text": [
      "train-epoch-loss:0.3364 valid-epoch-loss:0.2645 train-beta4-score:0.7592 valid-beta4-score:0.4538\n"
     ]
    },
    {
     "name": "stderr",
     "output_type": "stream",
     "text": [
      "Epoch 318/1000 [Training]: 100%|██████████| 100/100 [01:10<00:00,  1.41it/s, loss=0.3116]\n",
      "Epoch 318/1000 [Validation]: 100%|██████████| 2/2 [00:00<00:00,  3.26it/s, loss=0.6224]\n"
     ]
    },
    {
     "name": "stdout",
     "output_type": "stream",
     "text": [
      "train-epoch-loss:0.3116 valid-epoch-loss:0.6224 train-beta4-score:0.7638 valid-beta4-score:0.4660\n"
     ]
    },
    {
     "name": "stderr",
     "output_type": "stream",
     "text": [
      "Epoch 319/1000 [Training]: 100%|██████████| 100/100 [01:10<00:00,  1.41it/s, loss=0.3367]\n",
      "Epoch 319/1000 [Validation]: 100%|██████████| 2/2 [00:00<00:00,  3.24it/s, loss=0.4445]\n"
     ]
    },
    {
     "name": "stdout",
     "output_type": "stream",
     "text": [
      "train-epoch-loss:0.3367 valid-epoch-loss:0.4445 train-beta4-score:0.7421 valid-beta4-score:0.3985\n"
     ]
    },
    {
     "name": "stderr",
     "output_type": "stream",
     "text": [
      "Epoch 320/1000 [Training]: 100%|██████████| 100/100 [01:09<00:00,  1.44it/s, loss=0.3071]\n",
      "Epoch 320/1000 [Validation]: 100%|██████████| 2/2 [00:00<00:00,  3.24it/s, loss=0.5883]\n"
     ]
    },
    {
     "name": "stdout",
     "output_type": "stream",
     "text": [
      "train-epoch-loss:0.3071 valid-epoch-loss:0.5883 train-beta4-score:0.7097 valid-beta4-score:0.3794\n"
     ]
    },
    {
     "name": "stderr",
     "output_type": "stream",
     "text": [
      "Epoch 321/1000 [Training]: 100%|██████████| 100/100 [01:09<00:00,  1.44it/s, loss=0.3028]\n",
      "Epoch 321/1000 [Validation]: 100%|██████████| 2/2 [00:00<00:00,  3.29it/s, loss=0.5214]\n"
     ]
    },
    {
     "name": "stdout",
     "output_type": "stream",
     "text": [
      "train-epoch-loss:0.3028 valid-epoch-loss:0.5214 train-beta4-score:0.7629 valid-beta4-score:0.4040\n"
     ]
    },
    {
     "name": "stderr",
     "output_type": "stream",
     "text": [
      "Epoch 322/1000 [Training]: 100%|██████████| 100/100 [01:10<00:00,  1.42it/s, loss=0.3246]\n",
      "Epoch 322/1000 [Validation]: 100%|██████████| 2/2 [00:00<00:00,  3.27it/s, loss=0.6057]\n"
     ]
    },
    {
     "name": "stdout",
     "output_type": "stream",
     "text": [
      "train-epoch-loss:0.3246 valid-epoch-loss:0.6057 train-beta4-score:0.7386 valid-beta4-score:0.4251\n"
     ]
    },
    {
     "name": "stderr",
     "output_type": "stream",
     "text": [
      "Epoch 323/1000 [Training]: 100%|██████████| 100/100 [01:07<00:00,  1.48it/s, loss=0.2863]\n",
      "Epoch 323/1000 [Validation]: 100%|██████████| 2/2 [00:00<00:00,  3.23it/s, loss=0.4335]\n"
     ]
    },
    {
     "name": "stdout",
     "output_type": "stream",
     "text": [
      "train-epoch-loss:0.2863 valid-epoch-loss:0.4335 train-beta4-score:0.7258 valid-beta4-score:0.3817\n"
     ]
    },
    {
     "name": "stderr",
     "output_type": "stream",
     "text": [
      "Epoch 324/1000 [Training]: 100%|██████████| 100/100 [01:06<00:00,  1.51it/s, loss=0.3203]\n",
      "Epoch 324/1000 [Validation]: 100%|██████████| 2/2 [00:00<00:00,  3.27it/s, loss=0.5659]\n"
     ]
    },
    {
     "name": "stdout",
     "output_type": "stream",
     "text": [
      "train-epoch-loss:0.3203 valid-epoch-loss:0.5659 train-beta4-score:0.7451 valid-beta4-score:0.3924\n"
     ]
    },
    {
     "name": "stderr",
     "output_type": "stream",
     "text": [
      "Epoch 325/1000 [Training]: 100%|██████████| 100/100 [01:10<00:00,  1.43it/s, loss=0.2918]\n",
      "Epoch 325/1000 [Validation]: 100%|██████████| 2/2 [00:00<00:00,  3.21it/s, loss=0.6264]\n"
     ]
    },
    {
     "name": "stdout",
     "output_type": "stream",
     "text": [
      "train-epoch-loss:0.2918 valid-epoch-loss:0.6264 train-beta4-score:0.7529 valid-beta4-score:0.4447\n"
     ]
    },
    {
     "name": "stderr",
     "output_type": "stream",
     "text": [
      "Epoch 326/1000 [Training]: 100%|██████████| 100/100 [01:09<00:00,  1.45it/s, loss=0.2860]\n",
      "Epoch 326/1000 [Validation]: 100%|██████████| 2/2 [00:00<00:00,  3.24it/s, loss=0.5293]\n"
     ]
    },
    {
     "name": "stdout",
     "output_type": "stream",
     "text": [
      "train-epoch-loss:0.2860 valid-epoch-loss:0.5293 train-beta4-score:0.7264 valid-beta4-score:0.3960\n"
     ]
    },
    {
     "name": "stderr",
     "output_type": "stream",
     "text": [
      "Epoch 327/1000 [Training]: 100%|██████████| 100/100 [01:08<00:00,  1.46it/s, loss=0.3031]\n",
      "Epoch 327/1000 [Validation]: 100%|██████████| 2/2 [00:00<00:00,  3.26it/s, loss=0.4500]\n"
     ]
    },
    {
     "name": "stdout",
     "output_type": "stream",
     "text": [
      "train-epoch-loss:0.3031 valid-epoch-loss:0.4500 train-beta4-score:0.7387 valid-beta4-score:0.4285\n"
     ]
    },
    {
     "name": "stderr",
     "output_type": "stream",
     "text": [
      "Epoch 328/1000 [Training]: 100%|██████████| 100/100 [01:07<00:00,  1.49it/s, loss=0.3087]\n",
      "Epoch 328/1000 [Validation]: 100%|██████████| 2/2 [00:00<00:00,  3.27it/s, loss=0.4140]\n"
     ]
    },
    {
     "name": "stdout",
     "output_type": "stream",
     "text": [
      "train-epoch-loss:0.3087 valid-epoch-loss:0.4140 train-beta4-score:0.7689 valid-beta4-score:0.4256\n"
     ]
    },
    {
     "name": "stderr",
     "output_type": "stream",
     "text": [
      "Epoch 329/1000 [Training]: 100%|██████████| 100/100 [01:09<00:00,  1.45it/s, loss=0.3249]\n",
      "Epoch 329/1000 [Validation]: 100%|██████████| 2/2 [00:00<00:00,  3.33it/s, loss=0.5429]\n"
     ]
    },
    {
     "name": "stdout",
     "output_type": "stream",
     "text": [
      "train-epoch-loss:0.3249 valid-epoch-loss:0.5429 train-beta4-score:0.7745 valid-beta4-score:0.4151\n"
     ]
    },
    {
     "name": "stderr",
     "output_type": "stream",
     "text": [
      "Epoch 330/1000 [Training]: 100%|██████████| 100/100 [01:09<00:00,  1.45it/s, loss=0.3016]\n",
      "Epoch 330/1000 [Validation]: 100%|██████████| 2/2 [00:00<00:00,  3.27it/s, loss=0.6209]\n"
     ]
    },
    {
     "name": "stdout",
     "output_type": "stream",
     "text": [
      "train-epoch-loss:0.3016 valid-epoch-loss:0.6209 train-beta4-score:0.7035 valid-beta4-score:0.3401\n"
     ]
    },
    {
     "name": "stderr",
     "output_type": "stream",
     "text": [
      "Epoch 331/1000 [Training]: 100%|██████████| 100/100 [01:09<00:00,  1.43it/s, loss=0.3433]\n",
      "Epoch 331/1000 [Validation]: 100%|██████████| 2/2 [00:00<00:00,  3.23it/s, loss=0.5461]\n"
     ]
    },
    {
     "name": "stdout",
     "output_type": "stream",
     "text": [
      "train-epoch-loss:0.3433 valid-epoch-loss:0.5461 train-beta4-score:0.7011 valid-beta4-score:0.3337\n"
     ]
    },
    {
     "name": "stderr",
     "output_type": "stream",
     "text": [
      "Epoch 332/1000 [Training]: 100%|██████████| 100/100 [01:09<00:00,  1.44it/s, loss=0.3413]\n",
      "Epoch 332/1000 [Validation]: 100%|██████████| 2/2 [00:00<00:00,  3.29it/s, loss=0.4746]\n"
     ]
    },
    {
     "name": "stdout",
     "output_type": "stream",
     "text": [
      "train-epoch-loss:0.3413 valid-epoch-loss:0.4746 train-beta4-score:0.7043 valid-beta4-score:0.3762\n"
     ]
    },
    {
     "name": "stderr",
     "output_type": "stream",
     "text": [
      "Epoch 333/1000 [Training]: 100%|██████████| 100/100 [01:11<00:00,  1.40it/s, loss=0.3262]\n",
      "Epoch 333/1000 [Validation]: 100%|██████████| 2/2 [00:00<00:00,  3.26it/s, loss=0.4394]\n"
     ]
    },
    {
     "name": "stdout",
     "output_type": "stream",
     "text": [
      "train-epoch-loss:0.3262 valid-epoch-loss:0.4394 train-beta4-score:0.7534 valid-beta4-score:0.3940\n"
     ]
    },
    {
     "name": "stderr",
     "output_type": "stream",
     "text": [
      "Epoch 334/1000 [Training]: 100%|██████████| 100/100 [01:10<00:00,  1.42it/s, loss=0.3310]\n",
      "Epoch 334/1000 [Validation]: 100%|██████████| 2/2 [00:00<00:00,  3.26it/s, loss=0.5177]\n"
     ]
    },
    {
     "name": "stdout",
     "output_type": "stream",
     "text": [
      "train-epoch-loss:0.3310 valid-epoch-loss:0.5177 train-beta4-score:0.7508 valid-beta4-score:0.4219\n"
     ]
    },
    {
     "name": "stderr",
     "output_type": "stream",
     "text": [
      "Epoch 335/1000 [Training]: 100%|██████████| 100/100 [01:08<00:00,  1.46it/s, loss=0.2888]\n",
      "Epoch 335/1000 [Validation]: 100%|██████████| 2/2 [00:00<00:00,  3.28it/s, loss=0.3020]\n"
     ]
    },
    {
     "name": "stdout",
     "output_type": "stream",
     "text": [
      "train-epoch-loss:0.2888 valid-epoch-loss:0.3020 train-beta4-score:0.7464 valid-beta4-score:0.3619\n"
     ]
    },
    {
     "name": "stderr",
     "output_type": "stream",
     "text": [
      "Epoch 336/1000 [Training]: 100%|██████████| 100/100 [01:08<00:00,  1.46it/s, loss=0.3011]\n",
      "Epoch 336/1000 [Validation]: 100%|██████████| 2/2 [00:00<00:00,  3.18it/s, loss=0.4938]\n"
     ]
    },
    {
     "name": "stdout",
     "output_type": "stream",
     "text": [
      "train-epoch-loss:0.3011 valid-epoch-loss:0.4938 train-beta4-score:0.7607 valid-beta4-score:0.4126\n"
     ]
    },
    {
     "name": "stderr",
     "output_type": "stream",
     "text": [
      "Epoch 337/1000 [Training]: 100%|██████████| 100/100 [01:07<00:00,  1.49it/s, loss=0.3177]\n",
      "Epoch 337/1000 [Validation]: 100%|██████████| 2/2 [00:00<00:00,  3.32it/s, loss=0.4745]\n"
     ]
    },
    {
     "name": "stdout",
     "output_type": "stream",
     "text": [
      "train-epoch-loss:0.3177 valid-epoch-loss:0.4745 train-beta4-score:0.7781 valid-beta4-score:0.4107\n"
     ]
    },
    {
     "name": "stderr",
     "output_type": "stream",
     "text": [
      "Epoch 338/1000 [Training]: 100%|██████████| 100/100 [01:09<00:00,  1.44it/s, loss=0.2961]\n",
      "Epoch 338/1000 [Validation]: 100%|██████████| 2/2 [00:00<00:00,  3.29it/s, loss=0.5117]\n"
     ]
    },
    {
     "name": "stdout",
     "output_type": "stream",
     "text": [
      "train-epoch-loss:0.2961 valid-epoch-loss:0.5117 train-beta4-score:0.7646 valid-beta4-score:0.3839\n"
     ]
    },
    {
     "name": "stderr",
     "output_type": "stream",
     "text": [
      "Epoch 339/1000 [Training]: 100%|██████████| 100/100 [01:06<00:00,  1.51it/s, loss=0.3037]\n",
      "Epoch 339/1000 [Validation]: 100%|██████████| 2/2 [00:00<00:00,  3.33it/s, loss=0.5955]\n"
     ]
    },
    {
     "name": "stdout",
     "output_type": "stream",
     "text": [
      "train-epoch-loss:0.3037 valid-epoch-loss:0.5955 train-beta4-score:0.7456 valid-beta4-score:0.4028\n"
     ]
    },
    {
     "name": "stderr",
     "output_type": "stream",
     "text": [
      "Epoch 340/1000 [Training]: 100%|██████████| 100/100 [01:07<00:00,  1.49it/s, loss=0.2836]\n",
      "Epoch 340/1000 [Validation]: 100%|██████████| 2/2 [00:00<00:00,  3.26it/s, loss=0.5661]\n"
     ]
    },
    {
     "name": "stdout",
     "output_type": "stream",
     "text": [
      "train-epoch-loss:0.2836 valid-epoch-loss:0.5661 train-beta4-score:0.7366 valid-beta4-score:0.3702\n"
     ]
    },
    {
     "name": "stderr",
     "output_type": "stream",
     "text": [
      "Epoch 341/1000 [Training]: 100%|██████████| 100/100 [01:10<00:00,  1.41it/s, loss=0.3046]\n",
      "Epoch 341/1000 [Validation]: 100%|██████████| 2/2 [00:00<00:00,  3.24it/s, loss=0.5329]\n"
     ]
    },
    {
     "name": "stdout",
     "output_type": "stream",
     "text": [
      "train-epoch-loss:0.3046 valid-epoch-loss:0.5329 train-beta4-score:0.7659 valid-beta4-score:0.3984\n"
     ]
    },
    {
     "name": "stderr",
     "output_type": "stream",
     "text": [
      "Epoch 342/1000 [Training]: 100%|██████████| 100/100 [01:08<00:00,  1.46it/s, loss=0.2913]\n",
      "Epoch 342/1000 [Validation]: 100%|██████████| 2/2 [00:00<00:00,  3.28it/s, loss=0.3310]\n"
     ]
    },
    {
     "name": "stdout",
     "output_type": "stream",
     "text": [
      "train-epoch-loss:0.2913 valid-epoch-loss:0.3310 train-beta4-score:0.7164 valid-beta4-score:0.3563\n"
     ]
    },
    {
     "name": "stderr",
     "output_type": "stream",
     "text": [
      "Epoch 343/1000 [Training]: 100%|██████████| 100/100 [01:10<00:00,  1.42it/s, loss=0.2892]\n",
      "Epoch 343/1000 [Validation]: 100%|██████████| 2/2 [00:00<00:00,  3.03it/s, loss=0.3356]\n"
     ]
    },
    {
     "name": "stdout",
     "output_type": "stream",
     "text": [
      "train-epoch-loss:0.2892 valid-epoch-loss:0.3356 train-beta4-score:0.7667 valid-beta4-score:0.4121\n"
     ]
    },
    {
     "name": "stderr",
     "output_type": "stream",
     "text": [
      "Epoch 344/1000 [Training]: 100%|██████████| 100/100 [01:07<00:00,  1.48it/s, loss=0.3009]\n",
      "Epoch 344/1000 [Validation]: 100%|██████████| 2/2 [00:00<00:00,  3.15it/s, loss=0.5845]\n"
     ]
    },
    {
     "name": "stdout",
     "output_type": "stream",
     "text": [
      "train-epoch-loss:0.3009 valid-epoch-loss:0.5845 train-beta4-score:0.7751 valid-beta4-score:0.4588\n"
     ]
    },
    {
     "name": "stderr",
     "output_type": "stream",
     "text": [
      "Epoch 345/1000 [Training]: 100%|██████████| 100/100 [01:08<00:00,  1.46it/s, loss=0.2879]\n",
      "Epoch 345/1000 [Validation]: 100%|██████████| 2/2 [00:00<00:00,  3.21it/s, loss=0.1628]\n"
     ]
    },
    {
     "name": "stdout",
     "output_type": "stream",
     "text": [
      "train-epoch-loss:0.2879 valid-epoch-loss:0.1628 train-beta4-score:0.7729 valid-beta4-score:0.4496\n"
     ]
    },
    {
     "name": "stderr",
     "output_type": "stream",
     "text": [
      "Epoch 346/1000 [Training]: 100%|██████████| 100/100 [01:09<00:00,  1.44it/s, loss=0.3120]\n",
      "Epoch 346/1000 [Validation]: 100%|██████████| 2/2 [00:00<00:00,  3.19it/s, loss=0.6445]\n"
     ]
    },
    {
     "name": "stdout",
     "output_type": "stream",
     "text": [
      "train-epoch-loss:0.3120 valid-epoch-loss:0.6445 train-beta4-score:0.7642 valid-beta4-score:0.4113\n"
     ]
    },
    {
     "name": "stderr",
     "output_type": "stream",
     "text": [
      "Epoch 347/1000 [Training]: 100%|██████████| 100/100 [01:07<00:00,  1.47it/s, loss=0.2974]\n",
      "Epoch 347/1000 [Validation]: 100%|██████████| 2/2 [00:00<00:00,  3.28it/s, loss=0.5302]\n"
     ]
    },
    {
     "name": "stdout",
     "output_type": "stream",
     "text": [
      "train-epoch-loss:0.2974 valid-epoch-loss:0.5302 train-beta4-score:0.7681 valid-beta4-score:0.4002\n"
     ]
    },
    {
     "name": "stderr",
     "output_type": "stream",
     "text": [
      "Epoch 348/1000 [Training]: 100%|██████████| 100/100 [01:12<00:00,  1.39it/s, loss=0.3006]\n",
      "Epoch 348/1000 [Validation]: 100%|██████████| 2/2 [00:00<00:00,  3.13it/s, loss=0.4344]\n"
     ]
    },
    {
     "name": "stdout",
     "output_type": "stream",
     "text": [
      "train-epoch-loss:0.3006 valid-epoch-loss:0.4344 train-beta4-score:0.7672 valid-beta4-score:0.4509\n"
     ]
    },
    {
     "name": "stderr",
     "output_type": "stream",
     "text": [
      "Epoch 349/1000 [Training]: 100%|██████████| 100/100 [01:07<00:00,  1.49it/s, loss=0.2874]\n",
      "Epoch 349/1000 [Validation]: 100%|██████████| 2/2 [00:00<00:00,  3.26it/s, loss=0.5415]\n"
     ]
    },
    {
     "name": "stdout",
     "output_type": "stream",
     "text": [
      "train-epoch-loss:0.2874 valid-epoch-loss:0.5415 train-beta4-score:0.6970 valid-beta4-score:0.3497\n"
     ]
    },
    {
     "name": "stderr",
     "output_type": "stream",
     "text": [
      "Epoch 350/1000 [Training]: 100%|██████████| 100/100 [01:09<00:00,  1.45it/s, loss=0.3194]\n",
      "Epoch 350/1000 [Validation]: 100%|██████████| 2/2 [00:00<00:00,  3.23it/s, loss=0.3894]\n"
     ]
    },
    {
     "name": "stdout",
     "output_type": "stream",
     "text": [
      "train-epoch-loss:0.3194 valid-epoch-loss:0.3894 train-beta4-score:0.6683 valid-beta4-score:0.3376\n"
     ]
    },
    {
     "name": "stderr",
     "output_type": "stream",
     "text": [
      "Epoch 351/1000 [Training]: 100%|██████████| 100/100 [01:10<00:00,  1.41it/s, loss=0.2798]\n",
      "Epoch 351/1000 [Validation]: 100%|██████████| 2/2 [00:00<00:00,  3.32it/s, loss=0.4798]\n"
     ]
    },
    {
     "name": "stdout",
     "output_type": "stream",
     "text": [
      "train-epoch-loss:0.2798 valid-epoch-loss:0.4798 train-beta4-score:0.7476 valid-beta4-score:0.3964\n"
     ]
    },
    {
     "name": "stderr",
     "output_type": "stream",
     "text": [
      "Epoch 352/1000 [Training]: 100%|██████████| 100/100 [01:08<00:00,  1.46it/s, loss=0.2749]\n",
      "Epoch 352/1000 [Validation]: 100%|██████████| 2/2 [00:00<00:00,  3.22it/s, loss=0.2030]\n"
     ]
    },
    {
     "name": "stdout",
     "output_type": "stream",
     "text": [
      "train-epoch-loss:0.2749 valid-epoch-loss:0.2030 train-beta4-score:0.7483 valid-beta4-score:0.3868\n"
     ]
    },
    {
     "name": "stderr",
     "output_type": "stream",
     "text": [
      "Epoch 353/1000 [Training]: 100%|██████████| 100/100 [01:08<00:00,  1.46it/s, loss=0.3084]\n",
      "Epoch 353/1000 [Validation]: 100%|██████████| 2/2 [00:00<00:00,  3.21it/s, loss=0.5326]\n"
     ]
    },
    {
     "name": "stdout",
     "output_type": "stream",
     "text": [
      "train-epoch-loss:0.3084 valid-epoch-loss:0.5326 train-beta4-score:0.7523 valid-beta4-score:0.3878\n"
     ]
    },
    {
     "name": "stderr",
     "output_type": "stream",
     "text": [
      "Epoch 354/1000 [Training]: 100%|██████████| 100/100 [01:07<00:00,  1.47it/s, loss=0.3296]\n",
      "Epoch 354/1000 [Validation]: 100%|██████████| 2/2 [00:00<00:00,  3.17it/s, loss=0.3798]\n"
     ]
    },
    {
     "name": "stdout",
     "output_type": "stream",
     "text": [
      "train-epoch-loss:0.3296 valid-epoch-loss:0.3798 train-beta4-score:0.7365 valid-beta4-score:0.3618\n"
     ]
    },
    {
     "name": "stderr",
     "output_type": "stream",
     "text": [
      "Epoch 355/1000 [Training]: 100%|██████████| 100/100 [01:10<00:00,  1.41it/s, loss=0.3276]\n",
      "Epoch 355/1000 [Validation]: 100%|██████████| 2/2 [00:00<00:00,  3.23it/s, loss=0.5383]\n"
     ]
    },
    {
     "name": "stdout",
     "output_type": "stream",
     "text": [
      "train-epoch-loss:0.3276 valid-epoch-loss:0.5383 train-beta4-score:0.6244 valid-beta4-score:0.3276\n"
     ]
    },
    {
     "name": "stderr",
     "output_type": "stream",
     "text": [
      "Epoch 356/1000 [Training]: 100%|██████████| 100/100 [01:11<00:00,  1.41it/s, loss=0.3247]\n",
      "Epoch 356/1000 [Validation]: 100%|██████████| 2/2 [00:00<00:00,  3.26it/s, loss=0.5903]\n"
     ]
    },
    {
     "name": "stdout",
     "output_type": "stream",
     "text": [
      "train-epoch-loss:0.3247 valid-epoch-loss:0.5903 train-beta4-score:0.7221 valid-beta4-score:0.3969\n"
     ]
    },
    {
     "name": "stderr",
     "output_type": "stream",
     "text": [
      "Epoch 357/1000 [Training]: 100%|██████████| 100/100 [01:07<00:00,  1.48it/s, loss=0.3056]\n",
      "Epoch 357/1000 [Validation]: 100%|██████████| 2/2 [00:00<00:00,  3.23it/s, loss=0.5018]\n"
     ]
    },
    {
     "name": "stdout",
     "output_type": "stream",
     "text": [
      "train-epoch-loss:0.3056 valid-epoch-loss:0.5018 train-beta4-score:0.5838 valid-beta4-score:0.3059\n"
     ]
    },
    {
     "name": "stderr",
     "output_type": "stream",
     "text": [
      "Epoch 358/1000 [Training]: 100%|██████████| 100/100 [01:09<00:00,  1.45it/s, loss=0.3082]\n",
      "Epoch 358/1000 [Validation]: 100%|██████████| 2/2 [00:00<00:00,  3.29it/s, loss=0.4612]\n"
     ]
    },
    {
     "name": "stdout",
     "output_type": "stream",
     "text": [
      "train-epoch-loss:0.3082 valid-epoch-loss:0.4612 train-beta4-score:0.6952 valid-beta4-score:0.3546\n"
     ]
    },
    {
     "name": "stderr",
     "output_type": "stream",
     "text": [
      "Epoch 359/1000 [Training]: 100%|██████████| 100/100 [01:09<00:00,  1.43it/s, loss=0.3166]\n",
      "Epoch 359/1000 [Validation]: 100%|██████████| 2/2 [00:00<00:00,  3.24it/s, loss=0.4705]\n"
     ]
    },
    {
     "name": "stdout",
     "output_type": "stream",
     "text": [
      "train-epoch-loss:0.3166 valid-epoch-loss:0.4705 train-beta4-score:0.7734 valid-beta4-score:0.4722\n"
     ]
    },
    {
     "name": "stderr",
     "output_type": "stream",
     "text": [
      "Epoch 360/1000 [Training]: 100%|██████████| 100/100 [01:08<00:00,  1.46it/s, loss=0.3162]\n",
      "Epoch 360/1000 [Validation]: 100%|██████████| 2/2 [00:00<00:00,  3.30it/s, loss=0.5439]\n"
     ]
    },
    {
     "name": "stdout",
     "output_type": "stream",
     "text": [
      "train-epoch-loss:0.3162 valid-epoch-loss:0.5439 train-beta4-score:0.7534 valid-beta4-score:0.4098\n"
     ]
    },
    {
     "name": "stderr",
     "output_type": "stream",
     "text": [
      "Epoch 361/1000 [Training]: 100%|██████████| 100/100 [01:06<00:00,  1.49it/s, loss=0.3038]\n",
      "Epoch 361/1000 [Validation]: 100%|██████████| 2/2 [00:00<00:00,  3.30it/s, loss=0.2190]\n"
     ]
    },
    {
     "name": "stdout",
     "output_type": "stream",
     "text": [
      "train-epoch-loss:0.3038 valid-epoch-loss:0.2190 train-beta4-score:0.6626 valid-beta4-score:0.3453\n"
     ]
    },
    {
     "name": "stderr",
     "output_type": "stream",
     "text": [
      "Epoch 362/1000 [Training]: 100%|██████████| 100/100 [01:09<00:00,  1.43it/s, loss=0.3284]\n",
      "Epoch 362/1000 [Validation]: 100%|██████████| 2/2 [00:00<00:00,  3.21it/s, loss=0.5420]\n"
     ]
    },
    {
     "name": "stdout",
     "output_type": "stream",
     "text": [
      "train-epoch-loss:0.3284 valid-epoch-loss:0.5420 train-beta4-score:0.7573 valid-beta4-score:0.4642\n"
     ]
    },
    {
     "name": "stderr",
     "output_type": "stream",
     "text": [
      "Epoch 363/1000 [Training]: 100%|██████████| 100/100 [01:09<00:00,  1.44it/s, loss=0.3434]\n",
      "Epoch 363/1000 [Validation]: 100%|██████████| 2/2 [00:00<00:00,  3.25it/s, loss=0.6165]\n"
     ]
    },
    {
     "name": "stdout",
     "output_type": "stream",
     "text": [
      "train-epoch-loss:0.3434 valid-epoch-loss:0.6165 train-beta4-score:0.6814 valid-beta4-score:0.3772\n"
     ]
    },
    {
     "name": "stderr",
     "output_type": "stream",
     "text": [
      "Epoch 364/1000 [Training]: 100%|██████████| 100/100 [01:08<00:00,  1.46it/s, loss=0.2731]\n",
      "Epoch 364/1000 [Validation]: 100%|██████████| 2/2 [00:00<00:00,  3.19it/s, loss=0.2669]\n"
     ]
    },
    {
     "name": "stdout",
     "output_type": "stream",
     "text": [
      "train-epoch-loss:0.2731 valid-epoch-loss:0.2669 train-beta4-score:0.7109 valid-beta4-score:0.3735\n"
     ]
    },
    {
     "name": "stderr",
     "output_type": "stream",
     "text": [
      "Epoch 365/1000 [Training]: 100%|██████████| 100/100 [01:10<00:00,  1.42it/s, loss=0.3432]\n",
      "Epoch 365/1000 [Validation]: 100%|██████████| 2/2 [00:00<00:00,  3.26it/s, loss=0.5969]\n"
     ]
    },
    {
     "name": "stdout",
     "output_type": "stream",
     "text": [
      "train-epoch-loss:0.3432 valid-epoch-loss:0.5969 train-beta4-score:0.7392 valid-beta4-score:0.3720\n"
     ]
    },
    {
     "name": "stderr",
     "output_type": "stream",
     "text": [
      "Epoch 366/1000 [Training]: 100%|██████████| 100/100 [01:07<00:00,  1.47it/s, loss=0.2900]\n",
      "Epoch 366/1000 [Validation]: 100%|██████████| 2/2 [00:00<00:00,  3.29it/s, loss=0.2940]\n"
     ]
    },
    {
     "name": "stdout",
     "output_type": "stream",
     "text": [
      "train-epoch-loss:0.2900 valid-epoch-loss:0.2940 train-beta4-score:0.7488 valid-beta4-score:0.3743\n"
     ]
    },
    {
     "name": "stderr",
     "output_type": "stream",
     "text": [
      "Epoch 367/1000 [Training]: 100%|██████████| 100/100 [01:09<00:00,  1.44it/s, loss=0.3079]\n",
      "Epoch 367/1000 [Validation]: 100%|██████████| 2/2 [00:00<00:00,  3.16it/s, loss=0.4033]\n"
     ]
    },
    {
     "name": "stdout",
     "output_type": "stream",
     "text": [
      "train-epoch-loss:0.3079 valid-epoch-loss:0.4033 train-beta4-score:0.7699 valid-beta4-score:0.4317\n"
     ]
    },
    {
     "name": "stderr",
     "output_type": "stream",
     "text": [
      "Epoch 368/1000 [Training]: 100%|██████████| 100/100 [01:08<00:00,  1.45it/s, loss=0.3168]\n",
      "Epoch 368/1000 [Validation]: 100%|██████████| 2/2 [00:00<00:00,  3.23it/s, loss=0.5856]\n"
     ]
    },
    {
     "name": "stdout",
     "output_type": "stream",
     "text": [
      "train-epoch-loss:0.3168 valid-epoch-loss:0.5856 train-beta4-score:0.7267 valid-beta4-score:0.3914\n"
     ]
    },
    {
     "name": "stderr",
     "output_type": "stream",
     "text": [
      "Epoch 369/1000 [Training]: 100%|██████████| 100/100 [01:10<00:00,  1.42it/s, loss=0.3009]\n",
      "Epoch 369/1000 [Validation]: 100%|██████████| 2/2 [00:00<00:00,  3.22it/s, loss=0.5859]\n"
     ]
    },
    {
     "name": "stdout",
     "output_type": "stream",
     "text": [
      "train-epoch-loss:0.3009 valid-epoch-loss:0.5859 train-beta4-score:0.7593 valid-beta4-score:0.4144\n"
     ]
    },
    {
     "name": "stderr",
     "output_type": "stream",
     "text": [
      "Epoch 370/1000 [Training]: 100%|██████████| 100/100 [01:09<00:00,  1.43it/s, loss=0.3126]\n",
      "Epoch 370/1000 [Validation]: 100%|██████████| 2/2 [00:00<00:00,  3.27it/s, loss=0.2251]\n"
     ]
    },
    {
     "name": "stdout",
     "output_type": "stream",
     "text": [
      "train-epoch-loss:0.3126 valid-epoch-loss:0.2251 train-beta4-score:0.7793 valid-beta4-score:0.4683\n"
     ]
    },
    {
     "name": "stderr",
     "output_type": "stream",
     "text": [
      "Epoch 371/1000 [Training]: 100%|██████████| 100/100 [01:11<00:00,  1.40it/s, loss=0.2741]\n",
      "Epoch 371/1000 [Validation]: 100%|██████████| 2/2 [00:00<00:00,  3.14it/s, loss=0.6080]\n"
     ]
    },
    {
     "name": "stdout",
     "output_type": "stream",
     "text": [
      "train-epoch-loss:0.2741 valid-epoch-loss:0.6080 train-beta4-score:0.7679 valid-beta4-score:0.4306\n"
     ]
    },
    {
     "name": "stderr",
     "output_type": "stream",
     "text": [
      "Epoch 372/1000 [Training]: 100%|██████████| 100/100 [01:10<00:00,  1.43it/s, loss=0.3044]\n",
      "Epoch 372/1000 [Validation]: 100%|██████████| 2/2 [00:00<00:00,  3.22it/s, loss=0.5518]\n"
     ]
    },
    {
     "name": "stdout",
     "output_type": "stream",
     "text": [
      "train-epoch-loss:0.3044 valid-epoch-loss:0.5518 train-beta4-score:0.7686 valid-beta4-score:0.4706\n"
     ]
    },
    {
     "name": "stderr",
     "output_type": "stream",
     "text": [
      "Epoch 373/1000 [Training]: 100%|██████████| 100/100 [01:08<00:00,  1.45it/s, loss=0.2985]\n",
      "Epoch 373/1000 [Validation]: 100%|██████████| 2/2 [00:00<00:00,  3.23it/s, loss=0.4372]\n"
     ]
    },
    {
     "name": "stdout",
     "output_type": "stream",
     "text": [
      "train-epoch-loss:0.2985 valid-epoch-loss:0.4372 train-beta4-score:0.7508 valid-beta4-score:0.4192\n"
     ]
    },
    {
     "name": "stderr",
     "output_type": "stream",
     "text": [
      "Epoch 374/1000 [Training]: 100%|██████████| 100/100 [01:09<00:00,  1.44it/s, loss=0.3161]\n",
      "Epoch 374/1000 [Validation]: 100%|██████████| 2/2 [00:00<00:00,  3.27it/s, loss=0.5449]\n"
     ]
    },
    {
     "name": "stdout",
     "output_type": "stream",
     "text": [
      "train-epoch-loss:0.3161 valid-epoch-loss:0.5449 train-beta4-score:0.7095 valid-beta4-score:0.3731\n"
     ]
    },
    {
     "name": "stderr",
     "output_type": "stream",
     "text": [
      "Epoch 375/1000 [Training]: 100%|██████████| 100/100 [01:08<00:00,  1.45it/s, loss=0.3061]\n",
      "Epoch 375/1000 [Validation]: 100%|██████████| 2/2 [00:00<00:00,  3.30it/s, loss=0.3269]\n"
     ]
    },
    {
     "name": "stdout",
     "output_type": "stream",
     "text": [
      "train-epoch-loss:0.3061 valid-epoch-loss:0.3269 train-beta4-score:0.7229 valid-beta4-score:0.4060\n"
     ]
    },
    {
     "name": "stderr",
     "output_type": "stream",
     "text": [
      "Epoch 376/1000 [Training]: 100%|██████████| 100/100 [01:07<00:00,  1.48it/s, loss=0.3171]\n",
      "Epoch 376/1000 [Validation]: 100%|██████████| 2/2 [00:00<00:00,  3.27it/s, loss=0.4195]\n"
     ]
    },
    {
     "name": "stdout",
     "output_type": "stream",
     "text": [
      "train-epoch-loss:0.3171 valid-epoch-loss:0.4195 train-beta4-score:0.7629 valid-beta4-score:0.4074\n"
     ]
    },
    {
     "name": "stderr",
     "output_type": "stream",
     "text": [
      "Epoch 377/1000 [Training]: 100%|██████████| 100/100 [01:07<00:00,  1.48it/s, loss=0.2802]\n",
      "Epoch 377/1000 [Validation]: 100%|██████████| 2/2 [00:00<00:00,  3.21it/s, loss=0.5152]\n"
     ]
    },
    {
     "name": "stdout",
     "output_type": "stream",
     "text": [
      "train-epoch-loss:0.2802 valid-epoch-loss:0.5152 train-beta4-score:0.7425 valid-beta4-score:0.3766\n"
     ]
    },
    {
     "name": "stderr",
     "output_type": "stream",
     "text": [
      "Epoch 378/1000 [Training]: 100%|██████████| 100/100 [01:09<00:00,  1.45it/s, loss=0.2959]\n",
      "Epoch 378/1000 [Validation]: 100%|██████████| 2/2 [00:00<00:00,  3.25it/s, loss=0.4131]\n"
     ]
    },
    {
     "name": "stdout",
     "output_type": "stream",
     "text": [
      "train-epoch-loss:0.2959 valid-epoch-loss:0.4131 train-beta4-score:0.7639 valid-beta4-score:0.4162\n"
     ]
    },
    {
     "name": "stderr",
     "output_type": "stream",
     "text": [
      "Epoch 379/1000 [Training]: 100%|██████████| 100/100 [01:08<00:00,  1.46it/s, loss=0.2860]\n",
      "Epoch 379/1000 [Validation]: 100%|██████████| 2/2 [00:00<00:00,  3.29it/s, loss=0.5422]\n"
     ]
    },
    {
     "name": "stdout",
     "output_type": "stream",
     "text": [
      "train-epoch-loss:0.2860 valid-epoch-loss:0.5422 train-beta4-score:0.7748 valid-beta4-score:0.4210\n"
     ]
    },
    {
     "name": "stderr",
     "output_type": "stream",
     "text": [
      "Epoch 380/1000 [Training]: 100%|██████████| 100/100 [01:10<00:00,  1.41it/s, loss=0.3400]\n",
      "Epoch 380/1000 [Validation]: 100%|██████████| 2/2 [00:00<00:00,  3.21it/s, loss=0.4755]\n"
     ]
    },
    {
     "name": "stdout",
     "output_type": "stream",
     "text": [
      "train-epoch-loss:0.3400 valid-epoch-loss:0.4755 train-beta4-score:0.7530 valid-beta4-score:0.4391\n"
     ]
    },
    {
     "name": "stderr",
     "output_type": "stream",
     "text": [
      "Epoch 381/1000 [Training]: 100%|██████████| 100/100 [01:09<00:00,  1.43it/s, loss=0.2873]\n",
      "Epoch 381/1000 [Validation]: 100%|██████████| 2/2 [00:00<00:00,  3.24it/s, loss=0.2827]\n"
     ]
    },
    {
     "name": "stdout",
     "output_type": "stream",
     "text": [
      "train-epoch-loss:0.2873 valid-epoch-loss:0.2827 train-beta4-score:0.7366 valid-beta4-score:0.4040\n"
     ]
    },
    {
     "name": "stderr",
     "output_type": "stream",
     "text": [
      "Epoch 382/1000 [Training]: 100%|██████████| 100/100 [01:08<00:00,  1.47it/s, loss=0.2876]\n",
      "Epoch 382/1000 [Validation]: 100%|██████████| 2/2 [00:00<00:00,  3.26it/s, loss=0.6292]\n"
     ]
    },
    {
     "name": "stdout",
     "output_type": "stream",
     "text": [
      "train-epoch-loss:0.2876 valid-epoch-loss:0.6292 train-beta4-score:0.7213 valid-beta4-score:0.3676\n"
     ]
    },
    {
     "name": "stderr",
     "output_type": "stream",
     "text": [
      "Epoch 383/1000 [Training]: 100%|██████████| 100/100 [01:09<00:00,  1.44it/s, loss=0.3148]\n",
      "Epoch 383/1000 [Validation]: 100%|██████████| 2/2 [00:00<00:00,  3.28it/s, loss=0.5693]\n"
     ]
    },
    {
     "name": "stdout",
     "output_type": "stream",
     "text": [
      "train-epoch-loss:0.3148 valid-epoch-loss:0.5693 train-beta4-score:0.7020 valid-beta4-score:0.3632\n"
     ]
    },
    {
     "name": "stderr",
     "output_type": "stream",
     "text": [
      "Epoch 384/1000 [Training]: 100%|██████████| 100/100 [01:10<00:00,  1.42it/s, loss=0.3166]\n",
      "Epoch 384/1000 [Validation]: 100%|██████████| 2/2 [00:00<00:00,  3.24it/s, loss=0.5838]\n"
     ]
    },
    {
     "name": "stdout",
     "output_type": "stream",
     "text": [
      "train-epoch-loss:0.3166 valid-epoch-loss:0.5838 train-beta4-score:0.6323 valid-beta4-score:0.3234\n"
     ]
    },
    {
     "name": "stderr",
     "output_type": "stream",
     "text": [
      "Epoch 385/1000 [Training]: 100%|██████████| 100/100 [01:08<00:00,  1.45it/s, loss=0.2984]\n",
      "Epoch 385/1000 [Validation]: 100%|██████████| 2/2 [00:00<00:00,  3.24it/s, loss=0.4553]\n"
     ]
    },
    {
     "name": "stdout",
     "output_type": "stream",
     "text": [
      "train-epoch-loss:0.2984 valid-epoch-loss:0.4553 train-beta4-score:0.6885 valid-beta4-score:0.3729\n"
     ]
    },
    {
     "name": "stderr",
     "output_type": "stream",
     "text": [
      "Epoch 386/1000 [Training]: 100%|██████████| 100/100 [01:08<00:00,  1.45it/s, loss=0.2819]\n",
      "Epoch 386/1000 [Validation]: 100%|██████████| 2/2 [00:00<00:00,  3.27it/s, loss=0.5483]\n"
     ]
    },
    {
     "name": "stdout",
     "output_type": "stream",
     "text": [
      "train-epoch-loss:0.2819 valid-epoch-loss:0.5483 train-beta4-score:0.7231 valid-beta4-score:0.3963\n"
     ]
    },
    {
     "name": "stderr",
     "output_type": "stream",
     "text": [
      "Epoch 387/1000 [Training]: 100%|██████████| 100/100 [01:09<00:00,  1.43it/s, loss=0.2947]\n",
      "Epoch 387/1000 [Validation]: 100%|██████████| 2/2 [00:00<00:00,  3.30it/s, loss=0.3939]\n"
     ]
    },
    {
     "name": "stdout",
     "output_type": "stream",
     "text": [
      "train-epoch-loss:0.2947 valid-epoch-loss:0.3939 train-beta4-score:0.7627 valid-beta4-score:0.4501\n"
     ]
    },
    {
     "name": "stderr",
     "output_type": "stream",
     "text": [
      "Epoch 388/1000 [Training]: 100%|██████████| 100/100 [01:07<00:00,  1.48it/s, loss=0.2746]\n",
      "Epoch 388/1000 [Validation]: 100%|██████████| 2/2 [00:00<00:00,  3.26it/s, loss=0.2946]\n"
     ]
    },
    {
     "name": "stdout",
     "output_type": "stream",
     "text": [
      "train-epoch-loss:0.2746 valid-epoch-loss:0.2946 train-beta4-score:0.7422 valid-beta4-score:0.4255\n"
     ]
    },
    {
     "name": "stderr",
     "output_type": "stream",
     "text": [
      "Epoch 389/1000 [Training]: 100%|██████████| 100/100 [01:08<00:00,  1.45it/s, loss=0.3118]\n",
      "Epoch 389/1000 [Validation]: 100%|██████████| 2/2 [00:00<00:00,  3.22it/s, loss=0.4183]\n"
     ]
    },
    {
     "name": "stdout",
     "output_type": "stream",
     "text": [
      "train-epoch-loss:0.3118 valid-epoch-loss:0.4183 train-beta4-score:0.7269 valid-beta4-score:0.3606\n"
     ]
    },
    {
     "name": "stderr",
     "output_type": "stream",
     "text": [
      "Epoch 390/1000 [Training]: 100%|██████████| 100/100 [01:10<00:00,  1.42it/s, loss=0.3352]\n",
      "Epoch 390/1000 [Validation]: 100%|██████████| 2/2 [00:00<00:00,  3.26it/s, loss=0.5222]\n"
     ]
    },
    {
     "name": "stdout",
     "output_type": "stream",
     "text": [
      "train-epoch-loss:0.3352 valid-epoch-loss:0.5222 train-beta4-score:0.7424 valid-beta4-score:0.3883\n"
     ]
    },
    {
     "name": "stderr",
     "output_type": "stream",
     "text": [
      "Epoch 391/1000 [Training]: 100%|██████████| 100/100 [01:08<00:00,  1.45it/s, loss=0.3100]\n",
      "Epoch 391/1000 [Validation]: 100%|██████████| 2/2 [00:00<00:00,  3.18it/s, loss=0.5493]\n"
     ]
    },
    {
     "name": "stdout",
     "output_type": "stream",
     "text": [
      "train-epoch-loss:0.3100 valid-epoch-loss:0.5493 train-beta4-score:0.7554 valid-beta4-score:0.4221\n"
     ]
    },
    {
     "name": "stderr",
     "output_type": "stream",
     "text": [
      "Epoch 392/1000 [Training]: 100%|██████████| 100/100 [01:08<00:00,  1.45it/s, loss=0.2811]\n",
      "Epoch 392/1000 [Validation]: 100%|██████████| 2/2 [00:00<00:00,  3.21it/s, loss=0.4448]\n"
     ]
    },
    {
     "name": "stdout",
     "output_type": "stream",
     "text": [
      "train-epoch-loss:0.2811 valid-epoch-loss:0.4448 train-beta4-score:0.7505 valid-beta4-score:0.3779\n"
     ]
    },
    {
     "name": "stderr",
     "output_type": "stream",
     "text": [
      "Epoch 393/1000 [Training]: 100%|██████████| 100/100 [01:07<00:00,  1.48it/s, loss=0.3257]\n",
      "Epoch 393/1000 [Validation]: 100%|██████████| 2/2 [00:00<00:00,  3.17it/s, loss=0.5795]\n"
     ]
    },
    {
     "name": "stdout",
     "output_type": "stream",
     "text": [
      "train-epoch-loss:0.3257 valid-epoch-loss:0.5795 train-beta4-score:0.7695 valid-beta4-score:0.4474\n"
     ]
    },
    {
     "name": "stderr",
     "output_type": "stream",
     "text": [
      "Epoch 394/1000 [Training]: 100%|██████████| 100/100 [01:10<00:00,  1.42it/s, loss=0.2879]\n",
      "Epoch 394/1000 [Validation]: 100%|██████████| 2/2 [00:00<00:00,  3.22it/s, loss=0.5793]\n"
     ]
    },
    {
     "name": "stdout",
     "output_type": "stream",
     "text": [
      "train-epoch-loss:0.2879 valid-epoch-loss:0.5793 train-beta4-score:0.7633 valid-beta4-score:0.4208\n"
     ]
    },
    {
     "name": "stderr",
     "output_type": "stream",
     "text": [
      "Epoch 395/1000 [Training]: 100%|██████████| 100/100 [01:06<00:00,  1.50it/s, loss=0.2855]\n",
      "Epoch 395/1000 [Validation]: 100%|██████████| 2/2 [00:00<00:00,  3.26it/s, loss=0.4184]\n"
     ]
    },
    {
     "name": "stdout",
     "output_type": "stream",
     "text": [
      "train-epoch-loss:0.2855 valid-epoch-loss:0.4184 train-beta4-score:0.7499 valid-beta4-score:0.4188\n"
     ]
    },
    {
     "name": "stderr",
     "output_type": "stream",
     "text": [
      "Epoch 396/1000 [Training]: 100%|██████████| 100/100 [01:09<00:00,  1.43it/s, loss=0.3298]\n",
      "Epoch 396/1000 [Validation]: 100%|██████████| 2/2 [00:00<00:00,  3.20it/s, loss=0.0857]\n"
     ]
    },
    {
     "name": "stdout",
     "output_type": "stream",
     "text": [
      "train-epoch-loss:0.3298 valid-epoch-loss:0.0857 train-beta4-score:0.7039 valid-beta4-score:0.3552\n"
     ]
    },
    {
     "name": "stderr",
     "output_type": "stream",
     "text": [
      "Epoch 397/1000 [Training]: 100%|██████████| 100/100 [01:09<00:00,  1.43it/s, loss=0.3048]\n",
      "Epoch 397/1000 [Validation]: 100%|██████████| 2/2 [00:00<00:00,  3.28it/s, loss=0.4335]\n"
     ]
    },
    {
     "name": "stdout",
     "output_type": "stream",
     "text": [
      "train-epoch-loss:0.3048 valid-epoch-loss:0.4335 train-beta4-score:0.7702 valid-beta4-score:0.4745\n"
     ]
    },
    {
     "name": "stderr",
     "output_type": "stream",
     "text": [
      "Epoch 398/1000 [Training]: 100%|██████████| 100/100 [01:08<00:00,  1.46it/s, loss=0.2752]\n",
      "Epoch 398/1000 [Validation]: 100%|██████████| 2/2 [00:00<00:00,  3.26it/s, loss=0.5485]\n"
     ]
    },
    {
     "name": "stdout",
     "output_type": "stream",
     "text": [
      "train-epoch-loss:0.2752 valid-epoch-loss:0.5485 train-beta4-score:0.7622 valid-beta4-score:0.4180\n"
     ]
    },
    {
     "name": "stderr",
     "output_type": "stream",
     "text": [
      "Epoch 399/1000 [Training]: 100%|██████████| 100/100 [01:08<00:00,  1.46it/s, loss=0.2915]\n",
      "Epoch 399/1000 [Validation]: 100%|██████████| 2/2 [00:00<00:00,  3.12it/s, loss=0.2306]\n"
     ]
    },
    {
     "name": "stdout",
     "output_type": "stream",
     "text": [
      "train-epoch-loss:0.2915 valid-epoch-loss:0.2306 train-beta4-score:0.7670 valid-beta4-score:0.4252\n"
     ]
    },
    {
     "name": "stderr",
     "output_type": "stream",
     "text": [
      "Epoch 400/1000 [Training]: 100%|██████████| 100/100 [01:09<00:00,  1.44it/s, loss=0.3289]\n",
      "Epoch 400/1000 [Validation]: 100%|██████████| 2/2 [00:00<00:00,  3.18it/s, loss=0.2032]\n"
     ]
    },
    {
     "name": "stdout",
     "output_type": "stream",
     "text": [
      "train-epoch-loss:0.3289 valid-epoch-loss:0.2032 train-beta4-score:0.7183 valid-beta4-score:0.3515\n"
     ]
    },
    {
     "name": "stderr",
     "output_type": "stream",
     "text": [
      "Epoch 401/1000 [Training]: 100%|██████████| 100/100 [01:07<00:00,  1.49it/s, loss=0.3017]\n",
      "Epoch 401/1000 [Validation]: 100%|██████████| 2/2 [00:00<00:00,  3.22it/s, loss=0.4665]\n"
     ]
    },
    {
     "name": "stdout",
     "output_type": "stream",
     "text": [
      "train-epoch-loss:0.3017 valid-epoch-loss:0.4665 train-beta4-score:0.7607 valid-beta4-score:0.4150\n"
     ]
    },
    {
     "name": "stderr",
     "output_type": "stream",
     "text": [
      "Epoch 402/1000 [Training]: 100%|██████████| 100/100 [01:09<00:00,  1.43it/s, loss=0.3041]\n",
      "Epoch 402/1000 [Validation]: 100%|██████████| 2/2 [00:00<00:00,  3.21it/s, loss=0.4084]\n"
     ]
    },
    {
     "name": "stdout",
     "output_type": "stream",
     "text": [
      "train-epoch-loss:0.3041 valid-epoch-loss:0.4084 train-beta4-score:0.7396 valid-beta4-score:0.4149\n"
     ]
    },
    {
     "name": "stderr",
     "output_type": "stream",
     "text": [
      "Epoch 403/1000 [Training]: 100%|██████████| 100/100 [01:08<00:00,  1.45it/s, loss=0.3306]\n",
      "Epoch 403/1000 [Validation]: 100%|██████████| 2/2 [00:00<00:00,  3.23it/s, loss=0.4573]\n"
     ]
    },
    {
     "name": "stdout",
     "output_type": "stream",
     "text": [
      "train-epoch-loss:0.3306 valid-epoch-loss:0.4573 train-beta4-score:0.7060 valid-beta4-score:0.4002\n"
     ]
    },
    {
     "name": "stderr",
     "output_type": "stream",
     "text": [
      "Epoch 404/1000 [Training]: 100%|██████████| 100/100 [01:05<00:00,  1.52it/s, loss=0.2987]\n",
      "Epoch 404/1000 [Validation]: 100%|██████████| 2/2 [00:00<00:00,  3.27it/s, loss=0.4626]\n"
     ]
    },
    {
     "name": "stdout",
     "output_type": "stream",
     "text": [
      "train-epoch-loss:0.2987 valid-epoch-loss:0.4626 train-beta4-score:0.7376 valid-beta4-score:0.3949\n"
     ]
    },
    {
     "name": "stderr",
     "output_type": "stream",
     "text": [
      "Epoch 405/1000 [Training]: 100%|██████████| 100/100 [01:08<00:00,  1.45it/s, loss=0.2615]\n",
      "Epoch 405/1000 [Validation]: 100%|██████████| 2/2 [00:00<00:00,  3.18it/s, loss=0.5933]\n"
     ]
    },
    {
     "name": "stdout",
     "output_type": "stream",
     "text": [
      "train-epoch-loss:0.2615 valid-epoch-loss:0.5933 train-beta4-score:0.7674 valid-beta4-score:0.4196\n"
     ]
    },
    {
     "name": "stderr",
     "output_type": "stream",
     "text": [
      "Epoch 406/1000 [Training]: 100%|██████████| 100/100 [01:08<00:00,  1.46it/s, loss=0.3224]\n",
      "Epoch 406/1000 [Validation]: 100%|██████████| 2/2 [00:00<00:00,  3.16it/s, loss=0.5003]\n"
     ]
    },
    {
     "name": "stdout",
     "output_type": "stream",
     "text": [
      "train-epoch-loss:0.3224 valid-epoch-loss:0.5003 train-beta4-score:0.7404 valid-beta4-score:0.4036\n"
     ]
    },
    {
     "name": "stderr",
     "output_type": "stream",
     "text": [
      "Epoch 407/1000 [Training]: 100%|██████████| 100/100 [01:08<00:00,  1.45it/s, loss=0.2965]\n",
      "Epoch 407/1000 [Validation]: 100%|██████████| 2/2 [00:00<00:00,  3.22it/s, loss=0.3317]\n"
     ]
    },
    {
     "name": "stdout",
     "output_type": "stream",
     "text": [
      "train-epoch-loss:0.2965 valid-epoch-loss:0.3317 train-beta4-score:0.7614 valid-beta4-score:0.4629\n"
     ]
    },
    {
     "name": "stderr",
     "output_type": "stream",
     "text": [
      "Epoch 408/1000 [Training]: 100%|██████████| 100/100 [01:10<00:00,  1.41it/s, loss=0.3148]\n",
      "Epoch 408/1000 [Validation]: 100%|██████████| 2/2 [00:00<00:00,  3.00it/s, loss=0.4661]\n"
     ]
    },
    {
     "name": "stdout",
     "output_type": "stream",
     "text": [
      "train-epoch-loss:0.3148 valid-epoch-loss:0.4661 train-beta4-score:0.7575 valid-beta4-score:0.4539\n"
     ]
    },
    {
     "name": "stderr",
     "output_type": "stream",
     "text": [
      "Epoch 409/1000 [Training]: 100%|██████████| 100/100 [01:10<00:00,  1.43it/s, loss=0.2746]\n",
      "Epoch 409/1000 [Validation]: 100%|██████████| 2/2 [00:00<00:00,  3.17it/s, loss=0.5819]\n"
     ]
    },
    {
     "name": "stdout",
     "output_type": "stream",
     "text": [
      "train-epoch-loss:0.2746 valid-epoch-loss:0.5819 train-beta4-score:0.7687 valid-beta4-score:0.4158\n"
     ]
    },
    {
     "name": "stderr",
     "output_type": "stream",
     "text": [
      "Epoch 410/1000 [Training]: 100%|██████████| 100/100 [01:10<00:00,  1.41it/s, loss=0.3257]\n",
      "Epoch 410/1000 [Validation]: 100%|██████████| 2/2 [00:00<00:00,  3.19it/s, loss=0.3955]\n"
     ]
    },
    {
     "name": "stdout",
     "output_type": "stream",
     "text": [
      "train-epoch-loss:0.3257 valid-epoch-loss:0.3955 train-beta4-score:0.7727 valid-beta4-score:0.4176\n"
     ]
    },
    {
     "name": "stderr",
     "output_type": "stream",
     "text": [
      "Epoch 411/1000 [Training]: 100%|██████████| 100/100 [01:10<00:00,  1.42it/s, loss=0.3044]\n",
      "Epoch 411/1000 [Validation]: 100%|██████████| 2/2 [00:00<00:00,  3.21it/s, loss=0.4614]\n"
     ]
    },
    {
     "name": "stdout",
     "output_type": "stream",
     "text": [
      "train-epoch-loss:0.3044 valid-epoch-loss:0.4614 train-beta4-score:0.7685 valid-beta4-score:0.4554\n"
     ]
    },
    {
     "name": "stderr",
     "output_type": "stream",
     "text": [
      "Epoch 412/1000 [Training]: 100%|██████████| 100/100 [01:09<00:00,  1.44it/s, loss=0.2894]\n",
      "Epoch 412/1000 [Validation]: 100%|██████████| 2/2 [00:00<00:00,  3.21it/s, loss=0.4233]\n"
     ]
    },
    {
     "name": "stdout",
     "output_type": "stream",
     "text": [
      "train-epoch-loss:0.2894 valid-epoch-loss:0.4233 train-beta4-score:0.7635 valid-beta4-score:0.4696\n"
     ]
    },
    {
     "name": "stderr",
     "output_type": "stream",
     "text": [
      "Epoch 413/1000 [Training]: 100%|██████████| 100/100 [01:08<00:00,  1.46it/s, loss=0.3107]\n",
      "Epoch 413/1000 [Validation]: 100%|██████████| 2/2 [00:00<00:00,  3.27it/s, loss=0.4385]\n"
     ]
    },
    {
     "name": "stdout",
     "output_type": "stream",
     "text": [
      "train-epoch-loss:0.3107 valid-epoch-loss:0.4385 train-beta4-score:0.7477 valid-beta4-score:0.4121\n"
     ]
    },
    {
     "name": "stderr",
     "output_type": "stream",
     "text": [
      "Epoch 414/1000 [Training]: 100%|██████████| 100/100 [01:07<00:00,  1.48it/s, loss=0.2828]\n",
      "Epoch 414/1000 [Validation]: 100%|██████████| 2/2 [00:00<00:00,  3.19it/s, loss=0.5246]\n"
     ]
    },
    {
     "name": "stdout",
     "output_type": "stream",
     "text": [
      "train-epoch-loss:0.2828 valid-epoch-loss:0.5246 train-beta4-score:0.7396 valid-beta4-score:0.4149\n"
     ]
    },
    {
     "name": "stderr",
     "output_type": "stream",
     "text": [
      "Epoch 415/1000 [Training]: 100%|██████████| 100/100 [01:08<00:00,  1.46it/s, loss=0.2928]\n",
      "Epoch 415/1000 [Validation]: 100%|██████████| 2/2 [00:00<00:00,  3.27it/s, loss=0.2381]\n"
     ]
    },
    {
     "name": "stdout",
     "output_type": "stream",
     "text": [
      "train-epoch-loss:0.2928 valid-epoch-loss:0.2381 train-beta4-score:0.7730 valid-beta4-score:0.4394\n"
     ]
    },
    {
     "name": "stderr",
     "output_type": "stream",
     "text": [
      "Epoch 416/1000 [Training]: 100%|██████████| 100/100 [01:08<00:00,  1.46it/s, loss=0.3017]\n",
      "Epoch 416/1000 [Validation]: 100%|██████████| 2/2 [00:00<00:00,  3.25it/s, loss=0.4938]\n"
     ]
    },
    {
     "name": "stdout",
     "output_type": "stream",
     "text": [
      "train-epoch-loss:0.3017 valid-epoch-loss:0.4938 train-beta4-score:0.7621 valid-beta4-score:0.4529\n"
     ]
    },
    {
     "name": "stderr",
     "output_type": "stream",
     "text": [
      "Epoch 417/1000 [Training]: 100%|██████████| 100/100 [01:10<00:00,  1.42it/s, loss=0.2974]\n",
      "Epoch 417/1000 [Validation]: 100%|██████████| 2/2 [00:00<00:00,  3.22it/s, loss=0.2752]\n"
     ]
    },
    {
     "name": "stdout",
     "output_type": "stream",
     "text": [
      "train-epoch-loss:0.2974 valid-epoch-loss:0.2752 train-beta4-score:0.7660 valid-beta4-score:0.4423\n"
     ]
    },
    {
     "name": "stderr",
     "output_type": "stream",
     "text": [
      "Epoch 418/1000 [Training]: 100%|██████████| 100/100 [01:10<00:00,  1.43it/s, loss=0.3182]\n",
      "Epoch 418/1000 [Validation]: 100%|██████████| 2/2 [00:00<00:00,  3.18it/s, loss=0.3795]\n"
     ]
    },
    {
     "name": "stdout",
     "output_type": "stream",
     "text": [
      "train-epoch-loss:0.3182 valid-epoch-loss:0.3795 train-beta4-score:0.7205 valid-beta4-score:0.3712\n"
     ]
    },
    {
     "name": "stderr",
     "output_type": "stream",
     "text": [
      "Epoch 419/1000 [Training]: 100%|██████████| 100/100 [01:09<00:00,  1.43it/s, loss=0.2712]\n",
      "Epoch 419/1000 [Validation]: 100%|██████████| 2/2 [00:00<00:00,  3.25it/s, loss=0.4633]\n"
     ]
    },
    {
     "name": "stdout",
     "output_type": "stream",
     "text": [
      "train-epoch-loss:0.2712 valid-epoch-loss:0.4633 train-beta4-score:0.7609 valid-beta4-score:0.4123\n"
     ]
    },
    {
     "name": "stderr",
     "output_type": "stream",
     "text": [
      "Epoch 420/1000 [Training]: 100%|██████████| 100/100 [01:09<00:00,  1.43it/s, loss=0.3194]\n",
      "Epoch 420/1000 [Validation]: 100%|██████████| 2/2 [00:00<00:00,  3.20it/s, loss=0.5666]\n"
     ]
    },
    {
     "name": "stdout",
     "output_type": "stream",
     "text": [
      "train-epoch-loss:0.3194 valid-epoch-loss:0.5666 train-beta4-score:0.7834 valid-beta4-score:0.4578\n"
     ]
    },
    {
     "name": "stderr",
     "output_type": "stream",
     "text": [
      "Epoch 421/1000 [Training]: 100%|██████████| 100/100 [01:08<00:00,  1.46it/s, loss=0.2866]\n",
      "Epoch 421/1000 [Validation]: 100%|██████████| 2/2 [00:00<00:00,  3.14it/s, loss=0.5985]\n"
     ]
    },
    {
     "name": "stdout",
     "output_type": "stream",
     "text": [
      "train-epoch-loss:0.2866 valid-epoch-loss:0.5985 train-beta4-score:0.7076 valid-beta4-score:0.3611\n"
     ]
    },
    {
     "name": "stderr",
     "output_type": "stream",
     "text": [
      "Epoch 422/1000 [Training]: 100%|██████████| 100/100 [01:08<00:00,  1.46it/s, loss=0.3118]\n",
      "Epoch 422/1000 [Validation]: 100%|██████████| 2/2 [00:00<00:00,  3.17it/s, loss=0.2059]\n"
     ]
    },
    {
     "name": "stdout",
     "output_type": "stream",
     "text": [
      "train-epoch-loss:0.3118 valid-epoch-loss:0.2059 train-beta4-score:0.7697 valid-beta4-score:0.4522\n"
     ]
    },
    {
     "name": "stderr",
     "output_type": "stream",
     "text": [
      "Epoch 423/1000 [Training]: 100%|██████████| 100/100 [01:08<00:00,  1.47it/s, loss=0.3014]\n",
      "Epoch 423/1000 [Validation]: 100%|██████████| 2/2 [00:00<00:00,  3.14it/s, loss=0.6071]\n"
     ]
    },
    {
     "name": "stdout",
     "output_type": "stream",
     "text": [
      "train-epoch-loss:0.3014 valid-epoch-loss:0.6071 train-beta4-score:0.7401 valid-beta4-score:0.4241\n"
     ]
    },
    {
     "name": "stderr",
     "output_type": "stream",
     "text": [
      "Epoch 424/1000 [Training]: 100%|██████████| 100/100 [01:07<00:00,  1.47it/s, loss=0.2951]\n",
      "Epoch 424/1000 [Validation]: 100%|██████████| 2/2 [00:00<00:00,  3.26it/s, loss=0.5148]\n"
     ]
    },
    {
     "name": "stdout",
     "output_type": "stream",
     "text": [
      "train-epoch-loss:0.2951 valid-epoch-loss:0.5148 train-beta4-score:0.7628 valid-beta4-score:0.4043\n"
     ]
    },
    {
     "name": "stderr",
     "output_type": "stream",
     "text": [
      "Epoch 425/1000 [Training]: 100%|██████████| 100/100 [01:05<00:00,  1.52it/s, loss=0.2789]\n",
      "Epoch 425/1000 [Validation]: 100%|██████████| 2/2 [00:00<00:00,  3.20it/s, loss=0.2298]\n"
     ]
    },
    {
     "name": "stdout",
     "output_type": "stream",
     "text": [
      "train-epoch-loss:0.2789 valid-epoch-loss:0.2298 train-beta4-score:0.7718 valid-beta4-score:0.4688\n"
     ]
    },
    {
     "name": "stderr",
     "output_type": "stream",
     "text": [
      "Epoch 426/1000 [Training]: 100%|██████████| 100/100 [01:07<00:00,  1.48it/s, loss=0.3503]\n",
      "Epoch 426/1000 [Validation]: 100%|██████████| 2/2 [00:00<00:00,  3.23it/s, loss=0.3015]\n"
     ]
    },
    {
     "name": "stdout",
     "output_type": "stream",
     "text": [
      "train-epoch-loss:0.3503 valid-epoch-loss:0.3015 train-beta4-score:0.7391 valid-beta4-score:0.3832\n"
     ]
    },
    {
     "name": "stderr",
     "output_type": "stream",
     "text": [
      "Epoch 427/1000 [Training]: 100%|██████████| 100/100 [01:08<00:00,  1.47it/s, loss=0.2950]\n",
      "Epoch 427/1000 [Validation]: 100%|██████████| 2/2 [00:00<00:00,  3.22it/s, loss=0.6419]\n"
     ]
    },
    {
     "name": "stdout",
     "output_type": "stream",
     "text": [
      "train-epoch-loss:0.2950 valid-epoch-loss:0.6419 train-beta4-score:0.7400 valid-beta4-score:0.3820\n"
     ]
    },
    {
     "name": "stderr",
     "output_type": "stream",
     "text": [
      "Epoch 428/1000 [Training]: 100%|██████████| 100/100 [01:08<00:00,  1.46it/s, loss=0.3043]\n",
      "Epoch 428/1000 [Validation]: 100%|██████████| 2/2 [00:00<00:00,  3.20it/s, loss=0.4015]\n"
     ]
    },
    {
     "name": "stdout",
     "output_type": "stream",
     "text": [
      "train-epoch-loss:0.3043 valid-epoch-loss:0.4015 train-beta4-score:0.7486 valid-beta4-score:0.3666\n"
     ]
    },
    {
     "name": "stderr",
     "output_type": "stream",
     "text": [
      "Epoch 429/1000 [Training]: 100%|██████████| 100/100 [01:10<00:00,  1.42it/s, loss=0.3114]\n",
      "Epoch 429/1000 [Validation]: 100%|██████████| 2/2 [00:00<00:00,  3.21it/s, loss=0.5383]\n"
     ]
    },
    {
     "name": "stdout",
     "output_type": "stream",
     "text": [
      "train-epoch-loss:0.3114 valid-epoch-loss:0.5383 train-beta4-score:0.7217 valid-beta4-score:0.3686\n"
     ]
    },
    {
     "name": "stderr",
     "output_type": "stream",
     "text": [
      "Epoch 430/1000 [Training]: 100%|██████████| 100/100 [01:11<00:00,  1.41it/s, loss=0.3069]\n",
      "Epoch 430/1000 [Validation]: 100%|██████████| 2/2 [00:00<00:00,  3.19it/s, loss=0.3591]\n"
     ]
    },
    {
     "name": "stdout",
     "output_type": "stream",
     "text": [
      "train-epoch-loss:0.3069 valid-epoch-loss:0.3591 train-beta4-score:0.7615 valid-beta4-score:0.4454\n"
     ]
    },
    {
     "name": "stderr",
     "output_type": "stream",
     "text": [
      "Epoch 431/1000 [Training]: 100%|██████████| 100/100 [01:08<00:00,  1.47it/s, loss=0.2886]\n",
      "Epoch 431/1000 [Validation]: 100%|██████████| 2/2 [00:00<00:00,  3.23it/s, loss=0.2625]\n"
     ]
    },
    {
     "name": "stdout",
     "output_type": "stream",
     "text": [
      "train-epoch-loss:0.2886 valid-epoch-loss:0.2625 train-beta4-score:0.7722 valid-beta4-score:0.4445\n"
     ]
    },
    {
     "name": "stderr",
     "output_type": "stream",
     "text": [
      "Epoch 432/1000 [Training]: 100%|██████████| 100/100 [01:09<00:00,  1.44it/s, loss=0.2936]\n",
      "Epoch 432/1000 [Validation]: 100%|██████████| 2/2 [00:00<00:00,  3.21it/s, loss=0.5183]\n"
     ]
    },
    {
     "name": "stdout",
     "output_type": "stream",
     "text": [
      "train-epoch-loss:0.2936 valid-epoch-loss:0.5183 train-beta4-score:0.7411 valid-beta4-score:0.3842\n"
     ]
    },
    {
     "name": "stderr",
     "output_type": "stream",
     "text": [
      "Epoch 433/1000 [Training]: 100%|██████████| 100/100 [01:09<00:00,  1.45it/s, loss=0.2800]\n",
      "Epoch 433/1000 [Validation]: 100%|██████████| 2/2 [00:00<00:00,  3.05it/s, loss=0.5215]\n"
     ]
    },
    {
     "name": "stdout",
     "output_type": "stream",
     "text": [
      "train-epoch-loss:0.2800 valid-epoch-loss:0.5215 train-beta4-score:0.7397 valid-beta4-score:0.3976\n"
     ]
    },
    {
     "name": "stderr",
     "output_type": "stream",
     "text": [
      "Epoch 434/1000 [Training]: 100%|██████████| 100/100 [01:09<00:00,  1.44it/s, loss=0.2723]\n",
      "Epoch 434/1000 [Validation]: 100%|██████████| 2/2 [00:00<00:00,  3.16it/s, loss=0.3808]\n"
     ]
    },
    {
     "name": "stdout",
     "output_type": "stream",
     "text": [
      "train-epoch-loss:0.2723 valid-epoch-loss:0.3808 train-beta4-score:0.7559 valid-beta4-score:0.4006\n"
     ]
    },
    {
     "name": "stderr",
     "output_type": "stream",
     "text": [
      "Epoch 435/1000 [Training]: 100%|██████████| 100/100 [01:07<00:00,  1.48it/s, loss=0.2872]\n",
      "Epoch 435/1000 [Validation]: 100%|██████████| 2/2 [00:00<00:00,  3.25it/s, loss=0.5374]\n"
     ]
    },
    {
     "name": "stdout",
     "output_type": "stream",
     "text": [
      "train-epoch-loss:0.2872 valid-epoch-loss:0.5374 train-beta4-score:0.7589 valid-beta4-score:0.4112\n"
     ]
    },
    {
     "name": "stderr",
     "output_type": "stream",
     "text": [
      "Epoch 436/1000 [Training]: 100%|██████████| 100/100 [01:08<00:00,  1.46it/s, loss=0.2989]\n",
      "Epoch 436/1000 [Validation]: 100%|██████████| 2/2 [00:00<00:00,  3.26it/s, loss=0.4202]\n"
     ]
    },
    {
     "name": "stdout",
     "output_type": "stream",
     "text": [
      "train-epoch-loss:0.2989 valid-epoch-loss:0.4202 train-beta4-score:0.7829 valid-beta4-score:0.4833\n"
     ]
    },
    {
     "name": "stderr",
     "output_type": "stream",
     "text": [
      "Epoch 437/1000 [Training]: 100%|██████████| 100/100 [01:07<00:00,  1.47it/s, loss=0.3123]\n",
      "Epoch 437/1000 [Validation]: 100%|██████████| 2/2 [00:00<00:00,  3.19it/s, loss=0.5459]\n"
     ]
    },
    {
     "name": "stdout",
     "output_type": "stream",
     "text": [
      "train-epoch-loss:0.3123 valid-epoch-loss:0.5459 train-beta4-score:0.6938 valid-beta4-score:0.4072\n"
     ]
    },
    {
     "name": "stderr",
     "output_type": "stream",
     "text": [
      "Epoch 438/1000 [Training]: 100%|██████████| 100/100 [01:10<00:00,  1.42it/s, loss=0.3205]\n",
      "Epoch 438/1000 [Validation]: 100%|██████████| 2/2 [00:00<00:00,  3.22it/s, loss=0.3777]\n"
     ]
    },
    {
     "name": "stdout",
     "output_type": "stream",
     "text": [
      "train-epoch-loss:0.3205 valid-epoch-loss:0.3777 train-beta4-score:0.7393 valid-beta4-score:0.3849\n"
     ]
    },
    {
     "name": "stderr",
     "output_type": "stream",
     "text": [
      "Epoch 439/1000 [Training]: 100%|██████████| 100/100 [01:09<00:00,  1.45it/s, loss=0.2973]\n",
      "Epoch 439/1000 [Validation]: 100%|██████████| 2/2 [00:00<00:00,  3.26it/s, loss=0.5276]\n"
     ]
    },
    {
     "name": "stdout",
     "output_type": "stream",
     "text": [
      "train-epoch-loss:0.2973 valid-epoch-loss:0.5276 train-beta4-score:0.7610 valid-beta4-score:0.4225\n"
     ]
    },
    {
     "name": "stderr",
     "output_type": "stream",
     "text": [
      "Epoch 440/1000 [Training]: 100%|██████████| 100/100 [01:08<00:00,  1.45it/s, loss=0.3101]\n",
      "Epoch 440/1000 [Validation]: 100%|██████████| 2/2 [00:00<00:00,  3.22it/s, loss=0.5745]\n"
     ]
    },
    {
     "name": "stdout",
     "output_type": "stream",
     "text": [
      "train-epoch-loss:0.3101 valid-epoch-loss:0.5745 train-beta4-score:0.7020 valid-beta4-score:0.3654\n"
     ]
    },
    {
     "name": "stderr",
     "output_type": "stream",
     "text": [
      "Epoch 441/1000 [Training]: 100%|██████████| 100/100 [01:08<00:00,  1.45it/s, loss=0.2797]\n",
      "Epoch 441/1000 [Validation]: 100%|██████████| 2/2 [00:00<00:00,  3.17it/s, loss=0.6105]\n"
     ]
    },
    {
     "name": "stdout",
     "output_type": "stream",
     "text": [
      "train-epoch-loss:0.2797 valid-epoch-loss:0.6105 train-beta4-score:0.7066 valid-beta4-score:0.3732\n"
     ]
    },
    {
     "name": "stderr",
     "output_type": "stream",
     "text": [
      "Epoch 442/1000 [Training]: 100%|██████████| 100/100 [01:08<00:00,  1.47it/s, loss=0.2935]\n",
      "Epoch 442/1000 [Validation]: 100%|██████████| 2/2 [00:00<00:00,  3.16it/s, loss=0.6123]\n"
     ]
    },
    {
     "name": "stdout",
     "output_type": "stream",
     "text": [
      "train-epoch-loss:0.2935 valid-epoch-loss:0.6123 train-beta4-score:0.7591 valid-beta4-score:0.4055\n"
     ]
    },
    {
     "name": "stderr",
     "output_type": "stream",
     "text": [
      "Epoch 443/1000 [Training]: 100%|██████████| 100/100 [01:09<00:00,  1.45it/s, loss=0.2780]\n",
      "Epoch 443/1000 [Validation]: 100%|██████████| 2/2 [00:00<00:00,  3.25it/s, loss=0.4811]\n"
     ]
    },
    {
     "name": "stdout",
     "output_type": "stream",
     "text": [
      "train-epoch-loss:0.2780 valid-epoch-loss:0.4811 train-beta4-score:0.7405 valid-beta4-score:0.3652\n"
     ]
    },
    {
     "name": "stderr",
     "output_type": "stream",
     "text": [
      "Epoch 444/1000 [Training]: 100%|██████████| 100/100 [01:10<00:00,  1.43it/s, loss=0.3137]\n",
      "Epoch 444/1000 [Validation]: 100%|██████████| 2/2 [00:00<00:00,  3.25it/s, loss=0.5142]\n"
     ]
    },
    {
     "name": "stdout",
     "output_type": "stream",
     "text": [
      "train-epoch-loss:0.3137 valid-epoch-loss:0.5142 train-beta4-score:0.7738 valid-beta4-score:0.4258\n"
     ]
    },
    {
     "name": "stderr",
     "output_type": "stream",
     "text": [
      "Epoch 445/1000 [Training]: 100%|██████████| 100/100 [01:11<00:00,  1.41it/s, loss=0.2711]\n",
      "Epoch 445/1000 [Validation]: 100%|██████████| 2/2 [00:00<00:00,  3.26it/s, loss=0.5657]\n"
     ]
    },
    {
     "name": "stdout",
     "output_type": "stream",
     "text": [
      "train-epoch-loss:0.2711 valid-epoch-loss:0.5657 train-beta4-score:0.7164 valid-beta4-score:0.3706\n"
     ]
    },
    {
     "name": "stderr",
     "output_type": "stream",
     "text": [
      "Epoch 446/1000 [Training]: 100%|██████████| 100/100 [01:09<00:00,  1.44it/s, loss=0.3049]\n",
      "Epoch 446/1000 [Validation]: 100%|██████████| 2/2 [00:00<00:00,  3.21it/s, loss=0.6582]\n"
     ]
    },
    {
     "name": "stdout",
     "output_type": "stream",
     "text": [
      "train-epoch-loss:0.3049 valid-epoch-loss:0.6582 train-beta4-score:0.7400 valid-beta4-score:0.3854\n"
     ]
    },
    {
     "name": "stderr",
     "output_type": "stream",
     "text": [
      "Epoch 447/1000 [Training]: 100%|██████████| 100/100 [01:09<00:00,  1.45it/s, loss=0.3112]\n",
      "Epoch 447/1000 [Validation]: 100%|██████████| 2/2 [00:00<00:00,  3.25it/s, loss=0.4038]\n"
     ]
    },
    {
     "name": "stdout",
     "output_type": "stream",
     "text": [
      "train-epoch-loss:0.3112 valid-epoch-loss:0.4038 train-beta4-score:0.7583 valid-beta4-score:0.3997\n"
     ]
    },
    {
     "name": "stderr",
     "output_type": "stream",
     "text": [
      "Epoch 448/1000 [Training]: 100%|██████████| 100/100 [01:08<00:00,  1.46it/s, loss=0.2894]\n",
      "Epoch 448/1000 [Validation]: 100%|██████████| 2/2 [00:00<00:00,  3.21it/s, loss=0.3804]\n"
     ]
    },
    {
     "name": "stdout",
     "output_type": "stream",
     "text": [
      "train-epoch-loss:0.2894 valid-epoch-loss:0.3804 train-beta4-score:0.7765 valid-beta4-score:0.4244\n"
     ]
    },
    {
     "name": "stderr",
     "output_type": "stream",
     "text": [
      "Epoch 449/1000 [Training]: 100%|██████████| 100/100 [01:08<00:00,  1.47it/s, loss=0.2789]\n",
      "Epoch 449/1000 [Validation]: 100%|██████████| 2/2 [00:00<00:00,  3.28it/s, loss=0.5812]\n"
     ]
    },
    {
     "name": "stdout",
     "output_type": "stream",
     "text": [
      "train-epoch-loss:0.2789 valid-epoch-loss:0.5812 train-beta4-score:0.7592 valid-beta4-score:0.4004\n"
     ]
    },
    {
     "name": "stderr",
     "output_type": "stream",
     "text": [
      "Epoch 450/1000 [Training]: 100%|██████████| 100/100 [01:08<00:00,  1.46it/s, loss=0.3025]\n",
      "Epoch 450/1000 [Validation]: 100%|██████████| 2/2 [00:00<00:00,  3.24it/s, loss=0.4308]\n"
     ]
    },
    {
     "name": "stdout",
     "output_type": "stream",
     "text": [
      "train-epoch-loss:0.3025 valid-epoch-loss:0.4308 train-beta4-score:0.7792 valid-beta4-score:0.4164\n"
     ]
    },
    {
     "name": "stderr",
     "output_type": "stream",
     "text": [
      "Epoch 451/1000 [Training]: 100%|██████████| 100/100 [01:10<00:00,  1.42it/s, loss=0.2892]\n",
      "Epoch 451/1000 [Validation]: 100%|██████████| 2/2 [00:00<00:00,  3.16it/s, loss=0.2461]\n"
     ]
    },
    {
     "name": "stdout",
     "output_type": "stream",
     "text": [
      "train-epoch-loss:0.2892 valid-epoch-loss:0.2461 train-beta4-score:0.7618 valid-beta4-score:0.4177\n"
     ]
    },
    {
     "name": "stderr",
     "output_type": "stream",
     "text": [
      "Epoch 452/1000 [Training]: 100%|██████████| 100/100 [01:08<00:00,  1.46it/s, loss=0.2797]\n",
      "Epoch 452/1000 [Validation]: 100%|██████████| 2/2 [00:00<00:00,  3.04it/s, loss=0.5162]\n"
     ]
    },
    {
     "name": "stdout",
     "output_type": "stream",
     "text": [
      "train-epoch-loss:0.2797 valid-epoch-loss:0.5162 train-beta4-score:0.7665 valid-beta4-score:0.3748\n"
     ]
    },
    {
     "name": "stderr",
     "output_type": "stream",
     "text": [
      "Epoch 453/1000 [Training]: 100%|██████████| 100/100 [01:08<00:00,  1.46it/s, loss=0.3053]\n",
      "Epoch 453/1000 [Validation]: 100%|██████████| 2/2 [00:00<00:00,  3.24it/s, loss=0.6367]\n"
     ]
    },
    {
     "name": "stdout",
     "output_type": "stream",
     "text": [
      "train-epoch-loss:0.3053 valid-epoch-loss:0.6367 train-beta4-score:0.7839 valid-beta4-score:0.4086\n"
     ]
    },
    {
     "name": "stderr",
     "output_type": "stream",
     "text": [
      "Epoch 454/1000 [Training]: 100%|██████████| 100/100 [01:09<00:00,  1.44it/s, loss=0.3365]\n",
      "Epoch 454/1000 [Validation]: 100%|██████████| 2/2 [00:00<00:00,  3.24it/s, loss=0.3380]\n"
     ]
    },
    {
     "name": "stdout",
     "output_type": "stream",
     "text": [
      "train-epoch-loss:0.3365 valid-epoch-loss:0.3380 train-beta4-score:0.7745 valid-beta4-score:0.4271\n"
     ]
    },
    {
     "name": "stderr",
     "output_type": "stream",
     "text": [
      "Epoch 455/1000 [Training]: 100%|██████████| 100/100 [01:08<00:00,  1.46it/s, loss=0.3108]\n",
      "Epoch 455/1000 [Validation]: 100%|██████████| 2/2 [00:00<00:00,  3.22it/s, loss=0.4991]\n"
     ]
    },
    {
     "name": "stdout",
     "output_type": "stream",
     "text": [
      "train-epoch-loss:0.3108 valid-epoch-loss:0.4991 train-beta4-score:0.7843 valid-beta4-score:0.4317\n"
     ]
    },
    {
     "name": "stderr",
     "output_type": "stream",
     "text": [
      "Epoch 456/1000 [Training]: 100%|██████████| 100/100 [01:07<00:00,  1.48it/s, loss=0.2868]\n",
      "Epoch 456/1000 [Validation]: 100%|██████████| 2/2 [00:00<00:00,  3.27it/s, loss=0.3506]\n"
     ]
    },
    {
     "name": "stdout",
     "output_type": "stream",
     "text": [
      "train-epoch-loss:0.2868 valid-epoch-loss:0.3506 train-beta4-score:0.7745 valid-beta4-score:0.3992\n"
     ]
    },
    {
     "name": "stderr",
     "output_type": "stream",
     "text": [
      "Epoch 457/1000 [Training]: 100%|██████████| 100/100 [01:08<00:00,  1.46it/s, loss=0.2882]\n",
      "Epoch 457/1000 [Validation]: 100%|██████████| 2/2 [00:00<00:00,  3.27it/s, loss=0.5446]\n"
     ]
    },
    {
     "name": "stdout",
     "output_type": "stream",
     "text": [
      "train-epoch-loss:0.2882 valid-epoch-loss:0.5446 train-beta4-score:0.7834 valid-beta4-score:0.4530\n"
     ]
    },
    {
     "name": "stderr",
     "output_type": "stream",
     "text": [
      "Epoch 458/1000 [Training]: 100%|██████████| 100/100 [01:09<00:00,  1.44it/s, loss=0.3105]\n",
      "Epoch 458/1000 [Validation]: 100%|██████████| 2/2 [00:00<00:00,  3.25it/s, loss=0.4739]\n"
     ]
    },
    {
     "name": "stdout",
     "output_type": "stream",
     "text": [
      "train-epoch-loss:0.3105 valid-epoch-loss:0.4739 train-beta4-score:0.7631 valid-beta4-score:0.3950\n"
     ]
    },
    {
     "name": "stderr",
     "output_type": "stream",
     "text": [
      "Epoch 459/1000 [Training]: 100%|██████████| 100/100 [01:08<00:00,  1.46it/s, loss=0.3123]\n",
      "Epoch 459/1000 [Validation]: 100%|██████████| 2/2 [00:00<00:00,  3.16it/s, loss=0.3364]\n"
     ]
    },
    {
     "name": "stdout",
     "output_type": "stream",
     "text": [
      "train-epoch-loss:0.3123 valid-epoch-loss:0.3364 train-beta4-score:0.7777 valid-beta4-score:0.4030\n"
     ]
    },
    {
     "name": "stderr",
     "output_type": "stream",
     "text": [
      "Epoch 460/1000 [Training]: 100%|██████████| 100/100 [01:08<00:00,  1.47it/s, loss=0.3272]\n",
      "Epoch 460/1000 [Validation]: 100%|██████████| 2/2 [00:00<00:00,  3.21it/s, loss=0.5086]\n"
     ]
    },
    {
     "name": "stdout",
     "output_type": "stream",
     "text": [
      "train-epoch-loss:0.3272 valid-epoch-loss:0.5086 train-beta4-score:0.7767 valid-beta4-score:0.3992\n"
     ]
    },
    {
     "name": "stderr",
     "output_type": "stream",
     "text": [
      "Epoch 461/1000 [Training]: 100%|██████████| 100/100 [01:06<00:00,  1.51it/s, loss=0.2887]\n",
      "Epoch 461/1000 [Validation]: 100%|██████████| 2/2 [00:00<00:00,  3.22it/s, loss=0.5652]\n"
     ]
    },
    {
     "name": "stdout",
     "output_type": "stream",
     "text": [
      "train-epoch-loss:0.2887 valid-epoch-loss:0.5652 train-beta4-score:0.7470 valid-beta4-score:0.3831\n"
     ]
    },
    {
     "name": "stderr",
     "output_type": "stream",
     "text": [
      "Epoch 462/1000 [Training]: 100%|██████████| 100/100 [01:08<00:00,  1.45it/s, loss=0.2866]\n",
      "Epoch 462/1000 [Validation]: 100%|██████████| 2/2 [00:00<00:00,  3.24it/s, loss=0.2973]\n"
     ]
    },
    {
     "name": "stdout",
     "output_type": "stream",
     "text": [
      "train-epoch-loss:0.2866 valid-epoch-loss:0.2973 train-beta4-score:0.7801 valid-beta4-score:0.4410\n"
     ]
    },
    {
     "name": "stderr",
     "output_type": "stream",
     "text": [
      "Epoch 463/1000 [Training]: 100%|██████████| 100/100 [01:06<00:00,  1.51it/s, loss=0.2695]\n",
      "Epoch 463/1000 [Validation]: 100%|██████████| 2/2 [00:00<00:00,  3.24it/s, loss=0.3400]\n"
     ]
    },
    {
     "name": "stdout",
     "output_type": "stream",
     "text": [
      "train-epoch-loss:0.2695 valid-epoch-loss:0.3400 train-beta4-score:0.7597 valid-beta4-score:0.3714\n"
     ]
    },
    {
     "name": "stderr",
     "output_type": "stream",
     "text": [
      "Epoch 464/1000 [Training]: 100%|██████████| 100/100 [01:07<00:00,  1.47it/s, loss=0.2684]\n",
      "Epoch 464/1000 [Validation]: 100%|██████████| 2/2 [00:00<00:00,  3.19it/s, loss=0.4332]\n"
     ]
    },
    {
     "name": "stdout",
     "output_type": "stream",
     "text": [
      "train-epoch-loss:0.2684 valid-epoch-loss:0.4332 train-beta4-score:0.7690 valid-beta4-score:0.4008\n"
     ]
    },
    {
     "name": "stderr",
     "output_type": "stream",
     "text": [
      "Epoch 465/1000 [Training]: 100%|██████████| 100/100 [01:09<00:00,  1.43it/s, loss=0.2853]\n",
      "Epoch 465/1000 [Validation]: 100%|██████████| 2/2 [00:00<00:00,  3.18it/s, loss=0.3180]\n"
     ]
    },
    {
     "name": "stdout",
     "output_type": "stream",
     "text": [
      "train-epoch-loss:0.2853 valid-epoch-loss:0.3180 train-beta4-score:0.7630 valid-beta4-score:0.4312\n"
     ]
    },
    {
     "name": "stderr",
     "output_type": "stream",
     "text": [
      "Epoch 466/1000 [Training]: 100%|██████████| 100/100 [01:09<00:00,  1.45it/s, loss=0.3003]\n",
      "Epoch 466/1000 [Validation]: 100%|██████████| 2/2 [00:00<00:00,  3.17it/s, loss=0.4049]\n"
     ]
    },
    {
     "name": "stdout",
     "output_type": "stream",
     "text": [
      "train-epoch-loss:0.3003 valid-epoch-loss:0.4049 train-beta4-score:0.7705 valid-beta4-score:0.4079\n"
     ]
    },
    {
     "name": "stderr",
     "output_type": "stream",
     "text": [
      "Epoch 467/1000 [Training]: 100%|██████████| 100/100 [01:09<00:00,  1.44it/s, loss=0.2818]\n",
      "Epoch 467/1000 [Validation]: 100%|██████████| 2/2 [00:00<00:00,  3.22it/s, loss=0.6261]\n"
     ]
    },
    {
     "name": "stdout",
     "output_type": "stream",
     "text": [
      "train-epoch-loss:0.2818 valid-epoch-loss:0.6261 train-beta4-score:0.7854 valid-beta4-score:0.4091\n"
     ]
    },
    {
     "name": "stderr",
     "output_type": "stream",
     "text": [
      "Epoch 468/1000 [Training]: 100%|██████████| 100/100 [01:09<00:00,  1.45it/s, loss=0.2872]\n",
      "Epoch 468/1000 [Validation]: 100%|██████████| 2/2 [00:00<00:00,  3.28it/s, loss=0.6341]\n"
     ]
    },
    {
     "name": "stdout",
     "output_type": "stream",
     "text": [
      "train-epoch-loss:0.2872 valid-epoch-loss:0.6341 train-beta4-score:0.4313 valid-beta4-score:0.2638\n"
     ]
    },
    {
     "name": "stderr",
     "output_type": "stream",
     "text": [
      "Epoch 469/1000 [Training]: 100%|██████████| 100/100 [01:09<00:00,  1.44it/s, loss=0.3044]\n",
      "Epoch 469/1000 [Validation]: 100%|██████████| 2/2 [00:00<00:00,  3.27it/s, loss=0.2574]\n"
     ]
    },
    {
     "name": "stdout",
     "output_type": "stream",
     "text": [
      "train-epoch-loss:0.3044 valid-epoch-loss:0.2574 train-beta4-score:0.7843 valid-beta4-score:0.4427\n"
     ]
    },
    {
     "name": "stderr",
     "output_type": "stream",
     "text": [
      "Epoch 470/1000 [Training]: 100%|██████████| 100/100 [01:08<00:00,  1.46it/s, loss=0.2734]\n",
      "Epoch 470/1000 [Validation]: 100%|██████████| 2/2 [00:00<00:00,  3.05it/s, loss=0.4940]\n"
     ]
    },
    {
     "name": "stdout",
     "output_type": "stream",
     "text": [
      "train-epoch-loss:0.2734 valid-epoch-loss:0.4940 train-beta4-score:0.7697 valid-beta4-score:0.3815\n"
     ]
    },
    {
     "name": "stderr",
     "output_type": "stream",
     "text": [
      "Epoch 471/1000 [Training]: 100%|██████████| 100/100 [01:10<00:00,  1.43it/s, loss=0.3032]\n",
      "Epoch 471/1000 [Validation]: 100%|██████████| 2/2 [00:00<00:00,  3.25it/s, loss=0.4326]\n"
     ]
    },
    {
     "name": "stdout",
     "output_type": "stream",
     "text": [
      "train-epoch-loss:0.3032 valid-epoch-loss:0.4326 train-beta4-score:0.7685 valid-beta4-score:0.3984\n"
     ]
    },
    {
     "name": "stderr",
     "output_type": "stream",
     "text": [
      "Epoch 472/1000 [Training]: 100%|██████████| 100/100 [01:10<00:00,  1.42it/s, loss=0.3025]\n",
      "Epoch 472/1000 [Validation]: 100%|██████████| 2/2 [00:00<00:00,  3.21it/s, loss=0.3186]\n"
     ]
    },
    {
     "name": "stdout",
     "output_type": "stream",
     "text": [
      "train-epoch-loss:0.3025 valid-epoch-loss:0.3186 train-beta4-score:0.7627 valid-beta4-score:0.3979\n"
     ]
    },
    {
     "name": "stderr",
     "output_type": "stream",
     "text": [
      "Epoch 473/1000 [Training]: 100%|██████████| 100/100 [01:09<00:00,  1.44it/s, loss=0.3239]\n",
      "Epoch 473/1000 [Validation]: 100%|██████████| 2/2 [00:00<00:00,  3.24it/s, loss=0.5663]\n"
     ]
    },
    {
     "name": "stdout",
     "output_type": "stream",
     "text": [
      "train-epoch-loss:0.3239 valid-epoch-loss:0.5663 train-beta4-score:0.7651 valid-beta4-score:0.3928\n"
     ]
    },
    {
     "name": "stderr",
     "output_type": "stream",
     "text": [
      "Epoch 474/1000 [Training]: 100%|██████████| 100/100 [01:08<00:00,  1.46it/s, loss=0.2844]\n",
      "Epoch 474/1000 [Validation]: 100%|██████████| 2/2 [00:00<00:00,  3.15it/s, loss=0.6239]\n"
     ]
    },
    {
     "name": "stdout",
     "output_type": "stream",
     "text": [
      "train-epoch-loss:0.2844 valid-epoch-loss:0.6239 train-beta4-score:0.7550 valid-beta4-score:0.3779\n"
     ]
    },
    {
     "name": "stderr",
     "output_type": "stream",
     "text": [
      "Epoch 475/1000 [Training]: 100%|██████████| 100/100 [01:05<00:00,  1.52it/s, loss=0.2704]\n",
      "Epoch 475/1000 [Validation]: 100%|██████████| 2/2 [00:00<00:00,  3.26it/s, loss=0.5039]\n"
     ]
    },
    {
     "name": "stdout",
     "output_type": "stream",
     "text": [
      "train-epoch-loss:0.2704 valid-epoch-loss:0.5039 train-beta4-score:0.7691 valid-beta4-score:0.4090\n"
     ]
    },
    {
     "name": "stderr",
     "output_type": "stream",
     "text": [
      "Epoch 476/1000 [Training]: 100%|██████████| 100/100 [01:11<00:00,  1.40it/s, loss=0.2554]\n",
      "Epoch 476/1000 [Validation]: 100%|██████████| 2/2 [00:00<00:00,  3.21it/s, loss=0.2663]\n"
     ]
    },
    {
     "name": "stdout",
     "output_type": "stream",
     "text": [
      "train-epoch-loss:0.2554 valid-epoch-loss:0.2663 train-beta4-score:0.7756 valid-beta4-score:0.4244\n"
     ]
    },
    {
     "name": "stderr",
     "output_type": "stream",
     "text": [
      "Epoch 477/1000 [Training]: 100%|██████████| 100/100 [01:10<00:00,  1.41it/s, loss=0.3159]\n",
      "Epoch 477/1000 [Validation]: 100%|██████████| 2/2 [00:00<00:00,  3.26it/s, loss=0.5251]\n"
     ]
    },
    {
     "name": "stdout",
     "output_type": "stream",
     "text": [
      "train-epoch-loss:0.3159 valid-epoch-loss:0.5251 train-beta4-score:0.7779 valid-beta4-score:0.4156\n"
     ]
    },
    {
     "name": "stderr",
     "output_type": "stream",
     "text": [
      "Epoch 478/1000 [Training]: 100%|██████████| 100/100 [01:11<00:00,  1.41it/s, loss=0.3194]\n",
      "Epoch 478/1000 [Validation]: 100%|██████████| 2/2 [00:00<00:00,  3.15it/s, loss=0.5195]\n"
     ]
    },
    {
     "name": "stdout",
     "output_type": "stream",
     "text": [
      "train-epoch-loss:0.3194 valid-epoch-loss:0.5195 train-beta4-score:0.7491 valid-beta4-score:0.3868\n"
     ]
    },
    {
     "name": "stderr",
     "output_type": "stream",
     "text": [
      "Epoch 479/1000 [Training]: 100%|██████████| 100/100 [01:09<00:00,  1.43it/s, loss=0.3147]\n",
      "Epoch 479/1000 [Validation]: 100%|██████████| 2/2 [00:00<00:00,  3.28it/s, loss=0.5156]\n"
     ]
    },
    {
     "name": "stdout",
     "output_type": "stream",
     "text": [
      "train-epoch-loss:0.3147 valid-epoch-loss:0.5156 train-beta4-score:0.7501 valid-beta4-score:0.4092\n"
     ]
    },
    {
     "name": "stderr",
     "output_type": "stream",
     "text": [
      "Epoch 480/1000 [Training]: 100%|██████████| 100/100 [01:09<00:00,  1.43it/s, loss=0.2959]\n",
      "Epoch 480/1000 [Validation]: 100%|██████████| 2/2 [00:00<00:00,  3.22it/s, loss=0.5261]\n"
     ]
    },
    {
     "name": "stdout",
     "output_type": "stream",
     "text": [
      "train-epoch-loss:0.2959 valid-epoch-loss:0.5261 train-beta4-score:0.7828 valid-beta4-score:0.4112\n"
     ]
    },
    {
     "name": "stderr",
     "output_type": "stream",
     "text": [
      "Epoch 481/1000 [Training]: 100%|██████████| 100/100 [01:10<00:00,  1.42it/s, loss=0.2929]\n",
      "Epoch 481/1000 [Validation]: 100%|██████████| 2/2 [00:00<00:00,  3.22it/s, loss=0.4725]\n"
     ]
    },
    {
     "name": "stdout",
     "output_type": "stream",
     "text": [
      "train-epoch-loss:0.2929 valid-epoch-loss:0.4725 train-beta4-score:0.7716 valid-beta4-score:0.4339\n"
     ]
    },
    {
     "name": "stderr",
     "output_type": "stream",
     "text": [
      "Epoch 482/1000 [Training]: 100%|██████████| 100/100 [01:07<00:00,  1.47it/s, loss=0.2740]\n",
      "Epoch 482/1000 [Validation]: 100%|██████████| 2/2 [00:00<00:00,  3.22it/s, loss=0.4531]\n"
     ]
    },
    {
     "name": "stdout",
     "output_type": "stream",
     "text": [
      "train-epoch-loss:0.2740 valid-epoch-loss:0.4531 train-beta4-score:0.7542 valid-beta4-score:0.3823\n"
     ]
    },
    {
     "name": "stderr",
     "output_type": "stream",
     "text": [
      "Epoch 483/1000 [Training]: 100%|██████████| 100/100 [01:10<00:00,  1.43it/s, loss=0.2942]\n",
      "Epoch 483/1000 [Validation]: 100%|██████████| 2/2 [00:00<00:00,  3.21it/s, loss=0.4900]\n"
     ]
    },
    {
     "name": "stdout",
     "output_type": "stream",
     "text": [
      "train-epoch-loss:0.2942 valid-epoch-loss:0.4900 train-beta4-score:0.7532 valid-beta4-score:0.4078\n"
     ]
    },
    {
     "name": "stderr",
     "output_type": "stream",
     "text": [
      "Epoch 484/1000 [Training]: 100%|██████████| 100/100 [01:09<00:00,  1.44it/s, loss=0.2944]\n",
      "Epoch 484/1000 [Validation]: 100%|██████████| 2/2 [00:00<00:00,  3.25it/s, loss=0.2740]\n"
     ]
    },
    {
     "name": "stdout",
     "output_type": "stream",
     "text": [
      "train-epoch-loss:0.2944 valid-epoch-loss:0.2740 train-beta4-score:0.7707 valid-beta4-score:0.4603\n"
     ]
    },
    {
     "name": "stderr",
     "output_type": "stream",
     "text": [
      "Epoch 485/1000 [Training]: 100%|██████████| 100/100 [01:09<00:00,  1.44it/s, loss=0.3001]\n",
      "Epoch 485/1000 [Validation]: 100%|██████████| 2/2 [00:00<00:00,  3.25it/s, loss=0.5978]\n"
     ]
    },
    {
     "name": "stdout",
     "output_type": "stream",
     "text": [
      "train-epoch-loss:0.3001 valid-epoch-loss:0.5978 train-beta4-score:0.7539 valid-beta4-score:0.3663\n"
     ]
    },
    {
     "name": "stderr",
     "output_type": "stream",
     "text": [
      "Epoch 486/1000 [Training]: 100%|██████████| 100/100 [01:10<00:00,  1.41it/s, loss=0.3003]\n",
      "Epoch 486/1000 [Validation]: 100%|██████████| 2/2 [00:00<00:00,  3.21it/s, loss=0.1488]\n"
     ]
    },
    {
     "name": "stdout",
     "output_type": "stream",
     "text": [
      "train-epoch-loss:0.3003 valid-epoch-loss:0.1488 train-beta4-score:0.7817 valid-beta4-score:0.4196\n"
     ]
    },
    {
     "name": "stderr",
     "output_type": "stream",
     "text": [
      "Epoch 487/1000 [Training]: 100%|██████████| 100/100 [01:07<00:00,  1.48it/s, loss=0.3130]\n",
      "Epoch 487/1000 [Validation]: 100%|██████████| 2/2 [00:00<00:00,  3.23it/s, loss=0.4697]\n"
     ]
    },
    {
     "name": "stdout",
     "output_type": "stream",
     "text": [
      "train-epoch-loss:0.3130 valid-epoch-loss:0.4697 train-beta4-score:0.7619 valid-beta4-score:0.3808\n"
     ]
    },
    {
     "name": "stderr",
     "output_type": "stream",
     "text": [
      "Epoch 488/1000 [Training]: 100%|██████████| 100/100 [01:07<00:00,  1.47it/s, loss=0.2892]\n",
      "Epoch 488/1000 [Validation]: 100%|██████████| 2/2 [00:00<00:00,  3.23it/s, loss=0.3485]\n"
     ]
    },
    {
     "name": "stdout",
     "output_type": "stream",
     "text": [
      "train-epoch-loss:0.2892 valid-epoch-loss:0.3485 train-beta4-score:0.7804 valid-beta4-score:0.4516\n"
     ]
    },
    {
     "name": "stderr",
     "output_type": "stream",
     "text": [
      "Epoch 489/1000 [Training]: 100%|██████████| 100/100 [01:08<00:00,  1.47it/s, loss=0.2793]\n",
      "Epoch 489/1000 [Validation]: 100%|██████████| 2/2 [00:00<00:00,  3.14it/s, loss=0.3984]\n"
     ]
    },
    {
     "name": "stdout",
     "output_type": "stream",
     "text": [
      "train-epoch-loss:0.2793 valid-epoch-loss:0.3984 train-beta4-score:0.7122 valid-beta4-score:0.3588\n"
     ]
    },
    {
     "name": "stderr",
     "output_type": "stream",
     "text": [
      "Epoch 490/1000 [Training]: 100%|██████████| 100/100 [01:10<00:00,  1.42it/s, loss=0.3011]\n",
      "Epoch 490/1000 [Validation]: 100%|██████████| 2/2 [00:00<00:00,  3.25it/s, loss=0.5863]\n"
     ]
    },
    {
     "name": "stdout",
     "output_type": "stream",
     "text": [
      "train-epoch-loss:0.3011 valid-epoch-loss:0.5863 train-beta4-score:0.7456 valid-beta4-score:0.3771\n"
     ]
    },
    {
     "name": "stderr",
     "output_type": "stream",
     "text": [
      "Epoch 491/1000 [Training]: 100%|██████████| 100/100 [01:07<00:00,  1.49it/s, loss=0.3187]\n",
      "Epoch 491/1000 [Validation]: 100%|██████████| 2/2 [00:00<00:00,  3.12it/s, loss=0.3037]\n"
     ]
    },
    {
     "name": "stdout",
     "output_type": "stream",
     "text": [
      "train-epoch-loss:0.3187 valid-epoch-loss:0.3037 train-beta4-score:0.7540 valid-beta4-score:0.3860\n"
     ]
    },
    {
     "name": "stderr",
     "output_type": "stream",
     "text": [
      "Epoch 492/1000 [Training]: 100%|██████████| 100/100 [01:07<00:00,  1.48it/s, loss=0.2718]\n",
      "Epoch 492/1000 [Validation]: 100%|██████████| 2/2 [00:00<00:00,  3.20it/s, loss=0.5567]\n"
     ]
    },
    {
     "name": "stdout",
     "output_type": "stream",
     "text": [
      "train-epoch-loss:0.2718 valid-epoch-loss:0.5567 train-beta4-score:0.7813 valid-beta4-score:0.4650\n"
     ]
    },
    {
     "name": "stderr",
     "output_type": "stream",
     "text": [
      "Epoch 493/1000 [Training]: 100%|██████████| 100/100 [01:10<00:00,  1.41it/s, loss=0.3304]\n",
      "Epoch 493/1000 [Validation]: 100%|██████████| 2/2 [00:00<00:00,  3.18it/s, loss=0.3669]\n"
     ]
    },
    {
     "name": "stdout",
     "output_type": "stream",
     "text": [
      "train-epoch-loss:0.3304 valid-epoch-loss:0.3669 train-beta4-score:0.7566 valid-beta4-score:0.4103\n"
     ]
    },
    {
     "name": "stderr",
     "output_type": "stream",
     "text": [
      "Epoch 494/1000 [Training]: 100%|██████████| 100/100 [01:07<00:00,  1.47it/s, loss=0.3004]\n",
      "Epoch 494/1000 [Validation]: 100%|██████████| 2/2 [00:00<00:00,  3.17it/s, loss=0.3529]\n"
     ]
    },
    {
     "name": "stdout",
     "output_type": "stream",
     "text": [
      "train-epoch-loss:0.3004 valid-epoch-loss:0.3529 train-beta4-score:0.7741 valid-beta4-score:0.3940\n"
     ]
    },
    {
     "name": "stderr",
     "output_type": "stream",
     "text": [
      "Epoch 495/1000 [Training]: 100%|██████████| 100/100 [01:09<00:00,  1.44it/s, loss=0.3044]\n",
      "Epoch 495/1000 [Validation]: 100%|██████████| 2/2 [00:00<00:00,  3.23it/s, loss=0.4732]\n"
     ]
    },
    {
     "name": "stdout",
     "output_type": "stream",
     "text": [
      "train-epoch-loss:0.3044 valid-epoch-loss:0.4732 train-beta4-score:0.7779 valid-beta4-score:0.4471\n"
     ]
    },
    {
     "name": "stderr",
     "output_type": "stream",
     "text": [
      "Epoch 496/1000 [Training]: 100%|██████████| 100/100 [01:08<00:00,  1.46it/s, loss=0.2767]\n",
      "Epoch 496/1000 [Validation]: 100%|██████████| 2/2 [00:00<00:00,  3.14it/s, loss=0.5703]\n"
     ]
    },
    {
     "name": "stdout",
     "output_type": "stream",
     "text": [
      "train-epoch-loss:0.2767 valid-epoch-loss:0.5703 train-beta4-score:0.7322 valid-beta4-score:0.3741\n"
     ]
    },
    {
     "name": "stderr",
     "output_type": "stream",
     "text": [
      "Epoch 497/1000 [Training]: 100%|██████████| 100/100 [01:07<00:00,  1.47it/s, loss=0.2806]\n",
      "Epoch 497/1000 [Validation]: 100%|██████████| 2/2 [00:00<00:00,  3.22it/s, loss=0.6019]\n"
     ]
    },
    {
     "name": "stdout",
     "output_type": "stream",
     "text": [
      "train-epoch-loss:0.2806 valid-epoch-loss:0.6019 train-beta4-score:0.7673 valid-beta4-score:0.4045\n"
     ]
    },
    {
     "name": "stderr",
     "output_type": "stream",
     "text": [
      "Epoch 498/1000 [Training]: 100%|██████████| 100/100 [01:08<00:00,  1.46it/s, loss=0.2655]\n",
      "Epoch 498/1000 [Validation]: 100%|██████████| 2/2 [00:00<00:00,  3.23it/s, loss=0.2666]\n"
     ]
    },
    {
     "name": "stdout",
     "output_type": "stream",
     "text": [
      "train-epoch-loss:0.2655 valid-epoch-loss:0.2666 train-beta4-score:0.7705 valid-beta4-score:0.4160\n"
     ]
    },
    {
     "name": "stderr",
     "output_type": "stream",
     "text": [
      "Epoch 499/1000 [Training]: 100%|██████████| 100/100 [01:10<00:00,  1.42it/s, loss=0.2836]\n",
      "Epoch 499/1000 [Validation]: 100%|██████████| 2/2 [00:00<00:00,  3.16it/s, loss=0.5920]\n"
     ]
    },
    {
     "name": "stdout",
     "output_type": "stream",
     "text": [
      "train-epoch-loss:0.2836 valid-epoch-loss:0.5920 train-beta4-score:0.7424 valid-beta4-score:0.3443\n"
     ]
    },
    {
     "name": "stderr",
     "output_type": "stream",
     "text": [
      "Epoch 500/1000 [Training]: 100%|██████████| 100/100 [01:08<00:00,  1.45it/s, loss=0.3042]\n",
      "Epoch 500/1000 [Validation]: 100%|██████████| 2/2 [00:00<00:00,  3.22it/s, loss=0.4125]\n"
     ]
    },
    {
     "name": "stdout",
     "output_type": "stream",
     "text": [
      "train-epoch-loss:0.3042 valid-epoch-loss:0.4125 train-beta4-score:0.7212 valid-beta4-score:0.3526\n"
     ]
    },
    {
     "name": "stderr",
     "output_type": "stream",
     "text": [
      "Epoch 501/1000 [Training]: 100%|██████████| 100/100 [01:17<00:00,  1.29it/s, loss=0.2862]\n",
      "Epoch 501/1000 [Validation]: 100%|██████████| 2/2 [00:00<00:00,  3.29it/s, loss=0.4928]\n"
     ]
    },
    {
     "name": "stdout",
     "output_type": "stream",
     "text": [
      "train-epoch-loss:0.2862 valid-epoch-loss:0.4928 train-beta4-score:0.7761 valid-beta4-score:0.4219\n"
     ]
    },
    {
     "name": "stderr",
     "output_type": "stream",
     "text": [
      "Epoch 502/1000 [Training]: 100%|██████████| 100/100 [02:17<00:00,  1.37s/it, loss=0.2957]\n",
      "Epoch 502/1000 [Validation]: 100%|██████████| 2/2 [00:00<00:00,  3.74it/s, loss=0.3078]\n"
     ]
    },
    {
     "name": "stdout",
     "output_type": "stream",
     "text": [
      "train-epoch-loss:0.2957 valid-epoch-loss:0.3078 train-beta4-score:0.7655 valid-beta4-score:0.4043\n"
     ]
    },
    {
     "name": "stderr",
     "output_type": "stream",
     "text": [
      "Epoch 503/1000 [Training]: 100%|██████████| 100/100 [02:05<00:00,  1.26s/it, loss=0.3009]\n",
      "Epoch 503/1000 [Validation]: 100%|██████████| 2/2 [00:00<00:00,  3.64it/s, loss=0.5531]\n"
     ]
    },
    {
     "name": "stdout",
     "output_type": "stream",
     "text": [
      "train-epoch-loss:0.3009 valid-epoch-loss:0.5531 train-beta4-score:0.7827 valid-beta4-score:0.4523\n"
     ]
    },
    {
     "name": "stderr",
     "output_type": "stream",
     "text": [
      "Epoch 504/1000 [Training]: 100%|██████████| 100/100 [04:33<00:00,  2.74s/it, loss=0.2912]\n",
      "Epoch 504/1000 [Validation]: 100%|██████████| 2/2 [00:00<00:00,  3.04it/s, loss=0.4419]\n"
     ]
    },
    {
     "name": "stdout",
     "output_type": "stream",
     "text": [
      "train-epoch-loss:0.2912 valid-epoch-loss:0.4419 train-beta4-score:0.7747 valid-beta4-score:0.4113\n"
     ]
    },
    {
     "name": "stderr",
     "output_type": "stream",
     "text": [
      "Epoch 505/1000 [Training]: 100%|██████████| 100/100 [12:54<00:00,  7.75s/it, loss=0.2793]\n",
      "Epoch 505/1000 [Validation]: 100%|██████████| 2/2 [00:00<00:00,  3.19it/s, loss=0.5414]\n"
     ]
    },
    {
     "name": "stdout",
     "output_type": "stream",
     "text": [
      "train-epoch-loss:0.2793 valid-epoch-loss:0.5414 train-beta4-score:0.7716 valid-beta4-score:0.4109\n"
     ]
    },
    {
     "name": "stderr",
     "output_type": "stream",
     "text": [
      "Epoch 506/1000 [Training]: 100%|██████████| 100/100 [04:06<00:00,  2.46s/it, loss=0.2753]\n",
      "Epoch 506/1000 [Validation]: 100%|██████████| 2/2 [00:00<00:00,  3.09it/s, loss=0.6648]\n"
     ]
    },
    {
     "name": "stdout",
     "output_type": "stream",
     "text": [
      "train-epoch-loss:0.2753 valid-epoch-loss:0.6648 train-beta4-score:0.7750 valid-beta4-score:0.4163\n"
     ]
    },
    {
     "name": "stderr",
     "output_type": "stream",
     "text": [
      "Epoch 507/1000 [Training]: 100%|██████████| 100/100 [10:01<00:00,  6.02s/it, loss=0.3343] \n",
      "Epoch 507/1000 [Validation]: 100%|██████████| 2/2 [00:00<00:00,  2.12it/s, loss=0.3505]\n"
     ]
    },
    {
     "name": "stdout",
     "output_type": "stream",
     "text": [
      "train-epoch-loss:0.3343 valid-epoch-loss:0.3505 train-beta4-score:0.7740 valid-beta4-score:0.4332\n"
     ]
    },
    {
     "name": "stderr",
     "output_type": "stream",
     "text": [
      "Epoch 508/1000 [Training]: 100%|██████████| 100/100 [07:18<00:00,  4.39s/it, loss=0.2757]\n",
      "Epoch 508/1000 [Validation]: 100%|██████████| 2/2 [00:01<00:00,  1.54it/s, loss=0.5412]\n"
     ]
    },
    {
     "name": "stdout",
     "output_type": "stream",
     "text": [
      "train-epoch-loss:0.2757 valid-epoch-loss:0.5412 train-beta4-score:0.7461 valid-beta4-score:0.4104\n"
     ]
    },
    {
     "name": "stderr",
     "output_type": "stream",
     "text": [
      "Epoch 509/1000 [Training]: 100%|██████████| 100/100 [06:39<00:00,  4.00s/it, loss=0.2807]\n",
      "Epoch 509/1000 [Validation]: 100%|██████████| 2/2 [00:00<00:00,  2.59it/s, loss=0.3555]\n"
     ]
    },
    {
     "name": "stdout",
     "output_type": "stream",
     "text": [
      "train-epoch-loss:0.2807 valid-epoch-loss:0.3555 train-beta4-score:0.7796 valid-beta4-score:0.3936\n"
     ]
    },
    {
     "name": "stderr",
     "output_type": "stream",
     "text": [
      "Epoch 510/1000 [Training]: 100%|██████████| 100/100 [07:43<00:00,  4.64s/it, loss=0.2722]\n",
      "Epoch 510/1000 [Validation]: 100%|██████████| 2/2 [00:00<00:00,  2.84it/s, loss=0.4044]\n"
     ]
    },
    {
     "name": "stdout",
     "output_type": "stream",
     "text": [
      "train-epoch-loss:0.2722 valid-epoch-loss:0.4044 train-beta4-score:0.7644 valid-beta4-score:0.4270\n"
     ]
    },
    {
     "name": "stderr",
     "output_type": "stream",
     "text": [
      "Epoch 511/1000 [Training]: 100%|██████████| 100/100 [06:32<00:00,  3.92s/it, loss=0.3159]\n",
      "Epoch 511/1000 [Validation]: 100%|██████████| 2/2 [00:01<00:00,  1.49it/s, loss=0.4702]\n"
     ]
    },
    {
     "name": "stdout",
     "output_type": "stream",
     "text": [
      "train-epoch-loss:0.3159 valid-epoch-loss:0.4702 train-beta4-score:0.7668 valid-beta4-score:0.3966\n"
     ]
    },
    {
     "name": "stderr",
     "output_type": "stream",
     "text": [
      "Epoch 512/1000 [Training]: 100%|██████████| 100/100 [07:20<00:00,  4.40s/it, loss=0.2899]\n",
      "Epoch 512/1000 [Validation]: 100%|██████████| 2/2 [00:00<00:00,  2.78it/s, loss=0.4815]\n"
     ]
    },
    {
     "name": "stdout",
     "output_type": "stream",
     "text": [
      "train-epoch-loss:0.2899 valid-epoch-loss:0.4815 train-beta4-score:0.7888 valid-beta4-score:0.3975\n"
     ]
    },
    {
     "name": "stderr",
     "output_type": "stream",
     "text": [
      "Epoch 513/1000 [Training]: 100%|██████████| 100/100 [06:45<00:00,  4.05s/it, loss=0.2933]\n",
      "Epoch 513/1000 [Validation]: 100%|██████████| 2/2 [00:00<00:00,  2.88it/s, loss=0.4508]\n"
     ]
    },
    {
     "name": "stdout",
     "output_type": "stream",
     "text": [
      "train-epoch-loss:0.2933 valid-epoch-loss:0.4508 train-beta4-score:0.7787 valid-beta4-score:0.4345\n"
     ]
    },
    {
     "name": "stderr",
     "output_type": "stream",
     "text": [
      "Epoch 514/1000 [Training]: 100%|██████████| 100/100 [07:43<00:00,  4.63s/it, loss=0.2735] \n",
      "Epoch 514/1000 [Validation]: 100%|██████████| 2/2 [00:00<00:00,  2.98it/s, loss=0.4504]\n"
     ]
    },
    {
     "name": "stdout",
     "output_type": "stream",
     "text": [
      "train-epoch-loss:0.2735 valid-epoch-loss:0.4504 train-beta4-score:0.7805 valid-beta4-score:0.4080\n"
     ]
    },
    {
     "name": "stderr",
     "output_type": "stream",
     "text": [
      "Epoch 515/1000 [Training]: 100%|██████████| 100/100 [06:48<00:00,  4.08s/it, loss=0.3399] \n",
      "Epoch 515/1000 [Validation]: 100%|██████████| 2/2 [00:00<00:00,  3.10it/s, loss=0.3794]\n"
     ]
    },
    {
     "name": "stdout",
     "output_type": "stream",
     "text": [
      "train-epoch-loss:0.3399 valid-epoch-loss:0.3794 train-beta4-score:0.7317 valid-beta4-score:0.4245\n"
     ]
    },
    {
     "name": "stderr",
     "output_type": "stream",
     "text": [
      "Epoch 516/1000 [Training]: 100%|██████████| 100/100 [10:09<00:00,  6.10s/it, loss=0.2991]\n",
      "Epoch 516/1000 [Validation]: 100%|██████████| 2/2 [00:00<00:00,  2.80it/s, loss=0.3756]\n"
     ]
    },
    {
     "name": "stdout",
     "output_type": "stream",
     "text": [
      "train-epoch-loss:0.2991 valid-epoch-loss:0.3756 train-beta4-score:0.7694 valid-beta4-score:0.3849\n"
     ]
    },
    {
     "name": "stderr",
     "output_type": "stream",
     "text": [
      "Epoch 517/1000 [Training]: 100%|██████████| 100/100 [07:39<00:00,  4.59s/it, loss=0.2661]\n",
      "Epoch 517/1000 [Validation]: 100%|██████████| 2/2 [00:00<00:00,  2.64it/s, loss=0.6410]\n"
     ]
    },
    {
     "name": "stdout",
     "output_type": "stream",
     "text": [
      "train-epoch-loss:0.2661 valid-epoch-loss:0.6410 train-beta4-score:0.7800 valid-beta4-score:0.4210\n"
     ]
    },
    {
     "name": "stderr",
     "output_type": "stream",
     "text": [
      "Epoch 518/1000 [Training]: 100%|██████████| 100/100 [06:24<00:00,  3.85s/it, loss=0.2975]\n",
      "Epoch 518/1000 [Validation]: 100%|██████████| 2/2 [00:00<00:00,  3.01it/s, loss=0.6372]\n"
     ]
    },
    {
     "name": "stdout",
     "output_type": "stream",
     "text": [
      "train-epoch-loss:0.2975 valid-epoch-loss:0.6372 train-beta4-score:0.7794 valid-beta4-score:0.4152\n"
     ]
    },
    {
     "name": "stderr",
     "output_type": "stream",
     "text": [
      "Epoch 519/1000 [Training]: 100%|██████████| 100/100 [07:28<00:00,  4.49s/it, loss=0.2995]\n",
      "Epoch 519/1000 [Validation]: 100%|██████████| 2/2 [00:00<00:00,  3.10it/s, loss=0.5151]\n"
     ]
    },
    {
     "name": "stdout",
     "output_type": "stream",
     "text": [
      "train-epoch-loss:0.2995 valid-epoch-loss:0.5151 train-beta4-score:0.7713 valid-beta4-score:0.4022\n"
     ]
    },
    {
     "name": "stderr",
     "output_type": "stream",
     "text": [
      "Epoch 520/1000 [Training]: 100%|██████████| 100/100 [06:48<00:00,  4.08s/it, loss=0.3002]\n",
      "Epoch 520/1000 [Validation]: 100%|██████████| 2/2 [00:00<00:00,  2.73it/s, loss=0.3199]\n"
     ]
    },
    {
     "name": "stdout",
     "output_type": "stream",
     "text": [
      "train-epoch-loss:0.3002 valid-epoch-loss:0.3199 train-beta4-score:0.7834 valid-beta4-score:0.4421\n"
     ]
    },
    {
     "name": "stderr",
     "output_type": "stream",
     "text": [
      "Epoch 521/1000 [Training]: 100%|██████████| 100/100 [07:33<00:00,  4.54s/it, loss=0.2799]\n",
      "Epoch 521/1000 [Validation]: 100%|██████████| 2/2 [00:00<00:00,  2.55it/s, loss=0.6257]\n"
     ]
    },
    {
     "name": "stdout",
     "output_type": "stream",
     "text": [
      "train-epoch-loss:0.2799 valid-epoch-loss:0.6257 train-beta4-score:0.7556 valid-beta4-score:0.3942\n"
     ]
    },
    {
     "name": "stderr",
     "output_type": "stream",
     "text": [
      "Epoch 522/1000 [Training]: 100%|██████████| 100/100 [06:51<00:00,  4.12s/it, loss=0.2732] \n",
      "Epoch 522/1000 [Validation]: 100%|██████████| 2/2 [00:00<00:00,  3.02it/s, loss=0.4698]\n"
     ]
    },
    {
     "name": "stdout",
     "output_type": "stream",
     "text": [
      "train-epoch-loss:0.2732 valid-epoch-loss:0.4698 train-beta4-score:0.7761 valid-beta4-score:0.4237\n"
     ]
    },
    {
     "name": "stderr",
     "output_type": "stream",
     "text": [
      "Epoch 523/1000 [Training]: 100%|██████████| 100/100 [07:26<00:00,  4.47s/it, loss=0.2854] \n",
      "Epoch 523/1000 [Validation]: 100%|██████████| 2/2 [00:00<00:00,  2.56it/s, loss=0.2270]\n"
     ]
    },
    {
     "name": "stdout",
     "output_type": "stream",
     "text": [
      "train-epoch-loss:0.2854 valid-epoch-loss:0.2270 train-beta4-score:0.7857 valid-beta4-score:0.4309\n"
     ]
    },
    {
     "name": "stderr",
     "output_type": "stream",
     "text": [
      "Epoch 524/1000 [Training]: 100%|██████████| 100/100 [06:22<00:00,  3.83s/it, loss=0.2884]\n",
      "Epoch 524/1000 [Validation]: 100%|██████████| 2/2 [00:00<00:00,  2.43it/s, loss=0.5316]\n"
     ]
    },
    {
     "name": "stdout",
     "output_type": "stream",
     "text": [
      "train-epoch-loss:0.2884 valid-epoch-loss:0.5316 train-beta4-score:0.7693 valid-beta4-score:0.3882\n"
     ]
    },
    {
     "name": "stderr",
     "output_type": "stream",
     "text": [
      "Epoch 525/1000 [Training]: 100%|██████████| 100/100 [10:32<00:00,  6.33s/it, loss=0.2529] \n",
      "Epoch 525/1000 [Validation]: 100%|██████████| 2/2 [00:00<00:00,  2.61it/s, loss=0.5114]\n"
     ]
    },
    {
     "name": "stdout",
     "output_type": "stream",
     "text": [
      "train-epoch-loss:0.2529 valid-epoch-loss:0.5114 train-beta4-score:0.7857 valid-beta4-score:0.4444\n"
     ]
    },
    {
     "name": "stderr",
     "output_type": "stream",
     "text": [
      "Epoch 526/1000 [Training]: 100%|██████████| 100/100 [03:42<00:00,  2.22s/it, loss=0.2709]\n",
      "Epoch 526/1000 [Validation]: 100%|██████████| 2/2 [00:01<00:00,  1.56it/s, loss=0.4274]\n"
     ]
    },
    {
     "name": "stdout",
     "output_type": "stream",
     "text": [
      "train-epoch-loss:0.2709 valid-epoch-loss:0.4274 train-beta4-score:0.7780 valid-beta4-score:0.3773\n"
     ]
    },
    {
     "name": "stderr",
     "output_type": "stream",
     "text": [
      "Epoch 527/1000 [Training]: 100%|██████████| 100/100 [06:26<00:00,  3.86s/it, loss=0.2658]\n",
      "Epoch 527/1000 [Validation]: 100%|██████████| 2/2 [00:00<00:00,  2.78it/s, loss=0.5134]\n"
     ]
    },
    {
     "name": "stdout",
     "output_type": "stream",
     "text": [
      "train-epoch-loss:0.2658 valid-epoch-loss:0.5134 train-beta4-score:0.7521 valid-beta4-score:0.3704\n"
     ]
    },
    {
     "name": "stderr",
     "output_type": "stream",
     "text": [
      "Epoch 528/1000 [Training]: 100%|██████████| 100/100 [02:18<00:00,  1.38s/it, loss=0.2711]\n",
      "Epoch 528/1000 [Validation]: 100%|██████████| 2/2 [00:00<00:00,  3.00it/s, loss=0.6041]\n"
     ]
    },
    {
     "name": "stdout",
     "output_type": "stream",
     "text": [
      "train-epoch-loss:0.2711 valid-epoch-loss:0.6041 train-beta4-score:0.7655 valid-beta4-score:0.3877\n"
     ]
    },
    {
     "name": "stderr",
     "output_type": "stream",
     "text": [
      "Epoch 529/1000 [Training]: 100%|██████████| 100/100 [05:21<00:00,  3.21s/it, loss=0.2672]\n",
      "Epoch 529/1000 [Validation]: 100%|██████████| 2/2 [00:00<00:00,  3.04it/s, loss=0.3426]\n"
     ]
    },
    {
     "name": "stdout",
     "output_type": "stream",
     "text": [
      "train-epoch-loss:0.2672 valid-epoch-loss:0.3426 train-beta4-score:0.7796 valid-beta4-score:0.4079\n"
     ]
    },
    {
     "name": "stderr",
     "output_type": "stream",
     "text": [
      "Epoch 530/1000 [Training]: 100%|██████████| 100/100 [01:51<00:00,  1.12s/it, loss=0.2970]\n",
      "Epoch 530/1000 [Validation]: 100%|██████████| 2/2 [00:00<00:00,  2.95it/s, loss=0.4469]\n"
     ]
    },
    {
     "name": "stdout",
     "output_type": "stream",
     "text": [
      "train-epoch-loss:0.2970 valid-epoch-loss:0.4469 train-beta4-score:0.7787 valid-beta4-score:0.3997\n"
     ]
    },
    {
     "name": "stderr",
     "output_type": "stream",
     "text": [
      "Epoch 531/1000 [Training]: 100%|██████████| 100/100 [03:53<00:00,  2.33s/it, loss=0.2794]\n",
      "Epoch 531/1000 [Validation]: 100%|██████████| 2/2 [00:00<00:00,  3.09it/s, loss=0.4104]\n"
     ]
    },
    {
     "name": "stdout",
     "output_type": "stream",
     "text": [
      "train-epoch-loss:0.2794 valid-epoch-loss:0.4104 train-beta4-score:0.7919 valid-beta4-score:0.4410\n"
     ]
    },
    {
     "name": "stderr",
     "output_type": "stream",
     "text": [
      "Epoch 532/1000 [Training]: 100%|██████████| 100/100 [01:53<00:00,  1.13s/it, loss=0.3317]\n",
      "Epoch 532/1000 [Validation]: 100%|██████████| 2/2 [00:00<00:00,  3.09it/s, loss=0.4937]\n"
     ]
    },
    {
     "name": "stdout",
     "output_type": "stream",
     "text": [
      "train-epoch-loss:0.3317 valid-epoch-loss:0.4937 train-beta4-score:0.6885 valid-beta4-score:0.3441\n"
     ]
    },
    {
     "name": "stderr",
     "output_type": "stream",
     "text": [
      "Epoch 533/1000 [Training]:  48%|████▊     | 48/100 [02:58<03:13,  3.72s/it, loss=0.3019]\n"
     ]
    },
    {
     "ename": "KeyboardInterrupt",
     "evalue": "",
     "output_type": "error",
     "traceback": [
      "\u001b[0;31m---------------------------------------------------------------------------\u001b[0m",
      "\u001b[0;31mKeyboardInterrupt\u001b[0m                         Traceback (most recent call last)",
      "Cell \u001b[0;32mIn[12], line 34\u001b[0m\n\u001b[1;32m     32\u001b[0m optimizer\u001b[38;5;241m.\u001b[39mstep()\n\u001b[1;32m     33\u001b[0m scheduler\u001b[38;5;241m.\u001b[39mstep()\n\u001b[0;32m---> 34\u001b[0m train_loss\u001b[38;5;241m.\u001b[39mappend(\u001b[43mloss\u001b[49m\u001b[38;5;241;43m.\u001b[39;49m\u001b[43mitem\u001b[49m\u001b[43m(\u001b[49m\u001b[43m)\u001b[49m)\n\u001b[1;32m     36\u001b[0m \u001b[38;5;66;03m# 確率予測\u001b[39;00m\n\u001b[1;32m     37\u001b[0m prob_pred \u001b[38;5;241m=\u001b[39m torch\u001b[38;5;241m.\u001b[39msoftmax(pred, dim\u001b[38;5;241m=\u001b[39m\u001b[38;5;241m1\u001b[39m)\n",
      "\u001b[0;31mKeyboardInterrupt\u001b[0m: "
     ]
    }
   ],
   "source": [
    "best_model = None\n",
    "best_score = -100\n",
    "\n",
    "grand_train_loss = []\n",
    "grand_valid_loss = []\n",
    "grand_train_score = []\n",
    "grand_valid_score = []\n",
    "\n",
    "for epoch in range(CFG.epochs):\n",
    "    model.train()\n",
    "    train_loss = []\n",
    "    valid_loss = []\n",
    "    with tqdm(train_loader, desc=f\"Epoch {epoch + 1}/{CFG.epochs} [Training]\") as tq:\n",
    "        for data in tq:\n",
    "            normalized_tomogram = data[\"normalized_tomogram\"]\n",
    "            segmentation_map = data[\"segmentation_map\"]\n",
    "\n",
    "            normalized_tomogram = padf(normalized_tomogram)\n",
    "            segmentation_map = padf(segmentation_map)\n",
    "\n",
    "            # データ拡張\n",
    "            normalized_tomogram, segmentation_map = augment_data(\n",
    "                normalized_tomogram, segmentation_map, p=CFG.augmentation_prob\n",
    "            )\n",
    "            normalized_tomogram = normalized_tomogram.cuda()\n",
    "            segmentation_map = segmentation_map.long().cuda()\n",
    "\n",
    "            optimizer.zero_grad()\n",
    "            pred = model(preprocess_tensor(normalized_tomogram))\n",
    "            loss = seg_loss(pred, segmentation_map)\n",
    "            loss.backward()\n",
    "            optimizer.step()\n",
    "            scheduler.step()\n",
    "            train_loss.append(loss.item())\n",
    "\n",
    "            # 確率予測\n",
    "            prob_pred = torch.softmax(pred, dim=1)\n",
    "            tq.set_postfix({\"loss\": f\"{np.mean(train_loss):.4f}\"})\n",
    "\n",
    "    with tqdm(valid_loader, desc=f\"Epoch {epoch + 1}/{CFG.epochs} [Validation]\") as tq:\n",
    "        for data in tq:\n",
    "            normalized_tomogram = data[\"normalized_tomogram\"].cuda()\n",
    "            segmentation_map = data[\"segmentation_map\"].long().cuda()\n",
    "\n",
    "            normalized_tomogram = padf(normalized_tomogram)\n",
    "            segmentation_map = padf(segmentation_map)\n",
    "\n",
    "            pred = model(preprocess_tensor(normalized_tomogram))\n",
    "            loss = seg_loss(pred, segmentation_map)\n",
    "            valid_loss.append(loss.item())\n",
    "\n",
    "            # 確率予測\n",
    "            prob_pred = torch.softmax(pred, dim=1)\n",
    "            tq.set_postfix({\"loss\": f\"{np.mean(valid_loss):.4f}\"})\n",
    "\n",
    "    # # ############### validation ################\n",
    "    train_nshuffle_original_tomogram = defaultdict(list)\n",
    "    train_nshuffle_pred_tomogram = defaultdict(list)\n",
    "    train_nshuffle_gt_tomogram = defaultdict(list)\n",
    "\n",
    "    valid_original_tomogram = defaultdict(list)\n",
    "    valid_pred_tomogram = defaultdict(list)\n",
    "    valid_gt_tomogram = defaultdict(list)\n",
    "\n",
    "    train_mean_scores = []\n",
    "    valid_mean_scores = []\n",
    "\n",
    "    # モデルの保存\n",
    "    torch.save(model.state_dict(), \"./pretrained_model.pth\")\n",
    "\n",
    "    # ############### validation ################\n",
    "    train_nshuffle_original_tomogram = defaultdict(list)\n",
    "    train_nshuffle_pred_tomogram = defaultdict(list)\n",
    "    train_nshuffle_gt_tomogram = defaultdict(list)\n",
    "\n",
    "    valid_original_tomogram = defaultdict(list)\n",
    "    valid_pred_tomogram = defaultdict(list)\n",
    "    valid_gt_tomogram = defaultdict(list)\n",
    "\n",
    "    train_mean_scores = []\n",
    "    valid_mean_scores = []\n",
    "\n",
    "    # for exp_name in tqdm(CFG.train_exp_names):\n",
    "    for exp_name in CFG.train_exp_names[:5]:  # 5つのデータで試す\n",
    "        # inferenced_array = inference(model, exp_name, train=False)\n",
    "        inferenced_array, n_tomogram, segmentation_map = inference(\n",
    "            model, exp_name, train=True\n",
    "        )\n",
    "        pred_df = inference2pos(\n",
    "            pred_segmask=inferenced_array.argmax(0), exp_name=exp_name\n",
    "        )\n",
    "        base_dir = \"../../inputs/train/overlay/ExperimentRuns/\"\n",
    "        gt_df = create_gt_df(base_dir, [exp_name])\n",
    "\n",
    "        train_nshuffle_pred_tomogram[exp_name] = inferenced_array\n",
    "\n",
    "        score_ = score(\n",
    "            pred_df, gt_df, row_id_column_name=\"index\", distance_multiplier=1.0, beta=4\n",
    "        )\n",
    "        train_mean_scores.append(score_)\n",
    "\n",
    "    # print(\"train_mean_scores\", np.mean(train_mean_scores))\n",
    "\n",
    "    for exp_name in CFG.valid_exp_names:\n",
    "        inferenced_array, n_tomogram, segmentation_map = inference(\n",
    "            model, exp_name, train=True\n",
    "        )\n",
    "        pred_df = inference2pos(\n",
    "            pred_segmask=inferenced_array.argmax(0), exp_name=exp_name\n",
    "        )\n",
    "        base_dir = \"../../inputs/train/overlay/ExperimentRuns/\"\n",
    "        gt_df = create_gt_df(base_dir, [exp_name])\n",
    "\n",
    "        valid_pred_tomogram[exp_name] = inferenced_array\n",
    "\n",
    "        score_ = score(\n",
    "            pred_df, gt_df, row_id_column_name=\"index\", distance_multiplier=1.0, beta=4\n",
    "        )\n",
    "        valid_mean_scores.append(score_)\n",
    "\n",
    "    # print(\"valid_mean_scores\", np.mean(valid_mean_scores))\n",
    "\n",
    "    if np.mean(valid_mean_scores) > best_score:\n",
    "        best_score = np.mean(valid_mean_scores)\n",
    "        best_model = model.state_dict()\n",
    "        torch.save(best_model, f\"./best_model.pth\")\n",
    "\n",
    "    print(\n",
    "        f\"train-epoch-loss:{np.mean(train_loss):.4f}\",\n",
    "        f\"valid-epoch-loss:{np.mean(valid_loss):.4f}\",\n",
    "        f\"train-beta4-score:{np.mean(train_mean_scores):.4f}\",\n",
    "        f\"valid-beta4-score:{np.mean(valid_mean_scores):.4f}\",\n",
    "    )\n",
    "\n",
    "    grand_train_loss.append(np.mean(train_loss))\n",
    "    grand_valid_loss.append(np.mean(valid_loss))\n",
    "    grand_train_score.append(np.mean(train_mean_scores))\n",
    "    grand_valid_score.append(np.mean(valid_mean_scores))"
   ]
  },
  {
   "cell_type": "code",
   "execution_count": 13,
   "metadata": {},
   "outputs": [
    {
     "data": {
      "image/png": "[encoded data removed]",
      "text/plain": [
       "<Figure size 640x480 with 1 Axes>"
      ]
     },
     "metadata": {},
     "output_type": "display_data"
    }
   ],
   "source": [
    "# train_lossとvalid_lossのプロット\n",
    "\n",
    "plt.plot(grand_train_loss, label=\"train_loss\")\n",
    "plt.plot(grand_valid_loss, label=\"valid_loss\")\n",
    "plt.legend()\n",
    "plt.show()"
   ]
  },
  {
   "cell_type": "code",
   "execution_count": 14,
   "metadata": {},
   "outputs": [
    {
     "data": {
      "image/png": "[encoded data removed]",
      "text/plain": [
       "<Figure size 640x480 with 1 Axes>"
      ]
     },
     "metadata": {},
     "output_type": "display_data"
    }
   ],
   "source": [
    "# train_scoreとvalid_scoreのプロット\n",
    "plt.plot(grand_train_score, label=\"train_score\")\n",
    "plt.plot(grand_valid_score, label=\"valid_score\")\n",
    "plt.legend()\n",
    "plt.show()"
   ]
  },
  {
   "cell_type": "code",
   "execution_count": null,
   "metadata": {},
   "outputs": [],
   "source": [
    "random.random()"
   ]
  },
  {
   "cell_type": "code",
   "execution_count": null,
   "metadata": {},
   "outputs": [],
   "source": []
  }
 ],
 "metadata": {
  "kernelspec": {
   "display_name": "kaggle",
   "language": "python",
   "name": "python3"
  },
  "language_info": {
   "codemirror_mode": {
    "name": "ipython",
    "version": 3
   },
   "file_extension": ".py",
   "mimetype": "text/x-python",
   "name": "python",
   "nbconvert_exporter": "python",
   "pygments_lexer": "ipython3",
   "version": "3.9.16"
  }
 },
 "nbformat": 4,
 "nbformat_minor": 2
}
