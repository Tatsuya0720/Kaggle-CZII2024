{
 "cells": [
  {
   "cell_type": "code",
   "execution_count": 1,
   "metadata": {},
   "outputs": [],
   "source": [
    "import os\n",
    "import zarr\n",
    "import timm\n",
    "import random\n",
    "import json\n",
    "import gc\n",
    "import warnings\n",
    "import numpy as np\n",
    "import pandas as pd\n",
    "import torch.nn as nn\n",
    "from pathlib import Path\n",
    "import matplotlib.pyplot as plt\n",
    "from torch.utils.data import DataLoader, Dataset\n",
    "from collections import defaultdict\n",
    "import sys\n",
    "import torch\n",
    "from torch.cuda.amp import autocast, GradScaler\n",
    "\n",
    "# import torchvision.transforms.functional as F\n",
    "import random\n",
    "\n",
    "warnings.filterwarnings(\"ignore\")\n",
    "sys.path.append(\"./src/\")\n",
    "\n",
    "from src.config import CFG\n",
    "from src.dataloader import (\n",
    "    read_zarr,\n",
    "    read_info_json,\n",
    "    scale_coordinates,\n",
    "    create_dataset,\n",
    "    create_segmentation_map,\n",
    "    EziiDataset,\n",
    "    drop_padding,\n",
    ")\n",
    "from src.network import Unet3D\n",
    "from src.utils import save_images, PadToSize\n",
    "from src.metric import (\n",
    "    score,\n",
    "    create_cls_pos,\n",
    "    create_cls_pos_sikii,\n",
    "    create_df,\n",
    "    SegmentationLoss,\n",
    "    DiceLoss,\n",
    ")\n",
    "from src.inference import inference, inference2pos, create_gt_df\n",
    "from metric import visualize_epoch_results"
   ]
  },
  {
   "cell_type": "code",
   "execution_count": 2,
   "metadata": {},
   "outputs": [
    {
     "name": "stderr",
     "output_type": "stream",
     "text": [
      "100%|██████████| 517/517 [01:16<00:00,  6.75it/s]\n",
      "100%|██████████| 2/2 [00:03<00:00,  1.58s/it]\n",
      "  0%|          | 0/258 [00:02<?, ?it/s]\n"
     ]
    },
    {
     "data": {
      "text/plain": [
       "torch.Size([2, 16, 630, 630])"
      ]
     },
     "execution_count": 2,
     "metadata": {},
     "output_type": "execute_result"
    }
   ],
   "source": [
    "train_dataset = EziiDataset(\n",
    "    exp_names=CFG.train_exp_names,\n",
    "    base_dir=\"../../inputs/train/\",\n",
    "    particles_name=CFG.particles_name,\n",
    "    resolution=CFG.resolution,\n",
    "    zarr_type=CFG.train_zarr_types,\n",
    "    train=True,\n",
    "    augmentation=True,\n",
    "    slice=True,\n",
    "    pre_read=True,\n",
    ")\n",
    "\n",
    "# train_nshuffle_dataset = EziiDataset(\n",
    "#     exp_names=CFG.train_exp_names,\n",
    "#     base_dir=\"../../inputs/train/\",\n",
    "#     particles_name=CFG.particles_name,\n",
    "#     resolution=CFG.resolution,\n",
    "#     zarr_type=CFG.train_zarr_types,\n",
    "#     augmentation=False,\n",
    "#     train=True,\n",
    "# )\n",
    "\n",
    "valid_dataset = EziiDataset(\n",
    "    exp_names=CFG.valid_exp_names,\n",
    "    base_dir=\"../../inputs/train/\",\n",
    "    particles_name=CFG.particles_name,\n",
    "    resolution=CFG.resolution,\n",
    "    zarr_type=CFG.valid_zarr_types,\n",
    "    augmentation=False,\n",
    "    train=True,\n",
    "    slice=True,\n",
    "    pre_read=True,\n",
    ")\n",
    "\n",
    "from tqdm import tqdm\n",
    "\n",
    "train_loader = DataLoader(\n",
    "    train_dataset,\n",
    "    batch_size=CFG.batch_size,\n",
    "    shuffle=True,\n",
    "    drop_last=True,\n",
    "    pin_memory=True,\n",
    "    num_workers=CFG.num_workers,\n",
    ")\n",
    "# train_nshuffle_loader = DataLoader(\n",
    "#     train_nshuffle_dataset,\n",
    "#     batch_size=1,\n",
    "#     shuffle=True,\n",
    "#     drop_last=True,\n",
    "#     pin_memory=True,\n",
    "#     num_workers=CFG.num_workers,\n",
    "# )\n",
    "valid_loader = DataLoader(\n",
    "    valid_dataset,\n",
    "    batch_size=1,\n",
    "    shuffle=False,\n",
    "    pin_memory=True,\n",
    "    num_workers=CFG.num_workers,\n",
    ")\n",
    "\n",
    "for data in tqdm(train_loader):\n",
    "    normalized_tomogram = data[\"normalized_tomogram\"]\n",
    "    segmentation_map = data[\"segmentation_map\"]\n",
    "    break\n",
    "\n",
    "normalized_tomogram.shape"
   ]
  },
  {
   "cell_type": "code",
   "execution_count": 3,
   "metadata": {},
   "outputs": [
    {
     "data": {
      "text/plain": [
       "(array(['ctfdeconvolved', 'denoised', 'isonetcorrected', 'none', 'wbp'],\n",
       "       dtype='<U15'),\n",
       " array([ 55,  55,  55, 297,  55]))"
      ]
     },
     "execution_count": 3,
     "metadata": {},
     "output_type": "execute_result"
    }
   ],
   "source": [
    "# 学習時のデータパターン\n",
    "\n",
    "z_list = []\n",
    "\n",
    "for i in range(len(train_dataset)):\n",
    "    z = train_dataset[i][\"zarr_type\"]\n",
    "    z_list.append(z)\n",
    "\n",
    "np.unique(np.array(z_list), return_counts=True)"
   ]
  },
  {
   "cell_type": "code",
   "execution_count": 4,
   "metadata": {},
   "outputs": [],
   "source": [
    "encoder = timm.create_model(\n",
    "    model_name=CFG.model_name,\n",
    "    pretrained=True,\n",
    "    in_chans=3,\n",
    "    num_classes=0,\n",
    "    global_pool=\"\",\n",
    "    features_only=True,\n",
    ")\n",
    "model = Unet3D(encoder=encoder, num_domains=5).to(\"cuda\")\n",
    "# model.load_state_dict(torch.load(\"./pretrained_model.pth\"))\n",
    "# model.load_state_dict(torch.load(\"./best_model.pth\"))"
   ]
  },
  {
   "cell_type": "code",
   "execution_count": 5,
   "metadata": {},
   "outputs": [
    {
     "data": {
      "text/plain": [
       "torch.Size([2, 7, 16, 64, 64])"
      ]
     },
     "execution_count": 5,
     "metadata": {},
     "output_type": "execute_result"
    }
   ],
   "source": [
    "# input-test\n",
    "\n",
    "x = torch.randn(2, 16, 1, 64, 64).cuda()\n",
    "model(x, torch.tensor([2, 0]).cuda()).shape"
   ]
  },
  {
   "cell_type": "code",
   "execution_count": 6,
   "metadata": {},
   "outputs": [],
   "source": [
    "# # \"encoder\"と名のつくパラメータは学習しない\n",
    "# for layer, param in model.named_parameters():\n",
    "#     if \"encoder\" in layer:\n",
    "#         param.requires_grad = False"
   ]
  },
  {
   "cell_type": "code",
   "execution_count": 7,
   "metadata": {},
   "outputs": [],
   "source": [
    "import matplotlib.pyplot as plt\n",
    "import numpy as np\n",
    "from matplotlib.colors import ListedColormap\n",
    "from matplotlib.patches import Patch\n",
    "\n",
    "# サンプルデータ\n",
    "num_classes = len(CFG.particles_name)  # クラス数\n",
    "colors = plt.cm.tab10(\n",
    "    np.arange(len(CFG.particles_name))\n",
    ")  # \"tab10\" カラーマップから色を取得\n",
    "\n",
    "# ListedColormap を作成\n",
    "class_colormap = ListedColormap(colors)\n",
    "\n",
    "\n",
    "# カラーバー付きプロット\n",
    "def plot_with_colormap(data, title, original_tomogram):\n",
    "    masked_data = np.ma.masked_where(data <= 0, data)  # クラス0をマスク\n",
    "    plt.imshow(original_tomogram, cmap=\"gray\")\n",
    "    im = plt.imshow(masked_data, cmap=class_colormap)\n",
    "    plt.title(title)\n",
    "    plt.axis(\"off\")\n",
    "    return im"
   ]
  },
  {
   "cell_type": "code",
   "execution_count": 8,
   "metadata": {},
   "outputs": [
    {
     "name": "stdout",
     "output_type": "stream",
     "text": [
      "Original shape: torch.Size([6, 16, 320, 320])\n",
      "Augmented shape: torch.Size([6, 16, 320, 320])\n"
     ]
    }
   ],
   "source": [
    "import torch\n",
    "import random\n",
    "import torchvision.transforms.functional as TF\n",
    "\n",
    "\n",
    "# 回転\n",
    "# 3Dテンソルの各軸に対して指定した角度で回転する関数\n",
    "def rotate_3d(tomogram, segmentation_map, angle):\n",
    "    \"\"\"Rotates the 3D tensors tomogram and segmentation_map around the Z-axis.\"\"\"\n",
    "    rotated_tomogram = TF.rotate(tomogram, angle, expand=False)\n",
    "    rotated_segmentation_map = TF.rotate(segmentation_map, angle, expand=False)\n",
    "    return rotated_tomogram, rotated_segmentation_map\n",
    "\n",
    "\n",
    "# 平行移動\n",
    "# 指定された範囲でランダムに平行移動\n",
    "def translate_3d(tomogram, segmentation_map, max_shift):\n",
    "    \"\"\"Translates the 3D tensors by a random shift within max_shift.\"\"\"\n",
    "    shift_x = random.randint(-max_shift, max_shift)\n",
    "    shift_y = random.randint(-max_shift, max_shift)\n",
    "    translated_tomogram = TF.affine(\n",
    "        tomogram, angle=0, translate=(shift_x, shift_y), scale=1, shear=0\n",
    "    )\n",
    "    translated_segmentation_map = TF.affine(\n",
    "        segmentation_map, angle=0, translate=(shift_x, shift_y), scale=1, shear=0\n",
    "    )\n",
    "    return translated_tomogram, translated_segmentation_map\n",
    "\n",
    "\n",
    "# フリップ\n",
    "# 縦横（上下左右）ランダムフリップ\n",
    "def flip_3d(tomogram, segmentation_map):\n",
    "    \"\"\"Randomly flips the 3D tensors along height or width.\"\"\"\n",
    "    if random.random() > 0.5:  # Horizontal flip\n",
    "        tomogram = torch.flip(tomogram, dims=[-1])\n",
    "        segmentation_map = torch.flip(segmentation_map, dims=[-1])\n",
    "    if random.random() > 0.5:  # Vertical flip\n",
    "        tomogram = torch.flip(tomogram, dims=[-2])\n",
    "        segmentation_map = torch.flip(segmentation_map, dims=[-2])\n",
    "    return tomogram, segmentation_map\n",
    "\n",
    "\n",
    "# クロッピング\n",
    "# 入力テンソルを中心またはランダムクロップで切り取る\n",
    "def crop_3d(tomogram, segmentation_map, crop_size):\n",
    "    \"\"\"Crops the 3D tensors to the specified crop_size.\"\"\"\n",
    "    _, depth, height, width = tomogram.size()\n",
    "    crop_d, crop_h, crop_w = crop_size\n",
    "\n",
    "    if crop_h > height or crop_w > width:\n",
    "        raise ValueError(\"Crop size cannot be larger than the original size.\")\n",
    "\n",
    "    start_h = random.randint(0, height - crop_h)  # Random starting position for height\n",
    "    start_w = random.randint(0, width - crop_w)  # Random starting position for width\n",
    "\n",
    "    cropped_tomogram = tomogram[\n",
    "        :, :, start_h : start_h + crop_h, start_w : start_w + crop_w\n",
    "    ]\n",
    "    cropped_segmentation_map = segmentation_map[\n",
    "        :, :, start_h : start_h + crop_h, start_w : start_w + crop_w\n",
    "    ]\n",
    "\n",
    "    return cropped_tomogram, cropped_segmentation_map\n",
    "\n",
    "\n",
    "# Mixup\n",
    "# 2つのサンプルを線形補間して混合\n",
    "def mixup(tomogram, segmentation_map, alpha=0.4):\n",
    "    \"\"\"Applies mixup augmentation to the batch.\"\"\"\n",
    "    lam = random.betavariate(alpha, alpha)\n",
    "    batch_size = tomogram.size(0)\n",
    "    index = torch.randperm(batch_size)\n",
    "\n",
    "    mixed_tomogram = lam * tomogram + (1 - lam) * tomogram[index, :]\n",
    "    mixed_segmentation_map = (\n",
    "        lam * segmentation_map + (1 - lam) * segmentation_map[index, :]\n",
    "    )\n",
    "\n",
    "    return mixed_tomogram, mixed_segmentation_map\n",
    "\n",
    "\n",
    "# Cutmix\n",
    "# ランダム領域を切り取って別のサンプルに貼り付け\n",
    "def cutmix(tomogram, segmentation_map, alpha=1.0):\n",
    "    \"\"\"Applies cutmix augmentation to the batch.\"\"\"\n",
    "    lam = random.betavariate(alpha, alpha)\n",
    "    batch_size, depth, height, width = tomogram.size()\n",
    "    index = torch.randperm(batch_size)\n",
    "\n",
    "    cx = random.randint(0, width)\n",
    "    cy = random.randint(0, height)\n",
    "    cw = int(width * (1 - lam))\n",
    "    ch = int(height * (1 - lam))\n",
    "\n",
    "    x1 = max(cx - cw // 2, 0)\n",
    "    x2 = min(cx + cw // 2, width)\n",
    "    y1 = max(cy - ch // 2, 0)\n",
    "    y2 = min(cy + ch // 2, height)\n",
    "\n",
    "    tomogram[:, :, y1:y2, x1:x2] = tomogram[index, :, y1:y2, x1:x2]\n",
    "    segmentation_map[:, :, y1:y2, x1:x2] = segmentation_map[index, :, y1:y2, x1:x2]\n",
    "\n",
    "    return tomogram, segmentation_map\n",
    "\n",
    "\n",
    "# データ拡張の組み合わせ適用\n",
    "def augment_data(\n",
    "    tomogram,\n",
    "    segmentation_map,\n",
    "    crop_size=(16, 256, 256),\n",
    "    max_shift=10,\n",
    "    rotation_angle=30,\n",
    "    p=0.5,\n",
    "    mixup_alpha=0.4,\n",
    "    cutmix_alpha=1.0,\n",
    "):\n",
    "    \"\"\"Applies a combination of rotation, translation, flipping, cropping, mixup, and cutmix to the inputs with probabilities.\"\"\"\n",
    "    if random.random() < p:\n",
    "        tomogram, segmentation_map = rotate_3d(\n",
    "            tomogram,\n",
    "            segmentation_map,\n",
    "            angle=random.uniform(-rotation_angle, rotation_angle),\n",
    "        )\n",
    "    if random.random() < p:\n",
    "        tomogram, segmentation_map = translate_3d(\n",
    "            tomogram, segmentation_map, max_shift=max_shift\n",
    "        )\n",
    "    if random.random() < p:\n",
    "        tomogram, segmentation_map = flip_3d(tomogram, segmentation_map)\n",
    "    if random.random() < p:\n",
    "        tomogram, segmentation_map = crop_3d(\n",
    "            tomogram, segmentation_map, crop_size=crop_size\n",
    "        )\n",
    "    # if random.random() < p:\n",
    "    #     tomogram, segmentation_map = mixup(\n",
    "    #         tomogram, segmentation_map, alpha=mixup_alpha\n",
    "    #     )\n",
    "    # if random.random() < p:\n",
    "    #     tomogram, segmentation_map = cutmix(\n",
    "    #         tomogram, segmentation_map, alpha=cutmix_alpha\n",
    "    #     )\n",
    "    return tomogram, segmentation_map\n",
    "\n",
    "\n",
    "# 使用例\n",
    "# バッチサイズ6, 深さ16, 高さ320, 幅320のランダムテンソル\n",
    "tomogram = torch.rand((6, 16, 320, 320))\n",
    "segmentation_map = torch.randint(0, 2, (6, 16, 320, 320))  # ラベルは0または1\n",
    "\n",
    "# データ拡張の適用\n",
    "aug_tomogram, aug_segmentation_map = augment_data(tomogram, segmentation_map, p=0.7)\n",
    "print(\"Original shape:\", tomogram.shape)\n",
    "print(\"Augmented shape:\", aug_tomogram.shape)"
   ]
  },
  {
   "cell_type": "code",
   "execution_count": 9,
   "metadata": {},
   "outputs": [],
   "source": [
    "# model.encoderのパラメータを固定\n",
    "\n",
    "# for param in model.encoder.parameters():\n",
    "#     param.requires_grad = False"
   ]
  },
  {
   "cell_type": "code",
   "execution_count": 10,
   "metadata": {},
   "outputs": [],
   "source": [
    "from transformers import get_cosine_schedule_with_warmup\n",
    "\n",
    "optimizer = torch.optim.Adam(\n",
    "    model.parameters(), lr=CFG.lr, weight_decay=CFG.weight_decay\n",
    ")\n",
    "criterion = nn.CrossEntropyLoss(\n",
    "    #  weight=torch.tensor([2.0, 32, 32, 32, 32, 32, 32]).to(\"cuda\")\n",
    ")\n",
    "# criterion = DiceLoss()\n",
    "scheduler = get_cosine_schedule_with_warmup(\n",
    "    optimizer,\n",
    "    num_warmup_steps=10,\n",
    "    num_training_steps=CFG.epochs * len(train_loader),\n",
    "    # * batch_size,\n",
    ")\n",
    "scaler = GradScaler()\n",
    "seg_loss = SegmentationLoss(criterion)\n",
    "padf = PadToSize(CFG.resolution)"
   ]
  },
  {
   "cell_type": "code",
   "execution_count": 11,
   "metadata": {},
   "outputs": [],
   "source": [
    "# b, c, d, h, w = CFG.batch_size, 1, 96, 320, 320"
   ]
  },
  {
   "cell_type": "code",
   "execution_count": 12,
   "metadata": {},
   "outputs": [],
   "source": [
    "def preprocess_tensor(tensor):\n",
    "    batch_size, depth, height, width = tensor.shape\n",
    "    tensor = tensor.unsqueeze(2)  # (b, d, h, w) -> (b, d, 1, h, w)\n",
    "    return tensor"
   ]
  },
  {
   "cell_type": "code",
   "execution_count": 13,
   "metadata": {},
   "outputs": [
    {
     "data": {
      "text/plain": [
       "torch.Size([2, 16, 640, 640])"
      ]
     },
     "execution_count": 13,
     "metadata": {},
     "output_type": "execute_result"
    }
   ],
   "source": [
    "padf = PadToSize(CFG.resolution)\n",
    "padf(normalized_tomogram).shape"
   ]
  },
  {
   "cell_type": "code",
   "execution_count": null,
   "metadata": {},
   "outputs": [
    {
     "name": "stderr",
     "output_type": "stream",
     "text": [
      "Epoch 1/150 [Training]: 100%|██████████| 258/258 [04:15<00:00,  1.01it/s, loss=0.5909]\n",
      "100%|██████████| 15/15 [00:31<00:00,  2.11s/it]\n"
     ]
    },
    {
     "name": "stdout",
     "output_type": "stream",
     "text": [
      "constant 0.44285714285714284 score 0.03321488557032027\n",
      "train-epoch-loss:0.5909 valid-beta4-score:0.0332\n"
     ]
    },
    {
     "name": "stderr",
     "output_type": "stream",
     "text": [
      "Epoch 2/150 [Training]: 100%|██████████| 258/258 [04:18<00:00,  1.00s/it, loss=0.0819]\n",
      "100%|██████████| 15/15 [00:30<00:00,  2.02s/it]\n"
     ]
    },
    {
     "name": "stdout",
     "output_type": "stream",
     "text": [
      "constant 0.44285714285714284 score 0.05940061819647896\n",
      "train-epoch-loss:0.0819 valid-beta4-score:0.0594\n"
     ]
    },
    {
     "name": "stderr",
     "output_type": "stream",
     "text": [
      "Epoch 3/150 [Training]: 100%|██████████| 258/258 [04:47<00:00,  1.11s/it, loss=0.0454]\n",
      "100%|██████████| 15/15 [00:33<00:00,  2.25s/it]\n"
     ]
    },
    {
     "name": "stdout",
     "output_type": "stream",
     "text": [
      "constant 0.5571428571428572 score 0.21743626557289433\n",
      "train-epoch-loss:0.0454 valid-beta4-score:0.2174\n"
     ]
    },
    {
     "name": "stderr",
     "output_type": "stream",
     "text": [
      "Epoch 4/150 [Training]: 100%|██████████| 258/258 [04:20<00:00,  1.01s/it, loss=0.0352]\n",
      "100%|██████████| 15/15 [00:33<00:00,  2.20s/it]\n"
     ]
    },
    {
     "name": "stdout",
     "output_type": "stream",
     "text": [
      "constant 0.15714285714285714 score 0.2917438432109898\n",
      "train-epoch-loss:0.0352 valid-beta4-score:0.2917\n"
     ]
    },
    {
     "name": "stderr",
     "output_type": "stream",
     "text": [
      "Epoch 5/150 [Training]: 100%|██████████| 258/258 [04:19<00:00,  1.00s/it, loss=0.0303]\n",
      "100%|██████████| 15/15 [00:33<00:00,  2.22s/it]\n"
     ]
    },
    {
     "name": "stdout",
     "output_type": "stream",
     "text": [
      "constant 0.3857142857142858 score 0.26502844473119314\n",
      "train-epoch-loss:0.0303 valid-beta4-score:0.2650\n"
     ]
    },
    {
     "name": "stderr",
     "output_type": "stream",
     "text": [
      "Epoch 6/150 [Training]: 100%|██████████| 258/258 [04:12<00:00,  1.02it/s, loss=0.0283]\n",
      "100%|██████████| 15/15 [00:32<00:00,  2.20s/it]\n"
     ]
    },
    {
     "name": "stdout",
     "output_type": "stream",
     "text": [
      "constant 0.5 score 0.29814979569035355\n",
      "train-epoch-loss:0.0283 valid-beta4-score:0.2981\n"
     ]
    },
    {
     "name": "stderr",
     "output_type": "stream",
     "text": [
      "Epoch 7/150 [Training]: 100%|██████████| 258/258 [04:01<00:00,  1.07it/s, loss=0.0264]\n",
      "100%|██████████| 15/15 [00:31<00:00,  2.12s/it]\n"
     ]
    },
    {
     "name": "stdout",
     "output_type": "stream",
     "text": [
      "constant 0.44285714285714284 score 0.43252705685114556\n",
      "train-epoch-loss:0.0264 valid-beta4-score:0.4325\n"
     ]
    },
    {
     "name": "stderr",
     "output_type": "stream",
     "text": [
      "Epoch 8/150 [Training]: 100%|██████████| 258/258 [04:10<00:00,  1.03it/s, loss=0.0246]\n",
      "100%|██████████| 15/15 [00:32<00:00,  2.14s/it]\n"
     ]
    },
    {
     "name": "stdout",
     "output_type": "stream",
     "text": [
      "constant 0.3857142857142858 score 0.4014229269233421\n",
      "train-epoch-loss:0.0246 valid-beta4-score:0.4014\n"
     ]
    },
    {
     "name": "stderr",
     "output_type": "stream",
     "text": [
      "Epoch 9/150 [Training]: 100%|██████████| 258/258 [04:03<00:00,  1.06it/s, loss=0.0218]\n",
      "100%|██████████| 15/15 [00:33<00:00,  2.26s/it]\n"
     ]
    },
    {
     "name": "stdout",
     "output_type": "stream",
     "text": [
      "constant 0.7285714285714286 score 0.512771784588944\n",
      "train-epoch-loss:0.0218 valid-beta4-score:0.5128\n"
     ]
    },
    {
     "name": "stderr",
     "output_type": "stream",
     "text": [
      "Epoch 10/150 [Training]: 100%|██████████| 258/258 [04:17<00:00,  1.00it/s, loss=0.0225]\n",
      "100%|██████████| 15/15 [00:35<00:00,  2.37s/it]\n"
     ]
    },
    {
     "name": "stdout",
     "output_type": "stream",
     "text": [
      "constant 0.3285714285714286 score 0.37701964525239223\n",
      "train-epoch-loss:0.0225 valid-beta4-score:0.3770\n"
     ]
    },
    {
     "name": "stderr",
     "output_type": "stream",
     "text": [
      "Epoch 11/150 [Training]: 100%|██████████| 258/258 [04:11<00:00,  1.03it/s, loss=0.0216]\n",
      "100%|██████████| 15/15 [00:34<00:00,  2.28s/it]\n"
     ]
    },
    {
     "name": "stdout",
     "output_type": "stream",
     "text": [
      "constant 0.7285714285714286 score 0.5214751038453251\n",
      "train-epoch-loss:0.0216 valid-beta4-score:0.5215\n"
     ]
    },
    {
     "name": "stderr",
     "output_type": "stream",
     "text": [
      "Epoch 12/150 [Training]: 100%|██████████| 258/258 [04:09<00:00,  1.03it/s, loss=0.0203]\n",
      "100%|██████████| 15/15 [00:35<00:00,  2.35s/it]\n"
     ]
    },
    {
     "name": "stdout",
     "output_type": "stream",
     "text": [
      "constant 0.44285714285714284 score 0.4219125865059046\n",
      "train-epoch-loss:0.0203 valid-beta4-score:0.4219\n"
     ]
    },
    {
     "name": "stderr",
     "output_type": "stream",
     "text": [
      "Epoch 13/150 [Training]: 100%|██████████| 258/258 [04:09<00:00,  1.03it/s, loss=0.0192]\n",
      "100%|██████████| 15/15 [00:35<00:00,  2.38s/it]\n"
     ]
    },
    {
     "name": "stdout",
     "output_type": "stream",
     "text": [
      "constant 0.7857142857142857 score 0.4602734056886923\n",
      "train-epoch-loss:0.0192 valid-beta4-score:0.4603\n"
     ]
    },
    {
     "name": "stderr",
     "output_type": "stream",
     "text": [
      "Epoch 14/150 [Training]: 100%|██████████| 258/258 [04:10<00:00,  1.03it/s, loss=0.0188]\n",
      "100%|██████████| 15/15 [00:36<00:00,  2.42s/it]\n"
     ]
    },
    {
     "name": "stdout",
     "output_type": "stream",
     "text": [
      "constant 0.5 score 0.5085274002637691\n",
      "train-epoch-loss:0.0188 valid-beta4-score:0.5085\n"
     ]
    },
    {
     "name": "stderr",
     "output_type": "stream",
     "text": [
      "Epoch 15/150 [Training]: 100%|██████████| 258/258 [04:03<00:00,  1.06it/s, loss=0.0186]\n",
      "100%|██████████| 15/15 [00:36<00:00,  2.41s/it]\n"
     ]
    },
    {
     "name": "stdout",
     "output_type": "stream",
     "text": [
      "constant 0.5571428571428572 score 0.5028606063282647\n",
      "train-epoch-loss:0.0186 valid-beta4-score:0.5029\n"
     ]
    },
    {
     "name": "stderr",
     "output_type": "stream",
     "text": [
      "Epoch 16/150 [Training]: 100%|██████████| 258/258 [04:20<00:00,  1.01s/it, loss=0.0177]\n",
      "100%|██████████| 15/15 [00:35<00:00,  2.37s/it]\n"
     ]
    },
    {
     "name": "stdout",
     "output_type": "stream",
     "text": [
      "constant 0.6714285714285715 score 0.5238222083767974\n",
      "train-epoch-loss:0.0177 valid-beta4-score:0.5238\n"
     ]
    },
    {
     "name": "stderr",
     "output_type": "stream",
     "text": [
      "Epoch 17/150 [Training]: 100%|██████████| 258/258 [03:56<00:00,  1.09it/s, loss=0.0182]\n",
      "100%|██████████| 15/15 [00:33<00:00,  2.22s/it]\n"
     ]
    },
    {
     "name": "stdout",
     "output_type": "stream",
     "text": [
      "constant 0.6142857142857143 score 0.5172551731961875\n",
      "train-epoch-loss:0.0182 valid-beta4-score:0.5173\n"
     ]
    },
    {
     "name": "stderr",
     "output_type": "stream",
     "text": [
      "Epoch 18/150 [Training]: 100%|██████████| 258/258 [04:28<00:00,  1.04s/it, loss=0.0184]\n",
      "100%|██████████| 15/15 [00:33<00:00,  2.21s/it]\n"
     ]
    },
    {
     "name": "stdout",
     "output_type": "stream",
     "text": [
      "constant 0.6714285714285715 score 0.5042361922242616\n",
      "train-epoch-loss:0.0184 valid-beta4-score:0.5042\n"
     ]
    },
    {
     "name": "stderr",
     "output_type": "stream",
     "text": [
      "Epoch 19/150 [Training]: 100%|██████████| 258/258 [04:23<00:00,  1.02s/it, loss=0.0193]\n",
      "100%|██████████| 15/15 [00:34<00:00,  2.32s/it]\n"
     ]
    },
    {
     "name": "stdout",
     "output_type": "stream",
     "text": [
      "constant 0.3285714285714286 score 0.45497927487631484\n",
      "train-epoch-loss:0.0193 valid-beta4-score:0.4550\n"
     ]
    },
    {
     "name": "stderr",
     "output_type": "stream",
     "text": [
      "Epoch 20/150 [Training]: 100%|██████████| 258/258 [04:10<00:00,  1.03it/s, loss=0.0182]\n",
      "100%|██████████| 15/15 [00:36<00:00,  2.43s/it]\n"
     ]
    },
    {
     "name": "stdout",
     "output_type": "stream",
     "text": [
      "constant 0.8428571428571429 score 0.485063207136845\n",
      "train-epoch-loss:0.0182 valid-beta4-score:0.4851\n"
     ]
    },
    {
     "name": "stderr",
     "output_type": "stream",
     "text": [
      "Epoch 21/150 [Training]: 100%|██████████| 258/258 [04:04<00:00,  1.06it/s, loss=0.0186]\n",
      "100%|██████████| 15/15 [00:34<00:00,  2.33s/it]\n"
     ]
    },
    {
     "name": "stdout",
     "output_type": "stream",
     "text": [
      "constant 0.5571428571428572 score 0.5556835382723261\n",
      "train-epoch-loss:0.0186 valid-beta4-score:0.5557\n"
     ]
    },
    {
     "name": "stderr",
     "output_type": "stream",
     "text": [
      "Epoch 22/150 [Training]: 100%|██████████| 258/258 [04:15<00:00,  1.01it/s, loss=0.0177]\n",
      "100%|██████████| 15/15 [00:35<00:00,  2.35s/it]\n"
     ]
    },
    {
     "name": "stdout",
     "output_type": "stream",
     "text": [
      "constant 0.3285714285714286 score 0.5379084711680898\n",
      "train-epoch-loss:0.0177 valid-beta4-score:0.5379\n"
     ]
    },
    {
     "name": "stderr",
     "output_type": "stream",
     "text": [
      "Epoch 23/150 [Training]: 100%|██████████| 258/258 [04:03<00:00,  1.06it/s, loss=0.0176]\n",
      "100%|██████████| 15/15 [00:37<00:00,  2.47s/it]\n"
     ]
    },
    {
     "name": "stdout",
     "output_type": "stream",
     "text": [
      "constant 0.8428571428571429 score 0.4977514000391504\n",
      "train-epoch-loss:0.0176 valid-beta4-score:0.4978\n"
     ]
    },
    {
     "name": "stderr",
     "output_type": "stream",
     "text": [
      "Epoch 24/150 [Training]: 100%|██████████| 258/258 [04:42<00:00,  1.10s/it, loss=0.0166]\n",
      "100%|██████████| 15/15 [00:35<00:00,  2.40s/it]\n"
     ]
    },
    {
     "name": "stdout",
     "output_type": "stream",
     "text": [
      "constant 0.8428571428571429 score 0.5427207505927347\n",
      "train-epoch-loss:0.0166 valid-beta4-score:0.5427\n"
     ]
    },
    {
     "name": "stderr",
     "output_type": "stream",
     "text": [
      "Epoch 25/150 [Training]: 100%|██████████| 258/258 [31:54<00:00,  7.42s/it, loss=0.0163]   \n",
      "100%|██████████| 15/15 [00:33<00:00,  2.22s/it]\n"
     ]
    },
    {
     "name": "stdout",
     "output_type": "stream",
     "text": [
      "constant 0.9 score 0.5477777659776643\n",
      "train-epoch-loss:0.0163 valid-beta4-score:0.5478\n"
     ]
    },
    {
     "name": "stderr",
     "output_type": "stream",
     "text": [
      "Epoch 26/150 [Training]: 100%|██████████| 258/258 [04:02<00:00,  1.07it/s, loss=0.0160]\n",
      "100%|██████████| 15/15 [00:33<00:00,  2.24s/it]\n"
     ]
    },
    {
     "name": "stdout",
     "output_type": "stream",
     "text": [
      "constant 0.9 score 0.5503577643190473\n",
      "train-epoch-loss:0.0160 valid-beta4-score:0.5504\n"
     ]
    },
    {
     "name": "stderr",
     "output_type": "stream",
     "text": [
      "Epoch 27/150 [Training]: 100%|██████████| 258/258 [04:01<00:00,  1.07it/s, loss=0.0162]\n",
      "100%|██████████| 15/15 [00:36<00:00,  2.41s/it]\n"
     ]
    },
    {
     "name": "stdout",
     "output_type": "stream",
     "text": [
      "constant 0.8428571428571429 score 0.4843113739482842\n",
      "train-epoch-loss:0.0162 valid-beta4-score:0.4843\n"
     ]
    },
    {
     "name": "stderr",
     "output_type": "stream",
     "text": [
      "Epoch 28/150 [Training]: 100%|██████████| 258/258 [04:11<00:00,  1.03it/s, loss=0.0145]\n",
      "100%|██████████| 15/15 [00:38<00:00,  2.53s/it]\n"
     ]
    },
    {
     "name": "stdout",
     "output_type": "stream",
     "text": [
      "constant 0.7857142857142857 score 0.5708364777498964\n",
      "train-epoch-loss:0.0145 valid-beta4-score:0.5708\n"
     ]
    },
    {
     "name": "stderr",
     "output_type": "stream",
     "text": [
      "Epoch 29/150 [Training]: 100%|██████████| 258/258 [04:10<00:00,  1.03it/s, loss=0.0159]\n",
      "100%|██████████| 15/15 [00:35<00:00,  2.34s/it]\n"
     ]
    },
    {
     "name": "stdout",
     "output_type": "stream",
     "text": [
      "constant 0.9 score 0.5425520082585482\n",
      "train-epoch-loss:0.0159 valid-beta4-score:0.5426\n"
     ]
    },
    {
     "name": "stderr",
     "output_type": "stream",
     "text": [
      "Epoch 30/150 [Training]: 100%|██████████| 258/258 [04:11<00:00,  1.03it/s, loss=0.0159]\n",
      "100%|██████████| 15/15 [00:36<00:00,  2.44s/it]\n"
     ]
    },
    {
     "name": "stdout",
     "output_type": "stream",
     "text": [
      "constant 0.7285714285714286 score 0.5432772375703548\n",
      "train-epoch-loss:0.0159 valid-beta4-score:0.5433\n"
     ]
    },
    {
     "name": "stderr",
     "output_type": "stream",
     "text": [
      "Epoch 31/150 [Training]: 100%|██████████| 258/258 [04:03<00:00,  1.06it/s, loss=0.0162]\n",
      "100%|██████████| 15/15 [00:36<00:00,  2.43s/it]\n"
     ]
    },
    {
     "name": "stdout",
     "output_type": "stream",
     "text": [
      "constant 0.8428571428571429 score 0.5640620515718365\n",
      "train-epoch-loss:0.0162 valid-beta4-score:0.5641\n"
     ]
    },
    {
     "name": "stderr",
     "output_type": "stream",
     "text": [
      "Epoch 32/150 [Training]: 100%|██████████| 258/258 [04:08<00:00,  1.04it/s, loss=0.0166]\n",
      "100%|██████████| 15/15 [00:36<00:00,  2.44s/it]\n"
     ]
    },
    {
     "name": "stdout",
     "output_type": "stream",
     "text": [
      "constant 0.5 score 0.5865782062560945\n",
      "train-epoch-loss:0.0166 valid-beta4-score:0.5866\n"
     ]
    },
    {
     "name": "stderr",
     "output_type": "stream",
     "text": [
      "Epoch 33/150 [Training]: 100%|██████████| 258/258 [04:14<00:00,  1.01it/s, loss=0.0153]\n",
      "100%|██████████| 15/15 [00:35<00:00,  2.35s/it]\n"
     ]
    },
    {
     "name": "stdout",
     "output_type": "stream",
     "text": [
      "constant 0.44285714285714284 score 0.5116237996337761\n",
      "train-epoch-loss:0.0153 valid-beta4-score:0.5116\n"
     ]
    },
    {
     "name": "stderr",
     "output_type": "stream",
     "text": [
      "Epoch 34/150 [Training]: 100%|██████████| 258/258 [03:53<00:00,  1.10it/s, loss=0.0154]\n",
      "100%|██████████| 15/15 [00:35<00:00,  2.37s/it]\n"
     ]
    },
    {
     "name": "stdout",
     "output_type": "stream",
     "text": [
      "constant 0.3857142857142858 score 0.5257745475566603\n",
      "train-epoch-loss:0.0154 valid-beta4-score:0.5258\n"
     ]
    },
    {
     "name": "stderr",
     "output_type": "stream",
     "text": [
      "Epoch 35/150 [Training]: 100%|██████████| 258/258 [04:00<00:00,  1.07it/s, loss=0.0161]\n",
      "100%|██████████| 15/15 [00:35<00:00,  2.38s/it]\n"
     ]
    },
    {
     "name": "stdout",
     "output_type": "stream",
     "text": [
      "constant 0.7285714285714286 score 0.5027250992006108\n",
      "train-epoch-loss:0.0161 valid-beta4-score:0.5027\n"
     ]
    },
    {
     "name": "stderr",
     "output_type": "stream",
     "text": [
      "Epoch 36/150 [Training]: 100%|██████████| 258/258 [04:16<00:00,  1.01it/s, loss=0.0152]\n",
      "100%|██████████| 15/15 [00:36<00:00,  2.41s/it]\n"
     ]
    },
    {
     "name": "stdout",
     "output_type": "stream",
     "text": [
      "constant 0.5 score 0.5336634948841338\n",
      "train-epoch-loss:0.0152 valid-beta4-score:0.5337\n"
     ]
    },
    {
     "name": "stderr",
     "output_type": "stream",
     "text": [
      "Epoch 37/150 [Training]: 100%|██████████| 258/258 [04:13<00:00,  1.02it/s, loss=0.0153]\n",
      "100%|██████████| 15/15 [00:36<00:00,  2.44s/it]\n"
     ]
    },
    {
     "name": "stdout",
     "output_type": "stream",
     "text": [
      "constant 0.5571428571428572 score 0.5587825741337573\n",
      "train-epoch-loss:0.0153 valid-beta4-score:0.5588\n"
     ]
    },
    {
     "name": "stderr",
     "output_type": "stream",
     "text": [
      "Epoch 38/150 [Training]: 100%|██████████| 258/258 [04:05<00:00,  1.05it/s, loss=0.0152]\n",
      "100%|██████████| 15/15 [00:36<00:00,  2.42s/it]\n"
     ]
    },
    {
     "name": "stdout",
     "output_type": "stream",
     "text": [
      "constant 0.7285714285714286 score 0.5928115874334762\n",
      "train-epoch-loss:0.0152 valid-beta4-score:0.5928\n"
     ]
    },
    {
     "name": "stderr",
     "output_type": "stream",
     "text": [
      "Epoch 39/150 [Training]: 100%|██████████| 258/258 [04:02<00:00,  1.06it/s, loss=0.0156]\n",
      "100%|██████████| 15/15 [00:37<00:00,  2.51s/it]\n"
     ]
    },
    {
     "name": "stdout",
     "output_type": "stream",
     "text": [
      "constant 0.7285714285714286 score 0.610011675290955\n",
      "train-epoch-loss:0.0156 valid-beta4-score:0.6100\n"
     ]
    },
    {
     "name": "stderr",
     "output_type": "stream",
     "text": [
      "Epoch 40/150 [Training]: 100%|██████████| 258/258 [04:21<00:00,  1.02s/it, loss=0.0142]\n",
      "100%|██████████| 15/15 [00:36<00:00,  2.46s/it]\n"
     ]
    },
    {
     "name": "stdout",
     "output_type": "stream",
     "text": [
      "constant 0.5571428571428572 score 0.5765625295333675\n",
      "train-epoch-loss:0.0142 valid-beta4-score:0.5766\n"
     ]
    },
    {
     "name": "stderr",
     "output_type": "stream",
     "text": [
      "Epoch 41/150 [Training]: 100%|██████████| 258/258 [04:11<00:00,  1.02it/s, loss=0.0146]\n",
      "100%|██████████| 15/15 [00:34<00:00,  2.32s/it]\n"
     ]
    },
    {
     "name": "stdout",
     "output_type": "stream",
     "text": [
      "constant 0.5571428571428572 score 0.5577030879937139\n",
      "train-epoch-loss:0.0146 valid-beta4-score:0.5577\n"
     ]
    },
    {
     "name": "stderr",
     "output_type": "stream",
     "text": [
      "Epoch 42/150 [Training]: 100%|██████████| 258/258 [04:04<00:00,  1.05it/s, loss=0.0149]\n",
      "100%|██████████| 15/15 [00:36<00:00,  2.45s/it]\n"
     ]
    },
    {
     "name": "stdout",
     "output_type": "stream",
     "text": [
      "constant 0.7857142857142857 score 0.6048559585479564\n",
      "train-epoch-loss:0.0149 valid-beta4-score:0.6049\n"
     ]
    },
    {
     "name": "stderr",
     "output_type": "stream",
     "text": [
      "Epoch 43/150 [Training]: 100%|██████████| 258/258 [04:11<00:00,  1.03it/s, loss=0.0130]\n",
      "100%|██████████| 15/15 [00:35<00:00,  2.37s/it]\n"
     ]
    },
    {
     "name": "stdout",
     "output_type": "stream",
     "text": [
      "constant 0.44285714285714284 score 0.5560092517656848\n",
      "train-epoch-loss:0.0130 valid-beta4-score:0.5560\n"
     ]
    },
    {
     "name": "stderr",
     "output_type": "stream",
     "text": [
      "Epoch 44/150 [Training]: 100%|██████████| 258/258 [04:18<00:00,  1.00s/it, loss=0.0150]\n",
      "100%|██████████| 15/15 [00:35<00:00,  2.36s/it]\n"
     ]
    },
    {
     "name": "stdout",
     "output_type": "stream",
     "text": [
      "constant 0.44285714285714284 score 0.6565575740341308\n",
      "train-epoch-loss:0.0150 valid-beta4-score:0.6566\n"
     ]
    },
    {
     "name": "stderr",
     "output_type": "stream",
     "text": [
      "Epoch 45/150 [Training]: 100%|██████████| 258/258 [04:07<00:00,  1.04it/s, loss=0.0149]\n",
      "100%|██████████| 15/15 [00:38<00:00,  2.55s/it]\n"
     ]
    },
    {
     "name": "stdout",
     "output_type": "stream",
     "text": [
      "constant 0.7285714285714286 score 0.7010929731355056\n",
      "train-epoch-loss:0.0149 valid-beta4-score:0.7011\n"
     ]
    },
    {
     "name": "stderr",
     "output_type": "stream",
     "text": [
      "Epoch 46/150 [Training]: 100%|██████████| 258/258 [03:59<00:00,  1.08it/s, loss=0.0150]\n",
      "100%|██████████| 15/15 [00:36<00:00,  2.41s/it]\n"
     ]
    },
    {
     "name": "stdout",
     "output_type": "stream",
     "text": [
      "constant 0.5 score 0.6162530304022024\n",
      "train-epoch-loss:0.0150 valid-beta4-score:0.6163\n"
     ]
    },
    {
     "name": "stderr",
     "output_type": "stream",
     "text": [
      "Epoch 47/150 [Training]: 100%|██████████| 258/258 [04:17<00:00,  1.00it/s, loss=0.0144]\n",
      "100%|██████████| 15/15 [00:37<00:00,  2.50s/it]\n"
     ]
    },
    {
     "name": "stdout",
     "output_type": "stream",
     "text": [
      "constant 0.8428571428571429 score 0.6183086244466823\n",
      "train-epoch-loss:0.0144 valid-beta4-score:0.6183\n"
     ]
    },
    {
     "name": "stderr",
     "output_type": "stream",
     "text": [
      "Epoch 48/150 [Training]: 100%|██████████| 258/258 [04:09<00:00,  1.03it/s, loss=0.0142]\n",
      "100%|██████████| 15/15 [00:35<00:00,  2.38s/it]\n"
     ]
    },
    {
     "name": "stdout",
     "output_type": "stream",
     "text": [
      "constant 0.6714285714285715 score 0.5726165901935162\n",
      "train-epoch-loss:0.0142 valid-beta4-score:0.5726\n"
     ]
    },
    {
     "name": "stderr",
     "output_type": "stream",
     "text": [
      "Epoch 49/150 [Training]: 100%|██████████| 258/258 [03:57<00:00,  1.09it/s, loss=0.0144]\n",
      "100%|██████████| 15/15 [00:35<00:00,  2.40s/it]\n"
     ]
    },
    {
     "name": "stdout",
     "output_type": "stream",
     "text": [
      "constant 0.6142857142857143 score 0.5553797179826755\n",
      "train-epoch-loss:0.0144 valid-beta4-score:0.5554\n"
     ]
    },
    {
     "name": "stderr",
     "output_type": "stream",
     "text": [
      "Epoch 50/150 [Training]: 100%|██████████| 258/258 [04:04<00:00,  1.05it/s, loss=0.0148]\n",
      "100%|██████████| 15/15 [00:36<00:00,  2.45s/it]\n"
     ]
    },
    {
     "name": "stdout",
     "output_type": "stream",
     "text": [
      "constant 0.5 score 0.5776472273117115\n",
      "train-epoch-loss:0.0148 valid-beta4-score:0.5776\n"
     ]
    },
    {
     "name": "stderr",
     "output_type": "stream",
     "text": [
      "Epoch 51/150 [Training]: 100%|██████████| 258/258 [04:12<00:00,  1.02it/s, loss=0.0136]\n",
      "100%|██████████| 15/15 [00:36<00:00,  2.41s/it]\n"
     ]
    },
    {
     "name": "stdout",
     "output_type": "stream",
     "text": [
      "constant 0.6142857142857143 score 0.633574266169421\n",
      "train-epoch-loss:0.0136 valid-beta4-score:0.6336\n"
     ]
    },
    {
     "name": "stderr",
     "output_type": "stream",
     "text": [
      "Epoch 52/150 [Training]: 100%|██████████| 258/258 [04:01<00:00,  1.07it/s, loss=0.0136]\n",
      "100%|██████████| 15/15 [00:36<00:00,  2.44s/it]\n"
     ]
    },
    {
     "name": "stdout",
     "output_type": "stream",
     "text": [
      "constant 0.3857142857142858 score 0.5669515284646038\n",
      "train-epoch-loss:0.0136 valid-beta4-score:0.5670\n"
     ]
    },
    {
     "name": "stderr",
     "output_type": "stream",
     "text": [
      "Epoch 53/150 [Training]: 100%|██████████| 258/258 [04:28<00:00,  1.04s/it, loss=0.0136]\n",
      "100%|██████████| 15/15 [00:36<00:00,  2.46s/it]\n"
     ]
    },
    {
     "name": "stdout",
     "output_type": "stream",
     "text": [
      "constant 0.7857142857142857 score 0.6389404216773162\n",
      "train-epoch-loss:0.0136 valid-beta4-score:0.6389\n"
     ]
    },
    {
     "name": "stderr",
     "output_type": "stream",
     "text": [
      "Epoch 54/150 [Training]: 100%|██████████| 258/258 [04:17<00:00,  1.00it/s, loss=0.0139]\n",
      "100%|██████████| 15/15 [00:37<00:00,  2.50s/it]\n"
     ]
    },
    {
     "name": "stdout",
     "output_type": "stream",
     "text": [
      "constant 0.6142857142857143 score 0.603606985357426\n",
      "train-epoch-loss:0.0139 valid-beta4-score:0.6036\n"
     ]
    },
    {
     "name": "stderr",
     "output_type": "stream",
     "text": [
      "Epoch 55/150 [Training]: 100%|██████████| 258/258 [04:29<00:00,  1.04s/it, loss=0.0131]\n",
      "100%|██████████| 15/15 [00:35<00:00,  2.39s/it]\n"
     ]
    },
    {
     "name": "stdout",
     "output_type": "stream",
     "text": [
      "constant 0.6714285714285715 score 0.6449802161975556\n",
      "train-epoch-loss:0.0131 valid-beta4-score:0.6450\n"
     ]
    },
    {
     "name": "stderr",
     "output_type": "stream",
     "text": [
      "Epoch 56/150 [Training]: 100%|██████████| 258/258 [04:03<00:00,  1.06it/s, loss=0.0138]\n",
      "100%|██████████| 15/15 [00:37<00:00,  2.47s/it]\n"
     ]
    },
    {
     "name": "stdout",
     "output_type": "stream",
     "text": [
      "constant 0.6142857142857143 score 0.5680049210196862\n",
      "train-epoch-loss:0.0138 valid-beta4-score:0.5680\n"
     ]
    },
    {
     "name": "stderr",
     "output_type": "stream",
     "text": [
      "Epoch 57/150 [Training]: 100%|██████████| 258/258 [04:21<00:00,  1.01s/it, loss=0.0141]\n",
      "100%|██████████| 15/15 [00:34<00:00,  2.31s/it]\n"
     ]
    },
    {
     "name": "stdout",
     "output_type": "stream",
     "text": [
      "constant 0.6714285714285715 score 0.6736641742229973\n",
      "train-epoch-loss:0.0141 valid-beta4-score:0.6737\n"
     ]
    },
    {
     "name": "stderr",
     "output_type": "stream",
     "text": [
      "Epoch 58/150 [Training]: 100%|██████████| 258/258 [04:16<00:00,  1.01it/s, loss=0.0133]\n",
      "100%|██████████| 15/15 [00:35<00:00,  2.34s/it]\n"
     ]
    },
    {
     "name": "stdout",
     "output_type": "stream",
     "text": [
      "constant 0.6714285714285715 score 0.5833578278210106\n",
      "train-epoch-loss:0.0133 valid-beta4-score:0.5834\n"
     ]
    },
    {
     "name": "stderr",
     "output_type": "stream",
     "text": [
      "Epoch 59/150 [Training]: 100%|██████████| 258/258 [04:08<00:00,  1.04it/s, loss=0.0124]\n",
      "100%|██████████| 15/15 [00:33<00:00,  2.26s/it]\n"
     ]
    },
    {
     "name": "stdout",
     "output_type": "stream",
     "text": [
      "constant 0.8428571428571429 score 0.6355674622878643\n",
      "train-epoch-loss:0.0124 valid-beta4-score:0.6356\n"
     ]
    },
    {
     "name": "stderr",
     "output_type": "stream",
     "text": [
      "Epoch 60/150 [Training]: 100%|██████████| 258/258 [04:16<00:00,  1.01it/s, loss=0.0123]\n",
      "100%|██████████| 15/15 [00:36<00:00,  2.44s/it]\n"
     ]
    },
    {
     "name": "stdout",
     "output_type": "stream",
     "text": [
      "constant 0.6714285714285715 score 0.6165295857252236\n",
      "train-epoch-loss:0.0123 valid-beta4-score:0.6165\n"
     ]
    },
    {
     "name": "stderr",
     "output_type": "stream",
     "text": [
      "Epoch 61/150 [Training]: 100%|██████████| 258/258 [04:01<00:00,  1.07it/s, loss=0.0132]\n",
      "100%|██████████| 15/15 [00:35<00:00,  2.37s/it]\n"
     ]
    },
    {
     "name": "stdout",
     "output_type": "stream",
     "text": [
      "constant 0.44285714285714284 score 0.5894174540200295\n",
      "train-epoch-loss:0.0132 valid-beta4-score:0.5894\n"
     ]
    },
    {
     "name": "stderr",
     "output_type": "stream",
     "text": [
      "Epoch 62/150 [Training]: 100%|██████████| 258/258 [04:05<00:00,  1.05it/s, loss=0.0138]\n",
      "100%|██████████| 15/15 [00:35<00:00,  2.36s/it]\n"
     ]
    },
    {
     "name": "stdout",
     "output_type": "stream",
     "text": [
      "constant 0.5 score 0.5831031955346965\n",
      "train-epoch-loss:0.0138 valid-beta4-score:0.5831\n"
     ]
    },
    {
     "name": "stderr",
     "output_type": "stream",
     "text": [
      "Epoch 63/150 [Training]: 100%|██████████| 258/258 [04:11<00:00,  1.03it/s, loss=0.0129]\n",
      "100%|██████████| 15/15 [00:37<00:00,  2.52s/it]\n"
     ]
    },
    {
     "name": "stdout",
     "output_type": "stream",
     "text": [
      "constant 0.8428571428571429 score 0.6889377079288057\n",
      "train-epoch-loss:0.0129 valid-beta4-score:0.6889\n"
     ]
    },
    {
     "name": "stderr",
     "output_type": "stream",
     "text": [
      "Epoch 64/150 [Training]: 100%|██████████| 258/258 [04:20<00:00,  1.01s/it, loss=0.0123]\n",
      "100%|██████████| 15/15 [00:34<00:00,  2.31s/it]\n"
     ]
    },
    {
     "name": "stdout",
     "output_type": "stream",
     "text": [
      "constant 0.8428571428571429 score 0.636786412647435\n",
      "train-epoch-loss:0.0123 valid-beta4-score:0.6368\n"
     ]
    },
    {
     "name": "stderr",
     "output_type": "stream",
     "text": [
      "Epoch 65/150 [Training]: 100%|██████████| 258/258 [04:03<00:00,  1.06it/s, loss=0.0123]\n",
      "100%|██████████| 15/15 [00:38<00:00,  2.56s/it]\n"
     ]
    },
    {
     "name": "stdout",
     "output_type": "stream",
     "text": [
      "constant 0.5571428571428572 score 0.5172037832791586\n",
      "train-epoch-loss:0.0123 valid-beta4-score:0.5172\n"
     ]
    },
    {
     "name": "stderr",
     "output_type": "stream",
     "text": [
      "Epoch 66/150 [Training]: 100%|██████████| 258/258 [04:14<00:00,  1.01it/s, loss=0.0126]\n",
      "100%|██████████| 15/15 [00:36<00:00,  2.45s/it]\n"
     ]
    },
    {
     "name": "stdout",
     "output_type": "stream",
     "text": [
      "constant 0.7857142857142857 score 0.6752893782091041\n",
      "train-epoch-loss:0.0126 valid-beta4-score:0.6753\n"
     ]
    },
    {
     "name": "stderr",
     "output_type": "stream",
     "text": [
      "Epoch 67/150 [Training]: 100%|██████████| 258/258 [03:54<00:00,  1.10it/s, loss=0.0116]\n",
      "100%|██████████| 15/15 [00:35<00:00,  2.37s/it]\n"
     ]
    },
    {
     "name": "stdout",
     "output_type": "stream",
     "text": [
      "constant 0.7285714285714286 score 0.6400339554583405\n",
      "train-epoch-loss:0.0116 valid-beta4-score:0.6400\n"
     ]
    },
    {
     "name": "stderr",
     "output_type": "stream",
     "text": [
      "Epoch 68/150 [Training]: 100%|██████████| 258/258 [04:29<00:00,  1.04s/it, loss=0.0118]\n",
      "100%|██████████| 15/15 [00:37<00:00,  2.47s/it]\n"
     ]
    },
    {
     "name": "stdout",
     "output_type": "stream",
     "text": [
      "constant 0.5571428571428572 score 0.6643194831592184\n",
      "train-epoch-loss:0.0118 valid-beta4-score:0.6643\n"
     ]
    },
    {
     "name": "stderr",
     "output_type": "stream",
     "text": [
      "Epoch 69/150 [Training]: 100%|██████████| 258/258 [04:07<00:00,  1.04it/s, loss=0.0131]\n",
      "100%|██████████| 15/15 [00:34<00:00,  2.28s/it]\n"
     ]
    },
    {
     "name": "stdout",
     "output_type": "stream",
     "text": [
      "constant 0.6142857142857143 score 0.6244628913140096\n",
      "train-epoch-loss:0.0131 valid-beta4-score:0.6245\n"
     ]
    },
    {
     "name": "stderr",
     "output_type": "stream",
     "text": [
      "Epoch 70/150 [Training]: 100%|██████████| 258/258 [04:06<00:00,  1.04it/s, loss=0.0125]\n",
      "100%|██████████| 15/15 [00:33<00:00,  2.25s/it]\n"
     ]
    },
    {
     "name": "stdout",
     "output_type": "stream",
     "text": [
      "constant 0.8428571428571429 score 0.6674983180496662\n",
      "train-epoch-loss:0.0125 valid-beta4-score:0.6675\n"
     ]
    },
    {
     "name": "stderr",
     "output_type": "stream",
     "text": [
      "Epoch 71/150 [Training]: 100%|██████████| 258/258 [04:13<00:00,  1.02it/s, loss=0.0125]\n",
      "100%|██████████| 15/15 [00:35<00:00,  2.38s/it]\n"
     ]
    },
    {
     "name": "stdout",
     "output_type": "stream",
     "text": [
      "constant 0.6714285714285715 score 0.6811696852597626\n",
      "train-epoch-loss:0.0125 valid-beta4-score:0.6812\n"
     ]
    },
    {
     "name": "stderr",
     "output_type": "stream",
     "text": [
      "Epoch 72/150 [Training]: 100%|██████████| 258/258 [04:04<00:00,  1.06it/s, loss=0.0120]\n",
      "100%|██████████| 15/15 [00:37<00:00,  2.47s/it]\n"
     ]
    },
    {
     "name": "stdout",
     "output_type": "stream",
     "text": [
      "constant 0.8428571428571429 score 0.6060758164113401\n",
      "train-epoch-loss:0.0120 valid-beta4-score:0.6061\n"
     ]
    },
    {
     "name": "stderr",
     "output_type": "stream",
     "text": [
      "Epoch 73/150 [Training]: 100%|██████████| 258/258 [04:30<00:00,  1.05s/it, loss=0.0120]\n",
      "100%|██████████| 15/15 [00:36<00:00,  2.43s/it]\n"
     ]
    },
    {
     "name": "stdout",
     "output_type": "stream",
     "text": [
      "constant 0.7857142857142857 score 0.6666556469362981\n",
      "train-epoch-loss:0.0120 valid-beta4-score:0.6667\n"
     ]
    },
    {
     "name": "stderr",
     "output_type": "stream",
     "text": [
      "Epoch 74/150 [Training]: 100%|██████████| 258/258 [03:57<00:00,  1.09it/s, loss=0.0126]\n",
      "100%|██████████| 15/15 [00:38<00:00,  2.54s/it]\n"
     ]
    },
    {
     "name": "stdout",
     "output_type": "stream",
     "text": [
      "constant 0.6142857142857143 score 0.6462534655125974\n",
      "train-epoch-loss:0.0126 valid-beta4-score:0.6463\n"
     ]
    },
    {
     "name": "stderr",
     "output_type": "stream",
     "text": [
      "Epoch 75/150 [Training]: 100%|██████████| 258/258 [04:09<00:00,  1.03it/s, loss=0.0128]\n",
      "100%|██████████| 15/15 [00:36<00:00,  2.43s/it]\n"
     ]
    },
    {
     "name": "stdout",
     "output_type": "stream",
     "text": [
      "constant 0.9 score 0.6845085303618611\n",
      "train-epoch-loss:0.0128 valid-beta4-score:0.6845\n"
     ]
    },
    {
     "name": "stderr",
     "output_type": "stream",
     "text": [
      "Epoch 76/150 [Training]: 100%|██████████| 258/258 [04:28<00:00,  1.04s/it, loss=0.0112]\n",
      "100%|██████████| 15/15 [00:37<00:00,  2.52s/it]\n"
     ]
    },
    {
     "name": "stdout",
     "output_type": "stream",
     "text": [
      "constant 0.5571428571428572 score 0.6104334521958231\n",
      "train-epoch-loss:0.0112 valid-beta4-score:0.6104\n"
     ]
    },
    {
     "name": "stderr",
     "output_type": "stream",
     "text": [
      "Epoch 77/150 [Training]: 100%|██████████| 258/258 [04:19<00:00,  1.00s/it, loss=0.0125]\n",
      "100%|██████████| 15/15 [00:35<00:00,  2.36s/it]\n"
     ]
    },
    {
     "name": "stdout",
     "output_type": "stream",
     "text": [
      "constant 0.7285714285714286 score 0.6763194735337364\n",
      "train-epoch-loss:0.0125 valid-beta4-score:0.6763\n"
     ]
    },
    {
     "name": "stderr",
     "output_type": "stream",
     "text": [
      "Epoch 78/150 [Training]: 100%|██████████| 258/258 [04:08<00:00,  1.04it/s, loss=0.0116]\n",
      "100%|██████████| 15/15 [00:37<00:00,  2.52s/it]\n"
     ]
    },
    {
     "name": "stdout",
     "output_type": "stream",
     "text": [
      "constant 0.8428571428571429 score 0.7019997039168924\n",
      "train-epoch-loss:0.0116 valid-beta4-score:0.7020\n"
     ]
    },
    {
     "name": "stderr",
     "output_type": "stream",
     "text": [
      "Epoch 79/150 [Training]: 100%|██████████| 258/258 [04:16<00:00,  1.01it/s, loss=0.0122]\n",
      "100%|██████████| 15/15 [00:37<00:00,  2.51s/it]\n"
     ]
    },
    {
     "name": "stdout",
     "output_type": "stream",
     "text": [
      "constant 0.5571428571428572 score 0.6266840930034113\n",
      "train-epoch-loss:0.0122 valid-beta4-score:0.6267\n"
     ]
    },
    {
     "name": "stderr",
     "output_type": "stream",
     "text": [
      "Epoch 80/150 [Training]: 100%|██████████| 258/258 [04:01<00:00,  1.07it/s, loss=0.0115]\n",
      "100%|██████████| 15/15 [00:36<00:00,  2.44s/it]\n"
     ]
    },
    {
     "name": "stdout",
     "output_type": "stream",
     "text": [
      "constant 0.7857142857142857 score 0.6829474801978981\n",
      "train-epoch-loss:0.0115 valid-beta4-score:0.6829\n"
     ]
    },
    {
     "name": "stderr",
     "output_type": "stream",
     "text": [
      "Epoch 81/150 [Training]: 100%|██████████| 258/258 [04:13<00:00,  1.02it/s, loss=0.0116]\n",
      "100%|██████████| 15/15 [00:37<00:00,  2.48s/it]\n"
     ]
    },
    {
     "name": "stdout",
     "output_type": "stream",
     "text": [
      "constant 0.7857142857142857 score 0.6227871557898315\n",
      "train-epoch-loss:0.0116 valid-beta4-score:0.6228\n"
     ]
    },
    {
     "name": "stderr",
     "output_type": "stream",
     "text": [
      "Epoch 82/150 [Training]: 100%|██████████| 258/258 [04:36<00:00,  1.07s/it, loss=0.0111]\n",
      "100%|██████████| 15/15 [00:36<00:00,  2.44s/it]\n"
     ]
    },
    {
     "name": "stdout",
     "output_type": "stream",
     "text": [
      "constant 0.6714285714285715 score 0.6972534952395056\n",
      "train-epoch-loss:0.0111 valid-beta4-score:0.6973\n"
     ]
    },
    {
     "name": "stderr",
     "output_type": "stream",
     "text": [
      "Epoch 83/150 [Training]: 100%|██████████| 258/258 [04:04<00:00,  1.05it/s, loss=0.0113]\n",
      "100%|██████████| 15/15 [00:37<00:00,  2.49s/it]\n"
     ]
    },
    {
     "name": "stdout",
     "output_type": "stream",
     "text": [
      "constant 0.8428571428571429 score 0.670796002674121\n",
      "train-epoch-loss:0.0113 valid-beta4-score:0.6708\n"
     ]
    },
    {
     "name": "stderr",
     "output_type": "stream",
     "text": [
      "Epoch 84/150 [Training]: 100%|██████████| 258/258 [04:19<00:00,  1.00s/it, loss=0.0115]\n",
      "100%|██████████| 15/15 [00:34<00:00,  2.28s/it]\n"
     ]
    },
    {
     "name": "stdout",
     "output_type": "stream",
     "text": [
      "constant 0.6714285714285715 score 0.6948442051788598\n",
      "train-epoch-loss:0.0115 valid-beta4-score:0.6948\n"
     ]
    },
    {
     "name": "stderr",
     "output_type": "stream",
     "text": [
      "Epoch 85/150 [Training]: 100%|██████████| 258/258 [04:06<00:00,  1.05it/s, loss=0.0115]\n",
      "100%|██████████| 15/15 [00:37<00:00,  2.47s/it]\n"
     ]
    },
    {
     "name": "stdout",
     "output_type": "stream",
     "text": [
      "constant 0.7285714285714286 score 0.7160486041424227\n",
      "train-epoch-loss:0.0115 valid-beta4-score:0.7160\n"
     ]
    },
    {
     "name": "stderr",
     "output_type": "stream",
     "text": [
      "Epoch 86/150 [Training]: 100%|██████████| 258/258 [04:09<00:00,  1.04it/s, loss=0.0109]\n",
      "100%|██████████| 15/15 [00:34<00:00,  2.33s/it]\n"
     ]
    },
    {
     "name": "stdout",
     "output_type": "stream",
     "text": [
      "constant 0.6142857142857143 score 0.6811097236097235\n",
      "train-epoch-loss:0.0109 valid-beta4-score:0.6811\n"
     ]
    },
    {
     "name": "stderr",
     "output_type": "stream",
     "text": [
      "Epoch 87/150 [Training]: 100%|██████████| 258/258 [04:04<00:00,  1.05it/s, loss=0.0116]\n",
      "100%|██████████| 15/15 [00:35<00:00,  2.39s/it]\n"
     ]
    },
    {
     "name": "stdout",
     "output_type": "stream",
     "text": [
      "constant 0.8428571428571429 score 0.6887616269028978\n",
      "train-epoch-loss:0.0116 valid-beta4-score:0.6888\n"
     ]
    },
    {
     "name": "stderr",
     "output_type": "stream",
     "text": [
      "Epoch 88/150 [Training]: 100%|██████████| 258/258 [04:02<00:00,  1.06it/s, loss=0.0111]\n",
      "100%|██████████| 15/15 [00:36<00:00,  2.45s/it]\n"
     ]
    },
    {
     "name": "stdout",
     "output_type": "stream",
     "text": [
      "constant 0.7857142857142857 score 0.7151664073319287\n",
      "train-epoch-loss:0.0111 valid-beta4-score:0.7152\n"
     ]
    },
    {
     "name": "stderr",
     "output_type": "stream",
     "text": [
      "Epoch 89/150 [Training]: 100%|██████████| 258/258 [04:07<00:00,  1.04it/s, loss=0.0111]\n",
      "100%|██████████| 15/15 [00:33<00:00,  2.22s/it]\n"
     ]
    },
    {
     "name": "stdout",
     "output_type": "stream",
     "text": [
      "constant 0.6142857142857143 score 0.6792842942585259\n",
      "train-epoch-loss:0.0111 valid-beta4-score:0.6793\n"
     ]
    },
    {
     "name": "stderr",
     "output_type": "stream",
     "text": [
      "Epoch 90/150 [Training]: 100%|██████████| 258/258 [04:04<00:00,  1.06it/s, loss=0.0110]\n",
      "100%|██████████| 15/15 [00:38<00:00,  2.56s/it]\n"
     ]
    },
    {
     "name": "stdout",
     "output_type": "stream",
     "text": [
      "constant 0.7285714285714286 score 0.6396984701068943\n",
      "train-epoch-loss:0.0110 valid-beta4-score:0.6397\n"
     ]
    },
    {
     "name": "stderr",
     "output_type": "stream",
     "text": [
      "Epoch 91/150 [Training]: 100%|██████████| 258/258 [04:31<00:00,  1.05s/it, loss=0.0111]\n",
      "100%|██████████| 15/15 [00:36<00:00,  2.45s/it]\n"
     ]
    },
    {
     "name": "stdout",
     "output_type": "stream",
     "text": [
      "constant 0.9 score 0.6682656307690004\n",
      "train-epoch-loss:0.0111 valid-beta4-score:0.6683\n"
     ]
    },
    {
     "name": "stderr",
     "output_type": "stream",
     "text": [
      "Epoch 92/150 [Training]: 100%|██████████| 258/258 [04:15<00:00,  1.01it/s, loss=0.0114]\n",
      "100%|██████████| 15/15 [00:34<00:00,  2.27s/it]\n"
     ]
    },
    {
     "name": "stdout",
     "output_type": "stream",
     "text": [
      "constant 0.9 score 0.7392903258751857\n",
      "train-epoch-loss:0.0114 valid-beta4-score:0.7393\n"
     ]
    },
    {
     "name": "stderr",
     "output_type": "stream",
     "text": [
      "Epoch 93/150 [Training]: 100%|██████████| 258/258 [04:06<00:00,  1.05it/s, loss=0.0115]\n",
      "100%|██████████| 15/15 [00:38<00:00,  2.54s/it]\n"
     ]
    },
    {
     "name": "stdout",
     "output_type": "stream",
     "text": [
      "constant 0.9 score 0.6946094617181461\n",
      "train-epoch-loss:0.0115 valid-beta4-score:0.6946\n"
     ]
    },
    {
     "name": "stderr",
     "output_type": "stream",
     "text": [
      "Epoch 94/150 [Training]: 100%|██████████| 258/258 [03:56<00:00,  1.09it/s, loss=0.0115]\n",
      "100%|██████████| 15/15 [00:36<00:00,  2.46s/it]\n"
     ]
    },
    {
     "name": "stdout",
     "output_type": "stream",
     "text": [
      "constant 0.8428571428571429 score 0.7018347490487443\n",
      "train-epoch-loss:0.0115 valid-beta4-score:0.7018\n"
     ]
    },
    {
     "name": "stderr",
     "output_type": "stream",
     "text": [
      "Epoch 95/150 [Training]: 100%|██████████| 258/258 [04:22<00:00,  1.02s/it, loss=0.0101]\n",
      "100%|██████████| 15/15 [00:36<00:00,  2.42s/it]\n"
     ]
    },
    {
     "name": "stdout",
     "output_type": "stream",
     "text": [
      "constant 0.8428571428571429 score 0.7161784673808604\n",
      "train-epoch-loss:0.0101 valid-beta4-score:0.7162\n"
     ]
    },
    {
     "name": "stderr",
     "output_type": "stream",
     "text": [
      "Epoch 96/150 [Training]: 100%|██████████| 258/258 [03:54<00:00,  1.10it/s, loss=0.0112]\n",
      "100%|██████████| 15/15 [00:38<00:00,  2.55s/it]\n"
     ]
    },
    {
     "name": "stdout",
     "output_type": "stream",
     "text": [
      "constant 0.6714285714285715 score 0.6422427433598762\n",
      "train-epoch-loss:0.0112 valid-beta4-score:0.6422\n"
     ]
    },
    {
     "name": "stderr",
     "output_type": "stream",
     "text": [
      "Epoch 97/150 [Training]: 100%|██████████| 258/258 [04:08<00:00,  1.04it/s, loss=0.0110]\n",
      "100%|██████████| 15/15 [00:37<00:00,  2.48s/it]\n"
     ]
    },
    {
     "name": "stdout",
     "output_type": "stream",
     "text": [
      "constant 0.8428571428571429 score 0.6604562828665814\n",
      "train-epoch-loss:0.0110 valid-beta4-score:0.6605\n"
     ]
    },
    {
     "name": "stderr",
     "output_type": "stream",
     "text": [
      "Epoch 98/150 [Training]: 100%|██████████| 258/258 [04:36<00:00,  1.07s/it, loss=0.0107]\n",
      "100%|██████████| 15/15 [00:36<00:00,  2.43s/it]\n"
     ]
    },
    {
     "name": "stdout",
     "output_type": "stream",
     "text": [
      "constant 0.6714285714285715 score 0.6584492050047854\n",
      "train-epoch-loss:0.0107 valid-beta4-score:0.6584\n"
     ]
    },
    {
     "name": "stderr",
     "output_type": "stream",
     "text": [
      "Epoch 99/150 [Training]: 100%|██████████| 258/258 [04:09<00:00,  1.03it/s, loss=0.0110]\n",
      "100%|██████████| 15/15 [00:34<00:00,  2.29s/it]\n"
     ]
    },
    {
     "name": "stdout",
     "output_type": "stream",
     "text": [
      "constant 0.6714285714285715 score 0.655572197596747\n",
      "train-epoch-loss:0.0110 valid-beta4-score:0.6556\n"
     ]
    },
    {
     "name": "stderr",
     "output_type": "stream",
     "text": [
      "Epoch 100/150 [Training]: 100%|██████████| 258/258 [04:12<00:00,  1.02it/s, loss=0.0111]\n",
      "100%|██████████| 15/15 [00:36<00:00,  2.44s/it]\n"
     ]
    },
    {
     "name": "stdout",
     "output_type": "stream",
     "text": [
      "constant 0.7285714285714286 score 0.6749243675273867\n",
      "train-epoch-loss:0.0111 valid-beta4-score:0.6749\n"
     ]
    },
    {
     "name": "stderr",
     "output_type": "stream",
     "text": [
      "Epoch 101/150 [Training]: 100%|██████████| 258/258 [04:08<00:00,  1.04it/s, loss=0.0107]\n",
      "100%|██████████| 15/15 [00:37<00:00,  2.48s/it]\n"
     ]
    },
    {
     "name": "stdout",
     "output_type": "stream",
     "text": [
      "constant 0.7857142857142857 score 0.6861126830902242\n",
      "train-epoch-loss:0.0107 valid-beta4-score:0.6861\n"
     ]
    },
    {
     "name": "stderr",
     "output_type": "stream",
     "text": [
      "Epoch 102/150 [Training]: 100%|██████████| 258/258 [04:03<00:00,  1.06it/s, loss=0.0104]\n",
      "100%|██████████| 15/15 [00:36<00:00,  2.43s/it]\n"
     ]
    },
    {
     "name": "stdout",
     "output_type": "stream",
     "text": [
      "constant 0.9 score 0.7182970480944724\n",
      "train-epoch-loss:0.0104 valid-beta4-score:0.7183\n"
     ]
    },
    {
     "name": "stderr",
     "output_type": "stream",
     "text": [
      "Epoch 103/150 [Training]: 100%|██████████| 258/258 [04:06<00:00,  1.05it/s, loss=0.0106]\n",
      "100%|██████████| 15/15 [00:38<00:00,  2.54s/it]\n"
     ]
    },
    {
     "name": "stdout",
     "output_type": "stream",
     "text": [
      "constant 0.7285714285714286 score 0.6721597800104557\n",
      "train-epoch-loss:0.0106 valid-beta4-score:0.6722\n"
     ]
    },
    {
     "name": "stderr",
     "output_type": "stream",
     "text": [
      "Epoch 104/150 [Training]: 100%|██████████| 258/258 [04:15<00:00,  1.01it/s, loss=0.0104]\n",
      "100%|██████████| 15/15 [00:34<00:00,  2.31s/it]\n"
     ]
    },
    {
     "name": "stdout",
     "output_type": "stream",
     "text": [
      "constant 0.7857142857142857 score 0.64254372408633\n",
      "train-epoch-loss:0.0104 valid-beta4-score:0.6425\n"
     ]
    },
    {
     "name": "stderr",
     "output_type": "stream",
     "text": [
      "Epoch 105/150 [Training]: 100%|██████████| 258/258 [03:58<00:00,  1.08it/s, loss=0.0111]\n",
      "100%|██████████| 15/15 [00:33<00:00,  2.26s/it]\n"
     ]
    },
    {
     "name": "stdout",
     "output_type": "stream",
     "text": [
      "constant 0.8428571428571429 score 0.6998428767035659\n",
      "train-epoch-loss:0.0111 valid-beta4-score:0.6998\n"
     ]
    },
    {
     "name": "stderr",
     "output_type": "stream",
     "text": [
      "Epoch 106/150 [Training]: 100%|██████████| 258/258 [04:17<00:00,  1.00it/s, loss=0.0099]\n",
      "  0%|          | 0/15 [00:00<?, ?it/s]"
     ]
    }
   ],
   "source": [
    "best_model = None\n",
    "best_constant = 0\n",
    "best_score = -100\n",
    "\n",
    "grand_train_loss = []\n",
    "grand_valid_loss = []\n",
    "grand_train_score = []\n",
    "grand_valid_score = []\n",
    "\n",
    "for epoch in range(CFG.epochs):\n",
    "    model.train()\n",
    "    train_loss = []\n",
    "    valid_loss = []\n",
    "    with tqdm(train_loader, desc=f\"Epoch {epoch + 1}/{CFG.epochs} [Training]\") as tq:\n",
    "        for data in tq:\n",
    "            normalized_tomogram = data[\"normalized_tomogram\"]\n",
    "            segmentation_map = data[\"segmentation_map\"]\n",
    "            zarr_embedding_idx = data[\"zarr_type_embedding_idx\"]\n",
    "\n",
    "            normalized_tomogram = padf(normalized_tomogram)\n",
    "            segmentation_map = padf(segmentation_map)\n",
    "\n",
    "            # データ拡張\n",
    "            normalized_tomogram, segmentation_map = augment_data(\n",
    "                normalized_tomogram, segmentation_map, p=CFG.augmentation_prob\n",
    "            )\n",
    "            normalized_tomogram = normalized_tomogram.cuda()\n",
    "            segmentation_map = segmentation_map.long().cuda()\n",
    "            zarr_embedding_idx = zarr_embedding_idx.cuda()\n",
    "\n",
    "            optimizer.zero_grad()\n",
    "\n",
    "            with autocast():\n",
    "                pred = model(preprocess_tensor(normalized_tomogram), zarr_embedding_idx)\n",
    "                loss = seg_loss(pred, segmentation_map)\n",
    "            # loss.backward()\n",
    "            # optimizer.step()\n",
    "            scaler.scale(loss).backward()\n",
    "            scaler.step(optimizer)\n",
    "            scaler.update()\n",
    "            scheduler.step()\n",
    "            train_loss.append(loss.item())\n",
    "\n",
    "            # 確率予測\n",
    "            prob_pred = torch.softmax(pred, dim=1)\n",
    "            tq.set_postfix({\"loss\": f\"{np.mean(train_loss):.4f}\"})\n",
    "\n",
    "    del normalized_tomogram, segmentation_map, zarr_embedding_idx, pred, loss\n",
    "    gc.collect()\n",
    "    torch.cuda.empty_cache()\n",
    "\n",
    "    # with tqdm(valid_loader, desc=f\"Epoch {epoch + 1}/{CFG.epochs} [Validation]\") as tq:\n",
    "    #     for data in tq:\n",
    "    #         normalized_tomogram = data[\"normalized_tomogram\"].cuda()\n",
    "    #         segmentation_map = data[\"segmentation_map\"].long().cuda()\n",
    "    #         zarr_embedding_idx = data[\"zarr_type_embedding_idx\"].cuda()\n",
    "\n",
    "    #         normalized_tomogram = padf(normalized_tomogram)\n",
    "    #         segmentation_map = padf(segmentation_map)\n",
    "\n",
    "    #         with autocast():\n",
    "    #             pred = model(preprocess_tensor(normalized_tomogram), zarr_embedding_idx)\n",
    "    #             loss = seg_loss(pred, segmentation_map)\n",
    "    #         valid_loss.append(loss.item())\n",
    "\n",
    "    #         # 確率予測\n",
    "    #         prob_pred = torch.softmax(pred, dim=1)\n",
    "    #         tq.set_postfix({\"loss\": f\"{np.mean(valid_loss):.4f}\"})\n",
    "\n",
    "    # del normalized_tomogram, segmentation_map, zarr_embedding_idx, pred, loss\n",
    "    gc.collect()\n",
    "    torch.cuda.empty_cache()\n",
    "\n",
    "    # # ############### validation ################\n",
    "    train_nshuffle_original_tomogram = defaultdict(list)\n",
    "    train_nshuffle_pred_tomogram = defaultdict(list)\n",
    "    train_nshuffle_gt_tomogram = defaultdict(list)\n",
    "\n",
    "    valid_original_tomogram = defaultdict(list)\n",
    "    valid_pred_tomogram = defaultdict(list)\n",
    "    valid_gt_tomogram = defaultdict(list)\n",
    "\n",
    "    train_mean_scores = []\n",
    "    valid_mean_scores = []\n",
    "\n",
    "    # モデルの保存\n",
    "    torch.save(model.state_dict(), \"./pretrained_model.pth\")\n",
    "\n",
    "    # ############### validation ################\n",
    "    train_nshuffle_original_tomogram = defaultdict(list)\n",
    "    train_nshuffle_pred_tomogram = defaultdict(list)\n",
    "    train_nshuffle_gt_tomogram = defaultdict(list)\n",
    "\n",
    "    valid_original_tomogram = defaultdict(list)\n",
    "    valid_pred_tomogram = defaultdict(list)\n",
    "    valid_gt_tomogram = defaultdict(list)\n",
    "\n",
    "    train_mean_scores = []\n",
    "    valid_mean_scores = []\n",
    "\n",
    "    train_inferenced_array = {}\n",
    "    train_pred_array = []\n",
    "    train_gt_array = []\n",
    "    valid_inferenced_array = {}\n",
    "    valid_gt_array = []\n",
    "\n",
    "    # for exp_name in tqdm(CFG.train_exp_names):\n",
    "    for exp_name in [CFG.valid_exp_name]:  # 5つのデータで試す\n",
    "        # inferenced_array = inference(model, exp_name, train=False)\n",
    "        inferenced_array, n_tomogram, segmentation_map = inference(\n",
    "            model, exp_name, train=False\n",
    "        )\n",
    "        valid_inferenced_array[exp_name] = inferenced_array\n",
    "        base_dir = \"../../inputs/train/overlay/ExperimentRuns/\"\n",
    "        gt_df = create_gt_df(base_dir, [exp_name])\n",
    "        valid_gt_array.append(gt_df)\n",
    "\n",
    "    valid_gt_array = pd.concat(valid_gt_array)\n",
    "\n",
    "    b_constant = 0\n",
    "    b_score = -100\n",
    "    for constant in tqdm(np.linspace(0.1, 0.9, 15)):\n",
    "        valid_pred_array = []\n",
    "        sikii = {\n",
    "            \"apo-ferritin\": constant,\n",
    "            \"beta-amylase\": constant,\n",
    "            \"beta-galactosidase\": constant,\n",
    "            \"ribosome\": constant,\n",
    "            \"thyroglobulin\": constant,\n",
    "            \"virus-like-particle\": constant,\n",
    "        }\n",
    "        for exp_name in [CFG.valid_exp_name]:  # 5つのデータで試す\n",
    "            pred_df = inference2pos(\n",
    "                pred_segmask=valid_inferenced_array[exp_name],\n",
    "                exp_name=exp_name,\n",
    "                sikii_dict=sikii,\n",
    "            )\n",
    "            valid_pred_array.append(pred_df)\n",
    "\n",
    "        valid_pred_array = pd.concat(valid_pred_array)\n",
    "\n",
    "        if len(valid_pred_array) != 0:\n",
    "            score_ = score(\n",
    "                valid_pred_array,\n",
    "                valid_gt_array,\n",
    "                row_id_column_name=\"index\",\n",
    "                distance_multiplier=0.5,\n",
    "                beta=4,\n",
    "            )\n",
    "            if score_ > b_score:\n",
    "                b_score = score_\n",
    "                b_constant = constant\n",
    "\n",
    "        import gc\n",
    "        import torch.cuda as cuda\n",
    "\n",
    "        # del valid_pred_array, valid_gt_array\n",
    "        gc.collect()\n",
    "        cuda.empty_cache()\n",
    "\n",
    "    print(\"constant\", b_constant, \"score\", b_score)\n",
    "\n",
    "    if b_score > best_score:\n",
    "        best_constant = b_constant\n",
    "        best_score = b_score\n",
    "        # best_score = np.mean(valid_mean_scores)\n",
    "        best_model = model.state_dict()\n",
    "        torch.save(best_model, f\"./best_model.pth\")\n",
    "\n",
    "    print(\n",
    "        f\"train-epoch-loss:{np.mean(train_loss):.4f}\",\n",
    "        # f\"valid-epoch-loss:{np.mean(valid_loss):.4f}\",\n",
    "        # f\"train-beta4-score:{np.mean(train_mean_scores):.4f}\",\n",
    "        f\"valid-beta4-score:{b_score:.4f}\",\n",
    "    )\n",
    "\n",
    "    grand_train_loss.append(np.mean(train_loss))\n",
    "    # grand_valid_loss.append(np.mean(valid_loss))\n",
    "    # grand_train_score.append(np.mean(train_mean_scores))\n",
    "    grand_valid_score.append(b_score)"
   ]
  },
  {
   "cell_type": "code",
   "execution_count": null,
   "metadata": {},
   "outputs": [],
   "source": [
    "# train_lossとvalid_lossのプロット\n",
    "\n",
    "plt.plot(grand_train_loss, label=\"train_loss\")\n",
    "plt.plot(grand_valid_loss, label=\"valid_loss\")\n",
    "plt.legend()\n",
    "plt.show()"
   ]
  },
  {
   "cell_type": "code",
   "execution_count": null,
   "metadata": {},
   "outputs": [],
   "source": [
    "# train_scoreとvalid_scoreのプロット\n",
    "plt.plot(grand_train_score, label=\"train_score\")\n",
    "plt.plot(grand_valid_score, label=\"valid_score\")\n",
    "plt.legend()\n",
    "plt.show()"
   ]
  },
  {
   "cell_type": "code",
   "execution_count": null,
   "metadata": {},
   "outputs": [],
   "source": [
    "random.random()"
   ]
  },
  {
   "cell_type": "code",
   "execution_count": null,
   "metadata": {},
   "outputs": [],
   "source": []
  }
 ],
 "metadata": {
  "kernelspec": {
   "display_name": "kaggle",
   "language": "python",
   "name": "python3"
  },
  "language_info": {
   "codemirror_mode": {
    "name": "ipython",
    "version": 3
   },
   "file_extension": ".py",
   "mimetype": "text/x-python",
   "name": "python",
   "nbconvert_exporter": "python",
   "pygments_lexer": "ipython3",
   "version": "3.9.16"
  }
 },
 "nbformat": 4,
 "nbformat_minor": 2
}
