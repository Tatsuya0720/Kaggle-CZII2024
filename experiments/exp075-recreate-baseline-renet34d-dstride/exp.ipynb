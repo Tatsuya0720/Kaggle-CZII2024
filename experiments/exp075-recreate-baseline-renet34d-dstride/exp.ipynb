{
 "cells": [
  {
   "cell_type": "code",
   "execution_count": 1,
   "metadata": {},
   "outputs": [],
   "source": [
    "import os\n",
    "import zarr\n",
    "import timm\n",
    "import random\n",
    "import json\n",
    "import gc\n",
    "import warnings\n",
    "import numpy as np\n",
    "import pandas as pd\n",
    "import torch.nn as nn\n",
    "from pathlib import Path\n",
    "import matplotlib.pyplot as plt\n",
    "from torch.utils.data import DataLoader, Dataset\n",
    "from collections import defaultdict\n",
    "\n",
    "import sys\n",
    "import torch\n",
    "from torch.cuda.amp import autocast, GradScaler\n",
    "\n",
    "# import torchvision.transforms.functional as F\n",
    "import random\n",
    "\n",
    "warnings.filterwarnings(\"ignore\")\n",
    "sys.path.append(\"./src/\")\n",
    "\n",
    "from src.config import CFG\n",
    "from src.dataloader import (\n",
    "    read_zarr,\n",
    "    read_info_json,\n",
    "    scale_coordinates,\n",
    "    create_dataset,\n",
    "    create_segmentation_map,\n",
    "    EziiDataset,\n",
    "    drop_padding,\n",
    ")\n",
    "from src.network import Unet3D\n",
    "from src.utils import save_images, PadToSize\n",
    "from src.metric import (\n",
    "    score,\n",
    "    create_cls_pos,\n",
    "    create_cls_pos_sikii,\n",
    "    create_df,\n",
    "    SegmentationLoss,\n",
    "    DiceLoss,\n",
    ")\n",
    "from tqdm import tqdm\n",
    "from src.kaggle_notebook_metric import compute_lb, extract_particle_results\n",
    "from src.inference import inference, inference2pos, create_gt_df\n",
    "from metric import visualize_epoch_results\n",
    "\n",
    "import wandb\n",
    "from pathlib import Path\n",
    "\n",
    "notebook_name = os.path.join(Path().resolve()).split(\"/\")[-1]\n",
    "\n",
    "param = {\n",
    "    \"model\": CFG.model_name,\n",
    "    \"resolution\": CFG.resolution,\n",
    "    \"augmentation_prob\": CFG.augmentation_prob,\n",
    "    \"slice\": CFG.slice_,\n",
    "    \"epochs\": CFG.epochs,\n",
    "    \"lr\": CFG.lr,\n",
    "    \"batch_size\": CFG.batch_size,\n",
    "    \"weight_decay\": CFG.weight_decay,\n",
    "    \"num_workers\": CFG.num_workers,\n",
    "    \"augment_data_ratio\": CFG.augment_data_ratio,\n",
    "}"
   ]
  },
  {
   "cell_type": "code",
   "execution_count": 2,
   "metadata": {},
   "outputs": [],
   "source": [
    "from sklearn.metrics import *\n",
    "from scipy.optimize import minimize\n",
    "\n",
    "# sikii値とexp_namesを入れるとスコアを出力する関数\n",
    "\n",
    "\n",
    "def compute_score(sikii_list, inferenced_array, exp_name):\n",
    "    apo_ferritin = sikii_list[0]\n",
    "    beta_amylase = sikii_list[1]\n",
    "    beta_galactosidase = sikii_list[2]\n",
    "    ribosome = sikii_list[3]\n",
    "    thyroglobulin = sikii_list[4]\n",
    "    virus_like_particle = sikii_list[5]\n",
    "\n",
    "    sikii_dict = {\n",
    "        \"apo-ferritin\": apo_ferritin,\n",
    "        \"beta-amylase\": beta_amylase,\n",
    "        \"beta-galactosidase\": beta_galactosidase,\n",
    "        \"ribosome\": ribosome,\n",
    "        \"thyroglobulin\": thyroglobulin,\n",
    "        \"virus-like-particle\": virus_like_particle,\n",
    "    }\n",
    "\n",
    "    all_pred = []\n",
    "\n",
    "    pred_df = inference2pos(\n",
    "        pred_segmask=inferenced_array, exp_name=exp_name, sikii_dict=sikii_dict\n",
    "    )\n",
    "\n",
    "    all_pred.append(pred_df)\n",
    "\n",
    "    gc.collect()\n",
    "\n",
    "    pred_df = pd.concat(all_pred, axis=0).reset_index(drop=True)\n",
    "    pred_df = pred_df[pred_df[\"particle_type\"] != \"beta-amylase\"]\n",
    "    pred_df = pred_df.drop_duplicates(\n",
    "        subset=[\"experiment\", \"x\", \"y\", \"z\"], keep=\"first\"\n",
    "    ).reset_index(drop=True)\n",
    "    pred_df = pred_df.reset_index().rename(columns={\"index\": \"id\"})\n",
    "\n",
    "    gt_df = create_gt_df(\"../../inputs/train/overlay/ExperimentRuns/\", [exp_name])\n",
    "\n",
    "    result_df, lb_score = compute_lb(\n",
    "        pred_df, \"../../inputs/train/overlay/ExperimentRuns/\", [exp_name]\n",
    "    )\n",
    "\n",
    "    return lb_score\n",
    "\n",
    "\n",
    "def reduce_computation_sikii_search(\n",
    "    inferenced_array: np.ndarray, exp_name: str, threshold_candidates: list[float]\n",
    ") -> tuple[list[float], float]:\n",
    "    \"\"\"\n",
    "    # How\n",
    "    6つのしきい値が互いに独立してスコアに貢献しているという前提で、\n",
    "    1次元ずつ最適なしきい値を探す手法を実装する.\n",
    "\n",
    "    1. 初期の best_thresholds (全要素 0.5 など適当な値) を用意\n",
    "    2. i=0 から i=5 まで順番に:\n",
    "       - threshold_candidates をすべて試し、他は固定したまま i 番目だけ変化させてスコアを計算\n",
    "       - 最良スコアが得られる候補値を確定し、best_thresholds[i] とする\n",
    "    3. 全部決まったら最終的なスコアを計算して返す\n",
    "\n",
    "    これにより、全組み合わせ (product) を回すよりも計算量が大幅に減少する.\n",
    "    \"\"\"\n",
    "    # Why not: 6値独立であるという前提が満たされていない場合、近似解になる可能性あり\n",
    "    best_thresholds = [0.5] * 6  # 適当な初期値でOK\n",
    "\n",
    "    for i in tqdm(range(6)):\n",
    "        best_local_score = -float(\"inf\")\n",
    "        best_local_value = None\n",
    "\n",
    "        for candidate in threshold_candidates:\n",
    "            current_thresholds = best_thresholds[:]  # 現在のベストを複製\n",
    "            current_thresholds[i] = candidate\n",
    "            score = compute_score(current_thresholds, inferenced_array, exp_name)\n",
    "            if score > best_local_score:\n",
    "                best_local_score = score\n",
    "                best_local_value = candidate\n",
    "\n",
    "        # i番目のしきい値を最適値に更新\n",
    "        best_thresholds[i] = best_local_value\n",
    "\n",
    "    final_score = compute_score(best_thresholds, inferenced_array, exp_name)\n",
    "    return best_thresholds, final_score"
   ]
  },
  {
   "cell_type": "code",
   "execution_count": 3,
   "metadata": {},
   "outputs": [
    {
     "name": "stdout",
     "output_type": "stream",
     "text": [
      "Original shape: torch.Size([6, 16, 320, 320])\n",
      "Augmented shape: torch.Size([6, 16, 256, 256])\n"
     ]
    }
   ],
   "source": [
    "import torch\n",
    "import random\n",
    "import torchvision.transforms.functional as TF\n",
    "\n",
    "\n",
    "# 回転\n",
    "# 3Dテンソルの各軸に対して指定した角度で回転する関数\n",
    "def rotate_3d(tomogram, segmentation_map, angle):\n",
    "    \"\"\"Rotates the 3D tensors tomogram and segmentation_map around the Z-axis.\"\"\"\n",
    "    rotated_tomogram = TF.rotate(tomogram, angle, expand=False)\n",
    "    rotated_segmentation_map = TF.rotate(segmentation_map, angle, expand=False)\n",
    "    return rotated_tomogram, rotated_segmentation_map\n",
    "\n",
    "\n",
    "# 平行移動\n",
    "# 指定された範囲でランダムに平行移動\n",
    "def translate_3d(tomogram, segmentation_map, max_shift):\n",
    "    \"\"\"Translates the 3D tensors by a random shift within max_shift.\"\"\"\n",
    "    shift_x = random.randint(-max_shift, max_shift)\n",
    "    shift_y = random.randint(-max_shift, max_shift)\n",
    "    translated_tomogram = TF.affine(\n",
    "        tomogram, angle=0, translate=(shift_x, shift_y), scale=1, shear=0\n",
    "    )\n",
    "    translated_segmentation_map = TF.affine(\n",
    "        segmentation_map, angle=0, translate=(shift_x, shift_y), scale=1, shear=0\n",
    "    )\n",
    "    return translated_tomogram, translated_segmentation_map\n",
    "\n",
    "\n",
    "# フリップ\n",
    "# 縦横（上下左右）ランダムフリップ\n",
    "def flip_3d(tomogram, segmentation_map):\n",
    "    \"\"\"Randomly flips the 3D tensors along height or width.\"\"\"\n",
    "    if random.random() > 0.5:  # Horizontal flip\n",
    "        tomogram = torch.flip(tomogram, dims=[-1])\n",
    "        segmentation_map = torch.flip(segmentation_map, dims=[-1])\n",
    "    if random.random() > 0.5:  # Vertical flip\n",
    "        tomogram = torch.flip(tomogram, dims=[-2])\n",
    "        segmentation_map = torch.flip(segmentation_map, dims=[-2])\n",
    "    return tomogram, segmentation_map\n",
    "\n",
    "\n",
    "# クロッピング\n",
    "# 入力テンソルを中心またはランダムクロップで切り取る\n",
    "def crop_3d(tomogram, segmentation_map, crop_size):\n",
    "    \"\"\"Crops the 3D tensors to the specified crop_size.\"\"\"\n",
    "    _, depth, height, width = tomogram.size()\n",
    "    crop_d, crop_h, crop_w = crop_size\n",
    "\n",
    "    if crop_h > height or crop_w > width:\n",
    "        raise ValueError(\"Crop size cannot be larger than the original size.\")\n",
    "\n",
    "    start_h = random.randint(0, height - crop_h)  # Random starting position for height\n",
    "    start_w = random.randint(0, width - crop_w)  # Random starting position for width\n",
    "\n",
    "    cropped_tomogram = tomogram[\n",
    "        :, :, start_h : start_h + crop_h, start_w : start_w + crop_w\n",
    "    ]\n",
    "    cropped_segmentation_map = segmentation_map[\n",
    "        :, :, start_h : start_h + crop_h, start_w : start_w + crop_w\n",
    "    ]\n",
    "\n",
    "    return cropped_tomogram, cropped_segmentation_map\n",
    "\n",
    "\n",
    "# Mixup\n",
    "# 2つのサンプルを線形補間して混合\n",
    "def mixup(tomogram, segmentation_map, alpha=0.4):\n",
    "    \"\"\"Applies mixup augmentation to the batch.\"\"\"\n",
    "    lam = random.betavariate(alpha, alpha)\n",
    "    batch_size = tomogram.size(0)\n",
    "    index = torch.randperm(batch_size)\n",
    "\n",
    "    mixed_tomogram = lam * tomogram + (1 - lam) * tomogram[index, :]\n",
    "    mixed_segmentation_map = (\n",
    "        lam * segmentation_map + (1 - lam) * segmentation_map[index, :]\n",
    "    )\n",
    "\n",
    "    return mixed_tomogram, mixed_segmentation_map\n",
    "\n",
    "\n",
    "# Cutmix\n",
    "# ランダム領域を切り取って別のサンプルに貼り付け\n",
    "def cutmix(tomogram, segmentation_map, alpha=1.0):\n",
    "    \"\"\"Applies cutmix augmentation to the batch.\"\"\"\n",
    "    lam = random.betavariate(alpha, alpha)\n",
    "    batch_size, depth, height, width = tomogram.size()\n",
    "    index = torch.randperm(batch_size)\n",
    "\n",
    "    cx = random.randint(0, width)\n",
    "    cy = random.randint(0, height)\n",
    "    cw = int(width * (1 - lam))\n",
    "    ch = int(height * (1 - lam))\n",
    "\n",
    "    x1 = max(cx - cw // 2, 0)\n",
    "    x2 = min(cx + cw // 2, width)\n",
    "    y1 = max(cy - ch // 2, 0)\n",
    "    y2 = min(cy + ch // 2, height)\n",
    "\n",
    "    tomogram[:, :, y1:y2, x1:x2] = tomogram[index, :, y1:y2, x1:x2]\n",
    "    segmentation_map[:, :, y1:y2, x1:x2] = segmentation_map[index, :, y1:y2, x1:x2]\n",
    "\n",
    "    return tomogram, segmentation_map\n",
    "\n",
    "\n",
    "# データ拡張の組み合わせ適用\n",
    "def augment_data(\n",
    "    tomogram,\n",
    "    segmentation_map,\n",
    "    crop_size=(16, 256, 256),\n",
    "    max_shift=10,\n",
    "    rotation_angle=30,\n",
    "    p=0.5,\n",
    "    mixup_alpha=0.4,\n",
    "    cutmix_alpha=1.0,\n",
    "):\n",
    "    \"\"\"Applies a combination of rotation, translation, flipping, cropping, mixup, and cutmix to the inputs with probabilities.\"\"\"\n",
    "    if random.random() < p:\n",
    "        tomogram, segmentation_map = rotate_3d(\n",
    "            tomogram,\n",
    "            segmentation_map,\n",
    "            angle=random.uniform(-rotation_angle, rotation_angle),\n",
    "        )\n",
    "    if random.random() < p:\n",
    "        tomogram, segmentation_map = translate_3d(\n",
    "            tomogram, segmentation_map, max_shift=max_shift\n",
    "        )\n",
    "    if random.random() < p:\n",
    "        tomogram, segmentation_map = flip_3d(tomogram, segmentation_map)\n",
    "    if random.random() < p:\n",
    "        tomogram, segmentation_map = crop_3d(\n",
    "            tomogram, segmentation_map, crop_size=crop_size\n",
    "        )\n",
    "    # if random.random() < p:\n",
    "    #     tomogram, segmentation_map = mixup(\n",
    "    #         tomogram, segmentation_map, alpha=mixup_alpha\n",
    "    #     )\n",
    "    # if random.random() < p:\n",
    "    #     tomogram, segmentation_map = cutmix(\n",
    "    #         tomogram, segmentation_map, alpha=cutmix_alpha\n",
    "    #     )\n",
    "    return tomogram, segmentation_map\n",
    "\n",
    "\n",
    "# 使用例\n",
    "# バッチサイズ6, 深さ16, 高さ320, 幅320のランダムテンソル\n",
    "tomogram = torch.rand((6, 16, 320, 320))\n",
    "segmentation_map = torch.randint(0, 2, (6, 16, 320, 320))  # ラベルは0または1\n",
    "\n",
    "# データ拡張の適用\n",
    "aug_tomogram, aug_segmentation_map = augment_data(tomogram, segmentation_map, p=0.7)\n",
    "print(\"Original shape:\", tomogram.shape)\n",
    "print(\"Augmented shape:\", aug_tomogram.shape)"
   ]
  },
  {
   "cell_type": "code",
   "execution_count": 4,
   "metadata": {},
   "outputs": [],
   "source": [
    "from transformers import get_cosine_schedule_with_warmup"
   ]
  },
  {
   "cell_type": "code",
   "execution_count": 5,
   "metadata": {},
   "outputs": [],
   "source": [
    "# b, c, d, h, w = CFG.batch_size, 1, 96, 320, 320"
   ]
  },
  {
   "cell_type": "code",
   "execution_count": 6,
   "metadata": {},
   "outputs": [],
   "source": [
    "def preprocess_tensor(tensor):\n",
    "    batch_size, depth, height, width = tensor.shape\n",
    "    tensor = tensor.unsqueeze(2)  # (b, d, h, w) -> (b, d, 1, h, w)\n",
    "    return tensor\n",
    "\n",
    "\n",
    "padf = PadToSize(CFG.resolution)"
   ]
  },
  {
   "cell_type": "code",
   "execution_count": 7,
   "metadata": {},
   "outputs": [
    {
     "name": "stderr",
     "output_type": "stream",
     "text": [
      "Failed to detect the name of this notebook, you can set it manually with the WANDB_NOTEBOOK_NAME environment variable to enable code saving.\n",
      "\u001b[34m\u001b[1mwandb\u001b[0m: Currently logged in as: \u001b[33mtatuya\u001b[0m (\u001b[33mlatent-walkers\u001b[0m). Use \u001b[1m`wandb login --relogin`\u001b[0m to force relogin\n"
     ]
    },
    {
     "data": {
      "text/html": [
       "wandb version 0.19.5 is available!  To upgrade, please run:\n",
       " $ pip install wandb --upgrade"
      ],
      "text/plain": [
       "<IPython.core.display.HTML object>"
      ]
     },
     "metadata": {},
     "output_type": "display_data"
    },
    {
     "data": {
      "text/html": [
       "Tracking run with wandb version 0.16.1"
      ],
      "text/plain": [
       "<IPython.core.display.HTML object>"
      ]
     },
     "metadata": {},
     "output_type": "display_data"
    },
    {
     "data": {
      "text/html": [
       "Run data is saved locally in <code>/home/tatsuya/code/projects/kaggle/CryoET/experiments/exp075-recreate-baseline-renet34d-dstride/wandb/run-20250201_005030-1517cy8e</code>"
      ],
      "text/plain": [
       "<IPython.core.display.HTML object>"
      ]
     },
     "metadata": {},
     "output_type": "display_data"
    },
    {
     "data": {
      "text/html": [
       "Syncing run <strong><a href='https://wandb.ai/latent-walkers/czii2024/runs/1517cy8e' target=\"_blank\">exp075-recreate-baseline-renet34d-dstride_TS_73_6</a></strong> to <a href='https://wandb.ai/latent-walkers/czii2024' target=\"_blank\">Weights & Biases</a> (<a href='https://wandb.me/run' target=\"_blank\">docs</a>)<br/>"
      ],
      "text/plain": [
       "<IPython.core.display.HTML object>"
      ]
     },
     "metadata": {},
     "output_type": "display_data"
    },
    {
     "data": {
      "text/html": [
       " View project at <a href='https://wandb.ai/latent-walkers/czii2024' target=\"_blank\">https://wandb.ai/latent-walkers/czii2024</a>"
      ],
      "text/plain": [
       "<IPython.core.display.HTML object>"
      ]
     },
     "metadata": {},
     "output_type": "display_data"
    },
    {
     "data": {
      "text/html": [
       " View run at <a href='https://wandb.ai/latent-walkers/czii2024/runs/1517cy8e' target=\"_blank\">https://wandb.ai/latent-walkers/czii2024/runs/1517cy8e</a>"
      ],
      "text/plain": [
       "<IPython.core.display.HTML object>"
      ]
     },
     "metadata": {},
     "output_type": "display_data"
    },
    {
     "name": "stdout",
     "output_type": "stream",
     "text": [
      "train_exp_name TS_73_6\n",
      "valid_exp_name ['TS_99_9', 'TS_6_4', 'TS_69_2', 'TS_86_3', 'TS_6_6']\n"
     ]
    },
    {
     "name": "stderr",
     "output_type": "stream",
     "text": [
      "100%|██████████| 496/496 [01:03<00:00,  7.85it/s]\n",
      "100%|██████████| 5/5 [00:07<00:00,  1.46s/it]\n",
      "Epoch 1/15 [Training]: 100%|██████████| 248/248 [02:39<00:00,  1.56it/s, loss=0.8704]\n",
      "Epoch 1/15 [Validation]: 100%|██████████| 5/5 [00:01<00:00,  2.99it/s, loss=0.8272]\n",
      "100%|██████████| 6/6 [00:55<00:00,  9.33s/it]\n"
     ]
    },
    {
     "name": "stdout",
     "output_type": "stream",
     "text": [
      "train-epoch-loss:0.8704 valid-beta4-score:0.3055\n"
     ]
    },
    {
     "name": "stderr",
     "output_type": "stream",
     "text": [
      "Epoch 2/15 [Training]: 100%|██████████| 248/248 [02:48<00:00,  1.47it/s, loss=0.7512]\n",
      "Epoch 2/15 [Validation]: 100%|██████████| 5/5 [00:01<00:00,  2.77it/s, loss=0.8034]\n",
      "100%|██████████| 6/6 [00:56<00:00,  9.44s/it]\n"
     ]
    },
    {
     "name": "stdout",
     "output_type": "stream",
     "text": [
      "train-epoch-loss:0.7512 valid-beta4-score:0.2830\n"
     ]
    },
    {
     "name": "stderr",
     "output_type": "stream",
     "text": [
      "Epoch 3/15 [Training]: 100%|██████████| 248/248 [02:39<00:00,  1.55it/s, loss=0.6477]\n",
      "Epoch 3/15 [Validation]: 100%|██████████| 5/5 [00:01<00:00,  3.02it/s, loss=0.7787]\n",
      "100%|██████████| 6/6 [00:59<00:00,  9.91s/it]\n"
     ]
    },
    {
     "name": "stdout",
     "output_type": "stream",
     "text": [
      "train-epoch-loss:0.6477 valid-beta4-score:0.4298\n"
     ]
    },
    {
     "name": "stderr",
     "output_type": "stream",
     "text": [
      "Epoch 4/15 [Training]: 100%|██████████| 248/248 [02:30<00:00,  1.65it/s, loss=0.5919]\n",
      "Epoch 4/15 [Validation]: 100%|██████████| 5/5 [00:01<00:00,  2.97it/s, loss=0.5952]\n",
      "100%|██████████| 6/6 [00:58<00:00,  9.78s/it]\n"
     ]
    },
    {
     "name": "stdout",
     "output_type": "stream",
     "text": [
      "train-epoch-loss:0.5919 valid-beta4-score:0.5663\n"
     ]
    },
    {
     "name": "stderr",
     "output_type": "stream",
     "text": [
      "Epoch 5/15 [Training]: 100%|██████████| 248/248 [02:25<00:00,  1.70it/s, loss=0.5793]\n",
      "Epoch 5/15 [Validation]: 100%|██████████| 5/5 [00:01<00:00,  3.01it/s, loss=0.7449]\n",
      "100%|██████████| 6/6 [00:57<00:00,  9.50s/it]\n"
     ]
    },
    {
     "name": "stdout",
     "output_type": "stream",
     "text": [
      "train-epoch-loss:0.5793 valid-beta4-score:0.6754\n"
     ]
    },
    {
     "name": "stderr",
     "output_type": "stream",
     "text": [
      "Epoch 6/15 [Training]: 100%|██████████| 248/248 [02:32<00:00,  1.62it/s, loss=0.5478]\n",
      "Epoch 6/15 [Validation]: 100%|██████████| 5/5 [00:01<00:00,  3.02it/s, loss=0.6656]\n",
      "100%|██████████| 6/6 [00:59<00:00,  9.90s/it]\n"
     ]
    },
    {
     "name": "stdout",
     "output_type": "stream",
     "text": [
      "train-epoch-loss:0.5478 valid-beta4-score:0.6525\n"
     ]
    },
    {
     "name": "stderr",
     "output_type": "stream",
     "text": [
      "Epoch 7/15 [Training]: 100%|██████████| 248/248 [02:17<00:00,  1.80it/s, loss=0.5372]\n",
      "Epoch 7/15 [Validation]: 100%|██████████| 5/5 [00:01<00:00,  2.94it/s, loss=0.6869]\n",
      "100%|██████████| 6/6 [00:57<00:00,  9.63s/it]\n"
     ]
    },
    {
     "name": "stdout",
     "output_type": "stream",
     "text": [
      "train-epoch-loss:0.5372 valid-beta4-score:0.6611\n"
     ]
    },
    {
     "name": "stderr",
     "output_type": "stream",
     "text": [
      "Epoch 8/15 [Training]: 100%|██████████| 248/248 [02:44<00:00,  1.50it/s, loss=0.5254]\n",
      "Epoch 8/15 [Validation]: 100%|██████████| 5/5 [00:01<00:00,  2.67it/s, loss=0.7410]\n",
      "100%|██████████| 6/6 [00:58<00:00,  9.71s/it]\n"
     ]
    },
    {
     "name": "stdout",
     "output_type": "stream",
     "text": [
      "train-epoch-loss:0.5254 valid-beta4-score:0.5595\n"
     ]
    },
    {
     "name": "stderr",
     "output_type": "stream",
     "text": [
      "Epoch 9/15 [Training]: 100%|██████████| 248/248 [02:27<00:00,  1.68it/s, loss=0.5129]\n",
      "Epoch 9/15 [Validation]: 100%|██████████| 5/5 [00:01<00:00,  3.00it/s, loss=0.7533]\n",
      "100%|██████████| 6/6 [00:57<00:00,  9.55s/it]\n"
     ]
    },
    {
     "name": "stdout",
     "output_type": "stream",
     "text": [
      "train-epoch-loss:0.5129 valid-beta4-score:0.6641\n"
     ]
    },
    {
     "name": "stderr",
     "output_type": "stream",
     "text": [
      "Epoch 10/15 [Training]: 100%|██████████| 248/248 [02:37<00:00,  1.57it/s, loss=0.5053]\n",
      "Epoch 10/15 [Validation]: 100%|██████████| 5/5 [00:01<00:00,  2.89it/s, loss=0.6047]\n",
      "100%|██████████| 6/6 [00:58<00:00,  9.67s/it]\n"
     ]
    },
    {
     "name": "stdout",
     "output_type": "stream",
     "text": [
      "train-epoch-loss:0.5053 valid-beta4-score:0.5678\n"
     ]
    },
    {
     "name": "stderr",
     "output_type": "stream",
     "text": [
      "Epoch 11/15 [Training]: 100%|██████████| 248/248 [02:32<00:00,  1.63it/s, loss=0.4948]\n",
      "Epoch 11/15 [Validation]: 100%|██████████| 5/5 [00:01<00:00,  2.96it/s, loss=0.6744]\n",
      "100%|██████████| 6/6 [01:01<00:00, 10.18s/it]\n"
     ]
    },
    {
     "name": "stdout",
     "output_type": "stream",
     "text": [
      "train-epoch-loss:0.4948 valid-beta4-score:0.5589\n"
     ]
    },
    {
     "name": "stderr",
     "output_type": "stream",
     "text": [
      "Epoch 12/15 [Training]: 100%|██████████| 248/248 [02:48<00:00,  1.47it/s, loss=0.4791]\n",
      "Epoch 12/15 [Validation]: 100%|██████████| 5/5 [00:01<00:00,  2.81it/s, loss=0.7181]\n",
      "100%|██████████| 6/6 [01:00<00:00, 10.10s/it]\n"
     ]
    },
    {
     "name": "stdout",
     "output_type": "stream",
     "text": [
      "train-epoch-loss:0.4791 valid-beta4-score:0.6095\n"
     ]
    },
    {
     "name": "stderr",
     "output_type": "stream",
     "text": [
      "Epoch 13/15 [Training]: 100%|██████████| 248/248 [02:54<00:00,  1.42it/s, loss=0.4804]\n",
      "Epoch 13/15 [Validation]: 100%|██████████| 5/5 [00:01<00:00,  2.74it/s, loss=0.6088]\n",
      "100%|██████████| 6/6 [00:57<00:00,  9.55s/it]\n"
     ]
    },
    {
     "name": "stdout",
     "output_type": "stream",
     "text": [
      "train-epoch-loss:0.4804 valid-beta4-score:0.6564\n"
     ]
    },
    {
     "name": "stderr",
     "output_type": "stream",
     "text": [
      "Epoch 14/15 [Training]: 100%|██████████| 248/248 [02:38<00:00,  1.56it/s, loss=0.4890]\n",
      "Epoch 14/15 [Validation]: 100%|██████████| 5/5 [00:01<00:00,  2.73it/s, loss=0.6389]\n",
      "100%|██████████| 6/6 [00:57<00:00,  9.61s/it]\n"
     ]
    },
    {
     "name": "stdout",
     "output_type": "stream",
     "text": [
      "train-epoch-loss:0.4890 valid-beta4-score:0.6494\n"
     ]
    },
    {
     "name": "stderr",
     "output_type": "stream",
     "text": [
      "Epoch 15/15 [Training]: 100%|██████████| 248/248 [02:37<00:00,  1.57it/s, loss=0.4924]\n",
      "Epoch 15/15 [Validation]: 100%|██████████| 5/5 [00:01<00:00,  2.75it/s, loss=0.7231]\n",
      "100%|██████████| 6/6 [01:00<00:00, 10.08s/it]\n"
     ]
    },
    {
     "name": "stdout",
     "output_type": "stream",
     "text": [
      "train-epoch-loss:0.4924 valid-beta4-score:0.4492\n"
     ]
    },
    {
     "data": {
      "text/html": [
       "Finishing last run (ID:1517cy8e) before initializing another..."
      ],
      "text/plain": [
       "<IPython.core.display.HTML object>"
      ]
     },
     "metadata": {},
     "output_type": "display_data"
    },
    {
     "name": "stderr",
     "output_type": "stream",
     "text": [
      "wandb: WARNING Source type is set to 'repo' but some required information is missing from the environment. A job will not be created from this run. See https://docs.wandb.ai/guides/launch/create-job\n"
     ]
    },
    {
     "data": {
      "application/vnd.jupyter.widget-view+json": {
       "model_id": "21fc1256dcf745c0b0c31bc0089a064b",
       "version_major": 2,
       "version_minor": 0
      },
      "text/plain": [
       "VBox(children=(Label(value='0.004 MB of 0.004 MB uploaded\\r'), FloatProgress(value=1.0, max=1.0)))"
      ]
     },
     "metadata": {},
     "output_type": "display_data"
    },
    {
     "data": {
      "text/html": [
       "<style>\n",
       "    table.wandb td:nth-child(1) { padding: 0 10px; text-align: left ; width: auto;} td:nth-child(2) {text-align: left ; width: 100%}\n",
       "    .wandb-row { display: flex; flex-direction: row; flex-wrap: wrap; justify-content: flex-start; width: 100% }\n",
       "    .wandb-col { display: flex; flex-direction: column; flex-basis: 100%; flex: 1; padding: 10px; }\n",
       "    </style>\n",
       "<div class=\"wandb-row\"><div class=\"wandb-col\"><h3>Run history:</h3><br/><table class=\"wandb\"><tr><td>01_epoch</td><td>▁▁▂▃▃▃▄▅▅▅▆▇▇▇█</td></tr><tr><td>02_train_loss</td><td>█▆▄▃▃▂▂▂▂▁▁▁▁▁▁</td></tr><tr><td>03_valid_loss</td><td>█▇▇▁▆▃▄▅▆▁▃▅▁▂▅</td></tr><tr><td>04_valid_best_score</td><td>▁▁▄▆███▆█▆▆▇██▄</td></tr><tr><td>apo-ferritin</td><td>▁█▄████████████</td></tr><tr><td>apoo_ferritin_f4</td><td>▁▁█▇█▇▇▄▇▆▇▆▆▆▅</td></tr><tr><td>apoo_ferritin_p</td><td>▁▁█▄▆▄▄▁▄▃▄▂▃▂▂</td></tr><tr><td>apoo_ferritin_r</td><td>▁▂▇▇█▇█▆▇▇█▇▇▆▆</td></tr><tr><td>beta-amylase</td><td>▁▁▁▁▁▁▁▁▁▁▁▁▁▁▁</td></tr><tr><td>beta-galactosidase</td><td>▁▁███████▂█████</td></tr><tr><td>beta_amylase_f4</td><td>▄▁▃▂▆▆▂▇█▇▂▅▃▄▂</td></tr><tr><td>beta_amylase_p</td><td>▃▁▃▂▆▆▂▆█▇▁▄▃▃▂</td></tr><tr><td>beta_amylase_r</td><td>▇▁▆▆█▇▇███████▅</td></tr><tr><td>beta_galactosidase_f4</td><td>▃▁▃▃▇▇▆▇▇█▆███▄</td></tr><tr><td>beta_galactosidase_p</td><td>▂▁▂▂▆▅▅▅▆▆▄█▇▇▂</td></tr><tr><td>beta_galactosidase_r</td><td>▇▁▇█▇█▆▇▇▇▇▇▇▇▆</td></tr><tr><td>ribosome</td><td>███████▁███████</td></tr><tr><td>ribosome_f4</td><td>▇▇▄█▇▇█▇▇▄▁▆██▁</td></tr><tr><td>ribosome_p</td><td>▆▄▃█▆██▅▅▂▁▃▇▇▁</td></tr><tr><td>ribosome_r</td><td>▇█▁▇▅▆█▅▇█▇█▇▇▇</td></tr><tr><td>thyroglobulin</td><td>▁██▄███▄▄█▄▄███</td></tr><tr><td>thyroglobulin_f4</td><td>▁▄▃▆▇▇█▇███▇▇▇▆</td></tr><tr><td>thyroglobulin_p</td><td>▁▂▂▇█▇▇▅▆█▇▆▆▆▆</td></tr><tr><td>thyroglobulin_r</td><td>▇█▇▁▄▄▆▇▇▆▅▅▅▅▄</td></tr><tr><td>virus-like-particle</td><td>▁█▁████████████</td></tr><tr><td>virus_like_particle_f4</td><td>▁▁▅██▇█▅▇▅█▆▇▇▆</td></tr><tr><td>virus_like_particle_p</td><td>▁▁█▅▄▃▄▂▃▁▃▂▃▃▂</td></tr><tr><td>virus_like_particle_r</td><td>▄▁▄████████████</td></tr></table><br/></div><div class=\"wandb-col\"><h3>Run summary:</h3><br/><table class=\"wandb\"><tr><td>01_epoch</td><td>14</td></tr><tr><td>02_train_loss</td><td>0.49244</td></tr><tr><td>03_valid_loss</td><td>0.72309</td></tr><tr><td>04_valid_best_score</td><td>0.44918</td></tr><tr><td>apo-ferritin</td><td>0.3</td></tr><tr><td>apoo_ferritin_f4</td><td>0.52186</td></tr><tr><td>apoo_ferritin_p</td><td>0.09252</td></tr><tr><td>apoo_ferritin_r</td><td>0.73504</td></tr><tr><td>beta-amylase</td><td>0.05</td></tr><tr><td>beta-galactosidase</td><td>0.3</td></tr><tr><td>beta_amylase_f4</td><td>0.03696</td></tr><tr><td>beta_amylase_p</td><td>0.00232</td></tr><tr><td>beta_amylase_r</td><td>0.55385</td></tr><tr><td>beta_galactosidase_f4</td><td>0.2549</td></tr><tr><td>beta_galactosidase_p</td><td>0.02197</td></tr><tr><td>beta_galactosidase_r</td><td>0.75581</td></tr><tr><td>ribosome</td><td>0.3</td></tr><tr><td>ribosome_f4</td><td>0.15094</td></tr><tr><td>ribosome_p</td><td>0.01076</td></tr><tr><td>ribosome_r</td><td>0.81102</td></tr><tr><td>thyroglobulin</td><td>0.3</td></tr><tr><td>thyroglobulin_f4</td><td>0.62456</td></tr><tr><td>thyroglobulin_p</td><td>0.13705</td></tr><tr><td>thyroglobulin_r</td><td>0.80311</td></tr><tr><td>virus-like-particle</td><td>0.3</td></tr><tr><td>virus_like_particle_f4</td><td>0.71252</td></tr><tr><td>virus_like_particle_p</td><td>0.13425</td></tr><tr><td>virus_like_particle_r</td><td>0.975</td></tr></table><br/></div></div>"
      ],
      "text/plain": [
       "<IPython.core.display.HTML object>"
      ]
     },
     "metadata": {},
     "output_type": "display_data"
    },
    {
     "data": {
      "text/html": [
       " View run <strong style=\"color:#cdcd00\">exp075-recreate-baseline-renet34d-dstride_TS_73_6</strong> at: <a href='https://wandb.ai/latent-walkers/czii2024/runs/1517cy8e' target=\"_blank\">https://wandb.ai/latent-walkers/czii2024/runs/1517cy8e</a><br/>Synced 5 W&B file(s), 0 media file(s), 0 artifact file(s) and 0 other file(s)"
      ],
      "text/plain": [
       "<IPython.core.display.HTML object>"
      ]
     },
     "metadata": {},
     "output_type": "display_data"
    },
    {
     "data": {
      "text/html": [
       "Find logs at: <code>./wandb/run-20250201_005030-1517cy8e/logs</code>"
      ],
      "text/plain": [
       "<IPython.core.display.HTML object>"
      ]
     },
     "metadata": {},
     "output_type": "display_data"
    },
    {
     "data": {
      "text/html": [
       "Successfully finished last run (ID:1517cy8e). Initializing new run:<br/>"
      ],
      "text/plain": [
       "<IPython.core.display.HTML object>"
      ]
     },
     "metadata": {},
     "output_type": "display_data"
    },
    {
     "data": {
      "application/vnd.jupyter.widget-view+json": {
       "model_id": "8569168490ca494fa48dc30ba05abc23",
       "version_major": 2,
       "version_minor": 0
      },
      "text/plain": [
       "VBox(children=(Label(value='Waiting for wandb.init()...\\r'), FloatProgress(value=0.011114802844046305, max=1.0…"
      ]
     },
     "metadata": {},
     "output_type": "display_data"
    },
    {
     "data": {
      "text/html": [
       "wandb version 0.19.5 is available!  To upgrade, please run:\n",
       " $ pip install wandb --upgrade"
      ],
      "text/plain": [
       "<IPython.core.display.HTML object>"
      ]
     },
     "metadata": {},
     "output_type": "display_data"
    },
    {
     "data": {
      "text/html": [
       "Tracking run with wandb version 0.16.1"
      ],
      "text/plain": [
       "<IPython.core.display.HTML object>"
      ]
     },
     "metadata": {},
     "output_type": "display_data"
    },
    {
     "data": {
      "text/html": [
       "Run data is saved locally in <code>/home/tatsuya/code/projects/kaggle/CryoET/experiments/exp075-recreate-baseline-renet34d-dstride/wandb/run-20250201_021030-th7tm42g</code>"
      ],
      "text/plain": [
       "<IPython.core.display.HTML object>"
      ]
     },
     "metadata": {},
     "output_type": "display_data"
    },
    {
     "data": {
      "text/html": [
       "Syncing run <strong><a href='https://wandb.ai/latent-walkers/czii2024/runs/th7tm42g' target=\"_blank\">exp075-recreate-baseline-renet34d-dstride_TS_99_9</a></strong> to <a href='https://wandb.ai/latent-walkers/czii2024' target=\"_blank\">Weights & Biases</a> (<a href='https://wandb.me/run' target=\"_blank\">docs</a>)<br/>"
      ],
      "text/plain": [
       "<IPython.core.display.HTML object>"
      ]
     },
     "metadata": {},
     "output_type": "display_data"
    },
    {
     "data": {
      "text/html": [
       " View project at <a href='https://wandb.ai/latent-walkers/czii2024' target=\"_blank\">https://wandb.ai/latent-walkers/czii2024</a>"
      ],
      "text/plain": [
       "<IPython.core.display.HTML object>"
      ]
     },
     "metadata": {},
     "output_type": "display_data"
    },
    {
     "data": {
      "text/html": [
       " View run at <a href='https://wandb.ai/latent-walkers/czii2024/runs/th7tm42g' target=\"_blank\">https://wandb.ai/latent-walkers/czii2024/runs/th7tm42g</a>"
      ],
      "text/plain": [
       "<IPython.core.display.HTML object>"
      ]
     },
     "metadata": {},
     "output_type": "display_data"
    },
    {
     "name": "stdout",
     "output_type": "stream",
     "text": [
      "train_exp_name TS_99_9\n",
      "valid_exp_name ['TS_73_6', 'TS_6_4', 'TS_69_2', 'TS_86_3', 'TS_6_6']\n"
     ]
    },
    {
     "name": "stderr",
     "output_type": "stream",
     "text": [
      "100%|██████████| 496/496 [01:06<00:00,  7.42it/s]\n",
      "100%|██████████| 5/5 [00:10<00:00,  2.12s/it]\n",
      "Epoch 1/15 [Training]: 100%|██████████| 248/248 [02:33<00:00,  1.62it/s, loss=0.8551]\n",
      "Epoch 1/15 [Validation]: 100%|██████████| 5/5 [00:01<00:00,  2.96it/s, loss=0.8317]\n",
      "100%|██████████| 6/6 [00:54<00:00,  9.08s/it]\n"
     ]
    },
    {
     "name": "stdout",
     "output_type": "stream",
     "text": [
      "train-epoch-loss:0.8551 valid-beta4-score:0.2324\n"
     ]
    },
    {
     "name": "stderr",
     "output_type": "stream",
     "text": [
      "Epoch 2/15 [Training]: 100%|██████████| 248/248 [02:28<00:00,  1.67it/s, loss=0.7436]\n",
      "Epoch 2/15 [Validation]: 100%|██████████| 5/5 [00:01<00:00,  2.95it/s, loss=0.8096]\n",
      "100%|██████████| 6/6 [00:53<00:00,  9.00s/it]\n"
     ]
    },
    {
     "name": "stdout",
     "output_type": "stream",
     "text": [
      "train-epoch-loss:0.7436 valid-beta4-score:0.3723\n"
     ]
    },
    {
     "name": "stderr",
     "output_type": "stream",
     "text": [
      "Epoch 3/15 [Training]: 100%|██████████| 248/248 [02:22<00:00,  1.74it/s, loss=0.6676]\n",
      "Epoch 3/15 [Validation]: 100%|██████████| 5/5 [00:01<00:00,  3.02it/s, loss=0.7694]\n",
      "100%|██████████| 6/6 [00:54<00:00,  9.04s/it]\n"
     ]
    },
    {
     "name": "stdout",
     "output_type": "stream",
     "text": [
      "train-epoch-loss:0.6676 valid-beta4-score:0.3500\n"
     ]
    },
    {
     "name": "stderr",
     "output_type": "stream",
     "text": [
      "Epoch 4/15 [Training]: 100%|██████████| 248/248 [02:43<00:00,  1.52it/s, loss=0.6280]\n",
      "Epoch 4/15 [Validation]: 100%|██████████| 5/5 [00:01<00:00,  2.74it/s, loss=0.7064]\n",
      "100%|██████████| 6/6 [00:57<00:00,  9.58s/it]\n"
     ]
    },
    {
     "name": "stdout",
     "output_type": "stream",
     "text": [
      "train-epoch-loss:0.6280 valid-beta4-score:0.2711\n"
     ]
    },
    {
     "name": "stderr",
     "output_type": "stream",
     "text": [
      "Epoch 5/15 [Training]: 100%|██████████| 248/248 [02:35<00:00,  1.59it/s, loss=0.6116]\n",
      "Epoch 5/15 [Validation]: 100%|██████████| 5/5 [00:01<00:00,  2.52it/s, loss=0.7261]\n",
      "100%|██████████| 6/6 [00:55<00:00,  9.28s/it]\n"
     ]
    },
    {
     "name": "stdout",
     "output_type": "stream",
     "text": [
      "train-epoch-loss:0.6116 valid-beta4-score:0.4258\n"
     ]
    },
    {
     "name": "stderr",
     "output_type": "stream",
     "text": [
      "Epoch 6/15 [Training]: 100%|██████████| 248/248 [02:23<00:00,  1.73it/s, loss=0.5959]\n",
      "Epoch 6/15 [Validation]: 100%|██████████| 5/5 [00:01<00:00,  2.84it/s, loss=0.7542]\n",
      "100%|██████████| 6/6 [00:56<00:00,  9.39s/it]\n"
     ]
    },
    {
     "name": "stdout",
     "output_type": "stream",
     "text": [
      "train-epoch-loss:0.5959 valid-beta4-score:0.4487\n"
     ]
    },
    {
     "name": "stderr",
     "output_type": "stream",
     "text": [
      "Epoch 7/15 [Training]: 100%|██████████| 248/248 [02:27<00:00,  1.69it/s, loss=0.5782]\n",
      "Epoch 7/15 [Validation]: 100%|██████████| 5/5 [00:01<00:00,  2.88it/s, loss=0.7702]\n",
      "100%|██████████| 6/6 [00:55<00:00,  9.25s/it]\n"
     ]
    },
    {
     "name": "stdout",
     "output_type": "stream",
     "text": [
      "train-epoch-loss:0.5782 valid-beta4-score:0.3684\n"
     ]
    },
    {
     "name": "stderr",
     "output_type": "stream",
     "text": [
      "Epoch 8/15 [Training]: 100%|██████████| 248/248 [02:40<00:00,  1.55it/s, loss=0.5774]\n",
      "Epoch 8/15 [Validation]: 100%|██████████| 5/5 [00:01<00:00,  2.85it/s, loss=0.7070]\n",
      "100%|██████████| 6/6 [00:55<00:00,  9.30s/it]\n"
     ]
    },
    {
     "name": "stdout",
     "output_type": "stream",
     "text": [
      "train-epoch-loss:0.5774 valid-beta4-score:0.4140\n"
     ]
    },
    {
     "name": "stderr",
     "output_type": "stream",
     "text": [
      "Epoch 9/15 [Training]: 100%|██████████| 248/248 [02:58<00:00,  1.39it/s, loss=0.5446]\n",
      "Epoch 9/15 [Validation]: 100%|██████████| 5/5 [00:02<00:00,  2.39it/s, loss=0.7268]\n",
      "100%|██████████| 6/6 [00:57<00:00,  9.59s/it]\n"
     ]
    },
    {
     "name": "stdout",
     "output_type": "stream",
     "text": [
      "train-epoch-loss:0.5446 valid-beta4-score:0.4036\n"
     ]
    },
    {
     "name": "stderr",
     "output_type": "stream",
     "text": [
      "Epoch 10/15 [Training]: 100%|██████████| 248/248 [02:36<00:00,  1.59it/s, loss=0.5570]\n",
      "Epoch 10/15 [Validation]: 100%|██████████| 5/5 [00:01<00:00,  2.75it/s, loss=0.7971]\n",
      "100%|██████████| 6/6 [00:55<00:00,  9.28s/it]\n"
     ]
    },
    {
     "name": "stdout",
     "output_type": "stream",
     "text": [
      "train-epoch-loss:0.5570 valid-beta4-score:0.4545\n"
     ]
    },
    {
     "name": "stderr",
     "output_type": "stream",
     "text": [
      "Epoch 11/15 [Training]: 100%|██████████| 248/248 [02:23<00:00,  1.73it/s, loss=0.5535]\n",
      "Epoch 11/15 [Validation]: 100%|██████████| 5/5 [00:01<00:00,  2.93it/s, loss=0.7389]\n",
      "100%|██████████| 6/6 [00:55<00:00,  9.33s/it]\n"
     ]
    },
    {
     "name": "stdout",
     "output_type": "stream",
     "text": [
      "train-epoch-loss:0.5535 valid-beta4-score:0.4861\n"
     ]
    },
    {
     "name": "stderr",
     "output_type": "stream",
     "text": [
      "Epoch 12/15 [Training]: 100%|██████████| 248/248 [02:30<00:00,  1.65it/s, loss=0.5523]\n",
      "Epoch 12/15 [Validation]: 100%|██████████| 5/5 [00:01<00:00,  2.97it/s, loss=0.7032]\n",
      "100%|██████████| 6/6 [00:56<00:00,  9.35s/it]\n"
     ]
    },
    {
     "name": "stdout",
     "output_type": "stream",
     "text": [
      "train-epoch-loss:0.5523 valid-beta4-score:0.4609\n"
     ]
    },
    {
     "name": "stderr",
     "output_type": "stream",
     "text": [
      "Epoch 13/15 [Training]: 100%|██████████| 248/248 [02:38<00:00,  1.56it/s, loss=0.5386]\n",
      "Epoch 13/15 [Validation]: 100%|██████████| 5/5 [00:01<00:00,  2.95it/s, loss=0.7055]\n",
      "100%|██████████| 6/6 [00:55<00:00,  9.29s/it]\n"
     ]
    },
    {
     "name": "stdout",
     "output_type": "stream",
     "text": [
      "train-epoch-loss:0.5386 valid-beta4-score:0.4727\n"
     ]
    },
    {
     "name": "stderr",
     "output_type": "stream",
     "text": [
      "Epoch 14/15 [Training]: 100%|██████████| 248/248 [02:23<00:00,  1.73it/s, loss=0.5321]\n",
      "Epoch 14/15 [Validation]: 100%|██████████| 5/5 [00:01<00:00,  3.13it/s, loss=0.7182]\n",
      "100%|██████████| 6/6 [00:56<00:00,  9.37s/it]\n"
     ]
    },
    {
     "name": "stdout",
     "output_type": "stream",
     "text": [
      "train-epoch-loss:0.5321 valid-beta4-score:0.5361\n"
     ]
    },
    {
     "name": "stderr",
     "output_type": "stream",
     "text": [
      "Epoch 15/15 [Training]: 100%|██████████| 248/248 [03:04<00:00,  1.34it/s, loss=0.5242]\n",
      "Epoch 15/15 [Validation]: 100%|██████████| 5/5 [00:01<00:00,  2.81it/s, loss=0.6479]\n",
      "100%|██████████| 6/6 [00:55<00:00,  9.23s/it]\n"
     ]
    },
    {
     "name": "stdout",
     "output_type": "stream",
     "text": [
      "train-epoch-loss:0.5242 valid-beta4-score:0.5676\n"
     ]
    },
    {
     "data": {
      "text/html": [
       "Finishing last run (ID:th7tm42g) before initializing another..."
      ],
      "text/plain": [
       "<IPython.core.display.HTML object>"
      ]
     },
     "metadata": {},
     "output_type": "display_data"
    },
    {
     "name": "stderr",
     "output_type": "stream",
     "text": [
      "wandb: WARNING Source type is set to 'repo' but some required information is missing from the environment. A job will not be created from this run. See https://docs.wandb.ai/guides/launch/create-job\n"
     ]
    },
    {
     "data": {
      "application/vnd.jupyter.widget-view+json": {
       "model_id": "b1add5e39391412baa11261217d66549",
       "version_major": 2,
       "version_minor": 0
      },
      "text/plain": [
       "VBox(children=(Label(value='0.004 MB of 0.004 MB uploaded\\r'), FloatProgress(value=1.0, max=1.0)))"
      ]
     },
     "metadata": {},
     "output_type": "display_data"
    },
    {
     "data": {
      "text/html": [
       "<style>\n",
       "    table.wandb td:nth-child(1) { padding: 0 10px; text-align: left ; width: auto;} td:nth-child(2) {text-align: left ; width: 100%}\n",
       "    .wandb-row { display: flex; flex-direction: row; flex-wrap: wrap; justify-content: flex-start; width: 100% }\n",
       "    .wandb-col { display: flex; flex-direction: column; flex-basis: 100%; flex: 1; padding: 10px; }\n",
       "    </style>\n",
       "<div class=\"wandb-row\"><div class=\"wandb-col\"><h3>Run history:</h3><br/><table class=\"wandb\"><tr><td>01_epoch</td><td>▁▁▂▃▃▃▄▅▅▅▆▇▇▇█</td></tr><tr><td>02_train_loss</td><td>█▆▄▃▃▃▂▂▁▂▂▂▁▁▁</td></tr><tr><td>03_valid_loss</td><td>█▇▆▃▄▅▆▃▄▇▄▃▃▄▁</td></tr><tr><td>04_valid_best_score</td><td>▁▄▃▂▅▆▄▅▅▆▆▆▆▇█</td></tr><tr><td>apo-ferritin</td><td>▂█████▁██▅████▅</td></tr><tr><td>apoo_ferritin_f4</td><td>▁▇█▇█▇██████▇▇▇</td></tr><tr><td>apoo_ferritin_p</td><td>▁▁█▄▃▁▅▅▆▆▅▅▅▅▆</td></tr><tr><td>apoo_ferritin_r</td><td>▁████▇██████▇▇▇</td></tr><tr><td>beta-amylase</td><td>▁▁▁▁▁▁▁▁▁▁▁▁▁▁▁</td></tr><tr><td>beta-galactosidase</td><td>▁▁▅█▅▅▅█████▅██</td></tr><tr><td>beta_amylase_f4</td><td>▁▂▁▅▇▅▃▄▄▅▇▆▆▇█</td></tr><tr><td>beta_amylase_p</td><td>▁▂▁▄█▄▂▃▃▅▆▆▆▆█</td></tr><tr><td>beta_amylase_r</td><td>▃▂▁▇▆█▆▇███▇██▇</td></tr><tr><td>beta_galactosidase_f4</td><td>▁▃▃▄▄▆▂▄▄▆█▇▆▇█</td></tr><tr><td>beta_galactosidase_p</td><td>▁▂█▂▂▃▁▂▂▃▅▄▃▄▄</td></tr><tr><td>beta_galactosidase_r</td><td>▆▄▁█▇█▆▇▇▆▆▇▇▇▆</td></tr><tr><td>ribosome</td><td>▁▁▁▁▁▁▁▁▁▁▁▁▁▁▁</td></tr><tr><td>ribosome_f4</td><td>▂█▆▁▇▇▅▆▇▇▆▇▇▇▇</td></tr><tr><td>ribosome_p</td><td>▁█▄▁▃▄▂▃▄▄▄▄▄▄▅</td></tr><tr><td>ribosome_r</td><td>▁█▇▃██▅▆▇█▇▇█▇█</td></tr><tr><td>thyroglobulin</td><td>▁█▁▁███████████</td></tr><tr><td>thyroglobulin_f4</td><td>▅▄▃▁▇█▆▇▅▇█▇▇▇█</td></tr><tr><td>thyroglobulin_p</td><td>▂▂█▁▃▄▂▃▂▃▄▃▃▃▃</td></tr><tr><td>thyroglobulin_r</td><td>▇▆▁▃███████████</td></tr><tr><td>virus-like-particle</td><td>▁▁▁▁▁▁▁▁▁▁▁▁▁▁▁</td></tr><tr><td>virus_like_particle_f4</td><td>▃▁▁▁▁▁▁▁▁▁▁▁▄██</td></tr><tr><td>virus_like_particle_p</td><td>▁▁▁▃▁▁▁▁▁▁▁▁▇▆█</td></tr><tr><td>virus_like_particle_r</td><td>█▁▁▁▁▁▁▁▁▁▁▁▃▇▇</td></tr></table><br/></div><div class=\"wandb-col\"><h3>Run summary:</h3><br/><table class=\"wandb\"><tr><td>01_epoch</td><td>14</td></tr><tr><td>02_train_loss</td><td>0.52421</td></tr><tr><td>03_valid_loss</td><td>0.64794</td></tr><tr><td>04_valid_best_score</td><td>0.56758</td></tr><tr><td>apo-ferritin</td><td>0.2</td></tr><tr><td>apoo_ferritin_f4</td><td>0.74696</td></tr><tr><td>apoo_ferritin_p</td><td>0.45509</td></tr><tr><td>apoo_ferritin_r</td><td>0.77816</td></tr><tr><td>beta-amylase</td><td>0.05</td></tr><tr><td>beta-galactosidase</td><td>0.3</td></tr><tr><td>beta_amylase_f4</td><td>0.30051</td></tr><tr><td>beta_amylase_p</td><td>0.02838</td></tr><tr><td>beta_amylase_r</td><td>0.75</td></tr><tr><td>beta_galactosidase_f4</td><td>0.39472</td></tr><tr><td>beta_galactosidase_p</td><td>0.04524</td></tr><tr><td>beta_galactosidase_r</td><td>0.76316</td></tr><tr><td>ribosome</td><td>0.3</td></tr><tr><td>ribosome_f4</td><td>0.75436</td></tr><tr><td>ribosome_p</td><td>0.29833</td></tr><tr><td>ribosome_r</td><td>0.83404</td></tr><tr><td>thyroglobulin</td><td>0.3</td></tr><tr><td>thyroglobulin_f4</td><td>0.56643</td></tr><tr><td>thyroglobulin_p</td><td>0.07871</td></tr><tr><td>thyroglobulin_r</td><td>0.92442</td></tr><tr><td>virus-like-particle</td><td>0.05</td></tr><tr><td>virus_like_particle_f4</td><td>0.54945</td></tr><tr><td>virus_like_particle_p</td><td>0.4065</td></tr><tr><td>virus_like_particle_r</td><td>0.5618</td></tr></table><br/></div></div>"
      ],
      "text/plain": [
       "<IPython.core.display.HTML object>"
      ]
     },
     "metadata": {},
     "output_type": "display_data"
    },
    {
     "data": {
      "text/html": [
       " View run <strong style=\"color:#cdcd00\">exp075-recreate-baseline-renet34d-dstride_TS_99_9</strong> at: <a href='https://wandb.ai/latent-walkers/czii2024/runs/th7tm42g' target=\"_blank\">https://wandb.ai/latent-walkers/czii2024/runs/th7tm42g</a><br/>Synced 5 W&B file(s), 0 media file(s), 0 artifact file(s) and 0 other file(s)"
      ],
      "text/plain": [
       "<IPython.core.display.HTML object>"
      ]
     },
     "metadata": {},
     "output_type": "display_data"
    },
    {
     "data": {
      "text/html": [
       "Find logs at: <code>./wandb/run-20250201_021030-th7tm42g/logs</code>"
      ],
      "text/plain": [
       "<IPython.core.display.HTML object>"
      ]
     },
     "metadata": {},
     "output_type": "display_data"
    },
    {
     "data": {
      "text/html": [
       "Successfully finished last run (ID:th7tm42g). Initializing new run:<br/>"
      ],
      "text/plain": [
       "<IPython.core.display.HTML object>"
      ]
     },
     "metadata": {},
     "output_type": "display_data"
    },
    {
     "data": {
      "application/vnd.jupyter.widget-view+json": {
       "model_id": "0c5cf509810d4534a5b80bd02e0835c2",
       "version_major": 2,
       "version_minor": 0
      },
      "text/plain": [
       "VBox(children=(Label(value='Waiting for wandb.init()...\\r'), FloatProgress(value=0.011115578344712655, max=1.0…"
      ]
     },
     "metadata": {},
     "output_type": "display_data"
    },
    {
     "data": {
      "text/html": [
       "wandb version 0.19.5 is available!  To upgrade, please run:\n",
       " $ pip install wandb --upgrade"
      ],
      "text/plain": [
       "<IPython.core.display.HTML object>"
      ]
     },
     "metadata": {},
     "output_type": "display_data"
    },
    {
     "data": {
      "text/html": [
       "Tracking run with wandb version 0.16.1"
      ],
      "text/plain": [
       "<IPython.core.display.HTML object>"
      ]
     },
     "metadata": {},
     "output_type": "display_data"
    },
    {
     "data": {
      "text/html": [
       "Run data is saved locally in <code>/home/tatsuya/code/projects/kaggle/CryoET/experiments/exp075-recreate-baseline-renet34d-dstride/wandb/run-20250201_032826-kygx9rrn</code>"
      ],
      "text/plain": [
       "<IPython.core.display.HTML object>"
      ]
     },
     "metadata": {},
     "output_type": "display_data"
    },
    {
     "data": {
      "text/html": [
       "Syncing run <strong><a href='https://wandb.ai/latent-walkers/czii2024/runs/kygx9rrn' target=\"_blank\">exp075-recreate-baseline-renet34d-dstride_TS_6_4</a></strong> to <a href='https://wandb.ai/latent-walkers/czii2024' target=\"_blank\">Weights & Biases</a> (<a href='https://wandb.me/run' target=\"_blank\">docs</a>)<br/>"
      ],
      "text/plain": [
       "<IPython.core.display.HTML object>"
      ]
     },
     "metadata": {},
     "output_type": "display_data"
    },
    {
     "data": {
      "text/html": [
       " View project at <a href='https://wandb.ai/latent-walkers/czii2024' target=\"_blank\">https://wandb.ai/latent-walkers/czii2024</a>"
      ],
      "text/plain": [
       "<IPython.core.display.HTML object>"
      ]
     },
     "metadata": {},
     "output_type": "display_data"
    },
    {
     "data": {
      "text/html": [
       " View run at <a href='https://wandb.ai/latent-walkers/czii2024/runs/kygx9rrn' target=\"_blank\">https://wandb.ai/latent-walkers/czii2024/runs/kygx9rrn</a>"
      ],
      "text/plain": [
       "<IPython.core.display.HTML object>"
      ]
     },
     "metadata": {},
     "output_type": "display_data"
    },
    {
     "name": "stdout",
     "output_type": "stream",
     "text": [
      "train_exp_name TS_6_4\n",
      "valid_exp_name ['TS_73_6', 'TS_99_9', 'TS_69_2', 'TS_86_3', 'TS_6_6']\n"
     ]
    },
    {
     "name": "stderr",
     "output_type": "stream",
     "text": [
      "100%|██████████| 496/496 [01:03<00:00,  7.80it/s]\n",
      "100%|██████████| 5/5 [00:20<00:00,  4.04s/it]\n",
      "Epoch 1/15 [Training]: 100%|██████████| 248/248 [02:16<00:00,  1.81it/s, loss=0.8692]\n",
      "Epoch 1/15 [Validation]: 100%|██████████| 5/5 [00:01<00:00,  3.03it/s, loss=0.8501]\n",
      "100%|██████████| 6/6 [01:01<00:00, 10.28s/it]\n"
     ]
    },
    {
     "name": "stdout",
     "output_type": "stream",
     "text": [
      "train-epoch-loss:0.8692 valid-beta4-score:0.0279\n"
     ]
    },
    {
     "name": "stderr",
     "output_type": "stream",
     "text": [
      "Epoch 2/15 [Training]: 100%|██████████| 248/248 [02:28<00:00,  1.67it/s, loss=0.7623]\n",
      "Epoch 2/15 [Validation]: 100%|██████████| 5/5 [00:01<00:00,  3.02it/s, loss=0.8200]\n",
      "100%|██████████| 6/6 [00:53<00:00,  8.91s/it]\n"
     ]
    },
    {
     "name": "stdout",
     "output_type": "stream",
     "text": [
      "train-epoch-loss:0.7623 valid-beta4-score:0.3230\n"
     ]
    },
    {
     "name": "stderr",
     "output_type": "stream",
     "text": [
      "Epoch 3/15 [Training]: 100%|██████████| 248/248 [02:31<00:00,  1.64it/s, loss=0.6850]\n",
      "Epoch 3/15 [Validation]: 100%|██████████| 5/5 [00:01<00:00,  3.05it/s, loss=0.7888]\n",
      "100%|██████████| 6/6 [00:55<00:00,  9.32s/it]\n"
     ]
    },
    {
     "name": "stdout",
     "output_type": "stream",
     "text": [
      "train-epoch-loss:0.6850 valid-beta4-score:0.5184\n"
     ]
    },
    {
     "name": "stderr",
     "output_type": "stream",
     "text": [
      "Epoch 4/15 [Training]: 100%|██████████| 248/248 [02:29<00:00,  1.66it/s, loss=0.6141]\n",
      "Epoch 4/15 [Validation]: 100%|██████████| 5/5 [00:01<00:00,  3.12it/s, loss=0.6534]\n",
      "100%|██████████| 6/6 [00:57<00:00,  9.65s/it]\n"
     ]
    },
    {
     "name": "stdout",
     "output_type": "stream",
     "text": [
      "train-epoch-loss:0.6141 valid-beta4-score:0.5520\n"
     ]
    },
    {
     "name": "stderr",
     "output_type": "stream",
     "text": [
      "Epoch 5/15 [Training]: 100%|██████████| 248/248 [02:27<00:00,  1.68it/s, loss=0.5756]\n",
      "Epoch 5/15 [Validation]: 100%|██████████| 5/5 [00:01<00:00,  3.07it/s, loss=0.7461]\n",
      "100%|██████████| 6/6 [00:58<00:00,  9.77s/it]\n"
     ]
    },
    {
     "name": "stdout",
     "output_type": "stream",
     "text": [
      "train-epoch-loss:0.5756 valid-beta4-score:0.5076\n"
     ]
    },
    {
     "name": "stderr",
     "output_type": "stream",
     "text": [
      "Epoch 6/15 [Training]: 100%|██████████| 248/248 [02:31<00:00,  1.64it/s, loss=0.5541]\n",
      "Epoch 6/15 [Validation]: 100%|██████████| 5/5 [00:01<00:00,  2.98it/s, loss=0.6990]\n",
      "100%|██████████| 6/6 [00:57<00:00,  9.50s/it]\n"
     ]
    },
    {
     "name": "stdout",
     "output_type": "stream",
     "text": [
      "train-epoch-loss:0.5541 valid-beta4-score:0.5728\n"
     ]
    },
    {
     "name": "stderr",
     "output_type": "stream",
     "text": [
      "Epoch 7/15 [Training]: 100%|██████████| 248/248 [02:21<00:00,  1.75it/s, loss=0.5287]\n",
      "Epoch 7/15 [Validation]: 100%|██████████| 5/5 [00:01<00:00,  3.03it/s, loss=0.7155]\n",
      "100%|██████████| 6/6 [00:57<00:00,  9.55s/it]\n"
     ]
    },
    {
     "name": "stdout",
     "output_type": "stream",
     "text": [
      "train-epoch-loss:0.5287 valid-beta4-score:0.5707\n"
     ]
    },
    {
     "name": "stderr",
     "output_type": "stream",
     "text": [
      "Epoch 8/15 [Training]: 100%|██████████| 248/248 [02:33<00:00,  1.62it/s, loss=0.5120]\n",
      "Epoch 8/15 [Validation]: 100%|██████████| 5/5 [00:01<00:00,  2.92it/s, loss=0.6865]\n",
      "100%|██████████| 6/6 [00:58<00:00,  9.81s/it]\n"
     ]
    },
    {
     "name": "stdout",
     "output_type": "stream",
     "text": [
      "train-epoch-loss:0.5120 valid-beta4-score:0.5122\n"
     ]
    },
    {
     "name": "stderr",
     "output_type": "stream",
     "text": [
      "Epoch 9/15 [Training]: 100%|██████████| 248/248 [02:28<00:00,  1.66it/s, loss=0.5045]\n",
      "Epoch 9/15 [Validation]: 100%|██████████| 5/5 [00:01<00:00,  3.01it/s, loss=0.7537]\n",
      "100%|██████████| 6/6 [00:57<00:00,  9.54s/it]\n"
     ]
    },
    {
     "name": "stdout",
     "output_type": "stream",
     "text": [
      "train-epoch-loss:0.5045 valid-beta4-score:0.5573\n"
     ]
    },
    {
     "name": "stderr",
     "output_type": "stream",
     "text": [
      "Epoch 10/15 [Training]: 100%|██████████| 248/248 [02:21<00:00,  1.75it/s, loss=0.5045]\n",
      "Epoch 10/15 [Validation]: 100%|██████████| 5/5 [00:01<00:00,  2.98it/s, loss=0.8346]\n",
      "100%|██████████| 6/6 [00:57<00:00,  9.65s/it]\n"
     ]
    },
    {
     "name": "stdout",
     "output_type": "stream",
     "text": [
      "train-epoch-loss:0.5045 valid-beta4-score:0.4446\n"
     ]
    },
    {
     "name": "stderr",
     "output_type": "stream",
     "text": [
      "Epoch 11/15 [Training]: 100%|██████████| 248/248 [02:23<00:00,  1.73it/s, loss=0.4960]\n",
      "Epoch 11/15 [Validation]: 100%|██████████| 5/5 [00:01<00:00,  2.90it/s, loss=0.6693]\n",
      "100%|██████████| 6/6 [00:57<00:00,  9.60s/it]\n"
     ]
    },
    {
     "name": "stdout",
     "output_type": "stream",
     "text": [
      "train-epoch-loss:0.4960 valid-beta4-score:0.4919\n"
     ]
    },
    {
     "name": "stderr",
     "output_type": "stream",
     "text": [
      "Epoch 12/15 [Training]: 100%|██████████| 248/248 [02:31<00:00,  1.64it/s, loss=0.4940]\n",
      "Epoch 12/15 [Validation]: 100%|██████████| 5/5 [00:01<00:00,  2.88it/s, loss=0.5186]\n",
      "100%|██████████| 6/6 [00:57<00:00,  9.57s/it]\n"
     ]
    },
    {
     "name": "stdout",
     "output_type": "stream",
     "text": [
      "train-epoch-loss:0.4940 valid-beta4-score:0.6032\n"
     ]
    },
    {
     "name": "stderr",
     "output_type": "stream",
     "text": [
      "Epoch 13/15 [Training]: 100%|██████████| 248/248 [02:40<00:00,  1.55it/s, loss=0.4654]\n",
      "Epoch 13/15 [Validation]: 100%|██████████| 5/5 [00:01<00:00,  2.91it/s, loss=0.6835]\n",
      "100%|██████████| 6/6 [00:57<00:00,  9.52s/it]\n"
     ]
    },
    {
     "name": "stdout",
     "output_type": "stream",
     "text": [
      "train-epoch-loss:0.4654 valid-beta4-score:0.6040\n"
     ]
    },
    {
     "name": "stderr",
     "output_type": "stream",
     "text": [
      "Epoch 14/15 [Training]: 100%|██████████| 248/248 [02:31<00:00,  1.64it/s, loss=0.4844]\n",
      "Epoch 14/15 [Validation]: 100%|██████████| 5/5 [00:01<00:00,  3.01it/s, loss=0.7383]\n",
      "100%|██████████| 6/6 [00:57<00:00,  9.54s/it]\n"
     ]
    },
    {
     "name": "stdout",
     "output_type": "stream",
     "text": [
      "train-epoch-loss:0.4844 valid-beta4-score:0.5090\n"
     ]
    },
    {
     "name": "stderr",
     "output_type": "stream",
     "text": [
      "Epoch 15/15 [Training]: 100%|██████████| 248/248 [02:20<00:00,  1.77it/s, loss=0.4847]\n",
      "Epoch 15/15 [Validation]: 100%|██████████| 5/5 [00:01<00:00,  3.00it/s, loss=0.6863]\n",
      "100%|██████████| 6/6 [00:57<00:00,  9.51s/it]\n"
     ]
    },
    {
     "name": "stdout",
     "output_type": "stream",
     "text": [
      "train-epoch-loss:0.4847 valid-beta4-score:0.5412\n"
     ]
    },
    {
     "data": {
      "text/html": [
       "Finishing last run (ID:kygx9rrn) before initializing another..."
      ],
      "text/plain": [
       "<IPython.core.display.HTML object>"
      ]
     },
     "metadata": {},
     "output_type": "display_data"
    },
    {
     "name": "stderr",
     "output_type": "stream",
     "text": [
      "wandb: WARNING Source type is set to 'repo' but some required information is missing from the environment. A job will not be created from this run. See https://docs.wandb.ai/guides/launch/create-job\n"
     ]
    },
    {
     "data": {
      "application/vnd.jupyter.widget-view+json": {
       "model_id": "10092db7dd694c16b4136e0eb86c2eed",
       "version_major": 2,
       "version_minor": 0
      },
      "text/plain": [
       "VBox(children=(Label(value='0.004 MB of 0.004 MB uploaded\\r'), FloatProgress(value=1.0, max=1.0)))"
      ]
     },
     "metadata": {},
     "output_type": "display_data"
    },
    {
     "data": {
      "text/html": [
       "<style>\n",
       "    table.wandb td:nth-child(1) { padding: 0 10px; text-align: left ; width: auto;} td:nth-child(2) {text-align: left ; width: 100%}\n",
       "    .wandb-row { display: flex; flex-direction: row; flex-wrap: wrap; justify-content: flex-start; width: 100% }\n",
       "    .wandb-col { display: flex; flex-direction: column; flex-basis: 100%; flex: 1; padding: 10px; }\n",
       "    </style>\n",
       "<div class=\"wandb-row\"><div class=\"wandb-col\"><h3>Run history:</h3><br/><table class=\"wandb\"><tr><td>01_epoch</td><td>▁▁▂▃▃▃▄▅▅▅▆▇▇▇█</td></tr><tr><td>02_train_loss</td><td>█▆▅▄▃▃▂▂▂▂▂▁▁▁▁</td></tr><tr><td>03_valid_loss</td><td>█▇▇▄▆▅▅▅▆█▄▁▄▆▅</td></tr><tr><td>04_valid_best_score</td><td>▁▅▇▇▇██▇▇▆▇██▇▇</td></tr><tr><td>apo-ferritin</td><td>▁▅▅████████████</td></tr><tr><td>apoo_ferritin_f4</td><td>▁█████▇▄▇▃▇██▆▆</td></tr><tr><td>apoo_ferritin_p</td><td>▁██▄▄▅▃▁▄▁▃▄▅▃▃</td></tr><tr><td>apoo_ferritin_r</td><td>▁▇█████▇▇▇▇██▇▇</td></tr><tr><td>beta-amylase</td><td>▁▁▁▁▁▁▁▁▁▁▁▁▁▁▁</td></tr><tr><td>beta-galactosidase</td><td>▁▁▅▂▁▅████████▅</td></tr><tr><td>beta_amylase_f4</td><td>▁▁▂▄▅▅▄▇▄▄▇██▅▄</td></tr><tr><td>beta_amylase_p</td><td>▁▁▂▄▅▄▃▆▄▃▆██▄▄</td></tr><tr><td>beta_amylase_r</td><td>▁▁▃▇▇█▇▇▇▇██▇▇▇</td></tr><tr><td>beta_galactosidase_f4</td><td>▁▂▆▅▅▆▅█▅▅▆▇█▆▆</td></tr><tr><td>beta_galactosidase_p</td><td>▁▃▇▃▃▇▄█▄▄▅▇█▄▅</td></tr><tr><td>beta_galactosidase_r</td><td>▁▁▅█▇▆▇█▇▇▇▇▇██</td></tr><tr><td>ribosome</td><td>▁▁▁▁▁▁▁▁▁▁▁▁▁▁▁</td></tr><tr><td>ribosome_f4</td><td>▁▅▇█▆▅█▁▅▄▃▅▄▃▄</td></tr><tr><td>ribosome_p</td><td>▁▄▇█▄▃▆▁▃▂▁▃▂▂▂</td></tr><tr><td>ribosome_r</td><td>▁▆▇▇▇▇█▇▇▇▇█▇▇▇</td></tr><tr><td>thyroglobulin</td><td>▁▁██▂▅█▂███████</td></tr><tr><td>thyroglobulin_f4</td><td>▁▄▇▆▇▇▇█▇▇▇████</td></tr><tr><td>thyroglobulin_p</td><td>▁▃▆▄▅▆▄█▆▄▅▆▆▆▇</td></tr><tr><td>thyroglobulin_r</td><td>▁▅▆█▇▇█▇███████</td></tr><tr><td>virus-like-particle</td><td>▂▁█████▅███████</td></tr><tr><td>virus_like_particle_f4</td><td>▁▂▄▇▆▇▇██▇▆▇▇▇▇</td></tr><tr><td>virus_like_particle_p</td><td>▁▁▃▃▂▃▄█▄▃▂▂▃▂▃</td></tr><tr><td>virus_like_particle_r</td><td>▁█▂█▇▇▇████████</td></tr></table><br/></div><div class=\"wandb-col\"><h3>Run summary:</h3><br/><table class=\"wandb\"><tr><td>01_epoch</td><td>14</td></tr><tr><td>02_train_loss</td><td>0.48465</td></tr><tr><td>03_valid_loss</td><td>0.68627</td></tr><tr><td>04_valid_best_score</td><td>0.54121</td></tr><tr><td>apo-ferritin</td><td>0.3</td></tr><tr><td>apoo_ferritin_f4</td><td>0.59208</td></tr><tr><td>apoo_ferritin_p</td><td>0.14678</td></tr><tr><td>apoo_ferritin_r</td><td>0.73063</td></tr><tr><td>beta-amylase</td><td>0.05</td></tr><tr><td>beta-galactosidase</td><td>0.2</td></tr><tr><td>beta_amylase_f4</td><td>0.15037</td></tr><tr><td>beta_amylase_p</td><td>0.01076</td></tr><tr><td>beta_amylase_r</td><td>0.79412</td></tr><tr><td>beta_galactosidase_f4</td><td>0.32199</td></tr><tr><td>beta_galactosidase_p</td><td>0.02961</td></tr><tr><td>beta_galactosidase_r</td><td>0.84091</td></tr><tr><td>ribosome</td><td>0.3</td></tr><tr><td>ribosome_f4</td><td>0.3639</td></tr><tr><td>ribosome_p</td><td>0.03821</td></tr><tr><td>ribosome_r</td><td>0.77876</td></tr><tr><td>thyroglobulin</td><td>0.3</td></tr><tr><td>thyroglobulin_f4</td><td>0.66054</td></tr><tr><td>thyroglobulin_p</td><td>0.13446</td></tr><tr><td>thyroglobulin_r</td><td>0.87435</td></tr><tr><td>virus-like-particle</td><td>0.3</td></tr><tr><td>virus_like_particle_f4</td><td>0.86744</td></tr><tr><td>virus_like_particle_p</td><td>0.27795</td></tr><tr><td>virus_like_particle_r</td><td>1.0</td></tr></table><br/></div></div>"
      ],
      "text/plain": [
       "<IPython.core.display.HTML object>"
      ]
     },
     "metadata": {},
     "output_type": "display_data"
    },
    {
     "data": {
      "text/html": [
       " View run <strong style=\"color:#cdcd00\">exp075-recreate-baseline-renet34d-dstride_TS_6_4</strong> at: <a href='https://wandb.ai/latent-walkers/czii2024/runs/kygx9rrn' target=\"_blank\">https://wandb.ai/latent-walkers/czii2024/runs/kygx9rrn</a><br/>Synced 5 W&B file(s), 0 media file(s), 0 artifact file(s) and 0 other file(s)"
      ],
      "text/plain": [
       "<IPython.core.display.HTML object>"
      ]
     },
     "metadata": {},
     "output_type": "display_data"
    },
    {
     "data": {
      "text/html": [
       "Find logs at: <code>./wandb/run-20250201_032826-kygx9rrn/logs</code>"
      ],
      "text/plain": [
       "<IPython.core.display.HTML object>"
      ]
     },
     "metadata": {},
     "output_type": "display_data"
    },
    {
     "data": {
      "text/html": [
       "Successfully finished last run (ID:kygx9rrn). Initializing new run:<br/>"
      ],
      "text/plain": [
       "<IPython.core.display.HTML object>"
      ]
     },
     "metadata": {},
     "output_type": "display_data"
    },
    {
     "data": {
      "application/vnd.jupyter.widget-view+json": {
       "model_id": "799ca5705fb1494d8080c45217c9be93",
       "version_major": 2,
       "version_minor": 0
      },
      "text/plain": [
       "VBox(children=(Label(value='Waiting for wandb.init()...\\r'), FloatProgress(value=0.011115261033410206, max=1.0…"
      ]
     },
     "metadata": {},
     "output_type": "display_data"
    },
    {
     "data": {
      "text/html": [
       "wandb version 0.19.5 is available!  To upgrade, please run:\n",
       " $ pip install wandb --upgrade"
      ],
      "text/plain": [
       "<IPython.core.display.HTML object>"
      ]
     },
     "metadata": {},
     "output_type": "display_data"
    },
    {
     "data": {
      "text/html": [
       "Tracking run with wandb version 0.16.1"
      ],
      "text/plain": [
       "<IPython.core.display.HTML object>"
      ]
     },
     "metadata": {},
     "output_type": "display_data"
    },
    {
     "data": {
      "text/html": [
       "Run data is saved locally in <code>/home/tatsuya/code/projects/kaggle/CryoET/experiments/exp075-recreate-baseline-renet34d-dstride/wandb/run-20250201_044500-s1excnw4</code>"
      ],
      "text/plain": [
       "<IPython.core.display.HTML object>"
      ]
     },
     "metadata": {},
     "output_type": "display_data"
    },
    {
     "data": {
      "text/html": [
       "Syncing run <strong><a href='https://wandb.ai/latent-walkers/czii2024/runs/s1excnw4' target=\"_blank\">exp075-recreate-baseline-renet34d-dstride_TS_69_2</a></strong> to <a href='https://wandb.ai/latent-walkers/czii2024' target=\"_blank\">Weights & Biases</a> (<a href='https://wandb.me/run' target=\"_blank\">docs</a>)<br/>"
      ],
      "text/plain": [
       "<IPython.core.display.HTML object>"
      ]
     },
     "metadata": {},
     "output_type": "display_data"
    },
    {
     "data": {
      "text/html": [
       " View project at <a href='https://wandb.ai/latent-walkers/czii2024' target=\"_blank\">https://wandb.ai/latent-walkers/czii2024</a>"
      ],
      "text/plain": [
       "<IPython.core.display.HTML object>"
      ]
     },
     "metadata": {},
     "output_type": "display_data"
    },
    {
     "data": {
      "text/html": [
       " View run at <a href='https://wandb.ai/latent-walkers/czii2024/runs/s1excnw4' target=\"_blank\">https://wandb.ai/latent-walkers/czii2024/runs/s1excnw4</a>"
      ],
      "text/plain": [
       "<IPython.core.display.HTML object>"
      ]
     },
     "metadata": {},
     "output_type": "display_data"
    },
    {
     "name": "stdout",
     "output_type": "stream",
     "text": [
      "train_exp_name TS_69_2\n",
      "valid_exp_name ['TS_73_6', 'TS_99_9', 'TS_6_4', 'TS_86_3', 'TS_6_6']\n"
     ]
    },
    {
     "name": "stderr",
     "output_type": "stream",
     "text": [
      "100%|██████████| 496/496 [00:54<00:00,  9.11it/s]\n",
      "100%|██████████| 5/5 [00:36<00:00,  7.29s/it]\n",
      "Epoch 1/15 [Training]: 100%|██████████| 248/248 [02:34<00:00,  1.60it/s, loss=0.8726]\n",
      "Epoch 1/15 [Validation]: 100%|██████████| 5/5 [00:01<00:00,  2.77it/s, loss=0.8228]\n",
      "100%|██████████| 6/6 [00:55<00:00,  9.17s/it]\n"
     ]
    },
    {
     "name": "stdout",
     "output_type": "stream",
     "text": [
      "train-epoch-loss:0.8726 valid-beta4-score:0.3631\n"
     ]
    },
    {
     "name": "stderr",
     "output_type": "stream",
     "text": [
      "Epoch 2/15 [Training]: 100%|██████████| 248/248 [02:22<00:00,  1.74it/s, loss=0.7644]\n",
      "Epoch 2/15 [Validation]: 100%|██████████| 5/5 [00:01<00:00,  2.93it/s, loss=0.7942]\n",
      "100%|██████████| 6/6 [00:55<00:00,  9.18s/it]\n"
     ]
    },
    {
     "name": "stdout",
     "output_type": "stream",
     "text": [
      "train-epoch-loss:0.7644 valid-beta4-score:0.3210\n"
     ]
    },
    {
     "name": "stderr",
     "output_type": "stream",
     "text": [
      "Epoch 3/15 [Training]: 100%|██████████| 248/248 [02:32<00:00,  1.63it/s, loss=0.7012]\n",
      "Epoch 3/15 [Validation]: 100%|██████████| 5/5 [00:01<00:00,  2.80it/s, loss=0.7330]\n",
      "100%|██████████| 6/6 [00:53<00:00,  8.98s/it]\n"
     ]
    },
    {
     "name": "stdout",
     "output_type": "stream",
     "text": [
      "train-epoch-loss:0.7012 valid-beta4-score:0.4211\n"
     ]
    },
    {
     "name": "stderr",
     "output_type": "stream",
     "text": [
      "Epoch 4/15 [Training]: 100%|██████████| 248/248 [02:45<00:00,  1.50it/s, loss=0.6543]\n",
      "Epoch 4/15 [Validation]: 100%|██████████| 5/5 [00:01<00:00,  2.82it/s, loss=0.7138]\n",
      "100%|██████████| 6/6 [00:55<00:00,  9.25s/it]\n"
     ]
    },
    {
     "name": "stdout",
     "output_type": "stream",
     "text": [
      "train-epoch-loss:0.6543 valid-beta4-score:0.5845\n"
     ]
    },
    {
     "name": "stderr",
     "output_type": "stream",
     "text": [
      "Epoch 5/15 [Training]: 100%|██████████| 248/248 [02:20<00:00,  1.77it/s, loss=0.6115]\n",
      "Epoch 5/15 [Validation]: 100%|██████████| 5/5 [00:01<00:00,  2.94it/s, loss=0.7614]\n",
      "100%|██████████| 6/6 [00:58<00:00,  9.76s/it]\n"
     ]
    },
    {
     "name": "stdout",
     "output_type": "stream",
     "text": [
      "train-epoch-loss:0.6115 valid-beta4-score:0.3044\n"
     ]
    },
    {
     "name": "stderr",
     "output_type": "stream",
     "text": [
      "Epoch 6/15 [Training]: 100%|██████████| 248/248 [02:26<00:00,  1.70it/s, loss=0.5647]\n",
      "Epoch 6/15 [Validation]: 100%|██████████| 5/5 [00:01<00:00,  2.88it/s, loss=0.7024]\n",
      "100%|██████████| 6/6 [00:56<00:00,  9.48s/it]\n"
     ]
    },
    {
     "name": "stdout",
     "output_type": "stream",
     "text": [
      "train-epoch-loss:0.5647 valid-beta4-score:0.5729\n"
     ]
    },
    {
     "name": "stderr",
     "output_type": "stream",
     "text": [
      "Epoch 7/15 [Training]: 100%|██████████| 248/248 [02:27<00:00,  1.68it/s, loss=0.5473]\n",
      "Epoch 7/15 [Validation]: 100%|██████████| 5/5 [00:01<00:00,  2.98it/s, loss=0.7440]\n",
      "100%|██████████| 6/6 [00:58<00:00,  9.69s/it]\n"
     ]
    },
    {
     "name": "stdout",
     "output_type": "stream",
     "text": [
      "train-epoch-loss:0.5473 valid-beta4-score:0.4435\n"
     ]
    },
    {
     "name": "stderr",
     "output_type": "stream",
     "text": [
      "Epoch 8/15 [Training]: 100%|██████████| 248/248 [02:25<00:00,  1.71it/s, loss=0.5304]\n",
      "Epoch 8/15 [Validation]: 100%|██████████| 5/5 [00:01<00:00,  2.88it/s, loss=0.7246]\n",
      "100%|██████████| 6/6 [00:58<00:00,  9.73s/it]\n"
     ]
    },
    {
     "name": "stdout",
     "output_type": "stream",
     "text": [
      "train-epoch-loss:0.5304 valid-beta4-score:0.4357\n"
     ]
    },
    {
     "name": "stderr",
     "output_type": "stream",
     "text": [
      "Epoch 9/15 [Training]: 100%|██████████| 248/248 [02:29<00:00,  1.66it/s, loss=0.5054]\n",
      "Epoch 9/15 [Validation]: 100%|██████████| 5/5 [00:01<00:00,  3.03it/s, loss=0.6637]\n",
      "100%|██████████| 6/6 [00:59<00:00,  9.93s/it]\n"
     ]
    },
    {
     "name": "stdout",
     "output_type": "stream",
     "text": [
      "train-epoch-loss:0.5054 valid-beta4-score:0.5487\n"
     ]
    },
    {
     "name": "stderr",
     "output_type": "stream",
     "text": [
      "Epoch 10/15 [Training]: 100%|██████████| 248/248 [02:19<00:00,  1.78it/s, loss=0.5186]\n",
      "Epoch 10/15 [Validation]: 100%|██████████| 5/5 [00:01<00:00,  3.03it/s, loss=0.6911]\n",
      "100%|██████████| 6/6 [00:58<00:00,  9.74s/it]\n"
     ]
    },
    {
     "name": "stdout",
     "output_type": "stream",
     "text": [
      "train-epoch-loss:0.5186 valid-beta4-score:0.5123\n"
     ]
    },
    {
     "name": "stderr",
     "output_type": "stream",
     "text": [
      "Epoch 11/15 [Training]: 100%|██████████| 248/248 [02:22<00:00,  1.74it/s, loss=0.4883]\n",
      "Epoch 11/15 [Validation]: 100%|██████████| 5/5 [00:01<00:00,  2.96it/s, loss=0.6541]\n",
      "100%|██████████| 6/6 [00:57<00:00,  9.51s/it]\n"
     ]
    },
    {
     "name": "stdout",
     "output_type": "stream",
     "text": [
      "train-epoch-loss:0.4883 valid-beta4-score:0.5855\n"
     ]
    },
    {
     "name": "stderr",
     "output_type": "stream",
     "text": [
      "Epoch 12/15 [Training]: 100%|██████████| 248/248 [02:22<00:00,  1.73it/s, loss=0.4974]\n",
      "Epoch 12/15 [Validation]: 100%|██████████| 5/5 [00:01<00:00,  2.97it/s, loss=0.7398]\n",
      "100%|██████████| 6/6 [00:57<00:00,  9.53s/it]\n"
     ]
    },
    {
     "name": "stdout",
     "output_type": "stream",
     "text": [
      "train-epoch-loss:0.4974 valid-beta4-score:0.5913\n"
     ]
    },
    {
     "name": "stderr",
     "output_type": "stream",
     "text": [
      "Epoch 13/15 [Training]: 100%|██████████| 248/248 [02:32<00:00,  1.63it/s, loss=0.4762]\n",
      "Epoch 13/15 [Validation]: 100%|██████████| 5/5 [00:01<00:00,  3.05it/s, loss=0.7841]\n",
      "100%|██████████| 6/6 [00:57<00:00,  9.51s/it]\n"
     ]
    },
    {
     "name": "stdout",
     "output_type": "stream",
     "text": [
      "train-epoch-loss:0.4762 valid-beta4-score:0.5752\n"
     ]
    },
    {
     "name": "stderr",
     "output_type": "stream",
     "text": [
      "Epoch 14/15 [Training]: 100%|██████████| 248/248 [02:17<00:00,  1.80it/s, loss=0.5042]\n",
      "Epoch 14/15 [Validation]: 100%|██████████| 5/5 [00:01<00:00,  2.99it/s, loss=0.6742]\n",
      "100%|██████████| 6/6 [01:00<00:00, 10.07s/it]\n"
     ]
    },
    {
     "name": "stdout",
     "output_type": "stream",
     "text": [
      "train-epoch-loss:0.5042 valid-beta4-score:0.5289\n"
     ]
    },
    {
     "name": "stderr",
     "output_type": "stream",
     "text": [
      "Epoch 15/15 [Training]: 100%|██████████| 248/248 [02:20<00:00,  1.77it/s, loss=0.4905]\n",
      "Epoch 15/15 [Validation]: 100%|██████████| 5/5 [00:01<00:00,  3.00it/s, loss=0.7357]\n",
      "100%|██████████| 6/6 [00:58<00:00,  9.78s/it]\n"
     ]
    },
    {
     "name": "stdout",
     "output_type": "stream",
     "text": [
      "train-epoch-loss:0.4905 valid-beta4-score:0.5087\n"
     ]
    },
    {
     "data": {
      "text/html": [
       "Finishing last run (ID:s1excnw4) before initializing another..."
      ],
      "text/plain": [
       "<IPython.core.display.HTML object>"
      ]
     },
     "metadata": {},
     "output_type": "display_data"
    },
    {
     "name": "stderr",
     "output_type": "stream",
     "text": [
      "wandb: WARNING Source type is set to 'repo' but some required information is missing from the environment. A job will not be created from this run. See https://docs.wandb.ai/guides/launch/create-job\n"
     ]
    },
    {
     "data": {
      "application/vnd.jupyter.widget-view+json": {
       "model_id": "2b9dee0312a14630accd93c37ec1274c",
       "version_major": 2,
       "version_minor": 0
      },
      "text/plain": [
       "VBox(children=(Label(value='0.004 MB of 0.012 MB uploaded\\r'), FloatProgress(value=0.3475024936699148, max=1.0…"
      ]
     },
     "metadata": {},
     "output_type": "display_data"
    },
    {
     "data": {
      "text/html": [
       "<style>\n",
       "    table.wandb td:nth-child(1) { padding: 0 10px; text-align: left ; width: auto;} td:nth-child(2) {text-align: left ; width: 100%}\n",
       "    .wandb-row { display: flex; flex-direction: row; flex-wrap: wrap; justify-content: flex-start; width: 100% }\n",
       "    .wandb-col { display: flex; flex-direction: column; flex-basis: 100%; flex: 1; padding: 10px; }\n",
       "    </style>\n",
       "<div class=\"wandb-row\"><div class=\"wandb-col\"><h3>Run history:</h3><br/><table class=\"wandb\"><tr><td>01_epoch</td><td>▁▁▂▃▃▃▄▅▅▅▆▇▇▇█</td></tr><tr><td>02_train_loss</td><td>█▆▅▄▃▃▂▂▂▂▁▁▁▁▁</td></tr><tr><td>03_valid_loss</td><td>█▇▄▃▅▃▅▄▁▃▁▅▆▂▄</td></tr><tr><td>04_valid_best_score</td><td>▂▁▄█▁█▄▄▇▆███▆▆</td></tr><tr><td>apo-ferritin</td><td>▁██████████████</td></tr><tr><td>apoo_ferritin_f4</td><td>▁▄█▇▇█▂▃▂▂▇▆▅▂▂</td></tr><tr><td>apoo_ferritin_p</td><td>▁▂█▅▄▅▁▁▁▁▄▃▂▁▁</td></tr><tr><td>apoo_ferritin_r</td><td>▁▄██▇█▇▇█▇███▇▇</td></tr><tr><td>beta-amylase</td><td>▁▁▁▁▁▁▁▁▁▁▁▁▁▁▁</td></tr><tr><td>beta-galactosidase</td><td>▁▁▁▂█▁██▅██████</td></tr><tr><td>beta_amylase_f4</td><td>▃▂▆▅▁▅▄▃█▆▆▆▅▄▅</td></tr><tr><td>beta_amylase_p</td><td>▂▂▅▅▁▄▃▃█▅▅▅▄▃▄</td></tr><tr><td>beta_amylase_r</td><td>▃▁▄▆▂▅█▆▆▇▇▇█▇▇</td></tr><tr><td>beta_galactosidase_f4</td><td>▅▄▇▆▁▃▄▄█▇▇▇▇█▇</td></tr><tr><td>beta_galactosidase_p</td><td>▄▃▇▅▁▂▃▃█▆▆▇▆█▆</td></tr><tr><td>beta_galactosidase_r</td><td>▆▆██▁▅▆▆█▇▇▇▇█▇</td></tr><tr><td>ribosome</td><td>▁▁▁▁▁▁▁▁▁▁▁▁▁▁▁</td></tr><tr><td>ribosome_f4</td><td>▇▅▁█▄█▆▅▆▆█▆▇▆▆</td></tr><tr><td>ribosome_p</td><td>▇▃▁█▃▇▅▄▆▆▇▆▆▄▄</td></tr><tr><td>ribosome_r</td><td>▆▄██▁█▅▃▅▄█▅▆▅▅</td></tr><tr><td>thyroglobulin</td><td>▁▁▂████████████</td></tr><tr><td>thyroglobulin_f4</td><td>▅▅▆▆▁█▅▆█▇██▇█▇</td></tr><tr><td>thyroglobulin_p</td><td>▄▃▅▅▁█▄▄█▆▇▇▇▇▇</td></tr><tr><td>thyroglobulin_r</td><td>▁▇▃▅▆▇▇▇▇███▇██</td></tr><tr><td>virus-like-particle</td><td>▂▁▂▅▅███▅██████</td></tr><tr><td>virus_like_particle_f4</td><td>▅▂▁█▅██▇██▆██▇▇</td></tr><tr><td>virus_like_particle_p</td><td>▂▁▁▇▂█▆▄▄▅▂▄▄▃▃</td></tr><tr><td>virus_like_particle_r</td><td>▇▅▁▇▆██▇███████</td></tr></table><br/></div><div class=\"wandb-col\"><h3>Run summary:</h3><br/><table class=\"wandb\"><tr><td>01_epoch</td><td>14</td></tr><tr><td>02_train_loss</td><td>0.49054</td></tr><tr><td>03_valid_loss</td><td>0.73565</td></tr><tr><td>04_valid_best_score</td><td>0.50867</td></tr><tr><td>apo-ferritin</td><td>0.3</td></tr><tr><td>apoo_ferritin_f4</td><td>0.14472</td></tr><tr><td>apoo_ferritin_p</td><td>0.01037</td></tr><tr><td>apoo_ferritin_r</td><td>0.7619</td></tr><tr><td>beta-amylase</td><td>0.05</td></tr><tr><td>beta-galactosidase</td><td>0.3</td></tr><tr><td>beta_amylase_f4</td><td>0.16877</td></tr><tr><td>beta_amylase_p</td><td>0.01222</td></tr><tr><td>beta_amylase_r</td><td>0.84615</td></tr><tr><td>beta_galactosidase_f4</td><td>0.37182</td></tr><tr><td>beta_galactosidase_p</td><td>0.03853</td></tr><tr><td>beta_galactosidase_r</td><td>0.80952</td></tr><tr><td>ribosome</td><td>0.3</td></tr><tr><td>ribosome_f4</td><td>0.61663</td></tr><tr><td>ribosome_p</td><td>0.16695</td></tr><tr><td>ribosome_r</td><td>0.74144</td></tr><tr><td>thyroglobulin</td><td>0.3</td></tr><tr><td>thyroglobulin_f4</td><td>0.60677</td></tr><tr><td>thyroglobulin_p</td><td>0.09241</td></tr><tr><td>thyroglobulin_r</td><td>0.93048</td></tr><tr><td>virus-like-particle</td><td>0.3</td></tr><tr><td>virus_like_particle_f4</td><td>0.84213</td></tr><tr><td>virus_like_particle_p</td><td>0.26074</td></tr><tr><td>virus_like_particle_r</td><td>0.97849</td></tr></table><br/></div></div>"
      ],
      "text/plain": [
       "<IPython.core.display.HTML object>"
      ]
     },
     "metadata": {},
     "output_type": "display_data"
    },
    {
     "data": {
      "text/html": [
       " View run <strong style=\"color:#cdcd00\">exp075-recreate-baseline-renet34d-dstride_TS_69_2</strong> at: <a href='https://wandb.ai/latent-walkers/czii2024/runs/s1excnw4' target=\"_blank\">https://wandb.ai/latent-walkers/czii2024/runs/s1excnw4</a><br/>Synced 5 W&B file(s), 0 media file(s), 0 artifact file(s) and 0 other file(s)"
      ],
      "text/plain": [
       "<IPython.core.display.HTML object>"
      ]
     },
     "metadata": {},
     "output_type": "display_data"
    },
    {
     "data": {
      "text/html": [
       "Find logs at: <code>./wandb/run-20250201_044500-s1excnw4/logs</code>"
      ],
      "text/plain": [
       "<IPython.core.display.HTML object>"
      ]
     },
     "metadata": {},
     "output_type": "display_data"
    },
    {
     "data": {
      "text/html": [
       "Successfully finished last run (ID:s1excnw4). Initializing new run:<br/>"
      ],
      "text/plain": [
       "<IPython.core.display.HTML object>"
      ]
     },
     "metadata": {},
     "output_type": "display_data"
    },
    {
     "data": {
      "application/vnd.jupyter.widget-view+json": {
       "model_id": "0a601ef7d4274f47b315d17a0b826dba",
       "version_major": 2,
       "version_minor": 0
      },
      "text/plain": [
       "VBox(children=(Label(value='Waiting for wandb.init()...\\r'), FloatProgress(value=0.011113508455067252, max=1.0…"
      ]
     },
     "metadata": {},
     "output_type": "display_data"
    },
    {
     "data": {
      "text/html": [
       "wandb version 0.19.5 is available!  To upgrade, please run:\n",
       " $ pip install wandb --upgrade"
      ],
      "text/plain": [
       "<IPython.core.display.HTML object>"
      ]
     },
     "metadata": {},
     "output_type": "display_data"
    },
    {
     "data": {
      "text/html": [
       "Tracking run with wandb version 0.16.1"
      ],
      "text/plain": [
       "<IPython.core.display.HTML object>"
      ]
     },
     "metadata": {},
     "output_type": "display_data"
    },
    {
     "data": {
      "text/html": [
       "Run data is saved locally in <code>/home/tatsuya/code/projects/kaggle/CryoET/experiments/exp075-recreate-baseline-renet34d-dstride/wandb/run-20250201_060128-pivjmfye</code>"
      ],
      "text/plain": [
       "<IPython.core.display.HTML object>"
      ]
     },
     "metadata": {},
     "output_type": "display_data"
    },
    {
     "data": {
      "text/html": [
       "Syncing run <strong><a href='https://wandb.ai/latent-walkers/czii2024/runs/pivjmfye' target=\"_blank\">exp075-recreate-baseline-renet34d-dstride_TS_86_3</a></strong> to <a href='https://wandb.ai/latent-walkers/czii2024' target=\"_blank\">Weights & Biases</a> (<a href='https://wandb.me/run' target=\"_blank\">docs</a>)<br/>"
      ],
      "text/plain": [
       "<IPython.core.display.HTML object>"
      ]
     },
     "metadata": {},
     "output_type": "display_data"
    },
    {
     "data": {
      "text/html": [
       " View project at <a href='https://wandb.ai/latent-walkers/czii2024' target=\"_blank\">https://wandb.ai/latent-walkers/czii2024</a>"
      ],
      "text/plain": [
       "<IPython.core.display.HTML object>"
      ]
     },
     "metadata": {},
     "output_type": "display_data"
    },
    {
     "data": {
      "text/html": [
       " View run at <a href='https://wandb.ai/latent-walkers/czii2024/runs/pivjmfye' target=\"_blank\">https://wandb.ai/latent-walkers/czii2024/runs/pivjmfye</a>"
      ],
      "text/plain": [
       "<IPython.core.display.HTML object>"
      ]
     },
     "metadata": {},
     "output_type": "display_data"
    },
    {
     "name": "stdout",
     "output_type": "stream",
     "text": [
      "train_exp_name TS_86_3\n",
      "valid_exp_name ['TS_73_6', 'TS_99_9', 'TS_6_4', 'TS_69_2', 'TS_6_6']\n"
     ]
    },
    {
     "name": "stderr",
     "output_type": "stream",
     "text": [
      "100%|██████████| 496/496 [00:52<00:00,  9.51it/s]\n",
      "100%|██████████| 5/5 [01:41<00:00, 20.35s/it]\n",
      "Epoch 1/15 [Training]: 100%|██████████| 248/248 [02:24<00:00,  1.72it/s, loss=0.8672]\n",
      "Epoch 1/15 [Validation]: 100%|██████████| 5/5 [00:01<00:00,  2.78it/s, loss=0.8414]\n",
      "100%|██████████| 6/6 [00:59<00:00,  9.98s/it]\n"
     ]
    },
    {
     "name": "stdout",
     "output_type": "stream",
     "text": [
      "train-epoch-loss:0.8672 valid-beta4-score:0.1884\n"
     ]
    },
    {
     "name": "stderr",
     "output_type": "stream",
     "text": [
      "Epoch 2/15 [Training]: 100%|██████████| 248/248 [02:30<00:00,  1.65it/s, loss=0.7654]\n",
      "Epoch 2/15 [Validation]: 100%|██████████| 5/5 [00:01<00:00,  2.89it/s, loss=0.8016]\n",
      "100%|██████████| 6/6 [00:54<00:00,  9.10s/it]\n"
     ]
    },
    {
     "name": "stdout",
     "output_type": "stream",
     "text": [
      "train-epoch-loss:0.7654 valid-beta4-score:0.4182\n"
     ]
    },
    {
     "name": "stderr",
     "output_type": "stream",
     "text": [
      "Epoch 3/15 [Training]: 100%|██████████| 248/248 [02:20<00:00,  1.77it/s, loss=0.6714]\n",
      "Epoch 3/15 [Validation]: 100%|██████████| 5/5 [00:01<00:00,  2.84it/s, loss=0.7402]\n",
      "100%|██████████| 6/6 [00:57<00:00,  9.67s/it]\n"
     ]
    },
    {
     "name": "stdout",
     "output_type": "stream",
     "text": [
      "train-epoch-loss:0.6714 valid-beta4-score:0.4599\n"
     ]
    },
    {
     "name": "stderr",
     "output_type": "stream",
     "text": [
      "Epoch 4/15 [Training]: 100%|██████████| 248/248 [02:21<00:00,  1.76it/s, loss=0.5894]\n",
      "Epoch 4/15 [Validation]: 100%|██████████| 5/5 [00:01<00:00,  2.92it/s, loss=0.7116]\n",
      "100%|██████████| 6/6 [00:56<00:00,  9.49s/it]\n"
     ]
    },
    {
     "name": "stdout",
     "output_type": "stream",
     "text": [
      "train-epoch-loss:0.5894 valid-beta4-score:0.6398\n"
     ]
    },
    {
     "name": "stderr",
     "output_type": "stream",
     "text": [
      "Epoch 5/15 [Training]: 100%|██████████| 248/248 [02:31<00:00,  1.63it/s, loss=0.5530]\n",
      "Epoch 5/15 [Validation]: 100%|██████████| 5/5 [00:01<00:00,  2.78it/s, loss=0.7089]\n",
      "100%|██████████| 6/6 [00:56<00:00,  9.49s/it]\n"
     ]
    },
    {
     "name": "stdout",
     "output_type": "stream",
     "text": [
      "train-epoch-loss:0.5530 valid-beta4-score:0.4151\n"
     ]
    },
    {
     "name": "stderr",
     "output_type": "stream",
     "text": [
      "Epoch 6/15 [Training]: 100%|██████████| 248/248 [02:22<00:00,  1.74it/s, loss=0.5339]\n",
      "Epoch 6/15 [Validation]: 100%|██████████| 5/5 [00:01<00:00,  2.92it/s, loss=0.6480]\n",
      "100%|██████████| 6/6 [00:57<00:00,  9.51s/it]\n"
     ]
    },
    {
     "name": "stdout",
     "output_type": "stream",
     "text": [
      "train-epoch-loss:0.5339 valid-beta4-score:0.5274\n"
     ]
    },
    {
     "name": "stderr",
     "output_type": "stream",
     "text": [
      "Epoch 7/15 [Training]: 100%|██████████| 248/248 [02:20<00:00,  1.76it/s, loss=0.5191]\n",
      "Epoch 7/15 [Validation]: 100%|██████████| 5/5 [00:01<00:00,  2.92it/s, loss=0.7230]\n",
      "100%|██████████| 6/6 [00:57<00:00,  9.53s/it]\n"
     ]
    },
    {
     "name": "stdout",
     "output_type": "stream",
     "text": [
      "train-epoch-loss:0.5191 valid-beta4-score:0.5320\n"
     ]
    },
    {
     "name": "stderr",
     "output_type": "stream",
     "text": [
      "Epoch 8/15 [Training]: 100%|██████████| 248/248 [02:27<00:00,  1.68it/s, loss=0.5294]\n",
      "Epoch 8/15 [Validation]: 100%|██████████| 5/5 [00:01<00:00,  2.80it/s, loss=0.6651]\n",
      "100%|██████████| 6/6 [00:57<00:00,  9.52s/it]\n"
     ]
    },
    {
     "name": "stdout",
     "output_type": "stream",
     "text": [
      "train-epoch-loss:0.5294 valid-beta4-score:0.5863\n"
     ]
    },
    {
     "name": "stderr",
     "output_type": "stream",
     "text": [
      "Epoch 9/15 [Training]: 100%|██████████| 248/248 [02:20<00:00,  1.77it/s, loss=0.5075]\n",
      "Epoch 9/15 [Validation]: 100%|██████████| 5/5 [00:01<00:00,  2.88it/s, loss=0.5740]\n",
      "100%|██████████| 6/6 [00:57<00:00,  9.54s/it]\n"
     ]
    },
    {
     "name": "stdout",
     "output_type": "stream",
     "text": [
      "train-epoch-loss:0.5075 valid-beta4-score:0.6274\n"
     ]
    },
    {
     "name": "stderr",
     "output_type": "stream",
     "text": [
      "Epoch 10/15 [Training]: 100%|██████████| 248/248 [02:24<00:00,  1.71it/s, loss=0.4929]\n",
      "Epoch 10/15 [Validation]: 100%|██████████| 5/5 [00:01<00:00,  3.00it/s, loss=0.7421]\n",
      "100%|██████████| 6/6 [00:57<00:00,  9.66s/it]\n"
     ]
    },
    {
     "name": "stdout",
     "output_type": "stream",
     "text": [
      "train-epoch-loss:0.4929 valid-beta4-score:0.5945\n"
     ]
    },
    {
     "name": "stderr",
     "output_type": "stream",
     "text": [
      "Epoch 11/15 [Training]: 100%|██████████| 248/248 [02:26<00:00,  1.70it/s, loss=0.4860]\n",
      "Epoch 11/15 [Validation]: 100%|██████████| 5/5 [00:01<00:00,  2.85it/s, loss=0.6356]\n",
      "100%|██████████| 6/6 [00:57<00:00,  9.50s/it]\n"
     ]
    },
    {
     "name": "stdout",
     "output_type": "stream",
     "text": [
      "train-epoch-loss:0.4860 valid-beta4-score:0.6324\n"
     ]
    },
    {
     "name": "stderr",
     "output_type": "stream",
     "text": [
      "Epoch 12/15 [Training]: 100%|██████████| 248/248 [02:24<00:00,  1.72it/s, loss=0.4946]\n",
      "Epoch 12/15 [Validation]: 100%|██████████| 5/5 [00:01<00:00,  2.93it/s, loss=0.6625]\n",
      "100%|██████████| 6/6 [00:57<00:00,  9.54s/it]\n"
     ]
    },
    {
     "name": "stdout",
     "output_type": "stream",
     "text": [
      "train-epoch-loss:0.4946 valid-beta4-score:0.5958\n"
     ]
    },
    {
     "name": "stderr",
     "output_type": "stream",
     "text": [
      "Epoch 13/15 [Training]: 100%|██████████| 248/248 [02:21<00:00,  1.75it/s, loss=0.5055]\n",
      "Epoch 13/15 [Validation]: 100%|██████████| 5/5 [00:01<00:00,  2.85it/s, loss=0.5862]\n",
      "100%|██████████| 6/6 [00:57<00:00,  9.54s/it]\n"
     ]
    },
    {
     "name": "stdout",
     "output_type": "stream",
     "text": [
      "train-epoch-loss:0.5055 valid-beta4-score:0.6583\n"
     ]
    },
    {
     "name": "stderr",
     "output_type": "stream",
     "text": [
      "Epoch 14/15 [Training]: 100%|██████████| 248/248 [02:22<00:00,  1.75it/s, loss=0.4970]\n",
      "Epoch 14/15 [Validation]: 100%|██████████| 5/5 [00:01<00:00,  2.75it/s, loss=0.5954]\n",
      "100%|██████████| 6/6 [00:57<00:00,  9.52s/it]\n"
     ]
    },
    {
     "name": "stdout",
     "output_type": "stream",
     "text": [
      "train-epoch-loss:0.4970 valid-beta4-score:0.6710\n"
     ]
    },
    {
     "name": "stderr",
     "output_type": "stream",
     "text": [
      "Epoch 15/15 [Training]: 100%|██████████| 248/248 [02:24<00:00,  1.71it/s, loss=0.4936]\n",
      "Epoch 15/15 [Validation]: 100%|██████████| 5/5 [00:01<00:00,  2.97it/s, loss=0.6800]\n",
      "100%|██████████| 6/6 [00:57<00:00,  9.61s/it]\n"
     ]
    },
    {
     "name": "stdout",
     "output_type": "stream",
     "text": [
      "train-epoch-loss:0.4936 valid-beta4-score:0.6374\n"
     ]
    },
    {
     "data": {
      "text/html": [
       "Finishing last run (ID:pivjmfye) before initializing another..."
      ],
      "text/plain": [
       "<IPython.core.display.HTML object>"
      ]
     },
     "metadata": {},
     "output_type": "display_data"
    },
    {
     "name": "stderr",
     "output_type": "stream",
     "text": [
      "wandb: WARNING Source type is set to 'repo' but some required information is missing from the environment. A job will not be created from this run. See https://docs.wandb.ai/guides/launch/create-job\n"
     ]
    },
    {
     "data": {
      "application/vnd.jupyter.widget-view+json": {
       "model_id": "afd1b6b6d8e74441af075095149c2659",
       "version_major": 2,
       "version_minor": 0
      },
      "text/plain": [
       "VBox(children=(Label(value='0.004 MB of 0.004 MB uploaded\\r'), FloatProgress(value=1.0, max=1.0)))"
      ]
     },
     "metadata": {},
     "output_type": "display_data"
    },
    {
     "data": {
      "text/html": [
       "<style>\n",
       "    table.wandb td:nth-child(1) { padding: 0 10px; text-align: left ; width: auto;} td:nth-child(2) {text-align: left ; width: 100%}\n",
       "    .wandb-row { display: flex; flex-direction: row; flex-wrap: wrap; justify-content: flex-start; width: 100% }\n",
       "    .wandb-col { display: flex; flex-direction: column; flex-basis: 100%; flex: 1; padding: 10px; }\n",
       "    </style>\n",
       "<div class=\"wandb-row\"><div class=\"wandb-col\"><h3>Run history:</h3><br/><table class=\"wandb\"><tr><td>01_epoch</td><td>▁▁▂▃▃▃▄▅▅▅▆▇▇▇█</td></tr><tr><td>02_train_loss</td><td>█▆▄▃▂▂▂▂▁▁▁▁▁▁▁</td></tr><tr><td>03_valid_loss</td><td>█▇▅▅▅▃▅▃▁▅▃▃▁▂▄</td></tr><tr><td>04_valid_best_score</td><td>▁▄▅█▄▆▆▇▇▇▇▇███</td></tr><tr><td>apo-ferritin</td><td>▂▅█▁█▅█████▂███</td></tr><tr><td>apoo_ferritin_f4</td><td>▁▆▆█▄██▇▇▇▇▇███</td></tr><tr><td>apoo_ferritin_p</td><td>▁▄▄▆▂▇▇▆▇▆▇▆███</td></tr><tr><td>apoo_ferritin_r</td><td>▁▇▆█▆██▆▇▆▇▇█▇█</td></tr><tr><td>beta-amylase</td><td>▁▁▁▁▁▁▁▁▁▁▁▁▁▁▁</td></tr><tr><td>beta-galactosidase</td><td>▁▁▄████▄███████</td></tr><tr><td>beta_amylase_f4</td><td>▁▁▃▅▄▆▅▆▇▆▇▇█▇█</td></tr><tr><td>beta_amylase_p</td><td>▁▁▂▃▃█▃▄▇▄▆▆███</td></tr><tr><td>beta_amylase_r</td><td>▁▁█▇▆▄▇█▆█▇▇▇▆▇</td></tr><tr><td>beta_galactosidase_f4</td><td>▁▂▁▆▂▃▁▅▆▇▇▇███</td></tr><tr><td>beta_galactosidase_p</td><td>▁▂▁▄▂▄▁▃▄▄▆▅▇█▇</td></tr><tr><td>beta_galactosidase_r</td><td>▂▁▆▇▂▁▂▇▆█▇▇▆▆▇</td></tr><tr><td>ribosome</td><td>████▁███▁▁█████</td></tr><tr><td>ribosome_f4</td><td>▅▂▄█▁▂▅▇█▅▇▆█▇▆</td></tr><tr><td>ribosome_p</td><td>▅▃▂█▁▁▃▆▇▃▆▅█▇▆</td></tr><tr><td>ribosome_r</td><td>▅▂▇█▁▃▆▇█▅▇▆█▇▆</td></tr><tr><td>thyroglobulin</td><td>▂▁██████████▂██</td></tr><tr><td>thyroglobulin_f4</td><td>▁▆▅▇▇▇▆▇▇█▇▇███</td></tr><tr><td>thyroglobulin_p</td><td>▁▅▄▆▆▅▄▅▅▇▆▆▇█▇</td></tr><tr><td>thyroglobulin_r</td><td>▁▆▇▆█▇▇▇█▇▇▇█▇▇</td></tr><tr><td>virus-like-particle</td><td>▁▁█▅███████████</td></tr><tr><td>virus_like_particle_f4</td><td>▁▃▇█▄▇█▇█▆▇▆▇▇▆</td></tr><tr><td>virus_like_particle_p</td><td>▁▂▄█▂▄▇▆█▃▄▃▄▄▃</td></tr><tr><td>virus_like_particle_r</td><td>▁▂█████████████</td></tr></table><br/></div><div class=\"wandb-col\"><h3>Run summary:</h3><br/><table class=\"wandb\"><tr><td>01_epoch</td><td>14</td></tr><tr><td>02_train_loss</td><td>0.49355</td></tr><tr><td>03_valid_loss</td><td>0.67997</td></tr><tr><td>04_valid_best_score</td><td>0.63738</td></tr><tr><td>apo-ferritin</td><td>0.3</td></tr><tr><td>apoo_ferritin_f4</td><td>0.79648</td></tr><tr><td>apoo_ferritin_p</td><td>0.52785</td></tr><tr><td>apoo_ferritin_r</td><td>0.82264</td></tr><tr><td>beta-amylase</td><td>0.05</td></tr><tr><td>beta-galactosidase</td><td>0.3</td></tr><tr><td>beta_amylase_f4</td><td>0.44364</td></tr><tr><td>beta_amylase_p</td><td>0.06592</td></tr><tr><td>beta_amylase_r</td><td>0.69118</td></tr><tr><td>beta_galactosidase_f4</td><td>0.53592</td></tr><tr><td>beta_galactosidase_p</td><td>0.08677</td></tr><tr><td>beta_galactosidase_r</td><td>0.79221</td></tr><tr><td>ribosome</td><td>0.3</td></tr><tr><td>ribosome_f4</td><td>0.64021</td></tr><tr><td>ribosome_p</td><td>0.18253</td></tr><tr><td>ribosome_r</td><td>0.75918</td></tr><tr><td>thyroglobulin</td><td>0.3</td></tr><tr><td>thyroglobulin_f4</td><td>0.67406</td></tr><tr><td>thyroglobulin_p</td><td>0.13317</td></tr><tr><td>thyroglobulin_r</td><td>0.90341</td></tr><tr><td>virus-like-particle</td><td>0.3</td></tr><tr><td>virus_like_particle_f4</td><td>0.60501</td></tr><tr><td>virus_like_particle_p</td><td>0.08585</td></tr><tr><td>virus_like_particle_r</td><td>0.9726</td></tr></table><br/></div></div>"
      ],
      "text/plain": [
       "<IPython.core.display.HTML object>"
      ]
     },
     "metadata": {},
     "output_type": "display_data"
    },
    {
     "data": {
      "text/html": [
       " View run <strong style=\"color:#cdcd00\">exp075-recreate-baseline-renet34d-dstride_TS_86_3</strong> at: <a href='https://wandb.ai/latent-walkers/czii2024/runs/pivjmfye' target=\"_blank\">https://wandb.ai/latent-walkers/czii2024/runs/pivjmfye</a><br/>Synced 5 W&B file(s), 0 media file(s), 0 artifact file(s) and 0 other file(s)"
      ],
      "text/plain": [
       "<IPython.core.display.HTML object>"
      ]
     },
     "metadata": {},
     "output_type": "display_data"
    },
    {
     "data": {
      "text/html": [
       "Find logs at: <code>./wandb/run-20250201_060128-pivjmfye/logs</code>"
      ],
      "text/plain": [
       "<IPython.core.display.HTML object>"
      ]
     },
     "metadata": {},
     "output_type": "display_data"
    },
    {
     "data": {
      "text/html": [
       "Successfully finished last run (ID:pivjmfye). Initializing new run:<br/>"
      ],
      "text/plain": [
       "<IPython.core.display.HTML object>"
      ]
     },
     "metadata": {},
     "output_type": "display_data"
    },
    {
     "data": {
      "application/vnd.jupyter.widget-view+json": {
       "model_id": "c8803cd8b2cc454ab571d821596bfed2",
       "version_major": 2,
       "version_minor": 0
      },
      "text/plain": [
       "VBox(children=(Label(value='Waiting for wandb.init()...\\r'), FloatProgress(value=0.01111415237796286, max=1.0)…"
      ]
     },
     "metadata": {},
     "output_type": "display_data"
    },
    {
     "data": {
      "text/html": [
       "wandb version 0.19.5 is available!  To upgrade, please run:\n",
       " $ pip install wandb --upgrade"
      ],
      "text/plain": [
       "<IPython.core.display.HTML object>"
      ]
     },
     "metadata": {},
     "output_type": "display_data"
    },
    {
     "data": {
      "text/html": [
       "Tracking run with wandb version 0.16.1"
      ],
      "text/plain": [
       "<IPython.core.display.HTML object>"
      ]
     },
     "metadata": {},
     "output_type": "display_data"
    },
    {
     "data": {
      "text/html": [
       "Run data is saved locally in <code>/home/tatsuya/code/projects/kaggle/CryoET/experiments/exp075-recreate-baseline-renet34d-dstride/wandb/run-20250201_071808-mlc210u4</code>"
      ],
      "text/plain": [
       "<IPython.core.display.HTML object>"
      ]
     },
     "metadata": {},
     "output_type": "display_data"
    },
    {
     "data": {
      "text/html": [
       "Syncing run <strong><a href='https://wandb.ai/latent-walkers/czii2024/runs/mlc210u4' target=\"_blank\">exp075-recreate-baseline-renet34d-dstride_TS_6_6</a></strong> to <a href='https://wandb.ai/latent-walkers/czii2024' target=\"_blank\">Weights & Biases</a> (<a href='https://wandb.me/run' target=\"_blank\">docs</a>)<br/>"
      ],
      "text/plain": [
       "<IPython.core.display.HTML object>"
      ]
     },
     "metadata": {},
     "output_type": "display_data"
    },
    {
     "data": {
      "text/html": [
       " View project at <a href='https://wandb.ai/latent-walkers/czii2024' target=\"_blank\">https://wandb.ai/latent-walkers/czii2024</a>"
      ],
      "text/plain": [
       "<IPython.core.display.HTML object>"
      ]
     },
     "metadata": {},
     "output_type": "display_data"
    },
    {
     "data": {
      "text/html": [
       " View run at <a href='https://wandb.ai/latent-walkers/czii2024/runs/mlc210u4' target=\"_blank\">https://wandb.ai/latent-walkers/czii2024/runs/mlc210u4</a>"
      ],
      "text/plain": [
       "<IPython.core.display.HTML object>"
      ]
     },
     "metadata": {},
     "output_type": "display_data"
    },
    {
     "name": "stdout",
     "output_type": "stream",
     "text": [
      "train_exp_name TS_6_6\n",
      "valid_exp_name ['TS_73_6', 'TS_99_9', 'TS_6_4', 'TS_69_2', 'TS_86_3']\n"
     ]
    },
    {
     "name": "stderr",
     "output_type": "stream",
     "text": [
      "100%|██████████| 496/496 [00:58<00:00,  8.41it/s]\n",
      "100%|██████████| 5/5 [03:26<00:00, 41.39s/it]\n",
      "Epoch 1/15 [Training]: 100%|██████████| 248/248 [02:21<00:00,  1.76it/s, loss=0.8769]\n",
      "Epoch 1/15 [Validation]: 100%|██████████| 5/5 [00:01<00:00,  2.68it/s, loss=0.8423]\n",
      "100%|██████████| 6/6 [00:55<00:00,  9.28s/it]\n"
     ]
    },
    {
     "name": "stdout",
     "output_type": "stream",
     "text": [
      "train-epoch-loss:0.8769 valid-beta4-score:0.4033\n"
     ]
    },
    {
     "name": "stderr",
     "output_type": "stream",
     "text": [
      "Epoch 2/15 [Training]: 100%|██████████| 248/248 [02:40<00:00,  1.54it/s, loss=0.7627]\n",
      "Epoch 2/15 [Validation]: 100%|██████████| 5/5 [00:01<00:00,  2.69it/s, loss=0.7791]\n",
      "100%|██████████| 6/6 [00:54<00:00,  9.01s/it]\n"
     ]
    },
    {
     "name": "stdout",
     "output_type": "stream",
     "text": [
      "train-epoch-loss:0.7627 valid-beta4-score:0.2081\n"
     ]
    },
    {
     "name": "stderr",
     "output_type": "stream",
     "text": [
      "Epoch 3/15 [Training]: 100%|██████████| 248/248 [02:23<00:00,  1.73it/s, loss=0.6991]\n",
      "Epoch 3/15 [Validation]: 100%|██████████| 5/5 [00:01<00:00,  2.70it/s, loss=0.8149]\n",
      "100%|██████████| 6/6 [00:54<00:00,  9.01s/it]\n"
     ]
    },
    {
     "name": "stdout",
     "output_type": "stream",
     "text": [
      "train-epoch-loss:0.6991 valid-beta4-score:0.4869\n"
     ]
    },
    {
     "name": "stderr",
     "output_type": "stream",
     "text": [
      "Epoch 4/15 [Training]: 100%|██████████| 248/248 [02:19<00:00,  1.78it/s, loss=0.6551]\n",
      "Epoch 4/15 [Validation]: 100%|██████████| 5/5 [00:01<00:00,  2.67it/s, loss=0.8001]\n",
      "100%|██████████| 6/6 [00:54<00:00,  9.10s/it]\n"
     ]
    },
    {
     "name": "stdout",
     "output_type": "stream",
     "text": [
      "train-epoch-loss:0.6551 valid-beta4-score:0.4233\n"
     ]
    },
    {
     "name": "stderr",
     "output_type": "stream",
     "text": [
      "Epoch 5/15 [Training]: 100%|██████████| 248/248 [02:20<00:00,  1.76it/s, loss=0.6250]\n",
      "Epoch 5/15 [Validation]: 100%|██████████| 5/5 [00:01<00:00,  2.74it/s, loss=0.7597]\n",
      "100%|██████████| 6/6 [00:55<00:00,  9.29s/it]\n"
     ]
    },
    {
     "name": "stdout",
     "output_type": "stream",
     "text": [
      "train-epoch-loss:0.6250 valid-beta4-score:0.4203\n"
     ]
    },
    {
     "name": "stderr",
     "output_type": "stream",
     "text": [
      "Epoch 6/15 [Training]: 100%|██████████| 248/248 [02:12<00:00,  1.87it/s, loss=0.6125]\n",
      "Epoch 6/15 [Validation]: 100%|██████████| 5/5 [00:01<00:00,  2.59it/s, loss=0.7543]\n",
      "100%|██████████| 6/6 [00:54<00:00,  9.13s/it]\n"
     ]
    },
    {
     "name": "stdout",
     "output_type": "stream",
     "text": [
      "train-epoch-loss:0.6125 valid-beta4-score:0.5173\n"
     ]
    },
    {
     "name": "stderr",
     "output_type": "stream",
     "text": [
      "Epoch 7/15 [Training]: 100%|██████████| 248/248 [02:20<00:00,  1.76it/s, loss=0.5889]\n",
      "Epoch 7/15 [Validation]: 100%|██████████| 5/5 [00:01<00:00,  2.75it/s, loss=0.7560]\n",
      "100%|██████████| 6/6 [00:55<00:00,  9.21s/it]\n"
     ]
    },
    {
     "name": "stdout",
     "output_type": "stream",
     "text": [
      "train-epoch-loss:0.5889 valid-beta4-score:0.5066\n"
     ]
    },
    {
     "name": "stderr",
     "output_type": "stream",
     "text": [
      "Epoch 8/15 [Training]: 100%|██████████| 248/248 [02:25<00:00,  1.70it/s, loss=0.5842]\n",
      "Epoch 8/15 [Validation]: 100%|██████████| 5/5 [00:01<00:00,  2.74it/s, loss=0.6939]\n",
      "100%|██████████| 6/6 [00:55<00:00,  9.24s/it]\n"
     ]
    },
    {
     "name": "stdout",
     "output_type": "stream",
     "text": [
      "train-epoch-loss:0.5842 valid-beta4-score:0.5148\n"
     ]
    },
    {
     "name": "stderr",
     "output_type": "stream",
     "text": [
      "Epoch 9/15 [Training]: 100%|██████████| 248/248 [02:27<00:00,  1.68it/s, loss=0.5682]\n",
      "Epoch 9/15 [Validation]: 100%|██████████| 5/5 [00:01<00:00,  2.78it/s, loss=0.7041]\n",
      "100%|██████████| 6/6 [00:55<00:00,  9.20s/it]\n"
     ]
    },
    {
     "name": "stdout",
     "output_type": "stream",
     "text": [
      "train-epoch-loss:0.5682 valid-beta4-score:0.5160\n"
     ]
    },
    {
     "name": "stderr",
     "output_type": "stream",
     "text": [
      "Epoch 10/15 [Training]: 100%|██████████| 248/248 [02:20<00:00,  1.76it/s, loss=0.5752]\n",
      "Epoch 10/15 [Validation]: 100%|██████████| 5/5 [00:01<00:00,  2.65it/s, loss=0.7897]\n",
      "100%|██████████| 6/6 [00:56<00:00,  9.39s/it]\n"
     ]
    },
    {
     "name": "stdout",
     "output_type": "stream",
     "text": [
      "train-epoch-loss:0.5752 valid-beta4-score:0.4221\n"
     ]
    },
    {
     "name": "stderr",
     "output_type": "stream",
     "text": [
      "Epoch 11/15 [Training]: 100%|██████████| 248/248 [02:20<00:00,  1.76it/s, loss=0.5673]\n",
      "Epoch 11/15 [Validation]: 100%|██████████| 5/5 [00:01<00:00,  2.64it/s, loss=0.6404]\n",
      "100%|██████████| 6/6 [00:54<00:00,  9.09s/it]\n"
     ]
    },
    {
     "name": "stdout",
     "output_type": "stream",
     "text": [
      "train-epoch-loss:0.5673 valid-beta4-score:0.5061\n"
     ]
    },
    {
     "name": "stderr",
     "output_type": "stream",
     "text": [
      "Epoch 12/15 [Training]: 100%|██████████| 248/248 [02:23<00:00,  1.73it/s, loss=0.5542]\n",
      "Epoch 12/15 [Validation]: 100%|██████████| 5/5 [00:01<00:00,  2.71it/s, loss=0.7209]\n",
      "100%|██████████| 6/6 [00:55<00:00,  9.20s/it]\n"
     ]
    },
    {
     "name": "stdout",
     "output_type": "stream",
     "text": [
      "train-epoch-loss:0.5542 valid-beta4-score:0.4856\n"
     ]
    },
    {
     "name": "stderr",
     "output_type": "stream",
     "text": [
      "Epoch 13/15 [Training]: 100%|██████████| 248/248 [02:27<00:00,  1.69it/s, loss=0.5409]\n",
      "Epoch 13/15 [Validation]: 100%|██████████| 5/5 [00:01<00:00,  2.75it/s, loss=0.6971]\n",
      "100%|██████████| 6/6 [00:54<00:00,  9.13s/it]\n"
     ]
    },
    {
     "name": "stdout",
     "output_type": "stream",
     "text": [
      "train-epoch-loss:0.5409 valid-beta4-score:0.5393\n"
     ]
    },
    {
     "name": "stderr",
     "output_type": "stream",
     "text": [
      "Epoch 14/15 [Training]: 100%|██████████| 248/248 [02:22<00:00,  1.74it/s, loss=0.5409]\n",
      "Epoch 14/15 [Validation]: 100%|██████████| 5/5 [00:01<00:00,  2.68it/s, loss=0.7647]\n",
      "100%|██████████| 6/6 [00:55<00:00,  9.32s/it]\n"
     ]
    },
    {
     "name": "stdout",
     "output_type": "stream",
     "text": [
      "train-epoch-loss:0.5409 valid-beta4-score:0.5058\n"
     ]
    },
    {
     "name": "stderr",
     "output_type": "stream",
     "text": [
      "Epoch 15/15 [Training]: 100%|██████████| 248/248 [02:22<00:00,  1.73it/s, loss=0.5467]\n",
      "Epoch 15/15 [Validation]: 100%|██████████| 5/5 [00:01<00:00,  2.72it/s, loss=0.7317]\n",
      "100%|██████████| 6/6 [00:55<00:00,  9.22s/it]\n"
     ]
    },
    {
     "name": "stdout",
     "output_type": "stream",
     "text": [
      "train-epoch-loss:0.5467 valid-beta4-score:0.5039\n"
     ]
    }
   ],
   "source": [
    "for train_exp_name in [\"TS_73_6\", \"TS_99_9\", \"TS_6_4\", \"TS_69_2\", \"TS_86_3\", \"TS_6_6\"]:\n",
    "    wandb.init(\n",
    "        project=\"czii2024\", name=f\"{notebook_name}_{train_exp_name}\", config=param\n",
    "    )\n",
    "\n",
    "    # vaild_exp_name = [vaild_exp_name]\n",
    "    # train_exp_name = CFG.train_exp_names.copy()\n",
    "    # train_exp_name.remove(vaild_exp_name[0])\n",
    "\n",
    "    prime_train_exp_name = train_exp_name\n",
    "    valid_exp_name = [\"TS_73_6\", \"TS_99_9\", \"TS_6_4\", \"TS_69_2\", \"TS_86_3\", \"TS_6_6\"]\n",
    "    valid_exp_name.remove(train_exp_name)\n",
    "\n",
    "    print(\"train_exp_name\", train_exp_name)\n",
    "    print(\"valid_exp_name\", valid_exp_name)\n",
    "\n",
    "    train_exp_name = CFG.train_exp_names.copy()\n",
    "\n",
    "    for v in valid_exp_name:\n",
    "        train_exp_name.remove(v)\n",
    "\n",
    "    # valid_exp_name[0]の名前でディレクトリを作成\n",
    "    os.makedirs(f\"./{prime_train_exp_name}\", exist_ok=True)\n",
    "\n",
    "    train_dataset = EziiDataset(\n",
    "        exp_names=train_exp_name,\n",
    "        base_dir=\"../../inputs/train/\",\n",
    "        particles_name=CFG.particles_name,\n",
    "        resolution=CFG.resolution,\n",
    "        zarr_type=CFG.train_zarr_types,\n",
    "        train=True,\n",
    "        augmentation=True,\n",
    "        slice=True,\n",
    "        pre_read=True,\n",
    "    )\n",
    "    valid_dataset = EziiDataset(\n",
    "        exp_names=valid_exp_name,\n",
    "        base_dir=\"../../inputs/train/\",\n",
    "        particles_name=CFG.particles_name,\n",
    "        resolution=CFG.resolution,\n",
    "        zarr_type=CFG.valid_zarr_types,\n",
    "        augmentation=False,\n",
    "        train=True,\n",
    "        slice=True,\n",
    "        pre_read=True,\n",
    "    )\n",
    "\n",
    "    train_loader = DataLoader(\n",
    "        train_dataset,\n",
    "        batch_size=CFG.batch_size,\n",
    "        shuffle=True,\n",
    "        drop_last=True,\n",
    "        pin_memory=True,\n",
    "        num_workers=CFG.num_workers,\n",
    "    )\n",
    "\n",
    "    valid_loader = DataLoader(\n",
    "        valid_dataset,\n",
    "        batch_size=1,\n",
    "        shuffle=False,\n",
    "        pin_memory=True,\n",
    "        num_workers=CFG.num_workers,\n",
    "    )\n",
    "\n",
    "    encoder = timm.create_model(\n",
    "        model_name=CFG.model_name,\n",
    "        pretrained=True,\n",
    "        in_chans=3,\n",
    "        num_classes=0,\n",
    "        global_pool=\"\",\n",
    "        features_only=True,\n",
    "    )\n",
    "    model = Unet3D(encoder=encoder, num_domains=5).to(\"cuda\")\n",
    "\n",
    "    optimizer = torch.optim.Adam(\n",
    "        model.parameters(), lr=CFG.lr, weight_decay=CFG.weight_decay\n",
    "    )\n",
    "    criterion = DiceLoss()\n",
    "    scheduler = get_cosine_schedule_with_warmup(\n",
    "        optimizer,\n",
    "        num_warmup_steps=10,\n",
    "        num_training_steps=CFG.epochs * len(train_loader),\n",
    "        # * batch_size,\n",
    "    )\n",
    "    scaler = GradScaler()\n",
    "    seg_loss = SegmentationLoss(criterion)\n",
    "    padf = PadToSize(CFG.resolution)\n",
    "\n",
    "    best_model = None\n",
    "    best_constant = 0\n",
    "    best_score = -100\n",
    "    best_particle_score = {}\n",
    "\n",
    "    grand_train_loss = []\n",
    "    grand_valid_loss = []\n",
    "    grand_train_score = []\n",
    "    grand_valid_score = []\n",
    "\n",
    "    for epoch in range(CFG.epochs):\n",
    "        model.train()\n",
    "        train_loss = []\n",
    "        valid_loss = []\n",
    "        with tqdm(\n",
    "            train_loader, desc=f\"Epoch {epoch + 1}/{CFG.epochs} [Training]\"\n",
    "        ) as tq:\n",
    "            for data in tq:\n",
    "                normalized_tomogram = data[\"normalized_tomogram\"]\n",
    "                segmentation_map = data[\"segmentation_map\"]\n",
    "                zarr_embedding_idx = data[\"zarr_type_embedding_idx\"]\n",
    "\n",
    "                normalized_tomogram = padf(normalized_tomogram)\n",
    "                segmentation_map = padf(segmentation_map)\n",
    "\n",
    "                # データ拡張\n",
    "                normalized_tomogram, segmentation_map = augment_data(\n",
    "                    normalized_tomogram, segmentation_map, p=CFG.augmentation_prob\n",
    "                )\n",
    "                normalized_tomogram = normalized_tomogram.cuda()\n",
    "                segmentation_map = segmentation_map.long().cuda()\n",
    "                zarr_embedding_idx = zarr_embedding_idx.cuda()\n",
    "\n",
    "                optimizer.zero_grad()\n",
    "\n",
    "                with autocast():\n",
    "                    pred = model(\n",
    "                        preprocess_tensor(normalized_tomogram), zarr_embedding_idx\n",
    "                    )\n",
    "                    loss = seg_loss(pred, segmentation_map)\n",
    "                # loss.backward()\n",
    "                # optimizer.step()\n",
    "                scaler.scale(loss).backward()\n",
    "                scaler.step(optimizer)\n",
    "                scaler.update()\n",
    "                scheduler.step()\n",
    "                train_loss.append(loss.item())\n",
    "\n",
    "                # 確率予測\n",
    "                prob_pred = torch.softmax(pred, dim=1)\n",
    "                tq.set_postfix({\"loss\": f\"{np.mean(train_loss):.4f}\"})\n",
    "\n",
    "        del normalized_tomogram, segmentation_map, zarr_embedding_idx, pred, loss\n",
    "        gc.collect()\n",
    "        torch.cuda.empty_cache()\n",
    "\n",
    "        with tqdm(\n",
    "            valid_loader, desc=f\"Epoch {epoch + 1}/{CFG.epochs} [Validation]\"\n",
    "        ) as tq:\n",
    "            with torch.no_grad():\n",
    "                for data in tq:\n",
    "                    normalized_tomogram = data[\"normalized_tomogram\"].cuda()\n",
    "                    segmentation_map = data[\"segmentation_map\"].long().cuda()\n",
    "                    zarr_embedding_idx = data[\"zarr_type_embedding_idx\"].cuda()\n",
    "\n",
    "                    normalized_tomogram = padf(normalized_tomogram)\n",
    "                    segmentation_map = padf(segmentation_map)\n",
    "\n",
    "                    with autocast():\n",
    "                        pred = model(\n",
    "                            preprocess_tensor(normalized_tomogram), zarr_embedding_idx\n",
    "                        )\n",
    "                        loss = seg_loss(pred, segmentation_map)\n",
    "                    valid_loss.append(loss.item())\n",
    "\n",
    "                    # 確率予測\n",
    "                    prob_pred = torch.softmax(pred, dim=1)\n",
    "                    tq.set_postfix({\"loss\": f\"{np.mean(valid_loss):.4f}\"})\n",
    "\n",
    "        del normalized_tomogram, segmentation_map, zarr_embedding_idx, pred, loss\n",
    "        gc.collect()\n",
    "        torch.cuda.empty_cache()\n",
    "\n",
    "        # # ############### validation ################\n",
    "        train_nshuffle_original_tomogram = defaultdict(list)\n",
    "        train_nshuffle_pred_tomogram = defaultdict(list)\n",
    "        train_nshuffle_gt_tomogram = defaultdict(list)\n",
    "\n",
    "        valid_original_tomogram = defaultdict(list)\n",
    "        valid_pred_tomogram = defaultdict(list)\n",
    "        valid_gt_tomogram = defaultdict(list)\n",
    "\n",
    "        train_mean_scores = []\n",
    "        valid_mean_scores = []\n",
    "\n",
    "        # モデルの保存\n",
    "        make_dir_ = (\n",
    "            f\"../../../../../../../../mnt/d/kaggle-tmp-models/czii2024/{notebook_name}/\"\n",
    "        )\n",
    "        os.makedirs(make_dir_, exist_ok=True)\n",
    "        torch.save(model.state_dict(), make_dir_ + f\"model_{epoch}.pth\")\n",
    "\n",
    "        # ############### validation ################\n",
    "        train_nshuffle_original_tomogram = defaultdict(list)\n",
    "        train_nshuffle_pred_tomogram = defaultdict(list)\n",
    "        train_nshuffle_gt_tomogram = defaultdict(list)\n",
    "\n",
    "        valid_original_tomogram = defaultdict(list)\n",
    "        valid_pred_tomogram = defaultdict(list)\n",
    "        valid_gt_tomogram = defaultdict(list)\n",
    "\n",
    "        train_mean_scores = []\n",
    "        valid_mean_scores = []\n",
    "\n",
    "        train_inferenced_array = {}\n",
    "        train_pred_array = []\n",
    "        train_gt_array = []\n",
    "        valid_inferenced_array = {}\n",
    "        valid_gt_array = []\n",
    "\n",
    "        # for exp_name in tqdm(CFG.train_exp_names):\n",
    "        for exp_name in valid_exp_name:  # 5つのデータで試す\n",
    "            # inferenced_array = inference(model, exp_name, train=False)\n",
    "            inferenced_array, n_tomogram, segmentation_map = inference(\n",
    "                model, exp_name, train=False\n",
    "            )\n",
    "            valid_inferenced_array[exp_name] = inferenced_array\n",
    "            base_dir = \"../../inputs/train/overlay/ExperimentRuns/\"\n",
    "            gt_df = create_gt_df(base_dir, [exp_name])\n",
    "            valid_gt_array.append(gt_df)\n",
    "\n",
    "        valid_gt_array = pd.concat(valid_gt_array)\n",
    "\n",
    "        b_constant = 0\n",
    "        b_score = -100\n",
    "        b_particle_score = {}\n",
    "\n",
    "        try:\n",
    "            best_thresholds, final_score = reduce_computation_sikii_search(\n",
    "                inferenced_array,\n",
    "                exp_name,\n",
    "                [\n",
    "                    0.05,\n",
    "                    0.1,\n",
    "                    0.2,\n",
    "                    0.3,\n",
    "                    # 0.4,\n",
    "                    # 0.5,\n",
    "                    # 0.6,\n",
    "                    # 0.7,\n",
    "                ],\n",
    "            )\n",
    "        except:\n",
    "            best_thresholds = [0.5] * 6\n",
    "            final_score = -50\n",
    "\n",
    "        b_score = final_score\n",
    "        b_particle_constant = {\n",
    "            \"apo-ferritin\": best_thresholds[0],\n",
    "            \"beta-amylase\": best_thresholds[1],\n",
    "            \"beta-galactosidase\": best_thresholds[2],\n",
    "            \"ribosome\": best_thresholds[3],\n",
    "            \"thyroglobulin\": best_thresholds[4],\n",
    "            \"virus-like-particle\": best_thresholds[5],\n",
    "        }\n",
    "\n",
    "        try:\n",
    "            valid_pred_array = []\n",
    "            for exp_name in valid_exp_name:\n",
    "                pred_df = inference2pos(\n",
    "                    pred_segmask=valid_inferenced_array[exp_name],\n",
    "                    exp_name=exp_name,\n",
    "                    sikii_dict=b_particle_constant,\n",
    "                )\n",
    "                valid_pred_array.append(pred_df)\n",
    "\n",
    "            valid_pred_array = pd.concat(valid_pred_array)\n",
    "\n",
    "            if len(valid_pred_array) != 0:\n",
    "                result_df, score_ = compute_lb(\n",
    "                    valid_pred_array,\n",
    "                    \"../../inputs/train/overlay/ExperimentRuns/\",\n",
    "                    valid_exp_name,\n",
    "                )\n",
    "                particle_score = extract_particle_results(result_df)\n",
    "\n",
    "                b_score = score_\n",
    "                b_particle_score = particle_score\n",
    "        except:\n",
    "            b_score = -50\n",
    "            b_particle_score = {}\n",
    "\n",
    "        import gc\n",
    "        import torch.cuda as cuda\n",
    "\n",
    "        # del valid_pred_array, valid_gt_array\n",
    "        gc.collect()\n",
    "        cuda.empty_cache()\n",
    "\n",
    "        # print(\"constant\", b_constant, \"score\", b_score)\n",
    "\n",
    "        # wandb-log\n",
    "        train_info = {\n",
    "            \"01_epoch\": epoch,\n",
    "            \"02_train_loss\": np.mean(train_loss),\n",
    "            \"03_valid_loss\": np.mean(valid_loss),\n",
    "            # \"train_score\": np.mean(train_mean_scores),\n",
    "            \"04_valid_best_score\": b_score,\n",
    "        }\n",
    "        train_info = {**train_info, **b_particle_score}\n",
    "        train_info = {**train_info, **b_particle_constant}\n",
    "        wandb.log(train_info)\n",
    "\n",
    "        # score-update\n",
    "        if b_score > best_score:\n",
    "            best_score = b_score\n",
    "            # best_score = np.mean(valid_mean_scores)\n",
    "            best_model = model.state_dict()\n",
    "            torch.save(best_model, f\"./{prime_train_exp_name}/best_model.pth\")\n",
    "\n",
    "        print(\n",
    "            f\"train-epoch-loss:{np.mean(train_loss):.4f}\",\n",
    "            # f\"valid-epoch-loss:{np.mean(valid_loss):.4f}\",\n",
    "            # f\"train-beta4-score:{np.mean(train_mean_scores):.4f}\",\n",
    "            f\"valid-beta4-score:{b_score:.4f}\",\n",
    "        )\n",
    "\n",
    "        grand_train_loss.append(np.mean(train_loss))\n",
    "        # grand_valid_loss.append(np.mean(valid_loss))\n",
    "        # grand_train_score.append(np.mean(train_mean_scores))\n",
    "        grand_valid_score.append(b_score)\n",
    "\n",
    "    del model, optimizer, criterion, scheduler, scaler, seg_loss\n",
    "    gc.collect()\n",
    "    torch.cuda.empty_cache()"
   ]
  },
  {
   "cell_type": "code",
   "execution_count": 8,
   "metadata": {},
   "outputs": [
    {
     "data": {
      "image/png": "[encoded data removed]",
      "text/plain": [
       "<Figure size 640x480 with 1 Axes>"
      ]
     },
     "metadata": {},
     "output_type": "display_data"
    }
   ],
   "source": [
    "# train_lossとvalid_lossのプロット\n",
    "\n",
    "plt.plot(grand_train_loss, label=\"train_loss\")\n",
    "plt.plot(grand_valid_loss, label=\"valid_loss\")\n",
    "plt.legend()\n",
    "plt.show()"
   ]
  },
  {
   "cell_type": "code",
   "execution_count": 9,
   "metadata": {},
   "outputs": [
    {
     "data": {
      "image/png": "[encoded data removed]",
      "text/plain": [
       "<Figure size 640x480 with 1 Axes>"
      ]
     },
     "metadata": {},
     "output_type": "display_data"
    }
   ],
   "source": [
    "# train_scoreとvalid_scoreのプロット\n",
    "plt.plot(grand_train_score, label=\"train_score\")\n",
    "plt.plot(grand_valid_score, label=\"valid_score\")\n",
    "plt.legend()\n",
    "plt.show()"
   ]
  },
  {
   "cell_type": "code",
   "execution_count": 10,
   "metadata": {},
   "outputs": [
    {
     "data": {
      "text/plain": [
       "0.053170780765320336"
      ]
     },
     "execution_count": 10,
     "metadata": {},
     "output_type": "execute_result"
    }
   ],
   "source": [
    "random.random()"
   ]
  },
  {
   "cell_type": "code",
   "execution_count": null,
   "metadata": {},
   "outputs": [],
   "source": []
  },
  {
   "cell_type": "code",
   "execution_count": null,
   "metadata": {},
   "outputs": [],
   "source": []
  }
 ],
 "metadata": {
  "kernelspec": {
   "display_name": "kaggle",
   "language": "python",
   "name": "python3"
  },
  "language_info": {
   "codemirror_mode": {
    "name": "ipython",
    "version": 3
   },
   "file_extension": ".py",
   "mimetype": "text/x-python",
   "name": "python",
   "nbconvert_exporter": "python",
   "pygments_lexer": "ipython3",
   "version": "3.9.16"
  }
 },
 "nbformat": 4,
 "nbformat_minor": 2
}
