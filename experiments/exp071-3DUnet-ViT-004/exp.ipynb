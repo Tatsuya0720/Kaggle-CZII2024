{
 "cells": [
  {
   "cell_type": "code",
   "execution_count": 1,
   "metadata": {},
   "outputs": [],
   "source": [
    "# import timm\n",
    "# import torch\n",
    "\n",
    "# # ViT Tiny Patch16 224 モデルの作成\n",
    "# model = timm.create_model(\n",
    "#     \"vit_tiny_patch16_224\",  # モデル名\n",
    "#     pretrained=False,        # 必要なら True\n",
    "#     in_chans=3,              # 入力チャネル数\n",
    "#     features_only=True,      # 各段階の特徴マップを取得\n",
    "# )\n",
    "\n",
    "# # ダミー入力 (例: B=1, C=3, H=224, W=224)\n",
    "# x = torch.randn(1, 3, 224, 224)\n",
    "\n",
    "# # 各段の出力を取得\n",
    "# features = model(x)\n",
    "\n",
    "# # 出力の形状を確認\n",
    "# for i, f in enumerate(features):\n",
    "#     print(f\"Stage {i}: {f.shape}\")"
   ]
  },
  {
   "cell_type": "code",
   "execution_count": 2,
   "metadata": {},
   "outputs": [],
   "source": [
    "import os\n",
    "import zarr\n",
    "import timm\n",
    "import random\n",
    "import json\n",
    "import warnings\n",
    "import numpy as np\n",
    "import pandas as pd\n",
    "import torch.nn as nn\n",
    "from pathlib import Path\n",
    "import matplotlib.pyplot as plt\n",
    "from torch.utils.data import DataLoader, Dataset\n",
    "from collections import defaultdict\n",
    "import sys\n",
    "import torch\n",
    "from torch.cuda.amp import autocast, GradScaler\n",
    "\n",
    "# import torchvision.transforms.functional as F\n",
    "import random\n",
    "\n",
    "warnings.filterwarnings(\"ignore\")\n",
    "sys.path.append(\"./src/\")\n",
    "\n",
    "from src.config import CFG\n",
    "from src.dataloader import (\n",
    "    read_zarr,\n",
    "    read_info_json,\n",
    "    scale_coordinates,\n",
    "    create_dataset,\n",
    "    create_segmentation_map,\n",
    "    EziiDataset,\n",
    "    drop_padding,\n",
    ")\n",
    "from src.network import Unet3D\n",
    "from src.utils import save_images, PadToSize\n",
    "from src.metric import (\n",
    "    score,\n",
    "    create_cls_pos,\n",
    "    create_cls_pos_sikii,\n",
    "    create_df,\n",
    "    SegmentationLoss,\n",
    "    DiceLoss,\n",
    ")\n",
    "from src.inference import inference, inference2pos, create_gt_df\n",
    "from metric import visualize_epoch_results"
   ]
  },
  {
   "cell_type": "code",
   "execution_count": 3,
   "metadata": {},
   "outputs": [
    {
     "name": "stderr",
     "output_type": "stream",
     "text": [
      "100%|██████████| 1200/1200 [00:11<00:00, 103.86it/s]\n",
      "100%|██████████| 1/1 [00:01<00:00,  1.79s/it]\n",
      "  0%|          | 0/300 [00:02<?, ?it/s]\n"
     ]
    },
    {
     "data": {
      "text/plain": [
       "torch.Size([4, 16, 1, 64, 64])"
      ]
     },
     "execution_count": 3,
     "metadata": {},
     "output_type": "execute_result"
    }
   ],
   "source": [
    "train_dataset = EziiDataset(\n",
    "    exp_names=CFG.train_exp_names,\n",
    "    base_dir=\"../../inputs/train/\",\n",
    "    particles_name=CFG.particles_name,\n",
    "    resolution=CFG.resolution,\n",
    "    zarr_type=CFG.train_zarr_types,\n",
    "    train=True,\n",
    "    augmentation=True,\n",
    "    slice=True,\n",
    "    pre_read=True,\n",
    ")\n",
    "\n",
    "# train_nshuffle_dataset = EziiDataset(\n",
    "#     exp_names=CFG.train_exp_names,\n",
    "#     base_dir=\"/home/tumeda/workspace/kaggle/CZII_2/20. kaggle/train/\",\n",
    "#     particles_name=CFG.particles_name,\n",
    "#     resolution=CFG.resolution,\n",
    "#     zarr_type=CFG.train_zarr_types,\n",
    "#     augmentation=False,\n",
    "#     train=True,\n",
    "# )\n",
    "\n",
    "valid_dataset = EziiDataset(\n",
    "    exp_names=CFG.valid_exp_names,\n",
    "    base_dir=\"../../inputs/train/\",\n",
    "    particles_name=CFG.particles_name,\n",
    "    resolution=CFG.resolution,\n",
    "    zarr_type=CFG.valid_zarr_types,\n",
    "    augmentation=False,\n",
    "    train=True,\n",
    "    slice=True,\n",
    "    pre_read=True,\n",
    ")\n",
    "\n",
    "from tqdm import tqdm\n",
    "\n",
    "train_loader = DataLoader(\n",
    "    train_dataset,\n",
    "    batch_size=CFG.batch_size,\n",
    "    shuffle=True,\n",
    "    drop_last=True,\n",
    "    pin_memory=True,\n",
    "    num_workers=CFG.num_workers,\n",
    ")\n",
    "# train_nshuffle_loader = DataLoader(\n",
    "#     train_nshuffle_dataset,\n",
    "#     batch_size=1,\n",
    "#     shuffle=True,\n",
    "#     drop_last=True,\n",
    "#     pin_memory=True,\n",
    "#     num_workers=CFG.num_workers,\n",
    "# )\n",
    "valid_loader = DataLoader(\n",
    "    valid_dataset,\n",
    "    batch_size=1,\n",
    "    shuffle=False,\n",
    "    pin_memory=True,\n",
    "    num_workers=CFG.num_workers,\n",
    ")\n",
    "\n",
    "for data in tqdm(train_loader):\n",
    "    normalized_tomogram = data[\"normalized_tomogram\"]\n",
    "    segmentation_map = data[\"segmentation_map\"]\n",
    "    # ここでチャンネル次元を挿入\n",
    "    normalized_tomogram = normalized_tomogram.unsqueeze(2)  # => (4,16,1,64,64)\n",
    "    break\n",
    "\n",
    "normalized_tomogram.shape"
   ]
  },
  {
   "cell_type": "code",
   "execution_count": 4,
   "metadata": {},
   "outputs": [
    {
     "data": {
      "text/plain": [
       "(16, 64, 64)"
      ]
     },
     "execution_count": 4,
     "metadata": {},
     "output_type": "execute_result"
    }
   ],
   "source": [
    "train_dataset[0][\"segmentation_map\"].shape"
   ]
  },
  {
   "cell_type": "code",
   "execution_count": 5,
   "metadata": {},
   "outputs": [
    {
     "ename": "RuntimeError",
     "evalue": "features_only not implemented for Vision Transformer models.",
     "output_type": "error",
     "traceback": [
      "\u001b[0;31m---------------------------------------------------------------------------\u001b[0m",
      "\u001b[0;31mRuntimeError\u001b[0m                              Traceback (most recent call last)",
      "Cell \u001b[0;32mIn[5], line 1\u001b[0m\n\u001b[0;32m----> 1\u001b[0m encoder \u001b[38;5;241m=\u001b[39m \u001b[43mtimm\u001b[49m\u001b[38;5;241;43m.\u001b[39;49m\u001b[43mcreate_model\u001b[49m\u001b[43m(\u001b[49m\n\u001b[1;32m      2\u001b[0m \u001b[43m    \u001b[49m\u001b[43mmodel_name\u001b[49m\u001b[38;5;241;43m=\u001b[39;49m\u001b[43mCFG\u001b[49m\u001b[38;5;241;43m.\u001b[39;49m\u001b[43mmodel_name\u001b[49m\u001b[43m,\u001b[49m\n\u001b[1;32m      3\u001b[0m \u001b[43m    \u001b[49m\u001b[43mpretrained\u001b[49m\u001b[38;5;241;43m=\u001b[39;49m\u001b[38;5;28;43;01mTrue\u001b[39;49;00m\u001b[43m,\u001b[49m\n\u001b[1;32m      4\u001b[0m \u001b[43m    \u001b[49m\u001b[43min_chans\u001b[49m\u001b[38;5;241;43m=\u001b[39;49m\u001b[38;5;241;43m3\u001b[39;49m\u001b[43m,\u001b[49m\n\u001b[1;32m      5\u001b[0m \u001b[43m    \u001b[49m\u001b[43mnum_classes\u001b[49m\u001b[38;5;241;43m=\u001b[39;49m\u001b[38;5;241;43m0\u001b[39;49m\u001b[43m,\u001b[49m\n\u001b[1;32m      6\u001b[0m \u001b[43m    \u001b[49m\u001b[43mglobal_pool\u001b[49m\u001b[38;5;241;43m=\u001b[39;49m\u001b[38;5;124;43m\"\u001b[39;49m\u001b[38;5;124;43m\"\u001b[39;49m\u001b[43m,\u001b[49m\n\u001b[1;32m      7\u001b[0m \u001b[43m    \u001b[49m\u001b[43mfeatures_only\u001b[49m\u001b[38;5;241;43m=\u001b[39;49m\u001b[38;5;28;43;01mTrue\u001b[39;49;00m\u001b[43m,\u001b[49m\n\u001b[1;32m      8\u001b[0m \u001b[43m)\u001b[49m\n\u001b[1;32m      9\u001b[0m model \u001b[38;5;241m=\u001b[39m Unet3D(encoder\u001b[38;5;241m=\u001b[39mencoder)  \u001b[38;5;66;03m# .to(\"cuda\") # 確認用なのでGPUに載せない\u001b[39;00m\n\u001b[1;32m     10\u001b[0m \u001b[38;5;66;03m# model.load_state_dict(torch.load(\"./pretrained_model.pth\"))\u001b[39;00m\n\u001b[1;32m     11\u001b[0m \u001b[38;5;66;03m# model.load_state_dict(torch.load(\"./best_model.pth\"))\u001b[39;00m\n",
      "File \u001b[0;32m~/.pyenv/versions/3.9.16/envs/kaggle/lib/python3.9/site-packages/timm/models/_factory.py:114\u001b[0m, in \u001b[0;36mcreate_model\u001b[0;34m(model_name, pretrained, pretrained_cfg, pretrained_cfg_overlay, checkpoint_path, scriptable, exportable, no_jit, **kwargs)\u001b[0m\n\u001b[1;32m    112\u001b[0m create_fn \u001b[38;5;241m=\u001b[39m model_entrypoint(model_name)\n\u001b[1;32m    113\u001b[0m \u001b[38;5;28;01mwith\u001b[39;00m set_layer_config(scriptable\u001b[38;5;241m=\u001b[39mscriptable, exportable\u001b[38;5;241m=\u001b[39mexportable, no_jit\u001b[38;5;241m=\u001b[39mno_jit):\n\u001b[0;32m--> 114\u001b[0m     model \u001b[38;5;241m=\u001b[39m \u001b[43mcreate_fn\u001b[49m\u001b[43m(\u001b[49m\n\u001b[1;32m    115\u001b[0m \u001b[43m        \u001b[49m\u001b[43mpretrained\u001b[49m\u001b[38;5;241;43m=\u001b[39;49m\u001b[43mpretrained\u001b[49m\u001b[43m,\u001b[49m\n\u001b[1;32m    116\u001b[0m \u001b[43m        \u001b[49m\u001b[43mpretrained_cfg\u001b[49m\u001b[38;5;241;43m=\u001b[39;49m\u001b[43mpretrained_cfg\u001b[49m\u001b[43m,\u001b[49m\n\u001b[1;32m    117\u001b[0m \u001b[43m        \u001b[49m\u001b[43mpretrained_cfg_overlay\u001b[49m\u001b[38;5;241;43m=\u001b[39;49m\u001b[43mpretrained_cfg_overlay\u001b[49m\u001b[43m,\u001b[49m\n\u001b[1;32m    118\u001b[0m \u001b[43m        \u001b[49m\u001b[38;5;241;43m*\u001b[39;49m\u001b[38;5;241;43m*\u001b[39;49m\u001b[43mkwargs\u001b[49m\u001b[43m,\u001b[49m\n\u001b[1;32m    119\u001b[0m \u001b[43m    \u001b[49m\u001b[43m)\u001b[49m\n\u001b[1;32m    121\u001b[0m \u001b[38;5;28;01mif\u001b[39;00m checkpoint_path:\n\u001b[1;32m    122\u001b[0m     load_checkpoint(model, checkpoint_path)\n",
      "File \u001b[0;32m~/.pyenv/versions/3.9.16/envs/kaggle/lib/python3.9/site-packages/timm/models/vision_transformer.py:1464\u001b[0m, in \u001b[0;36mvit_tiny_patch16_224\u001b[0;34m(pretrained, **kwargs)\u001b[0m\n\u001b[1;32m   1461\u001b[0m \u001b[38;5;250m\u001b[39m\u001b[38;5;124;03m\"\"\" ViT-Tiny (Vit-Ti/16)\u001b[39;00m\n\u001b[1;32m   1462\u001b[0m \u001b[38;5;124;03m\"\"\"\u001b[39;00m\n\u001b[1;32m   1463\u001b[0m model_args \u001b[38;5;241m=\u001b[39m \u001b[38;5;28mdict\u001b[39m(patch_size\u001b[38;5;241m=\u001b[39m\u001b[38;5;241m16\u001b[39m, embed_dim\u001b[38;5;241m=\u001b[39m\u001b[38;5;241m192\u001b[39m, depth\u001b[38;5;241m=\u001b[39m\u001b[38;5;241m12\u001b[39m, num_heads\u001b[38;5;241m=\u001b[39m\u001b[38;5;241m3\u001b[39m)\n\u001b[0;32m-> 1464\u001b[0m model \u001b[38;5;241m=\u001b[39m \u001b[43m_create_vision_transformer\u001b[49m\u001b[43m(\u001b[49m\u001b[38;5;124;43m'\u001b[39;49m\u001b[38;5;124;43mvit_tiny_patch16_224\u001b[39;49m\u001b[38;5;124;43m'\u001b[39;49m\u001b[43m,\u001b[49m\u001b[43m \u001b[49m\u001b[43mpretrained\u001b[49m\u001b[38;5;241;43m=\u001b[39;49m\u001b[43mpretrained\u001b[49m\u001b[43m,\u001b[49m\u001b[43m \u001b[49m\u001b[38;5;241;43m*\u001b[39;49m\u001b[38;5;241;43m*\u001b[39;49m\u001b[38;5;28;43mdict\u001b[39;49m\u001b[43m(\u001b[49m\u001b[43mmodel_args\u001b[49m\u001b[43m,\u001b[49m\u001b[43m \u001b[49m\u001b[38;5;241;43m*\u001b[39;49m\u001b[38;5;241;43m*\u001b[39;49m\u001b[43mkwargs\u001b[49m\u001b[43m)\u001b[49m\u001b[43m)\u001b[49m\n\u001b[1;32m   1465\u001b[0m \u001b[38;5;28;01mreturn\u001b[39;00m model\n",
      "File \u001b[0;32m~/.pyenv/versions/3.9.16/envs/kaggle/lib/python3.9/site-packages/timm/models/vision_transformer.py:1441\u001b[0m, in \u001b[0;36m_create_vision_transformer\u001b[0;34m(variant, pretrained, **kwargs)\u001b[0m\n\u001b[1;32m   1439\u001b[0m \u001b[38;5;28;01mdef\u001b[39;00m \u001b[38;5;21m_create_vision_transformer\u001b[39m(variant, pretrained\u001b[38;5;241m=\u001b[39m\u001b[38;5;28;01mFalse\u001b[39;00m, \u001b[38;5;241m*\u001b[39m\u001b[38;5;241m*\u001b[39mkwargs):\n\u001b[1;32m   1440\u001b[0m     \u001b[38;5;28;01mif\u001b[39;00m kwargs\u001b[38;5;241m.\u001b[39mget(\u001b[38;5;124m'\u001b[39m\u001b[38;5;124mfeatures_only\u001b[39m\u001b[38;5;124m'\u001b[39m, \u001b[38;5;28;01mNone\u001b[39;00m):\n\u001b[0;32m-> 1441\u001b[0m         \u001b[38;5;28;01mraise\u001b[39;00m \u001b[38;5;167;01mRuntimeError\u001b[39;00m(\u001b[38;5;124m'\u001b[39m\u001b[38;5;124mfeatures_only not implemented for Vision Transformer models.\u001b[39m\u001b[38;5;124m'\u001b[39m)\n\u001b[1;32m   1443\u001b[0m     \u001b[38;5;28;01mif\u001b[39;00m \u001b[38;5;124m'\u001b[39m\u001b[38;5;124mflexi\u001b[39m\u001b[38;5;124m'\u001b[39m \u001b[38;5;129;01min\u001b[39;00m variant:\n\u001b[1;32m   1444\u001b[0m         \u001b[38;5;66;03m# FIXME Google FlexiViT pretrained models have a strong preference for bilinear patch / embed\u001b[39;00m\n\u001b[1;32m   1445\u001b[0m         \u001b[38;5;66;03m# interpolation, other pretrained models resize better w/ anti-aliased bicubic interpolation.\u001b[39;00m\n\u001b[1;32m   1446\u001b[0m         _filter_fn \u001b[38;5;241m=\u001b[39m partial(checkpoint_filter_fn, interpolation\u001b[38;5;241m=\u001b[39m\u001b[38;5;124m'\u001b[39m\u001b[38;5;124mbilinear\u001b[39m\u001b[38;5;124m'\u001b[39m, antialias\u001b[38;5;241m=\u001b[39m\u001b[38;5;28;01mFalse\u001b[39;00m)\n",
      "\u001b[0;31mRuntimeError\u001b[0m: features_only not implemented for Vision Transformer models."
     ]
    }
   ],
   "source": [
    "encoder = timm.create_model(\n",
    "    model_name=CFG.model_name,\n",
    "    pretrained=True,\n",
    "    in_chans=3,\n",
    "    num_classes=0,\n",
    "    global_pool=\"\",\n",
    "    features_only=True,\n",
    ")\n",
    "model = Unet3D(encoder=encoder)  # .to(\"cuda\") # 確認用なのでGPUに載せない\n",
    "# model.load_state_dict(torch.load(\"./pretrained_model.pth\"))\n",
    "# model.load_state_dict(torch.load(\"./best_model.pth\"))"
   ]
  },
  {
   "cell_type": "code",
   "execution_count": 7,
   "metadata": {},
   "outputs": [
    {
     "ename": "ValueError",
     "evalue": "not enough values to unpack (expected 4, got 2)",
     "output_type": "error",
     "traceback": [
      "\u001b[0;31m---------------------------------------------------------------------------\u001b[0m",
      "\u001b[0;31mValueError\u001b[0m                                Traceback (most recent call last)",
      "Cell \u001b[0;32mIn[7], line 4\u001b[0m\n\u001b[1;32m      1\u001b[0m \u001b[38;5;66;03m# input-test\u001b[39;00m\n\u001b[1;32m      3\u001b[0m x \u001b[38;5;241m=\u001b[39m torch\u001b[38;5;241m.\u001b[39mrandn(\u001b[38;5;241m2\u001b[39m, \u001b[38;5;241m16\u001b[39m, \u001b[38;5;241m1\u001b[39m, \u001b[38;5;241m64\u001b[39m, \u001b[38;5;241m64\u001b[39m)\u001b[38;5;241m.\u001b[39mcuda()\n\u001b[0;32m----> 4\u001b[0m \u001b[43mmodel\u001b[49m\u001b[43m(\u001b[49m\u001b[43mx\u001b[49m\u001b[43m)\u001b[49m\u001b[38;5;241m.\u001b[39mshape\n\u001b[1;32m      5\u001b[0m \u001b[38;5;66;03m# 例: バッチサイズ=2, 深さ=16, 1ch, H=W=64\u001b[39;00m\n\u001b[1;32m      6\u001b[0m \u001b[38;5;66;03m# x = torch.randn(2, 16, 1, 64, 64).cuda()\u001b[39;00m\n\u001b[1;32m      7\u001b[0m \u001b[38;5;66;03m# out = model(x)   # ここで forward が走る\u001b[39;00m\n\u001b[1;32m      8\u001b[0m \u001b[38;5;66;03m# print(out.shape)\u001b[39;00m\n",
      "File \u001b[0;32m~/.pyenv/versions/3.9.16/envs/kaggle/lib/python3.9/site-packages/torch/nn/modules/module.py:1501\u001b[0m, in \u001b[0;36mModule._call_impl\u001b[0;34m(self, *args, **kwargs)\u001b[0m\n\u001b[1;32m   1496\u001b[0m \u001b[38;5;66;03m# If we don't have any hooks, we want to skip the rest of the logic in\u001b[39;00m\n\u001b[1;32m   1497\u001b[0m \u001b[38;5;66;03m# this function, and just call forward.\u001b[39;00m\n\u001b[1;32m   1498\u001b[0m \u001b[38;5;28;01mif\u001b[39;00m \u001b[38;5;129;01mnot\u001b[39;00m (\u001b[38;5;28mself\u001b[39m\u001b[38;5;241m.\u001b[39m_backward_hooks \u001b[38;5;129;01mor\u001b[39;00m \u001b[38;5;28mself\u001b[39m\u001b[38;5;241m.\u001b[39m_backward_pre_hooks \u001b[38;5;129;01mor\u001b[39;00m \u001b[38;5;28mself\u001b[39m\u001b[38;5;241m.\u001b[39m_forward_hooks \u001b[38;5;129;01mor\u001b[39;00m \u001b[38;5;28mself\u001b[39m\u001b[38;5;241m.\u001b[39m_forward_pre_hooks\n\u001b[1;32m   1499\u001b[0m         \u001b[38;5;129;01mor\u001b[39;00m _global_backward_pre_hooks \u001b[38;5;129;01mor\u001b[39;00m _global_backward_hooks\n\u001b[1;32m   1500\u001b[0m         \u001b[38;5;129;01mor\u001b[39;00m _global_forward_hooks \u001b[38;5;129;01mor\u001b[39;00m _global_forward_pre_hooks):\n\u001b[0;32m-> 1501\u001b[0m     \u001b[38;5;28;01mreturn\u001b[39;00m \u001b[43mforward_call\u001b[49m\u001b[43m(\u001b[49m\u001b[38;5;241;43m*\u001b[39;49m\u001b[43margs\u001b[49m\u001b[43m,\u001b[49m\u001b[43m \u001b[49m\u001b[38;5;241;43m*\u001b[39;49m\u001b[38;5;241;43m*\u001b[39;49m\u001b[43mkwargs\u001b[49m\u001b[43m)\u001b[49m\n\u001b[1;32m   1502\u001b[0m \u001b[38;5;66;03m# Do not call functions when jit is used\u001b[39;00m\n\u001b[1;32m   1503\u001b[0m full_backward_hooks, non_full_backward_hooks \u001b[38;5;241m=\u001b[39m [], []\n",
      "File \u001b[0;32m~/code/projects/kaggle/CryoET/experiments/exp071-3DUnet-ViT-004/src/network.py:45\u001b[0m, in \u001b[0;36mUnet3D.forward\u001b[0;34m(self, x)\u001b[0m\n\u001b[1;32m     41\u001b[0m x \u001b[38;5;241m=\u001b[39m x\u001b[38;5;241m.\u001b[39mreshape(b\u001b[38;5;241m*\u001b[39md, c, h, w)\u001b[38;5;241m.\u001b[39mexpand(\u001b[38;5;241m-\u001b[39m\u001b[38;5;241m1\u001b[39m, \u001b[38;5;241m3\u001b[39m, \u001b[38;5;241m-\u001b[39m\u001b[38;5;241m1\u001b[39m, \u001b[38;5;241m-\u001b[39m\u001b[38;5;241m1\u001b[39m)\n\u001b[1;32m     43\u001b[0m \u001b[38;5;66;03m# ========== 2D ViTエンコーダ ==========\u001b[39;00m\n\u001b[1;32m     44\u001b[0m \u001b[38;5;66;03m# feats=[stage0, stage1, stage2]\u001b[39;00m\n\u001b[0;32m---> 45\u001b[0m encode \u001b[38;5;241m=\u001b[39m \u001b[43mencode2d_vit\u001b[49m\u001b[43m(\u001b[49m\n\u001b[1;32m     46\u001b[0m \u001b[43m    \u001b[49m\u001b[43mtimm_encoder\u001b[49m\u001b[38;5;241;43m=\u001b[39;49m\u001b[38;5;28;43mself\u001b[39;49m\u001b[38;5;241;43m.\u001b[39;49m\u001b[43mencoder\u001b[49m\u001b[43m,\u001b[49m\n\u001b[1;32m     47\u001b[0m \u001b[43m    \u001b[49m\u001b[43minput2d\u001b[49m\u001b[38;5;241;43m=\u001b[39;49m\u001b[43mx\u001b[49m\u001b[43m,\u001b[49m\n\u001b[1;32m     48\u001b[0m \u001b[43m    \u001b[49m\u001b[43mbatch_size\u001b[49m\u001b[38;5;241;43m=\u001b[39;49m\u001b[43mb\u001b[49m\u001b[43m,\u001b[49m\n\u001b[1;32m     49\u001b[0m \u001b[43m    \u001b[49m\u001b[43mdepth_scaler\u001b[49m\u001b[38;5;241;43m=\u001b[39;49m\u001b[43m[\u001b[49m\u001b[38;5;241;43m1\u001b[39;49m\u001b[43m,\u001b[49m\u001b[43m \u001b[49m\u001b[38;5;241;43m2\u001b[39;49m\u001b[43m,\u001b[49m\u001b[43m \u001b[49m\u001b[38;5;241;43m2\u001b[39;49m\u001b[43m]\u001b[49m\u001b[43m,\u001b[49m\u001b[43m  \u001b[49m\u001b[38;5;66;43;03m# 3段に対応\u001b[39;49;00m\n\u001b[1;32m     50\u001b[0m \u001b[43m\u001b[49m\u001b[43m)\u001b[49m\n\u001b[1;32m     52\u001b[0m \u001b[38;5;66;03m# ========== 3D デコーダ (3段) ==========\u001b[39;00m\n\u001b[1;32m     53\u001b[0m last, decode \u001b[38;5;241m=\u001b[39m \u001b[38;5;28mself\u001b[39m\u001b[38;5;241m.\u001b[39mdecoder(\n\u001b[1;32m     54\u001b[0m     feature\u001b[38;5;241m=\u001b[39mencode[\u001b[38;5;241m-\u001b[39m\u001b[38;5;241m1\u001b[39m],               \u001b[38;5;66;03m# 最深部 stage2\u001b[39;00m\n\u001b[1;32m     55\u001b[0m     skip\u001b[38;5;241m=\u001b[39mencode[:\u001b[38;5;241m-\u001b[39m\u001b[38;5;241m1\u001b[39m][::\u001b[38;5;241m-\u001b[39m\u001b[38;5;241m1\u001b[39m] \u001b[38;5;241m+\u001b[39m [\u001b[38;5;28;01mNone\u001b[39;00m],  \u001b[38;5;66;03m# [stage1, stage0, None]\u001b[39;00m\n\u001b[1;32m     56\u001b[0m     depth_scaling\u001b[38;5;241m=\u001b[39m[\u001b[38;5;241m1\u001b[39m, \u001b[38;5;241m2\u001b[39m, \u001b[38;5;241m2\u001b[39m],          \u001b[38;5;66;03m# 3段\u001b[39;00m\n\u001b[1;32m     57\u001b[0m     spatial_scaling\u001b[38;5;241m=\u001b[39m[\u001b[38;5;241m2\u001b[39m, \u001b[38;5;241m2\u001b[39m, \u001b[38;5;241m2\u001b[39m],        \u001b[38;5;66;03m# シンプルに空間は2倍ずつ\u001b[39;00m\n\u001b[1;32m     58\u001b[0m )\n",
      "File \u001b[0;32m~/code/projects/kaggle/CryoET/experiments/exp071-3DUnet-ViT-004/src/network.py:87\u001b[0m, in \u001b[0;36mencode2d_vit\u001b[0;34m(timm_encoder, input2d, batch_size, depth_scaler)\u001b[0m\n\u001b[1;32m     85\u001b[0m \u001b[38;5;28;01mfor\u001b[39;00m i, f \u001b[38;5;129;01min\u001b[39;00m \u001b[38;5;28menumerate\u001b[39m(feats):\n\u001b[1;32m     86\u001b[0m     ds \u001b[38;5;241m=\u001b[39m depth_scaler[i] \u001b[38;5;28;01mif\u001b[39;00m i \u001b[38;5;241m<\u001b[39m \u001b[38;5;28mlen\u001b[39m(depth_scaler) \u001b[38;5;28;01melse\u001b[39;00m \u001b[38;5;241m1\u001b[39m\n\u001b[0;32m---> 87\u001b[0m     l_pooled_f, _ \u001b[38;5;241m=\u001b[39m \u001b[43maggregate_depth\u001b[49m\u001b[43m(\u001b[49m\u001b[43mf\u001b[49m\u001b[43m,\u001b[49m\u001b[43m \u001b[49m\u001b[43mbatch_size\u001b[49m\u001b[43m,\u001b[49m\u001b[43m \u001b[49m\u001b[43mds\u001b[49m\u001b[43m)\u001b[49m\n\u001b[1;32m     88\u001b[0m     encoded\u001b[38;5;241m.\u001b[39mappend(l_pooled_f)\n\u001b[1;32m     89\u001b[0m \u001b[38;5;28;01mreturn\u001b[39;00m encoded\n",
      "File \u001b[0;32m~/code/projects/kaggle/CryoET/experiments/exp071-3DUnet-ViT-004/src/network.py:100\u001b[0m, in \u001b[0;36maggregate_depth\u001b[0;34m(x, batch_size, depth_scaling)\u001b[0m\n\u001b[1;32m     95\u001b[0m \u001b[38;5;28;01mdef\u001b[39;00m \u001b[38;5;21maggregate_depth\u001b[39m(x, batch_size, depth_scaling):\n\u001b[1;32m     96\u001b[0m \u001b[38;5;250m    \u001b[39m\u001b[38;5;124;03m\"\"\"\u001b[39;00m\n\u001b[1;32m     97\u001b[0m \u001b[38;5;124;03m    x: (batch*depth, channel, H, W)\u001b[39;00m\n\u001b[1;32m     98\u001b[0m \u001b[38;5;124;03m    => (b,d,c,H,W) => 3Dpool => ...\u001b[39;00m\n\u001b[1;32m     99\u001b[0m \u001b[38;5;124;03m    \"\"\"\u001b[39;00m\n\u001b[0;32m--> 100\u001b[0m     bd, c, h, w \u001b[38;5;241m=\u001b[39m x\u001b[38;5;241m.\u001b[39mshape\n\u001b[1;32m    101\u001b[0m     d \u001b[38;5;241m=\u001b[39m bd \u001b[38;5;241m/\u001b[39m\u001b[38;5;241m/\u001b[39m batch_size\n\u001b[1;32m    102\u001b[0m     b \u001b[38;5;241m=\u001b[39m batch_size\n",
      "\u001b[0;31mValueError\u001b[0m: not enough values to unpack (expected 4, got 2)"
     ]
    }
   ],
   "source": [
    "# input-test\n",
    "\n",
    "x = torch.randn(2, 16, 1, 64, 64).cuda()\n",
    "model(x).shape\n",
    "# 例: バッチサイズ=2, 深さ=16, 1ch, H=W=64\n",
    "# x = torch.randn(2, 16, 1, 64, 64).cuda()\n",
    "# out = model(x)   # ここで forward が走る\n",
    "# print(out.shape)"
   ]
  },
  {
   "cell_type": "code",
   "execution_count": 7,
   "metadata": {},
   "outputs": [],
   "source": [
    "# # \"encoder\"と名のつくパラメータは学習しない\n",
    "# for layer, param in model.named_parameters():\n",
    "#     if \"encoder\" in layer:\n",
    "#         param.requires_grad = False"
   ]
  },
  {
   "cell_type": "code",
   "execution_count": 8,
   "metadata": {},
   "outputs": [],
   "source": [
    "import matplotlib.pyplot as plt\n",
    "import numpy as np\n",
    "from matplotlib.colors import ListedColormap\n",
    "from matplotlib.patches import Patch\n",
    "\n",
    "# サンプルデータ\n",
    "num_classes = len(CFG.particles_name)  # クラス数\n",
    "colors = plt.cm.tab10(\n",
    "    np.arange(len(CFG.particles_name))\n",
    ")  # \"tab10\" カラーマップから色を取得\n",
    "\n",
    "# ListedColormap を作成\n",
    "class_colormap = ListedColormap(colors)\n",
    "\n",
    "\n",
    "# カラーバー付きプロット\n",
    "def plot_with_colormap(data, title, original_tomogram):\n",
    "    masked_data = np.ma.masked_where(data <= 0, data)  # クラス0をマスク\n",
    "    plt.imshow(original_tomogram, cmap=\"gray\")\n",
    "    im = plt.imshow(masked_data, cmap=class_colormap)\n",
    "    plt.title(title)\n",
    "    plt.axis(\"off\")\n",
    "    return im"
   ]
  },
  {
   "cell_type": "code",
   "execution_count": 9,
   "metadata": {},
   "outputs": [
    {
     "name": "stdout",
     "output_type": "stream",
     "text": [
      "Original shape: torch.Size([6, 16, 320, 320])\n",
      "Augmented shape: torch.Size([6, 16, 320, 320])\n"
     ]
    }
   ],
   "source": [
    "import torch\n",
    "import random\n",
    "import torchvision.transforms.functional as TF\n",
    "\n",
    "\n",
    "# 回転\n",
    "# 3Dテンソルの各軸に対して指定した角度で回転する関数\n",
    "def rotate_3d(tomogram, segmentation_map, angle):\n",
    "    \"\"\"Rotates the 3D tensors tomogram and segmentation_map around the Z-axis.\"\"\"\n",
    "    rotated_tomogram = TF.rotate(tomogram, angle, expand=False)\n",
    "    rotated_segmentation_map = TF.rotate(segmentation_map, angle, expand=False)\n",
    "    return rotated_tomogram, rotated_segmentation_map\n",
    "\n",
    "\n",
    "# 平行移動\n",
    "# 指定された範囲でランダムに平行移動\n",
    "def translate_3d(tomogram, segmentation_map, max_shift):\n",
    "    \"\"\"Translates the 3D tensors by a random shift within max_shift.\"\"\"\n",
    "    shift_x = random.randint(-max_shift, max_shift)\n",
    "    shift_y = random.randint(-max_shift, max_shift)\n",
    "    translated_tomogram = TF.affine(\n",
    "        tomogram, angle=0, translate=(shift_x, shift_y), scale=1, shear=0\n",
    "    )\n",
    "    translated_segmentation_map = TF.affine(\n",
    "        segmentation_map, angle=0, translate=(shift_x, shift_y), scale=1, shear=0\n",
    "    )\n",
    "    return translated_tomogram, translated_segmentation_map\n",
    "\n",
    "\n",
    "# フリップ\n",
    "# 縦横（上下左右）ランダムフリップ\n",
    "def flip_3d(tomogram, segmentation_map):\n",
    "    \"\"\"Randomly flips the 3D tensors along height or width.\"\"\"\n",
    "    if random.random() > 0.5:  # Horizontal flip\n",
    "        tomogram = torch.flip(tomogram, dims=[-1])\n",
    "        segmentation_map = torch.flip(segmentation_map, dims=[-1])\n",
    "    if random.random() > 0.5:  # Vertical flip\n",
    "        tomogram = torch.flip(tomogram, dims=[-2])\n",
    "        segmentation_map = torch.flip(segmentation_map, dims=[-2])\n",
    "    return tomogram, segmentation_map\n",
    "\n",
    "\n",
    "# クロッピング\n",
    "# 入力テンソルを中心またはランダムクロップで切り取る\n",
    "def crop_3d(tomogram, segmentation_map, crop_size):\n",
    "    \"\"\"Crops the 3D tensors to the specified crop_size.\"\"\"\n",
    "    _, depth, height, width = tomogram.size()\n",
    "    crop_d, crop_h, crop_w = crop_size\n",
    "\n",
    "    if crop_h > height or crop_w > width:\n",
    "        raise ValueError(\"Crop size cannot be larger than the original size.\")\n",
    "\n",
    "    start_h = random.randint(0, height - crop_h)  # Random starting position for height\n",
    "    start_w = random.randint(0, width - crop_w)  # Random starting position for width\n",
    "\n",
    "    cropped_tomogram = tomogram[\n",
    "        :, :, start_h : start_h + crop_h, start_w : start_w + crop_w\n",
    "    ]\n",
    "    cropped_segmentation_map = segmentation_map[\n",
    "        :, :, start_h : start_h + crop_h, start_w : start_w + crop_w\n",
    "    ]\n",
    "\n",
    "    return cropped_tomogram, cropped_segmentation_map\n",
    "\n",
    "\n",
    "# Mixup\n",
    "# 2つのサンプルを線形補間して混合\n",
    "def mixup(tomogram, segmentation_map, alpha=0.4):\n",
    "    \"\"\"Applies mixup augmentation to the batch.\"\"\"\n",
    "    lam = random.betavariate(alpha, alpha)\n",
    "    batch_size = tomogram.size(0)\n",
    "    index = torch.randperm(batch_size)\n",
    "\n",
    "    mixed_tomogram = lam * tomogram + (1 - lam) * tomogram[index, :]\n",
    "    mixed_segmentation_map = (\n",
    "        lam * segmentation_map + (1 - lam) * segmentation_map[index, :]\n",
    "    )\n",
    "\n",
    "    return mixed_tomogram, mixed_segmentation_map\n",
    "\n",
    "\n",
    "# Cutmix\n",
    "# ランダム領域を切り取って別のサンプルに貼り付け\n",
    "def cutmix(tomogram, segmentation_map, alpha=1.0):\n",
    "    \"\"\"Applies cutmix augmentation to the batch.\"\"\"\n",
    "    lam = random.betavariate(alpha, alpha)\n",
    "    batch_size, depth, height, width = tomogram.size()\n",
    "    index = torch.randperm(batch_size)\n",
    "\n",
    "    cx = random.randint(0, width)\n",
    "    cy = random.randint(0, height)\n",
    "    cw = int(width * (1 - lam))\n",
    "    ch = int(height * (1 - lam))\n",
    "\n",
    "    x1 = max(cx - cw // 2, 0)\n",
    "    x2 = min(cx + cw // 2, width)\n",
    "    y1 = max(cy - ch // 2, 0)\n",
    "    y2 = min(cy + ch // 2, height)\n",
    "\n",
    "    tomogram[:, :, y1:y2, x1:x2] = tomogram[index, :, y1:y2, x1:x2]\n",
    "    segmentation_map[:, :, y1:y2, x1:x2] = segmentation_map[index, :, y1:y2, x1:x2]\n",
    "\n",
    "    return tomogram, segmentation_map\n",
    "\n",
    "\n",
    "# データ拡張の組み合わせ適用\n",
    "def augment_data(\n",
    "    tomogram,\n",
    "    segmentation_map,\n",
    "    crop_size=(16, 12, 12),\n",
    "    max_shift=10,\n",
    "    rotation_angle=30,\n",
    "    p=0.5,\n",
    "    mixup_alpha=0.4,\n",
    "    cutmix_alpha=1.0,\n",
    "):\n",
    "    \"\"\"Applies a combination of rotation, translation, flipping, cropping, mixup, and cutmix to the inputs with probabilities.\"\"\"\n",
    "    if random.random() < p:\n",
    "        tomogram, segmentation_map = rotate_3d(\n",
    "            tomogram,\n",
    "            segmentation_map,\n",
    "            angle=random.uniform(-rotation_angle, rotation_angle),\n",
    "        )\n",
    "    if random.random() < p:\n",
    "        tomogram, segmentation_map = translate_3d(\n",
    "            tomogram, segmentation_map, max_shift=max_shift\n",
    "        )\n",
    "    if random.random() < p:\n",
    "        tomogram, segmentation_map = flip_3d(tomogram, segmentation_map)\n",
    "    if random.random() < p:\n",
    "        tomogram, segmentation_map = crop_3d(\n",
    "            tomogram, segmentation_map, crop_size=crop_size\n",
    "        )\n",
    "    if random.random() < p:\n",
    "        tomogram, segmentation_map = mixup(\n",
    "            tomogram, segmentation_map, alpha=mixup_alpha\n",
    "        )\n",
    "    # if random.random() < p:\n",
    "    #     tomogram, segmentation_map = cutmix(\n",
    "    #         tomogram, segmentation_map, alpha=cutmix_alpha\n",
    "    #     )\n",
    "    return tomogram, segmentation_map\n",
    "\n",
    "\n",
    "# 使用例\n",
    "# バッチサイズ6, 深さ16, 高さ320, 幅320のランダムテンソル\n",
    "tomogram = torch.rand((6, 16, 320, 320))\n",
    "segmentation_map = torch.randint(0, 2, (6, 16, 320, 320))  # ラベルは0または1\n",
    "\n",
    "# データ拡張の適用\n",
    "aug_tomogram, aug_segmentation_map = augment_data(tomogram, segmentation_map, p=0.7)\n",
    "print(\"Original shape:\", tomogram.shape)\n",
    "print(\"Augmented shape:\", aug_tomogram.shape)"
   ]
  },
  {
   "cell_type": "code",
   "execution_count": 8,
   "metadata": {},
   "outputs": [],
   "source": [
    "from transformers import get_cosine_schedule_with_warmup\n",
    "\n",
    "optimizer = torch.optim.Adam(\n",
    "    model.parameters(), lr=CFG.lr, weight_decay=CFG.weight_decay\n",
    ")\n",
    "criterion = nn.CrossEntropyLoss(\n",
    "    #  weight=torch.tensor([2.0, 32, 32, 32, 32, 32, 32]).to(\"cuda\")\n",
    ")\n",
    "# criterion = DiceLoss()\n",
    "scheduler = get_cosine_schedule_with_warmup(\n",
    "    optimizer,\n",
    "    num_warmup_steps=10,\n",
    "    num_training_steps=CFG.epochs * len(train_loader),\n",
    "    # * batch_size,\n",
    ")\n",
    "scaler = GradScaler()\n",
    "seg_loss = SegmentationLoss(criterion)\n",
    "padf = PadToSize(CFG.resolution)"
   ]
  },
  {
   "cell_type": "code",
   "execution_count": 9,
   "metadata": {},
   "outputs": [],
   "source": [
    "# b, c, d, h, w = CFG.batch_size, 1, 96, 320, 320"
   ]
  },
  {
   "cell_type": "code",
   "execution_count": 10,
   "metadata": {},
   "outputs": [],
   "source": [
    "def preprocess_tensor(tensor):\n",
    "    batch_size, depth, height, width = tensor.shape\n",
    "    tensor = tensor.unsqueeze(2)  # (b, d, h, w) -> (b, d, 1, h, w)\n",
    "    return tensor"
   ]
  },
  {
   "cell_type": "code",
   "execution_count": 11,
   "metadata": {},
   "outputs": [
    {
     "data": {
      "text/plain": [
       "torch.Size([4, 16, 1, 64, 64])"
      ]
     },
     "execution_count": 11,
     "metadata": {},
     "output_type": "execute_result"
    }
   ],
   "source": [
    "padf = PadToSize(CFG.resolution)\n",
    "padf(normalized_tomogram).shape"
   ]
  },
  {
   "cell_type": "code",
   "execution_count": 12,
   "metadata": {},
   "outputs": [
    {
     "name": "stderr",
     "output_type": "stream",
     "text": [
      "Epoch 1/80 [Training]:   0%|          | 0/300 [00:00<?, ?it/s]\n"
     ]
    },
    {
     "ename": "ValueError",
     "evalue": "not enough values to unpack (expected 4, got 2)",
     "output_type": "error",
     "traceback": [
      "\u001b[0;31m---------------------------------------------------------------------------\u001b[0m",
      "\u001b[0;31mValueError\u001b[0m                                Traceback (most recent call last)",
      "Cell \u001b[0;32mIn[12], line 32\u001b[0m\n\u001b[1;32m     29\u001b[0m optimizer\u001b[38;5;241m.\u001b[39mzero_grad()\n\u001b[1;32m     31\u001b[0m \u001b[38;5;28;01mwith\u001b[39;00m autocast():\n\u001b[0;32m---> 32\u001b[0m     pred \u001b[38;5;241m=\u001b[39m \u001b[43mmodel\u001b[49m\u001b[43m(\u001b[49m\u001b[43mpreprocess_tensor\u001b[49m\u001b[43m(\u001b[49m\u001b[43mnormalized_tomogram\u001b[49m\u001b[43m)\u001b[49m\u001b[43m)\u001b[49m\n\u001b[1;32m     33\u001b[0m     loss \u001b[38;5;241m=\u001b[39m seg_loss(pred, segmentation_map)\n\u001b[1;32m     34\u001b[0m \u001b[38;5;66;03m# loss.backward()\u001b[39;00m\n\u001b[1;32m     35\u001b[0m \u001b[38;5;66;03m# optimizer.step()\u001b[39;00m\n",
      "File \u001b[0;32m~/.pyenv/versions/3.9.16/envs/kaggle/lib/python3.9/site-packages/torch/nn/modules/module.py:1501\u001b[0m, in \u001b[0;36mModule._call_impl\u001b[0;34m(self, *args, **kwargs)\u001b[0m\n\u001b[1;32m   1496\u001b[0m \u001b[38;5;66;03m# If we don't have any hooks, we want to skip the rest of the logic in\u001b[39;00m\n\u001b[1;32m   1497\u001b[0m \u001b[38;5;66;03m# this function, and just call forward.\u001b[39;00m\n\u001b[1;32m   1498\u001b[0m \u001b[38;5;28;01mif\u001b[39;00m \u001b[38;5;129;01mnot\u001b[39;00m (\u001b[38;5;28mself\u001b[39m\u001b[38;5;241m.\u001b[39m_backward_hooks \u001b[38;5;129;01mor\u001b[39;00m \u001b[38;5;28mself\u001b[39m\u001b[38;5;241m.\u001b[39m_backward_pre_hooks \u001b[38;5;129;01mor\u001b[39;00m \u001b[38;5;28mself\u001b[39m\u001b[38;5;241m.\u001b[39m_forward_hooks \u001b[38;5;129;01mor\u001b[39;00m \u001b[38;5;28mself\u001b[39m\u001b[38;5;241m.\u001b[39m_forward_pre_hooks\n\u001b[1;32m   1499\u001b[0m         \u001b[38;5;129;01mor\u001b[39;00m _global_backward_pre_hooks \u001b[38;5;129;01mor\u001b[39;00m _global_backward_hooks\n\u001b[1;32m   1500\u001b[0m         \u001b[38;5;129;01mor\u001b[39;00m _global_forward_hooks \u001b[38;5;129;01mor\u001b[39;00m _global_forward_pre_hooks):\n\u001b[0;32m-> 1501\u001b[0m     \u001b[38;5;28;01mreturn\u001b[39;00m \u001b[43mforward_call\u001b[49m\u001b[43m(\u001b[49m\u001b[38;5;241;43m*\u001b[39;49m\u001b[43margs\u001b[49m\u001b[43m,\u001b[49m\u001b[43m \u001b[49m\u001b[38;5;241;43m*\u001b[39;49m\u001b[38;5;241;43m*\u001b[39;49m\u001b[43mkwargs\u001b[49m\u001b[43m)\u001b[49m\n\u001b[1;32m   1502\u001b[0m \u001b[38;5;66;03m# Do not call functions when jit is used\u001b[39;00m\n\u001b[1;32m   1503\u001b[0m full_backward_hooks, non_full_backward_hooks \u001b[38;5;241m=\u001b[39m [], []\n",
      "File \u001b[0;32m~/code/projects/kaggle/CryoET/experiments/exp071-3DUnet-ViT-004/src/network.py:45\u001b[0m, in \u001b[0;36mUnet3D.forward\u001b[0;34m(self, x)\u001b[0m\n\u001b[1;32m     41\u001b[0m x \u001b[38;5;241m=\u001b[39m x\u001b[38;5;241m.\u001b[39mreshape(b\u001b[38;5;241m*\u001b[39md, c, h, w)\u001b[38;5;241m.\u001b[39mexpand(\u001b[38;5;241m-\u001b[39m\u001b[38;5;241m1\u001b[39m, \u001b[38;5;241m3\u001b[39m, \u001b[38;5;241m-\u001b[39m\u001b[38;5;241m1\u001b[39m, \u001b[38;5;241m-\u001b[39m\u001b[38;5;241m1\u001b[39m)\n\u001b[1;32m     43\u001b[0m \u001b[38;5;66;03m# ========== 2D ViTエンコーダ ==========\u001b[39;00m\n\u001b[1;32m     44\u001b[0m \u001b[38;5;66;03m# feats=[stage0, stage1, stage2]\u001b[39;00m\n\u001b[0;32m---> 45\u001b[0m encode \u001b[38;5;241m=\u001b[39m \u001b[43mencode2d_vit\u001b[49m\u001b[43m(\u001b[49m\n\u001b[1;32m     46\u001b[0m \u001b[43m    \u001b[49m\u001b[43mtimm_encoder\u001b[49m\u001b[38;5;241;43m=\u001b[39;49m\u001b[38;5;28;43mself\u001b[39;49m\u001b[38;5;241;43m.\u001b[39;49m\u001b[43mencoder\u001b[49m\u001b[43m,\u001b[49m\n\u001b[1;32m     47\u001b[0m \u001b[43m    \u001b[49m\u001b[43minput2d\u001b[49m\u001b[38;5;241;43m=\u001b[39;49m\u001b[43mx\u001b[49m\u001b[43m,\u001b[49m\n\u001b[1;32m     48\u001b[0m \u001b[43m    \u001b[49m\u001b[43mbatch_size\u001b[49m\u001b[38;5;241;43m=\u001b[39;49m\u001b[43mb\u001b[49m\u001b[43m,\u001b[49m\n\u001b[1;32m     49\u001b[0m \u001b[43m    \u001b[49m\u001b[43mdepth_scaler\u001b[49m\u001b[38;5;241;43m=\u001b[39;49m\u001b[43m[\u001b[49m\u001b[38;5;241;43m1\u001b[39;49m\u001b[43m,\u001b[49m\u001b[43m \u001b[49m\u001b[38;5;241;43m2\u001b[39;49m\u001b[43m,\u001b[49m\u001b[43m \u001b[49m\u001b[38;5;241;43m2\u001b[39;49m\u001b[43m]\u001b[49m\u001b[43m,\u001b[49m\u001b[43m  \u001b[49m\u001b[38;5;66;43;03m# 3段に対応\u001b[39;49;00m\n\u001b[1;32m     50\u001b[0m \u001b[43m\u001b[49m\u001b[43m)\u001b[49m\n\u001b[1;32m     52\u001b[0m \u001b[38;5;66;03m# ========== 3D デコーダ (3段) ==========\u001b[39;00m\n\u001b[1;32m     53\u001b[0m last, decode \u001b[38;5;241m=\u001b[39m \u001b[38;5;28mself\u001b[39m\u001b[38;5;241m.\u001b[39mdecoder(\n\u001b[1;32m     54\u001b[0m     feature\u001b[38;5;241m=\u001b[39mencode[\u001b[38;5;241m-\u001b[39m\u001b[38;5;241m1\u001b[39m],               \u001b[38;5;66;03m# 最深部 stage2\u001b[39;00m\n\u001b[1;32m     55\u001b[0m     skip\u001b[38;5;241m=\u001b[39mencode[:\u001b[38;5;241m-\u001b[39m\u001b[38;5;241m1\u001b[39m][::\u001b[38;5;241m-\u001b[39m\u001b[38;5;241m1\u001b[39m] \u001b[38;5;241m+\u001b[39m [\u001b[38;5;28;01mNone\u001b[39;00m],  \u001b[38;5;66;03m# [stage1, stage0, None]\u001b[39;00m\n\u001b[1;32m     56\u001b[0m     depth_scaling\u001b[38;5;241m=\u001b[39m[\u001b[38;5;241m1\u001b[39m, \u001b[38;5;241m2\u001b[39m, \u001b[38;5;241m2\u001b[39m],          \u001b[38;5;66;03m# 3段\u001b[39;00m\n\u001b[1;32m     57\u001b[0m     spatial_scaling\u001b[38;5;241m=\u001b[39m[\u001b[38;5;241m2\u001b[39m, \u001b[38;5;241m2\u001b[39m, \u001b[38;5;241m2\u001b[39m],        \u001b[38;5;66;03m# シンプルに空間は2倍ずつ\u001b[39;00m\n\u001b[1;32m     58\u001b[0m )\n",
      "File \u001b[0;32m~/code/projects/kaggle/CryoET/experiments/exp071-3DUnet-ViT-004/src/network.py:87\u001b[0m, in \u001b[0;36mencode2d_vit\u001b[0;34m(timm_encoder, input2d, batch_size, depth_scaler)\u001b[0m\n\u001b[1;32m     85\u001b[0m \u001b[38;5;28;01mfor\u001b[39;00m i, f \u001b[38;5;129;01min\u001b[39;00m \u001b[38;5;28menumerate\u001b[39m(feats):\n\u001b[1;32m     86\u001b[0m     ds \u001b[38;5;241m=\u001b[39m depth_scaler[i] \u001b[38;5;28;01mif\u001b[39;00m i \u001b[38;5;241m<\u001b[39m \u001b[38;5;28mlen\u001b[39m(depth_scaler) \u001b[38;5;28;01melse\u001b[39;00m \u001b[38;5;241m1\u001b[39m\n\u001b[0;32m---> 87\u001b[0m     l_pooled_f, _ \u001b[38;5;241m=\u001b[39m \u001b[43maggregate_depth\u001b[49m\u001b[43m(\u001b[49m\u001b[43mf\u001b[49m\u001b[43m,\u001b[49m\u001b[43m \u001b[49m\u001b[43mbatch_size\u001b[49m\u001b[43m,\u001b[49m\u001b[43m \u001b[49m\u001b[43mds\u001b[49m\u001b[43m)\u001b[49m\n\u001b[1;32m     88\u001b[0m     encoded\u001b[38;5;241m.\u001b[39mappend(l_pooled_f)\n\u001b[1;32m     89\u001b[0m \u001b[38;5;28;01mreturn\u001b[39;00m encoded\n",
      "File \u001b[0;32m~/code/projects/kaggle/CryoET/experiments/exp071-3DUnet-ViT-004/src/network.py:100\u001b[0m, in \u001b[0;36maggregate_depth\u001b[0;34m(x, batch_size, depth_scaling)\u001b[0m\n\u001b[1;32m     95\u001b[0m \u001b[38;5;28;01mdef\u001b[39;00m \u001b[38;5;21maggregate_depth\u001b[39m(x, batch_size, depth_scaling):\n\u001b[1;32m     96\u001b[0m \u001b[38;5;250m    \u001b[39m\u001b[38;5;124;03m\"\"\"\u001b[39;00m\n\u001b[1;32m     97\u001b[0m \u001b[38;5;124;03m    x: (batch*depth, channel, H, W)\u001b[39;00m\n\u001b[1;32m     98\u001b[0m \u001b[38;5;124;03m    => (b,d,c,H,W) => 3Dpool => ...\u001b[39;00m\n\u001b[1;32m     99\u001b[0m \u001b[38;5;124;03m    \"\"\"\u001b[39;00m\n\u001b[0;32m--> 100\u001b[0m     bd, c, h, w \u001b[38;5;241m=\u001b[39m x\u001b[38;5;241m.\u001b[39mshape\n\u001b[1;32m    101\u001b[0m     d \u001b[38;5;241m=\u001b[39m bd \u001b[38;5;241m/\u001b[39m\u001b[38;5;241m/\u001b[39m batch_size\n\u001b[1;32m    102\u001b[0m     b \u001b[38;5;241m=\u001b[39m batch_size\n",
      "\u001b[0;31mValueError\u001b[0m: not enough values to unpack (expected 4, got 2)"
     ]
    }
   ],
   "source": [
    "best_model = None\n",
    "best_constant = 0\n",
    "best_score = -100\n",
    "\n",
    "grand_train_loss = []\n",
    "grand_valid_loss = []\n",
    "grand_train_score = []\n",
    "grand_valid_score = []\n",
    "\n",
    "for epoch in range(CFG.epochs):\n",
    "    model.train()\n",
    "    train_loss = []\n",
    "    valid_loss = []\n",
    "    with tqdm(train_loader, desc=f\"Epoch {epoch + 1}/{CFG.epochs} [Training]\") as tq:\n",
    "        for data in tq:\n",
    "            normalized_tomogram = data[\"normalized_tomogram\"]\n",
    "            segmentation_map = data[\"segmentation_map\"]\n",
    "\n",
    "            normalized_tomogram = padf(normalized_tomogram)\n",
    "            segmentation_map = padf(segmentation_map)\n",
    "\n",
    "            # データ拡張\n",
    "            # normalized_tomogram, segmentation_map = augment_data(\n",
    "            #     normalized_tomogram, segmentation_map, p=CFG.augmentation_prob\n",
    "            # )\n",
    "            normalized_tomogram = normalized_tomogram.cuda()\n",
    "            segmentation_map = segmentation_map.long().cuda()\n",
    "\n",
    "            optimizer.zero_grad()\n",
    "\n",
    "            with autocast():\n",
    "                pred = model(preprocess_tensor(normalized_tomogram))\n",
    "                loss = seg_loss(pred, segmentation_map)\n",
    "            # loss.backward()\n",
    "            # optimizer.step()\n",
    "            scaler.scale(loss).backward()\n",
    "            scaler.step(optimizer)\n",
    "            scaler.update()\n",
    "            scheduler.step()\n",
    "            train_loss.append(loss.item())\n",
    "\n",
    "            # 確率予測\n",
    "            prob_pred = torch.softmax(pred, dim=1)\n",
    "            tq.set_postfix({\"loss\": f\"{np.mean(train_loss):.4f}\"})\n",
    "\n",
    "    with tqdm(valid_loader, desc=f\"Epoch {epoch + 1}/{CFG.epochs} [Validation]\") as tq:\n",
    "        with torch.no_grad():\n",
    "            for data in tq:\n",
    "                normalized_tomogram = data[\"normalized_tomogram\"].cuda()\n",
    "                segmentation_map = data[\"segmentation_map\"].long().cuda()\n",
    "\n",
    "                normalized_tomogram = padf(normalized_tomogram)\n",
    "                segmentation_map = padf(segmentation_map)\n",
    "\n",
    "                with autocast():\n",
    "                    pred = model(preprocess_tensor(normalized_tomogram))\n",
    "                    loss = seg_loss(pred, segmentation_map)\n",
    "                valid_loss.append(loss.item())\n",
    "\n",
    "                # 確率予測\n",
    "                prob_pred = torch.softmax(pred, dim=1)\n",
    "                tq.set_postfix({\"loss\": f\"{np.mean(valid_loss):.4f}\"})\n",
    "\n",
    "    # # ############### validation ################\n",
    "    train_nshuffle_original_tomogram = defaultdict(list)\n",
    "    train_nshuffle_pred_tomogram = defaultdict(list)\n",
    "    train_nshuffle_gt_tomogram = defaultdict(list)\n",
    "\n",
    "    valid_original_tomogram = defaultdict(list)\n",
    "    valid_pred_tomogram = defaultdict(list)\n",
    "    valid_gt_tomogram = defaultdict(list)\n",
    "\n",
    "    train_mean_scores = []\n",
    "    valid_mean_scores = []\n",
    "\n",
    "    # モデルの保存\n",
    "    torch.save(model.state_dict(), \"./best_model.pth\")\n",
    "\n",
    "    # ############### validation ################\n",
    "    train_nshuffle_original_tomogram = defaultdict(list)\n",
    "    train_nshuffle_pred_tomogram = defaultdict(list)\n",
    "    train_nshuffle_gt_tomogram = defaultdict(list)\n",
    "\n",
    "    valid_original_tomogram = defaultdict(list)\n",
    "    valid_pred_tomogram = defaultdict(list)\n",
    "    valid_gt_tomogram = defaultdict(list)\n",
    "\n",
    "    train_mean_scores = []\n",
    "    valid_mean_scores = []\n",
    "\n",
    "    train_inferenced_array = {}\n",
    "    train_pred_array = []\n",
    "    train_gt_array = []\n",
    "    valid_inferenced_array = {}\n",
    "    valid_gt_array = []\n",
    "\n",
    "    # for exp_name in tqdm(CFG.train_exp_names):\n",
    "    for exp_name in [CFG.valid_exp_name]:  # 5つのデータで試す\n",
    "        # inferenced_array = inference(model, exp_name, train=False)\n",
    "        inferenced_array, n_tomogram, segmentation_map = inference(\n",
    "            model, exp_name, train=False\n",
    "        )\n",
    "        valid_inferenced_array[exp_name] = inferenced_array\n",
    "        base_dir = \"../../inputs/train/overlay/ExperimentRuns/\"\n",
    "        gt_df = create_gt_df(base_dir, [exp_name])\n",
    "        valid_gt_array.append(gt_df)\n",
    "\n",
    "    valid_gt_array = pd.concat(valid_gt_array)\n",
    "\n",
    "    b_constant = 0\n",
    "    b_score = -100\n",
    "    for constant in tqdm(np.linspace(0.1, 0.9, 15)):\n",
    "        valid_pred_array = []\n",
    "        sikii = {\n",
    "            \"apo-ferritin\": constant,\n",
    "            \"beta-amylase\": constant,\n",
    "            \"beta-galactosidase\": constant,\n",
    "            \"ribosome\": constant,\n",
    "            \"thyroglobulin\": constant,\n",
    "            \"virus-like-particle\": constant,\n",
    "        }\n",
    "        for exp_name in [CFG.valid_exp_name]:  # 5つのデータで試す\n",
    "            pred_df = inference2pos(\n",
    "                pred_segmask=valid_inferenced_array[exp_name],\n",
    "                exp_name=exp_name,\n",
    "                sikii_dict=sikii,\n",
    "            )\n",
    "            valid_pred_array.append(pred_df)\n",
    "\n",
    "        valid_pred_array = pd.concat(valid_pred_array)\n",
    "\n",
    "        if len(valid_pred_array) != 0:\n",
    "            score_ = score(\n",
    "                valid_pred_array,\n",
    "                valid_gt_array,\n",
    "                row_id_column_name=\"index\",\n",
    "                distance_multiplier=1.0,\n",
    "                beta=4,\n",
    "            )\n",
    "            if score_ > b_score:\n",
    "                b_score = score_\n",
    "                b_constant = constant\n",
    "\n",
    "        import gc\n",
    "        import torch.cuda as cuda\n",
    "\n",
    "        gc.collect()\n",
    "        cuda.empty_cache()\n",
    "\n",
    "    print(\"constant\", b_constant, \"score\", b_score)\n",
    "\n",
    "    if b_score > best_score:\n",
    "        best_constant = b_constant\n",
    "        best_score = b_score\n",
    "        # best_score = np.mean(valid_mean_scores)\n",
    "        best_model = model.state_dict()\n",
    "        torch.save(best_model, f\"./best_model.pth\")\n",
    "\n",
    "    print(\n",
    "        f\"train-epoch-loss:{np.mean(train_loss):.4f}\",\n",
    "        f\"valid-epoch-loss:{np.mean(valid_loss):.4f}\",\n",
    "        # f\"train-beta4-score:{np.mean(train_mean_scores):.4f}\",\n",
    "        f\"valid-beta4-score:{b_score:.4f}\",\n",
    "    )\n",
    "\n",
    "    grand_train_loss.append(np.mean(train_loss))\n",
    "    grand_valid_loss.append(np.mean(valid_loss))\n",
    "    # grand_train_score.append(np.mean(train_mean_scores))\n",
    "    grand_valid_score.append(b_score)"
   ]
  },
  {
   "cell_type": "code",
   "execution_count": 18,
   "metadata": {},
   "outputs": [
    {
     "name": "stderr",
     "output_type": "stream",
     "text": [
      "Epoch 1/80 [Training]: 100%|██████████| 300/300 [00:26<00:00, 11.25it/s, loss=0.2251]\n",
      "Epoch 1/80 [Validation]: 100%|██████████| 1/1 [00:00<00:00,  6.02it/s, loss=0.1691]\n"
     ]
    },
    {
     "name": "stdout",
     "output_type": "stream",
     "text": [
      "New best model saved with validation loss: 0.1691\n",
      "Epoch 1/80 Summary:\n",
      "Train Loss: 0.2251, Valid Loss: 0.1691, Best Validation Loss: 0.1691\n"
     ]
    },
    {
     "name": "stderr",
     "output_type": "stream",
     "text": [
      "Epoch 2/80 [Training]: 100%|██████████| 300/300 [00:26<00:00, 11.37it/s, loss=0.0615]\n",
      "Epoch 2/80 [Validation]: 100%|██████████| 1/1 [00:00<00:00,  6.44it/s, loss=0.0508]\n"
     ]
    },
    {
     "name": "stdout",
     "output_type": "stream",
     "text": [
      "New best model saved with validation loss: 0.0508\n",
      "Epoch 2/80 Summary:\n",
      "Train Loss: 0.0615, Valid Loss: 0.0508, Best Validation Loss: 0.0508\n"
     ]
    },
    {
     "name": "stderr",
     "output_type": "stream",
     "text": [
      "Epoch 3/80 [Training]: 100%|██████████| 300/300 [00:26<00:00, 11.40it/s, loss=0.0440]\n",
      "Epoch 3/80 [Validation]: 100%|██████████| 1/1 [00:00<00:00,  6.56it/s, loss=0.0742]\n"
     ]
    },
    {
     "name": "stdout",
     "output_type": "stream",
     "text": [
      "Epoch 3/80 Summary:\n",
      "Train Loss: 0.0440, Valid Loss: 0.0742, Best Validation Loss: 0.0508\n"
     ]
    },
    {
     "name": "stderr",
     "output_type": "stream",
     "text": [
      "Epoch 4/80 [Training]: 100%|██████████| 300/300 [00:26<00:00, 11.41it/s, loss=0.0352]\n",
      "Epoch 4/80 [Validation]: 100%|██████████| 1/1 [00:00<00:00,  6.55it/s, loss=0.0388]\n"
     ]
    },
    {
     "name": "stdout",
     "output_type": "stream",
     "text": [
      "New best model saved with validation loss: 0.0388\n",
      "Epoch 4/80 Summary:\n",
      "Train Loss: 0.0352, Valid Loss: 0.0388, Best Validation Loss: 0.0388\n"
     ]
    },
    {
     "name": "stderr",
     "output_type": "stream",
     "text": [
      "Epoch 5/80 [Training]: 100%|██████████| 300/300 [00:26<00:00, 11.39it/s, loss=0.0297]\n",
      "Epoch 5/80 [Validation]: 100%|██████████| 1/1 [00:00<00:00,  6.64it/s, loss=0.0122]\n"
     ]
    },
    {
     "name": "stdout",
     "output_type": "stream",
     "text": [
      "New best model saved with validation loss: 0.0122\n",
      "Epoch 5/80 Summary:\n",
      "Train Loss: 0.0297, Valid Loss: 0.0122, Best Validation Loss: 0.0122\n"
     ]
    },
    {
     "name": "stderr",
     "output_type": "stream",
     "text": [
      "Epoch 6/80 [Training]: 100%|██████████| 300/300 [00:27<00:00, 10.72it/s, loss=0.0247]\n",
      "Epoch 6/80 [Validation]: 100%|██████████| 1/1 [00:00<00:00,  6.64it/s, loss=0.0103]\n"
     ]
    },
    {
     "name": "stdout",
     "output_type": "stream",
     "text": [
      "New best model saved with validation loss: 0.0103\n",
      "Epoch 6/80 Summary:\n",
      "Train Loss: 0.0247, Valid Loss: 0.0103, Best Validation Loss: 0.0103\n"
     ]
    },
    {
     "name": "stderr",
     "output_type": "stream",
     "text": [
      "Epoch 7/80 [Training]: 100%|██████████| 300/300 [00:26<00:00, 11.53it/s, loss=0.0222]\n",
      "Epoch 7/80 [Validation]: 100%|██████████| 1/1 [00:00<00:00,  6.49it/s, loss=0.0138]\n"
     ]
    },
    {
     "name": "stdout",
     "output_type": "stream",
     "text": [
      "Epoch 7/80 Summary:\n",
      "Train Loss: 0.0222, Valid Loss: 0.0138, Best Validation Loss: 0.0103\n"
     ]
    },
    {
     "name": "stderr",
     "output_type": "stream",
     "text": [
      "Epoch 8/80 [Training]: 100%|██████████| 300/300 [00:25<00:00, 11.55it/s, loss=0.0175]\n",
      "Epoch 8/80 [Validation]: 100%|██████████| 1/1 [00:00<00:00,  6.57it/s, loss=0.0042]\n"
     ]
    },
    {
     "name": "stdout",
     "output_type": "stream",
     "text": [
      "New best model saved with validation loss: 0.0042\n",
      "Epoch 8/80 Summary:\n",
      "Train Loss: 0.0175, Valid Loss: 0.0042, Best Validation Loss: 0.0042\n"
     ]
    },
    {
     "name": "stderr",
     "output_type": "stream",
     "text": [
      "Epoch 9/80 [Training]: 100%|██████████| 300/300 [00:25<00:00, 11.67it/s, loss=0.0174]\n",
      "Epoch 9/80 [Validation]: 100%|██████████| 1/1 [00:00<00:00,  6.56it/s, loss=0.0027]\n"
     ]
    },
    {
     "name": "stdout",
     "output_type": "stream",
     "text": [
      "New best model saved with validation loss: 0.0027\n",
      "Epoch 9/80 Summary:\n",
      "Train Loss: 0.0174, Valid Loss: 0.0027, Best Validation Loss: 0.0027\n"
     ]
    },
    {
     "name": "stderr",
     "output_type": "stream",
     "text": [
      "Epoch 10/80 [Training]: 100%|██████████| 300/300 [00:25<00:00, 11.62it/s, loss=0.0170]\n",
      "Epoch 10/80 [Validation]: 100%|██████████| 1/1 [00:00<00:00,  6.51it/s, loss=0.0068]\n"
     ]
    },
    {
     "name": "stdout",
     "output_type": "stream",
     "text": [
      "Epoch 10/80 Summary:\n",
      "Train Loss: 0.0170, Valid Loss: 0.0068, Best Validation Loss: 0.0027\n"
     ]
    },
    {
     "name": "stderr",
     "output_type": "stream",
     "text": [
      "Epoch 11/80 [Training]: 100%|██████████| 300/300 [00:25<00:00, 11.58it/s, loss=0.0143]\n",
      "Epoch 11/80 [Validation]: 100%|██████████| 1/1 [00:00<00:00,  6.28it/s, loss=0.0012]\n"
     ]
    },
    {
     "name": "stdout",
     "output_type": "stream",
     "text": [
      "New best model saved with validation loss: 0.0012\n",
      "Epoch 11/80 Summary:\n",
      "Train Loss: 0.0143, Valid Loss: 0.0012, Best Validation Loss: 0.0012\n"
     ]
    },
    {
     "name": "stderr",
     "output_type": "stream",
     "text": [
      "Epoch 12/80 [Training]: 100%|██████████| 300/300 [00:26<00:00, 11.41it/s, loss=0.0146]\n",
      "Epoch 12/80 [Validation]: 100%|██████████| 1/1 [00:00<00:00,  6.52it/s, loss=0.0022]\n"
     ]
    },
    {
     "name": "stdout",
     "output_type": "stream",
     "text": [
      "Epoch 12/80 Summary:\n",
      "Train Loss: 0.0146, Valid Loss: 0.0022, Best Validation Loss: 0.0012\n"
     ]
    },
    {
     "name": "stderr",
     "output_type": "stream",
     "text": [
      "Epoch 13/80 [Training]: 100%|██████████| 300/300 [00:26<00:00, 11.49it/s, loss=0.0129]\n",
      "Epoch 13/80 [Validation]: 100%|██████████| 1/1 [00:00<00:00,  6.50it/s, loss=0.0043]\n"
     ]
    },
    {
     "name": "stdout",
     "output_type": "stream",
     "text": [
      "Epoch 13/80 Summary:\n",
      "Train Loss: 0.0129, Valid Loss: 0.0043, Best Validation Loss: 0.0012\n"
     ]
    },
    {
     "name": "stderr",
     "output_type": "stream",
     "text": [
      "Epoch 14/80 [Training]: 100%|██████████| 300/300 [00:28<00:00, 10.47it/s, loss=0.0146]\n",
      "Epoch 14/80 [Validation]: 100%|██████████| 1/1 [00:00<00:00,  6.46it/s, loss=0.0013]\n"
     ]
    },
    {
     "name": "stdout",
     "output_type": "stream",
     "text": [
      "Epoch 14/80 Summary:\n",
      "Train Loss: 0.0146, Valid Loss: 0.0013, Best Validation Loss: 0.0012\n"
     ]
    },
    {
     "name": "stderr",
     "output_type": "stream",
     "text": [
      "Epoch 15/80 [Training]: 100%|██████████| 300/300 [00:25<00:00, 11.66it/s, loss=0.0153]\n",
      "Epoch 15/80 [Validation]: 100%|██████████| 1/1 [00:00<00:00,  6.59it/s, loss=0.0022]\n"
     ]
    },
    {
     "name": "stdout",
     "output_type": "stream",
     "text": [
      "Epoch 15/80 Summary:\n",
      "Train Loss: 0.0153, Valid Loss: 0.0022, Best Validation Loss: 0.0012\n"
     ]
    },
    {
     "name": "stderr",
     "output_type": "stream",
     "text": [
      "Epoch 16/80 [Training]: 100%|██████████| 300/300 [00:26<00:00, 11.52it/s, loss=0.0124]\n",
      "Epoch 16/80 [Validation]: 100%|██████████| 1/1 [00:00<00:00,  6.58it/s, loss=0.0016]\n"
     ]
    },
    {
     "name": "stdout",
     "output_type": "stream",
     "text": [
      "Epoch 16/80 Summary:\n",
      "Train Loss: 0.0124, Valid Loss: 0.0016, Best Validation Loss: 0.0012\n"
     ]
    },
    {
     "name": "stderr",
     "output_type": "stream",
     "text": [
      "Epoch 17/80 [Training]: 100%|██████████| 300/300 [00:25<00:00, 11.55it/s, loss=0.0118]\n",
      "Epoch 17/80 [Validation]: 100%|██████████| 1/1 [00:00<00:00,  6.63it/s, loss=0.0003]\n"
     ]
    },
    {
     "name": "stdout",
     "output_type": "stream",
     "text": [
      "New best model saved with validation loss: 0.0003\n",
      "Epoch 17/80 Summary:\n",
      "Train Loss: 0.0118, Valid Loss: 0.0003, Best Validation Loss: 0.0003\n"
     ]
    },
    {
     "name": "stderr",
     "output_type": "stream",
     "text": [
      "Epoch 18/80 [Training]: 100%|██████████| 300/300 [00:25<00:00, 11.69it/s, loss=0.0106]\n",
      "Epoch 18/80 [Validation]: 100%|██████████| 1/1 [00:00<00:00,  6.47it/s, loss=0.0010]\n"
     ]
    },
    {
     "name": "stdout",
     "output_type": "stream",
     "text": [
      "Epoch 18/80 Summary:\n",
      "Train Loss: 0.0106, Valid Loss: 0.0010, Best Validation Loss: 0.0003\n"
     ]
    },
    {
     "name": "stderr",
     "output_type": "stream",
     "text": [
      "Epoch 19/80 [Training]: 100%|██████████| 300/300 [00:25<00:00, 11.67it/s, loss=0.0099]\n",
      "Epoch 19/80 [Validation]: 100%|██████████| 1/1 [00:00<00:00,  6.64it/s, loss=0.0002]\n"
     ]
    },
    {
     "name": "stdout",
     "output_type": "stream",
     "text": [
      "New best model saved with validation loss: 0.0002\n",
      "Epoch 19/80 Summary:\n",
      "Train Loss: 0.0099, Valid Loss: 0.0002, Best Validation Loss: 0.0002\n"
     ]
    },
    {
     "name": "stderr",
     "output_type": "stream",
     "text": [
      "Epoch 20/80 [Training]: 100%|██████████| 300/300 [00:25<00:00, 11.64it/s, loss=0.0103]\n",
      "Epoch 20/80 [Validation]: 100%|██████████| 1/1 [00:00<00:00,  6.57it/s, loss=0.0012]\n"
     ]
    },
    {
     "name": "stdout",
     "output_type": "stream",
     "text": [
      "Epoch 20/80 Summary:\n",
      "Train Loss: 0.0103, Valid Loss: 0.0012, Best Validation Loss: 0.0002\n"
     ]
    },
    {
     "name": "stderr",
     "output_type": "stream",
     "text": [
      "Epoch 21/80 [Training]: 100%|██████████| 300/300 [00:26<00:00, 11.46it/s, loss=0.0098]\n",
      "Epoch 21/80 [Validation]: 100%|██████████| 1/1 [00:00<00:00,  6.58it/s, loss=0.0003]\n"
     ]
    },
    {
     "name": "stdout",
     "output_type": "stream",
     "text": [
      "Epoch 21/80 Summary:\n",
      "Train Loss: 0.0098, Valid Loss: 0.0003, Best Validation Loss: 0.0002\n"
     ]
    },
    {
     "name": "stderr",
     "output_type": "stream",
     "text": [
      "Epoch 22/80 [Training]: 100%|██████████| 300/300 [00:28<00:00, 10.69it/s, loss=0.0104]\n",
      "Epoch 22/80 [Validation]: 100%|██████████| 1/1 [00:00<00:00,  6.73it/s, loss=0.0011]\n"
     ]
    },
    {
     "name": "stdout",
     "output_type": "stream",
     "text": [
      "Epoch 22/80 Summary:\n",
      "Train Loss: 0.0104, Valid Loss: 0.0011, Best Validation Loss: 0.0002\n"
     ]
    },
    {
     "name": "stderr",
     "output_type": "stream",
     "text": [
      "Epoch 23/80 [Training]: 100%|██████████| 300/300 [00:25<00:00, 11.65it/s, loss=0.0094] \n",
      "Epoch 23/80 [Validation]: 100%|██████████| 1/1 [00:00<00:00,  6.52it/s, loss=0.0015]\n"
     ]
    },
    {
     "name": "stdout",
     "output_type": "stream",
     "text": [
      "Epoch 23/80 Summary:\n",
      "Train Loss: 0.0094, Valid Loss: 0.0015, Best Validation Loss: 0.0002\n"
     ]
    },
    {
     "name": "stderr",
     "output_type": "stream",
     "text": [
      "Epoch 24/80 [Training]: 100%|██████████| 300/300 [00:25<00:00, 11.65it/s, loss=0.0096]\n",
      "Epoch 24/80 [Validation]: 100%|██████████| 1/1 [00:00<00:00,  6.59it/s, loss=0.0011]\n"
     ]
    },
    {
     "name": "stdout",
     "output_type": "stream",
     "text": [
      "Epoch 24/80 Summary:\n",
      "Train Loss: 0.0096, Valid Loss: 0.0011, Best Validation Loss: 0.0002\n"
     ]
    },
    {
     "name": "stderr",
     "output_type": "stream",
     "text": [
      "Epoch 25/80 [Training]: 100%|██████████| 300/300 [00:26<00:00, 11.42it/s, loss=0.0092]\n",
      "Epoch 25/80 [Validation]: 100%|██████████| 1/1 [00:00<00:00,  6.50it/s, loss=0.0007]\n"
     ]
    },
    {
     "name": "stdout",
     "output_type": "stream",
     "text": [
      "Epoch 25/80 Summary:\n",
      "Train Loss: 0.0092, Valid Loss: 0.0007, Best Validation Loss: 0.0002\n"
     ]
    },
    {
     "name": "stderr",
     "output_type": "stream",
     "text": [
      "Epoch 26/80 [Training]: 100%|██████████| 300/300 [00:26<00:00, 11.40it/s, loss=0.0073]\n",
      "Epoch 26/80 [Validation]: 100%|██████████| 1/1 [00:00<00:00,  6.50it/s, loss=0.0003]\n"
     ]
    },
    {
     "name": "stdout",
     "output_type": "stream",
     "text": [
      "Epoch 26/80 Summary:\n",
      "Train Loss: 0.0073, Valid Loss: 0.0003, Best Validation Loss: 0.0002\n"
     ]
    },
    {
     "name": "stderr",
     "output_type": "stream",
     "text": [
      "Epoch 27/80 [Training]: 100%|██████████| 300/300 [00:26<00:00, 11.44it/s, loss=0.0088]\n",
      "Epoch 27/80 [Validation]: 100%|██████████| 1/1 [00:00<00:00,  6.46it/s, loss=0.0005]\n"
     ]
    },
    {
     "name": "stdout",
     "output_type": "stream",
     "text": [
      "Epoch 27/80 Summary:\n",
      "Train Loss: 0.0088, Valid Loss: 0.0005, Best Validation Loss: 0.0002\n"
     ]
    },
    {
     "name": "stderr",
     "output_type": "stream",
     "text": [
      "Epoch 28/80 [Training]: 100%|██████████| 300/300 [00:26<00:00, 11.37it/s, loss=0.0065]\n",
      "Epoch 28/80 [Validation]: 100%|██████████| 1/1 [00:00<00:00,  6.19it/s, loss=0.0003]\n"
     ]
    },
    {
     "name": "stdout",
     "output_type": "stream",
     "text": [
      "Epoch 28/80 Summary:\n",
      "Train Loss: 0.0065, Valid Loss: 0.0003, Best Validation Loss: 0.0002\n"
     ]
    },
    {
     "name": "stderr",
     "output_type": "stream",
     "text": [
      "Epoch 29/80 [Training]: 100%|██████████| 300/300 [00:25<00:00, 11.58it/s, loss=0.0065]\n",
      "Epoch 29/80 [Validation]: 100%|██████████| 1/1 [00:00<00:00,  6.48it/s, loss=0.0004]\n"
     ]
    },
    {
     "name": "stdout",
     "output_type": "stream",
     "text": [
      "Epoch 29/80 Summary:\n",
      "Train Loss: 0.0065, Valid Loss: 0.0004, Best Validation Loss: 0.0002\n"
     ]
    },
    {
     "name": "stderr",
     "output_type": "stream",
     "text": [
      "Epoch 30/80 [Training]: 100%|██████████| 300/300 [00:26<00:00, 11.45it/s, loss=0.0085]\n",
      "Epoch 30/80 [Validation]: 100%|██████████| 1/1 [00:00<00:00,  6.19it/s, loss=0.0002]\n"
     ]
    },
    {
     "name": "stdout",
     "output_type": "stream",
     "text": [
      "Epoch 30/80 Summary:\n",
      "Train Loss: 0.0085, Valid Loss: 0.0002, Best Validation Loss: 0.0002\n"
     ]
    },
    {
     "name": "stderr",
     "output_type": "stream",
     "text": [
      "Epoch 31/80 [Training]: 100%|██████████| 300/300 [00:27<00:00, 10.74it/s, loss=0.0052]\n",
      "Epoch 31/80 [Validation]: 100%|██████████| 1/1 [00:00<00:00,  6.70it/s, loss=0.0004]\n"
     ]
    },
    {
     "name": "stdout",
     "output_type": "stream",
     "text": [
      "Epoch 31/80 Summary:\n",
      "Train Loss: 0.0052, Valid Loss: 0.0004, Best Validation Loss: 0.0002\n"
     ]
    },
    {
     "name": "stderr",
     "output_type": "stream",
     "text": [
      "Epoch 32/80 [Training]: 100%|██████████| 300/300 [00:25<00:00, 11.64it/s, loss=0.0048]\n",
      "Epoch 32/80 [Validation]: 100%|██████████| 1/1 [00:00<00:00,  6.49it/s, loss=0.0002]\n"
     ]
    },
    {
     "name": "stdout",
     "output_type": "stream",
     "text": [
      "Epoch 32/80 Summary:\n",
      "Train Loss: 0.0048, Valid Loss: 0.0002, Best Validation Loss: 0.0002\n"
     ]
    },
    {
     "name": "stderr",
     "output_type": "stream",
     "text": [
      "Epoch 33/80 [Training]: 100%|██████████| 300/300 [00:25<00:00, 11.64it/s, loss=0.0069]\n",
      "Epoch 33/80 [Validation]: 100%|██████████| 1/1 [00:00<00:00,  6.44it/s, loss=0.0002]\n"
     ]
    },
    {
     "name": "stdout",
     "output_type": "stream",
     "text": [
      "Epoch 33/80 Summary:\n",
      "Train Loss: 0.0069, Valid Loss: 0.0002, Best Validation Loss: 0.0002\n"
     ]
    },
    {
     "name": "stderr",
     "output_type": "stream",
     "text": [
      "Epoch 34/80 [Training]: 100%|██████████| 300/300 [00:26<00:00, 11.50it/s, loss=0.0044]\n",
      "Epoch 34/80 [Validation]: 100%|██████████| 1/1 [00:00<00:00,  6.57it/s, loss=0.0002]\n"
     ]
    },
    {
     "name": "stdout",
     "output_type": "stream",
     "text": [
      "Epoch 34/80 Summary:\n",
      "Train Loss: 0.0044, Valid Loss: 0.0002, Best Validation Loss: 0.0002\n"
     ]
    },
    {
     "name": "stderr",
     "output_type": "stream",
     "text": [
      "Epoch 35/80 [Training]: 100%|██████████| 300/300 [00:25<00:00, 11.55it/s, loss=0.0033]\n",
      "Epoch 35/80 [Validation]: 100%|██████████| 1/1 [00:00<00:00,  6.48it/s, loss=0.0003]\n"
     ]
    },
    {
     "name": "stdout",
     "output_type": "stream",
     "text": [
      "Epoch 35/80 Summary:\n",
      "Train Loss: 0.0033, Valid Loss: 0.0003, Best Validation Loss: 0.0002\n"
     ]
    },
    {
     "name": "stderr",
     "output_type": "stream",
     "text": [
      "Epoch 36/80 [Training]: 100%|██████████| 300/300 [00:25<00:00, 11.61it/s, loss=0.0040]\n",
      "Epoch 36/80 [Validation]: 100%|██████████| 1/1 [00:00<00:00,  6.50it/s, loss=0.0001]\n"
     ]
    },
    {
     "name": "stdout",
     "output_type": "stream",
     "text": [
      "New best model saved with validation loss: 0.0001\n",
      "Epoch 36/80 Summary:\n",
      "Train Loss: 0.0040, Valid Loss: 0.0001, Best Validation Loss: 0.0001\n"
     ]
    },
    {
     "name": "stderr",
     "output_type": "stream",
     "text": [
      "Epoch 37/80 [Training]: 100%|██████████| 300/300 [00:25<00:00, 11.61it/s, loss=0.0058]\n",
      "Epoch 37/80 [Validation]: 100%|██████████| 1/1 [00:00<00:00,  6.49it/s, loss=0.0001]\n"
     ]
    },
    {
     "name": "stdout",
     "output_type": "stream",
     "text": [
      "Epoch 37/80 Summary:\n",
      "Train Loss: 0.0058, Valid Loss: 0.0001, Best Validation Loss: 0.0001\n"
     ]
    },
    {
     "name": "stderr",
     "output_type": "stream",
     "text": [
      "Epoch 38/80 [Training]: 100%|██████████| 300/300 [00:25<00:00, 11.63it/s, loss=0.0031]\n",
      "Epoch 38/80 [Validation]: 100%|██████████| 1/1 [00:00<00:00,  6.34it/s, loss=0.0001]\n"
     ]
    },
    {
     "name": "stdout",
     "output_type": "stream",
     "text": [
      "Epoch 38/80 Summary:\n",
      "Train Loss: 0.0031, Valid Loss: 0.0001, Best Validation Loss: 0.0001\n"
     ]
    },
    {
     "name": "stderr",
     "output_type": "stream",
     "text": [
      "Epoch 39/80 [Training]: 100%|██████████| 300/300 [00:28<00:00, 10.37it/s, loss=0.0025]\n",
      "Epoch 39/80 [Validation]: 100%|██████████| 1/1 [00:00<00:00,  6.39it/s, loss=0.0022]\n"
     ]
    },
    {
     "name": "stdout",
     "output_type": "stream",
     "text": [
      "Epoch 39/80 Summary:\n",
      "Train Loss: 0.0025, Valid Loss: 0.0022, Best Validation Loss: 0.0001\n"
     ]
    },
    {
     "name": "stderr",
     "output_type": "stream",
     "text": [
      "Epoch 40/80 [Training]: 100%|██████████| 300/300 [00:26<00:00, 11.47it/s, loss=0.0037]\n",
      "Epoch 40/80 [Validation]: 100%|██████████| 1/1 [00:00<00:00,  6.49it/s, loss=0.0001]\n"
     ]
    },
    {
     "name": "stdout",
     "output_type": "stream",
     "text": [
      "Epoch 40/80 Summary:\n",
      "Train Loss: 0.0037, Valid Loss: 0.0001, Best Validation Loss: 0.0001\n"
     ]
    },
    {
     "name": "stderr",
     "output_type": "stream",
     "text": [
      "Epoch 41/80 [Training]: 100%|██████████| 300/300 [00:26<00:00, 11.45it/s, loss=0.0022]\n",
      "Epoch 41/80 [Validation]: 100%|██████████| 1/1 [00:00<00:00,  6.38it/s, loss=0.0000]\n"
     ]
    },
    {
     "name": "stdout",
     "output_type": "stream",
     "text": [
      "New best model saved with validation loss: 0.0000\n",
      "Epoch 41/80 Summary:\n",
      "Train Loss: 0.0022, Valid Loss: 0.0000, Best Validation Loss: 0.0000\n"
     ]
    },
    {
     "name": "stderr",
     "output_type": "stream",
     "text": [
      "Epoch 42/80 [Training]: 100%|██████████| 300/300 [00:25<00:00, 11.57it/s, loss=0.0024]\n",
      "Epoch 42/80 [Validation]: 100%|██████████| 1/1 [00:00<00:00,  6.51it/s, loss=0.0001]\n"
     ]
    },
    {
     "name": "stdout",
     "output_type": "stream",
     "text": [
      "Epoch 42/80 Summary:\n",
      "Train Loss: 0.0024, Valid Loss: 0.0001, Best Validation Loss: 0.0000\n"
     ]
    },
    {
     "name": "stderr",
     "output_type": "stream",
     "text": [
      "Epoch 43/80 [Training]: 100%|██████████| 300/300 [00:26<00:00, 11.51it/s, loss=0.0056]\n",
      "Epoch 43/80 [Validation]: 100%|██████████| 1/1 [00:00<00:00,  6.56it/s, loss=0.0000]\n"
     ]
    },
    {
     "name": "stdout",
     "output_type": "stream",
     "text": [
      "New best model saved with validation loss: 0.0000\n",
      "Epoch 43/80 Summary:\n",
      "Train Loss: 0.0056, Valid Loss: 0.0000, Best Validation Loss: 0.0000\n"
     ]
    },
    {
     "name": "stderr",
     "output_type": "stream",
     "text": [
      "Epoch 44/80 [Training]: 100%|██████████| 300/300 [00:26<00:00, 11.52it/s, loss=0.0023]\n",
      "Epoch 44/80 [Validation]: 100%|██████████| 1/1 [00:00<00:00,  6.55it/s, loss=0.0000]\n"
     ]
    },
    {
     "name": "stdout",
     "output_type": "stream",
     "text": [
      "Epoch 44/80 Summary:\n",
      "Train Loss: 0.0023, Valid Loss: 0.0000, Best Validation Loss: 0.0000\n"
     ]
    },
    {
     "name": "stderr",
     "output_type": "stream",
     "text": [
      "Epoch 45/80 [Training]: 100%|██████████| 300/300 [00:25<00:00, 11.64it/s, loss=0.0017]\n",
      "Epoch 45/80 [Validation]: 100%|██████████| 1/1 [00:00<00:00,  6.50it/s, loss=0.0000]\n"
     ]
    },
    {
     "name": "stdout",
     "output_type": "stream",
     "text": [
      "Epoch 45/80 Summary:\n",
      "Train Loss: 0.0017, Valid Loss: 0.0000, Best Validation Loss: 0.0000\n"
     ]
    },
    {
     "name": "stderr",
     "output_type": "stream",
     "text": [
      "Epoch 46/80 [Training]: 100%|██████████| 300/300 [00:25<00:00, 11.61it/s, loss=0.0016]\n",
      "Epoch 46/80 [Validation]: 100%|██████████| 1/1 [00:00<00:00,  6.58it/s, loss=0.0001]\n"
     ]
    },
    {
     "name": "stdout",
     "output_type": "stream",
     "text": [
      "Epoch 46/80 Summary:\n",
      "Train Loss: 0.0016, Valid Loss: 0.0001, Best Validation Loss: 0.0000\n"
     ]
    },
    {
     "name": "stderr",
     "output_type": "stream",
     "text": [
      "Epoch 47/80 [Training]: 100%|██████████| 300/300 [00:27<00:00, 10.73it/s, loss=0.0020]\n",
      "Epoch 47/80 [Validation]: 100%|██████████| 1/1 [00:00<00:00,  6.66it/s, loss=0.0000]\n"
     ]
    },
    {
     "name": "stdout",
     "output_type": "stream",
     "text": [
      "Epoch 47/80 Summary:\n",
      "Train Loss: 0.0020, Valid Loss: 0.0000, Best Validation Loss: 0.0000\n"
     ]
    },
    {
     "name": "stderr",
     "output_type": "stream",
     "text": [
      "Epoch 48/80 [Training]: 100%|██████████| 300/300 [00:26<00:00, 11.46it/s, loss=0.0014]\n",
      "Epoch 48/80 [Validation]: 100%|██████████| 1/1 [00:00<00:00,  6.48it/s, loss=0.0001]\n"
     ]
    },
    {
     "name": "stdout",
     "output_type": "stream",
     "text": [
      "Epoch 48/80 Summary:\n",
      "Train Loss: 0.0014, Valid Loss: 0.0001, Best Validation Loss: 0.0000\n"
     ]
    },
    {
     "name": "stderr",
     "output_type": "stream",
     "text": [
      "Epoch 49/80 [Training]: 100%|██████████| 300/300 [00:25<00:00, 11.57it/s, loss=0.0023]\n",
      "Epoch 49/80 [Validation]: 100%|██████████| 1/1 [00:00<00:00,  6.50it/s, loss=0.0001]\n"
     ]
    },
    {
     "name": "stdout",
     "output_type": "stream",
     "text": [
      "Epoch 49/80 Summary:\n",
      "Train Loss: 0.0023, Valid Loss: 0.0001, Best Validation Loss: 0.0000\n"
     ]
    },
    {
     "name": "stderr",
     "output_type": "stream",
     "text": [
      "Epoch 50/80 [Training]: 100%|██████████| 300/300 [00:25<00:00, 11.62it/s, loss=0.0009]\n",
      "Epoch 50/80 [Validation]: 100%|██████████| 1/1 [00:00<00:00,  6.57it/s, loss=0.0000]\n"
     ]
    },
    {
     "name": "stdout",
     "output_type": "stream",
     "text": [
      "New best model saved with validation loss: 0.0000\n",
      "Epoch 50/80 Summary:\n",
      "Train Loss: 0.0009, Valid Loss: 0.0000, Best Validation Loss: 0.0000\n"
     ]
    },
    {
     "name": "stderr",
     "output_type": "stream",
     "text": [
      "Epoch 51/80 [Training]: 100%|██████████| 300/300 [00:25<00:00, 11.64it/s, loss=0.0011]\n",
      "Epoch 51/80 [Validation]: 100%|██████████| 1/1 [00:00<00:00,  6.27it/s, loss=0.0000]\n"
     ]
    },
    {
     "name": "stdout",
     "output_type": "stream",
     "text": [
      "Epoch 51/80 Summary:\n",
      "Train Loss: 0.0011, Valid Loss: 0.0000, Best Validation Loss: 0.0000\n"
     ]
    },
    {
     "name": "stderr",
     "output_type": "stream",
     "text": [
      "Epoch 52/80 [Training]: 100%|██████████| 300/300 [00:25<00:00, 11.67it/s, loss=0.0012]\n",
      "Epoch 52/80 [Validation]: 100%|██████████| 1/1 [00:00<00:00,  6.73it/s, loss=0.0000]\n"
     ]
    },
    {
     "name": "stdout",
     "output_type": "stream",
     "text": [
      "New best model saved with validation loss: 0.0000\n",
      "Epoch 52/80 Summary:\n",
      "Train Loss: 0.0012, Valid Loss: 0.0000, Best Validation Loss: 0.0000\n"
     ]
    },
    {
     "name": "stderr",
     "output_type": "stream",
     "text": [
      "Epoch 53/80 [Training]: 100%|██████████| 300/300 [00:26<00:00, 11.43it/s, loss=0.0009]\n",
      "Epoch 53/80 [Validation]: 100%|██████████| 1/1 [00:00<00:00,  6.35it/s, loss=0.0000]\n"
     ]
    },
    {
     "name": "stdout",
     "output_type": "stream",
     "text": [
      "Epoch 53/80 Summary:\n",
      "Train Loss: 0.0009, Valid Loss: 0.0000, Best Validation Loss: 0.0000\n"
     ]
    },
    {
     "name": "stderr",
     "output_type": "stream",
     "text": [
      "Epoch 54/80 [Training]: 100%|██████████| 300/300 [00:26<00:00, 11.44it/s, loss=0.0007]\n",
      "Epoch 54/80 [Validation]: 100%|██████████| 1/1 [00:00<00:00,  6.16it/s, loss=0.0000]\n"
     ]
    },
    {
     "name": "stdout",
     "output_type": "stream",
     "text": [
      "Epoch 54/80 Summary:\n",
      "Train Loss: 0.0007, Valid Loss: 0.0000, Best Validation Loss: 0.0000\n"
     ]
    },
    {
     "name": "stderr",
     "output_type": "stream",
     "text": [
      "Epoch 55/80 [Training]: 100%|██████████| 300/300 [00:28<00:00, 10.47it/s, loss=0.0011]\n",
      "Epoch 55/80 [Validation]: 100%|██████████| 1/1 [00:00<00:00,  6.42it/s, loss=0.0000]\n"
     ]
    },
    {
     "name": "stdout",
     "output_type": "stream",
     "text": [
      "Epoch 55/80 Summary:\n",
      "Train Loss: 0.0011, Valid Loss: 0.0000, Best Validation Loss: 0.0000\n"
     ]
    },
    {
     "name": "stderr",
     "output_type": "stream",
     "text": [
      "Epoch 56/80 [Training]: 100%|██████████| 300/300 [00:25<00:00, 11.65it/s, loss=0.0009]\n",
      "Epoch 56/80 [Validation]: 100%|██████████| 1/1 [00:00<00:00,  6.49it/s, loss=0.0000]\n"
     ]
    },
    {
     "name": "stdout",
     "output_type": "stream",
     "text": [
      "Epoch 56/80 Summary:\n",
      "Train Loss: 0.0009, Valid Loss: 0.0000, Best Validation Loss: 0.0000\n"
     ]
    },
    {
     "name": "stderr",
     "output_type": "stream",
     "text": [
      "Epoch 57/80 [Training]: 100%|██████████| 300/300 [00:26<00:00, 11.48it/s, loss=0.0007]\n",
      "Epoch 57/80 [Validation]: 100%|██████████| 1/1 [00:00<00:00,  6.62it/s, loss=0.0000]\n"
     ]
    },
    {
     "name": "stdout",
     "output_type": "stream",
     "text": [
      "Epoch 57/80 Summary:\n",
      "Train Loss: 0.0007, Valid Loss: 0.0000, Best Validation Loss: 0.0000\n"
     ]
    },
    {
     "name": "stderr",
     "output_type": "stream",
     "text": [
      "Epoch 58/80 [Training]: 100%|██████████| 300/300 [00:25<00:00, 11.54it/s, loss=0.0009]\n",
      "Epoch 58/80 [Validation]: 100%|██████████| 1/1 [00:00<00:00,  6.58it/s, loss=0.0001]\n"
     ]
    },
    {
     "name": "stdout",
     "output_type": "stream",
     "text": [
      "Epoch 58/80 Summary:\n",
      "Train Loss: 0.0009, Valid Loss: 0.0001, Best Validation Loss: 0.0000\n"
     ]
    },
    {
     "name": "stderr",
     "output_type": "stream",
     "text": [
      "Epoch 59/80 [Training]: 100%|██████████| 300/300 [00:25<00:00, 11.66it/s, loss=0.0021]\n",
      "Epoch 59/80 [Validation]: 100%|██████████| 1/1 [00:00<00:00,  6.55it/s, loss=0.0000]\n"
     ]
    },
    {
     "name": "stdout",
     "output_type": "stream",
     "text": [
      "Epoch 59/80 Summary:\n",
      "Train Loss: 0.0021, Valid Loss: 0.0000, Best Validation Loss: 0.0000\n"
     ]
    },
    {
     "name": "stderr",
     "output_type": "stream",
     "text": [
      "Epoch 60/80 [Training]: 100%|██████████| 300/300 [00:25<00:00, 11.62it/s, loss=0.0004]\n",
      "Epoch 60/80 [Validation]: 100%|██████████| 1/1 [00:00<00:00,  6.43it/s, loss=0.0000]\n"
     ]
    },
    {
     "name": "stdout",
     "output_type": "stream",
     "text": [
      "Epoch 60/80 Summary:\n",
      "Train Loss: 0.0004, Valid Loss: 0.0000, Best Validation Loss: 0.0000\n"
     ]
    },
    {
     "name": "stderr",
     "output_type": "stream",
     "text": [
      "Epoch 61/80 [Training]: 100%|██████████| 300/300 [00:25<00:00, 11.59it/s, loss=0.0003]\n",
      "Epoch 61/80 [Validation]: 100%|██████████| 1/1 [00:00<00:00,  6.62it/s, loss=0.0000]\n"
     ]
    },
    {
     "name": "stdout",
     "output_type": "stream",
     "text": [
      "New best model saved with validation loss: 0.0000\n",
      "Epoch 61/80 Summary:\n",
      "Train Loss: 0.0003, Valid Loss: 0.0000, Best Validation Loss: 0.0000\n"
     ]
    },
    {
     "name": "stderr",
     "output_type": "stream",
     "text": [
      "Epoch 62/80 [Training]: 100%|██████████| 300/300 [00:26<00:00, 11.42it/s, loss=0.0004]\n",
      "Epoch 62/80 [Validation]: 100%|██████████| 1/1 [00:00<00:00,  6.63it/s, loss=0.0000]\n"
     ]
    },
    {
     "name": "stdout",
     "output_type": "stream",
     "text": [
      "Epoch 62/80 Summary:\n",
      "Train Loss: 0.0004, Valid Loss: 0.0000, Best Validation Loss: 0.0000\n"
     ]
    },
    {
     "name": "stderr",
     "output_type": "stream",
     "text": [
      "Epoch 63/80 [Training]: 100%|██████████| 300/300 [00:25<00:00, 11.57it/s, loss=0.0004]\n",
      "Epoch 63/80 [Validation]: 100%|██████████| 1/1 [00:00<00:00,  6.56it/s, loss=0.0000]\n"
     ]
    },
    {
     "name": "stdout",
     "output_type": "stream",
     "text": [
      "New best model saved with validation loss: 0.0000\n",
      "Epoch 63/80 Summary:\n",
      "Train Loss: 0.0004, Valid Loss: 0.0000, Best Validation Loss: 0.0000\n"
     ]
    },
    {
     "name": "stderr",
     "output_type": "stream",
     "text": [
      "Epoch 64/80 [Training]: 100%|██████████| 300/300 [00:28<00:00, 10.70it/s, loss=0.0002]\n",
      "Epoch 64/80 [Validation]: 100%|██████████| 1/1 [00:00<00:00,  6.49it/s, loss=0.0000]\n"
     ]
    },
    {
     "name": "stdout",
     "output_type": "stream",
     "text": [
      "New best model saved with validation loss: 0.0000\n",
      "Epoch 64/80 Summary:\n",
      "Train Loss: 0.0002, Valid Loss: 0.0000, Best Validation Loss: 0.0000\n"
     ]
    },
    {
     "name": "stderr",
     "output_type": "stream",
     "text": [
      "Epoch 65/80 [Training]: 100%|██████████| 300/300 [00:25<00:00, 11.60it/s, loss=0.0002]\n",
      "Epoch 65/80 [Validation]: 100%|██████████| 1/1 [00:00<00:00,  6.42it/s, loss=0.0000]\n"
     ]
    },
    {
     "name": "stdout",
     "output_type": "stream",
     "text": [
      "Epoch 65/80 Summary:\n",
      "Train Loss: 0.0002, Valid Loss: 0.0000, Best Validation Loss: 0.0000\n"
     ]
    },
    {
     "name": "stderr",
     "output_type": "stream",
     "text": [
      "Epoch 66/80 [Training]: 100%|██████████| 300/300 [00:26<00:00, 11.39it/s, loss=0.0002]\n",
      "Epoch 66/80 [Validation]: 100%|██████████| 1/1 [00:00<00:00,  6.33it/s, loss=0.0000]\n"
     ]
    },
    {
     "name": "stdout",
     "output_type": "stream",
     "text": [
      "Epoch 66/80 Summary:\n",
      "Train Loss: 0.0002, Valid Loss: 0.0000, Best Validation Loss: 0.0000\n"
     ]
    },
    {
     "name": "stderr",
     "output_type": "stream",
     "text": [
      "Epoch 67/80 [Training]: 100%|██████████| 300/300 [00:26<00:00, 11.41it/s, loss=0.0002]\n",
      "Epoch 67/80 [Validation]: 100%|██████████| 1/1 [00:00<00:00,  6.11it/s, loss=0.0000]\n"
     ]
    },
    {
     "name": "stdout",
     "output_type": "stream",
     "text": [
      "New best model saved with validation loss: 0.0000\n",
      "Epoch 67/80 Summary:\n",
      "Train Loss: 0.0002, Valid Loss: 0.0000, Best Validation Loss: 0.0000\n"
     ]
    },
    {
     "name": "stderr",
     "output_type": "stream",
     "text": [
      "Epoch 68/80 [Training]: 100%|██████████| 300/300 [00:26<00:00, 11.40it/s, loss=0.0002]\n",
      "Epoch 68/80 [Validation]: 100%|██████████| 1/1 [00:00<00:00,  6.43it/s, loss=0.0000]\n"
     ]
    },
    {
     "name": "stdout",
     "output_type": "stream",
     "text": [
      "Epoch 68/80 Summary:\n",
      "Train Loss: 0.0002, Valid Loss: 0.0000, Best Validation Loss: 0.0000\n"
     ]
    },
    {
     "name": "stderr",
     "output_type": "stream",
     "text": [
      "Epoch 69/80 [Training]: 100%|██████████| 300/300 [00:26<00:00, 11.42it/s, loss=0.0001]\n",
      "Epoch 69/80 [Validation]: 100%|██████████| 1/1 [00:00<00:00,  6.47it/s, loss=0.0000]\n"
     ]
    },
    {
     "name": "stdout",
     "output_type": "stream",
     "text": [
      "Epoch 69/80 Summary:\n",
      "Train Loss: 0.0001, Valid Loss: 0.0000, Best Validation Loss: 0.0000\n"
     ]
    },
    {
     "name": "stderr",
     "output_type": "stream",
     "text": [
      "Epoch 70/80 [Training]: 100%|██████████| 300/300 [00:25<00:00, 11.58it/s, loss=0.0001]\n",
      "Epoch 70/80 [Validation]: 100%|██████████| 1/1 [00:00<00:00,  6.30it/s, loss=0.0000]\n"
     ]
    },
    {
     "name": "stdout",
     "output_type": "stream",
     "text": [
      "Epoch 70/80 Summary:\n",
      "Train Loss: 0.0001, Valid Loss: 0.0000, Best Validation Loss: 0.0000\n"
     ]
    },
    {
     "name": "stderr",
     "output_type": "stream",
     "text": [
      "Epoch 71/80 [Training]: 100%|██████████| 300/300 [00:26<00:00, 11.46it/s, loss=0.0001]\n",
      "Epoch 71/80 [Validation]: 100%|██████████| 1/1 [00:00<00:00,  6.46it/s, loss=0.0000]\n"
     ]
    },
    {
     "name": "stdout",
     "output_type": "stream",
     "text": [
      "Epoch 71/80 Summary:\n",
      "Train Loss: 0.0001, Valid Loss: 0.0000, Best Validation Loss: 0.0000\n"
     ]
    },
    {
     "name": "stderr",
     "output_type": "stream",
     "text": [
      "Epoch 72/80 [Training]: 100%|██████████| 300/300 [00:28<00:00, 10.69it/s, loss=0.0001]\n",
      "Epoch 72/80 [Validation]: 100%|██████████| 1/1 [00:00<00:00,  6.43it/s, loss=0.0000]\n"
     ]
    },
    {
     "name": "stdout",
     "output_type": "stream",
     "text": [
      "Epoch 72/80 Summary:\n",
      "Train Loss: 0.0001, Valid Loss: 0.0000, Best Validation Loss: 0.0000\n"
     ]
    },
    {
     "name": "stderr",
     "output_type": "stream",
     "text": [
      "Epoch 73/80 [Training]: 100%|██████████| 300/300 [00:25<00:00, 11.60it/s, loss=0.0001]\n",
      "Epoch 73/80 [Validation]: 100%|██████████| 1/1 [00:00<00:00,  6.46it/s, loss=0.0000]\n"
     ]
    },
    {
     "name": "stdout",
     "output_type": "stream",
     "text": [
      "Epoch 73/80 Summary:\n",
      "Train Loss: 0.0001, Valid Loss: 0.0000, Best Validation Loss: 0.0000\n"
     ]
    },
    {
     "name": "stderr",
     "output_type": "stream",
     "text": [
      "Epoch 74/80 [Training]: 100%|██████████| 300/300 [00:25<00:00, 11.56it/s, loss=0.0001]\n",
      "Epoch 74/80 [Validation]: 100%|██████████| 1/1 [00:00<00:00,  6.41it/s, loss=0.0000]\n"
     ]
    },
    {
     "name": "stdout",
     "output_type": "stream",
     "text": [
      "Epoch 74/80 Summary:\n",
      "Train Loss: 0.0001, Valid Loss: 0.0000, Best Validation Loss: 0.0000\n"
     ]
    },
    {
     "name": "stderr",
     "output_type": "stream",
     "text": [
      "Epoch 75/80 [Training]: 100%|██████████| 300/300 [00:26<00:00, 11.52it/s, loss=0.0001]\n",
      "Epoch 75/80 [Validation]: 100%|██████████| 1/1 [00:00<00:00,  6.39it/s, loss=0.0000]\n"
     ]
    },
    {
     "name": "stdout",
     "output_type": "stream",
     "text": [
      "Epoch 75/80 Summary:\n",
      "Train Loss: 0.0001, Valid Loss: 0.0000, Best Validation Loss: 0.0000\n"
     ]
    },
    {
     "name": "stderr",
     "output_type": "stream",
     "text": [
      "Epoch 76/80 [Training]: 100%|██████████| 300/300 [00:25<00:00, 11.56it/s, loss=0.0001]\n",
      "Epoch 76/80 [Validation]: 100%|██████████| 1/1 [00:00<00:00,  6.43it/s, loss=0.0000]\n"
     ]
    },
    {
     "name": "stdout",
     "output_type": "stream",
     "text": [
      "Epoch 76/80 Summary:\n",
      "Train Loss: 0.0001, Valid Loss: 0.0000, Best Validation Loss: 0.0000\n"
     ]
    },
    {
     "name": "stderr",
     "output_type": "stream",
     "text": [
      "Epoch 77/80 [Training]: 100%|██████████| 300/300 [00:25<00:00, 11.63it/s, loss=0.0001]\n",
      "Epoch 77/80 [Validation]: 100%|██████████| 1/1 [00:00<00:00,  6.40it/s, loss=0.0000]\n"
     ]
    },
    {
     "name": "stdout",
     "output_type": "stream",
     "text": [
      "Epoch 77/80 Summary:\n",
      "Train Loss: 0.0001, Valid Loss: 0.0000, Best Validation Loss: 0.0000\n"
     ]
    },
    {
     "name": "stderr",
     "output_type": "stream",
     "text": [
      "Epoch 78/80 [Training]: 100%|██████████| 300/300 [00:25<00:00, 11.61it/s, loss=0.0001]\n",
      "Epoch 78/80 [Validation]: 100%|██████████| 1/1 [00:00<00:00,  6.65it/s, loss=0.0000]\n"
     ]
    },
    {
     "name": "stdout",
     "output_type": "stream",
     "text": [
      "Epoch 78/80 Summary:\n",
      "Train Loss: 0.0001, Valid Loss: 0.0000, Best Validation Loss: 0.0000\n"
     ]
    },
    {
     "name": "stderr",
     "output_type": "stream",
     "text": [
      "Epoch 79/80 [Training]: 100%|██████████| 300/300 [00:26<00:00, 11.51it/s, loss=0.0001]\n",
      "Epoch 79/80 [Validation]: 100%|██████████| 1/1 [00:00<00:00,  6.14it/s, loss=0.0000]\n"
     ]
    },
    {
     "name": "stdout",
     "output_type": "stream",
     "text": [
      "Epoch 79/80 Summary:\n",
      "Train Loss: 0.0001, Valid Loss: 0.0000, Best Validation Loss: 0.0000\n"
     ]
    },
    {
     "name": "stderr",
     "output_type": "stream",
     "text": [
      "Epoch 80/80 [Training]: 100%|██████████| 300/300 [00:28<00:00, 10.48it/s, loss=0.0001]\n",
      "Epoch 80/80 [Validation]: 100%|██████████| 1/1 [00:00<00:00,  6.05it/s, loss=0.0000]\n"
     ]
    },
    {
     "name": "stdout",
     "output_type": "stream",
     "text": [
      "Epoch 80/80 Summary:\n",
      "Train Loss: 0.0001, Valid Loss: 0.0000, Best Validation Loss: 0.0000\n"
     ]
    },
    {
     "data": {
      "image/png": "[encoded data removed]",
      "text/plain": [
       "<Figure size 640x480 with 1 Axes>"
      ]
     },
     "metadata": {},
     "output_type": "display_data"
    }
   ],
   "source": [
    "# scoreなし ver.\n",
    "# best_model = None\n",
    "# best_constant = 0\n",
    "# best_score = -100\n",
    "\n",
    "# grand_train_loss = []\n",
    "# grand_valid_loss = []\n",
    "\n",
    "# for epoch in range(CFG.epochs):\n",
    "#     model.train()\n",
    "#     train_loss = []\n",
    "#     valid_loss = []\n",
    "#     with tqdm(train_loader, desc=f\"Epoch {epoch + 1}/{CFG.epochs} [Training]\") as tq:\n",
    "#         for data in tq:\n",
    "#             normalized_tomogram = data[\"normalized_tomogram\"]\n",
    "#             segmentation_map = data[\"segmentation_map\"]\n",
    "\n",
    "#             normalized_tomogram = padf(normalized_tomogram)\n",
    "#             segmentation_map = padf(segmentation_map)\n",
    "\n",
    "#             normalized_tomogram = normalized_tomogram.cuda()\n",
    "#             segmentation_map = segmentation_map.long().cuda()\n",
    "\n",
    "#             optimizer.zero_grad()\n",
    "\n",
    "#             with autocast():\n",
    "#                 pred = model(preprocess_tensor(normalized_tomogram))\n",
    "#                 loss = seg_loss(pred, segmentation_map)\n",
    "\n",
    "#             scaler.scale(loss).backward()\n",
    "#             scaler.step(optimizer)\n",
    "#             scaler.update()\n",
    "#             scheduler.step()\n",
    "#             train_loss.append(loss.item())\n",
    "\n",
    "#             tq.set_postfix({\"loss\": f\"{np.mean(train_loss):.4f}\"})\n",
    "\n",
    "#     with tqdm(valid_loader, desc=f\"Epoch {epoch + 1}/{CFG.epochs} [Validation]\") as tq:\n",
    "#         for data in tq:\n",
    "#             normalized_tomogram = data[\"normalized_tomogram\"].cuda()\n",
    "#             segmentation_map = data[\"segmentation_map\"].long().cuda()\n",
    "\n",
    "#             normalized_tomogram = padf(normalized_tomogram)\n",
    "#             segmentation_map = padf(segmentation_map)\n",
    "\n",
    "#             with autocast():\n",
    "#                 pred = model(preprocess_tensor(normalized_tomogram))\n",
    "#                 loss = seg_loss(pred, segmentation_map)\n",
    "\n",
    "#             valid_loss.append(loss.item())\n",
    "#             tq.set_postfix({\"loss\": f\"{np.mean(valid_loss):.4f}\"})\n",
    "\n",
    "#     # 損失値を記録\n",
    "#     train_epoch_loss = np.mean(train_loss)\n",
    "#     valid_epoch_loss = np.mean(valid_loss)\n",
    "#     grand_train_loss.append(train_epoch_loss)\n",
    "#     grand_valid_loss.append(valid_epoch_loss)\n",
    "\n",
    "#     # ベストモデルを保存\n",
    "#     if valid_epoch_loss < best_score or best_score == -100:\n",
    "#         best_score = valid_epoch_loss\n",
    "#         best_model = model.state_dict()\n",
    "#         torch.save(best_model, \"final_model.pth\")\n",
    "#         print(f\"New best model saved with validation loss: {best_score:.4f}\")\n",
    "\n",
    "#     print(\n",
    "#         f\"Epoch {epoch + 1}/{CFG.epochs} Summary:\\n\"\n",
    "#         f\"Train Loss: {train_epoch_loss:.4f}, \"\n",
    "#         f\"Valid Loss: {valid_epoch_loss:.4f}, \"\n",
    "#         f\"Best Validation Loss: {best_score:.4f}\"\n",
    "#     )\n",
    "\n",
    "# # train_lossとvalid_lossのプロット\n",
    "# plt.plot(grand_train_loss, label=\"train_loss\")\n",
    "# plt.plot(grand_valid_loss, label=\"valid_loss\")\n",
    "# plt.legend()\n",
    "# plt.title(\"Training and Validation Loss\")\n",
    "# plt.xlabel(\"Epoch\")\n",
    "# plt.ylabel(\"Loss\")\n",
    "# plt.show()"
   ]
  },
  {
   "cell_type": "code",
   "execution_count": 16,
   "metadata": {},
   "outputs": [],
   "source": [
    "# # train_lossとvalid_lossのプロット\n",
    "\n",
    "# plt.plot(grand_train_loss, label=\"train_loss\")\n",
    "# plt.plot(grand_valid_loss, label=\"valid_loss\")\n",
    "# plt.legend()\n",
    "# plt.show()"
   ]
  },
  {
   "cell_type": "code",
   "execution_count": null,
   "metadata": {},
   "outputs": [],
   "source": [
    "# # train_scoreとvalid_scoreのプロット\n",
    "# plt.plot(grand_train_score, label=\"train_score\")\n",
    "# plt.plot(grand_valid_score, label=\"valid_score\")\n",
    "# plt.legend()\n",
    "# plt.show()"
   ]
  },
  {
   "cell_type": "code",
   "execution_count": 18,
   "metadata": {},
   "outputs": [
    {
     "data": {
      "text/plain": [
       "torch.Size([4, 16, 64, 64])"
      ]
     },
     "execution_count": 18,
     "metadata": {},
     "output_type": "execute_result"
    }
   ],
   "source": [
    "# normalized_tomogram.shape"
   ]
  },
  {
   "cell_type": "code",
   "execution_count": null,
   "metadata": {},
   "outputs": [
    {
     "data": {
      "text/plain": [
       "(16, 0, 0)"
      ]
     },
     "execution_count": 19,
     "metadata": {},
     "output_type": "execute_result"
    }
   ],
   "source": [
    "# x = np.random.randn(1, 16, 1, 320, 320)\n",
    "\n",
    "# x[0, :, 0, :0, :0].shape"
   ]
  },
  {
   "cell_type": "code",
   "execution_count": 20,
   "metadata": {},
   "outputs": [],
   "source": [
    "# normalized_tomogram = data[\"normalized_tomogram\"]\n",
    "# segmentation_map = data[\"segmentation_map\"]"
   ]
  }
 ],
 "metadata": {
  "kernelspec": {
   "display_name": "kaggle",
   "language": "python",
   "name": "python3"
  },
  "language_info": {
   "codemirror_mode": {
    "name": "ipython",
    "version": 3
   },
   "file_extension": ".py",
   "mimetype": "text/x-python",
   "name": "python",
   "nbconvert_exporter": "python",
   "pygments_lexer": "ipython3",
   "version": "3.9.16"
  }
 },
 "nbformat": 4,
 "nbformat_minor": 2
}
