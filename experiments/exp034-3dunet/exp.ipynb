{
 "cells": [
  {
   "cell_type": "code",
   "execution_count": 1,
   "metadata": {},
   "outputs": [],
   "source": [
    "import os\n",
    "import zarr\n",
    "import random\n",
    "import json\n",
    "import warnings\n",
    "import numpy as np\n",
    "import pandas as pd\n",
    "import torch.nn as nn\n",
    "from pathlib import Path\n",
    "import matplotlib.pyplot as plt\n",
    "from torch.utils.data import DataLoader, Dataset\n",
    "from collections import defaultdict\n",
    "import sys\n",
    "import torch\n",
    "import torchvision.transforms.functional as F\n",
    "import random\n",
    "\n",
    "warnings.filterwarnings(\"ignore\")\n",
    "sys.path.append(\"./src/\")\n",
    "\n",
    "from src.config import CFG\n",
    "from src.dataloader import (\n",
    "    read_zarr,\n",
    "    read_info_json,\n",
    "    scale_coordinates,\n",
    "    create_dataset,\n",
    "    create_segmentation_map,\n",
    "    EziiDataset,\n",
    "    drop_padding,\n",
    ")\n",
    "from src.network import UNet_2D, aug\n",
    "from pytorch3dunet.unet3d.model import UNet3D, ResidualUNet3D, ResidualUNetSE3D\n",
    "from src.utils import save_images\n",
    "from src.metric import score, create_cls_pos, create_cls_pos_sikii, create_df\n",
    "from metric import visualize_epoch_results"
   ]
  },
  {
   "cell_type": "code",
   "execution_count": 2,
   "metadata": {},
   "outputs": [
    {
     "name": "stdout",
     "output_type": "stream",
     "text": [
      "[('TS_5_4', 'denoised'), ('TS_5_4', 'ctfdeconvolved'), ('TS_5_4', 'wbp'), ('TS_5_4', 'isonetcorrected'), ('TS_73_6', 'denoised'), ('TS_73_6', 'ctfdeconvolved'), ('TS_73_6', 'wbp'), ('TS_73_6', 'isonetcorrected'), ('TS_99_9', 'denoised'), ('TS_99_9', 'ctfdeconvolved'), ('TS_99_9', 'wbp'), ('TS_99_9', 'isonetcorrected'), ('TS_6_4', 'denoised'), ('TS_6_4', 'ctfdeconvolved'), ('TS_6_4', 'wbp'), ('TS_6_4', 'isonetcorrected'), ('TS_69_2', 'denoised'), ('TS_69_2', 'ctfdeconvolved'), ('TS_69_2', 'wbp'), ('TS_69_2', 'isonetcorrected')]\n",
      "[('TS_86_3', 'denoised'), ('TS_6_6', 'denoised')]\n"
     ]
    },
    {
     "name": "stderr",
     "output_type": "stream",
     "text": [
      "  0%|          | 0/20 [00:00<?, ?it/s]\n"
     ]
    },
    {
     "data": {
      "text/plain": [
       "46"
      ]
     },
     "execution_count": 2,
     "metadata": {},
     "output_type": "execute_result"
    }
   ],
   "source": [
    "train_dataset = EziiDataset(\n",
    "    exp_names=CFG.train_exp_names,\n",
    "    base_dir=\"../../inputs/train/\",\n",
    "    particles_name=CFG.particles_name,\n",
    "    resolution=CFG.resolution,\n",
    "    zarr_type=CFG.train_zarr_types,\n",
    "    train=True,\n",
    ")\n",
    "\n",
    "valid_dataset = EziiDataset(\n",
    "    exp_names=CFG.valid_exp_names,\n",
    "    base_dir=\"../../inputs/train/\",\n",
    "    particles_name=CFG.particles_name,\n",
    "    resolution=CFG.resolution,\n",
    "    zarr_type=CFG.valid_zarr_types,\n",
    "    train=True,\n",
    ")\n",
    "\n",
    "from tqdm import tqdm\n",
    "\n",
    "train_loader = DataLoader(train_dataset, batch_size=1, shuffle=True, drop_last=True)\n",
    "train_nshuffle_loader = DataLoader(train_dataset, batch_size=1, shuffle=False)\n",
    "valid_loader = DataLoader(valid_dataset, batch_size=1, shuffle=False)\n",
    "\n",
    "for data in tqdm(train_dataset):\n",
    "    normalized_tomogram = data[\"normalized_tomogram\"]\n",
    "    segmentation_map = data[\"segmentation_map\"]\n",
    "    break\n",
    "\n",
    "# normalized_tomogram =\n",
    "normalized_tomogram.shape[0]"
   ]
  },
  {
   "cell_type": "code",
   "execution_count": 3,
   "metadata": {},
   "outputs": [
    {
     "name": "stdout",
     "output_type": "stream",
     "text": [
      "torch.Size([4, 1, 158, 158])\n",
      "torch.Size([4, 1, 160, 160])\n"
     ]
    }
   ],
   "source": [
    "# torchのpadding用の関数\n",
    "# torch.Size([4, 1, 158, 158]) -> torch.Size([4, 1, 160, 160])\n",
    "\n",
    "\n",
    "class PadToSize(nn.Module):\n",
    "    def __init__(self, resolution):\n",
    "        super().__init__()\n",
    "        if resolution == \"0\":\n",
    "            self.size = 640\n",
    "        elif resolution == \"1\":\n",
    "            self.size = 320\n",
    "        elif resolution == \"2\":\n",
    "            self.size = 160\n",
    "\n",
    "    def forward(self, x):\n",
    "        return F.pad(x, (0, 0, self.size - x.shape[-1], self.size - x.shape[-2]))\n",
    "\n",
    "\n",
    "# test\n",
    "pad = PadToSize(CFG.resolution)\n",
    "test_input = torch.randn((4, 1, 158, 158))\n",
    "print(test_input.shape)\n",
    "print(pad(test_input).shape)"
   ]
  },
  {
   "cell_type": "code",
   "execution_count": 4,
   "metadata": {},
   "outputs": [
    {
     "data": {
      "text/plain": [
       "torch.Size([1, 6, 160, 160, 160])"
      ]
     },
     "execution_count": 4,
     "metadata": {},
     "output_type": "execute_result"
    }
   ],
   "source": [
    "model = UNet3D(in_channels=1, out_channels=6)\n",
    "\n",
    "x = torch.randn((1, 1, 160, 160, 160))  # (batch, channel, x, y, z)\n",
    "\n",
    "model(x).shape"
   ]
  },
  {
   "cell_type": "code",
   "execution_count": 5,
   "metadata": {},
   "outputs": [],
   "source": [
    "# model = UNet_2D().to(\"cuda\")\n",
    "# model.load_state_dict(torch.load(\"./pretrained_model.pth\"))\n",
    "# model.eval()\n",
    "\n",
    "model = UNet3D(in_channels=1, out_channels=7).to(\"cuda\")"
   ]
  },
  {
   "cell_type": "code",
   "execution_count": 6,
   "metadata": {},
   "outputs": [],
   "source": [
    "import matplotlib.pyplot as plt\n",
    "import numpy as np\n",
    "from matplotlib.colors import ListedColormap\n",
    "from matplotlib.patches import Patch\n",
    "\n",
    "# サンプルデータ\n",
    "num_classes = len(CFG.particles_name)  # クラス数\n",
    "colors = plt.cm.tab10(\n",
    "    np.arange(len(CFG.particles_name))\n",
    ")  # \"tab10\" カラーマップから色を取得\n",
    "\n",
    "# ListedColormap を作成\n",
    "class_colormap = ListedColormap(colors)\n",
    "\n",
    "\n",
    "# カラーバー付きプロット\n",
    "def plot_with_colormap(data, title, original_tomogram):\n",
    "    masked_data = np.ma.masked_where(data <= 0, data)  # クラス0をマスク\n",
    "    plt.imshow(original_tomogram, cmap=\"gray\")\n",
    "    im = plt.imshow(masked_data, cmap=class_colormap)\n",
    "    plt.title(title)\n",
    "    plt.axis(\"off\")\n",
    "    return im"
   ]
  },
  {
   "cell_type": "code",
   "execution_count": 7,
   "metadata": {},
   "outputs": [
    {
     "name": "stdout",
     "output_type": "stream",
     "text": [
      "tensor(0.6668)\n"
     ]
    }
   ],
   "source": [
    "class SegmentationLoss(nn.Module):\n",
    "    def __init__(self, criterion):\n",
    "        super().__init__()\n",
    "        self.softmax = nn.Softmax(dim=1)\n",
    "        self.criterion = criterion\n",
    "\n",
    "    def forward(self, output, target):\n",
    "        # output: (batch, cls, 160, 160)\n",
    "        # target: (batch, 160, 160)\n",
    "\n",
    "        # output, (batch, 160, 160, cls) -> (batch, 160, 160, cls)\n",
    "        # output = output.permute(0, 2, 3, 1)\n",
    "        # output = output.reshape(-1, output.shape[-1])  # (batch*160*160, cls)\n",
    "\n",
    "        # target, (batch, 160, 160) -> (batch*160*160)\n",
    "        # target = target.reshape(-1)\n",
    "\n",
    "        loss = self.criterion(output, target)\n",
    "        return loss\n",
    "\n",
    "\n",
    "class DiceLoss(nn.Module):\n",
    "    def __init__(self, smooth=1e-6):\n",
    "        super().__init__()\n",
    "        self.smooth = smooth\n",
    "\n",
    "    def forward(self, output, target):\n",
    "        \"\"\"\n",
    "        output: (batch, cls, height, width)\n",
    "        target: (batch, height, width)\n",
    "        \"\"\"\n",
    "        # Apply softmax to get probabilities\n",
    "        output = nn.functional.softmax(output, dim=1)\n",
    "\n",
    "        # One-hot encode the target to match the number of classes in output\n",
    "        num_classes = output.shape[1]\n",
    "        target_one_hot = (\n",
    "            # F.one_hot(target, num_classes=num_classes).permute(0, 3, 1, 2).float()\n",
    "            nn.functional.one_hot(target, num_classes=num_classes)\n",
    "            .permute(0, 3, 1, 2)\n",
    "            .float()\n",
    "        )\n",
    "\n",
    "        # Flatten for Dice calculation\n",
    "        output_flat = output.reshape(output.shape[0], output.shape[1], -1)\n",
    "        target_flat = target_one_hot.reshape(\n",
    "            target_one_hot.shape[0], target_one_hot.shape[1], -1\n",
    "        )\n",
    "\n",
    "        # Compute intersection and union\n",
    "        intersection = (output_flat * target_flat).sum(dim=2)\n",
    "        union = output_flat.sum(dim=2) + target_flat.sum(dim=2)\n",
    "\n",
    "        # Compute Dice score\n",
    "        dice_score = (2.0 * intersection + self.smooth) / (union + self.smooth)\n",
    "\n",
    "        # Average over classes and batch\n",
    "        dice_loss = 1.0 - dice_score.mean()\n",
    "\n",
    "        return dice_loss\n",
    "\n",
    "\n",
    "# test\n",
    "dice_loss = DiceLoss()\n",
    "output = torch.randn((4, 3, 160, 160))\n",
    "target = torch.randint(0, 3, (4, 160, 160))\n",
    "print(dice_loss(output, target))"
   ]
  },
  {
   "cell_type": "code",
   "execution_count": 8,
   "metadata": {},
   "outputs": [],
   "source": [
    "from transformers import get_cosine_schedule_with_warmup\n",
    "\n",
    "batch_size = 8\n",
    "\n",
    "optimizer = torch.optim.AdamW(model.parameters(), lr=CFG.lr)\n",
    "# criterion = nn.CrossEntropyLoss(\n",
    "#     #  weight=torch.tensor([2.0, 32, 32, 32, 32, 32, 32]).to(\"cuda\")\n",
    "# )\n",
    "criterion = DiceLoss()\n",
    "scheduler = get_cosine_schedule_with_warmup(\n",
    "    optimizer,\n",
    "    num_warmup_steps=CFG.epochs // 10,\n",
    "    num_training_steps=CFG.epochs * len(train_loader),\n",
    "    # * batch_size,\n",
    ")\n",
    "seg_loss = SegmentationLoss(criterion)\n",
    "padf = PadToSize(CFG.resolution)"
   ]
  },
  {
   "cell_type": "code",
   "execution_count": 9,
   "metadata": {},
   "outputs": [
    {
     "name": "stderr",
     "output_type": "stream",
     "text": [
      "Train-Epoch: 0, Loss: 0.8760343015193939: 100%|██████████| 20/20 [00:08<00:00,  2.37it/s]\n",
      "Train-nshuffle-Epoch: 0, Loss: 0.9366754114627838: 100%|██████████| 20/20 [00:03<00:00,  5.42it/s]\n"
     ]
    },
    {
     "name": "stdout",
     "output_type": "stream",
     "text": [
      "EPOCH: 0, TRAIN_SCORE: 0.0, TRAIN_SCORE_LIST: [0.0, 0.0, 0.0, 0.0, 0.0, 0.0, 0.0, 0.0, 0.0, 0.0, 0.0, 0.0, 0.0, 0.0, 0.0, 0.0, 0.0, 0.0, 0.0, 0.0]\n"
     ]
    },
    {
     "name": "stderr",
     "output_type": "stream",
     "text": [
      "Valid-Epoch: 0, Loss: 0.9359114766120911: 100%|██████████| 2/2 [00:00<00:00,  3.58it/s]\n"
     ]
    },
    {
     "name": "stdout",
     "output_type": "stream",
     "text": [
      "EPOCH: 0, VALID_SCORE: 0.0, VALID_SCORE_LIST: [0.0, 0.0]\n"
     ]
    },
    {
     "name": "stderr",
     "output_type": "stream",
     "text": [
      "Train-Epoch: 1, Loss: 0.8251479774713516: 100%|██████████| 20/20 [00:07<00:00,  2.65it/s]\n",
      "Train-nshuffle-Epoch: 1, Loss: 0.9330392271280289: 100%|██████████| 20/20 [00:03<00:00,  5.63it/s]\n"
     ]
    },
    {
     "name": "stdout",
     "output_type": "stream",
     "text": [
      "EPOCH: 1, TRAIN_SCORE: 0.0, TRAIN_SCORE_LIST: [0.0, 0.0, 0.0, 0.0, 0.0, 0.0, 0.0, 0.0, 0.0, 0.0, 0.0, 0.0, 0.0, 0.0, 0.0, 0.0, 0.0, 0.0, 0.0, 0.0]\n"
     ]
    },
    {
     "name": "stderr",
     "output_type": "stream",
     "text": [
      "Valid-Epoch: 1, Loss: 0.9327136874198914: 100%|██████████| 2/2 [00:00<00:00,  3.46it/s]\n"
     ]
    },
    {
     "name": "stdout",
     "output_type": "stream",
     "text": [
      "EPOCH: 1, VALID_SCORE: 0.0, VALID_SCORE_LIST: [0.0, 0.0]\n"
     ]
    },
    {
     "name": "stderr",
     "output_type": "stream",
     "text": [
      "Train-Epoch: 2, Loss: 0.7976220786571503: 100%|██████████| 20/20 [00:07<00:00,  2.62it/s]\n",
      "Train-nshuffle-Epoch: 2, Loss: 0.936639341711998: 100%|██████████| 20/20 [00:03<00:00,  5.66it/s] \n"
     ]
    },
    {
     "name": "stdout",
     "output_type": "stream",
     "text": [
      "EPOCH: 2, TRAIN_SCORE: 0.0, TRAIN_SCORE_LIST: [0.0, 0.0, 0.0, 0.0, 0.0, 0.0, 0.0, 0.0, 0.0, 0.0, 0.0, 0.0, 0.0, 0.0, 0.0, 0.0, 0.0, 0.0, 0.0, 0.0]\n"
     ]
    },
    {
     "name": "stderr",
     "output_type": "stream",
     "text": [
      "Valid-Epoch: 2, Loss: 0.9373492300510406: 100%|██████████| 2/2 [00:00<00:00,  3.41it/s]\n"
     ]
    },
    {
     "name": "stdout",
     "output_type": "stream",
     "text": [
      "EPOCH: 2, VALID_SCORE: 0.0, VALID_SCORE_LIST: [0.0, 0.0]\n"
     ]
    },
    {
     "name": "stderr",
     "output_type": "stream",
     "text": [
      "Train-Epoch: 3, Loss: 0.7792900681495667: 100%|██████████| 20/20 [00:07<00:00,  2.64it/s]\n",
      "Train-nshuffle-Epoch: 3, Loss: 0.9339095383882523: 100%|██████████| 20/20 [00:03<00:00,  5.62it/s]\n"
     ]
    },
    {
     "name": "stdout",
     "output_type": "stream",
     "text": [
      "EPOCH: 3, TRAIN_SCORE: 0.0, TRAIN_SCORE_LIST: [0.0, 0.0, 0.0, 0.0, 0.0, 0.0, 0.0, 0.0, 0.0, 0.0, 0.0, 0.0, 0.0, 0.0, 0.0, 0.0, 0.0, 0.0, 0.0, 0.0]\n"
     ]
    },
    {
     "name": "stderr",
     "output_type": "stream",
     "text": [
      "Valid-Epoch: 3, Loss: 0.934083878993988: 100%|██████████| 2/2 [00:00<00:00,  2.85it/s] \n"
     ]
    },
    {
     "name": "stdout",
     "output_type": "stream",
     "text": [
      "EPOCH: 3, VALID_SCORE: 0.0, VALID_SCORE_LIST: [0.0, 0.0]\n"
     ]
    },
    {
     "name": "stderr",
     "output_type": "stream",
     "text": [
      "Train-Epoch: 4, Loss: 0.5671626508235932: 100%|██████████| 20/20 [00:07<00:00,  2.63it/s]\n",
      "Train-nshuffle-Epoch: 4, Loss: 0.9276525318622589: 100%|██████████| 20/20 [00:03<00:00,  5.56it/s]\n"
     ]
    },
    {
     "name": "stdout",
     "output_type": "stream",
     "text": [
      "EPOCH: 4, TRAIN_SCORE: 0.0, TRAIN_SCORE_LIST: [0.0, 0.0, 0.0, 0.0, 0.0, 0.0, 0.0, 0.0, 0.0, 0.0, 0.0, 0.0, 0.0, 0.0, 0.0, 0.0, 0.0, 0.0, 0.0, 0.0]\n"
     ]
    },
    {
     "name": "stderr",
     "output_type": "stream",
     "text": [
      "Valid-Epoch: 4, Loss: 0.9280945658683777: 100%|██████████| 2/2 [00:00<00:00,  4.26it/s]\n"
     ]
    },
    {
     "name": "stdout",
     "output_type": "stream",
     "text": [
      "EPOCH: 4, VALID_SCORE: 0.0, VALID_SCORE_LIST: [0.0, 0.0]\n"
     ]
    },
    {
     "name": "stderr",
     "output_type": "stream",
     "text": [
      "Train-Epoch: 5, Loss: 0.4625227987766266: 100%|██████████| 20/20 [00:07<00:00,  2.66it/s] \n",
      "Train-nshuffle-Epoch: 5, Loss: 0.9279169589281082: 100%|██████████| 20/20 [00:03<00:00,  5.61it/s]\n"
     ]
    },
    {
     "name": "stdout",
     "output_type": "stream",
     "text": [
      "EPOCH: 5, TRAIN_SCORE: 0.0, TRAIN_SCORE_LIST: [0.0, 0.0, 0.0, 0.0, 0.0, 0.0, 0.0, 0.0, 0.0, 0.0, 0.0, 0.0, 0.0, 0.0, 0.0, 0.0, 0.0, 0.0, 0.0, 0.0]\n"
     ]
    },
    {
     "name": "stderr",
     "output_type": "stream",
     "text": [
      "Valid-Epoch: 5, Loss: 0.928294450044632: 100%|██████████| 2/2 [00:00<00:00,  3.56it/s] \n"
     ]
    },
    {
     "name": "stdout",
     "output_type": "stream",
     "text": [
      "EPOCH: 5, VALID_SCORE: 0.0, VALID_SCORE_LIST: [0.0, 0.0]\n"
     ]
    },
    {
     "name": "stderr",
     "output_type": "stream",
     "text": [
      "Train-Epoch: 6, Loss: 0.44954344630241394: 100%|██████████| 20/20 [00:07<00:00,  2.63it/s]\n",
      "Train-nshuffle-Epoch: 6, Loss: 0.926971235871315: 100%|██████████| 20/20 [00:03<00:00,  5.59it/s] \n"
     ]
    },
    {
     "name": "stdout",
     "output_type": "stream",
     "text": [
      "EPOCH: 6, TRAIN_SCORE: 0.0, TRAIN_SCORE_LIST: [0.0, 0.0, 0.0, 0.0, 0.0, 0.0, 0.0, 0.0, 0.0, 0.0, 0.0, 0.0, 0.0, 0.0, 0.0, 0.0, 0.0, 0.0, 0.0, 0.0]\n"
     ]
    },
    {
     "name": "stderr",
     "output_type": "stream",
     "text": [
      "Valid-Epoch: 6, Loss: 0.9276092350482941: 100%|██████████| 2/2 [00:00<00:00,  3.22it/s]\n"
     ]
    },
    {
     "name": "stdout",
     "output_type": "stream",
     "text": [
      "EPOCH: 6, VALID_SCORE: 0.0, VALID_SCORE_LIST: [0.0, 0.0]\n"
     ]
    },
    {
     "name": "stderr",
     "output_type": "stream",
     "text": [
      "Train-Epoch: 7, Loss: 0.45210694074630736: 100%|██████████| 20/20 [00:07<00:00,  2.63it/s]\n",
      "Train-nshuffle-Epoch: 7, Loss: 0.9268614739179611: 100%|██████████| 20/20 [00:03<00:00,  5.70it/s]\n"
     ]
    },
    {
     "name": "stdout",
     "output_type": "stream",
     "text": [
      "EPOCH: 7, TRAIN_SCORE: 0.0, TRAIN_SCORE_LIST: [0.0, 0.0, 0.0, 0.0, 0.0, 0.0, 0.0, 0.0, 0.0, 0.0, 0.0, 0.0, 0.0, 0.0, 0.0, 0.0, 0.0, 0.0, 0.0, 0.0]\n"
     ]
    },
    {
     "name": "stderr",
     "output_type": "stream",
     "text": [
      "Valid-Epoch: 7, Loss: 0.9277012050151825: 100%|██████████| 2/2 [00:00<00:00,  3.14it/s]\n"
     ]
    },
    {
     "name": "stdout",
     "output_type": "stream",
     "text": [
      "EPOCH: 7, VALID_SCORE: 0.0, VALID_SCORE_LIST: [0.0, 0.0]\n"
     ]
    },
    {
     "name": "stderr",
     "output_type": "stream",
     "text": [
      "Train-Epoch: 8, Loss: 0.44072987139225006: 100%|██████████| 20/20 [00:07<00:00,  2.63it/s]\n",
      "Train-nshuffle-Epoch: 8, Loss: 0.9269799530506134: 100%|██████████| 20/20 [00:03<00:00,  5.61it/s]\n"
     ]
    },
    {
     "name": "stdout",
     "output_type": "stream",
     "text": [
      "EPOCH: 8, TRAIN_SCORE: 0.0, TRAIN_SCORE_LIST: [0.0, 0.0, 0.0, 0.0, 0.0, 0.0, 0.0, 0.0, 0.0, 0.0, 0.0, 0.0, 0.0, 0.0, 0.0, 0.0, 0.0, 0.0, 0.0, 0.0]\n"
     ]
    },
    {
     "name": "stderr",
     "output_type": "stream",
     "text": [
      "Valid-Epoch: 8, Loss: 0.9275303781032562: 100%|██████████| 2/2 [00:00<00:00,  3.04it/s]\n"
     ]
    },
    {
     "name": "stdout",
     "output_type": "stream",
     "text": [
      "EPOCH: 8, VALID_SCORE: 0.0, VALID_SCORE_LIST: [0.0, 0.0]\n"
     ]
    },
    {
     "name": "stderr",
     "output_type": "stream",
     "text": [
      "Train-Epoch: 9, Loss: 0.4371619373559952: 100%|██████████| 20/20 [00:07<00:00,  2.66it/s] \n",
      "Train-nshuffle-Epoch: 9, Loss: 0.9267690688371658: 100%|██████████| 20/20 [00:03<00:00,  5.66it/s]\n"
     ]
    },
    {
     "name": "stdout",
     "output_type": "stream",
     "text": [
      "EPOCH: 9, TRAIN_SCORE: 0.0, TRAIN_SCORE_LIST: [0.0, 0.0, 0.0, 0.0, 0.0, 0.0, 0.0, 0.0, 0.0, 0.0, 0.0, 0.0, 0.0, 0.0, 0.0, 0.0, 0.0, 0.0, 0.0, 0.0]\n"
     ]
    },
    {
     "name": "stderr",
     "output_type": "stream",
     "text": [
      "Valid-Epoch: 9, Loss: 0.9276725649833679: 100%|██████████| 2/2 [00:00<00:00,  3.28it/s]\n"
     ]
    },
    {
     "name": "stdout",
     "output_type": "stream",
     "text": [
      "EPOCH: 9, VALID_SCORE: 0.0, VALID_SCORE_LIST: [0.0, 0.0]\n"
     ]
    },
    {
     "name": "stderr",
     "output_type": "stream",
     "text": [
      "Train-Epoch: 10, Loss: 0.43443517088890077: 100%|██████████| 20/20 [00:07<00:00,  2.62it/s]\n",
      "Train-nshuffle-Epoch: 10, Loss: 0.9267405927181244: 100%|██████████| 20/20 [00:03<00:00,  5.70it/s]\n"
     ]
    },
    {
     "name": "stdout",
     "output_type": "stream",
     "text": [
      "EPOCH: 10, TRAIN_SCORE: 0.0, TRAIN_SCORE_LIST: [0.0, 0.0, 0.0, 0.0, 0.0, 0.0, 0.0, 0.0, 0.0, 0.0, 0.0, 0.0, 0.0, 0.0, 0.0, 0.0, 0.0, 0.0, 0.0, 0.0]\n"
     ]
    },
    {
     "name": "stderr",
     "output_type": "stream",
     "text": [
      "Valid-Epoch: 10, Loss: 0.9278425872325897: 100%|██████████| 2/2 [00:00<00:00,  2.84it/s]\n"
     ]
    },
    {
     "name": "stdout",
     "output_type": "stream",
     "text": [
      "EPOCH: 10, VALID_SCORE: 0.0, VALID_SCORE_LIST: [0.0, 0.0]\n"
     ]
    },
    {
     "name": "stderr",
     "output_type": "stream",
     "text": [
      "Train-Epoch: 11, Loss: 0.43675594925880434: 100%|██████████| 20/20 [00:07<00:00,  2.60it/s]\n",
      "Train-nshuffle-Epoch: 11, Loss: 0.9267271548509598: 100%|██████████| 20/20 [00:03<00:00,  5.67it/s]\n"
     ]
    },
    {
     "name": "stdout",
     "output_type": "stream",
     "text": [
      "EPOCH: 11, TRAIN_SCORE: 0.0, TRAIN_SCORE_LIST: [0.0, 0.0, 0.0, 0.0, 0.0, 0.0, 0.0, 0.0, 0.0, 0.0, 0.0, 0.0, 0.0, 0.0, 0.0, 0.0, 0.0, 0.0, 0.0, 0.0]\n"
     ]
    },
    {
     "name": "stderr",
     "output_type": "stream",
     "text": [
      "Valid-Epoch: 11, Loss: 0.9271942973136902: 100%|██████████| 2/2 [00:00<00:00,  2.86it/s]\n"
     ]
    },
    {
     "name": "stdout",
     "output_type": "stream",
     "text": [
      "EPOCH: 11, VALID_SCORE: 0.0, VALID_SCORE_LIST: [0.0, 0.0]\n"
     ]
    },
    {
     "name": "stderr",
     "output_type": "stream",
     "text": [
      "Train-Epoch: 12, Loss: 0.4355654239654541: 100%|██████████| 20/20 [00:07<00:00,  2.64it/s] \n",
      "Train-nshuffle-Epoch: 12, Loss: 0.9266071051359177: 100%|██████████| 20/20 [00:03<00:00,  5.65it/s]\n"
     ]
    },
    {
     "name": "stdout",
     "output_type": "stream",
     "text": [
      "EPOCH: 12, TRAIN_SCORE: 0.0, TRAIN_SCORE_LIST: [0.0, 0.0, 0.0, 0.0, 0.0, 0.0, 0.0, 0.0, 0.0, 0.0, 0.0, 0.0, 0.0, 0.0, 0.0, 0.0, 0.0, 0.0, 0.0, 0.0]\n"
     ]
    },
    {
     "name": "stderr",
     "output_type": "stream",
     "text": [
      "Valid-Epoch: 12, Loss: 0.9272720217704773: 100%|██████████| 2/2 [00:00<00:00,  3.12it/s]\n"
     ]
    },
    {
     "name": "stdout",
     "output_type": "stream",
     "text": [
      "EPOCH: 12, VALID_SCORE: 0.0, VALID_SCORE_LIST: [0.0, 0.0]\n"
     ]
    },
    {
     "name": "stderr",
     "output_type": "stream",
     "text": [
      "Train-Epoch: 13, Loss: 0.4497534841299057: 100%|██████████| 20/20 [00:07<00:00,  2.62it/s] \n",
      "Train-nshuffle-Epoch: 13, Loss: 0.9290885508060456: 100%|██████████| 20/20 [00:03<00:00,  5.65it/s]\n"
     ]
    },
    {
     "name": "stdout",
     "output_type": "stream",
     "text": [
      "EPOCH: 13, TRAIN_SCORE: 0.0, TRAIN_SCORE_LIST: [0.0, 0.0, 0.0, 0.0, 0.0, 0.0, 0.0, 0.0, 0.0, 0.0, 0.0, 0.0, 0.0, 0.0, 0.0, 0.0, 0.0, 0.0, 0.0, 0.0]\n"
     ]
    },
    {
     "name": "stderr",
     "output_type": "stream",
     "text": [
      "Valid-Epoch: 13, Loss: 0.9290755391120911: 100%|██████████| 2/2 [00:00<00:00,  3.41it/s]\n"
     ]
    },
    {
     "name": "stdout",
     "output_type": "stream",
     "text": [
      "EPOCH: 13, VALID_SCORE: 0.0, VALID_SCORE_LIST: [0.0, 0.0]\n"
     ]
    },
    {
     "name": "stderr",
     "output_type": "stream",
     "text": [
      "Train-Epoch: 14, Loss: 0.47541589140892027: 100%|██████████| 20/20 [00:07<00:00,  2.66it/s]\n",
      "Train-nshuffle-Epoch: 14, Loss: 0.9286354899406433: 100%|██████████| 20/20 [00:03<00:00,  5.67it/s]\n"
     ]
    },
    {
     "name": "stdout",
     "output_type": "stream",
     "text": [
      "EPOCH: 14, TRAIN_SCORE: 0.0, TRAIN_SCORE_LIST: [0.0, 0.0, 0.0, 0.0, 0.0, 0.0, 0.0, 0.0, 0.0, 0.0, 0.0, 0.0, 0.0, 0.0, 0.0, 0.0, 0.0, 0.0, 0.0, 0.0]\n"
     ]
    },
    {
     "name": "stderr",
     "output_type": "stream",
     "text": [
      "Valid-Epoch: 14, Loss: 0.9285693466663361: 100%|██████████| 2/2 [00:00<00:00,  4.33it/s]\n"
     ]
    },
    {
     "name": "stdout",
     "output_type": "stream",
     "text": [
      "EPOCH: 14, VALID_SCORE: 0.0, VALID_SCORE_LIST: [0.0, 0.0]\n"
     ]
    },
    {
     "name": "stderr",
     "output_type": "stream",
     "text": [
      "Train-Epoch: 15, Loss: 0.4737293869256973: 100%|██████████| 20/20 [00:07<00:00,  2.65it/s] \n",
      "Train-nshuffle-Epoch: 15, Loss: 0.9285515993833542: 100%|██████████| 20/20 [00:03<00:00,  5.64it/s]\n"
     ]
    },
    {
     "name": "stdout",
     "output_type": "stream",
     "text": [
      "EPOCH: 15, TRAIN_SCORE: 0.0, TRAIN_SCORE_LIST: [0.0, 0.0, 0.0, 0.0, 0.0, 0.0, 0.0, 0.0, 0.0, 0.0, 0.0, 0.0, 0.0, 0.0, 0.0, 0.0, 0.0, 0.0, 0.0, 0.0]\n"
     ]
    },
    {
     "name": "stderr",
     "output_type": "stream",
     "text": [
      "Valid-Epoch: 15, Loss: 0.9284624457359314: 100%|██████████| 2/2 [00:00<00:00,  3.61it/s]\n"
     ]
    },
    {
     "name": "stdout",
     "output_type": "stream",
     "text": [
      "EPOCH: 15, VALID_SCORE: 0.0, VALID_SCORE_LIST: [0.0, 0.0]\n"
     ]
    },
    {
     "name": "stderr",
     "output_type": "stream",
     "text": [
      "Train-Epoch: 16, Loss: 0.4737366557121277: 100%|██████████| 20/20 [00:07<00:00,  2.64it/s] \n",
      "Train-nshuffle-Epoch: 16, Loss: 0.928551173210144: 100%|██████████| 20/20 [00:03<00:00,  5.65it/s] \n"
     ]
    },
    {
     "name": "stdout",
     "output_type": "stream",
     "text": [
      "EPOCH: 16, TRAIN_SCORE: 0.0, TRAIN_SCORE_LIST: [0.0, 0.0, 0.0, 0.0, 0.0, 0.0, 0.0, 0.0, 0.0, 0.0, 0.0, 0.0, 0.0, 0.0, 0.0, 0.0, 0.0, 0.0, 0.0, 0.0]\n"
     ]
    },
    {
     "name": "stderr",
     "output_type": "stream",
     "text": [
      "Valid-Epoch: 16, Loss: 0.9284622669219971: 100%|██████████| 2/2 [00:00<00:00,  2.72it/s]\n"
     ]
    },
    {
     "name": "stdout",
     "output_type": "stream",
     "text": [
      "EPOCH: 16, VALID_SCORE: 0.0, VALID_SCORE_LIST: [0.0, 0.0]\n"
     ]
    },
    {
     "name": "stderr",
     "output_type": "stream",
     "text": [
      "Train-Epoch: 17, Loss: 0.4737366557121277: 100%|██████████| 20/20 [00:07<00:00,  2.64it/s] \n",
      "Train-nshuffle-Epoch: 17, Loss: 0.9285511463880539: 100%|██████████| 20/20 [00:03<00:00,  5.67it/s]\n"
     ]
    },
    {
     "name": "stdout",
     "output_type": "stream",
     "text": [
      "EPOCH: 17, TRAIN_SCORE: 0.0, TRAIN_SCORE_LIST: [0.0, 0.0, 0.0, 0.0, 0.0, 0.0, 0.0, 0.0, 0.0, 0.0, 0.0, 0.0, 0.0, 0.0, 0.0, 0.0, 0.0, 0.0, 0.0, 0.0]\n"
     ]
    },
    {
     "name": "stderr",
     "output_type": "stream",
     "text": [
      "Valid-Epoch: 17, Loss: 0.9284622371196747: 100%|██████████| 2/2 [00:00<00:00,  3.23it/s]\n"
     ]
    },
    {
     "name": "stdout",
     "output_type": "stream",
     "text": [
      "EPOCH: 17, VALID_SCORE: 0.0, VALID_SCORE_LIST: [0.0, 0.0]\n"
     ]
    },
    {
     "name": "stderr",
     "output_type": "stream",
     "text": [
      "Train-Epoch: 18, Loss: 0.4737366557121277: 100%|██████████| 20/20 [00:07<00:00,  2.63it/s] \n",
      "Train-nshuffle-Epoch: 18, Loss: 0.9285511404275895: 100%|██████████| 20/20 [00:03<00:00,  5.59it/s]\n"
     ]
    },
    {
     "name": "stdout",
     "output_type": "stream",
     "text": [
      "EPOCH: 18, TRAIN_SCORE: 0.0, TRAIN_SCORE_LIST: [0.0, 0.0, 0.0, 0.0, 0.0, 0.0, 0.0, 0.0, 0.0, 0.0, 0.0, 0.0, 0.0, 0.0, 0.0, 0.0, 0.0, 0.0, 0.0, 0.0]\n"
     ]
    },
    {
     "name": "stderr",
     "output_type": "stream",
     "text": [
      "Valid-Epoch: 18, Loss: 0.9284622371196747: 100%|██████████| 2/2 [00:00<00:00,  4.11it/s]\n"
     ]
    },
    {
     "name": "stdout",
     "output_type": "stream",
     "text": [
      "EPOCH: 18, VALID_SCORE: 0.0, VALID_SCORE_LIST: [0.0, 0.0]\n"
     ]
    },
    {
     "name": "stderr",
     "output_type": "stream",
     "text": [
      "Train-Epoch: 19, Loss: 0.4737366557121277: 100%|██████████| 20/20 [00:07<00:00,  2.67it/s] \n",
      "Train-nshuffle-Epoch: 19, Loss: 0.9285511404275895: 100%|██████████| 20/20 [00:03<00:00,  5.56it/s]\n"
     ]
    },
    {
     "name": "stdout",
     "output_type": "stream",
     "text": [
      "EPOCH: 19, TRAIN_SCORE: 0.0, TRAIN_SCORE_LIST: [0.0, 0.0, 0.0, 0.0, 0.0, 0.0, 0.0, 0.0, 0.0, 0.0, 0.0, 0.0, 0.0, 0.0, 0.0, 0.0, 0.0, 0.0, 0.0, 0.0]\n"
     ]
    },
    {
     "name": "stderr",
     "output_type": "stream",
     "text": [
      "Valid-Epoch: 19, Loss: 0.9284622371196747: 100%|██████████| 2/2 [00:00<00:00,  2.85it/s]\n"
     ]
    },
    {
     "name": "stdout",
     "output_type": "stream",
     "text": [
      "EPOCH: 19, VALID_SCORE: 0.0, VALID_SCORE_LIST: [0.0, 0.0]\n"
     ]
    },
    {
     "name": "stderr",
     "output_type": "stream",
     "text": [
      "Train-Epoch: 20, Loss: 0.4737366557121277: 100%|██████████| 20/20 [00:07<00:00,  2.66it/s] \n",
      "Train-nshuffle-Epoch: 20, Loss: 0.9285511404275895: 100%|██████████| 20/20 [00:03<00:00,  5.54it/s]\n"
     ]
    },
    {
     "name": "stdout",
     "output_type": "stream",
     "text": [
      "EPOCH: 20, TRAIN_SCORE: 0.0, TRAIN_SCORE_LIST: [0.0, 0.0, 0.0, 0.0, 0.0, 0.0, 0.0, 0.0, 0.0, 0.0, 0.0, 0.0, 0.0, 0.0, 0.0, 0.0, 0.0, 0.0, 0.0, 0.0]\n"
     ]
    },
    {
     "name": "stderr",
     "output_type": "stream",
     "text": [
      "Valid-Epoch: 20, Loss: 0.9284622371196747: 100%|██████████| 2/2 [00:00<00:00,  2.72it/s]\n"
     ]
    },
    {
     "name": "stdout",
     "output_type": "stream",
     "text": [
      "EPOCH: 20, VALID_SCORE: 0.0, VALID_SCORE_LIST: [0.0, 0.0]\n"
     ]
    },
    {
     "name": "stderr",
     "output_type": "stream",
     "text": [
      "Train-Epoch: 21, Loss: 0.4737366557121277: 100%|██████████| 20/20 [00:07<00:00,  2.66it/s] \n",
      "Train-nshuffle-Epoch: 21, Loss: 0.9285511404275895: 100%|██████████| 20/20 [00:03<00:00,  5.63it/s]\n"
     ]
    },
    {
     "name": "stdout",
     "output_type": "stream",
     "text": [
      "EPOCH: 21, TRAIN_SCORE: 0.0, TRAIN_SCORE_LIST: [0.0, 0.0, 0.0, 0.0, 0.0, 0.0, 0.0, 0.0, 0.0, 0.0, 0.0, 0.0, 0.0, 0.0, 0.0, 0.0, 0.0, 0.0, 0.0, 0.0]\n"
     ]
    },
    {
     "name": "stderr",
     "output_type": "stream",
     "text": [
      "Valid-Epoch: 21, Loss: 0.9284622371196747: 100%|██████████| 2/2 [00:00<00:00,  2.80it/s]\n"
     ]
    },
    {
     "name": "stdout",
     "output_type": "stream",
     "text": [
      "EPOCH: 21, VALID_SCORE: 0.0, VALID_SCORE_LIST: [0.0, 0.0]\n"
     ]
    },
    {
     "name": "stderr",
     "output_type": "stream",
     "text": [
      "Train-Epoch: 22, Loss: 0.4737366557121277: 100%|██████████| 20/20 [00:07<00:00,  2.66it/s] \n",
      "Train-nshuffle-Epoch: 22, Loss: 0.9285511404275895: 100%|██████████| 20/20 [00:03<00:00,  5.65it/s]\n"
     ]
    },
    {
     "name": "stdout",
     "output_type": "stream",
     "text": [
      "EPOCH: 22, TRAIN_SCORE: 0.0, TRAIN_SCORE_LIST: [0.0, 0.0, 0.0, 0.0, 0.0, 0.0, 0.0, 0.0, 0.0, 0.0, 0.0, 0.0, 0.0, 0.0, 0.0, 0.0, 0.0, 0.0, 0.0, 0.0]\n"
     ]
    },
    {
     "name": "stderr",
     "output_type": "stream",
     "text": [
      "Valid-Epoch: 22, Loss: 0.9284622371196747: 100%|██████████| 2/2 [00:00<00:00,  4.22it/s]\n"
     ]
    },
    {
     "name": "stdout",
     "output_type": "stream",
     "text": [
      "EPOCH: 22, VALID_SCORE: 0.0, VALID_SCORE_LIST: [0.0, 0.0]\n"
     ]
    },
    {
     "name": "stderr",
     "output_type": "stream",
     "text": [
      "Train-Epoch: 23, Loss: 0.4737366557121277: 100%|██████████| 20/20 [00:07<00:00,  2.66it/s] \n",
      "Train-nshuffle-Epoch: 23, Loss: 0.9285511404275895: 100%|██████████| 20/20 [00:03<00:00,  5.69it/s]\n"
     ]
    },
    {
     "name": "stdout",
     "output_type": "stream",
     "text": [
      "EPOCH: 23, TRAIN_SCORE: 0.0, TRAIN_SCORE_LIST: [0.0, 0.0, 0.0, 0.0, 0.0, 0.0, 0.0, 0.0, 0.0, 0.0, 0.0, 0.0, 0.0, 0.0, 0.0, 0.0, 0.0, 0.0, 0.0, 0.0]\n"
     ]
    },
    {
     "name": "stderr",
     "output_type": "stream",
     "text": [
      "Valid-Epoch: 23, Loss: 0.9284622371196747: 100%|██████████| 2/2 [00:00<00:00,  2.78it/s]\n"
     ]
    },
    {
     "name": "stdout",
     "output_type": "stream",
     "text": [
      "EPOCH: 23, VALID_SCORE: 0.0, VALID_SCORE_LIST: [0.0, 0.0]\n"
     ]
    },
    {
     "name": "stderr",
     "output_type": "stream",
     "text": [
      "Train-Epoch: 24, Loss: 0.4737366557121277: 100%|██████████| 20/20 [00:07<00:00,  2.66it/s] \n",
      "Train-nshuffle-Epoch: 24, Loss: 0.9285511404275895: 100%|██████████| 20/20 [00:03<00:00,  5.67it/s]\n"
     ]
    },
    {
     "name": "stdout",
     "output_type": "stream",
     "text": [
      "EPOCH: 24, TRAIN_SCORE: 0.0, TRAIN_SCORE_LIST: [0.0, 0.0, 0.0, 0.0, 0.0, 0.0, 0.0, 0.0, 0.0, 0.0, 0.0, 0.0, 0.0, 0.0, 0.0, 0.0, 0.0, 0.0, 0.0, 0.0]\n"
     ]
    },
    {
     "name": "stderr",
     "output_type": "stream",
     "text": [
      "Valid-Epoch: 24, Loss: 0.9284622371196747: 100%|██████████| 2/2 [00:00<00:00,  2.84it/s]\n"
     ]
    },
    {
     "name": "stdout",
     "output_type": "stream",
     "text": [
      "EPOCH: 24, VALID_SCORE: 0.0, VALID_SCORE_LIST: [0.0, 0.0]\n"
     ]
    },
    {
     "name": "stderr",
     "output_type": "stream",
     "text": [
      "Train-Epoch: 25, Loss: 0.4737366557121277: 100%|██████████| 20/20 [00:07<00:00,  2.65it/s] \n",
      "Train-nshuffle-Epoch: 25, Loss: 0.9285511404275895: 100%|██████████| 20/20 [00:03<00:00,  5.68it/s]\n"
     ]
    },
    {
     "name": "stdout",
     "output_type": "stream",
     "text": [
      "EPOCH: 25, TRAIN_SCORE: 0.0, TRAIN_SCORE_LIST: [0.0, 0.0, 0.0, 0.0, 0.0, 0.0, 0.0, 0.0, 0.0, 0.0, 0.0, 0.0, 0.0, 0.0, 0.0, 0.0, 0.0, 0.0, 0.0, 0.0]\n"
     ]
    },
    {
     "name": "stderr",
     "output_type": "stream",
     "text": [
      "Valid-Epoch: 25, Loss: 0.9284622371196747: 100%|██████████| 2/2 [00:00<00:00,  3.76it/s]\n"
     ]
    },
    {
     "name": "stdout",
     "output_type": "stream",
     "text": [
      "EPOCH: 25, VALID_SCORE: 0.0, VALID_SCORE_LIST: [0.0, 0.0]\n"
     ]
    },
    {
     "name": "stderr",
     "output_type": "stream",
     "text": [
      "Train-Epoch: 26, Loss: 0.4737366557121277: 100%|██████████| 20/20 [00:07<00:00,  2.66it/s] \n",
      "Train-nshuffle-Epoch: 26, Loss: 0.9285511404275895: 100%|██████████| 20/20 [00:03<00:00,  5.72it/s]\n"
     ]
    },
    {
     "name": "stdout",
     "output_type": "stream",
     "text": [
      "EPOCH: 26, TRAIN_SCORE: 0.0, TRAIN_SCORE_LIST: [0.0, 0.0, 0.0, 0.0, 0.0, 0.0, 0.0, 0.0, 0.0, 0.0, 0.0, 0.0, 0.0, 0.0, 0.0, 0.0, 0.0, 0.0, 0.0, 0.0]\n"
     ]
    },
    {
     "name": "stderr",
     "output_type": "stream",
     "text": [
      "Valid-Epoch: 26, Loss: 0.9284622371196747: 100%|██████████| 2/2 [00:00<00:00,  3.19it/s]\n"
     ]
    },
    {
     "name": "stdout",
     "output_type": "stream",
     "text": [
      "EPOCH: 26, VALID_SCORE: 0.0, VALID_SCORE_LIST: [0.0, 0.0]\n"
     ]
    },
    {
     "name": "stderr",
     "output_type": "stream",
     "text": [
      "Train-Epoch: 27, Loss: 0.4737366557121277: 100%|██████████| 20/20 [00:07<00:00,  2.62it/s] \n",
      "Train-nshuffle-Epoch: 27, Loss: 0.9285511404275895: 100%|██████████| 20/20 [00:03<00:00,  5.69it/s]\n"
     ]
    },
    {
     "name": "stdout",
     "output_type": "stream",
     "text": [
      "EPOCH: 27, TRAIN_SCORE: 0.0, TRAIN_SCORE_LIST: [0.0, 0.0, 0.0, 0.0, 0.0, 0.0, 0.0, 0.0, 0.0, 0.0, 0.0, 0.0, 0.0, 0.0, 0.0, 0.0, 0.0, 0.0, 0.0, 0.0]\n"
     ]
    },
    {
     "name": "stderr",
     "output_type": "stream",
     "text": [
      "Valid-Epoch: 27, Loss: 0.9284622371196747: 100%|██████████| 2/2 [00:00<00:00,  3.60it/s]\n"
     ]
    },
    {
     "name": "stdout",
     "output_type": "stream",
     "text": [
      "EPOCH: 27, VALID_SCORE: 0.0, VALID_SCORE_LIST: [0.0, 0.0]\n"
     ]
    },
    {
     "name": "stderr",
     "output_type": "stream",
     "text": [
      "Train-Epoch: 28, Loss: 0.4737366557121277: 100%|██████████| 20/20 [00:07<00:00,  2.65it/s] \n",
      "Train-nshuffle-Epoch: 28, Loss: 0.9285511404275895: 100%|██████████| 20/20 [00:03<00:00,  5.65it/s]\n"
     ]
    },
    {
     "name": "stdout",
     "output_type": "stream",
     "text": [
      "EPOCH: 28, TRAIN_SCORE: 0.0, TRAIN_SCORE_LIST: [0.0, 0.0, 0.0, 0.0, 0.0, 0.0, 0.0, 0.0, 0.0, 0.0, 0.0, 0.0, 0.0, 0.0, 0.0, 0.0, 0.0, 0.0, 0.0, 0.0]\n"
     ]
    },
    {
     "name": "stderr",
     "output_type": "stream",
     "text": [
      "Valid-Epoch: 28, Loss: 0.9284622371196747: 100%|██████████| 2/2 [00:00<00:00,  3.30it/s]\n"
     ]
    },
    {
     "name": "stdout",
     "output_type": "stream",
     "text": [
      "EPOCH: 28, VALID_SCORE: 0.0, VALID_SCORE_LIST: [0.0, 0.0]\n"
     ]
    },
    {
     "name": "stderr",
     "output_type": "stream",
     "text": [
      "Train-Epoch: 29, Loss: 0.4737366557121277: 100%|██████████| 20/20 [00:07<00:00,  2.61it/s] \n",
      "Train-nshuffle-Epoch: 29, Loss: 0.9285511404275895: 100%|██████████| 20/20 [00:03<00:00,  5.69it/s]\n"
     ]
    },
    {
     "name": "stdout",
     "output_type": "stream",
     "text": [
      "EPOCH: 29, TRAIN_SCORE: 0.0, TRAIN_SCORE_LIST: [0.0, 0.0, 0.0, 0.0, 0.0, 0.0, 0.0, 0.0, 0.0, 0.0, 0.0, 0.0, 0.0, 0.0, 0.0, 0.0, 0.0, 0.0, 0.0, 0.0]\n"
     ]
    },
    {
     "name": "stderr",
     "output_type": "stream",
     "text": [
      "Valid-Epoch: 29, Loss: 0.9284622371196747: 100%|██████████| 2/2 [00:00<00:00,  3.11it/s]\n"
     ]
    },
    {
     "name": "stdout",
     "output_type": "stream",
     "text": [
      "EPOCH: 29, VALID_SCORE: 0.0, VALID_SCORE_LIST: [0.0, 0.0]\n"
     ]
    },
    {
     "name": "stderr",
     "output_type": "stream",
     "text": [
      "Train-Epoch: 30, Loss: 0.4737366557121277: 100%|██████████| 20/20 [00:07<00:00,  2.65it/s] \n",
      "Train-nshuffle-Epoch: 30, Loss: 0.9285511404275895: 100%|██████████| 20/20 [00:03<00:00,  5.67it/s]\n"
     ]
    },
    {
     "name": "stdout",
     "output_type": "stream",
     "text": [
      "EPOCH: 30, TRAIN_SCORE: 0.0, TRAIN_SCORE_LIST: [0.0, 0.0, 0.0, 0.0, 0.0, 0.0, 0.0, 0.0, 0.0, 0.0, 0.0, 0.0, 0.0, 0.0, 0.0, 0.0, 0.0, 0.0, 0.0, 0.0]\n"
     ]
    },
    {
     "name": "stderr",
     "output_type": "stream",
     "text": [
      "Valid-Epoch: 30, Loss: 0.9284622371196747: 100%|██████████| 2/2 [00:00<00:00,  2.85it/s]\n"
     ]
    },
    {
     "name": "stdout",
     "output_type": "stream",
     "text": [
      "EPOCH: 30, VALID_SCORE: 0.0, VALID_SCORE_LIST: [0.0, 0.0]\n"
     ]
    },
    {
     "name": "stderr",
     "output_type": "stream",
     "text": [
      "Train-Epoch: 31, Loss: 0.4737366557121277: 100%|██████████| 20/20 [00:07<00:00,  2.64it/s] \n",
      "Train-nshuffle-Epoch: 31, Loss: 0.9285511404275895: 100%|██████████| 20/20 [00:03<00:00,  5.65it/s]\n"
     ]
    },
    {
     "name": "stdout",
     "output_type": "stream",
     "text": [
      "EPOCH: 31, TRAIN_SCORE: 0.0, TRAIN_SCORE_LIST: [0.0, 0.0, 0.0, 0.0, 0.0, 0.0, 0.0, 0.0, 0.0, 0.0, 0.0, 0.0, 0.0, 0.0, 0.0, 0.0, 0.0, 0.0, 0.0, 0.0]\n"
     ]
    },
    {
     "name": "stderr",
     "output_type": "stream",
     "text": [
      "Valid-Epoch: 31, Loss: 0.9284622371196747: 100%|██████████| 2/2 [00:00<00:00,  3.37it/s]\n"
     ]
    },
    {
     "name": "stdout",
     "output_type": "stream",
     "text": [
      "EPOCH: 31, VALID_SCORE: 0.0, VALID_SCORE_LIST: [0.0, 0.0]\n"
     ]
    },
    {
     "name": "stderr",
     "output_type": "stream",
     "text": [
      "Train-Epoch: 32, Loss: 0.4737366557121277: 100%|██████████| 20/20 [00:07<00:00,  2.67it/s] \n",
      "Train-nshuffle-Epoch: 32, Loss: 0.9285511404275895: 100%|██████████| 20/20 [00:03<00:00,  5.69it/s]\n"
     ]
    },
    {
     "name": "stdout",
     "output_type": "stream",
     "text": [
      "EPOCH: 32, TRAIN_SCORE: 0.0, TRAIN_SCORE_LIST: [0.0, 0.0, 0.0, 0.0, 0.0, 0.0, 0.0, 0.0, 0.0, 0.0, 0.0, 0.0, 0.0, 0.0, 0.0, 0.0, 0.0, 0.0, 0.0, 0.0]\n"
     ]
    },
    {
     "name": "stderr",
     "output_type": "stream",
     "text": [
      "Valid-Epoch: 32, Loss: 0.9284622371196747: 100%|██████████| 2/2 [00:00<00:00,  3.04it/s]\n"
     ]
    },
    {
     "name": "stdout",
     "output_type": "stream",
     "text": [
      "EPOCH: 32, VALID_SCORE: 0.0, VALID_SCORE_LIST: [0.0, 0.0]\n"
     ]
    },
    {
     "name": "stderr",
     "output_type": "stream",
     "text": [
      "Train-Epoch: 33, Loss: 0.4737366557121277: 100%|██████████| 20/20 [00:07<00:00,  2.66it/s] \n",
      "Train-nshuffle-Epoch: 33, Loss: 0.9285511404275895: 100%|██████████| 20/20 [00:03<00:00,  5.69it/s]\n"
     ]
    },
    {
     "name": "stdout",
     "output_type": "stream",
     "text": [
      "EPOCH: 33, TRAIN_SCORE: 0.0, TRAIN_SCORE_LIST: [0.0, 0.0, 0.0, 0.0, 0.0, 0.0, 0.0, 0.0, 0.0, 0.0, 0.0, 0.0, 0.0, 0.0, 0.0, 0.0, 0.0, 0.0, 0.0, 0.0]\n"
     ]
    },
    {
     "name": "stderr",
     "output_type": "stream",
     "text": [
      "Valid-Epoch: 33, Loss: 0.9284622371196747: 100%|██████████| 2/2 [00:00<00:00,  3.24it/s]\n"
     ]
    },
    {
     "name": "stdout",
     "output_type": "stream",
     "text": [
      "EPOCH: 33, VALID_SCORE: 0.0, VALID_SCORE_LIST: [0.0, 0.0]\n"
     ]
    },
    {
     "name": "stderr",
     "output_type": "stream",
     "text": [
      "Train-Epoch: 34, Loss: 0.4737366557121277: 100%|██████████| 20/20 [00:07<00:00,  2.65it/s] \n",
      "Train-nshuffle-Epoch: 34, Loss: 0.9285511404275895: 100%|██████████| 20/20 [00:03<00:00,  5.57it/s]\n"
     ]
    },
    {
     "name": "stdout",
     "output_type": "stream",
     "text": [
      "EPOCH: 34, TRAIN_SCORE: 0.0, TRAIN_SCORE_LIST: [0.0, 0.0, 0.0, 0.0, 0.0, 0.0, 0.0, 0.0, 0.0, 0.0, 0.0, 0.0, 0.0, 0.0, 0.0, 0.0, 0.0, 0.0, 0.0, 0.0]\n"
     ]
    },
    {
     "name": "stderr",
     "output_type": "stream",
     "text": [
      "Valid-Epoch: 34, Loss: 0.9284622371196747: 100%|██████████| 2/2 [00:00<00:00,  3.44it/s]\n"
     ]
    },
    {
     "name": "stdout",
     "output_type": "stream",
     "text": [
      "EPOCH: 34, VALID_SCORE: 0.0, VALID_SCORE_LIST: [0.0, 0.0]\n"
     ]
    },
    {
     "name": "stderr",
     "output_type": "stream",
     "text": [
      "Train-Epoch: 35, Loss: 0.4737366557121277: 100%|██████████| 20/20 [00:07<00:00,  2.64it/s] \n",
      "Train-nshuffle-Epoch: 35, Loss: 0.9285511404275895: 100%|██████████| 20/20 [00:03<00:00,  5.66it/s]\n"
     ]
    },
    {
     "name": "stdout",
     "output_type": "stream",
     "text": [
      "EPOCH: 35, TRAIN_SCORE: 0.0, TRAIN_SCORE_LIST: [0.0, 0.0, 0.0, 0.0, 0.0, 0.0, 0.0, 0.0, 0.0, 0.0, 0.0, 0.0, 0.0, 0.0, 0.0, 0.0, 0.0, 0.0, 0.0, 0.0]\n"
     ]
    },
    {
     "name": "stderr",
     "output_type": "stream",
     "text": [
      "Valid-Epoch: 35, Loss: 0.9284622371196747: 100%|██████████| 2/2 [00:00<00:00,  3.12it/s]\n"
     ]
    },
    {
     "name": "stdout",
     "output_type": "stream",
     "text": [
      "EPOCH: 35, VALID_SCORE: 0.0, VALID_SCORE_LIST: [0.0, 0.0]\n"
     ]
    },
    {
     "name": "stderr",
     "output_type": "stream",
     "text": [
      "Train-Epoch: 36, Loss: 0.4737366557121277: 100%|██████████| 20/20 [00:07<00:00,  2.66it/s] \n",
      "Train-nshuffle-Epoch: 36, Loss: 0.9285511404275895: 100%|██████████| 20/20 [00:03<00:00,  5.58it/s]\n"
     ]
    },
    {
     "name": "stdout",
     "output_type": "stream",
     "text": [
      "EPOCH: 36, TRAIN_SCORE: 0.0, TRAIN_SCORE_LIST: [0.0, 0.0, 0.0, 0.0, 0.0, 0.0, 0.0, 0.0, 0.0, 0.0, 0.0, 0.0, 0.0, 0.0, 0.0, 0.0, 0.0, 0.0, 0.0, 0.0]\n"
     ]
    },
    {
     "name": "stderr",
     "output_type": "stream",
     "text": [
      "Valid-Epoch: 36, Loss: 0.9284622371196747: 100%|██████████| 2/2 [00:00<00:00,  3.66it/s]\n"
     ]
    },
    {
     "name": "stdout",
     "output_type": "stream",
     "text": [
      "EPOCH: 36, VALID_SCORE: 0.0, VALID_SCORE_LIST: [0.0, 0.0]\n"
     ]
    },
    {
     "name": "stderr",
     "output_type": "stream",
     "text": [
      "Train-Epoch: 37, Loss: 0.4737366557121277: 100%|██████████| 20/20 [00:07<00:00,  2.66it/s] \n",
      "Train-nshuffle-Epoch: 37, Loss: 0.9285511404275895: 100%|██████████| 20/20 [00:03<00:00,  5.64it/s]\n"
     ]
    },
    {
     "name": "stdout",
     "output_type": "stream",
     "text": [
      "EPOCH: 37, TRAIN_SCORE: 0.0, TRAIN_SCORE_LIST: [0.0, 0.0, 0.0, 0.0, 0.0, 0.0, 0.0, 0.0, 0.0, 0.0, 0.0, 0.0, 0.0, 0.0, 0.0, 0.0, 0.0, 0.0, 0.0, 0.0]\n"
     ]
    },
    {
     "name": "stderr",
     "output_type": "stream",
     "text": [
      "Valid-Epoch: 37, Loss: 0.9284622371196747: 100%|██████████| 2/2 [00:00<00:00,  3.64it/s]\n"
     ]
    },
    {
     "name": "stdout",
     "output_type": "stream",
     "text": [
      "EPOCH: 37, VALID_SCORE: 0.0, VALID_SCORE_LIST: [0.0, 0.0]\n"
     ]
    },
    {
     "name": "stderr",
     "output_type": "stream",
     "text": [
      "Train-Epoch: 38, Loss: 0.4737366557121277: 100%|██████████| 20/20 [00:07<00:00,  2.65it/s] \n",
      "Train-nshuffle-Epoch: 38, Loss: 0.9285511404275895: 100%|██████████| 20/20 [00:03<00:00,  5.61it/s]\n"
     ]
    },
    {
     "name": "stdout",
     "output_type": "stream",
     "text": [
      "EPOCH: 38, TRAIN_SCORE: 0.0, TRAIN_SCORE_LIST: [0.0, 0.0, 0.0, 0.0, 0.0, 0.0, 0.0, 0.0, 0.0, 0.0, 0.0, 0.0, 0.0, 0.0, 0.0, 0.0, 0.0, 0.0, 0.0, 0.0]\n"
     ]
    },
    {
     "name": "stderr",
     "output_type": "stream",
     "text": [
      "Valid-Epoch: 38, Loss: 0.9284622371196747: 100%|██████████| 2/2 [00:00<00:00,  3.35it/s]\n"
     ]
    },
    {
     "name": "stdout",
     "output_type": "stream",
     "text": [
      "EPOCH: 38, VALID_SCORE: 0.0, VALID_SCORE_LIST: [0.0, 0.0]\n"
     ]
    },
    {
     "name": "stderr",
     "output_type": "stream",
     "text": [
      "Train-Epoch: 39, Loss: 0.4737366557121277: 100%|██████████| 20/20 [00:07<00:00,  2.64it/s] \n",
      "Train-nshuffle-Epoch: 39, Loss: 0.9285511404275895: 100%|██████████| 20/20 [00:03<00:00,  5.63it/s]\n"
     ]
    },
    {
     "name": "stdout",
     "output_type": "stream",
     "text": [
      "EPOCH: 39, TRAIN_SCORE: 0.0, TRAIN_SCORE_LIST: [0.0, 0.0, 0.0, 0.0, 0.0, 0.0, 0.0, 0.0, 0.0, 0.0, 0.0, 0.0, 0.0, 0.0, 0.0, 0.0, 0.0, 0.0, 0.0, 0.0]\n"
     ]
    },
    {
     "name": "stderr",
     "output_type": "stream",
     "text": [
      "Valid-Epoch: 39, Loss: 0.9284622371196747: 100%|██████████| 2/2 [00:00<00:00,  2.95it/s]\n"
     ]
    },
    {
     "name": "stdout",
     "output_type": "stream",
     "text": [
      "EPOCH: 39, VALID_SCORE: 0.0, VALID_SCORE_LIST: [0.0, 0.0]\n"
     ]
    },
    {
     "name": "stderr",
     "output_type": "stream",
     "text": [
      "Train-Epoch: 40, Loss: 0.4737366557121277: 100%|██████████| 20/20 [00:07<00:00,  2.63it/s] \n",
      "Train-nshuffle-Epoch: 40, Loss: 0.9285511404275895: 100%|██████████| 20/20 [00:03<00:00,  5.62it/s]\n"
     ]
    },
    {
     "name": "stdout",
     "output_type": "stream",
     "text": [
      "EPOCH: 40, TRAIN_SCORE: 0.0, TRAIN_SCORE_LIST: [0.0, 0.0, 0.0, 0.0, 0.0, 0.0, 0.0, 0.0, 0.0, 0.0, 0.0, 0.0, 0.0, 0.0, 0.0, 0.0, 0.0, 0.0, 0.0, 0.0]\n"
     ]
    },
    {
     "name": "stderr",
     "output_type": "stream",
     "text": [
      "Valid-Epoch: 40, Loss: 0.9284622371196747: 100%|██████████| 2/2 [00:00<00:00,  2.85it/s]\n"
     ]
    },
    {
     "name": "stdout",
     "output_type": "stream",
     "text": [
      "EPOCH: 40, VALID_SCORE: 0.0, VALID_SCORE_LIST: [0.0, 0.0]\n"
     ]
    },
    {
     "name": "stderr",
     "output_type": "stream",
     "text": [
      "Train-Epoch: 41, Loss: 0.4737366557121277: 100%|██████████| 20/20 [00:07<00:00,  2.67it/s] \n",
      "Train-nshuffle-Epoch: 41, Loss: 0.9285511404275895: 100%|██████████| 20/20 [00:03<00:00,  5.57it/s]\n"
     ]
    },
    {
     "name": "stdout",
     "output_type": "stream",
     "text": [
      "EPOCH: 41, TRAIN_SCORE: 0.0, TRAIN_SCORE_LIST: [0.0, 0.0, 0.0, 0.0, 0.0, 0.0, 0.0, 0.0, 0.0, 0.0, 0.0, 0.0, 0.0, 0.0, 0.0, 0.0, 0.0, 0.0, 0.0, 0.0]\n"
     ]
    },
    {
     "name": "stderr",
     "output_type": "stream",
     "text": [
      "Valid-Epoch: 41, Loss: 0.9284622371196747: 100%|██████████| 2/2 [00:00<00:00,  3.22it/s]\n"
     ]
    },
    {
     "name": "stdout",
     "output_type": "stream",
     "text": [
      "EPOCH: 41, VALID_SCORE: 0.0, VALID_SCORE_LIST: [0.0, 0.0]\n"
     ]
    },
    {
     "name": "stderr",
     "output_type": "stream",
     "text": [
      "Train-Epoch: 42, Loss: 0.4737366557121277: 100%|██████████| 20/20 [00:07<00:00,  2.67it/s] \n",
      "Train-nshuffle-Epoch: 42, Loss: 0.9285511404275895: 100%|██████████| 20/20 [00:03<00:00,  5.64it/s]\n"
     ]
    },
    {
     "name": "stdout",
     "output_type": "stream",
     "text": [
      "EPOCH: 42, TRAIN_SCORE: 0.0, TRAIN_SCORE_LIST: [0.0, 0.0, 0.0, 0.0, 0.0, 0.0, 0.0, 0.0, 0.0, 0.0, 0.0, 0.0, 0.0, 0.0, 0.0, 0.0, 0.0, 0.0, 0.0, 0.0]\n"
     ]
    },
    {
     "name": "stderr",
     "output_type": "stream",
     "text": [
      "Valid-Epoch: 42, Loss: 0.9284622371196747: 100%|██████████| 2/2 [00:00<00:00,  2.93it/s]\n"
     ]
    },
    {
     "name": "stdout",
     "output_type": "stream",
     "text": [
      "EPOCH: 42, VALID_SCORE: 0.0, VALID_SCORE_LIST: [0.0, 0.0]\n"
     ]
    },
    {
     "name": "stderr",
     "output_type": "stream",
     "text": [
      "Train-Epoch: 43, Loss: 0.4737366557121277: 100%|██████████| 20/20 [00:07<00:00,  2.67it/s] \n",
      "Train-nshuffle-Epoch: 43, Loss: 0.9285511404275895: 100%|██████████| 20/20 [00:03<00:00,  5.71it/s]\n"
     ]
    },
    {
     "name": "stdout",
     "output_type": "stream",
     "text": [
      "EPOCH: 43, TRAIN_SCORE: 0.0, TRAIN_SCORE_LIST: [0.0, 0.0, 0.0, 0.0, 0.0, 0.0, 0.0, 0.0, 0.0, 0.0, 0.0, 0.0, 0.0, 0.0, 0.0, 0.0, 0.0, 0.0, 0.0, 0.0]\n"
     ]
    },
    {
     "name": "stderr",
     "output_type": "stream",
     "text": [
      "Valid-Epoch: 43, Loss: 0.9284622371196747: 100%|██████████| 2/2 [00:00<00:00,  3.55it/s]\n"
     ]
    },
    {
     "name": "stdout",
     "output_type": "stream",
     "text": [
      "EPOCH: 43, VALID_SCORE: 0.0, VALID_SCORE_LIST: [0.0, 0.0]\n"
     ]
    },
    {
     "name": "stderr",
     "output_type": "stream",
     "text": [
      "Train-Epoch: 44, Loss: 0.4737366557121277: 100%|██████████| 20/20 [00:07<00:00,  2.68it/s] \n",
      "Train-nshuffle-Epoch: 44, Loss: 0.9285511404275895: 100%|██████████| 20/20 [00:03<00:00,  5.70it/s]\n"
     ]
    },
    {
     "name": "stdout",
     "output_type": "stream",
     "text": [
      "EPOCH: 44, TRAIN_SCORE: 0.0, TRAIN_SCORE_LIST: [0.0, 0.0, 0.0, 0.0, 0.0, 0.0, 0.0, 0.0, 0.0, 0.0, 0.0, 0.0, 0.0, 0.0, 0.0, 0.0, 0.0, 0.0, 0.0, 0.0]\n"
     ]
    },
    {
     "name": "stderr",
     "output_type": "stream",
     "text": [
      "Valid-Epoch: 44, Loss: 0.9284622371196747: 100%|██████████| 2/2 [00:00<00:00,  2.78it/s]\n"
     ]
    },
    {
     "name": "stdout",
     "output_type": "stream",
     "text": [
      "EPOCH: 44, VALID_SCORE: 0.0, VALID_SCORE_LIST: [0.0, 0.0]\n"
     ]
    },
    {
     "name": "stderr",
     "output_type": "stream",
     "text": [
      "Train-Epoch: 45, Loss: 0.4737366557121277: 100%|██████████| 20/20 [00:07<00:00,  2.68it/s] \n",
      "Train-nshuffle-Epoch: 45, Loss: 0.9285511404275895: 100%|██████████| 20/20 [00:03<00:00,  5.68it/s]\n"
     ]
    },
    {
     "name": "stdout",
     "output_type": "stream",
     "text": [
      "EPOCH: 45, TRAIN_SCORE: 0.0, TRAIN_SCORE_LIST: [0.0, 0.0, 0.0, 0.0, 0.0, 0.0, 0.0, 0.0, 0.0, 0.0, 0.0, 0.0, 0.0, 0.0, 0.0, 0.0, 0.0, 0.0, 0.0, 0.0]\n"
     ]
    },
    {
     "name": "stderr",
     "output_type": "stream",
     "text": [
      "Valid-Epoch: 45, Loss: 0.9284622371196747: 100%|██████████| 2/2 [00:00<00:00,  3.38it/s]\n"
     ]
    },
    {
     "name": "stdout",
     "output_type": "stream",
     "text": [
      "EPOCH: 45, VALID_SCORE: 0.0, VALID_SCORE_LIST: [0.0, 0.0]\n"
     ]
    },
    {
     "name": "stderr",
     "output_type": "stream",
     "text": [
      "Train-Epoch: 46, Loss: 0.4737366557121277: 100%|██████████| 20/20 [00:07<00:00,  2.66it/s] \n",
      "Train-nshuffle-Epoch: 46, Loss: 0.9285511404275895: 100%|██████████| 20/20 [00:03<00:00,  5.64it/s]\n"
     ]
    },
    {
     "name": "stdout",
     "output_type": "stream",
     "text": [
      "EPOCH: 46, TRAIN_SCORE: 0.0, TRAIN_SCORE_LIST: [0.0, 0.0, 0.0, 0.0, 0.0, 0.0, 0.0, 0.0, 0.0, 0.0, 0.0, 0.0, 0.0, 0.0, 0.0, 0.0, 0.0, 0.0, 0.0, 0.0]\n"
     ]
    },
    {
     "name": "stderr",
     "output_type": "stream",
     "text": [
      "Valid-Epoch: 46, Loss: 0.9284622371196747: 100%|██████████| 2/2 [00:00<00:00,  3.09it/s]\n"
     ]
    },
    {
     "name": "stdout",
     "output_type": "stream",
     "text": [
      "EPOCH: 46, VALID_SCORE: 0.0, VALID_SCORE_LIST: [0.0, 0.0]\n"
     ]
    },
    {
     "name": "stderr",
     "output_type": "stream",
     "text": [
      "Train-Epoch: 47, Loss: 0.4737366557121277: 100%|██████████| 20/20 [00:07<00:00,  2.66it/s] \n",
      "Train-nshuffle-Epoch: 47, Loss: 0.9285511404275895: 100%|██████████| 20/20 [00:03<00:00,  5.68it/s]\n"
     ]
    },
    {
     "name": "stdout",
     "output_type": "stream",
     "text": [
      "EPOCH: 47, TRAIN_SCORE: 0.0, TRAIN_SCORE_LIST: [0.0, 0.0, 0.0, 0.0, 0.0, 0.0, 0.0, 0.0, 0.0, 0.0, 0.0, 0.0, 0.0, 0.0, 0.0, 0.0, 0.0, 0.0, 0.0, 0.0]\n"
     ]
    },
    {
     "name": "stderr",
     "output_type": "stream",
     "text": [
      "Valid-Epoch: 47, Loss: 0.9284622371196747: 100%|██████████| 2/2 [00:00<00:00,  3.06it/s]\n"
     ]
    },
    {
     "name": "stdout",
     "output_type": "stream",
     "text": [
      "EPOCH: 47, VALID_SCORE: 0.0, VALID_SCORE_LIST: [0.0, 0.0]\n"
     ]
    },
    {
     "name": "stderr",
     "output_type": "stream",
     "text": [
      "Train-Epoch: 48, Loss: 0.4737366557121277: 100%|██████████| 20/20 [00:07<00:00,  2.68it/s] \n",
      "Train-nshuffle-Epoch: 48, Loss: 0.9285511404275895: 100%|██████████| 20/20 [00:03<00:00,  5.56it/s]\n"
     ]
    },
    {
     "name": "stdout",
     "output_type": "stream",
     "text": [
      "EPOCH: 48, TRAIN_SCORE: 0.0, TRAIN_SCORE_LIST: [0.0, 0.0, 0.0, 0.0, 0.0, 0.0, 0.0, 0.0, 0.0, 0.0, 0.0, 0.0, 0.0, 0.0, 0.0, 0.0, 0.0, 0.0, 0.0, 0.0]\n"
     ]
    },
    {
     "name": "stderr",
     "output_type": "stream",
     "text": [
      "Valid-Epoch: 48, Loss: 0.9284622371196747: 100%|██████████| 2/2 [00:00<00:00,  3.05it/s]\n"
     ]
    },
    {
     "name": "stdout",
     "output_type": "stream",
     "text": [
      "EPOCH: 48, VALID_SCORE: 0.0, VALID_SCORE_LIST: [0.0, 0.0]\n"
     ]
    },
    {
     "name": "stderr",
     "output_type": "stream",
     "text": [
      "Train-Epoch: 49, Loss: 0.4737366557121277: 100%|██████████| 20/20 [00:07<00:00,  2.67it/s] \n",
      "Train-nshuffle-Epoch: 49, Loss: 0.9285511404275895: 100%|██████████| 20/20 [00:03<00:00,  5.63it/s]\n"
     ]
    },
    {
     "name": "stdout",
     "output_type": "stream",
     "text": [
      "EPOCH: 49, TRAIN_SCORE: 0.0, TRAIN_SCORE_LIST: [0.0, 0.0, 0.0, 0.0, 0.0, 0.0, 0.0, 0.0, 0.0, 0.0, 0.0, 0.0, 0.0, 0.0, 0.0, 0.0, 0.0, 0.0, 0.0, 0.0]\n"
     ]
    },
    {
     "name": "stderr",
     "output_type": "stream",
     "text": [
      "Valid-Epoch: 49, Loss: 0.9284622371196747: 100%|██████████| 2/2 [00:00<00:00,  2.92it/s]\n"
     ]
    },
    {
     "name": "stdout",
     "output_type": "stream",
     "text": [
      "EPOCH: 49, VALID_SCORE: 0.0, VALID_SCORE_LIST: [0.0, 0.0]\n"
     ]
    }
   ],
   "source": [
    "best_model = None\n",
    "best_score = 0\n",
    "\n",
    "for epoch in range(CFG.epochs):\n",
    "    train_loss = []\n",
    "    train_nshuffle_loss = []\n",
    "    valid_loss = []\n",
    "\n",
    "    # train_original_tomogram = defaultdict(list)\n",
    "    ##train_pred_tomogram = defaultdict(list)\n",
    "    # train_gt_tomogram = defaultdict(list)\n",
    "\n",
    "    train_nshuffle_original_tomogram = defaultdict(list)\n",
    "    train_nshuffle_pred_tomogram = defaultdict(list)\n",
    "    train_nshuffle_gt_tomogram = defaultdict(list)\n",
    "\n",
    "    valid_original_tomogram = defaultdict(list)\n",
    "    valid_pred_tomogram = defaultdict(list)\n",
    "    valid_gt_tomogram = defaultdict(list)\n",
    "\n",
    "    model.train()\n",
    "    tq = tqdm(range(len(train_loader)))\n",
    "    for data in train_loader:\n",
    "        exp_name = data[\"exp_name\"][0]\n",
    "        tomogram = data[\"normalized_tomogram\"]\n",
    "        segmentation_map = data[\"segmentation_map\"]\n",
    "        # print(tomogram.shape, segmentation_map.shape) # torch.Size([1, 92, 315, 315]) torch.Size([1, 92, 315, 315])\n",
    "        # tomogram = tomogram.reshape(1, -1, tomogram.shape[-2], tomogram.shape[-1])\n",
    "        segmentation_map = segmentation_map.reshape(\n",
    "            1, -1, segmentation_map.shape[-2], segmentation_map.shape[-1]\n",
    "        )\n",
    "        gt = segmentation_map.to(\"cuda\").long().squeeze(0)\n",
    "        tomogram = tomogram.to(\"cuda\")\n",
    "\n",
    "        optimizer.zero_grad()\n",
    "        output = model(tomogram.unsqueeze(1))  # 1, 7, 92, 315, 315\n",
    "        output = output.squeeze(0).transpose(0, 1)\n",
    "        loss = seg_loss(output, gt)\n",
    "        loss.backward()\n",
    "        optimizer.step()\n",
    "        scheduler.step()\n",
    "\n",
    "        train_loss.append(loss.item())\n",
    "        tq.set_description(f\"Train-Epoch: {epoch}, Loss: {np.mean(train_loss)}\")\n",
    "        tq.update(1)\n",
    "    tq.close()\n",
    "    train_exp_name = exp_name\n",
    "\n",
    "    ######################################## train-nshuffle #########################################\n",
    "    model.eval()\n",
    "    tq = tqdm(range(len(train_nshuffle_loader)))\n",
    "    for data in train_nshuffle_loader:\n",
    "        exp_name = data[\"exp_name\"][0]\n",
    "        zarr_type = data[\"zarr_type\"][0]\n",
    "        exp_name = f\"{exp_name}_{zarr_type}\"\n",
    "        tomogram = data[\"normalized_tomogram\"].to(\"cuda\")\n",
    "        segmentation_map = data[\"segmentation_map\"].to(\"cuda\").long()\n",
    "\n",
    "        train_nshuffle_original_tomogram[exp_name] = (\n",
    "            padf(tomogram).squeeze().cpu().detach().numpy()\n",
    "        )\n",
    "        segmentation_map = segmentation_map.reshape(\n",
    "            1, -1, segmentation_map.shape[-2], segmentation_map.shape[-1]\n",
    "        )\n",
    "        gt = segmentation_map.to(\"cuda\").long().squeeze(0)\n",
    "        tomogram = tomogram.to(\"cuda\")\n",
    "\n",
    "        output = model(tomogram.unsqueeze(1))\n",
    "        output = output.squeeze(0).transpose(0, 1)\n",
    "        loss = seg_loss(output, gt)\n",
    "\n",
    "        train_nshuffle_loss.append(loss.item())\n",
    "        tq.set_description(\n",
    "            f\"Train-nshuffle-Epoch: {epoch}, Loss: {np.mean(train_nshuffle_loss)}\"\n",
    "        )\n",
    "        tq.update(1)\n",
    "\n",
    "        train_nshuffle_pred_tomogram[exp_name].append(output.cpu().detach().numpy())\n",
    "        train_nshuffle_gt_tomogram[exp_name].append(gt.cpu().detach().numpy())\n",
    "    tq.close()\n",
    "\n",
    "    train_score_, train_score_list = visualize_epoch_results(\n",
    "        train_nshuffle_pred_tomogram,\n",
    "        base_dir=\"../../inputs/train/overlay/ExperimentRuns/\",\n",
    "        sikii_dict=CFG.initial_sikii,\n",
    "    )\n",
    "    print(\n",
    "        f\"EPOCH: {epoch}, TRAIN_SCORE: {train_score_}, TRAIN_SCORE_LIST: {train_score_list}\"\n",
    "    )\n",
    "\n",
    "    ############################################# valid #############################################\n",
    "\n",
    "    model.eval()\n",
    "    tq = tqdm(range(len(valid_loader)))\n",
    "    for data in valid_loader:\n",
    "        exp_name = data[\"exp_name\"][0]\n",
    "        zarr_type = data[\"zarr_type\"][0]\n",
    "        exp_name = f\"{exp_name}_{zarr_type}\"\n",
    "        tomogram = data[\"normalized_tomogram\"].to(\"cuda\")\n",
    "        segmentation_map = data[\"segmentation_map\"].to(\"cuda\").long()\n",
    "\n",
    "        valid_original_tomogram[exp_name] = (\n",
    "            padf(tomogram).squeeze().cpu().detach().numpy()\n",
    "        )\n",
    "\n",
    "        segmentation_map = segmentation_map.reshape(\n",
    "            1, -1, segmentation_map.shape[-2], segmentation_map.shape[-1]\n",
    "        )\n",
    "        gt = segmentation_map.to(\"cuda\").long().squeeze(0)\n",
    "        tomogram = tomogram.to(\"cuda\")\n",
    "\n",
    "        output = model(tomogram.unsqueeze(1))\n",
    "        output = output.squeeze(0).transpose(0, 1)\n",
    "        loss = seg_loss(output, gt)\n",
    "\n",
    "        valid_loss.append(loss.item())\n",
    "        tq.set_description(f\"Valid-Epoch: {epoch}, Loss: {np.mean(valid_loss)}\")\n",
    "        tq.update(1)\n",
    "\n",
    "        # print(output.shape, gt.shape) # torch.Size([1, 7, 160, 160]) torch.Size([1, 160, 160])\n",
    "        valid_pred_tomogram[exp_name].append(output.cpu().detach().numpy())\n",
    "        valid_gt_tomogram[exp_name].append(gt.cpu().detach().numpy())\n",
    "    tq.close()\n",
    "    valid_exp_name = exp_name\n",
    "\n",
    "    valid_score_, valid_score_list = visualize_epoch_results(\n",
    "        valid_pred_tomogram,\n",
    "        base_dir=\"../../inputs/train/overlay/ExperimentRuns/\",\n",
    "        sikii_dict=CFG.initial_sikii,\n",
    "    )\n",
    "\n",
    "    print(\n",
    "        f\"EPOCH: {epoch}, VALID_SCORE: {valid_score_}, VALID_SCORE_LIST: {valid_score_list}\"\n",
    "    )\n",
    "    if valid_score_ > best_score:\n",
    "        best_score = valid_score_\n",
    "        best_model = model\n",
    "        torch.save(model.state_dict(), f\"best_model.pth\")\n",
    "\n",
    "    # 描画\n",
    "    # index = 23\n",
    "    # plt.figure(figsize=(20, 5))\n",
    "\n",
    "    # # Train-Pred-Plot\n",
    "    # ax = plt.subplot(1, 4, 1)\n",
    "    # pred = train_nshuffle_pred_tomogram[train_exp_name][index][0].argmax(0)\n",
    "    # plot_with_colormap(\n",
    "    #     pred,\n",
    "    #     \"Train-Prediction\",\n",
    "    #     train_nshuffle_original_tomogram[train_exp_name][index],\n",
    "    # )\n",
    "\n",
    "    # # Train-GT-Plot\n",
    "    # ax = plt.subplot(1, 4, 2)\n",
    "    # gt = train_nshuffle_gt_tomogram[train_exp_name][index][0]\n",
    "    # plot_with_colormap(\n",
    "    #     gt,\n",
    "    #     \"Train-Ground Truth\",\n",
    "    #     train_nshuffle_original_tomogram[train_exp_name][index],\n",
    "    # )\n",
    "\n",
    "    # # Valid-Pred-Plot\n",
    "    # ax = plt.subplot(1, 4, 3)\n",
    "    # pred = valid_pred_tomogram[valid_exp_name][index][0].argmax(0)\n",
    "    # plot_with_colormap(\n",
    "    #     pred, \"Valid-Prediction\", valid_original_tomogram[valid_exp_name][index]\n",
    "    # )\n",
    "\n",
    "    # # Valid-GT-Plot\n",
    "    # ax = plt.subplot(1, 4, 4)\n",
    "    # gt = valid_gt_tomogram[valid_exp_name][index][0]\n",
    "    # plot_with_colormap(\n",
    "    #     gt, \"Valid-Ground Truth\", valid_original_tomogram[valid_exp_name][index]\n",
    "    # )\n",
    "\n",
    "    # # 凡例を追加\n",
    "    # legend_elements = [\n",
    "    #     Patch(facecolor=colors[i], label=CFG.particles_name[i])\n",
    "    #     for i in range(1, num_classes)\n",
    "    # ]\n",
    "    # plt.legend(\n",
    "    #     handles=legend_elements,\n",
    "    #     loc=\"upper right\",\n",
    "    #     title=\"particle\",\n",
    "    #     bbox_to_anchor=(1.3, 1),  # 凡例を右上に配置\n",
    "    #     borderaxespad=0,\n",
    "    # )\n",
    "\n",
    "    # plt.tight_layout()\n",
    "    # plt.show()\n",
    "\n",
    "    # torch.save(model.state_dict(), \"pretrained_model.pth\")"
   ]
  },
  {
   "cell_type": "code",
   "execution_count": null,
   "metadata": {},
   "outputs": [],
   "source": []
  }
 ],
 "metadata": {
  "kernelspec": {
   "display_name": "kaggle",
   "language": "python",
   "name": "python3"
  },
  "language_info": {
   "codemirror_mode": {
    "name": "ipython",
    "version": 3
   },
   "file_extension": ".py",
   "mimetype": "text/x-python",
   "name": "python",
   "nbconvert_exporter": "python",
   "pygments_lexer": "ipython3",
   "version": "3.9.16"
  }
 },
 "nbformat": 4,
 "nbformat_minor": 2
}
