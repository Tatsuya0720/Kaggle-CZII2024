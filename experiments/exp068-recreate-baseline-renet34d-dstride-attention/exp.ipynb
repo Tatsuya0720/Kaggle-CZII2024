{
 "cells": [
  {
   "cell_type": "code",
   "execution_count": 1,
   "metadata": {},
   "outputs": [],
   "source": [
    "import os\n",
    "import zarr\n",
    "import timm\n",
    "import random\n",
    "import json\n",
    "import gc\n",
    "import warnings\n",
    "import numpy as np\n",
    "import pandas as pd\n",
    "import torch.nn as nn\n",
    "from pathlib import Path\n",
    "import matplotlib.pyplot as plt\n",
    "from torch.utils.data import DataLoader, Dataset\n",
    "from collections import defaultdict\n",
    "\n",
    "import sys\n",
    "import torch\n",
    "from torch.cuda.amp import autocast, GradScaler\n",
    "\n",
    "# import torchvision.transforms.functional as F\n",
    "import random\n",
    "\n",
    "warnings.filterwarnings(\"ignore\")\n",
    "sys.path.append(\"./src/\")\n",
    "\n",
    "from src.config import CFG\n",
    "from src.dataloader import (\n",
    "    read_zarr,\n",
    "    read_info_json,\n",
    "    scale_coordinates,\n",
    "    create_dataset,\n",
    "    create_segmentation_map,\n",
    "    EziiDataset,\n",
    "    drop_padding,\n",
    ")\n",
    "from src.network import Unet3D\n",
    "from src.utils import save_images, PadToSize\n",
    "from src.metric import (\n",
    "    score,\n",
    "    create_cls_pos,\n",
    "    create_cls_pos_sikii,\n",
    "    create_df,\n",
    "    SegmentationLoss,\n",
    "    DiceLoss,\n",
    ")\n",
    "from tqdm import tqdm\n",
    "from src.kaggle_notebook_metric import compute_lb, extract_particle_results\n",
    "from src.inference import inference, inference2pos, create_gt_df\n",
    "from metric import visualize_epoch_results\n",
    "\n",
    "import wandb\n",
    "from pathlib import Path\n",
    "\n",
    "notebook_name = os.path.join(Path().resolve()).split(\"/\")[-1]\n",
    "\n",
    "param = {\n",
    "    \"model\": CFG.model_name,\n",
    "    \"resolution\": CFG.resolution,\n",
    "    \"augmentation_prob\": CFG.augmentation_prob,\n",
    "    \"slice\": CFG.slice_,\n",
    "    \"epochs\": CFG.epochs,\n",
    "    \"lr\": CFG.lr,\n",
    "    \"batch_size\": CFG.batch_size,\n",
    "    \"weight_decay\": CFG.weight_decay,\n",
    "    \"num_workers\": CFG.num_workers,\n",
    "    \"augment_data_ratio\": CFG.augment_data_ratio,\n",
    "}"
   ]
  },
  {
   "cell_type": "code",
   "execution_count": 2,
   "metadata": {},
   "outputs": [],
   "source": [
    "from sklearn.metrics import *\n",
    "from scipy.optimize import minimize\n",
    "\n",
    "# sikii値とexp_namesを入れるとスコアを出力する関数\n",
    "\n",
    "\n",
    "def compute_score(sikii_list, inferenced_array, exp_name):\n",
    "    apo_ferritin = sikii_list[0]\n",
    "    beta_amylase = sikii_list[1]\n",
    "    beta_galactosidase = sikii_list[2]\n",
    "    ribosome = sikii_list[3]\n",
    "    thyroglobulin = sikii_list[4]\n",
    "    virus_like_particle = sikii_list[5]\n",
    "\n",
    "    sikii_dict = {\n",
    "        \"apo-ferritin\": apo_ferritin,\n",
    "        \"beta-amylase\": beta_amylase,\n",
    "        \"beta-galactosidase\": beta_galactosidase,\n",
    "        \"ribosome\": ribosome,\n",
    "        \"thyroglobulin\": thyroglobulin,\n",
    "        \"virus-like-particle\": virus_like_particle,\n",
    "    }\n",
    "\n",
    "    all_pred = []\n",
    "\n",
    "    pred_df = inference2pos(\n",
    "        pred_segmask=inferenced_array, exp_name=exp_name, sikii_dict=sikii_dict\n",
    "    )\n",
    "\n",
    "    all_pred.append(pred_df)\n",
    "\n",
    "    gc.collect()\n",
    "\n",
    "    pred_df = pd.concat(all_pred, axis=0).reset_index(drop=True)\n",
    "    pred_df = pred_df[pred_df[\"particle_type\"] != \"beta-amylase\"]\n",
    "    pred_df = pred_df.drop_duplicates(\n",
    "        subset=[\"experiment\", \"x\", \"y\", \"z\"], keep=\"first\"\n",
    "    ).reset_index(drop=True)\n",
    "    pred_df = pred_df.reset_index().rename(columns={\"index\": \"id\"})\n",
    "\n",
    "    gt_df = create_gt_df(\"../../inputs/train/overlay/ExperimentRuns/\", [exp_name])\n",
    "\n",
    "    result_df, lb_score = compute_lb(\n",
    "        pred_df, \"../../inputs/train/overlay/ExperimentRuns/\", [exp_name]\n",
    "    )\n",
    "\n",
    "    return lb_score\n",
    "\n",
    "\n",
    "def reduce_computation_sikii_search(\n",
    "    inferenced_array: np.ndarray, exp_name: str, threshold_candidates: list[float]\n",
    ") -> tuple[list[float], float]:\n",
    "    \"\"\"\n",
    "    # How\n",
    "    6つのしきい値が互いに独立してスコアに貢献しているという前提で、\n",
    "    1次元ずつ最適なしきい値を探す手法を実装する.\n",
    "\n",
    "    1. 初期の best_thresholds (全要素 0.5 など適当な値) を用意\n",
    "    2. i=0 から i=5 まで順番に:\n",
    "       - threshold_candidates をすべて試し、他は固定したまま i 番目だけ変化させてスコアを計算\n",
    "       - 最良スコアが得られる候補値を確定し、best_thresholds[i] とする\n",
    "    3. 全部決まったら最終的なスコアを計算して返す\n",
    "\n",
    "    これにより、全組み合わせ (product) を回すよりも計算量が大幅に減少する.\n",
    "    \"\"\"\n",
    "    # Why not: 6値独立であるという前提が満たされていない場合、近似解になる可能性あり\n",
    "    best_thresholds = [0.5] * 6  # 適当な初期値でOK\n",
    "\n",
    "    for i in tqdm(range(6)):\n",
    "        best_local_score = -float(\"inf\")\n",
    "        best_local_value = None\n",
    "\n",
    "        for candidate in threshold_candidates:\n",
    "            current_thresholds = best_thresholds[:]  # 現在のベストを複製\n",
    "            current_thresholds[i] = candidate\n",
    "            score = compute_score(current_thresholds, inferenced_array, exp_name)\n",
    "            if score > best_local_score:\n",
    "                best_local_score = score\n",
    "                best_local_value = candidate\n",
    "\n",
    "        # i番目のしきい値を最適値に更新\n",
    "        best_thresholds[i] = best_local_value\n",
    "\n",
    "    final_score = compute_score(best_thresholds, inferenced_array, exp_name)\n",
    "    return best_thresholds, final_score"
   ]
  },
  {
   "cell_type": "code",
   "execution_count": 3,
   "metadata": {},
   "outputs": [
    {
     "name": "stdout",
     "output_type": "stream",
     "text": [
      "Original shape: torch.Size([6, 16, 320, 320])\n",
      "Augmented shape: torch.Size([6, 16, 320, 320])\n"
     ]
    }
   ],
   "source": [
    "import torch\n",
    "import random\n",
    "import torchvision.transforms.functional as TF\n",
    "\n",
    "\n",
    "# 回転\n",
    "# 3Dテンソルの各軸に対して指定した角度で回転する関数\n",
    "def rotate_3d(tomogram, segmentation_map, angle):\n",
    "    \"\"\"Rotates the 3D tensors tomogram and segmentation_map around the Z-axis.\"\"\"\n",
    "    rotated_tomogram = TF.rotate(tomogram, angle, expand=False)\n",
    "    rotated_segmentation_map = TF.rotate(segmentation_map, angle, expand=False)\n",
    "    return rotated_tomogram, rotated_segmentation_map\n",
    "\n",
    "\n",
    "# 平行移動\n",
    "# 指定された範囲でランダムに平行移動\n",
    "def translate_3d(tomogram, segmentation_map, max_shift):\n",
    "    \"\"\"Translates the 3D tensors by a random shift within max_shift.\"\"\"\n",
    "    shift_x = random.randint(-max_shift, max_shift)\n",
    "    shift_y = random.randint(-max_shift, max_shift)\n",
    "    translated_tomogram = TF.affine(\n",
    "        tomogram, angle=0, translate=(shift_x, shift_y), scale=1, shear=0\n",
    "    )\n",
    "    translated_segmentation_map = TF.affine(\n",
    "        segmentation_map, angle=0, translate=(shift_x, shift_y), scale=1, shear=0\n",
    "    )\n",
    "    return translated_tomogram, translated_segmentation_map\n",
    "\n",
    "\n",
    "# フリップ\n",
    "# 縦横（上下左右）ランダムフリップ\n",
    "def flip_3d(tomogram, segmentation_map):\n",
    "    \"\"\"Randomly flips the 3D tensors along height or width.\"\"\"\n",
    "    if random.random() > 0.5:  # Horizontal flip\n",
    "        tomogram = torch.flip(tomogram, dims=[-1])\n",
    "        segmentation_map = torch.flip(segmentation_map, dims=[-1])\n",
    "    if random.random() > 0.5:  # Vertical flip\n",
    "        tomogram = torch.flip(tomogram, dims=[-2])\n",
    "        segmentation_map = torch.flip(segmentation_map, dims=[-2])\n",
    "    return tomogram, segmentation_map\n",
    "\n",
    "\n",
    "# クロッピング\n",
    "# 入力テンソルを中心またはランダムクロップで切り取る\n",
    "def crop_3d(tomogram, segmentation_map, crop_size):\n",
    "    \"\"\"Crops the 3D tensors to the specified crop_size.\"\"\"\n",
    "    _, depth, height, width = tomogram.size()\n",
    "    crop_d, crop_h, crop_w = crop_size\n",
    "\n",
    "    if crop_h > height or crop_w > width:\n",
    "        raise ValueError(\"Crop size cannot be larger than the original size.\")\n",
    "\n",
    "    start_h = random.randint(0, height - crop_h)  # Random starting position for height\n",
    "    start_w = random.randint(0, width - crop_w)  # Random starting position for width\n",
    "\n",
    "    cropped_tomogram = tomogram[\n",
    "        :, :, start_h : start_h + crop_h, start_w : start_w + crop_w\n",
    "    ]\n",
    "    cropped_segmentation_map = segmentation_map[\n",
    "        :, :, start_h : start_h + crop_h, start_w : start_w + crop_w\n",
    "    ]\n",
    "\n",
    "    return cropped_tomogram, cropped_segmentation_map\n",
    "\n",
    "\n",
    "# Mixup\n",
    "# 2つのサンプルを線形補間して混合\n",
    "def mixup(tomogram, segmentation_map, alpha=0.4):\n",
    "    \"\"\"Applies mixup augmentation to the batch.\"\"\"\n",
    "    lam = random.betavariate(alpha, alpha)\n",
    "    batch_size = tomogram.size(0)\n",
    "    index = torch.randperm(batch_size)\n",
    "\n",
    "    mixed_tomogram = lam * tomogram + (1 - lam) * tomogram[index, :]\n",
    "    mixed_segmentation_map = (\n",
    "        lam * segmentation_map + (1 - lam) * segmentation_map[index, :]\n",
    "    )\n",
    "\n",
    "    return mixed_tomogram, mixed_segmentation_map\n",
    "\n",
    "\n",
    "# Cutmix\n",
    "# ランダム領域を切り取って別のサンプルに貼り付け\n",
    "def cutmix(tomogram, segmentation_map, alpha=1.0):\n",
    "    \"\"\"Applies cutmix augmentation to the batch.\"\"\"\n",
    "    lam = random.betavariate(alpha, alpha)\n",
    "    batch_size, depth, height, width = tomogram.size()\n",
    "    index = torch.randperm(batch_size)\n",
    "\n",
    "    cx = random.randint(0, width)\n",
    "    cy = random.randint(0, height)\n",
    "    cw = int(width * (1 - lam))\n",
    "    ch = int(height * (1 - lam))\n",
    "\n",
    "    x1 = max(cx - cw // 2, 0)\n",
    "    x2 = min(cx + cw // 2, width)\n",
    "    y1 = max(cy - ch // 2, 0)\n",
    "    y2 = min(cy + ch // 2, height)\n",
    "\n",
    "    tomogram[:, :, y1:y2, x1:x2] = tomogram[index, :, y1:y2, x1:x2]\n",
    "    segmentation_map[:, :, y1:y2, x1:x2] = segmentation_map[index, :, y1:y2, x1:x2]\n",
    "\n",
    "    return tomogram, segmentation_map\n",
    "\n",
    "\n",
    "# データ拡張の組み合わせ適用\n",
    "def augment_data(\n",
    "    tomogram,\n",
    "    segmentation_map,\n",
    "    crop_size=(16, 256, 256),\n",
    "    max_shift=10,\n",
    "    rotation_angle=30,\n",
    "    p=0.5,\n",
    "    mixup_alpha=0.4,\n",
    "    cutmix_alpha=1.0,\n",
    "):\n",
    "    \"\"\"Applies a combination of rotation, translation, flipping, cropping, mixup, and cutmix to the inputs with probabilities.\"\"\"\n",
    "    if random.random() < p:\n",
    "        tomogram, segmentation_map = rotate_3d(\n",
    "            tomogram,\n",
    "            segmentation_map,\n",
    "            angle=random.uniform(-rotation_angle, rotation_angle),\n",
    "        )\n",
    "    if random.random() < p:\n",
    "        tomogram, segmentation_map = translate_3d(\n",
    "            tomogram, segmentation_map, max_shift=max_shift\n",
    "        )\n",
    "    if random.random() < p:\n",
    "        tomogram, segmentation_map = flip_3d(tomogram, segmentation_map)\n",
    "    if random.random() < p:\n",
    "        tomogram, segmentation_map = crop_3d(\n",
    "            tomogram, segmentation_map, crop_size=crop_size\n",
    "        )\n",
    "    # if random.random() < p:\n",
    "    #     tomogram, segmentation_map = mixup(\n",
    "    #         tomogram, segmentation_map, alpha=mixup_alpha\n",
    "    #     )\n",
    "    # if random.random() < p:\n",
    "    #     tomogram, segmentation_map = cutmix(\n",
    "    #         tomogram, segmentation_map, alpha=cutmix_alpha\n",
    "    #     )\n",
    "    return tomogram, segmentation_map\n",
    "\n",
    "\n",
    "# 使用例\n",
    "# バッチサイズ6, 深さ16, 高さ320, 幅320のランダムテンソル\n",
    "tomogram = torch.rand((6, 16, 320, 320))\n",
    "segmentation_map = torch.randint(0, 2, (6, 16, 320, 320))  # ラベルは0または1\n",
    "\n",
    "# データ拡張の適用\n",
    "aug_tomogram, aug_segmentation_map = augment_data(tomogram, segmentation_map, p=0.7)\n",
    "print(\"Original shape:\", tomogram.shape)\n",
    "print(\"Augmented shape:\", aug_tomogram.shape)"
   ]
  },
  {
   "cell_type": "code",
   "execution_count": 4,
   "metadata": {},
   "outputs": [],
   "source": [
    "from transformers import get_cosine_schedule_with_warmup"
   ]
  },
  {
   "cell_type": "code",
   "execution_count": 5,
   "metadata": {},
   "outputs": [],
   "source": [
    "# b, c, d, h, w = CFG.batch_size, 1, 96, 320, 320"
   ]
  },
  {
   "cell_type": "code",
   "execution_count": 6,
   "metadata": {},
   "outputs": [],
   "source": [
    "def preprocess_tensor(tensor):\n",
    "    batch_size, depth, height, width = tensor.shape\n",
    "    tensor = tensor.unsqueeze(2)  # (b, d, h, w) -> (b, d, 1, h, w)\n",
    "    return tensor\n",
    "\n",
    "\n",
    "padf = PadToSize(CFG.resolution)"
   ]
  },
  {
   "cell_type": "code",
   "execution_count": null,
   "metadata": {},
   "outputs": [
    {
     "name": "stderr",
     "output_type": "stream",
     "text": [
      "Failed to detect the name of this notebook, you can set it manually with the WANDB_NOTEBOOK_NAME environment variable to enable code saving.\n",
      "\u001b[34m\u001b[1mwandb\u001b[0m: Currently logged in as: \u001b[33mtatuya\u001b[0m (\u001b[33mlatent-walkers\u001b[0m). Use \u001b[1m`wandb login --relogin`\u001b[0m to force relogin\n"
     ]
    },
    {
     "data": {
      "text/html": [
       "wandb version 0.19.4 is available!  To upgrade, please run:\n",
       " $ pip install wandb --upgrade"
      ],
      "text/plain": [
       "<IPython.core.display.HTML object>"
      ]
     },
     "metadata": {},
     "output_type": "display_data"
    },
    {
     "data": {
      "text/html": [
       "Tracking run with wandb version 0.16.1"
      ],
      "text/plain": [
       "<IPython.core.display.HTML object>"
      ]
     },
     "metadata": {},
     "output_type": "display_data"
    },
    {
     "data": {
      "text/html": [
       "Run data is saved locally in <code>/home/tatsuya/code/projects/kaggle/CryoET/experiments/exp068-recreate-baseline-renet34d-dstride-attention/wandb/run-20250127_205840-imq51kqo</code>"
      ],
      "text/plain": [
       "<IPython.core.display.HTML object>"
      ]
     },
     "metadata": {},
     "output_type": "display_data"
    },
    {
     "data": {
      "text/html": [
       "Syncing run <strong><a href='https://wandb.ai/latent-walkers/czii2024/runs/imq51kqo' target=\"_blank\">exp068-recreate-baseline-renet34d-dstride-attention_TS_73_6</a></strong> to <a href='https://wandb.ai/latent-walkers/czii2024' target=\"_blank\">Weights & Biases</a> (<a href='https://wandb.me/run' target=\"_blank\">docs</a>)<br/>"
      ],
      "text/plain": [
       "<IPython.core.display.HTML object>"
      ]
     },
     "metadata": {},
     "output_type": "display_data"
    },
    {
     "data": {
      "text/html": [
       " View project at <a href='https://wandb.ai/latent-walkers/czii2024' target=\"_blank\">https://wandb.ai/latent-walkers/czii2024</a>"
      ],
      "text/plain": [
       "<IPython.core.display.HTML object>"
      ]
     },
     "metadata": {},
     "output_type": "display_data"
    },
    {
     "data": {
      "text/html": [
       " View run at <a href='https://wandb.ai/latent-walkers/czii2024/runs/imq51kqo' target=\"_blank\">https://wandb.ai/latent-walkers/czii2024/runs/imq51kqo</a>"
      ],
      "text/plain": [
       "<IPython.core.display.HTML object>"
      ]
     },
     "metadata": {},
     "output_type": "display_data"
    },
    {
     "name": "stderr",
     "output_type": "stream",
     "text": [
      "100%|██████████| 220/220 [00:30<00:00,  7.11it/s]\n",
      "100%|██████████| 1/1 [00:01<00:00,  1.51s/it]\n",
      "Epoch 1/25 [Training]: 100%|██████████| 110/110 [00:49<00:00,  2.22it/s, loss=0.9211]\n",
      "Epoch 1/25 [Validation]: 100%|██████████| 1/1 [00:00<00:00,  1.32it/s, loss=0.8967]\n",
      "100%|██████████| 6/6 [03:45<00:00, 37.57s/it]\n"
     ]
    },
    {
     "name": "stdout",
     "output_type": "stream",
     "text": [
      "train-epoch-loss:0.9211 valid-beta4-score:0.2752\n"
     ]
    },
    {
     "name": "stderr",
     "output_type": "stream",
     "text": [
      "Epoch 2/25 [Training]: 100%|██████████| 110/110 [00:47<00:00,  2.30it/s, loss=0.8723]\n",
      "Epoch 2/25 [Validation]: 100%|██████████| 1/1 [00:00<00:00,  1.31it/s, loss=0.8546]\n",
      "100%|██████████| 6/6 [03:44<00:00, 37.44s/it]\n"
     ]
    },
    {
     "name": "stdout",
     "output_type": "stream",
     "text": [
      "train-epoch-loss:0.8723 valid-beta4-score:0.2325\n"
     ]
    },
    {
     "name": "stderr",
     "output_type": "stream",
     "text": [
      "Epoch 3/25 [Training]: 100%|██████████| 110/110 [00:44<00:00,  2.49it/s, loss=0.8463]\n",
      "Epoch 3/25 [Validation]: 100%|██████████| 1/1 [00:00<00:00,  1.38it/s, loss=0.8140]\n",
      "100%|██████████| 6/6 [03:31<00:00, 35.33s/it]\n"
     ]
    },
    {
     "name": "stdout",
     "output_type": "stream",
     "text": [
      "train-epoch-loss:0.8463 valid-beta4-score:0.3050\n"
     ]
    },
    {
     "name": "stderr",
     "output_type": "stream",
     "text": [
      "Epoch 4/25 [Training]: 100%|██████████| 110/110 [00:42<00:00,  2.60it/s, loss=0.8312]\n",
      "Epoch 4/25 [Validation]: 100%|██████████| 1/1 [00:00<00:00,  1.31it/s, loss=0.8187]\n",
      "100%|██████████| 6/6 [03:24<00:00, 34.01s/it]\n"
     ]
    },
    {
     "name": "stdout",
     "output_type": "stream",
     "text": [
      "train-epoch-loss:0.8312 valid-beta4-score:0.2816\n"
     ]
    },
    {
     "name": "stderr",
     "output_type": "stream",
     "text": [
      "Epoch 5/25 [Training]: 100%|██████████| 110/110 [00:49<00:00,  2.21it/s, loss=0.8162]\n",
      "Epoch 5/25 [Validation]: 100%|██████████| 1/1 [00:00<00:00,  1.43it/s, loss=0.8507]\n",
      "100%|██████████| 6/6 [03:21<00:00, 33.58s/it]\n"
     ]
    },
    {
     "name": "stdout",
     "output_type": "stream",
     "text": [
      "train-epoch-loss:0.8162 valid-beta4-score:0.3986\n"
     ]
    },
    {
     "name": "stderr",
     "output_type": "stream",
     "text": [
      "Epoch 6/25 [Training]: 100%|██████████| 110/110 [00:45<00:00,  2.44it/s, loss=0.7937]\n",
      "Epoch 6/25 [Validation]: 100%|██████████| 1/1 [00:00<00:00,  1.37it/s, loss=0.8579]\n",
      "100%|██████████| 6/6 [03:24<00:00, 34.07s/it]\n"
     ]
    },
    {
     "name": "stdout",
     "output_type": "stream",
     "text": [
      "train-epoch-loss:0.7937 valid-beta4-score:0.3055\n"
     ]
    },
    {
     "name": "stderr",
     "output_type": "stream",
     "text": [
      "Epoch 7/25 [Training]: 100%|██████████| 110/110 [00:48<00:00,  2.27it/s, loss=0.7676]\n",
      "Epoch 7/25 [Validation]: 100%|██████████| 1/1 [00:00<00:00,  1.42it/s, loss=0.6470]\n",
      "100%|██████████| 6/6 [03:19<00:00, 33.25s/it]\n"
     ]
    },
    {
     "name": "stdout",
     "output_type": "stream",
     "text": [
      "train-epoch-loss:0.7676 valid-beta4-score:0.3557\n"
     ]
    },
    {
     "name": "stderr",
     "output_type": "stream",
     "text": [
      "Epoch 8/25 [Training]: 100%|██████████| 110/110 [00:41<00:00,  2.65it/s, loss=0.7650]\n",
      "Epoch 8/25 [Validation]: 100%|██████████| 1/1 [00:00<00:00,  1.39it/s, loss=0.6701]\n",
      "100%|██████████| 6/6 [03:19<00:00, 33.32s/it]\n"
     ]
    },
    {
     "name": "stdout",
     "output_type": "stream",
     "text": [
      "train-epoch-loss:0.7650 valid-beta4-score:0.3815\n"
     ]
    },
    {
     "name": "stderr",
     "output_type": "stream",
     "text": [
      "Epoch 9/25 [Training]: 100%|██████████| 110/110 [00:43<00:00,  2.52it/s, loss=0.7518]\n",
      "Epoch 9/25 [Validation]: 100%|██████████| 1/1 [00:00<00:00,  1.43it/s, loss=0.6256]\n",
      "100%|██████████| 6/6 [03:19<00:00, 33.24s/it]\n"
     ]
    },
    {
     "name": "stdout",
     "output_type": "stream",
     "text": [
      "train-epoch-loss:0.7518 valid-beta4-score:0.3763\n"
     ]
    },
    {
     "name": "stderr",
     "output_type": "stream",
     "text": [
      "Epoch 10/25 [Training]: 100%|██████████| 110/110 [00:46<00:00,  2.34it/s, loss=0.7490]\n",
      "Epoch 10/25 [Validation]: 100%|██████████| 1/1 [00:00<00:00,  1.42it/s, loss=0.6926]\n",
      "100%|██████████| 6/6 [03:20<00:00, 33.34s/it]\n"
     ]
    },
    {
     "name": "stdout",
     "output_type": "stream",
     "text": [
      "train-epoch-loss:0.7490 valid-beta4-score:0.3658\n"
     ]
    },
    {
     "name": "stderr",
     "output_type": "stream",
     "text": [
      "Epoch 11/25 [Training]: 100%|██████████| 110/110 [00:46<00:00,  2.37it/s, loss=0.7534]\n",
      "Epoch 11/25 [Validation]: 100%|██████████| 1/1 [00:00<00:00,  1.34it/s, loss=0.6783]\n",
      "100%|██████████| 6/6 [03:19<00:00, 33.30s/it]\n"
     ]
    },
    {
     "name": "stdout",
     "output_type": "stream",
     "text": [
      "train-epoch-loss:0.7534 valid-beta4-score:0.3471\n"
     ]
    },
    {
     "name": "stderr",
     "output_type": "stream",
     "text": [
      "Epoch 12/25 [Training]: 100%|██████████| 110/110 [00:45<00:00,  2.40it/s, loss=0.7536]\n",
      "Epoch 12/25 [Validation]: 100%|██████████| 1/1 [00:00<00:00,  1.39it/s, loss=0.7022]\n",
      " 17%|█▋        | 1/6 [00:35<02:59, 35.93s/it]wandb: ERROR Error while calling W&B API: context deadline exceeded (<Response [500]>)\n",
      "100%|██████████| 6/6 [03:20<00:00, 33.44s/it]\n"
     ]
    },
    {
     "name": "stdout",
     "output_type": "stream",
     "text": [
      "train-epoch-loss:0.7536 valid-beta4-score:0.3536\n"
     ]
    },
    {
     "name": "stderr",
     "output_type": "stream",
     "text": [
      "Epoch 13/25 [Training]: 100%|██████████| 110/110 [00:44<00:00,  2.49it/s, loss=0.7422]\n",
      "Epoch 13/25 [Validation]: 100%|██████████| 1/1 [00:00<00:00,  1.36it/s, loss=0.6033]\n",
      "100%|██████████| 6/6 [03:19<00:00, 33.21s/it]\n"
     ]
    },
    {
     "name": "stdout",
     "output_type": "stream",
     "text": [
      "train-epoch-loss:0.7422 valid-beta4-score:0.3667\n"
     ]
    },
    {
     "name": "stderr",
     "output_type": "stream",
     "text": [
      "Epoch 14/25 [Training]: 100%|██████████| 110/110 [00:47<00:00,  2.33it/s, loss=0.7412]\n",
      "Epoch 14/25 [Validation]: 100%|██████████| 1/1 [00:00<00:00,  1.37it/s, loss=0.6192]\n",
      "100%|██████████| 6/6 [03:20<00:00, 33.37s/it]\n"
     ]
    },
    {
     "name": "stdout",
     "output_type": "stream",
     "text": [
      "train-epoch-loss:0.7412 valid-beta4-score:0.3795\n"
     ]
    },
    {
     "name": "stderr",
     "output_type": "stream",
     "text": [
      "Epoch 15/25 [Training]: 100%|██████████| 110/110 [00:42<00:00,  2.61it/s, loss=0.7444]\n",
      "Epoch 15/25 [Validation]: 100%|██████████| 1/1 [00:00<00:00,  1.38it/s, loss=0.5754]\n",
      "100%|██████████| 6/6 [03:19<00:00, 33.28s/it]\n"
     ]
    },
    {
     "name": "stdout",
     "output_type": "stream",
     "text": [
      "train-epoch-loss:0.7444 valid-beta4-score:0.3832\n"
     ]
    },
    {
     "name": "stderr",
     "output_type": "stream",
     "text": [
      "Epoch 16/25 [Training]: 100%|██████████| 110/110 [00:45<00:00,  2.42it/s, loss=0.7415]\n",
      "Epoch 16/25 [Validation]: 100%|██████████| 1/1 [00:00<00:00,  1.36it/s, loss=0.8574]\n",
      "100%|██████████| 6/6 [03:19<00:00, 33.19s/it]\n"
     ]
    },
    {
     "name": "stdout",
     "output_type": "stream",
     "text": [
      "train-epoch-loss:0.7415 valid-beta4-score:0.3711\n"
     ]
    },
    {
     "name": "stderr",
     "output_type": "stream",
     "text": [
      "Epoch 17/25 [Training]: 100%|██████████| 110/110 [00:44<00:00,  2.47it/s, loss=0.7341]\n",
      "Epoch 17/25 [Validation]: 100%|██████████| 1/1 [00:00<00:00,  1.37it/s, loss=0.7731]\n",
      "100%|██████████| 6/6 [03:18<00:00, 33.01s/it]\n"
     ]
    },
    {
     "name": "stdout",
     "output_type": "stream",
     "text": [
      "train-epoch-loss:0.7341 valid-beta4-score:0.3738\n"
     ]
    },
    {
     "name": "stderr",
     "output_type": "stream",
     "text": [
      "Epoch 18/25 [Training]: 100%|██████████| 110/110 [00:44<00:00,  2.48it/s, loss=0.7396]\n",
      "Epoch 18/25 [Validation]: 100%|██████████| 1/1 [00:00<00:00,  1.40it/s, loss=0.5808]\n",
      "100%|██████████| 6/6 [03:18<00:00, 33.11s/it]\n"
     ]
    },
    {
     "name": "stdout",
     "output_type": "stream",
     "text": [
      "train-epoch-loss:0.7396 valid-beta4-score:0.3759\n"
     ]
    },
    {
     "name": "stderr",
     "output_type": "stream",
     "text": [
      "Epoch 19/25 [Training]: 100%|██████████| 110/110 [00:41<00:00,  2.65it/s, loss=0.7359]\n",
      "Epoch 19/25 [Validation]: 100%|██████████| 1/1 [00:00<00:00,  1.38it/s, loss=0.5654]\n",
      "100%|██████████| 6/6 [03:18<00:00, 33.16s/it]\n"
     ]
    },
    {
     "name": "stdout",
     "output_type": "stream",
     "text": [
      "train-epoch-loss:0.7359 valid-beta4-score:0.3798\n"
     ]
    },
    {
     "name": "stderr",
     "output_type": "stream",
     "text": [
      "Epoch 20/25 [Training]: 100%|██████████| 110/110 [00:43<00:00,  2.54it/s, loss=0.7375]\n",
      "Epoch 20/25 [Validation]: 100%|██████████| 1/1 [00:00<00:00,  1.42it/s, loss=0.6163]\n",
      "100%|██████████| 6/6 [03:19<00:00, 33.22s/it]\n"
     ]
    },
    {
     "name": "stdout",
     "output_type": "stream",
     "text": [
      "train-epoch-loss:0.7375 valid-beta4-score:0.3714\n"
     ]
    },
    {
     "name": "stderr",
     "output_type": "stream",
     "text": [
      "Epoch 21/25 [Training]: 100%|██████████| 110/110 [00:48<00:00,  2.29it/s, loss=0.7321]\n",
      "Epoch 21/25 [Validation]: 100%|██████████| 1/1 [00:00<00:00,  1.46it/s, loss=0.5857]\n",
      "100%|██████████| 6/6 [03:19<00:00, 33.20s/it]\n"
     ]
    },
    {
     "name": "stdout",
     "output_type": "stream",
     "text": [
      "train-epoch-loss:0.7321 valid-beta4-score:0.3647\n"
     ]
    },
    {
     "name": "stderr",
     "output_type": "stream",
     "text": [
      "Epoch 22/25 [Training]: 100%|██████████| 110/110 [00:47<00:00,  2.34it/s, loss=0.7198]\n",
      "Epoch 22/25 [Validation]: 100%|██████████| 1/1 [00:00<00:00,  1.36it/s, loss=0.5740]\n",
      "100%|██████████| 6/6 [03:19<00:00, 33.20s/it]\n"
     ]
    },
    {
     "name": "stdout",
     "output_type": "stream",
     "text": [
      "train-epoch-loss:0.7198 valid-beta4-score:0.3655\n"
     ]
    },
    {
     "name": "stderr",
     "output_type": "stream",
     "text": [
      "Epoch 23/25 [Training]: 100%|██████████| 110/110 [00:44<00:00,  2.46it/s, loss=0.7404]\n",
      "Epoch 23/25 [Validation]: 100%|██████████| 1/1 [00:00<00:00,  1.54it/s, loss=0.5673]\n",
      "100%|██████████| 6/6 [03:18<00:00, 33.09s/it]\n"
     ]
    },
    {
     "name": "stdout",
     "output_type": "stream",
     "text": [
      "train-epoch-loss:0.7404 valid-beta4-score:0.3654\n"
     ]
    },
    {
     "name": "stderr",
     "output_type": "stream",
     "text": [
      "Epoch 24/25 [Training]: 100%|██████████| 110/110 [00:46<00:00,  2.38it/s, loss=0.7362]\n",
      "Epoch 24/25 [Validation]: 100%|██████████| 1/1 [00:00<00:00,  1.42it/s, loss=0.6091]\n",
      "100%|██████████| 6/6 [03:19<00:00, 33.24s/it]\n"
     ]
    },
    {
     "name": "stdout",
     "output_type": "stream",
     "text": [
      "train-epoch-loss:0.7362 valid-beta4-score:0.3656\n"
     ]
    },
    {
     "name": "stderr",
     "output_type": "stream",
     "text": [
      "Epoch 25/25 [Training]: 100%|██████████| 110/110 [00:41<00:00,  2.65it/s, loss=0.7399]\n",
      "Epoch 25/25 [Validation]: 100%|██████████| 1/1 [00:00<00:00,  1.38it/s, loss=0.6391]\n",
      "100%|██████████| 6/6 [03:19<00:00, 33.18s/it]\n"
     ]
    },
    {
     "name": "stdout",
     "output_type": "stream",
     "text": [
      "train-epoch-loss:0.7399 valid-beta4-score:0.3691\n"
     ]
    },
    {
     "data": {
      "text/html": [
       "Finishing last run (ID:imq51kqo) before initializing another..."
      ],
      "text/plain": [
       "<IPython.core.display.HTML object>"
      ]
     },
     "metadata": {},
     "output_type": "display_data"
    },
    {
     "name": "stderr",
     "output_type": "stream",
     "text": [
      "wandb: WARNING Source type is set to 'repo' but some required information is missing from the environment. A job will not be created from this run. See https://docs.wandb.ai/guides/launch/create-job\n"
     ]
    },
    {
     "data": {
      "application/vnd.jupyter.widget-view+json": {
       "model_id": "db597aff36da4275ac15a04d0249c95b",
       "version_major": 2,
       "version_minor": 0
      },
      "text/plain": [
       "VBox(children=(Label(value='0.004 MB of 0.004 MB uploaded\\r'), FloatProgress(value=1.0, max=1.0)))"
      ]
     },
     "metadata": {},
     "output_type": "display_data"
    },
    {
     "data": {
      "text/html": [
       "<style>\n",
       "    table.wandb td:nth-child(1) { padding: 0 10px; text-align: left ; width: auto;} td:nth-child(2) {text-align: left ; width: 100%}\n",
       "    .wandb-row { display: flex; flex-direction: row; flex-wrap: wrap; justify-content: flex-start; width: 100% }\n",
       "    .wandb-col { display: flex; flex-direction: column; flex-basis: 100%; flex: 1; padding: 10px; }\n",
       "    </style>\n",
       "<div class=\"wandb-row\"><div class=\"wandb-col\"><h3>Run history:</h3><br/><table class=\"wandb\"><tr><td>01_epoch</td><td>▁▁▂▂▂▂▃▃▃▄▄▄▅▅▅▅▆▆▆▇▇▇▇██</td></tr><tr><td>02_train_loss</td><td>█▆▅▅▄▄▃▃▂▂▂▂▂▂▂▂▁▂▂▂▁▁▂▂▂</td></tr><tr><td>03_valid_loss</td><td>█▇▆▆▇▇▃▃▂▄▃▄▂▂▁▇▅▁▁▂▁▁▁▂▃</td></tr><tr><td>04_valid_best_score</td><td>▃▁▄▃█▄▆▇▇▇▆▆▇▇▇▇▇▇▇▇▇▇▇▇▇</td></tr><tr><td>apo-ferritin</td><td>▁▁▁▁▄▇███▅▇█▇▅▇▇▇██▆▇▇▇▇▇</td></tr><tr><td>apoo_ferritin_f4</td><td>▂▁▁▂▃▃▆███▇▆▇██▇▇▇█▇▇▇▇▇▇</td></tr><tr><td>apoo_ferritin_p</td><td>▁▁▁▁▂▂▅▇██▆▆▆█▇▇▇▇█▇▇▇▇▇▇</td></tr><tr><td>apoo_ferritin_r</td><td>▂▂▁▂▄▄▆███▇▆▇▇█▇▇▇█▇▇▇▇▇▇</td></tr><tr><td>beta-amylase</td><td>▁▁▁▁▁▁▁▁▁▁▁▁▁▁▁▁▁▁▁▁▁▁▁▁▁</td></tr><tr><td>beta-galactosidase</td><td>▁▁▁▁▁▁▁▁▁▁▁▁▁▁▁▁▁▁▁▁▁▁▁▁▁</td></tr><tr><td>beta_amylase_f4</td><td>▁▃▁█▁▁▁▁▁▁▁▁▁▁▁▁▁▁▁▁▁▁▁▁▁</td></tr><tr><td>beta_amylase_p</td><td>▁▃▁█▁▁▁▁▁▁▁▁▁▁▁▁▁▁▁▁▁▁▁▁▁</td></tr><tr><td>beta_amylase_r</td><td>▁▃▁█▁▁▁▁▁▁▁▁▁▁▁▁▁▁▁▁▁▁▁▁▁</td></tr><tr><td>beta_galactosidase_f4</td><td>█▅▄▇▁▁▁▁▁▁▁▁▁▁▁▁▁▁▁▁▁▁▁▁▁</td></tr><tr><td>beta_galactosidase_p</td><td>█▅▅█▁▁▁▁▁▁▁▁▁▁▁▁▁▁▁▁▁▁▁▁▁</td></tr><tr><td>beta_galactosidase_r</td><td>█▅▃▅▁▁▁▁▁▁▁▁▁▁▁▁▁▁▁▁▁▁▁▁▁</td></tr><tr><td>ribosome</td><td>████▄█▃▆██▇▄▅█▃█▄▃▃▁▂▂▆▃▂</td></tr><tr><td>ribosome_f4</td><td>▄▁▇▆▇▆██▇▆▆▇████▇█▇██████</td></tr><tr><td>ribosome_p</td><td>▂▁▅▄▇▃▆▅▄▄▄▇▇█▇▇▇█▇▇▇▇▇▇▇</td></tr><tr><td>ribosome_r</td><td>▅▁▇▆▇▆███▇▇▇████▇█▇██████</td></tr><tr><td>thyroglobulin</td><td>▁▁▁▁█▁▁▁▁▁▁▁▁▁▁▁▁▁▁▁▁▁▁▁▁</td></tr><tr><td>thyroglobulin_f4</td><td>▇██▆█▃▁▁▁▁▁▁▁▁▁▁▁▁▁▁▁▁▁▁▁</td></tr><tr><td>thyroglobulin_p</td><td>▅▆█▄▅▂▁▁▁▁▁▁▁▁▁▁▁▁▁▁▁▁▁▁▁</td></tr><tr><td>thyroglobulin_r</td><td>██▆▇█▃▁▁▁▁▁▁▁▁▁▁▁▁▁▁▁▁▁▁▁</td></tr><tr><td>virus-like-particle</td><td>▁▁▁▂██▄▅▂▅▅▅▇▁▅▅▃▇▅▅▅▆▅▅▅</td></tr><tr><td>virus_like_particle_f4</td><td>▁▁▂▂▆▇███████████████████</td></tr><tr><td>virus_like_particle_p</td><td>▁▁▁▁▂▄█▇█▇█▇█████▇███████</td></tr><tr><td>virus_like_particle_r</td><td>▄▂▁▆█████████████████████</td></tr></table><br/></div><div class=\"wandb-col\"><h3>Run summary:</h3><br/><table class=\"wandb\"><tr><td>01_epoch</td><td>24</td></tr><tr><td>02_train_loss</td><td>0.7399</td></tr><tr><td>03_valid_loss</td><td>0.63913</td></tr><tr><td>04_valid_best_score</td><td>0.36907</td></tr><tr><td>apo-ferritin</td><td>0.7</td></tr><tr><td>apoo_ferritin_f4</td><td>0.69471</td></tr><tr><td>apoo_ferritin_p</td><td>0.47222</td></tr><tr><td>apoo_ferritin_r</td><td>0.71579</td></tr><tr><td>beta-amylase</td><td>0.05</td></tr><tr><td>beta-galactosidase</td><td>0.05</td></tr><tr><td>beta_amylase_f4</td><td>0.0</td></tr><tr><td>beta_amylase_p</td><td>0.0</td></tr><tr><td>beta_amylase_r</td><td>0.0</td></tr><tr><td>beta_galactosidase_f4</td><td>0.0</td></tr><tr><td>beta_galactosidase_p</td><td>0.0</td></tr><tr><td>beta_galactosidase_r</td><td>0.0</td></tr><tr><td>ribosome</td><td>0.45</td></tr><tr><td>ribosome_f4</td><td>0.89146</td></tr><tr><td>ribosome_p</td><td>0.5119</td></tr><tr><td>ribosome_r</td><td>0.93478</td></tr><tr><td>thyroglobulin</td><td>0.05</td></tr><tr><td>thyroglobulin_f4</td><td>0.0</td></tr><tr><td>thyroglobulin_p</td><td>0.0</td></tr><tr><td>thyroglobulin_r</td><td>0.0</td></tr><tr><td>virus-like-particle</td><td>0.5</td></tr><tr><td>virus_like_particle_f4</td><td>0.99733</td></tr><tr><td>virus_like_particle_p</td><td>0.95652</td></tr><tr><td>virus_like_particle_r</td><td>1.0</td></tr></table><br/></div></div>"
      ],
      "text/plain": [
       "<IPython.core.display.HTML object>"
      ]
     },
     "metadata": {},
     "output_type": "display_data"
    },
    {
     "data": {
      "text/html": [
       " View run <strong style=\"color:#cdcd00\">exp068-recreate-baseline-renet34d-dstride-attention_TS_73_6</strong> at: <a href='https://wandb.ai/latent-walkers/czii2024/runs/imq51kqo' target=\"_blank\">https://wandb.ai/latent-walkers/czii2024/runs/imq51kqo</a><br/>Synced 5 W&B file(s), 0 media file(s), 0 artifact file(s) and 0 other file(s)"
      ],
      "text/plain": [
       "<IPython.core.display.HTML object>"
      ]
     },
     "metadata": {},
     "output_type": "display_data"
    },
    {
     "data": {
      "text/html": [
       "Find logs at: <code>./wandb/run-20250127_205840-imq51kqo/logs</code>"
      ],
      "text/plain": [
       "<IPython.core.display.HTML object>"
      ]
     },
     "metadata": {},
     "output_type": "display_data"
    },
    {
     "data": {
      "text/html": [
       "Successfully finished last run (ID:imq51kqo). Initializing new run:<br/>"
      ],
      "text/plain": [
       "<IPython.core.display.HTML object>"
      ]
     },
     "metadata": {},
     "output_type": "display_data"
    },
    {
     "data": {
      "application/vnd.jupyter.widget-view+json": {
       "model_id": "331952da777a40c888f3776a3fe0c4b2",
       "version_major": 2,
       "version_minor": 0
      },
      "text/plain": [
       "VBox(children=(Label(value='Waiting for wandb.init()...\\r'), FloatProgress(value=0.011114002599950053, max=1.0…"
      ]
     },
     "metadata": {},
     "output_type": "display_data"
    },
    {
     "data": {
      "text/html": [
       "wandb version 0.19.4 is available!  To upgrade, please run:\n",
       " $ pip install wandb --upgrade"
      ],
      "text/plain": [
       "<IPython.core.display.HTML object>"
      ]
     },
     "metadata": {},
     "output_type": "display_data"
    },
    {
     "data": {
      "text/html": [
       "Tracking run with wandb version 0.16.1"
      ],
      "text/plain": [
       "<IPython.core.display.HTML object>"
      ]
     },
     "metadata": {},
     "output_type": "display_data"
    },
    {
     "data": {
      "text/html": [
       "Run data is saved locally in <code>/home/tatsuya/code/projects/kaggle/CryoET/experiments/exp068-recreate-baseline-renet34d-dstride-attention/wandb/run-20250127_225120-7pbm61yl</code>"
      ],
      "text/plain": [
       "<IPython.core.display.HTML object>"
      ]
     },
     "metadata": {},
     "output_type": "display_data"
    },
    {
     "data": {
      "text/html": [
       "Syncing run <strong><a href='https://wandb.ai/latent-walkers/czii2024/runs/7pbm61yl' target=\"_blank\">exp068-recreate-baseline-renet34d-dstride-attention_TS_99_9</a></strong> to <a href='https://wandb.ai/latent-walkers/czii2024' target=\"_blank\">Weights & Biases</a> (<a href='https://wandb.me/run' target=\"_blank\">docs</a>)<br/>"
      ],
      "text/plain": [
       "<IPython.core.display.HTML object>"
      ]
     },
     "metadata": {},
     "output_type": "display_data"
    },
    {
     "data": {
      "text/html": [
       " View project at <a href='https://wandb.ai/latent-walkers/czii2024' target=\"_blank\">https://wandb.ai/latent-walkers/czii2024</a>"
      ],
      "text/plain": [
       "<IPython.core.display.HTML object>"
      ]
     },
     "metadata": {},
     "output_type": "display_data"
    },
    {
     "data": {
      "text/html": [
       " View run at <a href='https://wandb.ai/latent-walkers/czii2024/runs/7pbm61yl' target=\"_blank\">https://wandb.ai/latent-walkers/czii2024/runs/7pbm61yl</a>"
      ],
      "text/plain": [
       "<IPython.core.display.HTML object>"
      ]
     },
     "metadata": {},
     "output_type": "display_data"
    },
    {
     "name": "stderr",
     "output_type": "stream",
     "text": [
      "100%|██████████| 220/220 [00:32<00:00,  6.82it/s]\n",
      "100%|██████████| 1/1 [00:01<00:00,  1.67s/it]\n",
      "Epoch 1/25 [Training]:  15%|█▌        | 17/110 [00:09<00:40,  2.29it/s, loss=0.9488]\u001b[34m\u001b[1mwandb\u001b[0m: 429 encountered (Filestream rate limit exceeded, retrying in 2.4 seconds.), retrying request\n",
      "Epoch 1/25 [Training]: 100%|██████████| 110/110 [00:45<00:00,  2.41it/s, loss=0.9146]\n",
      "Epoch 1/25 [Validation]: 100%|██████████| 1/1 [00:00<00:00,  1.36it/s, loss=0.8799]\n",
      "100%|██████████| 6/6 [03:47<00:00, 37.90s/it]\n"
     ]
    },
    {
     "name": "stdout",
     "output_type": "stream",
     "text": [
      "train-epoch-loss:0.9146 valid-beta4-score:0.3717\n"
     ]
    },
    {
     "name": "stderr",
     "output_type": "stream",
     "text": [
      "Epoch 2/25 [Training]: 100%|██████████| 110/110 [00:42<00:00,  2.57it/s, loss=0.8686]\n",
      "Epoch 2/25 [Validation]: 100%|██████████| 1/1 [00:00<00:00,  1.34it/s, loss=0.8567]\n",
      "100%|██████████| 6/6 [03:42<00:00, 37.04s/it]\n"
     ]
    },
    {
     "name": "stdout",
     "output_type": "stream",
     "text": [
      "train-epoch-loss:0.8686 valid-beta4-score:0.3383\n"
     ]
    },
    {
     "name": "stderr",
     "output_type": "stream",
     "text": [
      "Epoch 3/25 [Training]: 100%|██████████| 110/110 [00:42<00:00,  2.56it/s, loss=0.8422]\n",
      "Epoch 3/25 [Validation]: 100%|██████████| 1/1 [00:00<00:00,  1.36it/s, loss=0.8336]\n",
      "100%|██████████| 6/6 [03:08<00:00, 31.42s/it]\n"
     ]
    },
    {
     "name": "stdout",
     "output_type": "stream",
     "text": [
      "train-epoch-loss:0.8422 valid-beta4-score:0.1118\n"
     ]
    },
    {
     "name": "stderr",
     "output_type": "stream",
     "text": [
      "Epoch 4/25 [Training]: 100%|██████████| 110/110 [00:45<00:00,  2.42it/s, loss=0.8317]\n",
      "Epoch 4/25 [Validation]: 100%|██████████| 1/1 [00:00<00:00,  1.19it/s, loss=0.8589]\n",
      "100%|██████████| 6/6 [03:17<00:00, 32.86s/it]\n"
     ]
    },
    {
     "name": "stdout",
     "output_type": "stream",
     "text": [
      "train-epoch-loss:0.8317 valid-beta4-score:0.1218\n"
     ]
    },
    {
     "name": "stderr",
     "output_type": "stream",
     "text": [
      "Epoch 5/25 [Training]: 100%|██████████| 110/110 [00:41<00:00,  2.65it/s, loss=0.8287]\n",
      "Epoch 5/25 [Validation]: 100%|██████████| 1/1 [00:00<00:00,  1.31it/s, loss=0.8337]\n",
      "100%|██████████| 6/6 [03:09<00:00, 31.59s/it]\n"
     ]
    },
    {
     "name": "stdout",
     "output_type": "stream",
     "text": [
      "train-epoch-loss:0.8287 valid-beta4-score:0.2282\n"
     ]
    },
    {
     "name": "stderr",
     "output_type": "stream",
     "text": [
      "Epoch 6/25 [Training]: 100%|██████████| 110/110 [00:43<00:00,  2.53it/s, loss=0.8216]\n",
      "Epoch 6/25 [Validation]: 100%|██████████| 1/1 [00:00<00:00,  1.31it/s, loss=0.8291]\n",
      "100%|██████████| 6/6 [03:29<00:00, 34.89s/it]\n"
     ]
    },
    {
     "name": "stdout",
     "output_type": "stream",
     "text": [
      "train-epoch-loss:0.8216 valid-beta4-score:0.3424\n"
     ]
    },
    {
     "name": "stderr",
     "output_type": "stream",
     "text": [
      "Epoch 7/25 [Training]: 100%|██████████| 110/110 [00:47<00:00,  2.32it/s, loss=0.8231]\n",
      "Epoch 7/25 [Validation]: 100%|██████████| 1/1 [00:00<00:00,  1.30it/s, loss=0.8165]\n",
      "100%|██████████| 6/6 [03:21<00:00, 33.66s/it]\n"
     ]
    },
    {
     "name": "stdout",
     "output_type": "stream",
     "text": [
      "train-epoch-loss:0.8231 valid-beta4-score:0.4375\n"
     ]
    },
    {
     "name": "stderr",
     "output_type": "stream",
     "text": [
      "Epoch 8/25 [Training]: 100%|██████████| 110/110 [00:43<00:00,  2.52it/s, loss=0.8080]\n",
      "Epoch 8/25 [Validation]: 100%|██████████| 1/1 [00:00<00:00,  1.32it/s, loss=0.7901]\n",
      "100%|██████████| 6/6 [03:33<00:00, 35.59s/it]\n"
     ]
    },
    {
     "name": "stdout",
     "output_type": "stream",
     "text": [
      "train-epoch-loss:0.8080 valid-beta4-score:0.4380\n"
     ]
    },
    {
     "name": "stderr",
     "output_type": "stream",
     "text": [
      "Epoch 9/25 [Training]: 100%|██████████| 110/110 [00:44<00:00,  2.45it/s, loss=0.8035]\n",
      "Epoch 9/25 [Validation]: 100%|██████████| 1/1 [00:00<00:00,  1.31it/s, loss=0.7911]\n",
      "100%|██████████| 6/6 [03:26<00:00, 34.39s/it]\n"
     ]
    },
    {
     "name": "stdout",
     "output_type": "stream",
     "text": [
      "train-epoch-loss:0.8035 valid-beta4-score:0.4582\n"
     ]
    },
    {
     "name": "stderr",
     "output_type": "stream",
     "text": [
      "Epoch 10/25 [Training]: 100%|██████████| 110/110 [00:47<00:00,  2.33it/s, loss=0.7903]\n",
      "Epoch 10/25 [Validation]: 100%|██████████| 1/1 [00:00<00:00,  1.29it/s, loss=0.6721]\n",
      "100%|██████████| 6/6 [03:28<00:00, 34.79s/it]\n"
     ]
    },
    {
     "name": "stdout",
     "output_type": "stream",
     "text": [
      "train-epoch-loss:0.7903 valid-beta4-score:0.4558\n"
     ]
    },
    {
     "name": "stderr",
     "output_type": "stream",
     "text": [
      "Epoch 11/25 [Training]: 100%|██████████| 110/110 [00:42<00:00,  2.60it/s, loss=0.7893]\n",
      "Epoch 11/25 [Validation]: 100%|██████████| 1/1 [00:00<00:00,  1.42it/s, loss=0.7511]\n",
      "100%|██████████| 6/6 [03:30<00:00, 35.01s/it]\n"
     ]
    },
    {
     "name": "stdout",
     "output_type": "stream",
     "text": [
      "train-epoch-loss:0.7893 valid-beta4-score:0.4779\n"
     ]
    },
    {
     "name": "stderr",
     "output_type": "stream",
     "text": [
      "Epoch 12/25 [Training]: 100%|██████████| 110/110 [00:43<00:00,  2.51it/s, loss=0.7747]\n",
      "Epoch 12/25 [Validation]: 100%|██████████| 1/1 [00:00<00:00,  1.29it/s, loss=0.7366]\n",
      "100%|██████████| 6/6 [03:24<00:00, 34.12s/it]\n"
     ]
    },
    {
     "name": "stdout",
     "output_type": "stream",
     "text": [
      "train-epoch-loss:0.7747 valid-beta4-score:0.4987\n"
     ]
    },
    {
     "name": "stderr",
     "output_type": "stream",
     "text": [
      "Epoch 13/25 [Training]: 100%|██████████| 110/110 [00:45<00:00,  2.42it/s, loss=0.7749]\n",
      "Epoch 13/25 [Validation]: 100%|██████████| 1/1 [00:00<00:00,  1.30it/s, loss=0.8577]\n",
      "100%|██████████| 6/6 [03:25<00:00, 34.23s/it]\n"
     ]
    },
    {
     "name": "stdout",
     "output_type": "stream",
     "text": [
      "train-epoch-loss:0.7749 valid-beta4-score:0.5054\n"
     ]
    },
    {
     "name": "stderr",
     "output_type": "stream",
     "text": [
      "Epoch 14/25 [Training]: 100%|██████████| 110/110 [00:44<00:00,  2.45it/s, loss=0.7754]\n",
      "Epoch 14/25 [Validation]: 100%|██████████| 1/1 [00:00<00:00,  1.33it/s, loss=0.7836]\n",
      "100%|██████████| 6/6 [03:25<00:00, 34.32s/it]\n"
     ]
    },
    {
     "name": "stdout",
     "output_type": "stream",
     "text": [
      "train-epoch-loss:0.7754 valid-beta4-score:0.4992\n"
     ]
    },
    {
     "name": "stderr",
     "output_type": "stream",
     "text": [
      "Epoch 15/25 [Training]: 100%|██████████| 110/110 [00:41<00:00,  2.65it/s, loss=0.7693]\n",
      "Epoch 15/25 [Validation]: 100%|██████████| 1/1 [00:00<00:00,  1.34it/s, loss=0.7184]\n",
      "100%|██████████| 6/6 [03:25<00:00, 34.22s/it]\n"
     ]
    },
    {
     "name": "stdout",
     "output_type": "stream",
     "text": [
      "train-epoch-loss:0.7693 valid-beta4-score:0.5127\n"
     ]
    },
    {
     "name": "stderr",
     "output_type": "stream",
     "text": [
      "Epoch 16/25 [Training]: 100%|██████████| 110/110 [00:47<00:00,  2.32it/s, loss=0.7592]\n",
      "Epoch 16/25 [Validation]: 100%|██████████| 1/1 [00:00<00:00,  1.32it/s, loss=0.7212]\n",
      "100%|██████████| 6/6 [03:25<00:00, 34.19s/it]\n"
     ]
    },
    {
     "name": "stdout",
     "output_type": "stream",
     "text": [
      "train-epoch-loss:0.7592 valid-beta4-score:0.5142\n"
     ]
    },
    {
     "name": "stderr",
     "output_type": "stream",
     "text": [
      "Epoch 17/25 [Training]: 100%|██████████| 110/110 [00:41<00:00,  2.63it/s, loss=0.7750]\n",
      "Epoch 17/25 [Validation]: 100%|██████████| 1/1 [00:00<00:00,  1.32it/s, loss=0.8576]\n",
      "100%|██████████| 6/6 [03:25<00:00, 34.18s/it]\n"
     ]
    },
    {
     "name": "stdout",
     "output_type": "stream",
     "text": [
      "train-epoch-loss:0.7750 valid-beta4-score:0.5137\n"
     ]
    },
    {
     "name": "stderr",
     "output_type": "stream",
     "text": [
      "Epoch 18/25 [Training]: 100%|██████████| 110/110 [00:45<00:00,  2.39it/s, loss=0.7689]\n",
      "Epoch 18/25 [Validation]: 100%|██████████| 1/1 [00:00<00:00,  1.42it/s, loss=0.8576]\n",
      "100%|██████████| 6/6 [03:25<00:00, 34.30s/it]\n"
     ]
    },
    {
     "name": "stdout",
     "output_type": "stream",
     "text": [
      "train-epoch-loss:0.7689 valid-beta4-score:0.5108\n"
     ]
    },
    {
     "name": "stderr",
     "output_type": "stream",
     "text": [
      "Epoch 19/25 [Training]: 100%|██████████| 110/110 [00:45<00:00,  2.39it/s, loss=0.7717]\n",
      "Epoch 19/25 [Validation]: 100%|██████████| 1/1 [00:00<00:00,  1.37it/s, loss=0.7240]\n",
      "100%|██████████| 6/6 [03:24<00:00, 34.06s/it]\n"
     ]
    },
    {
     "name": "stdout",
     "output_type": "stream",
     "text": [
      "train-epoch-loss:0.7717 valid-beta4-score:0.5401\n"
     ]
    },
    {
     "name": "stderr",
     "output_type": "stream",
     "text": [
      "Epoch 20/25 [Training]: 100%|██████████| 110/110 [00:46<00:00,  2.39it/s, loss=0.7655]\n",
      "Epoch 20/25 [Validation]: 100%|██████████| 1/1 [00:00<00:00,  1.38it/s, loss=0.8575]\n",
      "100%|██████████| 6/6 [03:26<00:00, 34.37s/it]\n"
     ]
    },
    {
     "name": "stdout",
     "output_type": "stream",
     "text": [
      "train-epoch-loss:0.7655 valid-beta4-score:0.5212\n"
     ]
    },
    {
     "name": "stderr",
     "output_type": "stream",
     "text": [
      "Epoch 21/25 [Training]: 100%|██████████| 110/110 [00:46<00:00,  2.35it/s, loss=0.7596]\n",
      "Epoch 21/25 [Validation]: 100%|██████████| 1/1 [00:00<00:00,  1.33it/s, loss=0.6457]\n",
      "100%|██████████| 6/6 [03:27<00:00, 34.56s/it]\n"
     ]
    },
    {
     "name": "stdout",
     "output_type": "stream",
     "text": [
      "train-epoch-loss:0.7596 valid-beta4-score:0.5289\n"
     ]
    },
    {
     "name": "stderr",
     "output_type": "stream",
     "text": [
      "Epoch 22/25 [Training]: 100%|██████████| 110/110 [00:40<00:00,  2.72it/s, loss=0.7689]\n",
      "Epoch 22/25 [Validation]: 100%|██████████| 1/1 [00:00<00:00,  1.32it/s, loss=0.6882]\n",
      "100%|██████████| 6/6 [03:26<00:00, 34.36s/it]\n"
     ]
    },
    {
     "name": "stdout",
     "output_type": "stream",
     "text": [
      "train-epoch-loss:0.7689 valid-beta4-score:0.5311\n"
     ]
    },
    {
     "name": "stderr",
     "output_type": "stream",
     "text": [
      "Epoch 23/25 [Training]: 100%|██████████| 110/110 [00:40<00:00,  2.69it/s, loss=0.7766]\n",
      "Epoch 23/25 [Validation]: 100%|██████████| 1/1 [00:00<00:00,  1.39it/s, loss=0.7255]\n",
      "100%|██████████| 6/6 [03:25<00:00, 34.20s/it]\n"
     ]
    },
    {
     "name": "stdout",
     "output_type": "stream",
     "text": [
      "train-epoch-loss:0.7766 valid-beta4-score:0.5108\n"
     ]
    },
    {
     "name": "stderr",
     "output_type": "stream",
     "text": [
      "Epoch 24/25 [Training]: 100%|██████████| 110/110 [00:45<00:00,  2.44it/s, loss=0.7647]\n",
      "Epoch 24/25 [Validation]: 100%|██████████| 1/1 [00:00<00:00,  1.33it/s, loss=0.6522]\n",
      "100%|██████████| 6/6 [03:25<00:00, 34.33s/it]\n"
     ]
    },
    {
     "name": "stdout",
     "output_type": "stream",
     "text": [
      "train-epoch-loss:0.7647 valid-beta4-score:0.5248\n"
     ]
    },
    {
     "name": "stderr",
     "output_type": "stream",
     "text": [
      "Epoch 25/25 [Training]: 100%|██████████| 110/110 [00:42<00:00,  2.58it/s, loss=0.7647]\n",
      "Epoch 25/25 [Validation]: 100%|██████████| 1/1 [00:00<00:00,  1.32it/s, loss=0.7225]\n",
      "100%|██████████| 6/6 [03:24<00:00, 34.12s/it]\n"
     ]
    },
    {
     "name": "stdout",
     "output_type": "stream",
     "text": [
      "train-epoch-loss:0.7647 valid-beta4-score:0.5247\n"
     ]
    },
    {
     "data": {
      "text/html": [
       "Finishing last run (ID:7pbm61yl) before initializing another..."
      ],
      "text/plain": [
       "<IPython.core.display.HTML object>"
      ]
     },
     "metadata": {},
     "output_type": "display_data"
    },
    {
     "name": "stderr",
     "output_type": "stream",
     "text": [
      "wandb: WARNING Source type is set to 'repo' but some required information is missing from the environment. A job will not be created from this run. See https://docs.wandb.ai/guides/launch/create-job\n"
     ]
    },
    {
     "data": {
      "application/vnd.jupyter.widget-view+json": {
       "model_id": "2a1145e758fa41d790a6734b2767ea60",
       "version_major": 2,
       "version_minor": 0
      },
      "text/plain": [
       "VBox(children=(Label(value='0.004 MB of 0.004 MB uploaded\\r'), FloatProgress(value=1.0, max=1.0)))"
      ]
     },
     "metadata": {},
     "output_type": "display_data"
    },
    {
     "data": {
      "text/html": [
       "<style>\n",
       "    table.wandb td:nth-child(1) { padding: 0 10px; text-align: left ; width: auto;} td:nth-child(2) {text-align: left ; width: 100%}\n",
       "    .wandb-row { display: flex; flex-direction: row; flex-wrap: wrap; justify-content: flex-start; width: 100% }\n",
       "    .wandb-col { display: flex; flex-direction: column; flex-basis: 100%; flex: 1; padding: 10px; }\n",
       "    </style>\n",
       "<div class=\"wandb-row\"><div class=\"wandb-col\"><h3>Run history:</h3><br/><table class=\"wandb\"><tr><td>01_epoch</td><td>▁▁▂▂▂▂▃▃▃▄▄▄▅▅▅▅▆▆▆▇▇▇▇██</td></tr><tr><td>02_train_loss</td><td>█▆▅▄▄▄▄▃▃▂▂▂▂▂▁▁▂▁▂▁▁▁▂▁▁</td></tr><tr><td>03_valid_loss</td><td>█▇▇▇▇▆▆▅▅▂▄▄▇▅▃▃▇▇▃▇▁▂▃▁▃</td></tr><tr><td>04_valid_best_score</td><td>▅▅▁▁▃▅▆▆▇▇▇▇▇▇███████████</td></tr><tr><td>apo-ferritin</td><td>▁▁▁▁▁▁▃▃▁▆▆▆▆████████▆███</td></tr><tr><td>apoo_ferritin_f4</td><td>▂▁▁▁▁▁▄▃▅▇▆▆▆▆▇▇▇▇█▇▇▇▇▇▇</td></tr><tr><td>apoo_ferritin_p</td><td>▁▁▁▁▁▁▂▂▃▆▆▅▅▆▇▇▆▅█▇▇▇▅▆▇</td></tr><tr><td>apoo_ferritin_r</td><td>▃▅▁▁▁▂▅▅▆▇▆▆▆▆▇▇▇▇█▇▇▇▇▇▇</td></tr><tr><td>beta-amylase</td><td>▁▁▁▁▁▁▁▁▁▁▁▁▁▁▁▁▁▁▁▁▁▁▁▁▁</td></tr><tr><td>beta-galactosidase</td><td>▁▁▁▁▁▁██▁████▁▁▁▁▁▁▁▁▁▁▁▁</td></tr><tr><td>beta_amylase_f4</td><td>█▃▁▁▁▁▆▂▁▁▁▁▁▁▁▁▁▁▁▁▁▁▁▁▁</td></tr><tr><td>beta_amylase_p</td><td>█▂▁▁▁▁▇▂▁▁▁▁▁▁▁▁▁▁▁▁▁▁▁▁▁</td></tr><tr><td>beta_amylase_r</td><td>▇█▁▁▁▁▅▁▁▁▁▁▁▁▁▁▁▁▁▁▁▁▁▁▁</td></tr><tr><td>beta_galactosidase_f4</td><td>▆▅▁▁▁▄██▂▂▂▂▂▂▂▂▂▂▂▂▂▂▂▂▂</td></tr><tr><td>beta_galactosidase_p</td><td>▅▄▁▁▁▃██▃▃▃▃▃▂▃▃▃▂▃▃▃▃▂▃▃</td></tr><tr><td>beta_galactosidase_r</td><td>▇▇▁▁▁▅██▂▁▁▁▁▁▁▁▁▁▁▁▁▁▁▁▁</td></tr><tr><td>ribosome</td><td>▂▆▄▇█▁█▅▅█▅▆▇▃▅▃▅▆▇▆▅▅▆▅▆</td></tr><tr><td>ribosome_f4</td><td>▁▂▄▃▅▄▂▁▆█▆█▇▇▇█▇█▇███▇██</td></tr><tr><td>ribosome_p</td><td>▄▃▄▃▂▅▁▂█▅▅▆▄▄▆▇▆▆▅▆██▅▇▇</td></tr><tr><td>ribosome_r</td><td>▁▃▅▃▇▄▃▁▅█▆█▇▇▇█▇███▇▇▇█▇</td></tr><tr><td>thyroglobulin</td><td>▂▁▁▁▁▂▃▅▄██▆▆▇▅▅▅█▃▂▅▄▂▂▅</td></tr><tr><td>thyroglobulin_f4</td><td>▆▅▁▁▄▆▅▆▇▆▇▇█▇▇██████████</td></tr><tr><td>thyroglobulin_p</td><td>▄▃▁▁▂▄▃▃▄▃▅▆▇▇▆▇▆███▇█▇▇▇</td></tr><tr><td>thyroglobulin_r</td><td>▇▇▁▁██▇▇█▇███▇▇▇█████████</td></tr><tr><td>virus-like-particle</td><td>▃▁▁▁▁▁▅▅▅▆▆▆█████▆▆██▆███</td></tr><tr><td>virus_like_particle_f4</td><td>▂▂▁▁▂▂▄▄▇████████▇████▇██</td></tr><tr><td>virus_like_particle_p</td><td>▁▁▁▁▁▁▂▂▅▇▇▆▇▆█▇▆▆█▇▇▇▆▆▇</td></tr><tr><td>virus_like_particle_r</td><td>▆▆▁▂▂▃▇██████████████████</td></tr></table><br/></div><div class=\"wandb-col\"><h3>Run summary:</h3><br/><table class=\"wandb\"><tr><td>01_epoch</td><td>24</td></tr><tr><td>02_train_loss</td><td>0.76466</td></tr><tr><td>03_valid_loss</td><td>0.72253</td></tr><tr><td>04_valid_best_score</td><td>0.52467</td></tr><tr><td>apo-ferritin</td><td>0.2</td></tr><tr><td>apoo_ferritin_f4</td><td>0.42567</td></tr><tr><td>apoo_ferritin_p</td><td>0.25397</td></tr><tr><td>apoo_ferritin_r</td><td>0.44444</td></tr><tr><td>beta-amylase</td><td>0.05</td></tr><tr><td>beta-galactosidase</td><td>0.05</td></tr><tr><td>beta_amylase_f4</td><td>0.0</td></tr><tr><td>beta_amylase_p</td><td>0.0</td></tr><tr><td>beta_amylase_r</td><td>0.0</td></tr><tr><td>beta_galactosidase_f4</td><td>0.0372</td></tr><tr><td>beta_galactosidase_p</td><td>0.0137</td></tr><tr><td>beta_galactosidase_r</td><td>0.04167</td></tr><tr><td>ribosome</td><td>0.55</td></tr><tr><td>ribosome_f4</td><td>0.88928</td></tr><tr><td>ribosome_p</td><td>0.56075</td></tr><tr><td>ribosome_r</td><td>0.92308</td></tr><tr><td>thyroglobulin</td><td>0.45</td></tr><tr><td>thyroglobulin_f4</td><td>0.73985</td></tr><tr><td>thyroglobulin_p</td><td>0.18</td></tr><tr><td>thyroglobulin_r</td><td>0.91837</td></tr><tr><td>virus-like-particle</td><td>0.25</td></tr><tr><td>virus_like_particle_f4</td><td>0.80364</td></tr><tr><td>virus_like_particle_p</td><td>0.19403</td></tr><tr><td>virus_like_particle_r</td><td>1.0</td></tr></table><br/></div></div>"
      ],
      "text/plain": [
       "<IPython.core.display.HTML object>"
      ]
     },
     "metadata": {},
     "output_type": "display_data"
    },
    {
     "data": {
      "text/html": [
       " View run <strong style=\"color:#cdcd00\">exp068-recreate-baseline-renet34d-dstride-attention_TS_99_9</strong> at: <a href='https://wandb.ai/latent-walkers/czii2024/runs/7pbm61yl' target=\"_blank\">https://wandb.ai/latent-walkers/czii2024/runs/7pbm61yl</a><br/>Synced 5 W&B file(s), 0 media file(s), 0 artifact file(s) and 0 other file(s)"
      ],
      "text/plain": [
       "<IPython.core.display.HTML object>"
      ]
     },
     "metadata": {},
     "output_type": "display_data"
    },
    {
     "data": {
      "text/html": [
       "Find logs at: <code>./wandb/run-20250127_225120-7pbm61yl/logs</code>"
      ],
      "text/plain": [
       "<IPython.core.display.HTML object>"
      ]
     },
     "metadata": {},
     "output_type": "display_data"
    },
    {
     "data": {
      "text/html": [
       "Successfully finished last run (ID:7pbm61yl). Initializing new run:<br/>"
      ],
      "text/plain": [
       "<IPython.core.display.HTML object>"
      ]
     },
     "metadata": {},
     "output_type": "display_data"
    },
    {
     "data": {
      "application/vnd.jupyter.widget-view+json": {
       "model_id": "cd8bb2a3b0e1409d8c35ae264aa87285",
       "version_major": 2,
       "version_minor": 0
      },
      "text/plain": [
       "VBox(children=(Label(value='Waiting for wandb.init()...\\r'), FloatProgress(value=0.011113336422163734, max=1.0…"
      ]
     },
     "metadata": {},
     "output_type": "display_data"
    },
    {
     "data": {
      "text/html": [
       "wandb version 0.19.4 is available!  To upgrade, please run:\n",
       " $ pip install wandb --upgrade"
      ],
      "text/plain": [
       "<IPython.core.display.HTML object>"
      ]
     },
     "metadata": {},
     "output_type": "display_data"
    },
    {
     "data": {
      "text/html": [
       "Tracking run with wandb version 0.16.1"
      ],
      "text/plain": [
       "<IPython.core.display.HTML object>"
      ]
     },
     "metadata": {},
     "output_type": "display_data"
    },
    {
     "data": {
      "text/html": [
       "Run data is saved locally in <code>/home/tatsuya/code/projects/kaggle/CryoET/experiments/exp068-recreate-baseline-renet34d-dstride-attention/wandb/run-20250128_004558-25mglc6o</code>"
      ],
      "text/plain": [
       "<IPython.core.display.HTML object>"
      ]
     },
     "metadata": {},
     "output_type": "display_data"
    },
    {
     "data": {
      "text/html": [
       "Syncing run <strong><a href='https://wandb.ai/latent-walkers/czii2024/runs/25mglc6o' target=\"_blank\">exp068-recreate-baseline-renet34d-dstride-attention_TS_6_4</a></strong> to <a href='https://wandb.ai/latent-walkers/czii2024' target=\"_blank\">Weights & Biases</a> (<a href='https://wandb.me/run' target=\"_blank\">docs</a>)<br/>"
      ],
      "text/plain": [
       "<IPython.core.display.HTML object>"
      ]
     },
     "metadata": {},
     "output_type": "display_data"
    },
    {
     "data": {
      "text/html": [
       " View project at <a href='https://wandb.ai/latent-walkers/czii2024' target=\"_blank\">https://wandb.ai/latent-walkers/czii2024</a>"
      ],
      "text/plain": [
       "<IPython.core.display.HTML object>"
      ]
     },
     "metadata": {},
     "output_type": "display_data"
    },
    {
     "data": {
      "text/html": [
       " View run at <a href='https://wandb.ai/latent-walkers/czii2024/runs/25mglc6o' target=\"_blank\">https://wandb.ai/latent-walkers/czii2024/runs/25mglc6o</a>"
      ],
      "text/plain": [
       "<IPython.core.display.HTML object>"
      ]
     },
     "metadata": {},
     "output_type": "display_data"
    },
    {
     "name": "stderr",
     "output_type": "stream",
     "text": [
      "100%|██████████| 220/220 [00:30<00:00,  7.16it/s]\n",
      "100%|██████████| 1/1 [00:01<00:00,  1.69s/it]\n",
      "Epoch 1/25 [Training]: 100%|██████████| 110/110 [00:46<00:00,  2.37it/s, loss=0.9293]\n",
      "Epoch 1/25 [Validation]: 100%|██████████| 1/1 [00:00<00:00,  1.30it/s, loss=0.9017]\n",
      "100%|██████████| 6/6 [03:44<00:00, 37.50s/it]\n"
     ]
    },
    {
     "name": "stdout",
     "output_type": "stream",
     "text": [
      "train-epoch-loss:0.9293 valid-beta4-score:0.2440\n"
     ]
    },
    {
     "name": "stderr",
     "output_type": "stream",
     "text": [
      "Epoch 2/25 [Training]: 100%|██████████| 110/110 [00:43<00:00,  2.50it/s, loss=0.8869]\n",
      "Epoch 2/25 [Validation]: 100%|██████████| 1/1 [00:00<00:00,  1.35it/s, loss=0.8540]\n",
      "100%|██████████| 6/6 [03:31<00:00, 35.29s/it]\n"
     ]
    },
    {
     "name": "stdout",
     "output_type": "stream",
     "text": [
      "train-epoch-loss:0.8869 valid-beta4-score:0.2379\n"
     ]
    },
    {
     "name": "stderr",
     "output_type": "stream",
     "text": [
      "Epoch 3/25 [Training]: 100%|██████████| 110/110 [00:43<00:00,  2.53it/s, loss=0.8537]\n",
      "Epoch 3/25 [Validation]: 100%|██████████| 1/1 [00:00<00:00,  1.35it/s, loss=0.8000]\n",
      "100%|██████████| 6/6 [03:20<00:00, 33.40s/it]\n"
     ]
    },
    {
     "name": "stdout",
     "output_type": "stream",
     "text": [
      "train-epoch-loss:0.8537 valid-beta4-score:0.1285\n"
     ]
    },
    {
     "name": "stderr",
     "output_type": "stream",
     "text": [
      "Epoch 4/25 [Training]: 100%|██████████| 110/110 [00:44<00:00,  2.48it/s, loss=0.8323]\n",
      "Epoch 4/25 [Validation]: 100%|██████████| 1/1 [00:00<00:00,  1.34it/s, loss=0.7746]\n",
      "100%|██████████| 6/6 [03:20<00:00, 33.35s/it]\n"
     ]
    },
    {
     "name": "stdout",
     "output_type": "stream",
     "text": [
      "train-epoch-loss:0.8323 valid-beta4-score:0.1814\n"
     ]
    },
    {
     "name": "stderr",
     "output_type": "stream",
     "text": [
      "Epoch 5/25 [Training]: 100%|██████████| 110/110 [00:47<00:00,  2.32it/s, loss=0.8262]\n",
      "Epoch 5/25 [Validation]: 100%|██████████| 1/1 [00:00<00:00,  1.26it/s, loss=0.7999]\n",
      "100%|██████████| 6/6 [03:18<00:00, 33.15s/it]\n"
     ]
    },
    {
     "name": "stdout",
     "output_type": "stream",
     "text": [
      "train-epoch-loss:0.8262 valid-beta4-score:0.2276\n"
     ]
    },
    {
     "name": "stderr",
     "output_type": "stream",
     "text": [
      "Epoch 6/25 [Training]: 100%|██████████| 110/110 [00:47<00:00,  2.32it/s, loss=0.8189]\n",
      "Epoch 6/25 [Validation]: 100%|██████████| 1/1 [00:00<00:00,  1.35it/s, loss=0.7955]\n",
      "100%|██████████| 6/6 [03:17<00:00, 32.86s/it]\n"
     ]
    },
    {
     "name": "stdout",
     "output_type": "stream",
     "text": [
      "train-epoch-loss:0.8189 valid-beta4-score:0.2109\n"
     ]
    },
    {
     "name": "stderr",
     "output_type": "stream",
     "text": [
      "Epoch 7/25 [Training]: 100%|██████████| 110/110 [00:45<00:00,  2.43it/s, loss=0.8062]\n",
      "Epoch 7/25 [Validation]: 100%|██████████| 1/1 [00:00<00:00,  1.34it/s, loss=0.8034]\n",
      "100%|██████████| 6/6 [03:13<00:00, 32.33s/it]\n"
     ]
    },
    {
     "name": "stdout",
     "output_type": "stream",
     "text": [
      "train-epoch-loss:0.8062 valid-beta4-score:0.2283\n"
     ]
    },
    {
     "name": "stderr",
     "output_type": "stream",
     "text": [
      "Epoch 8/25 [Training]: 100%|██████████| 110/110 [00:43<00:00,  2.52it/s, loss=0.7995]\n",
      "Epoch 8/25 [Validation]: 100%|██████████| 1/1 [00:00<00:00,  1.40it/s, loss=0.7607]\n",
      "100%|██████████| 6/6 [03:13<00:00, 32.33s/it]\n"
     ]
    },
    {
     "name": "stdout",
     "output_type": "stream",
     "text": [
      "train-epoch-loss:0.7995 valid-beta4-score:0.2368\n"
     ]
    },
    {
     "name": "stderr",
     "output_type": "stream",
     "text": [
      "Epoch 9/25 [Training]: 100%|██████████| 110/110 [00:43<00:00,  2.55it/s, loss=0.7902]\n",
      "Epoch 9/25 [Validation]: 100%|██████████| 1/1 [00:00<00:00,  1.27it/s, loss=0.8575]\n",
      "100%|██████████| 6/6 [03:13<00:00, 32.30s/it]\n"
     ]
    },
    {
     "name": "stdout",
     "output_type": "stream",
     "text": [
      "train-epoch-loss:0.7902 valid-beta4-score:0.2199\n"
     ]
    },
    {
     "name": "stderr",
     "output_type": "stream",
     "text": [
      "Epoch 10/25 [Training]: 100%|██████████| 110/110 [00:43<00:00,  2.52it/s, loss=0.7797]\n",
      "Epoch 10/25 [Validation]: 100%|██████████| 1/1 [00:00<00:00,  1.30it/s, loss=0.7239]\n",
      "100%|██████████| 6/6 [03:13<00:00, 32.18s/it]\n"
     ]
    },
    {
     "name": "stdout",
     "output_type": "stream",
     "text": [
      "train-epoch-loss:0.7797 valid-beta4-score:0.2312\n"
     ]
    },
    {
     "name": "stderr",
     "output_type": "stream",
     "text": [
      "Epoch 11/25 [Training]: 100%|██████████| 110/110 [00:41<00:00,  2.63it/s, loss=0.7871]\n",
      "Epoch 11/25 [Validation]: 100%|██████████| 1/1 [00:00<00:00,  1.28it/s, loss=0.8390]\n",
      "100%|██████████| 6/6 [03:12<00:00, 32.15s/it]\n"
     ]
    },
    {
     "name": "stdout",
     "output_type": "stream",
     "text": [
      "train-epoch-loss:0.7871 valid-beta4-score:0.2399\n"
     ]
    },
    {
     "name": "stderr",
     "output_type": "stream",
     "text": [
      "Epoch 12/25 [Training]: 100%|██████████| 110/110 [00:48<00:00,  2.28it/s, loss=0.7787]\n",
      "Epoch 12/25 [Validation]: 100%|██████████| 1/1 [00:00<00:00,  1.31it/s, loss=0.8577]\n",
      "100%|██████████| 6/6 [03:14<00:00, 32.41s/it]\n"
     ]
    },
    {
     "name": "stdout",
     "output_type": "stream",
     "text": [
      "train-epoch-loss:0.7787 valid-beta4-score:0.2281\n"
     ]
    },
    {
     "name": "stderr",
     "output_type": "stream",
     "text": [
      "Epoch 13/25 [Training]: 100%|██████████| 110/110 [00:47<00:00,  2.32it/s, loss=0.7827]\n",
      "Epoch 13/25 [Validation]: 100%|██████████| 1/1 [00:00<00:00,  1.22it/s, loss=0.8574]\n",
      "100%|██████████| 6/6 [03:12<00:00, 32.12s/it]\n"
     ]
    },
    {
     "name": "stdout",
     "output_type": "stream",
     "text": [
      "train-epoch-loss:0.7827 valid-beta4-score:0.2359\n"
     ]
    },
    {
     "name": "stderr",
     "output_type": "stream",
     "text": [
      "Epoch 14/25 [Training]: 100%|██████████| 110/110 [00:41<00:00,  2.66it/s, loss=0.7891]\n",
      "Epoch 14/25 [Validation]: 100%|██████████| 1/1 [00:00<00:00,  1.35it/s, loss=0.7012]\n",
      "100%|██████████| 6/6 [03:13<00:00, 32.20s/it]\n"
     ]
    },
    {
     "name": "stdout",
     "output_type": "stream",
     "text": [
      "train-epoch-loss:0.7891 valid-beta4-score:0.2375\n"
     ]
    },
    {
     "name": "stderr",
     "output_type": "stream",
     "text": [
      "Epoch 15/25 [Training]: 100%|██████████| 110/110 [00:43<00:00,  2.51it/s, loss=0.7773]\n",
      "Epoch 15/25 [Validation]: 100%|██████████| 1/1 [00:00<00:00,  1.29it/s, loss=0.8560]\n",
      "100%|██████████| 6/6 [03:13<00:00, 32.29s/it]\n"
     ]
    },
    {
     "name": "stdout",
     "output_type": "stream",
     "text": [
      "train-epoch-loss:0.7773 valid-beta4-score:0.2295\n"
     ]
    },
    {
     "name": "stderr",
     "output_type": "stream",
     "text": [
      "Epoch 16/25 [Training]: 100%|██████████| 110/110 [00:47<00:00,  2.30it/s, loss=0.7753]\n",
      "Epoch 16/25 [Validation]: 100%|██████████| 1/1 [00:00<00:00,  1.30it/s, loss=0.8285]\n",
      "100%|██████████| 6/6 [03:14<00:00, 32.43s/it]\n"
     ]
    },
    {
     "name": "stdout",
     "output_type": "stream",
     "text": [
      "train-epoch-loss:0.7753 valid-beta4-score:0.2130\n"
     ]
    },
    {
     "name": "stderr",
     "output_type": "stream",
     "text": [
      "Epoch 17/25 [Training]: 100%|██████████| 110/110 [00:42<00:00,  2.59it/s, loss=0.7786]\n",
      "Epoch 17/25 [Validation]: 100%|██████████| 1/1 [00:00<00:00,  1.25it/s, loss=0.6660]\n",
      "100%|██████████| 6/6 [03:13<00:00, 32.27s/it]\n"
     ]
    },
    {
     "name": "stdout",
     "output_type": "stream",
     "text": [
      "train-epoch-loss:0.7786 valid-beta4-score:0.2372\n"
     ]
    },
    {
     "name": "stderr",
     "output_type": "stream",
     "text": [
      "Epoch 18/25 [Training]: 100%|██████████| 110/110 [00:47<00:00,  2.34it/s, loss=0.7731]\n",
      "Epoch 18/25 [Validation]: 100%|██████████| 1/1 [00:00<00:00,  1.31it/s, loss=0.8584]\n",
      "100%|██████████| 6/6 [03:20<00:00, 33.49s/it]\n"
     ]
    },
    {
     "name": "stdout",
     "output_type": "stream",
     "text": [
      "train-epoch-loss:0.7731 valid-beta4-score:0.3200\n"
     ]
    },
    {
     "name": "stderr",
     "output_type": "stream",
     "text": [
      "Epoch 19/25 [Training]: 100%|██████████| 110/110 [00:45<00:00,  2.40it/s, loss=0.7651]\n",
      "Epoch 19/25 [Validation]: 100%|██████████| 1/1 [00:00<00:00,  1.26it/s, loss=0.8160]\n",
      "100%|██████████| 6/6 [03:23<00:00, 33.99s/it]\n"
     ]
    },
    {
     "name": "stdout",
     "output_type": "stream",
     "text": [
      "train-epoch-loss:0.7651 valid-beta4-score:0.3877\n"
     ]
    },
    {
     "name": "stderr",
     "output_type": "stream",
     "text": [
      "Epoch 20/25 [Training]: 100%|██████████| 110/110 [00:48<00:00,  2.26it/s, loss=0.7587]\n",
      "Epoch 20/25 [Validation]: 100%|██████████| 1/1 [00:00<00:00,  1.25it/s, loss=0.8582]\n",
      "100%|██████████| 6/6 [03:24<00:00, 34.07s/it]\n"
     ]
    },
    {
     "name": "stdout",
     "output_type": "stream",
     "text": [
      "train-epoch-loss:0.7587 valid-beta4-score:0.3827\n"
     ]
    },
    {
     "name": "stderr",
     "output_type": "stream",
     "text": [
      "Epoch 21/25 [Training]: 100%|██████████| 110/110 [00:42<00:00,  2.58it/s, loss=0.7619]\n",
      "Epoch 21/25 [Validation]: 100%|██████████| 1/1 [00:00<00:00,  1.31it/s, loss=0.6380]\n",
      "100%|██████████| 6/6 [03:24<00:00, 34.09s/it]\n"
     ]
    },
    {
     "name": "stdout",
     "output_type": "stream",
     "text": [
      "train-epoch-loss:0.7619 valid-beta4-score:0.4019\n"
     ]
    },
    {
     "name": "stderr",
     "output_type": "stream",
     "text": [
      "Epoch 22/25 [Training]: 100%|██████████| 110/110 [00:47<00:00,  2.29it/s, loss=0.7493]\n",
      "Epoch 22/25 [Validation]: 100%|██████████| 1/1 [00:00<00:00,  1.35it/s, loss=0.6868]\n",
      "100%|██████████| 6/6 [03:23<00:00, 33.91s/it]\n"
     ]
    },
    {
     "name": "stdout",
     "output_type": "stream",
     "text": [
      "train-epoch-loss:0.7493 valid-beta4-score:0.4184\n"
     ]
    },
    {
     "name": "stderr",
     "output_type": "stream",
     "text": [
      "Epoch 23/25 [Training]: 100%|██████████| 110/110 [00:43<00:00,  2.55it/s, loss=0.7690]\n",
      "Epoch 23/25 [Validation]: 100%|██████████| 1/1 [00:00<00:00,  1.26it/s, loss=0.6464]\n",
      "100%|██████████| 6/6 [03:24<00:00, 34.12s/it]\n"
     ]
    },
    {
     "name": "stdout",
     "output_type": "stream",
     "text": [
      "train-epoch-loss:0.7690 valid-beta4-score:0.4134\n"
     ]
    },
    {
     "name": "stderr",
     "output_type": "stream",
     "text": [
      "Epoch 24/25 [Training]: 100%|██████████| 110/110 [00:44<00:00,  2.48it/s, loss=0.7567]\n",
      "Epoch 24/25 [Validation]: 100%|██████████| 1/1 [00:00<00:00,  1.43it/s, loss=0.6296]\n",
      "100%|██████████| 6/6 [03:23<00:00, 33.98s/it]\n"
     ]
    },
    {
     "name": "stdout",
     "output_type": "stream",
     "text": [
      "train-epoch-loss:0.7567 valid-beta4-score:0.4231\n"
     ]
    },
    {
     "name": "stderr",
     "output_type": "stream",
     "text": [
      "Epoch 25/25 [Training]: 100%|██████████| 110/110 [00:47<00:00,  2.30it/s, loss=0.7464]\n",
      "Epoch 25/25 [Validation]: 100%|██████████| 1/1 [00:00<00:00,  1.32it/s, loss=0.8578]\n",
      "100%|██████████| 6/6 [03:24<00:00, 34.02s/it]\n"
     ]
    },
    {
     "name": "stdout",
     "output_type": "stream",
     "text": [
      "train-epoch-loss:0.7464 valid-beta4-score:0.4073\n"
     ]
    },
    {
     "data": {
      "text/html": [
       "Finishing last run (ID:25mglc6o) before initializing another..."
      ],
      "text/plain": [
       "<IPython.core.display.HTML object>"
      ]
     },
     "metadata": {},
     "output_type": "display_data"
    },
    {
     "name": "stderr",
     "output_type": "stream",
     "text": [
      "wandb: WARNING Source type is set to 'repo' but some required information is missing from the environment. A job will not be created from this run. See https://docs.wandb.ai/guides/launch/create-job\n"
     ]
    },
    {
     "data": {
      "application/vnd.jupyter.widget-view+json": {
       "model_id": "2126da3af76e4728a30dac7465e563f1",
       "version_major": 2,
       "version_minor": 0
      },
      "text/plain": [
       "VBox(children=(Label(value='0.004 MB of 0.004 MB uploaded\\r'), FloatProgress(value=1.0, max=1.0)))"
      ]
     },
     "metadata": {},
     "output_type": "display_data"
    },
    {
     "data": {
      "text/html": [
       "<style>\n",
       "    table.wandb td:nth-child(1) { padding: 0 10px; text-align: left ; width: auto;} td:nth-child(2) {text-align: left ; width: 100%}\n",
       "    .wandb-row { display: flex; flex-direction: row; flex-wrap: wrap; justify-content: flex-start; width: 100% }\n",
       "    .wandb-col { display: flex; flex-direction: column; flex-basis: 100%; flex: 1; padding: 10px; }\n",
       "    </style>\n",
       "<div class=\"wandb-row\"><div class=\"wandb-col\"><h3>Run history:</h3><br/><table class=\"wandb\"><tr><td>01_epoch</td><td>▁▁▂▂▂▂▃▃▃▄▄▄▅▅▅▅▆▆▆▇▇▇▇██</td></tr><tr><td>02_train_loss</td><td>█▆▅▄▄▄▃▃▃▂▃▂▂▃▂▂▂▂▂▁▂▁▂▁▁</td></tr><tr><td>03_valid_loss</td><td>█▇▅▅▅▅▅▄▇▃▆▇▇▃▇▆▂▇▆▇▁▂▁▁▇</td></tr><tr><td>04_valid_best_score</td><td>▄▄▁▂▃▃▃▄▃▃▄▃▄▄▃▃▄▆▇▇▇████</td></tr><tr><td>apo-ferritin</td><td>▁▁▁▁▁▁▁▁▁▁▁▁▁▁▁▁▁▁▁▁▁▁▁▁▁</td></tr><tr><td>apoo_ferritin_f4</td><td>▁▅▁▁▁▁▁▁▁▁▁▁▁▁▁▁▁█▃▁▁▁▁▁▁</td></tr><tr><td>apoo_ferritin_p</td><td>▁█▁▁▁▁▁▁▁▁▁▁▁▁▁▁▁█▃▁▁▁▁▁▁</td></tr><tr><td>apoo_ferritin_r</td><td>▁▃▁▁▁▁▁▁▁▁▁▁▁▁▁▁▁█▃▁▁▁▁▁▁</td></tr><tr><td>beta-amylase</td><td>▁▁▁▁▁▁▁▁▁▁▁▁▁▁▁▁▁▁▁▁▁▁▁▁▁</td></tr><tr><td>beta-galactosidase</td><td>█▁▁▁▁▁▁▁▁▁▁▁▁▁▁▁▁▁▁▁▁▁▁▁▁</td></tr><tr><td>beta_amylase_f4</td><td>▁▁▁▁▁▁▁▁▁▁▁▁▁▁▁▁▁▁▁▁▁▁▁▁▁</td></tr><tr><td>beta_amylase_p</td><td>▁▁▁▁▁▁▁▁▁▁▁▁▁▁▁▁▁▁▁▁▁▁▁▁▁</td></tr><tr><td>beta_amylase_r</td><td>▁▁▁▁▁▁▁▁▁▁▁▁▁▁▁▁▁▁▁▁▁▁▁▁▁</td></tr><tr><td>beta_galactosidase_f4</td><td>█▇▁▁▃▁▁▁▁▁▁▁▁▁▁▁▁▁▁▁▁▁▁▁▁</td></tr><tr><td>beta_galactosidase_p</td><td>██▁▁▂▁▁▁▁▁▁▁▁▁▁▁▁▁▁▁▁▁▁▁▁</td></tr><tr><td>beta_galactosidase_r</td><td>█▅▁▁▃▁▁▁▁▁▁▁▁▁▁▁▁▁▁▁▁▁▁▁▁</td></tr><tr><td>ribosome</td><td>▆▇▅█▅▁█▅▇▅▄▇▅▅▇▆▃▅▇▅▃▅▅█▅</td></tr><tr><td>ribosome_f4</td><td>▆▅▇▁█▆▆▇▇▇█▇▇█▇▇▇▆▇▇▇▇▇▇▇</td></tr><tr><td>ribosome_p</td><td>▄▄█▁▇▇▄▆▆▇█▅▇▆▆▇▅▃▆▅▅▇▇▇▇</td></tr><tr><td>ribosome_r</td><td>▆▅▆▁█▅▇█▇▆█▇▇█▆▆▇▇▇▇▇▇▇▇▇</td></tr><tr><td>thyroglobulin</td><td>▂▁▁▁▁▁▁▁▁▁▁▁▁▁▁▁▁▁████▇▇▇</td></tr><tr><td>thyroglobulin_f4</td><td>▄▄▁▄▄▃▁▁▁▁▁▁▁▁▁▁▁▄▇▇▇███▇</td></tr><tr><td>thyroglobulin_p</td><td>▂▃▁▂▂▂▁▂▁▁▁▁▁▁▁▁▁▂▅▅▆▇▇█▇</td></tr><tr><td>thyroglobulin_r</td><td>▇▅▁▇▇▃▁▁▁▁▁▁▁▁▁▁▁█▇██████</td></tr><tr><td>virus-like-particle</td><td>▂▁▁▁▁▂▂▆█▆▅▆▄▆█▇▇▅▅▇▆▅▆▅▇</td></tr><tr><td>virus_like_particle_f4</td><td>▂▂▁▂▂▄█▇▇██████▇█████████</td></tr><tr><td>virus_like_particle_p</td><td>▁▁▁▁▁▁▅▃▃▅▇▅▆▆▅▂▇▇█▇▇▆▇▇▇</td></tr><tr><td>virus_like_particle_r</td><td>▆▅▁▅▅▇███████████████████</td></tr></table><br/></div><div class=\"wandb-col\"><h3>Run summary:</h3><br/><table class=\"wandb\"><tr><td>01_epoch</td><td>24</td></tr><tr><td>02_train_loss</td><td>0.7464</td></tr><tr><td>03_valid_loss</td><td>0.85784</td></tr><tr><td>04_valid_best_score</td><td>0.40732</td></tr><tr><td>apo-ferritin</td><td>0.05</td></tr><tr><td>apoo_ferritin_f4</td><td>0.0</td></tr><tr><td>apoo_ferritin_p</td><td>0.0</td></tr><tr><td>apoo_ferritin_r</td><td>0.0</td></tr><tr><td>beta-amylase</td><td>0.05</td></tr><tr><td>beta-galactosidase</td><td>0.05</td></tr><tr><td>beta_amylase_f4</td><td>0.0</td></tr><tr><td>beta_amylase_p</td><td>0.0</td></tr><tr><td>beta_amylase_r</td><td>0.0</td></tr><tr><td>beta_galactosidase_f4</td><td>0.0</td></tr><tr><td>beta_galactosidase_p</td><td>0.0</td></tr><tr><td>beta_galactosidase_r</td><td>0.0</td></tr><tr><td>ribosome</td><td>0.5</td></tr><tr><td>ribosome_f4</td><td>0.86708</td></tr><tr><td>ribosome_p</td><td>0.6</td></tr><tr><td>ribosome_r</td><td>0.89189</td></tr><tr><td>thyroglobulin</td><td>0.6</td></tr><tr><td>thyroglobulin_f4</td><td>0.59441</td></tr><tr><td>thyroglobulin_p</td><td>0.10638</td></tr><tr><td>thyroglobulin_r</td><td>0.83333</td></tr><tr><td>virus-like-particle</td><td>0.6</td></tr><tr><td>virus_like_particle_f4</td><td>0.79532</td></tr><tr><td>virus_like_particle_p</td><td>0.72727</td></tr><tr><td>virus_like_particle_r</td><td>0.8</td></tr></table><br/></div></div>"
      ],
      "text/plain": [
       "<IPython.core.display.HTML object>"
      ]
     },
     "metadata": {},
     "output_type": "display_data"
    },
    {
     "data": {
      "text/html": [
       " View run <strong style=\"color:#cdcd00\">exp068-recreate-baseline-renet34d-dstride-attention_TS_6_4</strong> at: <a href='https://wandb.ai/latent-walkers/czii2024/runs/25mglc6o' target=\"_blank\">https://wandb.ai/latent-walkers/czii2024/runs/25mglc6o</a><br/>Synced 5 W&B file(s), 0 media file(s), 0 artifact file(s) and 0 other file(s)"
      ],
      "text/plain": [
       "<IPython.core.display.HTML object>"
      ]
     },
     "metadata": {},
     "output_type": "display_data"
    },
    {
     "data": {
      "text/html": [
       "Find logs at: <code>./wandb/run-20250128_004558-25mglc6o/logs</code>"
      ],
      "text/plain": [
       "<IPython.core.display.HTML object>"
      ]
     },
     "metadata": {},
     "output_type": "display_data"
    },
    {
     "data": {
      "text/html": [
       "Successfully finished last run (ID:25mglc6o). Initializing new run:<br/>"
      ],
      "text/plain": [
       "<IPython.core.display.HTML object>"
      ]
     },
     "metadata": {},
     "output_type": "display_data"
    },
    {
     "data": {
      "application/vnd.jupyter.widget-view+json": {
       "model_id": "f793bbaffa3645d883eb7eb42006df6f",
       "version_major": 2,
       "version_minor": 0
      },
      "text/plain": [
       "VBox(children=(Label(value='Waiting for wandb.init()...\\r'), FloatProgress(value=0.011113327444440478, max=1.0…"
      ]
     },
     "metadata": {},
     "output_type": "display_data"
    },
    {
     "data": {
      "text/html": [
       "wandb version 0.19.4 is available!  To upgrade, please run:\n",
       " $ pip install wandb --upgrade"
      ],
      "text/plain": [
       "<IPython.core.display.HTML object>"
      ]
     },
     "metadata": {},
     "output_type": "display_data"
    },
    {
     "data": {
      "text/html": [
       "Tracking run with wandb version 0.16.1"
      ],
      "text/plain": [
       "<IPython.core.display.HTML object>"
      ]
     },
     "metadata": {},
     "output_type": "display_data"
    },
    {
     "data": {
      "text/html": [
       "Run data is saved locally in <code>/home/tatsuya/code/projects/kaggle/CryoET/experiments/exp068-recreate-baseline-renet34d-dstride-attention/wandb/run-20250128_023711-ie41njbm</code>"
      ],
      "text/plain": [
       "<IPython.core.display.HTML object>"
      ]
     },
     "metadata": {},
     "output_type": "display_data"
    },
    {
     "data": {
      "text/html": [
       "Syncing run <strong><a href='https://wandb.ai/latent-walkers/czii2024/runs/ie41njbm' target=\"_blank\">exp068-recreate-baseline-renet34d-dstride-attention_TS_69_2</a></strong> to <a href='https://wandb.ai/latent-walkers/czii2024' target=\"_blank\">Weights & Biases</a> (<a href='https://wandb.me/run' target=\"_blank\">docs</a>)<br/>"
      ],
      "text/plain": [
       "<IPython.core.display.HTML object>"
      ]
     },
     "metadata": {},
     "output_type": "display_data"
    },
    {
     "data": {
      "text/html": [
       " View project at <a href='https://wandb.ai/latent-walkers/czii2024' target=\"_blank\">https://wandb.ai/latent-walkers/czii2024</a>"
      ],
      "text/plain": [
       "<IPython.core.display.HTML object>"
      ]
     },
     "metadata": {},
     "output_type": "display_data"
    },
    {
     "data": {
      "text/html": [
       " View run at <a href='https://wandb.ai/latent-walkers/czii2024/runs/ie41njbm' target=\"_blank\">https://wandb.ai/latent-walkers/czii2024/runs/ie41njbm</a>"
      ],
      "text/plain": [
       "<IPython.core.display.HTML object>"
      ]
     },
     "metadata": {},
     "output_type": "display_data"
    },
    {
     "name": "stderr",
     "output_type": "stream",
     "text": [
      "100%|██████████| 220/220 [00:31<00:00,  7.05it/s]\n",
      "100%|██████████| 1/1 [00:01<00:00,  1.55s/it]\n",
      "Epoch 1/25 [Training]: 100%|██████████| 110/110 [00:47<00:00,  2.30it/s, loss=0.9235]\n",
      "Epoch 1/25 [Validation]: 100%|██████████| 1/1 [00:00<00:00,  1.35it/s, loss=0.8974]\n",
      "100%|██████████| 6/6 [03:52<00:00, 38.80s/it]\n"
     ]
    },
    {
     "name": "stdout",
     "output_type": "stream",
     "text": [
      "train-epoch-loss:0.9235 valid-beta4-score:0.0991\n"
     ]
    },
    {
     "name": "stderr",
     "output_type": "stream",
     "text": [
      "Epoch 2/25 [Training]: 100%|██████████| 110/110 [00:43<00:00,  2.53it/s, loss=0.8640]\n",
      "Epoch 2/25 [Validation]: 100%|██████████| 1/1 [00:00<00:00,  1.32it/s, loss=0.8600]\n",
      "100%|██████████| 6/6 [03:54<00:00, 39.07s/it]\n"
     ]
    },
    {
     "name": "stdout",
     "output_type": "stream",
     "text": [
      "train-epoch-loss:0.8640 valid-beta4-score:0.1325\n"
     ]
    },
    {
     "name": "stderr",
     "output_type": "stream",
     "text": [
      "Epoch 3/25 [Training]: 100%|██████████| 110/110 [00:39<00:00,  2.77it/s, loss=0.8361]\n",
      "Epoch 3/25 [Validation]: 100%|██████████| 1/1 [00:00<00:00,  1.27it/s, loss=0.7943]\n",
      "100%|██████████| 6/6 [03:23<00:00, 33.93s/it]\n"
     ]
    },
    {
     "name": "stdout",
     "output_type": "stream",
     "text": [
      "train-epoch-loss:0.8361 valid-beta4-score:0.1449\n"
     ]
    },
    {
     "name": "stderr",
     "output_type": "stream",
     "text": [
      "Epoch 4/25 [Training]: 100%|██████████| 110/110 [00:47<00:00,  2.33it/s, loss=0.8208]\n",
      "Epoch 4/25 [Validation]: 100%|██████████| 1/1 [00:00<00:00,  1.33it/s, loss=0.7770]\n",
      "100%|██████████| 6/6 [03:28<00:00, 34.67s/it]\n"
     ]
    },
    {
     "name": "stdout",
     "output_type": "stream",
     "text": [
      "train-epoch-loss:0.8208 valid-beta4-score:0.1983\n"
     ]
    },
    {
     "name": "stderr",
     "output_type": "stream",
     "text": [
      "Epoch 5/25 [Training]: 100%|██████████| 110/110 [00:43<00:00,  2.53it/s, loss=0.8187]\n",
      "Epoch 5/25 [Validation]: 100%|██████████| 1/1 [00:00<00:00,  1.32it/s, loss=0.7691]\n",
      "100%|██████████| 6/6 [03:20<00:00, 33.48s/it]\n"
     ]
    },
    {
     "name": "stdout",
     "output_type": "stream",
     "text": [
      "train-epoch-loss:0.8187 valid-beta4-score:0.4467\n"
     ]
    },
    {
     "name": "stderr",
     "output_type": "stream",
     "text": [
      "Epoch 6/25 [Training]: 100%|██████████| 110/110 [00:42<00:00,  2.61it/s, loss=0.8093]\n",
      "Epoch 6/25 [Validation]: 100%|██████████| 1/1 [00:00<00:00,  1.29it/s, loss=0.8564]\n",
      "100%|██████████| 6/6 [03:17<00:00, 32.90s/it]\n"
     ]
    },
    {
     "name": "stdout",
     "output_type": "stream",
     "text": [
      "train-epoch-loss:0.8093 valid-beta4-score:0.4616\n"
     ]
    },
    {
     "name": "stderr",
     "output_type": "stream",
     "text": [
      "Epoch 7/25 [Training]: 100%|██████████| 110/110 [00:44<00:00,  2.48it/s, loss=0.8012]\n",
      "Epoch 7/25 [Validation]: 100%|██████████| 1/1 [00:00<00:00,  1.30it/s, loss=0.8580]\n",
      "100%|██████████| 6/6 [03:16<00:00, 32.81s/it]\n"
     ]
    },
    {
     "name": "stdout",
     "output_type": "stream",
     "text": [
      "train-epoch-loss:0.8012 valid-beta4-score:0.4715\n"
     ]
    },
    {
     "name": "stderr",
     "output_type": "stream",
     "text": [
      "Epoch 8/25 [Training]: 100%|██████████| 110/110 [00:45<00:00,  2.44it/s, loss=0.7897]\n",
      "Epoch 8/25 [Validation]: 100%|██████████| 1/1 [00:00<00:00,  1.29it/s, loss=0.8126]\n",
      "100%|██████████| 6/6 [03:17<00:00, 32.99s/it]\n"
     ]
    },
    {
     "name": "stdout",
     "output_type": "stream",
     "text": [
      "train-epoch-loss:0.7897 valid-beta4-score:0.4699\n"
     ]
    },
    {
     "name": "stderr",
     "output_type": "stream",
     "text": [
      "Epoch 9/25 [Training]: 100%|██████████| 110/110 [00:41<00:00,  2.62it/s, loss=0.7834]\n",
      "Epoch 9/25 [Validation]: 100%|██████████| 1/1 [00:00<00:00,  1.32it/s, loss=0.8584]\n",
      "100%|██████████| 6/6 [03:21<00:00, 33.66s/it]\n"
     ]
    },
    {
     "name": "stdout",
     "output_type": "stream",
     "text": [
      "train-epoch-loss:0.7834 valid-beta4-score:0.5146\n"
     ]
    },
    {
     "name": "stderr",
     "output_type": "stream",
     "text": [
      "Epoch 10/25 [Training]: 100%|██████████| 110/110 [00:43<00:00,  2.55it/s, loss=0.7736]\n",
      "Epoch 10/25 [Validation]: 100%|██████████| 1/1 [00:00<00:00,  1.27it/s, loss=0.6732]\n",
      "100%|██████████| 6/6 [03:18<00:00, 33.07s/it]\n"
     ]
    },
    {
     "name": "stdout",
     "output_type": "stream",
     "text": [
      "train-epoch-loss:0.7736 valid-beta4-score:0.4718\n"
     ]
    },
    {
     "name": "stderr",
     "output_type": "stream",
     "text": [
      "Epoch 11/25 [Training]: 100%|██████████| 110/110 [00:43<00:00,  2.56it/s, loss=0.7432]\n",
      "Epoch 11/25 [Validation]: 100%|██████████| 1/1 [00:00<00:00,  1.36it/s, loss=0.6038]\n",
      "100%|██████████| 6/6 [03:23<00:00, 33.87s/it]\n"
     ]
    },
    {
     "name": "stdout",
     "output_type": "stream",
     "text": [
      "train-epoch-loss:0.7432 valid-beta4-score:0.5312\n"
     ]
    },
    {
     "name": "stderr",
     "output_type": "stream",
     "text": [
      "Epoch 12/25 [Training]: 100%|██████████| 110/110 [00:42<00:00,  2.61it/s, loss=0.7191]\n",
      "Epoch 12/25 [Validation]: 100%|██████████| 1/1 [00:00<00:00,  1.26it/s, loss=0.6707]\n",
      "100%|██████████| 6/6 [03:21<00:00, 33.51s/it]\n"
     ]
    },
    {
     "name": "stdout",
     "output_type": "stream",
     "text": [
      "train-epoch-loss:0.7191 valid-beta4-score:0.6069\n"
     ]
    },
    {
     "name": "stderr",
     "output_type": "stream",
     "text": [
      "Epoch 13/25 [Training]: 100%|██████████| 110/110 [00:43<00:00,  2.50it/s, loss=0.7278]\n",
      "Epoch 13/25 [Validation]: 100%|██████████| 1/1 [00:00<00:00,  1.30it/s, loss=0.5362]\n",
      "100%|██████████| 6/6 [03:20<00:00, 33.45s/it]\n"
     ]
    },
    {
     "name": "stdout",
     "output_type": "stream",
     "text": [
      "train-epoch-loss:0.7278 valid-beta4-score:0.6333\n"
     ]
    },
    {
     "name": "stderr",
     "output_type": "stream",
     "text": [
      "Epoch 14/25 [Training]: 100%|██████████| 110/110 [00:43<00:00,  2.56it/s, loss=0.7097]\n",
      "Epoch 14/25 [Validation]: 100%|██████████| 1/1 [00:00<00:00,  1.26it/s, loss=0.7678]\n",
      "100%|██████████| 6/6 [03:20<00:00, 33.39s/it]\n"
     ]
    },
    {
     "name": "stdout",
     "output_type": "stream",
     "text": [
      "train-epoch-loss:0.7097 valid-beta4-score:0.6322\n"
     ]
    },
    {
     "name": "stderr",
     "output_type": "stream",
     "text": [
      "Epoch 15/25 [Training]: 100%|██████████| 110/110 [00:41<00:00,  2.65it/s, loss=0.7093]\n",
      "Epoch 15/25 [Validation]: 100%|██████████| 1/1 [00:00<00:00,  1.28it/s, loss=0.6171]\n",
      "100%|██████████| 6/6 [03:21<00:00, 33.50s/it]\n"
     ]
    },
    {
     "name": "stdout",
     "output_type": "stream",
     "text": [
      "train-epoch-loss:0.7093 valid-beta4-score:0.6334\n"
     ]
    },
    {
     "name": "stderr",
     "output_type": "stream",
     "text": [
      "Epoch 16/25 [Training]: 100%|██████████| 110/110 [00:45<00:00,  2.43it/s, loss=0.6995]\n",
      "Epoch 16/25 [Validation]: 100%|██████████| 1/1 [00:00<00:00,  1.38it/s, loss=0.8352]\n",
      "100%|██████████| 6/6 [03:23<00:00, 33.85s/it]\n"
     ]
    },
    {
     "name": "stdout",
     "output_type": "stream",
     "text": [
      "train-epoch-loss:0.6995 valid-beta4-score:0.6243\n"
     ]
    },
    {
     "name": "stderr",
     "output_type": "stream",
     "text": [
      "Epoch 17/25 [Training]: 100%|██████████| 110/110 [00:49<00:00,  2.23it/s, loss=0.7019]\n",
      "Epoch 17/25 [Validation]: 100%|██████████| 1/1 [00:00<00:00,  1.34it/s, loss=0.8574]\n",
      "100%|██████████| 6/6 [03:24<00:00, 34.10s/it]\n"
     ]
    },
    {
     "name": "stdout",
     "output_type": "stream",
     "text": [
      "train-epoch-loss:0.7019 valid-beta4-score:0.6237\n"
     ]
    },
    {
     "name": "stderr",
     "output_type": "stream",
     "text": [
      "Epoch 18/25 [Training]: 100%|██████████| 110/110 [00:43<00:00,  2.52it/s, loss=0.7243]\n",
      "Epoch 18/25 [Validation]: 100%|██████████| 1/1 [00:00<00:00,  1.30it/s, loss=0.5320]\n",
      "100%|██████████| 6/6 [03:22<00:00, 33.81s/it]\n"
     ]
    },
    {
     "name": "stdout",
     "output_type": "stream",
     "text": [
      "train-epoch-loss:0.7243 valid-beta4-score:0.6247\n"
     ]
    },
    {
     "name": "stderr",
     "output_type": "stream",
     "text": [
      "Epoch 19/25 [Training]: 100%|██████████| 110/110 [00:43<00:00,  2.54it/s, loss=0.6967]\n",
      "Epoch 19/25 [Validation]: 100%|██████████| 1/1 [00:00<00:00,  1.30it/s, loss=0.7256]\n",
      "100%|██████████| 6/6 [03:22<00:00, 33.69s/it]\n"
     ]
    },
    {
     "name": "stdout",
     "output_type": "stream",
     "text": [
      "train-epoch-loss:0.6967 valid-beta4-score:0.6265\n"
     ]
    },
    {
     "name": "stderr",
     "output_type": "stream",
     "text": [
      "Epoch 20/25 [Training]: 100%|██████████| 110/110 [00:40<00:00,  2.70it/s, loss=0.7056]\n",
      "Epoch 20/25 [Validation]: 100%|██████████| 1/1 [00:00<00:00,  1.29it/s, loss=0.8573]\n",
      "100%|██████████| 6/6 [03:20<00:00, 33.42s/it]\n"
     ]
    },
    {
     "name": "stdout",
     "output_type": "stream",
     "text": [
      "train-epoch-loss:0.7056 valid-beta4-score:0.6196\n"
     ]
    },
    {
     "name": "stderr",
     "output_type": "stream",
     "text": [
      "Epoch 21/25 [Training]: 100%|██████████| 110/110 [00:45<00:00,  2.42it/s, loss=0.6965]\n",
      "Epoch 21/25 [Validation]: 100%|██████████| 1/1 [00:00<00:00,  1.33it/s, loss=0.6689]\n",
      "100%|██████████| 6/6 [03:20<00:00, 33.41s/it]\n"
     ]
    },
    {
     "name": "stdout",
     "output_type": "stream",
     "text": [
      "train-epoch-loss:0.6965 valid-beta4-score:0.6453\n"
     ]
    },
    {
     "name": "stderr",
     "output_type": "stream",
     "text": [
      "Epoch 22/25 [Training]: 100%|██████████| 110/110 [00:41<00:00,  2.66it/s, loss=0.7055]\n",
      "Epoch 22/25 [Validation]: 100%|██████████| 1/1 [00:00<00:00,  1.31it/s, loss=0.6111]\n",
      "100%|██████████| 6/6 [03:21<00:00, 33.59s/it]\n"
     ]
    },
    {
     "name": "stdout",
     "output_type": "stream",
     "text": [
      "train-epoch-loss:0.7055 valid-beta4-score:0.6325\n"
     ]
    },
    {
     "name": "stderr",
     "output_type": "stream",
     "text": [
      "Epoch 23/25 [Training]: 100%|██████████| 110/110 [00:42<00:00,  2.60it/s, loss=0.6901]\n",
      "Epoch 23/25 [Validation]: 100%|██████████| 1/1 [00:00<00:00,  1.32it/s, loss=0.5623]\n",
      "100%|██████████| 6/6 [03:22<00:00, 33.71s/it]\n"
     ]
    },
    {
     "name": "stdout",
     "output_type": "stream",
     "text": [
      "train-epoch-loss:0.6901 valid-beta4-score:0.6368\n"
     ]
    },
    {
     "name": "stderr",
     "output_type": "stream",
     "text": [
      "Epoch 24/25 [Training]: 100%|██████████| 110/110 [00:42<00:00,  2.58it/s, loss=0.7031]\n",
      "Epoch 24/25 [Validation]: 100%|██████████| 1/1 [00:00<00:00,  1.35it/s, loss=0.7009]\n",
      "100%|██████████| 6/6 [03:21<00:00, 33.51s/it]\n"
     ]
    },
    {
     "name": "stdout",
     "output_type": "stream",
     "text": [
      "train-epoch-loss:0.7031 valid-beta4-score:0.6362\n"
     ]
    },
    {
     "name": "stderr",
     "output_type": "stream",
     "text": [
      "Epoch 25/25 [Training]: 100%|██████████| 110/110 [00:44<00:00,  2.50it/s, loss=0.6999]\n",
      "Epoch 25/25 [Validation]: 100%|██████████| 1/1 [00:00<00:00,  1.26it/s, loss=0.5133]\n",
      "100%|██████████| 6/6 [03:20<00:00, 33.43s/it]\n"
     ]
    },
    {
     "name": "stdout",
     "output_type": "stream",
     "text": [
      "train-epoch-loss:0.6999 valid-beta4-score:0.6423\n"
     ]
    },
    {
     "data": {
      "text/html": [
       "Finishing last run (ID:ie41njbm) before initializing another..."
      ],
      "text/plain": [
       "<IPython.core.display.HTML object>"
      ]
     },
     "metadata": {},
     "output_type": "display_data"
    },
    {
     "name": "stderr",
     "output_type": "stream",
     "text": [
      "wandb: WARNING Source type is set to 'repo' but some required information is missing from the environment. A job will not be created from this run. See https://docs.wandb.ai/guides/launch/create-job\n"
     ]
    },
    {
     "data": {
      "application/vnd.jupyter.widget-view+json": {
       "model_id": "93b0abd85e664292aea35fefc55ff41d",
       "version_major": 2,
       "version_minor": 0
      },
      "text/plain": [
       "VBox(children=(Label(value='0.004 MB of 0.004 MB uploaded\\r'), FloatProgress(value=1.0, max=1.0)))"
      ]
     },
     "metadata": {},
     "output_type": "display_data"
    },
    {
     "data": {
      "text/html": [
       "<style>\n",
       "    table.wandb td:nth-child(1) { padding: 0 10px; text-align: left ; width: auto;} td:nth-child(2) {text-align: left ; width: 100%}\n",
       "    .wandb-row { display: flex; flex-direction: row; flex-wrap: wrap; justify-content: flex-start; width: 100% }\n",
       "    .wandb-col { display: flex; flex-direction: column; flex-basis: 100%; flex: 1; padding: 10px; }\n",
       "    </style>\n",
       "<div class=\"wandb-row\"><div class=\"wandb-col\"><h3>Run history:</h3><br/><table class=\"wandb\"><tr><td>01_epoch</td><td>▁▁▂▂▂▂▃▃▃▄▄▄▅▅▅▅▆▆▆▇▇▇▇██</td></tr><tr><td>02_train_loss</td><td>█▆▅▅▅▅▄▄▄▄▃▂▂▂▂▁▁▂▁▁▁▁▁▁▁</td></tr><tr><td>03_valid_loss</td><td>█▇▆▆▆▇▇▆▇▄▃▄▁▆▃▇▇▁▅▇▄▃▂▄▁</td></tr><tr><td>04_valid_best_score</td><td>▁▁▂▂▅▆▆▆▆▆▇██████████████</td></tr><tr><td>apo-ferritin</td><td>▁▁▁▁▁▁▂▂▂█▅▇▃▅▆▁▆▅▅▅▅▆▅█▇</td></tr><tr><td>apoo_ferritin_f4</td><td>▁▁▁▂▃▄▅▄▅▆▇▇████▇████████</td></tr><tr><td>apoo_ferritin_p</td><td>▁▁▁▁▂▂▂▃▃▅▆▆███▇▇█▇██████</td></tr><tr><td>apoo_ferritin_r</td><td>▁▁▁▄▄▅▅▄▆▆█▇████▇████████</td></tr><tr><td>beta-amylase</td><td>▁▁▁▁▁▁▁▁▁▁▁▁▁▁▁▁▁▁▁▁▁▁▁▁▁</td></tr><tr><td>beta-galactosidase</td><td>▁▁▁▁▁▁▁▁▁▁▁▁▁▁▁▁▁▁▁▁▁▁▁▁▁</td></tr><tr><td>beta_amylase_f4</td><td>▁█▁█▁▁▁▁▁▁▁▁▁▁▁▁▁▁▁▁▁▁▁▁▁</td></tr><tr><td>beta_amylase_p</td><td>▁█▁▇▁▁▁▁▁▁▁▁▁▁▁▁▁▁▁▁▁▁▁▁▁</td></tr><tr><td>beta_amylase_r</td><td>▁▅▁█▁▁▁▁▁▁▁▁▁▁▁▁▁▁▁▁▁▁▁▁▁</td></tr><tr><td>beta_galactosidase_f4</td><td>▁▁▁▁█▁▁▁▁▁▁▁▁▁▁▁▁▁▁▁▁▁▁▁▁</td></tr><tr><td>beta_galactosidase_p</td><td>▁▁▁▁█▁▁▁▁▁▁▁▁▁▁▁▁▁▁▁▁▁▁▁▁</td></tr><tr><td>beta_galactosidase_r</td><td>▁▁▁▁█▁▁▁▁▁▁▁▁▁▁▁▁▁▁▁▁▁▁▁▁</td></tr><tr><td>ribosome</td><td>██▄▇▄▁▆▅█▅▇█▅▇▆▄▅▁▁▅▃▄▂▄▅</td></tr><tr><td>ribosome_f4</td><td>▁▄▃▃▆▇▇█▇▅▇▇█▇▇▇█████████</td></tr><tr><td>ribosome_p</td><td>▁▂▃▂▅▆▅▆▅▄▅▅█▅▇▆▇▆▆▇█████</td></tr><tr><td>ribosome_r</td><td>▇▇▁▂▅▇▇█▇▃█▇▇▇▇▇███▇▇▇▇▇▇</td></tr><tr><td>thyroglobulin</td><td>▂▂▁▂▂▂▄▂█▄▇▅▅▅▅▇▄▄▃▅▄▅▄▅▅</td></tr><tr><td>thyroglobulin_f4</td><td>▁▁▂▃▇▆▇▇▇▆▆▇███▇█▇▇▇█████</td></tr><tr><td>thyroglobulin_p</td><td>▁▁▁▁▄▅▄▄▄▃▄▅▇█▆█▅▆▆▆▇▆▇▆▆</td></tr><tr><td>thyroglobulin_r</td><td>▅▁▁██▅▇▇▇▆▆█▇▇█▆▇▇▇▇▇▇▇▇▇</td></tr><tr><td>virus-like-particle</td><td>▁▁▁▁▂▂▃▃█▂█▇▅▅▅▅▅▄▆▅▅▅▅▅▅</td></tr><tr><td>virus_like_particle_f4</td><td>▁▁▁▂▃▆▅▅▇▆▆██████████████</td></tr><tr><td>virus_like_particle_p</td><td>▁▁▁▁▁▂▂▂▃▂▂▇█▆▅██████████</td></tr><tr><td>virus_like_particle_r</td><td>▁▁▃█▇█▆██████████████████</td></tr></table><br/></div><div class=\"wandb-col\"><h3>Run summary:</h3><br/><table class=\"wandb\"><tr><td>01_epoch</td><td>24</td></tr><tr><td>02_train_loss</td><td>0.69988</td></tr><tr><td>03_valid_loss</td><td>0.5133</td></tr><tr><td>04_valid_best_score</td><td>0.64231</td></tr><tr><td>apo-ferritin</td><td>0.65</td></tr><tr><td>apoo_ferritin_f4</td><td>0.9429</td></tr><tr><td>apoo_ferritin_p</td><td>0.64151</td></tr><tr><td>apoo_ferritin_r</td><td>0.97143</td></tr><tr><td>beta-amylase</td><td>0.05</td></tr><tr><td>beta-galactosidase</td><td>0.05</td></tr><tr><td>beta_amylase_f4</td><td>0.0</td></tr><tr><td>beta_amylase_p</td><td>0.0</td></tr><tr><td>beta_amylase_r</td><td>0.0</td></tr><tr><td>beta_galactosidase_f4</td><td>0.0</td></tr><tr><td>beta_galactosidase_p</td><td>0.0</td></tr><tr><td>beta_galactosidase_r</td><td>0.0</td></tr><tr><td>ribosome</td><td>0.45</td></tr><tr><td>ribosome_f4</td><td>0.95327</td></tr><tr><td>ribosome_p</td><td>0.72</td></tr><tr><td>ribosome_r</td><td>0.97297</td></tr><tr><td>thyroglobulin</td><td>0.45</td></tr><tr><td>thyroglobulin_f4</td><td>0.8</td></tr><tr><td>thyroglobulin_p</td><td>0.23529</td></tr><tr><td>thyroglobulin_r</td><td>0.94118</td></tr><tr><td>virus-like-particle</td><td>0.4</td></tr><tr><td>virus_like_particle_f4</td><td>1.0</td></tr><tr><td>virus_like_particle_p</td><td>1.0</td></tr><tr><td>virus_like_particle_r</td><td>1.0</td></tr></table><br/></div></div>"
      ],
      "text/plain": [
       "<IPython.core.display.HTML object>"
      ]
     },
     "metadata": {},
     "output_type": "display_data"
    },
    {
     "data": {
      "text/html": [
       " View run <strong style=\"color:#cdcd00\">exp068-recreate-baseline-renet34d-dstride-attention_TS_69_2</strong> at: <a href='https://wandb.ai/latent-walkers/czii2024/runs/ie41njbm' target=\"_blank\">https://wandb.ai/latent-walkers/czii2024/runs/ie41njbm</a><br/>Synced 5 W&B file(s), 0 media file(s), 0 artifact file(s) and 0 other file(s)"
      ],
      "text/plain": [
       "<IPython.core.display.HTML object>"
      ]
     },
     "metadata": {},
     "output_type": "display_data"
    },
    {
     "data": {
      "text/html": [
       "Find logs at: <code>./wandb/run-20250128_023711-ie41njbm/logs</code>"
      ],
      "text/plain": [
       "<IPython.core.display.HTML object>"
      ]
     },
     "metadata": {},
     "output_type": "display_data"
    },
    {
     "data": {
      "text/html": [
       "Successfully finished last run (ID:ie41njbm). Initializing new run:<br/>"
      ],
      "text/plain": [
       "<IPython.core.display.HTML object>"
      ]
     },
     "metadata": {},
     "output_type": "display_data"
    },
    {
     "data": {
      "application/vnd.jupyter.widget-view+json": {
       "model_id": "92fe18bf8c354d4b98de94cbb52c843c",
       "version_major": 2,
       "version_minor": 0
      },
      "text/plain": [
       "VBox(children=(Label(value='Waiting for wandb.init()...\\r'), FloatProgress(value=0.01111334013338718, max=1.0)…"
      ]
     },
     "metadata": {},
     "output_type": "display_data"
    },
    {
     "data": {
      "text/html": [
       "wandb version 0.19.4 is available!  To upgrade, please run:\n",
       " $ pip install wandb --upgrade"
      ],
      "text/plain": [
       "<IPython.core.display.HTML object>"
      ]
     },
     "metadata": {},
     "output_type": "display_data"
    },
    {
     "data": {
      "text/html": [
       "Tracking run with wandb version 0.16.1"
      ],
      "text/plain": [
       "<IPython.core.display.HTML object>"
      ]
     },
     "metadata": {},
     "output_type": "display_data"
    },
    {
     "data": {
      "text/html": [
       "Run data is saved locally in <code>/home/tatsuya/code/projects/kaggle/CryoET/experiments/exp068-recreate-baseline-renet34d-dstride-attention/wandb/run-20250128_042930-qiw0z9s8</code>"
      ],
      "text/plain": [
       "<IPython.core.display.HTML object>"
      ]
     },
     "metadata": {},
     "output_type": "display_data"
    },
    {
     "data": {
      "text/html": [
       "Syncing run <strong><a href='https://wandb.ai/latent-walkers/czii2024/runs/qiw0z9s8' target=\"_blank\">exp068-recreate-baseline-renet34d-dstride-attention_TS_86_3</a></strong> to <a href='https://wandb.ai/latent-walkers/czii2024' target=\"_blank\">Weights & Biases</a> (<a href='https://wandb.me/run' target=\"_blank\">docs</a>)<br/>"
      ],
      "text/plain": [
       "<IPython.core.display.HTML object>"
      ]
     },
     "metadata": {},
     "output_type": "display_data"
    },
    {
     "data": {
      "text/html": [
       " View project at <a href='https://wandb.ai/latent-walkers/czii2024' target=\"_blank\">https://wandb.ai/latent-walkers/czii2024</a>"
      ],
      "text/plain": [
       "<IPython.core.display.HTML object>"
      ]
     },
     "metadata": {},
     "output_type": "display_data"
    },
    {
     "data": {
      "text/html": [
       " View run at <a href='https://wandb.ai/latent-walkers/czii2024/runs/qiw0z9s8' target=\"_blank\">https://wandb.ai/latent-walkers/czii2024/runs/qiw0z9s8</a>"
      ],
      "text/plain": [
       "<IPython.core.display.HTML object>"
      ]
     },
     "metadata": {},
     "output_type": "display_data"
    },
    {
     "name": "stderr",
     "output_type": "stream",
     "text": [
      "100%|██████████| 220/220 [00:31<00:00,  7.03it/s]\n",
      "100%|██████████| 1/1 [00:01<00:00,  1.71s/it]\n",
      "Epoch 1/25 [Training]: 100%|██████████| 110/110 [00:45<00:00,  2.42it/s, loss=0.9146]\n",
      "Epoch 1/25 [Validation]: 100%|██████████| 1/1 [00:00<00:00,  1.24it/s, loss=0.8748]\n",
      "100%|██████████| 6/6 [04:07<00:00, 41.21s/it]\n"
     ]
    },
    {
     "name": "stdout",
     "output_type": "stream",
     "text": [
      "train-epoch-loss:0.9146 valid-beta4-score:0.1211\n"
     ]
    },
    {
     "name": "stderr",
     "output_type": "stream",
     "text": [
      "Epoch 2/25 [Training]: 100%|██████████| 110/110 [00:41<00:00,  2.64it/s, loss=0.8642]\n",
      "Epoch 2/25 [Validation]: 100%|██████████| 1/1 [00:00<00:00,  1.24it/s, loss=0.8670]\n",
      "100%|██████████| 6/6 [03:48<00:00, 38.06s/it]\n"
     ]
    },
    {
     "name": "stdout",
     "output_type": "stream",
     "text": [
      "train-epoch-loss:0.8642 valid-beta4-score:0.1335\n"
     ]
    },
    {
     "name": "stderr",
     "output_type": "stream",
     "text": [
      "Epoch 3/25 [Training]: 100%|██████████| 110/110 [00:40<00:00,  2.69it/s, loss=0.8415]\n",
      "Epoch 3/25 [Validation]: 100%|██████████| 1/1 [00:00<00:00,  1.26it/s, loss=0.8020]\n",
      "100%|██████████| 6/6 [03:35<00:00, 35.94s/it]\n"
     ]
    },
    {
     "name": "stdout",
     "output_type": "stream",
     "text": [
      "train-epoch-loss:0.8415 valid-beta4-score:0.3115\n"
     ]
    },
    {
     "name": "stderr",
     "output_type": "stream",
     "text": [
      "Epoch 4/25 [Training]: 100%|██████████| 110/110 [00:42<00:00,  2.58it/s, loss=0.8313]\n",
      "Epoch 4/25 [Validation]: 100%|██████████| 1/1 [00:00<00:00,  1.32it/s, loss=0.8586]\n",
      "100%|██████████| 6/6 [03:21<00:00, 33.56s/it]\n"
     ]
    },
    {
     "name": "stdout",
     "output_type": "stream",
     "text": [
      "train-epoch-loss:0.8313 valid-beta4-score:0.2322\n"
     ]
    },
    {
     "name": "stderr",
     "output_type": "stream",
     "text": [
      "Epoch 5/25 [Training]: 100%|██████████| 110/110 [00:43<00:00,  2.53it/s, loss=0.8266]\n",
      "Epoch 5/25 [Validation]: 100%|██████████| 1/1 [00:00<00:00,  1.30it/s, loss=0.8581]\n",
      "100%|██████████| 6/6 [03:26<00:00, 34.44s/it]\n"
     ]
    },
    {
     "name": "stdout",
     "output_type": "stream",
     "text": [
      "train-epoch-loss:0.8266 valid-beta4-score:0.3163\n"
     ]
    },
    {
     "name": "stderr",
     "output_type": "stream",
     "text": [
      "Epoch 6/25 [Training]: 100%|██████████| 110/110 [00:45<00:00,  2.42it/s, loss=0.8189]\n",
      "Epoch 6/25 [Validation]: 100%|██████████| 1/1 [00:00<00:00,  1.27it/s, loss=0.8546]\n",
      "100%|██████████| 6/6 [03:49<00:00, 38.25s/it]\n"
     ]
    },
    {
     "name": "stdout",
     "output_type": "stream",
     "text": [
      "train-epoch-loss:0.8189 valid-beta4-score:0.3081\n"
     ]
    },
    {
     "name": "stderr",
     "output_type": "stream",
     "text": [
      "Epoch 7/25 [Training]: 100%|██████████| 110/110 [00:43<00:00,  2.52it/s, loss=0.8055]\n",
      "Epoch 7/25 [Validation]: 100%|██████████| 1/1 [00:00<00:00,  1.14it/s, loss=0.8575]\n",
      "100%|██████████| 6/6 [03:27<00:00, 34.57s/it]\n"
     ]
    },
    {
     "name": "stdout",
     "output_type": "stream",
     "text": [
      "train-epoch-loss:0.8055 valid-beta4-score:0.2928\n"
     ]
    },
    {
     "name": "stderr",
     "output_type": "stream",
     "text": [
      "Epoch 8/25 [Training]: 100%|██████████| 110/110 [00:47<00:00,  2.31it/s, loss=0.7657]\n",
      "Epoch 8/25 [Validation]: 100%|██████████| 1/1 [00:00<00:00,  1.24it/s, loss=0.6206]\n",
      "100%|██████████| 6/6 [03:34<00:00, 35.73s/it]\n"
     ]
    },
    {
     "name": "stdout",
     "output_type": "stream",
     "text": [
      "train-epoch-loss:0.7657 valid-beta4-score:0.3142\n"
     ]
    },
    {
     "name": "stderr",
     "output_type": "stream",
     "text": [
      "Epoch 9/25 [Training]: 100%|██████████| 110/110 [00:46<00:00,  2.37it/s, loss=0.7616]\n",
      "Epoch 9/25 [Validation]: 100%|██████████| 1/1 [00:00<00:00,  1.22it/s, loss=0.6067]\n",
      "100%|██████████| 6/6 [03:28<00:00, 34.67s/it]\n"
     ]
    },
    {
     "name": "stdout",
     "output_type": "stream",
     "text": [
      "train-epoch-loss:0.7616 valid-beta4-score:0.3360\n"
     ]
    },
    {
     "name": "stderr",
     "output_type": "stream",
     "text": [
      "Epoch 10/25 [Training]: 100%|██████████| 110/110 [00:54<00:00,  2.02it/s, loss=0.7325]\n",
      "Epoch 10/25 [Validation]: 100%|██████████| 1/1 [00:00<00:00,  1.11it/s, loss=0.8575]\n",
      "100%|██████████| 6/6 [03:23<00:00, 33.90s/it]\n"
     ]
    },
    {
     "name": "stdout",
     "output_type": "stream",
     "text": [
      "train-epoch-loss:0.7325 valid-beta4-score:0.3575\n"
     ]
    },
    {
     "name": "stderr",
     "output_type": "stream",
     "text": [
      "Epoch 11/25 [Training]: 100%|██████████| 110/110 [00:47<00:00,  2.32it/s, loss=0.7435]\n",
      "Epoch 11/25 [Validation]: 100%|██████████| 1/1 [00:00<00:00,  1.30it/s, loss=0.8574]\n",
      "100%|██████████| 6/6 [03:21<00:00, 33.62s/it]\n"
     ]
    },
    {
     "name": "stdout",
     "output_type": "stream",
     "text": [
      "train-epoch-loss:0.7435 valid-beta4-score:0.3187\n"
     ]
    },
    {
     "name": "stderr",
     "output_type": "stream",
     "text": [
      "Epoch 12/25 [Training]: 100%|██████████| 110/110 [00:49<00:00,  2.24it/s, loss=0.7383]\n",
      "Epoch 12/25 [Validation]: 100%|██████████| 1/1 [00:00<00:00,  1.10it/s, loss=0.8384]\n",
      "100%|██████████| 6/6 [03:23<00:00, 33.95s/it]\n"
     ]
    },
    {
     "name": "stdout",
     "output_type": "stream",
     "text": [
      "train-epoch-loss:0.7383 valid-beta4-score:0.3437\n"
     ]
    },
    {
     "name": "stderr",
     "output_type": "stream",
     "text": [
      "Epoch 13/25 [Training]: 100%|██████████| 110/110 [00:51<00:00,  2.15it/s, loss=0.7386]\n",
      "Epoch 13/25 [Validation]: 100%|██████████| 1/1 [00:00<00:00,  1.26it/s, loss=0.8574]\n",
      "100%|██████████| 6/6 [03:21<00:00, 33.54s/it]\n"
     ]
    },
    {
     "name": "stdout",
     "output_type": "stream",
     "text": [
      "train-epoch-loss:0.7386 valid-beta4-score:0.3584\n"
     ]
    },
    {
     "name": "stderr",
     "output_type": "stream",
     "text": [
      "Epoch 14/25 [Training]: 100%|██████████| 110/110 [00:54<00:00,  2.00it/s, loss=0.7197]\n",
      "Epoch 14/25 [Validation]: 100%|██████████| 1/1 [00:00<00:00,  1.06it/s, loss=0.6957]\n",
      "100%|██████████| 6/6 [03:21<00:00, 33.57s/it]\n"
     ]
    },
    {
     "name": "stdout",
     "output_type": "stream",
     "text": [
      "train-epoch-loss:0.7197 valid-beta4-score:0.3699\n"
     ]
    },
    {
     "name": "stderr",
     "output_type": "stream",
     "text": [
      "Epoch 15/25 [Training]: 100%|██████████| 110/110 [00:53<00:00,  2.05it/s, loss=0.7372]\n",
      "Epoch 15/25 [Validation]: 100%|██████████| 1/1 [00:00<00:00,  1.09it/s, loss=0.8576]\n",
      "100%|██████████| 6/6 [03:20<00:00, 33.45s/it]\n"
     ]
    },
    {
     "name": "stdout",
     "output_type": "stream",
     "text": [
      "train-epoch-loss:0.7372 valid-beta4-score:0.3667\n"
     ]
    },
    {
     "name": "stderr",
     "output_type": "stream",
     "text": [
      "Epoch 16/25 [Training]: 100%|██████████| 110/110 [00:50<00:00,  2.18it/s, loss=0.7299]\n",
      "Epoch 16/25 [Validation]: 100%|██████████| 1/1 [00:00<00:00,  1.08it/s, loss=0.5783]\n",
      "100%|██████████| 6/6 [03:21<00:00, 33.62s/it]\n"
     ]
    },
    {
     "name": "stdout",
     "output_type": "stream",
     "text": [
      "train-epoch-loss:0.7299 valid-beta4-score:0.3754\n"
     ]
    },
    {
     "name": "stderr",
     "output_type": "stream",
     "text": [
      "Epoch 17/25 [Training]: 100%|██████████| 110/110 [00:47<00:00,  2.30it/s, loss=0.7291]\n",
      "Epoch 17/25 [Validation]: 100%|██████████| 1/1 [00:00<00:00,  1.24it/s, loss=0.5702]\n",
      "100%|██████████| 6/6 [03:20<00:00, 33.40s/it]\n"
     ]
    },
    {
     "name": "stdout",
     "output_type": "stream",
     "text": [
      "train-epoch-loss:0.7291 valid-beta4-score:0.3735\n"
     ]
    },
    {
     "name": "stderr",
     "output_type": "stream",
     "text": [
      "Epoch 18/25 [Training]: 100%|██████████| 110/110 [00:46<00:00,  2.37it/s, loss=0.7312]\n",
      "Epoch 18/25 [Validation]: 100%|██████████| 1/1 [00:00<00:00,  1.18it/s, loss=0.8573]\n",
      "100%|██████████| 6/6 [03:19<00:00, 33.18s/it]\n"
     ]
    },
    {
     "name": "stdout",
     "output_type": "stream",
     "text": [
      "train-epoch-loss:0.7312 valid-beta4-score:0.3593\n"
     ]
    },
    {
     "name": "stderr",
     "output_type": "stream",
     "text": [
      "Epoch 19/25 [Training]: 100%|██████████| 110/110 [00:47<00:00,  2.32it/s, loss=0.7299]\n",
      "Epoch 19/25 [Validation]: 100%|██████████| 1/1 [00:00<00:00,  1.24it/s, loss=0.5672]\n",
      "100%|██████████| 6/6 [03:18<00:00, 33.03s/it]\n"
     ]
    },
    {
     "name": "stdout",
     "output_type": "stream",
     "text": [
      "train-epoch-loss:0.7299 valid-beta4-score:0.3605\n"
     ]
    },
    {
     "name": "stderr",
     "output_type": "stream",
     "text": [
      "Epoch 20/25 [Training]: 100%|██████████| 110/110 [00:47<00:00,  2.33it/s, loss=0.7367]\n",
      "Epoch 20/25 [Validation]: 100%|██████████| 1/1 [00:00<00:00,  1.25it/s, loss=0.5600]\n",
      "100%|██████████| 6/6 [03:18<00:00, 33.06s/it]\n"
     ]
    },
    {
     "name": "stdout",
     "output_type": "stream",
     "text": [
      "train-epoch-loss:0.7367 valid-beta4-score:0.3495\n"
     ]
    },
    {
     "name": "stderr",
     "output_type": "stream",
     "text": [
      "Epoch 21/25 [Training]: 100%|██████████| 110/110 [00:50<00:00,  2.16it/s, loss=0.7309]\n",
      "Epoch 21/25 [Validation]: 100%|██████████| 1/1 [00:00<00:00,  1.25it/s, loss=0.8573]\n",
      "100%|██████████| 6/6 [03:18<00:00, 33.15s/it]\n"
     ]
    },
    {
     "name": "stdout",
     "output_type": "stream",
     "text": [
      "train-epoch-loss:0.7309 valid-beta4-score:0.3610\n"
     ]
    },
    {
     "name": "stderr",
     "output_type": "stream",
     "text": [
      "Epoch 22/25 [Training]: 100%|██████████| 110/110 [00:47<00:00,  2.34it/s, loss=0.7288]\n",
      "Epoch 22/25 [Validation]: 100%|██████████| 1/1 [00:00<00:00,  1.10it/s, loss=0.8573]\n",
      "100%|██████████| 6/6 [03:18<00:00, 33.09s/it]\n"
     ]
    },
    {
     "name": "stdout",
     "output_type": "stream",
     "text": [
      "train-epoch-loss:0.7288 valid-beta4-score:0.3563\n"
     ]
    },
    {
     "name": "stderr",
     "output_type": "stream",
     "text": [
      "Epoch 23/25 [Training]: 100%|██████████| 110/110 [00:43<00:00,  2.53it/s, loss=0.7383]\n",
      "Epoch 23/25 [Validation]: 100%|██████████| 1/1 [00:00<00:00,  1.18it/s, loss=0.8421]\n",
      "100%|██████████| 6/6 [03:19<00:00, 33.29s/it]\n"
     ]
    },
    {
     "name": "stdout",
     "output_type": "stream",
     "text": [
      "train-epoch-loss:0.7383 valid-beta4-score:0.3639\n"
     ]
    },
    {
     "name": "stderr",
     "output_type": "stream",
     "text": [
      "Epoch 24/25 [Training]: 100%|██████████| 110/110 [00:47<00:00,  2.32it/s, loss=0.7245]\n",
      "Epoch 24/25 [Validation]: 100%|██████████| 1/1 [00:00<00:00,  1.18it/s, loss=0.7845]\n",
      "100%|██████████| 6/6 [03:20<00:00, 33.35s/it]\n"
     ]
    },
    {
     "name": "stdout",
     "output_type": "stream",
     "text": [
      "train-epoch-loss:0.7245 valid-beta4-score:0.3642\n"
     ]
    },
    {
     "name": "stderr",
     "output_type": "stream",
     "text": [
      "Epoch 25/25 [Training]: 100%|██████████| 110/110 [00:49<00:00,  2.23it/s, loss=0.7300]\n",
      "Epoch 25/25 [Validation]: 100%|██████████| 1/1 [00:00<00:00,  1.07it/s, loss=0.5781]\n",
      "100%|██████████| 6/6 [03:21<00:00, 33.65s/it]\n"
     ]
    },
    {
     "name": "stdout",
     "output_type": "stream",
     "text": [
      "train-epoch-loss:0.7300 valid-beta4-score:0.3605\n"
     ]
    },
    {
     "data": {
      "text/html": [
       "Finishing last run (ID:qiw0z9s8) before initializing another..."
      ],
      "text/plain": [
       "<IPython.core.display.HTML object>"
      ]
     },
     "metadata": {},
     "output_type": "display_data"
    },
    {
     "name": "stderr",
     "output_type": "stream",
     "text": [
      "wandb: WARNING Source type is set to 'repo' but some required information is missing from the environment. A job will not be created from this run. See https://docs.wandb.ai/guides/launch/create-job\n"
     ]
    },
    {
     "data": {
      "application/vnd.jupyter.widget-view+json": {
       "model_id": "562ff284f6cd4e46883ff98f21c4d408",
       "version_major": 2,
       "version_minor": 0
      },
      "text/plain": [
       "VBox(children=(Label(value='0.004 MB of 0.004 MB uploaded\\r'), FloatProgress(value=1.0, max=1.0)))"
      ]
     },
     "metadata": {},
     "output_type": "display_data"
    },
    {
     "data": {
      "text/html": [
       "<style>\n",
       "    table.wandb td:nth-child(1) { padding: 0 10px; text-align: left ; width: auto;} td:nth-child(2) {text-align: left ; width: 100%}\n",
       "    .wandb-row { display: flex; flex-direction: row; flex-wrap: wrap; justify-content: flex-start; width: 100% }\n",
       "    .wandb-col { display: flex; flex-direction: column; flex-basis: 100%; flex: 1; padding: 10px; }\n",
       "    </style>\n",
       "<div class=\"wandb-row\"><div class=\"wandb-col\"><h3>Run history:</h3><br/><table class=\"wandb\"><tr><td>01_epoch</td><td>▁▁▂▂▂▂▃▃▃▄▄▄▅▅▅▅▆▆▆▇▇▇▇██</td></tr><tr><td>02_train_loss</td><td>█▆▅▅▅▅▄▃▃▁▂▂▂▁▂▁▁▁▁▂▁▁▂▁▁</td></tr><tr><td>03_valid_loss</td><td>██▆████▂▂██▇█▄█▁▁█▁▁██▇▆▁</td></tr><tr><td>04_valid_best_score</td><td>▁▁▆▄▆▆▆▆▇█▆▇███████▇█▇███</td></tr><tr><td>apo-ferritin</td><td>▁▂▁▁▁▄▁█▇▇▇█▇▇▇█████▅███▅</td></tr><tr><td>apoo_ferritin_f4</td><td>▁▂▂▁▃▂▅▄▇▇▅▇▇████▇▇▇▇▇▇▇▇</td></tr><tr><td>apoo_ferritin_p</td><td>▁▁▁▁▁▁▄▂▅▆▄▅▇█▇█▇▇▆▆▇▇▇▇▇</td></tr><tr><td>apoo_ferritin_r</td><td>▁▃▃▁▅▃▅▅█▇▅▇▇████▇▇▇▇▇▇▇▇</td></tr><tr><td>beta-amylase</td><td>▁▁▁▁▁▁▁▁▁▁▁▁▁▁▁▁▁▁▁▁▁▁▁▁▁</td></tr><tr><td>beta-galactosidase</td><td>▁█▁▁▁▁▁▁▁▁▁▁▁▁▁▁▁▁▁▁▁▁▁▁▁</td></tr><tr><td>beta_amylase_f4</td><td>▁▁██▅▁▁▁▁▁▁▁▁▁▁▁▁▁▁▁▁▁▁▁▁</td></tr><tr><td>beta_amylase_p</td><td>▁▁▆█▃▁▁▁▁▁▁▁▁▁▁▁▁▁▁▁▁▁▁▁▁</td></tr><tr><td>beta_amylase_r</td><td>▁▁█▃▅▁▁▁▁▁▁▁▁▁▁▁▁▁▁▁▁▁▁▁▁</td></tr><tr><td>beta_galactosidase_f4</td><td>▁▄███▄▁▁▁▁▁▁▁▁▁▁▁▁▁▁▁▁▁▁▁</td></tr><tr><td>beta_galactosidase_p</td><td>▁▃▆█▆▃▁▁▁▁▁▁▁▁▁▁▁▁▁▁▁▁▁▁▁</td></tr><tr><td>beta_galactosidase_r</td><td>▁▇█▅▇▅▁▁▁▁▁▁▁▁▁▁▁▁▁▁▁▁▁▁▁</td></tr><tr><td>ribosome</td><td>▅██▇▇▆▆▇▆▆▅▇█▇█▆▇▆▅▆▆▁▄▅▆</td></tr><tr><td>ribosome_f4</td><td>▁▂▅█▇▅██▅▇▇▇▇▇▇▇█▇▇▇▇▇▇▇▇</td></tr><tr><td>ribosome_p</td><td>▁▂▂▆▆▅▇█▄▇▇▆▇▇▇██████▇▇▇█</td></tr><tr><td>ribosome_r</td><td>▁▂▆█▇▅██▆▇▇▇▇▇▇▇█▇▇▇▇▇▇▇▇</td></tr><tr><td>thyroglobulin</td><td>█▂▁▁▁▂▁▁▁▁▁▁▁▁▁▁▁▁▁▁▁▁▁▁▁</td></tr><tr><td>thyroglobulin_f4</td><td>▇▄█▃▇▆▁▁▁▁▁▁▁▁▁▁▁▁▁▁▁▁▁▁▁</td></tr><tr><td>thyroglobulin_p</td><td>█▃█▄▇▅▁▁▁▁▁▁▁▁▁▁▁▁▁▁▁▁▁▁▁</td></tr><tr><td>thyroglobulin_r</td><td>▇▇█▂▆▇▁▁▁▁▁▁▁▁▁▁▁▁▁▁▁▁▁▁▁</td></tr><tr><td>virus-like-particle</td><td>▂▂▁▁▁█▂█▅▂█▅▁▅▆▃▃▅▅▅▅▅▅▅▅</td></tr><tr><td>virus_like_particle_f4</td><td>▁▂▃▂▂▆▇██████████████████</td></tr><tr><td>virus_like_particle_p</td><td>▁▁▁▁▁▃▅▆█████▇███████████</td></tr><tr><td>virus_like_particle_r</td><td>▁▅▇▃▅▇▇██████████████████</td></tr></table><br/></div><div class=\"wandb-col\"><h3>Run summary:</h3><br/><table class=\"wandb\"><tr><td>01_epoch</td><td>24</td></tr><tr><td>02_train_loss</td><td>0.73005</td></tr><tr><td>03_valid_loss</td><td>0.57814</td></tr><tr><td>04_valid_best_score</td><td>0.36055</td></tr><tr><td>apo-ferritin</td><td>0.45</td></tr><tr><td>apoo_ferritin_f4</td><td>0.85612</td></tr><tr><td>apoo_ferritin_p</td><td>0.63636</td></tr><tr><td>apoo_ferritin_r</td><td>0.875</td></tr><tr><td>beta-amylase</td><td>0.05</td></tr><tr><td>beta-galactosidase</td><td>0.05</td></tr><tr><td>beta_amylase_f4</td><td>0.0</td></tr><tr><td>beta_amylase_p</td><td>0.0</td></tr><tr><td>beta_amylase_r</td><td>0.0</td></tr><tr><td>beta_galactosidase_f4</td><td>0.0</td></tr><tr><td>beta_galactosidase_p</td><td>0.0</td></tr><tr><td>beta_galactosidase_r</td><td>0.0</td></tr><tr><td>ribosome</td><td>0.55</td></tr><tr><td>ribosome_f4</td><td>0.66773</td></tr><tr><td>ribosome_p</td><td>0.59677</td></tr><tr><td>ribosome_r</td><td>0.67273</td></tr><tr><td>thyroglobulin</td><td>0.05</td></tr><tr><td>thyroglobulin_f4</td><td>0.0</td></tr><tr><td>thyroglobulin_p</td><td>0.0</td></tr><tr><td>thyroglobulin_r</td><td>0.0</td></tr><tr><td>virus-like-particle</td><td>0.5</td></tr><tr><td>virus_like_particle_f4</td><td>1.0</td></tr><tr><td>virus_like_particle_p</td><td>1.0</td></tr><tr><td>virus_like_particle_r</td><td>1.0</td></tr></table><br/></div></div>"
      ],
      "text/plain": [
       "<IPython.core.display.HTML object>"
      ]
     },
     "metadata": {},
     "output_type": "display_data"
    },
    {
     "data": {
      "text/html": [
       " View run <strong style=\"color:#cdcd00\">exp068-recreate-baseline-renet34d-dstride-attention_TS_86_3</strong> at: <a href='https://wandb.ai/latent-walkers/czii2024/runs/qiw0z9s8' target=\"_blank\">https://wandb.ai/latent-walkers/czii2024/runs/qiw0z9s8</a><br/>Synced 5 W&B file(s), 0 media file(s), 0 artifact file(s) and 0 other file(s)"
      ],
      "text/plain": [
       "<IPython.core.display.HTML object>"
      ]
     },
     "metadata": {},
     "output_type": "display_data"
    },
    {
     "data": {
      "text/html": [
       "Find logs at: <code>./wandb/run-20250128_042930-qiw0z9s8/logs</code>"
      ],
      "text/plain": [
       "<IPython.core.display.HTML object>"
      ]
     },
     "metadata": {},
     "output_type": "display_data"
    },
    {
     "data": {
      "text/html": [
       "Successfully finished last run (ID:qiw0z9s8). Initializing new run:<br/>"
      ],
      "text/plain": [
       "<IPython.core.display.HTML object>"
      ]
     },
     "metadata": {},
     "output_type": "display_data"
    },
    {
     "data": {
      "application/vnd.jupyter.widget-view+json": {
       "model_id": "d96843d9355443539fd4aa1380d44e4b",
       "version_major": 2,
       "version_minor": 0
      },
      "text/plain": [
       "VBox(children=(Label(value='Waiting for wandb.init()...\\r'), FloatProgress(value=0.011113588933302608, max=1.0…"
      ]
     },
     "metadata": {},
     "output_type": "display_data"
    },
    {
     "data": {
      "text/html": [
       "wandb version 0.19.4 is available!  To upgrade, please run:\n",
       " $ pip install wandb --upgrade"
      ],
      "text/plain": [
       "<IPython.core.display.HTML object>"
      ]
     },
     "metadata": {},
     "output_type": "display_data"
    },
    {
     "data": {
      "text/html": [
       "Tracking run with wandb version 0.16.1"
      ],
      "text/plain": [
       "<IPython.core.display.HTML object>"
      ]
     },
     "metadata": {},
     "output_type": "display_data"
    },
    {
     "data": {
      "text/html": [
       "Run data is saved locally in <code>/home/tatsuya/code/projects/kaggle/CryoET/experiments/exp068-recreate-baseline-renet34d-dstride-attention/wandb/run-20250128_062504-qshke7vo</code>"
      ],
      "text/plain": [
       "<IPython.core.display.HTML object>"
      ]
     },
     "metadata": {},
     "output_type": "display_data"
    },
    {
     "data": {
      "text/html": [
       "Syncing run <strong><a href='https://wandb.ai/latent-walkers/czii2024/runs/qshke7vo' target=\"_blank\">exp068-recreate-baseline-renet34d-dstride-attention_TS_6_6</a></strong> to <a href='https://wandb.ai/latent-walkers/czii2024' target=\"_blank\">Weights & Biases</a> (<a href='https://wandb.me/run' target=\"_blank\">docs</a>)<br/>"
      ],
      "text/plain": [
       "<IPython.core.display.HTML object>"
      ]
     },
     "metadata": {},
     "output_type": "display_data"
    },
    {
     "data": {
      "text/html": [
       " View project at <a href='https://wandb.ai/latent-walkers/czii2024' target=\"_blank\">https://wandb.ai/latent-walkers/czii2024</a>"
      ],
      "text/plain": [
       "<IPython.core.display.HTML object>"
      ]
     },
     "metadata": {},
     "output_type": "display_data"
    },
    {
     "data": {
      "text/html": [
       " View run at <a href='https://wandb.ai/latent-walkers/czii2024/runs/qshke7vo' target=\"_blank\">https://wandb.ai/latent-walkers/czii2024/runs/qshke7vo</a>"
      ],
      "text/plain": [
       "<IPython.core.display.HTML object>"
      ]
     },
     "metadata": {},
     "output_type": "display_data"
    },
    {
     "name": "stderr",
     "output_type": "stream",
     "text": [
      "100%|██████████| 220/220 [00:37<00:00,  5.92it/s]\n",
      "100%|██████████| 1/1 [00:01<00:00,  1.72s/it]\n",
      "Epoch 1/25 [Training]: 100%|██████████| 110/110 [00:45<00:00,  2.39it/s, loss=0.9163]\n",
      "Epoch 1/25 [Validation]: 100%|██████████| 1/1 [00:00<00:00,  1.26it/s, loss=0.8873]\n",
      "100%|██████████| 6/6 [03:55<00:00, 39.20s/it]\n"
     ]
    },
    {
     "name": "stdout",
     "output_type": "stream",
     "text": [
      "train-epoch-loss:0.9163 valid-beta4-score:0.0963\n"
     ]
    },
    {
     "name": "stderr",
     "output_type": "stream",
     "text": [
      "Epoch 2/25 [Training]: 100%|██████████| 110/110 [00:48<00:00,  2.27it/s, loss=0.8711]\n",
      "Epoch 2/25 [Validation]: 100%|██████████| 1/1 [00:00<00:00,  1.28it/s, loss=0.8393]\n",
      "100%|██████████| 6/6 [03:35<00:00, 35.99s/it]\n"
     ]
    },
    {
     "name": "stdout",
     "output_type": "stream",
     "text": [
      "train-epoch-loss:0.8711 valid-beta4-score:0.4170\n"
     ]
    },
    {
     "name": "stderr",
     "output_type": "stream",
     "text": [
      "Epoch 3/25 [Training]: 100%|██████████| 110/110 [00:45<00:00,  2.41it/s, loss=0.8401]\n",
      "Epoch 3/25 [Validation]: 100%|██████████| 1/1 [00:00<00:00,  1.24it/s, loss=0.8532]\n",
      "100%|██████████| 6/6 [03:30<00:00, 35.10s/it]\n"
     ]
    },
    {
     "name": "stdout",
     "output_type": "stream",
     "text": [
      "train-epoch-loss:0.8401 valid-beta4-score:0.2115\n"
     ]
    },
    {
     "name": "stderr",
     "output_type": "stream",
     "text": [
      "Epoch 4/25 [Training]: 100%|██████████| 110/110 [00:47<00:00,  2.30it/s, loss=0.8252]\n",
      "Epoch 4/25 [Validation]: 100%|██████████| 1/1 [00:00<00:00,  1.26it/s, loss=0.7657]\n",
      "100%|██████████| 6/6 [03:20<00:00, 33.43s/it]\n"
     ]
    },
    {
     "name": "stdout",
     "output_type": "stream",
     "text": [
      "train-epoch-loss:0.8252 valid-beta4-score:0.1041\n"
     ]
    },
    {
     "name": "stderr",
     "output_type": "stream",
     "text": [
      "Epoch 5/25 [Training]: 100%|██████████| 110/110 [00:45<00:00,  2.44it/s, loss=0.8084]\n",
      "Epoch 5/25 [Validation]: 100%|██████████| 1/1 [00:00<00:00,  1.22it/s, loss=0.7064]\n",
      "100%|██████████| 6/6 [03:23<00:00, 33.89s/it]\n"
     ]
    },
    {
     "name": "stdout",
     "output_type": "stream",
     "text": [
      "train-epoch-loss:0.8084 valid-beta4-score:0.2387\n"
     ]
    },
    {
     "name": "stderr",
     "output_type": "stream",
     "text": [
      "Epoch 6/25 [Training]: 100%|██████████| 110/110 [00:44<00:00,  2.48it/s, loss=0.8017]\n",
      "Epoch 6/25 [Validation]: 100%|██████████| 1/1 [00:00<00:00,  1.24it/s, loss=0.7497]\n",
      "100%|██████████| 6/6 [03:20<00:00, 33.34s/it]\n"
     ]
    },
    {
     "name": "stdout",
     "output_type": "stream",
     "text": [
      "train-epoch-loss:0.8017 valid-beta4-score:0.3284\n"
     ]
    },
    {
     "name": "stderr",
     "output_type": "stream",
     "text": [
      "Epoch 7/25 [Training]: 100%|██████████| 110/110 [00:47<00:00,  2.32it/s, loss=0.7873]\n",
      "Epoch 7/25 [Validation]: 100%|██████████| 1/1 [00:00<00:00,  1.35it/s, loss=0.7684]\n",
      "100%|██████████| 6/6 [03:24<00:00, 34.00s/it]\n"
     ]
    },
    {
     "name": "stdout",
     "output_type": "stream",
     "text": [
      "train-epoch-loss:0.7873 valid-beta4-score:0.4275\n"
     ]
    },
    {
     "name": "stderr",
     "output_type": "stream",
     "text": [
      "Epoch 8/25 [Training]: 100%|██████████| 110/110 [00:45<00:00,  2.43it/s, loss=0.7997]\n",
      "Epoch 8/25 [Validation]: 100%|██████████| 1/1 [00:00<00:00,  1.24it/s, loss=0.7346]\n",
      "100%|██████████| 6/6 [03:29<00:00, 34.92s/it]\n"
     ]
    },
    {
     "name": "stdout",
     "output_type": "stream",
     "text": [
      "train-epoch-loss:0.7997 valid-beta4-score:0.4632\n"
     ]
    },
    {
     "name": "stderr",
     "output_type": "stream",
     "text": [
      "Epoch 9/25 [Training]: 100%|██████████| 110/110 [00:47<00:00,  2.31it/s, loss=0.7617]\n",
      "Epoch 9/25 [Validation]: 100%|██████████| 1/1 [00:00<00:00,  1.23it/s, loss=0.7024]\n",
      "100%|██████████| 6/6 [03:30<00:00, 35.14s/it]\n"
     ]
    },
    {
     "name": "stdout",
     "output_type": "stream",
     "text": [
      "train-epoch-loss:0.7617 valid-beta4-score:0.5194\n"
     ]
    },
    {
     "name": "stderr",
     "output_type": "stream",
     "text": [
      "Epoch 10/25 [Training]: 100%|██████████| 110/110 [00:50<00:00,  2.19it/s, loss=0.7442]\n",
      "Epoch 10/25 [Validation]: 100%|██████████| 1/1 [00:00<00:00,  1.26it/s, loss=0.5581]\n",
      "100%|██████████| 6/6 [03:26<00:00, 34.48s/it]\n"
     ]
    },
    {
     "name": "stdout",
     "output_type": "stream",
     "text": [
      "train-epoch-loss:0.7442 valid-beta4-score:0.5468\n"
     ]
    },
    {
     "name": "stderr",
     "output_type": "stream",
     "text": [
      "Epoch 11/25 [Training]: 100%|██████████| 110/110 [00:48<00:00,  2.26it/s, loss=0.7383]\n",
      "Epoch 11/25 [Validation]: 100%|██████████| 1/1 [00:00<00:00,  1.23it/s, loss=0.6893]\n",
      "100%|██████████| 6/6 [03:26<00:00, 34.35s/it]\n"
     ]
    },
    {
     "name": "stdout",
     "output_type": "stream",
     "text": [
      "train-epoch-loss:0.7383 valid-beta4-score:0.5622\n"
     ]
    },
    {
     "name": "stderr",
     "output_type": "stream",
     "text": [
      "Epoch 12/25 [Training]: 100%|██████████| 110/110 [00:49<00:00,  2.20it/s, loss=0.7126]\n",
      "Epoch 12/25 [Validation]: 100%|██████████| 1/1 [00:00<00:00,  1.19it/s, loss=0.5725]\n",
      "100%|██████████| 6/6 [03:28<00:00, 34.75s/it]\n"
     ]
    },
    {
     "name": "stdout",
     "output_type": "stream",
     "text": [
      "train-epoch-loss:0.7126 valid-beta4-score:0.5213\n"
     ]
    },
    {
     "name": "stderr",
     "output_type": "stream",
     "text": [
      "Epoch 13/25 [Training]: 100%|██████████| 110/110 [00:44<00:00,  2.45it/s, loss=0.7237]\n",
      "Epoch 13/25 [Validation]: 100%|██████████| 1/1 [00:00<00:00,  1.24it/s, loss=0.6162]\n",
      "100%|██████████| 6/6 [03:30<00:00, 35.00s/it]\n"
     ]
    },
    {
     "name": "stdout",
     "output_type": "stream",
     "text": [
      "train-epoch-loss:0.7237 valid-beta4-score:0.5522\n"
     ]
    },
    {
     "name": "stderr",
     "output_type": "stream",
     "text": [
      "Epoch 14/25 [Training]: 100%|██████████| 110/110 [00:45<00:00,  2.40it/s, loss=0.7224]\n",
      "Epoch 14/25 [Validation]: 100%|██████████| 1/1 [00:00<00:00,  1.35it/s, loss=0.5265]\n",
      "100%|██████████| 6/6 [03:26<00:00, 34.42s/it]\n"
     ]
    },
    {
     "name": "stdout",
     "output_type": "stream",
     "text": [
      "train-epoch-loss:0.7224 valid-beta4-score:0.5421\n"
     ]
    },
    {
     "name": "stderr",
     "output_type": "stream",
     "text": [
      "Epoch 15/25 [Training]: 100%|██████████| 110/110 [00:48<00:00,  2.26it/s, loss=0.7238]\n",
      "Epoch 15/25 [Validation]: 100%|██████████| 1/1 [00:00<00:00,  1.28it/s, loss=0.6505]\n",
      "100%|██████████| 6/6 [03:28<00:00, 34.73s/it]\n"
     ]
    },
    {
     "name": "stdout",
     "output_type": "stream",
     "text": [
      "train-epoch-loss:0.7238 valid-beta4-score:0.5304\n"
     ]
    },
    {
     "name": "stderr",
     "output_type": "stream",
     "text": [
      "Epoch 16/25 [Training]: 100%|██████████| 110/110 [00:43<00:00,  2.54it/s, loss=0.7213]\n",
      "Epoch 16/25 [Validation]: 100%|██████████| 1/1 [00:00<00:00,  1.26it/s, loss=0.5845]\n",
      "100%|██████████| 6/6 [03:30<00:00, 35.16s/it]\n"
     ]
    },
    {
     "name": "stdout",
     "output_type": "stream",
     "text": [
      "train-epoch-loss:0.7213 valid-beta4-score:0.5293\n"
     ]
    },
    {
     "name": "stderr",
     "output_type": "stream",
     "text": [
      "Epoch 17/25 [Training]: 100%|██████████| 110/110 [00:48<00:00,  2.26it/s, loss=0.7069]\n",
      "Epoch 17/25 [Validation]: 100%|██████████| 1/1 [00:00<00:00,  1.27it/s, loss=0.8577]\n",
      "100%|██████████| 6/6 [03:31<00:00, 35.19s/it]\n"
     ]
    },
    {
     "name": "stdout",
     "output_type": "stream",
     "text": [
      "train-epoch-loss:0.7069 valid-beta4-score:0.5604\n"
     ]
    },
    {
     "name": "stderr",
     "output_type": "stream",
     "text": [
      "Epoch 18/25 [Training]: 100%|██████████| 110/110 [00:46<00:00,  2.35it/s, loss=0.7138]\n",
      "Epoch 18/25 [Validation]: 100%|██████████| 1/1 [00:00<00:00,  1.19it/s, loss=0.6452]\n",
      " 83%|████████▎ | 5/6 [02:54<00:35, 35.11s/it]"
     ]
    }
   ],
   "source": [
    "for vaild_exp_name in CFG.train_exp_names:\n",
    "    wandb.init(\n",
    "        project=\"czii2024\", name=f\"{notebook_name}_{vaild_exp_name}\", config=param\n",
    "    )\n",
    "\n",
    "    vaild_exp_name = [vaild_exp_name]\n",
    "    train_exp_name = CFG.train_exp_names.copy()\n",
    "    train_exp_name.remove(vaild_exp_name[0])\n",
    "\n",
    "    # valid_exp_name[0]の名前でディレクトリを作成\n",
    "    os.makedirs(f\"./{vaild_exp_name[0]}\", exist_ok=True)\n",
    "\n",
    "    train_dataset = EziiDataset(\n",
    "        exp_names=train_exp_name,\n",
    "        base_dir=\"../../inputs/train/\",\n",
    "        particles_name=CFG.particles_name,\n",
    "        resolution=CFG.resolution,\n",
    "        zarr_type=CFG.train_zarr_types,\n",
    "        train=True,\n",
    "        augmentation=True,\n",
    "        slice=True,\n",
    "        pre_read=True,\n",
    "    )\n",
    "    valid_dataset = EziiDataset(\n",
    "        exp_names=vaild_exp_name,\n",
    "        base_dir=\"../../inputs/train/\",\n",
    "        particles_name=CFG.particles_name,\n",
    "        resolution=CFG.resolution,\n",
    "        zarr_type=CFG.valid_zarr_types,\n",
    "        augmentation=False,\n",
    "        train=True,\n",
    "        slice=True,\n",
    "        pre_read=True,\n",
    "    )\n",
    "\n",
    "    train_loader = DataLoader(\n",
    "        train_dataset,\n",
    "        batch_size=CFG.batch_size,\n",
    "        shuffle=True,\n",
    "        drop_last=True,\n",
    "        pin_memory=True,\n",
    "        num_workers=CFG.num_workers,\n",
    "    )\n",
    "\n",
    "    valid_loader = DataLoader(\n",
    "        valid_dataset,\n",
    "        batch_size=1,\n",
    "        shuffle=False,\n",
    "        pin_memory=True,\n",
    "        num_workers=CFG.num_workers,\n",
    "    )\n",
    "\n",
    "    encoder = timm.create_model(\n",
    "        model_name=CFG.model_name,\n",
    "        pretrained=True,\n",
    "        in_chans=3,\n",
    "        num_classes=0,\n",
    "        global_pool=\"\",\n",
    "        features_only=True,\n",
    "    )\n",
    "    model = Unet3D(encoder=encoder, num_domains=5).to(\"cuda\")\n",
    "\n",
    "    optimizer = torch.optim.Adam(\n",
    "        model.parameters(), lr=CFG.lr, weight_decay=CFG.weight_decay\n",
    "    )\n",
    "    criterion = DiceLoss()\n",
    "    scheduler = get_cosine_schedule_with_warmup(\n",
    "        optimizer,\n",
    "        num_warmup_steps=10,\n",
    "        num_training_steps=CFG.epochs * len(train_loader),\n",
    "        # * batch_size,\n",
    "    )\n",
    "    scaler = GradScaler()\n",
    "    seg_loss = SegmentationLoss(criterion)\n",
    "    padf = PadToSize(CFG.resolution)\n",
    "\n",
    "    best_model = None\n",
    "    best_constant = 0\n",
    "    best_score = -100\n",
    "    best_particle_score = {}\n",
    "\n",
    "    grand_train_loss = []\n",
    "    grand_valid_loss = []\n",
    "    grand_train_score = []\n",
    "    grand_valid_score = []\n",
    "\n",
    "    for epoch in range(CFG.epochs):\n",
    "        model.train()\n",
    "        train_loss = []\n",
    "        valid_loss = []\n",
    "        with tqdm(\n",
    "            train_loader, desc=f\"Epoch {epoch + 1}/{CFG.epochs} [Training]\"\n",
    "        ) as tq:\n",
    "            for data in tq:\n",
    "                normalized_tomogram = data[\"normalized_tomogram\"]\n",
    "                segmentation_map = data[\"segmentation_map\"]\n",
    "                zarr_embedding_idx = data[\"zarr_type_embedding_idx\"]\n",
    "\n",
    "                normalized_tomogram = padf(normalized_tomogram)\n",
    "                segmentation_map = padf(segmentation_map)\n",
    "\n",
    "                # データ拡張\n",
    "                normalized_tomogram, segmentation_map = augment_data(\n",
    "                    normalized_tomogram, segmentation_map, p=CFG.augmentation_prob\n",
    "                )\n",
    "                normalized_tomogram = normalized_tomogram.cuda()\n",
    "                segmentation_map = segmentation_map.long().cuda()\n",
    "                zarr_embedding_idx = zarr_embedding_idx.cuda()\n",
    "\n",
    "                optimizer.zero_grad()\n",
    "\n",
    "                with autocast():\n",
    "                    pred = model(\n",
    "                        preprocess_tensor(normalized_tomogram), zarr_embedding_idx\n",
    "                    )\n",
    "                    loss = seg_loss(pred, segmentation_map)\n",
    "                # loss.backward()\n",
    "                # optimizer.step()\n",
    "                scaler.scale(loss).backward()\n",
    "                scaler.step(optimizer)\n",
    "                scaler.update()\n",
    "                scheduler.step()\n",
    "                train_loss.append(loss.item())\n",
    "\n",
    "                # 確率予測\n",
    "                prob_pred = torch.softmax(pred, dim=1)\n",
    "                tq.set_postfix({\"loss\": f\"{np.mean(train_loss):.4f}\"})\n",
    "\n",
    "        del normalized_tomogram, segmentation_map, zarr_embedding_idx, pred, loss\n",
    "        gc.collect()\n",
    "        torch.cuda.empty_cache()\n",
    "\n",
    "        with tqdm(\n",
    "            valid_loader, desc=f\"Epoch {epoch + 1}/{CFG.epochs} [Validation]\"\n",
    "        ) as tq:\n",
    "            with torch.no_grad():\n",
    "                for data in tq:\n",
    "                    normalized_tomogram = data[\"normalized_tomogram\"].cuda()\n",
    "                    segmentation_map = data[\"segmentation_map\"].long().cuda()\n",
    "                    zarr_embedding_idx = data[\"zarr_type_embedding_idx\"].cuda()\n",
    "\n",
    "                    normalized_tomogram = padf(normalized_tomogram)\n",
    "                    segmentation_map = padf(segmentation_map)\n",
    "\n",
    "                    with autocast():\n",
    "                        pred = model(\n",
    "                            preprocess_tensor(normalized_tomogram), zarr_embedding_idx\n",
    "                        )\n",
    "                        loss = seg_loss(pred, segmentation_map)\n",
    "                    valid_loss.append(loss.item())\n",
    "\n",
    "                    # 確率予測\n",
    "                    prob_pred = torch.softmax(pred, dim=1)\n",
    "                    tq.set_postfix({\"loss\": f\"{np.mean(valid_loss):.4f}\"})\n",
    "\n",
    "        del normalized_tomogram, segmentation_map, zarr_embedding_idx, pred, loss\n",
    "        gc.collect()\n",
    "        torch.cuda.empty_cache()\n",
    "\n",
    "        # # ############### validation ################\n",
    "        train_nshuffle_original_tomogram = defaultdict(list)\n",
    "        train_nshuffle_pred_tomogram = defaultdict(list)\n",
    "        train_nshuffle_gt_tomogram = defaultdict(list)\n",
    "\n",
    "        valid_original_tomogram = defaultdict(list)\n",
    "        valid_pred_tomogram = defaultdict(list)\n",
    "        valid_gt_tomogram = defaultdict(list)\n",
    "\n",
    "        train_mean_scores = []\n",
    "        valid_mean_scores = []\n",
    "\n",
    "        # モデルの保存\n",
    "        make_dir_ = (\n",
    "            f\"../../../../../../../../mnt/d/kaggle-tmp-models/czii2024/{notebook_name}/\"\n",
    "        )\n",
    "        os.makedirs(make_dir_, exist_ok=True)\n",
    "        torch.save(model.state_dict(), make_dir_ + f\"model_{epoch}.pth\")\n",
    "\n",
    "        # ############### validation ################\n",
    "        train_nshuffle_original_tomogram = defaultdict(list)\n",
    "        train_nshuffle_pred_tomogram = defaultdict(list)\n",
    "        train_nshuffle_gt_tomogram = defaultdict(list)\n",
    "\n",
    "        valid_original_tomogram = defaultdict(list)\n",
    "        valid_pred_tomogram = defaultdict(list)\n",
    "        valid_gt_tomogram = defaultdict(list)\n",
    "\n",
    "        train_mean_scores = []\n",
    "        valid_mean_scores = []\n",
    "\n",
    "        train_inferenced_array = {}\n",
    "        train_pred_array = []\n",
    "        train_gt_array = []\n",
    "        valid_inferenced_array = {}\n",
    "        valid_gt_array = []\n",
    "\n",
    "        # for exp_name in tqdm(CFG.train_exp_names):\n",
    "        for exp_name in vaild_exp_name:  # 5つのデータで試す\n",
    "            # inferenced_array = inference(model, exp_name, train=False)\n",
    "            inferenced_array, n_tomogram, segmentation_map = inference(\n",
    "                model, exp_name, train=False\n",
    "            )\n",
    "            valid_inferenced_array[exp_name] = inferenced_array\n",
    "            base_dir = \"../../inputs/train/overlay/ExperimentRuns/\"\n",
    "            gt_df = create_gt_df(base_dir, [exp_name])\n",
    "            valid_gt_array.append(gt_df)\n",
    "\n",
    "        valid_gt_array = pd.concat(valid_gt_array)\n",
    "\n",
    "        b_constant = 0\n",
    "        b_score = -100\n",
    "        b_particle_score = {}\n",
    "\n",
    "        try:\n",
    "            best_thresholds, final_score = reduce_computation_sikii_search(\n",
    "                inferenced_array,\n",
    "                exp_name,\n",
    "                [\n",
    "                    0.05,\n",
    "                    0.1,\n",
    "                    0.15,\n",
    "                    0.2,\n",
    "                    0.25,\n",
    "                    0.3,\n",
    "                    0.35,\n",
    "                    0.4,\n",
    "                    0.45,\n",
    "                    0.5,\n",
    "                    0.55,\n",
    "                    0.6,\n",
    "                    0.65,\n",
    "                    0.7,\n",
    "                    0.75,\n",
    "                ],\n",
    "            )\n",
    "        except:\n",
    "            best_thresholds = [0.5] * 6\n",
    "            final_score = -50\n",
    "\n",
    "        b_score = final_score\n",
    "        b_particle_constant = {\n",
    "            \"apo-ferritin\": best_thresholds[0],\n",
    "            \"beta-amylase\": best_thresholds[1],\n",
    "            \"beta-galactosidase\": best_thresholds[2],\n",
    "            \"ribosome\": best_thresholds[3],\n",
    "            \"thyroglobulin\": best_thresholds[4],\n",
    "            \"virus-like-particle\": best_thresholds[5],\n",
    "        }\n",
    "\n",
    "        try:\n",
    "            valid_pred_array = []\n",
    "            for exp_name in [vaild_exp_name[0]]:\n",
    "                pred_df = inference2pos(\n",
    "                    pred_segmask=valid_inferenced_array[exp_name],\n",
    "                    exp_name=exp_name,\n",
    "                    sikii_dict=b_particle_constant,\n",
    "                )\n",
    "                valid_pred_array.append(pred_df)\n",
    "\n",
    "            valid_pred_array = pd.concat(valid_pred_array)\n",
    "\n",
    "            if len(valid_pred_array) != 0:\n",
    "                result_df, score_ = compute_lb(\n",
    "                    valid_pred_array,\n",
    "                    \"../../inputs/train/overlay/ExperimentRuns/\",\n",
    "                    vaild_exp_name,\n",
    "                )\n",
    "                particle_score = extract_particle_results(result_df)\n",
    "\n",
    "                b_score = score_\n",
    "                b_particle_score = particle_score\n",
    "        except:\n",
    "            b_score = -50\n",
    "            b_particle_score = {}\n",
    "\n",
    "        import gc\n",
    "        import torch.cuda as cuda\n",
    "\n",
    "        # del valid_pred_array, valid_gt_array\n",
    "        gc.collect()\n",
    "        cuda.empty_cache()\n",
    "\n",
    "        # print(\"constant\", b_constant, \"score\", b_score)\n",
    "\n",
    "        # wandb-log\n",
    "        train_info = {\n",
    "            \"01_epoch\": epoch,\n",
    "            \"02_train_loss\": np.mean(train_loss),\n",
    "            \"03_valid_loss\": np.mean(valid_loss),\n",
    "            # \"train_score\": np.mean(train_mean_scores),\n",
    "            \"04_valid_best_score\": b_score,\n",
    "        }\n",
    "        train_info = {**train_info, **b_particle_score}\n",
    "        train_info = {**train_info, **b_particle_constant}\n",
    "        wandb.log(train_info)\n",
    "\n",
    "        # score-update\n",
    "        if b_score > best_score:\n",
    "            best_score = b_score\n",
    "            # best_score = np.mean(valid_mean_scores)\n",
    "            best_model = model.state_dict()\n",
    "            torch.save(best_model, f\"./{vaild_exp_name[0]}/best_model.pth\")\n",
    "\n",
    "        print(\n",
    "            f\"train-epoch-loss:{np.mean(train_loss):.4f}\",\n",
    "            # f\"valid-epoch-loss:{np.mean(valid_loss):.4f}\",\n",
    "            # f\"train-beta4-score:{np.mean(train_mean_scores):.4f}\",\n",
    "            f\"valid-beta4-score:{b_score:.4f}\",\n",
    "        )\n",
    "\n",
    "        grand_train_loss.append(np.mean(train_loss))\n",
    "        # grand_valid_loss.append(np.mean(valid_loss))\n",
    "        # grand_train_score.append(np.mean(train_mean_scores))\n",
    "        grand_valid_score.append(b_score)\n",
    "\n",
    "    del model, optimizer, criterion, scheduler, scaler, seg_loss\n",
    "    gc.collect()\n",
    "    torch.cuda.empty_cache()"
   ]
  },
  {
   "cell_type": "code",
   "execution_count": null,
   "metadata": {},
   "outputs": [],
   "source": [
    "# train_lossとvalid_lossのプロット\n",
    "\n",
    "plt.plot(grand_train_loss, label=\"train_loss\")\n",
    "plt.plot(grand_valid_loss, label=\"valid_loss\")\n",
    "plt.legend()\n",
    "plt.show()"
   ]
  },
  {
   "cell_type": "code",
   "execution_count": null,
   "metadata": {},
   "outputs": [],
   "source": [
    "# train_scoreとvalid_scoreのプロット\n",
    "plt.plot(grand_train_score, label=\"train_score\")\n",
    "plt.plot(grand_valid_score, label=\"valid_score\")\n",
    "plt.legend()\n",
    "plt.show()"
   ]
  },
  {
   "cell_type": "code",
   "execution_count": null,
   "metadata": {},
   "outputs": [],
   "source": [
    "random.random()"
   ]
  },
  {
   "cell_type": "code",
   "execution_count": null,
   "metadata": {},
   "outputs": [],
   "source": []
  },
  {
   "cell_type": "code",
   "execution_count": null,
   "metadata": {},
   "outputs": [],
   "source": []
  }
 ],
 "metadata": {
  "kernelspec": {
   "display_name": "kaggle",
   "language": "python",
   "name": "python3"
  },
  "language_info": {
   "codemirror_mode": {
    "name": "ipython",
    "version": 3
   },
   "file_extension": ".py",
   "mimetype": "text/x-python",
   "name": "python",
   "nbconvert_exporter": "python",
   "pygments_lexer": "ipython3",
   "version": "3.9.16"
  }
 },
 "nbformat": 4,
 "nbformat_minor": 2
}
