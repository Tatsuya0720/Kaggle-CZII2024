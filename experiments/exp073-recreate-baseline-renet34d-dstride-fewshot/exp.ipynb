{
 "cells": [
  {
   "cell_type": "code",
   "execution_count": 1,
   "metadata": {},
   "outputs": [],
   "source": [
    "import os\n",
    "import zarr\n",
    "import timm\n",
    "import random\n",
    "import json\n",
    "import gc\n",
    "import warnings\n",
    "import numpy as np\n",
    "import pandas as pd\n",
    "import torch.nn as nn\n",
    "from pathlib import Path\n",
    "import matplotlib.pyplot as plt\n",
    "from torch.utils.data import DataLoader, Dataset\n",
    "from collections import defaultdict\n",
    "\n",
    "import sys\n",
    "import torch\n",
    "from torch.cuda.amp import autocast, GradScaler\n",
    "\n",
    "# import torchvision.transforms.functional as F\n",
    "import random\n",
    "\n",
    "warnings.filterwarnings(\"ignore\")\n",
    "sys.path.append(\"./src/\")\n",
    "\n",
    "from src.config import CFG\n",
    "from src.dataloader import (\n",
    "    read_zarr,\n",
    "    read_info_json,\n",
    "    scale_coordinates,\n",
    "    create_dataset,\n",
    "    create_segmentation_map,\n",
    "    EziiDataset,\n",
    "    drop_padding,\n",
    ")\n",
    "from src.network import Unet3D\n",
    "from src.utils import save_images, PadToSize\n",
    "from src.metric import (\n",
    "    score,\n",
    "    create_cls_pos,\n",
    "    create_cls_pos_sikii,\n",
    "    create_df,\n",
    "    SegmentationLoss,\n",
    "    DiceLoss,\n",
    ")\n",
    "from tqdm import tqdm\n",
    "from src.kaggle_notebook_metric import compute_lb, extract_particle_results\n",
    "from src.inference import inference, inference2pos, create_gt_df\n",
    "from metric import visualize_epoch_results\n",
    "\n",
    "import wandb\n",
    "from pathlib import Path\n",
    "\n",
    "notebook_name = os.path.join(Path().resolve()).split(\"/\")[-1]\n",
    "\n",
    "param = {\n",
    "    \"model\": CFG.model_name,\n",
    "    \"resolution\": CFG.resolution,\n",
    "    \"augmentation_prob\": CFG.augmentation_prob,\n",
    "    \"slice\": CFG.slice_,\n",
    "    \"epochs\": CFG.epochs,\n",
    "    \"lr\": CFG.lr,\n",
    "    \"batch_size\": CFG.batch_size,\n",
    "    \"weight_decay\": CFG.weight_decay,\n",
    "    \"num_workers\": CFG.num_workers,\n",
    "    \"augment_data_ratio\": CFG.augment_data_ratio,\n",
    "}"
   ]
  },
  {
   "cell_type": "code",
   "execution_count": 2,
   "metadata": {},
   "outputs": [],
   "source": [
    "from sklearn.metrics import *\n",
    "from scipy.optimize import minimize\n",
    "\n",
    "# sikii値とexp_namesを入れるとスコアを出力する関数\n",
    "\n",
    "\n",
    "def compute_score(sikii_list, inferenced_array, exp_name):\n",
    "    apo_ferritin = sikii_list[0]\n",
    "    beta_amylase = sikii_list[1]\n",
    "    beta_galactosidase = sikii_list[2]\n",
    "    ribosome = sikii_list[3]\n",
    "    thyroglobulin = sikii_list[4]\n",
    "    virus_like_particle = sikii_list[5]\n",
    "\n",
    "    sikii_dict = {\n",
    "        \"apo-ferritin\": apo_ferritin,\n",
    "        \"beta-amylase\": beta_amylase,\n",
    "        \"beta-galactosidase\": beta_galactosidase,\n",
    "        \"ribosome\": ribosome,\n",
    "        \"thyroglobulin\": thyroglobulin,\n",
    "        \"virus-like-particle\": virus_like_particle,\n",
    "    }\n",
    "\n",
    "    all_pred = []\n",
    "\n",
    "    pred_df = inference2pos(\n",
    "        pred_segmask=inferenced_array, exp_name=exp_name, sikii_dict=sikii_dict\n",
    "    )\n",
    "\n",
    "    all_pred.append(pred_df)\n",
    "\n",
    "    gc.collect()\n",
    "\n",
    "    pred_df = pd.concat(all_pred, axis=0).reset_index(drop=True)\n",
    "    pred_df = pred_df[pred_df[\"particle_type\"] != \"beta-amylase\"]\n",
    "    pred_df = pred_df.drop_duplicates(\n",
    "        subset=[\"experiment\", \"x\", \"y\", \"z\"], keep=\"first\"\n",
    "    ).reset_index(drop=True)\n",
    "    pred_df = pred_df.reset_index().rename(columns={\"index\": \"id\"})\n",
    "\n",
    "    gt_df = create_gt_df(\"../../inputs/train/overlay/ExperimentRuns/\", [exp_name])\n",
    "\n",
    "    result_df, lb_score = compute_lb(\n",
    "        pred_df, \"../../inputs/train/overlay/ExperimentRuns/\", [exp_name]\n",
    "    )\n",
    "\n",
    "    return lb_score\n",
    "\n",
    "\n",
    "def reduce_computation_sikii_search(\n",
    "    inferenced_array: np.ndarray, exp_name: str, threshold_candidates: list[float]\n",
    ") -> tuple[list[float], float]:\n",
    "    \"\"\"\n",
    "    # How\n",
    "    6つのしきい値が互いに独立してスコアに貢献しているという前提で、\n",
    "    1次元ずつ最適なしきい値を探す手法を実装する.\n",
    "\n",
    "    1. 初期の best_thresholds (全要素 0.5 など適当な値) を用意\n",
    "    2. i=0 から i=5 まで順番に:\n",
    "       - threshold_candidates をすべて試し、他は固定したまま i 番目だけ変化させてスコアを計算\n",
    "       - 最良スコアが得られる候補値を確定し、best_thresholds[i] とする\n",
    "    3. 全部決まったら最終的なスコアを計算して返す\n",
    "\n",
    "    これにより、全組み合わせ (product) を回すよりも計算量が大幅に減少する.\n",
    "    \"\"\"\n",
    "    # Why not: 6値独立であるという前提が満たされていない場合、近似解になる可能性あり\n",
    "    best_thresholds = [0.5] * 6  # 適当な初期値でOK\n",
    "\n",
    "    for i in tqdm(range(6)):\n",
    "        best_local_score = -float(\"inf\")\n",
    "        best_local_value = None\n",
    "\n",
    "        for candidate in threshold_candidates:\n",
    "            current_thresholds = best_thresholds[:]  # 現在のベストを複製\n",
    "            current_thresholds[i] = candidate\n",
    "            score = compute_score(current_thresholds, inferenced_array, exp_name)\n",
    "            if score > best_local_score:\n",
    "                best_local_score = score\n",
    "                best_local_value = candidate\n",
    "\n",
    "        # i番目のしきい値を最適値に更新\n",
    "        best_thresholds[i] = best_local_value\n",
    "\n",
    "    final_score = compute_score(best_thresholds, inferenced_array, exp_name)\n",
    "    return best_thresholds, final_score"
   ]
  },
  {
   "cell_type": "code",
   "execution_count": 3,
   "metadata": {},
   "outputs": [
    {
     "name": "stdout",
     "output_type": "stream",
     "text": [
      "Original shape: torch.Size([6, 16, 320, 320])\n",
      "Augmented shape: torch.Size([6, 16, 256, 256])\n"
     ]
    }
   ],
   "source": [
    "import torch\n",
    "import random\n",
    "import torchvision.transforms.functional as TF\n",
    "\n",
    "\n",
    "# 回転\n",
    "# 3Dテンソルの各軸に対して指定した角度で回転する関数\n",
    "def rotate_3d(tomogram, segmentation_map, angle):\n",
    "    \"\"\"Rotates the 3D tensors tomogram and segmentation_map around the Z-axis.\"\"\"\n",
    "    rotated_tomogram = TF.rotate(tomogram, angle, expand=False)\n",
    "    rotated_segmentation_map = TF.rotate(segmentation_map, angle, expand=False)\n",
    "    return rotated_tomogram, rotated_segmentation_map\n",
    "\n",
    "\n",
    "# 平行移動\n",
    "# 指定された範囲でランダムに平行移動\n",
    "def translate_3d(tomogram, segmentation_map, max_shift):\n",
    "    \"\"\"Translates the 3D tensors by a random shift within max_shift.\"\"\"\n",
    "    shift_x = random.randint(-max_shift, max_shift)\n",
    "    shift_y = random.randint(-max_shift, max_shift)\n",
    "    translated_tomogram = TF.affine(\n",
    "        tomogram, angle=0, translate=(shift_x, shift_y), scale=1, shear=0\n",
    "    )\n",
    "    translated_segmentation_map = TF.affine(\n",
    "        segmentation_map, angle=0, translate=(shift_x, shift_y), scale=1, shear=0\n",
    "    )\n",
    "    return translated_tomogram, translated_segmentation_map\n",
    "\n",
    "\n",
    "# フリップ\n",
    "# 縦横（上下左右）ランダムフリップ\n",
    "def flip_3d(tomogram, segmentation_map):\n",
    "    \"\"\"Randomly flips the 3D tensors along height or width.\"\"\"\n",
    "    if random.random() > 0.5:  # Horizontal flip\n",
    "        tomogram = torch.flip(tomogram, dims=[-1])\n",
    "        segmentation_map = torch.flip(segmentation_map, dims=[-1])\n",
    "    if random.random() > 0.5:  # Vertical flip\n",
    "        tomogram = torch.flip(tomogram, dims=[-2])\n",
    "        segmentation_map = torch.flip(segmentation_map, dims=[-2])\n",
    "    return tomogram, segmentation_map\n",
    "\n",
    "\n",
    "# クロッピング\n",
    "# 入力テンソルを中心またはランダムクロップで切り取る\n",
    "def crop_3d(tomogram, segmentation_map, crop_size):\n",
    "    \"\"\"Crops the 3D tensors to the specified crop_size.\"\"\"\n",
    "    _, depth, height, width = tomogram.size()\n",
    "    crop_d, crop_h, crop_w = crop_size\n",
    "\n",
    "    if crop_h > height or crop_w > width:\n",
    "        raise ValueError(\"Crop size cannot be larger than the original size.\")\n",
    "\n",
    "    start_h = random.randint(0, height - crop_h)  # Random starting position for height\n",
    "    start_w = random.randint(0, width - crop_w)  # Random starting position for width\n",
    "\n",
    "    cropped_tomogram = tomogram[\n",
    "        :, :, start_h : start_h + crop_h, start_w : start_w + crop_w\n",
    "    ]\n",
    "    cropped_segmentation_map = segmentation_map[\n",
    "        :, :, start_h : start_h + crop_h, start_w : start_w + crop_w\n",
    "    ]\n",
    "\n",
    "    return cropped_tomogram, cropped_segmentation_map\n",
    "\n",
    "\n",
    "# Mixup\n",
    "# 2つのサンプルを線形補間して混合\n",
    "def mixup(tomogram, segmentation_map, alpha=0.4):\n",
    "    \"\"\"Applies mixup augmentation to the batch.\"\"\"\n",
    "    lam = random.betavariate(alpha, alpha)\n",
    "    batch_size = tomogram.size(0)\n",
    "    index = torch.randperm(batch_size)\n",
    "\n",
    "    mixed_tomogram = lam * tomogram + (1 - lam) * tomogram[index, :]\n",
    "    mixed_segmentation_map = (\n",
    "        lam * segmentation_map + (1 - lam) * segmentation_map[index, :]\n",
    "    )\n",
    "\n",
    "    return mixed_tomogram, mixed_segmentation_map\n",
    "\n",
    "\n",
    "# Cutmix\n",
    "# ランダム領域を切り取って別のサンプルに貼り付け\n",
    "def cutmix(tomogram, segmentation_map, alpha=1.0):\n",
    "    \"\"\"Applies cutmix augmentation to the batch.\"\"\"\n",
    "    lam = random.betavariate(alpha, alpha)\n",
    "    batch_size, depth, height, width = tomogram.size()\n",
    "    index = torch.randperm(batch_size)\n",
    "\n",
    "    cx = random.randint(0, width)\n",
    "    cy = random.randint(0, height)\n",
    "    cw = int(width * (1 - lam))\n",
    "    ch = int(height * (1 - lam))\n",
    "\n",
    "    x1 = max(cx - cw // 2, 0)\n",
    "    x2 = min(cx + cw // 2, width)\n",
    "    y1 = max(cy - ch // 2, 0)\n",
    "    y2 = min(cy + ch // 2, height)\n",
    "\n",
    "    tomogram[:, :, y1:y2, x1:x2] = tomogram[index, :, y1:y2, x1:x2]\n",
    "    segmentation_map[:, :, y1:y2, x1:x2] = segmentation_map[index, :, y1:y2, x1:x2]\n",
    "\n",
    "    return tomogram, segmentation_map\n",
    "\n",
    "\n",
    "# データ拡張の組み合わせ適用\n",
    "def augment_data(\n",
    "    tomogram,\n",
    "    segmentation_map,\n",
    "    crop_size=(16, 256, 256),\n",
    "    max_shift=10,\n",
    "    rotation_angle=30,\n",
    "    p=0.5,\n",
    "    mixup_alpha=0.4,\n",
    "    cutmix_alpha=1.0,\n",
    "):\n",
    "    \"\"\"Applies a combination of rotation, translation, flipping, cropping, mixup, and cutmix to the inputs with probabilities.\"\"\"\n",
    "    if random.random() < p:\n",
    "        tomogram, segmentation_map = rotate_3d(\n",
    "            tomogram,\n",
    "            segmentation_map,\n",
    "            angle=random.uniform(-rotation_angle, rotation_angle),\n",
    "        )\n",
    "    if random.random() < p:\n",
    "        tomogram, segmentation_map = translate_3d(\n",
    "            tomogram, segmentation_map, max_shift=max_shift\n",
    "        )\n",
    "    if random.random() < p:\n",
    "        tomogram, segmentation_map = flip_3d(tomogram, segmentation_map)\n",
    "    if random.random() < p:\n",
    "        tomogram, segmentation_map = crop_3d(\n",
    "            tomogram, segmentation_map, crop_size=crop_size\n",
    "        )\n",
    "    # if random.random() < p:\n",
    "    #     tomogram, segmentation_map = mixup(\n",
    "    #         tomogram, segmentation_map, alpha=mixup_alpha\n",
    "    #     )\n",
    "    # if random.random() < p:\n",
    "    #     tomogram, segmentation_map = cutmix(\n",
    "    #         tomogram, segmentation_map, alpha=cutmix_alpha\n",
    "    #     )\n",
    "    return tomogram, segmentation_map\n",
    "\n",
    "\n",
    "# 使用例\n",
    "# バッチサイズ6, 深さ16, 高さ320, 幅320のランダムテンソル\n",
    "tomogram = torch.rand((6, 16, 320, 320))\n",
    "segmentation_map = torch.randint(0, 2, (6, 16, 320, 320))  # ラベルは0または1\n",
    "\n",
    "# データ拡張の適用\n",
    "aug_tomogram, aug_segmentation_map = augment_data(tomogram, segmentation_map, p=0.7)\n",
    "print(\"Original shape:\", tomogram.shape)\n",
    "print(\"Augmented shape:\", aug_tomogram.shape)"
   ]
  },
  {
   "cell_type": "code",
   "execution_count": 4,
   "metadata": {},
   "outputs": [],
   "source": [
    "from transformers import get_cosine_schedule_with_warmup"
   ]
  },
  {
   "cell_type": "code",
   "execution_count": 5,
   "metadata": {},
   "outputs": [],
   "source": [
    "# b, c, d, h, w = CFG.batch_size, 1, 96, 320, 320"
   ]
  },
  {
   "cell_type": "code",
   "execution_count": 6,
   "metadata": {},
   "outputs": [],
   "source": [
    "def preprocess_tensor(tensor):\n",
    "    batch_size, depth, height, width = tensor.shape\n",
    "    tensor = tensor.unsqueeze(2)  # (b, d, h, w) -> (b, d, 1, h, w)\n",
    "    return tensor\n",
    "\n",
    "\n",
    "padf = PadToSize(CFG.resolution)"
   ]
  },
  {
   "cell_type": "code",
   "execution_count": 7,
   "metadata": {},
   "outputs": [
    {
     "name": "stderr",
     "output_type": "stream",
     "text": [
      "Failed to detect the name of this notebook, you can set it manually with the WANDB_NOTEBOOK_NAME environment variable to enable code saving.\n",
      "\u001b[34m\u001b[1mwandb\u001b[0m: Currently logged in as: \u001b[33mtatuya\u001b[0m (\u001b[33mlatent-walkers\u001b[0m). Use \u001b[1m`wandb login --relogin`\u001b[0m to force relogin\n"
     ]
    },
    {
     "data": {
      "text/html": [
       "wandb version 0.19.5 is available!  To upgrade, please run:\n",
       " $ pip install wandb --upgrade"
      ],
      "text/plain": [
       "<IPython.core.display.HTML object>"
      ]
     },
     "metadata": {},
     "output_type": "display_data"
    },
    {
     "data": {
      "text/html": [
       "Tracking run with wandb version 0.16.1"
      ],
      "text/plain": [
       "<IPython.core.display.HTML object>"
      ]
     },
     "metadata": {},
     "output_type": "display_data"
    },
    {
     "data": {
      "text/html": [
       "Run data is saved locally in <code>/home/tatsuya/code/projects/kaggle/CryoET/experiments/exp072-recreate-baseline-renet34d-dstride/wandb/run-20250129_222150-nsslemil</code>"
      ],
      "text/plain": [
       "<IPython.core.display.HTML object>"
      ]
     },
     "metadata": {},
     "output_type": "display_data"
    },
    {
     "data": {
      "text/html": [
       "Syncing run <strong><a href='https://wandb.ai/latent-walkers/czii2024/runs/nsslemil' target=\"_blank\">exp072-recreate-baseline-renet34d-dstride_TS_73_6</a></strong> to <a href='https://wandb.ai/latent-walkers/czii2024' target=\"_blank\">Weights & Biases</a> (<a href='https://wandb.me/run' target=\"_blank\">docs</a>)<br/>"
      ],
      "text/plain": [
       "<IPython.core.display.HTML object>"
      ]
     },
     "metadata": {},
     "output_type": "display_data"
    },
    {
     "data": {
      "text/html": [
       " View project at <a href='https://wandb.ai/latent-walkers/czii2024' target=\"_blank\">https://wandb.ai/latent-walkers/czii2024</a>"
      ],
      "text/plain": [
       "<IPython.core.display.HTML object>"
      ]
     },
     "metadata": {},
     "output_type": "display_data"
    },
    {
     "data": {
      "text/html": [
       " View run at <a href='https://wandb.ai/latent-walkers/czii2024/runs/nsslemil' target=\"_blank\">https://wandb.ai/latent-walkers/czii2024/runs/nsslemil</a>"
      ],
      "text/plain": [
       "<IPython.core.display.HTML object>"
      ]
     },
     "metadata": {},
     "output_type": "display_data"
    },
    {
     "name": "stderr",
     "output_type": "stream",
     "text": [
      "100%|██████████| 752/752 [01:17<00:00,  9.69it/s]\n",
      "100%|██████████| 1/1 [00:01<00:00,  1.64s/it]\n"
     ]
    },
    {
     "data": {
      "application/vnd.jupyter.widget-view+json": {
       "model_id": "760db19767fe4beead20c95ace1f1620",
       "version_major": 2,
       "version_minor": 0
      },
      "text/plain": [
       "model.safetensors:   0%|          | 0.00/46.9M [00:00<?, ?B/s]"
      ]
     },
     "metadata": {},
     "output_type": "display_data"
    },
    {
     "name": "stderr",
     "output_type": "stream",
     "text": [
      "Epoch 1/15 [Training]: 100%|██████████| 376/376 [03:43<00:00,  1.68it/s, loss=0.8617]\n",
      "Epoch 1/15 [Validation]: 100%|██████████| 1/1 [00:01<00:00,  1.03s/it, loss=0.7895]\n",
      "100%|██████████| 6/6 [03:28<00:00, 34.73s/it]\n"
     ]
    },
    {
     "name": "stdout",
     "output_type": "stream",
     "text": [
      "train-epoch-loss:0.8617 valid-beta4-score:0.2401\n"
     ]
    },
    {
     "name": "stderr",
     "output_type": "stream",
     "text": [
      "Epoch 2/15 [Training]: 100%|██████████| 376/376 [03:37<00:00,  1.73it/s, loss=0.7746]\n",
      "Epoch 2/15 [Validation]: 100%|██████████| 1/1 [00:00<00:00,  1.05it/s, loss=0.7583]\n",
      "100%|██████████| 6/6 [03:23<00:00, 33.90s/it]\n"
     ]
    },
    {
     "name": "stdout",
     "output_type": "stream",
     "text": [
      "train-epoch-loss:0.7746 valid-beta4-score:0.4868\n"
     ]
    },
    {
     "name": "stderr",
     "output_type": "stream",
     "text": [
      "Epoch 3/15 [Training]: 100%|██████████| 376/376 [03:34<00:00,  1.75it/s, loss=0.7096]\n",
      "Epoch 3/15 [Validation]: 100%|██████████| 1/1 [00:00<00:00,  1.05it/s, loss=0.6884]\n",
      "100%|██████████| 6/6 [03:34<00:00, 35.68s/it]\n"
     ]
    },
    {
     "name": "stdout",
     "output_type": "stream",
     "text": [
      "train-epoch-loss:0.7096 valid-beta4-score:0.5401\n"
     ]
    },
    {
     "name": "stderr",
     "output_type": "stream",
     "text": [
      "Epoch 4/15 [Training]: 100%|██████████| 376/376 [03:40<00:00,  1.71it/s, loss=0.6758]\n",
      "Epoch 4/15 [Validation]: 100%|██████████| 1/1 [00:00<00:00,  1.07it/s, loss=0.7365]\n",
      "100%|██████████| 6/6 [03:31<00:00, 35.27s/it]\n"
     ]
    },
    {
     "name": "stdout",
     "output_type": "stream",
     "text": [
      "train-epoch-loss:0.6758 valid-beta4-score:0.5983\n"
     ]
    },
    {
     "name": "stderr",
     "output_type": "stream",
     "text": [
      "Epoch 5/15 [Training]: 100%|██████████| 376/376 [03:35<00:00,  1.75it/s, loss=0.6558]\n",
      "Epoch 5/15 [Validation]: 100%|██████████| 1/1 [00:00<00:00,  1.11it/s, loss=0.8580]\n",
      "100%|██████████| 6/6 [03:50<00:00, 38.49s/it]\n"
     ]
    },
    {
     "name": "stdout",
     "output_type": "stream",
     "text": [
      "train-epoch-loss:0.6558 valid-beta4-score:0.5263\n"
     ]
    },
    {
     "name": "stderr",
     "output_type": "stream",
     "text": [
      "Epoch 6/15 [Training]: 100%|██████████| 376/376 [03:35<00:00,  1.74it/s, loss=0.6071]\n",
      "Epoch 6/15 [Validation]: 100%|██████████| 1/1 [00:00<00:00,  1.10it/s, loss=0.7195]\n",
      "100%|██████████| 6/6 [03:35<00:00, 35.86s/it]\n"
     ]
    },
    {
     "name": "stdout",
     "output_type": "stream",
     "text": [
      "train-epoch-loss:0.6071 valid-beta4-score:0.7337\n"
     ]
    },
    {
     "name": "stderr",
     "output_type": "stream",
     "text": [
      "Epoch 7/15 [Training]: 100%|██████████| 376/376 [03:30<00:00,  1.78it/s, loss=0.5953]\n",
      "Epoch 7/15 [Validation]: 100%|██████████| 1/1 [00:00<00:00,  1.06it/s, loss=0.5108]\n",
      "100%|██████████| 6/6 [03:35<00:00, 35.84s/it]\n"
     ]
    },
    {
     "name": "stdout",
     "output_type": "stream",
     "text": [
      "train-epoch-loss:0.5953 valid-beta4-score:0.7785\n"
     ]
    },
    {
     "name": "stderr",
     "output_type": "stream",
     "text": [
      "Epoch 8/15 [Training]: 100%|██████████| 376/376 [03:34<00:00,  1.76it/s, loss=0.5893]\n",
      "Epoch 8/15 [Validation]: 100%|██████████| 1/1 [00:00<00:00,  1.10it/s, loss=0.5615]\n",
      "100%|██████████| 6/6 [03:35<00:00, 35.87s/it]\n"
     ]
    },
    {
     "name": "stdout",
     "output_type": "stream",
     "text": [
      "train-epoch-loss:0.5893 valid-beta4-score:0.7542\n"
     ]
    },
    {
     "name": "stderr",
     "output_type": "stream",
     "text": [
      "Epoch 9/15 [Training]: 100%|██████████| 376/376 [03:37<00:00,  1.73it/s, loss=0.5781]\n",
      "Epoch 9/15 [Validation]: 100%|██████████| 1/1 [00:00<00:00,  1.09it/s, loss=0.5117]\n",
      "100%|██████████| 6/6 [03:36<00:00, 36.08s/it]\n"
     ]
    },
    {
     "name": "stdout",
     "output_type": "stream",
     "text": [
      "train-epoch-loss:0.5781 valid-beta4-score:0.7539\n"
     ]
    },
    {
     "name": "stderr",
     "output_type": "stream",
     "text": [
      "Epoch 10/15 [Training]: 100%|██████████| 376/376 [03:28<00:00,  1.80it/s, loss=0.5754]\n",
      "Epoch 10/15 [Validation]: 100%|██████████| 1/1 [00:00<00:00,  1.11it/s, loss=0.8144]\n",
      "100%|██████████| 6/6 [03:34<00:00, 35.82s/it]\n"
     ]
    },
    {
     "name": "stdout",
     "output_type": "stream",
     "text": [
      "train-epoch-loss:0.5754 valid-beta4-score:0.7694\n"
     ]
    },
    {
     "name": "stderr",
     "output_type": "stream",
     "text": [
      "Epoch 11/15 [Training]: 100%|██████████| 376/376 [04:07<00:00,  1.52it/s, loss=0.5688]\n",
      "Epoch 11/15 [Validation]: 100%|██████████| 1/1 [00:00<00:00,  1.04it/s, loss=0.8580]\n",
      "100%|██████████| 6/6 [03:35<00:00, 35.91s/it]\n"
     ]
    },
    {
     "name": "stdout",
     "output_type": "stream",
     "text": [
      "train-epoch-loss:0.5688 valid-beta4-score:0.7567\n"
     ]
    },
    {
     "name": "stderr",
     "output_type": "stream",
     "text": [
      "Epoch 12/15 [Training]: 100%|██████████| 376/376 [03:36<00:00,  1.73it/s, loss=0.5598]\n",
      "Epoch 12/15 [Validation]: 100%|██████████| 1/1 [00:00<00:00,  1.08it/s, loss=0.5267]\n",
      "100%|██████████| 6/6 [03:35<00:00, 35.87s/it]\n"
     ]
    },
    {
     "name": "stdout",
     "output_type": "stream",
     "text": [
      "train-epoch-loss:0.5598 valid-beta4-score:0.7727\n"
     ]
    },
    {
     "name": "stderr",
     "output_type": "stream",
     "text": [
      "Epoch 13/15 [Training]: 100%|██████████| 376/376 [03:31<00:00,  1.77it/s, loss=0.5690]\n",
      "Epoch 13/15 [Validation]: 100%|██████████| 1/1 [00:00<00:00,  1.10it/s, loss=0.5226]\n",
      "100%|██████████| 6/6 [03:36<00:00, 36.14s/it]\n"
     ]
    },
    {
     "name": "stdout",
     "output_type": "stream",
     "text": [
      "train-epoch-loss:0.5690 valid-beta4-score:0.7773\n"
     ]
    },
    {
     "name": "stderr",
     "output_type": "stream",
     "text": [
      "Epoch 14/15 [Training]: 100%|██████████| 376/376 [03:30<00:00,  1.79it/s, loss=0.5609]\n",
      "Epoch 14/15 [Validation]: 100%|██████████| 1/1 [00:00<00:00,  1.08it/s, loss=0.5248]\n",
      "100%|██████████| 6/6 [03:47<00:00, 37.99s/it]\n"
     ]
    },
    {
     "name": "stdout",
     "output_type": "stream",
     "text": [
      "train-epoch-loss:0.5609 valid-beta4-score:0.7734\n"
     ]
    },
    {
     "name": "stderr",
     "output_type": "stream",
     "text": [
      "Epoch 15/15 [Training]: 100%|██████████| 376/376 [03:47<00:00,  1.65it/s, loss=0.5644]\n",
      "Epoch 15/15 [Validation]: 100%|██████████| 1/1 [00:00<00:00,  1.07it/s, loss=0.5429]\n",
      "100%|██████████| 6/6 [03:35<00:00, 35.94s/it]\n"
     ]
    },
    {
     "name": "stdout",
     "output_type": "stream",
     "text": [
      "train-epoch-loss:0.5644 valid-beta4-score:0.7602\n"
     ]
    },
    {
     "data": {
      "text/html": [
       "Finishing last run (ID:nsslemil) before initializing another..."
      ],
      "text/plain": [
       "<IPython.core.display.HTML object>"
      ]
     },
     "metadata": {},
     "output_type": "display_data"
    },
    {
     "name": "stderr",
     "output_type": "stream",
     "text": [
      "wandb: WARNING Source type is set to 'repo' but some required information is missing from the environment. A job will not be created from this run. See https://docs.wandb.ai/guides/launch/create-job\n"
     ]
    },
    {
     "data": {
      "application/vnd.jupyter.widget-view+json": {
       "model_id": "5ce6a6a4dc7046eeb1c29bca175e1558",
       "version_major": 2,
       "version_minor": 0
      },
      "text/plain": [
       "VBox(children=(Label(value='0.004 MB of 0.004 MB uploaded\\r'), FloatProgress(value=1.0, max=1.0)))"
      ]
     },
     "metadata": {},
     "output_type": "display_data"
    },
    {
     "data": {
      "text/html": [
       "<style>\n",
       "    table.wandb td:nth-child(1) { padding: 0 10px; text-align: left ; width: auto;} td:nth-child(2) {text-align: left ; width: 100%}\n",
       "    .wandb-row { display: flex; flex-direction: row; flex-wrap: wrap; justify-content: flex-start; width: 100% }\n",
       "    .wandb-col { display: flex; flex-direction: column; flex-basis: 100%; flex: 1; padding: 10px; }\n",
       "    </style>\n",
       "<div class=\"wandb-row\"><div class=\"wandb-col\"><h3>Run history:</h3><br/><table class=\"wandb\"><tr><td>01_epoch</td><td>▁▁▂▃▃▃▄▅▅▅▆▇▇▇█</td></tr><tr><td>02_train_loss</td><td>█▆▄▄▃▂▂▂▁▁▁▁▁▁▁</td></tr><tr><td>03_valid_loss</td><td>▇▆▅▆█▅▁▂▁▇█▁▁▁▂</td></tr><tr><td>04_valid_best_score</td><td>▁▄▅▆▅▇█████████</td></tr><tr><td>apo-ferritin</td><td>▁▂▇▅▅▅██▂▇█▇▃▅▅</td></tr><tr><td>apoo_ferritin_f4</td><td>▁▇▆█▇█████▇████</td></tr><tr><td>apoo_ferritin_p</td><td>▁▆▄▇▆▇▇█▇▇▇▇▇▇▇</td></tr><tr><td>apoo_ferritin_r</td><td>▁▇▆█▇█████▇▇█▇█</td></tr><tr><td>beta-amylase</td><td>▁▁▁▁▁▁▁▁▁▁▁▁▁▁▁</td></tr><tr><td>beta-galactosidase</td><td>▁▂▇▅▇▂▇██▂█▇▄██</td></tr><tr><td>beta_amylase_f4</td><td>▁▁▃▇▃▆▇▇▆▇▆▇▇█▇</td></tr><tr><td>beta_amylase_p</td><td>▁▁▁▃▁█▄▄▃▄▃▅▄▅▄</td></tr><tr><td>beta_amylase_r</td><td>▁▁▇██▅▇█▇▇▇▇▇██</td></tr><tr><td>beta_galactosidase_f4</td><td>▁▃▆▇▅▇██▇█▇██▇█</td></tr><tr><td>beta_galactosidase_p</td><td>▁▂▅▄▂▅▅▅▅▄▅█▄▅▆</td></tr><tr><td>beta_galactosidase_r</td><td>▁▄▅▇█▆▇▇▇█▇▇█▇▇</td></tr><tr><td>ribosome</td><td>▁▄█▆█▃▃██▇▇▁▅██</td></tr><tr><td>ribosome_f4</td><td>▃▇▆▄▁▇█▆▅▆▅▆▆▆▆</td></tr><tr><td>ribosome_p</td><td>▂▅▆▂▁▇█▇▅▅▃▇▆▇█</td></tr><tr><td>ribosome_r</td><td>▃█▆▅▁▆█▅▅▆▆▅▅▅▅</td></tr><tr><td>thyroglobulin</td><td>▁▅▅▅▄▇▅▇██▅▅▇▅▇</td></tr><tr><td>thyroglobulin_f4</td><td>▁▆▇▇▆▇▇▇▇▇▇▇██▇</td></tr><tr><td>thyroglobulin_p</td><td>▁█▃▆▃▇▅▄▆█▄▆▆▆▇</td></tr><tr><td>thyroglobulin_r</td><td>▁▃█▅█▅▆▆▅▅█▆▇▇▅</td></tr><tr><td>virus-like-particle</td><td>▁▁▁▁██▅▆█▇▇▅▅▅▇</td></tr><tr><td>virus_like_particle_f4</td><td>▃▁▁▁▂▇█████████</td></tr><tr><td>virus_like_particle_p</td><td>▁▁▁▁▁▃█▇▇▇▇████</td></tr><tr><td>virus_like_particle_r</td><td>▅▂▁▃▆██████████</td></tr></table><br/></div><div class=\"wandb-col\"><h3>Run summary:</h3><br/><table class=\"wandb\"><tr><td>01_epoch</td><td>14</td></tr><tr><td>02_train_loss</td><td>0.56443</td></tr><tr><td>03_valid_loss</td><td>0.54292</td></tr><tr><td>04_valid_best_score</td><td>0.76021</td></tr><tr><td>apo-ferritin</td><td>0.5</td></tr><tr><td>apoo_ferritin_f4</td><td>0.81291</td></tr><tr><td>apoo_ferritin_p</td><td>0.52288</td></tr><tr><td>apoo_ferritin_r</td><td>0.84211</td></tr><tr><td>beta-amylase</td><td>0.05</td></tr><tr><td>beta-galactosidase</td><td>0.75</td></tr><tr><td>beta_amylase_f4</td><td>0.54678</td></tr><tr><td>beta_amylase_p</td><td>0.07333</td></tr><tr><td>beta_amylase_r</td><td>0.91667</td></tr><tr><td>beta_galactosidase_f4</td><td>0.66786</td></tr><tr><td>beta_galactosidase_p</td><td>0.19643</td></tr><tr><td>beta_galactosidase_r</td><td>0.78571</td></tr><tr><td>ribosome</td><td>0.75</td></tr><tr><td>ribosome_f4</td><td>0.88499</td></tr><tr><td>ribosome_p</td><td>0.47778</td></tr><tr><td>ribosome_r</td><td>0.93478</td></tr><tr><td>thyroglobulin</td><td>0.65</td></tr><tr><td>thyroglobulin_f4</td><td>0.64791</td></tr><tr><td>thyroglobulin_p</td><td>0.20388</td></tr><tr><td>thyroglobulin_r</td><td>0.75</td></tr><tr><td>virus-like-particle</td><td>0.6</td></tr><tr><td>virus_like_particle_f4</td><td>0.99204</td></tr><tr><td>virus_like_particle_p</td><td>0.88</td></tr><tr><td>virus_like_particle_r</td><td>1.0</td></tr></table><br/></div></div>"
      ],
      "text/plain": [
       "<IPython.core.display.HTML object>"
      ]
     },
     "metadata": {},
     "output_type": "display_data"
    },
    {
     "data": {
      "text/html": [
       " View run <strong style=\"color:#cdcd00\">exp072-recreate-baseline-renet34d-dstride_TS_73_6</strong> at: <a href='https://wandb.ai/latent-walkers/czii2024/runs/nsslemil' target=\"_blank\">https://wandb.ai/latent-walkers/czii2024/runs/nsslemil</a><br/>Synced 5 W&B file(s), 0 media file(s), 0 artifact file(s) and 0 other file(s)"
      ],
      "text/plain": [
       "<IPython.core.display.HTML object>"
      ]
     },
     "metadata": {},
     "output_type": "display_data"
    },
    {
     "data": {
      "text/html": [
       "Find logs at: <code>./wandb/run-20250129_222150-nsslemil/logs</code>"
      ],
      "text/plain": [
       "<IPython.core.display.HTML object>"
      ]
     },
     "metadata": {},
     "output_type": "display_data"
    },
    {
     "data": {
      "text/html": [
       "Successfully finished last run (ID:nsslemil). Initializing new run:<br/>"
      ],
      "text/plain": [
       "<IPython.core.display.HTML object>"
      ]
     },
     "metadata": {},
     "output_type": "display_data"
    },
    {
     "data": {
      "application/vnd.jupyter.widget-view+json": {
       "model_id": "4397ce516124416c8fcd5ce3682bf398",
       "version_major": 2,
       "version_minor": 0
      },
      "text/plain": [
       "VBox(children=(Label(value='Waiting for wandb.init()...\\r'), FloatProgress(value=0.011113378644222394, max=1.0…"
      ]
     },
     "metadata": {},
     "output_type": "display_data"
    },
    {
     "data": {
      "text/html": [
       "wandb version 0.19.5 is available!  To upgrade, please run:\n",
       " $ pip install wandb --upgrade"
      ],
      "text/plain": [
       "<IPython.core.display.HTML object>"
      ]
     },
     "metadata": {},
     "output_type": "display_data"
    },
    {
     "data": {
      "text/html": [
       "Tracking run with wandb version 0.16.1"
      ],
      "text/plain": [
       "<IPython.core.display.HTML object>"
      ]
     },
     "metadata": {},
     "output_type": "display_data"
    },
    {
     "data": {
      "text/html": [
       "Run data is saved locally in <code>/home/tatsuya/code/projects/kaggle/CryoET/experiments/exp072-recreate-baseline-renet34d-dstride/wandb/run-20250130_001755-j7l0tqdd</code>"
      ],
      "text/plain": [
       "<IPython.core.display.HTML object>"
      ]
     },
     "metadata": {},
     "output_type": "display_data"
    },
    {
     "data": {
      "text/html": [
       "Syncing run <strong><a href='https://wandb.ai/latent-walkers/czii2024/runs/j7l0tqdd' target=\"_blank\">exp072-recreate-baseline-renet34d-dstride_TS_99_9</a></strong> to <a href='https://wandb.ai/latent-walkers/czii2024' target=\"_blank\">Weights & Biases</a> (<a href='https://wandb.me/run' target=\"_blank\">docs</a>)<br/>"
      ],
      "text/plain": [
       "<IPython.core.display.HTML object>"
      ]
     },
     "metadata": {},
     "output_type": "display_data"
    },
    {
     "data": {
      "text/html": [
       " View project at <a href='https://wandb.ai/latent-walkers/czii2024' target=\"_blank\">https://wandb.ai/latent-walkers/czii2024</a>"
      ],
      "text/plain": [
       "<IPython.core.display.HTML object>"
      ]
     },
     "metadata": {},
     "output_type": "display_data"
    },
    {
     "data": {
      "text/html": [
       " View run at <a href='https://wandb.ai/latent-walkers/czii2024/runs/j7l0tqdd' target=\"_blank\">https://wandb.ai/latent-walkers/czii2024/runs/j7l0tqdd</a>"
      ],
      "text/plain": [
       "<IPython.core.display.HTML object>"
      ]
     },
     "metadata": {},
     "output_type": "display_data"
    },
    {
     "name": "stderr",
     "output_type": "stream",
     "text": [
      "100%|██████████| 752/752 [01:55<00:00,  6.54it/s]\n",
      "100%|██████████| 1/1 [00:05<00:00,  5.22s/it]\n",
      "Epoch 1/15 [Training]: 100%|██████████| 376/376 [04:08<00:00,  1.51it/s, loss=0.8744]\n",
      "Epoch 1/15 [Validation]: 100%|██████████| 1/1 [00:00<00:00,  1.05it/s, loss=0.7640]\n",
      "100%|██████████| 6/6 [03:20<00:00, 33.46s/it]\n"
     ]
    },
    {
     "name": "stdout",
     "output_type": "stream",
     "text": [
      "train-epoch-loss:0.8744 valid-beta4-score:0.1789\n"
     ]
    },
    {
     "name": "stderr",
     "output_type": "stream",
     "text": [
      "Epoch 2/15 [Training]: 100%|██████████| 376/376 [03:36<00:00,  1.74it/s, loss=0.7508]\n",
      "Epoch 2/15 [Validation]: 100%|██████████| 1/1 [00:00<00:00,  1.07it/s, loss=0.7417]\n",
      "100%|██████████| 6/6 [03:28<00:00, 34.80s/it]\n"
     ]
    },
    {
     "name": "stdout",
     "output_type": "stream",
     "text": [
      "train-epoch-loss:0.7508 valid-beta4-score:0.5913\n"
     ]
    },
    {
     "name": "stderr",
     "output_type": "stream",
     "text": [
      "Epoch 3/15 [Training]: 100%|██████████| 376/376 [03:38<00:00,  1.72it/s, loss=0.6956]\n",
      "Epoch 3/15 [Validation]: 100%|██████████| 1/1 [00:00<00:00,  1.10it/s, loss=0.7166]\n",
      "100%|██████████| 6/6 [03:30<00:00, 35.01s/it]\n"
     ]
    },
    {
     "name": "stdout",
     "output_type": "stream",
     "text": [
      "train-epoch-loss:0.6956 valid-beta4-score:0.5668\n"
     ]
    },
    {
     "name": "stderr",
     "output_type": "stream",
     "text": [
      "Epoch 4/15 [Training]: 100%|██████████| 376/376 [03:34<00:00,  1.75it/s, loss=0.6704]\n",
      "Epoch 4/15 [Validation]: 100%|██████████| 1/1 [00:01<00:00,  1.00s/it, loss=0.8370]\n",
      "100%|██████████| 6/6 [03:40<00:00, 36.81s/it]\n"
     ]
    },
    {
     "name": "stdout",
     "output_type": "stream",
     "text": [
      "train-epoch-loss:0.6704 valid-beta4-score:0.6359\n"
     ]
    },
    {
     "name": "stderr",
     "output_type": "stream",
     "text": [
      "Epoch 5/15 [Training]: 100%|██████████| 376/376 [03:51<00:00,  1.62it/s, loss=0.6520]\n",
      "Epoch 5/15 [Validation]: 100%|██████████| 1/1 [00:01<00:00,  1.04s/it, loss=0.8396]\n",
      "100%|██████████| 6/6 [03:36<00:00, 36.04s/it]\n"
     ]
    },
    {
     "name": "stdout",
     "output_type": "stream",
     "text": [
      "train-epoch-loss:0.6520 valid-beta4-score:0.5368\n"
     ]
    },
    {
     "name": "stderr",
     "output_type": "stream",
     "text": [
      "Epoch 6/15 [Training]: 100%|██████████| 376/376 [03:35<00:00,  1.74it/s, loss=0.6485]\n",
      "Epoch 6/15 [Validation]: 100%|██████████| 1/1 [00:00<00:00,  1.03it/s, loss=0.6719]\n",
      "100%|██████████| 6/6 [03:30<00:00, 35.01s/it]\n"
     ]
    },
    {
     "name": "stdout",
     "output_type": "stream",
     "text": [
      "train-epoch-loss:0.6485 valid-beta4-score:0.6533\n"
     ]
    },
    {
     "name": "stderr",
     "output_type": "stream",
     "text": [
      "Epoch 7/15 [Training]: 100%|██████████| 376/376 [03:54<00:00,  1.60it/s, loss=0.6327]\n",
      "Epoch 7/15 [Validation]: 100%|██████████| 1/1 [00:01<00:00,  1.01s/it, loss=0.6180]\n",
      "100%|██████████| 6/6 [03:29<00:00, 34.94s/it]\n"
     ]
    },
    {
     "name": "stdout",
     "output_type": "stream",
     "text": [
      "train-epoch-loss:0.6327 valid-beta4-score:0.6551\n"
     ]
    },
    {
     "name": "stderr",
     "output_type": "stream",
     "text": [
      "Epoch 8/15 [Training]: 100%|██████████| 376/376 [03:45<00:00,  1.66it/s, loss=0.6300]\n",
      "Epoch 8/15 [Validation]: 100%|██████████| 1/1 [00:00<00:00,  1.01it/s, loss=0.8172]\n",
      "100%|██████████| 6/6 [03:29<00:00, 34.99s/it]\n"
     ]
    },
    {
     "name": "stdout",
     "output_type": "stream",
     "text": [
      "train-epoch-loss:0.6300 valid-beta4-score:0.6399\n"
     ]
    },
    {
     "name": "stderr",
     "output_type": "stream",
     "text": [
      "Epoch 9/15 [Training]: 100%|██████████| 376/376 [03:28<00:00,  1.80it/s, loss=0.6281]\n",
      "Epoch 9/15 [Validation]: 100%|██████████| 1/1 [00:00<00:00,  1.10it/s, loss=0.5644]\n",
      "100%|██████████| 6/6 [03:29<00:00, 34.88s/it]\n"
     ]
    },
    {
     "name": "stdout",
     "output_type": "stream",
     "text": [
      "train-epoch-loss:0.6281 valid-beta4-score:0.6178\n"
     ]
    },
    {
     "name": "stderr",
     "output_type": "stream",
     "text": [
      "Epoch 10/15 [Training]: 100%|██████████| 376/376 [03:29<00:00,  1.79it/s, loss=0.6243]\n",
      "Epoch 10/15 [Validation]: 100%|██████████| 1/1 [00:01<00:00,  1.30s/it, loss=0.5150]\n",
      "100%|██████████| 6/6 [03:29<00:00, 34.95s/it]\n"
     ]
    },
    {
     "name": "stdout",
     "output_type": "stream",
     "text": [
      "train-epoch-loss:0.6243 valid-beta4-score:0.6349\n"
     ]
    },
    {
     "name": "stderr",
     "output_type": "stream",
     "text": [
      "Epoch 11/15 [Training]: 100%|██████████| 376/376 [03:37<00:00,  1.73it/s, loss=0.6172]\n",
      "Epoch 11/15 [Validation]: 100%|██████████| 1/1 [00:00<00:00,  1.02it/s, loss=0.7389]\n",
      "100%|██████████| 6/6 [03:30<00:00, 35.08s/it]\n"
     ]
    },
    {
     "name": "stdout",
     "output_type": "stream",
     "text": [
      "train-epoch-loss:0.6172 valid-beta4-score:0.6702\n"
     ]
    },
    {
     "name": "stderr",
     "output_type": "stream",
     "text": [
      "Epoch 12/15 [Training]: 100%|██████████| 376/376 [03:36<00:00,  1.74it/s, loss=0.6090]\n",
      "Epoch 12/15 [Validation]: 100%|██████████| 1/1 [00:00<00:00,  1.06it/s, loss=0.5886]\n",
      "100%|██████████| 6/6 [03:30<00:00, 35.16s/it]\n"
     ]
    },
    {
     "name": "stdout",
     "output_type": "stream",
     "text": [
      "train-epoch-loss:0.6090 valid-beta4-score:0.6561\n"
     ]
    },
    {
     "name": "stderr",
     "output_type": "stream",
     "text": [
      "Epoch 13/15 [Training]: 100%|██████████| 376/376 [04:06<00:00,  1.52it/s, loss=0.6058]\n",
      "Epoch 13/15 [Validation]: 100%|██████████| 1/1 [00:00<00:00,  1.03it/s, loss=0.8563]\n",
      "100%|██████████| 6/6 [03:29<00:00, 34.92s/it]\n"
     ]
    },
    {
     "name": "stdout",
     "output_type": "stream",
     "text": [
      "train-epoch-loss:0.6058 valid-beta4-score:0.6102\n"
     ]
    },
    {
     "name": "stderr",
     "output_type": "stream",
     "text": [
      "Epoch 14/15 [Training]: 100%|██████████| 376/376 [03:58<00:00,  1.58it/s, loss=0.6063]\n",
      "Epoch 14/15 [Validation]: 100%|██████████| 1/1 [00:00<00:00,  1.01it/s, loss=0.8577]\n",
      "100%|██████████| 6/6 [03:29<00:00, 34.98s/it]\n"
     ]
    },
    {
     "name": "stdout",
     "output_type": "stream",
     "text": [
      "train-epoch-loss:0.6063 valid-beta4-score:0.6394\n"
     ]
    },
    {
     "name": "stderr",
     "output_type": "stream",
     "text": [
      "Epoch 15/15 [Training]: 100%|██████████| 376/376 [03:35<00:00,  1.74it/s, loss=0.6015]\n",
      "Epoch 15/15 [Validation]: 100%|██████████| 1/1 [00:00<00:00,  1.04it/s, loss=0.4921]\n",
      "100%|██████████| 6/6 [03:30<00:00, 35.09s/it]\n"
     ]
    },
    {
     "name": "stdout",
     "output_type": "stream",
     "text": [
      "train-epoch-loss:0.6015 valid-beta4-score:0.6249\n"
     ]
    },
    {
     "data": {
      "text/html": [
       "Finishing last run (ID:j7l0tqdd) before initializing another..."
      ],
      "text/plain": [
       "<IPython.core.display.HTML object>"
      ]
     },
     "metadata": {},
     "output_type": "display_data"
    },
    {
     "name": "stderr",
     "output_type": "stream",
     "text": [
      "wandb: WARNING Source type is set to 'repo' but some required information is missing from the environment. A job will not be created from this run. See https://docs.wandb.ai/guides/launch/create-job\n"
     ]
    },
    {
     "data": {
      "application/vnd.jupyter.widget-view+json": {
       "model_id": "4c75fee81920483cb96d860ca4486cfe",
       "version_major": 2,
       "version_minor": 0
      },
      "text/plain": [
       "VBox(children=(Label(value='0.004 MB of 0.004 MB uploaded\\r'), FloatProgress(value=1.0, max=1.0)))"
      ]
     },
     "metadata": {},
     "output_type": "display_data"
    },
    {
     "data": {
      "text/html": [
       "<style>\n",
       "    table.wandb td:nth-child(1) { padding: 0 10px; text-align: left ; width: auto;} td:nth-child(2) {text-align: left ; width: 100%}\n",
       "    .wandb-row { display: flex; flex-direction: row; flex-wrap: wrap; justify-content: flex-start; width: 100% }\n",
       "    .wandb-col { display: flex; flex-direction: column; flex-basis: 100%; flex: 1; padding: 10px; }\n",
       "    </style>\n",
       "<div class=\"wandb-row\"><div class=\"wandb-col\"><h3>Run history:</h3><br/><table class=\"wandb\"><tr><td>01_epoch</td><td>▁▁▂▃▃▃▄▅▅▅▆▇▇▇█</td></tr><tr><td>02_train_loss</td><td>█▅▃▃▂▂▂▂▂▂▁▁▁▁▁</td></tr><tr><td>03_valid_loss</td><td>▆▆▅██▄▃▇▂▁▆▃██▁</td></tr><tr><td>04_valid_best_score</td><td>▁▇▇█▆███▇▇██▇█▇</td></tr><tr><td>apo-ferritin</td><td>▁▇▇▇██▅▇▆█▅▅▆▇▆</td></tr><tr><td>apoo_ferritin_f4</td><td>▁▇█▇▄███▅▅▆▆▆▆▅</td></tr><tr><td>apoo_ferritin_p</td><td>▄▂▇█▁▅▇▇▆▆▅▆▆▆▅</td></tr><tr><td>apoo_ferritin_r</td><td>▁██▇▅███▅▅▆▆▆▆▅</td></tr><tr><td>beta-amylase</td><td>▁▁▁▁▁▁▁▁▁▁▁▁▁▁▁</td></tr><tr><td>beta-galactosidase</td><td>▁▂▅▇█▆▄█▅▅█▅▇▅▅</td></tr><tr><td>beta_amylase_f4</td><td>▁▂▃▄▃▆█▆▇▇▆▇▆▇▇</td></tr><tr><td>beta_amylase_p</td><td>▁▂▂▂▂▄█▄▆▆▅█▄▅▅</td></tr><tr><td>beta_amylase_r</td><td>▁▄▇██▇███▇▇▇█▇█</td></tr><tr><td>beta_galactosidase_f4</td><td>▁▅▅▆▅▇▇▆▆▇█▇▆▇▆</td></tr><tr><td>beta_galactosidase_p</td><td>▁▃▃▅▃▅▆▅▆▆█▇▅▅▅</td></tr><tr><td>beta_galactosidase_r</td><td>▁▇▆▇▇▇▇▇▆▇█▇▆▇▇</td></tr><tr><td>ribosome</td><td>▁█▆▄▆▅▅▇█▆█▇█▇▇</td></tr><tr><td>ribosome_f4</td><td>▁█▆▆▃▅▆▅▇▆▆▇▆▇▇</td></tr><tr><td>ribosome_p</td><td>▇█▄▂▁▁▃▂█▄▃▅▂▅▅</td></tr><tr><td>ribosome_r</td><td>▁█▇█▄▇▇▆▇▇▇▇▇▇▇</td></tr><tr><td>thyroglobulin</td><td>▁▇▂▆▇▇▇█▆▇▃▇███</td></tr><tr><td>thyroglobulin_f4</td><td>▁▇▇█▇██████████</td></tr><tr><td>thyroglobulin_p</td><td>▁▆▆▆▅█▇▇▇▇▆█▇▇▇</td></tr><tr><td>thyroglobulin_r</td><td>▁█▇████████████</td></tr><tr><td>virus-like-particle</td><td>▁▁▁▁▁▁▁▁▁▁▁▁▁▁▁</td></tr><tr><td>virus_like_particle_f4</td><td>▁▁▁▁▁▁▁▁▁▁▁▁▁▁▁</td></tr><tr><td>virus_like_particle_p</td><td>▁▁▁▁▁▁▁▁▁▁▁▁▁▁▁</td></tr><tr><td>virus_like_particle_r</td><td>▁▁▁▁▁▁▁▁▁▁▁▁▁▁▁</td></tr></table><br/></div><div class=\"wandb-col\"><h3>Run summary:</h3><br/><table class=\"wandb\"><tr><td>01_epoch</td><td>14</td></tr><tr><td>02_train_loss</td><td>0.60147</td></tr><tr><td>03_valid_loss</td><td>0.49213</td></tr><tr><td>04_valid_best_score</td><td>0.6249</td></tr><tr><td>apo-ferritin</td><td>0.55</td></tr><tr><td>apoo_ferritin_f4</td><td>0.8147</td></tr><tr><td>apoo_ferritin_p</td><td>0.6</td></tr><tr><td>apoo_ferritin_r</td><td>0.83333</td></tr><tr><td>beta-amylase</td><td>0.05</td></tr><tr><td>beta-galactosidase</td><td>0.45</td></tr><tr><td>beta_amylase_f4</td><td>0.48804</td></tr><tr><td>beta_amylase_p</td><td>0.06186</td></tr><tr><td>beta_amylase_r</td><td>0.85714</td></tr><tr><td>beta_galactosidase_f4</td><td>0.55882</td></tr><tr><td>beta_galactosidase_p</td><td>0.09794</td></tr><tr><td>beta_galactosidase_r</td><td>0.79167</td></tr><tr><td>ribosome</td><td>0.6</td></tr><tr><td>ribosome_f4</td><td>0.84713</td></tr><tr><td>ribosome_p</td><td>0.40972</td></tr><tr><td>ribosome_r</td><td>0.90769</td></tr><tr><td>thyroglobulin</td><td>0.75</td></tr><tr><td>thyroglobulin_f4</td><td>0.79741</td></tr><tr><td>thyroglobulin_p</td><td>0.2156</td></tr><tr><td>thyroglobulin_r</td><td>0.95918</td></tr><tr><td>virus-like-particle</td><td>0.05</td></tr><tr><td>virus_like_particle_f4</td><td>0.0</td></tr><tr><td>virus_like_particle_p</td><td>0.0</td></tr><tr><td>virus_like_particle_r</td><td>0.0</td></tr></table><br/></div></div>"
      ],
      "text/plain": [
       "<IPython.core.display.HTML object>"
      ]
     },
     "metadata": {},
     "output_type": "display_data"
    },
    {
     "data": {
      "text/html": [
       " View run <strong style=\"color:#cdcd00\">exp072-recreate-baseline-renet34d-dstride_TS_99_9</strong> at: <a href='https://wandb.ai/latent-walkers/czii2024/runs/j7l0tqdd' target=\"_blank\">https://wandb.ai/latent-walkers/czii2024/runs/j7l0tqdd</a><br/>Synced 5 W&B file(s), 0 media file(s), 0 artifact file(s) and 0 other file(s)"
      ],
      "text/plain": [
       "<IPython.core.display.HTML object>"
      ]
     },
     "metadata": {},
     "output_type": "display_data"
    },
    {
     "data": {
      "text/html": [
       "Find logs at: <code>./wandb/run-20250130_001755-j7l0tqdd/logs</code>"
      ],
      "text/plain": [
       "<IPython.core.display.HTML object>"
      ]
     },
     "metadata": {},
     "output_type": "display_data"
    },
    {
     "data": {
      "text/html": [
       "Successfully finished last run (ID:j7l0tqdd). Initializing new run:<br/>"
      ],
      "text/plain": [
       "<IPython.core.display.HTML object>"
      ]
     },
     "metadata": {},
     "output_type": "display_data"
    },
    {
     "data": {
      "application/vnd.jupyter.widget-view+json": {
       "model_id": "4dbe5023d23748b5bcb5b335a40ac050",
       "version_major": 2,
       "version_minor": 0
      },
      "text/plain": [
       "VBox(children=(Label(value='Waiting for wandb.init()...\\r'), FloatProgress(value=0.011113357877669235, max=1.0…"
      ]
     },
     "metadata": {},
     "output_type": "display_data"
    },
    {
     "data": {
      "text/html": [
       "wandb version 0.19.5 is available!  To upgrade, please run:\n",
       " $ pip install wandb --upgrade"
      ],
      "text/plain": [
       "<IPython.core.display.HTML object>"
      ]
     },
     "metadata": {},
     "output_type": "display_data"
    },
    {
     "data": {
      "text/html": [
       "Tracking run with wandb version 0.16.1"
      ],
      "text/plain": [
       "<IPython.core.display.HTML object>"
      ]
     },
     "metadata": {},
     "output_type": "display_data"
    },
    {
     "data": {
      "text/html": [
       "Run data is saved locally in <code>/home/tatsuya/code/projects/kaggle/CryoET/experiments/exp072-recreate-baseline-renet34d-dstride/wandb/run-20250130_021426-rrwon5cd</code>"
      ],
      "text/plain": [
       "<IPython.core.display.HTML object>"
      ]
     },
     "metadata": {},
     "output_type": "display_data"
    },
    {
     "data": {
      "text/html": [
       "Syncing run <strong><a href='https://wandb.ai/latent-walkers/czii2024/runs/rrwon5cd' target=\"_blank\">exp072-recreate-baseline-renet34d-dstride_TS_6_4</a></strong> to <a href='https://wandb.ai/latent-walkers/czii2024' target=\"_blank\">Weights & Biases</a> (<a href='https://wandb.me/run' target=\"_blank\">docs</a>)<br/>"
      ],
      "text/plain": [
       "<IPython.core.display.HTML object>"
      ]
     },
     "metadata": {},
     "output_type": "display_data"
    },
    {
     "data": {
      "text/html": [
       " View project at <a href='https://wandb.ai/latent-walkers/czii2024' target=\"_blank\">https://wandb.ai/latent-walkers/czii2024</a>"
      ],
      "text/plain": [
       "<IPython.core.display.HTML object>"
      ]
     },
     "metadata": {},
     "output_type": "display_data"
    },
    {
     "data": {
      "text/html": [
       " View run at <a href='https://wandb.ai/latent-walkers/czii2024/runs/rrwon5cd' target=\"_blank\">https://wandb.ai/latent-walkers/czii2024/runs/rrwon5cd</a>"
      ],
      "text/plain": [
       "<IPython.core.display.HTML object>"
      ]
     },
     "metadata": {},
     "output_type": "display_data"
    },
    {
     "name": "stderr",
     "output_type": "stream",
     "text": [
      "100%|██████████| 752/752 [01:53<00:00,  6.62it/s] \n",
      "100%|██████████| 1/1 [00:03<00:00,  3.29s/it]\n",
      "Epoch 1/15 [Training]: 100%|██████████| 376/376 [03:30<00:00,  1.79it/s, loss=0.8592]\n",
      "Epoch 1/15 [Validation]: 100%|██████████| 1/1 [00:00<00:00,  1.04it/s, loss=0.7833]\n",
      "100%|██████████| 6/6 [03:25<00:00, 34.26s/it]\n"
     ]
    },
    {
     "name": "stdout",
     "output_type": "stream",
     "text": [
      "train-epoch-loss:0.8592 valid-beta4-score:0.3435\n"
     ]
    },
    {
     "name": "stderr",
     "output_type": "stream",
     "text": [
      "Epoch 2/15 [Training]: 100%|██████████| 376/376 [03:20<00:00,  1.88it/s, loss=0.7528]\n",
      "Epoch 2/15 [Validation]: 100%|██████████| 1/1 [00:01<00:00,  1.01s/it, loss=0.7602]\n",
      "100%|██████████| 6/6 [03:26<00:00, 34.33s/it]\n"
     ]
    },
    {
     "name": "stdout",
     "output_type": "stream",
     "text": [
      "train-epoch-loss:0.7528 valid-beta4-score:0.5054\n"
     ]
    },
    {
     "name": "stderr",
     "output_type": "stream",
     "text": [
      "Epoch 3/15 [Training]: 100%|██████████| 376/376 [03:38<00:00,  1.72it/s, loss=0.6905]\n",
      "Epoch 3/15 [Validation]: 100%|██████████| 1/1 [00:01<00:00,  1.01s/it, loss=0.8583]\n",
      "100%|██████████| 6/6 [03:28<00:00, 34.68s/it]\n"
     ]
    },
    {
     "name": "stdout",
     "output_type": "stream",
     "text": [
      "train-epoch-loss:0.6905 valid-beta4-score:0.5443\n"
     ]
    },
    {
     "name": "stderr",
     "output_type": "stream",
     "text": [
      "Epoch 4/15 [Training]: 100%|██████████| 376/376 [03:35<00:00,  1.74it/s, loss=0.6344]\n",
      "Epoch 4/15 [Validation]: 100%|██████████| 1/1 [00:00<00:00,  1.01it/s, loss=0.8519]\n",
      "100%|██████████| 6/6 [03:33<00:00, 35.66s/it]\n"
     ]
    },
    {
     "name": "stdout",
     "output_type": "stream",
     "text": [
      "train-epoch-loss:0.6344 valid-beta4-score:0.6579\n"
     ]
    },
    {
     "name": "stderr",
     "output_type": "stream",
     "text": [
      "Epoch 5/15 [Training]: 100%|██████████| 376/376 [03:16<00:00,  1.91it/s, loss=0.6207]\n",
      "Epoch 5/15 [Validation]: 100%|██████████| 1/1 [00:01<00:00,  1.00s/it, loss=0.5099]\n",
      "100%|██████████| 6/6 [03:36<00:00, 36.05s/it]\n"
     ]
    },
    {
     "name": "stdout",
     "output_type": "stream",
     "text": [
      "train-epoch-loss:0.6207 valid-beta4-score:0.6444\n"
     ]
    },
    {
     "name": "stderr",
     "output_type": "stream",
     "text": [
      "Epoch 6/15 [Training]: 100%|██████████| 376/376 [03:24<00:00,  1.84it/s, loss=0.6019]\n",
      "Epoch 6/15 [Validation]: 100%|██████████| 1/1 [00:00<00:00,  1.01it/s, loss=0.4754]\n",
      "100%|██████████| 6/6 [03:35<00:00, 35.89s/it]\n"
     ]
    },
    {
     "name": "stdout",
     "output_type": "stream",
     "text": [
      "train-epoch-loss:0.6019 valid-beta4-score:0.6441\n"
     ]
    },
    {
     "name": "stderr",
     "output_type": "stream",
     "text": [
      "Epoch 7/15 [Training]: 100%|██████████| 376/376 [03:37<00:00,  1.73it/s, loss=0.5821]\n",
      "Epoch 7/15 [Validation]: 100%|██████████| 1/1 [00:01<00:00,  1.02s/it, loss=0.7300]\n",
      "100%|██████████| 6/6 [03:33<00:00, 35.60s/it]\n"
     ]
    },
    {
     "name": "stdout",
     "output_type": "stream",
     "text": [
      "train-epoch-loss:0.5821 valid-beta4-score:0.6915\n"
     ]
    },
    {
     "name": "stderr",
     "output_type": "stream",
     "text": [
      "Epoch 8/15 [Training]: 100%|██████████| 376/376 [03:32<00:00,  1.77it/s, loss=0.5859]\n",
      "Epoch 8/15 [Validation]: 100%|██████████| 1/1 [00:00<00:00,  1.02it/s, loss=0.7555]\n",
      "100%|██████████| 6/6 [03:33<00:00, 35.51s/it]\n"
     ]
    },
    {
     "name": "stdout",
     "output_type": "stream",
     "text": [
      "train-epoch-loss:0.5859 valid-beta4-score:0.6998\n"
     ]
    },
    {
     "name": "stderr",
     "output_type": "stream",
     "text": [
      "Epoch 9/15 [Training]: 100%|██████████| 376/376 [03:35<00:00,  1.74it/s, loss=0.5798]\n",
      "Epoch 9/15 [Validation]: 100%|██████████| 1/1 [00:01<00:00,  1.02s/it, loss=0.5270]\n",
      "100%|██████████| 6/6 [03:33<00:00, 35.53s/it]\n"
     ]
    },
    {
     "name": "stdout",
     "output_type": "stream",
     "text": [
      "train-epoch-loss:0.5798 valid-beta4-score:0.6257\n"
     ]
    },
    {
     "name": "stderr",
     "output_type": "stream",
     "text": [
      "Epoch 10/15 [Training]: 100%|██████████| 376/376 [03:44<00:00,  1.67it/s, loss=0.5695]\n",
      "Epoch 10/15 [Validation]: 100%|██████████| 1/1 [00:00<00:00,  1.04it/s, loss=0.7165]\n",
      "100%|██████████| 6/6 [03:32<00:00, 35.49s/it]\n"
     ]
    },
    {
     "name": "stdout",
     "output_type": "stream",
     "text": [
      "train-epoch-loss:0.5695 valid-beta4-score:0.6987\n"
     ]
    },
    {
     "name": "stderr",
     "output_type": "stream",
     "text": [
      "Epoch 11/15 [Training]: 100%|██████████| 376/376 [03:41<00:00,  1.70it/s, loss=0.5686]\n",
      "Epoch 11/15 [Validation]: 100%|██████████| 1/1 [00:00<00:00,  1.00it/s, loss=0.5392]\n",
      "100%|██████████| 6/6 [03:33<00:00, 35.61s/it]\n"
     ]
    },
    {
     "name": "stdout",
     "output_type": "stream",
     "text": [
      "train-epoch-loss:0.5686 valid-beta4-score:0.7328\n"
     ]
    },
    {
     "name": "stderr",
     "output_type": "stream",
     "text": [
      "Epoch 12/15 [Training]: 100%|██████████| 376/376 [04:17<00:00,  1.46it/s, loss=0.5556]\n",
      "Epoch 12/15 [Validation]: 100%|██████████| 1/1 [00:01<00:00,  1.00s/it, loss=0.4894]\n",
      "100%|██████████| 6/6 [03:38<00:00, 36.43s/it]\n"
     ]
    },
    {
     "name": "stdout",
     "output_type": "stream",
     "text": [
      "train-epoch-loss:0.5556 valid-beta4-score:0.7344\n"
     ]
    },
    {
     "name": "stderr",
     "output_type": "stream",
     "text": [
      "Epoch 13/15 [Training]: 100%|██████████| 376/376 [03:47<00:00,  1.65it/s, loss=0.5543]\n",
      "Epoch 13/15 [Validation]: 100%|██████████| 1/1 [00:01<00:00,  1.02s/it, loss=0.8352]\n",
      "100%|██████████| 6/6 [03:33<00:00, 35.56s/it]\n"
     ]
    },
    {
     "name": "stdout",
     "output_type": "stream",
     "text": [
      "train-epoch-loss:0.5543 valid-beta4-score:0.7486\n"
     ]
    },
    {
     "name": "stderr",
     "output_type": "stream",
     "text": [
      "Epoch 14/15 [Training]: 100%|██████████| 376/376 [03:36<00:00,  1.74it/s, loss=0.5504]\n",
      "Epoch 14/15 [Validation]: 100%|██████████| 1/1 [00:00<00:00,  1.02it/s, loss=0.4801]\n",
      "100%|██████████| 6/6 [03:33<00:00, 35.59s/it]\n"
     ]
    },
    {
     "name": "stdout",
     "output_type": "stream",
     "text": [
      "train-epoch-loss:0.5504 valid-beta4-score:0.7351\n"
     ]
    },
    {
     "name": "stderr",
     "output_type": "stream",
     "text": [
      "Epoch 15/15 [Training]: 100%|██████████| 376/376 [03:31<00:00,  1.77it/s, loss=0.5597]\n",
      "Epoch 15/15 [Validation]: 100%|██████████| 1/1 [00:00<00:00,  1.03it/s, loss=0.4922]\n",
      "100%|██████████| 6/6 [03:33<00:00, 35.51s/it]\n"
     ]
    },
    {
     "name": "stdout",
     "output_type": "stream",
     "text": [
      "train-epoch-loss:0.5597 valid-beta4-score:0.7618\n"
     ]
    },
    {
     "data": {
      "text/html": [
       "Finishing last run (ID:rrwon5cd) before initializing another..."
      ],
      "text/plain": [
       "<IPython.core.display.HTML object>"
      ]
     },
     "metadata": {},
     "output_type": "display_data"
    },
    {
     "name": "stderr",
     "output_type": "stream",
     "text": [
      "wandb: WARNING Source type is set to 'repo' but some required information is missing from the environment. A job will not be created from this run. See https://docs.wandb.ai/guides/launch/create-job\n"
     ]
    },
    {
     "data": {
      "application/vnd.jupyter.widget-view+json": {
       "model_id": "ed6cd71146364ad782cfc31269bc35bf",
       "version_major": 2,
       "version_minor": 0
      },
      "text/plain": [
       "VBox(children=(Label(value='0.004 MB of 0.004 MB uploaded\\r'), FloatProgress(value=1.0, max=1.0)))"
      ]
     },
     "metadata": {},
     "output_type": "display_data"
    },
    {
     "data": {
      "text/html": [
       "<style>\n",
       "    table.wandb td:nth-child(1) { padding: 0 10px; text-align: left ; width: auto;} td:nth-child(2) {text-align: left ; width: 100%}\n",
       "    .wandb-row { display: flex; flex-direction: row; flex-wrap: wrap; justify-content: flex-start; width: 100% }\n",
       "    .wandb-col { display: flex; flex-direction: column; flex-basis: 100%; flex: 1; padding: 10px; }\n",
       "    </style>\n",
       "<div class=\"wandb-row\"><div class=\"wandb-col\"><h3>Run history:</h3><br/><table class=\"wandb\"><tr><td>01_epoch</td><td>▁▁▂▃▃▃▄▅▅▅▆▇▇▇█</td></tr><tr><td>02_train_loss</td><td>█▆▄▃▃▂▂▂▂▁▁▁▁▁▁</td></tr><tr><td>03_valid_loss</td><td>▇▆██▂▁▆▆▂▅▂▁█▁▁</td></tr><tr><td>04_valid_best_score</td><td>▁▄▄▆▆▆▇▇▆▇█████</td></tr><tr><td>apo-ferritin</td><td>▃▁▆▂▇▇▆█▇██▇█▅▇</td></tr><tr><td>apoo_ferritin_f4</td><td>▁▇█▇▅█▇▇█▇▇▆▇▆▇</td></tr><tr><td>apoo_ferritin_p</td><td>▁▆█▇▅██▇▆█▆▆▇▇▇</td></tr><tr><td>apoo_ferritin_r</td><td>▁▆▇▆▄▇▆▆█▆▆▅▆▅▆</td></tr><tr><td>beta-amylase</td><td>▁▁▁▁▁▁▁▁▁▁▁▁▁▁▁</td></tr><tr><td>beta-galactosidase</td><td>▁▂▁▁▇█▆█▁▄▇▆▆▅▅</td></tr><tr><td>beta_amylase_f4</td><td>▁▂▇█▅▅▅▅▅▆▇▆▇▇▇</td></tr><tr><td>beta_amylase_p</td><td>▁▂██▄▃▄▄▄▄▅▅▆▆▇</td></tr><tr><td>beta_amylase_r</td><td>▁▃▇██▇▇████████</td></tr><tr><td>beta_galactosidase_f4</td><td>▁▄▅▆▆▅▇▇▄▆▇████</td></tr><tr><td>beta_galactosidase_p</td><td>▁▂▃▃▅▃▄▅▂▅▆▇█▇▇</td></tr><tr><td>beta_galactosidase_r</td><td>▁▆▇█▆██▇▆▆▇▇▇▇▇</td></tr><tr><td>ribosome</td><td>▁▇▄▄▄▇█▇▇▄▇▆▅▇▇</td></tr><tr><td>ribosome_f4</td><td>█▃▃▁▃▄▆▆▆▅▃▄▃▃▄</td></tr><tr><td>ribosome_p</td><td>█▂▃▁▃▅▇▇▇▆▆▆▆▆▇</td></tr><tr><td>ribosome_r</td><td>█▅▅▅▅▄▅▅▅▄▁▂▁▁▂</td></tr><tr><td>thyroglobulin</td><td>▁▇█▇▆▇▄▇▄██▆▆██</td></tr><tr><td>thyroglobulin_f4</td><td>▁▅▅▅▆▅▆▇▅▇▇▇▇▇█</td></tr><tr><td>thyroglobulin_p</td><td>▁▃▃▄▄▂▄▅▄█▇▆▅▇▇</td></tr><tr><td>thyroglobulin_r</td><td>▁▅▆▅▅█▆▆▅▅▆▇▇▆▇</td></tr><tr><td>virus-like-particle</td><td>▁▁▁▅█▄█▅▆▇▇████</td></tr><tr><td>virus_like_particle_f4</td><td>▂▁▂▇▆▇▇▇█▇█▇███</td></tr><tr><td>virus_like_particle_p</td><td>▁▁▁▄▂█▇▇▆█▆▃▆▄█</td></tr><tr><td>virus_like_particle_r</td><td>▃▁▅██▇▇▇█▇█████</td></tr></table><br/></div><div class=\"wandb-col\"><h3>Run summary:</h3><br/><table class=\"wandb\"><tr><td>01_epoch</td><td>14</td></tr><tr><td>02_train_loss</td><td>0.55975</td></tr><tr><td>03_valid_loss</td><td>0.49225</td></tr><tr><td>04_valid_best_score</td><td>0.76184</td></tr><tr><td>apo-ferritin</td><td>0.65</td></tr><tr><td>apoo_ferritin_f4</td><td>0.83635</td></tr><tr><td>apoo_ferritin_p</td><td>0.72059</td></tr><tr><td>apoo_ferritin_r</td><td>0.84483</td></tr><tr><td>beta-amylase</td><td>0.05</td></tr><tr><td>beta-galactosidase</td><td>0.5</td></tr><tr><td>beta_amylase_f4</td><td>0.56667</td></tr><tr><td>beta_amylase_p</td><td>0.07143</td></tr><tr><td>beta_amylase_r</td><td>1.0</td></tr><tr><td>beta_galactosidase_f4</td><td>0.68</td></tr><tr><td>beta_galactosidase_p</td><td>0.17241</td></tr><tr><td>beta_galactosidase_r</td><td>0.83333</td></tr><tr><td>ribosome</td><td>0.7</td></tr><tr><td>ribosome_f4</td><td>0.82069</td></tr><tr><td>ribosome_p</td><td>0.52066</td></tr><tr><td>ribosome_r</td><td>0.85135</td></tr><tr><td>thyroglobulin</td><td>0.75</td></tr><tr><td>thyroglobulin_f4</td><td>0.75556</td></tr><tr><td>thyroglobulin_p</td><td>0.24762</td></tr><tr><td>thyroglobulin_r</td><td>0.86667</td></tr><tr><td>virus-like-particle</td><td>0.75</td></tr><tr><td>virus_like_particle_f4</td><td>0.80473</td></tr><tr><td>virus_like_particle_p</td><td>0.88889</td></tr><tr><td>virus_like_particle_r</td><td>0.8</td></tr></table><br/></div></div>"
      ],
      "text/plain": [
       "<IPython.core.display.HTML object>"
      ]
     },
     "metadata": {},
     "output_type": "display_data"
    },
    {
     "data": {
      "text/html": [
       " View run <strong style=\"color:#cdcd00\">exp072-recreate-baseline-renet34d-dstride_TS_6_4</strong> at: <a href='https://wandb.ai/latent-walkers/czii2024/runs/rrwon5cd' target=\"_blank\">https://wandb.ai/latent-walkers/czii2024/runs/rrwon5cd</a><br/>Synced 5 W&B file(s), 0 media file(s), 0 artifact file(s) and 0 other file(s)"
      ],
      "text/plain": [
       "<IPython.core.display.HTML object>"
      ]
     },
     "metadata": {},
     "output_type": "display_data"
    },
    {
     "data": {
      "text/html": [
       "Find logs at: <code>./wandb/run-20250130_021426-rrwon5cd/logs</code>"
      ],
      "text/plain": [
       "<IPython.core.display.HTML object>"
      ]
     },
     "metadata": {},
     "output_type": "display_data"
    },
    {
     "data": {
      "text/html": [
       "Successfully finished last run (ID:rrwon5cd). Initializing new run:<br/>"
      ],
      "text/plain": [
       "<IPython.core.display.HTML object>"
      ]
     },
     "metadata": {},
     "output_type": "display_data"
    },
    {
     "data": {
      "application/vnd.jupyter.widget-view+json": {
       "model_id": "07901377924f41469830657ab13090e0",
       "version_major": 2,
       "version_minor": 0
      },
      "text/plain": [
       "VBox(children=(Label(value='Waiting for wandb.init()...\\r'), FloatProgress(value=0.011113415922348697, max=1.0…"
      ]
     },
     "metadata": {},
     "output_type": "display_data"
    },
    {
     "data": {
      "text/html": [
       "wandb version 0.19.5 is available!  To upgrade, please run:\n",
       " $ pip install wandb --upgrade"
      ],
      "text/plain": [
       "<IPython.core.display.HTML object>"
      ]
     },
     "metadata": {},
     "output_type": "display_data"
    },
    {
     "data": {
      "text/html": [
       "Tracking run with wandb version 0.16.1"
      ],
      "text/plain": [
       "<IPython.core.display.HTML object>"
      ]
     },
     "metadata": {},
     "output_type": "display_data"
    },
    {
     "data": {
      "text/html": [
       "Run data is saved locally in <code>/home/tatsuya/code/projects/kaggle/CryoET/experiments/exp072-recreate-baseline-renet34d-dstride/wandb/run-20250130_040943-21q5zix5</code>"
      ],
      "text/plain": [
       "<IPython.core.display.HTML object>"
      ]
     },
     "metadata": {},
     "output_type": "display_data"
    },
    {
     "data": {
      "text/html": [
       "Syncing run <strong><a href='https://wandb.ai/latent-walkers/czii2024/runs/21q5zix5' target=\"_blank\">exp072-recreate-baseline-renet34d-dstride_TS_69_2</a></strong> to <a href='https://wandb.ai/latent-walkers/czii2024' target=\"_blank\">Weights & Biases</a> (<a href='https://wandb.me/run' target=\"_blank\">docs</a>)<br/>"
      ],
      "text/plain": [
       "<IPython.core.display.HTML object>"
      ]
     },
     "metadata": {},
     "output_type": "display_data"
    },
    {
     "data": {
      "text/html": [
       " View project at <a href='https://wandb.ai/latent-walkers/czii2024' target=\"_blank\">https://wandb.ai/latent-walkers/czii2024</a>"
      ],
      "text/plain": [
       "<IPython.core.display.HTML object>"
      ]
     },
     "metadata": {},
     "output_type": "display_data"
    },
    {
     "data": {
      "text/html": [
       " View run at <a href='https://wandb.ai/latent-walkers/czii2024/runs/21q5zix5' target=\"_blank\">https://wandb.ai/latent-walkers/czii2024/runs/21q5zix5</a>"
      ],
      "text/plain": [
       "<IPython.core.display.HTML object>"
      ]
     },
     "metadata": {},
     "output_type": "display_data"
    },
    {
     "name": "stderr",
     "output_type": "stream",
     "text": [
      "100%|██████████| 752/752 [02:03<00:00,  6.07it/s] \n",
      "100%|██████████| 1/1 [00:05<00:00,  5.58s/it]\n",
      "Epoch 1/15 [Training]: 100%|██████████| 376/376 [03:50<00:00,  1.63it/s, loss=0.8422]\n",
      "Epoch 1/15 [Validation]: 100%|██████████| 1/1 [00:01<00:00,  1.32s/it, loss=0.8446]\n",
      "100%|██████████| 6/6 [03:15<00:00, 32.51s/it]\n"
     ]
    },
    {
     "name": "stdout",
     "output_type": "stream",
     "text": [
      "train-epoch-loss:0.8422 valid-beta4-score:0.2728\n"
     ]
    },
    {
     "name": "stderr",
     "output_type": "stream",
     "text": [
      "Epoch 2/15 [Training]: 100%|██████████| 376/376 [03:38<00:00,  1.72it/s, loss=0.7402]\n",
      "Epoch 2/15 [Validation]: 100%|██████████| 1/1 [00:01<00:00,  1.00s/it, loss=0.8587]\n",
      "100%|██████████| 6/6 [03:24<00:00, 34.08s/it]\n"
     ]
    },
    {
     "name": "stdout",
     "output_type": "stream",
     "text": [
      "train-epoch-loss:0.7402 valid-beta4-score:0.6338\n"
     ]
    },
    {
     "name": "stderr",
     "output_type": "stream",
     "text": [
      "Epoch 3/15 [Training]: 100%|██████████| 376/376 [03:37<00:00,  1.73it/s, loss=0.6670]\n",
      "Epoch 3/15 [Validation]: 100%|██████████| 1/1 [00:01<00:00,  1.01s/it, loss=0.6181]\n",
      "100%|██████████| 6/6 [03:43<00:00, 37.20s/it]\n"
     ]
    },
    {
     "name": "stdout",
     "output_type": "stream",
     "text": [
      "train-epoch-loss:0.6670 valid-beta4-score:0.5177\n"
     ]
    },
    {
     "name": "stderr",
     "output_type": "stream",
     "text": [
      "Epoch 4/15 [Training]: 100%|██████████| 376/376 [03:43<00:00,  1.68it/s, loss=0.6245]\n",
      "Epoch 4/15 [Validation]: 100%|██████████| 1/1 [00:00<00:00,  1.05it/s, loss=0.8581]\n",
      "100%|██████████| 6/6 [03:31<00:00, 35.22s/it]\n"
     ]
    },
    {
     "name": "stdout",
     "output_type": "stream",
     "text": [
      "train-epoch-loss:0.6245 valid-beta4-score:0.7578\n"
     ]
    },
    {
     "name": "stderr",
     "output_type": "stream",
     "text": [
      "Epoch 5/15 [Training]: 100%|██████████| 376/376 [03:38<00:00,  1.72it/s, loss=0.6080]\n",
      "Epoch 5/15 [Validation]: 100%|██████████| 1/1 [00:01<00:00,  1.06s/it, loss=0.8205]\n",
      "100%|██████████| 6/6 [03:29<00:00, 34.92s/it]\n"
     ]
    },
    {
     "name": "stdout",
     "output_type": "stream",
     "text": [
      "train-epoch-loss:0.6080 valid-beta4-score:0.7366\n"
     ]
    },
    {
     "name": "stderr",
     "output_type": "stream",
     "text": [
      "Epoch 6/15 [Training]: 100%|██████████| 376/376 [03:30<00:00,  1.79it/s, loss=0.5987]\n",
      "Epoch 6/15 [Validation]: 100%|██████████| 1/1 [00:01<00:00,  1.02s/it, loss=0.7842]\n",
      "100%|██████████| 6/6 [03:29<00:00, 34.99s/it]\n"
     ]
    },
    {
     "name": "stdout",
     "output_type": "stream",
     "text": [
      "train-epoch-loss:0.5987 valid-beta4-score:0.7278\n"
     ]
    },
    {
     "name": "stderr",
     "output_type": "stream",
     "text": [
      "Epoch 7/15 [Training]: 100%|██████████| 376/376 [03:37<00:00,  1.73it/s, loss=0.5868]\n",
      "Epoch 7/15 [Validation]: 100%|██████████| 1/1 [00:00<00:00,  1.02it/s, loss=0.5942]\n",
      "100%|██████████| 6/6 [03:29<00:00, 34.88s/it]\n"
     ]
    },
    {
     "name": "stdout",
     "output_type": "stream",
     "text": [
      "train-epoch-loss:0.5868 valid-beta4-score:0.7991\n"
     ]
    },
    {
     "name": "stderr",
     "output_type": "stream",
     "text": [
      "Epoch 8/15 [Training]: 100%|██████████| 376/376 [03:37<00:00,  1.73it/s, loss=0.5669]\n",
      "Epoch 8/15 [Validation]: 100%|██████████| 1/1 [00:01<00:00,  1.03s/it, loss=0.4461]\n",
      "100%|██████████| 6/6 [03:30<00:00, 35.01s/it]\n"
     ]
    },
    {
     "name": "stdout",
     "output_type": "stream",
     "text": [
      "train-epoch-loss:0.5669 valid-beta4-score:0.7993\n"
     ]
    },
    {
     "name": "stderr",
     "output_type": "stream",
     "text": [
      "Epoch 9/15 [Training]: 100%|██████████| 376/376 [03:33<00:00,  1.76it/s, loss=0.5540]\n",
      "Epoch 9/15 [Validation]: 100%|██████████| 1/1 [00:00<00:00,  1.02it/s, loss=0.8577]\n",
      "100%|██████████| 6/6 [03:30<00:00, 35.08s/it]\n"
     ]
    },
    {
     "name": "stdout",
     "output_type": "stream",
     "text": [
      "train-epoch-loss:0.5540 valid-beta4-score:0.7840\n"
     ]
    },
    {
     "name": "stderr",
     "output_type": "stream",
     "text": [
      "Epoch 10/15 [Training]: 100%|██████████| 376/376 [03:37<00:00,  1.73it/s, loss=0.5648]\n",
      "Epoch 10/15 [Validation]: 100%|██████████| 1/1 [00:00<00:00,  1.03it/s, loss=0.3791]\n",
      "100%|██████████| 6/6 [03:30<00:00, 35.03s/it]\n"
     ]
    },
    {
     "name": "stdout",
     "output_type": "stream",
     "text": [
      "train-epoch-loss:0.5648 valid-beta4-score:0.8196\n"
     ]
    },
    {
     "name": "stderr",
     "output_type": "stream",
     "text": [
      "Epoch 11/15 [Training]: 100%|██████████| 376/376 [03:39<00:00,  1.71it/s, loss=0.5468]\n",
      "Epoch 11/15 [Validation]: 100%|██████████| 1/1 [00:00<00:00,  1.00it/s, loss=0.4254]\n",
      "100%|██████████| 6/6 [03:29<00:00, 34.95s/it]\n"
     ]
    },
    {
     "name": "stdout",
     "output_type": "stream",
     "text": [
      "train-epoch-loss:0.5468 valid-beta4-score:0.8148\n"
     ]
    },
    {
     "name": "stderr",
     "output_type": "stream",
     "text": [
      "Epoch 12/15 [Training]: 100%|██████████| 376/376 [03:23<00:00,  1.85it/s, loss=0.5575]\n",
      "Epoch 12/15 [Validation]: 100%|██████████| 1/1 [00:00<00:00,  1.05it/s, loss=0.6379]\n",
      "100%|██████████| 6/6 [03:30<00:00, 35.14s/it]\n"
     ]
    },
    {
     "name": "stdout",
     "output_type": "stream",
     "text": [
      "train-epoch-loss:0.5575 valid-beta4-score:0.7783\n"
     ]
    },
    {
     "name": "stderr",
     "output_type": "stream",
     "text": [
      "Epoch 13/15 [Training]: 100%|██████████| 376/376 [03:56<00:00,  1.59it/s, loss=0.5447]\n",
      "Epoch 13/15 [Validation]: 100%|██████████| 1/1 [00:00<00:00,  1.04it/s, loss=0.3865]\n",
      "100%|██████████| 6/6 [03:31<00:00, 35.28s/it]\n"
     ]
    },
    {
     "name": "stdout",
     "output_type": "stream",
     "text": [
      "train-epoch-loss:0.5447 valid-beta4-score:0.7912\n"
     ]
    },
    {
     "name": "stderr",
     "output_type": "stream",
     "text": [
      "Epoch 14/15 [Training]: 100%|██████████| 376/376 [03:42<00:00,  1.69it/s, loss=0.5404]\n",
      "Epoch 14/15 [Validation]: 100%|██████████| 1/1 [00:01<00:00,  1.05s/it, loss=0.8574]\n",
      "100%|██████████| 6/6 [03:29<00:00, 35.00s/it]\n"
     ]
    },
    {
     "name": "stdout",
     "output_type": "stream",
     "text": [
      "train-epoch-loss:0.5404 valid-beta4-score:0.7720\n"
     ]
    },
    {
     "name": "stderr",
     "output_type": "stream",
     "text": [
      "Epoch 15/15 [Training]: 100%|██████████| 376/376 [03:34<00:00,  1.75it/s, loss=0.5413]\n",
      "Epoch 15/15 [Validation]: 100%|██████████| 1/1 [00:00<00:00,  1.02it/s, loss=0.5541]\n",
      "100%|██████████| 6/6 [03:30<00:00, 35.04s/it]\n"
     ]
    },
    {
     "name": "stdout",
     "output_type": "stream",
     "text": [
      "train-epoch-loss:0.5413 valid-beta4-score:0.7995\n"
     ]
    },
    {
     "data": {
      "text/html": [
       "Finishing last run (ID:21q5zix5) before initializing another..."
      ],
      "text/plain": [
       "<IPython.core.display.HTML object>"
      ]
     },
     "metadata": {},
     "output_type": "display_data"
    },
    {
     "name": "stderr",
     "output_type": "stream",
     "text": [
      "wandb: WARNING Source type is set to 'repo' but some required information is missing from the environment. A job will not be created from this run. See https://docs.wandb.ai/guides/launch/create-job\n"
     ]
    },
    {
     "data": {
      "application/vnd.jupyter.widget-view+json": {
       "model_id": "bbd29b9958af4b358f1a51cf1c504cd7",
       "version_major": 2,
       "version_minor": 0
      },
      "text/plain": [
       "VBox(children=(Label(value='0.004 MB of 0.004 MB uploaded\\r'), FloatProgress(value=1.0, max=1.0)))"
      ]
     },
     "metadata": {},
     "output_type": "display_data"
    },
    {
     "data": {
      "text/html": [
       "<style>\n",
       "    table.wandb td:nth-child(1) { padding: 0 10px; text-align: left ; width: auto;} td:nth-child(2) {text-align: left ; width: 100%}\n",
       "    .wandb-row { display: flex; flex-direction: row; flex-wrap: wrap; justify-content: flex-start; width: 100% }\n",
       "    .wandb-col { display: flex; flex-direction: column; flex-basis: 100%; flex: 1; padding: 10px; }\n",
       "    </style>\n",
       "<div class=\"wandb-row\"><div class=\"wandb-col\"><h3>Run history:</h3><br/><table class=\"wandb\"><tr><td>01_epoch</td><td>▁▁▂▃▃▃▄▅▅▅▆▇▇▇█</td></tr><tr><td>02_train_loss</td><td>█▆▄▃▃▂▂▂▁▂▁▁▁▁▁</td></tr><tr><td>03_valid_loss</td><td>██▄█▇▇▄▂█▁▂▅▁█▄</td></tr><tr><td>04_valid_best_score</td><td>▁▆▄▇▇▇█████▇█▇█</td></tr><tr><td>apo-ferritin</td><td>▁▇█▇▅▆▃▅█▄▅▆▅▆▅</td></tr><tr><td>apoo_ferritin_f4</td><td>▁▅▁████████████</td></tr><tr><td>apoo_ferritin_p</td><td>▁▃▁▇▇▇▇█▇███▇▇▇</td></tr><tr><td>apoo_ferritin_r</td><td>▁▆▇████████████</td></tr><tr><td>beta-amylase</td><td>▁▁▁▁▁▁▁▁▁▁▁▁▁▁▁</td></tr><tr><td>beta-galactosidase</td><td>▁▁▁▇▄▃█▅█▄█▅▅▅▅</td></tr><tr><td>beta_amylase_f4</td><td>▁▂▃▃▆▆▅▅▃█▄▆▆▆▅</td></tr><tr><td>beta_amylase_p</td><td>▁▂▂▂▆▄▄▄▂█▂▄▅▄▄</td></tr><tr><td>beta_amylase_r</td><td>▁▄██▆▇███████▇▇</td></tr><tr><td>beta_galactosidase_f4</td><td>▁▅▃▆▅▅▇▇▇██▇▇▇▇</td></tr><tr><td>beta_galactosidase_p</td><td>▁▂▂█▅▃▇▄▅▆▆▇▆▆▆</td></tr><tr><td>beta_galactosidase_r</td><td>▁██▅▅▅▇██▇█▆▆▆▇</td></tr><tr><td>ribosome</td><td>▁██▁▄████▇██▅█▆</td></tr><tr><td>ribosome_f4</td><td>▅█▅▁█▁▅▅▂▂▆▃▅▄▄</td></tr><tr><td>ribosome_p</td><td>▂▁▁▁▅▁▆▇▂▂█▃▁▅▄</td></tr><tr><td>ribosome_r</td><td>▅█▅▁▅▁▁▁▁▁▁▁▅▁▁</td></tr><tr><td>thyroglobulin</td><td>▁▃██▅▅▁▇▃▅▅█▇▅▅</td></tr><tr><td>thyroglobulin_f4</td><td>▁▆▇███▇█▇█▇▇█▇█</td></tr><tr><td>thyroglobulin_p</td><td>▁▃▄▆█▆▆▆▅▇▆▅▆▅▆</td></tr><tr><td>thyroglobulin_r</td><td>▁███▇█▇█▇█▇▇███</td></tr><tr><td>virus-like-particle</td><td>▅▅▁▇▁▇▅▇▇█▇▇▇█▆</td></tr><tr><td>virus_like_particle_f4</td><td>▇▇█▁█▁██▇▅▇▅▇█▇</td></tr><tr><td>virus_like_particle_p</td><td>▇▇█▁█▁██▆▃▆▄▇█▆</td></tr><tr><td>virus_like_particle_r</td><td>▁▁▁▁▁▁▁▁▁▁▁▁▁▁▁</td></tr></table><br/></div><div class=\"wandb-col\"><h3>Run summary:</h3><br/><table class=\"wandb\"><tr><td>01_epoch</td><td>14</td></tr><tr><td>02_train_loss</td><td>0.54133</td></tr><tr><td>03_valid_loss</td><td>0.55414</td></tr><tr><td>04_valid_best_score</td><td>0.7995</td></tr><tr><td>apo-ferritin</td><td>0.45</td></tr><tr><td>apoo_ferritin_f4</td><td>0.94745</td></tr><tr><td>apoo_ferritin_p</td><td>0.51471</td></tr><tr><td>apoo_ferritin_r</td><td>1.0</td></tr><tr><td>beta-amylase</td><td>0.05</td></tr><tr><td>beta-galactosidase</td><td>0.5</td></tr><tr><td>beta_amylase_f4</td><td>0.32567</td></tr><tr><td>beta_amylase_p</td><td>0.0303</td></tr><tr><td>beta_amylase_r</td><td>0.83333</td></tr><tr><td>beta_galactosidase_f4</td><td>0.6156</td></tr><tr><td>beta_galactosidase_p</td><td>0.12621</td></tr><tr><td>beta_galactosidase_r</td><td>0.8125</td></tr><tr><td>ribosome</td><td>0.6</td></tr><tr><td>ribosome_f4</td><td>0.9084</td></tr><tr><td>ribosome_p</td><td>0.55556</td></tr><tr><td>ribosome_r</td><td>0.94595</td></tr><tr><td>thyroglobulin</td><td>0.5</td></tr><tr><td>thyroglobulin_f4</td><td>0.76119</td></tr><tr><td>thyroglobulin_p</td><td>0.17098</td></tr><tr><td>thyroglobulin_r</td><td>0.97059</td></tr><tr><td>virus-like-particle</td><td>0.55</td></tr><tr><td>virus_like_particle_f4</td><td>0.9871</td></tr><tr><td>virus_like_particle_p</td><td>0.81818</td></tr><tr><td>virus_like_particle_r</td><td>1.0</td></tr></table><br/></div></div>"
      ],
      "text/plain": [
       "<IPython.core.display.HTML object>"
      ]
     },
     "metadata": {},
     "output_type": "display_data"
    },
    {
     "data": {
      "text/html": [
       " View run <strong style=\"color:#cdcd00\">exp072-recreate-baseline-renet34d-dstride_TS_69_2</strong> at: <a href='https://wandb.ai/latent-walkers/czii2024/runs/21q5zix5' target=\"_blank\">https://wandb.ai/latent-walkers/czii2024/runs/21q5zix5</a><br/>Synced 5 W&B file(s), 0 media file(s), 0 artifact file(s) and 0 other file(s)"
      ],
      "text/plain": [
       "<IPython.core.display.HTML object>"
      ]
     },
     "metadata": {},
     "output_type": "display_data"
    },
    {
     "data": {
      "text/html": [
       "Find logs at: <code>./wandb/run-20250130_040943-21q5zix5/logs</code>"
      ],
      "text/plain": [
       "<IPython.core.display.HTML object>"
      ]
     },
     "metadata": {},
     "output_type": "display_data"
    },
    {
     "data": {
      "text/html": [
       "Successfully finished last run (ID:21q5zix5). Initializing new run:<br/>"
      ],
      "text/plain": [
       "<IPython.core.display.HTML object>"
      ]
     },
     "metadata": {},
     "output_type": "display_data"
    },
    {
     "data": {
      "application/vnd.jupyter.widget-view+json": {
       "model_id": "aa2fbb6d038e40feb5cc48ac0ea1ea8a",
       "version_major": 2,
       "version_minor": 0
      },
      "text/plain": [
       "VBox(children=(Label(value='Waiting for wandb.init()...\\r'), FloatProgress(value=0.011113195166560924, max=1.0…"
      ]
     },
     "metadata": {},
     "output_type": "display_data"
    },
    {
     "data": {
      "text/html": [
       "wandb version 0.19.5 is available!  To upgrade, please run:\n",
       " $ pip install wandb --upgrade"
      ],
      "text/plain": [
       "<IPython.core.display.HTML object>"
      ]
     },
     "metadata": {},
     "output_type": "display_data"
    },
    {
     "data": {
      "text/html": [
       "Tracking run with wandb version 0.16.1"
      ],
      "text/plain": [
       "<IPython.core.display.HTML object>"
      ]
     },
     "metadata": {},
     "output_type": "display_data"
    },
    {
     "data": {
      "text/html": [
       "Run data is saved locally in <code>/home/tatsuya/code/projects/kaggle/CryoET/experiments/exp072-recreate-baseline-renet34d-dstride/wandb/run-20250130_060454-ifoilyrs</code>"
      ],
      "text/plain": [
       "<IPython.core.display.HTML object>"
      ]
     },
     "metadata": {},
     "output_type": "display_data"
    },
    {
     "data": {
      "text/html": [
       "Syncing run <strong><a href='https://wandb.ai/latent-walkers/czii2024/runs/ifoilyrs' target=\"_blank\">exp072-recreate-baseline-renet34d-dstride_TS_86_3</a></strong> to <a href='https://wandb.ai/latent-walkers/czii2024' target=\"_blank\">Weights & Biases</a> (<a href='https://wandb.me/run' target=\"_blank\">docs</a>)<br/>"
      ],
      "text/plain": [
       "<IPython.core.display.HTML object>"
      ]
     },
     "metadata": {},
     "output_type": "display_data"
    },
    {
     "data": {
      "text/html": [
       " View project at <a href='https://wandb.ai/latent-walkers/czii2024' target=\"_blank\">https://wandb.ai/latent-walkers/czii2024</a>"
      ],
      "text/plain": [
       "<IPython.core.display.HTML object>"
      ]
     },
     "metadata": {},
     "output_type": "display_data"
    },
    {
     "data": {
      "text/html": [
       " View run at <a href='https://wandb.ai/latent-walkers/czii2024/runs/ifoilyrs' target=\"_blank\">https://wandb.ai/latent-walkers/czii2024/runs/ifoilyrs</a>"
      ],
      "text/plain": [
       "<IPython.core.display.HTML object>"
      ]
     },
     "metadata": {},
     "output_type": "display_data"
    },
    {
     "name": "stderr",
     "output_type": "stream",
     "text": [
      "100%|██████████| 752/752 [02:01<00:00,  6.16it/s] \n",
      "100%|██████████| 1/1 [00:04<00:00,  4.37s/it]\n",
      "Epoch 1/15 [Training]: 100%|██████████| 376/376 [03:38<00:00,  1.72it/s, loss=0.8640]\n",
      "Epoch 1/15 [Validation]: 100%|██████████| 1/1 [00:01<00:00,  1.01s/it, loss=0.7838]\n",
      "100%|██████████| 6/6 [03:20<00:00, 33.45s/it]\n"
     ]
    },
    {
     "name": "stdout",
     "output_type": "stream",
     "text": [
      "train-epoch-loss:0.8640 valid-beta4-score:0.2361\n"
     ]
    },
    {
     "name": "stderr",
     "output_type": "stream",
     "text": [
      "Epoch 2/15 [Training]: 100%|██████████| 376/376 [03:32<00:00,  1.77it/s, loss=0.7475]\n",
      "Epoch 2/15 [Validation]: 100%|██████████| 1/1 [00:00<00:00,  1.01it/s, loss=0.6605]\n",
      "100%|██████████| 6/6 [03:24<00:00, 34.08s/it]\n"
     ]
    },
    {
     "name": "stdout",
     "output_type": "stream",
     "text": [
      "train-epoch-loss:0.7475 valid-beta4-score:0.5152\n"
     ]
    },
    {
     "name": "stderr",
     "output_type": "stream",
     "text": [
      "Epoch 3/15 [Training]: 100%|██████████| 376/376 [03:29<00:00,  1.79it/s, loss=0.6979]\n",
      "Epoch 3/15 [Validation]: 100%|██████████| 1/1 [00:00<00:00,  1.00it/s, loss=0.6653]\n",
      "100%|██████████| 6/6 [03:30<00:00, 35.04s/it]\n"
     ]
    },
    {
     "name": "stdout",
     "output_type": "stream",
     "text": [
      "train-epoch-loss:0.6979 valid-beta4-score:0.5450\n"
     ]
    },
    {
     "name": "stderr",
     "output_type": "stream",
     "text": [
      "Epoch 4/15 [Training]: 100%|██████████| 376/376 [03:28<00:00,  1.80it/s, loss=0.6752]\n",
      "Epoch 4/15 [Validation]: 100%|██████████| 1/1 [00:01<00:00,  1.02s/it, loss=0.8588]\n",
      "100%|██████████| 6/6 [03:30<00:00, 35.12s/it]\n"
     ]
    },
    {
     "name": "stdout",
     "output_type": "stream",
     "text": [
      "train-epoch-loss:0.6752 valid-beta4-score:0.5139\n"
     ]
    },
    {
     "name": "stderr",
     "output_type": "stream",
     "text": [
      "Epoch 5/15 [Training]: 100%|██████████| 376/376 [03:23<00:00,  1.85it/s, loss=0.6588]\n",
      "Epoch 5/15 [Validation]: 100%|██████████| 1/1 [00:00<00:00,  1.01it/s, loss=0.6083]\n",
      "100%|██████████| 6/6 [03:29<00:00, 34.85s/it]\n"
     ]
    },
    {
     "name": "stdout",
     "output_type": "stream",
     "text": [
      "train-epoch-loss:0.6588 valid-beta4-score:0.5905\n"
     ]
    },
    {
     "name": "stderr",
     "output_type": "stream",
     "text": [
      "Epoch 6/15 [Training]: 100%|██████████| 376/376 [03:33<00:00,  1.76it/s, loss=0.6370]\n",
      "Epoch 6/15 [Validation]: 100%|██████████| 1/1 [00:01<00:00,  1.04s/it, loss=0.8308]\n",
      "100%|██████████| 6/6 [03:29<00:00, 34.87s/it]\n"
     ]
    },
    {
     "name": "stdout",
     "output_type": "stream",
     "text": [
      "train-epoch-loss:0.6370 valid-beta4-score:0.5950\n"
     ]
    },
    {
     "name": "stderr",
     "output_type": "stream",
     "text": [
      "Epoch 7/15 [Training]: 100%|██████████| 376/376 [03:36<00:00,  1.73it/s, loss=0.6323]\n",
      "Epoch 7/15 [Validation]: 100%|██████████| 1/1 [00:00<00:00,  1.07it/s, loss=0.5875]\n",
      "100%|██████████| 6/6 [03:28<00:00, 34.69s/it]\n"
     ]
    },
    {
     "name": "stdout",
     "output_type": "stream",
     "text": [
      "train-epoch-loss:0.6323 valid-beta4-score:0.6130\n"
     ]
    },
    {
     "name": "stderr",
     "output_type": "stream",
     "text": [
      "Epoch 8/15 [Training]: 100%|██████████| 376/376 [03:31<00:00,  1.78it/s, loss=0.6248]\n",
      "Epoch 8/15 [Validation]: 100%|██████████| 1/1 [00:00<00:00,  1.05it/s, loss=0.5724]\n",
      "100%|██████████| 6/6 [03:30<00:00, 35.03s/it]\n"
     ]
    },
    {
     "name": "stdout",
     "output_type": "stream",
     "text": [
      "train-epoch-loss:0.6248 valid-beta4-score:0.6209\n"
     ]
    },
    {
     "name": "stderr",
     "output_type": "stream",
     "text": [
      "Epoch 9/15 [Training]: 100%|██████████| 376/376 [03:40<00:00,  1.70it/s, loss=0.6146]\n",
      "Epoch 9/15 [Validation]: 100%|██████████| 1/1 [00:01<00:00,  1.01s/it, loss=0.8576]\n",
      "100%|██████████| 6/6 [03:28<00:00, 34.71s/it]\n"
     ]
    },
    {
     "name": "stdout",
     "output_type": "stream",
     "text": [
      "train-epoch-loss:0.6146 valid-beta4-score:0.6107\n"
     ]
    },
    {
     "name": "stderr",
     "output_type": "stream",
     "text": [
      "Epoch 10/15 [Training]: 100%|██████████| 376/376 [03:34<00:00,  1.76it/s, loss=0.6166]\n",
      "Epoch 10/15 [Validation]: 100%|██████████| 1/1 [00:00<00:00,  1.04it/s, loss=0.8380]\n",
      "100%|██████████| 6/6 [03:29<00:00, 34.91s/it]\n"
     ]
    },
    {
     "name": "stdout",
     "output_type": "stream",
     "text": [
      "train-epoch-loss:0.6166 valid-beta4-score:0.6190\n"
     ]
    },
    {
     "name": "stderr",
     "output_type": "stream",
     "text": [
      "Epoch 11/15 [Training]: 100%|██████████| 376/376 [03:21<00:00,  1.87it/s, loss=0.6150]\n",
      "Epoch 11/15 [Validation]: 100%|██████████| 1/1 [00:00<00:00,  1.03it/s, loss=0.8268]\n",
      "100%|██████████| 6/6 [03:28<00:00, 34.67s/it]\n"
     ]
    },
    {
     "name": "stdout",
     "output_type": "stream",
     "text": [
      "train-epoch-loss:0.6150 valid-beta4-score:0.6231\n"
     ]
    },
    {
     "name": "stderr",
     "output_type": "stream",
     "text": [
      "Epoch 12/15 [Training]: 100%|██████████| 376/376 [03:39<00:00,  1.71it/s, loss=0.6035]\n",
      "Epoch 12/15 [Validation]: 100%|██████████| 1/1 [00:00<00:00,  1.01it/s, loss=0.5338]\n",
      "100%|██████████| 6/6 [03:31<00:00, 35.25s/it]\n"
     ]
    },
    {
     "name": "stdout",
     "output_type": "stream",
     "text": [
      "train-epoch-loss:0.6035 valid-beta4-score:0.6355\n"
     ]
    },
    {
     "name": "stderr",
     "output_type": "stream",
     "text": [
      "Epoch 13/15 [Training]: 100%|██████████| 376/376 [03:35<00:00,  1.74it/s, loss=0.5965]\n",
      "Epoch 13/15 [Validation]: 100%|██████████| 1/1 [00:00<00:00,  1.05it/s, loss=0.5630]\n",
      "100%|██████████| 6/6 [03:31<00:00, 35.22s/it]\n"
     ]
    },
    {
     "name": "stdout",
     "output_type": "stream",
     "text": [
      "train-epoch-loss:0.5965 valid-beta4-score:0.6318\n"
     ]
    },
    {
     "name": "stderr",
     "output_type": "stream",
     "text": [
      "Epoch 14/15 [Training]: 100%|██████████| 376/376 [03:30<00:00,  1.79it/s, loss=0.6043]\n",
      "Epoch 14/15 [Validation]: 100%|██████████| 1/1 [00:01<00:00,  1.11s/it, loss=0.8002]\n",
      "100%|██████████| 6/6 [03:32<00:00, 35.40s/it]\n"
     ]
    },
    {
     "name": "stdout",
     "output_type": "stream",
     "text": [
      "train-epoch-loss:0.6043 valid-beta4-score:0.6307\n"
     ]
    },
    {
     "name": "stderr",
     "output_type": "stream",
     "text": [
      "Epoch 15/15 [Training]: 100%|██████████| 376/376 [04:00<00:00,  1.56it/s, loss=0.6030]\n",
      "Epoch 15/15 [Validation]: 100%|██████████| 1/1 [00:01<00:00,  1.08s/it, loss=0.5478]\n",
      "100%|██████████| 6/6 [03:29<00:00, 34.90s/it]\n"
     ]
    },
    {
     "name": "stdout",
     "output_type": "stream",
     "text": [
      "train-epoch-loss:0.6030 valid-beta4-score:0.6381\n"
     ]
    },
    {
     "data": {
      "text/html": [
       "Finishing last run (ID:ifoilyrs) before initializing another..."
      ],
      "text/plain": [
       "<IPython.core.display.HTML object>"
      ]
     },
     "metadata": {},
     "output_type": "display_data"
    },
    {
     "name": "stderr",
     "output_type": "stream",
     "text": [
      "wandb: WARNING Source type is set to 'repo' but some required information is missing from the environment. A job will not be created from this run. See https://docs.wandb.ai/guides/launch/create-job\n"
     ]
    },
    {
     "data": {
      "application/vnd.jupyter.widget-view+json": {
       "model_id": "98a1a77379494c13b3e889871b887015",
       "version_major": 2,
       "version_minor": 0
      },
      "text/plain": [
       "VBox(children=(Label(value='0.004 MB of 0.004 MB uploaded\\r'), FloatProgress(value=1.0, max=1.0)))"
      ]
     },
     "metadata": {},
     "output_type": "display_data"
    },
    {
     "data": {
      "text/html": [
       "<style>\n",
       "    table.wandb td:nth-child(1) { padding: 0 10px; text-align: left ; width: auto;} td:nth-child(2) {text-align: left ; width: 100%}\n",
       "    .wandb-row { display: flex; flex-direction: row; flex-wrap: wrap; justify-content: flex-start; width: 100% }\n",
       "    .wandb-col { display: flex; flex-direction: column; flex-basis: 100%; flex: 1; padding: 10px; }\n",
       "    </style>\n",
       "<div class=\"wandb-row\"><div class=\"wandb-col\"><h3>Run history:</h3><br/><table class=\"wandb\"><tr><td>01_epoch</td><td>▁▁▂▃▃▃▄▅▅▅▆▇▇▇█</td></tr><tr><td>02_train_loss</td><td>█▅▄▃▃▂▂▂▁▂▁▁▁▁▁</td></tr><tr><td>03_valid_loss</td><td>▆▄▄█▃▇▂▂██▇▁▂▇▁</td></tr><tr><td>04_valid_best_score</td><td>▁▆▆▆▇▇█████████</td></tr><tr><td>apo-ferritin</td><td>▅▆█▅█▇▁▅██▅▅▅▅█</td></tr><tr><td>apoo_ferritin_f4</td><td>▁▇▇█▇▇▇█▇▇█████</td></tr><tr><td>apoo_ferritin_p</td><td>▁▆▆▆█▆▅▆▆▅▇▅▇▇▇</td></tr><tr><td>apoo_ferritin_r</td><td>▁▇▇█▇▇██▇▇█████</td></tr><tr><td>beta-amylase</td><td>▁▁▁▁▁▁▁▁▁▁▁▁▁▁▁</td></tr><tr><td>beta-galactosidase</td><td>▁▂▁▃▇▅█▇▅▆████▆</td></tr><tr><td>beta_amylase_f4</td><td>▁▁▄▅▇▆▆▇▇▇█▅▇▇█</td></tr><tr><td>beta_amylase_p</td><td>▁▁▄▅▆▆▆▇▇▇█▄▇▆█</td></tr><tr><td>beta_amylase_r</td><td>▁▁▇▆████▇▇█████</td></tr><tr><td>beta_galactosidase_f4</td><td>▁▅▅▄▇▇▇█▇████▇█</td></tr><tr><td>beta_galactosidase_p</td><td>▁▂▃▃▄▆▅▇▆█▇▇▇▇█</td></tr><tr><td>beta_galactosidase_r</td><td>▃█▅▁▆▄▅▄▄▃▄▄▃▃▄</td></tr><tr><td>ribosome</td><td>▄█▁▂▇█▇▅▄▄▅█▂▇▅</td></tr><tr><td>ribosome_f4</td><td>▂█▄▁▂▃▅█▇▇▅▇▇▆▇</td></tr><tr><td>ribosome_p</td><td>▂█▂▁▂▆▇▆▆▇▅▆▆▅▅</td></tr><tr><td>ribosome_r</td><td>▂█▄▁▂▂▄█▇▇▄▇▇▇▇</td></tr><tr><td>thyroglobulin</td><td>▁▇▁▅▅▇▇█▇▇▁▅▄▃▅</td></tr><tr><td>thyroglobulin_f4</td><td>▁▆▇▇█▇█▇▇▇█████</td></tr><tr><td>thyroglobulin_p</td><td>▁▃▆▄▆▆▇▆▇▇█▇▇▇▇</td></tr><tr><td>thyroglobulin_r</td><td>▁█▆█▇▆▇▅▃▆▅▇██▇</td></tr><tr><td>virus-like-particle</td><td>▁▁▁▁▁▁▁▁▁▁▁▁▁▁▁</td></tr><tr><td>virus_like_particle_f4</td><td>█▁▁▁▁▁▁▁▁▁▁▁▁▁▁</td></tr><tr><td>virus_like_particle_p</td><td>█▁▁▁▁▁▁▁▁▁▁▁▁▁▁</td></tr><tr><td>virus_like_particle_r</td><td>█▁▁▁▁▁▁▁▁▁▁▁▁▁▁</td></tr></table><br/></div><div class=\"wandb-col\"><h3>Run summary:</h3><br/><table class=\"wandb\"><tr><td>01_epoch</td><td>14</td></tr><tr><td>02_train_loss</td><td>0.60302</td></tr><tr><td>03_valid_loss</td><td>0.54778</td></tr><tr><td>04_valid_best_score</td><td>0.63814</td></tr><tr><td>apo-ferritin</td><td>0.75</td></tr><tr><td>apoo_ferritin_f4</td><td>0.93088</td></tr><tr><td>apoo_ferritin_p</td><td>0.67778</td></tr><tr><td>apoo_ferritin_r</td><td>0.95312</td></tr><tr><td>beta-amylase</td><td>0.05</td></tr><tr><td>beta-galactosidase</td><td>0.6</td></tr><tr><td>beta_amylase_f4</td><td>0.27934</td></tr><tr><td>beta_amylase_p</td><td>0.02482</td></tr><tr><td>beta_amylase_r</td><td>0.77778</td></tr><tr><td>beta_galactosidase_f4</td><td>0.62963</td></tr><tr><td>beta_galactosidase_p</td><td>0.15254</td></tr><tr><td>beta_galactosidase_r</td><td>0.78261</td></tr><tr><td>ribosome</td><td>0.65</td></tr><tr><td>ribosome_f4</td><td>0.74298</td></tr><tr><td>ribosome_p</td><td>0.51852</td></tr><tr><td>ribosome_r</td><td>0.76364</td></tr><tr><td>thyroglobulin</td><td>0.5</td></tr><tr><td>thyroglobulin_f4</td><td>0.76692</td></tr><tr><td>thyroglobulin_p</td><td>0.19905</td></tr><tr><td>thyroglobulin_r</td><td>0.93333</td></tr><tr><td>virus-like-particle</td><td>0.05</td></tr><tr><td>virus_like_particle_f4</td><td>0.0</td></tr><tr><td>virus_like_particle_p</td><td>0.0</td></tr><tr><td>virus_like_particle_r</td><td>0.0</td></tr></table><br/></div></div>"
      ],
      "text/plain": [
       "<IPython.core.display.HTML object>"
      ]
     },
     "metadata": {},
     "output_type": "display_data"
    },
    {
     "data": {
      "text/html": [
       " View run <strong style=\"color:#cdcd00\">exp072-recreate-baseline-renet34d-dstride_TS_86_3</strong> at: <a href='https://wandb.ai/latent-walkers/czii2024/runs/ifoilyrs' target=\"_blank\">https://wandb.ai/latent-walkers/czii2024/runs/ifoilyrs</a><br/>Synced 5 W&B file(s), 0 media file(s), 0 artifact file(s) and 0 other file(s)"
      ],
      "text/plain": [
       "<IPython.core.display.HTML object>"
      ]
     },
     "metadata": {},
     "output_type": "display_data"
    },
    {
     "data": {
      "text/html": [
       "Find logs at: <code>./wandb/run-20250130_060454-ifoilyrs/logs</code>"
      ],
      "text/plain": [
       "<IPython.core.display.HTML object>"
      ]
     },
     "metadata": {},
     "output_type": "display_data"
    },
    {
     "data": {
      "text/html": [
       "Successfully finished last run (ID:ifoilyrs). Initializing new run:<br/>"
      ],
      "text/plain": [
       "<IPython.core.display.HTML object>"
      ]
     },
     "metadata": {},
     "output_type": "display_data"
    },
    {
     "data": {
      "application/vnd.jupyter.widget-view+json": {
       "model_id": "e5ce464077aa4a4587ae16a2d29e9779",
       "version_major": 2,
       "version_minor": 0
      },
      "text/plain": [
       "VBox(children=(Label(value='Waiting for wandb.init()...\\r'), FloatProgress(value=0.011113802411515886, max=1.0…"
      ]
     },
     "metadata": {},
     "output_type": "display_data"
    },
    {
     "data": {
      "text/html": [
       "wandb version 0.19.5 is available!  To upgrade, please run:\n",
       " $ pip install wandb --upgrade"
      ],
      "text/plain": [
       "<IPython.core.display.HTML object>"
      ]
     },
     "metadata": {},
     "output_type": "display_data"
    },
    {
     "data": {
      "text/html": [
       "Tracking run with wandb version 0.16.1"
      ],
      "text/plain": [
       "<IPython.core.display.HTML object>"
      ]
     },
     "metadata": {},
     "output_type": "display_data"
    },
    {
     "data": {
      "text/html": [
       "Run data is saved locally in <code>/home/tatsuya/code/projects/kaggle/CryoET/experiments/exp072-recreate-baseline-renet34d-dstride/wandb/run-20250130_075849-wkms5l1c</code>"
      ],
      "text/plain": [
       "<IPython.core.display.HTML object>"
      ]
     },
     "metadata": {},
     "output_type": "display_data"
    },
    {
     "data": {
      "text/html": [
       "Syncing run <strong><a href='https://wandb.ai/latent-walkers/czii2024/runs/wkms5l1c' target=\"_blank\">exp072-recreate-baseline-renet34d-dstride_TS_6_6</a></strong> to <a href='https://wandb.ai/latent-walkers/czii2024' target=\"_blank\">Weights & Biases</a> (<a href='https://wandb.me/run' target=\"_blank\">docs</a>)<br/>"
      ],
      "text/plain": [
       "<IPython.core.display.HTML object>"
      ]
     },
     "metadata": {},
     "output_type": "display_data"
    },
    {
     "data": {
      "text/html": [
       " View project at <a href='https://wandb.ai/latent-walkers/czii2024' target=\"_blank\">https://wandb.ai/latent-walkers/czii2024</a>"
      ],
      "text/plain": [
       "<IPython.core.display.HTML object>"
      ]
     },
     "metadata": {},
     "output_type": "display_data"
    },
    {
     "data": {
      "text/html": [
       " View run at <a href='https://wandb.ai/latent-walkers/czii2024/runs/wkms5l1c' target=\"_blank\">https://wandb.ai/latent-walkers/czii2024/runs/wkms5l1c</a>"
      ],
      "text/plain": [
       "<IPython.core.display.HTML object>"
      ]
     },
     "metadata": {},
     "output_type": "display_data"
    },
    {
     "name": "stderr",
     "output_type": "stream",
     "text": [
      "100%|██████████| 752/752 [09:10<00:00,  1.37it/s]  \n",
      "100%|██████████| 1/1 [00:41<00:00, 41.67s/it]\n",
      "Epoch 1/15 [Training]: 100%|██████████| 376/376 [03:49<00:00,  1.64it/s, loss=0.8538]\n",
      "Epoch 1/15 [Validation]: 100%|██████████| 1/1 [00:01<00:00,  1.59s/it, loss=0.8363]\n",
      "100%|██████████| 6/6 [03:29<00:00, 34.94s/it]\n"
     ]
    },
    {
     "name": "stdout",
     "output_type": "stream",
     "text": [
      "train-epoch-loss:0.8538 valid-beta4-score:0.2528\n"
     ]
    },
    {
     "name": "stderr",
     "output_type": "stream",
     "text": [
      "Epoch 2/15 [Training]: 100%|██████████| 376/376 [03:36<00:00,  1.74it/s, loss=0.7373]\n",
      "Epoch 2/15 [Validation]: 100%|██████████| 1/1 [00:01<00:00,  1.60s/it, loss=0.8069]\n",
      "100%|██████████| 6/6 [03:34<00:00, 35.81s/it]\n"
     ]
    },
    {
     "name": "stdout",
     "output_type": "stream",
     "text": [
      "train-epoch-loss:0.7373 valid-beta4-score:0.4700\n"
     ]
    },
    {
     "name": "stderr",
     "output_type": "stream",
     "text": [
      "Epoch 3/15 [Training]: 100%|██████████| 376/376 [04:06<00:00,  1.53it/s, loss=0.6841]\n",
      "Epoch 3/15 [Validation]: 100%|██████████| 1/1 [00:01<00:00,  1.69s/it, loss=0.7781]\n",
      "100%|██████████| 6/6 [03:31<00:00, 35.20s/it]\n"
     ]
    },
    {
     "name": "stdout",
     "output_type": "stream",
     "text": [
      "train-epoch-loss:0.6841 valid-beta4-score:0.4355\n"
     ]
    },
    {
     "name": "stderr",
     "output_type": "stream",
     "text": [
      "Epoch 4/15 [Training]: 100%|██████████| 376/376 [03:39<00:00,  1.71it/s, loss=0.6644]\n",
      "Epoch 4/15 [Validation]: 100%|██████████| 1/1 [00:01<00:00,  1.64s/it, loss=0.6418]\n",
      "100%|██████████| 6/6 [03:32<00:00, 35.36s/it]\n"
     ]
    },
    {
     "name": "stdout",
     "output_type": "stream",
     "text": [
      "train-epoch-loss:0.6644 valid-beta4-score:0.5117\n"
     ]
    },
    {
     "name": "stderr",
     "output_type": "stream",
     "text": [
      "Epoch 5/15 [Training]: 100%|██████████| 376/376 [03:43<00:00,  1.68it/s, loss=0.6475]\n",
      "Epoch 5/15 [Validation]: 100%|██████████| 1/1 [00:01<00:00,  1.71s/it, loss=0.6951]\n",
      "100%|██████████| 6/6 [03:31<00:00, 35.20s/it]\n"
     ]
    },
    {
     "name": "stdout",
     "output_type": "stream",
     "text": [
      "train-epoch-loss:0.6475 valid-beta4-score:0.6117\n"
     ]
    },
    {
     "name": "stderr",
     "output_type": "stream",
     "text": [
      "Epoch 6/15 [Training]: 100%|██████████| 376/376 [03:47<00:00,  1.65it/s, loss=0.6058]\n",
      "Epoch 6/15 [Validation]: 100%|██████████| 1/1 [00:01<00:00,  1.62s/it, loss=0.7908]\n",
      "100%|██████████| 6/6 [03:34<00:00, 35.83s/it]\n"
     ]
    },
    {
     "name": "stdout",
     "output_type": "stream",
     "text": [
      "train-epoch-loss:0.6058 valid-beta4-score:0.7290\n"
     ]
    },
    {
     "name": "stderr",
     "output_type": "stream",
     "text": [
      "Epoch 7/15 [Training]: 100%|██████████| 376/376 [03:45<00:00,  1.67it/s, loss=0.5843]\n",
      "Epoch 7/15 [Validation]: 100%|██████████| 1/1 [00:01<00:00,  1.70s/it, loss=0.6472]\n",
      "100%|██████████| 6/6 [03:36<00:00, 36.04s/it]\n"
     ]
    },
    {
     "name": "stdout",
     "output_type": "stream",
     "text": [
      "train-epoch-loss:0.5843 valid-beta4-score:0.6833\n"
     ]
    },
    {
     "name": "stderr",
     "output_type": "stream",
     "text": [
      "Epoch 8/15 [Training]: 100%|██████████| 376/376 [03:42<00:00,  1.69it/s, loss=0.5749]\n",
      "Epoch 8/15 [Validation]: 100%|██████████| 1/1 [00:01<00:00,  1.62s/it, loss=0.8056]\n",
      "100%|██████████| 6/6 [03:35<00:00, 35.91s/it]\n"
     ]
    },
    {
     "name": "stdout",
     "output_type": "stream",
     "text": [
      "train-epoch-loss:0.5749 valid-beta4-score:0.7016\n"
     ]
    },
    {
     "name": "stderr",
     "output_type": "stream",
     "text": [
      "Epoch 9/15 [Training]: 100%|██████████| 376/376 [03:37<00:00,  1.73it/s, loss=0.5765]\n",
      "Epoch 9/15 [Validation]: 100%|██████████| 1/1 [00:01<00:00,  1.65s/it, loss=0.5009]\n",
      "100%|██████████| 6/6 [03:36<00:00, 36.07s/it]\n"
     ]
    },
    {
     "name": "stdout",
     "output_type": "stream",
     "text": [
      "train-epoch-loss:0.5765 valid-beta4-score:0.7109\n"
     ]
    },
    {
     "name": "stderr",
     "output_type": "stream",
     "text": [
      "Epoch 10/15 [Training]: 100%|██████████| 376/376 [03:45<00:00,  1.67it/s, loss=0.5634]\n",
      "Epoch 10/15 [Validation]: 100%|██████████| 1/1 [00:01<00:00,  1.59s/it, loss=0.6412]\n",
      "100%|██████████| 6/6 [03:35<00:00, 35.94s/it]\n"
     ]
    },
    {
     "name": "stdout",
     "output_type": "stream",
     "text": [
      "train-epoch-loss:0.5634 valid-beta4-score:0.7149\n"
     ]
    },
    {
     "name": "stderr",
     "output_type": "stream",
     "text": [
      "Epoch 11/15 [Training]: 100%|██████████| 376/376 [03:35<00:00,  1.75it/s, loss=0.5622]\n",
      "Epoch 11/15 [Validation]: 100%|██████████| 1/1 [00:01<00:00,  1.65s/it, loss=0.5982]\n",
      "100%|██████████| 6/6 [03:35<00:00, 35.95s/it]\n"
     ]
    },
    {
     "name": "stdout",
     "output_type": "stream",
     "text": [
      "train-epoch-loss:0.5622 valid-beta4-score:0.7377\n"
     ]
    },
    {
     "name": "stderr",
     "output_type": "stream",
     "text": [
      "Epoch 12/15 [Training]: 100%|██████████| 376/376 [03:26<00:00,  1.82it/s, loss=0.5705]\n",
      "Epoch 12/15 [Validation]: 100%|██████████| 1/1 [00:01<00:00,  1.61s/it, loss=0.4643]\n",
      "100%|██████████| 6/6 [03:34<00:00, 35.82s/it]\n"
     ]
    },
    {
     "name": "stdout",
     "output_type": "stream",
     "text": [
      "train-epoch-loss:0.5705 valid-beta4-score:0.7222\n"
     ]
    },
    {
     "name": "stderr",
     "output_type": "stream",
     "text": [
      "Epoch 13/15 [Training]: 100%|██████████| 376/376 [03:36<00:00,  1.74it/s, loss=0.5500]\n",
      "Epoch 13/15 [Validation]: 100%|██████████| 1/1 [00:01<00:00,  1.66s/it, loss=0.7012]\n",
      "100%|██████████| 6/6 [03:36<00:00, 36.15s/it]\n"
     ]
    },
    {
     "name": "stdout",
     "output_type": "stream",
     "text": [
      "train-epoch-loss:0.5500 valid-beta4-score:0.7331\n"
     ]
    },
    {
     "name": "stderr",
     "output_type": "stream",
     "text": [
      "Epoch 14/15 [Training]: 100%|██████████| 376/376 [03:42<00:00,  1.69it/s, loss=0.5500]\n",
      "Epoch 14/15 [Validation]: 100%|██████████| 1/1 [00:01<00:00,  1.66s/it, loss=0.7916]\n",
      "100%|██████████| 6/6 [03:35<00:00, 35.95s/it]\n"
     ]
    },
    {
     "name": "stdout",
     "output_type": "stream",
     "text": [
      "train-epoch-loss:0.5500 valid-beta4-score:0.7363\n"
     ]
    },
    {
     "name": "stderr",
     "output_type": "stream",
     "text": [
      "Epoch 15/15 [Training]: 100%|██████████| 376/376 [03:44<00:00,  1.67it/s, loss=0.5593]\n",
      "Epoch 15/15 [Validation]: 100%|██████████| 1/1 [00:01<00:00,  1.67s/it, loss=0.4445]\n",
      "100%|██████████| 6/6 [03:35<00:00, 35.91s/it]\n"
     ]
    },
    {
     "name": "stdout",
     "output_type": "stream",
     "text": [
      "train-epoch-loss:0.5593 valid-beta4-score:0.7480\n"
     ]
    }
   ],
   "source": [
    "for vaild_exp_name in [\"TS_73_6\", \"TS_99_9\", \"TS_6_4\", \"TS_69_2\", \"TS_86_3\", \"TS_6_6\"]:\n",
    "    wandb.init(\n",
    "        project=\"czii2024\", name=f\"{notebook_name}_{vaild_exp_name}\", config=param\n",
    "    )\n",
    "\n",
    "    vaild_exp_name = [vaild_exp_name]\n",
    "    train_exp_name = CFG.train_exp_names.copy()\n",
    "    train_exp_name.remove(vaild_exp_name[0])\n",
    "\n",
    "    # valid_exp_name[0]の名前でディレクトリを作成\n",
    "    os.makedirs(f\"./{vaild_exp_name[0]}\", exist_ok=True)\n",
    "\n",
    "    train_dataset = EziiDataset(\n",
    "        exp_names=train_exp_name,\n",
    "        base_dir=\"../../inputs/train/\",\n",
    "        particles_name=CFG.particles_name,\n",
    "        resolution=CFG.resolution,\n",
    "        zarr_type=CFG.train_zarr_types,\n",
    "        train=True,\n",
    "        augmentation=True,\n",
    "        slice=True,\n",
    "        pre_read=True,\n",
    "    )\n",
    "    valid_dataset = EziiDataset(\n",
    "        exp_names=vaild_exp_name,\n",
    "        base_dir=\"../../inputs/train/\",\n",
    "        particles_name=CFG.particles_name,\n",
    "        resolution=CFG.resolution,\n",
    "        zarr_type=CFG.valid_zarr_types,\n",
    "        augmentation=False,\n",
    "        train=True,\n",
    "        slice=True,\n",
    "        pre_read=True,\n",
    "    )\n",
    "\n",
    "    train_loader = DataLoader(\n",
    "        train_dataset,\n",
    "        batch_size=CFG.batch_size,\n",
    "        shuffle=True,\n",
    "        drop_last=True,\n",
    "        pin_memory=True,\n",
    "        num_workers=CFG.num_workers,\n",
    "    )\n",
    "\n",
    "    valid_loader = DataLoader(\n",
    "        valid_dataset,\n",
    "        batch_size=1,\n",
    "        shuffle=False,\n",
    "        pin_memory=True,\n",
    "        num_workers=CFG.num_workers,\n",
    "    )\n",
    "\n",
    "    encoder = timm.create_model(\n",
    "        model_name=CFG.model_name,\n",
    "        pretrained=True,\n",
    "        in_chans=3,\n",
    "        num_classes=0,\n",
    "        global_pool=\"\",\n",
    "        features_only=True,\n",
    "    )\n",
    "    model = Unet3D(encoder=encoder, num_domains=5).to(\"cuda\")\n",
    "\n",
    "    optimizer = torch.optim.Adam(\n",
    "        model.parameters(), lr=CFG.lr, weight_decay=CFG.weight_decay\n",
    "    )\n",
    "    criterion = DiceLoss()\n",
    "    scheduler = get_cosine_schedule_with_warmup(\n",
    "        optimizer,\n",
    "        num_warmup_steps=10,\n",
    "        num_training_steps=CFG.epochs * len(train_loader),\n",
    "        # * batch_size,\n",
    "    )\n",
    "    scaler = GradScaler()\n",
    "    seg_loss = SegmentationLoss(criterion)\n",
    "    padf = PadToSize(CFG.resolution)\n",
    "\n",
    "    best_model = None\n",
    "    best_constant = 0\n",
    "    best_score = -100\n",
    "    best_particle_score = {}\n",
    "\n",
    "    grand_train_loss = []\n",
    "    grand_valid_loss = []\n",
    "    grand_train_score = []\n",
    "    grand_valid_score = []\n",
    "\n",
    "    for epoch in range(CFG.epochs):\n",
    "        model.train()\n",
    "        train_loss = []\n",
    "        valid_loss = []\n",
    "        with tqdm(\n",
    "            train_loader, desc=f\"Epoch {epoch + 1}/{CFG.epochs} [Training]\"\n",
    "        ) as tq:\n",
    "            for data in tq:\n",
    "                normalized_tomogram = data[\"normalized_tomogram\"]\n",
    "                segmentation_map = data[\"segmentation_map\"]\n",
    "                zarr_embedding_idx = data[\"zarr_type_embedding_idx\"]\n",
    "\n",
    "                normalized_tomogram = padf(normalized_tomogram)\n",
    "                segmentation_map = padf(segmentation_map)\n",
    "\n",
    "                # データ拡張\n",
    "                normalized_tomogram, segmentation_map = augment_data(\n",
    "                    normalized_tomogram, segmentation_map, p=CFG.augmentation_prob\n",
    "                )\n",
    "                normalized_tomogram = normalized_tomogram.cuda()\n",
    "                segmentation_map = segmentation_map.long().cuda()\n",
    "                zarr_embedding_idx = zarr_embedding_idx.cuda()\n",
    "\n",
    "                optimizer.zero_grad()\n",
    "\n",
    "                with autocast():\n",
    "                    pred = model(\n",
    "                        preprocess_tensor(normalized_tomogram), zarr_embedding_idx\n",
    "                    )\n",
    "                    loss = seg_loss(pred, segmentation_map)\n",
    "                # loss.backward()\n",
    "                # optimizer.step()\n",
    "                scaler.scale(loss).backward()\n",
    "                scaler.step(optimizer)\n",
    "                scaler.update()\n",
    "                scheduler.step()\n",
    "                train_loss.append(loss.item())\n",
    "\n",
    "                # 確率予測\n",
    "                prob_pred = torch.softmax(pred, dim=1)\n",
    "                tq.set_postfix({\"loss\": f\"{np.mean(train_loss):.4f}\"})\n",
    "\n",
    "        del normalized_tomogram, segmentation_map, zarr_embedding_idx, pred, loss\n",
    "        gc.collect()\n",
    "        torch.cuda.empty_cache()\n",
    "\n",
    "        with tqdm(\n",
    "            valid_loader, desc=f\"Epoch {epoch + 1}/{CFG.epochs} [Validation]\"\n",
    "        ) as tq:\n",
    "            with torch.no_grad():\n",
    "                for data in tq:\n",
    "                    normalized_tomogram = data[\"normalized_tomogram\"].cuda()\n",
    "                    segmentation_map = data[\"segmentation_map\"].long().cuda()\n",
    "                    zarr_embedding_idx = data[\"zarr_type_embedding_idx\"].cuda()\n",
    "\n",
    "                    normalized_tomogram = padf(normalized_tomogram)\n",
    "                    segmentation_map = padf(segmentation_map)\n",
    "\n",
    "                    with autocast():\n",
    "                        pred = model(\n",
    "                            preprocess_tensor(normalized_tomogram), zarr_embedding_idx\n",
    "                        )\n",
    "                        loss = seg_loss(pred, segmentation_map)\n",
    "                    valid_loss.append(loss.item())\n",
    "\n",
    "                    # 確率予測\n",
    "                    prob_pred = torch.softmax(pred, dim=1)\n",
    "                    tq.set_postfix({\"loss\": f\"{np.mean(valid_loss):.4f}\"})\n",
    "\n",
    "        del normalized_tomogram, segmentation_map, zarr_embedding_idx, pred, loss\n",
    "        gc.collect()\n",
    "        torch.cuda.empty_cache()\n",
    "\n",
    "        # # ############### validation ################\n",
    "        train_nshuffle_original_tomogram = defaultdict(list)\n",
    "        train_nshuffle_pred_tomogram = defaultdict(list)\n",
    "        train_nshuffle_gt_tomogram = defaultdict(list)\n",
    "\n",
    "        valid_original_tomogram = defaultdict(list)\n",
    "        valid_pred_tomogram = defaultdict(list)\n",
    "        valid_gt_tomogram = defaultdict(list)\n",
    "\n",
    "        train_mean_scores = []\n",
    "        valid_mean_scores = []\n",
    "\n",
    "        # モデルの保存\n",
    "        make_dir_ = (\n",
    "            f\"../../../../../../../../mnt/d/kaggle-tmp-models/czii2024/{notebook_name}/\"\n",
    "        )\n",
    "        os.makedirs(make_dir_, exist_ok=True)\n",
    "        torch.save(model.state_dict(), make_dir_ + f\"model_{epoch}.pth\")\n",
    "\n",
    "        # ############### validation ################\n",
    "        train_nshuffle_original_tomogram = defaultdict(list)\n",
    "        train_nshuffle_pred_tomogram = defaultdict(list)\n",
    "        train_nshuffle_gt_tomogram = defaultdict(list)\n",
    "\n",
    "        valid_original_tomogram = defaultdict(list)\n",
    "        valid_pred_tomogram = defaultdict(list)\n",
    "        valid_gt_tomogram = defaultdict(list)\n",
    "\n",
    "        train_mean_scores = []\n",
    "        valid_mean_scores = []\n",
    "\n",
    "        train_inferenced_array = {}\n",
    "        train_pred_array = []\n",
    "        train_gt_array = []\n",
    "        valid_inferenced_array = {}\n",
    "        valid_gt_array = []\n",
    "\n",
    "        # for exp_name in tqdm(CFG.train_exp_names):\n",
    "        for exp_name in vaild_exp_name:  # 5つのデータで試す\n",
    "            # inferenced_array = inference(model, exp_name, train=False)\n",
    "            inferenced_array, n_tomogram, segmentation_map = inference(\n",
    "                model, exp_name, train=False\n",
    "            )\n",
    "            valid_inferenced_array[exp_name] = inferenced_array\n",
    "            base_dir = \"../../inputs/train/overlay/ExperimentRuns/\"\n",
    "            gt_df = create_gt_df(base_dir, [exp_name])\n",
    "            valid_gt_array.append(gt_df)\n",
    "\n",
    "        valid_gt_array = pd.concat(valid_gt_array)\n",
    "\n",
    "        b_constant = 0\n",
    "        b_score = -100\n",
    "        b_particle_score = {}\n",
    "\n",
    "        try:\n",
    "            best_thresholds, final_score = reduce_computation_sikii_search(\n",
    "                inferenced_array,\n",
    "                exp_name,\n",
    "                [\n",
    "                    0.05,\n",
    "                    0.1,\n",
    "                    0.15,\n",
    "                    0.2,\n",
    "                    0.25,\n",
    "                    0.3,\n",
    "                    0.35,\n",
    "                    0.4,\n",
    "                    0.45,\n",
    "                    0.5,\n",
    "                    0.55,\n",
    "                    0.6,\n",
    "                    0.65,\n",
    "                    0.7,\n",
    "                    0.75,\n",
    "                ],\n",
    "            )\n",
    "        except:\n",
    "            best_thresholds = [0.5] * 6\n",
    "            final_score = -50\n",
    "\n",
    "        b_score = final_score\n",
    "        b_particle_constant = {\n",
    "            \"apo-ferritin\": best_thresholds[0],\n",
    "            \"beta-amylase\": best_thresholds[1],\n",
    "            \"beta-galactosidase\": best_thresholds[2],\n",
    "            \"ribosome\": best_thresholds[3],\n",
    "            \"thyroglobulin\": best_thresholds[4],\n",
    "            \"virus-like-particle\": best_thresholds[5],\n",
    "        }\n",
    "\n",
    "        try:\n",
    "            valid_pred_array = []\n",
    "            for exp_name in [vaild_exp_name[0]]:\n",
    "                pred_df = inference2pos(\n",
    "                    pred_segmask=valid_inferenced_array[exp_name],\n",
    "                    exp_name=exp_name,\n",
    "                    sikii_dict=b_particle_constant,\n",
    "                )\n",
    "                valid_pred_array.append(pred_df)\n",
    "\n",
    "            valid_pred_array = pd.concat(valid_pred_array)\n",
    "\n",
    "            if len(valid_pred_array) != 0:\n",
    "                result_df, score_ = compute_lb(\n",
    "                    valid_pred_array,\n",
    "                    \"../../inputs/train/overlay/ExperimentRuns/\",\n",
    "                    vaild_exp_name,\n",
    "                )\n",
    "                particle_score = extract_particle_results(result_df)\n",
    "\n",
    "                b_score = score_\n",
    "                b_particle_score = particle_score\n",
    "        except:\n",
    "            b_score = -50\n",
    "            b_particle_score = {}\n",
    "\n",
    "        import gc\n",
    "        import torch.cuda as cuda\n",
    "\n",
    "        # del valid_pred_array, valid_gt_array\n",
    "        gc.collect()\n",
    "        cuda.empty_cache()\n",
    "\n",
    "        # print(\"constant\", b_constant, \"score\", b_score)\n",
    "\n",
    "        # wandb-log\n",
    "        train_info = {\n",
    "            \"01_epoch\": epoch,\n",
    "            \"02_train_loss\": np.mean(train_loss),\n",
    "            \"03_valid_loss\": np.mean(valid_loss),\n",
    "            # \"train_score\": np.mean(train_mean_scores),\n",
    "            \"04_valid_best_score\": b_score,\n",
    "        }\n",
    "        train_info = {**train_info, **b_particle_score}\n",
    "        train_info = {**train_info, **b_particle_constant}\n",
    "        wandb.log(train_info)\n",
    "\n",
    "        # score-update\n",
    "        if b_score > best_score:\n",
    "            best_score = b_score\n",
    "            # best_score = np.mean(valid_mean_scores)\n",
    "            best_model = model.state_dict()\n",
    "            torch.save(best_model, f\"./{vaild_exp_name[0]}/best_model.pth\")\n",
    "\n",
    "        print(\n",
    "            f\"train-epoch-loss:{np.mean(train_loss):.4f}\",\n",
    "            # f\"valid-epoch-loss:{np.mean(valid_loss):.4f}\",\n",
    "            # f\"train-beta4-score:{np.mean(train_mean_scores):.4f}\",\n",
    "            f\"valid-beta4-score:{b_score:.4f}\",\n",
    "        )\n",
    "\n",
    "        grand_train_loss.append(np.mean(train_loss))\n",
    "        # grand_valid_loss.append(np.mean(valid_loss))\n",
    "        # grand_train_score.append(np.mean(train_mean_scores))\n",
    "        grand_valid_score.append(b_score)\n",
    "\n",
    "    del model, optimizer, criterion, scheduler, scaler, seg_loss\n",
    "    gc.collect()\n",
    "    torch.cuda.empty_cache()"
   ]
  },
  {
   "cell_type": "code",
   "execution_count": 8,
   "metadata": {},
   "outputs": [
    {
     "data": {
      "image/png": "[encoded data removed]",
      "text/plain": [
       "<Figure size 640x480 with 1 Axes>"
      ]
     },
     "metadata": {},
     "output_type": "display_data"
    }
   ],
   "source": [
    "# train_lossとvalid_lossのプロット\n",
    "\n",
    "plt.plot(grand_train_loss, label=\"train_loss\")\n",
    "plt.plot(grand_valid_loss, label=\"valid_loss\")\n",
    "plt.legend()\n",
    "plt.show()"
   ]
  },
  {
   "cell_type": "code",
   "execution_count": 9,
   "metadata": {},
   "outputs": [
    {
     "data": {
      "image/png": "[encoded data removed]",
      "text/plain": [
       "<Figure size 640x480 with 1 Axes>"
      ]
     },
     "metadata": {},
     "output_type": "display_data"
    }
   ],
   "source": [
    "# train_scoreとvalid_scoreのプロット\n",
    "plt.plot(grand_train_score, label=\"train_score\")\n",
    "plt.plot(grand_valid_score, label=\"valid_score\")\n",
    "plt.legend()\n",
    "plt.show()"
   ]
  },
  {
   "cell_type": "code",
   "execution_count": 10,
   "metadata": {},
   "outputs": [
    {
     "data": {
      "text/plain": [
       "0.5204062747232513"
      ]
     },
     "execution_count": 10,
     "metadata": {},
     "output_type": "execute_result"
    }
   ],
   "source": [
    "random.random()"
   ]
  },
  {
   "cell_type": "code",
   "execution_count": null,
   "metadata": {},
   "outputs": [],
   "source": []
  },
  {
   "cell_type": "code",
   "execution_count": null,
   "metadata": {},
   "outputs": [],
   "source": []
  }
 ],
 "metadata": {
  "kernelspec": {
   "display_name": "kaggle",
   "language": "python",
   "name": "python3"
  },
  "language_info": {
   "codemirror_mode": {
    "name": "ipython",
    "version": 3
   },
   "file_extension": ".py",
   "mimetype": "text/x-python",
   "name": "python",
   "nbconvert_exporter": "python",
   "pygments_lexer": "ipython3",
   "version": "3.9.16"
  }
 },
 "nbformat": 4,
 "nbformat_minor": 2
}
